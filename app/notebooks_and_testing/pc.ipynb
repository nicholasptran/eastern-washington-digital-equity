{
 "cells": [
  {
   "cell_type": "code",
   "execution_count": 19,
   "metadata": {
    "vscode": {
     "languageId": "r"
    }
   },
   "outputs": [],
   "source": [
    "library(tidyverse)\n",
    "\n",
    "standardized_data <- read.csv(\"../data/standardized_data.csv\")\n",
    "standardized_data <- standardized_data %>% select(-GEOID, -tract)\n",
    "\n",
    "standardized_data_all <- read.csv(\"../data/standardized_data.csv\")\n",
    "standardized_data_all <- standardized_data_all"
   ]
  },
  {
   "cell_type": "code",
   "execution_count": 20,
   "metadata": {
    "vscode": {
     "languageId": "r"
    }
   },
   "outputs": [
    {
     "data": {
      "text/html": [
       "<table class=\"dataframe\">\n",
       "<caption>A data.frame: 6 × 27</caption>\n",
       "<thead>\n",
       "\t<tr><th></th><th scope=col>not_citizen</th><th scope=col>naturalized_citizen</th><th scope=col>native_citizen</th><th scope=col>foreign_born</th><th scope=col>work_from_home</th><th scope=col>desktop_or_laptop</th><th scope=col>desktop_or_laptop_only</th><th scope=col>smartphone</th><th scope=col>smartphone_only</th><th scope=col>tablet_or_portable</th><th scope=col>⋯</th><th scope=col>access_with_no_subscription</th><th scope=col>no_internet_access</th><th scope=col>sixty_five_and_older</th><th scope=col>median_income</th><th scope=col>mean_income</th><th scope=col>mean_d_mbps</th><th scope=col>mean_u_mbps</th><th scope=col>mean_lat_ms</th><th scope=col>number_providers</th><th scope=col>mean_lowest_cost</th></tr>\n",
       "\t<tr><th></th><th scope=col>&lt;dbl&gt;</th><th scope=col>&lt;dbl&gt;</th><th scope=col>&lt;dbl&gt;</th><th scope=col>&lt;dbl&gt;</th><th scope=col>&lt;dbl&gt;</th><th scope=col>&lt;dbl&gt;</th><th scope=col>&lt;dbl&gt;</th><th scope=col>&lt;dbl&gt;</th><th scope=col>&lt;dbl&gt;</th><th scope=col>&lt;dbl&gt;</th><th scope=col>⋯</th><th scope=col>&lt;dbl&gt;</th><th scope=col>&lt;dbl&gt;</th><th scope=col>&lt;dbl&gt;</th><th scope=col>&lt;dbl&gt;</th><th scope=col>&lt;dbl&gt;</th><th scope=col>&lt;dbl&gt;</th><th scope=col>&lt;dbl&gt;</th><th scope=col>&lt;dbl&gt;</th><th scope=col>&lt;dbl&gt;</th><th scope=col>&lt;dbl&gt;</th></tr>\n",
       "</thead>\n",
       "<tbody>\n",
       "\t<tr><th scope=row>1</th><td>-0.48236366</td><td>-0.1360753</td><td>-0.7772324</td><td>-0.4237144</td><td>-0.5101084</td><td>-0.8806845</td><td> 0.0783680</td><td>-0.734196</td><td> 0.5470533</td><td>-0.7648065</td><td>⋯</td><td> 0.1866582</td><td>-0.1307050</td><td>-0.3984409</td><td>-0.37323672</td><td>-0.50677473</td><td>-1.621869</td><td>-0.93495618</td><td> 0.7333922</td><td> 1.7094218</td><td>-1.2748195</td></tr>\n",
       "\t<tr><th scope=row>2</th><td> 0.08777329</td><td>-1.0671850</td><td>-1.4235744</td><td>-0.3478686</td><td>-0.8653209</td><td>-1.4833040</td><td>-1.1695153</td><td>-1.434819</td><td>-0.4632060</td><td>-1.4361860</td><td>⋯</td><td>-0.6177302</td><td>-0.3367343</td><td>-1.2751771</td><td>-0.04914394</td><td>-0.60839056</td><td>-1.629913</td><td>-0.95350094</td><td> 1.6330766</td><td> 1.7094218</td><td>-0.7418166</td></tr>\n",
       "\t<tr><th scope=row>3</th><td> 2.02843174</td><td>-0.8181673</td><td>-1.8432087</td><td> 1.2406807</td><td>-1.3118738</td><td>-1.8889890</td><td>-1.2440157</td><td>-1.823626</td><td>-0.3681227</td><td>-1.7682401</td><td>⋯</td><td>-0.5803168</td><td> 0.1243789</td><td>-1.1770586</td><td>-0.93556901</td><td>-0.91747523</td><td>-1.321690</td><td>-0.79459603</td><td> 1.5968650</td><td>-0.2964475</td><td>-1.6382306</td></tr>\n",
       "\t<tr><th scope=row>4</th><td> 2.49440905</td><td> 0.9466105</td><td>-1.3890427</td><td> 2.2856680</td><td>-1.0784484</td><td>-1.7649203</td><td>-1.5606428</td><td>-1.336655</td><td> 0.2974598</td><td>-1.3149983</td><td>⋯</td><td>-0.4493698</td><td>-0.6114401</td><td>-1.1802237</td><td>-0.09364729</td><td>-0.26189039</td><td>-1.334392</td><td>-0.65140611</td><td> 0.8212335</td><td>-0.2964475</td><td>-1.6382306</td></tr>\n",
       "\t<tr><th scope=row>5</th><td> 2.35187481</td><td> 0.2320379</td><td>-1.2599245</td><td> 1.8980114</td><td>-0.2259384</td><td>-1.5857099</td><td>-1.4488921</td><td>-1.284685</td><td>-0.1185293</td><td>-1.4895085</td><td>⋯</td><td>-0.6177302</td><td>-0.8272803</td><td>-1.1390772</td><td>-0.44758663</td><td>-0.09157226</td><td>-1.486311</td><td>-0.75776304</td><td> 0.4994248</td><td>-0.2964475</td><td>-1.6382306</td></tr>\n",
       "\t<tr><th scope=row>6</th><td> 3.36057864</td><td> 0.3727870</td><td>-0.9348768</td><td> 2.7281021</td><td>-1.1088952</td><td>-1.4695186</td><td>-0.7038872</td><td>-1.173048</td><td> 0.9511569</td><td>-1.1889632</td><td>⋯</td><td>-0.3558363</td><td> 0.1734335</td><td>-1.0219681</td><td> 0.12247378</td><td>-0.28001176</td><td> 0.800291</td><td>-0.05116272</td><td>-0.1930008</td><td> 0.2050198</td><td>-1.8643530</td></tr>\n",
       "</tbody>\n",
       "</table>\n"
      ],
      "text/latex": [
       "A data.frame: 6 × 27\n",
       "\\begin{tabular}{r|lllllllllllllllllllll}\n",
       "  & not\\_citizen & naturalized\\_citizen & native\\_citizen & foreign\\_born & work\\_from\\_home & desktop\\_or\\_laptop & desktop\\_or\\_laptop\\_only & smartphone & smartphone\\_only & tablet\\_or\\_portable & ⋯ & access\\_with\\_no\\_subscription & no\\_internet\\_access & sixty\\_five\\_and\\_older & median\\_income & mean\\_income & mean\\_d\\_mbps & mean\\_u\\_mbps & mean\\_lat\\_ms & number\\_providers & mean\\_lowest\\_cost\\\\\n",
       "  & <dbl> & <dbl> & <dbl> & <dbl> & <dbl> & <dbl> & <dbl> & <dbl> & <dbl> & <dbl> & ⋯ & <dbl> & <dbl> & <dbl> & <dbl> & <dbl> & <dbl> & <dbl> & <dbl> & <dbl> & <dbl>\\\\\n",
       "\\hline\n",
       "\t1 & -0.48236366 & -0.1360753 & -0.7772324 & -0.4237144 & -0.5101084 & -0.8806845 &  0.0783680 & -0.734196 &  0.5470533 & -0.7648065 & ⋯ &  0.1866582 & -0.1307050 & -0.3984409 & -0.37323672 & -0.50677473 & -1.621869 & -0.93495618 &  0.7333922 &  1.7094218 & -1.2748195\\\\\n",
       "\t2 &  0.08777329 & -1.0671850 & -1.4235744 & -0.3478686 & -0.8653209 & -1.4833040 & -1.1695153 & -1.434819 & -0.4632060 & -1.4361860 & ⋯ & -0.6177302 & -0.3367343 & -1.2751771 & -0.04914394 & -0.60839056 & -1.629913 & -0.95350094 &  1.6330766 &  1.7094218 & -0.7418166\\\\\n",
       "\t3 &  2.02843174 & -0.8181673 & -1.8432087 &  1.2406807 & -1.3118738 & -1.8889890 & -1.2440157 & -1.823626 & -0.3681227 & -1.7682401 & ⋯ & -0.5803168 &  0.1243789 & -1.1770586 & -0.93556901 & -0.91747523 & -1.321690 & -0.79459603 &  1.5968650 & -0.2964475 & -1.6382306\\\\\n",
       "\t4 &  2.49440905 &  0.9466105 & -1.3890427 &  2.2856680 & -1.0784484 & -1.7649203 & -1.5606428 & -1.336655 &  0.2974598 & -1.3149983 & ⋯ & -0.4493698 & -0.6114401 & -1.1802237 & -0.09364729 & -0.26189039 & -1.334392 & -0.65140611 &  0.8212335 & -0.2964475 & -1.6382306\\\\\n",
       "\t5 &  2.35187481 &  0.2320379 & -1.2599245 &  1.8980114 & -0.2259384 & -1.5857099 & -1.4488921 & -1.284685 & -0.1185293 & -1.4895085 & ⋯ & -0.6177302 & -0.8272803 & -1.1390772 & -0.44758663 & -0.09157226 & -1.486311 & -0.75776304 &  0.4994248 & -0.2964475 & -1.6382306\\\\\n",
       "\t6 &  3.36057864 &  0.3727870 & -0.9348768 &  2.7281021 & -1.1088952 & -1.4695186 & -0.7038872 & -1.173048 &  0.9511569 & -1.1889632 & ⋯ & -0.3558363 &  0.1734335 & -1.0219681 &  0.12247378 & -0.28001176 &  0.800291 & -0.05116272 & -0.1930008 &  0.2050198 & -1.8643530\\\\\n",
       "\\end{tabular}\n"
      ],
      "text/markdown": [
       "\n",
       "A data.frame: 6 × 27\n",
       "\n",
       "| <!--/--> | not_citizen &lt;dbl&gt; | naturalized_citizen &lt;dbl&gt; | native_citizen &lt;dbl&gt; | foreign_born &lt;dbl&gt; | work_from_home &lt;dbl&gt; | desktop_or_laptop &lt;dbl&gt; | desktop_or_laptop_only &lt;dbl&gt; | smartphone &lt;dbl&gt; | smartphone_only &lt;dbl&gt; | tablet_or_portable &lt;dbl&gt; | ⋯ ⋯ | access_with_no_subscription &lt;dbl&gt; | no_internet_access &lt;dbl&gt; | sixty_five_and_older &lt;dbl&gt; | median_income &lt;dbl&gt; | mean_income &lt;dbl&gt; | mean_d_mbps &lt;dbl&gt; | mean_u_mbps &lt;dbl&gt; | mean_lat_ms &lt;dbl&gt; | number_providers &lt;dbl&gt; | mean_lowest_cost &lt;dbl&gt; |\n",
       "|---|---|---|---|---|---|---|---|---|---|---|---|---|---|---|---|---|---|---|---|---|---|\n",
       "| 1 | -0.48236366 | -0.1360753 | -0.7772324 | -0.4237144 | -0.5101084 | -0.8806845 |  0.0783680 | -0.734196 |  0.5470533 | -0.7648065 | ⋯ |  0.1866582 | -0.1307050 | -0.3984409 | -0.37323672 | -0.50677473 | -1.621869 | -0.93495618 |  0.7333922 |  1.7094218 | -1.2748195 |\n",
       "| 2 |  0.08777329 | -1.0671850 | -1.4235744 | -0.3478686 | -0.8653209 | -1.4833040 | -1.1695153 | -1.434819 | -0.4632060 | -1.4361860 | ⋯ | -0.6177302 | -0.3367343 | -1.2751771 | -0.04914394 | -0.60839056 | -1.629913 | -0.95350094 |  1.6330766 |  1.7094218 | -0.7418166 |\n",
       "| 3 |  2.02843174 | -0.8181673 | -1.8432087 |  1.2406807 | -1.3118738 | -1.8889890 | -1.2440157 | -1.823626 | -0.3681227 | -1.7682401 | ⋯ | -0.5803168 |  0.1243789 | -1.1770586 | -0.93556901 | -0.91747523 | -1.321690 | -0.79459603 |  1.5968650 | -0.2964475 | -1.6382306 |\n",
       "| 4 |  2.49440905 |  0.9466105 | -1.3890427 |  2.2856680 | -1.0784484 | -1.7649203 | -1.5606428 | -1.336655 |  0.2974598 | -1.3149983 | ⋯ | -0.4493698 | -0.6114401 | -1.1802237 | -0.09364729 | -0.26189039 | -1.334392 | -0.65140611 |  0.8212335 | -0.2964475 | -1.6382306 |\n",
       "| 5 |  2.35187481 |  0.2320379 | -1.2599245 |  1.8980114 | -0.2259384 | -1.5857099 | -1.4488921 | -1.284685 | -0.1185293 | -1.4895085 | ⋯ | -0.6177302 | -0.8272803 | -1.1390772 | -0.44758663 | -0.09157226 | -1.486311 | -0.75776304 |  0.4994248 | -0.2964475 | -1.6382306 |\n",
       "| 6 |  3.36057864 |  0.3727870 | -0.9348768 |  2.7281021 | -1.1088952 | -1.4695186 | -0.7038872 | -1.173048 |  0.9511569 | -1.1889632 | ⋯ | -0.3558363 |  0.1734335 | -1.0219681 |  0.12247378 | -0.28001176 |  0.800291 | -0.05116272 | -0.1930008 |  0.2050198 | -1.8643530 |\n",
       "\n"
      ],
      "text/plain": [
       "  not_citizen naturalized_citizen native_citizen foreign_born work_from_home\n",
       "1 -0.48236366 -0.1360753          -0.7772324     -0.4237144   -0.5101084    \n",
       "2  0.08777329 -1.0671850          -1.4235744     -0.3478686   -0.8653209    \n",
       "3  2.02843174 -0.8181673          -1.8432087      1.2406807   -1.3118738    \n",
       "4  2.49440905  0.9466105          -1.3890427      2.2856680   -1.0784484    \n",
       "5  2.35187481  0.2320379          -1.2599245      1.8980114   -0.2259384    \n",
       "6  3.36057864  0.3727870          -0.9348768      2.7281021   -1.1088952    \n",
       "  desktop_or_laptop desktop_or_laptop_only smartphone smartphone_only\n",
       "1 -0.8806845         0.0783680             -0.734196   0.5470533     \n",
       "2 -1.4833040        -1.1695153             -1.434819  -0.4632060     \n",
       "3 -1.8889890        -1.2440157             -1.823626  -0.3681227     \n",
       "4 -1.7649203        -1.5606428             -1.336655   0.2974598     \n",
       "5 -1.5857099        -1.4488921             -1.284685  -0.1185293     \n",
       "6 -1.4695186        -0.7038872             -1.173048   0.9511569     \n",
       "  tablet_or_portable ⋯ access_with_no_subscription no_internet_access\n",
       "1 -0.7648065         ⋯  0.1866582                  -0.1307050        \n",
       "2 -1.4361860         ⋯ -0.6177302                  -0.3367343        \n",
       "3 -1.7682401         ⋯ -0.5803168                   0.1243789        \n",
       "4 -1.3149983         ⋯ -0.4493698                  -0.6114401        \n",
       "5 -1.4895085         ⋯ -0.6177302                  -0.8272803        \n",
       "6 -1.1889632         ⋯ -0.3558363                   0.1734335        \n",
       "  sixty_five_and_older median_income mean_income mean_d_mbps mean_u_mbps\n",
       "1 -0.3984409           -0.37323672   -0.50677473 -1.621869   -0.93495618\n",
       "2 -1.2751771           -0.04914394   -0.60839056 -1.629913   -0.95350094\n",
       "3 -1.1770586           -0.93556901   -0.91747523 -1.321690   -0.79459603\n",
       "4 -1.1802237           -0.09364729   -0.26189039 -1.334392   -0.65140611\n",
       "5 -1.1390772           -0.44758663   -0.09157226 -1.486311   -0.75776304\n",
       "6 -1.0219681            0.12247378   -0.28001176  0.800291   -0.05116272\n",
       "  mean_lat_ms number_providers mean_lowest_cost\n",
       "1  0.7333922   1.7094218       -1.2748195      \n",
       "2  1.6330766   1.7094218       -0.7418166      \n",
       "3  1.5968650  -0.2964475       -1.6382306      \n",
       "4  0.8212335  -0.2964475       -1.6382306      \n",
       "5  0.4994248  -0.2964475       -1.6382306      \n",
       "6 -0.1930008   0.2050198       -1.8643530      "
      ]
     },
     "metadata": {},
     "output_type": "display_data"
    }
   ],
   "source": [
    "head(standardized_data)"
   ]
  },
  {
   "attachments": {},
   "cell_type": "markdown",
   "metadata": {},
   "source": [
    "### assignments"
   ]
  },
  {
   "cell_type": "code",
   "execution_count": 21,
   "metadata": {
    "vscode": {
     "languageId": "r"
    }
   },
   "outputs": [],
   "source": [
    "pc_data <- prcomp(standardized_data, scale = FALSE)\n",
    "\n",
    "eigen_value <- pc_data$sdev^2\n",
    "\n",
    "# invert the loadings\n",
    "pc_data$rotation <- -pc_data$rotation\n",
    "\n",
    "loadings <- pc_data$rotation[, 1:4]\n",
    "\n",
    "pc_tract <- pc_data$x[, 1:4]"
   ]
  },
  {
   "attachments": {},
   "cell_type": "markdown",
   "metadata": {},
   "source": [
    "### eigen value"
   ]
  },
  {
   "cell_type": "code",
   "execution_count": 22,
   "metadata": {
    "vscode": {
     "languageId": "r"
    }
   },
   "outputs": [
    {
     "data": {
      "text/html": [
       "<style>\n",
       ".list-inline {list-style: none; margin:0; padding: 0}\n",
       ".list-inline>li {display: inline-block}\n",
       ".list-inline>li:not(:last-child)::after {content: \"\\00b7\"; padding: 0 .5ex}\n",
       "</style>\n",
       "<ol class=list-inline><li>8.45789698813426</li><li>3.91913428793127</li><li>3.67170850060673</li><li>2.18878528420089</li></ol>\n"
      ],
      "text/latex": [
       "\\begin{enumerate*}\n",
       "\\item 8.45789698813426\n",
       "\\item 3.91913428793127\n",
       "\\item 3.67170850060673\n",
       "\\item 2.18878528420089\n",
       "\\end{enumerate*}\n"
      ],
      "text/markdown": [
       "1. 8.45789698813426\n",
       "2. 3.91913428793127\n",
       "3. 3.67170850060673\n",
       "4. 2.18878528420089\n",
       "\n",
       "\n"
      ],
      "text/plain": [
       "[1] 8.457897 3.919134 3.671709 2.188785"
      ]
     },
     "metadata": {},
     "output_type": "display_data"
    }
   ],
   "source": [
    "eigen_value[1:4]"
   ]
  },
  {
   "attachments": {},
   "cell_type": "markdown",
   "metadata": {},
   "source": [
    "### loadings"
   ]
  },
  {
   "cell_type": "code",
   "execution_count": 27,
   "metadata": {
    "vscode": {
     "languageId": "r"
    }
   },
   "outputs": [
    {
     "data": {
      "text/html": [
       "<table class=\"dataframe\">\n",
       "<caption>A data.frame: 27 × 4</caption>\n",
       "<thead>\n",
       "\t<tr><th></th><th scope=col>PC1</th><th scope=col>PC2</th><th scope=col>PC3</th><th scope=col>PC4</th></tr>\n",
       "\t<tr><th></th><th scope=col>&lt;dbl&gt;</th><th scope=col>&lt;dbl&gt;</th><th scope=col>&lt;dbl&gt;</th><th scope=col>&lt;dbl&gt;</th></tr>\n",
       "</thead>\n",
       "<tbody>\n",
       "\t<tr><th scope=row>not_citizen</th><td>-0.08076065</td><td> 0.27681890</td><td>-0.126001643</td><td> 0.44092911548</td></tr>\n",
       "\t<tr><th scope=row>naturalized_citizen</th><td>-0.16687182</td><td> 0.16873934</td><td> 0.070085117</td><td> 0.29730334600</td></tr>\n",
       "\t<tr><th scope=row>native_citizen</th><td>-0.30843286</td><td>-0.06369291</td><td> 0.019002104</td><td>-0.00324943348</td></tr>\n",
       "\t<tr><th scope=row>foreign_born</th><td>-0.12701864</td><td> 0.27844037</td><td>-0.069571658</td><td> 0.45461456610</td></tr>\n",
       "\t<tr><th scope=row>work_from_home</th><td>-0.16574741</td><td>-0.14863878</td><td> 0.232633557</td><td> 0.07870007930</td></tr>\n",
       "\t<tr><th scope=row>desktop_or_laptop</th><td>-0.33325410</td><td>-0.03585264</td><td> 0.045478400</td><td>-0.00006146449</td></tr>\n",
       "\t<tr><th scope=row>desktop_or_laptop_only</th><td>-0.13167675</td><td>-0.19083580</td><td>-0.194266544</td><td>-0.18526763430</td></tr>\n",
       "\t<tr><th scope=row>smartphone</th><td>-0.33551629</td><td> 0.01116501</td><td>-0.002501850</td><td> 0.02188390883</td></tr>\n",
       "\t<tr><th scope=row>smartphone_only</th><td>-0.10369111</td><td> 0.06122125</td><td>-0.319820018</td><td>-0.01013441842</td></tr>\n",
       "\t<tr><th scope=row>tablet_or_portable</th><td>-0.32808218</td><td>-0.03956259</td><td> 0.092739433</td><td> 0.01633200538</td></tr>\n",
       "\t<tr><th scope=row>has_computer</th><td>-0.33794386</td><td>-0.01899197</td><td>-0.030767692</td><td>-0.00564249486</td></tr>\n",
       "\t<tr><th scope=row>no_computer</th><td>-0.09595103</td><td>-0.05814027</td><td>-0.368313891</td><td>-0.16363764519</td></tr>\n",
       "\t<tr><th scope=row>internet_subscription</th><td>-0.33702799</td><td>-0.01153611</td><td> 0.012319341</td><td>-0.01826643806</td></tr>\n",
       "\t<tr><th scope=row>dial_up</th><td>-0.01781392</td><td>-0.15724235</td><td>-0.170881731</td><td>-0.05885182247</td></tr>\n",
       "\t<tr><th scope=row>broadband</th><td>-0.32674522</td><td> 0.08171418</td><td> 0.059778903</td><td>-0.06935011977</td></tr>\n",
       "\t<tr><th scope=row>satellite</th><td>-0.04169239</td><td>-0.36253667</td><td>-0.071146362</td><td> 0.25298652433</td></tr>\n",
       "\t<tr><th scope=row>other_internet_service</th><td>-0.08517789</td><td>-0.21130439</td><td> 0.003385692</td><td> 0.07444699382</td></tr>\n",
       "\t<tr><th scope=row>access_with_no_subscription</th><td>-0.10449618</td><td> 0.10762027</td><td>-0.219751494</td><td> 0.13032737318</td></tr>\n",
       "\t<tr><th scope=row>no_internet_access</th><td>-0.10611811</td><td>-0.14435885</td><td>-0.398661130</td><td>-0.13142931884</td></tr>\n",
       "\t<tr><th scope=row>sixty_five_and_older</th><td>-0.22691167</td><td>-0.26672253</td><td>-0.041865418</td><td>-0.12086109920</td></tr>\n",
       "\t<tr><th scope=row>median_income</th><td>-0.06007780</td><td>-0.18457767</td><td> 0.417255695</td><td> 0.07346946191</td></tr>\n",
       "\t<tr><th scope=row>mean_income</th><td>-0.05245785</td><td>-0.18759788</td><td> 0.405287155</td><td> 0.04479389585</td></tr>\n",
       "\t<tr><th scope=row>mean_d_mbps</th><td>-0.12607564</td><td> 0.34708581</td><td> 0.112266738</td><td>-0.27687640768</td></tr>\n",
       "\t<tr><th scope=row>mean_u_mbps</th><td>-0.07255308</td><td> 0.27064526</td><td>-0.006531179</td><td>-0.04857014266</td></tr>\n",
       "\t<tr><th scope=row>mean_lat_ms</th><td> 0.09040640</td><td>-0.35368463</td><td>-0.091901883</td><td> 0.29809650071</td></tr>\n",
       "\t<tr><th scope=row>number_providers</th><td> 0.05911494</td><td>-0.21024668</td><td>-0.104514342</td><td> 0.22521313847</td></tr>\n",
       "\t<tr><th scope=row>mean_lowest_cost</th><td>-0.04006783</td><td> 0.02966988</td><td> 0.123457770</td><td>-0.29884477004</td></tr>\n",
       "</tbody>\n",
       "</table>\n"
      ],
      "text/latex": [
       "A data.frame: 27 × 4\n",
       "\\begin{tabular}{r|llll}\n",
       "  & PC1 & PC2 & PC3 & PC4\\\\\n",
       "  & <dbl> & <dbl> & <dbl> & <dbl>\\\\\n",
       "\\hline\n",
       "\tnot\\_citizen & -0.08076065 &  0.27681890 & -0.126001643 &  0.44092911548\\\\\n",
       "\tnaturalized\\_citizen & -0.16687182 &  0.16873934 &  0.070085117 &  0.29730334600\\\\\n",
       "\tnative\\_citizen & -0.30843286 & -0.06369291 &  0.019002104 & -0.00324943348\\\\\n",
       "\tforeign\\_born & -0.12701864 &  0.27844037 & -0.069571658 &  0.45461456610\\\\\n",
       "\twork\\_from\\_home & -0.16574741 & -0.14863878 &  0.232633557 &  0.07870007930\\\\\n",
       "\tdesktop\\_or\\_laptop & -0.33325410 & -0.03585264 &  0.045478400 & -0.00006146449\\\\\n",
       "\tdesktop\\_or\\_laptop\\_only & -0.13167675 & -0.19083580 & -0.194266544 & -0.18526763430\\\\\n",
       "\tsmartphone & -0.33551629 &  0.01116501 & -0.002501850 &  0.02188390883\\\\\n",
       "\tsmartphone\\_only & -0.10369111 &  0.06122125 & -0.319820018 & -0.01013441842\\\\\n",
       "\ttablet\\_or\\_portable & -0.32808218 & -0.03956259 &  0.092739433 &  0.01633200538\\\\\n",
       "\thas\\_computer & -0.33794386 & -0.01899197 & -0.030767692 & -0.00564249486\\\\\n",
       "\tno\\_computer & -0.09595103 & -0.05814027 & -0.368313891 & -0.16363764519\\\\\n",
       "\tinternet\\_subscription & -0.33702799 & -0.01153611 &  0.012319341 & -0.01826643806\\\\\n",
       "\tdial\\_up & -0.01781392 & -0.15724235 & -0.170881731 & -0.05885182247\\\\\n",
       "\tbroadband & -0.32674522 &  0.08171418 &  0.059778903 & -0.06935011977\\\\\n",
       "\tsatellite & -0.04169239 & -0.36253667 & -0.071146362 &  0.25298652433\\\\\n",
       "\tother\\_internet\\_service & -0.08517789 & -0.21130439 &  0.003385692 &  0.07444699382\\\\\n",
       "\taccess\\_with\\_no\\_subscription & -0.10449618 &  0.10762027 & -0.219751494 &  0.13032737318\\\\\n",
       "\tno\\_internet\\_access & -0.10611811 & -0.14435885 & -0.398661130 & -0.13142931884\\\\\n",
       "\tsixty\\_five\\_and\\_older & -0.22691167 & -0.26672253 & -0.041865418 & -0.12086109920\\\\\n",
       "\tmedian\\_income & -0.06007780 & -0.18457767 &  0.417255695 &  0.07346946191\\\\\n",
       "\tmean\\_income & -0.05245785 & -0.18759788 &  0.405287155 &  0.04479389585\\\\\n",
       "\tmean\\_d\\_mbps & -0.12607564 &  0.34708581 &  0.112266738 & -0.27687640768\\\\\n",
       "\tmean\\_u\\_mbps & -0.07255308 &  0.27064526 & -0.006531179 & -0.04857014266\\\\\n",
       "\tmean\\_lat\\_ms &  0.09040640 & -0.35368463 & -0.091901883 &  0.29809650071\\\\\n",
       "\tnumber\\_providers &  0.05911494 & -0.21024668 & -0.104514342 &  0.22521313847\\\\\n",
       "\tmean\\_lowest\\_cost & -0.04006783 &  0.02966988 &  0.123457770 & -0.29884477004\\\\\n",
       "\\end{tabular}\n"
      ],
      "text/markdown": [
       "\n",
       "A data.frame: 27 × 4\n",
       "\n",
       "| <!--/--> | PC1 &lt;dbl&gt; | PC2 &lt;dbl&gt; | PC3 &lt;dbl&gt; | PC4 &lt;dbl&gt; |\n",
       "|---|---|---|---|---|\n",
       "| not_citizen | -0.08076065 |  0.27681890 | -0.126001643 |  0.44092911548 |\n",
       "| naturalized_citizen | -0.16687182 |  0.16873934 |  0.070085117 |  0.29730334600 |\n",
       "| native_citizen | -0.30843286 | -0.06369291 |  0.019002104 | -0.00324943348 |\n",
       "| foreign_born | -0.12701864 |  0.27844037 | -0.069571658 |  0.45461456610 |\n",
       "| work_from_home | -0.16574741 | -0.14863878 |  0.232633557 |  0.07870007930 |\n",
       "| desktop_or_laptop | -0.33325410 | -0.03585264 |  0.045478400 | -0.00006146449 |\n",
       "| desktop_or_laptop_only | -0.13167675 | -0.19083580 | -0.194266544 | -0.18526763430 |\n",
       "| smartphone | -0.33551629 |  0.01116501 | -0.002501850 |  0.02188390883 |\n",
       "| smartphone_only | -0.10369111 |  0.06122125 | -0.319820018 | -0.01013441842 |\n",
       "| tablet_or_portable | -0.32808218 | -0.03956259 |  0.092739433 |  0.01633200538 |\n",
       "| has_computer | -0.33794386 | -0.01899197 | -0.030767692 | -0.00564249486 |\n",
       "| no_computer | -0.09595103 | -0.05814027 | -0.368313891 | -0.16363764519 |\n",
       "| internet_subscription | -0.33702799 | -0.01153611 |  0.012319341 | -0.01826643806 |\n",
       "| dial_up | -0.01781392 | -0.15724235 | -0.170881731 | -0.05885182247 |\n",
       "| broadband | -0.32674522 |  0.08171418 |  0.059778903 | -0.06935011977 |\n",
       "| satellite | -0.04169239 | -0.36253667 | -0.071146362 |  0.25298652433 |\n",
       "| other_internet_service | -0.08517789 | -0.21130439 |  0.003385692 |  0.07444699382 |\n",
       "| access_with_no_subscription | -0.10449618 |  0.10762027 | -0.219751494 |  0.13032737318 |\n",
       "| no_internet_access | -0.10611811 | -0.14435885 | -0.398661130 | -0.13142931884 |\n",
       "| sixty_five_and_older | -0.22691167 | -0.26672253 | -0.041865418 | -0.12086109920 |\n",
       "| median_income | -0.06007780 | -0.18457767 |  0.417255695 |  0.07346946191 |\n",
       "| mean_income | -0.05245785 | -0.18759788 |  0.405287155 |  0.04479389585 |\n",
       "| mean_d_mbps | -0.12607564 |  0.34708581 |  0.112266738 | -0.27687640768 |\n",
       "| mean_u_mbps | -0.07255308 |  0.27064526 | -0.006531179 | -0.04857014266 |\n",
       "| mean_lat_ms |  0.09040640 | -0.35368463 | -0.091901883 |  0.29809650071 |\n",
       "| number_providers |  0.05911494 | -0.21024668 | -0.104514342 |  0.22521313847 |\n",
       "| mean_lowest_cost | -0.04006783 |  0.02966988 |  0.123457770 | -0.29884477004 |\n",
       "\n"
      ],
      "text/plain": [
       "                            PC1         PC2         PC3          PC4           \n",
       "not_citizen                 -0.08076065  0.27681890 -0.126001643  0.44092911548\n",
       "naturalized_citizen         -0.16687182  0.16873934  0.070085117  0.29730334600\n",
       "native_citizen              -0.30843286 -0.06369291  0.019002104 -0.00324943348\n",
       "foreign_born                -0.12701864  0.27844037 -0.069571658  0.45461456610\n",
       "work_from_home              -0.16574741 -0.14863878  0.232633557  0.07870007930\n",
       "desktop_or_laptop           -0.33325410 -0.03585264  0.045478400 -0.00006146449\n",
       "desktop_or_laptop_only      -0.13167675 -0.19083580 -0.194266544 -0.18526763430\n",
       "smartphone                  -0.33551629  0.01116501 -0.002501850  0.02188390883\n",
       "smartphone_only             -0.10369111  0.06122125 -0.319820018 -0.01013441842\n",
       "tablet_or_portable          -0.32808218 -0.03956259  0.092739433  0.01633200538\n",
       "has_computer                -0.33794386 -0.01899197 -0.030767692 -0.00564249486\n",
       "no_computer                 -0.09595103 -0.05814027 -0.368313891 -0.16363764519\n",
       "internet_subscription       -0.33702799 -0.01153611  0.012319341 -0.01826643806\n",
       "dial_up                     -0.01781392 -0.15724235 -0.170881731 -0.05885182247\n",
       "broadband                   -0.32674522  0.08171418  0.059778903 -0.06935011977\n",
       "satellite                   -0.04169239 -0.36253667 -0.071146362  0.25298652433\n",
       "other_internet_service      -0.08517789 -0.21130439  0.003385692  0.07444699382\n",
       "access_with_no_subscription -0.10449618  0.10762027 -0.219751494  0.13032737318\n",
       "no_internet_access          -0.10611811 -0.14435885 -0.398661130 -0.13142931884\n",
       "sixty_five_and_older        -0.22691167 -0.26672253 -0.041865418 -0.12086109920\n",
       "median_income               -0.06007780 -0.18457767  0.417255695  0.07346946191\n",
       "mean_income                 -0.05245785 -0.18759788  0.405287155  0.04479389585\n",
       "mean_d_mbps                 -0.12607564  0.34708581  0.112266738 -0.27687640768\n",
       "mean_u_mbps                 -0.07255308  0.27064526 -0.006531179 -0.04857014266\n",
       "mean_lat_ms                  0.09040640 -0.35368463 -0.091901883  0.29809650071\n",
       "number_providers             0.05911494 -0.21024668 -0.104514342  0.22521313847\n",
       "mean_lowest_cost            -0.04006783  0.02966988  0.123457770 -0.29884477004"
      ]
     },
     "metadata": {},
     "output_type": "display_data"
    }
   ],
   "source": [
    "# remove scientific notation\n",
    "options(scipen=999)\n",
    "\n",
    "loadings %>% as.data.frame()"
   ]
  },
  {
   "attachments": {},
   "cell_type": "markdown",
   "metadata": {},
   "source": [
    "### remove variables that don't exceed threshold of sqrt(1/27) = |.19245| based on loadings "
   ]
  },
  {
   "cell_type": "code",
   "execution_count": 24,
   "metadata": {
    "vscode": {
     "languageId": "r"
    }
   },
   "outputs": [
    {
     "name": "stdout",
     "output_type": "stream",
     "text": [
      "[1] 0.1924501\n"
     ]
    }
   ],
   "source": [
    "threshold = sqrt(1/27)\n",
    "print(threshold)"
   ]
  },
  {
   "cell_type": "code",
   "execution_count": 28,
   "metadata": {
    "vscode": {
     "languageId": "r"
    }
   },
   "outputs": [
    {
     "data": {
      "text/html": [
       "<table class=\"dataframe\">\n",
       "<caption>A data.frame: 26 × 4</caption>\n",
       "<thead>\n",
       "\t<tr><th></th><th scope=col>PC1</th><th scope=col>PC2</th><th scope=col>PC3</th><th scope=col>PC4</th></tr>\n",
       "\t<tr><th></th><th scope=col>&lt;dbl&gt;</th><th scope=col>&lt;dbl&gt;</th><th scope=col>&lt;dbl&gt;</th><th scope=col>&lt;dbl&gt;</th></tr>\n",
       "</thead>\n",
       "<tbody>\n",
       "\t<tr><th scope=row>not_citizen</th><td>-0.08076065</td><td> 0.27681890</td><td>-0.126001643</td><td> 0.44092911548</td></tr>\n",
       "\t<tr><th scope=row>naturalized_citizen</th><td>-0.16687182</td><td> 0.16873934</td><td> 0.070085117</td><td> 0.29730334600</td></tr>\n",
       "\t<tr><th scope=row>native_citizen</th><td>-0.30843286</td><td>-0.06369291</td><td> 0.019002104</td><td>-0.00324943348</td></tr>\n",
       "\t<tr><th scope=row>foreign_born</th><td>-0.12701864</td><td> 0.27844037</td><td>-0.069571658</td><td> 0.45461456610</td></tr>\n",
       "\t<tr><th scope=row>work_from_home</th><td>-0.16574741</td><td>-0.14863878</td><td> 0.232633557</td><td> 0.07870007930</td></tr>\n",
       "\t<tr><th scope=row>desktop_or_laptop</th><td>-0.33325410</td><td>-0.03585264</td><td> 0.045478400</td><td>-0.00006146449</td></tr>\n",
       "\t<tr><th scope=row>desktop_or_laptop_only</th><td>-0.13167675</td><td>-0.19083580</td><td>-0.194266544</td><td>-0.18526763430</td></tr>\n",
       "\t<tr><th scope=row>smartphone</th><td>-0.33551629</td><td> 0.01116501</td><td>-0.002501850</td><td> 0.02188390883</td></tr>\n",
       "\t<tr><th scope=row>smartphone_only</th><td>-0.10369111</td><td> 0.06122125</td><td>-0.319820018</td><td>-0.01013441842</td></tr>\n",
       "\t<tr><th scope=row>tablet_or_portable</th><td>-0.32808218</td><td>-0.03956259</td><td> 0.092739433</td><td> 0.01633200538</td></tr>\n",
       "\t<tr><th scope=row>has_computer</th><td>-0.33794386</td><td>-0.01899197</td><td>-0.030767692</td><td>-0.00564249486</td></tr>\n",
       "\t<tr><th scope=row>no_computer</th><td>-0.09595103</td><td>-0.05814027</td><td>-0.368313891</td><td>-0.16363764519</td></tr>\n",
       "\t<tr><th scope=row>internet_subscription</th><td>-0.33702799</td><td>-0.01153611</td><td> 0.012319341</td><td>-0.01826643806</td></tr>\n",
       "\t<tr><th scope=row>broadband</th><td>-0.32674522</td><td> 0.08171418</td><td> 0.059778903</td><td>-0.06935011977</td></tr>\n",
       "\t<tr><th scope=row>satellite</th><td>-0.04169239</td><td>-0.36253667</td><td>-0.071146362</td><td> 0.25298652433</td></tr>\n",
       "\t<tr><th scope=row>other_internet_service</th><td>-0.08517789</td><td>-0.21130439</td><td> 0.003385692</td><td> 0.07444699382</td></tr>\n",
       "\t<tr><th scope=row>access_with_no_subscription</th><td>-0.10449618</td><td> 0.10762027</td><td>-0.219751494</td><td> 0.13032737318</td></tr>\n",
       "\t<tr><th scope=row>no_internet_access</th><td>-0.10611811</td><td>-0.14435885</td><td>-0.398661130</td><td>-0.13142931884</td></tr>\n",
       "\t<tr><th scope=row>sixty_five_and_older</th><td>-0.22691167</td><td>-0.26672253</td><td>-0.041865418</td><td>-0.12086109920</td></tr>\n",
       "\t<tr><th scope=row>median_income</th><td>-0.06007780</td><td>-0.18457767</td><td> 0.417255695</td><td> 0.07346946191</td></tr>\n",
       "\t<tr><th scope=row>mean_income</th><td>-0.05245785</td><td>-0.18759788</td><td> 0.405287155</td><td> 0.04479389585</td></tr>\n",
       "\t<tr><th scope=row>mean_d_mbps</th><td>-0.12607564</td><td> 0.34708581</td><td> 0.112266738</td><td>-0.27687640768</td></tr>\n",
       "\t<tr><th scope=row>mean_u_mbps</th><td>-0.07255308</td><td> 0.27064526</td><td>-0.006531179</td><td>-0.04857014266</td></tr>\n",
       "\t<tr><th scope=row>mean_lat_ms</th><td> 0.09040640</td><td>-0.35368463</td><td>-0.091901883</td><td> 0.29809650071</td></tr>\n",
       "\t<tr><th scope=row>number_providers</th><td> 0.05911494</td><td>-0.21024668</td><td>-0.104514342</td><td> 0.22521313847</td></tr>\n",
       "\t<tr><th scope=row>mean_lowest_cost</th><td>-0.04006783</td><td> 0.02966988</td><td> 0.123457770</td><td>-0.29884477004</td></tr>\n",
       "</tbody>\n",
       "</table>\n"
      ],
      "text/latex": [
       "A data.frame: 26 × 4\n",
       "\\begin{tabular}{r|llll}\n",
       "  & PC1 & PC2 & PC3 & PC4\\\\\n",
       "  & <dbl> & <dbl> & <dbl> & <dbl>\\\\\n",
       "\\hline\n",
       "\tnot\\_citizen & -0.08076065 &  0.27681890 & -0.126001643 &  0.44092911548\\\\\n",
       "\tnaturalized\\_citizen & -0.16687182 &  0.16873934 &  0.070085117 &  0.29730334600\\\\\n",
       "\tnative\\_citizen & -0.30843286 & -0.06369291 &  0.019002104 & -0.00324943348\\\\\n",
       "\tforeign\\_born & -0.12701864 &  0.27844037 & -0.069571658 &  0.45461456610\\\\\n",
       "\twork\\_from\\_home & -0.16574741 & -0.14863878 &  0.232633557 &  0.07870007930\\\\\n",
       "\tdesktop\\_or\\_laptop & -0.33325410 & -0.03585264 &  0.045478400 & -0.00006146449\\\\\n",
       "\tdesktop\\_or\\_laptop\\_only & -0.13167675 & -0.19083580 & -0.194266544 & -0.18526763430\\\\\n",
       "\tsmartphone & -0.33551629 &  0.01116501 & -0.002501850 &  0.02188390883\\\\\n",
       "\tsmartphone\\_only & -0.10369111 &  0.06122125 & -0.319820018 & -0.01013441842\\\\\n",
       "\ttablet\\_or\\_portable & -0.32808218 & -0.03956259 &  0.092739433 &  0.01633200538\\\\\n",
       "\thas\\_computer & -0.33794386 & -0.01899197 & -0.030767692 & -0.00564249486\\\\\n",
       "\tno\\_computer & -0.09595103 & -0.05814027 & -0.368313891 & -0.16363764519\\\\\n",
       "\tinternet\\_subscription & -0.33702799 & -0.01153611 &  0.012319341 & -0.01826643806\\\\\n",
       "\tbroadband & -0.32674522 &  0.08171418 &  0.059778903 & -0.06935011977\\\\\n",
       "\tsatellite & -0.04169239 & -0.36253667 & -0.071146362 &  0.25298652433\\\\\n",
       "\tother\\_internet\\_service & -0.08517789 & -0.21130439 &  0.003385692 &  0.07444699382\\\\\n",
       "\taccess\\_with\\_no\\_subscription & -0.10449618 &  0.10762027 & -0.219751494 &  0.13032737318\\\\\n",
       "\tno\\_internet\\_access & -0.10611811 & -0.14435885 & -0.398661130 & -0.13142931884\\\\\n",
       "\tsixty\\_five\\_and\\_older & -0.22691167 & -0.26672253 & -0.041865418 & -0.12086109920\\\\\n",
       "\tmedian\\_income & -0.06007780 & -0.18457767 &  0.417255695 &  0.07346946191\\\\\n",
       "\tmean\\_income & -0.05245785 & -0.18759788 &  0.405287155 &  0.04479389585\\\\\n",
       "\tmean\\_d\\_mbps & -0.12607564 &  0.34708581 &  0.112266738 & -0.27687640768\\\\\n",
       "\tmean\\_u\\_mbps & -0.07255308 &  0.27064526 & -0.006531179 & -0.04857014266\\\\\n",
       "\tmean\\_lat\\_ms &  0.09040640 & -0.35368463 & -0.091901883 &  0.29809650071\\\\\n",
       "\tnumber\\_providers &  0.05911494 & -0.21024668 & -0.104514342 &  0.22521313847\\\\\n",
       "\tmean\\_lowest\\_cost & -0.04006783 &  0.02966988 &  0.123457770 & -0.29884477004\\\\\n",
       "\\end{tabular}\n"
      ],
      "text/markdown": [
       "\n",
       "A data.frame: 26 × 4\n",
       "\n",
       "| <!--/--> | PC1 &lt;dbl&gt; | PC2 &lt;dbl&gt; | PC3 &lt;dbl&gt; | PC4 &lt;dbl&gt; |\n",
       "|---|---|---|---|---|\n",
       "| not_citizen | -0.08076065 |  0.27681890 | -0.126001643 |  0.44092911548 |\n",
       "| naturalized_citizen | -0.16687182 |  0.16873934 |  0.070085117 |  0.29730334600 |\n",
       "| native_citizen | -0.30843286 | -0.06369291 |  0.019002104 | -0.00324943348 |\n",
       "| foreign_born | -0.12701864 |  0.27844037 | -0.069571658 |  0.45461456610 |\n",
       "| work_from_home | -0.16574741 | -0.14863878 |  0.232633557 |  0.07870007930 |\n",
       "| desktop_or_laptop | -0.33325410 | -0.03585264 |  0.045478400 | -0.00006146449 |\n",
       "| desktop_or_laptop_only | -0.13167675 | -0.19083580 | -0.194266544 | -0.18526763430 |\n",
       "| smartphone | -0.33551629 |  0.01116501 | -0.002501850 |  0.02188390883 |\n",
       "| smartphone_only | -0.10369111 |  0.06122125 | -0.319820018 | -0.01013441842 |\n",
       "| tablet_or_portable | -0.32808218 | -0.03956259 |  0.092739433 |  0.01633200538 |\n",
       "| has_computer | -0.33794386 | -0.01899197 | -0.030767692 | -0.00564249486 |\n",
       "| no_computer | -0.09595103 | -0.05814027 | -0.368313891 | -0.16363764519 |\n",
       "| internet_subscription | -0.33702799 | -0.01153611 |  0.012319341 | -0.01826643806 |\n",
       "| broadband | -0.32674522 |  0.08171418 |  0.059778903 | -0.06935011977 |\n",
       "| satellite | -0.04169239 | -0.36253667 | -0.071146362 |  0.25298652433 |\n",
       "| other_internet_service | -0.08517789 | -0.21130439 |  0.003385692 |  0.07444699382 |\n",
       "| access_with_no_subscription | -0.10449618 |  0.10762027 | -0.219751494 |  0.13032737318 |\n",
       "| no_internet_access | -0.10611811 | -0.14435885 | -0.398661130 | -0.13142931884 |\n",
       "| sixty_five_and_older | -0.22691167 | -0.26672253 | -0.041865418 | -0.12086109920 |\n",
       "| median_income | -0.06007780 | -0.18457767 |  0.417255695 |  0.07346946191 |\n",
       "| mean_income | -0.05245785 | -0.18759788 |  0.405287155 |  0.04479389585 |\n",
       "| mean_d_mbps | -0.12607564 |  0.34708581 |  0.112266738 | -0.27687640768 |\n",
       "| mean_u_mbps | -0.07255308 |  0.27064526 | -0.006531179 | -0.04857014266 |\n",
       "| mean_lat_ms |  0.09040640 | -0.35368463 | -0.091901883 |  0.29809650071 |\n",
       "| number_providers |  0.05911494 | -0.21024668 | -0.104514342 |  0.22521313847 |\n",
       "| mean_lowest_cost | -0.04006783 |  0.02966988 |  0.123457770 | -0.29884477004 |\n",
       "\n"
      ],
      "text/plain": [
       "                            PC1         PC2         PC3          PC4           \n",
       "not_citizen                 -0.08076065  0.27681890 -0.126001643  0.44092911548\n",
       "naturalized_citizen         -0.16687182  0.16873934  0.070085117  0.29730334600\n",
       "native_citizen              -0.30843286 -0.06369291  0.019002104 -0.00324943348\n",
       "foreign_born                -0.12701864  0.27844037 -0.069571658  0.45461456610\n",
       "work_from_home              -0.16574741 -0.14863878  0.232633557  0.07870007930\n",
       "desktop_or_laptop           -0.33325410 -0.03585264  0.045478400 -0.00006146449\n",
       "desktop_or_laptop_only      -0.13167675 -0.19083580 -0.194266544 -0.18526763430\n",
       "smartphone                  -0.33551629  0.01116501 -0.002501850  0.02188390883\n",
       "smartphone_only             -0.10369111  0.06122125 -0.319820018 -0.01013441842\n",
       "tablet_or_portable          -0.32808218 -0.03956259  0.092739433  0.01633200538\n",
       "has_computer                -0.33794386 -0.01899197 -0.030767692 -0.00564249486\n",
       "no_computer                 -0.09595103 -0.05814027 -0.368313891 -0.16363764519\n",
       "internet_subscription       -0.33702799 -0.01153611  0.012319341 -0.01826643806\n",
       "broadband                   -0.32674522  0.08171418  0.059778903 -0.06935011977\n",
       "satellite                   -0.04169239 -0.36253667 -0.071146362  0.25298652433\n",
       "other_internet_service      -0.08517789 -0.21130439  0.003385692  0.07444699382\n",
       "access_with_no_subscription -0.10449618  0.10762027 -0.219751494  0.13032737318\n",
       "no_internet_access          -0.10611811 -0.14435885 -0.398661130 -0.13142931884\n",
       "sixty_five_and_older        -0.22691167 -0.26672253 -0.041865418 -0.12086109920\n",
       "median_income               -0.06007780 -0.18457767  0.417255695  0.07346946191\n",
       "mean_income                 -0.05245785 -0.18759788  0.405287155  0.04479389585\n",
       "mean_d_mbps                 -0.12607564  0.34708581  0.112266738 -0.27687640768\n",
       "mean_u_mbps                 -0.07255308  0.27064526 -0.006531179 -0.04857014266\n",
       "mean_lat_ms                  0.09040640 -0.35368463 -0.091901883  0.29809650071\n",
       "number_providers             0.05911494 -0.21024668 -0.104514342  0.22521313847\n",
       "mean_lowest_cost            -0.04006783  0.02966988  0.123457770 -0.29884477004"
      ]
     },
     "metadata": {},
     "output_type": "display_data"
    }
   ],
   "source": [
    "loadings <- loadings %>%\n",
    "    as.data.frame() %>% \n",
    "    filter(!(row.names(.) %in% c('dial_up')))\n",
    "\n",
    "loadings"
   ]
  },
  {
   "attachments": {},
   "cell_type": "markdown",
   "metadata": {},
   "source": [
    "### principal component 1 - 4"
   ]
  },
  {
   "cell_type": "code",
   "execution_count": 29,
   "metadata": {
    "vscode": {
     "languageId": "r"
    }
   },
   "outputs": [
    {
     "data": {
      "text/html": [
       "<table class=\"dataframe\">\n",
       "<caption>A matrix: 6 × 4 of type dbl</caption>\n",
       "<thead>\n",
       "\t<tr><th scope=col>PC1</th><th scope=col>PC2</th><th scope=col>PC3</th><th scope=col>PC4</th></tr>\n",
       "</thead>\n",
       "<tbody>\n",
       "\t<tr><td>-2.611432</td><td> 1.1357062</td><td>1.148701031</td><td>-1.058093</td></tr>\n",
       "\t<tr><td>-5.024032</td><td> 1.1535197</td><td>0.484364860</td><td>-1.621444</td></tr>\n",
       "\t<tr><td>-5.333566</td><td>-0.7863524</td><td>2.101724330</td><td>-2.548649</td></tr>\n",
       "\t<tr><td>-3.956066</td><td>-2.1355167</td><td>0.511227072</td><td>-3.790669</td></tr>\n",
       "\t<tr><td>-3.900786</td><td>-1.7027062</td><td>0.006995872</td><td>-3.413048</td></tr>\n",
       "\t<tr><td>-2.496781</td><td>-3.1371916</td><td>1.553566886</td><td>-2.974531</td></tr>\n",
       "</tbody>\n",
       "</table>\n"
      ],
      "text/latex": [
       "A matrix: 6 × 4 of type dbl\n",
       "\\begin{tabular}{llll}\n",
       " PC1 & PC2 & PC3 & PC4\\\\\n",
       "\\hline\n",
       "\t -2.611432 &  1.1357062 & 1.148701031 & -1.058093\\\\\n",
       "\t -5.024032 &  1.1535197 & 0.484364860 & -1.621444\\\\\n",
       "\t -5.333566 & -0.7863524 & 2.101724330 & -2.548649\\\\\n",
       "\t -3.956066 & -2.1355167 & 0.511227072 & -3.790669\\\\\n",
       "\t -3.900786 & -1.7027062 & 0.006995872 & -3.413048\\\\\n",
       "\t -2.496781 & -3.1371916 & 1.553566886 & -2.974531\\\\\n",
       "\\end{tabular}\n"
      ],
      "text/markdown": [
       "\n",
       "A matrix: 6 × 4 of type dbl\n",
       "\n",
       "| PC1 | PC2 | PC3 | PC4 |\n",
       "|---|---|---|---|\n",
       "| -2.611432 |  1.1357062 | 1.148701031 | -1.058093 |\n",
       "| -5.024032 |  1.1535197 | 0.484364860 | -1.621444 |\n",
       "| -5.333566 | -0.7863524 | 2.101724330 | -2.548649 |\n",
       "| -3.956066 | -2.1355167 | 0.511227072 | -3.790669 |\n",
       "| -3.900786 | -1.7027062 | 0.006995872 | -3.413048 |\n",
       "| -2.496781 | -3.1371916 | 1.553566886 | -2.974531 |\n",
       "\n"
      ],
      "text/plain": [
       "     PC1       PC2        PC3         PC4      \n",
       "[1,] -2.611432  1.1357062 1.148701031 -1.058093\n",
       "[2,] -5.024032  1.1535197 0.484364860 -1.621444\n",
       "[3,] -5.333566 -0.7863524 2.101724330 -2.548649\n",
       "[4,] -3.956066 -2.1355167 0.511227072 -3.790669\n",
       "[5,] -3.900786 -1.7027062 0.006995872 -3.413048\n",
       "[6,] -2.496781 -3.1371916 1.553566886 -2.974531"
      ]
     },
     "metadata": {},
     "output_type": "display_data"
    }
   ],
   "source": [
    "head(pc_tract)"
   ]
  },
  {
   "attachments": {},
   "cell_type": "markdown",
   "metadata": {},
   "source": [
    "multiply eigen vectors by eigen values"
   ]
  },
  {
   "cell_type": "code",
   "execution_count": 30,
   "metadata": {
    "vscode": {
     "languageId": "r"
    }
   },
   "outputs": [],
   "source": [
    "variable_weights <- loadings\n",
    "\n",
    "for(i in 1:ncol(variable_weights)){\n",
    "    variable_weights[, i] <- variable_weights[, i] * eigen_value[i]\n",
    "}"
   ]
  },
  {
   "attachments": {},
   "cell_type": "markdown",
   "metadata": {},
   "source": [
    "prove that it worked"
   ]
  },
  {
   "cell_type": "code",
   "execution_count": 31,
   "metadata": {
    "vscode": {
     "languageId": "r"
    }
   },
   "outputs": [
    {
     "data": {
      "text/html": [
       "<table class=\"dataframe\">\n",
       "<caption>A data.frame: 26 × 5</caption>\n",
       "<thead>\n",
       "\t<tr><th></th><th scope=col>PC1</th><th scope=col>PC2</th><th scope=col>PC3</th><th scope=col>PC4</th><th scope=col>weight</th></tr>\n",
       "\t<tr><th></th><th scope=col>&lt;dbl&gt;</th><th scope=col>&lt;dbl&gt;</th><th scope=col>&lt;dbl&gt;</th><th scope=col>&lt;dbl&gt;</th><th scope=col>&lt;dbl&gt;</th></tr>\n",
       "</thead>\n",
       "<tbody>\n",
       "\t<tr><th scope=row>not_citizen</th><td>-0.6830653</td><td> 1.08489045</td><td>-0.462641303</td><td> 0.9650991593</td><td> 0.9042830</td></tr>\n",
       "\t<tr><th scope=row>naturalized_citizen</th><td>-1.4113847</td><td> 0.66131213</td><td> 0.257332121</td><td> 0.6507331887</td><td> 0.1579928</td></tr>\n",
       "\t<tr><th scope=row>native_citizen</th><td>-2.6086933</td><td>-0.24962107</td><td> 0.069770187</td><td>-0.0071123122</td><td>-2.7956565</td></tr>\n",
       "\t<tr><th scope=row>foreign_born</th><td>-1.0743106</td><td> 1.09124521</td><td>-0.255446846</td><td> 0.9950536723</td><td> 0.7565414</td></tr>\n",
       "\t<tr><th scope=row>work_from_home</th><td>-1.4018746</td><td>-0.58253534</td><td> 0.854162610</td><td> 0.1722575754</td><td>-0.9579897</td></tr>\n",
       "\t<tr><th scope=row>desktop_or_laptop</th><td>-2.8186289</td><td>-0.14051131</td><td> 0.166983428</td><td>-0.0001345326</td><td>-2.7922913</td></tr>\n",
       "\t<tr><th scope=row>desktop_or_laptop_only</th><td>-1.1137084</td><td>-0.74791112</td><td>-0.713290119</td><td>-0.4055110716</td><td>-2.9804207</td></tr>\n",
       "\t<tr><th scope=row>smartphone</th><td>-2.8377622</td><td> 0.04375718</td><td>-0.009186063</td><td> 0.0478991776</td><td>-2.7552919</td></tr>\n",
       "\t<tr><th scope=row>smartphone_only</th><td>-0.8770087</td><td> 0.23993431</td><td>-1.174285878</td><td>-0.0221820659</td><td>-1.8335423</td></tr>\n",
       "\t<tr><th scope=row>tablet_or_portable</th><td>-2.7748852</td><td>-0.15505110</td><td> 0.340512164</td><td> 0.0357472530</td><td>-2.5536769</td></tr>\n",
       "\t<tr><th scope=row>has_computer</th><td>-2.8582944</td><td>-0.07443208</td><td>-0.112969996</td><td>-0.0123502097</td><td>-3.0580466</td></tr>\n",
       "\t<tr><th scope=row>no_computer</th><td>-0.8115439</td><td>-0.22785951</td><td>-1.352341246</td><td>-0.3581676697</td><td>-2.7499124</td></tr>\n",
       "\t<tr><th scope=row>internet_subscription</th><td>-2.8505481</td><td>-0.04521156</td><td> 0.045233030</td><td>-0.0399813108</td><td>-2.8905079</td></tr>\n",
       "\t<tr><th scope=row>broadband</th><td>-2.7635774</td><td> 0.32024884</td><td> 0.219490706</td><td>-0.1517925216</td><td>-2.3756304</td></tr>\n",
       "\t<tr><th scope=row>satellite</th><td>-0.3526300</td><td>-1.42082989</td><td>-0.261228703</td><td> 0.5537331816</td><td>-1.4809554</td></tr>\n",
       "\t<tr><th scope=row>other_internet_service</th><td>-0.7204258</td><td>-0.82813027</td><td> 0.012431273</td><td> 0.1629484845</td><td>-1.3731763</td></tr>\n",
       "\t<tr><th scope=row>access_with_no_subscription</th><td>-0.8838179</td><td> 0.42177831</td><td>-0.806863428</td><td> 0.2852586366</td><td>-0.9836444</td></tr>\n",
       "\t<tr><th scope=row>no_internet_access</th><td>-0.8975361</td><td>-0.56576170</td><td>-1.463767461</td><td>-0.2876705590</td><td>-3.2147358</td></tr>\n",
       "\t<tr><th scope=row>sixty_five_and_older</th><td>-1.9191955</td><td>-1.04532143</td><td>-0.153717610</td><td>-0.2645389954</td><td>-3.3827736</td></tr>\n",
       "\t<tr><th scope=row>median_income</th><td>-0.5081319</td><td>-0.72338469</td><td> 1.532041282</td><td> 0.1608088771</td><td> 0.4613336</td></tr>\n",
       "\t<tr><th scope=row>mean_income</th><td>-0.4436831</td><td>-0.73522129</td><td> 1.488096293</td><td> 0.0980442201</td><td> 0.4072361</td></tr>\n",
       "\t<tr><th scope=row>mean_d_mbps</th><td>-1.0663348</td><td> 1.36027591</td><td> 0.412210738</td><td>-0.6060230067</td><td> 0.1001288</td></tr>\n",
       "\t<tr><th scope=row>mean_u_mbps</th><td>-0.6136465</td><td> 1.06069513</td><td>-0.023980586</td><td>-0.1063096135</td><td> 0.3167585</td></tr>\n",
       "\t<tr><th scope=row>mean_lat_ms</th><td> 0.7646480</td><td>-1.38613755</td><td>-0.337436927</td><td> 0.6524692340</td><td>-0.3064572</td></tr>\n",
       "\t<tr><th scope=row>number_providers</th><td> 0.4999881</td><td>-0.82398497</td><td>-0.383746197</td><td> 0.4929432033</td><td>-0.2147999</td></tr>\n",
       "\t<tr><th scope=row>mean_lowest_cost</th><td>-0.3388896</td><td> 0.11628025</td><td> 0.453300945</td><td>-0.6541070349</td><td>-0.4234155</td></tr>\n",
       "</tbody>\n",
       "</table>\n"
      ],
      "text/latex": [
       "A data.frame: 26 × 5\n",
       "\\begin{tabular}{r|lllll}\n",
       "  & PC1 & PC2 & PC3 & PC4 & weight\\\\\n",
       "  & <dbl> & <dbl> & <dbl> & <dbl> & <dbl>\\\\\n",
       "\\hline\n",
       "\tnot\\_citizen & -0.6830653 &  1.08489045 & -0.462641303 &  0.9650991593 &  0.9042830\\\\\n",
       "\tnaturalized\\_citizen & -1.4113847 &  0.66131213 &  0.257332121 &  0.6507331887 &  0.1579928\\\\\n",
       "\tnative\\_citizen & -2.6086933 & -0.24962107 &  0.069770187 & -0.0071123122 & -2.7956565\\\\\n",
       "\tforeign\\_born & -1.0743106 &  1.09124521 & -0.255446846 &  0.9950536723 &  0.7565414\\\\\n",
       "\twork\\_from\\_home & -1.4018746 & -0.58253534 &  0.854162610 &  0.1722575754 & -0.9579897\\\\\n",
       "\tdesktop\\_or\\_laptop & -2.8186289 & -0.14051131 &  0.166983428 & -0.0001345326 & -2.7922913\\\\\n",
       "\tdesktop\\_or\\_laptop\\_only & -1.1137084 & -0.74791112 & -0.713290119 & -0.4055110716 & -2.9804207\\\\\n",
       "\tsmartphone & -2.8377622 &  0.04375718 & -0.009186063 &  0.0478991776 & -2.7552919\\\\\n",
       "\tsmartphone\\_only & -0.8770087 &  0.23993431 & -1.174285878 & -0.0221820659 & -1.8335423\\\\\n",
       "\ttablet\\_or\\_portable & -2.7748852 & -0.15505110 &  0.340512164 &  0.0357472530 & -2.5536769\\\\\n",
       "\thas\\_computer & -2.8582944 & -0.07443208 & -0.112969996 & -0.0123502097 & -3.0580466\\\\\n",
       "\tno\\_computer & -0.8115439 & -0.22785951 & -1.352341246 & -0.3581676697 & -2.7499124\\\\\n",
       "\tinternet\\_subscription & -2.8505481 & -0.04521156 &  0.045233030 & -0.0399813108 & -2.8905079\\\\\n",
       "\tbroadband & -2.7635774 &  0.32024884 &  0.219490706 & -0.1517925216 & -2.3756304\\\\\n",
       "\tsatellite & -0.3526300 & -1.42082989 & -0.261228703 &  0.5537331816 & -1.4809554\\\\\n",
       "\tother\\_internet\\_service & -0.7204258 & -0.82813027 &  0.012431273 &  0.1629484845 & -1.3731763\\\\\n",
       "\taccess\\_with\\_no\\_subscription & -0.8838179 &  0.42177831 & -0.806863428 &  0.2852586366 & -0.9836444\\\\\n",
       "\tno\\_internet\\_access & -0.8975361 & -0.56576170 & -1.463767461 & -0.2876705590 & -3.2147358\\\\\n",
       "\tsixty\\_five\\_and\\_older & -1.9191955 & -1.04532143 & -0.153717610 & -0.2645389954 & -3.3827736\\\\\n",
       "\tmedian\\_income & -0.5081319 & -0.72338469 &  1.532041282 &  0.1608088771 &  0.4613336\\\\\n",
       "\tmean\\_income & -0.4436831 & -0.73522129 &  1.488096293 &  0.0980442201 &  0.4072361\\\\\n",
       "\tmean\\_d\\_mbps & -1.0663348 &  1.36027591 &  0.412210738 & -0.6060230067 &  0.1001288\\\\\n",
       "\tmean\\_u\\_mbps & -0.6136465 &  1.06069513 & -0.023980586 & -0.1063096135 &  0.3167585\\\\\n",
       "\tmean\\_lat\\_ms &  0.7646480 & -1.38613755 & -0.337436927 &  0.6524692340 & -0.3064572\\\\\n",
       "\tnumber\\_providers &  0.4999881 & -0.82398497 & -0.383746197 &  0.4929432033 & -0.2147999\\\\\n",
       "\tmean\\_lowest\\_cost & -0.3388896 &  0.11628025 &  0.453300945 & -0.6541070349 & -0.4234155\\\\\n",
       "\\end{tabular}\n"
      ],
      "text/markdown": [
       "\n",
       "A data.frame: 26 × 5\n",
       "\n",
       "| <!--/--> | PC1 &lt;dbl&gt; | PC2 &lt;dbl&gt; | PC3 &lt;dbl&gt; | PC4 &lt;dbl&gt; | weight &lt;dbl&gt; |\n",
       "|---|---|---|---|---|---|\n",
       "| not_citizen | -0.6830653 |  1.08489045 | -0.462641303 |  0.9650991593 |  0.9042830 |\n",
       "| naturalized_citizen | -1.4113847 |  0.66131213 |  0.257332121 |  0.6507331887 |  0.1579928 |\n",
       "| native_citizen | -2.6086933 | -0.24962107 |  0.069770187 | -0.0071123122 | -2.7956565 |\n",
       "| foreign_born | -1.0743106 |  1.09124521 | -0.255446846 |  0.9950536723 |  0.7565414 |\n",
       "| work_from_home | -1.4018746 | -0.58253534 |  0.854162610 |  0.1722575754 | -0.9579897 |\n",
       "| desktop_or_laptop | -2.8186289 | -0.14051131 |  0.166983428 | -0.0001345326 | -2.7922913 |\n",
       "| desktop_or_laptop_only | -1.1137084 | -0.74791112 | -0.713290119 | -0.4055110716 | -2.9804207 |\n",
       "| smartphone | -2.8377622 |  0.04375718 | -0.009186063 |  0.0478991776 | -2.7552919 |\n",
       "| smartphone_only | -0.8770087 |  0.23993431 | -1.174285878 | -0.0221820659 | -1.8335423 |\n",
       "| tablet_or_portable | -2.7748852 | -0.15505110 |  0.340512164 |  0.0357472530 | -2.5536769 |\n",
       "| has_computer | -2.8582944 | -0.07443208 | -0.112969996 | -0.0123502097 | -3.0580466 |\n",
       "| no_computer | -0.8115439 | -0.22785951 | -1.352341246 | -0.3581676697 | -2.7499124 |\n",
       "| internet_subscription | -2.8505481 | -0.04521156 |  0.045233030 | -0.0399813108 | -2.8905079 |\n",
       "| broadband | -2.7635774 |  0.32024884 |  0.219490706 | -0.1517925216 | -2.3756304 |\n",
       "| satellite | -0.3526300 | -1.42082989 | -0.261228703 |  0.5537331816 | -1.4809554 |\n",
       "| other_internet_service | -0.7204258 | -0.82813027 |  0.012431273 |  0.1629484845 | -1.3731763 |\n",
       "| access_with_no_subscription | -0.8838179 |  0.42177831 | -0.806863428 |  0.2852586366 | -0.9836444 |\n",
       "| no_internet_access | -0.8975361 | -0.56576170 | -1.463767461 | -0.2876705590 | -3.2147358 |\n",
       "| sixty_five_and_older | -1.9191955 | -1.04532143 | -0.153717610 | -0.2645389954 | -3.3827736 |\n",
       "| median_income | -0.5081319 | -0.72338469 |  1.532041282 |  0.1608088771 |  0.4613336 |\n",
       "| mean_income | -0.4436831 | -0.73522129 |  1.488096293 |  0.0980442201 |  0.4072361 |\n",
       "| mean_d_mbps | -1.0663348 |  1.36027591 |  0.412210738 | -0.6060230067 |  0.1001288 |\n",
       "| mean_u_mbps | -0.6136465 |  1.06069513 | -0.023980586 | -0.1063096135 |  0.3167585 |\n",
       "| mean_lat_ms |  0.7646480 | -1.38613755 | -0.337436927 |  0.6524692340 | -0.3064572 |\n",
       "| number_providers |  0.4999881 | -0.82398497 | -0.383746197 |  0.4929432033 | -0.2147999 |\n",
       "| mean_lowest_cost | -0.3388896 |  0.11628025 |  0.453300945 | -0.6541070349 | -0.4234155 |\n",
       "\n"
      ],
      "text/plain": [
       "                            PC1        PC2         PC3          PC4          \n",
       "not_citizen                 -0.6830653  1.08489045 -0.462641303  0.9650991593\n",
       "naturalized_citizen         -1.4113847  0.66131213  0.257332121  0.6507331887\n",
       "native_citizen              -2.6086933 -0.24962107  0.069770187 -0.0071123122\n",
       "foreign_born                -1.0743106  1.09124521 -0.255446846  0.9950536723\n",
       "work_from_home              -1.4018746 -0.58253534  0.854162610  0.1722575754\n",
       "desktop_or_laptop           -2.8186289 -0.14051131  0.166983428 -0.0001345326\n",
       "desktop_or_laptop_only      -1.1137084 -0.74791112 -0.713290119 -0.4055110716\n",
       "smartphone                  -2.8377622  0.04375718 -0.009186063  0.0478991776\n",
       "smartphone_only             -0.8770087  0.23993431 -1.174285878 -0.0221820659\n",
       "tablet_or_portable          -2.7748852 -0.15505110  0.340512164  0.0357472530\n",
       "has_computer                -2.8582944 -0.07443208 -0.112969996 -0.0123502097\n",
       "no_computer                 -0.8115439 -0.22785951 -1.352341246 -0.3581676697\n",
       "internet_subscription       -2.8505481 -0.04521156  0.045233030 -0.0399813108\n",
       "broadband                   -2.7635774  0.32024884  0.219490706 -0.1517925216\n",
       "satellite                   -0.3526300 -1.42082989 -0.261228703  0.5537331816\n",
       "other_internet_service      -0.7204258 -0.82813027  0.012431273  0.1629484845\n",
       "access_with_no_subscription -0.8838179  0.42177831 -0.806863428  0.2852586366\n",
       "no_internet_access          -0.8975361 -0.56576170 -1.463767461 -0.2876705590\n",
       "sixty_five_and_older        -1.9191955 -1.04532143 -0.153717610 -0.2645389954\n",
       "median_income               -0.5081319 -0.72338469  1.532041282  0.1608088771\n",
       "mean_income                 -0.4436831 -0.73522129  1.488096293  0.0980442201\n",
       "mean_d_mbps                 -1.0663348  1.36027591  0.412210738 -0.6060230067\n",
       "mean_u_mbps                 -0.6136465  1.06069513 -0.023980586 -0.1063096135\n",
       "mean_lat_ms                  0.7646480 -1.38613755 -0.337436927  0.6524692340\n",
       "number_providers             0.4999881 -0.82398497 -0.383746197  0.4929432033\n",
       "mean_lowest_cost            -0.3388896  0.11628025  0.453300945 -0.6541070349\n",
       "                            weight    \n",
       "not_citizen                  0.9042830\n",
       "naturalized_citizen          0.1579928\n",
       "native_citizen              -2.7956565\n",
       "foreign_born                 0.7565414\n",
       "work_from_home              -0.9579897\n",
       "desktop_or_laptop           -2.7922913\n",
       "desktop_or_laptop_only      -2.9804207\n",
       "smartphone                  -2.7552919\n",
       "smartphone_only             -1.8335423\n",
       "tablet_or_portable          -2.5536769\n",
       "has_computer                -3.0580466\n",
       "no_computer                 -2.7499124\n",
       "internet_subscription       -2.8905079\n",
       "broadband                   -2.3756304\n",
       "satellite                   -1.4809554\n",
       "other_internet_service      -1.3731763\n",
       "access_with_no_subscription -0.9836444\n",
       "no_internet_access          -3.2147358\n",
       "sixty_five_and_older        -3.3827736\n",
       "median_income                0.4613336\n",
       "mean_income                  0.4072361\n",
       "mean_d_mbps                  0.1001288\n",
       "mean_u_mbps                  0.3167585\n",
       "mean_lat_ms                 -0.3064572\n",
       "number_providers            -0.2147999\n",
       "mean_lowest_cost            -0.4234155"
      ]
     },
     "metadata": {},
     "output_type": "display_data"
    }
   ],
   "source": [
    "variable_weights %>% \n",
    "    as.data.frame() %>% \n",
    "    mutate(weight = PC1 + PC2 + PC3 + PC4)"
   ]
  },
  {
   "attachments": {},
   "cell_type": "markdown",
   "metadata": {},
   "source": [
    "transmute instead of mutate and assign to variable"
   ]
  },
  {
   "cell_type": "code",
   "execution_count": 32,
   "metadata": {
    "vscode": {
     "languageId": "r"
    }
   },
   "outputs": [],
   "source": [
    "variable_weights <- variable_weights %>% \n",
    "    as.data.frame() %>% \n",
    "    transmute(weight = PC1 + PC2 + PC3 + PC4)"
   ]
  },
  {
   "cell_type": "code",
   "execution_count": 33,
   "metadata": {
    "vscode": {
     "languageId": "r"
    }
   },
   "outputs": [
    {
     "data": {
      "text/html": [
       "<table class=\"dataframe\">\n",
       "<caption>A data.frame: 26 × 1</caption>\n",
       "<thead>\n",
       "\t<tr><th></th><th scope=col>weight</th></tr>\n",
       "\t<tr><th></th><th scope=col>&lt;dbl&gt;</th></tr>\n",
       "</thead>\n",
       "<tbody>\n",
       "\t<tr><th scope=row>not_citizen</th><td> 0.9042830</td></tr>\n",
       "\t<tr><th scope=row>naturalized_citizen</th><td> 0.1579928</td></tr>\n",
       "\t<tr><th scope=row>native_citizen</th><td>-2.7956565</td></tr>\n",
       "\t<tr><th scope=row>foreign_born</th><td> 0.7565414</td></tr>\n",
       "\t<tr><th scope=row>work_from_home</th><td>-0.9579897</td></tr>\n",
       "\t<tr><th scope=row>desktop_or_laptop</th><td>-2.7922913</td></tr>\n",
       "\t<tr><th scope=row>desktop_or_laptop_only</th><td>-2.9804207</td></tr>\n",
       "\t<tr><th scope=row>smartphone</th><td>-2.7552919</td></tr>\n",
       "\t<tr><th scope=row>smartphone_only</th><td>-1.8335423</td></tr>\n",
       "\t<tr><th scope=row>tablet_or_portable</th><td>-2.5536769</td></tr>\n",
       "\t<tr><th scope=row>has_computer</th><td>-3.0580466</td></tr>\n",
       "\t<tr><th scope=row>no_computer</th><td>-2.7499124</td></tr>\n",
       "\t<tr><th scope=row>internet_subscription</th><td>-2.8905079</td></tr>\n",
       "\t<tr><th scope=row>broadband</th><td>-2.3756304</td></tr>\n",
       "\t<tr><th scope=row>satellite</th><td>-1.4809554</td></tr>\n",
       "\t<tr><th scope=row>other_internet_service</th><td>-1.3731763</td></tr>\n",
       "\t<tr><th scope=row>access_with_no_subscription</th><td>-0.9836444</td></tr>\n",
       "\t<tr><th scope=row>no_internet_access</th><td>-3.2147358</td></tr>\n",
       "\t<tr><th scope=row>sixty_five_and_older</th><td>-3.3827736</td></tr>\n",
       "\t<tr><th scope=row>median_income</th><td> 0.4613336</td></tr>\n",
       "\t<tr><th scope=row>mean_income</th><td> 0.4072361</td></tr>\n",
       "\t<tr><th scope=row>mean_d_mbps</th><td> 0.1001288</td></tr>\n",
       "\t<tr><th scope=row>mean_u_mbps</th><td> 0.3167585</td></tr>\n",
       "\t<tr><th scope=row>mean_lat_ms</th><td>-0.3064572</td></tr>\n",
       "\t<tr><th scope=row>number_providers</th><td>-0.2147999</td></tr>\n",
       "\t<tr><th scope=row>mean_lowest_cost</th><td>-0.4234155</td></tr>\n",
       "</tbody>\n",
       "</table>\n"
      ],
      "text/latex": [
       "A data.frame: 26 × 1\n",
       "\\begin{tabular}{r|l}\n",
       "  & weight\\\\\n",
       "  & <dbl>\\\\\n",
       "\\hline\n",
       "\tnot\\_citizen &  0.9042830\\\\\n",
       "\tnaturalized\\_citizen &  0.1579928\\\\\n",
       "\tnative\\_citizen & -2.7956565\\\\\n",
       "\tforeign\\_born &  0.7565414\\\\\n",
       "\twork\\_from\\_home & -0.9579897\\\\\n",
       "\tdesktop\\_or\\_laptop & -2.7922913\\\\\n",
       "\tdesktop\\_or\\_laptop\\_only & -2.9804207\\\\\n",
       "\tsmartphone & -2.7552919\\\\\n",
       "\tsmartphone\\_only & -1.8335423\\\\\n",
       "\ttablet\\_or\\_portable & -2.5536769\\\\\n",
       "\thas\\_computer & -3.0580466\\\\\n",
       "\tno\\_computer & -2.7499124\\\\\n",
       "\tinternet\\_subscription & -2.8905079\\\\\n",
       "\tbroadband & -2.3756304\\\\\n",
       "\tsatellite & -1.4809554\\\\\n",
       "\tother\\_internet\\_service & -1.3731763\\\\\n",
       "\taccess\\_with\\_no\\_subscription & -0.9836444\\\\\n",
       "\tno\\_internet\\_access & -3.2147358\\\\\n",
       "\tsixty\\_five\\_and\\_older & -3.3827736\\\\\n",
       "\tmedian\\_income &  0.4613336\\\\\n",
       "\tmean\\_income &  0.4072361\\\\\n",
       "\tmean\\_d\\_mbps &  0.1001288\\\\\n",
       "\tmean\\_u\\_mbps &  0.3167585\\\\\n",
       "\tmean\\_lat\\_ms & -0.3064572\\\\\n",
       "\tnumber\\_providers & -0.2147999\\\\\n",
       "\tmean\\_lowest\\_cost & -0.4234155\\\\\n",
       "\\end{tabular}\n"
      ],
      "text/markdown": [
       "\n",
       "A data.frame: 26 × 1\n",
       "\n",
       "| <!--/--> | weight &lt;dbl&gt; |\n",
       "|---|---|\n",
       "| not_citizen |  0.9042830 |\n",
       "| naturalized_citizen |  0.1579928 |\n",
       "| native_citizen | -2.7956565 |\n",
       "| foreign_born |  0.7565414 |\n",
       "| work_from_home | -0.9579897 |\n",
       "| desktop_or_laptop | -2.7922913 |\n",
       "| desktop_or_laptop_only | -2.9804207 |\n",
       "| smartphone | -2.7552919 |\n",
       "| smartphone_only | -1.8335423 |\n",
       "| tablet_or_portable | -2.5536769 |\n",
       "| has_computer | -3.0580466 |\n",
       "| no_computer | -2.7499124 |\n",
       "| internet_subscription | -2.8905079 |\n",
       "| broadband | -2.3756304 |\n",
       "| satellite | -1.4809554 |\n",
       "| other_internet_service | -1.3731763 |\n",
       "| access_with_no_subscription | -0.9836444 |\n",
       "| no_internet_access | -3.2147358 |\n",
       "| sixty_five_and_older | -3.3827736 |\n",
       "| median_income |  0.4613336 |\n",
       "| mean_income |  0.4072361 |\n",
       "| mean_d_mbps |  0.1001288 |\n",
       "| mean_u_mbps |  0.3167585 |\n",
       "| mean_lat_ms | -0.3064572 |\n",
       "| number_providers | -0.2147999 |\n",
       "| mean_lowest_cost | -0.4234155 |\n",
       "\n"
      ],
      "text/plain": [
       "                            weight    \n",
       "not_citizen                  0.9042830\n",
       "naturalized_citizen          0.1579928\n",
       "native_citizen              -2.7956565\n",
       "foreign_born                 0.7565414\n",
       "work_from_home              -0.9579897\n",
       "desktop_or_laptop           -2.7922913\n",
       "desktop_or_laptop_only      -2.9804207\n",
       "smartphone                  -2.7552919\n",
       "smartphone_only             -1.8335423\n",
       "tablet_or_portable          -2.5536769\n",
       "has_computer                -3.0580466\n",
       "no_computer                 -2.7499124\n",
       "internet_subscription       -2.8905079\n",
       "broadband                   -2.3756304\n",
       "satellite                   -1.4809554\n",
       "other_internet_service      -1.3731763\n",
       "access_with_no_subscription -0.9836444\n",
       "no_internet_access          -3.2147358\n",
       "sixty_five_and_older        -3.3827736\n",
       "median_income                0.4613336\n",
       "mean_income                  0.4072361\n",
       "mean_d_mbps                  0.1001288\n",
       "mean_u_mbps                  0.3167585\n",
       "mean_lat_ms                 -0.3064572\n",
       "number_providers            -0.2147999\n",
       "mean_lowest_cost            -0.4234155"
      ]
     },
     "metadata": {},
     "output_type": "display_data"
    }
   ],
   "source": [
    "variable_weights"
   ]
  },
  {
   "attachments": {},
   "cell_type": "markdown",
   "metadata": {},
   "source": [
    "### separate tract and county from dataset to append later"
   ]
  },
  {
   "cell_type": "code",
   "execution_count": 36,
   "metadata": {
    "vscode": {
     "languageId": "r"
    }
   },
   "outputs": [
    {
     "data": {
      "text/html": [
       "<table class=\"dataframe\">\n",
       "<caption>A data.frame: 6 × 2</caption>\n",
       "<thead>\n",
       "\t<tr><th></th><th scope=col>GEOID</th><th scope=col>tract</th></tr>\n",
       "\t<tr><th></th><th scope=col>&lt;dbl&gt;</th><th scope=col>&lt;dbl&gt;</th></tr>\n",
       "</thead>\n",
       "<tbody>\n",
       "\t<tr><th scope=row>1</th><td>53001950100</td><td>9501.00</td></tr>\n",
       "\t<tr><th scope=row>2</th><td>53001950200</td><td>9502.00</td></tr>\n",
       "\t<tr><th scope=row>3</th><td>53001950301</td><td>9503.01</td></tr>\n",
       "\t<tr><th scope=row>4</th><td>53001950302</td><td>9503.02</td></tr>\n",
       "\t<tr><th scope=row>5</th><td>53001950303</td><td>9503.03</td></tr>\n",
       "\t<tr><th scope=row>6</th><td>53001950400</td><td>9504.00</td></tr>\n",
       "</tbody>\n",
       "</table>\n"
      ],
      "text/latex": [
       "A data.frame: 6 × 2\n",
       "\\begin{tabular}{r|ll}\n",
       "  & GEOID & tract\\\\\n",
       "  & <dbl> & <dbl>\\\\\n",
       "\\hline\n",
       "\t1 & 53001950100 & 9501.00\\\\\n",
       "\t2 & 53001950200 & 9502.00\\\\\n",
       "\t3 & 53001950301 & 9503.01\\\\\n",
       "\t4 & 53001950302 & 9503.02\\\\\n",
       "\t5 & 53001950303 & 9503.03\\\\\n",
       "\t6 & 53001950400 & 9504.00\\\\\n",
       "\\end{tabular}\n"
      ],
      "text/markdown": [
       "\n",
       "A data.frame: 6 × 2\n",
       "\n",
       "| <!--/--> | GEOID &lt;dbl&gt; | tract &lt;dbl&gt; |\n",
       "|---|---|---|\n",
       "| 1 | 53001950100 | 9501.00 |\n",
       "| 2 | 53001950200 | 9502.00 |\n",
       "| 3 | 53001950301 | 9503.01 |\n",
       "| 4 | 53001950302 | 9503.02 |\n",
       "| 5 | 53001950303 | 9503.03 |\n",
       "| 6 | 53001950400 | 9504.00 |\n",
       "\n"
      ],
      "text/plain": [
       "  GEOID       tract  \n",
       "1 53001950100 9501.00\n",
       "2 53001950200 9502.00\n",
       "3 53001950301 9503.01\n",
       "4 53001950302 9503.02\n",
       "5 53001950303 9503.03\n",
       "6 53001950400 9504.00"
      ]
     },
     "metadata": {},
     "output_type": "display_data"
    }
   ],
   "source": [
    "geoid_tract <- standardized_data_all %>%\n",
    "    select(GEOID, tract)\n",
    "\n",
    "head(geoid_tract)"
   ]
  },
  {
   "cell_type": "code",
   "execution_count": 37,
   "metadata": {
    "vscode": {
     "languageId": "r"
    }
   },
   "outputs": [
    {
     "data": {
      "text/html": [
       "<table class=\"dataframe\">\n",
       "<caption>A data.frame: 6 × 26</caption>\n",
       "<thead>\n",
       "\t<tr><th></th><th scope=col>not_citizen</th><th scope=col>naturalized_citizen</th><th scope=col>native_citizen</th><th scope=col>foreign_born</th><th scope=col>work_from_home</th><th scope=col>desktop_or_laptop</th><th scope=col>desktop_or_laptop_only</th><th scope=col>smartphone</th><th scope=col>smartphone_only</th><th scope=col>tablet_or_portable</th><th scope=col>⋯</th><th scope=col>access_with_no_subscription</th><th scope=col>no_internet_access</th><th scope=col>sixty_five_and_older</th><th scope=col>median_income</th><th scope=col>mean_income</th><th scope=col>mean_d_mbps</th><th scope=col>mean_u_mbps</th><th scope=col>mean_lat_ms</th><th scope=col>number_providers</th><th scope=col>mean_lowest_cost</th></tr>\n",
       "\t<tr><th></th><th scope=col>&lt;dbl&gt;</th><th scope=col>&lt;dbl&gt;</th><th scope=col>&lt;dbl&gt;</th><th scope=col>&lt;dbl&gt;</th><th scope=col>&lt;dbl&gt;</th><th scope=col>&lt;dbl&gt;</th><th scope=col>&lt;dbl&gt;</th><th scope=col>&lt;dbl&gt;</th><th scope=col>&lt;dbl&gt;</th><th scope=col>&lt;dbl&gt;</th><th scope=col>⋯</th><th scope=col>&lt;dbl&gt;</th><th scope=col>&lt;dbl&gt;</th><th scope=col>&lt;dbl&gt;</th><th scope=col>&lt;dbl&gt;</th><th scope=col>&lt;dbl&gt;</th><th scope=col>&lt;dbl&gt;</th><th scope=col>&lt;dbl&gt;</th><th scope=col>&lt;dbl&gt;</th><th scope=col>&lt;dbl&gt;</th><th scope=col>&lt;dbl&gt;</th></tr>\n",
       "</thead>\n",
       "<tbody>\n",
       "\t<tr><th scope=row>1</th><td>-0.48236366</td><td>-0.1360753</td><td>-0.7772324</td><td>-0.4237144</td><td>-0.5101084</td><td>-0.8806845</td><td> 0.0783680</td><td>-0.734196</td><td> 0.5470533</td><td>-0.7648065</td><td>⋯</td><td> 0.1866582</td><td>-0.1307050</td><td>-0.3984409</td><td>-0.37323672</td><td>-0.50677473</td><td>-1.621869</td><td>-0.93495618</td><td> 0.7333922</td><td> 1.7094218</td><td>-1.2748195</td></tr>\n",
       "\t<tr><th scope=row>2</th><td> 0.08777329</td><td>-1.0671850</td><td>-1.4235744</td><td>-0.3478686</td><td>-0.8653209</td><td>-1.4833040</td><td>-1.1695153</td><td>-1.434819</td><td>-0.4632060</td><td>-1.4361860</td><td>⋯</td><td>-0.6177302</td><td>-0.3367343</td><td>-1.2751771</td><td>-0.04914394</td><td>-0.60839056</td><td>-1.629913</td><td>-0.95350094</td><td> 1.6330766</td><td> 1.7094218</td><td>-0.7418166</td></tr>\n",
       "\t<tr><th scope=row>3</th><td> 2.02843174</td><td>-0.8181673</td><td>-1.8432087</td><td> 1.2406807</td><td>-1.3118738</td><td>-1.8889890</td><td>-1.2440157</td><td>-1.823626</td><td>-0.3681227</td><td>-1.7682401</td><td>⋯</td><td>-0.5803168</td><td> 0.1243789</td><td>-1.1770586</td><td>-0.93556901</td><td>-0.91747523</td><td>-1.321690</td><td>-0.79459603</td><td> 1.5968650</td><td>-0.2964475</td><td>-1.6382306</td></tr>\n",
       "\t<tr><th scope=row>4</th><td> 2.49440905</td><td> 0.9466105</td><td>-1.3890427</td><td> 2.2856680</td><td>-1.0784484</td><td>-1.7649203</td><td>-1.5606428</td><td>-1.336655</td><td> 0.2974598</td><td>-1.3149983</td><td>⋯</td><td>-0.4493698</td><td>-0.6114401</td><td>-1.1802237</td><td>-0.09364729</td><td>-0.26189039</td><td>-1.334392</td><td>-0.65140611</td><td> 0.8212335</td><td>-0.2964475</td><td>-1.6382306</td></tr>\n",
       "\t<tr><th scope=row>5</th><td> 2.35187481</td><td> 0.2320379</td><td>-1.2599245</td><td> 1.8980114</td><td>-0.2259384</td><td>-1.5857099</td><td>-1.4488921</td><td>-1.284685</td><td>-0.1185293</td><td>-1.4895085</td><td>⋯</td><td>-0.6177302</td><td>-0.8272803</td><td>-1.1390772</td><td>-0.44758663</td><td>-0.09157226</td><td>-1.486311</td><td>-0.75776304</td><td> 0.4994248</td><td>-0.2964475</td><td>-1.6382306</td></tr>\n",
       "\t<tr><th scope=row>6</th><td> 3.36057864</td><td> 0.3727870</td><td>-0.9348768</td><td> 2.7281021</td><td>-1.1088952</td><td>-1.4695186</td><td>-0.7038872</td><td>-1.173048</td><td> 0.9511569</td><td>-1.1889632</td><td>⋯</td><td>-0.3558363</td><td> 0.1734335</td><td>-1.0219681</td><td> 0.12247378</td><td>-0.28001176</td><td> 0.800291</td><td>-0.05116272</td><td>-0.1930008</td><td> 0.2050198</td><td>-1.8643530</td></tr>\n",
       "</tbody>\n",
       "</table>\n"
      ],
      "text/latex": [
       "A data.frame: 6 × 26\n",
       "\\begin{tabular}{r|lllllllllllllllllllll}\n",
       "  & not\\_citizen & naturalized\\_citizen & native\\_citizen & foreign\\_born & work\\_from\\_home & desktop\\_or\\_laptop & desktop\\_or\\_laptop\\_only & smartphone & smartphone\\_only & tablet\\_or\\_portable & ⋯ & access\\_with\\_no\\_subscription & no\\_internet\\_access & sixty\\_five\\_and\\_older & median\\_income & mean\\_income & mean\\_d\\_mbps & mean\\_u\\_mbps & mean\\_lat\\_ms & number\\_providers & mean\\_lowest\\_cost\\\\\n",
       "  & <dbl> & <dbl> & <dbl> & <dbl> & <dbl> & <dbl> & <dbl> & <dbl> & <dbl> & <dbl> & ⋯ & <dbl> & <dbl> & <dbl> & <dbl> & <dbl> & <dbl> & <dbl> & <dbl> & <dbl> & <dbl>\\\\\n",
       "\\hline\n",
       "\t1 & -0.48236366 & -0.1360753 & -0.7772324 & -0.4237144 & -0.5101084 & -0.8806845 &  0.0783680 & -0.734196 &  0.5470533 & -0.7648065 & ⋯ &  0.1866582 & -0.1307050 & -0.3984409 & -0.37323672 & -0.50677473 & -1.621869 & -0.93495618 &  0.7333922 &  1.7094218 & -1.2748195\\\\\n",
       "\t2 &  0.08777329 & -1.0671850 & -1.4235744 & -0.3478686 & -0.8653209 & -1.4833040 & -1.1695153 & -1.434819 & -0.4632060 & -1.4361860 & ⋯ & -0.6177302 & -0.3367343 & -1.2751771 & -0.04914394 & -0.60839056 & -1.629913 & -0.95350094 &  1.6330766 &  1.7094218 & -0.7418166\\\\\n",
       "\t3 &  2.02843174 & -0.8181673 & -1.8432087 &  1.2406807 & -1.3118738 & -1.8889890 & -1.2440157 & -1.823626 & -0.3681227 & -1.7682401 & ⋯ & -0.5803168 &  0.1243789 & -1.1770586 & -0.93556901 & -0.91747523 & -1.321690 & -0.79459603 &  1.5968650 & -0.2964475 & -1.6382306\\\\\n",
       "\t4 &  2.49440905 &  0.9466105 & -1.3890427 &  2.2856680 & -1.0784484 & -1.7649203 & -1.5606428 & -1.336655 &  0.2974598 & -1.3149983 & ⋯ & -0.4493698 & -0.6114401 & -1.1802237 & -0.09364729 & -0.26189039 & -1.334392 & -0.65140611 &  0.8212335 & -0.2964475 & -1.6382306\\\\\n",
       "\t5 &  2.35187481 &  0.2320379 & -1.2599245 &  1.8980114 & -0.2259384 & -1.5857099 & -1.4488921 & -1.284685 & -0.1185293 & -1.4895085 & ⋯ & -0.6177302 & -0.8272803 & -1.1390772 & -0.44758663 & -0.09157226 & -1.486311 & -0.75776304 &  0.4994248 & -0.2964475 & -1.6382306\\\\\n",
       "\t6 &  3.36057864 &  0.3727870 & -0.9348768 &  2.7281021 & -1.1088952 & -1.4695186 & -0.7038872 & -1.173048 &  0.9511569 & -1.1889632 & ⋯ & -0.3558363 &  0.1734335 & -1.0219681 &  0.12247378 & -0.28001176 &  0.800291 & -0.05116272 & -0.1930008 &  0.2050198 & -1.8643530\\\\\n",
       "\\end{tabular}\n"
      ],
      "text/markdown": [
       "\n",
       "A data.frame: 6 × 26\n",
       "\n",
       "| <!--/--> | not_citizen &lt;dbl&gt; | naturalized_citizen &lt;dbl&gt; | native_citizen &lt;dbl&gt; | foreign_born &lt;dbl&gt; | work_from_home &lt;dbl&gt; | desktop_or_laptop &lt;dbl&gt; | desktop_or_laptop_only &lt;dbl&gt; | smartphone &lt;dbl&gt; | smartphone_only &lt;dbl&gt; | tablet_or_portable &lt;dbl&gt; | ⋯ ⋯ | access_with_no_subscription &lt;dbl&gt; | no_internet_access &lt;dbl&gt; | sixty_five_and_older &lt;dbl&gt; | median_income &lt;dbl&gt; | mean_income &lt;dbl&gt; | mean_d_mbps &lt;dbl&gt; | mean_u_mbps &lt;dbl&gt; | mean_lat_ms &lt;dbl&gt; | number_providers &lt;dbl&gt; | mean_lowest_cost &lt;dbl&gt; |\n",
       "|---|---|---|---|---|---|---|---|---|---|---|---|---|---|---|---|---|---|---|---|---|---|\n",
       "| 1 | -0.48236366 | -0.1360753 | -0.7772324 | -0.4237144 | -0.5101084 | -0.8806845 |  0.0783680 | -0.734196 |  0.5470533 | -0.7648065 | ⋯ |  0.1866582 | -0.1307050 | -0.3984409 | -0.37323672 | -0.50677473 | -1.621869 | -0.93495618 |  0.7333922 |  1.7094218 | -1.2748195 |\n",
       "| 2 |  0.08777329 | -1.0671850 | -1.4235744 | -0.3478686 | -0.8653209 | -1.4833040 | -1.1695153 | -1.434819 | -0.4632060 | -1.4361860 | ⋯ | -0.6177302 | -0.3367343 | -1.2751771 | -0.04914394 | -0.60839056 | -1.629913 | -0.95350094 |  1.6330766 |  1.7094218 | -0.7418166 |\n",
       "| 3 |  2.02843174 | -0.8181673 | -1.8432087 |  1.2406807 | -1.3118738 | -1.8889890 | -1.2440157 | -1.823626 | -0.3681227 | -1.7682401 | ⋯ | -0.5803168 |  0.1243789 | -1.1770586 | -0.93556901 | -0.91747523 | -1.321690 | -0.79459603 |  1.5968650 | -0.2964475 | -1.6382306 |\n",
       "| 4 |  2.49440905 |  0.9466105 | -1.3890427 |  2.2856680 | -1.0784484 | -1.7649203 | -1.5606428 | -1.336655 |  0.2974598 | -1.3149983 | ⋯ | -0.4493698 | -0.6114401 | -1.1802237 | -0.09364729 | -0.26189039 | -1.334392 | -0.65140611 |  0.8212335 | -0.2964475 | -1.6382306 |\n",
       "| 5 |  2.35187481 |  0.2320379 | -1.2599245 |  1.8980114 | -0.2259384 | -1.5857099 | -1.4488921 | -1.284685 | -0.1185293 | -1.4895085 | ⋯ | -0.6177302 | -0.8272803 | -1.1390772 | -0.44758663 | -0.09157226 | -1.486311 | -0.75776304 |  0.4994248 | -0.2964475 | -1.6382306 |\n",
       "| 6 |  3.36057864 |  0.3727870 | -0.9348768 |  2.7281021 | -1.1088952 | -1.4695186 | -0.7038872 | -1.173048 |  0.9511569 | -1.1889632 | ⋯ | -0.3558363 |  0.1734335 | -1.0219681 |  0.12247378 | -0.28001176 |  0.800291 | -0.05116272 | -0.1930008 |  0.2050198 | -1.8643530 |\n",
       "\n"
      ],
      "text/plain": [
       "  not_citizen naturalized_citizen native_citizen foreign_born work_from_home\n",
       "1 -0.48236366 -0.1360753          -0.7772324     -0.4237144   -0.5101084    \n",
       "2  0.08777329 -1.0671850          -1.4235744     -0.3478686   -0.8653209    \n",
       "3  2.02843174 -0.8181673          -1.8432087      1.2406807   -1.3118738    \n",
       "4  2.49440905  0.9466105          -1.3890427      2.2856680   -1.0784484    \n",
       "5  2.35187481  0.2320379          -1.2599245      1.8980114   -0.2259384    \n",
       "6  3.36057864  0.3727870          -0.9348768      2.7281021   -1.1088952    \n",
       "  desktop_or_laptop desktop_or_laptop_only smartphone smartphone_only\n",
       "1 -0.8806845         0.0783680             -0.734196   0.5470533     \n",
       "2 -1.4833040        -1.1695153             -1.434819  -0.4632060     \n",
       "3 -1.8889890        -1.2440157             -1.823626  -0.3681227     \n",
       "4 -1.7649203        -1.5606428             -1.336655   0.2974598     \n",
       "5 -1.5857099        -1.4488921             -1.284685  -0.1185293     \n",
       "6 -1.4695186        -0.7038872             -1.173048   0.9511569     \n",
       "  tablet_or_portable ⋯ access_with_no_subscription no_internet_access\n",
       "1 -0.7648065         ⋯  0.1866582                  -0.1307050        \n",
       "2 -1.4361860         ⋯ -0.6177302                  -0.3367343        \n",
       "3 -1.7682401         ⋯ -0.5803168                   0.1243789        \n",
       "4 -1.3149983         ⋯ -0.4493698                  -0.6114401        \n",
       "5 -1.4895085         ⋯ -0.6177302                  -0.8272803        \n",
       "6 -1.1889632         ⋯ -0.3558363                   0.1734335        \n",
       "  sixty_five_and_older median_income mean_income mean_d_mbps mean_u_mbps\n",
       "1 -0.3984409           -0.37323672   -0.50677473 -1.621869   -0.93495618\n",
       "2 -1.2751771           -0.04914394   -0.60839056 -1.629913   -0.95350094\n",
       "3 -1.1770586           -0.93556901   -0.91747523 -1.321690   -0.79459603\n",
       "4 -1.1802237           -0.09364729   -0.26189039 -1.334392   -0.65140611\n",
       "5 -1.1390772           -0.44758663   -0.09157226 -1.486311   -0.75776304\n",
       "6 -1.0219681            0.12247378   -0.28001176  0.800291   -0.05116272\n",
       "  mean_lat_ms number_providers mean_lowest_cost\n",
       "1  0.7333922   1.7094218       -1.2748195      \n",
       "2  1.6330766   1.7094218       -0.7418166      \n",
       "3  1.5968650  -0.2964475       -1.6382306      \n",
       "4  0.8212335  -0.2964475       -1.6382306      \n",
       "5  0.4994248  -0.2964475       -1.6382306      \n",
       "6 -0.1930008   0.2050198       -1.8643530      "
      ]
     },
     "metadata": {},
     "output_type": "display_data"
    }
   ],
   "source": [
    "filtered_standardized_data <- standardized_data_all %>% \n",
    "    select(-GEOID, -tract, -dial_up)\n",
    "\n",
    "head(filtered_standardized_data)"
   ]
  },
  {
   "attachments": {},
   "cell_type": "markdown",
   "metadata": {},
   "source": [
    "### multiply standardized values by variable weights"
   ]
  },
  {
   "cell_type": "code",
   "execution_count": 38,
   "metadata": {
    "vscode": {
     "languageId": "r"
    }
   },
   "outputs": [
    {
     "data": {
      "text/html": [
       "<table class=\"dataframe\">\n",
       "<caption>A data.frame: 6 × 26</caption>\n",
       "<thead>\n",
       "\t<tr><th></th><th scope=col>not_citizen</th><th scope=col>naturalized_citizen</th><th scope=col>native_citizen</th><th scope=col>foreign_born</th><th scope=col>work_from_home</th><th scope=col>desktop_or_laptop</th><th scope=col>desktop_or_laptop_only</th><th scope=col>smartphone</th><th scope=col>smartphone_only</th><th scope=col>tablet_or_portable</th><th scope=col>⋯</th><th scope=col>access_with_no_subscription</th><th scope=col>no_internet_access</th><th scope=col>sixty_five_and_older</th><th scope=col>median_income</th><th scope=col>mean_income</th><th scope=col>mean_d_mbps</th><th scope=col>mean_u_mbps</th><th scope=col>mean_lat_ms</th><th scope=col>number_providers</th><th scope=col>mean_lowest_cost</th></tr>\n",
       "\t<tr><th></th><th scope=col>&lt;dbl&gt;</th><th scope=col>&lt;dbl&gt;</th><th scope=col>&lt;dbl&gt;</th><th scope=col>&lt;dbl&gt;</th><th scope=col>&lt;dbl&gt;</th><th scope=col>&lt;dbl&gt;</th><th scope=col>&lt;dbl&gt;</th><th scope=col>&lt;dbl&gt;</th><th scope=col>&lt;dbl&gt;</th><th scope=col>&lt;dbl&gt;</th><th scope=col>⋯</th><th scope=col>&lt;dbl&gt;</th><th scope=col>&lt;dbl&gt;</th><th scope=col>&lt;dbl&gt;</th><th scope=col>&lt;dbl&gt;</th><th scope=col>&lt;dbl&gt;</th><th scope=col>&lt;dbl&gt;</th><th scope=col>&lt;dbl&gt;</th><th scope=col>&lt;dbl&gt;</th><th scope=col>&lt;dbl&gt;</th><th scope=col>&lt;dbl&gt;</th></tr>\n",
       "</thead>\n",
       "<tbody>\n",
       "\t<tr><th scope=row>1</th><td>-0.4361933</td><td>-0.02149891</td><td>2.172875</td><td>-0.3205575</td><td>0.4886786</td><td>2.459128</td><td>-0.2335696</td><td>2.022924</td><td>-1.0030453</td><td>1.953069</td><td>⋯</td><td>-0.1836053</td><td> 0.4201821</td><td>1.347836</td><td>-0.17218664</td><td>-0.20637699</td><td>-0.16239585</td><td>-0.29615529</td><td>-0.22475333</td><td>-0.36718360</td><td>0.5397783</td></tr>\n",
       "\t<tr><th scope=row>2</th><td> 0.0793719</td><td>-0.16860750</td><td>3.979825</td><td>-0.2631770</td><td>0.8289686</td><td>4.141817</td><td> 3.4856474</td><td>3.953344</td><td> 0.8493077</td><td>3.667555</td><td>⋯</td><td> 0.6076268</td><td> 1.0825119</td><td>4.313635</td><td>-0.02267175</td><td>-0.24775863</td><td>-0.16320132</td><td>-0.30202950</td><td>-0.50046807</td><td>-0.36718360</td><td>0.3140966</td></tr>\n",
       "\t<tr><th scope=row>3</th><td> 1.8342764</td><td>-0.12926451</td><td>5.152979</td><td> 0.9386263</td><td>1.2567616</td><td>5.274608</td><td> 3.7076902</td><td>5.024621</td><td> 0.6749686</td><td>4.515514</td><td>⋯</td><td> 0.5708253</td><td>-0.3998452</td><td>3.981723</td><td>-0.43160942</td><td>-0.37362908</td><td>-0.13233926</td><td>-0.25169502</td><td>-0.48937076</td><td> 0.06367690</td><td>0.6936521</td></tr>\n",
       "\t<tr><th scope=row>4</th><td> 2.2556518</td><td> 0.14955760</td><td>3.883286</td><td> 1.7292025</td><td>1.0331425</td><td>4.928172</td><td> 4.6513722</td><td>3.682873</td><td>-0.5454051</td><td>3.358081</td><td>⋯</td><td> 0.4420201</td><td> 1.9656182</td><td>3.992430</td><td>-0.04320264</td><td>-0.10665123</td><td>-0.13361114</td><td>-0.20633840</td><td>-0.25167292</td><td> 0.06367690</td><td>0.6936521</td></tr>\n",
       "\t<tr><th scope=row>5</th><td> 2.1267605</td><td> 0.03666031</td><td>3.522316</td><td> 1.4359243</td><td>0.2164467</td><td>4.427764</td><td> 4.3183079</td><td>3.539683</td><td> 0.2173285</td><td>3.803724</td><td>⋯</td><td> 0.6076268</td><td> 2.6594875</td><td>3.853240</td><td>-0.20648675</td><td>-0.03729153</td><td>-0.14882258</td><td>-0.24002786</td><td>-0.15305233</td><td> 0.06367690</td><td>0.6936521</td></tr>\n",
       "\t<tr><th scope=row>6</th><td> 3.0389143</td><td> 0.05889765</td><td>2.613594</td><td> 2.0639223</td><td>1.0623102</td><td>4.103324</td><td> 2.0978799</td><td>3.232089</td><td>-1.7439865</td><td>3.036228</td><td>⋯</td><td> 0.3500164</td><td>-0.5575427</td><td>3.457087</td><td> 0.05650127</td><td>-0.11403091</td><td> 0.08013221</td><td>-0.01620623</td><td> 0.05914648</td><td>-0.04403823</td><td>0.7893959</td></tr>\n",
       "</tbody>\n",
       "</table>\n"
      ],
      "text/latex": [
       "A data.frame: 6 × 26\n",
       "\\begin{tabular}{r|lllllllllllllllllllll}\n",
       "  & not\\_citizen & naturalized\\_citizen & native\\_citizen & foreign\\_born & work\\_from\\_home & desktop\\_or\\_laptop & desktop\\_or\\_laptop\\_only & smartphone & smartphone\\_only & tablet\\_or\\_portable & ⋯ & access\\_with\\_no\\_subscription & no\\_internet\\_access & sixty\\_five\\_and\\_older & median\\_income & mean\\_income & mean\\_d\\_mbps & mean\\_u\\_mbps & mean\\_lat\\_ms & number\\_providers & mean\\_lowest\\_cost\\\\\n",
       "  & <dbl> & <dbl> & <dbl> & <dbl> & <dbl> & <dbl> & <dbl> & <dbl> & <dbl> & <dbl> & ⋯ & <dbl> & <dbl> & <dbl> & <dbl> & <dbl> & <dbl> & <dbl> & <dbl> & <dbl> & <dbl>\\\\\n",
       "\\hline\n",
       "\t1 & -0.4361933 & -0.02149891 & 2.172875 & -0.3205575 & 0.4886786 & 2.459128 & -0.2335696 & 2.022924 & -1.0030453 & 1.953069 & ⋯ & -0.1836053 &  0.4201821 & 1.347836 & -0.17218664 & -0.20637699 & -0.16239585 & -0.29615529 & -0.22475333 & -0.36718360 & 0.5397783\\\\\n",
       "\t2 &  0.0793719 & -0.16860750 & 3.979825 & -0.2631770 & 0.8289686 & 4.141817 &  3.4856474 & 3.953344 &  0.8493077 & 3.667555 & ⋯ &  0.6076268 &  1.0825119 & 4.313635 & -0.02267175 & -0.24775863 & -0.16320132 & -0.30202950 & -0.50046807 & -0.36718360 & 0.3140966\\\\\n",
       "\t3 &  1.8342764 & -0.12926451 & 5.152979 &  0.9386263 & 1.2567616 & 5.274608 &  3.7076902 & 5.024621 &  0.6749686 & 4.515514 & ⋯ &  0.5708253 & -0.3998452 & 3.981723 & -0.43160942 & -0.37362908 & -0.13233926 & -0.25169502 & -0.48937076 &  0.06367690 & 0.6936521\\\\\n",
       "\t4 &  2.2556518 &  0.14955760 & 3.883286 &  1.7292025 & 1.0331425 & 4.928172 &  4.6513722 & 3.682873 & -0.5454051 & 3.358081 & ⋯ &  0.4420201 &  1.9656182 & 3.992430 & -0.04320264 & -0.10665123 & -0.13361114 & -0.20633840 & -0.25167292 &  0.06367690 & 0.6936521\\\\\n",
       "\t5 &  2.1267605 &  0.03666031 & 3.522316 &  1.4359243 & 0.2164467 & 4.427764 &  4.3183079 & 3.539683 &  0.2173285 & 3.803724 & ⋯ &  0.6076268 &  2.6594875 & 3.853240 & -0.20648675 & -0.03729153 & -0.14882258 & -0.24002786 & -0.15305233 &  0.06367690 & 0.6936521\\\\\n",
       "\t6 &  3.0389143 &  0.05889765 & 2.613594 &  2.0639223 & 1.0623102 & 4.103324 &  2.0978799 & 3.232089 & -1.7439865 & 3.036228 & ⋯ &  0.3500164 & -0.5575427 & 3.457087 &  0.05650127 & -0.11403091 &  0.08013221 & -0.01620623 &  0.05914648 & -0.04403823 & 0.7893959\\\\\n",
       "\\end{tabular}\n"
      ],
      "text/markdown": [
       "\n",
       "A data.frame: 6 × 26\n",
       "\n",
       "| <!--/--> | not_citizen &lt;dbl&gt; | naturalized_citizen &lt;dbl&gt; | native_citizen &lt;dbl&gt; | foreign_born &lt;dbl&gt; | work_from_home &lt;dbl&gt; | desktop_or_laptop &lt;dbl&gt; | desktop_or_laptop_only &lt;dbl&gt; | smartphone &lt;dbl&gt; | smartphone_only &lt;dbl&gt; | tablet_or_portable &lt;dbl&gt; | ⋯ ⋯ | access_with_no_subscription &lt;dbl&gt; | no_internet_access &lt;dbl&gt; | sixty_five_and_older &lt;dbl&gt; | median_income &lt;dbl&gt; | mean_income &lt;dbl&gt; | mean_d_mbps &lt;dbl&gt; | mean_u_mbps &lt;dbl&gt; | mean_lat_ms &lt;dbl&gt; | number_providers &lt;dbl&gt; | mean_lowest_cost &lt;dbl&gt; |\n",
       "|---|---|---|---|---|---|---|---|---|---|---|---|---|---|---|---|---|---|---|---|---|---|\n",
       "| 1 | -0.4361933 | -0.02149891 | 2.172875 | -0.3205575 | 0.4886786 | 2.459128 | -0.2335696 | 2.022924 | -1.0030453 | 1.953069 | ⋯ | -0.1836053 |  0.4201821 | 1.347836 | -0.17218664 | -0.20637699 | -0.16239585 | -0.29615529 | -0.22475333 | -0.36718360 | 0.5397783 |\n",
       "| 2 |  0.0793719 | -0.16860750 | 3.979825 | -0.2631770 | 0.8289686 | 4.141817 |  3.4856474 | 3.953344 |  0.8493077 | 3.667555 | ⋯ |  0.6076268 |  1.0825119 | 4.313635 | -0.02267175 | -0.24775863 | -0.16320132 | -0.30202950 | -0.50046807 | -0.36718360 | 0.3140966 |\n",
       "| 3 |  1.8342764 | -0.12926451 | 5.152979 |  0.9386263 | 1.2567616 | 5.274608 |  3.7076902 | 5.024621 |  0.6749686 | 4.515514 | ⋯ |  0.5708253 | -0.3998452 | 3.981723 | -0.43160942 | -0.37362908 | -0.13233926 | -0.25169502 | -0.48937076 |  0.06367690 | 0.6936521 |\n",
       "| 4 |  2.2556518 |  0.14955760 | 3.883286 |  1.7292025 | 1.0331425 | 4.928172 |  4.6513722 | 3.682873 | -0.5454051 | 3.358081 | ⋯ |  0.4420201 |  1.9656182 | 3.992430 | -0.04320264 | -0.10665123 | -0.13361114 | -0.20633840 | -0.25167292 |  0.06367690 | 0.6936521 |\n",
       "| 5 |  2.1267605 |  0.03666031 | 3.522316 |  1.4359243 | 0.2164467 | 4.427764 |  4.3183079 | 3.539683 |  0.2173285 | 3.803724 | ⋯ |  0.6076268 |  2.6594875 | 3.853240 | -0.20648675 | -0.03729153 | -0.14882258 | -0.24002786 | -0.15305233 |  0.06367690 | 0.6936521 |\n",
       "| 6 |  3.0389143 |  0.05889765 | 2.613594 |  2.0639223 | 1.0623102 | 4.103324 |  2.0978799 | 3.232089 | -1.7439865 | 3.036228 | ⋯ |  0.3500164 | -0.5575427 | 3.457087 |  0.05650127 | -0.11403091 |  0.08013221 | -0.01620623 |  0.05914648 | -0.04403823 | 0.7893959 |\n",
       "\n"
      ],
      "text/plain": [
       "  not_citizen naturalized_citizen native_citizen foreign_born work_from_home\n",
       "1 -0.4361933  -0.02149891         2.172875       -0.3205575   0.4886786     \n",
       "2  0.0793719  -0.16860750         3.979825       -0.2631770   0.8289686     \n",
       "3  1.8342764  -0.12926451         5.152979        0.9386263   1.2567616     \n",
       "4  2.2556518   0.14955760         3.883286        1.7292025   1.0331425     \n",
       "5  2.1267605   0.03666031         3.522316        1.4359243   0.2164467     \n",
       "6  3.0389143   0.05889765         2.613594        2.0639223   1.0623102     \n",
       "  desktop_or_laptop desktop_or_laptop_only smartphone smartphone_only\n",
       "1 2.459128          -0.2335696             2.022924   -1.0030453     \n",
       "2 4.141817           3.4856474             3.953344    0.8493077     \n",
       "3 5.274608           3.7076902             5.024621    0.6749686     \n",
       "4 4.928172           4.6513722             3.682873   -0.5454051     \n",
       "5 4.427764           4.3183079             3.539683    0.2173285     \n",
       "6 4.103324           2.0978799             3.232089   -1.7439865     \n",
       "  tablet_or_portable ⋯ access_with_no_subscription no_internet_access\n",
       "1 1.953069           ⋯ -0.1836053                   0.4201821        \n",
       "2 3.667555           ⋯  0.6076268                   1.0825119        \n",
       "3 4.515514           ⋯  0.5708253                  -0.3998452        \n",
       "4 3.358081           ⋯  0.4420201                   1.9656182        \n",
       "5 3.803724           ⋯  0.6076268                   2.6594875        \n",
       "6 3.036228           ⋯  0.3500164                  -0.5575427        \n",
       "  sixty_five_and_older median_income mean_income mean_d_mbps mean_u_mbps\n",
       "1 1.347836             -0.17218664   -0.20637699 -0.16239585 -0.29615529\n",
       "2 4.313635             -0.02267175   -0.24775863 -0.16320132 -0.30202950\n",
       "3 3.981723             -0.43160942   -0.37362908 -0.13233926 -0.25169502\n",
       "4 3.992430             -0.04320264   -0.10665123 -0.13361114 -0.20633840\n",
       "5 3.853240             -0.20648675   -0.03729153 -0.14882258 -0.24002786\n",
       "6 3.457087              0.05650127   -0.11403091  0.08013221 -0.01620623\n",
       "  mean_lat_ms number_providers mean_lowest_cost\n",
       "1 -0.22475333 -0.36718360      0.5397783       \n",
       "2 -0.50046807 -0.36718360      0.3140966       \n",
       "3 -0.48937076  0.06367690      0.6936521       \n",
       "4 -0.25167292  0.06367690      0.6936521       \n",
       "5 -0.15305233  0.06367690      0.6936521       \n",
       "6  0.05914648 -0.04403823      0.7893959       "
      ]
     },
     "metadata": {},
     "output_type": "display_data"
    }
   ],
   "source": [
    "index <- filtered_standardized_data\n",
    "\n",
    "for(i in 1:ncol(index)){\n",
    "    index[, i] <- index[, i] * variable_weights[i,]\n",
    "}\n",
    "\n",
    "head(index)"
   ]
  },
  {
   "attachments": {},
   "cell_type": "markdown",
   "metadata": {},
   "source": [
    "### sum the rows"
   ]
  },
  {
   "cell_type": "code",
   "execution_count": 39,
   "metadata": {
    "vscode": {
     "languageId": "r"
    }
   },
   "outputs": [],
   "source": [
    "index <- index %>% \n",
    "    transmute(index = rowSums(.))"
   ]
  },
  {
   "attachments": {},
   "cell_type": "markdown",
   "metadata": {},
   "source": [
    "### append dataframes together"
   ]
  },
  {
   "cell_type": "code",
   "execution_count": 40,
   "metadata": {
    "vscode": {
     "languageId": "r"
    }
   },
   "outputs": [
    {
     "data": {
      "text/html": [
       "<table class=\"dataframe\">\n",
       "<caption>A data.frame: 6 × 3</caption>\n",
       "<thead>\n",
       "\t<tr><th></th><th scope=col>GEOID</th><th scope=col>tract</th><th scope=col>index</th></tr>\n",
       "\t<tr><th></th><th scope=col>&lt;dbl&gt;</th><th scope=col>&lt;dbl&gt;</th><th scope=col>&lt;dbl&gt;</th></tr>\n",
       "</thead>\n",
       "<tbody>\n",
       "\t<tr><th scope=row>1</th><td>53001950100</td><td>9501.00</td><td>15.55449</td></tr>\n",
       "\t<tr><th scope=row>2</th><td>53001950200</td><td>9502.00</td><td>39.21211</td></tr>\n",
       "\t<tr><th scope=row>3</th><td>53001950301</td><td>9503.01</td><td>45.29011</td></tr>\n",
       "\t<tr><th scope=row>4</th><td>53001950302</td><td>9503.02</td><td>47.48528</td></tr>\n",
       "\t<tr><th scope=row>5</th><td>53001950303</td><td>9503.03</td><td>46.34634</td></tr>\n",
       "\t<tr><th scope=row>6</th><td>53001950400</td><td>9504.00</td><td>33.45498</td></tr>\n",
       "</tbody>\n",
       "</table>\n"
      ],
      "text/latex": [
       "A data.frame: 6 × 3\n",
       "\\begin{tabular}{r|lll}\n",
       "  & GEOID & tract & index\\\\\n",
       "  & <dbl> & <dbl> & <dbl>\\\\\n",
       "\\hline\n",
       "\t1 & 53001950100 & 9501.00 & 15.55449\\\\\n",
       "\t2 & 53001950200 & 9502.00 & 39.21211\\\\\n",
       "\t3 & 53001950301 & 9503.01 & 45.29011\\\\\n",
       "\t4 & 53001950302 & 9503.02 & 47.48528\\\\\n",
       "\t5 & 53001950303 & 9503.03 & 46.34634\\\\\n",
       "\t6 & 53001950400 & 9504.00 & 33.45498\\\\\n",
       "\\end{tabular}\n"
      ],
      "text/markdown": [
       "\n",
       "A data.frame: 6 × 3\n",
       "\n",
       "| <!--/--> | GEOID &lt;dbl&gt; | tract &lt;dbl&gt; | index &lt;dbl&gt; |\n",
       "|---|---|---|---|\n",
       "| 1 | 53001950100 | 9501.00 | 15.55449 |\n",
       "| 2 | 53001950200 | 9502.00 | 39.21211 |\n",
       "| 3 | 53001950301 | 9503.01 | 45.29011 |\n",
       "| 4 | 53001950302 | 9503.02 | 47.48528 |\n",
       "| 5 | 53001950303 | 9503.03 | 46.34634 |\n",
       "| 6 | 53001950400 | 9504.00 | 33.45498 |\n",
       "\n"
      ],
      "text/plain": [
       "  GEOID       tract   index   \n",
       "1 53001950100 9501.00 15.55449\n",
       "2 53001950200 9502.00 39.21211\n",
       "3 53001950301 9503.01 45.29011\n",
       "4 53001950302 9503.02 47.48528\n",
       "5 53001950303 9503.03 46.34634\n",
       "6 53001950400 9504.00 33.45498"
      ]
     },
     "metadata": {},
     "output_type": "display_data"
    }
   ],
   "source": [
    "pc_index <- bind_cols(geoid_tract, index)\n",
    "\n",
    "head(pc_index)"
   ]
  },
  {
   "cell_type": "code",
   "execution_count": 41,
   "metadata": {
    "vscode": {
     "languageId": "r"
    }
   },
   "outputs": [],
   "source": [
    "# write.csv(pc_index, \"../data/pc_index.csv\")"
   ]
  }
 ],
 "metadata": {
  "kernelspec": {
   "display_name": "R",
   "language": "R",
   "name": "ir"
  },
  "language_info": {
   "codemirror_mode": "r",
   "file_extension": ".r",
   "mimetype": "text/x-r-source",
   "name": "R",
   "pygments_lexer": "r",
   "version": "4.2.2"
  },
  "orig_nbformat": 4,
  "vscode": {
   "interpreter": {
    "hash": "57dd2987098f537f345e7ae8c3dbbea75e05788d3d065fc2b6efdb1ab7ac492c"
   }
  }
 },
 "nbformat": 4,
 "nbformat_minor": 2
}
