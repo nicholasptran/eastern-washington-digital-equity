{
 "cells": [
  {
   "cell_type": "code",
   "execution_count": 1,
   "metadata": {
    "vscode": {
     "languageId": "r"
    }
   },
   "outputs": [
    {
     "name": "stderr",
     "output_type": "stream",
     "text": [
      "── \u001b[1mAttaching packages\u001b[22m ─────────────────────────────────────── tidyverse 1.3.1 ──\n",
      "\n",
      "\u001b[32m✔\u001b[39m \u001b[34mggplot2\u001b[39m 3.3.5     \u001b[32m✔\u001b[39m \u001b[34mpurrr  \u001b[39m 0.3.4\n",
      "\u001b[32m✔\u001b[39m \u001b[34mtibble \u001b[39m 3.1.7     \u001b[32m✔\u001b[39m \u001b[34mdplyr  \u001b[39m 1.0.9\n",
      "\u001b[32m✔\u001b[39m \u001b[34mtidyr  \u001b[39m 1.2.0     \u001b[32m✔\u001b[39m \u001b[34mstringr\u001b[39m 1.4.0\n",
      "\u001b[32m✔\u001b[39m \u001b[34mreadr  \u001b[39m 2.1.2     \u001b[32m✔\u001b[39m \u001b[34mforcats\u001b[39m 0.5.1\n",
      "\n",
      "── \u001b[1mConflicts\u001b[22m ────────────────────────────────────────── tidyverse_conflicts() ──\n",
      "\u001b[31m✖\u001b[39m \u001b[34mdplyr\u001b[39m::\u001b[32mfilter()\u001b[39m masks \u001b[34mstats\u001b[39m::filter()\n",
      "\u001b[31m✖\u001b[39m \u001b[34mdplyr\u001b[39m::\u001b[32mlag()\u001b[39m    masks \u001b[34mstats\u001b[39m::lag()\n",
      "\n"
     ]
    }
   ],
   "source": [
    "library(tidyverse)\n",
    "\n",
    "standardized_data <- read.csv(\"../data/z_score_data.csv\")\n",
    "standardized_data <- standardized_data[3:27]\n",
    "\n",
    "standardized_data_all <- read.csv(\"../data/z_score_data.csv\")\n",
    "standardized_data_all <- standardized_data_all[1:27]"
   ]
  },
  {
   "attachments": {},
   "cell_type": "markdown",
   "metadata": {},
   "source": [
    "### assignments"
   ]
  },
  {
   "cell_type": "code",
   "execution_count": 2,
   "metadata": {
    "vscode": {
     "languageId": "r"
    }
   },
   "outputs": [],
   "source": [
    "pc_data <- prcomp(standardized_data, scale = FALSE)\n",
    "\n",
    "eigen_value <- pc_data$sdev^2\n",
    "\n",
    "pc_data$rotation <- -pc_data$rotation\n",
    "\n",
    "loadings <- pc_data$rotation[, 1:4]\n",
    "\n",
    "pc_tract <- pc_data$x[, 1:4]"
   ]
  },
  {
   "attachments": {},
   "cell_type": "markdown",
   "metadata": {},
   "source": [
    "### eigen value"
   ]
  },
  {
   "cell_type": "code",
   "execution_count": 3,
   "metadata": {
    "vscode": {
     "languageId": "r"
    }
   },
   "outputs": [
    {
     "data": {
      "text/html": [
       "<style>\n",
       ".list-inline {list-style: none; margin:0; padding: 0}\n",
       ".list-inline>li {display: inline-block}\n",
       ".list-inline>li:not(:last-child)::after {content: \"\\00b7\"; padding: 0 .5ex}\n",
       "</style>\n",
       "<ol class=list-inline><li>8.40184848369452</li><li>3.70301878558989</li><li>3.00655930890187</li><li>1.41136257501199</li></ol>\n"
      ],
      "text/latex": [
       "\\begin{enumerate*}\n",
       "\\item 8.40184848369452\n",
       "\\item 3.70301878558989\n",
       "\\item 3.00655930890187\n",
       "\\item 1.41136257501199\n",
       "\\end{enumerate*}\n"
      ],
      "text/markdown": [
       "1. 8.40184848369452\n",
       "2. 3.70301878558989\n",
       "3. 3.00655930890187\n",
       "4. 1.41136257501199\n",
       "\n",
       "\n"
      ],
      "text/plain": [
       "[1] 8.401848 3.703019 3.006559 1.411363"
      ]
     },
     "metadata": {},
     "output_type": "display_data"
    }
   ],
   "source": [
    "eigen_value[1:4]"
   ]
  },
  {
   "attachments": {},
   "cell_type": "markdown",
   "metadata": {},
   "source": [
    "### loadings"
   ]
  },
  {
   "cell_type": "code",
   "execution_count": 4,
   "metadata": {
    "vscode": {
     "languageId": "r"
    }
   },
   "outputs": [
    {
     "data": {
      "text/html": [
       "<table class=\"dataframe\">\n",
       "<caption>A matrix: 25 × 4 of type dbl</caption>\n",
       "<thead>\n",
       "\t<tr><th></th><th scope=col>PC1</th><th scope=col>PC2</th><th scope=col>PC3</th><th scope=col>PC4</th></tr>\n",
       "</thead>\n",
       "<tbody>\n",
       "\t<tr><th scope=row>median_income</th><td>-0.06543787</td><td> 0.451689774</td><td>-0.053048367</td><td>-0.11546258</td></tr>\n",
       "\t<tr><th scope=row>mean_income</th><td>-0.05892118</td><td> 0.439486946</td><td>-0.072082999</td><td>-0.09629520</td></tr>\n",
       "\t<tr><th scope=row>internet_with_subscription</th><td>-0.33668618</td><td> 0.012214271</td><td> 0.031885733</td><td> 0.07367151</td></tr>\n",
       "\t<tr><th scope=row>dialup</th><td>-0.03251846</td><td>-0.130400755</td><td>-0.224470222</td><td>-0.34833485</td></tr>\n",
       "\t<tr><th scope=row>broadband</th><td>-0.31755563</td><td> 0.031252845</td><td> 0.103118128</td><td> 0.20580560</td></tr>\n",
       "\t<tr><th scope=row>satellite</th><td>-0.07254968</td><td> 0.043669244</td><td>-0.242454496</td><td>-0.55587292</td></tr>\n",
       "\t<tr><th scope=row>other</th><td>-0.11100219</td><td> 0.073451058</td><td>-0.137651627</td><td>-0.35544064</td></tr>\n",
       "\t<tr><th scope=row>internet_without_subscription</th><td>-0.10495514</td><td>-0.227179658</td><td> 0.119509269</td><td>-0.02083965</td></tr>\n",
       "\t<tr><th scope=row>no_internet</th><td>-0.12680559</td><td>-0.347503444</td><td>-0.263660813</td><td>-0.04607166</td></tr>\n",
       "\t<tr><th scope=row>total_native</th><td>-0.31057773</td><td> 0.037692284</td><td>-0.007303641</td><td> 0.02875694</td></tr>\n",
       "\t<tr><th scope=row>total_foreign_born</th><td>-0.11203744</td><td>-0.131299998</td><td> 0.462036636</td><td>-0.26393190</td></tr>\n",
       "\t<tr><th scope=row>not_citizen</th><td>-0.06692988</td><td>-0.181540607</td><td> 0.433199587</td><td>-0.24916913</td></tr>\n",
       "\t<tr><th scope=row>naturalized_citizen</th><td>-0.15547607</td><td> 0.021529451</td><td> 0.330573285</td><td>-0.18545631</td></tr>\n",
       "\t<tr><th scope=row>computer</th><td>-0.33877747</td><td>-0.024915288</td><td> 0.023937837</td><td> 0.05665904</td></tr>\n",
       "\t<tr><th scope=row>no_computer</th><td>-0.10387851</td><td>-0.344429981</td><td>-0.211676251</td><td> 0.02000171</td></tr>\n",
       "\t<tr><th scope=row>work_from_home</th><td>-0.17071715</td><td> 0.266778720</td><td>-0.035670469</td><td>-0.02434973</td></tr>\n",
       "\t<tr><th scope=row>desktop_laptop</th><td>-0.33382954</td><td> 0.055377939</td><td> 0.024929104</td><td> 0.06966495</td></tr>\n",
       "\t<tr><th scope=row>only_desktop_laptop</th><td>-0.14859554</td><td>-0.136885906</td><td>-0.296706626</td><td> 0.09623041</td></tr>\n",
       "\t<tr><th scope=row>with_smartphone</th><td>-0.33376565</td><td>-0.004594375</td><td> 0.074149844</td><td> 0.05107856</td></tr>\n",
       "\t<tr><th scope=row>only_smartphone</th><td>-0.10494225</td><td>-0.328739469</td><td> 0.016609224</td><td>-0.06777823</td></tr>\n",
       "\t<tr><th scope=row>with_tablet</th><td>-0.32847806</td><td> 0.100209338</td><td> 0.036658932</td><td> 0.05476466</td></tr>\n",
       "\t<tr><th scope=row>only_tablet</th><td>-0.04806853</td><td>-0.131149319</td><td>-0.147077199</td><td> 0.15772622</td></tr>\n",
       "\t<tr><th scope=row>with_other</th><td>-0.10827241</td><td> 0.064660603</td><td>-0.079835370</td><td> 0.04397329</td></tr>\n",
       "\t<tr><th scope=row>only_other</th><td>-0.02732603</td><td>-0.021762161</td><td>-0.100122404</td><td>-0.38449632</td></tr>\n",
       "\t<tr><th scope=row>X65_older</th><td>-0.24764403</td><td> 0.027010271</td><td>-0.278376038</td><td> 0.01586335</td></tr>\n",
       "</tbody>\n",
       "</table>\n"
      ],
      "text/latex": [
       "A matrix: 25 × 4 of type dbl\n",
       "\\begin{tabular}{r|llll}\n",
       "  & PC1 & PC2 & PC3 & PC4\\\\\n",
       "\\hline\n",
       "\tmedian\\_income & -0.06543787 &  0.451689774 & -0.053048367 & -0.11546258\\\\\n",
       "\tmean\\_income & -0.05892118 &  0.439486946 & -0.072082999 & -0.09629520\\\\\n",
       "\tinternet\\_with\\_subscription & -0.33668618 &  0.012214271 &  0.031885733 &  0.07367151\\\\\n",
       "\tdialup & -0.03251846 & -0.130400755 & -0.224470222 & -0.34833485\\\\\n",
       "\tbroadband & -0.31755563 &  0.031252845 &  0.103118128 &  0.20580560\\\\\n",
       "\tsatellite & -0.07254968 &  0.043669244 & -0.242454496 & -0.55587292\\\\\n",
       "\tother & -0.11100219 &  0.073451058 & -0.137651627 & -0.35544064\\\\\n",
       "\tinternet\\_without\\_subscription & -0.10495514 & -0.227179658 &  0.119509269 & -0.02083965\\\\\n",
       "\tno\\_internet & -0.12680559 & -0.347503444 & -0.263660813 & -0.04607166\\\\\n",
       "\ttotal\\_native & -0.31057773 &  0.037692284 & -0.007303641 &  0.02875694\\\\\n",
       "\ttotal\\_foreign\\_born & -0.11203744 & -0.131299998 &  0.462036636 & -0.26393190\\\\\n",
       "\tnot\\_citizen & -0.06692988 & -0.181540607 &  0.433199587 & -0.24916913\\\\\n",
       "\tnaturalized\\_citizen & -0.15547607 &  0.021529451 &  0.330573285 & -0.18545631\\\\\n",
       "\tcomputer & -0.33877747 & -0.024915288 &  0.023937837 &  0.05665904\\\\\n",
       "\tno\\_computer & -0.10387851 & -0.344429981 & -0.211676251 &  0.02000171\\\\\n",
       "\twork\\_from\\_home & -0.17071715 &  0.266778720 & -0.035670469 & -0.02434973\\\\\n",
       "\tdesktop\\_laptop & -0.33382954 &  0.055377939 &  0.024929104 &  0.06966495\\\\\n",
       "\tonly\\_desktop\\_laptop & -0.14859554 & -0.136885906 & -0.296706626 &  0.09623041\\\\\n",
       "\twith\\_smartphone & -0.33376565 & -0.004594375 &  0.074149844 &  0.05107856\\\\\n",
       "\tonly\\_smartphone & -0.10494225 & -0.328739469 &  0.016609224 & -0.06777823\\\\\n",
       "\twith\\_tablet & -0.32847806 &  0.100209338 &  0.036658932 &  0.05476466\\\\\n",
       "\tonly\\_tablet & -0.04806853 & -0.131149319 & -0.147077199 &  0.15772622\\\\\n",
       "\twith\\_other & -0.10827241 &  0.064660603 & -0.079835370 &  0.04397329\\\\\n",
       "\tonly\\_other & -0.02732603 & -0.021762161 & -0.100122404 & -0.38449632\\\\\n",
       "\tX65\\_older & -0.24764403 &  0.027010271 & -0.278376038 &  0.01586335\\\\\n",
       "\\end{tabular}\n"
      ],
      "text/markdown": [
       "\n",
       "A matrix: 25 × 4 of type dbl\n",
       "\n",
       "| <!--/--> | PC1 | PC2 | PC3 | PC4 |\n",
       "|---|---|---|---|---|\n",
       "| median_income | -0.06543787 |  0.451689774 | -0.053048367 | -0.11546258 |\n",
       "| mean_income | -0.05892118 |  0.439486946 | -0.072082999 | -0.09629520 |\n",
       "| internet_with_subscription | -0.33668618 |  0.012214271 |  0.031885733 |  0.07367151 |\n",
       "| dialup | -0.03251846 | -0.130400755 | -0.224470222 | -0.34833485 |\n",
       "| broadband | -0.31755563 |  0.031252845 |  0.103118128 |  0.20580560 |\n",
       "| satellite | -0.07254968 |  0.043669244 | -0.242454496 | -0.55587292 |\n",
       "| other | -0.11100219 |  0.073451058 | -0.137651627 | -0.35544064 |\n",
       "| internet_without_subscription | -0.10495514 | -0.227179658 |  0.119509269 | -0.02083965 |\n",
       "| no_internet | -0.12680559 | -0.347503444 | -0.263660813 | -0.04607166 |\n",
       "| total_native | -0.31057773 |  0.037692284 | -0.007303641 |  0.02875694 |\n",
       "| total_foreign_born | -0.11203744 | -0.131299998 |  0.462036636 | -0.26393190 |\n",
       "| not_citizen | -0.06692988 | -0.181540607 |  0.433199587 | -0.24916913 |\n",
       "| naturalized_citizen | -0.15547607 |  0.021529451 |  0.330573285 | -0.18545631 |\n",
       "| computer | -0.33877747 | -0.024915288 |  0.023937837 |  0.05665904 |\n",
       "| no_computer | -0.10387851 | -0.344429981 | -0.211676251 |  0.02000171 |\n",
       "| work_from_home | -0.17071715 |  0.266778720 | -0.035670469 | -0.02434973 |\n",
       "| desktop_laptop | -0.33382954 |  0.055377939 |  0.024929104 |  0.06966495 |\n",
       "| only_desktop_laptop | -0.14859554 | -0.136885906 | -0.296706626 |  0.09623041 |\n",
       "| with_smartphone | -0.33376565 | -0.004594375 |  0.074149844 |  0.05107856 |\n",
       "| only_smartphone | -0.10494225 | -0.328739469 |  0.016609224 | -0.06777823 |\n",
       "| with_tablet | -0.32847806 |  0.100209338 |  0.036658932 |  0.05476466 |\n",
       "| only_tablet | -0.04806853 | -0.131149319 | -0.147077199 |  0.15772622 |\n",
       "| with_other | -0.10827241 |  0.064660603 | -0.079835370 |  0.04397329 |\n",
       "| only_other | -0.02732603 | -0.021762161 | -0.100122404 | -0.38449632 |\n",
       "| X65_older | -0.24764403 |  0.027010271 | -0.278376038 |  0.01586335 |\n",
       "\n"
      ],
      "text/plain": [
       "                              PC1         PC2          PC3          PC4        \n",
       "median_income                 -0.06543787  0.451689774 -0.053048367 -0.11546258\n",
       "mean_income                   -0.05892118  0.439486946 -0.072082999 -0.09629520\n",
       "internet_with_subscription    -0.33668618  0.012214271  0.031885733  0.07367151\n",
       "dialup                        -0.03251846 -0.130400755 -0.224470222 -0.34833485\n",
       "broadband                     -0.31755563  0.031252845  0.103118128  0.20580560\n",
       "satellite                     -0.07254968  0.043669244 -0.242454496 -0.55587292\n",
       "other                         -0.11100219  0.073451058 -0.137651627 -0.35544064\n",
       "internet_without_subscription -0.10495514 -0.227179658  0.119509269 -0.02083965\n",
       "no_internet                   -0.12680559 -0.347503444 -0.263660813 -0.04607166\n",
       "total_native                  -0.31057773  0.037692284 -0.007303641  0.02875694\n",
       "total_foreign_born            -0.11203744 -0.131299998  0.462036636 -0.26393190\n",
       "not_citizen                   -0.06692988 -0.181540607  0.433199587 -0.24916913\n",
       "naturalized_citizen           -0.15547607  0.021529451  0.330573285 -0.18545631\n",
       "computer                      -0.33877747 -0.024915288  0.023937837  0.05665904\n",
       "no_computer                   -0.10387851 -0.344429981 -0.211676251  0.02000171\n",
       "work_from_home                -0.17071715  0.266778720 -0.035670469 -0.02434973\n",
       "desktop_laptop                -0.33382954  0.055377939  0.024929104  0.06966495\n",
       "only_desktop_laptop           -0.14859554 -0.136885906 -0.296706626  0.09623041\n",
       "with_smartphone               -0.33376565 -0.004594375  0.074149844  0.05107856\n",
       "only_smartphone               -0.10494225 -0.328739469  0.016609224 -0.06777823\n",
       "with_tablet                   -0.32847806  0.100209338  0.036658932  0.05476466\n",
       "only_tablet                   -0.04806853 -0.131149319 -0.147077199  0.15772622\n",
       "with_other                    -0.10827241  0.064660603 -0.079835370  0.04397329\n",
       "only_other                    -0.02732603 -0.021762161 -0.100122404 -0.38449632\n",
       "X65_older                     -0.24764403  0.027010271 -0.278376038  0.01586335"
      ]
     },
     "metadata": {},
     "output_type": "display_data"
    }
   ],
   "source": [
    "loadings"
   ]
  },
  {
   "attachments": {},
   "cell_type": "markdown",
   "metadata": {},
   "source": [
    "### remove variables that don't exceed threshold of sqrt(1/25) = |.2| based on loadings "
   ]
  },
  {
   "cell_type": "code",
   "execution_count": 5,
   "metadata": {
    "vscode": {
     "languageId": "r"
    }
   },
   "outputs": [
    {
     "data": {
      "text/html": [
       "<table class=\"dataframe\">\n",
       "<caption>A data.frame: 23 × 4</caption>\n",
       "<thead>\n",
       "\t<tr><th></th><th scope=col>PC1</th><th scope=col>PC2</th><th scope=col>PC3</th><th scope=col>PC4</th></tr>\n",
       "\t<tr><th></th><th scope=col>&lt;dbl&gt;</th><th scope=col>&lt;dbl&gt;</th><th scope=col>&lt;dbl&gt;</th><th scope=col>&lt;dbl&gt;</th></tr>\n",
       "</thead>\n",
       "<tbody>\n",
       "\t<tr><th scope=row>median_income</th><td>-0.06543787</td><td> 0.451689774</td><td>-0.053048367</td><td>-0.11546258</td></tr>\n",
       "\t<tr><th scope=row>mean_income</th><td>-0.05892118</td><td> 0.439486946</td><td>-0.072082999</td><td>-0.09629520</td></tr>\n",
       "\t<tr><th scope=row>internet_with_subscription</th><td>-0.33668618</td><td> 0.012214271</td><td> 0.031885733</td><td> 0.07367151</td></tr>\n",
       "\t<tr><th scope=row>dialup</th><td>-0.03251846</td><td>-0.130400755</td><td>-0.224470222</td><td>-0.34833485</td></tr>\n",
       "\t<tr><th scope=row>broadband</th><td>-0.31755563</td><td> 0.031252845</td><td> 0.103118128</td><td> 0.20580560</td></tr>\n",
       "\t<tr><th scope=row>satellite</th><td>-0.07254968</td><td> 0.043669244</td><td>-0.242454496</td><td>-0.55587292</td></tr>\n",
       "\t<tr><th scope=row>other</th><td>-0.11100219</td><td> 0.073451058</td><td>-0.137651627</td><td>-0.35544064</td></tr>\n",
       "\t<tr><th scope=row>internet_without_subscription</th><td>-0.10495514</td><td>-0.227179658</td><td> 0.119509269</td><td>-0.02083965</td></tr>\n",
       "\t<tr><th scope=row>no_internet</th><td>-0.12680559</td><td>-0.347503444</td><td>-0.263660813</td><td>-0.04607166</td></tr>\n",
       "\t<tr><th scope=row>total_native</th><td>-0.31057773</td><td> 0.037692284</td><td>-0.007303641</td><td> 0.02875694</td></tr>\n",
       "\t<tr><th scope=row>total_foreign_born</th><td>-0.11203744</td><td>-0.131299998</td><td> 0.462036636</td><td>-0.26393190</td></tr>\n",
       "\t<tr><th scope=row>not_citizen</th><td>-0.06692988</td><td>-0.181540607</td><td> 0.433199587</td><td>-0.24916913</td></tr>\n",
       "\t<tr><th scope=row>naturalized_citizen</th><td>-0.15547607</td><td> 0.021529451</td><td> 0.330573285</td><td>-0.18545631</td></tr>\n",
       "\t<tr><th scope=row>computer</th><td>-0.33877747</td><td>-0.024915288</td><td> 0.023937837</td><td> 0.05665904</td></tr>\n",
       "\t<tr><th scope=row>no_computer</th><td>-0.10387851</td><td>-0.344429981</td><td>-0.211676251</td><td> 0.02000171</td></tr>\n",
       "\t<tr><th scope=row>work_from_home</th><td>-0.17071715</td><td> 0.266778720</td><td>-0.035670469</td><td>-0.02434973</td></tr>\n",
       "\t<tr><th scope=row>desktop_laptop</th><td>-0.33382954</td><td> 0.055377939</td><td> 0.024929104</td><td> 0.06966495</td></tr>\n",
       "\t<tr><th scope=row>only_desktop_laptop</th><td>-0.14859554</td><td>-0.136885906</td><td>-0.296706626</td><td> 0.09623041</td></tr>\n",
       "\t<tr><th scope=row>with_smartphone</th><td>-0.33376565</td><td>-0.004594375</td><td> 0.074149844</td><td> 0.05107856</td></tr>\n",
       "\t<tr><th scope=row>only_smartphone</th><td>-0.10494225</td><td>-0.328739469</td><td> 0.016609224</td><td>-0.06777823</td></tr>\n",
       "\t<tr><th scope=row>with_tablet</th><td>-0.32847806</td><td> 0.100209338</td><td> 0.036658932</td><td> 0.05476466</td></tr>\n",
       "\t<tr><th scope=row>only_other</th><td>-0.02732603</td><td>-0.021762161</td><td>-0.100122404</td><td>-0.38449632</td></tr>\n",
       "\t<tr><th scope=row>X65_older</th><td>-0.24764403</td><td> 0.027010271</td><td>-0.278376038</td><td> 0.01586335</td></tr>\n",
       "</tbody>\n",
       "</table>\n"
      ],
      "text/latex": [
       "A data.frame: 23 × 4\n",
       "\\begin{tabular}{r|llll}\n",
       "  & PC1 & PC2 & PC3 & PC4\\\\\n",
       "  & <dbl> & <dbl> & <dbl> & <dbl>\\\\\n",
       "\\hline\n",
       "\tmedian\\_income & -0.06543787 &  0.451689774 & -0.053048367 & -0.11546258\\\\\n",
       "\tmean\\_income & -0.05892118 &  0.439486946 & -0.072082999 & -0.09629520\\\\\n",
       "\tinternet\\_with\\_subscription & -0.33668618 &  0.012214271 &  0.031885733 &  0.07367151\\\\\n",
       "\tdialup & -0.03251846 & -0.130400755 & -0.224470222 & -0.34833485\\\\\n",
       "\tbroadband & -0.31755563 &  0.031252845 &  0.103118128 &  0.20580560\\\\\n",
       "\tsatellite & -0.07254968 &  0.043669244 & -0.242454496 & -0.55587292\\\\\n",
       "\tother & -0.11100219 &  0.073451058 & -0.137651627 & -0.35544064\\\\\n",
       "\tinternet\\_without\\_subscription & -0.10495514 & -0.227179658 &  0.119509269 & -0.02083965\\\\\n",
       "\tno\\_internet & -0.12680559 & -0.347503444 & -0.263660813 & -0.04607166\\\\\n",
       "\ttotal\\_native & -0.31057773 &  0.037692284 & -0.007303641 &  0.02875694\\\\\n",
       "\ttotal\\_foreign\\_born & -0.11203744 & -0.131299998 &  0.462036636 & -0.26393190\\\\\n",
       "\tnot\\_citizen & -0.06692988 & -0.181540607 &  0.433199587 & -0.24916913\\\\\n",
       "\tnaturalized\\_citizen & -0.15547607 &  0.021529451 &  0.330573285 & -0.18545631\\\\\n",
       "\tcomputer & -0.33877747 & -0.024915288 &  0.023937837 &  0.05665904\\\\\n",
       "\tno\\_computer & -0.10387851 & -0.344429981 & -0.211676251 &  0.02000171\\\\\n",
       "\twork\\_from\\_home & -0.17071715 &  0.266778720 & -0.035670469 & -0.02434973\\\\\n",
       "\tdesktop\\_laptop & -0.33382954 &  0.055377939 &  0.024929104 &  0.06966495\\\\\n",
       "\tonly\\_desktop\\_laptop & -0.14859554 & -0.136885906 & -0.296706626 &  0.09623041\\\\\n",
       "\twith\\_smartphone & -0.33376565 & -0.004594375 &  0.074149844 &  0.05107856\\\\\n",
       "\tonly\\_smartphone & -0.10494225 & -0.328739469 &  0.016609224 & -0.06777823\\\\\n",
       "\twith\\_tablet & -0.32847806 &  0.100209338 &  0.036658932 &  0.05476466\\\\\n",
       "\tonly\\_other & -0.02732603 & -0.021762161 & -0.100122404 & -0.38449632\\\\\n",
       "\tX65\\_older & -0.24764403 &  0.027010271 & -0.278376038 &  0.01586335\\\\\n",
       "\\end{tabular}\n"
      ],
      "text/markdown": [
       "\n",
       "A data.frame: 23 × 4\n",
       "\n",
       "| <!--/--> | PC1 &lt;dbl&gt; | PC2 &lt;dbl&gt; | PC3 &lt;dbl&gt; | PC4 &lt;dbl&gt; |\n",
       "|---|---|---|---|---|\n",
       "| median_income | -0.06543787 |  0.451689774 | -0.053048367 | -0.11546258 |\n",
       "| mean_income | -0.05892118 |  0.439486946 | -0.072082999 | -0.09629520 |\n",
       "| internet_with_subscription | -0.33668618 |  0.012214271 |  0.031885733 |  0.07367151 |\n",
       "| dialup | -0.03251846 | -0.130400755 | -0.224470222 | -0.34833485 |\n",
       "| broadband | -0.31755563 |  0.031252845 |  0.103118128 |  0.20580560 |\n",
       "| satellite | -0.07254968 |  0.043669244 | -0.242454496 | -0.55587292 |\n",
       "| other | -0.11100219 |  0.073451058 | -0.137651627 | -0.35544064 |\n",
       "| internet_without_subscription | -0.10495514 | -0.227179658 |  0.119509269 | -0.02083965 |\n",
       "| no_internet | -0.12680559 | -0.347503444 | -0.263660813 | -0.04607166 |\n",
       "| total_native | -0.31057773 |  0.037692284 | -0.007303641 |  0.02875694 |\n",
       "| total_foreign_born | -0.11203744 | -0.131299998 |  0.462036636 | -0.26393190 |\n",
       "| not_citizen | -0.06692988 | -0.181540607 |  0.433199587 | -0.24916913 |\n",
       "| naturalized_citizen | -0.15547607 |  0.021529451 |  0.330573285 | -0.18545631 |\n",
       "| computer | -0.33877747 | -0.024915288 |  0.023937837 |  0.05665904 |\n",
       "| no_computer | -0.10387851 | -0.344429981 | -0.211676251 |  0.02000171 |\n",
       "| work_from_home | -0.17071715 |  0.266778720 | -0.035670469 | -0.02434973 |\n",
       "| desktop_laptop | -0.33382954 |  0.055377939 |  0.024929104 |  0.06966495 |\n",
       "| only_desktop_laptop | -0.14859554 | -0.136885906 | -0.296706626 |  0.09623041 |\n",
       "| with_smartphone | -0.33376565 | -0.004594375 |  0.074149844 |  0.05107856 |\n",
       "| only_smartphone | -0.10494225 | -0.328739469 |  0.016609224 | -0.06777823 |\n",
       "| with_tablet | -0.32847806 |  0.100209338 |  0.036658932 |  0.05476466 |\n",
       "| only_other | -0.02732603 | -0.021762161 | -0.100122404 | -0.38449632 |\n",
       "| X65_older | -0.24764403 |  0.027010271 | -0.278376038 |  0.01586335 |\n",
       "\n"
      ],
      "text/plain": [
       "                              PC1         PC2          PC3          PC4        \n",
       "median_income                 -0.06543787  0.451689774 -0.053048367 -0.11546258\n",
       "mean_income                   -0.05892118  0.439486946 -0.072082999 -0.09629520\n",
       "internet_with_subscription    -0.33668618  0.012214271  0.031885733  0.07367151\n",
       "dialup                        -0.03251846 -0.130400755 -0.224470222 -0.34833485\n",
       "broadband                     -0.31755563  0.031252845  0.103118128  0.20580560\n",
       "satellite                     -0.07254968  0.043669244 -0.242454496 -0.55587292\n",
       "other                         -0.11100219  0.073451058 -0.137651627 -0.35544064\n",
       "internet_without_subscription -0.10495514 -0.227179658  0.119509269 -0.02083965\n",
       "no_internet                   -0.12680559 -0.347503444 -0.263660813 -0.04607166\n",
       "total_native                  -0.31057773  0.037692284 -0.007303641  0.02875694\n",
       "total_foreign_born            -0.11203744 -0.131299998  0.462036636 -0.26393190\n",
       "not_citizen                   -0.06692988 -0.181540607  0.433199587 -0.24916913\n",
       "naturalized_citizen           -0.15547607  0.021529451  0.330573285 -0.18545631\n",
       "computer                      -0.33877747 -0.024915288  0.023937837  0.05665904\n",
       "no_computer                   -0.10387851 -0.344429981 -0.211676251  0.02000171\n",
       "work_from_home                -0.17071715  0.266778720 -0.035670469 -0.02434973\n",
       "desktop_laptop                -0.33382954  0.055377939  0.024929104  0.06966495\n",
       "only_desktop_laptop           -0.14859554 -0.136885906 -0.296706626  0.09623041\n",
       "with_smartphone               -0.33376565 -0.004594375  0.074149844  0.05107856\n",
       "only_smartphone               -0.10494225 -0.328739469  0.016609224 -0.06777823\n",
       "with_tablet                   -0.32847806  0.100209338  0.036658932  0.05476466\n",
       "only_other                    -0.02732603 -0.021762161 -0.100122404 -0.38449632\n",
       "X65_older                     -0.24764403  0.027010271 -0.278376038  0.01586335"
      ]
     },
     "metadata": {},
     "output_type": "display_data"
    }
   ],
   "source": [
    "loadings <- loadings %>%\n",
    "    as.data.frame() %>% \n",
    "    filter(!(row.names(.) %in% c('with_other', 'only_tablet')))\n",
    "\n",
    "loadings"
   ]
  },
  {
   "attachments": {},
   "cell_type": "markdown",
   "metadata": {},
   "source": [
    "### principal component 1 - 4"
   ]
  },
  {
   "cell_type": "code",
   "execution_count": 6,
   "metadata": {
    "vscode": {
     "languageId": "r"
    }
   },
   "outputs": [
    {
     "data": {
      "text/html": [
       "<table class=\"dataframe\">\n",
       "<caption>A matrix: 6 × 4 of type dbl</caption>\n",
       "<thead>\n",
       "\t<tr><th scope=col>PC1</th><th scope=col>PC2</th><th scope=col>PC3</th><th scope=col>PC4</th></tr>\n",
       "</thead>\n",
       "<tbody>\n",
       "\t<tr><td>-2.1989489</td><td> 0.718759024</td><td> 0.29411088</td><td>-0.1789112</td></tr>\n",
       "\t<tr><td> 1.5599471</td><td> 2.491098758</td><td> 0.12922400</td><td>-0.1329475</td></tr>\n",
       "\t<tr><td> 0.4425048</td><td>-1.840370635</td><td> 0.06067167</td><td>-0.1549183</td></tr>\n",
       "\t<tr><td> 1.0644221</td><td>-1.910593156</td><td> 0.21067416</td><td>-1.1886610</td></tr>\n",
       "\t<tr><td> 5.1982744</td><td>-3.397962415</td><td> 0.52925064</td><td> 1.3271034</td></tr>\n",
       "\t<tr><td>-4.5947489</td><td> 0.007851633</td><td>-0.11225918</td><td> 0.6261189</td></tr>\n",
       "</tbody>\n",
       "</table>\n"
      ],
      "text/latex": [
       "A matrix: 6 × 4 of type dbl\n",
       "\\begin{tabular}{llll}\n",
       " PC1 & PC2 & PC3 & PC4\\\\\n",
       "\\hline\n",
       "\t -2.1989489 &  0.718759024 &  0.29411088 & -0.1789112\\\\\n",
       "\t  1.5599471 &  2.491098758 &  0.12922400 & -0.1329475\\\\\n",
       "\t  0.4425048 & -1.840370635 &  0.06067167 & -0.1549183\\\\\n",
       "\t  1.0644221 & -1.910593156 &  0.21067416 & -1.1886610\\\\\n",
       "\t  5.1982744 & -3.397962415 &  0.52925064 &  1.3271034\\\\\n",
       "\t -4.5947489 &  0.007851633 & -0.11225918 &  0.6261189\\\\\n",
       "\\end{tabular}\n"
      ],
      "text/markdown": [
       "\n",
       "A matrix: 6 × 4 of type dbl\n",
       "\n",
       "| PC1 | PC2 | PC3 | PC4 |\n",
       "|---|---|---|---|\n",
       "| -2.1989489 |  0.718759024 |  0.29411088 | -0.1789112 |\n",
       "|  1.5599471 |  2.491098758 |  0.12922400 | -0.1329475 |\n",
       "|  0.4425048 | -1.840370635 |  0.06067167 | -0.1549183 |\n",
       "|  1.0644221 | -1.910593156 |  0.21067416 | -1.1886610 |\n",
       "|  5.1982744 | -3.397962415 |  0.52925064 |  1.3271034 |\n",
       "| -4.5947489 |  0.007851633 | -0.11225918 |  0.6261189 |\n",
       "\n"
      ],
      "text/plain": [
       "     PC1        PC2          PC3         PC4       \n",
       "[1,] -2.1989489  0.718759024  0.29411088 -0.1789112\n",
       "[2,]  1.5599471  2.491098758  0.12922400 -0.1329475\n",
       "[3,]  0.4425048 -1.840370635  0.06067167 -0.1549183\n",
       "[4,]  1.0644221 -1.910593156  0.21067416 -1.1886610\n",
       "[5,]  5.1982744 -3.397962415  0.52925064  1.3271034\n",
       "[6,] -4.5947489  0.007851633 -0.11225918  0.6261189"
      ]
     },
     "metadata": {},
     "output_type": "display_data"
    }
   ],
   "source": [
    "head(pc_tract)"
   ]
  },
  {
   "attachments": {},
   "cell_type": "markdown",
   "metadata": {},
   "source": [
    "multiply eigen vectors by eigen values"
   ]
  },
  {
   "cell_type": "code",
   "execution_count": 7,
   "metadata": {
    "vscode": {
     "languageId": "r"
    }
   },
   "outputs": [],
   "source": [
    "variable_weights <- loadings\n",
    "\n",
    "for(i in 1:ncol(variable_weights)){\n",
    "    variable_weights[, i] <- variable_weights[, i] * eigen_value[i]\n",
    "}"
   ]
  },
  {
   "attachments": {},
   "cell_type": "markdown",
   "metadata": {},
   "source": [
    "prove that it worked"
   ]
  },
  {
   "cell_type": "code",
   "execution_count": 8,
   "metadata": {
    "vscode": {
     "languageId": "r"
    }
   },
   "outputs": [
    {
     "data": {
      "text/html": [
       "<table class=\"dataframe\">\n",
       "<caption>A data.frame: 23 × 5</caption>\n",
       "<thead>\n",
       "\t<tr><th></th><th scope=col>PC1</th><th scope=col>PC2</th><th scope=col>PC3</th><th scope=col>PC4</th><th scope=col>weight</th></tr>\n",
       "\t<tr><th></th><th scope=col>&lt;dbl&gt;</th><th scope=col>&lt;dbl&gt;</th><th scope=col>&lt;dbl&gt;</th><th scope=col>&lt;dbl&gt;</th><th scope=col>&lt;dbl&gt;</th></tr>\n",
       "</thead>\n",
       "<tbody>\n",
       "\t<tr><th scope=row>median_income</th><td>-0.5497991</td><td> 1.67261572</td><td>-0.15949306</td><td>-0.16295957</td><td> 0.8003640</td></tr>\n",
       "\t<tr><th scope=row>mean_income</th><td>-0.4950468</td><td> 1.62742842</td><td>-0.21672181</td><td>-0.13590744</td><td> 0.7797523</td></tr>\n",
       "\t<tr><th scope=row>internet_with_subscription</th><td>-2.8287862</td><td> 0.04522967</td><td> 0.09586635</td><td> 0.10397722</td><td>-2.5837130</td></tr>\n",
       "\t<tr><th scope=row>dialup</th><td>-0.2732152</td><td>-0.48287644</td><td>-0.67488304</td><td>-0.49162678</td><td>-1.9226015</td></tr>\n",
       "\t<tr><th scope=row>broadband</th><td>-2.6680543</td><td> 0.11572987</td><td> 0.31003077</td><td> 0.29046632</td><td>-1.9518273</td></tr>\n",
       "\t<tr><th scope=row>satellite</th><td>-0.6095514</td><td> 0.16170803</td><td>-0.72895382</td><td>-0.78453824</td><td>-1.9613355</td></tr>\n",
       "\t<tr><th scope=row>other</th><td>-0.9326236</td><td> 0.27199065</td><td>-0.41385778</td><td>-0.50165562</td><td>-1.5761464</td></tr>\n",
       "\t<tr><th scope=row>internet_without_subscription</th><td>-0.8818172</td><td>-0.84125054</td><td> 0.35931171</td><td>-0.02941230</td><td>-1.3931684</td></tr>\n",
       "\t<tr><th scope=row>no_internet</th><td>-1.0654013</td><td>-1.28681178</td><td>-0.79271187</td><td>-0.06502381</td><td>-3.2099488</td></tr>\n",
       "\t<tr><th scope=row>total_native</th><td>-2.6094270</td><td> 0.13957524</td><td>-0.02195883</td><td> 0.04058647</td><td>-2.4512241</td></tr>\n",
       "\t<tr><th scope=row>total_foreign_born</th><td>-0.9413216</td><td>-0.48620636</td><td> 1.38914055</td><td>-0.37250360</td><td>-0.4108910</td></tr>\n",
       "\t<tr><th scope=row>not_citizen</th><td>-0.5623347</td><td>-0.67224828</td><td> 1.30244025</td><td>-0.35166798</td><td>-0.2838107</td></tr>\n",
       "\t<tr><th scope=row>naturalized_citizen</th><td>-1.3062864</td><td> 0.07972396</td><td> 0.99388819</td><td>-0.26174610</td><td>-0.4944203</td></tr>\n",
       "\t<tr><th scope=row>computer</th><td>-2.8463570</td><td>-0.09226178</td><td> 0.07197053</td><td> 0.07996645</td><td>-2.7866818</td></tr>\n",
       "\t<tr><th scope=row>no_computer</th><td>-0.8727715</td><td>-1.27543069</td><td>-0.63641720</td><td> 0.02822967</td><td>-2.7563897</td></tr>\n",
       "\t<tr><th scope=row>work_from_home</th><td>-1.4343396</td><td> 0.98788661</td><td>-0.10724538</td><td>-0.03436630</td><td>-0.5880647</td></tr>\n",
       "\t<tr><th scope=row>desktop_laptop</th><td>-2.8047852</td><td> 0.20506555</td><td> 0.07495083</td><td> 0.09832250</td><td>-2.4264464</td></tr>\n",
       "\t<tr><th scope=row>only_desktop_laptop</th><td>-1.2484773</td><td>-0.50689108</td><td>-0.89206607</td><td> 0.13581599</td><td>-2.5116184</td></tr>\n",
       "\t<tr><th scope=row>with_smartphone</th><td>-2.8042484</td><td>-0.01701306</td><td> 0.22293590</td><td> 0.07209037</td><td>-2.5262352</td></tr>\n",
       "\t<tr><th scope=row>only_smartphone</th><td>-0.8817089</td><td>-1.21732843</td><td> 0.04993662</td><td>-0.09565966</td><td>-2.1447603</td></tr>\n",
       "\t<tr><th scope=row>with_tablet</th><td>-2.7598229</td><td> 0.37107706</td><td> 0.11021725</td><td> 0.07729279</td><td>-2.2012358</td></tr>\n",
       "\t<tr><th scope=row>only_other</th><td>-0.2295891</td><td>-0.08058569</td><td>-0.30102395</td><td>-0.54266371</td><td>-1.1538625</td></tr>\n",
       "\t<tr><th scope=row>X65_older</th><td>-2.0806677</td><td> 0.10001954</td><td>-0.83695407</td><td> 0.02238894</td><td>-2.7952132</td></tr>\n",
       "</tbody>\n",
       "</table>\n"
      ],
      "text/latex": [
       "A data.frame: 23 × 5\n",
       "\\begin{tabular}{r|lllll}\n",
       "  & PC1 & PC2 & PC3 & PC4 & weight\\\\\n",
       "  & <dbl> & <dbl> & <dbl> & <dbl> & <dbl>\\\\\n",
       "\\hline\n",
       "\tmedian\\_income & -0.5497991 &  1.67261572 & -0.15949306 & -0.16295957 &  0.8003640\\\\\n",
       "\tmean\\_income & -0.4950468 &  1.62742842 & -0.21672181 & -0.13590744 &  0.7797523\\\\\n",
       "\tinternet\\_with\\_subscription & -2.8287862 &  0.04522967 &  0.09586635 &  0.10397722 & -2.5837130\\\\\n",
       "\tdialup & -0.2732152 & -0.48287644 & -0.67488304 & -0.49162678 & -1.9226015\\\\\n",
       "\tbroadband & -2.6680543 &  0.11572987 &  0.31003077 &  0.29046632 & -1.9518273\\\\\n",
       "\tsatellite & -0.6095514 &  0.16170803 & -0.72895382 & -0.78453824 & -1.9613355\\\\\n",
       "\tother & -0.9326236 &  0.27199065 & -0.41385778 & -0.50165562 & -1.5761464\\\\\n",
       "\tinternet\\_without\\_subscription & -0.8818172 & -0.84125054 &  0.35931171 & -0.02941230 & -1.3931684\\\\\n",
       "\tno\\_internet & -1.0654013 & -1.28681178 & -0.79271187 & -0.06502381 & -3.2099488\\\\\n",
       "\ttotal\\_native & -2.6094270 &  0.13957524 & -0.02195883 &  0.04058647 & -2.4512241\\\\\n",
       "\ttotal\\_foreign\\_born & -0.9413216 & -0.48620636 &  1.38914055 & -0.37250360 & -0.4108910\\\\\n",
       "\tnot\\_citizen & -0.5623347 & -0.67224828 &  1.30244025 & -0.35166798 & -0.2838107\\\\\n",
       "\tnaturalized\\_citizen & -1.3062864 &  0.07972396 &  0.99388819 & -0.26174610 & -0.4944203\\\\\n",
       "\tcomputer & -2.8463570 & -0.09226178 &  0.07197053 &  0.07996645 & -2.7866818\\\\\n",
       "\tno\\_computer & -0.8727715 & -1.27543069 & -0.63641720 &  0.02822967 & -2.7563897\\\\\n",
       "\twork\\_from\\_home & -1.4343396 &  0.98788661 & -0.10724538 & -0.03436630 & -0.5880647\\\\\n",
       "\tdesktop\\_laptop & -2.8047852 &  0.20506555 &  0.07495083 &  0.09832250 & -2.4264464\\\\\n",
       "\tonly\\_desktop\\_laptop & -1.2484773 & -0.50689108 & -0.89206607 &  0.13581599 & -2.5116184\\\\\n",
       "\twith\\_smartphone & -2.8042484 & -0.01701306 &  0.22293590 &  0.07209037 & -2.5262352\\\\\n",
       "\tonly\\_smartphone & -0.8817089 & -1.21732843 &  0.04993662 & -0.09565966 & -2.1447603\\\\\n",
       "\twith\\_tablet & -2.7598229 &  0.37107706 &  0.11021725 &  0.07729279 & -2.2012358\\\\\n",
       "\tonly\\_other & -0.2295891 & -0.08058569 & -0.30102395 & -0.54266371 & -1.1538625\\\\\n",
       "\tX65\\_older & -2.0806677 &  0.10001954 & -0.83695407 &  0.02238894 & -2.7952132\\\\\n",
       "\\end{tabular}\n"
      ],
      "text/markdown": [
       "\n",
       "A data.frame: 23 × 5\n",
       "\n",
       "| <!--/--> | PC1 &lt;dbl&gt; | PC2 &lt;dbl&gt; | PC3 &lt;dbl&gt; | PC4 &lt;dbl&gt; | weight &lt;dbl&gt; |\n",
       "|---|---|---|---|---|---|\n",
       "| median_income | -0.5497991 |  1.67261572 | -0.15949306 | -0.16295957 |  0.8003640 |\n",
       "| mean_income | -0.4950468 |  1.62742842 | -0.21672181 | -0.13590744 |  0.7797523 |\n",
       "| internet_with_subscription | -2.8287862 |  0.04522967 |  0.09586635 |  0.10397722 | -2.5837130 |\n",
       "| dialup | -0.2732152 | -0.48287644 | -0.67488304 | -0.49162678 | -1.9226015 |\n",
       "| broadband | -2.6680543 |  0.11572987 |  0.31003077 |  0.29046632 | -1.9518273 |\n",
       "| satellite | -0.6095514 |  0.16170803 | -0.72895382 | -0.78453824 | -1.9613355 |\n",
       "| other | -0.9326236 |  0.27199065 | -0.41385778 | -0.50165562 | -1.5761464 |\n",
       "| internet_without_subscription | -0.8818172 | -0.84125054 |  0.35931171 | -0.02941230 | -1.3931684 |\n",
       "| no_internet | -1.0654013 | -1.28681178 | -0.79271187 | -0.06502381 | -3.2099488 |\n",
       "| total_native | -2.6094270 |  0.13957524 | -0.02195883 |  0.04058647 | -2.4512241 |\n",
       "| total_foreign_born | -0.9413216 | -0.48620636 |  1.38914055 | -0.37250360 | -0.4108910 |\n",
       "| not_citizen | -0.5623347 | -0.67224828 |  1.30244025 | -0.35166798 | -0.2838107 |\n",
       "| naturalized_citizen | -1.3062864 |  0.07972396 |  0.99388819 | -0.26174610 | -0.4944203 |\n",
       "| computer | -2.8463570 | -0.09226178 |  0.07197053 |  0.07996645 | -2.7866818 |\n",
       "| no_computer | -0.8727715 | -1.27543069 | -0.63641720 |  0.02822967 | -2.7563897 |\n",
       "| work_from_home | -1.4343396 |  0.98788661 | -0.10724538 | -0.03436630 | -0.5880647 |\n",
       "| desktop_laptop | -2.8047852 |  0.20506555 |  0.07495083 |  0.09832250 | -2.4264464 |\n",
       "| only_desktop_laptop | -1.2484773 | -0.50689108 | -0.89206607 |  0.13581599 | -2.5116184 |\n",
       "| with_smartphone | -2.8042484 | -0.01701306 |  0.22293590 |  0.07209037 | -2.5262352 |\n",
       "| only_smartphone | -0.8817089 | -1.21732843 |  0.04993662 | -0.09565966 | -2.1447603 |\n",
       "| with_tablet | -2.7598229 |  0.37107706 |  0.11021725 |  0.07729279 | -2.2012358 |\n",
       "| only_other | -0.2295891 | -0.08058569 | -0.30102395 | -0.54266371 | -1.1538625 |\n",
       "| X65_older | -2.0806677 |  0.10001954 | -0.83695407 |  0.02238894 | -2.7952132 |\n",
       "\n"
      ],
      "text/plain": [
       "                              PC1        PC2         PC3         PC4        \n",
       "median_income                 -0.5497991  1.67261572 -0.15949306 -0.16295957\n",
       "mean_income                   -0.4950468  1.62742842 -0.21672181 -0.13590744\n",
       "internet_with_subscription    -2.8287862  0.04522967  0.09586635  0.10397722\n",
       "dialup                        -0.2732152 -0.48287644 -0.67488304 -0.49162678\n",
       "broadband                     -2.6680543  0.11572987  0.31003077  0.29046632\n",
       "satellite                     -0.6095514  0.16170803 -0.72895382 -0.78453824\n",
       "other                         -0.9326236  0.27199065 -0.41385778 -0.50165562\n",
       "internet_without_subscription -0.8818172 -0.84125054  0.35931171 -0.02941230\n",
       "no_internet                   -1.0654013 -1.28681178 -0.79271187 -0.06502381\n",
       "total_native                  -2.6094270  0.13957524 -0.02195883  0.04058647\n",
       "total_foreign_born            -0.9413216 -0.48620636  1.38914055 -0.37250360\n",
       "not_citizen                   -0.5623347 -0.67224828  1.30244025 -0.35166798\n",
       "naturalized_citizen           -1.3062864  0.07972396  0.99388819 -0.26174610\n",
       "computer                      -2.8463570 -0.09226178  0.07197053  0.07996645\n",
       "no_computer                   -0.8727715 -1.27543069 -0.63641720  0.02822967\n",
       "work_from_home                -1.4343396  0.98788661 -0.10724538 -0.03436630\n",
       "desktop_laptop                -2.8047852  0.20506555  0.07495083  0.09832250\n",
       "only_desktop_laptop           -1.2484773 -0.50689108 -0.89206607  0.13581599\n",
       "with_smartphone               -2.8042484 -0.01701306  0.22293590  0.07209037\n",
       "only_smartphone               -0.8817089 -1.21732843  0.04993662 -0.09565966\n",
       "with_tablet                   -2.7598229  0.37107706  0.11021725  0.07729279\n",
       "only_other                    -0.2295891 -0.08058569 -0.30102395 -0.54266371\n",
       "X65_older                     -2.0806677  0.10001954 -0.83695407  0.02238894\n",
       "                              weight    \n",
       "median_income                  0.8003640\n",
       "mean_income                    0.7797523\n",
       "internet_with_subscription    -2.5837130\n",
       "dialup                        -1.9226015\n",
       "broadband                     -1.9518273\n",
       "satellite                     -1.9613355\n",
       "other                         -1.5761464\n",
       "internet_without_subscription -1.3931684\n",
       "no_internet                   -3.2099488\n",
       "total_native                  -2.4512241\n",
       "total_foreign_born            -0.4108910\n",
       "not_citizen                   -0.2838107\n",
       "naturalized_citizen           -0.4944203\n",
       "computer                      -2.7866818\n",
       "no_computer                   -2.7563897\n",
       "work_from_home                -0.5880647\n",
       "desktop_laptop                -2.4264464\n",
       "only_desktop_laptop           -2.5116184\n",
       "with_smartphone               -2.5262352\n",
       "only_smartphone               -2.1447603\n",
       "with_tablet                   -2.2012358\n",
       "only_other                    -1.1538625\n",
       "X65_older                     -2.7952132"
      ]
     },
     "metadata": {},
     "output_type": "display_data"
    }
   ],
   "source": [
    "variable_weights %>% \n",
    "    as.data.frame() %>% \n",
    "    mutate(weight = PC1 + PC2 + PC3 +PC4)"
   ]
  },
  {
   "attachments": {},
   "cell_type": "markdown",
   "metadata": {},
   "source": [
    "transmute instead of mutate and assign to variable"
   ]
  },
  {
   "cell_type": "code",
   "execution_count": 9,
   "metadata": {
    "vscode": {
     "languageId": "r"
    }
   },
   "outputs": [],
   "source": [
    "variable_weights <- variable_weights %>% \n",
    "    as.data.frame() %>% \n",
    "    transmute(weight = PC1 + PC2 + PC3 + PC4)"
   ]
  },
  {
   "cell_type": "code",
   "execution_count": 10,
   "metadata": {
    "vscode": {
     "languageId": "r"
    }
   },
   "outputs": [
    {
     "data": {
      "text/html": [
       "<table class=\"dataframe\">\n",
       "<caption>A data.frame: 23 × 1</caption>\n",
       "<thead>\n",
       "\t<tr><th></th><th scope=col>weight</th></tr>\n",
       "\t<tr><th></th><th scope=col>&lt;dbl&gt;</th></tr>\n",
       "</thead>\n",
       "<tbody>\n",
       "\t<tr><th scope=row>median_income</th><td> 0.8003640</td></tr>\n",
       "\t<tr><th scope=row>mean_income</th><td> 0.7797523</td></tr>\n",
       "\t<tr><th scope=row>internet_with_subscription</th><td>-2.5837130</td></tr>\n",
       "\t<tr><th scope=row>dialup</th><td>-1.9226015</td></tr>\n",
       "\t<tr><th scope=row>broadband</th><td>-1.9518273</td></tr>\n",
       "\t<tr><th scope=row>satellite</th><td>-1.9613355</td></tr>\n",
       "\t<tr><th scope=row>other</th><td>-1.5761464</td></tr>\n",
       "\t<tr><th scope=row>internet_without_subscription</th><td>-1.3931684</td></tr>\n",
       "\t<tr><th scope=row>no_internet</th><td>-3.2099488</td></tr>\n",
       "\t<tr><th scope=row>total_native</th><td>-2.4512241</td></tr>\n",
       "\t<tr><th scope=row>total_foreign_born</th><td>-0.4108910</td></tr>\n",
       "\t<tr><th scope=row>not_citizen</th><td>-0.2838107</td></tr>\n",
       "\t<tr><th scope=row>naturalized_citizen</th><td>-0.4944203</td></tr>\n",
       "\t<tr><th scope=row>computer</th><td>-2.7866818</td></tr>\n",
       "\t<tr><th scope=row>no_computer</th><td>-2.7563897</td></tr>\n",
       "\t<tr><th scope=row>work_from_home</th><td>-0.5880647</td></tr>\n",
       "\t<tr><th scope=row>desktop_laptop</th><td>-2.4264464</td></tr>\n",
       "\t<tr><th scope=row>only_desktop_laptop</th><td>-2.5116184</td></tr>\n",
       "\t<tr><th scope=row>with_smartphone</th><td>-2.5262352</td></tr>\n",
       "\t<tr><th scope=row>only_smartphone</th><td>-2.1447603</td></tr>\n",
       "\t<tr><th scope=row>with_tablet</th><td>-2.2012358</td></tr>\n",
       "\t<tr><th scope=row>only_other</th><td>-1.1538625</td></tr>\n",
       "\t<tr><th scope=row>X65_older</th><td>-2.7952132</td></tr>\n",
       "</tbody>\n",
       "</table>\n"
      ],
      "text/latex": [
       "A data.frame: 23 × 1\n",
       "\\begin{tabular}{r|l}\n",
       "  & weight\\\\\n",
       "  & <dbl>\\\\\n",
       "\\hline\n",
       "\tmedian\\_income &  0.8003640\\\\\n",
       "\tmean\\_income &  0.7797523\\\\\n",
       "\tinternet\\_with\\_subscription & -2.5837130\\\\\n",
       "\tdialup & -1.9226015\\\\\n",
       "\tbroadband & -1.9518273\\\\\n",
       "\tsatellite & -1.9613355\\\\\n",
       "\tother & -1.5761464\\\\\n",
       "\tinternet\\_without\\_subscription & -1.3931684\\\\\n",
       "\tno\\_internet & -3.2099488\\\\\n",
       "\ttotal\\_native & -2.4512241\\\\\n",
       "\ttotal\\_foreign\\_born & -0.4108910\\\\\n",
       "\tnot\\_citizen & -0.2838107\\\\\n",
       "\tnaturalized\\_citizen & -0.4944203\\\\\n",
       "\tcomputer & -2.7866818\\\\\n",
       "\tno\\_computer & -2.7563897\\\\\n",
       "\twork\\_from\\_home & -0.5880647\\\\\n",
       "\tdesktop\\_laptop & -2.4264464\\\\\n",
       "\tonly\\_desktop\\_laptop & -2.5116184\\\\\n",
       "\twith\\_smartphone & -2.5262352\\\\\n",
       "\tonly\\_smartphone & -2.1447603\\\\\n",
       "\twith\\_tablet & -2.2012358\\\\\n",
       "\tonly\\_other & -1.1538625\\\\\n",
       "\tX65\\_older & -2.7952132\\\\\n",
       "\\end{tabular}\n"
      ],
      "text/markdown": [
       "\n",
       "A data.frame: 23 × 1\n",
       "\n",
       "| <!--/--> | weight &lt;dbl&gt; |\n",
       "|---|---|\n",
       "| median_income |  0.8003640 |\n",
       "| mean_income |  0.7797523 |\n",
       "| internet_with_subscription | -2.5837130 |\n",
       "| dialup | -1.9226015 |\n",
       "| broadband | -1.9518273 |\n",
       "| satellite | -1.9613355 |\n",
       "| other | -1.5761464 |\n",
       "| internet_without_subscription | -1.3931684 |\n",
       "| no_internet | -3.2099488 |\n",
       "| total_native | -2.4512241 |\n",
       "| total_foreign_born | -0.4108910 |\n",
       "| not_citizen | -0.2838107 |\n",
       "| naturalized_citizen | -0.4944203 |\n",
       "| computer | -2.7866818 |\n",
       "| no_computer | -2.7563897 |\n",
       "| work_from_home | -0.5880647 |\n",
       "| desktop_laptop | -2.4264464 |\n",
       "| only_desktop_laptop | -2.5116184 |\n",
       "| with_smartphone | -2.5262352 |\n",
       "| only_smartphone | -2.1447603 |\n",
       "| with_tablet | -2.2012358 |\n",
       "| only_other | -1.1538625 |\n",
       "| X65_older | -2.7952132 |\n",
       "\n"
      ],
      "text/plain": [
       "                              weight    \n",
       "median_income                  0.8003640\n",
       "mean_income                    0.7797523\n",
       "internet_with_subscription    -2.5837130\n",
       "dialup                        -1.9226015\n",
       "broadband                     -1.9518273\n",
       "satellite                     -1.9613355\n",
       "other                         -1.5761464\n",
       "internet_without_subscription -1.3931684\n",
       "no_internet                   -3.2099488\n",
       "total_native                  -2.4512241\n",
       "total_foreign_born            -0.4108910\n",
       "not_citizen                   -0.2838107\n",
       "naturalized_citizen           -0.4944203\n",
       "computer                      -2.7866818\n",
       "no_computer                   -2.7563897\n",
       "work_from_home                -0.5880647\n",
       "desktop_laptop                -2.4264464\n",
       "only_desktop_laptop           -2.5116184\n",
       "with_smartphone               -2.5262352\n",
       "only_smartphone               -2.1447603\n",
       "with_tablet                   -2.2012358\n",
       "only_other                    -1.1538625\n",
       "X65_older                     -2.7952132"
      ]
     },
     "metadata": {},
     "output_type": "display_data"
    }
   ],
   "source": [
    "variable_weights"
   ]
  },
  {
   "attachments": {},
   "cell_type": "markdown",
   "metadata": {},
   "source": [
    "### separate tract and county from dataset to append later"
   ]
  },
  {
   "cell_type": "code",
   "execution_count": 11,
   "metadata": {
    "vscode": {
     "languageId": "r"
    }
   },
   "outputs": [
    {
     "data": {
      "text/html": [
       "<table class=\"dataframe\">\n",
       "<caption>A data.frame: 6 × 2</caption>\n",
       "<thead>\n",
       "\t<tr><th></th><th scope=col>tract</th><th scope=col>county</th></tr>\n",
       "\t<tr><th></th><th scope=col>&lt;dbl&gt;</th><th scope=col>&lt;chr&gt;</th></tr>\n",
       "</thead>\n",
       "<tbody>\n",
       "\t<tr><th scope=row>1</th><td>9501.00</td><td>adams  </td></tr>\n",
       "\t<tr><th scope=row>2</th><td> 127.01</td><td>spokane</td></tr>\n",
       "\t<tr><th scope=row>3</th><td> 113.01</td><td>spokane</td></tr>\n",
       "\t<tr><th scope=row>4</th><td> 105.07</td><td>spokane</td></tr>\n",
       "\t<tr><th scope=row>5</th><td>  49.00</td><td>spokane</td></tr>\n",
       "\t<tr><th scope=row>6</th><td>9502.00</td><td>adams  </td></tr>\n",
       "</tbody>\n",
       "</table>\n"
      ],
      "text/latex": [
       "A data.frame: 6 × 2\n",
       "\\begin{tabular}{r|ll}\n",
       "  & tract & county\\\\\n",
       "  & <dbl> & <chr>\\\\\n",
       "\\hline\n",
       "\t1 & 9501.00 & adams  \\\\\n",
       "\t2 &  127.01 & spokane\\\\\n",
       "\t3 &  113.01 & spokane\\\\\n",
       "\t4 &  105.07 & spokane\\\\\n",
       "\t5 &   49.00 & spokane\\\\\n",
       "\t6 & 9502.00 & adams  \\\\\n",
       "\\end{tabular}\n"
      ],
      "text/markdown": [
       "\n",
       "A data.frame: 6 × 2\n",
       "\n",
       "| <!--/--> | tract &lt;dbl&gt; | county &lt;chr&gt; |\n",
       "|---|---|---|\n",
       "| 1 | 9501.00 | adams   |\n",
       "| 2 |  127.01 | spokane |\n",
       "| 3 |  113.01 | spokane |\n",
       "| 4 |  105.07 | spokane |\n",
       "| 5 |   49.00 | spokane |\n",
       "| 6 | 9502.00 | adams   |\n",
       "\n"
      ],
      "text/plain": [
       "  tract   county \n",
       "1 9501.00 adams  \n",
       "2  127.01 spokane\n",
       "3  113.01 spokane\n",
       "4  105.07 spokane\n",
       "5   49.00 spokane\n",
       "6 9502.00 adams  "
      ]
     },
     "metadata": {},
     "output_type": "display_data"
    }
   ],
   "source": [
    "tract_county <- standardized_data_all %>%\n",
    "    select(tract, county)\n",
    "\n",
    "head(tract_county)"
   ]
  },
  {
   "cell_type": "code",
   "execution_count": 12,
   "metadata": {
    "vscode": {
     "languageId": "r"
    }
   },
   "outputs": [
    {
     "data": {
      "text/html": [
       "<table class=\"dataframe\">\n",
       "<caption>A data.frame: 6 × 23</caption>\n",
       "<thead>\n",
       "\t<tr><th></th><th scope=col>median_income</th><th scope=col>mean_income</th><th scope=col>internet_with_subscription</th><th scope=col>dialup</th><th scope=col>broadband</th><th scope=col>satellite</th><th scope=col>other</th><th scope=col>internet_without_subscription</th><th scope=col>no_internet</th><th scope=col>total_native</th><th scope=col>⋯</th><th scope=col>computer</th><th scope=col>no_computer</th><th scope=col>work_from_home</th><th scope=col>desktop_laptop</th><th scope=col>only_desktop_laptop</th><th scope=col>with_smartphone</th><th scope=col>only_smartphone</th><th scope=col>with_tablet</th><th scope=col>only_other</th><th scope=col>X65_older</th></tr>\n",
       "\t<tr><th></th><th scope=col>&lt;dbl&gt;</th><th scope=col>&lt;dbl&gt;</th><th scope=col>&lt;dbl&gt;</th><th scope=col>&lt;dbl&gt;</th><th scope=col>&lt;dbl&gt;</th><th scope=col>&lt;dbl&gt;</th><th scope=col>&lt;dbl&gt;</th><th scope=col>&lt;dbl&gt;</th><th scope=col>&lt;dbl&gt;</th><th scope=col>&lt;dbl&gt;</th><th scope=col>⋯</th><th scope=col>&lt;dbl&gt;</th><th scope=col>&lt;dbl&gt;</th><th scope=col>&lt;dbl&gt;</th><th scope=col>&lt;dbl&gt;</th><th scope=col>&lt;dbl&gt;</th><th scope=col>&lt;dbl&gt;</th><th scope=col>&lt;dbl&gt;</th><th scope=col>&lt;dbl&gt;</th><th scope=col>&lt;dbl&gt;</th><th scope=col>&lt;dbl&gt;</th></tr>\n",
       "</thead>\n",
       "<tbody>\n",
       "\t<tr><th scope=row>1</th><td>-0.37527485</td><td>-0.5051425</td><td>-0.7602276</td><td>-0.11230979</td><td>-0.9066067</td><td>-0.21813555</td><td>-0.15230123</td><td> 0.1937755</td><td>-0.1106240</td><td>-0.79134866</td><td>⋯</td><td>-0.6760731</td><td>-0.3352009</td><td>-0.5191573</td><td>-0.8890219</td><td> 0.08031281</td><td>-0.7466512</td><td> 0.5400941</td><td>-0.77593705</td><td>-0.1547152</td><td>-0.3860114</td></tr>\n",
       "\t<tr><th scope=row>2</th><td>-0.53977395</td><td>-0.2257183</td><td> 0.3437704</td><td> 0.03971411</td><td> 0.4976273</td><td>-0.50426766</td><td> 0.05464243</td><td> 1.1009735</td><td> 1.0378580</td><td>-0.18927099</td><td>⋯</td><td> 0.2960218</td><td> 2.2867807</td><td>-0.9020994</td><td> 0.3525052</td><td> 2.27822755</td><td> 0.1076615</td><td> 0.2461698</td><td> 0.07062326</td><td>-0.1547152</td><td> 0.6108278</td></tr>\n",
       "\t<tr><th scope=row>3</th><td> 1.38734090</td><td> 0.8703809</td><td> 0.2943660</td><td>-0.49236954</td><td> 0.1530057</td><td> 0.45904378</td><td>-0.84211343</td><td>-0.7689652</td><td>-0.2087848</td><td> 0.03081936</td><td>⋯</td><td> 0.1225625</td><td> 0.3046128</td><td>-0.8617897</td><td> 0.4618220</td><td>-1.23104808</td><td> 0.3006941</td><td>-1.2587224</td><td> 0.46263840</td><td>-0.1547152</td><td> 1.4232986</td></tr>\n",
       "\t<tr><th scope=row>4</th><td> 0.93409058</td><td> 1.3372338</td><td> 0.4083762</td><td>-0.49236954</td><td> 0.8006566</td><td>-0.43750350</td><td>-0.84211343</td><td>-0.1950236</td><td>-0.4541869</td><td> 0.29268957</td><td>⋯</td><td> 0.3484210</td><td>-0.4355638</td><td> 0.2064174</td><td> 0.5633305</td><td>-0.15979552</td><td> 0.4153669</td><td>-0.7179018</td><td> 0.51554842</td><td>-0.1547152</td><td> 1.1670578</td></tr>\n",
       "\t<tr><th scope=row>5</th><td> 1.40546740</td><td> 2.1175141</td><td> 1.7707971</td><td> 0.49578581</td><td> 1.7988709</td><td> 0.89777968</td><td> 3.05532550</td><td>-0.5282801</td><td>-0.8664625</td><td> 1.37150531</td><td>⋯</td><td> 1.5499882</td><td>-0.5359268</td><td> 1.6676441</td><td> 1.8321868</td><td> 1.07768589</td><td> 1.5640065</td><td>-1.1176388</td><td> 1.60020381</td><td>-0.1547152</td><td> 2.2670183</td></tr>\n",
       "\t<tr><th scope=row>6</th><td>-0.05501073</td><td>-0.6055081</td><td>-1.5639990</td><td>-0.34034564</td><td>-1.6473451</td><td> 0.02030788</td><td> 0.33056731</td><td>-0.6023370</td><td>-0.3167618</td><td>-1.43371406</td><td>⋯</td><td>-1.5343354</td><td>-0.4857453</td><td>-0.8718671</td><td>-1.4863604</td><td>-1.15716859</td><td>-1.4423331</td><td>-0.4592484</td><td>-1.44212229</td><td>-0.1547152</td><td>-1.2516053</td></tr>\n",
       "</tbody>\n",
       "</table>\n"
      ],
      "text/latex": [
       "A data.frame: 6 × 23\n",
       "\\begin{tabular}{r|lllllllllllllllllllll}\n",
       "  & median\\_income & mean\\_income & internet\\_with\\_subscription & dialup & broadband & satellite & other & internet\\_without\\_subscription & no\\_internet & total\\_native & ⋯ & computer & no\\_computer & work\\_from\\_home & desktop\\_laptop & only\\_desktop\\_laptop & with\\_smartphone & only\\_smartphone & with\\_tablet & only\\_other & X65\\_older\\\\\n",
       "  & <dbl> & <dbl> & <dbl> & <dbl> & <dbl> & <dbl> & <dbl> & <dbl> & <dbl> & <dbl> & ⋯ & <dbl> & <dbl> & <dbl> & <dbl> & <dbl> & <dbl> & <dbl> & <dbl> & <dbl> & <dbl>\\\\\n",
       "\\hline\n",
       "\t1 & -0.37527485 & -0.5051425 & -0.7602276 & -0.11230979 & -0.9066067 & -0.21813555 & -0.15230123 &  0.1937755 & -0.1106240 & -0.79134866 & ⋯ & -0.6760731 & -0.3352009 & -0.5191573 & -0.8890219 &  0.08031281 & -0.7466512 &  0.5400941 & -0.77593705 & -0.1547152 & -0.3860114\\\\\n",
       "\t2 & -0.53977395 & -0.2257183 &  0.3437704 &  0.03971411 &  0.4976273 & -0.50426766 &  0.05464243 &  1.1009735 &  1.0378580 & -0.18927099 & ⋯ &  0.2960218 &  2.2867807 & -0.9020994 &  0.3525052 &  2.27822755 &  0.1076615 &  0.2461698 &  0.07062326 & -0.1547152 &  0.6108278\\\\\n",
       "\t3 &  1.38734090 &  0.8703809 &  0.2943660 & -0.49236954 &  0.1530057 &  0.45904378 & -0.84211343 & -0.7689652 & -0.2087848 &  0.03081936 & ⋯ &  0.1225625 &  0.3046128 & -0.8617897 &  0.4618220 & -1.23104808 &  0.3006941 & -1.2587224 &  0.46263840 & -0.1547152 &  1.4232986\\\\\n",
       "\t4 &  0.93409058 &  1.3372338 &  0.4083762 & -0.49236954 &  0.8006566 & -0.43750350 & -0.84211343 & -0.1950236 & -0.4541869 &  0.29268957 & ⋯ &  0.3484210 & -0.4355638 &  0.2064174 &  0.5633305 & -0.15979552 &  0.4153669 & -0.7179018 &  0.51554842 & -0.1547152 &  1.1670578\\\\\n",
       "\t5 &  1.40546740 &  2.1175141 &  1.7707971 &  0.49578581 &  1.7988709 &  0.89777968 &  3.05532550 & -0.5282801 & -0.8664625 &  1.37150531 & ⋯ &  1.5499882 & -0.5359268 &  1.6676441 &  1.8321868 &  1.07768589 &  1.5640065 & -1.1176388 &  1.60020381 & -0.1547152 &  2.2670183\\\\\n",
       "\t6 & -0.05501073 & -0.6055081 & -1.5639990 & -0.34034564 & -1.6473451 &  0.02030788 &  0.33056731 & -0.6023370 & -0.3167618 & -1.43371406 & ⋯ & -1.5343354 & -0.4857453 & -0.8718671 & -1.4863604 & -1.15716859 & -1.4423331 & -0.4592484 & -1.44212229 & -0.1547152 & -1.2516053\\\\\n",
       "\\end{tabular}\n"
      ],
      "text/markdown": [
       "\n",
       "A data.frame: 6 × 23\n",
       "\n",
       "| <!--/--> | median_income &lt;dbl&gt; | mean_income &lt;dbl&gt; | internet_with_subscription &lt;dbl&gt; | dialup &lt;dbl&gt; | broadband &lt;dbl&gt; | satellite &lt;dbl&gt; | other &lt;dbl&gt; | internet_without_subscription &lt;dbl&gt; | no_internet &lt;dbl&gt; | total_native &lt;dbl&gt; | ⋯ ⋯ | computer &lt;dbl&gt; | no_computer &lt;dbl&gt; | work_from_home &lt;dbl&gt; | desktop_laptop &lt;dbl&gt; | only_desktop_laptop &lt;dbl&gt; | with_smartphone &lt;dbl&gt; | only_smartphone &lt;dbl&gt; | with_tablet &lt;dbl&gt; | only_other &lt;dbl&gt; | X65_older &lt;dbl&gt; |\n",
       "|---|---|---|---|---|---|---|---|---|---|---|---|---|---|---|---|---|---|---|---|---|---|\n",
       "| 1 | -0.37527485 | -0.5051425 | -0.7602276 | -0.11230979 | -0.9066067 | -0.21813555 | -0.15230123 |  0.1937755 | -0.1106240 | -0.79134866 | ⋯ | -0.6760731 | -0.3352009 | -0.5191573 | -0.8890219 |  0.08031281 | -0.7466512 |  0.5400941 | -0.77593705 | -0.1547152 | -0.3860114 |\n",
       "| 2 | -0.53977395 | -0.2257183 |  0.3437704 |  0.03971411 |  0.4976273 | -0.50426766 |  0.05464243 |  1.1009735 |  1.0378580 | -0.18927099 | ⋯ |  0.2960218 |  2.2867807 | -0.9020994 |  0.3525052 |  2.27822755 |  0.1076615 |  0.2461698 |  0.07062326 | -0.1547152 |  0.6108278 |\n",
       "| 3 |  1.38734090 |  0.8703809 |  0.2943660 | -0.49236954 |  0.1530057 |  0.45904378 | -0.84211343 | -0.7689652 | -0.2087848 |  0.03081936 | ⋯ |  0.1225625 |  0.3046128 | -0.8617897 |  0.4618220 | -1.23104808 |  0.3006941 | -1.2587224 |  0.46263840 | -0.1547152 |  1.4232986 |\n",
       "| 4 |  0.93409058 |  1.3372338 |  0.4083762 | -0.49236954 |  0.8006566 | -0.43750350 | -0.84211343 | -0.1950236 | -0.4541869 |  0.29268957 | ⋯ |  0.3484210 | -0.4355638 |  0.2064174 |  0.5633305 | -0.15979552 |  0.4153669 | -0.7179018 |  0.51554842 | -0.1547152 |  1.1670578 |\n",
       "| 5 |  1.40546740 |  2.1175141 |  1.7707971 |  0.49578581 |  1.7988709 |  0.89777968 |  3.05532550 | -0.5282801 | -0.8664625 |  1.37150531 | ⋯ |  1.5499882 | -0.5359268 |  1.6676441 |  1.8321868 |  1.07768589 |  1.5640065 | -1.1176388 |  1.60020381 | -0.1547152 |  2.2670183 |\n",
       "| 6 | -0.05501073 | -0.6055081 | -1.5639990 | -0.34034564 | -1.6473451 |  0.02030788 |  0.33056731 | -0.6023370 | -0.3167618 | -1.43371406 | ⋯ | -1.5343354 | -0.4857453 | -0.8718671 | -1.4863604 | -1.15716859 | -1.4423331 | -0.4592484 | -1.44212229 | -0.1547152 | -1.2516053 |\n",
       "\n"
      ],
      "text/plain": [
       "  median_income mean_income internet_with_subscription dialup      broadband \n",
       "1 -0.37527485   -0.5051425  -0.7602276                 -0.11230979 -0.9066067\n",
       "2 -0.53977395   -0.2257183   0.3437704                  0.03971411  0.4976273\n",
       "3  1.38734090    0.8703809   0.2943660                 -0.49236954  0.1530057\n",
       "4  0.93409058    1.3372338   0.4083762                 -0.49236954  0.8006566\n",
       "5  1.40546740    2.1175141   1.7707971                  0.49578581  1.7988709\n",
       "6 -0.05501073   -0.6055081  -1.5639990                 -0.34034564 -1.6473451\n",
       "  satellite   other       internet_without_subscription no_internet\n",
       "1 -0.21813555 -0.15230123  0.1937755                    -0.1106240 \n",
       "2 -0.50426766  0.05464243  1.1009735                     1.0378580 \n",
       "3  0.45904378 -0.84211343 -0.7689652                    -0.2087848 \n",
       "4 -0.43750350 -0.84211343 -0.1950236                    -0.4541869 \n",
       "5  0.89777968  3.05532550 -0.5282801                    -0.8664625 \n",
       "6  0.02030788  0.33056731 -0.6023370                    -0.3167618 \n",
       "  total_native ⋯ computer   no_computer work_from_home desktop_laptop\n",
       "1 -0.79134866  ⋯ -0.6760731 -0.3352009  -0.5191573     -0.8890219    \n",
       "2 -0.18927099  ⋯  0.2960218  2.2867807  -0.9020994      0.3525052    \n",
       "3  0.03081936  ⋯  0.1225625  0.3046128  -0.8617897      0.4618220    \n",
       "4  0.29268957  ⋯  0.3484210 -0.4355638   0.2064174      0.5633305    \n",
       "5  1.37150531  ⋯  1.5499882 -0.5359268   1.6676441      1.8321868    \n",
       "6 -1.43371406  ⋯ -1.5343354 -0.4857453  -0.8718671     -1.4863604    \n",
       "  only_desktop_laptop with_smartphone only_smartphone with_tablet only_other\n",
       "1  0.08031281         -0.7466512       0.5400941      -0.77593705 -0.1547152\n",
       "2  2.27822755          0.1076615       0.2461698       0.07062326 -0.1547152\n",
       "3 -1.23104808          0.3006941      -1.2587224       0.46263840 -0.1547152\n",
       "4 -0.15979552          0.4153669      -0.7179018       0.51554842 -0.1547152\n",
       "5  1.07768589          1.5640065      -1.1176388       1.60020381 -0.1547152\n",
       "6 -1.15716859         -1.4423331      -0.4592484      -1.44212229 -0.1547152\n",
       "  X65_older \n",
       "1 -0.3860114\n",
       "2  0.6108278\n",
       "3  1.4232986\n",
       "4  1.1670578\n",
       "5  2.2670183\n",
       "6 -1.2516053"
      ]
     },
     "metadata": {},
     "output_type": "display_data"
    }
   ],
   "source": [
    "filtered_standardized_data <- standardized_data_all %>% \n",
    "    select(-tract, -county, -with_other, -only_tablet)\n",
    "\n",
    "head(filtered_standardized_data)"
   ]
  },
  {
   "attachments": {},
   "cell_type": "markdown",
   "metadata": {},
   "source": [
    "### multiply standardized values by variable weights"
   ]
  },
  {
   "cell_type": "code",
   "execution_count": 13,
   "metadata": {
    "vscode": {
     "languageId": "r"
    }
   },
   "outputs": [
    {
     "data": {
      "text/html": [
       "<table class=\"dataframe\">\n",
       "<caption>A data.frame: 6 × 23</caption>\n",
       "<thead>\n",
       "\t<tr><th></th><th scope=col>median_income</th><th scope=col>mean_income</th><th scope=col>internet_with_subscription</th><th scope=col>dialup</th><th scope=col>broadband</th><th scope=col>satellite</th><th scope=col>other</th><th scope=col>internet_without_subscription</th><th scope=col>no_internet</th><th scope=col>total_native</th><th scope=col>⋯</th><th scope=col>computer</th><th scope=col>no_computer</th><th scope=col>work_from_home</th><th scope=col>desktop_laptop</th><th scope=col>only_desktop_laptop</th><th scope=col>with_smartphone</th><th scope=col>only_smartphone</th><th scope=col>with_tablet</th><th scope=col>only_other</th><th scope=col>X65_older</th></tr>\n",
       "\t<tr><th></th><th scope=col>&lt;dbl&gt;</th><th scope=col>&lt;dbl&gt;</th><th scope=col>&lt;dbl&gt;</th><th scope=col>&lt;dbl&gt;</th><th scope=col>&lt;dbl&gt;</th><th scope=col>&lt;dbl&gt;</th><th scope=col>&lt;dbl&gt;</th><th scope=col>&lt;dbl&gt;</th><th scope=col>&lt;dbl&gt;</th><th scope=col>&lt;dbl&gt;</th><th scope=col>⋯</th><th scope=col>&lt;dbl&gt;</th><th scope=col>&lt;dbl&gt;</th><th scope=col>&lt;dbl&gt;</th><th scope=col>&lt;dbl&gt;</th><th scope=col>&lt;dbl&gt;</th><th scope=col>&lt;dbl&gt;</th><th scope=col>&lt;dbl&gt;</th><th scope=col>&lt;dbl&gt;</th><th scope=col>&lt;dbl&gt;</th><th scope=col>&lt;dbl&gt;</th></tr>\n",
       "</thead>\n",
       "<tbody>\n",
       "\t<tr><th scope=row>1</th><td>-0.30035648</td><td>-0.3938861</td><td> 1.9642100</td><td> 0.2159270</td><td> 1.7695398</td><td> 0.42783698</td><td> 0.24004903</td><td>-0.2699619</td><td> 0.3550973</td><td> 1.93977293</td><td>⋯</td><td> 1.8840007</td><td> 0.9239444</td><td> 0.3052981</td><td> 2.1571640</td><td>-0.2017151</td><td> 1.8862165</td><td>-1.1583724</td><td> 1.7080204</td><td>0.17852</td><td> 1.078984</td></tr>\n",
       "\t<tr><th scope=row>2</th><td>-0.43201564</td><td>-0.1760044</td><td>-0.8882041</td><td>-0.0763544</td><td>-0.9712825</td><td> 0.98903803</td><td>-0.08612446</td><td>-1.5338414</td><td>-3.3314710</td><td> 0.46394563</td><td>⋯</td><td>-0.8249186</td><td>-6.3032588</td><td> 0.5304928</td><td>-0.8553349</td><td>-5.7220383</td><td>-0.2719782</td><td>-0.5279753</td><td>-0.1554584</td><td>0.17852</td><td>-1.707394</td></tr>\n",
       "\t<tr><th scope=row>3</th><td> 1.11037772</td><td> 0.6786815</td><td>-0.7605573</td><td> 0.9466304</td><td>-0.2986406</td><td>-0.90033884</td><td> 1.32729402</td><td> 1.0712980</td><td> 0.6701886</td><td>-0.07554515</td><td>⋯</td><td>-0.3415427</td><td>-0.8396315</td><td> 0.5067881</td><td>-1.1205864</td><td> 3.0919230</td><td>-0.7596240</td><td> 2.6996579</td><td>-1.0183762</td><td>0.17852</td><td>-3.978423</td></tr>\n",
       "\t<tr><th scope=row>4</th><td> 0.74761248</td><td> 1.0427112</td><td>-1.0551268</td><td> 0.9466304</td><td>-1.5627435</td><td> 0.85809112</td><td> 1.32729402</td><td> 0.2717008</td><td> 1.4579168</td><td>-0.71744773</td><td>⋯</td><td>-0.9709384</td><td> 1.2005837</td><td>-0.1213868</td><td>-1.3668913</td><td> 0.4013454</td><td>-1.0493145</td><td> 1.5397272</td><td>-1.1348436</td><td>0.17852</td><td>-3.262175</td></tr>\n",
       "\t<tr><th scope=row>5</th><td> 1.12488551</td><td> 1.6511366</td><td>-4.5752316</td><td>-0.9531985</td><td>-3.5110854</td><td>-1.76084712</td><td>-4.81564014</td><td> 0.7359831</td><td> 2.7813003</td><td>-3.36186692</td><td>⋯</td><td>-4.3193238</td><td> 1.4772231</td><td>-0.9806826</td><td>-4.4457031</td><td>-2.7067357</td><td>-3.9510483</td><td> 2.3970673</td><td>-3.5224258</td><td>0.17852</td><td>-6.336799</td></tr>\n",
       "\t<tr><th scope=row>6</th><td>-0.04402861</td><td>-0.4721463</td><td> 4.0409245</td><td> 0.6543490</td><td> 3.2153332</td><td>-0.03983056</td><td>-0.52102246</td><td> 0.8391569</td><td> 1.0167890</td><td> 3.51435448</td><td>⋯</td><td> 4.2757046</td><td> 1.3389034</td><td> 0.5127143</td><td> 3.6065739</td><td> 2.9063659</td><td> 3.6436726</td><td> 0.9849778</td><td> 3.1744512</td><td>0.17852</td><td> 3.498504</td></tr>\n",
       "</tbody>\n",
       "</table>\n"
      ],
      "text/latex": [
       "A data.frame: 6 × 23\n",
       "\\begin{tabular}{r|lllllllllllllllllllll}\n",
       "  & median\\_income & mean\\_income & internet\\_with\\_subscription & dialup & broadband & satellite & other & internet\\_without\\_subscription & no\\_internet & total\\_native & ⋯ & computer & no\\_computer & work\\_from\\_home & desktop\\_laptop & only\\_desktop\\_laptop & with\\_smartphone & only\\_smartphone & with\\_tablet & only\\_other & X65\\_older\\\\\n",
       "  & <dbl> & <dbl> & <dbl> & <dbl> & <dbl> & <dbl> & <dbl> & <dbl> & <dbl> & <dbl> & ⋯ & <dbl> & <dbl> & <dbl> & <dbl> & <dbl> & <dbl> & <dbl> & <dbl> & <dbl> & <dbl>\\\\\n",
       "\\hline\n",
       "\t1 & -0.30035648 & -0.3938861 &  1.9642100 &  0.2159270 &  1.7695398 &  0.42783698 &  0.24004903 & -0.2699619 &  0.3550973 &  1.93977293 & ⋯ &  1.8840007 &  0.9239444 &  0.3052981 &  2.1571640 & -0.2017151 &  1.8862165 & -1.1583724 &  1.7080204 & 0.17852 &  1.078984\\\\\n",
       "\t2 & -0.43201564 & -0.1760044 & -0.8882041 & -0.0763544 & -0.9712825 &  0.98903803 & -0.08612446 & -1.5338414 & -3.3314710 &  0.46394563 & ⋯ & -0.8249186 & -6.3032588 &  0.5304928 & -0.8553349 & -5.7220383 & -0.2719782 & -0.5279753 & -0.1554584 & 0.17852 & -1.707394\\\\\n",
       "\t3 &  1.11037772 &  0.6786815 & -0.7605573 &  0.9466304 & -0.2986406 & -0.90033884 &  1.32729402 &  1.0712980 &  0.6701886 & -0.07554515 & ⋯ & -0.3415427 & -0.8396315 &  0.5067881 & -1.1205864 &  3.0919230 & -0.7596240 &  2.6996579 & -1.0183762 & 0.17852 & -3.978423\\\\\n",
       "\t4 &  0.74761248 &  1.0427112 & -1.0551268 &  0.9466304 & -1.5627435 &  0.85809112 &  1.32729402 &  0.2717008 &  1.4579168 & -0.71744773 & ⋯ & -0.9709384 &  1.2005837 & -0.1213868 & -1.3668913 &  0.4013454 & -1.0493145 &  1.5397272 & -1.1348436 & 0.17852 & -3.262175\\\\\n",
       "\t5 &  1.12488551 &  1.6511366 & -4.5752316 & -0.9531985 & -3.5110854 & -1.76084712 & -4.81564014 &  0.7359831 &  2.7813003 & -3.36186692 & ⋯ & -4.3193238 &  1.4772231 & -0.9806826 & -4.4457031 & -2.7067357 & -3.9510483 &  2.3970673 & -3.5224258 & 0.17852 & -6.336799\\\\\n",
       "\t6 & -0.04402861 & -0.4721463 &  4.0409245 &  0.6543490 &  3.2153332 & -0.03983056 & -0.52102246 &  0.8391569 &  1.0167890 &  3.51435448 & ⋯ &  4.2757046 &  1.3389034 &  0.5127143 &  3.6065739 &  2.9063659 &  3.6436726 &  0.9849778 &  3.1744512 & 0.17852 &  3.498504\\\\\n",
       "\\end{tabular}\n"
      ],
      "text/markdown": [
       "\n",
       "A data.frame: 6 × 23\n",
       "\n",
       "| <!--/--> | median_income &lt;dbl&gt; | mean_income &lt;dbl&gt; | internet_with_subscription &lt;dbl&gt; | dialup &lt;dbl&gt; | broadband &lt;dbl&gt; | satellite &lt;dbl&gt; | other &lt;dbl&gt; | internet_without_subscription &lt;dbl&gt; | no_internet &lt;dbl&gt; | total_native &lt;dbl&gt; | ⋯ ⋯ | computer &lt;dbl&gt; | no_computer &lt;dbl&gt; | work_from_home &lt;dbl&gt; | desktop_laptop &lt;dbl&gt; | only_desktop_laptop &lt;dbl&gt; | with_smartphone &lt;dbl&gt; | only_smartphone &lt;dbl&gt; | with_tablet &lt;dbl&gt; | only_other &lt;dbl&gt; | X65_older &lt;dbl&gt; |\n",
       "|---|---|---|---|---|---|---|---|---|---|---|---|---|---|---|---|---|---|---|---|---|---|\n",
       "| 1 | -0.30035648 | -0.3938861 |  1.9642100 |  0.2159270 |  1.7695398 |  0.42783698 |  0.24004903 | -0.2699619 |  0.3550973 |  1.93977293 | ⋯ |  1.8840007 |  0.9239444 |  0.3052981 |  2.1571640 | -0.2017151 |  1.8862165 | -1.1583724 |  1.7080204 | 0.17852 |  1.078984 |\n",
       "| 2 | -0.43201564 | -0.1760044 | -0.8882041 | -0.0763544 | -0.9712825 |  0.98903803 | -0.08612446 | -1.5338414 | -3.3314710 |  0.46394563 | ⋯ | -0.8249186 | -6.3032588 |  0.5304928 | -0.8553349 | -5.7220383 | -0.2719782 | -0.5279753 | -0.1554584 | 0.17852 | -1.707394 |\n",
       "| 3 |  1.11037772 |  0.6786815 | -0.7605573 |  0.9466304 | -0.2986406 | -0.90033884 |  1.32729402 |  1.0712980 |  0.6701886 | -0.07554515 | ⋯ | -0.3415427 | -0.8396315 |  0.5067881 | -1.1205864 |  3.0919230 | -0.7596240 |  2.6996579 | -1.0183762 | 0.17852 | -3.978423 |\n",
       "| 4 |  0.74761248 |  1.0427112 | -1.0551268 |  0.9466304 | -1.5627435 |  0.85809112 |  1.32729402 |  0.2717008 |  1.4579168 | -0.71744773 | ⋯ | -0.9709384 |  1.2005837 | -0.1213868 | -1.3668913 |  0.4013454 | -1.0493145 |  1.5397272 | -1.1348436 | 0.17852 | -3.262175 |\n",
       "| 5 |  1.12488551 |  1.6511366 | -4.5752316 | -0.9531985 | -3.5110854 | -1.76084712 | -4.81564014 |  0.7359831 |  2.7813003 | -3.36186692 | ⋯ | -4.3193238 |  1.4772231 | -0.9806826 | -4.4457031 | -2.7067357 | -3.9510483 |  2.3970673 | -3.5224258 | 0.17852 | -6.336799 |\n",
       "| 6 | -0.04402861 | -0.4721463 |  4.0409245 |  0.6543490 |  3.2153332 | -0.03983056 | -0.52102246 |  0.8391569 |  1.0167890 |  3.51435448 | ⋯ |  4.2757046 |  1.3389034 |  0.5127143 |  3.6065739 |  2.9063659 |  3.6436726 |  0.9849778 |  3.1744512 | 0.17852 |  3.498504 |\n",
       "\n"
      ],
      "text/plain": [
       "  median_income mean_income internet_with_subscription dialup     broadband \n",
       "1 -0.30035648   -0.3938861   1.9642100                  0.2159270  1.7695398\n",
       "2 -0.43201564   -0.1760044  -0.8882041                 -0.0763544 -0.9712825\n",
       "3  1.11037772    0.6786815  -0.7605573                  0.9466304 -0.2986406\n",
       "4  0.74761248    1.0427112  -1.0551268                  0.9466304 -1.5627435\n",
       "5  1.12488551    1.6511366  -4.5752316                 -0.9531985 -3.5110854\n",
       "6 -0.04402861   -0.4721463   4.0409245                  0.6543490  3.2153332\n",
       "  satellite   other       internet_without_subscription no_internet\n",
       "1  0.42783698  0.24004903 -0.2699619                     0.3550973 \n",
       "2  0.98903803 -0.08612446 -1.5338414                    -3.3314710 \n",
       "3 -0.90033884  1.32729402  1.0712980                     0.6701886 \n",
       "4  0.85809112  1.32729402  0.2717008                     1.4579168 \n",
       "5 -1.76084712 -4.81564014  0.7359831                     2.7813003 \n",
       "6 -0.03983056 -0.52102246  0.8391569                     1.0167890 \n",
       "  total_native ⋯ computer   no_computer work_from_home desktop_laptop\n",
       "1  1.93977293  ⋯  1.8840007  0.9239444   0.3052981      2.1571640    \n",
       "2  0.46394563  ⋯ -0.8249186 -6.3032588   0.5304928     -0.8553349    \n",
       "3 -0.07554515  ⋯ -0.3415427 -0.8396315   0.5067881     -1.1205864    \n",
       "4 -0.71744773  ⋯ -0.9709384  1.2005837  -0.1213868     -1.3668913    \n",
       "5 -3.36186692  ⋯ -4.3193238  1.4772231  -0.9806826     -4.4457031    \n",
       "6  3.51435448  ⋯  4.2757046  1.3389034   0.5127143      3.6065739    \n",
       "  only_desktop_laptop with_smartphone only_smartphone with_tablet only_other\n",
       "1 -0.2017151           1.8862165      -1.1583724       1.7080204  0.17852   \n",
       "2 -5.7220383          -0.2719782      -0.5279753      -0.1554584  0.17852   \n",
       "3  3.0919230          -0.7596240       2.6996579      -1.0183762  0.17852   \n",
       "4  0.4013454          -1.0493145       1.5397272      -1.1348436  0.17852   \n",
       "5 -2.7067357          -3.9510483       2.3970673      -3.5224258  0.17852   \n",
       "6  2.9063659           3.6436726       0.9849778       3.1744512  0.17852   \n",
       "  X65_older\n",
       "1  1.078984\n",
       "2 -1.707394\n",
       "3 -3.978423\n",
       "4 -3.262175\n",
       "5 -6.336799\n",
       "6  3.498504"
      ]
     },
     "metadata": {},
     "output_type": "display_data"
    }
   ],
   "source": [
    "index <- filtered_standardized_data\n",
    "\n",
    "for(i in 1:ncol(index)){\n",
    "    index[, i] <- index[, i] * variable_weights[i,]\n",
    "}\n",
    "\n",
    "head(index)"
   ]
  },
  {
   "attachments": {},
   "cell_type": "markdown",
   "metadata": {},
   "source": [
    "### sum the rows"
   ]
  },
  {
   "cell_type": "code",
   "execution_count": 21,
   "metadata": {
    "vscode": {
     "languageId": "r"
    }
   },
   "outputs": [],
   "source": [
    "index <- index %>% \n",
    "    transmute(index = rowSums(.))"
   ]
  },
  {
   "attachments": {},
   "cell_type": "markdown",
   "metadata": {},
   "source": [
    "### append dataframes together"
   ]
  },
  {
   "cell_type": "code",
   "execution_count": 22,
   "metadata": {
    "vscode": {
     "languageId": "r"
    }
   },
   "outputs": [
    {
     "data": {
      "text/html": [
       "<table class=\"dataframe\">\n",
       "<caption>A data.frame: 6 × 3</caption>\n",
       "<thead>\n",
       "\t<tr><th></th><th scope=col>tract</th><th scope=col>county</th><th scope=col>index</th></tr>\n",
       "\t<tr><th></th><th scope=col>&lt;dbl&gt;</th><th scope=col>&lt;chr&gt;</th><th scope=col>&lt;dbl&gt;</th></tr>\n",
       "</thead>\n",
       "<tbody>\n",
       "\t<tr><th scope=row>1</th><td>9501.00</td><td>adams  </td><td> 15.1000337</td></tr>\n",
       "\t<tr><th scope=row>2</th><td> 127.01</td><td>spokane</td><td>-22.6682212</td></tr>\n",
       "\t<tr><th scope=row>3</th><td> 113.01</td><td>spokane</td><td>  2.2163878</td></tr>\n",
       "\t<tr><th scope=row>4</th><td> 105.07</td><td>spokane</td><td> -0.8484028</td></tr>\n",
       "\t<tr><th scope=row>5</th><td>  49.00</td><td>spokane</td><td>-35.7031179</td></tr>\n",
       "\t<tr><th scope=row>6</th><td>9502.00</td><td>adams  </td><td> 36.9788094</td></tr>\n",
       "</tbody>\n",
       "</table>\n"
      ],
      "text/latex": [
       "A data.frame: 6 × 3\n",
       "\\begin{tabular}{r|lll}\n",
       "  & tract & county & index\\\\\n",
       "  & <dbl> & <chr> & <dbl>\\\\\n",
       "\\hline\n",
       "\t1 & 9501.00 & adams   &  15.1000337\\\\\n",
       "\t2 &  127.01 & spokane & -22.6682212\\\\\n",
       "\t3 &  113.01 & spokane &   2.2163878\\\\\n",
       "\t4 &  105.07 & spokane &  -0.8484028\\\\\n",
       "\t5 &   49.00 & spokane & -35.7031179\\\\\n",
       "\t6 & 9502.00 & adams   &  36.9788094\\\\\n",
       "\\end{tabular}\n"
      ],
      "text/markdown": [
       "\n",
       "A data.frame: 6 × 3\n",
       "\n",
       "| <!--/--> | tract &lt;dbl&gt; | county &lt;chr&gt; | index &lt;dbl&gt; |\n",
       "|---|---|---|---|\n",
       "| 1 | 9501.00 | adams   |  15.1000337 |\n",
       "| 2 |  127.01 | spokane | -22.6682212 |\n",
       "| 3 |  113.01 | spokane |   2.2163878 |\n",
       "| 4 |  105.07 | spokane |  -0.8484028 |\n",
       "| 5 |   49.00 | spokane | -35.7031179 |\n",
       "| 6 | 9502.00 | adams   |  36.9788094 |\n",
       "\n"
      ],
      "text/plain": [
       "  tract   county  index      \n",
       "1 9501.00 adams    15.1000337\n",
       "2  127.01 spokane -22.6682212\n",
       "3  113.01 spokane   2.2163878\n",
       "4  105.07 spokane  -0.8484028\n",
       "5   49.00 spokane -35.7031179\n",
       "6 9502.00 adams    36.9788094"
      ]
     },
     "metadata": {},
     "output_type": "display_data"
    }
   ],
   "source": [
    "pc_index <- bind_cols(tract_county, index)\n",
    "\n",
    "head(pc_index)"
   ]
  },
  {
   "cell_type": "code",
   "execution_count": 15,
   "metadata": {
    "vscode": {
     "languageId": "r"
    }
   },
   "outputs": [],
   "source": [
    "write.csv(pc_index, \"../data/pc_index.csv\")"
   ]
  }
 ],
 "metadata": {
  "kernelspec": {
   "display_name": "R",
   "language": "R",
   "name": "ir"
  },
  "language_info": {
   "codemirror_mode": "r",
   "file_extension": ".r",
   "mimetype": "text/x-r-source",
   "name": "R",
   "pygments_lexer": "r",
   "version": "4.2.2"
  },
  "orig_nbformat": 4,
  "vscode": {
   "interpreter": {
    "hash": "31f2aee4e71d21fbe5cf8b01ff0e069b9275f58929596ceb00d14d90e3e16cd6"
   }
  }
 },
 "nbformat": 4,
 "nbformat_minor": 2
}
