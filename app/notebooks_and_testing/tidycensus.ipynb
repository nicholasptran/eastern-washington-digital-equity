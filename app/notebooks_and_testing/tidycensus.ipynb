{
 "cells": [
  {
   "cell_type": "code",
   "execution_count": 1,
   "metadata": {
    "vscode": {
     "languageId": "r"
    }
   },
   "outputs": [
    {
     "name": "stderr",
     "output_type": "stream",
     "text": [
      "\n",
      "Attaching package: ‘dplyr’\n",
      "\n",
      "\n",
      "The following objects are masked from ‘package:stats’:\n",
      "\n",
      "    filter, lag\n",
      "\n",
      "\n",
      "The following objects are masked from ‘package:base’:\n",
      "\n",
      "    intersect, setdiff, setequal, union\n",
      "\n",
      "\n",
      "To enable caching of data, set `options(tigris_use_cache = TRUE)`\n",
      "in your R script or .Rprofile.\n",
      "\n",
      "Linking to GEOS 3.10.2, GDAL 3.4.3, PROJ 8.2.0; sf_use_s2() is TRUE\n",
      "\n",
      "To install your API key for use in future sessions, run this function with `install = TRUE`.\n",
      "\n"
     ]
    }
   ],
   "source": [
    "library(tidycensus)\n",
    "library(tidyr)\n",
    "library(stringr)\n",
    "library(dplyr)\n",
    "library(tigris)\n",
    "library(sf)\n",
    "\n",
    "census_api_key(Sys.getenv(\"CENSUS_API_KEY\"))"
   ]
  },
  {
   "cell_type": "code",
   "execution_count": 2,
   "metadata": {
    "vscode": {
     "languageId": "r"
    }
   },
   "outputs": [],
   "source": [
    "test <- load_variables(2020, \"acs5\")"
   ]
  },
  {
   "cell_type": "code",
   "execution_count": 3,
   "metadata": {
    "vscode": {
     "languageId": "r"
    }
   },
   "outputs": [
    {
     "data": {
      "text/html": [
       "<table class=\"dataframe\">\n",
       "<caption>A tibble: 6 × 4</caption>\n",
       "<thead>\n",
       "\t<tr><th scope=col>name</th><th scope=col>label</th><th scope=col>concept</th><th scope=col>geography</th></tr>\n",
       "\t<tr><th scope=col>&lt;chr&gt;</th><th scope=col>&lt;chr&gt;</th><th scope=col>&lt;chr&gt;</th><th scope=col>&lt;chr&gt;</th></tr>\n",
       "</thead>\n",
       "<tbody>\n",
       "\t<tr><td>B01001_001</td><td>Estimate!!Total:                       </td><td>SEX BY AGE</td><td>block group</td></tr>\n",
       "\t<tr><td>B01001_002</td><td>Estimate!!Total:!!Male:                </td><td>SEX BY AGE</td><td>block group</td></tr>\n",
       "\t<tr><td>B01001_003</td><td>Estimate!!Total:!!Male:!!Under 5 years </td><td>SEX BY AGE</td><td>block group</td></tr>\n",
       "\t<tr><td>B01001_004</td><td>Estimate!!Total:!!Male:!!5 to 9 years  </td><td>SEX BY AGE</td><td>block group</td></tr>\n",
       "\t<tr><td>B01001_005</td><td>Estimate!!Total:!!Male:!!10 to 14 years</td><td>SEX BY AGE</td><td>block group</td></tr>\n",
       "\t<tr><td>B01001_006</td><td>Estimate!!Total:!!Male:!!15 to 17 years</td><td>SEX BY AGE</td><td>block group</td></tr>\n",
       "</tbody>\n",
       "</table>\n"
      ],
      "text/latex": [
       "A tibble: 6 × 4\n",
       "\\begin{tabular}{llll}\n",
       " name & label & concept & geography\\\\\n",
       " <chr> & <chr> & <chr> & <chr>\\\\\n",
       "\\hline\n",
       "\t B01001\\_001 & Estimate!!Total:                        & SEX BY AGE & block group\\\\\n",
       "\t B01001\\_002 & Estimate!!Total:!!Male:                 & SEX BY AGE & block group\\\\\n",
       "\t B01001\\_003 & Estimate!!Total:!!Male:!!Under 5 years  & SEX BY AGE & block group\\\\\n",
       "\t B01001\\_004 & Estimate!!Total:!!Male:!!5 to 9 years   & SEX BY AGE & block group\\\\\n",
       "\t B01001\\_005 & Estimate!!Total:!!Male:!!10 to 14 years & SEX BY AGE & block group\\\\\n",
       "\t B01001\\_006 & Estimate!!Total:!!Male:!!15 to 17 years & SEX BY AGE & block group\\\\\n",
       "\\end{tabular}\n"
      ],
      "text/markdown": [
       "\n",
       "A tibble: 6 × 4\n",
       "\n",
       "| name &lt;chr&gt; | label &lt;chr&gt; | concept &lt;chr&gt; | geography &lt;chr&gt; |\n",
       "|---|---|---|---|\n",
       "| B01001_001 | Estimate!!Total:                        | SEX BY AGE | block group |\n",
       "| B01001_002 | Estimate!!Total:!!Male:                 | SEX BY AGE | block group |\n",
       "| B01001_003 | Estimate!!Total:!!Male:!!Under 5 years  | SEX BY AGE | block group |\n",
       "| B01001_004 | Estimate!!Total:!!Male:!!5 to 9 years   | SEX BY AGE | block group |\n",
       "| B01001_005 | Estimate!!Total:!!Male:!!10 to 14 years | SEX BY AGE | block group |\n",
       "| B01001_006 | Estimate!!Total:!!Male:!!15 to 17 years | SEX BY AGE | block group |\n",
       "\n"
      ],
      "text/plain": [
       "  name       label                                   concept    geography  \n",
       "1 B01001_001 Estimate!!Total:                        SEX BY AGE block group\n",
       "2 B01001_002 Estimate!!Total:!!Male:                 SEX BY AGE block group\n",
       "3 B01001_003 Estimate!!Total:!!Male:!!Under 5 years  SEX BY AGE block group\n",
       "4 B01001_004 Estimate!!Total:!!Male:!!5 to 9 years   SEX BY AGE block group\n",
       "5 B01001_005 Estimate!!Total:!!Male:!!10 to 14 years SEX BY AGE block group\n",
       "6 B01001_006 Estimate!!Total:!!Male:!!15 to 17 years SEX BY AGE block group"
      ]
     },
     "metadata": {},
     "output_type": "display_data"
    }
   ],
   "source": [
    "head(test)"
   ]
  },
  {
   "cell_type": "code",
   "execution_count": 2,
   "metadata": {
    "vscode": {
     "languageId": "r"
    }
   },
   "outputs": [],
   "source": [
    "variable_data <- load_variables(2020, \"acs5\", cache = FALSE) %>%\n",
    "  rename_all(recode,\n",
    "    name = \"variable_key\", concept = \"dataset\",\n",
    "    label = \"variable\"\n",
    "  ) %>%\n",
    "  mutate(\n",
    "    dataset = tolower(dataset),\n",
    "    dataset = gsub(\" \", \"_\", dataset),\n",
    "    variable = tolower(variable),\n",
    "    variable = gsub(\"!!\", \"_\", variable),\n",
    "    variable = gsub(\" \", \"_\", variable),\n",
    "    variable = gsub(\":\", \"\", variable)\n",
    "  ) %>%\n",
    "  select(-geography)\n",
    "\n",
    "variable_data2 <- load_variables(2020, \"acs5/subject\", cache = FALSE) %>%\n",
    "  rename_all(recode,\n",
    "    name = \"variable_key\", concept = \"dataset\",\n",
    "    label = \"variable\"\n",
    "  ) %>%\n",
    "  mutate(\n",
    "    dataset = tolower(dataset),\n",
    "    dataset = gsub(\" \", \"_\", dataset),\n",
    "    variable = tolower(variable),\n",
    "    variable = gsub(\"!!\", \"_\", variable),\n",
    "    variable = gsub(\" \", \"_\", variable),\n",
    "    variable = gsub(\":\", \"\", variable)\n",
    "  )\n",
    "\n",
    "variable_data <- rbind(variable_data, variable_data2)"
   ]
  },
  {
   "cell_type": "code",
   "execution_count": 3,
   "metadata": {
    "vscode": {
     "languageId": "r"
    }
   },
   "outputs": [],
   "source": [
    "variables <- c(\n",
    "    \"B05011_002\", \"B05011_003\", \"B05012_002\", \"B05012_003\", \"B08101_049\", \"B28001_003\", \"B28001_004\",\n",
    "    \"B28001_005\", \"B28001_006\", \"B28001_007\", \"B28003_002\", \"B28003_006\", \"B28011_002\", \"B28011_003\", \"B28011_004\",\n",
    "    \"B28011_005\", \"B28011_006\", \"B28011_007\", \"B28011_008\", \"S0101_C01_030\", \"S1901_C01_012\", \"S1901_C01_013\"\n",
    ")\n",
    "\n",
    "variable_data <- variable_data %>%\n",
    "    filter(variable_key %in% variables)"
   ]
  },
  {
   "cell_type": "code",
   "execution_count": 4,
   "metadata": {
    "vscode": {
     "languageId": "r"
    }
   },
   "outputs": [
    {
     "name": "stderr",
     "output_type": "stream",
     "text": [
      "Getting data from the 2016-2020 5-year ACS\n",
      "\n",
      "Getting data from the 2016-2020 5-year ACS\n",
      "\n",
      "Getting data from the 2016-2020 5-year ACS\n",
      "\n",
      "Getting data from the 2016-2020 5-year ACS\n",
      "\n",
      "Getting data from the 2016-2020 5-year ACS\n",
      "\n",
      "Getting data from the 2016-2020 5-year ACS\n",
      "\n",
      "Getting data from the 2016-2020 5-year ACS\n",
      "\n",
      "Using the ACS Subject Tables\n",
      "\n",
      "Using the ACS Subject Tables\n",
      "\n",
      "Using the ACS Subject Tables\n",
      "\n",
      "Using the ACS Subject Tables\n",
      "\n",
      "Using the ACS Subject Tables\n",
      "\n",
      "Using the ACS Subject Tables\n",
      "\n",
      "Using the ACS Subject Tables\n",
      "\n",
      "Using the ACS Subject Tables\n",
      "\n",
      "Using the ACS Subject Tables\n",
      "\n",
      "Using the ACS Subject Tables\n",
      "\n",
      "Getting data from the 2016-2020 5-year ACS\n",
      "\n",
      "Using the ACS Subject Tables\n",
      "\n",
      "Using the ACS Subject Tables\n",
      "\n",
      "Using the ACS Subject Tables\n",
      "\n"
     ]
    },
    {
     "data": {
      "text/html": [
       "70638"
      ],
      "text/latex": [
       "70638"
      ],
      "text/markdown": [
       "70638"
      ],
      "text/plain": [
       "[1] 70638"
      ]
     },
     "metadata": {},
     "output_type": "display_data"
    },
    {
     "data": {
      "text/html": [
       "<table class=\"dataframe\">\n",
       "<caption>A tibble: 6 × 5</caption>\n",
       "<thead>\n",
       "\t<tr><th scope=col>GEOID</th><th scope=col>NAME</th><th scope=col>variable</th><th scope=col>estimate</th><th scope=col>moe</th></tr>\n",
       "\t<tr><th scope=col>&lt;chr&gt;</th><th scope=col>&lt;chr&gt;</th><th scope=col>&lt;chr&gt;</th><th scope=col>&lt;dbl&gt;</th><th scope=col>&lt;dbl&gt;</th></tr>\n",
       "</thead>\n",
       "<tbody>\n",
       "\t<tr><td>53001950100</td><td>Census Tract 9501, Adams County, Washington</td><td>B05011_001</td><td>122</td><td>52</td></tr>\n",
       "\t<tr><td>53001950100</td><td>Census Tract 9501, Adams County, Washington</td><td>B05011_002</td><td> 28</td><td>27</td></tr>\n",
       "\t<tr><td>53001950100</td><td>Census Tract 9501, Adams County, Washington</td><td>B05011_003</td><td> 94</td><td>43</td></tr>\n",
       "\t<tr><td>53001950100</td><td>Census Tract 9501, Adams County, Washington</td><td>B05011_004</td><td>  6</td><td>10</td></tr>\n",
       "\t<tr><td>53001950100</td><td>Census Tract 9501, Adams County, Washington</td><td>B05011_005</td><td>  0</td><td>13</td></tr>\n",
       "\t<tr><td>53001950100</td><td>Census Tract 9501, Adams County, Washington</td><td>B05011_006</td><td> 10</td><td>10</td></tr>\n",
       "</tbody>\n",
       "</table>\n"
      ],
      "text/latex": [
       "A tibble: 6 × 5\n",
       "\\begin{tabular}{lllll}\n",
       " GEOID & NAME & variable & estimate & moe\\\\\n",
       " <chr> & <chr> & <chr> & <dbl> & <dbl>\\\\\n",
       "\\hline\n",
       "\t 53001950100 & Census Tract 9501, Adams County, Washington & B05011\\_001 & 122 & 52\\\\\n",
       "\t 53001950100 & Census Tract 9501, Adams County, Washington & B05011\\_002 &  28 & 27\\\\\n",
       "\t 53001950100 & Census Tract 9501, Adams County, Washington & B05011\\_003 &  94 & 43\\\\\n",
       "\t 53001950100 & Census Tract 9501, Adams County, Washington & B05011\\_004 &   6 & 10\\\\\n",
       "\t 53001950100 & Census Tract 9501, Adams County, Washington & B05011\\_005 &   0 & 13\\\\\n",
       "\t 53001950100 & Census Tract 9501, Adams County, Washington & B05011\\_006 &  10 & 10\\\\\n",
       "\\end{tabular}\n"
      ],
      "text/markdown": [
       "\n",
       "A tibble: 6 × 5\n",
       "\n",
       "| GEOID &lt;chr&gt; | NAME &lt;chr&gt; | variable &lt;chr&gt; | estimate &lt;dbl&gt; | moe &lt;dbl&gt; |\n",
       "|---|---|---|---|---|\n",
       "| 53001950100 | Census Tract 9501, Adams County, Washington | B05011_001 | 122 | 52 |\n",
       "| 53001950100 | Census Tract 9501, Adams County, Washington | B05011_002 |  28 | 27 |\n",
       "| 53001950100 | Census Tract 9501, Adams County, Washington | B05011_003 |  94 | 43 |\n",
       "| 53001950100 | Census Tract 9501, Adams County, Washington | B05011_004 |   6 | 10 |\n",
       "| 53001950100 | Census Tract 9501, Adams County, Washington | B05011_005 |   0 | 13 |\n",
       "| 53001950100 | Census Tract 9501, Adams County, Washington | B05011_006 |  10 | 10 |\n",
       "\n"
      ],
      "text/plain": [
       "  GEOID       NAME                                        variable   estimate\n",
       "1 53001950100 Census Tract 9501, Adams County, Washington B05011_001 122     \n",
       "2 53001950100 Census Tract 9501, Adams County, Washington B05011_002  28     \n",
       "3 53001950100 Census Tract 9501, Adams County, Washington B05011_003  94     \n",
       "4 53001950100 Census Tract 9501, Adams County, Washington B05011_004   6     \n",
       "5 53001950100 Census Tract 9501, Adams County, Washington B05011_005   0     \n",
       "6 53001950100 Census Tract 9501, Adams County, Washington B05011_006  10     \n",
       "  moe\n",
       "1 52 \n",
       "2 27 \n",
       "3 43 \n",
       "4 10 \n",
       "5 13 \n",
       "6 10 "
      ]
     },
     "metadata": {},
     "output_type": "display_data"
    }
   ],
   "source": [
    "counties <- c(\n",
    "  \"adams\", \"asotin\", \"ferry\", \"garfield\", \"lincoln\",\n",
    "  \"pend oreille\", \"spokane\", \"stevens\", \"whitman\"\n",
    ")\n",
    "\n",
    "getCensusData <- function(table) {\n",
    "  census_data <- get_acs(\n",
    "    geography = \"tract\",\n",
    "    table = table,\n",
    "    year = 2020,\n",
    "    state = \"WA\",\n",
    "    survey = \"acs5\",\n",
    "    cache_table = FALSE,\n",
    "    county = counties\n",
    "    # ,output = \"wide\"\n",
    "    # , keep_geo_vars = TRUE\n",
    "    # , geometry = TRUE\n",
    "  )\n",
    "  return(census_data)\n",
    "}\n",
    "\n",
    "\n",
    "naturalization <- getCensusData(\"B05011\")\n",
    "nativity <- getCensusData(\"B05012\")\n",
    "transportation <- getCensusData(\"B08101\")\n",
    "type_computer <- getCensusData(\"B28001\")\n",
    "presence_computer <- getCensusData(\"B28003\")\n",
    "internet_subscription <- getCensusData(\"B28011\")\n",
    "age <- getCensusData(\"S0101\")\n",
    "household_income <- getCensusData(\"S1901\")\n",
    "\n",
    "\n",
    "census_data <- naturalization %>%\n",
    "  rbind(., nativity) %>%\n",
    "  rbind(., transportation) %>%\n",
    "  rbind(., type_computer) %>%\n",
    "  rbind(., presence_computer) %>%\n",
    "  rbind(., internet_subscription) %>%\n",
    "  rbind(., age) %>%\n",
    "  rbind(., household_income)\n",
    "\n",
    "\n",
    "nrow(census_data)\n",
    "head(census_data)"
   ]
  },
  {
   "cell_type": "code",
   "execution_count": 5,
   "metadata": {
    "vscode": {
     "languageId": "r"
    }
   },
   "outputs": [],
   "source": [
    "census_data <- census_data %>% inner_join(variable_data, by = c(\"variable\" = \"variable_key\"))\n",
    "\n",
    "census_data <- census_data %>% \n",
    "    select(GEOID, estimate, variable = variable.y)"
   ]
  },
  {
   "cell_type": "code",
   "execution_count": 6,
   "metadata": {
    "vscode": {
     "languageId": "r"
    }
   },
   "outputs": [
    {
     "name": "stderr",
     "output_type": "stream",
     "text": [
      "Retrieving data for the year 2021\n",
      "\n"
     ]
    }
   ],
   "source": [
    "tract_data <- tracts(state = \"washington\", county = counties, progress_bar = FALSE, cb = FALSE)\n",
    "\n",
    "tract_data <- tract_data %>% \n",
    "    select(GEOID, tract = NAME)"
   ]
  },
  {
   "cell_type": "code",
   "execution_count": 7,
   "metadata": {
    "vscode": {
     "languageId": "r"
    }
   },
   "outputs": [
    {
     "name": "stderr",
     "output_type": "stream",
     "text": [
      "\u001b[1m\u001b[22mJoining, by = \"GEOID\"\n"
     ]
    }
   ],
   "source": [
    "census_data <- inner_join(census_data, tract_data)"
   ]
  },
  {
   "cell_type": "code",
   "execution_count": 8,
   "metadata": {
    "vscode": {
     "languageId": "r"
    }
   },
   "outputs": [],
   "source": [
    "census_data <- st_drop_geometry(census_data)"
   ]
  },
  {
   "cell_type": "code",
   "execution_count": 9,
   "metadata": {
    "vscode": {
     "languageId": "r"
    }
   },
   "outputs": [
    {
     "data": {
      "text/html": [
       "<table class=\"dataframe\">\n",
       "<caption>A tibble: 6 × 5</caption>\n",
       "<thead>\n",
       "\t<tr><th scope=col>GEOID</th><th scope=col>estimate</th><th scope=col>variable</th><th scope=col>tract</th><th scope=col>geometry</th></tr>\n",
       "\t<tr><th scope=col>&lt;chr&gt;</th><th scope=col>&lt;dbl&gt;</th><th scope=col>&lt;chr&gt;</th><th scope=col>&lt;chr&gt;</th><th scope=col>&lt;MULTIPOLYGON [°]&gt;</th></tr>\n",
       "</thead>\n",
       "<tbody>\n",
       "\t<tr><td>53001950100</td><td> 28</td><td>estimate_total_not_a_u.s._citizen  </td><td>9501   </td><td>MULTIPOLYGON (((-118.9799 4...</td></tr>\n",
       "\t<tr><td>53001950100</td><td> 94</td><td>estimate_total_naturalized_citizens</td><td>9501   </td><td>MULTIPOLYGON (((-118.9799 4...</td></tr>\n",
       "\t<tr><td>53001950200</td><td>132</td><td>estimate_total_not_a_u.s._citizen  </td><td>9502   </td><td>MULTIPOLYGON (((-118.9826 4...</td></tr>\n",
       "\t<tr><td>53001950200</td><td>  8</td><td>estimate_total_naturalized_citizens</td><td>9502   </td><td>MULTIPOLYGON (((-118.9826 4...</td></tr>\n",
       "\t<tr><td>53001950301</td><td>486</td><td>estimate_total_not_a_u.s._citizen  </td><td>9503.01</td><td>MULTIPOLYGON (((-119.1765 4...</td></tr>\n",
       "\t<tr><td>53001950301</td><td> 31</td><td>estimate_total_naturalized_citizens</td><td>9503.01</td><td>MULTIPOLYGON (((-119.1765 4...</td></tr>\n",
       "</tbody>\n",
       "</table>\n"
      ],
      "text/latex": [
       "A tibble: 6 × 5\n",
       "\\begin{tabular}{lllll}\n",
       " GEOID & estimate & variable & tract & geometry\\\\\n",
       " <chr> & <dbl> & <chr> & <chr> & <MULTIPOLYGON {[}°{]}>\\\\\n",
       "\\hline\n",
       "\t 53001950100 &  28 & estimate\\_total\\_not\\_a\\_u.s.\\_citizen   & 9501    & MULTIPOLYGON (((-118.9799 4...\\\\\n",
       "\t 53001950100 &  94 & estimate\\_total\\_naturalized\\_citizens & 9501    & MULTIPOLYGON (((-118.9799 4...\\\\\n",
       "\t 53001950200 & 132 & estimate\\_total\\_not\\_a\\_u.s.\\_citizen   & 9502    & MULTIPOLYGON (((-118.9826 4...\\\\\n",
       "\t 53001950200 &   8 & estimate\\_total\\_naturalized\\_citizens & 9502    & MULTIPOLYGON (((-118.9826 4...\\\\\n",
       "\t 53001950301 & 486 & estimate\\_total\\_not\\_a\\_u.s.\\_citizen   & 9503.01 & MULTIPOLYGON (((-119.1765 4...\\\\\n",
       "\t 53001950301 &  31 & estimate\\_total\\_naturalized\\_citizens & 9503.01 & MULTIPOLYGON (((-119.1765 4...\\\\\n",
       "\\end{tabular}\n"
      ],
      "text/markdown": [
       "\n",
       "A tibble: 6 × 5\n",
       "\n",
       "| GEOID &lt;chr&gt; | estimate &lt;dbl&gt; | variable &lt;chr&gt; | tract &lt;chr&gt; | geometry &lt;MULTIPOLYGON [°]&gt; |\n",
       "|---|---|---|---|---|\n",
       "| 53001950100 |  28 | estimate_total_not_a_u.s._citizen   | 9501    | MULTIPOLYGON (((-118.9799 4... |\n",
       "| 53001950100 |  94 | estimate_total_naturalized_citizens | 9501    | MULTIPOLYGON (((-118.9799 4... |\n",
       "| 53001950200 | 132 | estimate_total_not_a_u.s._citizen   | 9502    | MULTIPOLYGON (((-118.9826 4... |\n",
       "| 53001950200 |   8 | estimate_total_naturalized_citizens | 9502    | MULTIPOLYGON (((-118.9826 4... |\n",
       "| 53001950301 | 486 | estimate_total_not_a_u.s._citizen   | 9503.01 | MULTIPOLYGON (((-119.1765 4... |\n",
       "| 53001950301 |  31 | estimate_total_naturalized_citizens | 9503.01 | MULTIPOLYGON (((-119.1765 4... |\n",
       "\n"
      ],
      "text/plain": [
       "  GEOID       estimate variable                            tract  \n",
       "1 53001950100  28      estimate_total_not_a_u.s._citizen   9501   \n",
       "2 53001950100  94      estimate_total_naturalized_citizens 9501   \n",
       "3 53001950200 132      estimate_total_not_a_u.s._citizen   9502   \n",
       "4 53001950200   8      estimate_total_naturalized_citizens 9502   \n",
       "5 53001950301 486      estimate_total_not_a_u.s._citizen   9503.01\n",
       "6 53001950301  31      estimate_total_naturalized_citizens 9503.01\n",
       "  geometry                      \n",
       "1 MULTIPOLYGON (((-118.9799 4...\n",
       "2 MULTIPOLYGON (((-118.9799 4...\n",
       "3 MULTIPOLYGON (((-118.9826 4...\n",
       "4 MULTIPOLYGON (((-118.9826 4...\n",
       "5 MULTIPOLYGON (((-119.1765 4...\n",
       "6 MULTIPOLYGON (((-119.1765 4..."
      ]
     },
     "metadata": {},
     "output_type": "display_data"
    }
   ],
   "source": [
    "head(census_data)"
   ]
  },
  {
   "cell_type": "code",
   "execution_count": 10,
   "metadata": {
    "vscode": {
     "languageId": "r"
    }
   },
   "outputs": [],
   "source": [
    "census_data <- census_data %>% \n",
    "    pivot_wider(names_from = variable, values_from = estimate) %>% \n",
    "    select(-geometry)"
   ]
  },
  {
   "cell_type": "code",
   "execution_count": 11,
   "metadata": {
    "vscode": {
     "languageId": "r"
    }
   },
   "outputs": [
    {
     "data": {
      "text/html": [
       "<table class=\"dataframe\">\n",
       "<caption>A tibble: 6 × 24</caption>\n",
       "<thead>\n",
       "\t<tr><th scope=col>GEOID</th><th scope=col>tract</th><th scope=col>estimate_total_not_a_u.s._citizen</th><th scope=col>estimate_total_naturalized_citizens</th><th scope=col>estimate_total_native</th><th scope=col>estimate_total_foreign-born</th><th scope=col>estimate_total_worked_from_home</th><th scope=col>estimate_total_has_one_or_more_types_of_computing_devices_desktop_or_laptop</th><th scope=col>estimate_total_has_one_or_more_types_of_computing_devices_desktop_or_laptop_desktop_or_laptop_with_no_other_type_of_computing_device</th><th scope=col>estimate_total_has_one_or_more_types_of_computing_devices_smartphone</th><th scope=col>⋯</th><th scope=col>estimate_total_with_an_internet_subscription</th><th scope=col>estimate_total_with_an_internet_subscription_dial-up_alone</th><th scope=col>estimate_total_with_an_internet_subscription_broadband_such_as_cable,_fiber_optic,_or_dsl</th><th scope=col>estimate_total_with_an_internet_subscription_satellite_internet_service</th><th scope=col>estimate_total_with_an_internet_subscription_other_service</th><th scope=col>estimate_total_internet_access_without_a_subscription</th><th scope=col>estimate_total_no_internet_access</th><th scope=col>estimate_total_total_population_selected_age_categories_65_years_and_over</th><th scope=col>estimate_households_median_income_(dollars)</th><th scope=col>estimate_households_mean_income_(dollars)</th></tr>\n",
       "\t<tr><th scope=col>&lt;chr&gt;</th><th scope=col>&lt;chr&gt;</th><th scope=col>&lt;dbl&gt;</th><th scope=col>&lt;dbl&gt;</th><th scope=col>&lt;dbl&gt;</th><th scope=col>&lt;dbl&gt;</th><th scope=col>&lt;dbl&gt;</th><th scope=col>&lt;dbl&gt;</th><th scope=col>&lt;dbl&gt;</th><th scope=col>&lt;dbl&gt;</th><th scope=col>⋯</th><th scope=col>&lt;dbl&gt;</th><th scope=col>&lt;dbl&gt;</th><th scope=col>&lt;dbl&gt;</th><th scope=col>&lt;dbl&gt;</th><th scope=col>&lt;dbl&gt;</th><th scope=col>&lt;dbl&gt;</th><th scope=col>&lt;dbl&gt;</th><th scope=col>&lt;dbl&gt;</th><th scope=col>&lt;dbl&gt;</th><th scope=col>&lt;dbl&gt;</th></tr>\n",
       "</thead>\n",
       "<tbody>\n",
       "\t<tr><td>53001950100</td><td>9501   </td><td> 28</td><td> 94</td><td>2484</td><td>122</td><td> 82</td><td>754</td><td>88</td><td>867</td><td>⋯</td><td>910</td><td>5</td><td>597</td><td> 96</td><td>20</td><td>52</td><td>137</td><td>505</td><td>52589</td><td>63888</td></tr>\n",
       "\t<tr><td>53001950200</td><td>9502   </td><td>132</td><td>  8</td><td>1623</td><td>140</td><td> 47</td><td>448</td><td>21</td><td>503</td><td>⋯</td><td>487</td><td>2</td><td>223</td><td>121</td><td>34</td><td> 9</td><td>116</td><td>228</td><td>59886</td><td>61202</td></tr>\n",
       "\t<tr><td>53001950301</td><td>9503.01</td><td>486</td><td> 31</td><td>1064</td><td>517</td><td>  3</td><td>242</td><td>17</td><td>301</td><td>⋯</td><td>327</td><td>0</td><td> 80</td><td>132</td><td> 5</td><td>11</td><td>163</td><td>259</td><td>39928</td><td>53032</td></tr>\n",
       "\t<tr><td>53001950302</td><td>9503.02</td><td>571</td><td>194</td><td>1669</td><td>765</td><td> 26</td><td>305</td><td> 0</td><td>554</td><td>⋯</td><td>515</td><td>0</td><td>340</td><td> 30</td><td> 8</td><td>18</td><td> 88</td><td>258</td><td>58884</td><td>70361</td></tr>\n",
       "\t<tr><td>53001950303</td><td>9503.03</td><td>545</td><td>128</td><td>1841</td><td>673</td><td>110</td><td>396</td><td> 6</td><td>581</td><td>⋯</td><td>557</td><td>0</td><td>436</td><td> 39</td><td>16</td><td> 9</td><td> 66</td><td>271</td><td>50915</td><td>74863</td></tr>\n",
       "\t<tr><td>53001950400</td><td>9504   </td><td>729</td><td>141</td><td>2274</td><td>870</td><td> 23</td><td>455</td><td>46</td><td>639</td><td>⋯</td><td>685</td><td>0</td><td>488</td><td> 48</td><td> 0</td><td>23</td><td>168</td><td>308</td><td>63750</td><td>69882</td></tr>\n",
       "</tbody>\n",
       "</table>\n"
      ],
      "text/latex": [
       "A tibble: 6 × 24\n",
       "\\begin{tabular}{lllllllllllllllllllll}\n",
       " GEOID & tract & estimate\\_total\\_not\\_a\\_u.s.\\_citizen & estimate\\_total\\_naturalized\\_citizens & estimate\\_total\\_native & estimate\\_total\\_foreign-born & estimate\\_total\\_worked\\_from\\_home & estimate\\_total\\_has\\_one\\_or\\_more\\_types\\_of\\_computing\\_devices\\_desktop\\_or\\_laptop & estimate\\_total\\_has\\_one\\_or\\_more\\_types\\_of\\_computing\\_devices\\_desktop\\_or\\_laptop\\_desktop\\_or\\_laptop\\_with\\_no\\_other\\_type\\_of\\_computing\\_device & estimate\\_total\\_has\\_one\\_or\\_more\\_types\\_of\\_computing\\_devices\\_smartphone & ⋯ & estimate\\_total\\_with\\_an\\_internet\\_subscription & estimate\\_total\\_with\\_an\\_internet\\_subscription\\_dial-up\\_alone & estimate\\_total\\_with\\_an\\_internet\\_subscription\\_broadband\\_such\\_as\\_cable,\\_fiber\\_optic,\\_or\\_dsl & estimate\\_total\\_with\\_an\\_internet\\_subscription\\_satellite\\_internet\\_service & estimate\\_total\\_with\\_an\\_internet\\_subscription\\_other\\_service & estimate\\_total\\_internet\\_access\\_without\\_a\\_subscription & estimate\\_total\\_no\\_internet\\_access & estimate\\_total\\_total\\_population\\_selected\\_age\\_categories\\_65\\_years\\_and\\_over & estimate\\_households\\_median\\_income\\_(dollars) & estimate\\_households\\_mean\\_income\\_(dollars)\\\\\n",
       " <chr> & <chr> & <dbl> & <dbl> & <dbl> & <dbl> & <dbl> & <dbl> & <dbl> & <dbl> & ⋯ & <dbl> & <dbl> & <dbl> & <dbl> & <dbl> & <dbl> & <dbl> & <dbl> & <dbl> & <dbl>\\\\\n",
       "\\hline\n",
       "\t 53001950100 & 9501    &  28 &  94 & 2484 & 122 &  82 & 754 & 88 & 867 & ⋯ & 910 & 5 & 597 &  96 & 20 & 52 & 137 & 505 & 52589 & 63888\\\\\n",
       "\t 53001950200 & 9502    & 132 &   8 & 1623 & 140 &  47 & 448 & 21 & 503 & ⋯ & 487 & 2 & 223 & 121 & 34 &  9 & 116 & 228 & 59886 & 61202\\\\\n",
       "\t 53001950301 & 9503.01 & 486 &  31 & 1064 & 517 &   3 & 242 & 17 & 301 & ⋯ & 327 & 0 &  80 & 132 &  5 & 11 & 163 & 259 & 39928 & 53032\\\\\n",
       "\t 53001950302 & 9503.02 & 571 & 194 & 1669 & 765 &  26 & 305 &  0 & 554 & ⋯ & 515 & 0 & 340 &  30 &  8 & 18 &  88 & 258 & 58884 & 70361\\\\\n",
       "\t 53001950303 & 9503.03 & 545 & 128 & 1841 & 673 & 110 & 396 &  6 & 581 & ⋯ & 557 & 0 & 436 &  39 & 16 &  9 &  66 & 271 & 50915 & 74863\\\\\n",
       "\t 53001950400 & 9504    & 729 & 141 & 2274 & 870 &  23 & 455 & 46 & 639 & ⋯ & 685 & 0 & 488 &  48 &  0 & 23 & 168 & 308 & 63750 & 69882\\\\\n",
       "\\end{tabular}\n"
      ],
      "text/markdown": [
       "\n",
       "A tibble: 6 × 24\n",
       "\n",
       "| GEOID &lt;chr&gt; | tract &lt;chr&gt; | estimate_total_not_a_u.s._citizen &lt;dbl&gt; | estimate_total_naturalized_citizens &lt;dbl&gt; | estimate_total_native &lt;dbl&gt; | estimate_total_foreign-born &lt;dbl&gt; | estimate_total_worked_from_home &lt;dbl&gt; | estimate_total_has_one_or_more_types_of_computing_devices_desktop_or_laptop &lt;dbl&gt; | estimate_total_has_one_or_more_types_of_computing_devices_desktop_or_laptop_desktop_or_laptop_with_no_other_type_of_computing_device &lt;dbl&gt; | estimate_total_has_one_or_more_types_of_computing_devices_smartphone &lt;dbl&gt; | ⋯ ⋯ | estimate_total_with_an_internet_subscription &lt;dbl&gt; | estimate_total_with_an_internet_subscription_dial-up_alone &lt;dbl&gt; | estimate_total_with_an_internet_subscription_broadband_such_as_cable,_fiber_optic,_or_dsl &lt;dbl&gt; | estimate_total_with_an_internet_subscription_satellite_internet_service &lt;dbl&gt; | estimate_total_with_an_internet_subscription_other_service &lt;dbl&gt; | estimate_total_internet_access_without_a_subscription &lt;dbl&gt; | estimate_total_no_internet_access &lt;dbl&gt; | estimate_total_total_population_selected_age_categories_65_years_and_over &lt;dbl&gt; | estimate_households_median_income_(dollars) &lt;dbl&gt; | estimate_households_mean_income_(dollars) &lt;dbl&gt; |\n",
       "|---|---|---|---|---|---|---|---|---|---|---|---|---|---|---|---|---|---|---|---|---|\n",
       "| 53001950100 | 9501    |  28 |  94 | 2484 | 122 |  82 | 754 | 88 | 867 | ⋯ | 910 | 5 | 597 |  96 | 20 | 52 | 137 | 505 | 52589 | 63888 |\n",
       "| 53001950200 | 9502    | 132 |   8 | 1623 | 140 |  47 | 448 | 21 | 503 | ⋯ | 487 | 2 | 223 | 121 | 34 |  9 | 116 | 228 | 59886 | 61202 |\n",
       "| 53001950301 | 9503.01 | 486 |  31 | 1064 | 517 |   3 | 242 | 17 | 301 | ⋯ | 327 | 0 |  80 | 132 |  5 | 11 | 163 | 259 | 39928 | 53032 |\n",
       "| 53001950302 | 9503.02 | 571 | 194 | 1669 | 765 |  26 | 305 |  0 | 554 | ⋯ | 515 | 0 | 340 |  30 |  8 | 18 |  88 | 258 | 58884 | 70361 |\n",
       "| 53001950303 | 9503.03 | 545 | 128 | 1841 | 673 | 110 | 396 |  6 | 581 | ⋯ | 557 | 0 | 436 |  39 | 16 |  9 |  66 | 271 | 50915 | 74863 |\n",
       "| 53001950400 | 9504    | 729 | 141 | 2274 | 870 |  23 | 455 | 46 | 639 | ⋯ | 685 | 0 | 488 |  48 |  0 | 23 | 168 | 308 | 63750 | 69882 |\n",
       "\n"
      ],
      "text/plain": [
       "  GEOID       tract   estimate_total_not_a_u.s._citizen\n",
       "1 53001950100 9501     28                              \n",
       "2 53001950200 9502    132                              \n",
       "3 53001950301 9503.01 486                              \n",
       "4 53001950302 9503.02 571                              \n",
       "5 53001950303 9503.03 545                              \n",
       "6 53001950400 9504    729                              \n",
       "  estimate_total_naturalized_citizens estimate_total_native\n",
       "1  94                                 2484                 \n",
       "2   8                                 1623                 \n",
       "3  31                                 1064                 \n",
       "4 194                                 1669                 \n",
       "5 128                                 1841                 \n",
       "6 141                                 2274                 \n",
       "  estimate_total_foreign-born estimate_total_worked_from_home\n",
       "1 122                          82                            \n",
       "2 140                          47                            \n",
       "3 517                           3                            \n",
       "4 765                          26                            \n",
       "5 673                         110                            \n",
       "6 870                          23                            \n",
       "  estimate_total_has_one_or_more_types_of_computing_devices_desktop_or_laptop\n",
       "1 754                                                                        \n",
       "2 448                                                                        \n",
       "3 242                                                                        \n",
       "4 305                                                                        \n",
       "5 396                                                                        \n",
       "6 455                                                                        \n",
       "  estimate_total_has_one_or_more_types_of_computing_devices_desktop_or_laptop_desktop_or_laptop_with_no_other_type_of_computing_device\n",
       "1 88                                                                                                                                  \n",
       "2 21                                                                                                                                  \n",
       "3 17                                                                                                                                  \n",
       "4  0                                                                                                                                  \n",
       "5  6                                                                                                                                  \n",
       "6 46                                                                                                                                  \n",
       "  estimate_total_has_one_or_more_types_of_computing_devices_smartphone ⋯\n",
       "1 867                                                                  ⋯\n",
       "2 503                                                                  ⋯\n",
       "3 301                                                                  ⋯\n",
       "4 554                                                                  ⋯\n",
       "5 581                                                                  ⋯\n",
       "6 639                                                                  ⋯\n",
       "  estimate_total_with_an_internet_subscription\n",
       "1 910                                         \n",
       "2 487                                         \n",
       "3 327                                         \n",
       "4 515                                         \n",
       "5 557                                         \n",
       "6 685                                         \n",
       "  estimate_total_with_an_internet_subscription_dial-up_alone\n",
       "1 5                                                         \n",
       "2 2                                                         \n",
       "3 0                                                         \n",
       "4 0                                                         \n",
       "5 0                                                         \n",
       "6 0                                                         \n",
       "  estimate_total_with_an_internet_subscription_broadband_such_as_cable,_fiber_optic,_or_dsl\n",
       "1 597                                                                                      \n",
       "2 223                                                                                      \n",
       "3  80                                                                                      \n",
       "4 340                                                                                      \n",
       "5 436                                                                                      \n",
       "6 488                                                                                      \n",
       "  estimate_total_with_an_internet_subscription_satellite_internet_service\n",
       "1  96                                                                    \n",
       "2 121                                                                    \n",
       "3 132                                                                    \n",
       "4  30                                                                    \n",
       "5  39                                                                    \n",
       "6  48                                                                    \n",
       "  estimate_total_with_an_internet_subscription_other_service\n",
       "1 20                                                        \n",
       "2 34                                                        \n",
       "3  5                                                        \n",
       "4  8                                                        \n",
       "5 16                                                        \n",
       "6  0                                                        \n",
       "  estimate_total_internet_access_without_a_subscription\n",
       "1 52                                                   \n",
       "2  9                                                   \n",
       "3 11                                                   \n",
       "4 18                                                   \n",
       "5  9                                                   \n",
       "6 23                                                   \n",
       "  estimate_total_no_internet_access\n",
       "1 137                              \n",
       "2 116                              \n",
       "3 163                              \n",
       "4  88                              \n",
       "5  66                              \n",
       "6 168                              \n",
       "  estimate_total_total_population_selected_age_categories_65_years_and_over\n",
       "1 505                                                                      \n",
       "2 228                                                                      \n",
       "3 259                                                                      \n",
       "4 258                                                                      \n",
       "5 271                                                                      \n",
       "6 308                                                                      \n",
       "  estimate_households_median_income_(dollars)\n",
       "1 52589                                      \n",
       "2 59886                                      \n",
       "3 39928                                      \n",
       "4 58884                                      \n",
       "5 50915                                      \n",
       "6 63750                                      \n",
       "  estimate_households_mean_income_(dollars)\n",
       "1 63888                                    \n",
       "2 61202                                    \n",
       "3 53032                                    \n",
       "4 70361                                    \n",
       "5 74863                                    \n",
       "6 69882                                    "
      ]
     },
     "metadata": {},
     "output_type": "display_data"
    }
   ],
   "source": [
    "head(census_data)"
   ]
  },
  {
   "cell_type": "code",
   "execution_count": 12,
   "metadata": {
    "vscode": {
     "languageId": "r"
    }
   },
   "outputs": [
    {
     "data": {
      "text/html": [
       "<style>\n",
       ".list-inline {list-style: none; margin:0; padding: 0}\n",
       ".list-inline>li {display: inline-block}\n",
       ".list-inline>li:not(:last-child)::after {content: \"\\00b7\"; padding: 0 .5ex}\n",
       "</style>\n",
       "<ol class=list-inline><li>'GEOID'</li><li>'tract'</li><li>'estimate_total_not_a_u.s._citizen'</li><li>'estimate_total_naturalized_citizens'</li><li>'estimate_total_native'</li><li>'estimate_total_foreign-born'</li><li>'estimate_total_worked_from_home'</li><li>'estimate_total_has_one_or_more_types_of_computing_devices_desktop_or_laptop'</li><li>'estimate_total_has_one_or_more_types_of_computing_devices_desktop_or_laptop_desktop_or_laptop_with_no_other_type_of_computing_device'</li><li>'estimate_total_has_one_or_more_types_of_computing_devices_smartphone'</li><li>'estimate_total_has_one_or_more_types_of_computing_devices_smartphone_smartphone_with_no_other_type_of_computing_device'</li><li>'estimate_total_has_one_or_more_types_of_computing_devices_tablet_or_other_portable_wireless_computer'</li><li>'estimate_total_has_a_computer'</li><li>'estimate_total_no_computer'</li><li>'estimate_total_with_an_internet_subscription'</li><li>'estimate_total_with_an_internet_subscription_dial-up_alone'</li><li>'estimate_total_with_an_internet_subscription_broadband_such_as_cable,_fiber_optic,_or_dsl'</li><li>'estimate_total_with_an_internet_subscription_satellite_internet_service'</li><li>'estimate_total_with_an_internet_subscription_other_service'</li><li>'estimate_total_internet_access_without_a_subscription'</li><li>'estimate_total_no_internet_access'</li><li>'estimate_total_total_population_selected_age_categories_65_years_and_over'</li><li>'estimate_households_median_income_(dollars)'</li><li>'estimate_households_mean_income_(dollars)'</li></ol>\n"
      ],
      "text/latex": [
       "\\begin{enumerate*}\n",
       "\\item 'GEOID'\n",
       "\\item 'tract'\n",
       "\\item 'estimate\\_total\\_not\\_a\\_u.s.\\_citizen'\n",
       "\\item 'estimate\\_total\\_naturalized\\_citizens'\n",
       "\\item 'estimate\\_total\\_native'\n",
       "\\item 'estimate\\_total\\_foreign-born'\n",
       "\\item 'estimate\\_total\\_worked\\_from\\_home'\n",
       "\\item 'estimate\\_total\\_has\\_one\\_or\\_more\\_types\\_of\\_computing\\_devices\\_desktop\\_or\\_laptop'\n",
       "\\item 'estimate\\_total\\_has\\_one\\_or\\_more\\_types\\_of\\_computing\\_devices\\_desktop\\_or\\_laptop\\_desktop\\_or\\_laptop\\_with\\_no\\_other\\_type\\_of\\_computing\\_device'\n",
       "\\item 'estimate\\_total\\_has\\_one\\_or\\_more\\_types\\_of\\_computing\\_devices\\_smartphone'\n",
       "\\item 'estimate\\_total\\_has\\_one\\_or\\_more\\_types\\_of\\_computing\\_devices\\_smartphone\\_smartphone\\_with\\_no\\_other\\_type\\_of\\_computing\\_device'\n",
       "\\item 'estimate\\_total\\_has\\_one\\_or\\_more\\_types\\_of\\_computing\\_devices\\_tablet\\_or\\_other\\_portable\\_wireless\\_computer'\n",
       "\\item 'estimate\\_total\\_has\\_a\\_computer'\n",
       "\\item 'estimate\\_total\\_no\\_computer'\n",
       "\\item 'estimate\\_total\\_with\\_an\\_internet\\_subscription'\n",
       "\\item 'estimate\\_total\\_with\\_an\\_internet\\_subscription\\_dial-up\\_alone'\n",
       "\\item 'estimate\\_total\\_with\\_an\\_internet\\_subscription\\_broadband\\_such\\_as\\_cable,\\_fiber\\_optic,\\_or\\_dsl'\n",
       "\\item 'estimate\\_total\\_with\\_an\\_internet\\_subscription\\_satellite\\_internet\\_service'\n",
       "\\item 'estimate\\_total\\_with\\_an\\_internet\\_subscription\\_other\\_service'\n",
       "\\item 'estimate\\_total\\_internet\\_access\\_without\\_a\\_subscription'\n",
       "\\item 'estimate\\_total\\_no\\_internet\\_access'\n",
       "\\item 'estimate\\_total\\_total\\_population\\_selected\\_age\\_categories\\_65\\_years\\_and\\_over'\n",
       "\\item 'estimate\\_households\\_median\\_income\\_(dollars)'\n",
       "\\item 'estimate\\_households\\_mean\\_income\\_(dollars)'\n",
       "\\end{enumerate*}\n"
      ],
      "text/markdown": [
       "1. 'GEOID'\n",
       "2. 'tract'\n",
       "3. 'estimate_total_not_a_u.s._citizen'\n",
       "4. 'estimate_total_naturalized_citizens'\n",
       "5. 'estimate_total_native'\n",
       "6. 'estimate_total_foreign-born'\n",
       "7. 'estimate_total_worked_from_home'\n",
       "8. 'estimate_total_has_one_or_more_types_of_computing_devices_desktop_or_laptop'\n",
       "9. 'estimate_total_has_one_or_more_types_of_computing_devices_desktop_or_laptop_desktop_or_laptop_with_no_other_type_of_computing_device'\n",
       "10. 'estimate_total_has_one_or_more_types_of_computing_devices_smartphone'\n",
       "11. 'estimate_total_has_one_or_more_types_of_computing_devices_smartphone_smartphone_with_no_other_type_of_computing_device'\n",
       "12. 'estimate_total_has_one_or_more_types_of_computing_devices_tablet_or_other_portable_wireless_computer'\n",
       "13. 'estimate_total_has_a_computer'\n",
       "14. 'estimate_total_no_computer'\n",
       "15. 'estimate_total_with_an_internet_subscription'\n",
       "16. 'estimate_total_with_an_internet_subscription_dial-up_alone'\n",
       "17. 'estimate_total_with_an_internet_subscription_broadband_such_as_cable,_fiber_optic,_or_dsl'\n",
       "18. 'estimate_total_with_an_internet_subscription_satellite_internet_service'\n",
       "19. 'estimate_total_with_an_internet_subscription_other_service'\n",
       "20. 'estimate_total_internet_access_without_a_subscription'\n",
       "21. 'estimate_total_no_internet_access'\n",
       "22. 'estimate_total_total_population_selected_age_categories_65_years_and_over'\n",
       "23. 'estimate_households_median_income_(dollars)'\n",
       "24. 'estimate_households_mean_income_(dollars)'\n",
       "\n",
       "\n"
      ],
      "text/plain": [
       " [1] \"GEOID\"                                                                                                                               \n",
       " [2] \"tract\"                                                                                                                               \n",
       " [3] \"estimate_total_not_a_u.s._citizen\"                                                                                                   \n",
       " [4] \"estimate_total_naturalized_citizens\"                                                                                                 \n",
       " [5] \"estimate_total_native\"                                                                                                               \n",
       " [6] \"estimate_total_foreign-born\"                                                                                                         \n",
       " [7] \"estimate_total_worked_from_home\"                                                                                                     \n",
       " [8] \"estimate_total_has_one_or_more_types_of_computing_devices_desktop_or_laptop\"                                                         \n",
       " [9] \"estimate_total_has_one_or_more_types_of_computing_devices_desktop_or_laptop_desktop_or_laptop_with_no_other_type_of_computing_device\"\n",
       "[10] \"estimate_total_has_one_or_more_types_of_computing_devices_smartphone\"                                                                \n",
       "[11] \"estimate_total_has_one_or_more_types_of_computing_devices_smartphone_smartphone_with_no_other_type_of_computing_device\"              \n",
       "[12] \"estimate_total_has_one_or_more_types_of_computing_devices_tablet_or_other_portable_wireless_computer\"                                \n",
       "[13] \"estimate_total_has_a_computer\"                                                                                                       \n",
       "[14] \"estimate_total_no_computer\"                                                                                                          \n",
       "[15] \"estimate_total_with_an_internet_subscription\"                                                                                        \n",
       "[16] \"estimate_total_with_an_internet_subscription_dial-up_alone\"                                                                          \n",
       "[17] \"estimate_total_with_an_internet_subscription_broadband_such_as_cable,_fiber_optic,_or_dsl\"                                           \n",
       "[18] \"estimate_total_with_an_internet_subscription_satellite_internet_service\"                                                             \n",
       "[19] \"estimate_total_with_an_internet_subscription_other_service\"                                                                          \n",
       "[20] \"estimate_total_internet_access_without_a_subscription\"                                                                               \n",
       "[21] \"estimate_total_no_internet_access\"                                                                                                   \n",
       "[22] \"estimate_total_total_population_selected_age_categories_65_years_and_over\"                                                           \n",
       "[23] \"estimate_households_median_income_(dollars)\"                                                                                         \n",
       "[24] \"estimate_households_mean_income_(dollars)\"                                                                                           "
      ]
     },
     "metadata": {},
     "output_type": "display_data"
    }
   ],
   "source": [
    "names(census_data)"
   ]
  },
  {
   "cell_type": "code",
   "execution_count": 13,
   "metadata": {
    "vscode": {
     "languageId": "r"
    }
   },
   "outputs": [],
   "source": [
    "census_data <- census_data %>% \n",
    "    rename(\n",
    "        not_citizen = estimate_total_not_a_u.s._citizen,\n",
    "        naturalized_citizen = estimate_total_naturalized_citizens,\n",
    "        native_citizen = estimate_total_native,\n",
    "        foreign_born = 'estimate_total_foreign-born',\n",
    "        work_from_home = estimate_total_worked_from_home,\n",
    "        desktop_or_laptop = estimate_total_has_one_or_more_types_of_computing_devices_desktop_or_laptop,\n",
    "        desktop_or_laptop_only = estimate_total_has_one_or_more_types_of_computing_devices_desktop_or_laptop_desktop_or_laptop_with_no_other_type_of_computing_device,\n",
    "        smartphone = estimate_total_has_one_or_more_types_of_computing_devices_smartphone,\n",
    "        smartphone_only = estimate_total_has_one_or_more_types_of_computing_devices_smartphone_smartphone_with_no_other_type_of_computing_device,\n",
    "        tablet_or_portable = estimate_total_has_one_or_more_types_of_computing_devices_tablet_or_other_portable_wireless_computer,\n",
    "        has_computer = estimate_total_has_a_computer,\n",
    "        no_computer = estimate_total_no_computer,\n",
    "        internet_subscription = estimate_total_with_an_internet_subscription,\n",
    "        dial_up = 'estimate_total_with_an_internet_subscription_dial-up_alone',\n",
    "        broadband = 'estimate_total_with_an_internet_subscription_broadband_such_as_cable,_fiber_optic,_or_dsl',\n",
    "        satellite = estimate_total_with_an_internet_subscription_satellite_internet_service,\n",
    "        other_internet_service = estimate_total_with_an_internet_subscription_other_service,\n",
    "        access_with_no_subscription = estimate_total_internet_access_without_a_subscription,\n",
    "        no_internet_access = estimate_total_no_internet_access,\n",
    "        sixty_five_and_older = estimate_total_total_population_selected_age_categories_65_years_and_over,                                                           \n",
    "        median_income = \"estimate_households_median_income_(dollars)\",                                                                                         \n",
    "        mean_income = \"estimate_households_mean_income_(dollars)\"\n",
    "    )"
   ]
  },
  {
   "cell_type": "code",
   "execution_count": 14,
   "metadata": {
    "vscode": {
     "languageId": "r"
    }
   },
   "outputs": [
    {
     "data": {
      "text/html": [
       "<table class=\"dataframe\">\n",
       "<caption>A tibble: 6 × 24</caption>\n",
       "<thead>\n",
       "\t<tr><th scope=col>GEOID</th><th scope=col>tract</th><th scope=col>not_citizen</th><th scope=col>naturalized_citizen</th><th scope=col>native_citizen</th><th scope=col>foreign_born</th><th scope=col>work_from_home</th><th scope=col>desktop_or_laptop</th><th scope=col>desktop_or_laptop_only</th><th scope=col>smartphone</th><th scope=col>⋯</th><th scope=col>internet_subscription</th><th scope=col>dial_up</th><th scope=col>broadband</th><th scope=col>satellite</th><th scope=col>other_internet_service</th><th scope=col>access_with_no_subscription</th><th scope=col>no_internet_access</th><th scope=col>sixty_five_and_older</th><th scope=col>median_income</th><th scope=col>mean_income</th></tr>\n",
       "\t<tr><th scope=col>&lt;chr&gt;</th><th scope=col>&lt;chr&gt;</th><th scope=col>&lt;dbl&gt;</th><th scope=col>&lt;dbl&gt;</th><th scope=col>&lt;dbl&gt;</th><th scope=col>&lt;dbl&gt;</th><th scope=col>&lt;dbl&gt;</th><th scope=col>&lt;dbl&gt;</th><th scope=col>&lt;dbl&gt;</th><th scope=col>&lt;dbl&gt;</th><th scope=col>⋯</th><th scope=col>&lt;dbl&gt;</th><th scope=col>&lt;dbl&gt;</th><th scope=col>&lt;dbl&gt;</th><th scope=col>&lt;dbl&gt;</th><th scope=col>&lt;dbl&gt;</th><th scope=col>&lt;dbl&gt;</th><th scope=col>&lt;dbl&gt;</th><th scope=col>&lt;dbl&gt;</th><th scope=col>&lt;dbl&gt;</th><th scope=col>&lt;dbl&gt;</th></tr>\n",
       "</thead>\n",
       "<tbody>\n",
       "\t<tr><td>53001950100</td><td>9501   </td><td> 28</td><td> 94</td><td>2484</td><td>122</td><td> 82</td><td>754</td><td>88</td><td>867</td><td>⋯</td><td>910</td><td>5</td><td>597</td><td> 96</td><td>20</td><td>52</td><td>137</td><td>505</td><td>52589</td><td>63888</td></tr>\n",
       "\t<tr><td>53001950200</td><td>9502   </td><td>132</td><td>  8</td><td>1623</td><td>140</td><td> 47</td><td>448</td><td>21</td><td>503</td><td>⋯</td><td>487</td><td>2</td><td>223</td><td>121</td><td>34</td><td> 9</td><td>116</td><td>228</td><td>59886</td><td>61202</td></tr>\n",
       "\t<tr><td>53001950301</td><td>9503.01</td><td>486</td><td> 31</td><td>1064</td><td>517</td><td>  3</td><td>242</td><td>17</td><td>301</td><td>⋯</td><td>327</td><td>0</td><td> 80</td><td>132</td><td> 5</td><td>11</td><td>163</td><td>259</td><td>39928</td><td>53032</td></tr>\n",
       "\t<tr><td>53001950302</td><td>9503.02</td><td>571</td><td>194</td><td>1669</td><td>765</td><td> 26</td><td>305</td><td> 0</td><td>554</td><td>⋯</td><td>515</td><td>0</td><td>340</td><td> 30</td><td> 8</td><td>18</td><td> 88</td><td>258</td><td>58884</td><td>70361</td></tr>\n",
       "\t<tr><td>53001950303</td><td>9503.03</td><td>545</td><td>128</td><td>1841</td><td>673</td><td>110</td><td>396</td><td> 6</td><td>581</td><td>⋯</td><td>557</td><td>0</td><td>436</td><td> 39</td><td>16</td><td> 9</td><td> 66</td><td>271</td><td>50915</td><td>74863</td></tr>\n",
       "\t<tr><td>53001950400</td><td>9504   </td><td>729</td><td>141</td><td>2274</td><td>870</td><td> 23</td><td>455</td><td>46</td><td>639</td><td>⋯</td><td>685</td><td>0</td><td>488</td><td> 48</td><td> 0</td><td>23</td><td>168</td><td>308</td><td>63750</td><td>69882</td></tr>\n",
       "</tbody>\n",
       "</table>\n"
      ],
      "text/latex": [
       "A tibble: 6 × 24\n",
       "\\begin{tabular}{lllllllllllllllllllll}\n",
       " GEOID & tract & not\\_citizen & naturalized\\_citizen & native\\_citizen & foreign\\_born & work\\_from\\_home & desktop\\_or\\_laptop & desktop\\_or\\_laptop\\_only & smartphone & ⋯ & internet\\_subscription & dial\\_up & broadband & satellite & other\\_internet\\_service & access\\_with\\_no\\_subscription & no\\_internet\\_access & sixty\\_five\\_and\\_older & median\\_income & mean\\_income\\\\\n",
       " <chr> & <chr> & <dbl> & <dbl> & <dbl> & <dbl> & <dbl> & <dbl> & <dbl> & <dbl> & ⋯ & <dbl> & <dbl> & <dbl> & <dbl> & <dbl> & <dbl> & <dbl> & <dbl> & <dbl> & <dbl>\\\\\n",
       "\\hline\n",
       "\t 53001950100 & 9501    &  28 &  94 & 2484 & 122 &  82 & 754 & 88 & 867 & ⋯ & 910 & 5 & 597 &  96 & 20 & 52 & 137 & 505 & 52589 & 63888\\\\\n",
       "\t 53001950200 & 9502    & 132 &   8 & 1623 & 140 &  47 & 448 & 21 & 503 & ⋯ & 487 & 2 & 223 & 121 & 34 &  9 & 116 & 228 & 59886 & 61202\\\\\n",
       "\t 53001950301 & 9503.01 & 486 &  31 & 1064 & 517 &   3 & 242 & 17 & 301 & ⋯ & 327 & 0 &  80 & 132 &  5 & 11 & 163 & 259 & 39928 & 53032\\\\\n",
       "\t 53001950302 & 9503.02 & 571 & 194 & 1669 & 765 &  26 & 305 &  0 & 554 & ⋯ & 515 & 0 & 340 &  30 &  8 & 18 &  88 & 258 & 58884 & 70361\\\\\n",
       "\t 53001950303 & 9503.03 & 545 & 128 & 1841 & 673 & 110 & 396 &  6 & 581 & ⋯ & 557 & 0 & 436 &  39 & 16 &  9 &  66 & 271 & 50915 & 74863\\\\\n",
       "\t 53001950400 & 9504    & 729 & 141 & 2274 & 870 &  23 & 455 & 46 & 639 & ⋯ & 685 & 0 & 488 &  48 &  0 & 23 & 168 & 308 & 63750 & 69882\\\\\n",
       "\\end{tabular}\n"
      ],
      "text/markdown": [
       "\n",
       "A tibble: 6 × 24\n",
       "\n",
       "| GEOID &lt;chr&gt; | tract &lt;chr&gt; | not_citizen &lt;dbl&gt; | naturalized_citizen &lt;dbl&gt; | native_citizen &lt;dbl&gt; | foreign_born &lt;dbl&gt; | work_from_home &lt;dbl&gt; | desktop_or_laptop &lt;dbl&gt; | desktop_or_laptop_only &lt;dbl&gt; | smartphone &lt;dbl&gt; | ⋯ ⋯ | internet_subscription &lt;dbl&gt; | dial_up &lt;dbl&gt; | broadband &lt;dbl&gt; | satellite &lt;dbl&gt; | other_internet_service &lt;dbl&gt; | access_with_no_subscription &lt;dbl&gt; | no_internet_access &lt;dbl&gt; | sixty_five_and_older &lt;dbl&gt; | median_income &lt;dbl&gt; | mean_income &lt;dbl&gt; |\n",
       "|---|---|---|---|---|---|---|---|---|---|---|---|---|---|---|---|---|---|---|---|---|\n",
       "| 53001950100 | 9501    |  28 |  94 | 2484 | 122 |  82 | 754 | 88 | 867 | ⋯ | 910 | 5 | 597 |  96 | 20 | 52 | 137 | 505 | 52589 | 63888 |\n",
       "| 53001950200 | 9502    | 132 |   8 | 1623 | 140 |  47 | 448 | 21 | 503 | ⋯ | 487 | 2 | 223 | 121 | 34 |  9 | 116 | 228 | 59886 | 61202 |\n",
       "| 53001950301 | 9503.01 | 486 |  31 | 1064 | 517 |   3 | 242 | 17 | 301 | ⋯ | 327 | 0 |  80 | 132 |  5 | 11 | 163 | 259 | 39928 | 53032 |\n",
       "| 53001950302 | 9503.02 | 571 | 194 | 1669 | 765 |  26 | 305 |  0 | 554 | ⋯ | 515 | 0 | 340 |  30 |  8 | 18 |  88 | 258 | 58884 | 70361 |\n",
       "| 53001950303 | 9503.03 | 545 | 128 | 1841 | 673 | 110 | 396 |  6 | 581 | ⋯ | 557 | 0 | 436 |  39 | 16 |  9 |  66 | 271 | 50915 | 74863 |\n",
       "| 53001950400 | 9504    | 729 | 141 | 2274 | 870 |  23 | 455 | 46 | 639 | ⋯ | 685 | 0 | 488 |  48 |  0 | 23 | 168 | 308 | 63750 | 69882 |\n",
       "\n"
      ],
      "text/plain": [
       "  GEOID       tract   not_citizen naturalized_citizen native_citizen\n",
       "1 53001950100 9501     28          94                 2484          \n",
       "2 53001950200 9502    132           8                 1623          \n",
       "3 53001950301 9503.01 486          31                 1064          \n",
       "4 53001950302 9503.02 571         194                 1669          \n",
       "5 53001950303 9503.03 545         128                 1841          \n",
       "6 53001950400 9504    729         141                 2274          \n",
       "  foreign_born work_from_home desktop_or_laptop desktop_or_laptop_only\n",
       "1 122           82            754               88                    \n",
       "2 140           47            448               21                    \n",
       "3 517            3            242               17                    \n",
       "4 765           26            305                0                    \n",
       "5 673          110            396                6                    \n",
       "6 870           23            455               46                    \n",
       "  smartphone ⋯ internet_subscription dial_up broadband satellite\n",
       "1 867        ⋯ 910                   5       597        96      \n",
       "2 503        ⋯ 487                   2       223       121      \n",
       "3 301        ⋯ 327                   0        80       132      \n",
       "4 554        ⋯ 515                   0       340        30      \n",
       "5 581        ⋯ 557                   0       436        39      \n",
       "6 639        ⋯ 685                   0       488        48      \n",
       "  other_internet_service access_with_no_subscription no_internet_access\n",
       "1 20                     52                          137               \n",
       "2 34                      9                          116               \n",
       "3  5                     11                          163               \n",
       "4  8                     18                           88               \n",
       "5 16                      9                           66               \n",
       "6  0                     23                          168               \n",
       "  sixty_five_and_older median_income mean_income\n",
       "1 505                  52589         63888      \n",
       "2 228                  59886         61202      \n",
       "3 259                  39928         53032      \n",
       "4 258                  58884         70361      \n",
       "5 271                  50915         74863      \n",
       "6 308                  63750         69882      "
      ]
     },
     "metadata": {},
     "output_type": "display_data"
    }
   ],
   "source": [
    "head(census_data)"
   ]
  },
  {
   "cell_type": "code",
   "execution_count": 19,
   "metadata": {
    "vscode": {
     "languageId": "r"
    }
   },
   "outputs": [],
   "source": [
    "census_data$median_income[is.na(census_data$median_income)] <- mean(census_data$median_income, na.rm=TRUE)\n"
   ]
  },
  {
   "cell_type": "code",
   "execution_count": 20,
   "metadata": {
    "vscode": {
     "languageId": "r"
    }
   },
   "outputs": [
    {
     "data": {
      "text/plain": [
       "    GEOID              tract            not_citizen   naturalized_citizen\n",
       " Length:183         Length:183         Min.   :   0   Min.   :  0.0      \n",
       " Class :character   Class :character   1st Qu.:  23   1st Qu.: 37.5      \n",
       " Mode  :character   Mode  :character   Median :  51   Median : 81.0      \n",
       "                                       Mean   : 116   Mean   :106.6      \n",
       "                                       3rd Qu.: 120   3rd Qu.:151.0      \n",
       "                                       Max.   :1358   Max.   :511.0      \n",
       " native_citizen  foreign_born    work_from_home  desktop_or_laptop\n",
       " Min.   :1036   Min.   :   0.0   Min.   :  0.0   Min.   : 186.0   \n",
       " 1st Qu.:2545   1st Qu.:  82.5   1st Qu.: 55.0   1st Qu.: 820.5   \n",
       " Median :3326   Median : 141.0   Median :116.0   Median :1141.0   \n",
       " Mean   :3519   Mean   : 222.6   Mean   :132.3   Mean   :1201.2   \n",
       " 3rd Qu.:4216   3rd Qu.: 280.0   3rd Qu.:175.0   3rd Qu.:1497.5   \n",
       " Max.   :7437   Max.   :1714.0   Max.   :518.0   Max.   :2843.0   \n",
       " desktop_or_laptop_only   smartphone     smartphone_only tablet_or_portable\n",
       " Min.   :  0.00         Min.   : 186.0   Min.   :  0.0   Min.   :  99.0    \n",
       " 1st Qu.: 43.50         1st Qu.: 860.5   1st Qu.: 49.0   1st Qu.: 627.5    \n",
       " Median : 72.00         Median :1171.0   Median : 86.0   Median : 847.0    \n",
       " Mean   : 83.79         Mean   :1248.4   Mean   :107.0   Mean   : 919.5    \n",
       " 3rd Qu.:117.00         3rd Qu.:1529.0   3rd Qu.:147.5   3rd Qu.:1126.5    \n",
       " Max.   :242.00         Max.   :3212.0   Max.   :461.0   Max.   :2204.0    \n",
       "  has_computer   no_computer    internet_subscription    dial_up       \n",
       " Min.   : 186   Min.   :  0.0   Min.   : 168          Min.   :  0.000  \n",
       " 1st Qu.:1016   1st Qu.: 50.0   1st Qu.: 922          1st Qu.:  0.000  \n",
       " Median :1307   Median : 84.0   Median :1224          Median :  0.000  \n",
       " Mean   :1388   Mean   :102.3   Mean   :1298          Mean   :  6.541  \n",
       " 3rd Qu.:1753   3rd Qu.:140.0   3rd Qu.:1611          3rd Qu.:  9.000  \n",
       " Max.   :3365   Max.   :380.0   Max.   :2927          Max.   :106.000  \n",
       "   broadband        satellite     other_internet_service\n",
       " Min.   :  80.0   Min.   :  0.0   Min.   :  0.00        \n",
       " 1st Qu.: 647.5   1st Qu.: 48.0   1st Qu.:  0.00        \n",
       " Median : 987.0   Median : 83.0   Median : 16.00        \n",
       " Mean   :1043.1   Mean   :118.6   Mean   : 25.54        \n",
       " 3rd Qu.:1418.5   3rd Qu.:163.5   3rd Qu.: 41.00        \n",
       " Max.   :2563.0   Max.   :534.0   Max.   :134.00        \n",
       " access_with_no_subscription no_internet_access sixty_five_and_older\n",
       " Min.   :  0.00              Min.   :  0.0      Min.   :   0.0      \n",
       " 1st Qu.: 11.00              1st Qu.: 76.5      1st Qu.: 390.5      \n",
       " Median : 24.00              Median :133.0      Median : 600.0      \n",
       " Mean   : 42.02              Mean   :150.3      Mean   : 630.9      \n",
       " 3rd Qu.: 53.00              3rd Qu.:205.0      3rd Qu.: 833.0      \n",
       " Max.   :360.00              Max.   :504.0      Max.   :1463.0      \n",
       " median_income     mean_income    \n",
       " Min.   : 12473   Min.   : 28106  \n",
       " 1st Qu.: 47666   1st Qu.: 59997  \n",
       " Median : 56166   Median : 71188  \n",
       " Mean   : 60992   Mean   : 77284  \n",
       " 3rd Qu.: 72864   3rd Qu.: 90728  \n",
       " Max.   :131750   Max.   :168506  "
      ]
     },
     "metadata": {},
     "output_type": "display_data"
    }
   ],
   "source": [
    "summary(census_data)"
   ]
  },
  {
   "cell_type": "code",
   "execution_count": 21,
   "metadata": {
    "vscode": {
     "languageId": "r"
    }
   },
   "outputs": [],
   "source": [
    "# write.csv(census_data, \"../data/combined_data.csv\")"
   ]
  }
 ],
 "metadata": {
  "kernelspec": {
   "display_name": "R",
   "language": "R",
   "name": "ir"
  },
  "language_info": {
   "codemirror_mode": "r",
   "file_extension": ".r",
   "mimetype": "text/x-r-source",
   "name": "R",
   "pygments_lexer": "r",
   "version": "4.2.2"
  },
  "orig_nbformat": 4
 },
 "nbformat": 4,
 "nbformat_minor": 2
}
