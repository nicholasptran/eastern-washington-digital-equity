{
 "cells": [
  {
   "cell_type": "code",
   "execution_count": 28,
   "metadata": {
    "vscode": {
     "languageId": "r"
    }
   },
   "outputs": [
    {
     "name": "stderr",
     "output_type": "stream",
     "text": [
      "To install your API key for use in future sessions, run this function with `install = TRUE`.\n",
      "\n",
      "Getting data from the 2016-2020 5-year ACS\n",
      "\n",
      "Loading ACS5 variables for 2020 from table B05011 and caching the dataset for faster future access.\n",
      "\n"
     ]
    },
    {
     "data": {
      "text/html": [
       "<table class=\"dataframe\">\n",
       "<caption>A data.frame: 6 × 6</caption>\n",
       "<thead>\n",
       "\t<tr><th></th><th scope=col>tract</th><th scope=col>county</th><th scope=col>estimate</th><th scope=col>moe</th><th scope=col>variable</th><th scope=col>dataset</th></tr>\n",
       "\t<tr><th></th><th scope=col>&lt;dbl&gt;</th><th scope=col>&lt;chr&gt;</th><th scope=col>&lt;dbl&gt;</th><th scope=col>&lt;dbl&gt;</th><th scope=col>&lt;chr&gt;</th><th scope=col>&lt;chr&gt;</th></tr>\n",
       "</thead>\n",
       "<tbody>\n",
       "\t<tr><th scope=row>1</th><td>9501.00</td><td> adams       </td><td>122</td><td> 52</td><td>estimate_total</td><td>period_of_naturalization</td></tr>\n",
       "\t<tr><th scope=row>2</th><td>  16.02</td><td> grays harbor</td><td>306</td><td>109</td><td>estimate_total</td><td>period_of_naturalization</td></tr>\n",
       "\t<tr><th scope=row>3</th><td> 257.04</td><td> king        </td><td>720</td><td>244</td><td>estimate_total</td><td>period_of_naturalization</td></tr>\n",
       "\t<tr><th scope=row>4</th><td>9613.00</td><td> mason       </td><td> 36</td><td> 41</td><td>estimate_total</td><td>period_of_naturalization</td></tr>\n",
       "\t<tr><th scope=row>5</th><td> 430.00</td><td> clark       </td><td>246</td><td>115</td><td>estimate_total</td><td>period_of_naturalization</td></tr>\n",
       "\t<tr><th scope=row>6</th><td> 204.01</td><td> king        </td><td>581</td><td>270</td><td>estimate_total</td><td>period_of_naturalization</td></tr>\n",
       "</tbody>\n",
       "</table>\n"
      ],
      "text/latex": [
       "A data.frame: 6 × 6\n",
       "\\begin{tabular}{r|llllll}\n",
       "  & tract & county & estimate & moe & variable & dataset\\\\\n",
       "  & <dbl> & <chr> & <dbl> & <dbl> & <chr> & <chr>\\\\\n",
       "\\hline\n",
       "\t1 & 9501.00 &  adams        & 122 &  52 & estimate\\_total & period\\_of\\_naturalization\\\\\n",
       "\t2 &   16.02 &  grays harbor & 306 & 109 & estimate\\_total & period\\_of\\_naturalization\\\\\n",
       "\t3 &  257.04 &  king         & 720 & 244 & estimate\\_total & period\\_of\\_naturalization\\\\\n",
       "\t4 & 9613.00 &  mason        &  36 &  41 & estimate\\_total & period\\_of\\_naturalization\\\\\n",
       "\t5 &  430.00 &  clark        & 246 & 115 & estimate\\_total & period\\_of\\_naturalization\\\\\n",
       "\t6 &  204.01 &  king         & 581 & 270 & estimate\\_total & period\\_of\\_naturalization\\\\\n",
       "\\end{tabular}\n"
      ],
      "text/markdown": [
       "\n",
       "A data.frame: 6 × 6\n",
       "\n",
       "| <!--/--> | tract &lt;dbl&gt; | county &lt;chr&gt; | estimate &lt;dbl&gt; | moe &lt;dbl&gt; | variable &lt;chr&gt; | dataset &lt;chr&gt; |\n",
       "|---|---|---|---|---|---|---|\n",
       "| 1 | 9501.00 |  adams        | 122 |  52 | estimate_total | period_of_naturalization |\n",
       "| 2 |   16.02 |  grays harbor | 306 | 109 | estimate_total | period_of_naturalization |\n",
       "| 3 |  257.04 |  king         | 720 | 244 | estimate_total | period_of_naturalization |\n",
       "| 4 | 9613.00 |  mason        |  36 |  41 | estimate_total | period_of_naturalization |\n",
       "| 5 |  430.00 |  clark        | 246 | 115 | estimate_total | period_of_naturalization |\n",
       "| 6 |  204.01 |  king         | 581 | 270 | estimate_total | period_of_naturalization |\n",
       "\n"
      ],
      "text/plain": [
       "  tract   county        estimate moe variable       dataset                 \n",
       "1 9501.00  adams        122       52 estimate_total period_of_naturalization\n",
       "2   16.02  grays harbor 306      109 estimate_total period_of_naturalization\n",
       "3  257.04  king         720      244 estimate_total period_of_naturalization\n",
       "4 9613.00  mason         36       41 estimate_total period_of_naturalization\n",
       "5  430.00  clark        246      115 estimate_total period_of_naturalization\n",
       "6  204.01  king         581      270 estimate_total period_of_naturalization"
      ]
     },
     "metadata": {},
     "output_type": "display_data"
    },
    {
     "name": "stderr",
     "output_type": "stream",
     "text": [
      "Getting data from the 2016-2020 5-year ACS\n",
      "\n",
      "Loading ACS5 variables for 2020 from table B05011 and caching the dataset for faster future access.\n",
      "\n"
     ]
    },
    {
     "data": {
      "text/html": [
       "<table class=\"dataframe\">\n",
       "<caption>A data.frame: 6 × 4</caption>\n",
       "<thead>\n",
       "\t<tr><th></th><th scope=col>estimate</th><th scope=col>moe</th><th scope=col>variable</th><th scope=col>dataset</th></tr>\n",
       "\t<tr><th></th><th scope=col>&lt;dbl&gt;</th><th scope=col>&lt;dbl&gt;</th><th scope=col>&lt;chr&gt;</th><th scope=col>&lt;chr&gt;</th></tr>\n",
       "</thead>\n",
       "<tbody>\n",
       "\t<tr><th scope=row>1</th><td>23725</td><td>1599</td><td>estimate_total                                               </td><td>period_of_naturalization</td></tr>\n",
       "\t<tr><th scope=row>2</th><td>10794</td><td>1263</td><td>estimate_total_not_a_u.s._citizen                            </td><td>period_of_naturalization</td></tr>\n",
       "\t<tr><th scope=row>3</th><td>12931</td><td> 980</td><td>estimate_total_naturalized_citizens                          </td><td>period_of_naturalization</td></tr>\n",
       "\t<tr><th scope=row>4</th><td> 2128</td><td> 456</td><td>estimate_total_naturalized_citizens_naturalized_2015_or_later</td><td>period_of_naturalization</td></tr>\n",
       "\t<tr><th scope=row>5</th><td> 2407</td><td> 456</td><td>estimate_total_naturalized_citizens_naturalized_2010_to_2014 </td><td>period_of_naturalization</td></tr>\n",
       "\t<tr><th scope=row>6</th><td> 2613</td><td> 709</td><td>estimate_total_naturalized_citizens_naturalized_2005_to_2009 </td><td>period_of_naturalization</td></tr>\n",
       "</tbody>\n",
       "</table>\n"
      ],
      "text/latex": [
       "A data.frame: 6 × 4\n",
       "\\begin{tabular}{r|llll}\n",
       "  & estimate & moe & variable & dataset\\\\\n",
       "  & <dbl> & <dbl> & <chr> & <chr>\\\\\n",
       "\\hline\n",
       "\t1 & 23725 & 1599 & estimate\\_total                                                & period\\_of\\_naturalization\\\\\n",
       "\t2 & 10794 & 1263 & estimate\\_total\\_not\\_a\\_u.s.\\_citizen                             & period\\_of\\_naturalization\\\\\n",
       "\t3 & 12931 &  980 & estimate\\_total\\_naturalized\\_citizens                           & period\\_of\\_naturalization\\\\\n",
       "\t4 &  2128 &  456 & estimate\\_total\\_naturalized\\_citizens\\_naturalized\\_2015\\_or\\_later & period\\_of\\_naturalization\\\\\n",
       "\t5 &  2407 &  456 & estimate\\_total\\_naturalized\\_citizens\\_naturalized\\_2010\\_to\\_2014  & period\\_of\\_naturalization\\\\\n",
       "\t6 &  2613 &  709 & estimate\\_total\\_naturalized\\_citizens\\_naturalized\\_2005\\_to\\_2009  & period\\_of\\_naturalization\\\\\n",
       "\\end{tabular}\n"
      ],
      "text/markdown": [
       "\n",
       "A data.frame: 6 × 4\n",
       "\n",
       "| <!--/--> | estimate &lt;dbl&gt; | moe &lt;dbl&gt; | variable &lt;chr&gt; | dataset &lt;chr&gt; |\n",
       "|---|---|---|---|---|\n",
       "| 1 | 23725 | 1599 | estimate_total                                                | period_of_naturalization |\n",
       "| 2 | 10794 | 1263 | estimate_total_not_a_u.s._citizen                             | period_of_naturalization |\n",
       "| 3 | 12931 |  980 | estimate_total_naturalized_citizens                           | period_of_naturalization |\n",
       "| 4 |  2128 |  456 | estimate_total_naturalized_citizens_naturalized_2015_or_later | period_of_naturalization |\n",
       "| 5 |  2407 |  456 | estimate_total_naturalized_citizens_naturalized_2010_to_2014  | period_of_naturalization |\n",
       "| 6 |  2613 |  709 | estimate_total_naturalized_citizens_naturalized_2005_to_2009  | period_of_naturalization |\n",
       "\n"
      ],
      "text/plain": [
       "  estimate moe  variable                                                     \n",
       "1 23725    1599 estimate_total                                               \n",
       "2 10794    1263 estimate_total_not_a_u.s._citizen                            \n",
       "3 12931     980 estimate_total_naturalized_citizens                          \n",
       "4  2128     456 estimate_total_naturalized_citizens_naturalized_2015_or_later\n",
       "5  2407     456 estimate_total_naturalized_citizens_naturalized_2010_to_2014 \n",
       "6  2613     709 estimate_total_naturalized_citizens_naturalized_2005_to_2009 \n",
       "  dataset                 \n",
       "1 period_of_naturalization\n",
       "2 period_of_naturalization\n",
       "3 period_of_naturalization\n",
       "4 period_of_naturalization\n",
       "5 period_of_naturalization\n",
       "6 period_of_naturalization"
      ]
     },
     "metadata": {},
     "output_type": "display_data"
    }
   ],
   "source": [
    "library(tidycensus)\n",
    "library(tidyr)\n",
    "library(stringr)\n",
    "library(dplyr)\n",
    "\n",
    "census_api_key(Sys.getenv(\"CENSUS_API_KEY\"))\n",
    "\n",
    "# load variable data and transform\n",
    "variable_data <- load_variables(2020, \"acs5\", cache = TRUE) %>%\n",
    "    rename_all(recode,\n",
    "        name = \"variable_key\", concept = \"dataset\",\n",
    "        label = \"variable\"\n",
    "    ) %>%\n",
    "    mutate(\n",
    "        dataset = tolower(dataset),\n",
    "        dataset = gsub(\" \", \"_\", dataset),\n",
    "        variable = tolower(variable),\n",
    "        variable = gsub(\"!!\", \"_\", variable),\n",
    "        variable = gsub(\" \", \"_\", variable),\n",
    "        variable = gsub(\":\", \"\", variable)\n",
    "    ) %>%\n",
    "    select(-geography)\n",
    "\n",
    "\n",
    "getCensusData <- function(table) {\n",
    "    # load census data and transform\n",
    "    census_data <- get_acs(\n",
    "        geography = \"tract\",\n",
    "        table = table,\n",
    "        year = 2020,\n",
    "        state = \"WA\",\n",
    "        survey = \"acs5\",\n",
    "        cache_table = TRUE\n",
    "    ) %>%\n",
    "        separate(NAME, c(\"tract\", \"county\", \"state\"), sep = \",\") %>%\n",
    "        mutate(\n",
    "            tract = gsub(\"Census Tract \", \"\", tract),\n",
    "            tract = as.double(tract),\n",
    "            county = tolower(county),\n",
    "            county = gsub(\" county\", \"\", county)\n",
    "        ) %>%\n",
    "        rename_all(recode, variable = \"variable_key\") %>%\n",
    "        merge(variable_data, by = \"variable_key\") %>%\n",
    "        select(-state, -GEOID, -variable_key)\n",
    "\n",
    "    return(census_data)\n",
    "}\n",
    "\n",
    "getUrbanCensusData <- function(table) {\n",
    "    # load urban data and transform\n",
    "    census_data <- get_acs(\n",
    "    geography = \"urban area\",\n",
    "    table = table,\n",
    "    year = 2020,\n",
    "    survey = \"acs5\",\n",
    "    cache_table = TRUE\n",
    "    ) %>%\n",
    "        filter(str_detect(NAME, \"Spokane\")) %>%\n",
    "        rename_all(recode, variable = \"variable_key\") %>%\n",
    "        merge(variable_data, by = \"variable_key\") %>%\n",
    "        select(-GEOID, -NAME, -variable_key)\n",
    "\n",
    "\n",
    "    return(census_data)\n",
    "}\n",
    "head(getCensusData(\"B05011\"))\n",
    "head(getUrbanCensusData(\"B05011\"))"
   ]
  },
  {
   "cell_type": "code",
   "execution_count": 4,
   "metadata": {
    "vscode": {
     "languageId": "r"
    }
   },
   "outputs": [
    {
     "data": {
      "text/html": [
       "<table class=\"dataframe\">\n",
       "<caption>A tibble: 6 × 3</caption>\n",
       "<thead>\n",
       "\t<tr><th scope=col>variable_key</th><th scope=col>variable</th><th scope=col>dataset</th></tr>\n",
       "\t<tr><th scope=col>&lt;chr&gt;</th><th scope=col>&lt;chr&gt;</th><th scope=col>&lt;chr&gt;</th></tr>\n",
       "</thead>\n",
       "<tbody>\n",
       "\t<tr><td>B01001_001</td><td>estimate_total                    </td><td>sex_by_age</td></tr>\n",
       "\t<tr><td>B01001_002</td><td>estimate_total_male               </td><td>sex_by_age</td></tr>\n",
       "\t<tr><td>B01001_003</td><td>estimate_total_male_under_5_years </td><td>sex_by_age</td></tr>\n",
       "\t<tr><td>B01001_004</td><td>estimate_total_male_5_to_9_years  </td><td>sex_by_age</td></tr>\n",
       "\t<tr><td>B01001_005</td><td>estimate_total_male_10_to_14_years</td><td>sex_by_age</td></tr>\n",
       "\t<tr><td>B01001_006</td><td>estimate_total_male_15_to_17_years</td><td>sex_by_age</td></tr>\n",
       "</tbody>\n",
       "</table>\n"
      ],
      "text/latex": [
       "A tibble: 6 × 3\n",
       "\\begin{tabular}{lll}\n",
       " variable\\_key & variable & dataset\\\\\n",
       " <chr> & <chr> & <chr>\\\\\n",
       "\\hline\n",
       "\t B01001\\_001 & estimate\\_total                     & sex\\_by\\_age\\\\\n",
       "\t B01001\\_002 & estimate\\_total\\_male                & sex\\_by\\_age\\\\\n",
       "\t B01001\\_003 & estimate\\_total\\_male\\_under\\_5\\_years  & sex\\_by\\_age\\\\\n",
       "\t B01001\\_004 & estimate\\_total\\_male\\_5\\_to\\_9\\_years   & sex\\_by\\_age\\\\\n",
       "\t B01001\\_005 & estimate\\_total\\_male\\_10\\_to\\_14\\_years & sex\\_by\\_age\\\\\n",
       "\t B01001\\_006 & estimate\\_total\\_male\\_15\\_to\\_17\\_years & sex\\_by\\_age\\\\\n",
       "\\end{tabular}\n"
      ],
      "text/markdown": [
       "\n",
       "A tibble: 6 × 3\n",
       "\n",
       "| variable_key &lt;chr&gt; | variable &lt;chr&gt; | dataset &lt;chr&gt; |\n",
       "|---|---|---|\n",
       "| B01001_001 | estimate_total                     | sex_by_age |\n",
       "| B01001_002 | estimate_total_male                | sex_by_age |\n",
       "| B01001_003 | estimate_total_male_under_5_years  | sex_by_age |\n",
       "| B01001_004 | estimate_total_male_5_to_9_years   | sex_by_age |\n",
       "| B01001_005 | estimate_total_male_10_to_14_years | sex_by_age |\n",
       "| B01001_006 | estimate_total_male_15_to_17_years | sex_by_age |\n",
       "\n"
      ],
      "text/plain": [
       "  variable_key variable                           dataset   \n",
       "1 B01001_001   estimate_total                     sex_by_age\n",
       "2 B01001_002   estimate_total_male                sex_by_age\n",
       "3 B01001_003   estimate_total_male_under_5_years  sex_by_age\n",
       "4 B01001_004   estimate_total_male_5_to_9_years   sex_by_age\n",
       "5 B01001_005   estimate_total_male_10_to_14_years sex_by_age\n",
       "6 B01001_006   estimate_total_male_15_to_17_years sex_by_age"
      ]
     },
     "metadata": {},
     "output_type": "display_data"
    }
   ],
   "source": [
    "variable_data <- load_variables(2020, \"acs5\", cache = TRUE) %>%\n",
    "    rename_all(recode,\n",
    "        name = \"variable_key\", concept = \"dataset\",\n",
    "        label = \"variable\"\n",
    "    ) %>%\n",
    "    mutate(\n",
    "        dataset = tolower(dataset),\n",
    "        dataset = gsub(\" \", \"_\", dataset),\n",
    "        variable = tolower(variable),\n",
    "        variable = gsub(\"!!\", \"_\", variable),\n",
    "        variable = gsub(\" \", \"_\", variable),\n",
    "        variable = gsub(\":\", \"\", variable)\n",
    "    ) %>%\n",
    "    select(-geography)\n",
    "\n",
    "\n",
    "head(variable_data)"
   ]
  },
  {
   "cell_type": "code",
   "execution_count": 41,
   "metadata": {
    "vscode": {
     "languageId": "r"
    }
   },
   "outputs": [
    {
     "name": "stderr",
     "output_type": "stream",
     "text": [
      "Getting data from the 2016-2020 5-year ACS\n",
      "\n",
      "Loading ACS5 variables for 2020 from table B05011 and caching the dataset for faster future access.\n",
      "\n"
     ]
    },
    {
     "data": {
      "text/html": [
       "<table class=\"dataframe\">\n",
       "<caption>A tibble: 6 × 5</caption>\n",
       "<thead>\n",
       "\t<tr><th scope=col>tract</th><th scope=col>county</th><th scope=col>variable_key</th><th scope=col>estimate</th><th scope=col>moe</th></tr>\n",
       "\t<tr><th scope=col>&lt;dbl&gt;</th><th scope=col>&lt;chr&gt;</th><th scope=col>&lt;chr&gt;</th><th scope=col>&lt;dbl&gt;</th><th scope=col>&lt;dbl&gt;</th></tr>\n",
       "</thead>\n",
       "<tbody>\n",
       "\t<tr><td>9501</td><td> adams</td><td>B05011_001</td><td>122</td><td>52</td></tr>\n",
       "\t<tr><td>9501</td><td> adams</td><td>B05011_002</td><td> 28</td><td>27</td></tr>\n",
       "\t<tr><td>9501</td><td> adams</td><td>B05011_003</td><td> 94</td><td>43</td></tr>\n",
       "\t<tr><td>9501</td><td> adams</td><td>B05011_004</td><td>  6</td><td>10</td></tr>\n",
       "\t<tr><td>9501</td><td> adams</td><td>B05011_005</td><td>  0</td><td>13</td></tr>\n",
       "\t<tr><td>9501</td><td> adams</td><td>B05011_006</td><td> 10</td><td>10</td></tr>\n",
       "</tbody>\n",
       "</table>\n"
      ],
      "text/latex": [
       "A tibble: 6 × 5\n",
       "\\begin{tabular}{lllll}\n",
       " tract & county & variable\\_key & estimate & moe\\\\\n",
       " <dbl> & <chr> & <chr> & <dbl> & <dbl>\\\\\n",
       "\\hline\n",
       "\t 9501 &  adams & B05011\\_001 & 122 & 52\\\\\n",
       "\t 9501 &  adams & B05011\\_002 &  28 & 27\\\\\n",
       "\t 9501 &  adams & B05011\\_003 &  94 & 43\\\\\n",
       "\t 9501 &  adams & B05011\\_004 &   6 & 10\\\\\n",
       "\t 9501 &  adams & B05011\\_005 &   0 & 13\\\\\n",
       "\t 9501 &  adams & B05011\\_006 &  10 & 10\\\\\n",
       "\\end{tabular}\n"
      ],
      "text/markdown": [
       "\n",
       "A tibble: 6 × 5\n",
       "\n",
       "| tract &lt;dbl&gt; | county &lt;chr&gt; | variable_key &lt;chr&gt; | estimate &lt;dbl&gt; | moe &lt;dbl&gt; |\n",
       "|---|---|---|---|---|\n",
       "| 9501 |  adams | B05011_001 | 122 | 52 |\n",
       "| 9501 |  adams | B05011_002 |  28 | 27 |\n",
       "| 9501 |  adams | B05011_003 |  94 | 43 |\n",
       "| 9501 |  adams | B05011_004 |   6 | 10 |\n",
       "| 9501 |  adams | B05011_005 |   0 | 13 |\n",
       "| 9501 |  adams | B05011_006 |  10 | 10 |\n",
       "\n"
      ],
      "text/plain": [
       "  tract county variable_key estimate moe\n",
       "1 9501   adams B05011_001   122      52 \n",
       "2 9501   adams B05011_002    28      27 \n",
       "3 9501   adams B05011_003    94      43 \n",
       "4 9501   adams B05011_004     6      10 \n",
       "5 9501   adams B05011_005     0      13 \n",
       "6 9501   adams B05011_006    10      10 "
      ]
     },
     "metadata": {},
     "output_type": "display_data"
    }
   ],
   "source": [
    "test <- get_acs(\n",
    "  geography = \"tract\",\n",
    "  table = \"B05011\",\n",
    "  year = 2020,\n",
    "  state = \"WA\",\n",
    "  survey = \"acs5\",\n",
    "  cache_table = TRUE\n",
    ") %>%\n",
    "  separate(NAME, c(\"tract\", \"county\", \"state\"), sep = \",\") %>%\n",
    "  select(-state, -GEOID) %>%\n",
    "  mutate(\n",
    "    tract = gsub(\"Census Tract \", \"\", tract), tract = as.double(tract),\n",
    "    county = tolower(county), county = gsub(\" county\", \"\", county)\n",
    "  ) %>%\n",
    "  rename_all(recode, variable = \"variable_key\")\n",
    "\n",
    "head(test)"
   ]
  },
  {
   "cell_type": "code",
   "execution_count": 27,
   "metadata": {
    "vscode": {
     "languageId": "r"
    }
   },
   "outputs": [
    {
     "name": "stderr",
     "output_type": "stream",
     "text": [
      "Getting data from the 2016-2020 5-year ACS\n",
      "\n",
      "Loading ACS5 variables for 2020 from table B05011 and caching the dataset for faster future access.\n",
      "\n"
     ]
    },
    {
     "data": {
      "text/html": [
       "<table class=\"dataframe\">\n",
       "<caption>A data.frame: 10 × 4</caption>\n",
       "<thead>\n",
       "\t<tr><th scope=col>estimate</th><th scope=col>moe</th><th scope=col>variable</th><th scope=col>dataset</th></tr>\n",
       "\t<tr><th scope=col>&lt;dbl&gt;</th><th scope=col>&lt;dbl&gt;</th><th scope=col>&lt;chr&gt;</th><th scope=col>&lt;chr&gt;</th></tr>\n",
       "</thead>\n",
       "<tbody>\n",
       "\t<tr><td>23725</td><td>1599</td><td>estimate_total                                               </td><td>period_of_naturalization</td></tr>\n",
       "\t<tr><td>10794</td><td>1263</td><td>estimate_total_not_a_u.s._citizen                            </td><td>period_of_naturalization</td></tr>\n",
       "\t<tr><td>12931</td><td> 980</td><td>estimate_total_naturalized_citizens                          </td><td>period_of_naturalization</td></tr>\n",
       "\t<tr><td> 2128</td><td> 456</td><td>estimate_total_naturalized_citizens_naturalized_2015_or_later</td><td>period_of_naturalization</td></tr>\n",
       "\t<tr><td> 2407</td><td> 456</td><td>estimate_total_naturalized_citizens_naturalized_2010_to_2014 </td><td>period_of_naturalization</td></tr>\n",
       "\t<tr><td> 2613</td><td> 709</td><td>estimate_total_naturalized_citizens_naturalized_2005_to_2009 </td><td>period_of_naturalization</td></tr>\n",
       "\t<tr><td> 1280</td><td> 269</td><td>estimate_total_naturalized_citizens_naturalized_2000_to_2004 </td><td>period_of_naturalization</td></tr>\n",
       "\t<tr><td> 1102</td><td> 228</td><td>estimate_total_naturalized_citizens_naturalized_1995_to_1999 </td><td>period_of_naturalization</td></tr>\n",
       "\t<tr><td>  514</td><td> 150</td><td>estimate_total_naturalized_citizens_naturalized_1990_to_1994 </td><td>period_of_naturalization</td></tr>\n",
       "\t<tr><td> 2887</td><td> 420</td><td>estimate_total_naturalized_citizens_naturalized_before_1990  </td><td>period_of_naturalization</td></tr>\n",
       "</tbody>\n",
       "</table>\n"
      ],
      "text/latex": [
       "A data.frame: 10 × 4\n",
       "\\begin{tabular}{llll}\n",
       " estimate & moe & variable & dataset\\\\\n",
       " <dbl> & <dbl> & <chr> & <chr>\\\\\n",
       "\\hline\n",
       "\t 23725 & 1599 & estimate\\_total                                                & period\\_of\\_naturalization\\\\\n",
       "\t 10794 & 1263 & estimate\\_total\\_not\\_a\\_u.s.\\_citizen                             & period\\_of\\_naturalization\\\\\n",
       "\t 12931 &  980 & estimate\\_total\\_naturalized\\_citizens                           & period\\_of\\_naturalization\\\\\n",
       "\t  2128 &  456 & estimate\\_total\\_naturalized\\_citizens\\_naturalized\\_2015\\_or\\_later & period\\_of\\_naturalization\\\\\n",
       "\t  2407 &  456 & estimate\\_total\\_naturalized\\_citizens\\_naturalized\\_2010\\_to\\_2014  & period\\_of\\_naturalization\\\\\n",
       "\t  2613 &  709 & estimate\\_total\\_naturalized\\_citizens\\_naturalized\\_2005\\_to\\_2009  & period\\_of\\_naturalization\\\\\n",
       "\t  1280 &  269 & estimate\\_total\\_naturalized\\_citizens\\_naturalized\\_2000\\_to\\_2004  & period\\_of\\_naturalization\\\\\n",
       "\t  1102 &  228 & estimate\\_total\\_naturalized\\_citizens\\_naturalized\\_1995\\_to\\_1999  & period\\_of\\_naturalization\\\\\n",
       "\t   514 &  150 & estimate\\_total\\_naturalized\\_citizens\\_naturalized\\_1990\\_to\\_1994  & period\\_of\\_naturalization\\\\\n",
       "\t  2887 &  420 & estimate\\_total\\_naturalized\\_citizens\\_naturalized\\_before\\_1990   & period\\_of\\_naturalization\\\\\n",
       "\\end{tabular}\n"
      ],
      "text/markdown": [
       "\n",
       "A data.frame: 10 × 4\n",
       "\n",
       "| estimate &lt;dbl&gt; | moe &lt;dbl&gt; | variable &lt;chr&gt; | dataset &lt;chr&gt; |\n",
       "|---|---|---|---|\n",
       "| 23725 | 1599 | estimate_total                                                | period_of_naturalization |\n",
       "| 10794 | 1263 | estimate_total_not_a_u.s._citizen                             | period_of_naturalization |\n",
       "| 12931 |  980 | estimate_total_naturalized_citizens                           | period_of_naturalization |\n",
       "|  2128 |  456 | estimate_total_naturalized_citizens_naturalized_2015_or_later | period_of_naturalization |\n",
       "|  2407 |  456 | estimate_total_naturalized_citizens_naturalized_2010_to_2014  | period_of_naturalization |\n",
       "|  2613 |  709 | estimate_total_naturalized_citizens_naturalized_2005_to_2009  | period_of_naturalization |\n",
       "|  1280 |  269 | estimate_total_naturalized_citizens_naturalized_2000_to_2004  | period_of_naturalization |\n",
       "|  1102 |  228 | estimate_total_naturalized_citizens_naturalized_1995_to_1999  | period_of_naturalization |\n",
       "|   514 |  150 | estimate_total_naturalized_citizens_naturalized_1990_to_1994  | period_of_naturalization |\n",
       "|  2887 |  420 | estimate_total_naturalized_citizens_naturalized_before_1990   | period_of_naturalization |\n",
       "\n"
      ],
      "text/plain": [
       "   estimate moe  variable                                                     \n",
       "1  23725    1599 estimate_total                                               \n",
       "2  10794    1263 estimate_total_not_a_u.s._citizen                            \n",
       "3  12931     980 estimate_total_naturalized_citizens                          \n",
       "4   2128     456 estimate_total_naturalized_citizens_naturalized_2015_or_later\n",
       "5   2407     456 estimate_total_naturalized_citizens_naturalized_2010_to_2014 \n",
       "6   2613     709 estimate_total_naturalized_citizens_naturalized_2005_to_2009 \n",
       "7   1280     269 estimate_total_naturalized_citizens_naturalized_2000_to_2004 \n",
       "8   1102     228 estimate_total_naturalized_citizens_naturalized_1995_to_1999 \n",
       "9    514     150 estimate_total_naturalized_citizens_naturalized_1990_to_1994 \n",
       "10  2887     420 estimate_total_naturalized_citizens_naturalized_before_1990  \n",
       "   dataset                 \n",
       "1  period_of_naturalization\n",
       "2  period_of_naturalization\n",
       "3  period_of_naturalization\n",
       "4  period_of_naturalization\n",
       "5  period_of_naturalization\n",
       "6  period_of_naturalization\n",
       "7  period_of_naturalization\n",
       "8  period_of_naturalization\n",
       "9  period_of_naturalization\n",
       "10 period_of_naturalization"
      ]
     },
     "metadata": {},
     "output_type": "display_data"
    }
   ],
   "source": [
    "getUrbanCensusData <- function(table) {\n",
    "    variable_data <- load_variables(2020, \"acs5\", cache = TRUE) %>%\n",
    "    rename_all(recode,\n",
    "        name = \"variable_key\", concept = \"dataset\",\n",
    "        label = \"variable\"\n",
    "    ) %>%\n",
    "    mutate(\n",
    "        dataset = tolower(dataset),\n",
    "        dataset = gsub(\" \", \"_\", dataset),\n",
    "        variable = tolower(variable),\n",
    "        variable = gsub(\"!!\", \"_\", variable),\n",
    "        variable = gsub(\" \", \"_\", variable),\n",
    "        variable = gsub(\":\", \"\", variable)\n",
    "    ) %>%\n",
    "    select(-geography)\n",
    "\n",
    "    census_data <- get_acs(\n",
    "    geography = \"urban area\",\n",
    "    table = table,\n",
    "    year = 2020,\n",
    "    survey = \"acs5\",\n",
    "    cache_table = TRUE\n",
    "    ) %>%\n",
    "        filter(str_detect(NAME, \"Spokane\")) %>%\n",
    "        rename_all(recode, variable = \"variable_key\") %>%\n",
    "        merge(variable_data, by = \"variable_key\") %>%\n",
    "        select(-GEOID, -NAME, -variable_key)\n",
    "\n",
    "\n",
    "    return(census_data)\n",
    "}\n",
    "\n",
    "getUrbanCensusData(\"B05011\")"
   ]
  }
 ],
 "metadata": {
  "kernelspec": {
   "display_name": "R",
   "language": "R",
   "name": "ir"
  },
  "language_info": {
   "codemirror_mode": "r",
   "file_extension": ".r",
   "mimetype": "text/x-r-source",
   "name": "R",
   "pygments_lexer": "r",
   "version": "4.2.2"
  },
  "orig_nbformat": 4
 },
 "nbformat": 4,
 "nbformat_minor": 2
}
