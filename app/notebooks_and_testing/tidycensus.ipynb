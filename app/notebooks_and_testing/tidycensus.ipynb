{
 "cells": [
  {
   "cell_type": "code",
   "execution_count": 1,
   "metadata": {
    "vscode": {
     "languageId": "r"
    }
   },
   "outputs": [
    {
     "name": "stderr",
     "output_type": "stream",
     "text": [
      "\n",
      "Attaching package: ‘dplyr’\n",
      "\n",
      "\n",
      "The following objects are masked from ‘package:stats’:\n",
      "\n",
      "    filter, lag\n",
      "\n",
      "\n",
      "The following objects are masked from ‘package:base’:\n",
      "\n",
      "    intersect, setdiff, setequal, union\n",
      "\n",
      "\n",
      "To install your API key for use in future sessions, run this function with `install = TRUE`.\n",
      "\n"
     ]
    }
   ],
   "source": [
    "library(tidycensus)\n",
    "library(tidyr)\n",
    "library(stringr)\n",
    "library(dplyr)\n",
    "\n",
    "census_api_key(Sys.getenv(\"CENSUS_API_KEY\"))\n",
    "\n",
    "# load variable data and transform\n",
    "variable_data <- load_variables(2020, \"acs5\", cache = TRUE) %>%\n",
    "    rename_all(recode,\n",
    "        name = \"variable_key\", concept = \"dataset\",\n",
    "        label = \"variable\"\n",
    "    ) %>%\n",
    "    mutate(\n",
    "        dataset = tolower(dataset),\n",
    "        dataset = gsub(\" \", \"_\", dataset),\n",
    "        variable = tolower(variable),\n",
    "        variable = gsub(\"!!\", \"_\", variable),\n",
    "        variable = gsub(\" \", \"_\", variable),\n",
    "        variable = gsub(\":\", \"\", variable)\n",
    "    ) %>%\n",
    "    select(-geography)\n",
    "\n",
    "\n",
    "getCensusData <- function(table) {\n",
    "    # load census data and transform\n",
    "    census_data <- get_acs(\n",
    "        geography = \"tract\",\n",
    "        table = table,\n",
    "        year = 2020,\n",
    "        state = \"WA\",\n",
    "        survey = \"acs5\",\n",
    "        cache_table = TRUE\n",
    "    ) %>%\n",
    "        separate(NAME, c(\"tract\", \"county\", \"state\"), sep = \",\") %>%\n",
    "        mutate(\n",
    "            tract = gsub(\"Census Tract \", \"\", tract),\n",
    "            tract = as.double(tract),\n",
    "            county = tolower(county),\n",
    "            county = gsub(\" county\", \"\", county)\n",
    "        ) %>%\n",
    "        rename_all(recode, variable = \"variable_key\") %>%\n",
    "        merge(variable_data, by = \"variable_key\") %>%\n",
    "        select(-state, -GEOID, -variable_key)\n",
    "\n",
    "    return(census_data)\n",
    "}\n",
    "\n",
    "getUrbanCensusData <- function(table) {\n",
    "    # load urban data and transform\n",
    "    census_data <- get_acs(\n",
    "    geography = \"urban area\",\n",
    "    table = table,\n",
    "    year = 2020,\n",
    "    survey = \"acs5\",\n",
    "    cache_table = TRUE\n",
    "    ) %>%\n",
    "        filter(str_detect(NAME, \"Spokane\")) %>%\n",
    "        rename_all(recode, variable = \"variable_key\") %>%\n",
    "        merge(variable_data, by = \"variable_key\") %>%\n",
    "        select(-GEOID, -NAME, -variable_key)\n",
    "\n",
    "    return(census_data)\n",
    "}\n",
    "\n"
   ]
  },
  {
   "cell_type": "code",
   "execution_count": 2,
   "metadata": {
    "vscode": {
     "languageId": "r"
    }
   },
   "outputs": [],
   "source": [
    "variable_data <- load_variables(2020, \"acs5\", cache = FALSE) %>%\n",
    "  rename_all(recode,\n",
    "    name = \"variable_key\", concept = \"dataset\",\n",
    "    label = \"variable\"\n",
    "  ) %>%\n",
    "  mutate(\n",
    "    dataset = tolower(dataset),\n",
    "    dataset = gsub(\" \", \"_\", dataset),\n",
    "    variable = tolower(variable),\n",
    "    variable = gsub(\"!!\", \"_\", variable),\n",
    "    variable = gsub(\" \", \"_\", variable),\n",
    "    variable = gsub(\":\", \"\", variable)\n",
    "  ) %>%\n",
    "  select(-geography)\n",
    "\n",
    "variable_data2 <- load_variables(2020, \"acs5/subject\", cache = FALSE) %>%\n",
    "  rename_all(recode,\n",
    "    name = \"variable_key\", concept = \"dataset\",\n",
    "    label = \"variable\"\n",
    "  ) %>%\n",
    "  mutate(\n",
    "    dataset = tolower(dataset),\n",
    "    dataset = gsub(\" \", \"_\", dataset),\n",
    "    variable = tolower(variable),\n",
    "    variable = gsub(\"!!\", \"_\", variable),\n",
    "    variable = gsub(\" \", \"_\", variable),\n",
    "    variable = gsub(\":\", \"\", variable)\n",
    "  )\n",
    "\n",
    "variable_data <- rbind(variable_data, variable_data2)\n"
   ]
  },
  {
   "cell_type": "code",
   "execution_count": 14,
   "metadata": {
    "vscode": {
     "languageId": "r"
    }
   },
   "outputs": [
    {
     "data": {
      "text/html": [
       "<table class=\"dataframe\">\n",
       "<caption>A tibble: 6 × 3</caption>\n",
       "<thead>\n",
       "\t<tr><th scope=col>variable_key</th><th scope=col>variable</th><th scope=col>dataset</th></tr>\n",
       "\t<tr><th scope=col>&lt;chr&gt;</th><th scope=col>&lt;chr&gt;</th><th scope=col>&lt;chr&gt;</th></tr>\n",
       "</thead>\n",
       "<tbody>\n",
       "\t<tr><td>B01001_001</td><td>estimate_total                    </td><td>sex_by_age</td></tr>\n",
       "\t<tr><td>B01001_002</td><td>estimate_total_male               </td><td>sex_by_age</td></tr>\n",
       "\t<tr><td>B01001_003</td><td>estimate_total_male_under_5_years </td><td>sex_by_age</td></tr>\n",
       "\t<tr><td>B01001_004</td><td>estimate_total_male_5_to_9_years  </td><td>sex_by_age</td></tr>\n",
       "\t<tr><td>B01001_005</td><td>estimate_total_male_10_to_14_years</td><td>sex_by_age</td></tr>\n",
       "\t<tr><td>B01001_006</td><td>estimate_total_male_15_to_17_years</td><td>sex_by_age</td></tr>\n",
       "</tbody>\n",
       "</table>\n"
      ],
      "text/latex": [
       "A tibble: 6 × 3\n",
       "\\begin{tabular}{lll}\n",
       " variable\\_key & variable & dataset\\\\\n",
       " <chr> & <chr> & <chr>\\\\\n",
       "\\hline\n",
       "\t B01001\\_001 & estimate\\_total                     & sex\\_by\\_age\\\\\n",
       "\t B01001\\_002 & estimate\\_total\\_male                & sex\\_by\\_age\\\\\n",
       "\t B01001\\_003 & estimate\\_total\\_male\\_under\\_5\\_years  & sex\\_by\\_age\\\\\n",
       "\t B01001\\_004 & estimate\\_total\\_male\\_5\\_to\\_9\\_years   & sex\\_by\\_age\\\\\n",
       "\t B01001\\_005 & estimate\\_total\\_male\\_10\\_to\\_14\\_years & sex\\_by\\_age\\\\\n",
       "\t B01001\\_006 & estimate\\_total\\_male\\_15\\_to\\_17\\_years & sex\\_by\\_age\\\\\n",
       "\\end{tabular}\n"
      ],
      "text/markdown": [
       "\n",
       "A tibble: 6 × 3\n",
       "\n",
       "| variable_key &lt;chr&gt; | variable &lt;chr&gt; | dataset &lt;chr&gt; |\n",
       "|---|---|---|\n",
       "| B01001_001 | estimate_total                     | sex_by_age |\n",
       "| B01001_002 | estimate_total_male                | sex_by_age |\n",
       "| B01001_003 | estimate_total_male_under_5_years  | sex_by_age |\n",
       "| B01001_004 | estimate_total_male_5_to_9_years   | sex_by_age |\n",
       "| B01001_005 | estimate_total_male_10_to_14_years | sex_by_age |\n",
       "| B01001_006 | estimate_total_male_15_to_17_years | sex_by_age |\n",
       "\n"
      ],
      "text/plain": [
       "  variable_key variable                           dataset   \n",
       "1 B01001_001   estimate_total                     sex_by_age\n",
       "2 B01001_002   estimate_total_male                sex_by_age\n",
       "3 B01001_003   estimate_total_male_under_5_years  sex_by_age\n",
       "4 B01001_004   estimate_total_male_5_to_9_years   sex_by_age\n",
       "5 B01001_005   estimate_total_male_10_to_14_years sex_by_age\n",
       "6 B01001_006   estimate_total_male_15_to_17_years sex_by_age"
      ]
     },
     "metadata": {},
     "output_type": "display_data"
    }
   ],
   "source": [
    "head(variable_data)"
   ]
  },
  {
   "cell_type": "code",
   "execution_count": 3,
   "metadata": {
    "vscode": {
     "languageId": "r"
    }
   },
   "outputs": [
    {
     "name": "stderr",
     "output_type": "stream",
     "text": [
      "Getting data from the 2016-2020 5-year ACS\n",
      "\n",
      "Getting data from the 2016-2020 5-year ACS\n",
      "\n",
      "Getting data from the 2016-2020 5-year ACS\n",
      "\n",
      "Getting data from the 2016-2020 5-year ACS\n",
      "\n",
      "Getting data from the 2016-2020 5-year ACS\n",
      "\n",
      "Getting data from the 2016-2020 5-year ACS\n",
      "\n",
      "Getting data from the 2016-2020 5-year ACS\n",
      "\n",
      "Using the ACS Subject Tables\n",
      "\n",
      "Using the ACS Subject Tables\n",
      "\n",
      "Using the ACS Subject Tables\n",
      "\n",
      "Using the ACS Subject Tables\n",
      "\n",
      "Using the ACS Subject Tables\n",
      "\n",
      "Using the ACS Subject Tables\n",
      "\n",
      "Using the ACS Subject Tables\n",
      "\n",
      "Using the ACS Subject Tables\n",
      "\n",
      "Using the ACS Subject Tables\n",
      "\n",
      "Using the ACS Subject Tables\n",
      "\n",
      "Getting data from the 2016-2020 5-year ACS\n",
      "\n",
      "Using the ACS Subject Tables\n",
      "\n",
      "Using the ACS Subject Tables\n",
      "\n",
      "Using the ACS Subject Tables\n",
      "\n"
     ]
    },
    {
     "data": {
      "text/html": [
       "70638"
      ],
      "text/latex": [
       "70638"
      ],
      "text/markdown": [
       "70638"
      ],
      "text/plain": [
       "[1] 70638"
      ]
     },
     "metadata": {},
     "output_type": "display_data"
    }
   ],
   "source": [
    "counties <- c(\n",
    "  \"adams\", \"asotin\", \"ferry\", \"garfield\", \"lincoln\",\n",
    "  \"pend oreille\", \"spokane\", \"stevens\", \"whitman\"\n",
    ")\n",
    "\n",
    "getCensusData <- function(table) {\n",
    "  census_data <- get_acs(\n",
    "      geography = \"tract\",\n",
    "      table = table,\n",
    "      year = 2020,\n",
    "      state = \"WA\",\n",
    "      survey = \"acs5\",\n",
    "      cache_table = FALSE,\n",
    "      county = counties\n",
    "      # ,output = \"wide\"\n",
    "      # , keep_geo_vars = TRUE\n",
    "      # , geometry = TRUE\n",
    "    )\n",
    "  return(census_data)\n",
    "  }\n",
    "\n",
    "\n",
    "naturalization <- getCensusData(\"B05011\")\n",
    "nativity <- getCensusData(\"B05012\")\n",
    "transportation <- getCensusData(\"B08101\")\n",
    "type_computer <- getCensusData(\"B28001\")\n",
    "presence_computer <- getCensusData(\"B28003\")\n",
    "internet_subscription <- getCensusData(\"B28011\")\n",
    "age <- getCensusData(\"S0101\")\n",
    "household_income <- getCensusData(\"S1901\")\n",
    "\n",
    "\n",
    "census_data <- naturalization %>% \n",
    "  rbind(., nativity) %>% \n",
    "  rbind(., transportation) %>%\n",
    "  rbind(., type_computer) %>% \n",
    "  rbind(., presence_computer) %>% \n",
    "  rbind(., internet_subscription) %>% \n",
    "  rbind(., age) %>% \n",
    "  rbind(., household_income)\n",
    "\n",
    "\n",
    "nrow(census_data)\n"
   ]
  },
  {
   "cell_type": "code",
   "execution_count": 14,
   "metadata": {
    "vscode": {
     "languageId": "r"
    }
   },
   "outputs": [
    {
     "data": {
      "text/html": [
       "<style>\n",
       ".list-inline {list-style: none; margin:0; padding: 0}\n",
       ".list-inline>li {display: inline-block}\n",
       ".list-inline>li:not(:last-child)::after {content: \"\\00b7\"; padding: 0 .5ex}\n",
       "</style>\n",
       "<ol class=list-inline><li>'STATEFP'</li><li>'COUNTYFP'</li><li>'TRACTCE'</li><li>'AFFGEOID'</li><li>'GEOID'</li><li>'NAME.x'</li><li>'NAMELSAD'</li><li>'STUSPS'</li><li>'NAMELSADCO'</li><li>'STATE_NAME'</li><li>'LSAD'</li><li>'ALAND'</li><li>'AWATER'</li><li>'NAME.y'</li><li>'variable'</li><li>'estimate'</li><li>'moe'</li><li>'geometry'</li></ol>\n"
      ],
      "text/latex": [
       "\\begin{enumerate*}\n",
       "\\item 'STATEFP'\n",
       "\\item 'COUNTYFP'\n",
       "\\item 'TRACTCE'\n",
       "\\item 'AFFGEOID'\n",
       "\\item 'GEOID'\n",
       "\\item 'NAME.x'\n",
       "\\item 'NAMELSAD'\n",
       "\\item 'STUSPS'\n",
       "\\item 'NAMELSADCO'\n",
       "\\item 'STATE\\_NAME'\n",
       "\\item 'LSAD'\n",
       "\\item 'ALAND'\n",
       "\\item 'AWATER'\n",
       "\\item 'NAME.y'\n",
       "\\item 'variable'\n",
       "\\item 'estimate'\n",
       "\\item 'moe'\n",
       "\\item 'geometry'\n",
       "\\end{enumerate*}\n"
      ],
      "text/markdown": [
       "1. 'STATEFP'\n",
       "2. 'COUNTYFP'\n",
       "3. 'TRACTCE'\n",
       "4. 'AFFGEOID'\n",
       "5. 'GEOID'\n",
       "6. 'NAME.x'\n",
       "7. 'NAMELSAD'\n",
       "8. 'STUSPS'\n",
       "9. 'NAMELSADCO'\n",
       "10. 'STATE_NAME'\n",
       "11. 'LSAD'\n",
       "12. 'ALAND'\n",
       "13. 'AWATER'\n",
       "14. 'NAME.y'\n",
       "15. 'variable'\n",
       "16. 'estimate'\n",
       "17. 'moe'\n",
       "18. 'geometry'\n",
       "\n",
       "\n"
      ],
      "text/plain": [
       " [1] \"STATEFP\"    \"COUNTYFP\"   \"TRACTCE\"    \"AFFGEOID\"   \"GEOID\"     \n",
       " [6] \"NAME.x\"     \"NAMELSAD\"   \"STUSPS\"     \"NAMELSADCO\" \"STATE_NAME\"\n",
       "[11] \"LSAD\"       \"ALAND\"      \"AWATER\"     \"NAME.y\"     \"variable\"  \n",
       "[16] \"estimate\"   \"moe\"        \"geometry\"  "
      ]
     },
     "metadata": {},
     "output_type": "display_data"
    }
   ],
   "source": [
    "names(census_data)"
   ]
  },
  {
   "cell_type": "code",
   "execution_count": 8,
   "metadata": {
    "vscode": {
     "languageId": "r"
    }
   },
   "outputs": [],
   "source": [
    "x <- census_data %>% inner_join(variable_data, by = c(\"variable\" = \"variable_key\"))\n",
    "\n",
    "x <- x %>% \n",
    "    select(variable, variable.y, dataset) %>% \n",
    "    unique()\n",
    "# unique(x$variable.y)\n",
    "\n",
    "write.csv(x, '../data/variables.csv')"
   ]
  }
 ],
 "metadata": {
  "kernelspec": {
   "display_name": "R",
   "language": "R",
   "name": "ir"
  },
  "language_info": {
   "codemirror_mode": "r",
   "file_extension": ".r",
   "mimetype": "text/x-r-source",
   "name": "R",
   "pygments_lexer": "r",
   "version": "4.2.2"
  },
  "orig_nbformat": 4
 },
 "nbformat": 4,
 "nbformat_minor": 2
}
