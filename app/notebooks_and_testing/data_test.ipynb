{
 "cells": [
  {
   "cell_type": "code",
   "execution_count": 4,
   "metadata": {
    "vscode": {
     "languageId": "r"
    }
   },
   "outputs": [
    {
     "ename": "ERROR",
     "evalue": "Error in setwd(\"app\"): cannot change working directory\n",
     "output_type": "error",
     "traceback": [
      "Error in setwd(\"app\"): cannot change working directory\nTraceback:\n",
      "1. setwd(\"app\")"
     ]
    }
   ],
   "source": [
    "library(tidyverse)\n",
    "setwd(\"../\")"
   ]
  },
  {
   "cell_type": "code",
   "execution_count": 13,
   "metadata": {
    "vscode": {
     "languageId": "r"
    }
   },
   "outputs": [],
   "source": [
    "household_income <- read.csv(\"data/household_income.csv\")\n",
    "household_income_urban <- read.csv(\"data/household_income_urban.csv\")\n",
    "internet_subscription <- read.csv(\"data/internet_subscription.csv\")\n",
    "internet_subscription_urban <- read.csv(\"data/internet_subscription_urban.csv\")\n",
    "nativity <- read.csv(\"data/nativity.csv\")\n",
    "nativity_urban <- read.csv(\"data/nativity_urban.csv\")\n",
    "naturalization <- read.csv(\"data/naturalization.csv\")\n",
    "naturalization_urban <- read.csv(\"data/naturalization_urban.csv\")\n",
    "presence_computer <- read.csv(\"data/presence_computer.csv\")\n",
    "presence_computer_urban <- read.csv(\"data/presence_computer_urban.csv\")\n",
    "transportation <- read.csv(\"data/transportation.csv\")\n",
    "transportation_urban <- read.csv(\"data/transportation_urban.csv\")\n",
    "type_computer <- read.csv(\"data/type_computer.csv\")\n",
    "type_computer_urban <- read.csv(\"data/type_computer_urban.csv\")\n",
    "voting_age <- read.csv(\"data/voting_age.csv\")\n",
    "voting_age_urban <- read.csv(\"data/voting_age_urban.csv\")\n"
   ]
  },
  {
   "cell_type": "code",
   "execution_count": 12,
   "metadata": {
    "vscode": {
     "languageId": "r"
    }
   },
   "outputs": [
    {
     "data": {
      "text/html": [
       "'/home/nicholas/Documents/github/spokane-digital-equity/app'"
      ],
      "text/latex": [
       "'/home/nicholas/Documents/github/spokane-digital-equity/app'"
      ],
      "text/markdown": [
       "'/home/nicholas/Documents/github/spokane-digital-equity/app'"
      ],
      "text/plain": [
       "[1] \"/home/nicholas/Documents/github/spokane-digital-equity/app\""
      ]
     },
     "metadata": {},
     "output_type": "display_data"
    }
   ],
   "source": [
    "getwd()"
   ]
  },
  {
   "cell_type": "code",
   "execution_count": null,
   "metadata": {
    "vscode": {
     "languageId": "r"
    }
   },
   "outputs": [],
   "source": [
    "inner_join()"
   ]
  }
 ],
 "metadata": {
  "kernelspec": {
   "display_name": "R",
   "language": "R",
   "name": "ir"
  },
  "language_info": {
   "codemirror_mode": "r",
   "file_extension": ".r",
   "mimetype": "text/x-r-source",
   "name": "R",
   "pygments_lexer": "r",
   "version": "4.2.2"
  },
  "orig_nbformat": 4,
  "vscode": {
   "interpreter": {
    "hash": "31f2aee4e71d21fbe5cf8b01ff0e069b9275f58929596ceb00d14d90e3e16cd6"
   }
  }
 },
 "nbformat": 4,
 "nbformat_minor": 2
}
