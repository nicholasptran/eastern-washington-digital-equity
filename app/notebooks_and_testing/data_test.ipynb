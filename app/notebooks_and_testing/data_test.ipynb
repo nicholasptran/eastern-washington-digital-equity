{
 "cells": [
  {
   "cell_type": "code",
   "execution_count": null,
   "metadata": {
    "vscode": {
     "languageId": "r"
    }
   },
   "outputs": [],
   "source": [
    "library(tidyverse)\n",
    "setwd(\"../\")"
   ]
  },
  {
   "cell_type": "code",
   "execution_count": 2,
   "metadata": {
    "vscode": {
     "languageId": "r"
    }
   },
   "outputs": [],
   "source": [
    "household_income <- read.csv(\"data/household_income.csv\")\n",
    "household_income_urban <- read.csv(\"data/household_income_urban.csv\")\n",
    "internet_subscription <- read.csv(\"data/internet_subscription.csv\")\n",
    "internet_subscription_urban <- read.csv(\"data/internet_subscription_urban.csv\")\n",
    "nativity <- read.csv(\"data/nativity.csv\")\n",
    "nativity_urban <- read.csv(\"data/nativity_urban.csv\")\n",
    "naturalization <- read.csv(\"data/naturalization.csv\")\n",
    "naturalization_urban <- read.csv(\"data/naturalization_urban.csv\")\n",
    "presence_computer <- read.csv(\"data/presence_computer.csv\")\n",
    "presence_computer_urban <- read.csv(\"data/presence_computer_urban.csv\")\n",
    "transportation <- read.csv(\"data/transportation.csv\")\n",
    "transportation_urban <- read.csv(\"data/transportation_urban.csv\")\n",
    "type_computer <- read.csv(\"data/type_computer.csv\")\n",
    "type_computer_urban <- read.csv(\"data/type_computer_urban.csv\")\n",
    "voting_age <- read.csv(\"data/voting_age.csv\")\n",
    "voting_age_urban <- read.csv(\"data/voting_age_urban.csv\")\n"
   ]
  },
  {
   "cell_type": "code",
   "execution_count": 4,
   "metadata": {
    "vscode": {
     "languageId": "r"
    }
   },
   "outputs": [
    {
     "name": "stderr",
     "output_type": "stream",
     "text": [
      "Warning message in cbind(parts$left, ellip_h, parts$right, deparse.level = 0L):\n",
      "“number of rows of result is not a multiple of vector length (arg 2)”\n",
      "Warning message in cbind(parts$left, ellip_h, parts$right, deparse.level = 0L):\n",
      "“number of rows of result is not a multiple of vector length (arg 2)”\n",
      "Warning message in cbind(parts$left, ellip_h, parts$right, deparse.level = 0L):\n",
      "“number of rows of result is not a multiple of vector length (arg 2)”\n",
      "Warning message in cbind(parts$left, ellip_h, parts$right, deparse.level = 0L):\n",
      "“number of rows of result is not a multiple of vector length (arg 2)”\n"
     ]
    },
    {
     "data": {
      "text/html": [
       "<table class=\"dataframe\">\n",
       "<caption>A data.frame: 0 × 23</caption>\n",
       "<thead>\n",
       "\t<tr><th scope=col>tract</th><th scope=col>X.x</th><th scope=col>county.x</th><th scope=col>dataset.x</th><th scope=col>X.y</th><th scope=col>county.y</th><th scope=col>dataset.y</th><th scope=col>estimate_estimate_total</th><th scope=col>estimate_estimate_total_with_an_internet_subscription</th><th scope=col>estimate_estimate_total_with_an_internet_subscription_dial.up_alone</th><th scope=col>⋯</th><th scope=col>estimate_estimate_total_internet_access_without_a_subscription</th><th scope=col>estimate_estimate_total_no_internet_access</th><th scope=col>moe_estimate_total</th><th scope=col>moe_estimate_total_with_an_internet_subscription</th><th scope=col>moe_estimate_total_with_an_internet_subscription_dial.up_alone</th><th scope=col>moe_estimate_total_with_an_internet_subscription_broadband_such_as_cable._fiber_optic._or_dsl</th><th scope=col>moe_estimate_total_with_an_internet_subscription_satellite_internet_service</th><th scope=col>moe_estimate_total_with_an_internet_subscription_other_service</th><th scope=col>moe_estimate_total_internet_access_without_a_subscription</th><th scope=col>moe_estimate_total_no_internet_access</th></tr>\n",
       "\t<tr><th scope=col>&lt;lgl&gt;</th><th scope=col>&lt;lgl&gt;</th><th scope=col>&lt;lgl&gt;</th><th scope=col>&lt;lgl&gt;</th><th scope=col>&lt;int&gt;</th><th scope=col>&lt;chr&gt;</th><th scope=col>&lt;chr&gt;</th><th scope=col>&lt;int&gt;</th><th scope=col>&lt;int&gt;</th><th scope=col>&lt;int&gt;</th><th scope=col>⋯</th><th scope=col>&lt;int&gt;</th><th scope=col>&lt;int&gt;</th><th scope=col>&lt;int&gt;</th><th scope=col>&lt;int&gt;</th><th scope=col>&lt;int&gt;</th><th scope=col>&lt;int&gt;</th><th scope=col>&lt;int&gt;</th><th scope=col>&lt;int&gt;</th><th scope=col>&lt;int&gt;</th><th scope=col>&lt;int&gt;</th></tr>\n",
       "</thead>\n",
       "<tbody>\n",
       "</tbody>\n",
       "</table>\n"
      ],
      "text/latex": [
       "A data.frame: 0 × 23\n",
       "\\begin{tabular}{lllllllllllllllllllll}\n",
       " tract & X.x & county.x & dataset.x & X.y & county.y & dataset.y & estimate\\_estimate\\_total & estimate\\_estimate\\_total\\_with\\_an\\_internet\\_subscription & estimate\\_estimate\\_total\\_with\\_an\\_internet\\_subscription\\_dial.up\\_alone & ⋯ & estimate\\_estimate\\_total\\_internet\\_access\\_without\\_a\\_subscription & estimate\\_estimate\\_total\\_no\\_internet\\_access & moe\\_estimate\\_total & moe\\_estimate\\_total\\_with\\_an\\_internet\\_subscription & moe\\_estimate\\_total\\_with\\_an\\_internet\\_subscription\\_dial.up\\_alone & moe\\_estimate\\_total\\_with\\_an\\_internet\\_subscription\\_broadband\\_such\\_as\\_cable.\\_fiber\\_optic.\\_or\\_dsl & moe\\_estimate\\_total\\_with\\_an\\_internet\\_subscription\\_satellite\\_internet\\_service & moe\\_estimate\\_total\\_with\\_an\\_internet\\_subscription\\_other\\_service & moe\\_estimate\\_total\\_internet\\_access\\_without\\_a\\_subscription & moe\\_estimate\\_total\\_no\\_internet\\_access\\\\\n",
       " <lgl> & <lgl> & <lgl> & <lgl> & <int> & <chr> & <chr> & <int> & <int> & <int> & ⋯ & <int> & <int> & <int> & <int> & <int> & <int> & <int> & <int> & <int> & <int>\\\\\n",
       "\\hline\n",
       "\\end{tabular}\n"
      ],
      "text/markdown": [
       "\n",
       "A data.frame: 0 × 23\n",
       "\n",
       "| tract &lt;lgl&gt; | X.x &lt;lgl&gt; | county.x &lt;lgl&gt; | dataset.x &lt;lgl&gt; | X.y &lt;int&gt; | county.y &lt;chr&gt; | dataset.y &lt;chr&gt; | estimate_estimate_total &lt;int&gt; | estimate_estimate_total_with_an_internet_subscription &lt;int&gt; | estimate_estimate_total_with_an_internet_subscription_dial.up_alone &lt;int&gt; | ⋯ ⋯ | estimate_estimate_total_internet_access_without_a_subscription &lt;int&gt; | estimate_estimate_total_no_internet_access &lt;int&gt; | moe_estimate_total &lt;int&gt; | moe_estimate_total_with_an_internet_subscription &lt;int&gt; | moe_estimate_total_with_an_internet_subscription_dial.up_alone &lt;int&gt; | moe_estimate_total_with_an_internet_subscription_broadband_such_as_cable._fiber_optic._or_dsl &lt;int&gt; | moe_estimate_total_with_an_internet_subscription_satellite_internet_service &lt;int&gt; | moe_estimate_total_with_an_internet_subscription_other_service &lt;int&gt; | moe_estimate_total_internet_access_without_a_subscription &lt;int&gt; | moe_estimate_total_no_internet_access &lt;int&gt; |\n",
       "|---|---|---|---|---|---|---|---|---|---|---|---|---|---|---|---|---|---|---|---|---|\n",
       "\n"
      ],
      "text/plain": [
       "     tract X.x county.x dataset.x X.y county.y dataset.y\n",
       "     estimate_estimate_total\n",
       "     estimate_estimate_total_with_an_internet_subscription\n",
       "     estimate_estimate_total_with_an_internet_subscription_dial.up_alone ⋯\n",
       "     estimate_estimate_total_internet_access_without_a_subscription\n",
       "     estimate_estimate_total_no_internet_access moe_estimate_total\n",
       "     moe_estimate_total_with_an_internet_subscription\n",
       "     moe_estimate_total_with_an_internet_subscription_dial.up_alone\n",
       "     moe_estimate_total_with_an_internet_subscription_broadband_such_as_cable._fiber_optic._or_dsl\n",
       "     moe_estimate_total_with_an_internet_subscription_satellite_internet_service\n",
       "     moe_estimate_total_with_an_internet_subscription_other_service\n",
       "     moe_estimate_total_internet_access_without_a_subscription\n",
       "     moe_estimate_total_no_internet_access"
      ]
     },
     "metadata": {},
     "output_type": "display_data"
    }
   ],
   "source": [
    "merge(household_income, internet_subscription, by = \"tract\")"
   ]
  }
 ],
 "metadata": {
  "kernelspec": {
   "display_name": "R",
   "language": "R",
   "name": "ir"
  },
  "language_info": {
   "codemirror_mode": "r",
   "file_extension": ".r",
   "mimetype": "text/x-r-source",
   "name": "R",
   "pygments_lexer": "r",
   "version": "4.2.2"
  },
  "orig_nbformat": 4,
  "vscode": {
   "interpreter": {
    "hash": "31f2aee4e71d21fbe5cf8b01ff0e069b9275f58929596ceb00d14d90e3e16cd6"
   }
  }
 },
 "nbformat": 4,
 "nbformat_minor": 2
}
