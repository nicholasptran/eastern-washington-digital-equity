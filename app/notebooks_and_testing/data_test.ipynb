{
 "cells": [
  {
   "cell_type": "code",
   "execution_count": 1,
   "metadata": {
    "vscode": {
     "languageId": "r"
    }
   },
   "outputs": [
    {
     "name": "stderr",
     "output_type": "stream",
     "text": [
      "── \u001b[1mAttaching packages\u001b[22m ─────────────────────────────────────── tidyverse 1.3.1 ──\n",
      "\n",
      "\u001b[32m✔\u001b[39m \u001b[34mggplot2\u001b[39m 3.3.5     \u001b[32m✔\u001b[39m \u001b[34mpurrr  \u001b[39m 0.3.4\n",
      "\u001b[32m✔\u001b[39m \u001b[34mtibble \u001b[39m 3.1.7     \u001b[32m✔\u001b[39m \u001b[34mdplyr  \u001b[39m 1.0.9\n",
      "\u001b[32m✔\u001b[39m \u001b[34mtidyr  \u001b[39m 1.2.0     \u001b[32m✔\u001b[39m \u001b[34mstringr\u001b[39m 1.4.0\n",
      "\u001b[32m✔\u001b[39m \u001b[34mreadr  \u001b[39m 2.1.2     \u001b[32m✔\u001b[39m \u001b[34mforcats\u001b[39m 0.5.1\n",
      "\n",
      "── \u001b[1mConflicts\u001b[22m ────────────────────────────────────────── tidyverse_conflicts() ──\n",
      "\u001b[31m✖\u001b[39m \u001b[34mdplyr\u001b[39m::\u001b[32mfilter()\u001b[39m masks \u001b[34mstats\u001b[39m::filter()\n",
      "\u001b[31m✖\u001b[39m \u001b[34mdplyr\u001b[39m::\u001b[32mlag()\u001b[39m    masks \u001b[34mstats\u001b[39m::lag()\n",
      "\n"
     ]
    }
   ],
   "source": [
    "library(tidyverse)\n",
    "setwd(\"../\")"
   ]
  },
  {
   "cell_type": "code",
   "execution_count": 3,
   "metadata": {
    "vscode": {
     "languageId": "r"
    }
   },
   "outputs": [],
   "source": [
    "household_income <- read.csv(\"data/household_income.csv\")\n",
    "household_income_urban <- read.csv(\"data/household_income_urban.csv\")\n",
    "internet_subscription <- read.csv(\"data/internet_subscription.csv\")\n",
    "internet_subscription_urban <- read.csv(\"data/internet_subscription_urban.csv\")\n",
    "nativity <- read.csv(\"data/nativity.csv\")\n",
    "nativity_urban <- read.csv(\"data/nativity_urban.csv\")\n",
    "naturalization <- read.csv(\"data/naturalization.csv\")\n",
    "naturalization_urban <- read.csv(\"data/naturalization_urban.csv\")\n",
    "presence_computer <- read.csv(\"data/presence_computer.csv\")\n",
    "presence_computer_urban <- read.csv(\"data/presence_computer_urban.csv\")\n",
    "transportation <- read.csv(\"data/transportation.csv\")\n",
    "transportation_urban <- read.csv(\"data/transportation_urban.csv\")\n",
    "type_computer <- read.csv(\"data/type_computer.csv\")\n",
    "type_computer_urban <- read.csv(\"data/type_computer_urban.csv\")\n",
    "voting_age <- read.csv(\"data/voting_age.csv\")\n",
    "voting_age_urban <- read.csv(\"data/voting_age_urban.csv\")\n"
   ]
  },
  {
   "cell_type": "code",
   "execution_count": 14,
   "metadata": {
    "vscode": {
     "languageId": "r"
    }
   },
   "outputs": [],
   "source": [
    "combined_data <- inner_join(internet_subscription, nativity, by = \"tract\")\n",
    "combined_data <- inner_join(combined_data, naturalization, by = \"tract\")\n",
    "combined_data <- inner_join(combined_data, presence_computer, by = \"tract\")\n",
    "combined_data <- inner_join(combined_data, transportation, by = \"tract\")\n",
    "combined_data <- inner_join(combined_data, type_computer, by = \"tract\")\n",
    "combined_data <- inner_join(combined_data, voting_age, by = \"tract\")"
   ]
  },
  {
   "cell_type": "code",
   "execution_count": 15,
   "metadata": {
    "vscode": {
     "languageId": "r"
    }
   },
   "outputs": [
    {
     "data": {
      "text/html": [
       "<table class=\"dataframe\">\n",
       "<caption>A data.frame: 6 × 26</caption>\n",
       "<thead>\n",
       "\t<tr><th></th><th scope=col>X</th><th scope=col>tract</th><th scope=col>county</th><th scope=col>dataset</th><th scope=col>estimate_estimate_total</th><th scope=col>estimate_estimate_total_has_one_or_more_types_of_computing_devices</th><th scope=col>estimate_estimate_total_has_one_or_more_types_of_computing_devices_desktop_or_laptop</th><th scope=col>estimate_estimate_total_has_one_or_more_types_of_computing_devices_desktop_or_laptop_desktop_or_laptop_with_no_other_type_of_computing_device</th><th scope=col>estimate_estimate_total_has_one_or_more_types_of_computing_devices_smartphone</th><th scope=col>estimate_estimate_total_has_one_or_more_types_of_computing_devices_smartphone_smartphone_with_no_other_type_of_computing_device</th><th scope=col>⋯</th><th scope=col>moe_estimate_total_has_one_or_more_types_of_computing_devices</th><th scope=col>moe_estimate_total_has_one_or_more_types_of_computing_devices_desktop_or_laptop</th><th scope=col>moe_estimate_total_has_one_or_more_types_of_computing_devices_desktop_or_laptop_desktop_or_laptop_with_no_other_type_of_computing_device</th><th scope=col>moe_estimate_total_has_one_or_more_types_of_computing_devices_smartphone</th><th scope=col>moe_estimate_total_has_one_or_more_types_of_computing_devices_smartphone_smartphone_with_no_other_type_of_computing_device</th><th scope=col>moe_estimate_total_has_one_or_more_types_of_computing_devices_tablet_or_other_portable_wireless_computer</th><th scope=col>moe_estimate_total_has_one_or_more_types_of_computing_devices_tablet_or_other_portable_wireless_computer_tablet_or_other_portable_wireless_computer_with_no_other_type_of_computing_device</th><th scope=col>moe_estimate_total_has_one_or_more_types_of_computing_devices_other_computer</th><th scope=col>moe_estimate_total_has_one_or_more_types_of_computing_devices_other_computer_other_computer_with_no_other_type_of_computing_device</th><th scope=col>moe_estimate_total_no_computer</th></tr>\n",
       "\t<tr><th></th><th scope=col>&lt;int&gt;</th><th scope=col>&lt;dbl&gt;</th><th scope=col>&lt;chr&gt;</th><th scope=col>&lt;chr&gt;</th><th scope=col>&lt;int&gt;</th><th scope=col>&lt;int&gt;</th><th scope=col>&lt;int&gt;</th><th scope=col>&lt;int&gt;</th><th scope=col>&lt;int&gt;</th><th scope=col>&lt;int&gt;</th><th scope=col>⋯</th><th scope=col>&lt;int&gt;</th><th scope=col>&lt;int&gt;</th><th scope=col>&lt;int&gt;</th><th scope=col>&lt;int&gt;</th><th scope=col>&lt;int&gt;</th><th scope=col>&lt;int&gt;</th><th scope=col>&lt;int&gt;</th><th scope=col>&lt;int&gt;</th><th scope=col>&lt;int&gt;</th><th scope=col>&lt;int&gt;</th></tr>\n",
       "</thead>\n",
       "<tbody>\n",
       "\t<tr><th scope=row>1</th><td>1</td><td>9501.00</td><td>adams  </td><td>types_of_computers_in_household</td><td>1099</td><td>1023</td><td> 754</td><td>88</td><td> 867</td><td>153</td><td>⋯</td><td> 99</td><td>106</td><td>28</td><td>105</td><td> 47</td><td>103</td><td>15</td><td>14</td><td>13</td><td> 29</td></tr>\n",
       "\t<tr><th scope=row>2</th><td>2</td><td> 102.01</td><td>spokane</td><td>types_of_computers_in_household</td><td>1858</td><td>1723</td><td>1538</td><td>93</td><td>1574</td><td>114</td><td>⋯</td><td>408</td><td>425</td><td>56</td><td>407</td><td> 81</td><td>143</td><td>13</td><td>62</td><td>13</td><td> 85</td></tr>\n",
       "\t<tr><th scope=row>3</th><td>3</td><td>9502.00</td><td>adams  </td><td>types_of_computers_in_household</td><td> 612</td><td> 548</td><td> 448</td><td>21</td><td> 503</td><td> 68</td><td>⋯</td><td> 96</td><td> 97</td><td>12</td><td> 94</td><td> 34</td><td> 53</td><td> 5</td><td>14</td><td>13</td><td> 32</td></tr>\n",
       "\t<tr><th scope=row>4</th><td>4</td><td> 102.03</td><td>spokane</td><td>types_of_computers_in_household</td><td>1449</td><td>1449</td><td>1396</td><td>22</td><td>1427</td><td> 36</td><td>⋯</td><td> 99</td><td>118</td><td>33</td><td>100</td><td> 56</td><td>120</td><td>13</td><td>41</td><td>13</td><td> 13</td></tr>\n",
       "\t<tr><th scope=row>5</th><td>5</td><td>9503.01</td><td>adams  </td><td>types_of_computers_in_household</td><td> 501</td><td> 318</td><td> 242</td><td>17</td><td> 301</td><td> 76</td><td>⋯</td><td> 77</td><td> 72</td><td>22</td><td> 81</td><td> 49</td><td> 77</td><td>13</td><td> 6</td><td>13</td><td>102</td></tr>\n",
       "\t<tr><th scope=row>6</th><td>6</td><td> 102.04</td><td>spokane</td><td>types_of_computers_in_household</td><td> 974</td><td> 939</td><td> 822</td><td>79</td><td> 787</td><td> 97</td><td>⋯</td><td>127</td><td>104</td><td>77</td><td>149</td><td>113</td><td>133</td><td>13</td><td>58</td><td>13</td><td> 38</td></tr>\n",
       "</tbody>\n",
       "</table>\n"
      ],
      "text/latex": [
       "A data.frame: 6 × 26\n",
       "\\begin{tabular}{r|lllllllllllllllllllll}\n",
       "  & X & tract & county & dataset & estimate\\_estimate\\_total & estimate\\_estimate\\_total\\_has\\_one\\_or\\_more\\_types\\_of\\_computing\\_devices & estimate\\_estimate\\_total\\_has\\_one\\_or\\_more\\_types\\_of\\_computing\\_devices\\_desktop\\_or\\_laptop & estimate\\_estimate\\_total\\_has\\_one\\_or\\_more\\_types\\_of\\_computing\\_devices\\_desktop\\_or\\_laptop\\_desktop\\_or\\_laptop\\_with\\_no\\_other\\_type\\_of\\_computing\\_device & estimate\\_estimate\\_total\\_has\\_one\\_or\\_more\\_types\\_of\\_computing\\_devices\\_smartphone & estimate\\_estimate\\_total\\_has\\_one\\_or\\_more\\_types\\_of\\_computing\\_devices\\_smartphone\\_smartphone\\_with\\_no\\_other\\_type\\_of\\_computing\\_device & ⋯ & moe\\_estimate\\_total\\_has\\_one\\_or\\_more\\_types\\_of\\_computing\\_devices & moe\\_estimate\\_total\\_has\\_one\\_or\\_more\\_types\\_of\\_computing\\_devices\\_desktop\\_or\\_laptop & moe\\_estimate\\_total\\_has\\_one\\_or\\_more\\_types\\_of\\_computing\\_devices\\_desktop\\_or\\_laptop\\_desktop\\_or\\_laptop\\_with\\_no\\_other\\_type\\_of\\_computing\\_device & moe\\_estimate\\_total\\_has\\_one\\_or\\_more\\_types\\_of\\_computing\\_devices\\_smartphone & moe\\_estimate\\_total\\_has\\_one\\_or\\_more\\_types\\_of\\_computing\\_devices\\_smartphone\\_smartphone\\_with\\_no\\_other\\_type\\_of\\_computing\\_device & moe\\_estimate\\_total\\_has\\_one\\_or\\_more\\_types\\_of\\_computing\\_devices\\_tablet\\_or\\_other\\_portable\\_wireless\\_computer & moe\\_estimate\\_total\\_has\\_one\\_or\\_more\\_types\\_of\\_computing\\_devices\\_tablet\\_or\\_other\\_portable\\_wireless\\_computer\\_tablet\\_or\\_other\\_portable\\_wireless\\_computer\\_with\\_no\\_other\\_type\\_of\\_computing\\_device & moe\\_estimate\\_total\\_has\\_one\\_or\\_more\\_types\\_of\\_computing\\_devices\\_other\\_computer & moe\\_estimate\\_total\\_has\\_one\\_or\\_more\\_types\\_of\\_computing\\_devices\\_other\\_computer\\_other\\_computer\\_with\\_no\\_other\\_type\\_of\\_computing\\_device & moe\\_estimate\\_total\\_no\\_computer\\\\\n",
       "  & <int> & <dbl> & <chr> & <chr> & <int> & <int> & <int> & <int> & <int> & <int> & ⋯ & <int> & <int> & <int> & <int> & <int> & <int> & <int> & <int> & <int> & <int>\\\\\n",
       "\\hline\n",
       "\t1 & 1 & 9501.00 & adams   & types\\_of\\_computers\\_in\\_household & 1099 & 1023 &  754 & 88 &  867 & 153 & ⋯ &  99 & 106 & 28 & 105 &  47 & 103 & 15 & 14 & 13 &  29\\\\\n",
       "\t2 & 2 &  102.01 & spokane & types\\_of\\_computers\\_in\\_household & 1858 & 1723 & 1538 & 93 & 1574 & 114 & ⋯ & 408 & 425 & 56 & 407 &  81 & 143 & 13 & 62 & 13 &  85\\\\\n",
       "\t3 & 3 & 9502.00 & adams   & types\\_of\\_computers\\_in\\_household &  612 &  548 &  448 & 21 &  503 &  68 & ⋯ &  96 &  97 & 12 &  94 &  34 &  53 &  5 & 14 & 13 &  32\\\\\n",
       "\t4 & 4 &  102.03 & spokane & types\\_of\\_computers\\_in\\_household & 1449 & 1449 & 1396 & 22 & 1427 &  36 & ⋯ &  99 & 118 & 33 & 100 &  56 & 120 & 13 & 41 & 13 &  13\\\\\n",
       "\t5 & 5 & 9503.01 & adams   & types\\_of\\_computers\\_in\\_household &  501 &  318 &  242 & 17 &  301 &  76 & ⋯ &  77 &  72 & 22 &  81 &  49 &  77 & 13 &  6 & 13 & 102\\\\\n",
       "\t6 & 6 &  102.04 & spokane & types\\_of\\_computers\\_in\\_household &  974 &  939 &  822 & 79 &  787 &  97 & ⋯ & 127 & 104 & 77 & 149 & 113 & 133 & 13 & 58 & 13 &  38\\\\\n",
       "\\end{tabular}\n"
      ],
      "text/markdown": [
       "\n",
       "A data.frame: 6 × 26\n",
       "\n",
       "| <!--/--> | X &lt;int&gt; | tract &lt;dbl&gt; | county &lt;chr&gt; | dataset &lt;chr&gt; | estimate_estimate_total &lt;int&gt; | estimate_estimate_total_has_one_or_more_types_of_computing_devices &lt;int&gt; | estimate_estimate_total_has_one_or_more_types_of_computing_devices_desktop_or_laptop &lt;int&gt; | estimate_estimate_total_has_one_or_more_types_of_computing_devices_desktop_or_laptop_desktop_or_laptop_with_no_other_type_of_computing_device &lt;int&gt; | estimate_estimate_total_has_one_or_more_types_of_computing_devices_smartphone &lt;int&gt; | estimate_estimate_total_has_one_or_more_types_of_computing_devices_smartphone_smartphone_with_no_other_type_of_computing_device &lt;int&gt; | ⋯ ⋯ | moe_estimate_total_has_one_or_more_types_of_computing_devices &lt;int&gt; | moe_estimate_total_has_one_or_more_types_of_computing_devices_desktop_or_laptop &lt;int&gt; | moe_estimate_total_has_one_or_more_types_of_computing_devices_desktop_or_laptop_desktop_or_laptop_with_no_other_type_of_computing_device &lt;int&gt; | moe_estimate_total_has_one_or_more_types_of_computing_devices_smartphone &lt;int&gt; | moe_estimate_total_has_one_or_more_types_of_computing_devices_smartphone_smartphone_with_no_other_type_of_computing_device &lt;int&gt; | moe_estimate_total_has_one_or_more_types_of_computing_devices_tablet_or_other_portable_wireless_computer &lt;int&gt; | moe_estimate_total_has_one_or_more_types_of_computing_devices_tablet_or_other_portable_wireless_computer_tablet_or_other_portable_wireless_computer_with_no_other_type_of_computing_device &lt;int&gt; | moe_estimate_total_has_one_or_more_types_of_computing_devices_other_computer &lt;int&gt; | moe_estimate_total_has_one_or_more_types_of_computing_devices_other_computer_other_computer_with_no_other_type_of_computing_device &lt;int&gt; | moe_estimate_total_no_computer &lt;int&gt; |\n",
       "|---|---|---|---|---|---|---|---|---|---|---|---|---|---|---|---|---|---|---|---|---|---|\n",
       "| 1 | 1 | 9501.00 | adams   | types_of_computers_in_household | 1099 | 1023 |  754 | 88 |  867 | 153 | ⋯ |  99 | 106 | 28 | 105 |  47 | 103 | 15 | 14 | 13 |  29 |\n",
       "| 2 | 2 |  102.01 | spokane | types_of_computers_in_household | 1858 | 1723 | 1538 | 93 | 1574 | 114 | ⋯ | 408 | 425 | 56 | 407 |  81 | 143 | 13 | 62 | 13 |  85 |\n",
       "| 3 | 3 | 9502.00 | adams   | types_of_computers_in_household |  612 |  548 |  448 | 21 |  503 |  68 | ⋯ |  96 |  97 | 12 |  94 |  34 |  53 |  5 | 14 | 13 |  32 |\n",
       "| 4 | 4 |  102.03 | spokane | types_of_computers_in_household | 1449 | 1449 | 1396 | 22 | 1427 |  36 | ⋯ |  99 | 118 | 33 | 100 |  56 | 120 | 13 | 41 | 13 |  13 |\n",
       "| 5 | 5 | 9503.01 | adams   | types_of_computers_in_household |  501 |  318 |  242 | 17 |  301 |  76 | ⋯ |  77 |  72 | 22 |  81 |  49 |  77 | 13 |  6 | 13 | 102 |\n",
       "| 6 | 6 |  102.04 | spokane | types_of_computers_in_household |  974 |  939 |  822 | 79 |  787 |  97 | ⋯ | 127 | 104 | 77 | 149 | 113 | 133 | 13 | 58 | 13 |  38 |\n",
       "\n"
      ],
      "text/plain": [
       "  X tract   county  dataset                         estimate_estimate_total\n",
       "1 1 9501.00 adams   types_of_computers_in_household 1099                   \n",
       "2 2  102.01 spokane types_of_computers_in_household 1858                   \n",
       "3 3 9502.00 adams   types_of_computers_in_household  612                   \n",
       "4 4  102.03 spokane types_of_computers_in_household 1449                   \n",
       "5 5 9503.01 adams   types_of_computers_in_household  501                   \n",
       "6 6  102.04 spokane types_of_computers_in_household  974                   \n",
       "  estimate_estimate_total_has_one_or_more_types_of_computing_devices\n",
       "1 1023                                                              \n",
       "2 1723                                                              \n",
       "3  548                                                              \n",
       "4 1449                                                              \n",
       "5  318                                                              \n",
       "6  939                                                              \n",
       "  estimate_estimate_total_has_one_or_more_types_of_computing_devices_desktop_or_laptop\n",
       "1  754                                                                                \n",
       "2 1538                                                                                \n",
       "3  448                                                                                \n",
       "4 1396                                                                                \n",
       "5  242                                                                                \n",
       "6  822                                                                                \n",
       "  estimate_estimate_total_has_one_or_more_types_of_computing_devices_desktop_or_laptop_desktop_or_laptop_with_no_other_type_of_computing_device\n",
       "1 88                                                                                                                                           \n",
       "2 93                                                                                                                                           \n",
       "3 21                                                                                                                                           \n",
       "4 22                                                                                                                                           \n",
       "5 17                                                                                                                                           \n",
       "6 79                                                                                                                                           \n",
       "  estimate_estimate_total_has_one_or_more_types_of_computing_devices_smartphone\n",
       "1  867                                                                         \n",
       "2 1574                                                                         \n",
       "3  503                                                                         \n",
       "4 1427                                                                         \n",
       "5  301                                                                         \n",
       "6  787                                                                         \n",
       "  estimate_estimate_total_has_one_or_more_types_of_computing_devices_smartphone_smartphone_with_no_other_type_of_computing_device\n",
       "1 153                                                                                                                            \n",
       "2 114                                                                                                                            \n",
       "3  68                                                                                                                            \n",
       "4  36                                                                                                                            \n",
       "5  76                                                                                                                            \n",
       "6  97                                                                                                                            \n",
       "  ⋯ moe_estimate_total_has_one_or_more_types_of_computing_devices\n",
       "1 ⋯  99                                                          \n",
       "2 ⋯ 408                                                          \n",
       "3 ⋯  96                                                          \n",
       "4 ⋯  99                                                          \n",
       "5 ⋯  77                                                          \n",
       "6 ⋯ 127                                                          \n",
       "  moe_estimate_total_has_one_or_more_types_of_computing_devices_desktop_or_laptop\n",
       "1 106                                                                            \n",
       "2 425                                                                            \n",
       "3  97                                                                            \n",
       "4 118                                                                            \n",
       "5  72                                                                            \n",
       "6 104                                                                            \n",
       "  moe_estimate_total_has_one_or_more_types_of_computing_devices_desktop_or_laptop_desktop_or_laptop_with_no_other_type_of_computing_device\n",
       "1 28                                                                                                                                      \n",
       "2 56                                                                                                                                      \n",
       "3 12                                                                                                                                      \n",
       "4 33                                                                                                                                      \n",
       "5 22                                                                                                                                      \n",
       "6 77                                                                                                                                      \n",
       "  moe_estimate_total_has_one_or_more_types_of_computing_devices_smartphone\n",
       "1 105                                                                     \n",
       "2 407                                                                     \n",
       "3  94                                                                     \n",
       "4 100                                                                     \n",
       "5  81                                                                     \n",
       "6 149                                                                     \n",
       "  moe_estimate_total_has_one_or_more_types_of_computing_devices_smartphone_smartphone_with_no_other_type_of_computing_device\n",
       "1  47                                                                                                                       \n",
       "2  81                                                                                                                       \n",
       "3  34                                                                                                                       \n",
       "4  56                                                                                                                       \n",
       "5  49                                                                                                                       \n",
       "6 113                                                                                                                       \n",
       "  moe_estimate_total_has_one_or_more_types_of_computing_devices_tablet_or_other_portable_wireless_computer\n",
       "1 103                                                                                                     \n",
       "2 143                                                                                                     \n",
       "3  53                                                                                                     \n",
       "4 120                                                                                                     \n",
       "5  77                                                                                                     \n",
       "6 133                                                                                                     \n",
       "  moe_estimate_total_has_one_or_more_types_of_computing_devices_tablet_or_other_portable_wireless_computer_tablet_or_other_portable_wireless_computer_with_no_other_type_of_computing_device\n",
       "1 15                                                                                                                                                                                        \n",
       "2 13                                                                                                                                                                                        \n",
       "3  5                                                                                                                                                                                        \n",
       "4 13                                                                                                                                                                                        \n",
       "5 13                                                                                                                                                                                        \n",
       "6 13                                                                                                                                                                                        \n",
       "  moe_estimate_total_has_one_or_more_types_of_computing_devices_other_computer\n",
       "1 14                                                                          \n",
       "2 62                                                                          \n",
       "3 14                                                                          \n",
       "4 41                                                                          \n",
       "5  6                                                                          \n",
       "6 58                                                                          \n",
       "  moe_estimate_total_has_one_or_more_types_of_computing_devices_other_computer_other_computer_with_no_other_type_of_computing_device\n",
       "1 13                                                                                                                                \n",
       "2 13                                                                                                                                \n",
       "3 13                                                                                                                                \n",
       "4 13                                                                                                                                \n",
       "5 13                                                                                                                                \n",
       "6 13                                                                                                                                \n",
       "  moe_estimate_total_no_computer\n",
       "1  29                           \n",
       "2  85                           \n",
       "3  32                           \n",
       "4  13                           \n",
       "5 102                           \n",
       "6  38                           "
      ]
     },
     "metadata": {},
     "output_type": "display_data"
    }
   ],
   "source": [
    "head(type_computer)"
   ]
  }
 ],
 "metadata": {
  "kernelspec": {
   "display_name": "R",
   "language": "R",
   "name": "ir"
  },
  "language_info": {
   "codemirror_mode": "r",
   "file_extension": ".r",
   "mimetype": "text/x-r-source",
   "name": "R",
   "pygments_lexer": "r",
   "version": "4.2.2"
  },
  "orig_nbformat": 4,
  "vscode": {
   "interpreter": {
    "hash": "31f2aee4e71d21fbe5cf8b01ff0e069b9275f58929596ceb00d14d90e3e16cd6"
   }
  }
 },
 "nbformat": 4,
 "nbformat_minor": 2
}
