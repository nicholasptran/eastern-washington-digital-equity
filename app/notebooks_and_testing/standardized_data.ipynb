{
 "cells": [
  {
   "cell_type": "code",
   "execution_count": 1,
   "metadata": {
    "vscode": {
     "languageId": "r"
    }
   },
   "outputs": [
    {
     "name": "stderr",
     "output_type": "stream",
     "text": [
      "── \u001b[1mAttaching packages\u001b[22m ─────────────────────────────────────── tidyverse 1.3.1 ──\n",
      "\n",
      "\u001b[32m✔\u001b[39m \u001b[34mggplot2\u001b[39m 3.4.0     \u001b[32m✔\u001b[39m \u001b[34mpurrr  \u001b[39m 1.0.1\n",
      "\u001b[32m✔\u001b[39m \u001b[34mtibble \u001b[39m 3.1.7     \u001b[32m✔\u001b[39m \u001b[34mdplyr  \u001b[39m 1.0.9\n",
      "\u001b[32m✔\u001b[39m \u001b[34mtidyr  \u001b[39m 1.2.0     \u001b[32m✔\u001b[39m \u001b[34mstringr\u001b[39m 1.5.0\n",
      "\u001b[32m✔\u001b[39m \u001b[34mreadr  \u001b[39m 2.1.2     \u001b[32m✔\u001b[39m \u001b[34mforcats\u001b[39m 0.5.1\n",
      "\n",
      "── \u001b[1mConflicts\u001b[22m ────────────────────────────────────────── tidyverse_conflicts() ──\n",
      "\u001b[31m✖\u001b[39m \u001b[34mdplyr\u001b[39m::\u001b[32mfilter()\u001b[39m masks \u001b[34mstats\u001b[39m::filter()\n",
      "\u001b[31m✖\u001b[39m \u001b[34mdplyr\u001b[39m::\u001b[32mlag()\u001b[39m    masks \u001b[34mstats\u001b[39m::lag()\n",
      "\n"
     ]
    }
   ],
   "source": [
    "library(tidyverse)\n",
    "data <- read.csv(\"../data/combined_data.csv\")\n",
    "tract_geoid <- data[1:2]\n",
    "variable_data <- data %>% select(-GEOID, -tract)"
   ]
  },
  {
   "cell_type": "code",
   "execution_count": 2,
   "metadata": {
    "vscode": {
     "languageId": "r"
    }
   },
   "outputs": [],
   "source": [
    "standardized_data <- scale(variable_data)"
   ]
  },
  {
   "cell_type": "code",
   "execution_count": 3,
   "metadata": {
    "vscode": {
     "languageId": "r"
    }
   },
   "outputs": [],
   "source": [
    "standardized_data <- bind_cols(tract_geoid, standardized_data)"
   ]
  },
  {
   "cell_type": "code",
   "execution_count": 4,
   "metadata": {
    "vscode": {
     "languageId": "r"
    }
   },
   "outputs": [
    {
     "data": {
      "text/html": [
       "<table class=\"dataframe\">\n",
       "<caption>A data.frame: 6 × 29</caption>\n",
       "<thead>\n",
       "\t<tr><th></th><th scope=col>GEOID</th><th scope=col>tract</th><th scope=col>not_citizen</th><th scope=col>naturalized_citizen</th><th scope=col>native_citizen</th><th scope=col>foreign_born</th><th scope=col>work_from_home</th><th scope=col>desktop_or_laptop</th><th scope=col>desktop_or_laptop_only</th><th scope=col>smartphone</th><th scope=col>⋯</th><th scope=col>access_with_no_subscription</th><th scope=col>no_internet_access</th><th scope=col>sixty_five_and_older</th><th scope=col>median_income</th><th scope=col>mean_income</th><th scope=col>mean_d_mbps</th><th scope=col>mean_u_mbps</th><th scope=col>mean_lat_ms</th><th scope=col>number_providers</th><th scope=col>mean_lowest_cost</th></tr>\n",
       "\t<tr><th></th><th scope=col>&lt;dbl&gt;</th><th scope=col>&lt;dbl&gt;</th><th scope=col>&lt;dbl&gt;</th><th scope=col>&lt;dbl&gt;</th><th scope=col>&lt;dbl&gt;</th><th scope=col>&lt;dbl&gt;</th><th scope=col>&lt;dbl&gt;</th><th scope=col>&lt;dbl&gt;</th><th scope=col>&lt;dbl&gt;</th><th scope=col>&lt;dbl&gt;</th><th scope=col>⋯</th><th scope=col>&lt;dbl&gt;</th><th scope=col>&lt;dbl&gt;</th><th scope=col>&lt;dbl&gt;</th><th scope=col>&lt;dbl&gt;</th><th scope=col>&lt;dbl&gt;</th><th scope=col>&lt;dbl&gt;</th><th scope=col>&lt;dbl&gt;</th><th scope=col>&lt;dbl&gt;</th><th scope=col>&lt;dbl&gt;</th><th scope=col>&lt;dbl&gt;</th></tr>\n",
       "</thead>\n",
       "<tbody>\n",
       "\t<tr><th scope=row>1</th><td>53001950100</td><td>9501.00</td><td>-0.48236366</td><td>-0.1360753</td><td>-0.7772324</td><td>-0.4237144</td><td>-0.5101084</td><td>-0.8806845</td><td> 0.0783680</td><td>-0.734196</td><td>⋯</td><td> 0.1866582</td><td>-0.1307050</td><td>-0.3984409</td><td>-0.37323672</td><td>-0.50677473</td><td>-1.621869</td><td>-0.93495618</td><td> 0.7333922</td><td> 1.7094218</td><td>-1.2748195</td></tr>\n",
       "\t<tr><th scope=row>2</th><td>53001950200</td><td>9502.00</td><td> 0.08777329</td><td>-1.0671850</td><td>-1.4235744</td><td>-0.3478686</td><td>-0.8653209</td><td>-1.4833040</td><td>-1.1695153</td><td>-1.434819</td><td>⋯</td><td>-0.6177302</td><td>-0.3367343</td><td>-1.2751771</td><td>-0.04914394</td><td>-0.60839056</td><td>-1.629913</td><td>-0.95350094</td><td> 1.6330766</td><td> 1.7094218</td><td>-0.7418166</td></tr>\n",
       "\t<tr><th scope=row>3</th><td>53001950301</td><td>9503.01</td><td> 2.02843174</td><td>-0.8181673</td><td>-1.8432087</td><td> 1.2406807</td><td>-1.3118738</td><td>-1.8889890</td><td>-1.2440157</td><td>-1.823626</td><td>⋯</td><td>-0.5803168</td><td> 0.1243789</td><td>-1.1770586</td><td>-0.93556901</td><td>-0.91747523</td><td>-1.321690</td><td>-0.79459603</td><td> 1.5968650</td><td>-0.2964475</td><td>-1.6382306</td></tr>\n",
       "\t<tr><th scope=row>4</th><td>53001950302</td><td>9503.02</td><td> 2.49440905</td><td> 0.9466105</td><td>-1.3890427</td><td> 2.2856680</td><td>-1.0784484</td><td>-1.7649203</td><td>-1.5606428</td><td>-1.336655</td><td>⋯</td><td>-0.4493698</td><td>-0.6114401</td><td>-1.1802237</td><td>-0.09364729</td><td>-0.26189039</td><td>-1.334392</td><td>-0.65140611</td><td> 0.8212335</td><td>-0.2964475</td><td>-1.6382306</td></tr>\n",
       "\t<tr><th scope=row>5</th><td>53001950303</td><td>9503.03</td><td> 2.35187481</td><td> 0.2320379</td><td>-1.2599245</td><td> 1.8980114</td><td>-0.2259384</td><td>-1.5857099</td><td>-1.4488921</td><td>-1.284685</td><td>⋯</td><td>-0.6177302</td><td>-0.8272803</td><td>-1.1390772</td><td>-0.44758663</td><td>-0.09157226</td><td>-1.486311</td><td>-0.75776304</td><td> 0.4994248</td><td>-0.2964475</td><td>-1.6382306</td></tr>\n",
       "\t<tr><th scope=row>6</th><td>53001950400</td><td>9504.00</td><td> 3.36057864</td><td> 0.3727870</td><td>-0.9348768</td><td> 2.7281021</td><td>-1.1088952</td><td>-1.4695186</td><td>-0.7038872</td><td>-1.173048</td><td>⋯</td><td>-0.3558363</td><td> 0.1734335</td><td>-1.0219681</td><td> 0.12247378</td><td>-0.28001176</td><td> 0.800291</td><td>-0.05116272</td><td>-0.1930008</td><td> 0.2050198</td><td>-1.8643530</td></tr>\n",
       "</tbody>\n",
       "</table>\n"
      ],
      "text/latex": [
       "A data.frame: 6 × 29\n",
       "\\begin{tabular}{r|lllllllllllllllllllll}\n",
       "  & GEOID & tract & not\\_citizen & naturalized\\_citizen & native\\_citizen & foreign\\_born & work\\_from\\_home & desktop\\_or\\_laptop & desktop\\_or\\_laptop\\_only & smartphone & ⋯ & access\\_with\\_no\\_subscription & no\\_internet\\_access & sixty\\_five\\_and\\_older & median\\_income & mean\\_income & mean\\_d\\_mbps & mean\\_u\\_mbps & mean\\_lat\\_ms & number\\_providers & mean\\_lowest\\_cost\\\\\n",
       "  & <dbl> & <dbl> & <dbl> & <dbl> & <dbl> & <dbl> & <dbl> & <dbl> & <dbl> & <dbl> & ⋯ & <dbl> & <dbl> & <dbl> & <dbl> & <dbl> & <dbl> & <dbl> & <dbl> & <dbl> & <dbl>\\\\\n",
       "\\hline\n",
       "\t1 & 53001950100 & 9501.00 & -0.48236366 & -0.1360753 & -0.7772324 & -0.4237144 & -0.5101084 & -0.8806845 &  0.0783680 & -0.734196 & ⋯ &  0.1866582 & -0.1307050 & -0.3984409 & -0.37323672 & -0.50677473 & -1.621869 & -0.93495618 &  0.7333922 &  1.7094218 & -1.2748195\\\\\n",
       "\t2 & 53001950200 & 9502.00 &  0.08777329 & -1.0671850 & -1.4235744 & -0.3478686 & -0.8653209 & -1.4833040 & -1.1695153 & -1.434819 & ⋯ & -0.6177302 & -0.3367343 & -1.2751771 & -0.04914394 & -0.60839056 & -1.629913 & -0.95350094 &  1.6330766 &  1.7094218 & -0.7418166\\\\\n",
       "\t3 & 53001950301 & 9503.01 &  2.02843174 & -0.8181673 & -1.8432087 &  1.2406807 & -1.3118738 & -1.8889890 & -1.2440157 & -1.823626 & ⋯ & -0.5803168 &  0.1243789 & -1.1770586 & -0.93556901 & -0.91747523 & -1.321690 & -0.79459603 &  1.5968650 & -0.2964475 & -1.6382306\\\\\n",
       "\t4 & 53001950302 & 9503.02 &  2.49440905 &  0.9466105 & -1.3890427 &  2.2856680 & -1.0784484 & -1.7649203 & -1.5606428 & -1.336655 & ⋯ & -0.4493698 & -0.6114401 & -1.1802237 & -0.09364729 & -0.26189039 & -1.334392 & -0.65140611 &  0.8212335 & -0.2964475 & -1.6382306\\\\\n",
       "\t5 & 53001950303 & 9503.03 &  2.35187481 &  0.2320379 & -1.2599245 &  1.8980114 & -0.2259384 & -1.5857099 & -1.4488921 & -1.284685 & ⋯ & -0.6177302 & -0.8272803 & -1.1390772 & -0.44758663 & -0.09157226 & -1.486311 & -0.75776304 &  0.4994248 & -0.2964475 & -1.6382306\\\\\n",
       "\t6 & 53001950400 & 9504.00 &  3.36057864 &  0.3727870 & -0.9348768 &  2.7281021 & -1.1088952 & -1.4695186 & -0.7038872 & -1.173048 & ⋯ & -0.3558363 &  0.1734335 & -1.0219681 &  0.12247378 & -0.28001176 &  0.800291 & -0.05116272 & -0.1930008 &  0.2050198 & -1.8643530\\\\\n",
       "\\end{tabular}\n"
      ],
      "text/markdown": [
       "\n",
       "A data.frame: 6 × 29\n",
       "\n",
       "| <!--/--> | GEOID &lt;dbl&gt; | tract &lt;dbl&gt; | not_citizen &lt;dbl&gt; | naturalized_citizen &lt;dbl&gt; | native_citizen &lt;dbl&gt; | foreign_born &lt;dbl&gt; | work_from_home &lt;dbl&gt; | desktop_or_laptop &lt;dbl&gt; | desktop_or_laptop_only &lt;dbl&gt; | smartphone &lt;dbl&gt; | ⋯ ⋯ | access_with_no_subscription &lt;dbl&gt; | no_internet_access &lt;dbl&gt; | sixty_five_and_older &lt;dbl&gt; | median_income &lt;dbl&gt; | mean_income &lt;dbl&gt; | mean_d_mbps &lt;dbl&gt; | mean_u_mbps &lt;dbl&gt; | mean_lat_ms &lt;dbl&gt; | number_providers &lt;dbl&gt; | mean_lowest_cost &lt;dbl&gt; |\n",
       "|---|---|---|---|---|---|---|---|---|---|---|---|---|---|---|---|---|---|---|---|---|---|\n",
       "| 1 | 53001950100 | 9501.00 | -0.48236366 | -0.1360753 | -0.7772324 | -0.4237144 | -0.5101084 | -0.8806845 |  0.0783680 | -0.734196 | ⋯ |  0.1866582 | -0.1307050 | -0.3984409 | -0.37323672 | -0.50677473 | -1.621869 | -0.93495618 |  0.7333922 |  1.7094218 | -1.2748195 |\n",
       "| 2 | 53001950200 | 9502.00 |  0.08777329 | -1.0671850 | -1.4235744 | -0.3478686 | -0.8653209 | -1.4833040 | -1.1695153 | -1.434819 | ⋯ | -0.6177302 | -0.3367343 | -1.2751771 | -0.04914394 | -0.60839056 | -1.629913 | -0.95350094 |  1.6330766 |  1.7094218 | -0.7418166 |\n",
       "| 3 | 53001950301 | 9503.01 |  2.02843174 | -0.8181673 | -1.8432087 |  1.2406807 | -1.3118738 | -1.8889890 | -1.2440157 | -1.823626 | ⋯ | -0.5803168 |  0.1243789 | -1.1770586 | -0.93556901 | -0.91747523 | -1.321690 | -0.79459603 |  1.5968650 | -0.2964475 | -1.6382306 |\n",
       "| 4 | 53001950302 | 9503.02 |  2.49440905 |  0.9466105 | -1.3890427 |  2.2856680 | -1.0784484 | -1.7649203 | -1.5606428 | -1.336655 | ⋯ | -0.4493698 | -0.6114401 | -1.1802237 | -0.09364729 | -0.26189039 | -1.334392 | -0.65140611 |  0.8212335 | -0.2964475 | -1.6382306 |\n",
       "| 5 | 53001950303 | 9503.03 |  2.35187481 |  0.2320379 | -1.2599245 |  1.8980114 | -0.2259384 | -1.5857099 | -1.4488921 | -1.284685 | ⋯ | -0.6177302 | -0.8272803 | -1.1390772 | -0.44758663 | -0.09157226 | -1.486311 | -0.75776304 |  0.4994248 | -0.2964475 | -1.6382306 |\n",
       "| 6 | 53001950400 | 9504.00 |  3.36057864 |  0.3727870 | -0.9348768 |  2.7281021 | -1.1088952 | -1.4695186 | -0.7038872 | -1.173048 | ⋯ | -0.3558363 |  0.1734335 | -1.0219681 |  0.12247378 | -0.28001176 |  0.800291 | -0.05116272 | -0.1930008 |  0.2050198 | -1.8643530 |\n",
       "\n"
      ],
      "text/plain": [
       "  GEOID       tract   not_citizen naturalized_citizen native_citizen\n",
       "1 53001950100 9501.00 -0.48236366 -0.1360753          -0.7772324    \n",
       "2 53001950200 9502.00  0.08777329 -1.0671850          -1.4235744    \n",
       "3 53001950301 9503.01  2.02843174 -0.8181673          -1.8432087    \n",
       "4 53001950302 9503.02  2.49440905  0.9466105          -1.3890427    \n",
       "5 53001950303 9503.03  2.35187481  0.2320379          -1.2599245    \n",
       "6 53001950400 9504.00  3.36057864  0.3727870          -0.9348768    \n",
       "  foreign_born work_from_home desktop_or_laptop desktop_or_laptop_only\n",
       "1 -0.4237144   -0.5101084     -0.8806845         0.0783680            \n",
       "2 -0.3478686   -0.8653209     -1.4833040        -1.1695153            \n",
       "3  1.2406807   -1.3118738     -1.8889890        -1.2440157            \n",
       "4  2.2856680   -1.0784484     -1.7649203        -1.5606428            \n",
       "5  1.8980114   -0.2259384     -1.5857099        -1.4488921            \n",
       "6  2.7281021   -1.1088952     -1.4695186        -0.7038872            \n",
       "  smartphone ⋯ access_with_no_subscription no_internet_access\n",
       "1 -0.734196  ⋯  0.1866582                  -0.1307050        \n",
       "2 -1.434819  ⋯ -0.6177302                  -0.3367343        \n",
       "3 -1.823626  ⋯ -0.5803168                   0.1243789        \n",
       "4 -1.336655  ⋯ -0.4493698                  -0.6114401        \n",
       "5 -1.284685  ⋯ -0.6177302                  -0.8272803        \n",
       "6 -1.173048  ⋯ -0.3558363                   0.1734335        \n",
       "  sixty_five_and_older median_income mean_income mean_d_mbps mean_u_mbps\n",
       "1 -0.3984409           -0.37323672   -0.50677473 -1.621869   -0.93495618\n",
       "2 -1.2751771           -0.04914394   -0.60839056 -1.629913   -0.95350094\n",
       "3 -1.1770586           -0.93556901   -0.91747523 -1.321690   -0.79459603\n",
       "4 -1.1802237           -0.09364729   -0.26189039 -1.334392   -0.65140611\n",
       "5 -1.1390772           -0.44758663   -0.09157226 -1.486311   -0.75776304\n",
       "6 -1.0219681            0.12247378   -0.28001176  0.800291   -0.05116272\n",
       "  mean_lat_ms number_providers mean_lowest_cost\n",
       "1  0.7333922   1.7094218       -1.2748195      \n",
       "2  1.6330766   1.7094218       -0.7418166      \n",
       "3  1.5968650  -0.2964475       -1.6382306      \n",
       "4  0.8212335  -0.2964475       -1.6382306      \n",
       "5  0.4994248  -0.2964475       -1.6382306      \n",
       "6 -0.1930008   0.2050198       -1.8643530      "
      ]
     },
     "metadata": {},
     "output_type": "display_data"
    }
   ],
   "source": [
    "head(standardized_data)"
   ]
  },
  {
   "cell_type": "code",
   "execution_count": 5,
   "metadata": {
    "vscode": {
     "languageId": "r"
    }
   },
   "outputs": [],
   "source": [
    "# write.csv(standardized_data, \"../data/standardized_data.csv\", row.names = FALSE)"
   ]
  }
 ],
 "metadata": {
  "kernelspec": {
   "display_name": "R",
   "language": "R",
   "name": "ir"
  },
  "language_info": {
   "codemirror_mode": "r",
   "file_extension": ".r",
   "mimetype": "text/x-r-source",
   "name": "R",
   "pygments_lexer": "r",
   "version": "4.2.2"
  },
  "orig_nbformat": 4,
  "vscode": {
   "interpreter": {
    "hash": "31f2aee4e71d21fbe5cf8b01ff0e069b9275f58929596ceb00d14d90e3e16cd6"
   }
  }
 },
 "nbformat": 4,
 "nbformat_minor": 2
}
