{
 "cells": [
  {
   "cell_type": "code",
   "execution_count": 120,
   "metadata": {
    "vscode": {
     "languageId": "r"
    }
   },
   "outputs": [],
   "source": [
    "library(tidyverse)\n",
    "source(\"../R/scripts/local.R\")\n",
    "source(\"../R/functions/database.R\")\n",
    "\n",
    "area_data <- tbl(con, \"area_data\")\n",
    "wa_fixed_data <- tbl(con, \"wa_fixed_data\")\n",
    "county_info <- tbl(con, \"county_info\")"
   ]
  },
  {
   "cell_type": "code",
   "execution_count": 64,
   "metadata": {
    "vscode": {
     "languageId": "r"
    }
   },
   "outputs": [],
   "source": [
    "\n",
    "county_info <- county_info %>% unique()\n",
    "RPostgres::dbWriteTable(\n",
    "    con,\n",
    "    \"county_info\",\n",
    "    county_info,\n",
    "    overwrite = TRUE\n",
    ")"
   ]
  },
  {
   "cell_type": "code",
   "execution_count": null,
   "metadata": {
    "vscode": {
     "languageId": "r"
    }
   },
   "outputs": [],
   "source": [
    "RPostgres::dbWriteTable(\n",
    "    con,\n",
    "    \"area_data\",\n",
    "    area_data,\n",
    "    overwrite = TRUE\n",
    ")"
   ]
  },
  {
   "cell_type": "code",
   "execution_count": 119,
   "metadata": {
    "vscode": {
     "languageId": "r"
    }
   },
   "outputs": [],
   "source": [
    "RPostgres::dbWriteTable(\n",
    "    con,\n",
    "    \"wa_fixed_data\",\n",
    "    wa_fixed_data,\n",
    "    overwrite = TRUE\n",
    ")"
   ]
  },
  {
   "cell_type": "code",
   "execution_count": 62,
   "metadata": {
    "vscode": {
     "languageId": "r"
    }
   },
   "outputs": [
    {
     "data": {
      "text/plain": [
       "\u001b[90m# Source:   table<area_data> [?? x 10]\u001b[39m\n",
       "\u001b[90m# Database: postgres\n",
       "#   [kkosmydkepdopx@ec2-18-208-55-135.compute-1.amazonaws.com:5432/d5mrpv86vdo3si]\u001b[39m\n",
       "   type  id    tech   urban_rural tribal_non speed has_0 has_1 has_2 has_3more\n",
       "   \u001b[3m\u001b[90m<chr>\u001b[39m\u001b[23m \u001b[3m\u001b[90m<chr>\u001b[39m\u001b[23m \u001b[3m\u001b[90m<chr>\u001b[39m\u001b[23m  \u001b[3m\u001b[90m<chr>\u001b[39m\u001b[23m       \u001b[3m\u001b[90m<chr>\u001b[39m\u001b[23m      \u001b[3m\u001b[90m<dbl>\u001b[39m\u001b[23m \u001b[3m\u001b[90m<int>\u001b[39m\u001b[23m \u001b[3m\u001b[90m<int>\u001b[39m\u001b[23m \u001b[3m\u001b[90m<int>\u001b[39m\u001b[23m     \u001b[3m\u001b[90m<int>\u001b[39m\u001b[23m\n",
       "\u001b[90m 1\u001b[39m cbsa  10100 acfosw R           N            0.2     0     0     0     \u001b[4m1\u001b[24m\u001b[4m6\u001b[24m427\n",
       "\u001b[90m 2\u001b[39m cbsa  10100 acfosw U           N            0.2     0     0     0     \u001b[4m2\u001b[24m\u001b[4m6\u001b[24m128\n",
       "\u001b[90m 3\u001b[39m cbsa  10140 acfosw R           N            0.2     0     5     8     \u001b[4m2\u001b[24m\u001b[4m8\u001b[24m960\n",
       "\u001b[90m 4\u001b[39m cbsa  10140 acfosw R           T            0.2     0     1     0      \u001b[4m2\u001b[24m455\n",
       "\u001b[90m 5\u001b[39m cbsa  10140 acfosw U           N            0.2     0     0     3     \u001b[4m4\u001b[24m\u001b[4m4\u001b[24m516\n",
       "\u001b[90m 6\u001b[39m cbsa  10180 acfosw R           N            0.2     0     0     0     \u001b[4m5\u001b[24m\u001b[4m1\u001b[24m958\n",
       "\u001b[90m 7\u001b[39m cbsa  10180 acfosw U           N            0.2     0     0     0    \u001b[4m1\u001b[24m\u001b[4m2\u001b[24m\u001b[4m1\u001b[24m227\n",
       "\u001b[90m 8\u001b[39m cbsa  10220 acfosw R           T            0.2     0     0     0     \u001b[4m2\u001b[24m\u001b[4m0\u001b[24m774\n",
       "\u001b[90m 9\u001b[39m cbsa  10220 acfosw U           T            0.2     0     0     0     \u001b[4m1\u001b[24m\u001b[4m7\u001b[24m620\n",
       "\u001b[90m10\u001b[39m cbsa  10300 acfosw R           N            0.2     0     0     0     \u001b[4m5\u001b[24m\u001b[4m1\u001b[24m739\n",
       "\u001b[90m# … with more rows\u001b[39m"
      ]
     },
     "metadata": {},
     "output_type": "display_data"
    }
   ],
   "source": [
    "area_data"
   ]
  },
  {
   "cell_type": "code",
   "execution_count": 121,
   "metadata": {
    "vscode": {
     "languageId": "r"
    }
   },
   "outputs": [
    {
     "data": {
      "text/plain": [
       "\u001b[90m# Source:   table<wa_fixed_data> [?? x 18]\u001b[39m\n",
       "\u001b[90m# Database: postgres\n",
       "#   [kkosmydkepdopx@ec2-18-208-55-135.compute-1.amazonaws.com:5432/d5mrpv86vdo3si]\u001b[39m\n",
       "   log_rec_no provider_id     frn provider_name        dba_name holding_company…\n",
       "        \u001b[3m\u001b[90m<int>\u001b[39m\u001b[23m       \u001b[3m\u001b[90m<int>\u001b[39m\u001b[23m   \u001b[3m\u001b[90m<int>\u001b[39m\u001b[23m \u001b[3m\u001b[90m<chr>\u001b[39m\u001b[23m                \u001b[3m\u001b[90m<chr>\u001b[39m\u001b[23m    \u001b[3m\u001b[90m<chr>\u001b[39m\u001b[23m           \n",
       "\u001b[90m 1\u001b[39m     \u001b[4m2\u001b[24m\u001b[4m1\u001b[24m\u001b[4m6\u001b[24m353       \u001b[4m7\u001b[24m\u001b[4m5\u001b[24m890 3\u001b[4m7\u001b[24m\u001b[4m2\u001b[24m\u001b[4m3\u001b[24m822 Level  3 Communicat… Century… CenturyLink, In…\n",
       "\u001b[90m 2\u001b[39m     \u001b[4m2\u001b[24m\u001b[4m1\u001b[24m\u001b[4m6\u001b[24m354       \u001b[4m7\u001b[24m\u001b[4m5\u001b[24m890 3\u001b[4m7\u001b[24m\u001b[4m2\u001b[24m\u001b[4m3\u001b[24m822 Level  3 Communicat… Century… CenturyLink, In…\n",
       "\u001b[90m 3\u001b[39m     \u001b[4m2\u001b[24m\u001b[4m1\u001b[24m\u001b[4m6\u001b[24m355       \u001b[4m7\u001b[24m\u001b[4m5\u001b[24m890 3\u001b[4m7\u001b[24m\u001b[4m2\u001b[24m\u001b[4m3\u001b[24m822 Level  3 Communicat… Century… CenturyLink, In…\n",
       "\u001b[90m 4\u001b[39m     \u001b[4m2\u001b[24m\u001b[4m2\u001b[24m\u001b[4m2\u001b[24m684       \u001b[4m7\u001b[24m\u001b[4m5\u001b[24m890 3\u001b[4m7\u001b[24m\u001b[4m2\u001b[24m\u001b[4m3\u001b[24m822 Level  3 Communicat… Century… CenturyLink, In…\n",
       "\u001b[90m 5\u001b[39m     \u001b[4m2\u001b[24m\u001b[4m2\u001b[24m\u001b[4m2\u001b[24m685       \u001b[4m7\u001b[24m\u001b[4m5\u001b[24m890 3\u001b[4m7\u001b[24m\u001b[4m2\u001b[24m\u001b[4m3\u001b[24m822 Level  3 Communicat… Century… CenturyLink, In…\n",
       "\u001b[90m 6\u001b[39m     \u001b[4m2\u001b[24m\u001b[4m2\u001b[24m\u001b[4m2\u001b[24m686       \u001b[4m7\u001b[24m\u001b[4m5\u001b[24m890 3\u001b[4m7\u001b[24m\u001b[4m2\u001b[24m\u001b[4m3\u001b[24m822 Level  3 Communicat… Century… CenturyLink, In…\n",
       "\u001b[90m 7\u001b[39m     \u001b[4m2\u001b[24m\u001b[4m2\u001b[24m\u001b[4m2\u001b[24m687       \u001b[4m7\u001b[24m\u001b[4m5\u001b[24m890 3\u001b[4m7\u001b[24m\u001b[4m2\u001b[24m\u001b[4m3\u001b[24m822 Level  3 Communicat… Century… CenturyLink, In…\n",
       "\u001b[90m 8\u001b[39m     \u001b[4m2\u001b[24m\u001b[4m2\u001b[24m\u001b[4m2\u001b[24m688       \u001b[4m7\u001b[24m\u001b[4m5\u001b[24m890 3\u001b[4m7\u001b[24m\u001b[4m2\u001b[24m\u001b[4m3\u001b[24m822 Level  3 Communicat… Century… CenturyLink, In…\n",
       "\u001b[90m 9\u001b[39m     \u001b[4m2\u001b[24m\u001b[4m2\u001b[24m\u001b[4m2\u001b[24m689       \u001b[4m7\u001b[24m\u001b[4m5\u001b[24m890 3\u001b[4m7\u001b[24m\u001b[4m2\u001b[24m\u001b[4m3\u001b[24m822 Level  3 Communicat… Century… CenturyLink, In…\n",
       "\u001b[90m10\u001b[39m     \u001b[4m2\u001b[24m\u001b[4m2\u001b[24m\u001b[4m2\u001b[24m690       \u001b[4m7\u001b[24m\u001b[4m5\u001b[24m890 3\u001b[4m7\u001b[24m\u001b[4m2\u001b[24m\u001b[4m3\u001b[24m822 Level  3 Communicat… Century… CenturyLink, In…\n",
       "\u001b[90m# … with more rows, and 12 more variables: hoco_num <int>, hoco_final <chr>,\u001b[39m\n",
       "\u001b[90m#   state_abbr <chr>, block_code <dbl>, tech_code <int>, consumer <int>,\u001b[39m\n",
       "\u001b[90m#   max_ad_down <dbl>, max_ad_up <dbl>, business <int>, county_id <int>,\u001b[39m\n",
       "\u001b[90m#   county_name <chr>, tract <dbl>\u001b[39m"
      ]
     },
     "metadata": {},
     "output_type": "display_data"
    }
   ],
   "source": [
    "wa_fixed_data"
   ]
  },
  {
   "cell_type": "code",
   "execution_count": 81,
   "metadata": {
    "vscode": {
     "languageId": "r"
    }
   },
   "outputs": [],
   "source": [
    "wa_fixed_data <- wa_fixed_data %>% inner_join(county_info, by = c(\"BlockCode\" = \"block_code\")) %>% \n",
    "    data.frame()"
   ]
  },
  {
   "cell_type": "code",
   "execution_count": 87,
   "metadata": {
    "vscode": {
     "languageId": "r"
    }
   },
   "outputs": [
    {
     "data": {
      "text/plain": [
       "\u001b[90m# Source:   table<wa_fixed_data> [?? x 27]\u001b[39m\n",
       "\u001b[90m# Database: postgres\n",
       "#   [kkosmydkepdopx@ec2-18-208-55-135.compute-1.amazonaws.com:5432/d5mrpv86vdo3si]\u001b[39m\n",
       "   LogRecNo Provider_Id     FRN ProviderName    DBAName HoldingCompanyN… HocoNum\n",
       "      \u001b[3m\u001b[90m<int>\u001b[39m\u001b[23m       \u001b[3m\u001b[90m<int>\u001b[39m\u001b[23m   \u001b[3m\u001b[90m<int>\u001b[39m\u001b[23m \u001b[3m\u001b[90m<chr>\u001b[39m\u001b[23m           \u001b[3m\u001b[90m<chr>\u001b[39m\u001b[23m   \u001b[3m\u001b[90m<chr>\u001b[39m\u001b[23m              \u001b[3m\u001b[90m<int>\u001b[39m\u001b[23m\n",
       "\u001b[90m 1\u001b[39m   \u001b[4m1\u001b[24m\u001b[4m6\u001b[24m\u001b[4m2\u001b[24m379       \u001b[4m7\u001b[24m\u001b[4m5\u001b[24m835 4\u001b[4m3\u001b[24m\u001b[4m2\u001b[24m\u001b[4m9\u001b[24m884 Kalama Telepho… Kalama… Scatter Creek L…  \u001b[4m1\u001b[24m\u001b[4m3\u001b[24m\u001b[4m1\u001b[24m165\n",
       "\u001b[90m 2\u001b[39m   \u001b[4m1\u001b[24m\u001b[4m6\u001b[24m\u001b[4m2\u001b[24m380       \u001b[4m7\u001b[24m\u001b[4m5\u001b[24m835 4\u001b[4m3\u001b[24m\u001b[4m2\u001b[24m\u001b[4m9\u001b[24m884 Kalama Telepho… Kalama… Scatter Creek L…  \u001b[4m1\u001b[24m\u001b[4m3\u001b[24m\u001b[4m1\u001b[24m165\n",
       "\u001b[90m 3\u001b[39m   \u001b[4m1\u001b[24m\u001b[4m6\u001b[24m\u001b[4m2\u001b[24m381       \u001b[4m7\u001b[24m\u001b[4m5\u001b[24m835 4\u001b[4m3\u001b[24m\u001b[4m2\u001b[24m\u001b[4m9\u001b[24m884 Kalama Telepho… Kalama… Scatter Creek L…  \u001b[4m1\u001b[24m\u001b[4m3\u001b[24m\u001b[4m1\u001b[24m165\n",
       "\u001b[90m 4\u001b[39m   \u001b[4m1\u001b[24m\u001b[4m6\u001b[24m\u001b[4m2\u001b[24m382       \u001b[4m7\u001b[24m\u001b[4m5\u001b[24m835 4\u001b[4m3\u001b[24m\u001b[4m2\u001b[24m\u001b[4m9\u001b[24m884 Kalama Telepho… Kalama… Scatter Creek L…  \u001b[4m1\u001b[24m\u001b[4m3\u001b[24m\u001b[4m1\u001b[24m165\n",
       "\u001b[90m 5\u001b[39m   \u001b[4m1\u001b[24m\u001b[4m6\u001b[24m\u001b[4m2\u001b[24m383       \u001b[4m7\u001b[24m\u001b[4m5\u001b[24m835 4\u001b[4m3\u001b[24m\u001b[4m2\u001b[24m\u001b[4m9\u001b[24m884 Kalama Telepho… Kalama… Scatter Creek L…  \u001b[4m1\u001b[24m\u001b[4m3\u001b[24m\u001b[4m1\u001b[24m165\n",
       "\u001b[90m 6\u001b[39m   \u001b[4m1\u001b[24m\u001b[4m6\u001b[24m\u001b[4m2\u001b[24m384       \u001b[4m7\u001b[24m\u001b[4m5\u001b[24m835 4\u001b[4m3\u001b[24m\u001b[4m2\u001b[24m\u001b[4m9\u001b[24m884 Kalama Telepho… Kalama… Scatter Creek L…  \u001b[4m1\u001b[24m\u001b[4m3\u001b[24m\u001b[4m1\u001b[24m165\n",
       "\u001b[90m 7\u001b[39m   \u001b[4m1\u001b[24m\u001b[4m6\u001b[24m\u001b[4m2\u001b[24m385       \u001b[4m7\u001b[24m\u001b[4m5\u001b[24m835 4\u001b[4m3\u001b[24m\u001b[4m2\u001b[24m\u001b[4m9\u001b[24m884 Kalama Telepho… Kalama… Scatter Creek L…  \u001b[4m1\u001b[24m\u001b[4m3\u001b[24m\u001b[4m1\u001b[24m165\n",
       "\u001b[90m 8\u001b[39m   \u001b[4m1\u001b[24m\u001b[4m6\u001b[24m\u001b[4m2\u001b[24m386       \u001b[4m7\u001b[24m\u001b[4m5\u001b[24m835 4\u001b[4m3\u001b[24m\u001b[4m2\u001b[24m\u001b[4m9\u001b[24m884 Kalama Telepho… Kalama… Scatter Creek L…  \u001b[4m1\u001b[24m\u001b[4m3\u001b[24m\u001b[4m1\u001b[24m165\n",
       "\u001b[90m 9\u001b[39m   \u001b[4m1\u001b[24m\u001b[4m6\u001b[24m\u001b[4m2\u001b[24m387       \u001b[4m7\u001b[24m\u001b[4m5\u001b[24m835 4\u001b[4m3\u001b[24m\u001b[4m2\u001b[24m\u001b[4m9\u001b[24m884 Kalama Telepho… Kalama… Scatter Creek L…  \u001b[4m1\u001b[24m\u001b[4m3\u001b[24m\u001b[4m1\u001b[24m165\n",
       "\u001b[90m10\u001b[39m   \u001b[4m1\u001b[24m\u001b[4m6\u001b[24m\u001b[4m2\u001b[24m388       \u001b[4m7\u001b[24m\u001b[4m5\u001b[24m835 4\u001b[4m3\u001b[24m\u001b[4m2\u001b[24m\u001b[4m9\u001b[24m884 Kalama Telepho… Kalama… Scatter Creek L…  \u001b[4m1\u001b[24m\u001b[4m3\u001b[24m\u001b[4m1\u001b[24m165\n",
       "\u001b[90m# … with more rows, and 20 more variables: HocoFinal <chr>, StateAbbr <chr>,\u001b[39m\n",
       "\u001b[90m#   BlockCode <dbl>, TechCode <int>, Consumer <int>, MaxAdDown <dbl>,\u001b[39m\n",
       "\u001b[90m#   MaxAdUp <dbl>, Business <int>, county_id.x <int>, county_name.x <chr>,\u001b[39m\n",
       "\u001b[90m#   tract.x <dbl>, county_id.y <int>, county_name.y <chr>, tract.y <dbl>,\u001b[39m\n",
       "\u001b[90m#   county_id.x.x <int>, county_name.x.x <chr>, tract.x.x <dbl>,\u001b[39m\n",
       "\u001b[90m#   county_id.y.y <int>, county_name.y.y <chr>, tract.y.y <dbl>\u001b[39m"
      ]
     },
     "metadata": {},
     "output_type": "display_data"
    }
   ],
   "source": [
    "wa_fixed_data"
   ]
  },
  {
   "cell_type": "code",
   "execution_count": 118,
   "metadata": {
    "vscode": {
     "languageId": "r"
    }
   },
   "outputs": [],
   "source": [
    "wa_fixed_data <- wa_fixed_data %>%\n",
    "    select(\n",
    "        LogRecNo,\n",
    "        Provider_Id,\n",
    "        FRN,\n",
    "        ProviderName,\n",
    "        DBAName,\n",
    "        HoldingCompanyName,\n",
    "        HocoNum,\n",
    "        HocoFinal,\n",
    "        StateAbbr,\n",
    "        BlockCode,\n",
    "        TechCode,\n",
    "        Consumer,\n",
    "        MaxAdDown,\n",
    "        MaxAdUp,\n",
    "        Business,\n",
    "        county_id.x,\n",
    "        county_name.x,\n",
    "        tract.x\n",
    "    ) %>%\n",
    "    filter(\n",
    "        county_name.x == \"Adams County\" |\n",
    "        county_name.x == \"Asotin County\" |\n",
    "        county_name.x == \"Ferry County\" |\n",
    "        county_name.x == \"Garfield County\" |\n",
    "        county_name.x == \"Lincoln County\" |\n",
    "        county_name.x == \"Pend Oreille County\" |\n",
    "        county_name.x == \"Spokane County\" |\n",
    "        county_name.x == \"Stevens County\" |\n",
    "        county_name.x == \"Whitman County\"\n",
    "    ) %>%\n",
    "    rename(\n",
    "        log_rec_no = LogRecNo,\n",
    "        provider_id = Provider_Id,\n",
    "        frn = FRN,\n",
    "        provider_name = ProviderName,\n",
    "        dba_name = DBAName,\n",
    "        holding_company_name = HoldingCompanyName,\n",
    "        hoco_num = HocoNum,\n",
    "        hoco_final = HocoFinal,\n",
    "        state_abbr = StateAbbr,\n",
    "        block_code = BlockCode,\n",
    "        tech_code = TechCode,\n",
    "        consumer = Consumer,\n",
    "        max_ad_down = MaxAdDown,\n",
    "        max_ad_up = MaxAdUp,\n",
    "        business = Business,\n",
    "        county_id = county_id.x,\n",
    "        county_name = county_name.x,\n",
    "        tract = tract.x\n",
    "    ) %>% data.frame()"
   ]
  },
  {
   "cell_type": "code",
   "execution_count": 95,
   "metadata": {
    "vscode": {
     "languageId": "r"
    }
   },
   "outputs": [
    {
     "data": {
      "text/plain": [
       "NULL"
      ]
     },
     "metadata": {},
     "output_type": "display_data"
    }
   ],
   "source": [
    "wa_fixed_data %>%\n",
    "    group_by(county_name.x) %>% \n",
    "    select(\n",
    "        county_name.x\n",
    "    )\n"
   ]
  }
 ],
 "metadata": {
  "kernelspec": {
   "display_name": "R",
   "language": "R",
   "name": "ir"
  },
  "language_info": {
   "codemirror_mode": "r",
   "file_extension": ".r",
   "mimetype": "text/x-r-source",
   "name": "R",
   "pygments_lexer": "r",
   "version": "4.2.1"
  },
  "orig_nbformat": 4,
  "vscode": {
   "interpreter": {
    "hash": "31f2aee4e71d21fbe5cf8b01ff0e069b9275f58929596ceb00d14d90e3e16cd6"
   }
  }
 },
 "nbformat": 4,
 "nbformat_minor": 2
}
