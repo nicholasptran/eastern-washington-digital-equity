{
 "cells": [
  {
   "cell_type": "code",
   "execution_count": null,
   "metadata": {
    "vscode": {
     "languageId": "r"
    }
   },
   "outputs": [],
   "source": [
    "library(tidyverse)\n",
    "source(\"../R/scripts/local.R\")\n",
    "source(\"../R/functions/database.R\")\n",
    "\n",
    "\n",
    "wa_fixed_data <- tbl(con, \"wa_fixed_data\")\n",
    "county_info <- tbl(con, \"county_info\")"
   ]
  },
  {
   "cell_type": "code",
   "execution_count": null,
   "metadata": {
    "vscode": {
     "languageId": "r"
    }
   },
   "outputs": [],
   "source": [
    "\n",
    "county_info <- county_info %>% unique()\n",
    "RPostgres::dbWriteTable(\n",
    "    con,\n",
    "    \"county_info\",\n",
    "    county_info,\n",
    "    overwrite = TRUE\n",
    ")"
   ]
  },
  {
   "cell_type": "code",
   "execution_count": null,
   "metadata": {
    "vscode": {
     "languageId": "r"
    }
   },
   "outputs": [],
   "source": [
    "RPostgres::dbWriteTable(\n",
    "    con,\n",
    "    \"area_data\",\n",
    "    area_data,\n",
    "    overwrite = TRUE\n",
    ")"
   ]
  },
  {
   "cell_type": "code",
   "execution_count": null,
   "metadata": {
    "vscode": {
     "languageId": "r"
    }
   },
   "outputs": [],
   "source": [
    "RPostgres::dbWriteTable(\n",
    "    con,\n",
    "    \"wa_fixed_data\",\n",
    "    wa_fixed_data,\n",
    "    overwrite = TRUE\n",
    ")"
   ]
  },
  {
   "cell_type": "code",
   "execution_count": null,
   "metadata": {
    "vscode": {
     "languageId": "r"
    }
   },
   "outputs": [],
   "source": [
    "dbRemoveTable(con, \"area_data\")"
   ]
  },
  {
   "cell_type": "code",
   "execution_count": null,
   "metadata": {
    "vscode": {
     "languageId": "r"
    }
   },
   "outputs": [],
   "source": [
    "wa_fixed_data"
   ]
  },
  {
   "cell_type": "code",
   "execution_count": null,
   "metadata": {
    "vscode": {
     "languageId": "r"
    }
   },
   "outputs": [],
   "source": [
    "wa_fixed_data <- wa_fixed_data %>% inner_join(county_info, by = c(\"BlockCode\" = \"block_code\")) %>% \n",
    "    data.frame()"
   ]
  },
  {
   "cell_type": "code",
   "execution_count": null,
   "metadata": {
    "vscode": {
     "languageId": "r"
    }
   },
   "outputs": [],
   "source": [
    "wa_fixed_data\n"
   ]
  },
  {
   "cell_type": "code",
   "execution_count": null,
   "metadata": {
    "vscode": {
     "languageId": "r"
    }
   },
   "outputs": [],
   "source": [
    "wa_fixed_data <- wa_fixed_data %>%\n",
    "    select(\n",
    "        LogRecNo,\n",
    "        Provider_Id,\n",
    "        FRN,\n",
    "        ProviderName,\n",
    "        DBAName,\n",
    "        HoldingCompanyName,\n",
    "        HocoNum,\n",
    "        HocoFinal,\n",
    "        StateAbbr,\n",
    "        BlockCode,\n",
    "        TechCode,\n",
    "        Consumer,\n",
    "        MaxAdDown,\n",
    "        MaxAdUp,\n",
    "        Business,\n",
    "        county_id.x,\n",
    "        county_name.x,\n",
    "        tract.x\n",
    "    ) %>%\n",
    "    filter(\n",
    "        county_name.x == \"Adams County\" |\n",
    "        county_name.x == \"Asotin County\" |\n",
    "        county_name.x == \"Ferry County\" |\n",
    "        county_name.x == \"Garfield County\" |\n",
    "        county_name.x == \"Lincoln County\" |\n",
    "        county_name.x == \"Pend Oreille County\" |\n",
    "        county_name.x == \"Spokane County\" |\n",
    "        county_name.x == \"Stevens County\" |\n",
    "        county_name.x == \"Whitman County\"\n",
    "    ) %>%\n",
    "    rename(\n",
    "        log_rec_no = LogRecNo,\n",
    "        provider_id = Provider_Id,\n",
    "        frn = FRN,\n",
    "        provider_name = ProviderName,\n",
    "        dba_name = DBAName,\n",
    "        holding_company_name = HoldingCompanyName,\n",
    "        hoco_num = HocoNum,\n",
    "        hoco_final = HocoFinal,\n",
    "        state_abbr = StateAbbr,\n",
    "        block_code = BlockCode,\n",
    "        tech_code = TechCode,\n",
    "        consumer = Consumer,\n",
    "        max_ad_down = MaxAdDown,\n",
    "        max_ad_up = MaxAdUp,\n",
    "        business = Business,\n",
    "        county_id = county_id.x,\n",
    "        county_name = county_name.x,\n",
    "        tract = tract.x\n",
    "    ) %>% data.frame()"
   ]
  },
  {
   "cell_type": "code",
   "execution_count": null,
   "metadata": {
    "vscode": {
     "languageId": "r"
    }
   },
   "outputs": [],
   "source": [
    "wa_fixed_data %>%\n",
    "    group_by(county_name.x) %>% \n",
    "    select(\n",
    "        county_name.x\n",
    "    )\n"
   ]
  },
  {
   "cell_type": "code",
   "execution_count": null,
   "metadata": {
    "vscode": {
     "languageId": "r"
    }
   },
   "outputs": [],
   "source": [
    "library(ggplot2)"
   ]
  },
  {
   "cell_type": "code",
   "execution_count": null,
   "metadata": {
    "vscode": {
     "languageId": "r"
    }
   },
   "outputs": [],
   "source": [
    "library(ggplot2)\n",
    "library(tidyr)\n",
    "library(tidyverse)\n",
    "household_income_data <- read.csv(\"../data/Household_Income.csv\")\n",
    "ss_income_data <- read.csv(\"../data/Social_Security_Income.csv\")\n",
    "public_assistance_data <- read.csv(\"../data/Public_Assistance.csv\")\n",
    "naturalization_data <- read.csv(\"../data/B05011 PERIOD OF NATURALIZATION.csv\")\n",
    "nativity_data <- read.csv(\"../data/B05012 NATIVITY IN THE UNITED STATES.csv\")\n",
    "transportation_data <- read.csv(\"../data/B08101 MEANS OF TRANSPORTATION TO WORK BY AGE.csv\")\n",
    "poverty_data <- read.csv(\"../data/B17020 POVERTY STATUS IN THE PAST 12 MONTHS BY AGE.csv\")\n",
    "types_computer_data <- read.csv(\"../data/B28001 TYPES OF COMPUTERS IN HOUSEHOLD.csv\")\n",
    "presence_computer_data <- read.csv(\"../data/B28003 PRESENCE OF COMPUTER AND TYPE OF INTERNET SUBSCRIPTION IN HOUSEHOLD.csv\")\n",
    "internet_subscription_data <- read.csv(\"../data/B28003 PRESENCE OF COMPUTER AND TYPE OF INTERNET SUBSCRIPTION IN HOUSEHOLD.csv\")\n",
    "voting_age_data <- read.csv(\"../data/B29002 CITIZEN, VOTING-AGE POPULATION BY EDUCATIONAL ATTAINMENT.csv\")\n",
    "occupation_over_16_data <- read.csv(\"../data/OCCUPATION_BY_SEX_FOR_THE_FULL-TIME_YEAR-ROUND_CIVILIAN_EMPLOYED_POPULATION_16_YEARS_AND_OVER.csv\")\n",
    "type_computer_internet_sub_data <- read.csv(\"../data/TYPES_OF_COMPUTERS_AND_INTERNET_SUBSCRIPTIONS.csv\")\n",
    "type_internet_sub_characteristics <- read.csv(\"../data/TYPES_OF_INTERNET_SUBSCRIPTIONS_BY_SELECTED_CHARACTERISTICS.csv\")"
   ]
  },
  {
   "cell_type": "code",
   "execution_count": null,
   "metadata": {
    "vscode": {
     "languageId": "r"
    }
   },
   "outputs": [],
   "source": [
    "options(repr.plot.width = 15, repr.plot.height = 5)\n",
    "household_income_data %>%\n",
    "    select(\n",
    "        With_dialup_Internet_subscription_alone_Less_than_.10.000_Income,\n",
    "        With_a_broadband_Internet_subscription_Less_than_.10.000_Income,\n",
    "        Without_an_Internet_subscription_Less_than_.10.000_Income,\n",
    "        With_dial.up_Internet_subscription_alone_.10.000_to_.19.999_Income,\n",
    "        With_a_broadband_Internet_subscription_.10.000_to_.19.999_Income,\n",
    "        Without_an_Internet_subscription_.10.000_to_.19.999_Income,\n",
    "        With_dialup_Internet_subscription_alone_.20.000_to_.34.999_Income,\n",
    "        With_a_broadband_Internet_subscription_.20.000_to_.34.999_Income,\n",
    "        Without_an_Internet_subscription_.20.000_to_.34.999_Income,\n",
    "        With_dialup_Internet_subscription_alone_.35.000_to_.49.999_Income,\n",
    "        With_a_broadband_Internet_subscription_.35.000_to_.49.999_Income,\n",
    "        Without_an_Internet_subscription_.35.000_to_.49.999_Income,\n",
    "        With_dialup_Internet_subscription_alone_.50.000_to_.74.999_Income,\n",
    "        With_a_broadband_Internet_subscription_.50.000_to_.74.999_Income,\n",
    "        Without_an_Internet_subscription_.50.000_to_.74.999_Income,\n",
    "        With_dialup_Internet_subscription_alone_.75.000_or_more_Income\n",
    "\n",
    "    ) %>% \n",
    "    gather(key = Range, value = Value) %>% \n",
    "    ggplot(aes(x = Value, fill = Range)) +\n",
    "    geom_histogram(position = \"dodge\", bins = 5) +\n",
    "    theme(legend.position = \"bottom\")\n",
    "\n"
   ]
  },
  {
   "cell_type": "code",
   "execution_count": null,
   "metadata": {
    "vscode": {
     "languageId": "r"
    }
   },
   "outputs": [],
   "source": [
    "options(repr.plot.width = 15, repr.plot.height = 5)\n",
    "household_income_data %>%\n",
    "    select(\n",
    "        With_dialup_Internet_subscription_alone_Less_than_.10.000_Income,\n",
    "        With_a_broadband_Internet_subscription_Less_than_.10.000_Income,\n",
    "        Without_an_Internet_subscription_Less_than_.10.000_Income,\n",
    "        With_dial.up_Internet_subscription_alone_.10.000_to_.19.999_Income,\n",
    "        With_a_broadband_Internet_subscription_.10.000_to_.19.999_Income,\n",
    "        Without_an_Internet_subscription_.10.000_to_.19.999_Income,\n",
    "        With_dialup_Internet_subscription_alone_.20.000_to_.34.999_Income,\n",
    "        With_a_broadband_Internet_subscription_.20.000_to_.34.999_Income,\n",
    "        Without_an_Internet_subscription_.20.000_to_.34.999_Income,\n",
    "        With_dialup_Internet_subscription_alone_.35.000_to_.49.999_Income,\n",
    "        With_a_broadband_Internet_subscription_.35.000_to_.49.999_Income,\n",
    "        Without_an_Internet_subscription_.35.000_to_.49.999_Income,\n",
    "        With_dialup_Internet_subscription_alone_.50.000_to_.74.999_Income,\n",
    "        With_a_broadband_Internet_subscription_.50.000_to_.74.999_Income,\n",
    "        Without_an_Internet_subscription_.50.000_to_.74.999_Income,\n",
    "        With_dialup_Internet_subscription_alone_.75.000_or_more_Income\n",
    "\n",
    "    ) %>% \n",
    "    gather(key = Range, value = Value)"
   ]
  },
  {
   "cell_type": "code",
   "execution_count": null,
   "metadata": {
    "vscode": {
     "languageId": "r"
    }
   },
   "outputs": [],
   "source": [
    "ss_income_data$With_Social_Security_income <- as.numeric(gsub(\",\", \"\", ss_income_data$With_Social_Security_income))\n",
    "ss_income_data$No_Social_Security_income <- as.numeric(gsub(\",\", \"\", ss_income_data$No_Social_Security_income))\n",
    "\n",
    "ss_income_data %>%\n",
    "    select(\n",
    "        With_Social_Security_income,\n",
    "        No_Social_Security_income\n",
    "    ) %>% \n",
    "    gather(key = Range, value = Value) %>%\n",
    "    ggplot(aes(x = Value, fill = Range, color = Range)) +\n",
    "    geom_histogram(position = \"identity\", binwidth = 50, alpha = .5) +\n",
    "    theme(legend.position = \"right\")\n",
    "\n",
    "ss_income_data %>%\n",
    "    select(\n",
    "        With_Social_Security_income,\n",
    "        No_Social_Security_income\n",
    "    ) %>% \n",
    "    gather(key = Range, value = Value) %>%\n",
    "    ggplot(aes(x = Value, fill = Range, color = Range)) +\n",
    "    geom_boxplot(alpha = .7) +\n",
    "    theme(legend.position = \"right\")\n"
   ]
  },
  {
   "cell_type": "code",
   "execution_count": null,
   "metadata": {
    "vscode": {
     "languageId": "r"
    }
   },
   "outputs": [],
   "source": [
    "public_assistance_data$With_cash_public_assistance_or_Food_Stamps <- as.numeric(gsub(\",\", \"\", public_assistance_data$With_cash_public_assistance_or_Food_Stamps))\n",
    "public_assistance_data$No_cash_public_assistance_or_Food_Stamps <- as.numeric(gsub(\",\", \"\", public_assistance_data$No_cash_public_assistance_or_Food_Stamps))\n",
    "\n",
    "public_assistance_data %>%\n",
    "    select(\n",
    "        With_cash_public_assistance_or_Food_Stamps,\n",
    "        No_cash_public_assistance_or_Food_Stamps\n",
    "    ) %>%\n",
    "    gather(key = Range, value = Value) %>%\n",
    "    ggplot(aes(x = Value, fill = Range, color = Range)) +\n",
    "    geom_histogram(position = \"identity\", binwidth = 50, alpha = .5) +\n",
    "    theme(legend.position = \"right\")\n",
    "\n",
    "public_assistance_data %>%\n",
    "    select(\n",
    "        With_cash_public_assistance_or_Food_Stamps,\n",
    "        No_cash_public_assistance_or_Food_Stamps\n",
    "    ) %>%\n",
    "    gather(key = Range, value = Value) %>%\n",
    "    ggplot(aes(x = Value, fill = Range, color = Range)) +\n",
    "    geom_boxplot(alpha = .7) +\n",
    "    theme(legend.position = \"right\")"
   ]
  },
  {
   "cell_type": "code",
   "execution_count": null,
   "metadata": {
    "vscode": {
     "languageId": "r"
    }
   },
   "outputs": [],
   "source": [
    "naturalization_data"
   ]
  }
 ],
 "metadata": {
  "kernelspec": {
   "display_name": "R",
   "language": "R",
   "name": "ir"
  },
  "language_info": {
   "codemirror_mode": "r",
   "file_extension": ".r",
   "mimetype": "text/x-r-source",
   "name": "R",
   "pygments_lexer": "r",
   "version": "4.2.2"
  },
  "orig_nbformat": 4,
  "vscode": {
   "interpreter": {
    "hash": "31f2aee4e71d21fbe5cf8b01ff0e069b9275f58929596ceb00d14d90e3e16cd6"
   }
  }
 },
 "nbformat": 4,
 "nbformat_minor": 2
}
