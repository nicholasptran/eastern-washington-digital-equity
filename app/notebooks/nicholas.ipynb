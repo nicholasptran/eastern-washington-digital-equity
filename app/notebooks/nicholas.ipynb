{
 "cells": [
  {
   "cell_type": "code",
   "execution_count": 2,
   "metadata": {
    "vscode": {
     "languageId": "r"
    }
   },
   "outputs": [
    {
     "name": "stderr",
     "output_type": "stream",
     "text": [
      "── \u001b[1mAttaching packages\u001b[22m ─────────────────────────────────────── tidyverse 1.3.1 ──\n",
      "\n",
      "\u001b[32m✔\u001b[39m \u001b[34mggplot2\u001b[39m 3.3.5     \u001b[32m✔\u001b[39m \u001b[34mpurrr  \u001b[39m 0.3.4\n",
      "\u001b[32m✔\u001b[39m \u001b[34mtibble \u001b[39m 3.1.7     \u001b[32m✔\u001b[39m \u001b[34mdplyr  \u001b[39m 1.0.9\n",
      "\u001b[32m✔\u001b[39m \u001b[34mtidyr  \u001b[39m 1.2.0     \u001b[32m✔\u001b[39m \u001b[34mstringr\u001b[39m 1.4.0\n",
      "\u001b[32m✔\u001b[39m \u001b[34mreadr  \u001b[39m 2.1.2     \u001b[32m✔\u001b[39m \u001b[34mforcats\u001b[39m 0.5.1\n",
      "\n",
      "── \u001b[1mConflicts\u001b[22m ────────────────────────────────────────── tidyverse_conflicts() ──\n",
      "\u001b[31m✖\u001b[39m \u001b[34mdplyr\u001b[39m::\u001b[32mfilter()\u001b[39m masks \u001b[34mstats\u001b[39m::filter()\n",
      "\u001b[31m✖\u001b[39m \u001b[34mdplyr\u001b[39m::\u001b[32mlag()\u001b[39m    masks \u001b[34mstats\u001b[39m::lag()\n",
      "\n"
     ]
    }
   ],
   "source": [
    "library(tidyverse)\n",
    "source(\"../R/scripts/local.R\")\n",
    "source(\"../R/functions/database.R\")\n",
    "\n",
    "area_data <- tbl(con, \"area_data\")\n",
    "wa_fixed_data <- tbl(con, \"wa_fixed_data\")\n",
    "county_info <- tbl(con, \"county_info\")"
   ]
  },
  {
   "cell_type": "code",
   "execution_count": 64,
   "metadata": {
    "vscode": {
     "languageId": "r"
    }
   },
   "outputs": [],
   "source": [
    "\n",
    "county_info <- county_info %>% unique()\n",
    "RPostgres::dbWriteTable(\n",
    "    con,\n",
    "    \"county_info\",\n",
    "    county_info,\n",
    "    overwrite = TRUE\n",
    ")"
   ]
  },
  {
   "cell_type": "code",
   "execution_count": null,
   "metadata": {
    "vscode": {
     "languageId": "r"
    }
   },
   "outputs": [],
   "source": [
    "RPostgres::dbWriteTable(\n",
    "    con,\n",
    "    \"area_data\",\n",
    "    area_data,\n",
    "    overwrite = TRUE\n",
    ")"
   ]
  },
  {
   "cell_type": "code",
   "execution_count": 119,
   "metadata": {
    "vscode": {
     "languageId": "r"
    }
   },
   "outputs": [],
   "source": [
    "RPostgres::dbWriteTable(\n",
    "    con,\n",
    "    \"wa_fixed_data\",\n",
    "    wa_fixed_data,\n",
    "    overwrite = TRUE\n",
    ")"
   ]
  },
  {
   "cell_type": "code",
   "execution_count": 3,
   "metadata": {
    "vscode": {
     "languageId": "r"
    }
   },
   "outputs": [],
   "source": [
    "dbRemoveTable(con, \"area_data\")"
   ]
  },
  {
   "cell_type": "code",
   "execution_count": 121,
   "metadata": {
    "vscode": {
     "languageId": "r"
    }
   },
   "outputs": [
    {
     "data": {
      "text/plain": [
       "\u001b[90m# Source:   table<wa_fixed_data> [?? x 18]\u001b[39m\n",
       "\u001b[90m# Database: postgres\n",
       "#   [kkosmydkepdopx@ec2-18-208-55-135.compute-1.amazonaws.com:5432/d5mrpv86vdo3si]\u001b[39m\n",
       "   log_rec_no provider_id     frn provider_name        dba_name holding_company…\n",
       "        \u001b[3m\u001b[90m<int>\u001b[39m\u001b[23m       \u001b[3m\u001b[90m<int>\u001b[39m\u001b[23m   \u001b[3m\u001b[90m<int>\u001b[39m\u001b[23m \u001b[3m\u001b[90m<chr>\u001b[39m\u001b[23m                \u001b[3m\u001b[90m<chr>\u001b[39m\u001b[23m    \u001b[3m\u001b[90m<chr>\u001b[39m\u001b[23m           \n",
       "\u001b[90m 1\u001b[39m     \u001b[4m2\u001b[24m\u001b[4m1\u001b[24m\u001b[4m6\u001b[24m353       \u001b[4m7\u001b[24m\u001b[4m5\u001b[24m890 3\u001b[4m7\u001b[24m\u001b[4m2\u001b[24m\u001b[4m3\u001b[24m822 Level  3 Communicat… Century… CenturyLink, In…\n",
       "\u001b[90m 2\u001b[39m     \u001b[4m2\u001b[24m\u001b[4m1\u001b[24m\u001b[4m6\u001b[24m354       \u001b[4m7\u001b[24m\u001b[4m5\u001b[24m890 3\u001b[4m7\u001b[24m\u001b[4m2\u001b[24m\u001b[4m3\u001b[24m822 Level  3 Communicat… Century… CenturyLink, In…\n",
       "\u001b[90m 3\u001b[39m     \u001b[4m2\u001b[24m\u001b[4m1\u001b[24m\u001b[4m6\u001b[24m355       \u001b[4m7\u001b[24m\u001b[4m5\u001b[24m890 3\u001b[4m7\u001b[24m\u001b[4m2\u001b[24m\u001b[4m3\u001b[24m822 Level  3 Communicat… Century… CenturyLink, In…\n",
       "\u001b[90m 4\u001b[39m     \u001b[4m2\u001b[24m\u001b[4m2\u001b[24m\u001b[4m2\u001b[24m684       \u001b[4m7\u001b[24m\u001b[4m5\u001b[24m890 3\u001b[4m7\u001b[24m\u001b[4m2\u001b[24m\u001b[4m3\u001b[24m822 Level  3 Communicat… Century… CenturyLink, In…\n",
       "\u001b[90m 5\u001b[39m     \u001b[4m2\u001b[24m\u001b[4m2\u001b[24m\u001b[4m2\u001b[24m685       \u001b[4m7\u001b[24m\u001b[4m5\u001b[24m890 3\u001b[4m7\u001b[24m\u001b[4m2\u001b[24m\u001b[4m3\u001b[24m822 Level  3 Communicat… Century… CenturyLink, In…\n",
       "\u001b[90m 6\u001b[39m     \u001b[4m2\u001b[24m\u001b[4m2\u001b[24m\u001b[4m2\u001b[24m686       \u001b[4m7\u001b[24m\u001b[4m5\u001b[24m890 3\u001b[4m7\u001b[24m\u001b[4m2\u001b[24m\u001b[4m3\u001b[24m822 Level  3 Communicat… Century… CenturyLink, In…\n",
       "\u001b[90m 7\u001b[39m     \u001b[4m2\u001b[24m\u001b[4m2\u001b[24m\u001b[4m2\u001b[24m687       \u001b[4m7\u001b[24m\u001b[4m5\u001b[24m890 3\u001b[4m7\u001b[24m\u001b[4m2\u001b[24m\u001b[4m3\u001b[24m822 Level  3 Communicat… Century… CenturyLink, In…\n",
       "\u001b[90m 8\u001b[39m     \u001b[4m2\u001b[24m\u001b[4m2\u001b[24m\u001b[4m2\u001b[24m688       \u001b[4m7\u001b[24m\u001b[4m5\u001b[24m890 3\u001b[4m7\u001b[24m\u001b[4m2\u001b[24m\u001b[4m3\u001b[24m822 Level  3 Communicat… Century… CenturyLink, In…\n",
       "\u001b[90m 9\u001b[39m     \u001b[4m2\u001b[24m\u001b[4m2\u001b[24m\u001b[4m2\u001b[24m689       \u001b[4m7\u001b[24m\u001b[4m5\u001b[24m890 3\u001b[4m7\u001b[24m\u001b[4m2\u001b[24m\u001b[4m3\u001b[24m822 Level  3 Communicat… Century… CenturyLink, In…\n",
       "\u001b[90m10\u001b[39m     \u001b[4m2\u001b[24m\u001b[4m2\u001b[24m\u001b[4m2\u001b[24m690       \u001b[4m7\u001b[24m\u001b[4m5\u001b[24m890 3\u001b[4m7\u001b[24m\u001b[4m2\u001b[24m\u001b[4m3\u001b[24m822 Level  3 Communicat… Century… CenturyLink, In…\n",
       "\u001b[90m# … with more rows, and 12 more variables: hoco_num <int>, hoco_final <chr>,\u001b[39m\n",
       "\u001b[90m#   state_abbr <chr>, block_code <dbl>, tech_code <int>, consumer <int>,\u001b[39m\n",
       "\u001b[90m#   max_ad_down <dbl>, max_ad_up <dbl>, business <int>, county_id <int>,\u001b[39m\n",
       "\u001b[90m#   county_name <chr>, tract <dbl>\u001b[39m"
      ]
     },
     "metadata": {},
     "output_type": "display_data"
    }
   ],
   "source": [
    "wa_fixed_data"
   ]
  },
  {
   "cell_type": "code",
   "execution_count": 81,
   "metadata": {
    "vscode": {
     "languageId": "r"
    }
   },
   "outputs": [],
   "source": [
    "wa_fixed_data <- wa_fixed_data %>% inner_join(county_info, by = c(\"BlockCode\" = \"block_code\")) %>% \n",
    "    data.frame()"
   ]
  },
  {
   "cell_type": "code",
   "execution_count": 87,
   "metadata": {
    "vscode": {
     "languageId": "r"
    }
   },
   "outputs": [
    {
     "data": {
      "text/plain": [
       "\u001b[90m# Source:   table<wa_fixed_data> [?? x 27]\u001b[39m\n",
       "\u001b[90m# Database: postgres\n",
       "#   [kkosmydkepdopx@ec2-18-208-55-135.compute-1.amazonaws.com:5432/d5mrpv86vdo3si]\u001b[39m\n",
       "   LogRecNo Provider_Id     FRN ProviderName    DBAName HoldingCompanyN… HocoNum\n",
       "      \u001b[3m\u001b[90m<int>\u001b[39m\u001b[23m       \u001b[3m\u001b[90m<int>\u001b[39m\u001b[23m   \u001b[3m\u001b[90m<int>\u001b[39m\u001b[23m \u001b[3m\u001b[90m<chr>\u001b[39m\u001b[23m           \u001b[3m\u001b[90m<chr>\u001b[39m\u001b[23m   \u001b[3m\u001b[90m<chr>\u001b[39m\u001b[23m              \u001b[3m\u001b[90m<int>\u001b[39m\u001b[23m\n",
       "\u001b[90m 1\u001b[39m   \u001b[4m1\u001b[24m\u001b[4m6\u001b[24m\u001b[4m2\u001b[24m379       \u001b[4m7\u001b[24m\u001b[4m5\u001b[24m835 4\u001b[4m3\u001b[24m\u001b[4m2\u001b[24m\u001b[4m9\u001b[24m884 Kalama Telepho… Kalama… Scatter Creek L…  \u001b[4m1\u001b[24m\u001b[4m3\u001b[24m\u001b[4m1\u001b[24m165\n",
       "\u001b[90m 2\u001b[39m   \u001b[4m1\u001b[24m\u001b[4m6\u001b[24m\u001b[4m2\u001b[24m380       \u001b[4m7\u001b[24m\u001b[4m5\u001b[24m835 4\u001b[4m3\u001b[24m\u001b[4m2\u001b[24m\u001b[4m9\u001b[24m884 Kalama Telepho… Kalama… Scatter Creek L…  \u001b[4m1\u001b[24m\u001b[4m3\u001b[24m\u001b[4m1\u001b[24m165\n",
       "\u001b[90m 3\u001b[39m   \u001b[4m1\u001b[24m\u001b[4m6\u001b[24m\u001b[4m2\u001b[24m381       \u001b[4m7\u001b[24m\u001b[4m5\u001b[24m835 4\u001b[4m3\u001b[24m\u001b[4m2\u001b[24m\u001b[4m9\u001b[24m884 Kalama Telepho… Kalama… Scatter Creek L…  \u001b[4m1\u001b[24m\u001b[4m3\u001b[24m\u001b[4m1\u001b[24m165\n",
       "\u001b[90m 4\u001b[39m   \u001b[4m1\u001b[24m\u001b[4m6\u001b[24m\u001b[4m2\u001b[24m382       \u001b[4m7\u001b[24m\u001b[4m5\u001b[24m835 4\u001b[4m3\u001b[24m\u001b[4m2\u001b[24m\u001b[4m9\u001b[24m884 Kalama Telepho… Kalama… Scatter Creek L…  \u001b[4m1\u001b[24m\u001b[4m3\u001b[24m\u001b[4m1\u001b[24m165\n",
       "\u001b[90m 5\u001b[39m   \u001b[4m1\u001b[24m\u001b[4m6\u001b[24m\u001b[4m2\u001b[24m383       \u001b[4m7\u001b[24m\u001b[4m5\u001b[24m835 4\u001b[4m3\u001b[24m\u001b[4m2\u001b[24m\u001b[4m9\u001b[24m884 Kalama Telepho… Kalama… Scatter Creek L…  \u001b[4m1\u001b[24m\u001b[4m3\u001b[24m\u001b[4m1\u001b[24m165\n",
       "\u001b[90m 6\u001b[39m   \u001b[4m1\u001b[24m\u001b[4m6\u001b[24m\u001b[4m2\u001b[24m384       \u001b[4m7\u001b[24m\u001b[4m5\u001b[24m835 4\u001b[4m3\u001b[24m\u001b[4m2\u001b[24m\u001b[4m9\u001b[24m884 Kalama Telepho… Kalama… Scatter Creek L…  \u001b[4m1\u001b[24m\u001b[4m3\u001b[24m\u001b[4m1\u001b[24m165\n",
       "\u001b[90m 7\u001b[39m   \u001b[4m1\u001b[24m\u001b[4m6\u001b[24m\u001b[4m2\u001b[24m385       \u001b[4m7\u001b[24m\u001b[4m5\u001b[24m835 4\u001b[4m3\u001b[24m\u001b[4m2\u001b[24m\u001b[4m9\u001b[24m884 Kalama Telepho… Kalama… Scatter Creek L…  \u001b[4m1\u001b[24m\u001b[4m3\u001b[24m\u001b[4m1\u001b[24m165\n",
       "\u001b[90m 8\u001b[39m   \u001b[4m1\u001b[24m\u001b[4m6\u001b[24m\u001b[4m2\u001b[24m386       \u001b[4m7\u001b[24m\u001b[4m5\u001b[24m835 4\u001b[4m3\u001b[24m\u001b[4m2\u001b[24m\u001b[4m9\u001b[24m884 Kalama Telepho… Kalama… Scatter Creek L…  \u001b[4m1\u001b[24m\u001b[4m3\u001b[24m\u001b[4m1\u001b[24m165\n",
       "\u001b[90m 9\u001b[39m   \u001b[4m1\u001b[24m\u001b[4m6\u001b[24m\u001b[4m2\u001b[24m387       \u001b[4m7\u001b[24m\u001b[4m5\u001b[24m835 4\u001b[4m3\u001b[24m\u001b[4m2\u001b[24m\u001b[4m9\u001b[24m884 Kalama Telepho… Kalama… Scatter Creek L…  \u001b[4m1\u001b[24m\u001b[4m3\u001b[24m\u001b[4m1\u001b[24m165\n",
       "\u001b[90m10\u001b[39m   \u001b[4m1\u001b[24m\u001b[4m6\u001b[24m\u001b[4m2\u001b[24m388       \u001b[4m7\u001b[24m\u001b[4m5\u001b[24m835 4\u001b[4m3\u001b[24m\u001b[4m2\u001b[24m\u001b[4m9\u001b[24m884 Kalama Telepho… Kalama… Scatter Creek L…  \u001b[4m1\u001b[24m\u001b[4m3\u001b[24m\u001b[4m1\u001b[24m165\n",
       "\u001b[90m# … with more rows, and 20 more variables: HocoFinal <chr>, StateAbbr <chr>,\u001b[39m\n",
       "\u001b[90m#   BlockCode <dbl>, TechCode <int>, Consumer <int>, MaxAdDown <dbl>,\u001b[39m\n",
       "\u001b[90m#   MaxAdUp <dbl>, Business <int>, county_id.x <int>, county_name.x <chr>,\u001b[39m\n",
       "\u001b[90m#   tract.x <dbl>, county_id.y <int>, county_name.y <chr>, tract.y <dbl>,\u001b[39m\n",
       "\u001b[90m#   county_id.x.x <int>, county_name.x.x <chr>, tract.x.x <dbl>,\u001b[39m\n",
       "\u001b[90m#   county_id.y.y <int>, county_name.y.y <chr>, tract.y.y <dbl>\u001b[39m"
      ]
     },
     "metadata": {},
     "output_type": "display_data"
    }
   ],
   "source": [
    "wa_fixed_data"
   ]
  },
  {
   "cell_type": "code",
   "execution_count": 118,
   "metadata": {
    "vscode": {
     "languageId": "r"
    }
   },
   "outputs": [],
   "source": [
    "wa_fixed_data <- wa_fixed_data %>%\n",
    "    select(\n",
    "        LogRecNo,\n",
    "        Provider_Id,\n",
    "        FRN,\n",
    "        ProviderName,\n",
    "        DBAName,\n",
    "        HoldingCompanyName,\n",
    "        HocoNum,\n",
    "        HocoFinal,\n",
    "        StateAbbr,\n",
    "        BlockCode,\n",
    "        TechCode,\n",
    "        Consumer,\n",
    "        MaxAdDown,\n",
    "        MaxAdUp,\n",
    "        Business,\n",
    "        county_id.x,\n",
    "        county_name.x,\n",
    "        tract.x\n",
    "    ) %>%\n",
    "    filter(\n",
    "        county_name.x == \"Adams County\" |\n",
    "        county_name.x == \"Asotin County\" |\n",
    "        county_name.x == \"Ferry County\" |\n",
    "        county_name.x == \"Garfield County\" |\n",
    "        county_name.x == \"Lincoln County\" |\n",
    "        county_name.x == \"Pend Oreille County\" |\n",
    "        county_name.x == \"Spokane County\" |\n",
    "        county_name.x == \"Stevens County\" |\n",
    "        county_name.x == \"Whitman County\"\n",
    "    ) %>%\n",
    "    rename(\n",
    "        log_rec_no = LogRecNo,\n",
    "        provider_id = Provider_Id,\n",
    "        frn = FRN,\n",
    "        provider_name = ProviderName,\n",
    "        dba_name = DBAName,\n",
    "        holding_company_name = HoldingCompanyName,\n",
    "        hoco_num = HocoNum,\n",
    "        hoco_final = HocoFinal,\n",
    "        state_abbr = StateAbbr,\n",
    "        block_code = BlockCode,\n",
    "        tech_code = TechCode,\n",
    "        consumer = Consumer,\n",
    "        max_ad_down = MaxAdDown,\n",
    "        max_ad_up = MaxAdUp,\n",
    "        business = Business,\n",
    "        county_id = county_id.x,\n",
    "        county_name = county_name.x,\n",
    "        tract = tract.x\n",
    "    ) %>% data.frame()"
   ]
  },
  {
   "cell_type": "code",
   "execution_count": 95,
   "metadata": {
    "vscode": {
     "languageId": "r"
    }
   },
   "outputs": [
    {
     "data": {
      "text/plain": [
       "NULL"
      ]
     },
     "metadata": {},
     "output_type": "display_data"
    }
   ],
   "source": [
    "wa_fixed_data %>%\n",
    "    group_by(county_name.x) %>% \n",
    "    select(\n",
    "        county_name.x\n",
    "    )\n"
   ]
  },
  {
   "cell_type": "code",
   "execution_count": 2,
   "metadata": {
    "vscode": {
     "languageId": "r"
    }
   },
   "outputs": [],
   "source": [
    "library(ggplot2)"
   ]
  },
  {
   "cell_type": "code",
   "execution_count": 10,
   "metadata": {
    "vscode": {
     "languageId": "r"
    }
   },
   "outputs": [
    {
     "name": "stderr",
     "output_type": "stream",
     "text": [
      "── \u001b[1mAttaching packages\u001b[22m ─────────────────────────────────────── tidyverse 1.3.1 ──\n",
      "\n",
      "\u001b[32m✔\u001b[39m \u001b[34mtibble \u001b[39m 3.1.7     \u001b[32m✔\u001b[39m \u001b[34mdplyr  \u001b[39m 1.0.9\n",
      "\u001b[32m✔\u001b[39m \u001b[34mreadr  \u001b[39m 2.1.2     \u001b[32m✔\u001b[39m \u001b[34mstringr\u001b[39m 1.4.0\n",
      "\u001b[32m✔\u001b[39m \u001b[34mpurrr  \u001b[39m 0.3.4     \u001b[32m✔\u001b[39m \u001b[34mforcats\u001b[39m 0.5.1\n",
      "\n",
      "── \u001b[1mConflicts\u001b[22m ────────────────────────────────────────── tidyverse_conflicts() ──\n",
      "\u001b[31m✖\u001b[39m \u001b[34mdplyr\u001b[39m::\u001b[32mfilter()\u001b[39m masks \u001b[34mstats\u001b[39m::filter()\n",
      "\u001b[31m✖\u001b[39m \u001b[34mdplyr\u001b[39m::\u001b[32mlag()\u001b[39m    masks \u001b[34mstats\u001b[39m::lag()\n",
      "\n"
     ]
    }
   ],
   "source": [
    "library(ggplot2)\n",
    "library(tidyr)\n",
    "library(tidyverse)\n",
    "household_income_data <- read.csv(\"../data/Household_Income.csv\")\n",
    "ss_income_data <- read.csv(\"../data/Social_Security_Income.csv\")\n",
    "public_assistance_data <- read.csv(\"../data/Public_Assistance.csv\")\n",
    "naturalization_data <- read.csv(\"../data/B05011 PERIOD OF NATURALIZATION.csv\")\n",
    "nativity_data <- read.csv(\"../data/B05012 NATIVITY IN THE UNITED STATES.csv\")\n",
    "transportation_data <- read.csv(\"../data/B08101 MEANS OF TRANSPORTATION TO WORK BY AGE.csv\")\n",
    "poverty_data <- read.csv(\"../data/B17020 POVERTY STATUS IN THE PAST 12 MONTHS BY AGE.csv\")\n",
    "types_computer_data <- read.csv(\"../data/B28001 TYPES OF COMPUTERS IN HOUSEHOLD.csv\")\n",
    "presence_computer_data <- read.csv(\"../data/B28003 PRESENCE OF COMPUTER AND TYPE OF INTERNET SUBSCRIPTION IN HOUSEHOLD.csv\")\n",
    "internet_subscription_data <- read.csv(\"../data/B28003 PRESENCE OF COMPUTER AND TYPE OF INTERNET SUBSCRIPTION IN HOUSEHOLD.csv\")\n",
    "voting_age_data <- read.csv(\"../data/B29002 CITIZEN, VOTING-AGE POPULATION BY EDUCATIONAL ATTAINMENT.csv\")\n",
    "occupation_over_16_data <- read.csv(\"../data/OCCUPATION_BY_SEX_FOR_THE_FULL-TIME_YEAR-ROUND_CIVILIAN_EMPLOYED_POPULATION_16_YEARS_AND_OVER.csv\")\n",
    "type_computer_internet_sub_data <- read.csv(\"../data/TYPES_OF_COMPUTERS_AND_INTERNET_SUBSCRIPTIONS.csv\")\n",
    "type_internet_sub_characteristics <- read.csv(\"../data/TYPES_OF_INTERNET_SUBSCRIPTIONS_BY_SELECTED_CHARACTERISTICS.csv\")"
   ]
  },
  {
   "cell_type": "code",
   "execution_count": 82,
   "metadata": {
    "vscode": {
     "languageId": "r"
    }
   },
   "outputs": [
    {
     "data": {
      "image/png": "[encoded data removed]",
      "text/plain": [
       "plot without title"
      ]
     },
     "metadata": {
      "image/png": {
       "height": 300,
       "width": 900
      }
     },
     "output_type": "display_data"
    }
   ],
   "source": [
    "options(repr.plot.width = 15, repr.plot.height = 5)\n",
    "household_income_data %>%\n",
    "    select(\n",
    "        With_dialup_Internet_subscription_alone_Less_than_.10.000_Income,\n",
    "        With_a_broadband_Internet_subscription_Less_than_.10.000_Income,\n",
    "        Without_an_Internet_subscription_Less_than_.10.000_Income,\n",
    "        With_dial.up_Internet_subscription_alone_.10.000_to_.19.999_Income,\n",
    "        With_a_broadband_Internet_subscription_.10.000_to_.19.999_Income,\n",
    "        Without_an_Internet_subscription_.10.000_to_.19.999_Income,\n",
    "        With_dialup_Internet_subscription_alone_.20.000_to_.34.999_Income,\n",
    "        With_a_broadband_Internet_subscription_.20.000_to_.34.999_Income,\n",
    "        Without_an_Internet_subscription_.20.000_to_.34.999_Income,\n",
    "        With_dialup_Internet_subscription_alone_.35.000_to_.49.999_Income,\n",
    "        With_a_broadband_Internet_subscription_.35.000_to_.49.999_Income,\n",
    "        Without_an_Internet_subscription_.35.000_to_.49.999_Income,\n",
    "        With_dialup_Internet_subscription_alone_.50.000_to_.74.999_Income,\n",
    "        With_a_broadband_Internet_subscription_.50.000_to_.74.999_Income,\n",
    "        Without_an_Internet_subscription_.50.000_to_.74.999_Income,\n",
    "        With_dialup_Internet_subscription_alone_.75.000_or_more_Income\n",
    "\n",
    "    ) %>% \n",
    "    gather(key = Range, value = Value) %>% \n",
    "    ggplot(aes(x = Value, fill = Range)) +\n",
    "    geom_histogram(position = \"dodge\", bins = 4) +\n",
    "    theme(legend.position = \"bottom\")\n",
    "\n"
   ]
  },
  {
   "cell_type": "code",
   "execution_count": 13,
   "metadata": {
    "vscode": {
     "languageId": "r"
    }
   },
   "outputs": [
    {
     "data": {
      "text/html": [
       "<style>\n",
       ".list-inline {list-style: none; margin:0; padding: 0}\n",
       ".list-inline>li {display: inline-block}\n",
       ".list-inline>li:not(:last-child)::after {content: \"\\00b7\"; padding: 0 .5ex}\n",
       "</style>\n",
       "<ol class=list-inline><li>'Label'</li><li>'With_dialup_Internet_subscription_alone_Less_than_.10.000_Income'</li><li>'With_a_broadband_Internet_subscription_Less_than_.10.000_Income'</li><li>'Without_an_Internet_subscription_Less_than_.10.000_Income'</li><li>'With_dial.up_Internet_subscription_alone_.10.000_to_.19.999_Income'</li><li>'With_a_broadband_Internet_subscription_.10.000_to_.19.999_Income'</li><li>'Without_an_Internet_subscription_.10.000_to_.19.999_Income'</li><li>'With_dialup_Internet_subscription_alone_.20.000_to_.34.999_Income'</li><li>'With_a_broadband_Internet_subscription_.20.000_to_.34.999_Income'</li><li>'Without_an_Internet_subscription_.20.000_to_.34.999_Income'</li><li>'With_dialup_Internet_subscription_alone_.35.000_to_.49.999_Income'</li><li>'With_a_broadband_Internet_subscription_.35.000_to_.49.999_Income'</li><li>'Without_an_Internet_subscription_.35.000_to_.49.999_Income'</li><li>'With_dialup_Internet_subscription_alone_.50.000_to_.74.999_Income'</li><li>'With_a_broadband_Internet_subscription_.50.000_to_.74.999_Income'</li><li>'Without_an_Internet_subscription_.50.000_to_.74.999_Income'</li><li>'With_dialup_Internet_subscription_alone_.75.000_or_more_Income'</li><li>'With_a_broadband_Internet_subscription_.75.000_or_more_Income'</li><li>'Without_an_Internet_subscription_.75.000_or_more_Income'</li><li>'tract'</li><li>'county'</li><li>'Standarized_With_dialup_Internet_subscription_alone'</li><li>'standarized_With_a_broadband_Internet_subscription'</li><li>'standardized_Without_an_Internet_subscription'</li><li>'standarized_With_dial.up_Internet_subscription_alone'</li><li>'standarized_With_a_broadband_Internet_subscription.1'</li><li>'standarized_Without_an_Internet_subscription'</li><li>'standarized_With_dialup_Internet_subscription_alone'</li><li>'standarized_With_a_broadband_Internet_subscription.2'</li><li>'standarized_Without_an_Internet_subscription.1'</li><li>'standarized_With_dialup_Internet_subscription_alone.1'</li><li>'standarized_With_a_broadband_Internet_subscription.3'</li><li>'standarized_Without_an_Internet_subscription.2'</li><li>'standardized_With_dialup_Internet_subscription_alone'</li><li>'standardized_With_a_broadband_Internet_subscription'</li><li>'standardized_Without_an_Internet_subscription.1'</li><li>'standarized_With_dialup_Internet_subscription_alone.2'</li><li>'standardized_With_a_broadband_Internet_subscription.1'</li><li>'standardized_Without_an_Internet_subscription.2'</li><li>'index'</li></ol>\n"
      ],
      "text/latex": [
       "\\begin{enumerate*}\n",
       "\\item 'Label'\n",
       "\\item 'With\\_dialup\\_Internet\\_subscription\\_alone\\_Less\\_than\\_.10.000\\_Income'\n",
       "\\item 'With\\_a\\_broadband\\_Internet\\_subscription\\_Less\\_than\\_.10.000\\_Income'\n",
       "\\item 'Without\\_an\\_Internet\\_subscription\\_Less\\_than\\_.10.000\\_Income'\n",
       "\\item 'With\\_dial.up\\_Internet\\_subscription\\_alone\\_.10.000\\_to\\_.19.999\\_Income'\n",
       "\\item 'With\\_a\\_broadband\\_Internet\\_subscription\\_.10.000\\_to\\_.19.999\\_Income'\n",
       "\\item 'Without\\_an\\_Internet\\_subscription\\_.10.000\\_to\\_.19.999\\_Income'\n",
       "\\item 'With\\_dialup\\_Internet\\_subscription\\_alone\\_.20.000\\_to\\_.34.999\\_Income'\n",
       "\\item 'With\\_a\\_broadband\\_Internet\\_subscription\\_.20.000\\_to\\_.34.999\\_Income'\n",
       "\\item 'Without\\_an\\_Internet\\_subscription\\_.20.000\\_to\\_.34.999\\_Income'\n",
       "\\item 'With\\_dialup\\_Internet\\_subscription\\_alone\\_.35.000\\_to\\_.49.999\\_Income'\n",
       "\\item 'With\\_a\\_broadband\\_Internet\\_subscription\\_.35.000\\_to\\_.49.999\\_Income'\n",
       "\\item 'Without\\_an\\_Internet\\_subscription\\_.35.000\\_to\\_.49.999\\_Income'\n",
       "\\item 'With\\_dialup\\_Internet\\_subscription\\_alone\\_.50.000\\_to\\_.74.999\\_Income'\n",
       "\\item 'With\\_a\\_broadband\\_Internet\\_subscription\\_.50.000\\_to\\_.74.999\\_Income'\n",
       "\\item 'Without\\_an\\_Internet\\_subscription\\_.50.000\\_to\\_.74.999\\_Income'\n",
       "\\item 'With\\_dialup\\_Internet\\_subscription\\_alone\\_.75.000\\_or\\_more\\_Income'\n",
       "\\item 'With\\_a\\_broadband\\_Internet\\_subscription\\_.75.000\\_or\\_more\\_Income'\n",
       "\\item 'Without\\_an\\_Internet\\_subscription\\_.75.000\\_or\\_more\\_Income'\n",
       "\\item 'tract'\n",
       "\\item 'county'\n",
       "\\item 'Standarized\\_With\\_dialup\\_Internet\\_subscription\\_alone'\n",
       "\\item 'standarized\\_With\\_a\\_broadband\\_Internet\\_subscription'\n",
       "\\item 'standardized\\_Without\\_an\\_Internet\\_subscription'\n",
       "\\item 'standarized\\_With\\_dial.up\\_Internet\\_subscription\\_alone'\n",
       "\\item 'standarized\\_With\\_a\\_broadband\\_Internet\\_subscription.1'\n",
       "\\item 'standarized\\_Without\\_an\\_Internet\\_subscription'\n",
       "\\item 'standarized\\_With\\_dialup\\_Internet\\_subscription\\_alone'\n",
       "\\item 'standarized\\_With\\_a\\_broadband\\_Internet\\_subscription.2'\n",
       "\\item 'standarized\\_Without\\_an\\_Internet\\_subscription.1'\n",
       "\\item 'standarized\\_With\\_dialup\\_Internet\\_subscription\\_alone.1'\n",
       "\\item 'standarized\\_With\\_a\\_broadband\\_Internet\\_subscription.3'\n",
       "\\item 'standarized\\_Without\\_an\\_Internet\\_subscription.2'\n",
       "\\item 'standardized\\_With\\_dialup\\_Internet\\_subscription\\_alone'\n",
       "\\item 'standardized\\_With\\_a\\_broadband\\_Internet\\_subscription'\n",
       "\\item 'standardized\\_Without\\_an\\_Internet\\_subscription.1'\n",
       "\\item 'standarized\\_With\\_dialup\\_Internet\\_subscription\\_alone.2'\n",
       "\\item 'standardized\\_With\\_a\\_broadband\\_Internet\\_subscription.1'\n",
       "\\item 'standardized\\_Without\\_an\\_Internet\\_subscription.2'\n",
       "\\item 'index'\n",
       "\\end{enumerate*}\n"
      ],
      "text/markdown": [
       "1. 'Label'\n",
       "2. 'With_dialup_Internet_subscription_alone_Less_than_.10.000_Income'\n",
       "3. 'With_a_broadband_Internet_subscription_Less_than_.10.000_Income'\n",
       "4. 'Without_an_Internet_subscription_Less_than_.10.000_Income'\n",
       "5. 'With_dial.up_Internet_subscription_alone_.10.000_to_.19.999_Income'\n",
       "6. 'With_a_broadband_Internet_subscription_.10.000_to_.19.999_Income'\n",
       "7. 'Without_an_Internet_subscription_.10.000_to_.19.999_Income'\n",
       "8. 'With_dialup_Internet_subscription_alone_.20.000_to_.34.999_Income'\n",
       "9. 'With_a_broadband_Internet_subscription_.20.000_to_.34.999_Income'\n",
       "10. 'Without_an_Internet_subscription_.20.000_to_.34.999_Income'\n",
       "11. 'With_dialup_Internet_subscription_alone_.35.000_to_.49.999_Income'\n",
       "12. 'With_a_broadband_Internet_subscription_.35.000_to_.49.999_Income'\n",
       "13. 'Without_an_Internet_subscription_.35.000_to_.49.999_Income'\n",
       "14. 'With_dialup_Internet_subscription_alone_.50.000_to_.74.999_Income'\n",
       "15. 'With_a_broadband_Internet_subscription_.50.000_to_.74.999_Income'\n",
       "16. 'Without_an_Internet_subscription_.50.000_to_.74.999_Income'\n",
       "17. 'With_dialup_Internet_subscription_alone_.75.000_or_more_Income'\n",
       "18. 'With_a_broadband_Internet_subscription_.75.000_or_more_Income'\n",
       "19. 'Without_an_Internet_subscription_.75.000_or_more_Income'\n",
       "20. 'tract'\n",
       "21. 'county'\n",
       "22. 'Standarized_With_dialup_Internet_subscription_alone'\n",
       "23. 'standarized_With_a_broadband_Internet_subscription'\n",
       "24. 'standardized_Without_an_Internet_subscription'\n",
       "25. 'standarized_With_dial.up_Internet_subscription_alone'\n",
       "26. 'standarized_With_a_broadband_Internet_subscription.1'\n",
       "27. 'standarized_Without_an_Internet_subscription'\n",
       "28. 'standarized_With_dialup_Internet_subscription_alone'\n",
       "29. 'standarized_With_a_broadband_Internet_subscription.2'\n",
       "30. 'standarized_Without_an_Internet_subscription.1'\n",
       "31. 'standarized_With_dialup_Internet_subscription_alone.1'\n",
       "32. 'standarized_With_a_broadband_Internet_subscription.3'\n",
       "33. 'standarized_Without_an_Internet_subscription.2'\n",
       "34. 'standardized_With_dialup_Internet_subscription_alone'\n",
       "35. 'standardized_With_a_broadband_Internet_subscription'\n",
       "36. 'standardized_Without_an_Internet_subscription.1'\n",
       "37. 'standarized_With_dialup_Internet_subscription_alone.2'\n",
       "38. 'standardized_With_a_broadband_Internet_subscription.1'\n",
       "39. 'standardized_Without_an_Internet_subscription.2'\n",
       "40. 'index'\n",
       "\n",
       "\n"
      ],
      "text/plain": [
       " [1] \"Label\"                                                             \n",
       " [2] \"With_dialup_Internet_subscription_alone_Less_than_.10.000_Income\"  \n",
       " [3] \"With_a_broadband_Internet_subscription_Less_than_.10.000_Income\"   \n",
       " [4] \"Without_an_Internet_subscription_Less_than_.10.000_Income\"         \n",
       " [5] \"With_dial.up_Internet_subscription_alone_.10.000_to_.19.999_Income\"\n",
       " [6] \"With_a_broadband_Internet_subscription_.10.000_to_.19.999_Income\"  \n",
       " [7] \"Without_an_Internet_subscription_.10.000_to_.19.999_Income\"        \n",
       " [8] \"With_dialup_Internet_subscription_alone_.20.000_to_.34.999_Income\" \n",
       " [9] \"With_a_broadband_Internet_subscription_.20.000_to_.34.999_Income\"  \n",
       "[10] \"Without_an_Internet_subscription_.20.000_to_.34.999_Income\"        \n",
       "[11] \"With_dialup_Internet_subscription_alone_.35.000_to_.49.999_Income\" \n",
       "[12] \"With_a_broadband_Internet_subscription_.35.000_to_.49.999_Income\"  \n",
       "[13] \"Without_an_Internet_subscription_.35.000_to_.49.999_Income\"        \n",
       "[14] \"With_dialup_Internet_subscription_alone_.50.000_to_.74.999_Income\" \n",
       "[15] \"With_a_broadband_Internet_subscription_.50.000_to_.74.999_Income\"  \n",
       "[16] \"Without_an_Internet_subscription_.50.000_to_.74.999_Income\"        \n",
       "[17] \"With_dialup_Internet_subscription_alone_.75.000_or_more_Income\"    \n",
       "[18] \"With_a_broadband_Internet_subscription_.75.000_or_more_Income\"     \n",
       "[19] \"Without_an_Internet_subscription_.75.000_or_more_Income\"           \n",
       "[20] \"tract\"                                                             \n",
       "[21] \"county\"                                                            \n",
       "[22] \"Standarized_With_dialup_Internet_subscription_alone\"               \n",
       "[23] \"standarized_With_a_broadband_Internet_subscription\"                \n",
       "[24] \"standardized_Without_an_Internet_subscription\"                     \n",
       "[25] \"standarized_With_dial.up_Internet_subscription_alone\"              \n",
       "[26] \"standarized_With_a_broadband_Internet_subscription.1\"              \n",
       "[27] \"standarized_Without_an_Internet_subscription\"                      \n",
       "[28] \"standarized_With_dialup_Internet_subscription_alone\"               \n",
       "[29] \"standarized_With_a_broadband_Internet_subscription.2\"              \n",
       "[30] \"standarized_Without_an_Internet_subscription.1\"                    \n",
       "[31] \"standarized_With_dialup_Internet_subscription_alone.1\"             \n",
       "[32] \"standarized_With_a_broadband_Internet_subscription.3\"              \n",
       "[33] \"standarized_Without_an_Internet_subscription.2\"                    \n",
       "[34] \"standardized_With_dialup_Internet_subscription_alone\"              \n",
       "[35] \"standardized_With_a_broadband_Internet_subscription\"               \n",
       "[36] \"standardized_Without_an_Internet_subscription.1\"                   \n",
       "[37] \"standarized_With_dialup_Internet_subscription_alone.2\"             \n",
       "[38] \"standardized_With_a_broadband_Internet_subscription.1\"             \n",
       "[39] \"standardized_Without_an_Internet_subscription.2\"                   \n",
       "[40] \"index\"                                                             "
      ]
     },
     "metadata": {},
     "output_type": "display_data"
    }
   ],
   "source": [
    "names(household_income_data)"
   ]
  }
 ],
 "metadata": {
  "kernelspec": {
   "display_name": "R",
   "language": "R",
   "name": "ir"
  },
  "language_info": {
   "codemirror_mode": "r",
   "file_extension": ".r",
   "mimetype": "text/x-r-source",
   "name": "R",
   "pygments_lexer": "r",
   "version": "4.2.1"
  },
  "orig_nbformat": 4,
  "vscode": {
   "interpreter": {
    "hash": "31f2aee4e71d21fbe5cf8b01ff0e069b9275f58929596ceb00d14d90e3e16cd6"
   }
  }
 },
 "nbformat": 4,
 "nbformat_minor": 2
}
