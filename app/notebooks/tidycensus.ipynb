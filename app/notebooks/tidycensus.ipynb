{
 "cells": [
  {
   "cell_type": "code",
   "execution_count": 49,
   "metadata": {
    "vscode": {
     "languageId": "r"
    }
   },
   "outputs": [
    {
     "name": "stderr",
     "output_type": "stream",
     "text": [
      "To install your API key for use in future sessions, run this function with `install = TRUE`.\n",
      "\n",
      "Getting data from the 2016-2020 5-year ACS\n",
      "\n",
      "Loading ACS5 variables for 2020 from table B05011 and caching the dataset for faster future access.\n",
      "\n"
     ]
    },
    {
     "data": {
      "text/html": [
       "<table class=\"dataframe\">\n",
       "<caption>A data.frame: 6 × 6</caption>\n",
       "<thead>\n",
       "\t<tr><th></th><th scope=col>tract</th><th scope=col>county</th><th scope=col>estimate</th><th scope=col>moe</th><th scope=col>variable</th><th scope=col>dataset</th></tr>\n",
       "\t<tr><th></th><th scope=col>&lt;dbl&gt;</th><th scope=col>&lt;chr&gt;</th><th scope=col>&lt;dbl&gt;</th><th scope=col>&lt;dbl&gt;</th><th scope=col>&lt;chr&gt;</th><th scope=col>&lt;chr&gt;</th></tr>\n",
       "</thead>\n",
       "<tbody>\n",
       "\t<tr><th scope=row>1</th><td>9501.00</td><td> adams       </td><td>122</td><td> 52</td><td>estimate_total</td><td>period_of_naturalization</td></tr>\n",
       "\t<tr><th scope=row>2</th><td>  16.02</td><td> grays harbor</td><td>306</td><td>109</td><td>estimate_total</td><td>period_of_naturalization</td></tr>\n",
       "\t<tr><th scope=row>3</th><td> 257.04</td><td> king        </td><td>720</td><td>244</td><td>estimate_total</td><td>period_of_naturalization</td></tr>\n",
       "\t<tr><th scope=row>4</th><td>9613.00</td><td> mason       </td><td> 36</td><td> 41</td><td>estimate_total</td><td>period_of_naturalization</td></tr>\n",
       "\t<tr><th scope=row>5</th><td> 430.00</td><td> clark       </td><td>246</td><td>115</td><td>estimate_total</td><td>period_of_naturalization</td></tr>\n",
       "\t<tr><th scope=row>6</th><td> 204.01</td><td> king        </td><td>581</td><td>270</td><td>estimate_total</td><td>period_of_naturalization</td></tr>\n",
       "</tbody>\n",
       "</table>\n"
      ],
      "text/latex": [
       "A data.frame: 6 × 6\n",
       "\\begin{tabular}{r|llllll}\n",
       "  & tract & county & estimate & moe & variable & dataset\\\\\n",
       "  & <dbl> & <chr> & <dbl> & <dbl> & <chr> & <chr>\\\\\n",
       "\\hline\n",
       "\t1 & 9501.00 &  adams        & 122 &  52 & estimate\\_total & period\\_of\\_naturalization\\\\\n",
       "\t2 &   16.02 &  grays harbor & 306 & 109 & estimate\\_total & period\\_of\\_naturalization\\\\\n",
       "\t3 &  257.04 &  king         & 720 & 244 & estimate\\_total & period\\_of\\_naturalization\\\\\n",
       "\t4 & 9613.00 &  mason        &  36 &  41 & estimate\\_total & period\\_of\\_naturalization\\\\\n",
       "\t5 &  430.00 &  clark        & 246 & 115 & estimate\\_total & period\\_of\\_naturalization\\\\\n",
       "\t6 &  204.01 &  king         & 581 & 270 & estimate\\_total & period\\_of\\_naturalization\\\\\n",
       "\\end{tabular}\n"
      ],
      "text/markdown": [
       "\n",
       "A data.frame: 6 × 6\n",
       "\n",
       "| <!--/--> | tract &lt;dbl&gt; | county &lt;chr&gt; | estimate &lt;dbl&gt; | moe &lt;dbl&gt; | variable &lt;chr&gt; | dataset &lt;chr&gt; |\n",
       "|---|---|---|---|---|---|---|\n",
       "| 1 | 9501.00 |  adams        | 122 |  52 | estimate_total | period_of_naturalization |\n",
       "| 2 |   16.02 |  grays harbor | 306 | 109 | estimate_total | period_of_naturalization |\n",
       "| 3 |  257.04 |  king         | 720 | 244 | estimate_total | period_of_naturalization |\n",
       "| 4 | 9613.00 |  mason        |  36 |  41 | estimate_total | period_of_naturalization |\n",
       "| 5 |  430.00 |  clark        | 246 | 115 | estimate_total | period_of_naturalization |\n",
       "| 6 |  204.01 |  king         | 581 | 270 | estimate_total | period_of_naturalization |\n",
       "\n"
      ],
      "text/plain": [
       "  tract   county        estimate moe variable       dataset                 \n",
       "1 9501.00  adams        122       52 estimate_total period_of_naturalization\n",
       "2   16.02  grays harbor 306      109 estimate_total period_of_naturalization\n",
       "3  257.04  king         720      244 estimate_total period_of_naturalization\n",
       "4 9613.00  mason         36       41 estimate_total period_of_naturalization\n",
       "5  430.00  clark        246      115 estimate_total period_of_naturalization\n",
       "6  204.01  king         581      270 estimate_total period_of_naturalization"
      ]
     },
     "metadata": {},
     "output_type": "display_data"
    }
   ],
   "source": [
    "library(tidycensus)\n",
    "library(dplyr)\n",
    "\n",
    "\n",
    "census_api_key(Sys.getenv(\"CENSUS_API_KEY\"))\n",
    "\n",
    "getCensusData <- function(table) {\n",
    "    # load variable data and transform\n",
    "    variable_data <- load_variables(2020, \"acs5\", cache = TRUE) %>%\n",
    "    rename_all(recode,\n",
    "        name = \"variable_key\", concept = \"dataset\",\n",
    "        label = \"variable\"\n",
    "    ) %>%\n",
    "    mutate(\n",
    "        dataset = tolower(dataset),\n",
    "        dataset = gsub(\" \", \"_\", dataset),\n",
    "        variable = tolower(variable),\n",
    "        variable = gsub(\"!!\", \"_\", variable),\n",
    "        variable = gsub(\" \", \"_\", variable),\n",
    "        variable = gsub(\":\", \"\", variable)\n",
    "    ) %>%\n",
    "    select(-geography)\n",
    "\n",
    "    # load census data and transform\n",
    "    census_data <- get_acs(\n",
    "        geography = \"tract\",\n",
    "        table = table,\n",
    "        year = 2020,\n",
    "        state = \"WA\",\n",
    "        survey = \"acs5\",\n",
    "        cache_table = TRUE\n",
    "    ) %>%\n",
    "        separate(NAME, c(\"tract\", \"county\", \"state\"), sep = \",\") %>%\n",
    "        mutate(\n",
    "            tract = gsub(\"Census Tract \", \"\", tract),\n",
    "            tract = as.double(tract),\n",
    "            county = tolower(county),\n",
    "            county = gsub(\" county\", \"\", county)\n",
    "        ) %>%\n",
    "        rename_all(recode, variable = \"variable_key\") %>%\n",
    "        merge(variable_data, by = \"variable_key\") %>%\n",
    "        select(-state, -GEOID, -variable_key)\n",
    "\n",
    "\n",
    "    return(census_data)\n",
    "}\n",
    "head(getCensusData(\"B05011\"))"
   ]
  },
  {
   "cell_type": "code",
   "execution_count": 46,
   "metadata": {
    "vscode": {
     "languageId": "r"
    }
   },
   "outputs": [
    {
     "data": {
      "text/html": [
       "<table class=\"dataframe\">\n",
       "<caption>A tibble: 6 × 3</caption>\n",
       "<thead>\n",
       "\t<tr><th scope=col>variable_key</th><th scope=col>variable</th><th scope=col>dataset</th></tr>\n",
       "\t<tr><th scope=col>&lt;chr&gt;</th><th scope=col>&lt;chr&gt;</th><th scope=col>&lt;chr&gt;</th></tr>\n",
       "</thead>\n",
       "<tbody>\n",
       "\t<tr><td>B01001_001</td><td>estimate_total                    </td><td>sex_by_age</td></tr>\n",
       "\t<tr><td>B01001_002</td><td>estimate_total_male               </td><td>sex_by_age</td></tr>\n",
       "\t<tr><td>B01001_003</td><td>estimate_total_male_under_5_years </td><td>sex_by_age</td></tr>\n",
       "\t<tr><td>B01001_004</td><td>estimate_total_male_5_to_9_years  </td><td>sex_by_age</td></tr>\n",
       "\t<tr><td>B01001_005</td><td>estimate_total_male_10_to_14_years</td><td>sex_by_age</td></tr>\n",
       "\t<tr><td>B01001_006</td><td>estimate_total_male_15_to_17_years</td><td>sex_by_age</td></tr>\n",
       "</tbody>\n",
       "</table>\n"
      ],
      "text/latex": [
       "A tibble: 6 × 3\n",
       "\\begin{tabular}{lll}\n",
       " variable\\_key & variable & dataset\\\\\n",
       " <chr> & <chr> & <chr>\\\\\n",
       "\\hline\n",
       "\t B01001\\_001 & estimate\\_total                     & sex\\_by\\_age\\\\\n",
       "\t B01001\\_002 & estimate\\_total\\_male                & sex\\_by\\_age\\\\\n",
       "\t B01001\\_003 & estimate\\_total\\_male\\_under\\_5\\_years  & sex\\_by\\_age\\\\\n",
       "\t B01001\\_004 & estimate\\_total\\_male\\_5\\_to\\_9\\_years   & sex\\_by\\_age\\\\\n",
       "\t B01001\\_005 & estimate\\_total\\_male\\_10\\_to\\_14\\_years & sex\\_by\\_age\\\\\n",
       "\t B01001\\_006 & estimate\\_total\\_male\\_15\\_to\\_17\\_years & sex\\_by\\_age\\\\\n",
       "\\end{tabular}\n"
      ],
      "text/markdown": [
       "\n",
       "A tibble: 6 × 3\n",
       "\n",
       "| variable_key &lt;chr&gt; | variable &lt;chr&gt; | dataset &lt;chr&gt; |\n",
       "|---|---|---|\n",
       "| B01001_001 | estimate_total                     | sex_by_age |\n",
       "| B01001_002 | estimate_total_male                | sex_by_age |\n",
       "| B01001_003 | estimate_total_male_under_5_years  | sex_by_age |\n",
       "| B01001_004 | estimate_total_male_5_to_9_years   | sex_by_age |\n",
       "| B01001_005 | estimate_total_male_10_to_14_years | sex_by_age |\n",
       "| B01001_006 | estimate_total_male_15_to_17_years | sex_by_age |\n",
       "\n"
      ],
      "text/plain": [
       "  variable_key variable                           dataset   \n",
       "1 B01001_001   estimate_total                     sex_by_age\n",
       "2 B01001_002   estimate_total_male                sex_by_age\n",
       "3 B01001_003   estimate_total_male_under_5_years  sex_by_age\n",
       "4 B01001_004   estimate_total_male_5_to_9_years   sex_by_age\n",
       "5 B01001_005   estimate_total_male_10_to_14_years sex_by_age\n",
       "6 B01001_006   estimate_total_male_15_to_17_years sex_by_age"
      ]
     },
     "metadata": {},
     "output_type": "display_data"
    }
   ],
   "source": [
    "variable_data <- load_variables(2020, \"acs5\", cache = TRUE) %>%\n",
    "    rename_all(recode,\n",
    "        name = \"variable_key\", concept = \"dataset\",\n",
    "        label = \"variable\"\n",
    "    ) %>%\n",
    "    mutate(\n",
    "        dataset = tolower(dataset),\n",
    "        dataset = gsub(\" \", \"_\", dataset),\n",
    "        variable = tolower(variable),\n",
    "        variable = gsub(\"!!\", \"_\", variable),\n",
    "        variable = gsub(\" \", \"_\", variable),\n",
    "        variable = gsub(\":\", \"\", variable)\n",
    "    ) %>%\n",
    "    select(-geography)\n",
    "\n",
    "\n",
    "head(variable_data)"
   ]
  },
  {
   "cell_type": "code",
   "execution_count": 41,
   "metadata": {
    "vscode": {
     "languageId": "r"
    }
   },
   "outputs": [
    {
     "name": "stderr",
     "output_type": "stream",
     "text": [
      "Getting data from the 2016-2020 5-year ACS\n",
      "\n",
      "Loading ACS5 variables for 2020 from table B05011 and caching the dataset for faster future access.\n",
      "\n"
     ]
    },
    {
     "data": {
      "text/html": [
       "<table class=\"dataframe\">\n",
       "<caption>A tibble: 6 × 5</caption>\n",
       "<thead>\n",
       "\t<tr><th scope=col>tract</th><th scope=col>county</th><th scope=col>variable_key</th><th scope=col>estimate</th><th scope=col>moe</th></tr>\n",
       "\t<tr><th scope=col>&lt;dbl&gt;</th><th scope=col>&lt;chr&gt;</th><th scope=col>&lt;chr&gt;</th><th scope=col>&lt;dbl&gt;</th><th scope=col>&lt;dbl&gt;</th></tr>\n",
       "</thead>\n",
       "<tbody>\n",
       "\t<tr><td>9501</td><td> adams</td><td>B05011_001</td><td>122</td><td>52</td></tr>\n",
       "\t<tr><td>9501</td><td> adams</td><td>B05011_002</td><td> 28</td><td>27</td></tr>\n",
       "\t<tr><td>9501</td><td> adams</td><td>B05011_003</td><td> 94</td><td>43</td></tr>\n",
       "\t<tr><td>9501</td><td> adams</td><td>B05011_004</td><td>  6</td><td>10</td></tr>\n",
       "\t<tr><td>9501</td><td> adams</td><td>B05011_005</td><td>  0</td><td>13</td></tr>\n",
       "\t<tr><td>9501</td><td> adams</td><td>B05011_006</td><td> 10</td><td>10</td></tr>\n",
       "</tbody>\n",
       "</table>\n"
      ],
      "text/latex": [
       "A tibble: 6 × 5\n",
       "\\begin{tabular}{lllll}\n",
       " tract & county & variable\\_key & estimate & moe\\\\\n",
       " <dbl> & <chr> & <chr> & <dbl> & <dbl>\\\\\n",
       "\\hline\n",
       "\t 9501 &  adams & B05011\\_001 & 122 & 52\\\\\n",
       "\t 9501 &  adams & B05011\\_002 &  28 & 27\\\\\n",
       "\t 9501 &  adams & B05011\\_003 &  94 & 43\\\\\n",
       "\t 9501 &  adams & B05011\\_004 &   6 & 10\\\\\n",
       "\t 9501 &  adams & B05011\\_005 &   0 & 13\\\\\n",
       "\t 9501 &  adams & B05011\\_006 &  10 & 10\\\\\n",
       "\\end{tabular}\n"
      ],
      "text/markdown": [
       "\n",
       "A tibble: 6 × 5\n",
       "\n",
       "| tract &lt;dbl&gt; | county &lt;chr&gt; | variable_key &lt;chr&gt; | estimate &lt;dbl&gt; | moe &lt;dbl&gt; |\n",
       "|---|---|---|---|---|\n",
       "| 9501 |  adams | B05011_001 | 122 | 52 |\n",
       "| 9501 |  adams | B05011_002 |  28 | 27 |\n",
       "| 9501 |  adams | B05011_003 |  94 | 43 |\n",
       "| 9501 |  adams | B05011_004 |   6 | 10 |\n",
       "| 9501 |  adams | B05011_005 |   0 | 13 |\n",
       "| 9501 |  adams | B05011_006 |  10 | 10 |\n",
       "\n"
      ],
      "text/plain": [
       "  tract county variable_key estimate moe\n",
       "1 9501   adams B05011_001   122      52 \n",
       "2 9501   adams B05011_002    28      27 \n",
       "3 9501   adams B05011_003    94      43 \n",
       "4 9501   adams B05011_004     6      10 \n",
       "5 9501   adams B05011_005     0      13 \n",
       "6 9501   adams B05011_006    10      10 "
      ]
     },
     "metadata": {},
     "output_type": "display_data"
    }
   ],
   "source": [
    "test <- get_acs(\n",
    "  geography = \"tract\",\n",
    "  table = \"B05011\",\n",
    "  year = 2020,\n",
    "  state = \"WA\",\n",
    "  survey = \"acs5\",\n",
    "  cache_table = TRUE\n",
    ") %>%\n",
    "  separate(NAME, c(\"tract\", \"county\", \"state\"), sep = \",\") %>%\n",
    "  select(-state, -GEOID) %>%\n",
    "  mutate(\n",
    "    tract = gsub(\"Census Tract \", \"\", tract), tract = as.double(tract),\n",
    "    county = tolower(county), county = gsub(\" county\", \"\", county)\n",
    "  ) %>%\n",
    "  rename_all(recode, variable = \"variable_key\")\n",
    "\n",
    "head(test)"
   ]
  },
  {
   "cell_type": "code",
   "execution_count": 105,
   "metadata": {
    "vscode": {
     "languageId": "r"
    }
   },
   "outputs": [
    {
     "name": "stderr",
     "output_type": "stream",
     "text": [
      "Getting data from the 2016-2020 5-year ACS\n",
      "\n",
      "Loading ACS5 variables for 2020 from table B05011 and caching the dataset for faster future access.\n",
      "\n",
      "Getting data from the 2016-2020 5-year ACS\n",
      "\n",
      "Loading ACS5 variables for 2020 from table B05012 and caching the dataset for faster future access.\n",
      "\n",
      "Getting data from the 2016-2020 5-year ACS\n",
      "\n",
      "Loading ACS5 variables for 2020 from table B08101 and caching the dataset for faster future access.\n",
      "\n"
     ]
    }
   ],
   "source": [
    "naturalization <- getCensusData(\"B05011\")\n",
    "nativity <- getCensusData(\"B05012\")\n",
    "transportation <- getCensusData(\"B08101\")\n",
    "poverty <- getCensusData(\"B17020\")\n",
    "type_computer <- getCensusData(\"B28001\")\n",
    "presence_computer <- getCensusData(\"B28003\")\n",
    "internet_subscription <- getCensusData(\"B28011\")"
   ]
  },
  {
   "cell_type": "code",
   "execution_count": null,
   "metadata": {
    "vscode": {
     "languageId": "r"
    }
   },
   "outputs": [],
   "source": [
    "test <- load_variables(2020, \"acs5\", cache = TRUE)\n",
    "test$concept <- str_to_lower(test$concept)\n",
    "test$label <- str_to_lower(test$label)\n",
    "test$label <- gsub(\"!\", \"_\", test$label)\n",
    "test$label <- gsub(\"__\", \"_\", test$label)\n",
    "test$label <- gsub(\":\", \"\", test$label)\n",
    "test$label <- gsub(\" \", \"_\", test$label)\n",
    "test$concept <- gsub(\" \", \"_\", test$concept)\n",
    "test <- test %>%\n",
    "    select(-geography) %>%\n",
    "    rename_all(recode, name = \"variable\")\n",
    "\n",
    "head(test)"
   ]
  }
 ],
 "metadata": {
  "kernelspec": {
   "display_name": "R",
   "language": "R",
   "name": "ir"
  },
  "language_info": {
   "codemirror_mode": "r",
   "file_extension": ".r",
   "mimetype": "text/x-r-source",
   "name": "R",
   "pygments_lexer": "r",
   "version": "4.2.2"
  },
  "orig_nbformat": 4
 },
 "nbformat": 4,
 "nbformat_minor": 2
}
