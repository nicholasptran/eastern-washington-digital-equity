{
 "cells": [
  {
   "cell_type": "code",
   "execution_count": 2,
   "metadata": {
    "vscode": {
     "languageId": "r"
    }
   },
   "outputs": [
    {
     "name": "stderr",
     "output_type": "stream",
     "text": [
      "\n",
      "Attaching package: ‘dplyr’\n",
      "\n",
      "\n",
      "The following objects are masked from ‘package:stats’:\n",
      "\n",
      "    filter, lag\n",
      "\n",
      "\n",
      "The following objects are masked from ‘package:base’:\n",
      "\n",
      "    intersect, setdiff, setequal, union\n",
      "\n",
      "\n"
     ]
    },
    {
     "ename": "ERROR",
     "evalue": "Error: FATAL:  role \"nicholas\" does not exist\n\n",
     "output_type": "error",
     "traceback": [
      "Error: FATAL:  role \"nicholas\" does not exist\n\nTraceback:\n",
      "1. source(\"../functions/database.R\")",
      "2. withVisible(eval(ei, envir))",
      "3. eval(ei, envir)",
      "4. eval(ei, envir)",
      "5. dbConnect(Postgres(), dbname = Sys.getenv(\"DATABASE_NAME\"), host = Sys.getenv(\"DATABASE_HOST\"), \n .     port = Sys.getenv(\"DATABASE_PORT\"), user = Sys.getenv(\"DATABASE_USER\"), \n .     password = Sys.getenv(\"DATABASE_PASSWORD\"))",
      "6. dbConnect(Postgres(), dbname = Sys.getenv(\"DATABASE_NAME\"), host = Sys.getenv(\"DATABASE_HOST\"), \n .     port = Sys.getenv(\"DATABASE_PORT\"), user = Sys.getenv(\"DATABASE_USER\"), \n .     password = Sys.getenv(\"DATABASE_PASSWORD\"))",
      "7. .local(drv, ...)",
      "8. connection_create(names(opts), as.vector(opts), check_interrupts)"
     ]
    }
   ],
   "source": [
    "source(\"../functions/database.R\")\n",
    "library(tidyverse)"
   ]
  },
  {
   "cell_type": "code",
   "execution_count": 5,
   "metadata": {
    "vscode": {
     "languageId": "r"
    }
   },
   "outputs": [
    {
     "name": "stderr",
     "output_type": "stream",
     "text": [
      "Warning message in result_fetch(res@ptr, n = n):\n",
      "“Don't need to call dbFetch() for statements, only for queries”\n"
     ]
    },
    {
     "data": {
      "text/html": [],
      "text/latex": [],
      "text/markdown": [],
      "text/plain": [
       "<0 x 0 matrix>"
      ]
     },
     "metadata": {},
     "output_type": "display_data"
    }
   ],
   "source": [
    "variableTable <- c(\n",
    "  \"id\" = \"varchar\",\n",
    "  \"name\" = \"varchar\",\n",
    "  \"description\" = \"varchar\",\n",
    "  \"link\" = \"varchar\"\n",
    ")\n",
    "dbGetQuery(pool, \"drop table if exists variables\")\n",
    "\n",
    "pool::dbCreateTable(\n",
    "  pool,\n",
    "  \"variables\",\n",
    "  variableTable\n",
    ")"
   ]
  },
  {
   "cell_type": "code",
   "execution_count": 10,
   "metadata": {
    "vscode": {
     "languageId": "r"
    }
   },
   "outputs": [
    {
     "name": "stderr",
     "output_type": "stream",
     "text": [
      "Warning message in result_fetch(res@ptr, n = n):\n",
      "“Don't need to call dbFetch() for statements, only for queries”\n"
     ]
    },
    {
     "data": {
      "text/html": [],
      "text/latex": [],
      "text/markdown": [],
      "text/plain": [
       "<0 x 0 matrix>"
      ]
     },
     "metadata": {},
     "output_type": "display_data"
    },
    {
     "data": {
      "text/html": [
       "<table class=\"dataframe\">\n",
       "<caption>A data.frame: 1 × 3</caption>\n",
       "<thead>\n",
       "\t<tr><th scope=col>name</th><th scope=col>category</th><th scope=col>link</th></tr>\n",
       "\t<tr><th scope=col>&lt;chr&gt;</th><th scope=col>&lt;chr&gt;</th><th scope=col>&lt;chr&gt;</th></tr>\n",
       "</thead>\n",
       "<tbody>\n",
       "\t<tr><td>test</td><td>test</td><td>test</td></tr>\n",
       "</tbody>\n",
       "</table>\n"
      ],
      "text/latex": [
       "A data.frame: 1 × 3\n",
       "\\begin{tabular}{lll}\n",
       " name & category & link\\\\\n",
       " <chr> & <chr> & <chr>\\\\\n",
       "\\hline\n",
       "\t test & test & test\\\\\n",
       "\\end{tabular}\n"
      ],
      "text/markdown": [
       "\n",
       "A data.frame: 1 × 3\n",
       "\n",
       "| name &lt;chr&gt; | category &lt;chr&gt; | link &lt;chr&gt; |\n",
       "|---|---|---|\n",
       "| test | test | test |\n",
       "\n"
      ],
      "text/plain": [
       "  name category link\n",
       "1 test test     test"
      ]
     },
     "metadata": {},
     "output_type": "display_data"
    }
   ],
   "source": [
    "\n",
    "dbGetQuery(pool, \"insert into variables values ('test', 'test', 'test')\")\n",
    "dbGetQuery(pool, \"select * from variables\")\n",
    "poolClose(pool)"
   ]
  }
 ],
 "metadata": {
  "kernelspec": {
   "display_name": "R",
   "language": "R",
   "name": "ir"
  },
  "language_info": {
   "codemirror_mode": "r",
   "file_extension": ".r",
   "mimetype": "text/x-r-source",
   "name": "R",
   "pygments_lexer": "r",
   "version": "4.2.1"
  },
  "orig_nbformat": 4
 },
 "nbformat": 4,
 "nbformat_minor": 2
}
