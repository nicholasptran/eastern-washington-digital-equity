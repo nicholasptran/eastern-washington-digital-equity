{
 "cells": [
  {
   "cell_type": "code",
   "execution_count": 1,
   "metadata": {
    "vscode": {
     "languageId": "r"
    }
   },
   "outputs": [
    {
     "name": "stderr",
     "output_type": "stream",
     "text": [
      "── \u001b[1mAttaching packages\u001b[22m ─────────────────────────────────────── tidyverse 1.3.1 ──\n",
      "\n",
      "\u001b[32m✔\u001b[39m \u001b[34mggplot2\u001b[39m 3.4.0     \u001b[32m✔\u001b[39m \u001b[34mpurrr  \u001b[39m 1.0.1\n",
      "\u001b[32m✔\u001b[39m \u001b[34mtibble \u001b[39m 3.1.7     \u001b[32m✔\u001b[39m \u001b[34mdplyr  \u001b[39m 1.0.9\n",
      "\u001b[32m✔\u001b[39m \u001b[34mtidyr  \u001b[39m 1.2.0     \u001b[32m✔\u001b[39m \u001b[34mstringr\u001b[39m 1.5.0\n",
      "\u001b[32m✔\u001b[39m \u001b[34mreadr  \u001b[39m 2.1.2     \u001b[32m✔\u001b[39m \u001b[34mforcats\u001b[39m 0.5.1\n",
      "\n",
      "── \u001b[1mConflicts\u001b[22m ────────────────────────────────────────── tidyverse_conflicts() ──\n",
      "\u001b[31m✖\u001b[39m \u001b[34mdplyr\u001b[39m::\u001b[32mfilter()\u001b[39m masks \u001b[34mstats\u001b[39m::filter()\n",
      "\u001b[31m✖\u001b[39m \u001b[34mdplyr\u001b[39m::\u001b[32mlag()\u001b[39m    masks \u001b[34mstats\u001b[39m::lag()\n",
      "\n",
      "To enable caching of data, set `options(tigris_use_cache = TRUE)`\n",
      "in your R script or .Rprofile.\n",
      "\n",
      "Linking to GEOS 3.10.2, GDAL 3.4.3, PROJ 8.2.0; sf_use_s2() is TRUE\n",
      "\n",
      "To install your API key for use in future sessions, run this function with `install = TRUE`.\n",
      "\n"
     ]
    }
   ],
   "source": [
    "library(tidycensus)\n",
    "library(tidyverse)\n",
    "library(tigris)\n",
    "library(sf)\n",
    "\n",
    "census_api_key(Sys.getenv(\"CENSUS_API_KEY\"))"
   ]
  },
  {
   "cell_type": "code",
   "execution_count": 2,
   "metadata": {
    "vscode": {
     "languageId": "r"
    }
   },
   "outputs": [
    {
     "data": {
      "text/html": [
       "<table class=\"dataframe\">\n",
       "<caption>A tibble: 1 × 4</caption>\n",
       "<thead>\n",
       "\t<tr><th scope=col>name</th><th scope=col>label</th><th scope=col>concept</th><th scope=col>geography</th></tr>\n",
       "\t<tr><th scope=col>&lt;chr&gt;</th><th scope=col>&lt;chr&gt;</th><th scope=col>&lt;chr&gt;</th><th scope=col>&lt;chr&gt;</th></tr>\n",
       "</thead>\n",
       "<tbody>\n",
       "\t<tr><td>B01003_001</td><td>Estimate!!Total</td><td>TOTAL POPULATION</td><td>NA</td></tr>\n",
       "</tbody>\n",
       "</table>\n"
      ],
      "text/latex": [
       "A tibble: 1 × 4\n",
       "\\begin{tabular}{llll}\n",
       " name & label & concept & geography\\\\\n",
       " <chr> & <chr> & <chr> & <chr>\\\\\n",
       "\\hline\n",
       "\t B01003\\_001 & Estimate!!Total & TOTAL POPULATION & NA\\\\\n",
       "\\end{tabular}\n"
      ],
      "text/markdown": [
       "\n",
       "A tibble: 1 × 4\n",
       "\n",
       "| name &lt;chr&gt; | label &lt;chr&gt; | concept &lt;chr&gt; | geography &lt;chr&gt; |\n",
       "|---|---|---|---|\n",
       "| B01003_001 | Estimate!!Total | TOTAL POPULATION | NA |\n",
       "\n"
      ],
      "text/plain": [
       "  name       label           concept          geography\n",
       "1 B01003_001 Estimate!!Total TOTAL POPULATION NA       "
      ]
     },
     "metadata": {},
     "output_type": "display_data"
    }
   ],
   "source": [
    "census_variables <- load_variables(2021, \"acs5\", cache = TRUE)\n",
    "census_variables"
   ]
  },
  {
   "cell_type": "code",
   "execution_count": 3,
   "metadata": {
    "vscode": {
     "languageId": "r"
    }
   },
   "outputs": [],
   "source": [
    "variable_data <- load_variables(2021, \"acs5\", cache = TRUE) %>%\n",
    "  rename_all(recode,\n",
    "    name = \"variable_key\", concept = \"dataset\",\n",
    "    label = \"variable\"\n",
    "  ) %>%\n",
    "  mutate(\n",
    "    dataset = tolower(dataset),\n",
    "    dataset = gsub(\" \", \"_\", dataset),\n",
    "    variable = tolower(variable),\n",
    "    variable = gsub(\"!!\", \"_\", variable),\n",
    "    variable = gsub(\" \", \"_\", variable),\n",
    "    variable = gsub(\":\", \"\", variable)\n",
    "  ) %>%\n",
    "  select(-geography)\n",
    "\n",
    "variable_data2 <- load_variables(2021, \"acs5/subject\", cache = TRUE) %>%\n",
    "  rename_all(recode,\n",
    "    name = \"variable_key\", concept = \"dataset\",\n",
    "    label = \"variable\"\n",
    "  ) %>%\n",
    "  mutate(\n",
    "    dataset = tolower(dataset),\n",
    "    dataset = gsub(\" \", \"_\", dataset),\n",
    "    variable = tolower(variable),\n",
    "    variable = gsub(\"!!\", \"_\", variable),\n",
    "    variable = gsub(\" \", \"_\", variable),\n",
    "    variable = gsub(\":\", \"\", variable)\n",
    "  )\n",
    "\n",
    "variable_data <- rbind(variable_data, variable_data2)"
   ]
  },
  {
   "cell_type": "code",
   "execution_count": 4,
   "metadata": {
    "vscode": {
     "languageId": "r"
    }
   },
   "outputs": [
    {
     "data": {
      "text/html": [
       "<table class=\"dataframe\">\n",
       "<caption>A tibble: 8 × 3</caption>\n",
       "<thead>\n",
       "\t<tr><th scope=col>variable_key</th><th scope=col>variable</th><th scope=col>dataset</th></tr>\n",
       "\t<tr><th scope=col>&lt;chr&gt;</th><th scope=col>&lt;chr&gt;</th><th scope=col>&lt;chr&gt;</th></tr>\n",
       "</thead>\n",
       "<tbody>\n",
       "\t<tr><td>B01003_001   </td><td>estimate_total                                                           </td><td>total_population                                                     </td></tr>\n",
       "\t<tr><td>B08101_049   </td><td>estimate_total_worked_from_home                                          </td><td>means_of_transportation_to_work_by_age                               </td></tr>\n",
       "\t<tr><td>B28003_002   </td><td>estimate_total_has_a_computer                                            </td><td>presence_of_a_computer_and_type_of_internet_subscription_in_household</td></tr>\n",
       "\t<tr><td>B28003_006   </td><td>estimate_total_no_computer                                               </td><td>presence_of_a_computer_and_type_of_internet_subscription_in_household</td></tr>\n",
       "\t<tr><td>B28011_002   </td><td>estimate_total_with_an_internet_subscription                             </td><td>internet_subscriptions_in_household                                  </td></tr>\n",
       "\t<tr><td>B28011_008   </td><td>estimate_total_no_internet_access                                        </td><td>internet_subscriptions_in_household                                  </td></tr>\n",
       "\t<tr><td>S0101_C01_030</td><td>estimate_total_total_population_selected_age_categories_65_years_and_over</td><td>age_and_sex                                                          </td></tr>\n",
       "\t<tr><td>S1901_C01_012</td><td>estimate_households_median_income_(dollars)                              </td><td>income_in_the_past_12_months_(in_2021_inflation-adjusted_dollars)    </td></tr>\n",
       "</tbody>\n",
       "</table>\n"
      ],
      "text/latex": [
       "A tibble: 8 × 3\n",
       "\\begin{tabular}{lll}\n",
       " variable\\_key & variable & dataset\\\\\n",
       " <chr> & <chr> & <chr>\\\\\n",
       "\\hline\n",
       "\t B01003\\_001    & estimate\\_total                                                            & total\\_population                                                     \\\\\n",
       "\t B08101\\_049    & estimate\\_total\\_worked\\_from\\_home                                           & means\\_of\\_transportation\\_to\\_work\\_by\\_age                               \\\\\n",
       "\t B28003\\_002    & estimate\\_total\\_has\\_a\\_computer                                             & presence\\_of\\_a\\_computer\\_and\\_type\\_of\\_internet\\_subscription\\_in\\_household\\\\\n",
       "\t B28003\\_006    & estimate\\_total\\_no\\_computer                                                & presence\\_of\\_a\\_computer\\_and\\_type\\_of\\_internet\\_subscription\\_in\\_household\\\\\n",
       "\t B28011\\_002    & estimate\\_total\\_with\\_an\\_internet\\_subscription                              & internet\\_subscriptions\\_in\\_household                                  \\\\\n",
       "\t B28011\\_008    & estimate\\_total\\_no\\_internet\\_access                                         & internet\\_subscriptions\\_in\\_household                                  \\\\\n",
       "\t S0101\\_C01\\_030 & estimate\\_total\\_total\\_population\\_selected\\_age\\_categories\\_65\\_years\\_and\\_over & age\\_and\\_sex                                                          \\\\\n",
       "\t S1901\\_C01\\_012 & estimate\\_households\\_median\\_income\\_(dollars)                               & income\\_in\\_the\\_past\\_12\\_months\\_(in\\_2021\\_inflation-adjusted\\_dollars)    \\\\\n",
       "\\end{tabular}\n"
      ],
      "text/markdown": [
       "\n",
       "A tibble: 8 × 3\n",
       "\n",
       "| variable_key &lt;chr&gt; | variable &lt;chr&gt; | dataset &lt;chr&gt; |\n",
       "|---|---|---|\n",
       "| B01003_001    | estimate_total                                                            | total_population                                                      |\n",
       "| B08101_049    | estimate_total_worked_from_home                                           | means_of_transportation_to_work_by_age                                |\n",
       "| B28003_002    | estimate_total_has_a_computer                                             | presence_of_a_computer_and_type_of_internet_subscription_in_household |\n",
       "| B28003_006    | estimate_total_no_computer                                                | presence_of_a_computer_and_type_of_internet_subscription_in_household |\n",
       "| B28011_002    | estimate_total_with_an_internet_subscription                              | internet_subscriptions_in_household                                   |\n",
       "| B28011_008    | estimate_total_no_internet_access                                         | internet_subscriptions_in_household                                   |\n",
       "| S0101_C01_030 | estimate_total_total_population_selected_age_categories_65_years_and_over | age_and_sex                                                           |\n",
       "| S1901_C01_012 | estimate_households_median_income_(dollars)                               | income_in_the_past_12_months_(in_2021_inflation-adjusted_dollars)     |\n",
       "\n"
      ],
      "text/plain": [
       "  variable_key \n",
       "1 B01003_001   \n",
       "2 B08101_049   \n",
       "3 B28003_002   \n",
       "4 B28003_006   \n",
       "5 B28011_002   \n",
       "6 B28011_008   \n",
       "7 S0101_C01_030\n",
       "8 S1901_C01_012\n",
       "  variable                                                                 \n",
       "1 estimate_total                                                           \n",
       "2 estimate_total_worked_from_home                                          \n",
       "3 estimate_total_has_a_computer                                            \n",
       "4 estimate_total_no_computer                                               \n",
       "5 estimate_total_with_an_internet_subscription                             \n",
       "6 estimate_total_no_internet_access                                        \n",
       "7 estimate_total_total_population_selected_age_categories_65_years_and_over\n",
       "8 estimate_households_median_income_(dollars)                              \n",
       "  dataset                                                              \n",
       "1 total_population                                                     \n",
       "2 means_of_transportation_to_work_by_age                               \n",
       "3 presence_of_a_computer_and_type_of_internet_subscription_in_household\n",
       "4 presence_of_a_computer_and_type_of_internet_subscription_in_household\n",
       "5 internet_subscriptions_in_household                                  \n",
       "6 internet_subscriptions_in_household                                  \n",
       "7 age_and_sex                                                          \n",
       "8 income_in_the_past_12_months_(in_2021_inflation-adjusted_dollars)    "
      ]
     },
     "metadata": {},
     "output_type": "display_data"
    }
   ],
   "source": [
    "variables <- c(\n",
    "    \"B08101_049\", \"B28003_002\", \"B28003_006\", \"B28011_002\", \"B28011_008\", \"S0101_C01_030\", \"S1901_C01_012\",\n",
    "    \"B01003_001\"\n",
    ")\n",
    "\n",
    "variable_data <- variable_data %>%\n",
    "    filter(variable_key %in% variables)\n",
    "\n",
    "variable_data"
   ]
  },
  {
   "cell_type": "code",
   "execution_count": 32,
   "metadata": {
    "vscode": {
     "languageId": "r"
    }
   },
   "outputs": [
    {
     "name": "stderr",
     "output_type": "stream",
     "text": [
      "Getting data from the 2017-2021 5-year ACS\n",
      "\n",
      "Loading ACS5 variables for 2021 from table B01003 and caching the dataset for faster future access.\n",
      "\n",
      "Getting data from the 2017-2021 5-year ACS\n",
      "\n",
      "Loading ACS5 variables for 2021 from table B08101 and caching the dataset for faster future access.\n",
      "\n",
      "Getting data from the 2017-2021 5-year ACS\n",
      "\n",
      "Loading ACS5 variables for 2021 from table B28001 and caching the dataset for faster future access.\n",
      "\n",
      "Getting data from the 2017-2021 5-year ACS\n",
      "\n",
      "Loading ACS5 variables for 2021 from table B28003 and caching the dataset for faster future access.\n",
      "\n",
      "Getting data from the 2017-2021 5-year ACS\n",
      "\n",
      "Loading ACS5 variables for 2021 from table B28011 and caching the dataset for faster future access.\n",
      "\n",
      "Getting data from the 2017-2021 5-year ACS\n",
      "\n",
      "Loading ACS5/SUBJECT variables for 2021 from table S0101 and caching the dataset for faster future access.\n",
      "\n",
      "Using the ACS Subject Tables\n",
      "\n",
      "Using the ACS Subject Tables\n",
      "\n",
      "Using the ACS Subject Tables\n",
      "\n",
      "Using the ACS Subject Tables\n",
      "\n",
      "Using the ACS Subject Tables\n",
      "\n",
      "Using the ACS Subject Tables\n",
      "\n",
      "Using the ACS Subject Tables\n",
      "\n",
      "Using the ACS Subject Tables\n",
      "\n",
      "Using the ACS Subject Tables\n",
      "\n",
      "Using the ACS Subject Tables\n",
      "\n",
      "Getting data from the 2017-2021 5-year ACS\n",
      "\n",
      "Loading ACS5/SUBJECT variables for 2021 from table S1901 and caching the dataset for faster future access.\n",
      "\n",
      "Using the ACS Subject Tables\n",
      "\n",
      "Using the ACS Subject Tables\n",
      "\n",
      "Using the ACS Subject Tables\n",
      "\n"
     ]
    },
    {
     "data": {
      "text/html": [
       "68442"
      ],
      "text/latex": [
       "68442"
      ],
      "text/markdown": [
       "68442"
      ],
      "text/plain": [
       "[1] 68442"
      ]
     },
     "metadata": {},
     "output_type": "display_data"
    },
    {
     "data": {
      "text/html": [
       "<table class=\"dataframe\">\n",
       "<caption>A tibble: 6 × 5</caption>\n",
       "<thead>\n",
       "\t<tr><th scope=col>GEOID</th><th scope=col>NAME</th><th scope=col>variable</th><th scope=col>estimate</th><th scope=col>moe</th></tr>\n",
       "\t<tr><th scope=col>&lt;chr&gt;</th><th scope=col>&lt;chr&gt;</th><th scope=col>&lt;chr&gt;</th><th scope=col>&lt;dbl&gt;</th><th scope=col>&lt;dbl&gt;</th></tr>\n",
       "</thead>\n",
       "<tbody>\n",
       "\t<tr><td>53001950100</td><td>Census Tract 9501, Adams County, Washington   </td><td>B01003_001</td><td>2577</td><td>292</td></tr>\n",
       "\t<tr><td>53001950200</td><td>Census Tract 9502, Adams County, Washington   </td><td>B01003_001</td><td>1794</td><td>456</td></tr>\n",
       "\t<tr><td>53001950301</td><td>Census Tract 9503.01, Adams County, Washington</td><td>B01003_001</td><td>1790</td><td>388</td></tr>\n",
       "\t<tr><td>53001950302</td><td>Census Tract 9503.02, Adams County, Washington</td><td>B01003_001</td><td>2738</td><td>544</td></tr>\n",
       "\t<tr><td>53001950303</td><td>Census Tract 9503.03, Adams County, Washington</td><td>B01003_001</td><td>2555</td><td>462</td></tr>\n",
       "\t<tr><td>53001950400</td><td>Census Tract 9504, Adams County, Washington   </td><td>B01003_001</td><td>3100</td><td>432</td></tr>\n",
       "</tbody>\n",
       "</table>\n"
      ],
      "text/latex": [
       "A tibble: 6 × 5\n",
       "\\begin{tabular}{lllll}\n",
       " GEOID & NAME & variable & estimate & moe\\\\\n",
       " <chr> & <chr> & <chr> & <dbl> & <dbl>\\\\\n",
       "\\hline\n",
       "\t 53001950100 & Census Tract 9501, Adams County, Washington    & B01003\\_001 & 2577 & 292\\\\\n",
       "\t 53001950200 & Census Tract 9502, Adams County, Washington    & B01003\\_001 & 1794 & 456\\\\\n",
       "\t 53001950301 & Census Tract 9503.01, Adams County, Washington & B01003\\_001 & 1790 & 388\\\\\n",
       "\t 53001950302 & Census Tract 9503.02, Adams County, Washington & B01003\\_001 & 2738 & 544\\\\\n",
       "\t 53001950303 & Census Tract 9503.03, Adams County, Washington & B01003\\_001 & 2555 & 462\\\\\n",
       "\t 53001950400 & Census Tract 9504, Adams County, Washington    & B01003\\_001 & 3100 & 432\\\\\n",
       "\\end{tabular}\n"
      ],
      "text/markdown": [
       "\n",
       "A tibble: 6 × 5\n",
       "\n",
       "| GEOID &lt;chr&gt; | NAME &lt;chr&gt; | variable &lt;chr&gt; | estimate &lt;dbl&gt; | moe &lt;dbl&gt; |\n",
       "|---|---|---|---|---|\n",
       "| 53001950100 | Census Tract 9501, Adams County, Washington    | B01003_001 | 2577 | 292 |\n",
       "| 53001950200 | Census Tract 9502, Adams County, Washington    | B01003_001 | 1794 | 456 |\n",
       "| 53001950301 | Census Tract 9503.01, Adams County, Washington | B01003_001 | 1790 | 388 |\n",
       "| 53001950302 | Census Tract 9503.02, Adams County, Washington | B01003_001 | 2738 | 544 |\n",
       "| 53001950303 | Census Tract 9503.03, Adams County, Washington | B01003_001 | 2555 | 462 |\n",
       "| 53001950400 | Census Tract 9504, Adams County, Washington    | B01003_001 | 3100 | 432 |\n",
       "\n"
      ],
      "text/plain": [
       "  GEOID       NAME                                           variable  \n",
       "1 53001950100 Census Tract 9501, Adams County, Washington    B01003_001\n",
       "2 53001950200 Census Tract 9502, Adams County, Washington    B01003_001\n",
       "3 53001950301 Census Tract 9503.01, Adams County, Washington B01003_001\n",
       "4 53001950302 Census Tract 9503.02, Adams County, Washington B01003_001\n",
       "5 53001950303 Census Tract 9503.03, Adams County, Washington B01003_001\n",
       "6 53001950400 Census Tract 9504, Adams County, Washington    B01003_001\n",
       "  estimate moe\n",
       "1 2577     292\n",
       "2 1794     456\n",
       "3 1790     388\n",
       "4 2738     544\n",
       "5 2555     462\n",
       "6 3100     432"
      ]
     },
     "metadata": {},
     "output_type": "display_data"
    }
   ],
   "source": [
    "counties <- c(\n",
    "  \"adams\", \"asotin\", \"ferry\", \"garfield\", \"lincoln\",\n",
    "  \"pend oreille\", \"spokane\", \"stevens\", \"whitman\"\n",
    ")\n",
    "\n",
    "getCensusData <- function(table) {\n",
    "  census_data <- get_acs(\n",
    "    geography = \"tract\",\n",
    "    table = table,\n",
    "    year = 2021,\n",
    "    state = \"WA\",\n",
    "    survey = \"acs5\",\n",
    "    cache_table = TRUE,\n",
    "    county = counties,\n",
    "    show_call = FALSE,\n",
    "    \n",
    "    # ,output = \"tidy\"\n",
    "    # , keep_geo_vars = TRUE\n",
    "    # , geometry = TRUE\n",
    "  )\n",
    "  return(census_data)\n",
    "}\n",
    "\n",
    "population <- getCensusData(\"B01003\")\n",
    "transportation <- getCensusData(\"B08101\")\n",
    "type_computer <- getCensusData(\"B28001\")\n",
    "presence_computer <- getCensusData(\"B28003\")\n",
    "internet_subscription <- getCensusData(\"B28011\")\n",
    "age <- getCensusData(\"S0101\")\n",
    "household_income <- getCensusData(\"S1901\")\n",
    "\n",
    "\n",
    "census_data <- population %>%\n",
    "  rbind(., transportation) %>%\n",
    "  rbind(., type_computer) %>%\n",
    "  rbind(., presence_computer) %>%\n",
    "  rbind(., internet_subscription) %>%\n",
    "  rbind(., age) %>%\n",
    "  rbind(., household_income)\n",
    "\n",
    "\n",
    "nrow(census_data)\n",
    "head(census_data)"
   ]
  },
  {
   "cell_type": "code",
   "execution_count": 33,
   "metadata": {
    "vscode": {
     "languageId": "r"
    }
   },
   "outputs": [
    {
     "name": "stderr",
     "output_type": "stream",
     "text": [
      "Retrieving data for the year 2021\n",
      "\n",
      "\u001b[1m\u001b[22mJoining, by = \"GEOID\"\n"
     ]
    },
    {
     "data": {
      "text/html": [
       "<table class=\"dataframe\">\n",
       "<caption>A tibble: 6 × 10</caption>\n",
       "<thead>\n",
       "\t<tr><th scope=col>GEOID</th><th scope=col>tract</th><th scope=col>estimate_total</th><th scope=col>estimate_total_worked_from_home</th><th scope=col>estimate_total_has_a_computer</th><th scope=col>estimate_total_no_computer</th><th scope=col>estimate_total_with_an_internet_subscription</th><th scope=col>estimate_total_no_internet_access</th><th scope=col>estimate_total_total_population_selected_age_categories_65_years_and_over</th><th scope=col>estimate_households_median_income_(dollars)</th></tr>\n",
       "\t<tr><th scope=col>&lt;chr&gt;</th><th scope=col>&lt;chr&gt;</th><th scope=col>&lt;dbl&gt;</th><th scope=col>&lt;dbl&gt;</th><th scope=col>&lt;dbl&gt;</th><th scope=col>&lt;dbl&gt;</th><th scope=col>&lt;dbl&gt;</th><th scope=col>&lt;dbl&gt;</th><th scope=col>&lt;dbl&gt;</th><th scope=col>&lt;dbl&gt;</th></tr>\n",
       "</thead>\n",
       "<tbody>\n",
       "\t<tr><td>53001950100</td><td>9501   </td><td>2577</td><td> 96</td><td>943</td><td> 97</td><td>855</td><td>136</td><td>500</td><td>56458</td></tr>\n",
       "\t<tr><td>53001950200</td><td>9502   </td><td>1794</td><td> 39</td><td>497</td><td> 67</td><td>436</td><td>121</td><td>233</td><td>62794</td></tr>\n",
       "\t<tr><td>53001950301</td><td>9503.01</td><td>1790</td><td>  0</td><td>367</td><td>202</td><td>412</td><td>141</td><td>251</td><td>48083</td></tr>\n",
       "\t<tr><td>53001950302</td><td>9503.02</td><td>2738</td><td>  3</td><td>684</td><td> 69</td><td>620</td><td>123</td><td>309</td><td>47663</td></tr>\n",
       "\t<tr><td>53001950303</td><td>9503.03</td><td>2555</td><td>110</td><td>658</td><td> 24</td><td>583</td><td> 90</td><td>270</td><td>53665</td></tr>\n",
       "\t<tr><td>53001950400</td><td>9504   </td><td>3100</td><td> 26</td><td>799</td><td> 96</td><td>760</td><td>116</td><td>305</td><td>67188</td></tr>\n",
       "</tbody>\n",
       "</table>\n"
      ],
      "text/latex": [
       "A tibble: 6 × 10\n",
       "\\begin{tabular}{llllllllll}\n",
       " GEOID & tract & estimate\\_total & estimate\\_total\\_worked\\_from\\_home & estimate\\_total\\_has\\_a\\_computer & estimate\\_total\\_no\\_computer & estimate\\_total\\_with\\_an\\_internet\\_subscription & estimate\\_total\\_no\\_internet\\_access & estimate\\_total\\_total\\_population\\_selected\\_age\\_categories\\_65\\_years\\_and\\_over & estimate\\_households\\_median\\_income\\_(dollars)\\\\\n",
       " <chr> & <chr> & <dbl> & <dbl> & <dbl> & <dbl> & <dbl> & <dbl> & <dbl> & <dbl>\\\\\n",
       "\\hline\n",
       "\t 53001950100 & 9501    & 2577 &  96 & 943 &  97 & 855 & 136 & 500 & 56458\\\\\n",
       "\t 53001950200 & 9502    & 1794 &  39 & 497 &  67 & 436 & 121 & 233 & 62794\\\\\n",
       "\t 53001950301 & 9503.01 & 1790 &   0 & 367 & 202 & 412 & 141 & 251 & 48083\\\\\n",
       "\t 53001950302 & 9503.02 & 2738 &   3 & 684 &  69 & 620 & 123 & 309 & 47663\\\\\n",
       "\t 53001950303 & 9503.03 & 2555 & 110 & 658 &  24 & 583 &  90 & 270 & 53665\\\\\n",
       "\t 53001950400 & 9504    & 3100 &  26 & 799 &  96 & 760 & 116 & 305 & 67188\\\\\n",
       "\\end{tabular}\n"
      ],
      "text/markdown": [
       "\n",
       "A tibble: 6 × 10\n",
       "\n",
       "| GEOID &lt;chr&gt; | tract &lt;chr&gt; | estimate_total &lt;dbl&gt; | estimate_total_worked_from_home &lt;dbl&gt; | estimate_total_has_a_computer &lt;dbl&gt; | estimate_total_no_computer &lt;dbl&gt; | estimate_total_with_an_internet_subscription &lt;dbl&gt; | estimate_total_no_internet_access &lt;dbl&gt; | estimate_total_total_population_selected_age_categories_65_years_and_over &lt;dbl&gt; | estimate_households_median_income_(dollars) &lt;dbl&gt; |\n",
       "|---|---|---|---|---|---|---|---|---|---|\n",
       "| 53001950100 | 9501    | 2577 |  96 | 943 |  97 | 855 | 136 | 500 | 56458 |\n",
       "| 53001950200 | 9502    | 1794 |  39 | 497 |  67 | 436 | 121 | 233 | 62794 |\n",
       "| 53001950301 | 9503.01 | 1790 |   0 | 367 | 202 | 412 | 141 | 251 | 48083 |\n",
       "| 53001950302 | 9503.02 | 2738 |   3 | 684 |  69 | 620 | 123 | 309 | 47663 |\n",
       "| 53001950303 | 9503.03 | 2555 | 110 | 658 |  24 | 583 |  90 | 270 | 53665 |\n",
       "| 53001950400 | 9504    | 3100 |  26 | 799 |  96 | 760 | 116 | 305 | 67188 |\n",
       "\n"
      ],
      "text/plain": [
       "  GEOID       tract   estimate_total estimate_total_worked_from_home\n",
       "1 53001950100 9501    2577            96                            \n",
       "2 53001950200 9502    1794            39                            \n",
       "3 53001950301 9503.01 1790             0                            \n",
       "4 53001950302 9503.02 2738             3                            \n",
       "5 53001950303 9503.03 2555           110                            \n",
       "6 53001950400 9504    3100            26                            \n",
       "  estimate_total_has_a_computer estimate_total_no_computer\n",
       "1 943                            97                       \n",
       "2 497                            67                       \n",
       "3 367                           202                       \n",
       "4 684                            69                       \n",
       "5 658                            24                       \n",
       "6 799                            96                       \n",
       "  estimate_total_with_an_internet_subscription\n",
       "1 855                                         \n",
       "2 436                                         \n",
       "3 412                                         \n",
       "4 620                                         \n",
       "5 583                                         \n",
       "6 760                                         \n",
       "  estimate_total_no_internet_access\n",
       "1 136                              \n",
       "2 121                              \n",
       "3 141                              \n",
       "4 123                              \n",
       "5  90                              \n",
       "6 116                              \n",
       "  estimate_total_total_population_selected_age_categories_65_years_and_over\n",
       "1 500                                                                      \n",
       "2 233                                                                      \n",
       "3 251                                                                      \n",
       "4 309                                                                      \n",
       "5 270                                                                      \n",
       "6 305                                                                      \n",
       "  estimate_households_median_income_(dollars)\n",
       "1 56458                                      \n",
       "2 62794                                      \n",
       "3 48083                                      \n",
       "4 47663                                      \n",
       "5 53665                                      \n",
       "6 67188                                      "
      ]
     },
     "metadata": {},
     "output_type": "display_data"
    }
   ],
   "source": [
    "census_data <- census_data %>% inner_join(variable_data, by = c(\"variable\" = \"variable_key\"))\n",
    "\n",
    "census_data <- census_data %>%\n",
    "    select(GEOID, estimate, variable = variable.y)\n",
    "\n",
    "tract_data <- tracts(state = \"washington\", county = counties, progress_bar = FALSE, cb = FALSE)\n",
    "\n",
    "tract_data <- tract_data %>%\n",
    "    select(GEOID, tract = NAME)\n",
    "\n",
    "census_data <- inner_join(census_data, tract_data)\n",
    "\n",
    "census_data <- st_drop_geometry(census_data)\n",
    "\n",
    "census_data <- census_data %>%\n",
    "    pivot_wider(names_from = variable, values_from = estimate) %>%\n",
    "    select(-geometry)\n",
    "\n",
    "head(census_data)"
   ]
  },
  {
   "cell_type": "code",
   "execution_count": 35,
   "metadata": {
    "vscode": {
     "languageId": "r"
    }
   },
   "outputs": [],
   "source": [
    "census_data <- census_data %>% \n",
    "    rename(\n",
    "        total_population = estimate_total,\n",
    "        work_from_home = estimate_total_worked_from_home,\n",
    "        has_computer = estimate_total_has_a_computer,\n",
    "        no_computer = estimate_total_no_computer,\n",
    "        with_internet = estimate_total_with_an_internet_subscription,\n",
    "        no_internet_access = estimate_total_no_internet_access,\n",
    "        sixty_five_and_older = estimate_total_total_population_selected_age_categories_65_years_and_over,                                                           \n",
    "        median_income = \"estimate_households_median_income_(dollars)\"                                                                                       \n",
    "    )"
   ]
  },
  {
   "cell_type": "code",
   "execution_count": 36,
   "metadata": {
    "vscode": {
     "languageId": "r"
    }
   },
   "outputs": [
    {
     "data": {
      "text/html": [
       "<table class=\"dataframe\">\n",
       "<caption>A tibble: 6 × 10</caption>\n",
       "<thead>\n",
       "\t<tr><th scope=col>GEOID</th><th scope=col>tract</th><th scope=col>total_population</th><th scope=col>work_from_home</th><th scope=col>has_computer</th><th scope=col>no_computer</th><th scope=col>with_internet</th><th scope=col>no_internet_access</th><th scope=col>sixty_five_and_older</th><th scope=col>median_income</th></tr>\n",
       "\t<tr><th scope=col>&lt;chr&gt;</th><th scope=col>&lt;chr&gt;</th><th scope=col>&lt;dbl&gt;</th><th scope=col>&lt;dbl&gt;</th><th scope=col>&lt;dbl&gt;</th><th scope=col>&lt;dbl&gt;</th><th scope=col>&lt;dbl&gt;</th><th scope=col>&lt;dbl&gt;</th><th scope=col>&lt;dbl&gt;</th><th scope=col>&lt;dbl&gt;</th></tr>\n",
       "</thead>\n",
       "<tbody>\n",
       "\t<tr><td>53001950100</td><td>9501   </td><td>2577</td><td> 96</td><td>943</td><td> 97</td><td>855</td><td>136</td><td>500</td><td>56458</td></tr>\n",
       "\t<tr><td>53001950200</td><td>9502   </td><td>1794</td><td> 39</td><td>497</td><td> 67</td><td>436</td><td>121</td><td>233</td><td>62794</td></tr>\n",
       "\t<tr><td>53001950301</td><td>9503.01</td><td>1790</td><td>  0</td><td>367</td><td>202</td><td>412</td><td>141</td><td>251</td><td>48083</td></tr>\n",
       "\t<tr><td>53001950302</td><td>9503.02</td><td>2738</td><td>  3</td><td>684</td><td> 69</td><td>620</td><td>123</td><td>309</td><td>47663</td></tr>\n",
       "\t<tr><td>53001950303</td><td>9503.03</td><td>2555</td><td>110</td><td>658</td><td> 24</td><td>583</td><td> 90</td><td>270</td><td>53665</td></tr>\n",
       "\t<tr><td>53001950400</td><td>9504   </td><td>3100</td><td> 26</td><td>799</td><td> 96</td><td>760</td><td>116</td><td>305</td><td>67188</td></tr>\n",
       "</tbody>\n",
       "</table>\n"
      ],
      "text/latex": [
       "A tibble: 6 × 10\n",
       "\\begin{tabular}{llllllllll}\n",
       " GEOID & tract & total\\_population & work\\_from\\_home & has\\_computer & no\\_computer & with\\_internet & no\\_internet\\_access & sixty\\_five\\_and\\_older & median\\_income\\\\\n",
       " <chr> & <chr> & <dbl> & <dbl> & <dbl> & <dbl> & <dbl> & <dbl> & <dbl> & <dbl>\\\\\n",
       "\\hline\n",
       "\t 53001950100 & 9501    & 2577 &  96 & 943 &  97 & 855 & 136 & 500 & 56458\\\\\n",
       "\t 53001950200 & 9502    & 1794 &  39 & 497 &  67 & 436 & 121 & 233 & 62794\\\\\n",
       "\t 53001950301 & 9503.01 & 1790 &   0 & 367 & 202 & 412 & 141 & 251 & 48083\\\\\n",
       "\t 53001950302 & 9503.02 & 2738 &   3 & 684 &  69 & 620 & 123 & 309 & 47663\\\\\n",
       "\t 53001950303 & 9503.03 & 2555 & 110 & 658 &  24 & 583 &  90 & 270 & 53665\\\\\n",
       "\t 53001950400 & 9504    & 3100 &  26 & 799 &  96 & 760 & 116 & 305 & 67188\\\\\n",
       "\\end{tabular}\n"
      ],
      "text/markdown": [
       "\n",
       "A tibble: 6 × 10\n",
       "\n",
       "| GEOID &lt;chr&gt; | tract &lt;chr&gt; | total_population &lt;dbl&gt; | work_from_home &lt;dbl&gt; | has_computer &lt;dbl&gt; | no_computer &lt;dbl&gt; | with_internet &lt;dbl&gt; | no_internet_access &lt;dbl&gt; | sixty_five_and_older &lt;dbl&gt; | median_income &lt;dbl&gt; |\n",
       "|---|---|---|---|---|---|---|---|---|---|\n",
       "| 53001950100 | 9501    | 2577 |  96 | 943 |  97 | 855 | 136 | 500 | 56458 |\n",
       "| 53001950200 | 9502    | 1794 |  39 | 497 |  67 | 436 | 121 | 233 | 62794 |\n",
       "| 53001950301 | 9503.01 | 1790 |   0 | 367 | 202 | 412 | 141 | 251 | 48083 |\n",
       "| 53001950302 | 9503.02 | 2738 |   3 | 684 |  69 | 620 | 123 | 309 | 47663 |\n",
       "| 53001950303 | 9503.03 | 2555 | 110 | 658 |  24 | 583 |  90 | 270 | 53665 |\n",
       "| 53001950400 | 9504    | 3100 |  26 | 799 |  96 | 760 | 116 | 305 | 67188 |\n",
       "\n"
      ],
      "text/plain": [
       "  GEOID       tract   total_population work_from_home has_computer no_computer\n",
       "1 53001950100 9501    2577              96            943           97        \n",
       "2 53001950200 9502    1794              39            497           67        \n",
       "3 53001950301 9503.01 1790               0            367          202        \n",
       "4 53001950302 9503.02 2738               3            684           69        \n",
       "5 53001950303 9503.03 2555             110            658           24        \n",
       "6 53001950400 9504    3100              26            799           96        \n",
       "  with_internet no_internet_access sixty_five_and_older median_income\n",
       "1 855           136                500                  56458        \n",
       "2 436           121                233                  62794        \n",
       "3 412           141                251                  48083        \n",
       "4 620           123                309                  47663        \n",
       "5 583            90                270                  53665        \n",
       "6 760           116                305                  67188        "
      ]
     },
     "metadata": {},
     "output_type": "display_data"
    }
   ],
   "source": [
    "head(census_data)"
   ]
  },
  {
   "cell_type": "code",
   "execution_count": 37,
   "metadata": {
    "vscode": {
     "languageId": "r"
    }
   },
   "outputs": [
    {
     "data": {
      "text/plain": [
       "    GEOID              tract           total_population work_from_home \n",
       " Length:183         Length:183         Min.   :1235     Min.   :  0.0  \n",
       " Class :character   Class :character   1st Qu.:2740     1st Qu.: 91.0  \n",
       " Mode  :character   Mode  :character   Median :3553     Median :142.0  \n",
       "                                       Mean   :3836     Mean   :172.4  \n",
       "                                       3rd Qu.:4640     3rd Qu.:227.5  \n",
       "                                       Max.   :8591     Max.   :593.0  \n",
       "                                                                       \n",
       "  has_computer   no_computer     with_internet  no_internet_access\n",
       " Min.   : 207   Min.   :  0.00   Min.   : 140   Min.   :  0.0     \n",
       " 1st Qu.:1005   1st Qu.: 37.50   1st Qu.: 920   1st Qu.: 66.5     \n",
       " Median :1315   Median : 77.00   Median :1234   Median :121.0     \n",
       " Mean   :1413   Mean   : 91.55   Mean   :1328   Mean   :136.3     \n",
       " 3rd Qu.:1826   3rd Qu.:122.50   3rd Qu.:1694   3rd Qu.:200.5     \n",
       " Max.   :3611   Max.   :371.00   Max.   :3254   Max.   :457.0     \n",
       "                                                                  \n",
       " sixty_five_and_older median_income   \n",
       " Min.   :   0.0       Min.   : 13910  \n",
       " 1st Qu.: 422.0       1st Qu.: 49570  \n",
       " Median : 619.0       Median : 60846  \n",
       " Mean   : 645.8       Mean   : 64328  \n",
       " 3rd Qu.: 861.0       3rd Qu.: 75210  \n",
       " Max.   :1503.0       Max.   :139904  \n",
       "                      NA's   :1       "
      ]
     },
     "metadata": {},
     "output_type": "display_data"
    }
   ],
   "source": [
    "summary(census_data)"
   ]
  },
  {
   "cell_type": "code",
   "execution_count": 38,
   "metadata": {
    "vscode": {
     "languageId": "r"
    }
   },
   "outputs": [],
   "source": [
    "census_data$median_income[is.na(census_data$median_income)] <- mean(census_data$median_income, na.rm=TRUE)\n"
   ]
  },
  {
   "cell_type": "code",
   "execution_count": 39,
   "metadata": {
    "vscode": {
     "languageId": "r"
    }
   },
   "outputs": [
    {
     "data": {
      "text/plain": [
       "    GEOID              tract           total_population work_from_home \n",
       " Length:183         Length:183         Min.   :1235     Min.   :  0.0  \n",
       " Class :character   Class :character   1st Qu.:2740     1st Qu.: 91.0  \n",
       " Mode  :character   Mode  :character   Median :3553     Median :142.0  \n",
       "                                       Mean   :3836     Mean   :172.4  \n",
       "                                       3rd Qu.:4640     3rd Qu.:227.5  \n",
       "                                       Max.   :8591     Max.   :593.0  \n",
       "  has_computer   no_computer     with_internet  no_internet_access\n",
       " Min.   : 207   Min.   :  0.00   Min.   : 140   Min.   :  0.0     \n",
       " 1st Qu.:1005   1st Qu.: 37.50   1st Qu.: 920   1st Qu.: 66.5     \n",
       " Median :1315   Median : 77.00   Median :1234   Median :121.0     \n",
       " Mean   :1413   Mean   : 91.55   Mean   :1328   Mean   :136.3     \n",
       " 3rd Qu.:1826   3rd Qu.:122.50   3rd Qu.:1694   3rd Qu.:200.5     \n",
       " Max.   :3611   Max.   :371.00   Max.   :3254   Max.   :457.0     \n",
       " sixty_five_and_older median_income   \n",
       " Min.   :   0.0       Min.   : 13910  \n",
       " 1st Qu.: 422.0       1st Qu.: 49578  \n",
       " Median : 619.0       Median : 60850  \n",
       " Mean   : 645.8       Mean   : 64328  \n",
       " 3rd Qu.: 861.0       3rd Qu.: 75063  \n",
       " Max.   :1503.0       Max.   :139904  "
      ]
     },
     "metadata": {},
     "output_type": "display_data"
    }
   ],
   "source": [
    "summary(census_data)"
   ]
  },
  {
   "cell_type": "code",
   "execution_count": 40,
   "metadata": {
    "vscode": {
     "languageId": "r"
    }
   },
   "outputs": [],
   "source": [
    "write.csv(census_data, \"../data/census_data.csv\")"
   ]
  }
 ],
 "metadata": {
  "kernelspec": {
   "display_name": "R",
   "language": "R",
   "name": "ir"
  },
  "language_info": {
   "codemirror_mode": "r",
   "file_extension": ".r",
   "mimetype": "text/x-r-source",
   "name": "R",
   "pygments_lexer": "r",
   "version": "4.2.2"
  },
  "orig_nbformat": 4
 },
 "nbformat": 4,
 "nbformat_minor": 2
}
