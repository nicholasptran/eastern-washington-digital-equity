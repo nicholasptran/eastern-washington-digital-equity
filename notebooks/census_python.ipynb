{
 "cells": [
  {
   "cell_type": "code",
   "execution_count": 1,
   "metadata": {},
   "outputs": [],
   "source": [
    "import pandas as pd\n",
    "import geopandas as gpd\n",
    "from census import Census\n",
    "from us import states\n",
    "\n",
    "c = Census(\"771ac44f4c55670ec890af7951073be949e5130c\")"
   ]
  },
  {
   "attachments": {},
   "cell_type": "markdown",
   "metadata": {},
   "source": [
    "https://pygis.io/docs/d_access_census.html\n",
    "\n",
    "https://api.census.gov/data/2020/acs/acs5/variables.html\n",
    "\n",
    "https://api.census.gov/data/2020/acs/acs5/subject/variables.html\n",
    "\n",
    "https://unicede.air-worldwide.com/unicede/unicede_washington_fips.html"
   ]
  },
  {
   "cell_type": "code",
   "execution_count": 22,
   "metadata": {},
   "outputs": [],
   "source": [
    "COUNTIES = (\"001\", \"003\", \"019\", \"023\", \"043\", \"051\", \"063\", \"065\", \"075\")\n"
   ]
  },
  {
   "cell_type": "code",
   "execution_count": 23,
   "metadata": {},
   "outputs": [],
   "source": [
    "acs5_data = c.acs5.state_county_tract(\n",
    "    fields=(\n",
    "        \"NAME\",\n",
    "        \"B28003_002E\",\n",
    "        \"B28003_006E\",\n",
    "        \"B28011_002E\",\n",
    "        \"B28011_008E\",\n",
    "        \"B01003_001E\",\n",
    "        \"B08101_049E\",\n",
    "    ),\n",
    "    state_fips=states.WA.fips,\n",
    "    county_fips=\"*\",\n",
    "    tract=\"*\",\n",
    "    year=2020,\n",
    ")\n"
   ]
  },
  {
   "cell_type": "code",
   "execution_count": 24,
   "metadata": {},
   "outputs": [],
   "source": [
    "acs5s_data = c.acs5st.state_county_tract(\n",
    "    fields=(\n",
    "        \"NAME\",\n",
    "        \"S0101_C01_030E\",\n",
    "        \"S1901_C01_012E\",\n",
    "    ),\n",
    "    state_fips=states.WA.fips,\n",
    "    county_fips=\"*\",\n",
    "    tract=\"*\",\n",
    "    year=2020,\n",
    ")\n"
   ]
  },
  {
   "cell_type": "code",
   "execution_count": 25,
   "metadata": {},
   "outputs": [],
   "source": [
    "variable_data = acs5_data + acs5s_data\n"
   ]
  },
  {
   "cell_type": "code",
   "execution_count": 26,
   "metadata": {},
   "outputs": [],
   "source": [
    "acs5_data = pd.DataFrame(acs5_data)\n",
    "acs5s_data = pd.DataFrame(acs5s_data)\n"
   ]
  },
  {
   "cell_type": "code",
   "execution_count": 27,
   "metadata": {},
   "outputs": [
    {
     "data": {
      "text/html": [
       "<div>\n",
       "<style scoped>\n",
       "    .dataframe tbody tr th:only-of-type {\n",
       "        vertical-align: middle;\n",
       "    }\n",
       "\n",
       "    .dataframe tbody tr th {\n",
       "        vertical-align: top;\n",
       "    }\n",
       "\n",
       "    .dataframe thead th {\n",
       "        text-align: right;\n",
       "    }\n",
       "</style>\n",
       "<table border=\"1\" class=\"dataframe\">\n",
       "  <thead>\n",
       "    <tr style=\"text-align: right;\">\n",
       "      <th></th>\n",
       "      <th>NAME</th>\n",
       "      <th>GEOID</th>\n",
       "      <th>tract</th>\n",
       "      <th>B28003_002E</th>\n",
       "      <th>B28003_006E</th>\n",
       "      <th>B28011_002E</th>\n",
       "      <th>B28011_008E</th>\n",
       "      <th>B01003_001E</th>\n",
       "      <th>B08101_049E</th>\n",
       "      <th>S0101_C01_030E</th>\n",
       "      <th>S1901_C01_012E</th>\n",
       "    </tr>\n",
       "  </thead>\n",
       "  <tbody>\n",
       "    <tr>\n",
       "      <th>0</th>\n",
       "      <td>Census Tract 9601, Asotin County, Washington</td>\n",
       "      <td>53003960100</td>\n",
       "      <td>960100</td>\n",
       "      <td>1664.0</td>\n",
       "      <td>118.0</td>\n",
       "      <td>1569.0</td>\n",
       "      <td>183.0</td>\n",
       "      <td>4320.0</td>\n",
       "      <td>145.0</td>\n",
       "      <td>1337.0</td>\n",
       "      <td>73942.0</td>\n",
       "    </tr>\n",
       "    <tr>\n",
       "      <th>1</th>\n",
       "      <td>Census Tract 9602, Asotin County, Washington</td>\n",
       "      <td>53003960200</td>\n",
       "      <td>960200</td>\n",
       "      <td>1872.0</td>\n",
       "      <td>142.0</td>\n",
       "      <td>1780.0</td>\n",
       "      <td>222.0</td>\n",
       "      <td>4755.0</td>\n",
       "      <td>421.0</td>\n",
       "      <td>1352.0</td>\n",
       "      <td>72988.0</td>\n",
       "    </tr>\n",
       "    <tr>\n",
       "      <th>2</th>\n",
       "      <td>Census Tract 9603, Asotin County, Washington</td>\n",
       "      <td>53003960300</td>\n",
       "      <td>960300</td>\n",
       "      <td>1279.0</td>\n",
       "      <td>85.0</td>\n",
       "      <td>1156.0</td>\n",
       "      <td>192.0</td>\n",
       "      <td>3633.0</td>\n",
       "      <td>6.0</td>\n",
       "      <td>396.0</td>\n",
       "      <td>38077.0</td>\n",
       "    </tr>\n",
       "    <tr>\n",
       "      <th>3</th>\n",
       "      <td>Census Tract 9604, Asotin County, Washington</td>\n",
       "      <td>53003960400</td>\n",
       "      <td>960400</td>\n",
       "      <td>941.0</td>\n",
       "      <td>53.0</td>\n",
       "      <td>805.0</td>\n",
       "      <td>180.0</td>\n",
       "      <td>2517.0</td>\n",
       "      <td>29.0</td>\n",
       "      <td>647.0</td>\n",
       "      <td>38777.0</td>\n",
       "    </tr>\n",
       "    <tr>\n",
       "      <th>4</th>\n",
       "      <td>Census Tract 9605, Asotin County, Washington</td>\n",
       "      <td>53003960500</td>\n",
       "      <td>960500</td>\n",
       "      <td>1345.0</td>\n",
       "      <td>181.0</td>\n",
       "      <td>1198.0</td>\n",
       "      <td>304.0</td>\n",
       "      <td>3517.0</td>\n",
       "      <td>26.0</td>\n",
       "      <td>635.0</td>\n",
       "      <td>42639.0</td>\n",
       "    </tr>\n",
       "  </tbody>\n",
       "</table>\n",
       "</div>"
      ],
      "text/plain": [
       "                                           NAME        GEOID   tract  \\\n",
       "0  Census Tract 9601, Asotin County, Washington  53003960100  960100   \n",
       "1  Census Tract 9602, Asotin County, Washington  53003960200  960200   \n",
       "2  Census Tract 9603, Asotin County, Washington  53003960300  960300   \n",
       "3  Census Tract 9604, Asotin County, Washington  53003960400  960400   \n",
       "4  Census Tract 9605, Asotin County, Washington  53003960500  960500   \n",
       "\n",
       "   B28003_002E  B28003_006E  B28011_002E  B28011_008E  B01003_001E  \\\n",
       "0       1664.0        118.0       1569.0        183.0       4320.0   \n",
       "1       1872.0        142.0       1780.0        222.0       4755.0   \n",
       "2       1279.0         85.0       1156.0        192.0       3633.0   \n",
       "3        941.0         53.0        805.0        180.0       2517.0   \n",
       "4       1345.0        181.0       1198.0        304.0       3517.0   \n",
       "\n",
       "   B08101_049E  S0101_C01_030E  S1901_C01_012E  \n",
       "0        145.0          1337.0         73942.0  \n",
       "1        421.0          1352.0         72988.0  \n",
       "2          6.0           396.0         38077.0  \n",
       "3         29.0           647.0         38777.0  \n",
       "4         26.0           635.0         42639.0  "
      ]
     },
     "execution_count": 27,
     "metadata": {},
     "output_type": "execute_result"
    }
   ],
   "source": [
    "data = pd.merge(acs5_data, acs5s_data)\n",
    "\n",
    "data[\"GEOID\"] = data.state + data.county + data.tract\n",
    "\n",
    "data = data[\n",
    "    [\n",
    "        \"NAME\",\n",
    "        \"GEOID\",\n",
    "        \"tract\",\n",
    "        \"B28003_002E\",\n",
    "        \"B28003_006E\",\n",
    "        \"B28011_002E\",\n",
    "        \"B28011_008E\",\n",
    "        \"B01003_001E\",\n",
    "        \"B08101_049E\",\n",
    "        \"S0101_C01_030E\",\n",
    "        \"S1901_C01_012E\",\n",
    "        \"state\",\n",
    "        \"county\",\n",
    "    ]\n",
    "]\n",
    "\n",
    "data = data[data.county.isin(COUNTIES)].drop(columns=[\"state\", \"county\"])\n",
    "\n",
    "data.head()\n"
   ]
  },
  {
   "cell_type": "code",
   "execution_count": 28,
   "metadata": {},
   "outputs": [
    {
     "data": {
      "text/plain": [
       "['NAME',\n",
       " 'GEOID',\n",
       " 'tract',\n",
       " 'B28003_002E',\n",
       " 'B28003_006E',\n",
       " 'B28011_002E',\n",
       " 'B28011_008E',\n",
       " 'B01003_001E',\n",
       " 'B08101_049E',\n",
       " 'S0101_C01_030E',\n",
       " 'S1901_C01_012E']"
      ]
     },
     "execution_count": 28,
     "metadata": {},
     "output_type": "execute_result"
    }
   ],
   "source": [
    "data.columns.tolist()\n"
   ]
  },
  {
   "cell_type": "code",
   "execution_count": 29,
   "metadata": {},
   "outputs": [],
   "source": [
    "data = data.rename(\n",
    "    columns={\n",
    "        \"B28003_002E\": \"has_computer\",\n",
    "        \"B28003_006E\": \"no_computer\",\n",
    "        \"B28011_002E\": \"with_internet\",\n",
    "        \"B28011_008E\": \"no_internet\",\n",
    "        \"B01003_001E\": \"total_population\",\n",
    "        \"B08101_049E\": \"work_from_home\",\n",
    "        \"S0101_C01_030E\": \"65_and_older\",\n",
    "        \"S1901_C01_012E\": \"median_income\",\n",
    "    }\n",
    ")"
   ]
  },
  {
   "cell_type": "code",
   "execution_count": 35,
   "metadata": {},
   "outputs": [
    {
     "data": {
      "text/plain": [
       "NAME                False\n",
       "GEOID               False\n",
       "tract               False\n",
       "has_computer        False\n",
       "no_computer         False\n",
       "with_internet       False\n",
       "no_internet         False\n",
       "total_population    False\n",
       "work_from_home      False\n",
       "65_and_older        False\n",
       "median_income       False\n",
       "dtype: bool"
      ]
     },
     "execution_count": 35,
     "metadata": {},
     "output_type": "execute_result"
    }
   ],
   "source": [
    "data.isna().any()"
   ]
  },
  {
   "cell_type": "code",
   "execution_count": 31,
   "metadata": {},
   "outputs": [],
   "source": [
    "data.to_csv(\"../data/census_data.csv\", index=False)"
   ]
  }
 ],
 "metadata": {
  "kernelspec": {
   "display_name": "washington-digital-equity-T8Bkn3ac-py3.11",
   "language": "python",
   "name": "python3"
  },
  "language_info": {
   "codemirror_mode": {
    "name": "ipython",
    "version": 3
   },
   "file_extension": ".py",
   "mimetype": "text/x-python",
   "name": "python",
   "nbconvert_exporter": "python",
   "pygments_lexer": "ipython3",
   "version": "3.11.3"
  },
  "orig_nbformat": 4
 },
 "nbformat": 4,
 "nbformat_minor": 2
}
