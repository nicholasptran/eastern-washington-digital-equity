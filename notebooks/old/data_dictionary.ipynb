{
 "cells": [
  {
   "cell_type": "code",
   "execution_count": 6,
   "metadata": {
    "vscode": {
     "languageId": "r"
    }
   },
   "outputs": [],
   "source": [
    "library(tidyverse)\n",
    "\n",
    "census_data <- read.csv(\"../data/combined_data.csv\")\n",
    "census_data <- census_data[4:25]"
   ]
  },
  {
   "cell_type": "code",
   "execution_count": 8,
   "metadata": {
    "vscode": {
     "languageId": "r"
    }
   },
   "outputs": [],
   "source": [
    "variable <- names(census_data)"
   ]
  },
  {
   "cell_type": "code",
   "execution_count": 9,
   "metadata": {
    "vscode": {
     "languageId": "r"
    }
   },
   "outputs": [
    {
     "data": {
      "text/html": [
       "<style>\n",
       ".list-inline {list-style: none; margin:0; padding: 0}\n",
       ".list-inline>li {display: inline-block}\n",
       ".list-inline>li:not(:last-child)::after {content: \"\\00b7\"; padding: 0 .5ex}\n",
       "</style>\n",
       "<ol class=list-inline><li>'not_citizen'</li><li>'naturalized_citizen'</li><li>'native_citizen'</li><li>'foreign_born'</li><li>'work_from_home'</li><li>'desktop_or_laptop'</li><li>'desktop_or_laptop_only'</li><li>'smartphone'</li><li>'smartphone_only'</li><li>'tablet_or_portable'</li><li>'has_computer'</li><li>'no_computer'</li><li>'internet_subscription'</li><li>'dial_up'</li><li>'broadband'</li><li>'satellite'</li><li>'other_internet_service'</li><li>'access_with_no_subscription'</li><li>'no_internet_access'</li><li>'sixty_five_and_older'</li><li>'median_income'</li><li>'mean_income'</li></ol>\n"
      ],
      "text/latex": [
       "\\begin{enumerate*}\n",
       "\\item 'not\\_citizen'\n",
       "\\item 'naturalized\\_citizen'\n",
       "\\item 'native\\_citizen'\n",
       "\\item 'foreign\\_born'\n",
       "\\item 'work\\_from\\_home'\n",
       "\\item 'desktop\\_or\\_laptop'\n",
       "\\item 'desktop\\_or\\_laptop\\_only'\n",
       "\\item 'smartphone'\n",
       "\\item 'smartphone\\_only'\n",
       "\\item 'tablet\\_or\\_portable'\n",
       "\\item 'has\\_computer'\n",
       "\\item 'no\\_computer'\n",
       "\\item 'internet\\_subscription'\n",
       "\\item 'dial\\_up'\n",
       "\\item 'broadband'\n",
       "\\item 'satellite'\n",
       "\\item 'other\\_internet\\_service'\n",
       "\\item 'access\\_with\\_no\\_subscription'\n",
       "\\item 'no\\_internet\\_access'\n",
       "\\item 'sixty\\_five\\_and\\_older'\n",
       "\\item 'median\\_income'\n",
       "\\item 'mean\\_income'\n",
       "\\end{enumerate*}\n"
      ],
      "text/markdown": [
       "1. 'not_citizen'\n",
       "2. 'naturalized_citizen'\n",
       "3. 'native_citizen'\n",
       "4. 'foreign_born'\n",
       "5. 'work_from_home'\n",
       "6. 'desktop_or_laptop'\n",
       "7. 'desktop_or_laptop_only'\n",
       "8. 'smartphone'\n",
       "9. 'smartphone_only'\n",
       "10. 'tablet_or_portable'\n",
       "11. 'has_computer'\n",
       "12. 'no_computer'\n",
       "13. 'internet_subscription'\n",
       "14. 'dial_up'\n",
       "15. 'broadband'\n",
       "16. 'satellite'\n",
       "17. 'other_internet_service'\n",
       "18. 'access_with_no_subscription'\n",
       "19. 'no_internet_access'\n",
       "20. 'sixty_five_and_older'\n",
       "21. 'median_income'\n",
       "22. 'mean_income'\n",
       "\n",
       "\n"
      ],
      "text/plain": [
       " [1] \"not_citizen\"                 \"naturalized_citizen\"        \n",
       " [3] \"native_citizen\"              \"foreign_born\"               \n",
       " [5] \"work_from_home\"              \"desktop_or_laptop\"          \n",
       " [7] \"desktop_or_laptop_only\"      \"smartphone\"                 \n",
       " [9] \"smartphone_only\"             \"tablet_or_portable\"         \n",
       "[11] \"has_computer\"                \"no_computer\"                \n",
       "[13] \"internet_subscription\"       \"dial_up\"                    \n",
       "[15] \"broadband\"                   \"satellite\"                  \n",
       "[17] \"other_internet_service\"      \"access_with_no_subscription\"\n",
       "[19] \"no_internet_access\"          \"sixty_five_and_older\"       \n",
       "[21] \"median_income\"               \"mean_income\"                "
      ]
     },
     "metadata": {},
     "output_type": "display_data"
    }
   ],
   "source": [
    "variable"
   ]
  },
  {
   "cell_type": "code",
   "execution_count": 10,
   "metadata": {
    "vscode": {
     "languageId": "r"
    }
   },
   "outputs": [],
   "source": [
    "description <- c(\n",
    "    \"The estimate total of those who are not a U.S citizen per tract\",\n",
    "    \"The estimate total of those who have become U.S citizens per tract\",\n",
    "    \"The estimate total of those who are born U.S citizens per tract\",\n",
    "    \"The estimate total of those who are foreign born/ not from the U.S per tract\",\n",
    "    \"The estimate total of those who work from home per tract\",\n",
    "    \"The estimate total of those who have one or more types of laptop or computer\",\n",
    "    \"The estimate total of those with one or more laptop or computer or laptop with no other computing device\",\n",
    "    \"The estimate total of those who have smartphone and computing device\",\n",
    "    \"the estimate total of those who have a smartphone and no other computing device\",\n",
    "    \"the estimate total of those who have a computing device or tablet\",\n",
    "    \"the estimate total of those who have a computer\",\n",
    "    \"the estimate total of those who have no computer\",\n",
    "    \"the estimate total of those who have internet subscription\",\n",
    "    \"the estimate total of those who have dial-up alone\",\n",
    "    \"the estimate total of those who have broadband such as cable, fiber optic\",\n",
    "    \"the estimate total of those who have satellite internet service\",\n",
    "    \"the estimate total of those who have other service\",\n",
    "    \"the estimate total of those who do not have internet subscription\",\n",
    "    \"the estimate total of those with no internet access\",\n",
    "    \"selected category of those who are 65 years and older\",\n",
    "    \"the estimated median household income\",\n",
    "    \"the estimated mean household income\"\n",
    ")"
   ]
  },
  {
   "cell_type": "code",
   "execution_count": 12,
   "metadata": {
    "vscode": {
     "languageId": "r"
    }
   },
   "outputs": [],
   "source": [
    "data_dictionary <- data.frame(variable, description)"
   ]
  },
  {
   "cell_type": "code",
   "execution_count": 13,
   "metadata": {
    "vscode": {
     "languageId": "r"
    }
   },
   "outputs": [
    {
     "data": {
      "text/html": [
       "<table class=\"dataframe\">\n",
       "<caption>A data.frame: 6 × 2</caption>\n",
       "<thead>\n",
       "\t<tr><th></th><th scope=col>variable</th><th scope=col>description</th></tr>\n",
       "\t<tr><th></th><th scope=col>&lt;chr&gt;</th><th scope=col>&lt;chr&gt;</th></tr>\n",
       "</thead>\n",
       "<tbody>\n",
       "\t<tr><th scope=row>1</th><td>not_citizen        </td><td>The estimate total of those who are not a U.S citizen per tract             </td></tr>\n",
       "\t<tr><th scope=row>2</th><td>naturalized_citizen</td><td>The estimate total of those who have beome U.S citizens per tract           </td></tr>\n",
       "\t<tr><th scope=row>3</th><td>native_citizen     </td><td>The estimate total of those who are born U.S citizens per tract             </td></tr>\n",
       "\t<tr><th scope=row>4</th><td>foreign_born       </td><td>The estimate total of those who are foreign born/ not from the U.S per tract</td></tr>\n",
       "\t<tr><th scope=row>5</th><td>work_from_home     </td><td>The estimate total of those who work from home per tract                    </td></tr>\n",
       "\t<tr><th scope=row>6</th><td>desktop_or_laptop  </td><td>The estimate total of those who have one or more types of laptop or computer</td></tr>\n",
       "</tbody>\n",
       "</table>\n"
      ],
      "text/latex": [
       "A data.frame: 6 × 2\n",
       "\\begin{tabular}{r|ll}\n",
       "  & variable & description\\\\\n",
       "  & <chr> & <chr>\\\\\n",
       "\\hline\n",
       "\t1 & not\\_citizen         & The estimate total of those who are not a U.S citizen per tract             \\\\\n",
       "\t2 & naturalized\\_citizen & The estimate total of those who have beome U.S citizens per tract           \\\\\n",
       "\t3 & native\\_citizen      & The estimate total of those who are born U.S citizens per tract             \\\\\n",
       "\t4 & foreign\\_born        & The estimate total of those who are foreign born/ not from the U.S per tract\\\\\n",
       "\t5 & work\\_from\\_home      & The estimate total of those who work from home per tract                    \\\\\n",
       "\t6 & desktop\\_or\\_laptop   & The estimate total of those who have one or more types of laptop or computer\\\\\n",
       "\\end{tabular}\n"
      ],
      "text/markdown": [
       "\n",
       "A data.frame: 6 × 2\n",
       "\n",
       "| <!--/--> | variable &lt;chr&gt; | description &lt;chr&gt; |\n",
       "|---|---|---|\n",
       "| 1 | not_citizen         | The estimate total of those who are not a U.S citizen per tract              |\n",
       "| 2 | naturalized_citizen | The estimate total of those who have beome U.S citizens per tract            |\n",
       "| 3 | native_citizen      | The estimate total of those who are born U.S citizens per tract              |\n",
       "| 4 | foreign_born        | The estimate total of those who are foreign born/ not from the U.S per tract |\n",
       "| 5 | work_from_home      | The estimate total of those who work from home per tract                     |\n",
       "| 6 | desktop_or_laptop   | The estimate total of those who have one or more types of laptop or computer |\n",
       "\n"
      ],
      "text/plain": [
       "  variable           \n",
       "1 not_citizen        \n",
       "2 naturalized_citizen\n",
       "3 native_citizen     \n",
       "4 foreign_born       \n",
       "5 work_from_home     \n",
       "6 desktop_or_laptop  \n",
       "  description                                                                 \n",
       "1 The estimate total of those who are not a U.S citizen per tract             \n",
       "2 The estimate total of those who have beome U.S citizens per tract           \n",
       "3 The estimate total of those who are born U.S citizens per tract             \n",
       "4 The estimate total of those who are foreign born/ not from the U.S per tract\n",
       "5 The estimate total of those who work from home per tract                    \n",
       "6 The estimate total of those who have one or more types of laptop or computer"
      ]
     },
     "metadata": {},
     "output_type": "display_data"
    }
   ],
   "source": [
    "head(data_dictionary)"
   ]
  },
  {
   "cell_type": "code",
   "execution_count": 14,
   "metadata": {
    "vscode": {
     "languageId": "r"
    }
   },
   "outputs": [],
   "source": [
    "# write.csv(data_dictionary, \"../data/data_dictionary.csv\")"
   ]
  }
 ],
 "metadata": {
  "kernelspec": {
   "display_name": "R",
   "language": "R",
   "name": "ir"
  },
  "language_info": {
   "codemirror_mode": "r",
   "file_extension": ".r",
   "mimetype": "text/x-r-source",
   "name": "R",
   "pygments_lexer": "r",
   "version": "4.2.2"
  },
  "orig_nbformat": 4,
  "vscode": {
   "interpreter": {
    "hash": "31f2aee4e71d21fbe5cf8b01ff0e069b9275f58929596ceb00d14d90e3e16cd6"
   }
  }
 },
 "nbformat": 4,
 "nbformat_minor": 2
}
