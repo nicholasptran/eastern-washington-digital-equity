{
 "cells": [
  {
   "cell_type": "code",
   "execution_count": 3,
   "metadata": {
    "vscode": {
     "languageId": "r"
    }
   },
   "outputs": [
    {
     "name": "stderr",
     "output_type": "stream",
     "text": [
      "Installing package into ‘/usr/local/lib/R/site-library’\n",
      "(as ‘lib’ is unspecified)\n",
      "\n",
      "also installing the dependencies ‘tigris’, ‘survey’, ‘srvyr’\n",
      "\n",
      "\n",
      "Warning message in install.packages(c(\"tidycensus\"), dependencies = TRUE, INSTALL_opts = \"--no-lock\"):\n",
      "“installation of package ‘tigris’ had non-zero exit status”\n"
     ]
    }
   ],
   "source": [
    "install.packages(c(\"tidycensus\", \"tigris\", \"mapview\", \"rgdal\"), dependencies = TRUE, INSTALL_opts = \"--no-lock\")"
   ]
  },
  {
   "cell_type": "code",
   "execution_count": 1,
   "metadata": {
    "vscode": {
     "languageId": "r"
    }
   },
   "outputs": [
    {
     "name": "stderr",
     "output_type": "stream",
     "text": [
      "Installing package into ‘/usr/local/lib/R/site-library’\n",
      "(as ‘lib’ is unspecified)\n",
      "\n",
      "Warning message in install.packages(\"tigris\"):\n",
      "“installation of package ‘tigris’ had non-zero exit status”\n"
     ]
    }
   ],
   "source": [
    "options(\"install.lock\" = FALSE)\n",
    "install.packages(\"tigris\")"
   ]
  },
  {
   "cell_type": "code",
   "execution_count": 2,
   "metadata": {
    "vscode": {
     "languageId": "r"
    }
   },
   "outputs": [
    {
     "ename": "ERROR",
     "evalue": "Error in library(tidycensus): there is no package called ‘tidycensus’\n",
     "output_type": "error",
     "traceback": [
      "Error in library(tidycensus): there is no package called ‘tidycensus’\nTraceback:\n",
      "1. library(tidycensus)"
     ]
    }
   ],
   "source": [
    "library(tidycensus)\n",
    "library(tidyverse)\n",
    "library(tigris)\n",
    "library(mapview)\n",
    "library(rgdal)\n",
    "options(tigris_use_cache = TRUE)\n",
    "\n",
    "counties <- c(\n",
    "  \"adams\", \"asotin\", \"ferry\", \"garfield\", \"lincoln\",\n",
    "  \"pend oreille\", \"spokane\", \"stevens\", \"whitman\"\n",
    ")\n",
    "\n",
    "getCensusData <- function(variable) {\n",
    "  census_data <- get_acs(\n",
    "    geography = \"tract\",\n",
    "    variable = variable,\n",
    "    year = 2020,\n",
    "    state = \"WA\",\n",
    "    survey = \"acs5\",\n",
    "    geometry = TRUE,\n",
    "    cache_table = TRUE\n",
    "  ) %>%\n",
    "    separate(NAME, c(\"tract\", \"county\", \"state\"), sep = \",\") %>%\n",
    "    mutate(\n",
    "      tract = gsub(\"Census Tract \", \"\", tract),\n",
    "      tract = as.double(tract),\n",
    "      county = tolower(county),\n",
    "      county = gsub(\" county\", \"\", county),\n",
    "      county = gsub(\" \", \"\", county)\n",
    "    ) %>%\n",
    "    filter(county %in% counties)\n",
    "\n",
    "\n",
    "  return(census_data)\n",
    "}"
   ]
  },
  {
   "cell_type": "code",
   "execution_count": 2,
   "metadata": {
    "vscode": {
     "languageId": "r"
    }
   },
   "outputs": [
    {
     "name": "stderr",
     "output_type": "stream",
     "text": [
      "Getting data from the 2016-2020 5-year ACS\n",
      "\n"
     ]
    }
   ],
   "source": [
    "geometry_data <- getCensusData(\"B05011_001\") %>% \n",
    "    select(tract, county, geometry)"
   ]
  },
  {
   "cell_type": "code",
   "execution_count": 4,
   "metadata": {
    "vscode": {
     "languageId": "r"
    }
   },
   "outputs": [
    {
     "name": "stderr",
     "output_type": "stream",
     "text": [
      "Retrieving data for the year 2021\n",
      "\n"
     ]
    }
   ],
   "source": [
    "wa <- tracts('wa')\n",
    "mapviewOptions(georaster = FALSE)\n",
    "mapview(wa)"
   ]
  }
 ],
 "metadata": {
  "kernelspec": {
   "display_name": "R",
   "language": "R",
   "name": "ir"
  },
  "language_info": {
   "codemirror_mode": "r",
   "file_extension": ".r",
   "mimetype": "text/x-r-source",
   "name": "R",
   "pygments_lexer": "r",
   "version": "4.3.0"
  },
  "orig_nbformat": 4
 },
 "nbformat": 4,
 "nbformat_minor": 2
}
