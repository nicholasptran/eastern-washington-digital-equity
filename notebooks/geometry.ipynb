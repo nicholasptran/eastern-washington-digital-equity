{
 "cells": [
  {
   "cell_type": "code",
   "execution_count": 1,
   "metadata": {
    "vscode": {
     "languageId": "r"
    }
   },
   "outputs": [
    {
     "name": "stderr",
     "output_type": "stream",
     "text": [
      "── \u001b[1mAttaching packages\u001b[22m ─────────────────────────────────────── tidyverse 1.3.1 ──\n",
      "\n",
      "\u001b[32m✔\u001b[39m \u001b[34mggplot2\u001b[39m 3.3.5     \u001b[32m✔\u001b[39m \u001b[34mpurrr  \u001b[39m 0.3.4\n",
      "\u001b[32m✔\u001b[39m \u001b[34mtibble \u001b[39m 3.1.7     \u001b[32m✔\u001b[39m \u001b[34mdplyr  \u001b[39m 1.0.9\n",
      "\u001b[32m✔\u001b[39m \u001b[34mtidyr  \u001b[39m 1.2.0     \u001b[32m✔\u001b[39m \u001b[34mstringr\u001b[39m 1.4.0\n",
      "\u001b[32m✔\u001b[39m \u001b[34mreadr  \u001b[39m 2.1.2     \u001b[32m✔\u001b[39m \u001b[34mforcats\u001b[39m 0.5.1\n",
      "\n",
      "── \u001b[1mConflicts\u001b[22m ────────────────────────────────────────── tidyverse_conflicts() ──\n",
      "\u001b[31m✖\u001b[39m \u001b[34mdplyr\u001b[39m::\u001b[32mfilter()\u001b[39m masks \u001b[34mstats\u001b[39m::filter()\n",
      "\u001b[31m✖\u001b[39m \u001b[34mdplyr\u001b[39m::\u001b[32mlag()\u001b[39m    masks \u001b[34mstats\u001b[39m::lag()\n",
      "\n",
      "To enable caching of data, set `options(tigris_use_cache = TRUE)`\n",
      "in your R script or .Rprofile.\n",
      "\n",
      "Loading required package: sp\n",
      "\n",
      "Please note that rgdal will be retired during 2023,\n",
      "plan transition to sf/stars/terra functions using GDAL and PROJ\n",
      "at your earliest convenience.\n",
      "See https://r-spatial.org/r/2022/04/12/evolution.html and https://github.com/r-spatial/evolution\n",
      "rgdal: version: 1.6-4, (SVN revision 1196)\n",
      "Geospatial Data Abstraction Library extensions to R successfully loaded\n",
      "Loaded GDAL runtime: GDAL 3.0.4, released 2020/01/28\n",
      "Path to GDAL shared files: /usr/share/gdal\n",
      "GDAL binary built with GEOS: TRUE \n",
      "Loaded PROJ runtime: Rel. 6.3.1, February 10th, 2020, [PJ_VERSION: 631]\n",
      "Path to PROJ shared files: /usr/share/proj\n",
      "Linking to sp version:1.5-0\n",
      "To mute warnings of possible GDAL/OSR exportToProj4() degradation,\n",
      "use options(\"rgdal_show_exportToProj4_warnings\"=\"none\") before loading sp or rgdal.\n",
      "\n"
     ]
    }
   ],
   "source": [
    "library(tidycensus)\n",
    "library(tidyverse)\n",
    "library(tigris)\n",
    "library(mapview)\n",
    "library(rgdal)\n",
    "options(tigris_use_cache = TRUE)\n",
    "\n",
    "counties <- c(\n",
    "  \"adams\", \"asotin\", \"ferry\", \"garfield\", \"lincoln\",\n",
    "  \"pend oreille\", \"spokane\", \"stevens\", \"whitman\"\n",
    ")\n",
    "\n",
    "getCensusData <- function(variable) {\n",
    "  census_data <- get_acs(\n",
    "    geography = \"tract\",\n",
    "    variable = variable,\n",
    "    year = 2020,\n",
    "    state = \"WA\",\n",
    "    survey = \"acs5\",\n",
    "    geometry = TRUE,\n",
    "    cache_table = FALSE\n",
    "  ) %>%\n",
    "    separate(NAME, c(\"tract\", \"county\", \"state\"), sep = \",\") %>%\n",
    "    mutate(\n",
    "      tract = gsub(\"Census Tract \", \"\", tract),\n",
    "      tract = as.double(tract),\n",
    "      county = tolower(county),\n",
    "      county = gsub(\" county\", \"\", county),\n",
    "      county = gsub(\" \", \"\", county)\n",
    "    ) %>%\n",
    "    filter(county %in% counties)\n",
    "\n",
    "\n",
    "  return(census_data)\n",
    "}"
   ]
  },
  {
   "cell_type": "code",
   "execution_count": 2,
   "metadata": {
    "vscode": {
     "languageId": "r"
    }
   },
   "outputs": [
    {
     "name": "stderr",
     "output_type": "stream",
     "text": [
      "Getting data from the 2016-2020 5-year ACS\n",
      "\n"
     ]
    }
   ],
   "source": [
    "geometry_data <- getCensusData(\"B05011_001\") %>% \n",
    "    select(tract, county, geometry)"
   ]
  },
  {
   "cell_type": "code",
   "execution_count": 4,
   "metadata": {
    "vscode": {
     "languageId": "r"
    }
   },
   "outputs": [
    {
     "name": "stderr",
     "output_type": "stream",
     "text": [
      "Retrieving data for the year 2021\n",
      "\n"
     ]
    }
   ],
   "source": [
    "wa <- tracts('wa')\n",
    "mapviewOptions(georaster = FALSE)\n",
    "mapview(wa)"
   ]
  }
 ],
 "metadata": {
  "kernelspec": {
   "display_name": "R",
   "language": "R",
   "name": "ir"
  },
  "language_info": {
   "codemirror_mode": "r",
   "file_extension": ".r",
   "mimetype": "text/x-r-source",
   "name": "R",
   "pygments_lexer": "r",
   "version": "4.2.2"
  },
  "orig_nbformat": 4
 },
 "nbformat": 4,
 "nbformat_minor": 2
}
