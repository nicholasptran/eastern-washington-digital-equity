{
 "cells": [
  {
   "attachments": {},
   "cell_type": "markdown",
   "metadata": {
    "slideshow": {
     "slide_type": "slide"
    }
   },
   "source": [
    "# Eastern Washington Digital Equity\n",
    "\n",
    "## Nicholas Tran"
   ]
  },
  {
   "attachments": {},
   "cell_type": "markdown",
   "metadata": {
    "slideshow": {
     "slide_type": "slide"
    }
   },
   "source": [
    "# Preparation"
   ]
  },
  {
   "attachments": {},
   "cell_type": "markdown",
   "metadata": {
    "slideshow": {
     "slide_type": "subslide"
    }
   },
   "source": [
    "## Import The Modules"
   ]
  },
  {
   "cell_type": "code",
   "execution_count": 1271,
   "metadata": {},
   "outputs": [],
   "source": [
    "import numpy as np  # matrix and array manipulation\n",
    "import pandas as pd  # dataframe manipulation\n",
    "import plotly.express as px\n",
    "from mlxtend.feature_selection import SequentialFeatureSelector as SFS\n",
    "from pingouin import cronbach_alpha\n",
    "from scipy.stats import pearsonr\n",
    "from sklearn import linear_model as lm\n",
    "from sklearn.metrics import r2_score\n",
    "from sklearn.model_selection import train_test_split\n",
    "from sklearn.preprocessing import StandardScaler  # scale the data\n",
    "from statsmodels.stats.outliers_influence import variance_inflation_factor as VIF\n",
    "from factor_analyzer.factor_analyzer import (\n",
    "    calculate_kmo,\n",
    ")  # get measure of sampling adequacy\n",
    "\n",
    "# initialize the scaler\n",
    "scaler = StandardScaler()\n",
    "\n",
    "\n",
    "# use this as a method in corr() to get the pearson p values\n",
    "def pearsonr_pval(x, y):\n",
    "    return pearsonr(x, y)[1]\n",
    "\n",
    "\n",
    "# turn scientific notation into decimals\n",
    "pd.options.display.float_format = \"{:.10f}\".format"
   ]
  },
  {
   "attachments": {},
   "cell_type": "markdown",
   "metadata": {
    "slideshow": {
     "slide_type": "subslide"
    }
   },
   "source": [
    "## Import The Dataset"
   ]
  },
  {
   "cell_type": "code",
   "execution_count": 1272,
   "metadata": {},
   "outputs": [
    {
     "data": {
      "text/html": [
       "<div>\n",
       "<style scoped>\n",
       "    .dataframe tbody tr th:only-of-type {\n",
       "        vertical-align: middle;\n",
       "    }\n",
       "\n",
       "    .dataframe tbody tr th {\n",
       "        vertical-align: top;\n",
       "    }\n",
       "\n",
       "    .dataframe thead th {\n",
       "        text-align: right;\n",
       "    }\n",
       "</style>\n",
       "<table border=\"1\" class=\"dataframe\">\n",
       "  <thead>\n",
       "    <tr style=\"text-align: right;\">\n",
       "      <th></th>\n",
       "      <th>smartphone_only</th>\n",
       "      <th>has_computer</th>\n",
       "      <th>internet_subscription</th>\n",
       "      <th>median_income</th>\n",
       "      <th>mean_d_mbps</th>\n",
       "      <th>lowest_cost</th>\n",
       "    </tr>\n",
       "  </thead>\n",
       "  <tbody>\n",
       "    <tr>\n",
       "      <th>0</th>\n",
       "      <td>153</td>\n",
       "      <td>1023</td>\n",
       "      <td>910</td>\n",
       "      <td>52589.0000000000</td>\n",
       "      <td>62.6586413043</td>\n",
       "      <td>30.0000000000</td>\n",
       "    </tr>\n",
       "    <tr>\n",
       "      <th>1</th>\n",
       "      <td>68</td>\n",
       "      <td>548</td>\n",
       "      <td>487</td>\n",
       "      <td>59886.0000000000</td>\n",
       "      <td>61.9772073171</td>\n",
       "      <td>30.0000000000</td>\n",
       "    </tr>\n",
       "    <tr>\n",
       "      <th>2</th>\n",
       "      <td>76</td>\n",
       "      <td>318</td>\n",
       "      <td>327</td>\n",
       "      <td>39928.0000000000</td>\n",
       "      <td>88.0868093023</td>\n",
       "      <td>30.0000000000</td>\n",
       "    </tr>\n",
       "    <tr>\n",
       "      <th>3</th>\n",
       "      <td>132</td>\n",
       "      <td>566</td>\n",
       "      <td>515</td>\n",
       "      <td>58884.0000000000</td>\n",
       "      <td>87.0107878788</td>\n",
       "      <td>30.0000000000</td>\n",
       "    </tr>\n",
       "    <tr>\n",
       "      <th>4</th>\n",
       "      <td>97</td>\n",
       "      <td>608</td>\n",
       "      <td>557</td>\n",
       "      <td>50915.0000000000</td>\n",
       "      <td>74.1417594937</td>\n",
       "      <td>30.0000000000</td>\n",
       "    </tr>\n",
       "  </tbody>\n",
       "</table>\n",
       "</div>"
      ],
      "text/plain": [
       "   smartphone_only  has_computer  internet_subscription    median_income  \\\n",
       "0              153          1023                    910 52589.0000000000   \n",
       "1               68           548                    487 59886.0000000000   \n",
       "2               76           318                    327 39928.0000000000   \n",
       "3              132           566                    515 58884.0000000000   \n",
       "4               97           608                    557 50915.0000000000   \n",
       "\n",
       "    mean_d_mbps   lowest_cost  \n",
       "0 62.6586413043 30.0000000000  \n",
       "1 61.9772073171 30.0000000000  \n",
       "2 88.0868093023 30.0000000000  \n",
       "3 87.0107878788 30.0000000000  \n",
       "4 74.1417594937 30.0000000000  "
      ]
     },
     "execution_count": 1272,
     "metadata": {},
     "output_type": "execute_result"
    }
   ],
   "source": [
    "dataset = pd.read_csv(\"../data/combined_data.csv\")\n",
    "dataset = dataset.drop(\n",
    "    columns=[\n",
    "        \"GEOID\",\n",
    "        \"tract\",\n",
    "        # \"has_computer\",\n",
    "        \"smartphone\",\n",
    "        \"desktop_or_laptop\",\n",
    "        \"tablet_or_portable\",\n",
    "        \"foreign_born\",\n",
    "        \"broadband\",\n",
    "        # \"median_income\",\n",
    "        \"naturalized_citizen\",\n",
    "        \"native_citizen\",\n",
    "        \"desktop_or_laptop_only\",\n",
    "        \"satellite\",\n",
    "        \"dial_up\",\n",
    "        \"other_internet_service\",\n",
    "        \"not_citizen\",\n",
    "        \"no_internet_access\",\n",
    "        \"number_providers\",\n",
    "        \"mean_income\",\n",
    "        \"no_computer\",\n",
    "        # \"internet_subscription\",\n",
    "        \"work_from_home\",\n",
    "        \"mean_lat_ms\",\n",
    "        \"mean_u_mbps\",\n",
    "        \"access_with_no_subscription\",\n",
    "        \"sixty_five_and_older\"\n",
    "    ]\n",
    ")\n",
    "dataset.head()"
   ]
  },
  {
   "cell_type": "code",
   "execution_count": 1273,
   "metadata": {},
   "outputs": [
    {
     "data": {
      "text/plain": [
       "Index(['smartphone_only', 'has_computer', 'internet_subscription',\n",
       "       'median_income', 'mean_d_mbps', 'lowest_cost'],\n",
       "      dtype='object')"
      ]
     },
     "execution_count": 1273,
     "metadata": {},
     "output_type": "execute_result"
    }
   ],
   "source": [
    "dataset.columns"
   ]
  },
  {
   "attachments": {},
   "cell_type": "markdown",
   "metadata": {
    "slideshow": {
     "slide_type": "subslide"
    }
   },
   "source": [
    "## Create A Class for The Data"
   ]
  },
  {
   "cell_type": "code",
   "execution_count": 1274,
   "metadata": {},
   "outputs": [],
   "source": [
    "class PCA:\n",
    "    \"\"\"Input a df and get many things back.\n",
    "    https://stackoverflow.com/questions/13224362/principal-component-analysis-pca-in-python\n",
    "    \"\"\"\n",
    "\n",
    "    def __init__(self, df):\n",
    "        import numpy as np\n",
    "        from scipy import linalg as LA\n",
    "\n",
    "        self.data = df\n",
    "\n",
    "        # scale data\n",
    "        self.scaled = pd.DataFrame(scaler.fit_transform(df), columns=df.columns)\n",
    "\n",
    "        # kmo, total kmo\n",
    "        self.kmo, self.total_kmo = calculate_kmo(self.scaled)\n",
    "\n",
    "        # center data\n",
    "        self.center = self.scaled.apply(lambda x: x - x.mean())\n",
    "\n",
    "        # covariance\n",
    "        self.cov = pd.DataFrame(\n",
    "            np.cov(self.center, rowvar=False),\n",
    "            columns=self.scaled.columns,\n",
    "            index=self.scaled.columns,\n",
    "        )\n",
    "\n",
    "        # eigenvalues and loadings(eigenvectors)\n",
    "        self.eigenvalues, self.loadings = LA.eigh(self.cov)\n",
    "\n",
    "        # sort eigenvalues and loadings from\n",
    "        sorter = np.argsort(self.eigenvalues)[::-1]\n",
    "        self.loadings = self.loadings[:, sorter]\n",
    "        self.eigenvalues = self.eigenvalues[sorter]\n",
    "\n",
    "        pc_list = [\"pc\" + str(i + 1) for i in range(len(self.eigenvalues))]\n",
    "\n",
    "        # turn into dataframe\n",
    "        self.loadings = pd.DataFrame(\n",
    "            self.loadings, index=self.scaled.columns, columns=pc_list\n",
    "        )\n",
    "        self.eigenvalues = pd.DataFrame(self.eigenvalues, index=pc_list)\n",
    "\n",
    "        # pca scores - scaled data * loadings\n",
    "        self.scores = self.scaled @ self.loadings\n",
    "\n",
    "        # percent explained\n",
    "        explained_variance = self.eigenvalues / self.eigenvalues.sum() * 100\n",
    "        self.percent_explained = pd.DataFrame(explained_variance).round(2)\n",
    "\n",
    "        self.percent_explained[\n",
    "            \"cumulative_explained_variance\"\n",
    "        ] = self.percent_explained.cumsum().round(2)\n",
    "        self.percent_explained.columns.values[0] = \"explained_variance\"\n",
    "\n",
    "        # scree plot\n",
    "        self.scree = (\n",
    "            px.line(\n",
    "                self.percent_explained,\n",
    "                x=pc_list,\n",
    "                y=\"cumulative_explained_variance\",\n",
    "                text=\"cumulative_explained_variance\",\n",
    "                color=px.Constant(\"cumulative explained variance\"),\n",
    "            )\n",
    "            .update_traces(textposition=\"top left\")\n",
    "            .add_bar(\n",
    "                x=pc_list,\n",
    "                y=self.percent_explained.explained_variance,\n",
    "                name=\"explained variance\",\n",
    "                text=self.percent_explained.explained_variance,\n",
    "            )\n",
    "        )\n",
    "\n",
    "    def calculate_weights(self, number_of_components):\n",
    "        \"\"\"calculate coefficients using your eigenvalues. Multiplies each row by the respective\n",
    "        eigenvalue. Row 1 of loadings will be multiplied by eigenvalue 1. Row 2 with 2. You may\n",
    "        only use this when you have at least 2 pcs.\n",
    "\n",
    "        Args:\n",
    "            number_of_components (int): number of pcs you want to use.\n",
    "\n",
    "        Returns:\n",
    "            DataFrame: Returns a dataframe of weights.\n",
    "        \"\"\"\n",
    "        weights = (\n",
    "            self.loadings.iloc[:, 0:number_of_components]\n",
    "            .mul(\n",
    "                [\n",
    "                    float(self.eigenvalues.iloc[i, :])\n",
    "                    for i in range(len(self.eigenvalues))\n",
    "                ],\n",
    "                axis=0,\n",
    "            )\n",
    "            .sum(axis=1)\n",
    "        )\n",
    "        return weights\n",
    "\n",
    "\n",
    "data = PCA(dataset)\n",
    "# data.weights = data.calculate_weights(5)\n",
    "data.scaled[\"index\"] = data.scores.pc1\n"
   ]
  },
  {
   "attachments": {},
   "cell_type": "markdown",
   "metadata": {},
   "source": [
    "https://stackoverflow.com/questions/52741236/how-to-calculate-p-values-for-pairwise-correlation-of-columns-in-pandas"
   ]
  },
  {
   "cell_type": "code",
   "execution_count": 1275,
   "metadata": {},
   "outputs": [
    {
     "data": {
      "text/html": [
       "<div>\n",
       "<style scoped>\n",
       "    .dataframe tbody tr th:only-of-type {\n",
       "        vertical-align: middle;\n",
       "    }\n",
       "\n",
       "    .dataframe tbody tr th {\n",
       "        vertical-align: top;\n",
       "    }\n",
       "\n",
       "    .dataframe thead th {\n",
       "        text-align: right;\n",
       "    }\n",
       "</style>\n",
       "<table border=\"1\" class=\"dataframe\">\n",
       "  <thead>\n",
       "    <tr style=\"text-align: right;\">\n",
       "      <th></th>\n",
       "      <th>index</th>\n",
       "    </tr>\n",
       "  </thead>\n",
       "  <tbody>\n",
       "    <tr>\n",
       "      <th>smartphone_only</th>\n",
       "      <td>0.0000000001</td>\n",
       "    </tr>\n",
       "    <tr>\n",
       "      <th>has_computer</th>\n",
       "      <td>0.0000000000</td>\n",
       "    </tr>\n",
       "    <tr>\n",
       "      <th>internet_subscription</th>\n",
       "      <td>0.0000000000</td>\n",
       "    </tr>\n",
       "    <tr>\n",
       "      <th>median_income</th>\n",
       "      <td>0.2116759784</td>\n",
       "    </tr>\n",
       "    <tr>\n",
       "      <th>mean_d_mbps</th>\n",
       "      <td>0.0000000000</td>\n",
       "    </tr>\n",
       "    <tr>\n",
       "      <th>lowest_cost</th>\n",
       "      <td>0.0000000020</td>\n",
       "    </tr>\n",
       "    <tr>\n",
       "      <th>index</th>\n",
       "      <td>1.0000000000</td>\n",
       "    </tr>\n",
       "  </tbody>\n",
       "</table>\n",
       "</div>"
      ],
      "text/plain": [
       "                             index\n",
       "smartphone_only       0.0000000001\n",
       "has_computer          0.0000000000\n",
       "internet_subscription 0.0000000000\n",
       "median_income         0.2116759784\n",
       "mean_d_mbps           0.0000000000\n",
       "lowest_cost           0.0000000020\n",
       "index                 1.0000000000"
      ]
     },
     "execution_count": 1275,
     "metadata": {},
     "output_type": "execute_result"
    }
   ],
   "source": [
    "data.scaled.corr(pearsonr_pval).iloc[:, -1:]\n"
   ]
  },
  {
   "cell_type": "code",
   "execution_count": 1276,
   "metadata": {},
   "outputs": [
    {
     "data": {
      "text/html": [
       "<div>\n",
       "<style scoped>\n",
       "    .dataframe tbody tr th:only-of-type {\n",
       "        vertical-align: middle;\n",
       "    }\n",
       "\n",
       "    .dataframe tbody tr th {\n",
       "        vertical-align: top;\n",
       "    }\n",
       "\n",
       "    .dataframe thead th {\n",
       "        text-align: right;\n",
       "    }\n",
       "</style>\n",
       "<table border=\"1\" class=\"dataframe\">\n",
       "  <thead>\n",
       "    <tr style=\"text-align: right;\">\n",
       "      <th></th>\n",
       "      <th>index</th>\n",
       "    </tr>\n",
       "  </thead>\n",
       "  <tbody>\n",
       "    <tr>\n",
       "      <th>median_income</th>\n",
       "      <td>0.2116759784</td>\n",
       "    </tr>\n",
       "    <tr>\n",
       "      <th>index</th>\n",
       "      <td>1.0000000000</td>\n",
       "    </tr>\n",
       "  </tbody>\n",
       "</table>\n",
       "</div>"
      ],
      "text/plain": [
       "                     index\n",
       "median_income 0.2116759784\n",
       "index         1.0000000000"
      ]
     },
     "execution_count": 1276,
     "metadata": {},
     "output_type": "execute_result"
    }
   ],
   "source": [
    "pvals = data.scaled.corr(pearsonr_pval).loc[\n",
    "    data.scaled.corr(pearsonr_pval)[\"index\"] >= 0.05\n",
    "]\n",
    "pvals.loc[:, [\"index\"]]\n"
   ]
  },
  {
   "cell_type": "code",
   "execution_count": 1277,
   "metadata": {},
   "outputs": [
    {
     "data": {
      "text/plain": [
       "['median_income']"
      ]
     },
     "execution_count": 1277,
     "metadata": {},
     "output_type": "execute_result"
    }
   ],
   "source": [
    "insig_vars = list(pvals.index)\n",
    "# remove index col\n",
    "del insig_vars[-1]\n",
    "insig_vars"
   ]
  },
  {
   "cell_type": "code",
   "execution_count": 1278,
   "metadata": {},
   "outputs": [],
   "source": [
    "data2 = PCA(dataset.drop(insig_vars, axis=1))\n",
    "# data2.weights = -data2.calculate_weights(5)\n",
    "data.scaled[\"index\"] = data2.scores.pc1\n"
   ]
  },
  {
   "cell_type": "code",
   "execution_count": 1279,
   "metadata": {},
   "outputs": [],
   "source": [
    "# set y as index. we want to predict the index\n",
    "y = data.scaled[\"index\"]\n",
    "\n",
    "# set x as the data we will use to predict y\n",
    "X = data.scaled.drop(\"index\", axis=1)\n",
    "\n",
    "X_train, X_test, y_train, y_test = train_test_split(\n",
    "    X, y, test_size=0.5, random_state=55\n",
    ")\n",
    "X_test, X_valid, y_test, y_valid = train_test_split(\n",
    "    X_test, y_test, test_size=0.4, random_state=55\n",
    ")\n"
   ]
  },
  {
   "cell_type": "code",
   "execution_count": 1280,
   "metadata": {},
   "outputs": [
    {
     "name": "stdout",
     "output_type": "stream",
     "text": [
      "(91, 6) (55, 6) (37, 6)\n"
     ]
    }
   ],
   "source": [
    "print(X_train.shape, X_test.shape, X_valid.shape)\n"
   ]
  },
  {
   "cell_type": "code",
   "execution_count": 1281,
   "metadata": {},
   "outputs": [
    {
     "data": {
      "text/html": [
       "<style>#sk-container-id-54 {color: black;background-color: white;}#sk-container-id-54 pre{padding: 0;}#sk-container-id-54 div.sk-toggleable {background-color: white;}#sk-container-id-54 label.sk-toggleable__label {cursor: pointer;display: block;width: 100%;margin-bottom: 0;padding: 0.3em;box-sizing: border-box;text-align: center;}#sk-container-id-54 label.sk-toggleable__label-arrow:before {content: \"▸\";float: left;margin-right: 0.25em;color: #696969;}#sk-container-id-54 label.sk-toggleable__label-arrow:hover:before {color: black;}#sk-container-id-54 div.sk-estimator:hover label.sk-toggleable__label-arrow:before {color: black;}#sk-container-id-54 div.sk-toggleable__content {max-height: 0;max-width: 0;overflow: hidden;text-align: left;background-color: #f0f8ff;}#sk-container-id-54 div.sk-toggleable__content pre {margin: 0.2em;color: black;border-radius: 0.25em;background-color: #f0f8ff;}#sk-container-id-54 input.sk-toggleable__control:checked~div.sk-toggleable__content {max-height: 200px;max-width: 100%;overflow: auto;}#sk-container-id-54 input.sk-toggleable__control:checked~label.sk-toggleable__label-arrow:before {content: \"▾\";}#sk-container-id-54 div.sk-estimator input.sk-toggleable__control:checked~label.sk-toggleable__label {background-color: #d4ebff;}#sk-container-id-54 div.sk-label input.sk-toggleable__control:checked~label.sk-toggleable__label {background-color: #d4ebff;}#sk-container-id-54 input.sk-hidden--visually {border: 0;clip: rect(1px 1px 1px 1px);clip: rect(1px, 1px, 1px, 1px);height: 1px;margin: -1px;overflow: hidden;padding: 0;position: absolute;width: 1px;}#sk-container-id-54 div.sk-estimator {font-family: monospace;background-color: #f0f8ff;border: 1px dotted black;border-radius: 0.25em;box-sizing: border-box;margin-bottom: 0.5em;}#sk-container-id-54 div.sk-estimator:hover {background-color: #d4ebff;}#sk-container-id-54 div.sk-parallel-item::after {content: \"\";width: 100%;border-bottom: 1px solid gray;flex-grow: 1;}#sk-container-id-54 div.sk-label:hover label.sk-toggleable__label {background-color: #d4ebff;}#sk-container-id-54 div.sk-serial::before {content: \"\";position: absolute;border-left: 1px solid gray;box-sizing: border-box;top: 0;bottom: 0;left: 50%;z-index: 0;}#sk-container-id-54 div.sk-serial {display: flex;flex-direction: column;align-items: center;background-color: white;padding-right: 0.2em;padding-left: 0.2em;position: relative;}#sk-container-id-54 div.sk-item {position: relative;z-index: 1;}#sk-container-id-54 div.sk-parallel {display: flex;align-items: stretch;justify-content: center;background-color: white;position: relative;}#sk-container-id-54 div.sk-item::before, #sk-container-id-54 div.sk-parallel-item::before {content: \"\";position: absolute;border-left: 1px solid gray;box-sizing: border-box;top: 0;bottom: 0;left: 50%;z-index: -1;}#sk-container-id-54 div.sk-parallel-item {display: flex;flex-direction: column;z-index: 1;position: relative;background-color: white;}#sk-container-id-54 div.sk-parallel-item:first-child::after {align-self: flex-end;width: 50%;}#sk-container-id-54 div.sk-parallel-item:last-child::after {align-self: flex-start;width: 50%;}#sk-container-id-54 div.sk-parallel-item:only-child::after {width: 0;}#sk-container-id-54 div.sk-dashed-wrapped {border: 1px dashed gray;margin: 0 0.4em 0.5em 0.4em;box-sizing: border-box;padding-bottom: 0.4em;background-color: white;}#sk-container-id-54 div.sk-label label {font-family: monospace;font-weight: bold;display: inline-block;line-height: 1.2em;}#sk-container-id-54 div.sk-label-container {text-align: center;}#sk-container-id-54 div.sk-container {/* jupyter's `normalize.less` sets `[hidden] { display: none; }` but bootstrap.min.css set `[hidden] { display: none !important; }` so we also need the `!important` here to be able to override the default hidden behavior on the sphinx rendered scikit-learn.org. See: https://github.com/scikit-learn/scikit-learn/issues/21755 */display: inline-block !important;position: relative;}#sk-container-id-54 div.sk-text-repr-fallback {display: none;}</style><div id=\"sk-container-id-54\" class=\"sk-top-container\"><div class=\"sk-text-repr-fallback\"><pre>SequentialFeatureSelector(estimator=LinearRegression(), k_features=(1, 6),\n",
       "                          n_jobs=-1, scoring=&#x27;r2&#x27;)</pre><b>In a Jupyter environment, please rerun this cell to show the HTML representation or trust the notebook. <br />On GitHub, the HTML representation is unable to render, please try loading this page with nbviewer.org.</b></div><div class=\"sk-container\" hidden><div class=\"sk-item sk-dashed-wrapped\"><div class=\"sk-label-container\"><div class=\"sk-label sk-toggleable\"><input class=\"sk-toggleable__control sk-hidden--visually\" id=\"sk-estimator-id-160\" type=\"checkbox\" ><label for=\"sk-estimator-id-160\" class=\"sk-toggleable__label sk-toggleable__label-arrow\">SequentialFeatureSelector</label><div class=\"sk-toggleable__content\"><pre>SequentialFeatureSelector(estimator=LinearRegression(), k_features=(1, 6),\n",
       "                          n_jobs=-1, scoring=&#x27;r2&#x27;)</pre></div></div></div><div class=\"sk-parallel\"><div class=\"sk-parallel-item\"><div class=\"sk-item\"><div class=\"sk-label-container\"><div class=\"sk-label sk-toggleable\"><input class=\"sk-toggleable__control sk-hidden--visually\" id=\"sk-estimator-id-161\" type=\"checkbox\" ><label for=\"sk-estimator-id-161\" class=\"sk-toggleable__label sk-toggleable__label-arrow\">estimator: LinearRegression</label><div class=\"sk-toggleable__content\"><pre>LinearRegression()</pre></div></div></div><div class=\"sk-serial\"><div class=\"sk-item\"><div class=\"sk-estimator sk-toggleable\"><input class=\"sk-toggleable__control sk-hidden--visually\" id=\"sk-estimator-id-162\" type=\"checkbox\" ><label for=\"sk-estimator-id-162\" class=\"sk-toggleable__label sk-toggleable__label-arrow\">LinearRegression</label><div class=\"sk-toggleable__content\"><pre>LinearRegression()</pre></div></div></div></div></div></div></div></div></div></div>"
      ],
      "text/plain": [
       "SequentialFeatureSelector(estimator=LinearRegression(), k_features=(1, 6),\n",
       "                          n_jobs=-1, scoring='r2')"
      ]
     },
     "execution_count": 1281,
     "metadata": {},
     "output_type": "execute_result"
    }
   ],
   "source": [
    "lr = lm.LinearRegression()\n",
    "sfs = SFS(\n",
    "    lr,\n",
    "    k_features=\"parsimonious\",\n",
    "    verbose=0,\n",
    "    forward=True,\n",
    "    scoring=\"r2\",  # picks model on r2\n",
    "    cv=5,\n",
    "    n_jobs=-1,\n",
    ")\n",
    "\n",
    "sfs.fit(X_train, y_train)\n"
   ]
  },
  {
   "cell_type": "code",
   "execution_count": 1282,
   "metadata": {},
   "outputs": [
    {
     "data": {
      "text/html": [
       "<div>\n",
       "<style scoped>\n",
       "    .dataframe tbody tr th:only-of-type {\n",
       "        vertical-align: middle;\n",
       "    }\n",
       "\n",
       "    .dataframe tbody tr th {\n",
       "        vertical-align: top;\n",
       "    }\n",
       "\n",
       "    .dataframe thead th {\n",
       "        text-align: right;\n",
       "    }\n",
       "</style>\n",
       "<table border=\"1\" class=\"dataframe\">\n",
       "  <thead>\n",
       "    <tr style=\"text-align: right;\">\n",
       "      <th></th>\n",
       "      <th>feature_idx</th>\n",
       "      <th>cv_scores</th>\n",
       "      <th>avg_score</th>\n",
       "      <th>feature_names</th>\n",
       "      <th>ci_bound</th>\n",
       "      <th>std_dev</th>\n",
       "      <th>std_err</th>\n",
       "    </tr>\n",
       "  </thead>\n",
       "  <tbody>\n",
       "    <tr>\n",
       "      <th>1</th>\n",
       "      <td>(2,)</td>\n",
       "      <td>[0.8636428605026578, 0.8625727695477095, 0.792...</td>\n",
       "      <td>0.7826071473</td>\n",
       "      <td>(internet_subscription,)</td>\n",
       "      <td>0.0979585021</td>\n",
       "      <td>0.0762150426</td>\n",
       "      <td>0.0381075213</td>\n",
       "    </tr>\n",
       "    <tr>\n",
       "      <th>2</th>\n",
       "      <td>(2, 4)</td>\n",
       "      <td>[0.9145560770839453, 0.9308349949542637, 0.901...</td>\n",
       "      <td>0.9050131344</td>\n",
       "      <td>(internet_subscription, mean_d_mbps)</td>\n",
       "      <td>0.0283268459</td>\n",
       "      <td>0.0220392485</td>\n",
       "      <td>0.0110196242</td>\n",
       "    </tr>\n",
       "    <tr>\n",
       "      <th>3</th>\n",
       "      <td>(0, 2, 4)</td>\n",
       "      <td>[0.9705331012079685, 0.9742483151059728, 0.974...</td>\n",
       "      <td>0.9647925540</td>\n",
       "      <td>(smartphone_only, internet_subscription, mean_...</td>\n",
       "      <td>0.0160334716</td>\n",
       "      <td>0.0124745856</td>\n",
       "      <td>0.0062372928</td>\n",
       "    </tr>\n",
       "    <tr>\n",
       "      <th>4</th>\n",
       "      <td>(0, 2, 4, 5)</td>\n",
       "      <td>[0.9930161087428032, 0.9986653748346885, 0.997...</td>\n",
       "      <td>0.9966379223</td>\n",
       "      <td>(smartphone_only, internet_subscription, mean_...</td>\n",
       "      <td>0.0024756792</td>\n",
       "      <td>0.0019261625</td>\n",
       "      <td>0.0009630813</td>\n",
       "    </tr>\n",
       "    <tr>\n",
       "      <th>5</th>\n",
       "      <td>(0, 1, 2, 4, 5)</td>\n",
       "      <td>[1.0, 1.0, 1.0, 1.0, 1.0]</td>\n",
       "      <td>1.0000000000</td>\n",
       "      <td>(smartphone_only, has_computer, internet_subsc...</td>\n",
       "      <td>0.0000000000</td>\n",
       "      <td>0.0000000000</td>\n",
       "      <td>0.0000000000</td>\n",
       "    </tr>\n",
       "    <tr>\n",
       "      <th>6</th>\n",
       "      <td>(0, 1, 2, 3, 4, 5)</td>\n",
       "      <td>[1.0, 1.0, 1.0, 1.0, 1.0]</td>\n",
       "      <td>1.0000000000</td>\n",
       "      <td>(smartphone_only, has_computer, internet_subsc...</td>\n",
       "      <td>0.0000000000</td>\n",
       "      <td>0.0000000000</td>\n",
       "      <td>0.0000000000</td>\n",
       "    </tr>\n",
       "  </tbody>\n",
       "</table>\n",
       "</div>"
      ],
      "text/plain": [
       "          feature_idx                                          cv_scores  \\\n",
       "1                (2,)  [0.8636428605026578, 0.8625727695477095, 0.792...   \n",
       "2              (2, 4)  [0.9145560770839453, 0.9308349949542637, 0.901...   \n",
       "3           (0, 2, 4)  [0.9705331012079685, 0.9742483151059728, 0.974...   \n",
       "4        (0, 2, 4, 5)  [0.9930161087428032, 0.9986653748346885, 0.997...   \n",
       "5     (0, 1, 2, 4, 5)                          [1.0, 1.0, 1.0, 1.0, 1.0]   \n",
       "6  (0, 1, 2, 3, 4, 5)                          [1.0, 1.0, 1.0, 1.0, 1.0]   \n",
       "\n",
       "     avg_score                                      feature_names  \\\n",
       "1 0.7826071473                           (internet_subscription,)   \n",
       "2 0.9050131344               (internet_subscription, mean_d_mbps)   \n",
       "3 0.9647925540  (smartphone_only, internet_subscription, mean_...   \n",
       "4 0.9966379223  (smartphone_only, internet_subscription, mean_...   \n",
       "5 1.0000000000  (smartphone_only, has_computer, internet_subsc...   \n",
       "6 1.0000000000  (smartphone_only, has_computer, internet_subsc...   \n",
       "\n",
       "      ci_bound      std_dev      std_err  \n",
       "1 0.0979585021 0.0762150426 0.0381075213  \n",
       "2 0.0283268459 0.0220392485 0.0110196242  \n",
       "3 0.0160334716 0.0124745856 0.0062372928  \n",
       "4 0.0024756792 0.0019261625 0.0009630813  \n",
       "5 0.0000000000 0.0000000000 0.0000000000  \n",
       "6 0.0000000000 0.0000000000 0.0000000000  "
      ]
     },
     "execution_count": 1282,
     "metadata": {},
     "output_type": "execute_result"
    }
   ],
   "source": [
    "results = pd.DataFrame.from_dict(sfs.get_metric_dict()).T\n",
    "results\n"
   ]
  },
  {
   "cell_type": "code",
   "execution_count": 1283,
   "metadata": {},
   "outputs": [],
   "source": [
    "largest_before_1 = results[results[\"avg_score\"] != 1].tail(1).index.to_list()"
   ]
  },
  {
   "cell_type": "code",
   "execution_count": 1284,
   "metadata": {},
   "outputs": [],
   "source": [
    "largest_before_1 = largest_before_1[0] - 1"
   ]
  },
  {
   "cell_type": "code",
   "execution_count": 1285,
   "metadata": {},
   "outputs": [
    {
     "data": {
      "text/plain": [
       "['smartphone_only', 'internet_subscription', 'mean_d_mbps', 'lowest_cost']"
      ]
     },
     "execution_count": 1285,
     "metadata": {},
     "output_type": "execute_result"
    }
   ],
   "source": [
    "model_vars = list(results.iloc[largest_before_1, 3])\n",
    "model_vars"
   ]
  },
  {
   "cell_type": "code",
   "execution_count": 1286,
   "metadata": {},
   "outputs": [
    {
     "name": "stdout",
     "output_type": "stream",
     "text": [
      "adjr2: 0.9977256954801569\n"
     ]
    }
   ],
   "source": [
    "final_X = data.scaled[model_vars]\n",
    "final_y = data.scaled[\"index\"]\n",
    "model = lr\n",
    "model.fit(final_X, final_y)\n",
    "r2 = model.score(final_X, final_y)\n",
    "observations = final_X.shape[0]\n",
    "predictors = final_X.shape[1]\n",
    "adj_r2 = 1 - (1 - r2) * (observations - 1) / (observations - predictors - 1)\n",
    "print(f\"adjr2: {adj_r2}\")\n"
   ]
  },
  {
   "cell_type": "code",
   "execution_count": 1287,
   "metadata": {},
   "outputs": [
    {
     "data": {
      "text/html": [
       "<div>\n",
       "<style scoped>\n",
       "    .dataframe tbody tr th:only-of-type {\n",
       "        vertical-align: middle;\n",
       "    }\n",
       "\n",
       "    .dataframe tbody tr th {\n",
       "        vertical-align: top;\n",
       "    }\n",
       "\n",
       "    .dataframe thead th {\n",
       "        text-align: right;\n",
       "    }\n",
       "</style>\n",
       "<table border=\"1\" class=\"dataframe\">\n",
       "  <thead>\n",
       "    <tr style=\"text-align: right;\">\n",
       "      <th></th>\n",
       "      <th>0</th>\n",
       "      <th>vif</th>\n",
       "    </tr>\n",
       "  </thead>\n",
       "  <tbody>\n",
       "    <tr>\n",
       "      <th>smartphone_only</th>\n",
       "      <td>0.3404676945</td>\n",
       "      <td>1.1133086998</td>\n",
       "    </tr>\n",
       "    <tr>\n",
       "      <th>internet_subscription</th>\n",
       "      <td>1.1745197719</td>\n",
       "      <td>1.2547049713</td>\n",
       "    </tr>\n",
       "    <tr>\n",
       "      <th>mean_d_mbps</th>\n",
       "      <td>0.3574268631</td>\n",
       "      <td>1.4083506853</td>\n",
       "    </tr>\n",
       "    <tr>\n",
       "      <th>lowest_cost</th>\n",
       "      <td>0.2393861889</td>\n",
       "      <td>1.2807586769</td>\n",
       "    </tr>\n",
       "  </tbody>\n",
       "</table>\n",
       "</div>"
      ],
      "text/plain": [
       "                                 0          vif\n",
       "smartphone_only       0.3404676945 1.1133086998\n",
       "internet_subscription 1.1745197719 1.2547049713\n",
       "mean_d_mbps           0.3574268631 1.4083506853\n",
       "lowest_cost           0.2393861889 1.2807586769"
      ]
     },
     "execution_count": 1287,
     "metadata": {},
     "output_type": "execute_result"
    }
   ],
   "source": [
    "fin_df = pd.DataFrame(-model.coef_, model.feature_names_in_)\n",
    "fin_df[\"vif\"] = [VIF(final_X.values, i) for i in range(final_X.shape[1])]\n",
    "fin_df"
   ]
  },
  {
   "cell_type": "code",
   "execution_count": 1288,
   "metadata": {},
   "outputs": [
    {
     "name": "stderr",
     "output_type": "stream",
     "text": [
      "/tmp/ipykernel_72259/1205995849.py:4: SettingWithCopyWarning:\n",
      "\n",
      "\n",
      "A value is trying to be set on a copy of a slice from a DataFrame.\n",
      "Try using .loc[row_indexer,col_indexer] = value instead\n",
      "\n",
      "See the caveats in the documentation: https://pandas.pydata.org/pandas-docs/stable/user_guide/indexing.html#returning-a-view-versus-a-copy\n",
      "\n"
     ]
    }
   ],
   "source": [
    "coefficients = -model.coef_\n",
    "final_vars = list(model.feature_names_in_)\n",
    "final_data = data.scaled[final_vars]\n",
    "final_data[\"index\"] = final_data.mul(coefficients).sum(axis=1)"
   ]
  },
  {
   "cell_type": "code",
   "execution_count": 1289,
   "metadata": {},
   "outputs": [
    {
     "data": {
      "text/html": [
       "<div>\n",
       "<style scoped>\n",
       "    .dataframe tbody tr th:only-of-type {\n",
       "        vertical-align: middle;\n",
       "    }\n",
       "\n",
       "    .dataframe tbody tr th {\n",
       "        vertical-align: top;\n",
       "    }\n",
       "\n",
       "    .dataframe thead th {\n",
       "        text-align: right;\n",
       "    }\n",
       "</style>\n",
       "<table border=\"1\" class=\"dataframe\">\n",
       "  <thead>\n",
       "    <tr style=\"text-align: right;\">\n",
       "      <th></th>\n",
       "      <th>smartphone_only</th>\n",
       "      <th>internet_subscription</th>\n",
       "      <th>mean_d_mbps</th>\n",
       "      <th>lowest_cost</th>\n",
       "      <th>index</th>\n",
       "    </tr>\n",
       "  </thead>\n",
       "  <tbody>\n",
       "    <tr>\n",
       "      <th>0</th>\n",
       "      <td>0.5485540934</td>\n",
       "      <td>-0.7430128489</td>\n",
       "      <td>-1.6263184336</td>\n",
       "      <td>-0.9471266092</td>\n",
       "      <td>-1.4939372599</td>\n",
       "    </tr>\n",
       "    <tr>\n",
       "      <th>1</th>\n",
       "      <td>-0.4644767653</td>\n",
       "      <td>-1.5525370030</td>\n",
       "      <td>-1.6343848222</td>\n",
       "      <td>-0.9471266092</td>\n",
       "      <td>-2.7925268096</td>\n",
       "    </tr>\n",
       "    <tr>\n",
       "      <th>2</th>\n",
       "      <td>-0.3691326845</td>\n",
       "      <td>-1.8587399927</td>\n",
       "      <td>-1.3253157117</td>\n",
       "      <td>-0.9471266092</td>\n",
       "      <td>-3.0092370933</td>\n",
       "    </tr>\n",
       "    <tr>\n",
       "      <th>3</th>\n",
       "      <td>0.2982758812</td>\n",
       "      <td>-1.4989514798</td>\n",
       "      <td>-1.3380529792</td>\n",
       "      <td>-0.9471266092</td>\n",
       "      <td>-2.3639799570</td>\n",
       "    </tr>\n",
       "    <tr>\n",
       "      <th>4</th>\n",
       "      <td>-0.1188544723</td>\n",
       "      <td>-1.4185731950</td>\n",
       "      <td>-1.4903884747</td>\n",
       "      <td>-0.9471266092</td>\n",
       "      <td>-2.4660422804</td>\n",
       "    </tr>\n",
       "    <tr>\n",
       "      <th>...</th>\n",
       "      <td>...</td>\n",
       "      <td>...</td>\n",
       "      <td>...</td>\n",
       "      <td>...</td>\n",
       "      <td>...</td>\n",
       "    </tr>\n",
       "    <tr>\n",
       "      <th>178</th>\n",
       "      <td>-0.0354284016</td>\n",
       "      <td>0.6119353806</td>\n",
       "      <td>0.1229907201</td>\n",
       "      <td>-2.1620799491</td>\n",
       "      <td>0.2330560855</td>\n",
       "    </tr>\n",
       "    <tr>\n",
       "      <th>179</th>\n",
       "      <td>-0.7743450279</td>\n",
       "      <td>-0.1535720937</td>\n",
       "      <td>-0.8491271755</td>\n",
       "      <td>-2.1620799491</td>\n",
       "      <td>-1.2650858688</td>\n",
       "    </tr>\n",
       "    <tr>\n",
       "      <th>180</th>\n",
       "      <td>-0.3333786542</td>\n",
       "      <td>-0.3870518734</td>\n",
       "      <td>-1.8089348075</td>\n",
       "      <td>-2.1620799491</td>\n",
       "      <td>-1.7322387128</td>\n",
       "    </tr>\n",
       "    <tr>\n",
       "      <th>181</th>\n",
       "      <td>-0.1903625329</td>\n",
       "      <td>0.0301497001</td>\n",
       "      <td>-0.3223962253</td>\n",
       "      <td>-2.1620799491</td>\n",
       "      <td>-0.6622060245</td>\n",
       "    </tr>\n",
       "    <tr>\n",
       "      <th>182</th>\n",
       "      <td>-1.1080493108</td>\n",
       "      <td>-1.0779223689</td>\n",
       "      <td>-1.7649486239</td>\n",
       "      <td>-2.1620799491</td>\n",
       "      <td>-2.7917082586</td>\n",
       "    </tr>\n",
       "  </tbody>\n",
       "</table>\n",
       "<p>183 rows × 5 columns</p>\n",
       "</div>"
      ],
      "text/plain": [
       "     smartphone_only  internet_subscription   mean_d_mbps   lowest_cost  \\\n",
       "0       0.5485540934          -0.7430128489 -1.6263184336 -0.9471266092   \n",
       "1      -0.4644767653          -1.5525370030 -1.6343848222 -0.9471266092   \n",
       "2      -0.3691326845          -1.8587399927 -1.3253157117 -0.9471266092   \n",
       "3       0.2982758812          -1.4989514798 -1.3380529792 -0.9471266092   \n",
       "4      -0.1188544723          -1.4185731950 -1.4903884747 -0.9471266092   \n",
       "..               ...                    ...           ...           ...   \n",
       "178    -0.0354284016           0.6119353806  0.1229907201 -2.1620799491   \n",
       "179    -0.7743450279          -0.1535720937 -0.8491271755 -2.1620799491   \n",
       "180    -0.3333786542          -0.3870518734 -1.8089348075 -2.1620799491   \n",
       "181    -0.1903625329           0.0301497001 -0.3223962253 -2.1620799491   \n",
       "182    -1.1080493108          -1.0779223689 -1.7649486239 -2.1620799491   \n",
       "\n",
       "            index  \n",
       "0   -1.4939372599  \n",
       "1   -2.7925268096  \n",
       "2   -3.0092370933  \n",
       "3   -2.3639799570  \n",
       "4   -2.4660422804  \n",
       "..            ...  \n",
       "178  0.2330560855  \n",
       "179 -1.2650858688  \n",
       "180 -1.7322387128  \n",
       "181 -0.6622060245  \n",
       "182 -2.7917082586  \n",
       "\n",
       "[183 rows x 5 columns]"
      ]
     },
     "execution_count": 1289,
     "metadata": {},
     "output_type": "execute_result"
    }
   ],
   "source": [
    "final_data"
   ]
  },
  {
   "cell_type": "code",
   "execution_count": 1290,
   "metadata": {},
   "outputs": [
    {
     "data": {
      "text/plain": [
       "(0.772119544523206, array([0.715, 0.82 ]))"
      ]
     },
     "execution_count": 1290,
     "metadata": {},
     "output_type": "execute_result"
    }
   ],
   "source": [
    "cronbach_alpha(final_data)"
   ]
  }
 ],
 "metadata": {
  "kernelspec": {
   "display_name": "washington-digital-equity-T8Bkn3ac-py3.11",
   "language": "python",
   "name": "python3"
  },
  "language_info": {
   "codemirror_mode": {
    "name": "ipython",
    "version": 3
   },
   "file_extension": ".py",
   "mimetype": "text/x-python",
   "name": "python",
   "nbconvert_exporter": "python",
   "pygments_lexer": "ipython3",
   "version": "3.11.3"
  },
  "orig_nbformat": 4
 },
 "nbformat": 4,
 "nbformat_minor": 2
}
