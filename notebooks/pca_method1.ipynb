{
 "cells": [
  {
   "attachments": {},
   "cell_type": "markdown",
   "metadata": {
    "slideshow": {
     "slide_type": "slide"
    }
   },
   "source": [
    "# PCA - Method 1"
   ]
  },
  {
   "cell_type": "code",
   "execution_count": 1,
   "metadata": {
    "slideshow": {
     "slide_type": "skip"
    },
    "vscode": {
     "languageId": "r"
    }
   },
   "outputs": [
    {
     "name": "stderr",
     "output_type": "stream",
     "text": [
      "── \u001b[1mAttaching packages\u001b[22m ─────────────────────────────────────── tidyverse 1.3.1 ──\n",
      "\n",
      "\u001b[32m✔\u001b[39m \u001b[34mggplot2\u001b[39m 3.4.0     \u001b[32m✔\u001b[39m \u001b[34mpurrr  \u001b[39m 1.0.1\n",
      "\u001b[32m✔\u001b[39m \u001b[34mtibble \u001b[39m 3.1.7     \u001b[32m✔\u001b[39m \u001b[34mdplyr  \u001b[39m 1.0.9\n",
      "\u001b[32m✔\u001b[39m \u001b[34mtidyr  \u001b[39m 1.2.0     \u001b[32m✔\u001b[39m \u001b[34mstringr\u001b[39m 1.5.0\n",
      "\u001b[32m✔\u001b[39m \u001b[34mreadr  \u001b[39m 2.1.2     \u001b[32m✔\u001b[39m \u001b[34mforcats\u001b[39m 0.5.1\n",
      "\n",
      "── \u001b[1mConflicts\u001b[22m ────────────────────────────────────────── tidyverse_conflicts() ──\n",
      "\u001b[31m✖\u001b[39m \u001b[34mdplyr\u001b[39m::\u001b[32mfilter()\u001b[39m masks \u001b[34mstats\u001b[39m::filter()\n",
      "\u001b[31m✖\u001b[39m \u001b[34mdplyr\u001b[39m::\u001b[32mlag()\u001b[39m    masks \u001b[34mstats\u001b[39m::lag()\n",
      "\n",
      "\n",
      "Attaching package: ‘psych’\n",
      "\n",
      "\n",
      "The following objects are masked from ‘package:ggplot2’:\n",
      "\n",
      "    %+%, alpha\n",
      "\n",
      "\n",
      "Loading required package: lattice\n",
      "\n",
      "Loading required package: survival\n",
      "\n",
      "Loading required package: Formula\n",
      "\n",
      "\n",
      "Attaching package: ‘Hmisc’\n",
      "\n",
      "\n",
      "The following object is masked from ‘package:psych’:\n",
      "\n",
      "    describe\n",
      "\n",
      "\n",
      "The following objects are masked from ‘package:dplyr’:\n",
      "\n",
      "    src, summarize\n",
      "\n",
      "\n",
      "The following objects are masked from ‘package:base’:\n",
      "\n",
      "    format.pval, units\n",
      "\n",
      "\n"
     ]
    }
   ],
   "source": [
    "# load libraries\n",
    "library(tidyverse)\n",
    "library(psych)\n",
    "library(Hmisc)\n"
   ]
  },
  {
   "cell_type": "code",
   "execution_count": 35,
   "metadata": {
    "slideshow": {
     "slide_type": "slide"
    },
    "vscode": {
     "languageId": "r"
    }
   },
   "outputs": [
    {
     "data": {
      "text/html": [
       "<table class=\"dataframe\">\n",
       "<caption>A data.frame: 6 × 15</caption>\n",
       "<thead>\n",
       "\t<tr><th></th><th scope=col>NAME</th><th scope=col>GEOID</th><th scope=col>has_computer</th><th scope=col>no_computer</th><th scope=col>with_internet</th><th scope=col>no_internet</th><th scope=col>total_population</th><th scope=col>work_from_home</th><th scope=col>X65_and_older</th><th scope=col>median_income</th><th scope=col>number_providers</th><th scope=col>mean_lowest_cost</th><th scope=col>mean_d_mbps</th><th scope=col>mean_u_mbps</th><th scope=col>mean_lat_ms</th></tr>\n",
       "\t<tr><th></th><th scope=col>&lt;chr&gt;</th><th scope=col>&lt;dbl&gt;</th><th scope=col>&lt;dbl&gt;</th><th scope=col>&lt;dbl&gt;</th><th scope=col>&lt;dbl&gt;</th><th scope=col>&lt;dbl&gt;</th><th scope=col>&lt;dbl&gt;</th><th scope=col>&lt;dbl&gt;</th><th scope=col>&lt;dbl&gt;</th><th scope=col>&lt;dbl&gt;</th><th scope=col>&lt;dbl&gt;</th><th scope=col>&lt;dbl&gt;</th><th scope=col>&lt;dbl&gt;</th><th scope=col>&lt;dbl&gt;</th><th scope=col>&lt;dbl&gt;</th></tr>\n",
       "</thead>\n",
       "<tbody>\n",
       "\t<tr><th scope=row>1</th><td>Census Tract 9601, Asotin County, Washington</td><td>53003960100</td><td>1664</td><td>118</td><td>1569</td><td>183</td><td>4320</td><td>145</td><td>1337</td><td>73942</td><td>12</td><td>58.00000</td><td>110.3274</td><td>41.78210</td><td>0.05170445</td></tr>\n",
       "\t<tr><th scope=row>2</th><td>Census Tract 9602, Asotin County, Washington</td><td>53003960200</td><td>1872</td><td>142</td><td>1780</td><td>222</td><td>4755</td><td>421</td><td>1352</td><td>72988</td><td>13</td><td>60.07692</td><td>145.7848</td><td>22.88731</td><td>0.02462630</td></tr>\n",
       "\t<tr><th scope=row>3</th><td>Census Tract 9603, Asotin County, Washington</td><td>53003960300</td><td>1279</td><td> 85</td><td>1156</td><td>192</td><td>3633</td><td>  6</td><td> 396</td><td>38077</td><td>11</td><td>60.00000</td><td>173.4079</td><td>27.06202</td><td>0.02998058</td></tr>\n",
       "\t<tr><th scope=row>4</th><td>Census Tract 9604, Asotin County, Washington</td><td>53003960400</td><td> 941</td><td> 53</td><td> 805</td><td>180</td><td>2517</td><td> 29</td><td> 647</td><td>38777</td><td> 8</td><td>62.50000</td><td>127.6005</td><td>23.53829</td><td>0.02216379</td></tr>\n",
       "\t<tr><th scope=row>5</th><td>Census Tract 9605, Asotin County, Washington</td><td>53003960500</td><td>1345</td><td>181</td><td>1198</td><td>304</td><td>3517</td><td> 26</td><td> 635</td><td>42639</td><td> 8</td><td>62.50000</td><td>192.4299</td><td>21.68565</td><td>0.02166087</td></tr>\n",
       "\t<tr><th scope=row>6</th><td>Census Tract 9606, Asotin County, Washington</td><td>53003960600</td><td>1542</td><td> 64</td><td>1392</td><td>203</td><td>3894</td><td>115</td><td> 909</td><td>53947</td><td> 9</td><td>58.88889</td><td>151.0552</td><td>23.52123</td><td>0.02618557</td></tr>\n",
       "</tbody>\n",
       "</table>\n"
      ],
      "text/latex": [
       "A data.frame: 6 × 15\n",
       "\\begin{tabular}{r|lllllllllllllll}\n",
       "  & NAME & GEOID & has\\_computer & no\\_computer & with\\_internet & no\\_internet & total\\_population & work\\_from\\_home & X65\\_and\\_older & median\\_income & number\\_providers & mean\\_lowest\\_cost & mean\\_d\\_mbps & mean\\_u\\_mbps & mean\\_lat\\_ms\\\\\n",
       "  & <chr> & <dbl> & <dbl> & <dbl> & <dbl> & <dbl> & <dbl> & <dbl> & <dbl> & <dbl> & <dbl> & <dbl> & <dbl> & <dbl> & <dbl>\\\\\n",
       "\\hline\n",
       "\t1 & Census Tract 9601, Asotin County, Washington & 53003960100 & 1664 & 118 & 1569 & 183 & 4320 & 145 & 1337 & 73942 & 12 & 58.00000 & 110.3274 & 41.78210 & 0.05170445\\\\\n",
       "\t2 & Census Tract 9602, Asotin County, Washington & 53003960200 & 1872 & 142 & 1780 & 222 & 4755 & 421 & 1352 & 72988 & 13 & 60.07692 & 145.7848 & 22.88731 & 0.02462630\\\\\n",
       "\t3 & Census Tract 9603, Asotin County, Washington & 53003960300 & 1279 &  85 & 1156 & 192 & 3633 &   6 &  396 & 38077 & 11 & 60.00000 & 173.4079 & 27.06202 & 0.02998058\\\\\n",
       "\t4 & Census Tract 9604, Asotin County, Washington & 53003960400 &  941 &  53 &  805 & 180 & 2517 &  29 &  647 & 38777 &  8 & 62.50000 & 127.6005 & 23.53829 & 0.02216379\\\\\n",
       "\t5 & Census Tract 9605, Asotin County, Washington & 53003960500 & 1345 & 181 & 1198 & 304 & 3517 &  26 &  635 & 42639 &  8 & 62.50000 & 192.4299 & 21.68565 & 0.02166087\\\\\n",
       "\t6 & Census Tract 9606, Asotin County, Washington & 53003960600 & 1542 &  64 & 1392 & 203 & 3894 & 115 &  909 & 53947 &  9 & 58.88889 & 151.0552 & 23.52123 & 0.02618557\\\\\n",
       "\\end{tabular}\n"
      ],
      "text/markdown": [
       "\n",
       "A data.frame: 6 × 15\n",
       "\n",
       "| <!--/--> | NAME &lt;chr&gt; | GEOID &lt;dbl&gt; | has_computer &lt;dbl&gt; | no_computer &lt;dbl&gt; | with_internet &lt;dbl&gt; | no_internet &lt;dbl&gt; | total_population &lt;dbl&gt; | work_from_home &lt;dbl&gt; | X65_and_older &lt;dbl&gt; | median_income &lt;dbl&gt; | number_providers &lt;dbl&gt; | mean_lowest_cost &lt;dbl&gt; | mean_d_mbps &lt;dbl&gt; | mean_u_mbps &lt;dbl&gt; | mean_lat_ms &lt;dbl&gt; |\n",
       "|---|---|---|---|---|---|---|---|---|---|---|---|---|---|---|---|\n",
       "| 1 | Census Tract 9601, Asotin County, Washington | 53003960100 | 1664 | 118 | 1569 | 183 | 4320 | 145 | 1337 | 73942 | 12 | 58.00000 | 110.3274 | 41.78210 | 0.05170445 |\n",
       "| 2 | Census Tract 9602, Asotin County, Washington | 53003960200 | 1872 | 142 | 1780 | 222 | 4755 | 421 | 1352 | 72988 | 13 | 60.07692 | 145.7848 | 22.88731 | 0.02462630 |\n",
       "| 3 | Census Tract 9603, Asotin County, Washington | 53003960300 | 1279 |  85 | 1156 | 192 | 3633 |   6 |  396 | 38077 | 11 | 60.00000 | 173.4079 | 27.06202 | 0.02998058 |\n",
       "| 4 | Census Tract 9604, Asotin County, Washington | 53003960400 |  941 |  53 |  805 | 180 | 2517 |  29 |  647 | 38777 |  8 | 62.50000 | 127.6005 | 23.53829 | 0.02216379 |\n",
       "| 5 | Census Tract 9605, Asotin County, Washington | 53003960500 | 1345 | 181 | 1198 | 304 | 3517 |  26 |  635 | 42639 |  8 | 62.50000 | 192.4299 | 21.68565 | 0.02166087 |\n",
       "| 6 | Census Tract 9606, Asotin County, Washington | 53003960600 | 1542 |  64 | 1392 | 203 | 3894 | 115 |  909 | 53947 |  9 | 58.88889 | 151.0552 | 23.52123 | 0.02618557 |\n",
       "\n"
      ],
      "text/plain": [
       "  NAME                                         GEOID       has_computer\n",
       "1 Census Tract 9601, Asotin County, Washington 53003960100 1664        \n",
       "2 Census Tract 9602, Asotin County, Washington 53003960200 1872        \n",
       "3 Census Tract 9603, Asotin County, Washington 53003960300 1279        \n",
       "4 Census Tract 9604, Asotin County, Washington 53003960400  941        \n",
       "5 Census Tract 9605, Asotin County, Washington 53003960500 1345        \n",
       "6 Census Tract 9606, Asotin County, Washington 53003960600 1542        \n",
       "  no_computer with_internet no_internet total_population work_from_home\n",
       "1 118         1569          183         4320             145           \n",
       "2 142         1780          222         4755             421           \n",
       "3  85         1156          192         3633               6           \n",
       "4  53          805          180         2517              29           \n",
       "5 181         1198          304         3517              26           \n",
       "6  64         1392          203         3894             115           \n",
       "  X65_and_older median_income number_providers mean_lowest_cost mean_d_mbps\n",
       "1 1337          73942         12               58.00000         110.3274   \n",
       "2 1352          72988         13               60.07692         145.7848   \n",
       "3  396          38077         11               60.00000         173.4079   \n",
       "4  647          38777          8               62.50000         127.6005   \n",
       "5  635          42639          8               62.50000         192.4299   \n",
       "6  909          53947          9               58.88889         151.0552   \n",
       "  mean_u_mbps mean_lat_ms\n",
       "1 41.78210    0.05170445 \n",
       "2 22.88731    0.02462630 \n",
       "3 27.06202    0.02998058 \n",
       "4 23.53829    0.02216379 \n",
       "5 21.68565    0.02166087 \n",
       "6 23.52123    0.02618557 "
      ]
     },
     "metadata": {},
     "output_type": "display_data"
    }
   ],
   "source": [
    "# get data\n",
    "data <- read.csv(\"../data/combined_data.csv\")\n",
    "head(data)"
   ]
  },
  {
   "cell_type": "code",
   "execution_count": 36,
   "metadata": {
    "slideshow": {
     "slide_type": "subslide"
    },
    "vscode": {
     "languageId": "r"
    }
   },
   "outputs": [
    {
     "data": {
      "text/html": [
       "<style>\n",
       ".list-inline {list-style: none; margin:0; padding: 0}\n",
       ".list-inline>li {display: inline-block}\n",
       ".list-inline>li:not(:last-child)::after {content: \"\\00b7\"; padding: 0 .5ex}\n",
       "</style>\n",
       "<ol class=list-inline><li>'NAME'</li><li>'GEOID'</li><li>'has_computer'</li><li>'no_computer'</li><li>'with_internet'</li><li>'no_internet'</li><li>'total_population'</li><li>'work_from_home'</li><li>'X65_and_older'</li><li>'median_income'</li><li>'number_providers'</li><li>'mean_lowest_cost'</li><li>'mean_d_mbps'</li><li>'mean_u_mbps'</li><li>'mean_lat_ms'</li></ol>\n"
      ],
      "text/latex": [
       "\\begin{enumerate*}\n",
       "\\item 'NAME'\n",
       "\\item 'GEOID'\n",
       "\\item 'has\\_computer'\n",
       "\\item 'no\\_computer'\n",
       "\\item 'with\\_internet'\n",
       "\\item 'no\\_internet'\n",
       "\\item 'total\\_population'\n",
       "\\item 'work\\_from\\_home'\n",
       "\\item 'X65\\_and\\_older'\n",
       "\\item 'median\\_income'\n",
       "\\item 'number\\_providers'\n",
       "\\item 'mean\\_lowest\\_cost'\n",
       "\\item 'mean\\_d\\_mbps'\n",
       "\\item 'mean\\_u\\_mbps'\n",
       "\\item 'mean\\_lat\\_ms'\n",
       "\\end{enumerate*}\n"
      ],
      "text/markdown": [
       "1. 'NAME'\n",
       "2. 'GEOID'\n",
       "3. 'has_computer'\n",
       "4. 'no_computer'\n",
       "5. 'with_internet'\n",
       "6. 'no_internet'\n",
       "7. 'total_population'\n",
       "8. 'work_from_home'\n",
       "9. 'X65_and_older'\n",
       "10. 'median_income'\n",
       "11. 'number_providers'\n",
       "12. 'mean_lowest_cost'\n",
       "13. 'mean_d_mbps'\n",
       "14. 'mean_u_mbps'\n",
       "15. 'mean_lat_ms'\n",
       "\n",
       "\n"
      ],
      "text/plain": [
       " [1] \"NAME\"             \"GEOID\"            \"has_computer\"     \"no_computer\"     \n",
       " [5] \"with_internet\"    \"no_internet\"      \"total_population\" \"work_from_home\"  \n",
       " [9] \"X65_and_older\"    \"median_income\"    \"number_providers\" \"mean_lowest_cost\"\n",
       "[13] \"mean_d_mbps\"      \"mean_u_mbps\"      \"mean_lat_ms\"     "
      ]
     },
     "metadata": {},
     "output_type": "display_data"
    }
   ],
   "source": [
    "names(data)"
   ]
  },
  {
   "cell_type": "code",
   "execution_count": 37,
   "metadata": {
    "slideshow": {
     "slide_type": "fragment"
    },
    "vscode": {
     "languageId": "r"
    }
   },
   "outputs": [
    {
     "data": {
      "text/html": [
       "<table class=\"dataframe\">\n",
       "<caption>A data.frame: 6 × 13</caption>\n",
       "<thead>\n",
       "\t<tr><th></th><th scope=col>has_computer</th><th scope=col>no_computer</th><th scope=col>with_internet</th><th scope=col>no_internet</th><th scope=col>total_population</th><th scope=col>work_from_home</th><th scope=col>X65_and_older</th><th scope=col>median_income</th><th scope=col>number_providers</th><th scope=col>mean_lowest_cost</th><th scope=col>mean_d_mbps</th><th scope=col>mean_u_mbps</th><th scope=col>mean_lat_ms</th></tr>\n",
       "\t<tr><th></th><th scope=col>&lt;dbl&gt;</th><th scope=col>&lt;dbl&gt;</th><th scope=col>&lt;dbl&gt;</th><th scope=col>&lt;dbl&gt;</th><th scope=col>&lt;dbl&gt;</th><th scope=col>&lt;dbl&gt;</th><th scope=col>&lt;dbl&gt;</th><th scope=col>&lt;dbl&gt;</th><th scope=col>&lt;dbl&gt;</th><th scope=col>&lt;dbl&gt;</th><th scope=col>&lt;dbl&gt;</th><th scope=col>&lt;dbl&gt;</th><th scope=col>&lt;dbl&gt;</th></tr>\n",
       "</thead>\n",
       "<tbody>\n",
       "\t<tr><th scope=row>1</th><td>1664</td><td>118</td><td>1569</td><td>183</td><td>4320</td><td>145</td><td>1337</td><td>73942</td><td>12</td><td>58.00000</td><td>110.3274</td><td>41.78210</td><td>0.05170445</td></tr>\n",
       "\t<tr><th scope=row>2</th><td>1872</td><td>142</td><td>1780</td><td>222</td><td>4755</td><td>421</td><td>1352</td><td>72988</td><td>13</td><td>60.07692</td><td>145.7848</td><td>22.88731</td><td>0.02462630</td></tr>\n",
       "\t<tr><th scope=row>3</th><td>1279</td><td> 85</td><td>1156</td><td>192</td><td>3633</td><td>  6</td><td> 396</td><td>38077</td><td>11</td><td>60.00000</td><td>173.4079</td><td>27.06202</td><td>0.02998058</td></tr>\n",
       "\t<tr><th scope=row>4</th><td> 941</td><td> 53</td><td> 805</td><td>180</td><td>2517</td><td> 29</td><td> 647</td><td>38777</td><td> 8</td><td>62.50000</td><td>127.6005</td><td>23.53829</td><td>0.02216379</td></tr>\n",
       "\t<tr><th scope=row>5</th><td>1345</td><td>181</td><td>1198</td><td>304</td><td>3517</td><td> 26</td><td> 635</td><td>42639</td><td> 8</td><td>62.50000</td><td>192.4299</td><td>21.68565</td><td>0.02166087</td></tr>\n",
       "\t<tr><th scope=row>6</th><td>1542</td><td> 64</td><td>1392</td><td>203</td><td>3894</td><td>115</td><td> 909</td><td>53947</td><td> 9</td><td>58.88889</td><td>151.0552</td><td>23.52123</td><td>0.02618557</td></tr>\n",
       "</tbody>\n",
       "</table>\n"
      ],
      "text/latex": [
       "A data.frame: 6 × 13\n",
       "\\begin{tabular}{r|lllllllllllll}\n",
       "  & has\\_computer & no\\_computer & with\\_internet & no\\_internet & total\\_population & work\\_from\\_home & X65\\_and\\_older & median\\_income & number\\_providers & mean\\_lowest\\_cost & mean\\_d\\_mbps & mean\\_u\\_mbps & mean\\_lat\\_ms\\\\\n",
       "  & <dbl> & <dbl> & <dbl> & <dbl> & <dbl> & <dbl> & <dbl> & <dbl> & <dbl> & <dbl> & <dbl> & <dbl> & <dbl>\\\\\n",
       "\\hline\n",
       "\t1 & 1664 & 118 & 1569 & 183 & 4320 & 145 & 1337 & 73942 & 12 & 58.00000 & 110.3274 & 41.78210 & 0.05170445\\\\\n",
       "\t2 & 1872 & 142 & 1780 & 222 & 4755 & 421 & 1352 & 72988 & 13 & 60.07692 & 145.7848 & 22.88731 & 0.02462630\\\\\n",
       "\t3 & 1279 &  85 & 1156 & 192 & 3633 &   6 &  396 & 38077 & 11 & 60.00000 & 173.4079 & 27.06202 & 0.02998058\\\\\n",
       "\t4 &  941 &  53 &  805 & 180 & 2517 &  29 &  647 & 38777 &  8 & 62.50000 & 127.6005 & 23.53829 & 0.02216379\\\\\n",
       "\t5 & 1345 & 181 & 1198 & 304 & 3517 &  26 &  635 & 42639 &  8 & 62.50000 & 192.4299 & 21.68565 & 0.02166087\\\\\n",
       "\t6 & 1542 &  64 & 1392 & 203 & 3894 & 115 &  909 & 53947 &  9 & 58.88889 & 151.0552 & 23.52123 & 0.02618557\\\\\n",
       "\\end{tabular}\n"
      ],
      "text/markdown": [
       "\n",
       "A data.frame: 6 × 13\n",
       "\n",
       "| <!--/--> | has_computer &lt;dbl&gt; | no_computer &lt;dbl&gt; | with_internet &lt;dbl&gt; | no_internet &lt;dbl&gt; | total_population &lt;dbl&gt; | work_from_home &lt;dbl&gt; | X65_and_older &lt;dbl&gt; | median_income &lt;dbl&gt; | number_providers &lt;dbl&gt; | mean_lowest_cost &lt;dbl&gt; | mean_d_mbps &lt;dbl&gt; | mean_u_mbps &lt;dbl&gt; | mean_lat_ms &lt;dbl&gt; |\n",
       "|---|---|---|---|---|---|---|---|---|---|---|---|---|---|\n",
       "| 1 | 1664 | 118 | 1569 | 183 | 4320 | 145 | 1337 | 73942 | 12 | 58.00000 | 110.3274 | 41.78210 | 0.05170445 |\n",
       "| 2 | 1872 | 142 | 1780 | 222 | 4755 | 421 | 1352 | 72988 | 13 | 60.07692 | 145.7848 | 22.88731 | 0.02462630 |\n",
       "| 3 | 1279 |  85 | 1156 | 192 | 3633 |   6 |  396 | 38077 | 11 | 60.00000 | 173.4079 | 27.06202 | 0.02998058 |\n",
       "| 4 |  941 |  53 |  805 | 180 | 2517 |  29 |  647 | 38777 |  8 | 62.50000 | 127.6005 | 23.53829 | 0.02216379 |\n",
       "| 5 | 1345 | 181 | 1198 | 304 | 3517 |  26 |  635 | 42639 |  8 | 62.50000 | 192.4299 | 21.68565 | 0.02166087 |\n",
       "| 6 | 1542 |  64 | 1392 | 203 | 3894 | 115 |  909 | 53947 |  9 | 58.88889 | 151.0552 | 23.52123 | 0.02618557 |\n",
       "\n"
      ],
      "text/plain": [
       "  has_computer no_computer with_internet no_internet total_population\n",
       "1 1664         118         1569          183         4320            \n",
       "2 1872         142         1780          222         4755            \n",
       "3 1279          85         1156          192         3633            \n",
       "4  941          53          805          180         2517            \n",
       "5 1345         181         1198          304         3517            \n",
       "6 1542          64         1392          203         3894            \n",
       "  work_from_home X65_and_older median_income number_providers mean_lowest_cost\n",
       "1 145            1337          73942         12               58.00000        \n",
       "2 421            1352          72988         13               60.07692        \n",
       "3   6             396          38077         11               60.00000        \n",
       "4  29             647          38777          8               62.50000        \n",
       "5  26             635          42639          8               62.50000        \n",
       "6 115             909          53947          9               58.88889        \n",
       "  mean_d_mbps mean_u_mbps mean_lat_ms\n",
       "1 110.3274    41.78210    0.05170445 \n",
       "2 145.7848    22.88731    0.02462630 \n",
       "3 173.4079    27.06202    0.02998058 \n",
       "4 127.6005    23.53829    0.02216379 \n",
       "5 192.4299    21.68565    0.02166087 \n",
       "6 151.0552    23.52123    0.02618557 "
      ]
     },
     "metadata": {},
     "output_type": "display_data"
    }
   ],
   "source": [
    "# remove the columns we don't want\n",
    "data <- data %>%\n",
    "    dplyr::select(-GEOID, -NAME)\n",
    "head(data)"
   ]
  },
  {
   "cell_type": "code",
   "execution_count": 38,
   "metadata": {
    "vscode": {
     "languageId": "r"
    }
   },
   "outputs": [
    {
     "data": {
      "text/html": [
       "<table class=\"dataframe\">\n",
       "<caption>A matrix: 6 × 13 of type dbl</caption>\n",
       "<thead>\n",
       "\t<tr><th scope=col>has_computer</th><th scope=col>no_computer</th><th scope=col>with_internet</th><th scope=col>no_internet</th><th scope=col>total_population</th><th scope=col>work_from_home</th><th scope=col>X65_and_older</th><th scope=col>median_income</th><th scope=col>number_providers</th><th scope=col>mean_lowest_cost</th><th scope=col>mean_d_mbps</th><th scope=col>mean_u_mbps</th><th scope=col>mean_lat_ms</th></tr>\n",
       "</thead>\n",
       "<tbody>\n",
       "\t<tr><td> 0.50245011</td><td> 0.1993596</td><td> 0.5167430</td><td>0.3205972</td><td> 0.41151922</td><td> 0.1292741</td><td> 2.23493253</td><td>0.07418486</td><td> 1.7094218</td><td>-0.18458632</td><td>-1.05913969</td><td> 0.2831385</td><td> 1.17991288</td></tr>\n",
       "\t<tr><td> 0.88153598</td><td> 0.5037000</td><td> 0.9194434</td><td>0.7032231</td><td> 0.72118268</td><td> 2.9303783</td><td> 2.28240921</td><td>0.07416551</td><td> 2.2108891</td><td> 0.41923513</td><td>-0.64056563</td><td>-0.4304467</td><td>-0.15416598</td></tr>\n",
       "\t<tr><td>-0.19922325</td><td>-0.2191085</td><td>-0.2714809</td><td>0.4088955</td><td>-0.07753548</td><td>-1.2814270</td><td>-0.74343819</td><td>0.07345717</td><td> 1.2079545</td><td> 0.39687137</td><td>-0.31447576</td><td>-0.2727836</td><td> 0.10962741</td></tr>\n",
       "\t<tr><td>-0.81523778</td><td>-0.6248957</td><td>-0.9413759</td><td>0.2911645</td><td>-0.87198242</td><td>-1.0480017</td><td> 0.05100501</td><td>0.07347137</td><td>-0.2964475</td><td> 1.12369349</td><td>-0.85523159</td><td>-0.4058615</td><td>-0.27548794</td></tr>\n",
       "\t<tr><td>-0.07893639</td><td> 0.9982532</td><td>-0.1913226</td><td>1.5077184</td><td>-0.16011240</td><td>-1.0784484</td><td> 0.01302366</td><td>0.07354973</td><td>-0.2964475</td><td> 1.12369349</td><td>-0.08992031</td><td>-0.4758288</td><td>-0.30026584</td></tr>\n",
       "\t<tr><td> 0.28010167</td><td>-0.4854063</td><td> 0.1789328</td><td>0.5168156</td><td> 0.10826259</td><td>-0.1751938</td><td> 0.88026444</td><td>0.07377917</td><td> 0.2050198</td><td> 0.07383932</td><td>-0.57834859</td><td>-0.4065058</td><td>-0.07734433</td></tr>\n",
       "</tbody>\n",
       "</table>\n"
      ],
      "text/latex": [
       "A matrix: 6 × 13 of type dbl\n",
       "\\begin{tabular}{lllllllllllll}\n",
       " has\\_computer & no\\_computer & with\\_internet & no\\_internet & total\\_population & work\\_from\\_home & X65\\_and\\_older & median\\_income & number\\_providers & mean\\_lowest\\_cost & mean\\_d\\_mbps & mean\\_u\\_mbps & mean\\_lat\\_ms\\\\\n",
       "\\hline\n",
       "\t  0.50245011 &  0.1993596 &  0.5167430 & 0.3205972 &  0.41151922 &  0.1292741 &  2.23493253 & 0.07418486 &  1.7094218 & -0.18458632 & -1.05913969 &  0.2831385 &  1.17991288\\\\\n",
       "\t  0.88153598 &  0.5037000 &  0.9194434 & 0.7032231 &  0.72118268 &  2.9303783 &  2.28240921 & 0.07416551 &  2.2108891 &  0.41923513 & -0.64056563 & -0.4304467 & -0.15416598\\\\\n",
       "\t -0.19922325 & -0.2191085 & -0.2714809 & 0.4088955 & -0.07753548 & -1.2814270 & -0.74343819 & 0.07345717 &  1.2079545 &  0.39687137 & -0.31447576 & -0.2727836 &  0.10962741\\\\\n",
       "\t -0.81523778 & -0.6248957 & -0.9413759 & 0.2911645 & -0.87198242 & -1.0480017 &  0.05100501 & 0.07347137 & -0.2964475 &  1.12369349 & -0.85523159 & -0.4058615 & -0.27548794\\\\\n",
       "\t -0.07893639 &  0.9982532 & -0.1913226 & 1.5077184 & -0.16011240 & -1.0784484 &  0.01302366 & 0.07354973 & -0.2964475 &  1.12369349 & -0.08992031 & -0.4758288 & -0.30026584\\\\\n",
       "\t  0.28010167 & -0.4854063 &  0.1789328 & 0.5168156 &  0.10826259 & -0.1751938 &  0.88026444 & 0.07377917 &  0.2050198 &  0.07383932 & -0.57834859 & -0.4065058 & -0.07734433\\\\\n",
       "\\end{tabular}\n"
      ],
      "text/markdown": [
       "\n",
       "A matrix: 6 × 13 of type dbl\n",
       "\n",
       "| has_computer | no_computer | with_internet | no_internet | total_population | work_from_home | X65_and_older | median_income | number_providers | mean_lowest_cost | mean_d_mbps | mean_u_mbps | mean_lat_ms |\n",
       "|---|---|---|---|---|---|---|---|---|---|---|---|---|\n",
       "|  0.50245011 |  0.1993596 |  0.5167430 | 0.3205972 |  0.41151922 |  0.1292741 |  2.23493253 | 0.07418486 |  1.7094218 | -0.18458632 | -1.05913969 |  0.2831385 |  1.17991288 |\n",
       "|  0.88153598 |  0.5037000 |  0.9194434 | 0.7032231 |  0.72118268 |  2.9303783 |  2.28240921 | 0.07416551 |  2.2108891 |  0.41923513 | -0.64056563 | -0.4304467 | -0.15416598 |\n",
       "| -0.19922325 | -0.2191085 | -0.2714809 | 0.4088955 | -0.07753548 | -1.2814270 | -0.74343819 | 0.07345717 |  1.2079545 |  0.39687137 | -0.31447576 | -0.2727836 |  0.10962741 |\n",
       "| -0.81523778 | -0.6248957 | -0.9413759 | 0.2911645 | -0.87198242 | -1.0480017 |  0.05100501 | 0.07347137 | -0.2964475 |  1.12369349 | -0.85523159 | -0.4058615 | -0.27548794 |\n",
       "| -0.07893639 |  0.9982532 | -0.1913226 | 1.5077184 | -0.16011240 | -1.0784484 |  0.01302366 | 0.07354973 | -0.2964475 |  1.12369349 | -0.08992031 | -0.4758288 | -0.30026584 |\n",
       "|  0.28010167 | -0.4854063 |  0.1789328 | 0.5168156 |  0.10826259 | -0.1751938 |  0.88026444 | 0.07377917 |  0.2050198 |  0.07383932 | -0.57834859 | -0.4065058 | -0.07734433 |\n",
       "\n"
      ],
      "text/plain": [
       "     has_computer no_computer with_internet no_internet total_population\n",
       "[1,]  0.50245011   0.1993596   0.5167430    0.3205972    0.41151922     \n",
       "[2,]  0.88153598   0.5037000   0.9194434    0.7032231    0.72118268     \n",
       "[3,] -0.19922325  -0.2191085  -0.2714809    0.4088955   -0.07753548     \n",
       "[4,] -0.81523778  -0.6248957  -0.9413759    0.2911645   -0.87198242     \n",
       "[5,] -0.07893639   0.9982532  -0.1913226    1.5077184   -0.16011240     \n",
       "[6,]  0.28010167  -0.4854063   0.1789328    0.5168156    0.10826259     \n",
       "     work_from_home X65_and_older median_income number_providers\n",
       "[1,]  0.1292741      2.23493253   0.07418486     1.7094218      \n",
       "[2,]  2.9303783      2.28240921   0.07416551     2.2108891      \n",
       "[3,] -1.2814270     -0.74343819   0.07345717     1.2079545      \n",
       "[4,] -1.0480017      0.05100501   0.07347137    -0.2964475      \n",
       "[5,] -1.0784484      0.01302366   0.07354973    -0.2964475      \n",
       "[6,] -0.1751938      0.88026444   0.07377917     0.2050198      \n",
       "     mean_lowest_cost mean_d_mbps mean_u_mbps mean_lat_ms\n",
       "[1,] -0.18458632      -1.05913969  0.2831385   1.17991288\n",
       "[2,]  0.41923513      -0.64056563 -0.4304467  -0.15416598\n",
       "[3,]  0.39687137      -0.31447576 -0.2727836   0.10962741\n",
       "[4,]  1.12369349      -0.85523159 -0.4058615  -0.27548794\n",
       "[5,]  1.12369349      -0.08992031 -0.4758288  -0.30026584\n",
       "[6,]  0.07383932      -0.57834859 -0.4065058  -0.07734433"
      ]
     },
     "metadata": {},
     "output_type": "display_data"
    }
   ],
   "source": [
    "# standardize the data\n",
    "data <- scale(data)\n",
    "head(data)"
   ]
  },
  {
   "cell_type": "code",
   "execution_count": 12,
   "metadata": {
    "vscode": {
     "languageId": "r"
    }
   },
   "outputs": [],
   "source": [
    "# apply pca \n",
    "pc_data <- prcomp(data, scale = FALSE)\n",
    "\n",
    "eigen_values <- pc_data$sdev^2\n",
    "eigen_vectors <- -pc_data$rotation\n",
    "# assign the pc1 values as weights\n",
    "weights <- as.data.frame(eigen_vectors[, 1])\n"
   ]
  },
  {
   "cell_type": "code",
   "execution_count": null,
   "metadata": {
    "vscode": {
     "languageId": "r"
    }
   },
   "outputs": [],
   "source": [
    "weights"
   ]
  },
  {
   "cell_type": "code",
   "execution_count": 13,
   "metadata": {
    "vscode": {
     "languageId": "r"
    }
   },
   "outputs": [
    {
     "data": {
      "text/html": [
       "<style>\n",
       ".list-inline {list-style: none; margin:0; padding: 0}\n",
       ".list-inline>li {display: inline-block}\n",
       ".list-inline>li:not(:last-child)::after {content: \"\\00b7\"; padding: 0 .5ex}\n",
       "</style>\n",
       "<ol class=list-inline><li>4.05898897991325</li><li>2.64556024476592</li><li>1.60926489575567</li><li>1.13960059119569</li><li>0.98020399951375</li><li>0.824744284759872</li><li>0.547689552249435</li><li>0.45996063543807</li><li>0.298967018830871</li><li>0.168530251613186</li><li>0.15123010959019</li><li>0.111551275698659</li><li>0.00370816067543765</li></ol>\n"
      ],
      "text/latex": [
       "\\begin{enumerate*}\n",
       "\\item 4.05898897991325\n",
       "\\item 2.64556024476592\n",
       "\\item 1.60926489575567\n",
       "\\item 1.13960059119569\n",
       "\\item 0.98020399951375\n",
       "\\item 0.824744284759872\n",
       "\\item 0.547689552249435\n",
       "\\item 0.45996063543807\n",
       "\\item 0.298967018830871\n",
       "\\item 0.168530251613186\n",
       "\\item 0.15123010959019\n",
       "\\item 0.111551275698659\n",
       "\\item 0.00370816067543765\n",
       "\\end{enumerate*}\n"
      ],
      "text/markdown": [
       "1. 4.05898897991325\n",
       "2. 2.64556024476592\n",
       "3. 1.60926489575567\n",
       "4. 1.13960059119569\n",
       "5. 0.98020399951375\n",
       "6. 0.824744284759872\n",
       "7. 0.547689552249435\n",
       "8. 0.45996063543807\n",
       "9. 0.298967018830871\n",
       "10. 0.168530251613186\n",
       "11. 0.15123010959019\n",
       "12. 0.111551275698659\n",
       "13. 0.00370816067543765\n",
       "\n",
       "\n"
      ],
      "text/plain": [
       " [1] 4.058988980 2.645560245 1.609264896 1.139600591 0.980204000 0.824744285\n",
       " [7] 0.547689552 0.459960635 0.298967019 0.168530252 0.151230110 0.111551276\n",
       "[13] 0.003708161"
      ]
     },
     "metadata": {},
     "output_type": "display_data"
    }
   ],
   "source": [
    "eigen_values"
   ]
  },
  {
   "cell_type": "code",
   "execution_count": 14,
   "metadata": {
    "vscode": {
     "languageId": "r"
    }
   },
   "outputs": [
    {
     "data": {
      "text/html": [
       "<table class=\"dataframe\">\n",
       "<caption>A matrix: 13 × 13 of type dbl</caption>\n",
       "<thead>\n",
       "\t<tr><th></th><th scope=col>PC1</th><th scope=col>PC2</th><th scope=col>PC3</th><th scope=col>PC4</th><th scope=col>PC5</th><th scope=col>PC6</th><th scope=col>PC7</th><th scope=col>PC8</th><th scope=col>PC9</th><th scope=col>PC10</th><th scope=col>PC11</th><th scope=col>PC12</th><th scope=col>PC13</th></tr>\n",
       "</thead>\n",
       "<tbody>\n",
       "\t<tr><th scope=row>has_computer</th><td> 0.47288891</td><td>-0.02442760</td><td> 0.10721627</td><td>-0.06093078</td><td>-0.014895658</td><td>-0.08050656</td><td> 0.24667250</td><td>-0.05292711</td><td> 0.11141715</td><td>-0.213852122</td><td>-0.0006648862</td><td>-0.361139782</td><td>-0.708273113</td></tr>\n",
       "\t<tr><th scope=row>no_computer</th><td> 0.20056267</td><td>-0.25288156</td><td>-0.58210439</td><td>-0.01030141</td><td> 0.064632621</td><td> 0.06555379</td><td>-0.25784049</td><td> 0.07203603</td><td> 0.10325341</td><td> 0.532080799</td><td>-0.3580661268</td><td>-0.219626853</td><td>-0.080683076</td></tr>\n",
       "\t<tr><th scope=row>with_internet</th><td> 0.47126532</td><td> 0.00816404</td><td> 0.13830333</td><td>-0.04908435</td><td>-0.024807868</td><td>-0.07449006</td><td> 0.21738178</td><td>-0.11454748</td><td> 0.07655159</td><td>-0.058899715</td><td>-0.1126421784</td><td>-0.441321825</td><td> 0.687737277</td></tr>\n",
       "\t<tr><th scope=row>no_internet</th><td> 0.20420996</td><td>-0.34706634</td><td>-0.49301848</td><td> 0.01948705</td><td> 0.086114817</td><td>-0.02815666</td><td>-0.03804858</td><td> 0.21892473</td><td> 0.23699318</td><td>-0.501945019</td><td> 0.4171629073</td><td> 0.191040245</td><td> 0.134818955</td></tr>\n",
       "\t<tr><th scope=row>total_population</th><td> 0.44033591</td><td>-0.01913394</td><td> 0.16992269</td><td>-0.04956443</td><td> 0.129316101</td><td>-0.02696833</td><td> 0.32459982</td><td> 0.08417591</td><td> 0.18967170</td><td> 0.309931671</td><td>-0.1315050122</td><td> 0.703628542</td><td> 0.009357538</td></tr>\n",
       "\t<tr><th scope=row>work_from_home</th><td> 0.23488701</td><td>-0.05887400</td><td> 0.49066769</td><td> 0.04533648</td><td> 0.076975186</td><td> 0.25491935</td><td>-0.63631137</td><td> 0.43503193</td><td> 0.16392408</td><td>-0.004540768</td><td> 0.0564919872</td><td>-0.058418399</td><td> 0.001409999</td></tr>\n",
       "\t<tr><th scope=row>X65_and_older</th><td> 0.35213674</td><td>-0.27837658</td><td> 0.02454598</td><td> 0.17397047</td><td> 0.009380222</td><td> 0.03228774</td><td>-0.23285439</td><td>-0.34125989</td><td>-0.74922747</td><td>-0.043697540</td><td> 0.0781457205</td><td> 0.162141826</td><td>-0.013416530</td></tr>\n",
       "\t<tr><th scope=row>median_income</th><td> 0.07656207</td><td>-0.10648033</td><td>-0.00130413</td><td>-0.09720139</td><td>-0.972948029</td><td>-0.03772283</td><td>-0.07018319</td><td> 0.03713296</td><td> 0.06695980</td><td> 0.039168189</td><td> 0.0059536182</td><td> 0.113755650</td><td> 0.001185697</td></tr>\n",
       "\t<tr><th scope=row>number_providers</th><td>-0.10602038</td><td>-0.33992194</td><td> 0.18558593</td><td>-0.51162516</td><td> 0.121041988</td><td>-0.29366028</td><td>-0.29467990</td><td>-0.53794770</td><td> 0.30620484</td><td> 0.018104834</td><td> 0.0450926888</td><td> 0.061049101</td><td>-0.007020164</td></tr>\n",
       "\t<tr><th scope=row>mean_lowest_cost</th><td> 0.07707167</td><td> 0.21997127</td><td>-0.01010764</td><td> 0.58843052</td><td>-0.015572233</td><td>-0.69903876</td><td>-0.25484718</td><td>-0.08700527</td><td> 0.18688676</td><td> 0.033093596</td><td> 0.0029935350</td><td> 0.041456206</td><td>-0.012484137</td></tr>\n",
       "\t<tr><th scope=row>mean_d_mbps</th><td> 0.20234658</td><td> 0.48222588</td><td>-0.15502203</td><td>-0.07639388</td><td>-0.020759910</td><td> 0.23043849</td><td>-0.10874431</td><td>-0.27671125</td><td> 0.10191055</td><td> 0.341733671</td><td> 0.6525078633</td><td>-0.041483725</td><td>-0.007988313</td></tr>\n",
       "\t<tr><th scope=row>mean_u_mbps</th><td> 0.10584459</td><td> 0.30252253</td><td>-0.11432772</td><td>-0.56923383</td><td> 0.050619100</td><td>-0.48148227</td><td>-0.11159346</td><td> 0.41799109</td><td>-0.37045190</td><td> 0.008895100</td><td> 0.0337889955</td><td> 0.005319539</td><td> 0.011756464</td></tr>\n",
       "\t<tr><th scope=row>mean_lat_ms</th><td>-0.15524417</td><td>-0.48401726</td><td> 0.21350513</td><td> 0.10626608</td><td> 0.017858855</td><td>-0.23427448</td><td> 0.28018318</td><td> 0.26180436</td><td>-0.09959284</td><td> 0.444897109</td><td> 0.4790588934</td><td>-0.212484854</td><td>-0.001612781</td></tr>\n",
       "</tbody>\n",
       "</table>\n"
      ],
      "text/latex": [
       "A matrix: 13 × 13 of type dbl\n",
       "\\begin{tabular}{r|lllllllllllll}\n",
       "  & PC1 & PC2 & PC3 & PC4 & PC5 & PC6 & PC7 & PC8 & PC9 & PC10 & PC11 & PC12 & PC13\\\\\n",
       "\\hline\n",
       "\thas\\_computer &  0.47288891 & -0.02442760 &  0.10721627 & -0.06093078 & -0.014895658 & -0.08050656 &  0.24667250 & -0.05292711 &  0.11141715 & -0.213852122 & -0.0006648862 & -0.361139782 & -0.708273113\\\\\n",
       "\tno\\_computer &  0.20056267 & -0.25288156 & -0.58210439 & -0.01030141 &  0.064632621 &  0.06555379 & -0.25784049 &  0.07203603 &  0.10325341 &  0.532080799 & -0.3580661268 & -0.219626853 & -0.080683076\\\\\n",
       "\twith\\_internet &  0.47126532 &  0.00816404 &  0.13830333 & -0.04908435 & -0.024807868 & -0.07449006 &  0.21738178 & -0.11454748 &  0.07655159 & -0.058899715 & -0.1126421784 & -0.441321825 &  0.687737277\\\\\n",
       "\tno\\_internet &  0.20420996 & -0.34706634 & -0.49301848 &  0.01948705 &  0.086114817 & -0.02815666 & -0.03804858 &  0.21892473 &  0.23699318 & -0.501945019 &  0.4171629073 &  0.191040245 &  0.134818955\\\\\n",
       "\ttotal\\_population &  0.44033591 & -0.01913394 &  0.16992269 & -0.04956443 &  0.129316101 & -0.02696833 &  0.32459982 &  0.08417591 &  0.18967170 &  0.309931671 & -0.1315050122 &  0.703628542 &  0.009357538\\\\\n",
       "\twork\\_from\\_home &  0.23488701 & -0.05887400 &  0.49066769 &  0.04533648 &  0.076975186 &  0.25491935 & -0.63631137 &  0.43503193 &  0.16392408 & -0.004540768 &  0.0564919872 & -0.058418399 &  0.001409999\\\\\n",
       "\tX65\\_and\\_older &  0.35213674 & -0.27837658 &  0.02454598 &  0.17397047 &  0.009380222 &  0.03228774 & -0.23285439 & -0.34125989 & -0.74922747 & -0.043697540 &  0.0781457205 &  0.162141826 & -0.013416530\\\\\n",
       "\tmedian\\_income &  0.07656207 & -0.10648033 & -0.00130413 & -0.09720139 & -0.972948029 & -0.03772283 & -0.07018319 &  0.03713296 &  0.06695980 &  0.039168189 &  0.0059536182 &  0.113755650 &  0.001185697\\\\\n",
       "\tnumber\\_providers & -0.10602038 & -0.33992194 &  0.18558593 & -0.51162516 &  0.121041988 & -0.29366028 & -0.29467990 & -0.53794770 &  0.30620484 &  0.018104834 &  0.0450926888 &  0.061049101 & -0.007020164\\\\\n",
       "\tmean\\_lowest\\_cost &  0.07707167 &  0.21997127 & -0.01010764 &  0.58843052 & -0.015572233 & -0.69903876 & -0.25484718 & -0.08700527 &  0.18688676 &  0.033093596 &  0.0029935350 &  0.041456206 & -0.012484137\\\\\n",
       "\tmean\\_d\\_mbps &  0.20234658 &  0.48222588 & -0.15502203 & -0.07639388 & -0.020759910 &  0.23043849 & -0.10874431 & -0.27671125 &  0.10191055 &  0.341733671 &  0.6525078633 & -0.041483725 & -0.007988313\\\\\n",
       "\tmean\\_u\\_mbps &  0.10584459 &  0.30252253 & -0.11432772 & -0.56923383 &  0.050619100 & -0.48148227 & -0.11159346 &  0.41799109 & -0.37045190 &  0.008895100 &  0.0337889955 &  0.005319539 &  0.011756464\\\\\n",
       "\tmean\\_lat\\_ms & -0.15524417 & -0.48401726 &  0.21350513 &  0.10626608 &  0.017858855 & -0.23427448 &  0.28018318 &  0.26180436 & -0.09959284 &  0.444897109 &  0.4790588934 & -0.212484854 & -0.001612781\\\\\n",
       "\\end{tabular}\n"
      ],
      "text/markdown": [
       "\n",
       "A matrix: 13 × 13 of type dbl\n",
       "\n",
       "| <!--/--> | PC1 | PC2 | PC3 | PC4 | PC5 | PC6 | PC7 | PC8 | PC9 | PC10 | PC11 | PC12 | PC13 |\n",
       "|---|---|---|---|---|---|---|---|---|---|---|---|---|---|\n",
       "| has_computer |  0.47288891 | -0.02442760 |  0.10721627 | -0.06093078 | -0.014895658 | -0.08050656 |  0.24667250 | -0.05292711 |  0.11141715 | -0.213852122 | -0.0006648862 | -0.361139782 | -0.708273113 |\n",
       "| no_computer |  0.20056267 | -0.25288156 | -0.58210439 | -0.01030141 |  0.064632621 |  0.06555379 | -0.25784049 |  0.07203603 |  0.10325341 |  0.532080799 | -0.3580661268 | -0.219626853 | -0.080683076 |\n",
       "| with_internet |  0.47126532 |  0.00816404 |  0.13830333 | -0.04908435 | -0.024807868 | -0.07449006 |  0.21738178 | -0.11454748 |  0.07655159 | -0.058899715 | -0.1126421784 | -0.441321825 |  0.687737277 |\n",
       "| no_internet |  0.20420996 | -0.34706634 | -0.49301848 |  0.01948705 |  0.086114817 | -0.02815666 | -0.03804858 |  0.21892473 |  0.23699318 | -0.501945019 |  0.4171629073 |  0.191040245 |  0.134818955 |\n",
       "| total_population |  0.44033591 | -0.01913394 |  0.16992269 | -0.04956443 |  0.129316101 | -0.02696833 |  0.32459982 |  0.08417591 |  0.18967170 |  0.309931671 | -0.1315050122 |  0.703628542 |  0.009357538 |\n",
       "| work_from_home |  0.23488701 | -0.05887400 |  0.49066769 |  0.04533648 |  0.076975186 |  0.25491935 | -0.63631137 |  0.43503193 |  0.16392408 | -0.004540768 |  0.0564919872 | -0.058418399 |  0.001409999 |\n",
       "| X65_and_older |  0.35213674 | -0.27837658 |  0.02454598 |  0.17397047 |  0.009380222 |  0.03228774 | -0.23285439 | -0.34125989 | -0.74922747 | -0.043697540 |  0.0781457205 |  0.162141826 | -0.013416530 |\n",
       "| median_income |  0.07656207 | -0.10648033 | -0.00130413 | -0.09720139 | -0.972948029 | -0.03772283 | -0.07018319 |  0.03713296 |  0.06695980 |  0.039168189 |  0.0059536182 |  0.113755650 |  0.001185697 |\n",
       "| number_providers | -0.10602038 | -0.33992194 |  0.18558593 | -0.51162516 |  0.121041988 | -0.29366028 | -0.29467990 | -0.53794770 |  0.30620484 |  0.018104834 |  0.0450926888 |  0.061049101 | -0.007020164 |\n",
       "| mean_lowest_cost |  0.07707167 |  0.21997127 | -0.01010764 |  0.58843052 | -0.015572233 | -0.69903876 | -0.25484718 | -0.08700527 |  0.18688676 |  0.033093596 |  0.0029935350 |  0.041456206 | -0.012484137 |\n",
       "| mean_d_mbps |  0.20234658 |  0.48222588 | -0.15502203 | -0.07639388 | -0.020759910 |  0.23043849 | -0.10874431 | -0.27671125 |  0.10191055 |  0.341733671 |  0.6525078633 | -0.041483725 | -0.007988313 |\n",
       "| mean_u_mbps |  0.10584459 |  0.30252253 | -0.11432772 | -0.56923383 |  0.050619100 | -0.48148227 | -0.11159346 |  0.41799109 | -0.37045190 |  0.008895100 |  0.0337889955 |  0.005319539 |  0.011756464 |\n",
       "| mean_lat_ms | -0.15524417 | -0.48401726 |  0.21350513 |  0.10626608 |  0.017858855 | -0.23427448 |  0.28018318 |  0.26180436 | -0.09959284 |  0.444897109 |  0.4790588934 | -0.212484854 | -0.001612781 |\n",
       "\n"
      ],
      "text/plain": [
       "                 PC1         PC2         PC3         PC4         PC5         \n",
       "has_computer      0.47288891 -0.02442760  0.10721627 -0.06093078 -0.014895658\n",
       "no_computer       0.20056267 -0.25288156 -0.58210439 -0.01030141  0.064632621\n",
       "with_internet     0.47126532  0.00816404  0.13830333 -0.04908435 -0.024807868\n",
       "no_internet       0.20420996 -0.34706634 -0.49301848  0.01948705  0.086114817\n",
       "total_population  0.44033591 -0.01913394  0.16992269 -0.04956443  0.129316101\n",
       "work_from_home    0.23488701 -0.05887400  0.49066769  0.04533648  0.076975186\n",
       "X65_and_older     0.35213674 -0.27837658  0.02454598  0.17397047  0.009380222\n",
       "median_income     0.07656207 -0.10648033 -0.00130413 -0.09720139 -0.972948029\n",
       "number_providers -0.10602038 -0.33992194  0.18558593 -0.51162516  0.121041988\n",
       "mean_lowest_cost  0.07707167  0.21997127 -0.01010764  0.58843052 -0.015572233\n",
       "mean_d_mbps       0.20234658  0.48222588 -0.15502203 -0.07639388 -0.020759910\n",
       "mean_u_mbps       0.10584459  0.30252253 -0.11432772 -0.56923383  0.050619100\n",
       "mean_lat_ms      -0.15524417 -0.48401726  0.21350513  0.10626608  0.017858855\n",
       "                 PC6         PC7         PC8         PC9         PC10        \n",
       "has_computer     -0.08050656  0.24667250 -0.05292711  0.11141715 -0.213852122\n",
       "no_computer       0.06555379 -0.25784049  0.07203603  0.10325341  0.532080799\n",
       "with_internet    -0.07449006  0.21738178 -0.11454748  0.07655159 -0.058899715\n",
       "no_internet      -0.02815666 -0.03804858  0.21892473  0.23699318 -0.501945019\n",
       "total_population -0.02696833  0.32459982  0.08417591  0.18967170  0.309931671\n",
       "work_from_home    0.25491935 -0.63631137  0.43503193  0.16392408 -0.004540768\n",
       "X65_and_older     0.03228774 -0.23285439 -0.34125989 -0.74922747 -0.043697540\n",
       "median_income    -0.03772283 -0.07018319  0.03713296  0.06695980  0.039168189\n",
       "number_providers -0.29366028 -0.29467990 -0.53794770  0.30620484  0.018104834\n",
       "mean_lowest_cost -0.69903876 -0.25484718 -0.08700527  0.18688676  0.033093596\n",
       "mean_d_mbps       0.23043849 -0.10874431 -0.27671125  0.10191055  0.341733671\n",
       "mean_u_mbps      -0.48148227 -0.11159346  0.41799109 -0.37045190  0.008895100\n",
       "mean_lat_ms      -0.23427448  0.28018318  0.26180436 -0.09959284  0.444897109\n",
       "                 PC11          PC12         PC13        \n",
       "has_computer     -0.0006648862 -0.361139782 -0.708273113\n",
       "no_computer      -0.3580661268 -0.219626853 -0.080683076\n",
       "with_internet    -0.1126421784 -0.441321825  0.687737277\n",
       "no_internet       0.4171629073  0.191040245  0.134818955\n",
       "total_population -0.1315050122  0.703628542  0.009357538\n",
       "work_from_home    0.0564919872 -0.058418399  0.001409999\n",
       "X65_and_older     0.0781457205  0.162141826 -0.013416530\n",
       "median_income     0.0059536182  0.113755650  0.001185697\n",
       "number_providers  0.0450926888  0.061049101 -0.007020164\n",
       "mean_lowest_cost  0.0029935350  0.041456206 -0.012484137\n",
       "mean_d_mbps       0.6525078633 -0.041483725 -0.007988313\n",
       "mean_u_mbps       0.0337889955  0.005319539  0.011756464\n",
       "mean_lat_ms       0.4790588934 -0.212484854 -0.001612781"
      ]
     },
     "metadata": {},
     "output_type": "display_data"
    }
   ],
   "source": [
    "eigen_vectors"
   ]
  },
  {
   "cell_type": "code",
   "execution_count": 45,
   "metadata": {
    "vscode": {
     "languageId": "r"
    }
   },
   "outputs": [
    {
     "data": {
      "text/html": [
       "<table class=\"dataframe\">\n",
       "<caption>A data.frame: 13 × 1</caption>\n",
       "<thead>\n",
       "\t<tr><th></th><th scope=col>eigen_vectors[, 1]</th></tr>\n",
       "\t<tr><th></th><th scope=col>&lt;dbl&gt;</th></tr>\n",
       "</thead>\n",
       "<tbody>\n",
       "\t<tr><th scope=row>has_computer</th><td> 0.47288891</td></tr>\n",
       "\t<tr><th scope=row>no_computer</th><td> 0.20056267</td></tr>\n",
       "\t<tr><th scope=row>with_internet</th><td> 0.47126532</td></tr>\n",
       "\t<tr><th scope=row>no_internet</th><td> 0.20420996</td></tr>\n",
       "\t<tr><th scope=row>total_population</th><td> 0.44033591</td></tr>\n",
       "\t<tr><th scope=row>work_from_home</th><td> 0.23488701</td></tr>\n",
       "\t<tr><th scope=row>X65_and_older</th><td> 0.35213674</td></tr>\n",
       "\t<tr><th scope=row>median_income</th><td> 0.07656207</td></tr>\n",
       "\t<tr><th scope=row>number_providers</th><td>-0.10602038</td></tr>\n",
       "\t<tr><th scope=row>mean_lowest_cost</th><td> 0.07707167</td></tr>\n",
       "\t<tr><th scope=row>mean_d_mbps</th><td> 0.20234658</td></tr>\n",
       "\t<tr><th scope=row>mean_u_mbps</th><td> 0.10584459</td></tr>\n",
       "\t<tr><th scope=row>mean_lat_ms</th><td>-0.15524417</td></tr>\n",
       "</tbody>\n",
       "</table>\n"
      ],
      "text/latex": [
       "A data.frame: 13 × 1\n",
       "\\begin{tabular}{r|l}\n",
       "  & eigen\\_vectors{[}, 1{]}\\\\\n",
       "  & <dbl>\\\\\n",
       "\\hline\n",
       "\thas\\_computer &  0.47288891\\\\\n",
       "\tno\\_computer &  0.20056267\\\\\n",
       "\twith\\_internet &  0.47126532\\\\\n",
       "\tno\\_internet &  0.20420996\\\\\n",
       "\ttotal\\_population &  0.44033591\\\\\n",
       "\twork\\_from\\_home &  0.23488701\\\\\n",
       "\tX65\\_and\\_older &  0.35213674\\\\\n",
       "\tmedian\\_income &  0.07656207\\\\\n",
       "\tnumber\\_providers & -0.10602038\\\\\n",
       "\tmean\\_lowest\\_cost &  0.07707167\\\\\n",
       "\tmean\\_d\\_mbps &  0.20234658\\\\\n",
       "\tmean\\_u\\_mbps &  0.10584459\\\\\n",
       "\tmean\\_lat\\_ms & -0.15524417\\\\\n",
       "\\end{tabular}\n"
      ],
      "text/markdown": [
       "\n",
       "A data.frame: 13 × 1\n",
       "\n",
       "| <!--/--> | eigen_vectors[, 1] &lt;dbl&gt; |\n",
       "|---|---|\n",
       "| has_computer |  0.47288891 |\n",
       "| no_computer |  0.20056267 |\n",
       "| with_internet |  0.47126532 |\n",
       "| no_internet |  0.20420996 |\n",
       "| total_population |  0.44033591 |\n",
       "| work_from_home |  0.23488701 |\n",
       "| X65_and_older |  0.35213674 |\n",
       "| median_income |  0.07656207 |\n",
       "| number_providers | -0.10602038 |\n",
       "| mean_lowest_cost |  0.07707167 |\n",
       "| mean_d_mbps |  0.20234658 |\n",
       "| mean_u_mbps |  0.10584459 |\n",
       "| mean_lat_ms | -0.15524417 |\n",
       "\n"
      ],
      "text/plain": [
       "                 eigen_vectors[, 1]\n",
       "has_computer      0.47288891       \n",
       "no_computer       0.20056267       \n",
       "with_internet     0.47126532       \n",
       "no_internet       0.20420996       \n",
       "total_population  0.44033591       \n",
       "work_from_home    0.23488701       \n",
       "X65_and_older     0.35213674       \n",
       "median_income     0.07656207       \n",
       "number_providers -0.10602038       \n",
       "mean_lowest_cost  0.07707167       \n",
       "mean_d_mbps       0.20234658       \n",
       "mean_u_mbps       0.10584459       \n",
       "mean_lat_ms      -0.15524417       "
      ]
     },
     "metadata": {},
     "output_type": "display_data"
    }
   ],
   "source": [
    "-weights"
   ]
  },
  {
   "cell_type": "code",
   "execution_count": 43,
   "metadata": {
    "vscode": {
     "languageId": "r"
    }
   },
   "outputs": [
    {
     "data": {
      "text/html": [
       "<table class=\"dataframe\">\n",
       "<caption>A matrix: 6 × 13 of type dbl</caption>\n",
       "<thead>\n",
       "\t<tr><th scope=col>has_computer</th><th scope=col>no_computer</th><th scope=col>with_internet</th><th scope=col>no_internet</th><th scope=col>total_population</th><th scope=col>work_from_home</th><th scope=col>X65_and_older</th><th scope=col>median_income</th><th scope=col>number_providers</th><th scope=col>mean_lowest_cost</th><th scope=col>mean_d_mbps</th><th scope=col>mean_u_mbps</th><th scope=col>mean_lat_ms</th></tr>\n",
       "</thead>\n",
       "<tbody>\n",
       "\t<tr><td> 0.50245011</td><td> 0.1993596</td><td> 0.5167430</td><td>0.3205972</td><td> 0.41151922</td><td> 0.1292741</td><td> 2.23493253</td><td>0.07418486</td><td> 1.7094218</td><td>-0.18458632</td><td>-1.05913969</td><td> 0.2831385</td><td> 1.17991288</td></tr>\n",
       "\t<tr><td> 0.88153598</td><td> 0.5037000</td><td> 0.9194434</td><td>0.7032231</td><td> 0.72118268</td><td> 2.9303783</td><td> 2.28240921</td><td>0.07416551</td><td> 2.2108891</td><td> 0.41923513</td><td>-0.64056563</td><td>-0.4304467</td><td>-0.15416598</td></tr>\n",
       "\t<tr><td>-0.19922325</td><td>-0.2191085</td><td>-0.2714809</td><td>0.4088955</td><td>-0.07753548</td><td>-1.2814270</td><td>-0.74343819</td><td>0.07345717</td><td> 1.2079545</td><td> 0.39687137</td><td>-0.31447576</td><td>-0.2727836</td><td> 0.10962741</td></tr>\n",
       "\t<tr><td>-0.81523778</td><td>-0.6248957</td><td>-0.9413759</td><td>0.2911645</td><td>-0.87198242</td><td>-1.0480017</td><td> 0.05100501</td><td>0.07347137</td><td>-0.2964475</td><td> 1.12369349</td><td>-0.85523159</td><td>-0.4058615</td><td>-0.27548794</td></tr>\n",
       "\t<tr><td>-0.07893639</td><td> 0.9982532</td><td>-0.1913226</td><td>1.5077184</td><td>-0.16011240</td><td>-1.0784484</td><td> 0.01302366</td><td>0.07354973</td><td>-0.2964475</td><td> 1.12369349</td><td>-0.08992031</td><td>-0.4758288</td><td>-0.30026584</td></tr>\n",
       "\t<tr><td> 0.28010167</td><td>-0.4854063</td><td> 0.1789328</td><td>0.5168156</td><td> 0.10826259</td><td>-0.1751938</td><td> 0.88026444</td><td>0.07377917</td><td> 0.2050198</td><td> 0.07383932</td><td>-0.57834859</td><td>-0.4065058</td><td>-0.07734433</td></tr>\n",
       "</tbody>\n",
       "</table>\n"
      ],
      "text/latex": [
       "A matrix: 6 × 13 of type dbl\n",
       "\\begin{tabular}{lllllllllllll}\n",
       " has\\_computer & no\\_computer & with\\_internet & no\\_internet & total\\_population & work\\_from\\_home & X65\\_and\\_older & median\\_income & number\\_providers & mean\\_lowest\\_cost & mean\\_d\\_mbps & mean\\_u\\_mbps & mean\\_lat\\_ms\\\\\n",
       "\\hline\n",
       "\t  0.50245011 &  0.1993596 &  0.5167430 & 0.3205972 &  0.41151922 &  0.1292741 &  2.23493253 & 0.07418486 &  1.7094218 & -0.18458632 & -1.05913969 &  0.2831385 &  1.17991288\\\\\n",
       "\t  0.88153598 &  0.5037000 &  0.9194434 & 0.7032231 &  0.72118268 &  2.9303783 &  2.28240921 & 0.07416551 &  2.2108891 &  0.41923513 & -0.64056563 & -0.4304467 & -0.15416598\\\\\n",
       "\t -0.19922325 & -0.2191085 & -0.2714809 & 0.4088955 & -0.07753548 & -1.2814270 & -0.74343819 & 0.07345717 &  1.2079545 &  0.39687137 & -0.31447576 & -0.2727836 &  0.10962741\\\\\n",
       "\t -0.81523778 & -0.6248957 & -0.9413759 & 0.2911645 & -0.87198242 & -1.0480017 &  0.05100501 & 0.07347137 & -0.2964475 &  1.12369349 & -0.85523159 & -0.4058615 & -0.27548794\\\\\n",
       "\t -0.07893639 &  0.9982532 & -0.1913226 & 1.5077184 & -0.16011240 & -1.0784484 &  0.01302366 & 0.07354973 & -0.2964475 &  1.12369349 & -0.08992031 & -0.4758288 & -0.30026584\\\\\n",
       "\t  0.28010167 & -0.4854063 &  0.1789328 & 0.5168156 &  0.10826259 & -0.1751938 &  0.88026444 & 0.07377917 &  0.2050198 &  0.07383932 & -0.57834859 & -0.4065058 & -0.07734433\\\\\n",
       "\\end{tabular}\n"
      ],
      "text/markdown": [
       "\n",
       "A matrix: 6 × 13 of type dbl\n",
       "\n",
       "| has_computer | no_computer | with_internet | no_internet | total_population | work_from_home | X65_and_older | median_income | number_providers | mean_lowest_cost | mean_d_mbps | mean_u_mbps | mean_lat_ms |\n",
       "|---|---|---|---|---|---|---|---|---|---|---|---|---|\n",
       "|  0.50245011 |  0.1993596 |  0.5167430 | 0.3205972 |  0.41151922 |  0.1292741 |  2.23493253 | 0.07418486 |  1.7094218 | -0.18458632 | -1.05913969 |  0.2831385 |  1.17991288 |\n",
       "|  0.88153598 |  0.5037000 |  0.9194434 | 0.7032231 |  0.72118268 |  2.9303783 |  2.28240921 | 0.07416551 |  2.2108891 |  0.41923513 | -0.64056563 | -0.4304467 | -0.15416598 |\n",
       "| -0.19922325 | -0.2191085 | -0.2714809 | 0.4088955 | -0.07753548 | -1.2814270 | -0.74343819 | 0.07345717 |  1.2079545 |  0.39687137 | -0.31447576 | -0.2727836 |  0.10962741 |\n",
       "| -0.81523778 | -0.6248957 | -0.9413759 | 0.2911645 | -0.87198242 | -1.0480017 |  0.05100501 | 0.07347137 | -0.2964475 |  1.12369349 | -0.85523159 | -0.4058615 | -0.27548794 |\n",
       "| -0.07893639 |  0.9982532 | -0.1913226 | 1.5077184 | -0.16011240 | -1.0784484 |  0.01302366 | 0.07354973 | -0.2964475 |  1.12369349 | -0.08992031 | -0.4758288 | -0.30026584 |\n",
       "|  0.28010167 | -0.4854063 |  0.1789328 | 0.5168156 |  0.10826259 | -0.1751938 |  0.88026444 | 0.07377917 |  0.2050198 |  0.07383932 | -0.57834859 | -0.4065058 | -0.07734433 |\n",
       "\n"
      ],
      "text/plain": [
       "     has_computer no_computer with_internet no_internet total_population\n",
       "[1,]  0.50245011   0.1993596   0.5167430    0.3205972    0.41151922     \n",
       "[2,]  0.88153598   0.5037000   0.9194434    0.7032231    0.72118268     \n",
       "[3,] -0.19922325  -0.2191085  -0.2714809    0.4088955   -0.07753548     \n",
       "[4,] -0.81523778  -0.6248957  -0.9413759    0.2911645   -0.87198242     \n",
       "[5,] -0.07893639   0.9982532  -0.1913226    1.5077184   -0.16011240     \n",
       "[6,]  0.28010167  -0.4854063   0.1789328    0.5168156    0.10826259     \n",
       "     work_from_home X65_and_older median_income number_providers\n",
       "[1,]  0.1292741      2.23493253   0.07418486     1.7094218      \n",
       "[2,]  2.9303783      2.28240921   0.07416551     2.2108891      \n",
       "[3,] -1.2814270     -0.74343819   0.07345717     1.2079545      \n",
       "[4,] -1.0480017      0.05100501   0.07347137    -0.2964475      \n",
       "[5,] -1.0784484      0.01302366   0.07354973    -0.2964475      \n",
       "[6,] -0.1751938      0.88026444   0.07377917     0.2050198      \n",
       "     mean_lowest_cost mean_d_mbps mean_u_mbps mean_lat_ms\n",
       "[1,] -0.18458632      -1.05913969  0.2831385   1.17991288\n",
       "[2,]  0.41923513      -0.64056563 -0.4304467  -0.15416598\n",
       "[3,]  0.39687137      -0.31447576 -0.2727836   0.10962741\n",
       "[4,]  1.12369349      -0.85523159 -0.4058615  -0.27548794\n",
       "[5,]  1.12369349      -0.08992031 -0.4758288  -0.30026584\n",
       "[6,]  0.07383932      -0.57834859 -0.4065058  -0.07734433"
      ]
     },
     "metadata": {},
     "output_type": "display_data"
    }
   ],
   "source": [
    "head(data)"
   ]
  },
  {
   "cell_type": "code",
   "execution_count": 46,
   "metadata": {
    "vscode": {
     "languageId": "r"
    }
   },
   "outputs": [
    {
     "data": {
      "text/html": [
       "<table class=\"dataframe\">\n",
       "<caption>A matrix: 6 × 13 of type dbl</caption>\n",
       "<thead>\n",
       "\t<tr><th scope=col>has_computer</th><th scope=col>no_computer</th><th scope=col>with_internet</th><th scope=col>no_internet</th><th scope=col>total_population</th><th scope=col>work_from_home</th><th scope=col>X65_and_older</th><th scope=col>median_income</th><th scope=col>number_providers</th><th scope=col>mean_lowest_cost</th><th scope=col>mean_d_mbps</th><th scope=col>mean_u_mbps</th><th scope=col>mean_lat_ms</th></tr>\n",
       "</thead>\n",
       "<tbody>\n",
       "\t<tr><td>-0.23760308</td><td>-0.09427495</td><td>-0.24436205</td><td>-0.15160688</td><td>-0.19460287</td><td>-0.06113227</td><td>-1.056874798</td><td>-0.03508120</td><td>-0.80836660</td><td> 0.08728882</td><td>0.50085541</td><td>-0.13389306</td><td>-0.55796771</td></tr>\n",
       "\t<tr><td>-0.17680321</td><td>-0.10102342</td><td>-0.18440603</td><td>-0.14104030</td><td>-0.14464232</td><td>-0.58772450</td><td>-0.457766085</td><td>-0.01487483</td><td>-0.44342183</td><td>-0.08408292</td><td>0.12847355</td><td> 0.08633155</td><td> 0.03091994</td></tr>\n",
       "\t<tr><td> 0.09388701</td><td> 0.10325822</td><td> 0.12793956</td><td>-0.19269827</td><td> 0.03653978</td><td> 0.60389211</td><td> 0.350356637</td><td>-0.03461782</td><td>-0.56926705</td><td>-0.18703171</td><td>0.14820152</td><td> 0.12855345</td><td>-0.05166359</td></tr>\n",
       "\t<tr><td> 0.16647968</td><td> 0.12760993</td><td> 0.19223834</td><td>-0.05945869</td><td> 0.17806750</td><td> 0.21401238</td><td>-0.010415731</td><td>-0.01500359</td><td> 0.06053754</td><td>-0.22946941</td><td>0.17464681</td><td> 0.08288096</td><td> 0.05625738</td></tr>\n",
       "\t<tr><td> 0.03475853</td><td>-0.43956674</td><td> 0.08424620</td><td>-0.66390256</td><td> 0.07050324</td><td> 0.47487957</td><td>-0.005734785</td><td>-0.03238659</td><td> 0.13053650</td><td>-0.49480259</td><td>0.03959514</td><td> 0.20952449</td><td> 0.13221783</td></tr>\n",
       "\t<tr><td>-0.06579224</td><td> 0.11401564</td><td>-0.04202898</td><td>-0.12139327</td><td>-0.02542948</td><td> 0.04115075</td><td>-0.206762683</td><td>-0.01732977</td><td>-0.04815649</td><td>-0.01734390</td><td>0.13584657</td><td> 0.09548293</td><td> 0.01816718</td></tr>\n",
       "</tbody>\n",
       "</table>\n"
      ],
      "text/latex": [
       "A matrix: 6 × 13 of type dbl\n",
       "\\begin{tabular}{lllllllllllll}\n",
       " has\\_computer & no\\_computer & with\\_internet & no\\_internet & total\\_population & work\\_from\\_home & X65\\_and\\_older & median\\_income & number\\_providers & mean\\_lowest\\_cost & mean\\_d\\_mbps & mean\\_u\\_mbps & mean\\_lat\\_ms\\\\\n",
       "\\hline\n",
       "\t -0.23760308 & -0.09427495 & -0.24436205 & -0.15160688 & -0.19460287 & -0.06113227 & -1.056874798 & -0.03508120 & -0.80836660 &  0.08728882 & 0.50085541 & -0.13389306 & -0.55796771\\\\\n",
       "\t -0.17680321 & -0.10102342 & -0.18440603 & -0.14104030 & -0.14464232 & -0.58772450 & -0.457766085 & -0.01487483 & -0.44342183 & -0.08408292 & 0.12847355 &  0.08633155 &  0.03091994\\\\\n",
       "\t  0.09388701 &  0.10325822 &  0.12793956 & -0.19269827 &  0.03653978 &  0.60389211 &  0.350356637 & -0.03461782 & -0.56926705 & -0.18703171 & 0.14820152 &  0.12855345 & -0.05166359\\\\\n",
       "\t  0.16647968 &  0.12760993 &  0.19223834 & -0.05945869 &  0.17806750 &  0.21401238 & -0.010415731 & -0.01500359 &  0.06053754 & -0.22946941 & 0.17464681 &  0.08288096 &  0.05625738\\\\\n",
       "\t  0.03475853 & -0.43956674 &  0.08424620 & -0.66390256 &  0.07050324 &  0.47487957 & -0.005734785 & -0.03238659 &  0.13053650 & -0.49480259 & 0.03959514 &  0.20952449 &  0.13221783\\\\\n",
       "\t -0.06579224 &  0.11401564 & -0.04202898 & -0.12139327 & -0.02542948 &  0.04115075 & -0.206762683 & -0.01732977 & -0.04815649 & -0.01734390 & 0.13584657 &  0.09548293 &  0.01816718\\\\\n",
       "\\end{tabular}\n"
      ],
      "text/markdown": [
       "\n",
       "A matrix: 6 × 13 of type dbl\n",
       "\n",
       "| has_computer | no_computer | with_internet | no_internet | total_population | work_from_home | X65_and_older | median_income | number_providers | mean_lowest_cost | mean_d_mbps | mean_u_mbps | mean_lat_ms |\n",
       "|---|---|---|---|---|---|---|---|---|---|---|---|---|\n",
       "| -0.23760308 | -0.09427495 | -0.24436205 | -0.15160688 | -0.19460287 | -0.06113227 | -1.056874798 | -0.03508120 | -0.80836660 |  0.08728882 | 0.50085541 | -0.13389306 | -0.55796771 |\n",
       "| -0.17680321 | -0.10102342 | -0.18440603 | -0.14104030 | -0.14464232 | -0.58772450 | -0.457766085 | -0.01487483 | -0.44342183 | -0.08408292 | 0.12847355 |  0.08633155 |  0.03091994 |\n",
       "|  0.09388701 |  0.10325822 |  0.12793956 | -0.19269827 |  0.03653978 |  0.60389211 |  0.350356637 | -0.03461782 | -0.56926705 | -0.18703171 | 0.14820152 |  0.12855345 | -0.05166359 |\n",
       "|  0.16647968 |  0.12760993 |  0.19223834 | -0.05945869 |  0.17806750 |  0.21401238 | -0.010415731 | -0.01500359 |  0.06053754 | -0.22946941 | 0.17464681 |  0.08288096 |  0.05625738 |\n",
       "|  0.03475853 | -0.43956674 |  0.08424620 | -0.66390256 |  0.07050324 |  0.47487957 | -0.005734785 | -0.03238659 |  0.13053650 | -0.49480259 | 0.03959514 |  0.20952449 |  0.13221783 |\n",
       "| -0.06579224 |  0.11401564 | -0.04202898 | -0.12139327 | -0.02542948 |  0.04115075 | -0.206762683 | -0.01732977 | -0.04815649 | -0.01734390 | 0.13584657 |  0.09548293 |  0.01816718 |\n",
       "\n"
      ],
      "text/plain": [
       "     has_computer no_computer with_internet no_internet total_population\n",
       "[1,] -0.23760308  -0.09427495 -0.24436205   -0.15160688 -0.19460287     \n",
       "[2,] -0.17680321  -0.10102342 -0.18440603   -0.14104030 -0.14464232     \n",
       "[3,]  0.09388701   0.10325822  0.12793956   -0.19269827  0.03653978     \n",
       "[4,]  0.16647968   0.12760993  0.19223834   -0.05945869  0.17806750     \n",
       "[5,]  0.03475853  -0.43956674  0.08424620   -0.66390256  0.07050324     \n",
       "[6,] -0.06579224   0.11401564 -0.04202898   -0.12139327 -0.02542948     \n",
       "     work_from_home X65_and_older median_income number_providers\n",
       "[1,] -0.06113227    -1.056874798  -0.03508120   -0.80836660     \n",
       "[2,] -0.58772450    -0.457766085  -0.01487483   -0.44342183     \n",
       "[3,]  0.60389211     0.350356637  -0.03461782   -0.56926705     \n",
       "[4,]  0.21401238    -0.010415731  -0.01500359    0.06053754     \n",
       "[5,]  0.47487957    -0.005734785  -0.03238659    0.13053650     \n",
       "[6,]  0.04115075    -0.206762683  -0.01732977   -0.04815649     \n",
       "     mean_lowest_cost mean_d_mbps mean_u_mbps mean_lat_ms\n",
       "[1,]  0.08728882      0.50085541  -0.13389306 -0.55796771\n",
       "[2,] -0.08408292      0.12847355   0.08633155  0.03091994\n",
       "[3,] -0.18703171      0.14820152   0.12855345 -0.05166359\n",
       "[4,] -0.22946941      0.17464681   0.08288096  0.05625738\n",
       "[5,] -0.49480259      0.03959514   0.20952449  0.13221783\n",
       "[6,] -0.01734390      0.13584657   0.09548293  0.01816718"
      ]
     },
     "metadata": {},
     "output_type": "display_data"
    }
   ],
   "source": [
    "# multiply the weights by the standardized data to get an index column\n",
    "index <- data\n",
    "\n",
    "for (i in 1:ncol(index)) {\n",
    "    index[i, ] <- index[i, ] * weights[i, 1]\n",
    "}\n",
    "\n",
    "\n",
    "head(index)"
   ]
  },
  {
   "cell_type": "code",
   "execution_count": null,
   "metadata": {
    "vscode": {
     "languageId": "r"
    }
   },
   "outputs": [],
   "source": [
    "\n",
    "# sum the rows\n",
    "index <- index %>%\n",
    "    as.data.frame() %>%\n",
    "    transmute(index = rowSums(.))\n",
    "\n",
    "head(index)"
   ]
  },
  {
   "cell_type": "code",
   "execution_count": 21,
   "metadata": {
    "vscode": {
     "languageId": "r"
    }
   },
   "outputs": [
    {
     "data": {
      "text/html": [
       "183"
      ],
      "text/latex": [
       "183"
      ],
      "text/markdown": [
       "183"
      ],
      "text/plain": [
       "[1] 183"
      ]
     },
     "metadata": {},
     "output_type": "display_data"
    }
   ],
   "source": [
    "nrow(index)"
   ]
  },
  {
   "cell_type": "code",
   "execution_count": 23,
   "metadata": {
    "vscode": {
     "languageId": "r"
    }
   },
   "outputs": [
    {
     "data": {
      "text/html": [
       "<table class=\"dataframe\">\n",
       "<caption>A data.frame: 6 × 14</caption>\n",
       "<thead>\n",
       "\t<tr><th></th><th scope=col>has_computer</th><th scope=col>no_computer</th><th scope=col>with_internet</th><th scope=col>no_internet</th><th scope=col>total_population</th><th scope=col>work_from_home</th><th scope=col>X65_and_older</th><th scope=col>median_income</th><th scope=col>number_providers</th><th scope=col>mean_lowest_cost</th><th scope=col>mean_d_mbps</th><th scope=col>mean_u_mbps</th><th scope=col>mean_lat_ms</th><th scope=col>index</th></tr>\n",
       "\t<tr><th></th><th scope=col>&lt;dbl&gt;</th><th scope=col>&lt;dbl&gt;</th><th scope=col>&lt;dbl&gt;</th><th scope=col>&lt;dbl&gt;</th><th scope=col>&lt;dbl&gt;</th><th scope=col>&lt;dbl&gt;</th><th scope=col>&lt;dbl&gt;</th><th scope=col>&lt;dbl&gt;</th><th scope=col>&lt;dbl&gt;</th><th scope=col>&lt;dbl&gt;</th><th scope=col>&lt;dbl&gt;</th><th scope=col>&lt;dbl&gt;</th><th scope=col>&lt;dbl&gt;</th><th scope=col>&lt;dbl&gt;</th></tr>\n",
       "</thead>\n",
       "<tbody>\n",
       "\t<tr><th scope=row>1</th><td> 0.50245011</td><td> 0.1993596</td><td> 0.5167430</td><td>0.3205972</td><td> 0.41151922</td><td> 0.1292741</td><td> 2.23493253</td><td>0.07418486</td><td> 1.7094218</td><td>-0.18458632</td><td>-1.05913969</td><td> 0.2831385</td><td> 1.17991288</td><td>-2.9876212</td></tr>\n",
       "\t<tr><th scope=row>2</th><td> 0.88153598</td><td> 0.5037000</td><td> 0.9194434</td><td>0.7032231</td><td> 0.72118268</td><td> 2.9303783</td><td> 2.28240921</td><td>0.07416551</td><td> 2.2108891</td><td> 0.41923513</td><td>-0.64056563</td><td>-0.4304467</td><td>-0.15416598</td><td>-2.0900604</td></tr>\n",
       "\t<tr><th scope=row>3</th><td>-0.19922325</td><td>-0.2191085</td><td>-0.2714809</td><td>0.4088955</td><td>-0.07753548</td><td>-1.2814270</td><td>-0.74343819</td><td>0.07345717</td><td> 1.2079545</td><td> 0.39687137</td><td>-0.31447576</td><td>-0.2727836</td><td> 0.10962741</td><td> 0.5573498</td></tr>\n",
       "\t<tr><th scope=row>4</th><td>-0.81523778</td><td>-0.6248957</td><td>-0.9413759</td><td>0.2911645</td><td>-0.87198242</td><td>-1.0480017</td><td> 0.05100501</td><td>0.07347137</td><td>-0.2964475</td><td> 1.12369349</td><td>-0.85523159</td><td>-0.4058615</td><td>-0.27548794</td><td> 0.9383831</td></tr>\n",
       "\t<tr><th scope=row>5</th><td>-0.07893639</td><td> 0.9982532</td><td>-0.1913226</td><td>1.5077184</td><td>-0.16011240</td><td>-1.0784484</td><td> 0.01302366</td><td>0.07354973</td><td>-0.2964475</td><td> 1.12369349</td><td>-0.08992031</td><td>-0.4758288</td><td>-0.30026584</td><td>-0.4601318</td></tr>\n",
       "\t<tr><th scope=row>6</th><td> 0.28010167</td><td>-0.4854063</td><td> 0.1789328</td><td>0.5168156</td><td> 0.10826259</td><td>-0.1751938</td><td> 0.88026444</td><td>0.07377917</td><td> 0.2050198</td><td> 0.07383932</td><td>-0.57834859</td><td>-0.4065058</td><td>-0.07734433</td><td>-0.1395737</td></tr>\n",
       "</tbody>\n",
       "</table>\n"
      ],
      "text/latex": [
       "A data.frame: 6 × 14\n",
       "\\begin{tabular}{r|llllllllllllll}\n",
       "  & has\\_computer & no\\_computer & with\\_internet & no\\_internet & total\\_population & work\\_from\\_home & X65\\_and\\_older & median\\_income & number\\_providers & mean\\_lowest\\_cost & mean\\_d\\_mbps & mean\\_u\\_mbps & mean\\_lat\\_ms & index\\\\\n",
       "  & <dbl> & <dbl> & <dbl> & <dbl> & <dbl> & <dbl> & <dbl> & <dbl> & <dbl> & <dbl> & <dbl> & <dbl> & <dbl> & <dbl>\\\\\n",
       "\\hline\n",
       "\t1 &  0.50245011 &  0.1993596 &  0.5167430 & 0.3205972 &  0.41151922 &  0.1292741 &  2.23493253 & 0.07418486 &  1.7094218 & -0.18458632 & -1.05913969 &  0.2831385 &  1.17991288 & -2.9876212\\\\\n",
       "\t2 &  0.88153598 &  0.5037000 &  0.9194434 & 0.7032231 &  0.72118268 &  2.9303783 &  2.28240921 & 0.07416551 &  2.2108891 &  0.41923513 & -0.64056563 & -0.4304467 & -0.15416598 & -2.0900604\\\\\n",
       "\t3 & -0.19922325 & -0.2191085 & -0.2714809 & 0.4088955 & -0.07753548 & -1.2814270 & -0.74343819 & 0.07345717 &  1.2079545 &  0.39687137 & -0.31447576 & -0.2727836 &  0.10962741 &  0.5573498\\\\\n",
       "\t4 & -0.81523778 & -0.6248957 & -0.9413759 & 0.2911645 & -0.87198242 & -1.0480017 &  0.05100501 & 0.07347137 & -0.2964475 &  1.12369349 & -0.85523159 & -0.4058615 & -0.27548794 &  0.9383831\\\\\n",
       "\t5 & -0.07893639 &  0.9982532 & -0.1913226 & 1.5077184 & -0.16011240 & -1.0784484 &  0.01302366 & 0.07354973 & -0.2964475 &  1.12369349 & -0.08992031 & -0.4758288 & -0.30026584 & -0.4601318\\\\\n",
       "\t6 &  0.28010167 & -0.4854063 &  0.1789328 & 0.5168156 &  0.10826259 & -0.1751938 &  0.88026444 & 0.07377917 &  0.2050198 &  0.07383932 & -0.57834859 & -0.4065058 & -0.07734433 & -0.1395737\\\\\n",
       "\\end{tabular}\n"
      ],
      "text/markdown": [
       "\n",
       "A data.frame: 6 × 14\n",
       "\n",
       "| <!--/--> | has_computer &lt;dbl&gt; | no_computer &lt;dbl&gt; | with_internet &lt;dbl&gt; | no_internet &lt;dbl&gt; | total_population &lt;dbl&gt; | work_from_home &lt;dbl&gt; | X65_and_older &lt;dbl&gt; | median_income &lt;dbl&gt; | number_providers &lt;dbl&gt; | mean_lowest_cost &lt;dbl&gt; | mean_d_mbps &lt;dbl&gt; | mean_u_mbps &lt;dbl&gt; | mean_lat_ms &lt;dbl&gt; | index &lt;dbl&gt; |\n",
       "|---|---|---|---|---|---|---|---|---|---|---|---|---|---|---|\n",
       "| 1 |  0.50245011 |  0.1993596 |  0.5167430 | 0.3205972 |  0.41151922 |  0.1292741 |  2.23493253 | 0.07418486 |  1.7094218 | -0.18458632 | -1.05913969 |  0.2831385 |  1.17991288 | -2.9876212 |\n",
       "| 2 |  0.88153598 |  0.5037000 |  0.9194434 | 0.7032231 |  0.72118268 |  2.9303783 |  2.28240921 | 0.07416551 |  2.2108891 |  0.41923513 | -0.64056563 | -0.4304467 | -0.15416598 | -2.0900604 |\n",
       "| 3 | -0.19922325 | -0.2191085 | -0.2714809 | 0.4088955 | -0.07753548 | -1.2814270 | -0.74343819 | 0.07345717 |  1.2079545 |  0.39687137 | -0.31447576 | -0.2727836 |  0.10962741 |  0.5573498 |\n",
       "| 4 | -0.81523778 | -0.6248957 | -0.9413759 | 0.2911645 | -0.87198242 | -1.0480017 |  0.05100501 | 0.07347137 | -0.2964475 |  1.12369349 | -0.85523159 | -0.4058615 | -0.27548794 |  0.9383831 |\n",
       "| 5 | -0.07893639 |  0.9982532 | -0.1913226 | 1.5077184 | -0.16011240 | -1.0784484 |  0.01302366 | 0.07354973 | -0.2964475 |  1.12369349 | -0.08992031 | -0.4758288 | -0.30026584 | -0.4601318 |\n",
       "| 6 |  0.28010167 | -0.4854063 |  0.1789328 | 0.5168156 |  0.10826259 | -0.1751938 |  0.88026444 | 0.07377917 |  0.2050198 |  0.07383932 | -0.57834859 | -0.4065058 | -0.07734433 | -0.1395737 |\n",
       "\n"
      ],
      "text/plain": [
       "  has_computer no_computer with_internet no_internet total_population\n",
       "1  0.50245011   0.1993596   0.5167430    0.3205972    0.41151922     \n",
       "2  0.88153598   0.5037000   0.9194434    0.7032231    0.72118268     \n",
       "3 -0.19922325  -0.2191085  -0.2714809    0.4088955   -0.07753548     \n",
       "4 -0.81523778  -0.6248957  -0.9413759    0.2911645   -0.87198242     \n",
       "5 -0.07893639   0.9982532  -0.1913226    1.5077184   -0.16011240     \n",
       "6  0.28010167  -0.4854063   0.1789328    0.5168156    0.10826259     \n",
       "  work_from_home X65_and_older median_income number_providers mean_lowest_cost\n",
       "1  0.1292741      2.23493253   0.07418486     1.7094218       -0.18458632     \n",
       "2  2.9303783      2.28240921   0.07416551     2.2108891        0.41923513     \n",
       "3 -1.2814270     -0.74343819   0.07345717     1.2079545        0.39687137     \n",
       "4 -1.0480017      0.05100501   0.07347137    -0.2964475        1.12369349     \n",
       "5 -1.0784484      0.01302366   0.07354973    -0.2964475        1.12369349     \n",
       "6 -0.1751938      0.88026444   0.07377917     0.2050198        0.07383932     \n",
       "  mean_d_mbps mean_u_mbps mean_lat_ms index     \n",
       "1 -1.05913969  0.2831385   1.17991288 -2.9876212\n",
       "2 -0.64056563 -0.4304467  -0.15416598 -2.0900604\n",
       "3 -0.31447576 -0.2727836   0.10962741  0.5573498\n",
       "4 -0.85523159 -0.4058615  -0.27548794  0.9383831\n",
       "5 -0.08992031 -0.4758288  -0.30026584 -0.4601318\n",
       "6 -0.57834859 -0.4065058  -0.07734433 -0.1395737"
      ]
     },
     "metadata": {},
     "output_type": "display_data"
    },
    {
     "name": "stdout",
     "output_type": "stream",
     "text": [
      "'data.frame':\t183 obs. of  14 variables:\n",
      " $ has_computer    : num  0.5025 0.8815 -0.1992 -0.8152 -0.0789 ...\n",
      " $ no_computer     : num  0.199 0.504 -0.219 -0.625 0.998 ...\n",
      " $ with_internet   : num  0.517 0.919 -0.271 -0.941 -0.191 ...\n",
      " $ no_internet     : num  0.321 0.703 0.409 0.291 1.508 ...\n",
      " $ total_population: num  0.4115 0.7212 -0.0775 -0.872 -0.1601 ...\n",
      " $ work_from_home  : num  0.129 2.93 -1.281 -1.048 -1.078 ...\n",
      " $ X65_and_older   : num  2.235 2.282 -0.743 0.051 0.013 ...\n",
      " $ median_income   : num  0.0742 0.0742 0.0735 0.0735 0.0735 ...\n",
      " $ number_providers: num  1.709 2.211 1.208 -0.296 -0.296 ...\n",
      " $ mean_lowest_cost: num  -0.185 0.419 0.397 1.124 1.124 ...\n",
      " $ mean_d_mbps     : num  -1.0591 -0.6406 -0.3145 -0.8552 -0.0899 ...\n",
      " $ mean_u_mbps     : num  0.283 -0.43 -0.273 -0.406 -0.476 ...\n",
      " $ mean_lat_ms     : num  1.18 -0.154 0.11 -0.275 -0.3 ...\n",
      " $ index           : num  -2.988 -2.09 0.557 0.938 -0.46 ...\n"
     ]
    }
   ],
   "source": [
    "index_data <- bind_cols(as.data.frame(data), index)\n",
    "head(index_data)\n",
    "str(index_data)"
   ]
  },
  {
   "cell_type": "code",
   "execution_count": 25,
   "metadata": {
    "vscode": {
     "languageId": "r"
    }
   },
   "outputs": [
    {
     "data": {
      "text/plain": [
       "Kaiser-Meyer-Olkin factor adequacy\n",
       "Call: KMO(r = index_data)\n",
       "Overall MSA =  0.6\n",
       "MSA for each item = \n",
       "    has_computer      no_computer    with_internet      no_internet \n",
       "            0.65             0.47             0.66             0.46 \n",
       "total_population   work_from_home    X65_and_older    median_income \n",
       "            0.88             0.62             0.88             0.15 \n",
       "number_providers mean_lowest_cost      mean_d_mbps      mean_u_mbps \n",
       "            0.44             0.19             0.57             0.42 \n",
       "     mean_lat_ms            index \n",
       "            0.55             0.64 "
      ]
     },
     "metadata": {},
     "output_type": "display_data"
    }
   ],
   "source": [
    "KMO(index_data)"
   ]
  },
  {
   "cell_type": "code",
   "execution_count": 24,
   "metadata": {
    "vscode": {
     "languageId": "r"
    }
   },
   "outputs": [
    {
     "data": {
      "text/plain": [
       "Kaiser-Meyer-Olkin factor adequacy\n",
       "Call: KMO(r = data)\n",
       "Overall MSA =  0.63\n",
       "MSA for each item = \n",
       "    has_computer      no_computer    with_internet      no_internet \n",
       "            0.58             0.42             0.59             0.39 \n",
       "total_population   work_from_home    X65_and_older    median_income \n",
       "            0.92             0.86             0.89             0.51 \n",
       "number_providers mean_lowest_cost      mean_d_mbps      mean_u_mbps \n",
       "            0.67             0.50             0.72             0.63 \n",
       "     mean_lat_ms \n",
       "            0.68 "
      ]
     },
     "metadata": {},
     "output_type": "display_data"
    }
   ],
   "source": [
    "KMO(data)"
   ]
  },
  {
   "cell_type": "code",
   "execution_count": 26,
   "metadata": {
    "vscode": {
     "languageId": "r"
    }
   },
   "outputs": [
    {
     "data": {
      "text/html": [
       "<table class=\"dataframe\">\n",
       "<caption>A matrix: 14 × 14 of type dbl</caption>\n",
       "<thead>\n",
       "\t<tr><th></th><th scope=col>has_computer</th><th scope=col>no_computer</th><th scope=col>with_internet</th><th scope=col>no_internet</th><th scope=col>total_population</th><th scope=col>work_from_home</th><th scope=col>X65_and_older</th><th scope=col>median_income</th><th scope=col>number_providers</th><th scope=col>mean_lowest_cost</th><th scope=col>mean_d_mbps</th><th scope=col>mean_u_mbps</th><th scope=col>mean_lat_ms</th><th scope=col>index</th></tr>\n",
       "</thead>\n",
       "<tbody>\n",
       "\t<tr><th scope=row>has_computer</th><td> 1.0000000</td><td> 0.253066350</td><td> 0.9894358</td><td> 0.33601648</td><td> 0.88769674</td><td> 0.429532198</td><td> 0.63073622</td><td> 0.16291986</td><td>-0.115869667</td><td> 0.10884185</td><td> 0.305540323</td><td> 0.196481890</td><td>-0.201306736</td><td> 4.7649309</td></tr>\n",
       "\t<tr><th scope=row>no_computer</th><td> 0.2530664</td><td> 1.000000000</td><td> 0.2229011</td><td> 0.81160243</td><td> 0.19988678</td><td>-0.103609877</td><td> 0.43653866</td><td> 0.08585943</td><td>-0.004018649</td><td>-0.07997225</td><td> 0.005032786</td><td>-0.008262893</td><td>-0.030159233</td><td> 2.6568536</td></tr>\n",
       "\t<tr><th scope=row>with_internet</th><td> 0.9894358</td><td> 0.222901065</td><td> 1.0000000</td><td> 0.25011983</td><td> 0.88409177</td><td> 0.444207496</td><td> 0.62529208</td><td> 0.16040888</td><td>-0.128826645</td><td> 0.13640579</td><td> 0.345073392</td><td> 0.199061509</td><td>-0.236716631</td><td> 4.6730172</td></tr>\n",
       "\t<tr><th scope=row>no_internet</th><td> 0.3360165</td><td> 0.811602433</td><td> 0.2501198</td><td> 1.00000000</td><td> 0.25381769</td><td>-0.067573490</td><td> 0.46139182</td><td> 0.08828841</td><td> 0.058941187</td><td>-0.09402742</td><td>-0.167864611</td><td>-0.076852099</td><td> 0.157177123</td><td> 2.8657308</td></tr>\n",
       "\t<tr><th scope=row>total_population</th><td> 0.8876967</td><td> 0.199886778</td><td> 0.8840918</td><td> 0.25381769</td><td> 1.00000000</td><td> 0.465567411</td><td> 0.55262306</td><td> 0.02849018</td><td>-0.121776161</td><td> 0.07103486</td><td> 0.268764165</td><td> 0.167427555</td><td>-0.141781841</td><td> 4.2955549</td></tr>\n",
       "\t<tr><th scope=row>work_from_home</th><td> 0.4295322</td><td>-0.103609877</td><td> 0.4442075</td><td>-0.06757349</td><td> 0.46556741</td><td> 1.000000000</td><td> 0.39074417</td><td> 0.03663670</td><td> 0.029399058</td><td>-0.00620995</td><td> 0.031442306</td><td>-0.058678724</td><td> 0.008545821</td><td> 2.2318265</td></tr>\n",
       "\t<tr><th scope=row>X65_and_older</th><td> 0.6307362</td><td> 0.436538658</td><td> 0.6252921</td><td> 0.46139182</td><td> 0.55262306</td><td> 0.390744170</td><td> 1.00000000</td><td> 0.14854040</td><td> 0.052929921</td><td> 0.05050125</td><td>-0.042326790</td><td>-0.169207400</td><td> 0.102017655</td><td> 3.8103078</td></tr>\n",
       "\t<tr><th scope=row>median_income</th><td> 0.1629199</td><td> 0.085859430</td><td> 0.1604089</td><td> 0.08828841</td><td> 0.02849018</td><td> 0.036636701</td><td> 0.14854040</td><td> 1.00000000</td><td> 0.021996041</td><td>-0.05377681</td><td>-0.047733455</td><td>-0.018159207</td><td> 0.058520706</td><td> 1.6741799</td></tr>\n",
       "\t<tr><th scope=row>number_providers</th><td>-0.1158697</td><td>-0.004018649</td><td>-0.1288266</td><td> 0.05894119</td><td>-0.12177616</td><td> 0.029399058</td><td> 0.05292992</td><td> 0.02199604</td><td> 1.000000000</td><td>-0.32945829</td><td>-0.480207980</td><td>-0.016272820</td><td> 0.446802457</td><td> 0.1279604</td></tr>\n",
       "\t<tr><th scope=row>mean_lowest_cost</th><td> 0.1088418</td><td>-0.079972253</td><td> 0.1364058</td><td>-0.09402742</td><td> 0.07103486</td><td>-0.006209950</td><td> 0.05050125</td><td>-0.05377681</td><td>-0.329458291</td><td> 1.00000000</td><td> 0.196642825</td><td> 0.084363556</td><td>-0.181091388</td><td> 1.0146502</td></tr>\n",
       "\t<tr><th scope=row>mean_d_mbps</th><td> 0.3055403</td><td> 0.005032786</td><td> 0.3450734</td><td>-0.16786461</td><td> 0.26876416</td><td> 0.031442306</td><td>-0.04232679</td><td>-0.04773346</td><td>-0.480207980</td><td> 0.19664282</td><td> 1.000000000</td><td> 0.404399664</td><td>-0.831561029</td><td> 1.1799674</td></tr>\n",
       "\t<tr><th scope=row>mean_u_mbps</th><td> 0.1964819</td><td>-0.008262893</td><td> 0.1990615</td><td>-0.07685210</td><td> 0.16742756</td><td>-0.058678724</td><td>-0.16920740</td><td>-0.01815921</td><td>-0.016272820</td><td> 0.08436356</td><td> 0.404399664</td><td> 1.000000000</td><td>-0.421146282</td><td> 1.3413011</td></tr>\n",
       "\t<tr><th scope=row>mean_lat_ms</th><td>-0.2013067</td><td>-0.030159233</td><td>-0.2367166</td><td> 0.15717712</td><td>-0.14178184</td><td> 0.008545821</td><td> 0.10201766</td><td> 0.05852071</td><td> 0.446802457</td><td>-0.18109139</td><td>-0.831561029</td><td>-0.421146282</td><td> 1.000000000</td><td>-0.4150802</td></tr>\n",
       "\t<tr><th scope=row>index</th><td> 4.7649309</td><td> 2.656853632</td><td> 4.6730172</td><td> 2.86573082</td><td> 4.29555488</td><td> 2.231826547</td><td> 3.81030782</td><td> 1.67417988</td><td> 0.127960438</td><td> 1.01465023</td><td> 1.179967392</td><td> 1.341301114</td><td>-0.415080178</td><td>30.6035869</td></tr>\n",
       "</tbody>\n",
       "</table>\n"
      ],
      "text/latex": [
       "A matrix: 14 × 14 of type dbl\n",
       "\\begin{tabular}{r|llllllllllllll}\n",
       "  & has\\_computer & no\\_computer & with\\_internet & no\\_internet & total\\_population & work\\_from\\_home & X65\\_and\\_older & median\\_income & number\\_providers & mean\\_lowest\\_cost & mean\\_d\\_mbps & mean\\_u\\_mbps & mean\\_lat\\_ms & index\\\\\n",
       "\\hline\n",
       "\thas\\_computer &  1.0000000 &  0.253066350 &  0.9894358 &  0.33601648 &  0.88769674 &  0.429532198 &  0.63073622 &  0.16291986 & -0.115869667 &  0.10884185 &  0.305540323 &  0.196481890 & -0.201306736 &  4.7649309\\\\\n",
       "\tno\\_computer &  0.2530664 &  1.000000000 &  0.2229011 &  0.81160243 &  0.19988678 & -0.103609877 &  0.43653866 &  0.08585943 & -0.004018649 & -0.07997225 &  0.005032786 & -0.008262893 & -0.030159233 &  2.6568536\\\\\n",
       "\twith\\_internet &  0.9894358 &  0.222901065 &  1.0000000 &  0.25011983 &  0.88409177 &  0.444207496 &  0.62529208 &  0.16040888 & -0.128826645 &  0.13640579 &  0.345073392 &  0.199061509 & -0.236716631 &  4.6730172\\\\\n",
       "\tno\\_internet &  0.3360165 &  0.811602433 &  0.2501198 &  1.00000000 &  0.25381769 & -0.067573490 &  0.46139182 &  0.08828841 &  0.058941187 & -0.09402742 & -0.167864611 & -0.076852099 &  0.157177123 &  2.8657308\\\\\n",
       "\ttotal\\_population &  0.8876967 &  0.199886778 &  0.8840918 &  0.25381769 &  1.00000000 &  0.465567411 &  0.55262306 &  0.02849018 & -0.121776161 &  0.07103486 &  0.268764165 &  0.167427555 & -0.141781841 &  4.2955549\\\\\n",
       "\twork\\_from\\_home &  0.4295322 & -0.103609877 &  0.4442075 & -0.06757349 &  0.46556741 &  1.000000000 &  0.39074417 &  0.03663670 &  0.029399058 & -0.00620995 &  0.031442306 & -0.058678724 &  0.008545821 &  2.2318265\\\\\n",
       "\tX65\\_and\\_older &  0.6307362 &  0.436538658 &  0.6252921 &  0.46139182 &  0.55262306 &  0.390744170 &  1.00000000 &  0.14854040 &  0.052929921 &  0.05050125 & -0.042326790 & -0.169207400 &  0.102017655 &  3.8103078\\\\\n",
       "\tmedian\\_income &  0.1629199 &  0.085859430 &  0.1604089 &  0.08828841 &  0.02849018 &  0.036636701 &  0.14854040 &  1.00000000 &  0.021996041 & -0.05377681 & -0.047733455 & -0.018159207 &  0.058520706 &  1.6741799\\\\\n",
       "\tnumber\\_providers & -0.1158697 & -0.004018649 & -0.1288266 &  0.05894119 & -0.12177616 &  0.029399058 &  0.05292992 &  0.02199604 &  1.000000000 & -0.32945829 & -0.480207980 & -0.016272820 &  0.446802457 &  0.1279604\\\\\n",
       "\tmean\\_lowest\\_cost &  0.1088418 & -0.079972253 &  0.1364058 & -0.09402742 &  0.07103486 & -0.006209950 &  0.05050125 & -0.05377681 & -0.329458291 &  1.00000000 &  0.196642825 &  0.084363556 & -0.181091388 &  1.0146502\\\\\n",
       "\tmean\\_d\\_mbps &  0.3055403 &  0.005032786 &  0.3450734 & -0.16786461 &  0.26876416 &  0.031442306 & -0.04232679 & -0.04773346 & -0.480207980 &  0.19664282 &  1.000000000 &  0.404399664 & -0.831561029 &  1.1799674\\\\\n",
       "\tmean\\_u\\_mbps &  0.1964819 & -0.008262893 &  0.1990615 & -0.07685210 &  0.16742756 & -0.058678724 & -0.16920740 & -0.01815921 & -0.016272820 &  0.08436356 &  0.404399664 &  1.000000000 & -0.421146282 &  1.3413011\\\\\n",
       "\tmean\\_lat\\_ms & -0.2013067 & -0.030159233 & -0.2367166 &  0.15717712 & -0.14178184 &  0.008545821 &  0.10201766 &  0.05852071 &  0.446802457 & -0.18109139 & -0.831561029 & -0.421146282 &  1.000000000 & -0.4150802\\\\\n",
       "\tindex &  4.7649309 &  2.656853632 &  4.6730172 &  2.86573082 &  4.29555488 &  2.231826547 &  3.81030782 &  1.67417988 &  0.127960438 &  1.01465023 &  1.179967392 &  1.341301114 & -0.415080178 & 30.6035869\\\\\n",
       "\\end{tabular}\n"
      ],
      "text/markdown": [
       "\n",
       "A matrix: 14 × 14 of type dbl\n",
       "\n",
       "| <!--/--> | has_computer | no_computer | with_internet | no_internet | total_population | work_from_home | X65_and_older | median_income | number_providers | mean_lowest_cost | mean_d_mbps | mean_u_mbps | mean_lat_ms | index |\n",
       "|---|---|---|---|---|---|---|---|---|---|---|---|---|---|---|\n",
       "| has_computer |  1.0000000 |  0.253066350 |  0.9894358 |  0.33601648 |  0.88769674 |  0.429532198 |  0.63073622 |  0.16291986 | -0.115869667 |  0.10884185 |  0.305540323 |  0.196481890 | -0.201306736 |  4.7649309 |\n",
       "| no_computer |  0.2530664 |  1.000000000 |  0.2229011 |  0.81160243 |  0.19988678 | -0.103609877 |  0.43653866 |  0.08585943 | -0.004018649 | -0.07997225 |  0.005032786 | -0.008262893 | -0.030159233 |  2.6568536 |\n",
       "| with_internet |  0.9894358 |  0.222901065 |  1.0000000 |  0.25011983 |  0.88409177 |  0.444207496 |  0.62529208 |  0.16040888 | -0.128826645 |  0.13640579 |  0.345073392 |  0.199061509 | -0.236716631 |  4.6730172 |\n",
       "| no_internet |  0.3360165 |  0.811602433 |  0.2501198 |  1.00000000 |  0.25381769 | -0.067573490 |  0.46139182 |  0.08828841 |  0.058941187 | -0.09402742 | -0.167864611 | -0.076852099 |  0.157177123 |  2.8657308 |\n",
       "| total_population |  0.8876967 |  0.199886778 |  0.8840918 |  0.25381769 |  1.00000000 |  0.465567411 |  0.55262306 |  0.02849018 | -0.121776161 |  0.07103486 |  0.268764165 |  0.167427555 | -0.141781841 |  4.2955549 |\n",
       "| work_from_home |  0.4295322 | -0.103609877 |  0.4442075 | -0.06757349 |  0.46556741 |  1.000000000 |  0.39074417 |  0.03663670 |  0.029399058 | -0.00620995 |  0.031442306 | -0.058678724 |  0.008545821 |  2.2318265 |\n",
       "| X65_and_older |  0.6307362 |  0.436538658 |  0.6252921 |  0.46139182 |  0.55262306 |  0.390744170 |  1.00000000 |  0.14854040 |  0.052929921 |  0.05050125 | -0.042326790 | -0.169207400 |  0.102017655 |  3.8103078 |\n",
       "| median_income |  0.1629199 |  0.085859430 |  0.1604089 |  0.08828841 |  0.02849018 |  0.036636701 |  0.14854040 |  1.00000000 |  0.021996041 | -0.05377681 | -0.047733455 | -0.018159207 |  0.058520706 |  1.6741799 |\n",
       "| number_providers | -0.1158697 | -0.004018649 | -0.1288266 |  0.05894119 | -0.12177616 |  0.029399058 |  0.05292992 |  0.02199604 |  1.000000000 | -0.32945829 | -0.480207980 | -0.016272820 |  0.446802457 |  0.1279604 |\n",
       "| mean_lowest_cost |  0.1088418 | -0.079972253 |  0.1364058 | -0.09402742 |  0.07103486 | -0.006209950 |  0.05050125 | -0.05377681 | -0.329458291 |  1.00000000 |  0.196642825 |  0.084363556 | -0.181091388 |  1.0146502 |\n",
       "| mean_d_mbps |  0.3055403 |  0.005032786 |  0.3450734 | -0.16786461 |  0.26876416 |  0.031442306 | -0.04232679 | -0.04773346 | -0.480207980 |  0.19664282 |  1.000000000 |  0.404399664 | -0.831561029 |  1.1799674 |\n",
       "| mean_u_mbps |  0.1964819 | -0.008262893 |  0.1990615 | -0.07685210 |  0.16742756 | -0.058678724 | -0.16920740 | -0.01815921 | -0.016272820 |  0.08436356 |  0.404399664 |  1.000000000 | -0.421146282 |  1.3413011 |\n",
       "| mean_lat_ms | -0.2013067 | -0.030159233 | -0.2367166 |  0.15717712 | -0.14178184 |  0.008545821 |  0.10201766 |  0.05852071 |  0.446802457 | -0.18109139 | -0.831561029 | -0.421146282 |  1.000000000 | -0.4150802 |\n",
       "| index |  4.7649309 |  2.656853632 |  4.6730172 |  2.86573082 |  4.29555488 |  2.231826547 |  3.81030782 |  1.67417988 |  0.127960438 |  1.01465023 |  1.179967392 |  1.341301114 | -0.415080178 | 30.6035869 |\n",
       "\n"
      ],
      "text/plain": [
       "                 has_computer no_computer  with_internet no_internet\n",
       "has_computer      1.0000000    0.253066350  0.9894358     0.33601648\n",
       "no_computer       0.2530664    1.000000000  0.2229011     0.81160243\n",
       "with_internet     0.9894358    0.222901065  1.0000000     0.25011983\n",
       "no_internet       0.3360165    0.811602433  0.2501198     1.00000000\n",
       "total_population  0.8876967    0.199886778  0.8840918     0.25381769\n",
       "work_from_home    0.4295322   -0.103609877  0.4442075    -0.06757349\n",
       "X65_and_older     0.6307362    0.436538658  0.6252921     0.46139182\n",
       "median_income     0.1629199    0.085859430  0.1604089     0.08828841\n",
       "number_providers -0.1158697   -0.004018649 -0.1288266     0.05894119\n",
       "mean_lowest_cost  0.1088418   -0.079972253  0.1364058    -0.09402742\n",
       "mean_d_mbps       0.3055403    0.005032786  0.3450734    -0.16786461\n",
       "mean_u_mbps       0.1964819   -0.008262893  0.1990615    -0.07685210\n",
       "mean_lat_ms      -0.2013067   -0.030159233 -0.2367166     0.15717712\n",
       "index             4.7649309    2.656853632  4.6730172     2.86573082\n",
       "                 total_population work_from_home X65_and_older median_income\n",
       "has_computer      0.88769674       0.429532198    0.63073622    0.16291986  \n",
       "no_computer       0.19988678      -0.103609877    0.43653866    0.08585943  \n",
       "with_internet     0.88409177       0.444207496    0.62529208    0.16040888  \n",
       "no_internet       0.25381769      -0.067573490    0.46139182    0.08828841  \n",
       "total_population  1.00000000       0.465567411    0.55262306    0.02849018  \n",
       "work_from_home    0.46556741       1.000000000    0.39074417    0.03663670  \n",
       "X65_and_older     0.55262306       0.390744170    1.00000000    0.14854040  \n",
       "median_income     0.02849018       0.036636701    0.14854040    1.00000000  \n",
       "number_providers -0.12177616       0.029399058    0.05292992    0.02199604  \n",
       "mean_lowest_cost  0.07103486      -0.006209950    0.05050125   -0.05377681  \n",
       "mean_d_mbps       0.26876416       0.031442306   -0.04232679   -0.04773346  \n",
       "mean_u_mbps       0.16742756      -0.058678724   -0.16920740   -0.01815921  \n",
       "mean_lat_ms      -0.14178184       0.008545821    0.10201766    0.05852071  \n",
       "index             4.29555488       2.231826547    3.81030782    1.67417988  \n",
       "                 number_providers mean_lowest_cost mean_d_mbps  mean_u_mbps \n",
       "has_computer     -0.115869667      0.10884185       0.305540323  0.196481890\n",
       "no_computer      -0.004018649     -0.07997225       0.005032786 -0.008262893\n",
       "with_internet    -0.128826645      0.13640579       0.345073392  0.199061509\n",
       "no_internet       0.058941187     -0.09402742      -0.167864611 -0.076852099\n",
       "total_population -0.121776161      0.07103486       0.268764165  0.167427555\n",
       "work_from_home    0.029399058     -0.00620995       0.031442306 -0.058678724\n",
       "X65_and_older     0.052929921      0.05050125      -0.042326790 -0.169207400\n",
       "median_income     0.021996041     -0.05377681      -0.047733455 -0.018159207\n",
       "number_providers  1.000000000     -0.32945829      -0.480207980 -0.016272820\n",
       "mean_lowest_cost -0.329458291      1.00000000       0.196642825  0.084363556\n",
       "mean_d_mbps      -0.480207980      0.19664282       1.000000000  0.404399664\n",
       "mean_u_mbps      -0.016272820      0.08436356       0.404399664  1.000000000\n",
       "mean_lat_ms       0.446802457     -0.18109139      -0.831561029 -0.421146282\n",
       "index             0.127960438      1.01465023       1.179967392  1.341301114\n",
       "                 mean_lat_ms  index     \n",
       "has_computer     -0.201306736  4.7649309\n",
       "no_computer      -0.030159233  2.6568536\n",
       "with_internet    -0.236716631  4.6730172\n",
       "no_internet       0.157177123  2.8657308\n",
       "total_population -0.141781841  4.2955549\n",
       "work_from_home    0.008545821  2.2318265\n",
       "X65_and_older     0.102017655  3.8103078\n",
       "median_income     0.058520706  1.6741799\n",
       "number_providers  0.446802457  0.1279604\n",
       "mean_lowest_cost -0.181091388  1.0146502\n",
       "mean_d_mbps      -0.831561029  1.1799674\n",
       "mean_u_mbps      -0.421146282  1.3413011\n",
       "mean_lat_ms       1.000000000 -0.4150802\n",
       "index            -0.415080178 30.6035869"
      ]
     },
     "metadata": {},
     "output_type": "display_data"
    }
   ],
   "source": [
    "cov(index_data)"
   ]
  },
  {
   "cell_type": "code",
   "execution_count": 29,
   "metadata": {
    "vscode": {
     "languageId": "r"
    }
   },
   "outputs": [
    {
     "name": "stderr",
     "output_type": "stream",
     "text": [
      "Warning message in log(detR):\n",
      "“NaNs produced”\n"
     ]
    },
    {
     "data": {
      "text/html": [
       "<dl>\n",
       "\t<dt>$chisq</dt>\n",
       "\t\t<dd>NaN</dd>\n",
       "\t<dt>$p.value</dt>\n",
       "\t\t<dd>NaN</dd>\n",
       "\t<dt>$df</dt>\n",
       "\t\t<dd>91</dd>\n",
       "</dl>\n"
      ],
      "text/latex": [
       "\\begin{description}\n",
       "\\item[\\$chisq] NaN\n",
       "\\item[\\$p.value] NaN\n",
       "\\item[\\$df] 91\n",
       "\\end{description}\n"
      ],
      "text/markdown": [
       "$chisq\n",
       ":   NaN\n",
       "$p.value\n",
       ":   NaN\n",
       "$df\n",
       ":   91\n",
       "\n",
       "\n"
      ],
      "text/plain": [
       "$chisq\n",
       "[1] NaN\n",
       "\n",
       "$p.value\n",
       "[1] NaN\n",
       "\n",
       "$df\n",
       "[1] 91\n"
      ]
     },
     "metadata": {},
     "output_type": "display_data"
    }
   ],
   "source": [
    "# check correlation of data\n",
    "cortest.bartlett(cov(index_data), 183)\n",
    "options(scipen = 999)"
   ]
  },
  {
   "cell_type": "code",
   "execution_count": 30,
   "metadata": {
    "vscode": {
     "languageId": "r"
    }
   },
   "outputs": [
    {
     "data": {
      "text/html": [
       "<table class=\"dataframe\">\n",
       "<caption>A matrix: 14 × 14 of type dbl</caption>\n",
       "<thead>\n",
       "\t<tr><th></th><th scope=col>has_computer</th><th scope=col>no_computer</th><th scope=col>with_internet</th><th scope=col>no_internet</th><th scope=col>total_population</th><th scope=col>work_from_home</th><th scope=col>X65_and_older</th><th scope=col>median_income</th><th scope=col>number_providers</th><th scope=col>mean_lowest_cost</th><th scope=col>mean_d_mbps</th><th scope=col>mean_u_mbps</th><th scope=col>mean_lat_ms</th><th scope=col>index</th></tr>\n",
       "</thead>\n",
       "<tbody>\n",
       "\t<tr><th scope=row>has_computer</th><td>               NA</td><td>0.000547450315238507</td><td>0.0000000000000000</td><td>0.00000331402263054059</td><td>0.0000000000000000000000</td><td>0.00000000129881572</td><td>0.0000000000000000000000</td><td>0.02755381191</td><td>0.118292436762502007</td><td>0.142469388878</td><td>0.000025995933165657</td><td>0.007680971891602</td><td>0.0062836851041634</td><td>0.00000000000000000000</td></tr>\n",
       "\t<tr><th scope=row>no_computer</th><td>0.000547450315239</td><td>                  NA</td><td>0.0024218426408518</td><td>0.00000000000000000000</td><td>0.0066692464896509484618</td><td>0.16278564301598841</td><td>0.0000000006506388761096</td><td>0.24781962254</td><td>0.956942344133768108</td><td>0.281857375494</td><td>0.946091174371020971</td><td>0.911604991694855</td><td>0.6852693818004278</td><td>0.00000000000598943117</td></tr>\n",
       "\t<tr><th scope=row>with_internet</th><td>0.000000000000000</td><td>0.002421842640851768</td><td>                NA</td><td>0.00063825381089177569</td><td>0.0000000000000000000000</td><td>0.00000000029979041</td><td>0.0000000000000000000000</td><td>0.03006989820</td><td>0.082203264746717686</td><td>0.065587150157</td><td>0.000001719724394889</td><td>0.006902898453880</td><td>0.0012541075067722</td><td>0.00000000000000000000</td></tr>\n",
       "\t<tr><th scope=row>no_internet</th><td>0.000003314022631</td><td>0.000000000000000000</td><td>0.0006382538108918</td><td>                    NA</td><td>0.0005262883547960672814</td><td>0.36340664363441966</td><td>0.0000000000491633400657</td><td>0.23464357848</td><td>0.428029883421097157</td><td>0.205487871556</td><td>0.023122021384438973</td><td>0.301116376982816</td><td>0.0335942111080203</td><td>0.00000000000005906386</td></tr>\n",
       "\t<tr><th scope=row>total_population</th><td>0.000000000000000</td><td>0.006669246489650948</td><td>0.0000000000000000</td><td>0.00052628835479606728</td><td>                      NA</td><td>0.00000000003120038</td><td>0.0000000000000004440892</td><td>0.70183475119</td><td>0.100551272738960584</td><td>0.339292030314</td><td>0.000234350069882705</td><td>0.023487314969218</td><td>0.0555524971855204</td><td>0.00000000000000000000</td></tr>\n",
       "\t<tr><th scope=row>work_from_home</th><td>0.000000001298816</td><td>0.162785643015988413</td><td>0.0000000002997904</td><td>0.36340664363441965712</td><td>0.0000000000312003756164</td><td>                 NA</td><td>0.0000000453473543160499</td><td>0.62244971817</td><td>0.692796119793770648</td><td>0.933508191298</td><td>0.672635578892659680</td><td>0.430093269468229</td><td>0.9085912323262459</td><td>0.00000001489964684964</td></tr>\n",
       "\t<tr><th scope=row>X65_and_older</th><td>0.000000000000000</td><td>0.000000000650638876</td><td>0.0000000000000000</td><td>0.00000000004916334007</td><td>0.0000000000000004440892</td><td>0.00000004534735432</td><td>                      NA</td><td>0.04477147246</td><td>0.476702946467304045</td><td>0.497188268940</td><td>0.569411922064836595</td><td>0.022030156319832</td><td>0.1693793288053427</td><td>0.00000000000000000000</td></tr>\n",
       "\t<tr><th scope=row>median_income</th><td>0.027553811908482</td><td>0.247819622542666096</td><td>0.0300698982044132</td><td>0.23464357847554562220</td><td>0.7018347511899820645453</td><td>0.62244971817025663</td><td>0.0447714724648202722079</td><td>           NA</td><td>0.767570871280282230</td><td>0.469668921788</td><td>0.521089097196837159</td><td>0.807238517875172</td><td>0.4313383103711319</td><td>0.00003127841996475311</td></tr>\n",
       "\t<tr><th scope=row>number_providers</th><td>0.118292436762502</td><td>0.956942344133768108</td><td>0.0822032647467177</td><td>0.42802988342109715703</td><td>0.1005512727389605842632</td><td>0.69279611979377065</td><td>0.4767029464673040450862</td><td>0.76757087128</td><td>                  NA</td><td>0.000005261423</td><td>0.000000000006029399</td><td>0.826929938720940</td><td>0.0000000002296336</td><td>0.75594934561303150922</td></tr>\n",
       "\t<tr><th scope=row>mean_lowest_cost</th><td>0.142469388877798</td><td>0.281857375494158013</td><td>0.0655871501573895</td><td>0.20548787155552528105</td><td>0.3392920303139159710071</td><td>0.93350819129815132</td><td>0.4971882689404691912927</td><td>0.46966892179</td><td>0.000005261422731273</td><td>            NA</td><td>0.007630242115620911</td><td>0.256184957503357</td><td>0.0141555670114635</td><td>0.01294480607776238301</td></tr>\n",
       "\t<tr><th scope=row>mean_d_mbps</th><td>0.000025995933166</td><td>0.946091174371020971</td><td>0.0000017197243949</td><td>0.02312202138443897326</td><td>0.0002343500698827050144</td><td>0.67263557889265968</td><td>0.5694119220648365953252</td><td>0.52108909720</td><td>0.000000000006029399</td><td>0.007630242116</td><td>                  NA</td><td>0.000000013665493</td><td>0.0000000000000000</td><td>0.00374249106595025971</td></tr>\n",
       "\t<tr><th scope=row>mean_u_mbps</th><td>0.007680971891602</td><td>0.911604991694854760</td><td>0.0069028984538804</td><td>0.30111637698281557007</td><td>0.0234873149692178539993</td><td>0.43009326946822890</td><td>0.0220301563198315175640</td><td>0.80723851788</td><td>0.826929938720939672</td><td>0.256184957503</td><td>0.000000013665493181</td><td>               NA</td><td>0.0000000029104892</td><td>0.00094318345300914430</td></tr>\n",
       "\t<tr><th scope=row>mean_lat_ms</th><td>0.006283685104163</td><td>0.685269381800427846</td><td>0.0012541075067722</td><td>0.03359421110802029986</td><td>0.0555524971855203553162</td><td>0.90859123232624595</td><td>0.1693793288053426771000</td><td>0.43133831037</td><td>0.000000000229633645</td><td>0.014155567011</td><td>0.000000000000000000</td><td>0.000000002910489</td><td>                NA</td><td>0.31274391644650778588</td></tr>\n",
       "\t<tr><th scope=row>index</th><td>0.000000000000000</td><td>0.000000000005989431</td><td>0.0000000000000000</td><td>0.00000000000005906386</td><td>0.0000000000000000000000</td><td>0.00000001489964685</td><td>0.0000000000000000000000</td><td>0.00003127842</td><td>0.755949345613031509</td><td>0.012944806078</td><td>0.003742491065950260</td><td>0.000943183453009</td><td>0.3127439164465078</td><td>                    NA</td></tr>\n",
       "</tbody>\n",
       "</table>\n"
      ],
      "text/latex": [
       "A matrix: 14 × 14 of type dbl\n",
       "\\begin{tabular}{r|llllllllllllll}\n",
       "  & has\\_computer & no\\_computer & with\\_internet & no\\_internet & total\\_population & work\\_from\\_home & X65\\_and\\_older & median\\_income & number\\_providers & mean\\_lowest\\_cost & mean\\_d\\_mbps & mean\\_u\\_mbps & mean\\_lat\\_ms & index\\\\\n",
       "\\hline\n",
       "\thas\\_computer &                NA & 0.000547450315238507 & 0.0000000000000000 & 0.00000331402263054059 & 0.0000000000000000000000 & 0.00000000129881572 & 0.0000000000000000000000 & 0.02755381191 & 0.118292436762502007 & 0.142469388878 & 0.000025995933165657 & 0.007680971891602 & 0.0062836851041634 & 0.00000000000000000000\\\\\n",
       "\tno\\_computer & 0.000547450315239 &                   NA & 0.0024218426408518 & 0.00000000000000000000 & 0.0066692464896509484618 & 0.16278564301598841 & 0.0000000006506388761096 & 0.24781962254 & 0.956942344133768108 & 0.281857375494 & 0.946091174371020971 & 0.911604991694855 & 0.6852693818004278 & 0.00000000000598943117\\\\\n",
       "\twith\\_internet & 0.000000000000000 & 0.002421842640851768 &                 NA & 0.00063825381089177569 & 0.0000000000000000000000 & 0.00000000029979041 & 0.0000000000000000000000 & 0.03006989820 & 0.082203264746717686 & 0.065587150157 & 0.000001719724394889 & 0.006902898453880 & 0.0012541075067722 & 0.00000000000000000000\\\\\n",
       "\tno\\_internet & 0.000003314022631 & 0.000000000000000000 & 0.0006382538108918 &                     NA & 0.0005262883547960672814 & 0.36340664363441966 & 0.0000000000491633400657 & 0.23464357848 & 0.428029883421097157 & 0.205487871556 & 0.023122021384438973 & 0.301116376982816 & 0.0335942111080203 & 0.00000000000005906386\\\\\n",
       "\ttotal\\_population & 0.000000000000000 & 0.006669246489650948 & 0.0000000000000000 & 0.00052628835479606728 &                       NA & 0.00000000003120038 & 0.0000000000000004440892 & 0.70183475119 & 0.100551272738960584 & 0.339292030314 & 0.000234350069882705 & 0.023487314969218 & 0.0555524971855204 & 0.00000000000000000000\\\\\n",
       "\twork\\_from\\_home & 0.000000001298816 & 0.162785643015988413 & 0.0000000002997904 & 0.36340664363441965712 & 0.0000000000312003756164 &                  NA & 0.0000000453473543160499 & 0.62244971817 & 0.692796119793770648 & 0.933508191298 & 0.672635578892659680 & 0.430093269468229 & 0.9085912323262459 & 0.00000001489964684964\\\\\n",
       "\tX65\\_and\\_older & 0.000000000000000 & 0.000000000650638876 & 0.0000000000000000 & 0.00000000004916334007 & 0.0000000000000004440892 & 0.00000004534735432 &                       NA & 0.04477147246 & 0.476702946467304045 & 0.497188268940 & 0.569411922064836595 & 0.022030156319832 & 0.1693793288053427 & 0.00000000000000000000\\\\\n",
       "\tmedian\\_income & 0.027553811908482 & 0.247819622542666096 & 0.0300698982044132 & 0.23464357847554562220 & 0.7018347511899820645453 & 0.62244971817025663 & 0.0447714724648202722079 &            NA & 0.767570871280282230 & 0.469668921788 & 0.521089097196837159 & 0.807238517875172 & 0.4313383103711319 & 0.00003127841996475311\\\\\n",
       "\tnumber\\_providers & 0.118292436762502 & 0.956942344133768108 & 0.0822032647467177 & 0.42802988342109715703 & 0.1005512727389605842632 & 0.69279611979377065 & 0.4767029464673040450862 & 0.76757087128 &                   NA & 0.000005261423 & 0.000000000006029399 & 0.826929938720940 & 0.0000000002296336 & 0.75594934561303150922\\\\\n",
       "\tmean\\_lowest\\_cost & 0.142469388877798 & 0.281857375494158013 & 0.0655871501573895 & 0.20548787155552528105 & 0.3392920303139159710071 & 0.93350819129815132 & 0.4971882689404691912927 & 0.46966892179 & 0.000005261422731273 &             NA & 0.007630242115620911 & 0.256184957503357 & 0.0141555670114635 & 0.01294480607776238301\\\\\n",
       "\tmean\\_d\\_mbps & 0.000025995933166 & 0.946091174371020971 & 0.0000017197243949 & 0.02312202138443897326 & 0.0002343500698827050144 & 0.67263557889265968 & 0.5694119220648365953252 & 0.52108909720 & 0.000000000006029399 & 0.007630242116 &                   NA & 0.000000013665493 & 0.0000000000000000 & 0.00374249106595025971\\\\\n",
       "\tmean\\_u\\_mbps & 0.007680971891602 & 0.911604991694854760 & 0.0069028984538804 & 0.30111637698281557007 & 0.0234873149692178539993 & 0.43009326946822890 & 0.0220301563198315175640 & 0.80723851788 & 0.826929938720939672 & 0.256184957503 & 0.000000013665493181 &                NA & 0.0000000029104892 & 0.00094318345300914430\\\\\n",
       "\tmean\\_lat\\_ms & 0.006283685104163 & 0.685269381800427846 & 0.0012541075067722 & 0.03359421110802029986 & 0.0555524971855203553162 & 0.90859123232624595 & 0.1693793288053426771000 & 0.43133831037 & 0.000000000229633645 & 0.014155567011 & 0.000000000000000000 & 0.000000002910489 &                 NA & 0.31274391644650778588\\\\\n",
       "\tindex & 0.000000000000000 & 0.000000000005989431 & 0.0000000000000000 & 0.00000000000005906386 & 0.0000000000000000000000 & 0.00000001489964685 & 0.0000000000000000000000 & 0.00003127842 & 0.755949345613031509 & 0.012944806078 & 0.003742491065950260 & 0.000943183453009 & 0.3127439164465078 &                     NA\\\\\n",
       "\\end{tabular}\n"
      ],
      "text/markdown": [
       "\n",
       "A matrix: 14 × 14 of type dbl\n",
       "\n",
       "| <!--/--> | has_computer | no_computer | with_internet | no_internet | total_population | work_from_home | X65_and_older | median_income | number_providers | mean_lowest_cost | mean_d_mbps | mean_u_mbps | mean_lat_ms | index |\n",
       "|---|---|---|---|---|---|---|---|---|---|---|---|---|---|---|\n",
       "| has_computer |                NA | 0.000547450315238507 | 0.0000000000000000 | 0.00000331402263054059 | 0.0000000000000000000000 | 0.00000000129881572 | 0.0000000000000000000000 | 0.02755381191 | 0.118292436762502007 | 0.142469388878 | 0.000025995933165657 | 0.007680971891602 | 0.0062836851041634 | 0.00000000000000000000 |\n",
       "| no_computer | 0.000547450315239 |                   NA | 0.0024218426408518 | 0.00000000000000000000 | 0.0066692464896509484618 | 0.16278564301598841 | 0.0000000006506388761096 | 0.24781962254 | 0.956942344133768108 | 0.281857375494 | 0.946091174371020971 | 0.911604991694855 | 0.6852693818004278 | 0.00000000000598943117 |\n",
       "| with_internet | 0.000000000000000 | 0.002421842640851768 |                 NA | 0.00063825381089177569 | 0.0000000000000000000000 | 0.00000000029979041 | 0.0000000000000000000000 | 0.03006989820 | 0.082203264746717686 | 0.065587150157 | 0.000001719724394889 | 0.006902898453880 | 0.0012541075067722 | 0.00000000000000000000 |\n",
       "| no_internet | 0.000003314022631 | 0.000000000000000000 | 0.0006382538108918 |                     NA | 0.0005262883547960672814 | 0.36340664363441966 | 0.0000000000491633400657 | 0.23464357848 | 0.428029883421097157 | 0.205487871556 | 0.023122021384438973 | 0.301116376982816 | 0.0335942111080203 | 0.00000000000005906386 |\n",
       "| total_population | 0.000000000000000 | 0.006669246489650948 | 0.0000000000000000 | 0.00052628835479606728 |                       NA | 0.00000000003120038 | 0.0000000000000004440892 | 0.70183475119 | 0.100551272738960584 | 0.339292030314 | 0.000234350069882705 | 0.023487314969218 | 0.0555524971855204 | 0.00000000000000000000 |\n",
       "| work_from_home | 0.000000001298816 | 0.162785643015988413 | 0.0000000002997904 | 0.36340664363441965712 | 0.0000000000312003756164 |                  NA | 0.0000000453473543160499 | 0.62244971817 | 0.692796119793770648 | 0.933508191298 | 0.672635578892659680 | 0.430093269468229 | 0.9085912323262459 | 0.00000001489964684964 |\n",
       "| X65_and_older | 0.000000000000000 | 0.000000000650638876 | 0.0000000000000000 | 0.00000000004916334007 | 0.0000000000000004440892 | 0.00000004534735432 |                       NA | 0.04477147246 | 0.476702946467304045 | 0.497188268940 | 0.569411922064836595 | 0.022030156319832 | 0.1693793288053427 | 0.00000000000000000000 |\n",
       "| median_income | 0.027553811908482 | 0.247819622542666096 | 0.0300698982044132 | 0.23464357847554562220 | 0.7018347511899820645453 | 0.62244971817025663 | 0.0447714724648202722079 |            NA | 0.767570871280282230 | 0.469668921788 | 0.521089097196837159 | 0.807238517875172 | 0.4313383103711319 | 0.00003127841996475311 |\n",
       "| number_providers | 0.118292436762502 | 0.956942344133768108 | 0.0822032647467177 | 0.42802988342109715703 | 0.1005512727389605842632 | 0.69279611979377065 | 0.4767029464673040450862 | 0.76757087128 |                   NA | 0.000005261423 | 0.000000000006029399 | 0.826929938720940 | 0.0000000002296336 | 0.75594934561303150922 |\n",
       "| mean_lowest_cost | 0.142469388877798 | 0.281857375494158013 | 0.0655871501573895 | 0.20548787155552528105 | 0.3392920303139159710071 | 0.93350819129815132 | 0.4971882689404691912927 | 0.46966892179 | 0.000005261422731273 |             NA | 0.007630242115620911 | 0.256184957503357 | 0.0141555670114635 | 0.01294480607776238301 |\n",
       "| mean_d_mbps | 0.000025995933166 | 0.946091174371020971 | 0.0000017197243949 | 0.02312202138443897326 | 0.0002343500698827050144 | 0.67263557889265968 | 0.5694119220648365953252 | 0.52108909720 | 0.000000000006029399 | 0.007630242116 |                   NA | 0.000000013665493 | 0.0000000000000000 | 0.00374249106595025971 |\n",
       "| mean_u_mbps | 0.007680971891602 | 0.911604991694854760 | 0.0069028984538804 | 0.30111637698281557007 | 0.0234873149692178539993 | 0.43009326946822890 | 0.0220301563198315175640 | 0.80723851788 | 0.826929938720939672 | 0.256184957503 | 0.000000013665493181 |                NA | 0.0000000029104892 | 0.00094318345300914430 |\n",
       "| mean_lat_ms | 0.006283685104163 | 0.685269381800427846 | 0.0012541075067722 | 0.03359421110802029986 | 0.0555524971855203553162 | 0.90859123232624595 | 0.1693793288053426771000 | 0.43133831037 | 0.000000000229633645 | 0.014155567011 | 0.000000000000000000 | 0.000000002910489 |                 NA | 0.31274391644650778588 |\n",
       "| index | 0.000000000000000 | 0.000000000005989431 | 0.0000000000000000 | 0.00000000000005906386 | 0.0000000000000000000000 | 0.00000001489964685 | 0.0000000000000000000000 | 0.00003127842 | 0.755949345613031509 | 0.012944806078 | 0.003742491065950260 | 0.000943183453009 | 0.3127439164465078 |                     NA |\n",
       "\n"
      ],
      "text/plain": [
       "                 has_computer      no_computer          with_internet     \n",
       "has_computer                    NA 0.000547450315238507 0.0000000000000000\n",
       "no_computer      0.000547450315239                   NA 0.0024218426408518\n",
       "with_internet    0.000000000000000 0.002421842640851768                 NA\n",
       "no_internet      0.000003314022631 0.000000000000000000 0.0006382538108918\n",
       "total_population 0.000000000000000 0.006669246489650948 0.0000000000000000\n",
       "work_from_home   0.000000001298816 0.162785643015988413 0.0000000002997904\n",
       "X65_and_older    0.000000000000000 0.000000000650638876 0.0000000000000000\n",
       "median_income    0.027553811908482 0.247819622542666096 0.0300698982044132\n",
       "number_providers 0.118292436762502 0.956942344133768108 0.0822032647467177\n",
       "mean_lowest_cost 0.142469388877798 0.281857375494158013 0.0655871501573895\n",
       "mean_d_mbps      0.000025995933166 0.946091174371020971 0.0000017197243949\n",
       "mean_u_mbps      0.007680971891602 0.911604991694854760 0.0069028984538804\n",
       "mean_lat_ms      0.006283685104163 0.685269381800427846 0.0012541075067722\n",
       "index            0.000000000000000 0.000000000005989431 0.0000000000000000\n",
       "                 no_internet            total_population        \n",
       "has_computer     0.00000331402263054059 0.0000000000000000000000\n",
       "no_computer      0.00000000000000000000 0.0066692464896509484618\n",
       "with_internet    0.00063825381089177569 0.0000000000000000000000\n",
       "no_internet                          NA 0.0005262883547960672814\n",
       "total_population 0.00052628835479606728                       NA\n",
       "work_from_home   0.36340664363441965712 0.0000000000312003756164\n",
       "X65_and_older    0.00000000004916334007 0.0000000000000004440892\n",
       "median_income    0.23464357847554562220 0.7018347511899820645453\n",
       "number_providers 0.42802988342109715703 0.1005512727389605842632\n",
       "mean_lowest_cost 0.20548787155552528105 0.3392920303139159710071\n",
       "mean_d_mbps      0.02312202138443897326 0.0002343500698827050144\n",
       "mean_u_mbps      0.30111637698281557007 0.0234873149692178539993\n",
       "mean_lat_ms      0.03359421110802029986 0.0555524971855203553162\n",
       "index            0.00000000000005906386 0.0000000000000000000000\n",
       "                 work_from_home      X65_and_older            median_income\n",
       "has_computer     0.00000000129881572 0.0000000000000000000000 0.02755381191\n",
       "no_computer      0.16278564301598841 0.0000000006506388761096 0.24781962254\n",
       "with_internet    0.00000000029979041 0.0000000000000000000000 0.03006989820\n",
       "no_internet      0.36340664363441966 0.0000000000491633400657 0.23464357848\n",
       "total_population 0.00000000003120038 0.0000000000000004440892 0.70183475119\n",
       "work_from_home                    NA 0.0000000453473543160499 0.62244971817\n",
       "X65_and_older    0.00000004534735432                       NA 0.04477147246\n",
       "median_income    0.62244971817025663 0.0447714724648202722079            NA\n",
       "number_providers 0.69279611979377065 0.4767029464673040450862 0.76757087128\n",
       "mean_lowest_cost 0.93350819129815132 0.4971882689404691912927 0.46966892179\n",
       "mean_d_mbps      0.67263557889265968 0.5694119220648365953252 0.52108909720\n",
       "mean_u_mbps      0.43009326946822890 0.0220301563198315175640 0.80723851788\n",
       "mean_lat_ms      0.90859123232624595 0.1693793288053426771000 0.43133831037\n",
       "index            0.00000001489964685 0.0000000000000000000000 0.00003127842\n",
       "                 number_providers     mean_lowest_cost mean_d_mbps         \n",
       "has_computer     0.118292436762502007 0.142469388878   0.000025995933165657\n",
       "no_computer      0.956942344133768108 0.281857375494   0.946091174371020971\n",
       "with_internet    0.082203264746717686 0.065587150157   0.000001719724394889\n",
       "no_internet      0.428029883421097157 0.205487871556   0.023122021384438973\n",
       "total_population 0.100551272738960584 0.339292030314   0.000234350069882705\n",
       "work_from_home   0.692796119793770648 0.933508191298   0.672635578892659680\n",
       "X65_and_older    0.476702946467304045 0.497188268940   0.569411922064836595\n",
       "median_income    0.767570871280282230 0.469668921788   0.521089097196837159\n",
       "number_providers                   NA 0.000005261423   0.000000000006029399\n",
       "mean_lowest_cost 0.000005261422731273             NA   0.007630242115620911\n",
       "mean_d_mbps      0.000000000006029399 0.007630242116                     NA\n",
       "mean_u_mbps      0.826929938720939672 0.256184957503   0.000000013665493181\n",
       "mean_lat_ms      0.000000000229633645 0.014155567011   0.000000000000000000\n",
       "index            0.755949345613031509 0.012944806078   0.003742491065950260\n",
       "                 mean_u_mbps       mean_lat_ms        index                 \n",
       "has_computer     0.007680971891602 0.0062836851041634 0.00000000000000000000\n",
       "no_computer      0.911604991694855 0.6852693818004278 0.00000000000598943117\n",
       "with_internet    0.006902898453880 0.0012541075067722 0.00000000000000000000\n",
       "no_internet      0.301116376982816 0.0335942111080203 0.00000000000005906386\n",
       "total_population 0.023487314969218 0.0555524971855204 0.00000000000000000000\n",
       "work_from_home   0.430093269468229 0.9085912323262459 0.00000001489964684964\n",
       "X65_and_older    0.022030156319832 0.1693793288053427 0.00000000000000000000\n",
       "median_income    0.807238517875172 0.4313383103711319 0.00003127841996475311\n",
       "number_providers 0.826929938720940 0.0000000002296336 0.75594934561303150922\n",
       "mean_lowest_cost 0.256184957503357 0.0141555670114635 0.01294480607776238301\n",
       "mean_d_mbps      0.000000013665493 0.0000000000000000 0.00374249106595025971\n",
       "mean_u_mbps                     NA 0.0000000029104892 0.00094318345300914430\n",
       "mean_lat_ms      0.000000002910489                 NA 0.31274391644650778588\n",
       "index            0.000943183453009 0.3127439164465078                     NA"
      ]
     },
     "metadata": {},
     "output_type": "display_data"
    }
   ],
   "source": [
    "# p values from correlation matrix with index variable included\n",
    "# if p > alpha .05, fail to reject\n",
    "# remove the variable from the dataset\n",
    "\n",
    "rcorr(as.matrix(index_data), type = \"pearson\")$P\n"
   ]
  },
  {
   "cell_type": "code",
   "execution_count": 34,
   "metadata": {
    "vscode": {
     "languageId": "r"
    }
   },
   "outputs": [
    {
     "data": {
      "text/html": [
       "<table class=\"dataframe\">\n",
       "<caption>A matrix: 6 × 13 of type dbl</caption>\n",
       "<thead>\n",
       "\t<tr><th scope=col>has_computer</th><th scope=col>no_computer</th><th scope=col>with_internet</th><th scope=col>no_internet</th><th scope=col>total_population</th><th scope=col>work_from_home</th><th scope=col>X65_and_older</th><th scope=col>median_income</th><th scope=col>number_providers</th><th scope=col>mean_lowest_cost</th><th scope=col>mean_d_mbps</th><th scope=col>mean_u_mbps</th><th scope=col>mean_lat_ms</th></tr>\n",
       "</thead>\n",
       "<tbody>\n",
       "\t<tr><td> 0.50245011</td><td> 0.1993596</td><td> 0.5167430</td><td>0.3205972</td><td> 0.41151922</td><td> 0.1292741</td><td> 2.23493253</td><td>0.07418486</td><td> 1.7094218</td><td>-0.18458632</td><td>-1.05913969</td><td> 0.2831385</td><td> 1.17991288</td></tr>\n",
       "\t<tr><td> 0.88153598</td><td> 0.5037000</td><td> 0.9194434</td><td>0.7032231</td><td> 0.72118268</td><td> 2.9303783</td><td> 2.28240921</td><td>0.07416551</td><td> 2.2108891</td><td> 0.41923513</td><td>-0.64056563</td><td>-0.4304467</td><td>-0.15416598</td></tr>\n",
       "\t<tr><td>-0.19922325</td><td>-0.2191085</td><td>-0.2714809</td><td>0.4088955</td><td>-0.07753548</td><td>-1.2814270</td><td>-0.74343819</td><td>0.07345717</td><td> 1.2079545</td><td> 0.39687137</td><td>-0.31447576</td><td>-0.2727836</td><td> 0.10962741</td></tr>\n",
       "\t<tr><td>-0.81523778</td><td>-0.6248957</td><td>-0.9413759</td><td>0.2911645</td><td>-0.87198242</td><td>-1.0480017</td><td> 0.05100501</td><td>0.07347137</td><td>-0.2964475</td><td> 1.12369349</td><td>-0.85523159</td><td>-0.4058615</td><td>-0.27548794</td></tr>\n",
       "\t<tr><td>-0.07893639</td><td> 0.9982532</td><td>-0.1913226</td><td>1.5077184</td><td>-0.16011240</td><td>-1.0784484</td><td> 0.01302366</td><td>0.07354973</td><td>-0.2964475</td><td> 1.12369349</td><td>-0.08992031</td><td>-0.4758288</td><td>-0.30026584</td></tr>\n",
       "\t<tr><td> 0.28010167</td><td>-0.4854063</td><td> 0.1789328</td><td>0.5168156</td><td> 0.10826259</td><td>-0.1751938</td><td> 0.88026444</td><td>0.07377917</td><td> 0.2050198</td><td> 0.07383932</td><td>-0.57834859</td><td>-0.4065058</td><td>-0.07734433</td></tr>\n",
       "</tbody>\n",
       "</table>\n"
      ],
      "text/latex": [
       "A matrix: 6 × 13 of type dbl\n",
       "\\begin{tabular}{lllllllllllll}\n",
       " has\\_computer & no\\_computer & with\\_internet & no\\_internet & total\\_population & work\\_from\\_home & X65\\_and\\_older & median\\_income & number\\_providers & mean\\_lowest\\_cost & mean\\_d\\_mbps & mean\\_u\\_mbps & mean\\_lat\\_ms\\\\\n",
       "\\hline\n",
       "\t  0.50245011 &  0.1993596 &  0.5167430 & 0.3205972 &  0.41151922 &  0.1292741 &  2.23493253 & 0.07418486 &  1.7094218 & -0.18458632 & -1.05913969 &  0.2831385 &  1.17991288\\\\\n",
       "\t  0.88153598 &  0.5037000 &  0.9194434 & 0.7032231 &  0.72118268 &  2.9303783 &  2.28240921 & 0.07416551 &  2.2108891 &  0.41923513 & -0.64056563 & -0.4304467 & -0.15416598\\\\\n",
       "\t -0.19922325 & -0.2191085 & -0.2714809 & 0.4088955 & -0.07753548 & -1.2814270 & -0.74343819 & 0.07345717 &  1.2079545 &  0.39687137 & -0.31447576 & -0.2727836 &  0.10962741\\\\\n",
       "\t -0.81523778 & -0.6248957 & -0.9413759 & 0.2911645 & -0.87198242 & -1.0480017 &  0.05100501 & 0.07347137 & -0.2964475 &  1.12369349 & -0.85523159 & -0.4058615 & -0.27548794\\\\\n",
       "\t -0.07893639 &  0.9982532 & -0.1913226 & 1.5077184 & -0.16011240 & -1.0784484 &  0.01302366 & 0.07354973 & -0.2964475 &  1.12369349 & -0.08992031 & -0.4758288 & -0.30026584\\\\\n",
       "\t  0.28010167 & -0.4854063 &  0.1789328 & 0.5168156 &  0.10826259 & -0.1751938 &  0.88026444 & 0.07377917 &  0.2050198 &  0.07383932 & -0.57834859 & -0.4065058 & -0.07734433\\\\\n",
       "\\end{tabular}\n"
      ],
      "text/markdown": [
       "\n",
       "A matrix: 6 × 13 of type dbl\n",
       "\n",
       "| has_computer | no_computer | with_internet | no_internet | total_population | work_from_home | X65_and_older | median_income | number_providers | mean_lowest_cost | mean_d_mbps | mean_u_mbps | mean_lat_ms |\n",
       "|---|---|---|---|---|---|---|---|---|---|---|---|---|\n",
       "|  0.50245011 |  0.1993596 |  0.5167430 | 0.3205972 |  0.41151922 |  0.1292741 |  2.23493253 | 0.07418486 |  1.7094218 | -0.18458632 | -1.05913969 |  0.2831385 |  1.17991288 |\n",
       "|  0.88153598 |  0.5037000 |  0.9194434 | 0.7032231 |  0.72118268 |  2.9303783 |  2.28240921 | 0.07416551 |  2.2108891 |  0.41923513 | -0.64056563 | -0.4304467 | -0.15416598 |\n",
       "| -0.19922325 | -0.2191085 | -0.2714809 | 0.4088955 | -0.07753548 | -1.2814270 | -0.74343819 | 0.07345717 |  1.2079545 |  0.39687137 | -0.31447576 | -0.2727836 |  0.10962741 |\n",
       "| -0.81523778 | -0.6248957 | -0.9413759 | 0.2911645 | -0.87198242 | -1.0480017 |  0.05100501 | 0.07347137 | -0.2964475 |  1.12369349 | -0.85523159 | -0.4058615 | -0.27548794 |\n",
       "| -0.07893639 |  0.9982532 | -0.1913226 | 1.5077184 | -0.16011240 | -1.0784484 |  0.01302366 | 0.07354973 | -0.2964475 |  1.12369349 | -0.08992031 | -0.4758288 | -0.30026584 |\n",
       "|  0.28010167 | -0.4854063 |  0.1789328 | 0.5168156 |  0.10826259 | -0.1751938 |  0.88026444 | 0.07377917 |  0.2050198 |  0.07383932 | -0.57834859 | -0.4065058 | -0.07734433 |\n",
       "\n"
      ],
      "text/plain": [
       "     has_computer no_computer with_internet no_internet total_population\n",
       "[1,]  0.50245011   0.1993596   0.5167430    0.3205972    0.41151922     \n",
       "[2,]  0.88153598   0.5037000   0.9194434    0.7032231    0.72118268     \n",
       "[3,] -0.19922325  -0.2191085  -0.2714809    0.4088955   -0.07753548     \n",
       "[4,] -0.81523778  -0.6248957  -0.9413759    0.2911645   -0.87198242     \n",
       "[5,] -0.07893639   0.9982532  -0.1913226    1.5077184   -0.16011240     \n",
       "[6,]  0.28010167  -0.4854063   0.1789328    0.5168156    0.10826259     \n",
       "     work_from_home X65_and_older median_income number_providers\n",
       "[1,]  0.1292741      2.23493253   0.07418486     1.7094218      \n",
       "[2,]  2.9303783      2.28240921   0.07416551     2.2108891      \n",
       "[3,] -1.2814270     -0.74343819   0.07345717     1.2079545      \n",
       "[4,] -1.0480017      0.05100501   0.07347137    -0.2964475      \n",
       "[5,] -1.0784484      0.01302366   0.07354973    -0.2964475      \n",
       "[6,] -0.1751938      0.88026444   0.07377917     0.2050198      \n",
       "     mean_lowest_cost mean_d_mbps mean_u_mbps mean_lat_ms\n",
       "[1,] -0.18458632      -1.05913969  0.2831385   1.17991288\n",
       "[2,]  0.41923513      -0.64056563 -0.4304467  -0.15416598\n",
       "[3,]  0.39687137      -0.31447576 -0.2727836   0.10962741\n",
       "[4,]  1.12369349      -0.85523159 -0.4058615  -0.27548794\n",
       "[5,]  1.12369349      -0.08992031 -0.4758288  -0.30026584\n",
       "[6,]  0.07383932      -0.57834859 -0.4065058  -0.07734433"
      ]
     },
     "metadata": {},
     "output_type": "display_data"
    }
   ],
   "source": [
    "head(data)"
   ]
  },
  {
   "cell_type": "code",
   "execution_count": 47,
   "metadata": {
    "vscode": {
     "languageId": "r"
    }
   },
   "outputs": [],
   "source": [
    "data2 <- data %>% as.data.frame() %>% dplyr::select(-number_providers, -mean_lat_ms)\n",
    "# apply pca\n",
    "pc_data2 <- prcomp(data2, scale = FALSE)\n",
    "\n",
    "eigen_values2 <- pc_data2$sdev^2\n",
    "eigen_vectors2 <- -pc_data2$rotation\n",
    "# assign the pc1 values as weights\n",
    "weights2 <- as.data.frame(eigen_vectors2[, 1])"
   ]
  },
  {
   "cell_type": "code",
   "execution_count": 50,
   "metadata": {
    "vscode": {
     "languageId": "r"
    }
   },
   "outputs": [],
   "source": [
    "# multiply the weights by the standardized data to get an index column\n",
    "index2 <- data2\n",
    "\n",
    "for (i in 1:ncol(index)) {\n",
    "    index2[i, ] <- index2[i, ] * weights2[i, 1]\n",
    "}\n",
    "\n",
    "# sum the rows\n",
    "index2 <- index2 %>%\n",
    "    as.data.frame() %>%\n",
    "    transmute(index = rowSums(.))\n",
    "\n",
    "index_data2 <- bind_cols(as.data.frame(data2), index2)\n"
   ]
  },
  {
   "cell_type": "code",
   "execution_count": 51,
   "metadata": {
    "vscode": {
     "languageId": "r"
    }
   },
   "outputs": [],
   "source": [
    "# stepwise regression with index column as y\n",
    "# https://www.statology.org/stepwise-regression-r/\n",
    "index_data2 <- as.data.frame(index_data2)\n",
    "\n",
    "intercept <- lm(index ~ 1, index_data2)\n",
    "lm_data <- lm(index ~ ., index_data2)\n",
    "\n",
    "forward <- step(intercept, direction = \"forward\", scope = formula(lm_data), trace = 0)\n",
    "backward <- step(lm_data, direction = \"backward\", scope = formula(lm_data), trace = 0)\n",
    "both <- step(intercept, direction = \"both\", scope = formula(lm_data), trace = 0)\n",
    "\n"
   ]
  },
  {
   "cell_type": "code",
   "execution_count": 54,
   "metadata": {
    "vscode": {
     "languageId": "r"
    }
   },
   "outputs": [
    {
     "data": {
      "text/plain": [
       "\n",
       "Call:\n",
       "lm(formula = index ~ 1, data = index_data2)\n",
       "\n",
       "Residuals:\n",
       "    Min      1Q  Median      3Q     Max \n",
       "-21.453  -3.411  -0.473   3.189  16.839 \n",
       "\n",
       "Coefficients:\n",
       "            Estimate Std. Error t value Pr(>|t|)\n",
       "(Intercept)  0.04333    0.43423     0.1    0.921\n",
       "\n",
       "Residual standard error: 5.842 on 180 degrees of freedom\n",
       "  (2 observations deleted due to missingness)\n"
      ]
     },
     "metadata": {},
     "output_type": "display_data"
    }
   ],
   "source": [
    "summary(intercept)"
   ]
  },
  {
   "cell_type": "code",
   "execution_count": 55,
   "metadata": {
    "vscode": {
     "languageId": "r"
    }
   },
   "outputs": [
    {
     "data": {
      "text/plain": [
       "\n",
       "Call:\n",
       "lm(formula = index ~ ., data = index_data2)\n",
       "\n",
       "Residuals:\n",
       "    Min      1Q  Median      3Q     Max \n",
       "-5.7873 -0.1896 -0.0455  0.1365  4.2815 \n",
       "\n",
       "Coefficients:\n",
       "                 Estimate Std. Error t value             Pr(>|t|)    \n",
       "(Intercept)       0.02715    0.05400   0.503               0.6158    \n",
       "has_computer      1.27952    0.62868   2.035               0.0434 *  \n",
       "no_computer       0.94579    0.12100   7.816   0.0000000000005543 ***\n",
       "with_internet     0.68795    0.61120   1.126               0.2619    \n",
       "no_internet       1.01813    0.15548   6.548   0.0000000006710632 ***\n",
       "total_population  1.02348    0.12457   8.216   0.0000000000000525 ***\n",
       "work_from_home    0.85255    0.06684  12.755 < 0.0000000000000002 ***\n",
       "X65_and_older     0.87933    0.08726  10.077 < 0.0000000000000002 ***\n",
       "median_income     1.03937    0.05716  18.183 < 0.0000000000000002 ***\n",
       "mean_lowest_cost  1.05396    0.05688  18.530 < 0.0000000000000002 ***\n",
       "mean_d_mbps       1.10009    0.06849  16.061 < 0.0000000000000002 ***\n",
       "mean_u_mbps       0.97165    0.06314  15.390 < 0.0000000000000002 ***\n",
       "---\n",
       "Signif. codes:  0 ‘***’ 0.001 ‘**’ 0.01 ‘*’ 0.05 ‘.’ 0.1 ‘ ’ 1\n",
       "\n",
       "Residual standard error: 0.7264 on 169 degrees of freedom\n",
       "  (2 observations deleted due to missingness)\n",
       "Multiple R-squared:  0.9855,\tAdjusted R-squared:  0.9845 \n",
       "F-statistic:  1043 on 11 and 169 DF,  p-value: < 0.00000000000000022\n"
      ]
     },
     "metadata": {},
     "output_type": "display_data"
    }
   ],
   "source": [
    "summary(lm_data)"
   ]
  },
  {
   "cell_type": "code",
   "execution_count": 56,
   "metadata": {
    "vscode": {
     "languageId": "r"
    }
   },
   "outputs": [
    {
     "data": {
      "text/plain": [
       "\n",
       "Call:\n",
       "lm(formula = index ~ has_computer + no_computer + mean_lowest_cost + \n",
       "    mean_u_mbps + median_income + work_from_home + mean_d_mbps + \n",
       "    X65_and_older + no_internet + total_population, data = index_data2)\n",
       "\n",
       "Residuals:\n",
       "    Min      1Q  Median      3Q     Max \n",
       "-5.7578 -0.1956 -0.0429  0.1461  4.2944 \n",
       "\n",
       "Coefficients:\n",
       "                 Estimate Std. Error t value             Pr(>|t|)    \n",
       "(Intercept)       0.02685    0.05404   0.497                 0.62    \n",
       "has_computer      1.96824    0.14447  13.624 < 0.0000000000000002 ***\n",
       "no_computer       1.02089    0.10102  10.106 < 0.0000000000000002 ***\n",
       "mean_lowest_cost  1.06525    0.05603  19.012 < 0.0000000000000002 ***\n",
       "mean_u_mbps       0.96296    0.06271  15.356 < 0.0000000000000002 ***\n",
       "median_income     1.04024    0.05720  18.186 < 0.0000000000000002 ***\n",
       "work_from_home    0.85209    0.06689  12.738 < 0.0000000000000002 ***\n",
       "mean_d_mbps       1.10625    0.06833  16.191 < 0.0000000000000002 ***\n",
       "X65_and_older     0.89816    0.08571  10.479 < 0.0000000000000002 ***\n",
       "no_internet       0.88980    0.10580   8.410    0.000000000000016 ***\n",
       "total_population  1.02670    0.12463   8.238    0.000000000000045 ***\n",
       "---\n",
       "Signif. codes:  0 ‘***’ 0.001 ‘**’ 0.01 ‘*’ 0.05 ‘.’ 0.1 ‘ ’ 1\n",
       "\n",
       "Residual standard error: 0.727 on 170 degrees of freedom\n",
       "  (2 observations deleted due to missingness)\n",
       "Multiple R-squared:  0.9854,\tAdjusted R-squared:  0.9845 \n",
       "F-statistic:  1145 on 10 and 170 DF,  p-value: < 0.00000000000000022\n"
      ]
     },
     "metadata": {},
     "output_type": "display_data"
    }
   ],
   "source": [
    "summary(forward)"
   ]
  },
  {
   "cell_type": "code",
   "execution_count": 65,
   "metadata": {
    "vscode": {
     "languageId": "r"
    }
   },
   "outputs": [
    {
     "data": {
      "text/plain": [
       "\n",
       "Call:\n",
       "lm(formula = index ~ has_computer + no_computer + no_internet + \n",
       "    total_population + work_from_home + X65_and_older + median_income + \n",
       "    mean_lowest_cost + mean_d_mbps + mean_u_mbps, data = index_data2)\n",
       "\n",
       "Residuals:\n",
       "    Min      1Q  Median      3Q     Max \n",
       "-5.7578 -0.1956 -0.0429  0.1461  4.2944 \n",
       "\n",
       "Coefficients:\n",
       "                 Estimate Std. Error t value             Pr(>|t|)    \n",
       "(Intercept)       0.02685    0.05404   0.497                 0.62    \n",
       "has_computer      1.96824    0.14447  13.624 < 0.0000000000000002 ***\n",
       "no_computer       1.02089    0.10102  10.106 < 0.0000000000000002 ***\n",
       "no_internet       0.88980    0.10580   8.410    0.000000000000016 ***\n",
       "total_population  1.02670    0.12463   8.238    0.000000000000045 ***\n",
       "work_from_home    0.85209    0.06689  12.738 < 0.0000000000000002 ***\n",
       "X65_and_older     0.89816    0.08571  10.479 < 0.0000000000000002 ***\n",
       "median_income     1.04024    0.05720  18.186 < 0.0000000000000002 ***\n",
       "mean_lowest_cost  1.06525    0.05603  19.012 < 0.0000000000000002 ***\n",
       "mean_d_mbps       1.10625    0.06833  16.191 < 0.0000000000000002 ***\n",
       "mean_u_mbps       0.96296    0.06271  15.356 < 0.0000000000000002 ***\n",
       "---\n",
       "Signif. codes:  0 ‘***’ 0.001 ‘**’ 0.01 ‘*’ 0.05 ‘.’ 0.1 ‘ ’ 1\n",
       "\n",
       "Residual standard error: 0.727 on 170 degrees of freedom\n",
       "  (2 observations deleted due to missingness)\n",
       "Multiple R-squared:  0.9854,\tAdjusted R-squared:  0.9845 \n",
       "F-statistic:  1145 on 10 and 170 DF,  p-value: < 0.00000000000000022\n"
      ]
     },
     "metadata": {},
     "output_type": "display_data"
    }
   ],
   "source": [
    "backward$co"
   ]
  },
  {
   "cell_type": "code",
   "execution_count": 57,
   "metadata": {
    "vscode": {
     "languageId": "r"
    }
   },
   "outputs": [
    {
     "data": {
      "text/html": [
       "<table class=\"dataframe\">\n",
       "<caption>A data.frame: 11 × 6</caption>\n",
       "<thead>\n",
       "\t<tr><th scope=col>Step</th><th scope=col>Df</th><th scope=col>Deviance</th><th scope=col>Resid. Df</th><th scope=col>Resid. Dev</th><th scope=col>AIC</th></tr>\n",
       "\t<tr><th scope=col>&lt;I&lt;chr&gt;&gt;</th><th scope=col>&lt;dbl&gt;</th><th scope=col>&lt;dbl&gt;</th><th scope=col>&lt;dbl&gt;</th><th scope=col>&lt;dbl&gt;</th><th scope=col>&lt;dbl&gt;</th></tr>\n",
       "</thead>\n",
       "<tbody>\n",
       "\t<tr><td>                  </td><td>NA</td><td>        NA</td><td>180</td><td>6143.10924</td><td> 639.950655</td></tr>\n",
       "\t<tr><td>+ has_computer    </td><td>-1</td><td>4883.48008</td><td>179</td><td>1259.62916</td><td> 355.153685</td></tr>\n",
       "\t<tr><td>+ no_computer     </td><td>-1</td><td> 402.30326</td><td>178</td><td> 857.32590</td><td> 287.513118</td></tr>\n",
       "\t<tr><td>+ mean_lowest_cost</td><td>-1</td><td> 213.91079</td><td>177</td><td> 643.41511</td><td> 237.561045</td></tr>\n",
       "\t<tr><td>+ mean_u_mbps     </td><td>-1</td><td> 113.38148</td><td>176</td><td> 530.03363</td><td> 204.474259</td></tr>\n",
       "\t<tr><td>+ median_income   </td><td>-1</td><td> 117.45849</td><td>175</td><td> 412.57514</td><td> 161.129758</td></tr>\n",
       "\t<tr><td>+ work_from_home  </td><td>-1</td><td> 123.38618</td><td>174</td><td> 289.18896</td><td>  98.813572</td></tr>\n",
       "\t<tr><td>+ mean_d_mbps     </td><td>-1</td><td>  80.34880</td><td>173</td><td> 208.84015</td><td>  41.896052</td></tr>\n",
       "\t<tr><td>+ X65_and_older   </td><td>-1</td><td>  52.43308</td><td>172</td><td> 156.40707</td><td>  -8.432334</td></tr>\n",
       "\t<tr><td>+ no_internet     </td><td>-1</td><td>  30.68812</td><td>171</td><td> 125.71895</td><td> -45.965115</td></tr>\n",
       "\t<tr><td>+ total_population</td><td>-1</td><td>  35.86777</td><td>170</td><td>  89.85118</td><td>-104.761946</td></tr>\n",
       "</tbody>\n",
       "</table>\n"
      ],
      "text/latex": [
       "A data.frame: 11 × 6\n",
       "\\begin{tabular}{llllll}\n",
       " Step & Df & Deviance & Resid. Df & Resid. Dev & AIC\\\\\n",
       " <I<chr>> & <dbl> & <dbl> & <dbl> & <dbl> & <dbl>\\\\\n",
       "\\hline\n",
       "\t                    & NA &         NA & 180 & 6143.10924 &  639.950655\\\\\n",
       "\t + has\\_computer     & -1 & 4883.48008 & 179 & 1259.62916 &  355.153685\\\\\n",
       "\t + no\\_computer      & -1 &  402.30326 & 178 &  857.32590 &  287.513118\\\\\n",
       "\t + mean\\_lowest\\_cost & -1 &  213.91079 & 177 &  643.41511 &  237.561045\\\\\n",
       "\t + mean\\_u\\_mbps      & -1 &  113.38148 & 176 &  530.03363 &  204.474259\\\\\n",
       "\t + median\\_income    & -1 &  117.45849 & 175 &  412.57514 &  161.129758\\\\\n",
       "\t + work\\_from\\_home   & -1 &  123.38618 & 174 &  289.18896 &   98.813572\\\\\n",
       "\t + mean\\_d\\_mbps      & -1 &   80.34880 & 173 &  208.84015 &   41.896052\\\\\n",
       "\t + X65\\_and\\_older    & -1 &   52.43308 & 172 &  156.40707 &   -8.432334\\\\\n",
       "\t + no\\_internet      & -1 &   30.68812 & 171 &  125.71895 &  -45.965115\\\\\n",
       "\t + total\\_population & -1 &   35.86777 & 170 &   89.85118 & -104.761946\\\\\n",
       "\\end{tabular}\n"
      ],
      "text/markdown": [
       "\n",
       "A data.frame: 11 × 6\n",
       "\n",
       "| Step &lt;I&lt;chr&gt;&gt; | Df &lt;dbl&gt; | Deviance &lt;dbl&gt; | Resid. Df &lt;dbl&gt; | Resid. Dev &lt;dbl&gt; | AIC &lt;dbl&gt; |\n",
       "|---|---|---|---|---|---|\n",
       "| <!----> | NA |         NA | 180 | 6143.10924 |  639.950655 |\n",
       "| + has_computer     | -1 | 4883.48008 | 179 | 1259.62916 |  355.153685 |\n",
       "| + no_computer      | -1 |  402.30326 | 178 |  857.32590 |  287.513118 |\n",
       "| + mean_lowest_cost | -1 |  213.91079 | 177 |  643.41511 |  237.561045 |\n",
       "| + mean_u_mbps      | -1 |  113.38148 | 176 |  530.03363 |  204.474259 |\n",
       "| + median_income    | -1 |  117.45849 | 175 |  412.57514 |  161.129758 |\n",
       "| + work_from_home   | -1 |  123.38618 | 174 |  289.18896 |   98.813572 |\n",
       "| + mean_d_mbps      | -1 |   80.34880 | 173 |  208.84015 |   41.896052 |\n",
       "| + X65_and_older    | -1 |   52.43308 | 172 |  156.40707 |   -8.432334 |\n",
       "| + no_internet      | -1 |   30.68812 | 171 |  125.71895 |  -45.965115 |\n",
       "| + total_population | -1 |   35.86777 | 170 |   89.85118 | -104.761946 |\n",
       "\n"
      ],
      "text/plain": [
       "   Step               Df Deviance   Resid. Df Resid. Dev AIC        \n",
       "1                     NA         NA 180       6143.10924  639.950655\n",
       "2  + has_computer     -1 4883.48008 179       1259.62916  355.153685\n",
       "3  + no_computer      -1  402.30326 178        857.32590  287.513118\n",
       "4  + mean_lowest_cost -1  213.91079 177        643.41511  237.561045\n",
       "5  + mean_u_mbps      -1  113.38148 176        530.03363  204.474259\n",
       "6  + median_income    -1  117.45849 175        412.57514  161.129758\n",
       "7  + work_from_home   -1  123.38618 174        289.18896   98.813572\n",
       "8  + mean_d_mbps      -1   80.34880 173        208.84015   41.896052\n",
       "9  + X65_and_older    -1   52.43308 172        156.40707   -8.432334\n",
       "10 + no_internet      -1   30.68812 171        125.71895  -45.965115\n",
       "11 + total_population -1   35.86777 170         89.85118 -104.761946"
      ]
     },
     "metadata": {},
     "output_type": "display_data"
    }
   ],
   "source": [
    "forward$anova"
   ]
  },
  {
   "cell_type": "code",
   "execution_count": 58,
   "metadata": {
    "vscode": {
     "languageId": "r"
    }
   },
   "outputs": [
    {
     "data": {
      "text/html": [
       "<style>\n",
       ".dl-inline {width: auto; margin:0; padding: 0}\n",
       ".dl-inline>dt, .dl-inline>dd {float: none; width: auto; display: inline-block}\n",
       ".dl-inline>dt::after {content: \":\\0020\"; padding-right: .5ex}\n",
       ".dl-inline>dt:not(:first-of-type) {padding-left: .5ex}\n",
       "</style><dl class=dl-inline><dt>(Intercept)</dt><dd>0.0268537496045654</dd><dt>has_computer</dt><dd>1.96824467849997</dd><dt>no_computer</dt><dd>1.02089187976104</dd><dt>mean_lowest_cost</dt><dd>1.06524674347002</dd><dt>mean_u_mbps</dt><dd>0.962960013288118</dd><dt>median_income</dt><dd>1.04024328140571</dd><dt>work_from_home</dt><dd>0.852092298718779</dd><dt>mean_d_mbps</dt><dd>1.10625278667329</dd><dt>X65_and_older</dt><dd>0.898158676028099</dd><dt>no_internet</dt><dd>0.889799489889193</dd><dt>total_population</dt><dd>1.02669851184201</dd></dl>\n"
      ],
      "text/latex": [
       "\\begin{description*}\n",
       "\\item[(Intercept)] 0.0268537496045654\n",
       "\\item[has\\textbackslash{}\\_computer] 1.96824467849997\n",
       "\\item[no\\textbackslash{}\\_computer] 1.02089187976104\n",
       "\\item[mean\\textbackslash{}\\_lowest\\textbackslash{}\\_cost] 1.06524674347002\n",
       "\\item[mean\\textbackslash{}\\_u\\textbackslash{}\\_mbps] 0.962960013288118\n",
       "\\item[median\\textbackslash{}\\_income] 1.04024328140571\n",
       "\\item[work\\textbackslash{}\\_from\\textbackslash{}\\_home] 0.852092298718779\n",
       "\\item[mean\\textbackslash{}\\_d\\textbackslash{}\\_mbps] 1.10625278667329\n",
       "\\item[X65\\textbackslash{}\\_and\\textbackslash{}\\_older] 0.898158676028099\n",
       "\\item[no\\textbackslash{}\\_internet] 0.889799489889193\n",
       "\\item[total\\textbackslash{}\\_population] 1.02669851184201\n",
       "\\end{description*}\n"
      ],
      "text/markdown": [
       "(Intercept)\n",
       ":   0.0268537496045654has_computer\n",
       ":   1.96824467849997no_computer\n",
       ":   1.02089187976104mean_lowest_cost\n",
       ":   1.06524674347002mean_u_mbps\n",
       ":   0.962960013288118median_income\n",
       ":   1.04024328140571work_from_home\n",
       ":   0.852092298718779mean_d_mbps\n",
       ":   1.10625278667329X65_and_older\n",
       ":   0.898158676028099no_internet\n",
       ":   0.889799489889193total_population\n",
       ":   1.02669851184201\n",
       "\n"
      ],
      "text/plain": [
       "     (Intercept)     has_computer      no_computer mean_lowest_cost \n",
       "      0.02685375       1.96824468       1.02089188       1.06524674 \n",
       "     mean_u_mbps    median_income   work_from_home      mean_d_mbps \n",
       "      0.96296001       1.04024328       0.85209230       1.10625279 \n",
       "   X65_and_older      no_internet total_population \n",
       "      0.89815868       0.88979949       1.02669851 "
      ]
     },
     "metadata": {},
     "output_type": "display_data"
    }
   ],
   "source": [
    "forward$coefficients"
   ]
  },
  {
   "cell_type": "code",
   "execution_count": 59,
   "metadata": {
    "vscode": {
     "languageId": "r"
    }
   },
   "outputs": [
    {
     "data": {
      "text/html": [
       "<table class=\"dataframe\">\n",
       "<caption>A data.frame: 2 × 6</caption>\n",
       "<thead>\n",
       "\t<tr><th scope=col>Step</th><th scope=col>Df</th><th scope=col>Deviance</th><th scope=col>Resid. Df</th><th scope=col>Resid. Dev</th><th scope=col>AIC</th></tr>\n",
       "\t<tr><th scope=col>&lt;I&lt;chr&gt;&gt;</th><th scope=col>&lt;dbl&gt;</th><th scope=col>&lt;dbl&gt;</th><th scope=col>&lt;dbl&gt;</th><th scope=col>&lt;dbl&gt;</th><th scope=col>&lt;dbl&gt;</th></tr>\n",
       "</thead>\n",
       "<tbody>\n",
       "\t<tr><td>               </td><td>NA</td><td>       NA</td><td>169</td><td>89.18262</td><td>-104.1138</td></tr>\n",
       "\t<tr><td>- with_internet</td><td> 1</td><td>0.6685653</td><td>170</td><td>89.85118</td><td>-104.7619</td></tr>\n",
       "</tbody>\n",
       "</table>\n"
      ],
      "text/latex": [
       "A data.frame: 2 × 6\n",
       "\\begin{tabular}{llllll}\n",
       " Step & Df & Deviance & Resid. Df & Resid. Dev & AIC\\\\\n",
       " <I<chr>> & <dbl> & <dbl> & <dbl> & <dbl> & <dbl>\\\\\n",
       "\\hline\n",
       "\t                 & NA &        NA & 169 & 89.18262 & -104.1138\\\\\n",
       "\t - with\\_internet &  1 & 0.6685653 & 170 & 89.85118 & -104.7619\\\\\n",
       "\\end{tabular}\n"
      ],
      "text/markdown": [
       "\n",
       "A data.frame: 2 × 6\n",
       "\n",
       "| Step &lt;I&lt;chr&gt;&gt; | Df &lt;dbl&gt; | Deviance &lt;dbl&gt; | Resid. Df &lt;dbl&gt; | Resid. Dev &lt;dbl&gt; | AIC &lt;dbl&gt; |\n",
       "|---|---|---|---|---|---|\n",
       "| <!----> | NA |        NA | 169 | 89.18262 | -104.1138 |\n",
       "| - with_internet |  1 | 0.6685653 | 170 | 89.85118 | -104.7619 |\n",
       "\n"
      ],
      "text/plain": [
       "  Step            Df Deviance  Resid. Df Resid. Dev AIC      \n",
       "1                 NA        NA 169       89.18262   -104.1138\n",
       "2 - with_internet  1 0.6685653 170       89.85118   -104.7619"
      ]
     },
     "metadata": {},
     "output_type": "display_data"
    }
   ],
   "source": [
    "backward$anova"
   ]
  },
  {
   "cell_type": "code",
   "execution_count": 60,
   "metadata": {
    "vscode": {
     "languageId": "r"
    }
   },
   "outputs": [
    {
     "data": {
      "text/html": [
       "<style>\n",
       ".dl-inline {width: auto; margin:0; padding: 0}\n",
       ".dl-inline>dt, .dl-inline>dd {float: none; width: auto; display: inline-block}\n",
       ".dl-inline>dt::after {content: \":\\0020\"; padding-right: .5ex}\n",
       ".dl-inline>dt:not(:first-of-type) {padding-left: .5ex}\n",
       "</style><dl class=dl-inline><dt>(Intercept)</dt><dd>0.0268537496045654</dd><dt>has_computer</dt><dd>1.96824467849997</dd><dt>no_computer</dt><dd>1.02089187976104</dd><dt>no_internet</dt><dd>0.889799489889193</dd><dt>total_population</dt><dd>1.02669851184201</dd><dt>work_from_home</dt><dd>0.85209229871878</dd><dt>X65_and_older</dt><dd>0.8981586760281</dd><dt>median_income</dt><dd>1.04024328140571</dd><dt>mean_lowest_cost</dt><dd>1.06524674347002</dd><dt>mean_d_mbps</dt><dd>1.10625278667329</dd><dt>mean_u_mbps</dt><dd>0.962960013288118</dd></dl>\n"
      ],
      "text/latex": [
       "\\begin{description*}\n",
       "\\item[(Intercept)] 0.0268537496045654\n",
       "\\item[has\\textbackslash{}\\_computer] 1.96824467849997\n",
       "\\item[no\\textbackslash{}\\_computer] 1.02089187976104\n",
       "\\item[no\\textbackslash{}\\_internet] 0.889799489889193\n",
       "\\item[total\\textbackslash{}\\_population] 1.02669851184201\n",
       "\\item[work\\textbackslash{}\\_from\\textbackslash{}\\_home] 0.85209229871878\n",
       "\\item[X65\\textbackslash{}\\_and\\textbackslash{}\\_older] 0.8981586760281\n",
       "\\item[median\\textbackslash{}\\_income] 1.04024328140571\n",
       "\\item[mean\\textbackslash{}\\_lowest\\textbackslash{}\\_cost] 1.06524674347002\n",
       "\\item[mean\\textbackslash{}\\_d\\textbackslash{}\\_mbps] 1.10625278667329\n",
       "\\item[mean\\textbackslash{}\\_u\\textbackslash{}\\_mbps] 0.962960013288118\n",
       "\\end{description*}\n"
      ],
      "text/markdown": [
       "(Intercept)\n",
       ":   0.0268537496045654has_computer\n",
       ":   1.96824467849997no_computer\n",
       ":   1.02089187976104no_internet\n",
       ":   0.889799489889193total_population\n",
       ":   1.02669851184201work_from_home\n",
       ":   0.85209229871878X65_and_older\n",
       ":   0.8981586760281median_income\n",
       ":   1.04024328140571mean_lowest_cost\n",
       ":   1.06524674347002mean_d_mbps\n",
       ":   1.10625278667329mean_u_mbps\n",
       ":   0.962960013288118\n",
       "\n"
      ],
      "text/plain": [
       "     (Intercept)     has_computer      no_computer      no_internet \n",
       "      0.02685375       1.96824468       1.02089188       0.88979949 \n",
       "total_population   work_from_home    X65_and_older    median_income \n",
       "      1.02669851       0.85209230       0.89815868       1.04024328 \n",
       "mean_lowest_cost      mean_d_mbps      mean_u_mbps \n",
       "      1.06524674       1.10625279       0.96296001 "
      ]
     },
     "metadata": {},
     "output_type": "display_data"
    }
   ],
   "source": [
    "backward$coefficients"
   ]
  },
  {
   "cell_type": "code",
   "execution_count": 61,
   "metadata": {
    "vscode": {
     "languageId": "r"
    }
   },
   "outputs": [
    {
     "data": {
      "text/html": [
       "<table class=\"dataframe\">\n",
       "<caption>A data.frame: 11 × 6</caption>\n",
       "<thead>\n",
       "\t<tr><th scope=col>Step</th><th scope=col>Df</th><th scope=col>Deviance</th><th scope=col>Resid. Df</th><th scope=col>Resid. Dev</th><th scope=col>AIC</th></tr>\n",
       "\t<tr><th scope=col>&lt;I&lt;chr&gt;&gt;</th><th scope=col>&lt;dbl&gt;</th><th scope=col>&lt;dbl&gt;</th><th scope=col>&lt;dbl&gt;</th><th scope=col>&lt;dbl&gt;</th><th scope=col>&lt;dbl&gt;</th></tr>\n",
       "</thead>\n",
       "<tbody>\n",
       "\t<tr><td>                  </td><td>NA</td><td>        NA</td><td>180</td><td>6143.10924</td><td> 639.950655</td></tr>\n",
       "\t<tr><td>+ has_computer    </td><td>-1</td><td>4883.48008</td><td>179</td><td>1259.62916</td><td> 355.153685</td></tr>\n",
       "\t<tr><td>+ no_computer     </td><td>-1</td><td> 402.30326</td><td>178</td><td> 857.32590</td><td> 287.513118</td></tr>\n",
       "\t<tr><td>+ mean_lowest_cost</td><td>-1</td><td> 213.91079</td><td>177</td><td> 643.41511</td><td> 237.561045</td></tr>\n",
       "\t<tr><td>+ mean_u_mbps     </td><td>-1</td><td> 113.38148</td><td>176</td><td> 530.03363</td><td> 204.474259</td></tr>\n",
       "\t<tr><td>+ median_income   </td><td>-1</td><td> 117.45849</td><td>175</td><td> 412.57514</td><td> 161.129758</td></tr>\n",
       "\t<tr><td>+ work_from_home  </td><td>-1</td><td> 123.38618</td><td>174</td><td> 289.18896</td><td>  98.813572</td></tr>\n",
       "\t<tr><td>+ mean_d_mbps     </td><td>-1</td><td>  80.34880</td><td>173</td><td> 208.84015</td><td>  41.896052</td></tr>\n",
       "\t<tr><td>+ X65_and_older   </td><td>-1</td><td>  52.43308</td><td>172</td><td> 156.40707</td><td>  -8.432334</td></tr>\n",
       "\t<tr><td>+ no_internet     </td><td>-1</td><td>  30.68812</td><td>171</td><td> 125.71895</td><td> -45.965115</td></tr>\n",
       "\t<tr><td>+ total_population</td><td>-1</td><td>  35.86777</td><td>170</td><td>  89.85118</td><td>-104.761946</td></tr>\n",
       "</tbody>\n",
       "</table>\n"
      ],
      "text/latex": [
       "A data.frame: 11 × 6\n",
       "\\begin{tabular}{llllll}\n",
       " Step & Df & Deviance & Resid. Df & Resid. Dev & AIC\\\\\n",
       " <I<chr>> & <dbl> & <dbl> & <dbl> & <dbl> & <dbl>\\\\\n",
       "\\hline\n",
       "\t                    & NA &         NA & 180 & 6143.10924 &  639.950655\\\\\n",
       "\t + has\\_computer     & -1 & 4883.48008 & 179 & 1259.62916 &  355.153685\\\\\n",
       "\t + no\\_computer      & -1 &  402.30326 & 178 &  857.32590 &  287.513118\\\\\n",
       "\t + mean\\_lowest\\_cost & -1 &  213.91079 & 177 &  643.41511 &  237.561045\\\\\n",
       "\t + mean\\_u\\_mbps      & -1 &  113.38148 & 176 &  530.03363 &  204.474259\\\\\n",
       "\t + median\\_income    & -1 &  117.45849 & 175 &  412.57514 &  161.129758\\\\\n",
       "\t + work\\_from\\_home   & -1 &  123.38618 & 174 &  289.18896 &   98.813572\\\\\n",
       "\t + mean\\_d\\_mbps      & -1 &   80.34880 & 173 &  208.84015 &   41.896052\\\\\n",
       "\t + X65\\_and\\_older    & -1 &   52.43308 & 172 &  156.40707 &   -8.432334\\\\\n",
       "\t + no\\_internet      & -1 &   30.68812 & 171 &  125.71895 &  -45.965115\\\\\n",
       "\t + total\\_population & -1 &   35.86777 & 170 &   89.85118 & -104.761946\\\\\n",
       "\\end{tabular}\n"
      ],
      "text/markdown": [
       "\n",
       "A data.frame: 11 × 6\n",
       "\n",
       "| Step &lt;I&lt;chr&gt;&gt; | Df &lt;dbl&gt; | Deviance &lt;dbl&gt; | Resid. Df &lt;dbl&gt; | Resid. Dev &lt;dbl&gt; | AIC &lt;dbl&gt; |\n",
       "|---|---|---|---|---|---|\n",
       "| <!----> | NA |         NA | 180 | 6143.10924 |  639.950655 |\n",
       "| + has_computer     | -1 | 4883.48008 | 179 | 1259.62916 |  355.153685 |\n",
       "| + no_computer      | -1 |  402.30326 | 178 |  857.32590 |  287.513118 |\n",
       "| + mean_lowest_cost | -1 |  213.91079 | 177 |  643.41511 |  237.561045 |\n",
       "| + mean_u_mbps      | -1 |  113.38148 | 176 |  530.03363 |  204.474259 |\n",
       "| + median_income    | -1 |  117.45849 | 175 |  412.57514 |  161.129758 |\n",
       "| + work_from_home   | -1 |  123.38618 | 174 |  289.18896 |   98.813572 |\n",
       "| + mean_d_mbps      | -1 |   80.34880 | 173 |  208.84015 |   41.896052 |\n",
       "| + X65_and_older    | -1 |   52.43308 | 172 |  156.40707 |   -8.432334 |\n",
       "| + no_internet      | -1 |   30.68812 | 171 |  125.71895 |  -45.965115 |\n",
       "| + total_population | -1 |   35.86777 | 170 |   89.85118 | -104.761946 |\n",
       "\n"
      ],
      "text/plain": [
       "   Step               Df Deviance   Resid. Df Resid. Dev AIC        \n",
       "1                     NA         NA 180       6143.10924  639.950655\n",
       "2  + has_computer     -1 4883.48008 179       1259.62916  355.153685\n",
       "3  + no_computer      -1  402.30326 178        857.32590  287.513118\n",
       "4  + mean_lowest_cost -1  213.91079 177        643.41511  237.561045\n",
       "5  + mean_u_mbps      -1  113.38148 176        530.03363  204.474259\n",
       "6  + median_income    -1  117.45849 175        412.57514  161.129758\n",
       "7  + work_from_home   -1  123.38618 174        289.18896   98.813572\n",
       "8  + mean_d_mbps      -1   80.34880 173        208.84015   41.896052\n",
       "9  + X65_and_older    -1   52.43308 172        156.40707   -8.432334\n",
       "10 + no_internet      -1   30.68812 171        125.71895  -45.965115\n",
       "11 + total_population -1   35.86777 170         89.85118 -104.761946"
      ]
     },
     "metadata": {},
     "output_type": "display_data"
    }
   ],
   "source": [
    "both$anova"
   ]
  },
  {
   "cell_type": "code",
   "execution_count": 62,
   "metadata": {
    "vscode": {
     "languageId": "r"
    }
   },
   "outputs": [
    {
     "data": {
      "text/html": [
       "<style>\n",
       ".dl-inline {width: auto; margin:0; padding: 0}\n",
       ".dl-inline>dt, .dl-inline>dd {float: none; width: auto; display: inline-block}\n",
       ".dl-inline>dt::after {content: \":\\0020\"; padding-right: .5ex}\n",
       ".dl-inline>dt:not(:first-of-type) {padding-left: .5ex}\n",
       "</style><dl class=dl-inline><dt>(Intercept)</dt><dd>0.0268537496045654</dd><dt>has_computer</dt><dd>1.96824467849997</dd><dt>no_computer</dt><dd>1.02089187976104</dd><dt>mean_lowest_cost</dt><dd>1.06524674347002</dd><dt>mean_u_mbps</dt><dd>0.962960013288118</dd><dt>median_income</dt><dd>1.04024328140571</dd><dt>work_from_home</dt><dd>0.852092298718779</dd><dt>mean_d_mbps</dt><dd>1.10625278667329</dd><dt>X65_and_older</dt><dd>0.898158676028099</dd><dt>no_internet</dt><dd>0.889799489889193</dd><dt>total_population</dt><dd>1.02669851184201</dd></dl>\n"
      ],
      "text/latex": [
       "\\begin{description*}\n",
       "\\item[(Intercept)] 0.0268537496045654\n",
       "\\item[has\\textbackslash{}\\_computer] 1.96824467849997\n",
       "\\item[no\\textbackslash{}\\_computer] 1.02089187976104\n",
       "\\item[mean\\textbackslash{}\\_lowest\\textbackslash{}\\_cost] 1.06524674347002\n",
       "\\item[mean\\textbackslash{}\\_u\\textbackslash{}\\_mbps] 0.962960013288118\n",
       "\\item[median\\textbackslash{}\\_income] 1.04024328140571\n",
       "\\item[work\\textbackslash{}\\_from\\textbackslash{}\\_home] 0.852092298718779\n",
       "\\item[mean\\textbackslash{}\\_d\\textbackslash{}\\_mbps] 1.10625278667329\n",
       "\\item[X65\\textbackslash{}\\_and\\textbackslash{}\\_older] 0.898158676028099\n",
       "\\item[no\\textbackslash{}\\_internet] 0.889799489889193\n",
       "\\item[total\\textbackslash{}\\_population] 1.02669851184201\n",
       "\\end{description*}\n"
      ],
      "text/markdown": [
       "(Intercept)\n",
       ":   0.0268537496045654has_computer\n",
       ":   1.96824467849997no_computer\n",
       ":   1.02089187976104mean_lowest_cost\n",
       ":   1.06524674347002mean_u_mbps\n",
       ":   0.962960013288118median_income\n",
       ":   1.04024328140571work_from_home\n",
       ":   0.852092298718779mean_d_mbps\n",
       ":   1.10625278667329X65_and_older\n",
       ":   0.898158676028099no_internet\n",
       ":   0.889799489889193total_population\n",
       ":   1.02669851184201\n",
       "\n"
      ],
      "text/plain": [
       "     (Intercept)     has_computer      no_computer mean_lowest_cost \n",
       "      0.02685375       1.96824468       1.02089188       1.06524674 \n",
       "     mean_u_mbps    median_income   work_from_home      mean_d_mbps \n",
       "      0.96296001       1.04024328       0.85209230       1.10625279 \n",
       "   X65_and_older      no_internet total_population \n",
       "      0.89815868       0.88979949       1.02669851 "
      ]
     },
     "metadata": {},
     "output_type": "display_data"
    }
   ],
   "source": [
    "both$coefficient"
   ]
  },
  {
   "cell_type": "code",
   "execution_count": 63,
   "metadata": {
    "vscode": {
     "languageId": "r"
    }
   },
   "outputs": [
    {
     "data": {
      "text/plain": [
       "\n",
       "Call:\n",
       "lm(formula = index ~ has_computer + no_computer + mean_lowest_cost + \n",
       "    mean_u_mbps + median_income + work_from_home + mean_d_mbps + \n",
       "    X65_and_older + no_internet + total_population, data = index_data2)\n",
       "\n",
       "Residuals:\n",
       "    Min      1Q  Median      3Q     Max \n",
       "-5.7578 -0.1956 -0.0429  0.1461  4.2944 \n",
       "\n",
       "Coefficients:\n",
       "                 Estimate Std. Error t value             Pr(>|t|)    \n",
       "(Intercept)       0.02685    0.05404   0.497                 0.62    \n",
       "has_computer      1.96824    0.14447  13.624 < 0.0000000000000002 ***\n",
       "no_computer       1.02089    0.10102  10.106 < 0.0000000000000002 ***\n",
       "mean_lowest_cost  1.06525    0.05603  19.012 < 0.0000000000000002 ***\n",
       "mean_u_mbps       0.96296    0.06271  15.356 < 0.0000000000000002 ***\n",
       "median_income     1.04024    0.05720  18.186 < 0.0000000000000002 ***\n",
       "work_from_home    0.85209    0.06689  12.738 < 0.0000000000000002 ***\n",
       "mean_d_mbps       1.10625    0.06833  16.191 < 0.0000000000000002 ***\n",
       "X65_and_older     0.89816    0.08571  10.479 < 0.0000000000000002 ***\n",
       "no_internet       0.88980    0.10580   8.410    0.000000000000016 ***\n",
       "total_population  1.02670    0.12463   8.238    0.000000000000045 ***\n",
       "---\n",
       "Signif. codes:  0 ‘***’ 0.001 ‘**’ 0.01 ‘*’ 0.05 ‘.’ 0.1 ‘ ’ 1\n",
       "\n",
       "Residual standard error: 0.727 on 170 degrees of freedom\n",
       "  (2 observations deleted due to missingness)\n",
       "Multiple R-squared:  0.9854,\tAdjusted R-squared:  0.9845 \n",
       "F-statistic:  1145 on 10 and 170 DF,  p-value: < 0.00000000000000022\n"
      ]
     },
     "metadata": {},
     "output_type": "display_data"
    }
   ],
   "source": [
    "summary(both)"
   ]
  },
  {
   "cell_type": "code",
   "execution_count": 66,
   "metadata": {
    "vscode": {
     "languageId": "r"
    }
   },
   "outputs": [
    {
     "data": {
      "text/html": [
       "<dl>\n",
       "\t<dt>$`(Intercept)`</dt>\n",
       "\t\t<dd>0.0268537496045654</dd>\n",
       "\t<dt>$has_computer</dt>\n",
       "\t\t<dd>1.96824467849997</dd>\n",
       "\t<dt>$no_computer</dt>\n",
       "\t\t<dd>1.02089187976104</dd>\n",
       "\t<dt>$mean_lowest_cost</dt>\n",
       "\t\t<dd>1.06524674347002</dd>\n",
       "\t<dt>$mean_u_mbps</dt>\n",
       "\t\t<dd>0.962960013288118</dd>\n",
       "\t<dt>$median_income</dt>\n",
       "\t\t<dd>1.04024328140571</dd>\n",
       "\t<dt>$work_from_home</dt>\n",
       "\t\t<dd>0.852092298718779</dd>\n",
       "\t<dt>$mean_d_mbps</dt>\n",
       "\t\t<dd>1.10625278667329</dd>\n",
       "\t<dt>$X65_and_older</dt>\n",
       "\t\t<dd>0.898158676028099</dd>\n",
       "\t<dt>$no_internet</dt>\n",
       "\t\t<dd>0.889799489889193</dd>\n",
       "\t<dt>$total_population</dt>\n",
       "\t\t<dd>1.02669851184201</dd>\n",
       "</dl>\n"
      ],
      "text/latex": [
       "\\begin{description}\n",
       "\\item[\\$`(Intercept)`] 0.0268537496045654\n",
       "\\item[\\$has\\_computer] 1.96824467849997\n",
       "\\item[\\$no\\_computer] 1.02089187976104\n",
       "\\item[\\$mean\\_lowest\\_cost] 1.06524674347002\n",
       "\\item[\\$mean\\_u\\_mbps] 0.962960013288118\n",
       "\\item[\\$median\\_income] 1.04024328140571\n",
       "\\item[\\$work\\_from\\_home] 0.852092298718779\n",
       "\\item[\\$mean\\_d\\_mbps] 1.10625278667329\n",
       "\\item[\\$X65\\_and\\_older] 0.898158676028099\n",
       "\\item[\\$no\\_internet] 0.889799489889193\n",
       "\\item[\\$total\\_population] 1.02669851184201\n",
       "\\end{description}\n"
      ],
      "text/markdown": [
       "$`(Intercept)`\n",
       ":   0.0268537496045654\n",
       "$has_computer\n",
       ":   1.96824467849997\n",
       "$no_computer\n",
       ":   1.02089187976104\n",
       "$mean_lowest_cost\n",
       ":   1.06524674347002\n",
       "$mean_u_mbps\n",
       ":   0.962960013288118\n",
       "$median_income\n",
       ":   1.04024328140571\n",
       "$work_from_home\n",
       ":   0.852092298718779\n",
       "$mean_d_mbps\n",
       ":   1.10625278667329\n",
       "$X65_and_older\n",
       ":   0.898158676028099\n",
       "$no_internet\n",
       ":   0.889799489889193\n",
       "$total_population\n",
       ":   1.02669851184201\n",
       "\n",
       "\n"
      ],
      "text/plain": [
       "$`(Intercept)`\n",
       "[1] 0.02685375\n",
       "\n",
       "$has_computer\n",
       "[1] 1.968245\n",
       "\n",
       "$no_computer\n",
       "[1] 1.020892\n",
       "\n",
       "$mean_lowest_cost\n",
       "[1] 1.065247\n",
       "\n",
       "$mean_u_mbps\n",
       "[1] 0.96296\n",
       "\n",
       "$median_income\n",
       "[1] 1.040243\n",
       "\n",
       "$work_from_home\n",
       "[1] 0.8520923\n",
       "\n",
       "$mean_d_mbps\n",
       "[1] 1.106253\n",
       "\n",
       "$X65_and_older\n",
       "[1] 0.8981587\n",
       "\n",
       "$no_internet\n",
       "[1] 0.8897995\n",
       "\n",
       "$total_population\n",
       "[1] 1.026699\n"
      ]
     },
     "metadata": {},
     "output_type": "display_data"
    }
   ],
   "source": [
    "as.list(both$coefficients)"
   ]
  }
 ],
 "metadata": {
  "kernelspec": {
   "display_name": "R",
   "language": "R",
   "name": "ir"
  },
  "language_info": {
   "codemirror_mode": "r",
   "file_extension": ".r",
   "mimetype": "text/x-r-source",
   "name": "R",
   "pygments_lexer": "r",
   "version": "4.2.3"
  },
  "orig_nbformat": 4
 },
 "nbformat": 4,
 "nbformat_minor": 2
}
