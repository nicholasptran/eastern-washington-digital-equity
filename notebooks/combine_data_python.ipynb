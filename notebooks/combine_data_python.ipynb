{
 "cells": [
  {
   "cell_type": "code",
   "execution_count": 14,
   "metadata": {},
   "outputs": [],
   "source": [
    "import pandas as pd"
   ]
  },
  {
   "cell_type": "code",
   "execution_count": 15,
   "metadata": {},
   "outputs": [],
   "source": [
    "census_data = pd.read_csv(\"../app/data/census_data.csv\")\n",
    "provider_data = pd.read_csv(\"../app/data/provider_and_lowest_cost.csv\")\n",
    "ookla_data = pd.read_csv(\"../app/data/ookla.csv\")"
   ]
  },
  {
   "cell_type": "code",
   "execution_count": 16,
   "metadata": {},
   "outputs": [
    {
     "data": {
      "text/html": [
       "<div>\n",
       "<style scoped>\n",
       "    .dataframe tbody tr th:only-of-type {\n",
       "        vertical-align: middle;\n",
       "    }\n",
       "\n",
       "    .dataframe tbody tr th {\n",
       "        vertical-align: top;\n",
       "    }\n",
       "\n",
       "    .dataframe thead th {\n",
       "        text-align: right;\n",
       "    }\n",
       "</style>\n",
       "<table border=\"1\" class=\"dataframe\">\n",
       "  <thead>\n",
       "    <tr style=\"text-align: right;\">\n",
       "      <th></th>\n",
       "      <th>tract</th>\n",
       "      <th>county</th>\n",
       "      <th>GEOID</th>\n",
       "      <th>has_computer</th>\n",
       "      <th>with_internet</th>\n",
       "      <th>work_from_home</th>\n",
       "      <th>broadband</th>\n",
       "      <th>median_income</th>\n",
       "      <th>median_age</th>\n",
       "      <th>total_population</th>\n",
       "    </tr>\n",
       "  </thead>\n",
       "  <tbody>\n",
       "    <tr>\n",
       "      <th>0</th>\n",
       "      <td>9601.0</td>\n",
       "      <td>Asotin County</td>\n",
       "      <td>53003960100</td>\n",
       "      <td>1664.0</td>\n",
       "      <td>1569.0</td>\n",
       "      <td>145.0</td>\n",
       "      <td>1561.0</td>\n",
       "      <td>73942.0</td>\n",
       "      <td>50.1</td>\n",
       "      <td>4320.0</td>\n",
       "    </tr>\n",
       "    <tr>\n",
       "      <th>1</th>\n",
       "      <td>9602.0</td>\n",
       "      <td>Asotin County</td>\n",
       "      <td>53003960200</td>\n",
       "      <td>1872.0</td>\n",
       "      <td>1780.0</td>\n",
       "      <td>421.0</td>\n",
       "      <td>1753.0</td>\n",
       "      <td>72988.0</td>\n",
       "      <td>53.9</td>\n",
       "      <td>4755.0</td>\n",
       "    </tr>\n",
       "    <tr>\n",
       "      <th>2</th>\n",
       "      <td>9603.0</td>\n",
       "      <td>Asotin County</td>\n",
       "      <td>53003960300</td>\n",
       "      <td>1279.0</td>\n",
       "      <td>1156.0</td>\n",
       "      <td>6.0</td>\n",
       "      <td>1156.0</td>\n",
       "      <td>38077.0</td>\n",
       "      <td>34.5</td>\n",
       "      <td>3633.0</td>\n",
       "    </tr>\n",
       "    <tr>\n",
       "      <th>3</th>\n",
       "      <td>9604.0</td>\n",
       "      <td>Asotin County</td>\n",
       "      <td>53003960400</td>\n",
       "      <td>941.0</td>\n",
       "      <td>805.0</td>\n",
       "      <td>29.0</td>\n",
       "      <td>732.0</td>\n",
       "      <td>38777.0</td>\n",
       "      <td>38.9</td>\n",
       "      <td>2517.0</td>\n",
       "    </tr>\n",
       "    <tr>\n",
       "      <th>4</th>\n",
       "      <td>9605.0</td>\n",
       "      <td>Asotin County</td>\n",
       "      <td>53003960500</td>\n",
       "      <td>1345.0</td>\n",
       "      <td>1198.0</td>\n",
       "      <td>26.0</td>\n",
       "      <td>1192.0</td>\n",
       "      <td>42639.0</td>\n",
       "      <td>36.8</td>\n",
       "      <td>3517.0</td>\n",
       "    </tr>\n",
       "  </tbody>\n",
       "</table>\n",
       "</div>"
      ],
      "text/plain": [
       "    tract          county        GEOID  has_computer  with_internet  \\\n",
       "0  9601.0   Asotin County  53003960100        1664.0         1569.0   \n",
       "1  9602.0   Asotin County  53003960200        1872.0         1780.0   \n",
       "2  9603.0   Asotin County  53003960300        1279.0         1156.0   \n",
       "3  9604.0   Asotin County  53003960400         941.0          805.0   \n",
       "4  9605.0   Asotin County  53003960500        1345.0         1198.0   \n",
       "\n",
       "   work_from_home  broadband  median_income  median_age  total_population  \n",
       "0           145.0     1561.0        73942.0        50.1            4320.0  \n",
       "1           421.0     1753.0        72988.0        53.9            4755.0  \n",
       "2             6.0     1156.0        38077.0        34.5            3633.0  \n",
       "3            29.0      732.0        38777.0        38.9            2517.0  \n",
       "4            26.0     1192.0        42639.0        36.8            3517.0  "
      ]
     },
     "execution_count": 16,
     "metadata": {},
     "output_type": "execute_result"
    }
   ],
   "source": [
    "census_data.head()"
   ]
  },
  {
   "cell_type": "code",
   "execution_count": 17,
   "metadata": {},
   "outputs": [
    {
     "data": {
      "text/html": [
       "<div>\n",
       "<style scoped>\n",
       "    .dataframe tbody tr th:only-of-type {\n",
       "        vertical-align: middle;\n",
       "    }\n",
       "\n",
       "    .dataframe tbody tr th {\n",
       "        vertical-align: top;\n",
       "    }\n",
       "\n",
       "    .dataframe thead th {\n",
       "        text-align: right;\n",
       "    }\n",
       "</style>\n",
       "<table border=\"1\" class=\"dataframe\">\n",
       "  <thead>\n",
       "    <tr style=\"text-align: right;\">\n",
       "      <th></th>\n",
       "      <th>GEOID</th>\n",
       "      <th>number_providers</th>\n",
       "      <th>mean_lowest_cost</th>\n",
       "    </tr>\n",
       "  </thead>\n",
       "  <tbody>\n",
       "    <tr>\n",
       "      <th>0</th>\n",
       "      <td>53001950100</td>\n",
       "      <td>12</td>\n",
       "      <td>54.250000</td>\n",
       "    </tr>\n",
       "    <tr>\n",
       "      <th>1</th>\n",
       "      <td>53001950200</td>\n",
       "      <td>12</td>\n",
       "      <td>56.083333</td>\n",
       "    </tr>\n",
       "    <tr>\n",
       "      <th>2</th>\n",
       "      <td>53001950301</td>\n",
       "      <td>8</td>\n",
       "      <td>53.000000</td>\n",
       "    </tr>\n",
       "    <tr>\n",
       "      <th>3</th>\n",
       "      <td>53001950302</td>\n",
       "      <td>8</td>\n",
       "      <td>53.000000</td>\n",
       "    </tr>\n",
       "    <tr>\n",
       "      <th>4</th>\n",
       "      <td>53001950303</td>\n",
       "      <td>8</td>\n",
       "      <td>53.000000</td>\n",
       "    </tr>\n",
       "  </tbody>\n",
       "</table>\n",
       "</div>"
      ],
      "text/plain": [
       "         GEOID  number_providers  mean_lowest_cost\n",
       "0  53001950100                12         54.250000\n",
       "1  53001950200                12         56.083333\n",
       "2  53001950301                 8         53.000000\n",
       "3  53001950302                 8         53.000000\n",
       "4  53001950303                 8         53.000000"
      ]
     },
     "execution_count": 17,
     "metadata": {},
     "output_type": "execute_result"
    }
   ],
   "source": [
    "provider_data.head()"
   ]
  },
  {
   "cell_type": "code",
   "execution_count": 18,
   "metadata": {},
   "outputs": [
    {
     "data": {
      "text/html": [
       "<div>\n",
       "<style scoped>\n",
       "    .dataframe tbody tr th:only-of-type {\n",
       "        vertical-align: middle;\n",
       "    }\n",
       "\n",
       "    .dataframe tbody tr th {\n",
       "        vertical-align: top;\n",
       "    }\n",
       "\n",
       "    .dataframe thead th {\n",
       "        text-align: right;\n",
       "    }\n",
       "</style>\n",
       "<table border=\"1\" class=\"dataframe\">\n",
       "  <thead>\n",
       "    <tr style=\"text-align: right;\">\n",
       "      <th></th>\n",
       "      <th>GEOID</th>\n",
       "      <th>tract</th>\n",
       "      <th>mean_d_mbps</th>\n",
       "      <th>mean_u_mbps</th>\n",
       "      <th>mean_lat_ms</th>\n",
       "    </tr>\n",
       "  </thead>\n",
       "  <tbody>\n",
       "    <tr>\n",
       "      <th>0</th>\n",
       "      <td>53001950100</td>\n",
       "      <td>9501.00</td>\n",
       "      <td>62.658641</td>\n",
       "      <td>9.528565</td>\n",
       "      <td>0.042641</td>\n",
       "    </tr>\n",
       "    <tr>\n",
       "      <th>1</th>\n",
       "      <td>53001950200</td>\n",
       "      <td>9502.00</td>\n",
       "      <td>61.977207</td>\n",
       "      <td>9.037524</td>\n",
       "      <td>0.060902</td>\n",
       "    </tr>\n",
       "    <tr>\n",
       "      <th>2</th>\n",
       "      <td>53001950301</td>\n",
       "      <td>9503.01</td>\n",
       "      <td>88.086809</td>\n",
       "      <td>13.245116</td>\n",
       "      <td>0.060167</td>\n",
       "    </tr>\n",
       "    <tr>\n",
       "      <th>3</th>\n",
       "      <td>53001950302</td>\n",
       "      <td>9503.02</td>\n",
       "      <td>87.010788</td>\n",
       "      <td>17.036596</td>\n",
       "      <td>0.044424</td>\n",
       "    </tr>\n",
       "    <tr>\n",
       "      <th>4</th>\n",
       "      <td>53001950303</td>\n",
       "      <td>9503.03</td>\n",
       "      <td>74.141759</td>\n",
       "      <td>14.220405</td>\n",
       "      <td>0.037892</td>\n",
       "    </tr>\n",
       "  </tbody>\n",
       "</table>\n",
       "</div>"
      ],
      "text/plain": [
       "         GEOID    tract  mean_d_mbps  mean_u_mbps  mean_lat_ms\n",
       "0  53001950100  9501.00    62.658641     9.528565     0.042641\n",
       "1  53001950200  9502.00    61.977207     9.037524     0.060902\n",
       "2  53001950301  9503.01    88.086809    13.245116     0.060167\n",
       "3  53001950302  9503.02    87.010788    17.036596     0.044424\n",
       "4  53001950303  9503.03    74.141759    14.220405     0.037892"
      ]
     },
     "execution_count": 18,
     "metadata": {},
     "output_type": "execute_result"
    }
   ],
   "source": [
    "ookla_data.head()"
   ]
  },
  {
   "cell_type": "code",
   "execution_count": 19,
   "metadata": {},
   "outputs": [],
   "source": [
    "data =  pd.merge(census_data, provider_data, on=\"GEOID\", how=\"left\")"
   ]
  },
  {
   "cell_type": "code",
   "execution_count": 20,
   "metadata": {},
   "outputs": [],
   "source": [
    "data = pd.merge(data, ookla_data, on=\"GEOID\", how=\"left\")"
   ]
  },
  {
   "cell_type": "code",
   "execution_count": 21,
   "metadata": {},
   "outputs": [],
   "source": [
    "data = data.drop(columns=[\"tract_x\"])"
   ]
  },
  {
   "cell_type": "code",
   "execution_count": 22,
   "metadata": {},
   "outputs": [
    {
     "data": {
      "text/plain": [
       "county              False\n",
       "GEOID               False\n",
       "has_computer        False\n",
       "with_internet       False\n",
       "work_from_home      False\n",
       "broadband           False\n",
       "median_income       False\n",
       "median_age          False\n",
       "total_population    False\n",
       "number_providers     True\n",
       "mean_lowest_cost     True\n",
       "tract_y             False\n",
       "mean_d_mbps         False\n",
       "mean_u_mbps         False\n",
       "mean_lat_ms         False\n",
       "dtype: bool"
      ]
     },
     "execution_count": 22,
     "metadata": {},
     "output_type": "execute_result"
    }
   ],
   "source": [
    "data.isna().any()"
   ]
  },
  {
   "cell_type": "code",
   "execution_count": 23,
   "metadata": {},
   "outputs": [],
   "source": [
    "mean_providers = data.number_providers.mean()\n",
    "mean_mean_lowest_cost = data.mean_lowest_cost.mean()"
   ]
  },
  {
   "cell_type": "code",
   "execution_count": 24,
   "metadata": {},
   "outputs": [],
   "source": [
    "data.number_providers.fillna(mean_providers, inplace=True)\n",
    "data.mean_lowest_cost.fillna(mean_mean_lowest_cost, inplace=True)"
   ]
  },
  {
   "cell_type": "code",
   "execution_count": 25,
   "metadata": {},
   "outputs": [
    {
     "data": {
      "text/plain": [
       "county              False\n",
       "GEOID               False\n",
       "has_computer        False\n",
       "with_internet       False\n",
       "work_from_home      False\n",
       "broadband           False\n",
       "median_income       False\n",
       "median_age          False\n",
       "total_population    False\n",
       "number_providers    False\n",
       "mean_lowest_cost    False\n",
       "tract_y             False\n",
       "mean_d_mbps         False\n",
       "mean_u_mbps         False\n",
       "mean_lat_ms         False\n",
       "dtype: bool"
      ]
     },
     "execution_count": 25,
     "metadata": {},
     "output_type": "execute_result"
    }
   ],
   "source": [
    "data.isna().any()"
   ]
  },
  {
   "cell_type": "code",
   "execution_count": 26,
   "metadata": {},
   "outputs": [],
   "source": [
    "data.to_csv(\"../app/data/combined_data2.csv\", index=False)"
   ]
  }
 ],
 "metadata": {
  "kernelspec": {
   "display_name": "washington-digital-equity-T8Bkn3ac-py3.11",
   "language": "python",
   "name": "python3"
  },
  "language_info": {
   "codemirror_mode": {
    "name": "ipython",
    "version": 3
   },
   "file_extension": ".py",
   "mimetype": "text/x-python",
   "name": "python",
   "nbconvert_exporter": "python",
   "pygments_lexer": "ipython3",
   "version": "3.11.3"
  },
  "orig_nbformat": 4
 },
 "nbformat": 4,
 "nbformat_minor": 2
}
