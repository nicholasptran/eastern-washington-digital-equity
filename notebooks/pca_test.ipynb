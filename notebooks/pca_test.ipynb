{
 "cells": [
  {
   "cell_type": "code",
   "execution_count": 1,
   "metadata": {
    "vscode": {
     "languageId": "r"
    }
   },
   "outputs": [
    {
     "name": "stderr",
     "output_type": "stream",
     "text": [
      "── \u001b[1mAttaching core tidyverse packages\u001b[22m ──────────────────────── tidyverse 2.0.0 ──\n",
      "\u001b[32m✔\u001b[39m \u001b[34mdplyr    \u001b[39m 1.1.2     \u001b[32m✔\u001b[39m \u001b[34mreadr    \u001b[39m 2.1.4\n",
      "\u001b[32m✔\u001b[39m \u001b[34mforcats  \u001b[39m 1.0.0     \u001b[32m✔\u001b[39m \u001b[34mstringr  \u001b[39m 1.5.0\n",
      "\u001b[32m✔\u001b[39m \u001b[34mggplot2  \u001b[39m 3.4.2     \u001b[32m✔\u001b[39m \u001b[34mtibble   \u001b[39m 3.2.1\n",
      "\u001b[32m✔\u001b[39m \u001b[34mlubridate\u001b[39m 1.9.2     \u001b[32m✔\u001b[39m \u001b[34mtidyr    \u001b[39m 1.3.0\n",
      "\u001b[32m✔\u001b[39m \u001b[34mpurrr    \u001b[39m 1.0.1     \n",
      "── \u001b[1mConflicts\u001b[22m ────────────────────────────────────────── tidyverse_conflicts() ──\n",
      "\u001b[31m✖\u001b[39m \u001b[34mdplyr\u001b[39m::\u001b[32mfilter()\u001b[39m masks \u001b[34mstats\u001b[39m::filter()\n",
      "\u001b[31m✖\u001b[39m \u001b[34mdplyr\u001b[39m::\u001b[32mlag()\u001b[39m    masks \u001b[34mstats\u001b[39m::lag()\n",
      "\u001b[36mℹ\u001b[39m Use the conflicted package (\u001b[3m\u001b[34m<http://conflicted.r-lib.org/>\u001b[39m\u001b[23m) to force all conflicts to become errors\n",
      "\n",
      "Attaching package: ‘psych’\n",
      "\n",
      "\n",
      "The following objects are masked from ‘package:ggplot2’:\n",
      "\n",
      "    %+%, alpha\n",
      "\n",
      "\n",
      "\n",
      "Attaching package: ‘Hmisc’\n",
      "\n",
      "\n",
      "The following object is masked from ‘package:psych’:\n",
      "\n",
      "    describe\n",
      "\n",
      "\n",
      "The following objects are masked from ‘package:dplyr’:\n",
      "\n",
      "    src, summarize\n",
      "\n",
      "\n",
      "The following objects are masked from ‘package:base’:\n",
      "\n",
      "    format.pval, units\n",
      "\n",
      "\n",
      "Loading required package: carData\n",
      "\n",
      "\n",
      "Attaching package: ‘car’\n",
      "\n",
      "\n",
      "The following object is masked from ‘package:psych’:\n",
      "\n",
      "    logit\n",
      "\n",
      "\n",
      "The following object is masked from ‘package:dplyr’:\n",
      "\n",
      "    recode\n",
      "\n",
      "\n",
      "The following object is masked from ‘package:purrr’:\n",
      "\n",
      "    some\n",
      "\n",
      "\n"
     ]
    }
   ],
   "source": [
    "library(tidyverse, quietly = TRUE)\n",
    "library(psych, quietly = TRUE)\n",
    "library(Hmisc, quietly = TRUE)\n",
    "library(car)"
   ]
  },
  {
   "cell_type": "code",
   "execution_count": 2,
   "metadata": {
    "vscode": {
     "languageId": "r"
    }
   },
   "outputs": [
    {
     "data": {
      "text/html": [
       "<table class=\"dataframe\">\n",
       "<caption>A data.frame: 1 × 11</caption>\n",
       "<thead>\n",
       "\t<tr><th></th><th scope=col>NAME</th><th scope=col>GEOID</th><th scope=col>with_internet</th><th scope=col>work_from_home</th><th scope=col>sixtyfive_and_older</th><th scope=col>median_income</th><th scope=col>number_providers</th><th scope=col>mean_lowest_cost</th><th scope=col>mean_d_mbps</th><th scope=col>mean_u_mbps</th><th scope=col>mean_lat_ms</th></tr>\n",
       "\t<tr><th></th><th scope=col>&lt;chr&gt;</th><th scope=col>&lt;dbl&gt;</th><th scope=col>&lt;int&gt;</th><th scope=col>&lt;int&gt;</th><th scope=col>&lt;int&gt;</th><th scope=col>&lt;int&gt;</th><th scope=col>&lt;dbl&gt;</th><th scope=col>&lt;dbl&gt;</th><th scope=col>&lt;dbl&gt;</th><th scope=col>&lt;dbl&gt;</th><th scope=col>&lt;dbl&gt;</th></tr>\n",
       "</thead>\n",
       "<tbody>\n",
       "\t<tr><th scope=row>1</th><td>Census Tract 9601, Asotin County, Washington</td><td>53003960100</td><td>1569</td><td>145</td><td>1337</td><td>73942</td><td>12</td><td>58</td><td>110.3274</td><td>41.7821</td><td>51.70445</td></tr>\n",
       "</tbody>\n",
       "</table>\n"
      ],
      "text/latex": [
       "A data.frame: 1 × 11\n",
       "\\begin{tabular}{r|lllllllllll}\n",
       "  & NAME & GEOID & with\\_internet & work\\_from\\_home & sixtyfive\\_and\\_older & median\\_income & number\\_providers & mean\\_lowest\\_cost & mean\\_d\\_mbps & mean\\_u\\_mbps & mean\\_lat\\_ms\\\\\n",
       "  & <chr> & <dbl> & <int> & <int> & <int> & <int> & <dbl> & <dbl> & <dbl> & <dbl> & <dbl>\\\\\n",
       "\\hline\n",
       "\t1 & Census Tract 9601, Asotin County, Washington & 53003960100 & 1569 & 145 & 1337 & 73942 & 12 & 58 & 110.3274 & 41.7821 & 51.70445\\\\\n",
       "\\end{tabular}\n"
      ],
      "text/markdown": [
       "\n",
       "A data.frame: 1 × 11\n",
       "\n",
       "| <!--/--> | NAME &lt;chr&gt; | GEOID &lt;dbl&gt; | with_internet &lt;int&gt; | work_from_home &lt;int&gt; | sixtyfive_and_older &lt;int&gt; | median_income &lt;int&gt; | number_providers &lt;dbl&gt; | mean_lowest_cost &lt;dbl&gt; | mean_d_mbps &lt;dbl&gt; | mean_u_mbps &lt;dbl&gt; | mean_lat_ms &lt;dbl&gt; |\n",
       "|---|---|---|---|---|---|---|---|---|---|---|---|\n",
       "| 1 | Census Tract 9601, Asotin County, Washington | 53003960100 | 1569 | 145 | 1337 | 73942 | 12 | 58 | 110.3274 | 41.7821 | 51.70445 |\n",
       "\n"
      ],
      "text/plain": [
       "  NAME                                         GEOID       with_internet\n",
       "1 Census Tract 9601, Asotin County, Washington 53003960100 1569         \n",
       "  work_from_home sixtyfive_and_older median_income number_providers\n",
       "1 145            1337                73942         12              \n",
       "  mean_lowest_cost mean_d_mbps mean_u_mbps mean_lat_ms\n",
       "1 58               110.3274    41.7821     51.70445   "
      ]
     },
     "metadata": {},
     "output_type": "display_data"
    }
   ],
   "source": [
    "data <- read.csv(\"../data/combined_data.csv\")\n",
    "head(data, 1)"
   ]
  },
  {
   "cell_type": "code",
   "execution_count": 3,
   "metadata": {
    "vscode": {
     "languageId": "r"
    }
   },
   "outputs": [
    {
     "data": {
      "text/html": [
       "<table class=\"dataframe\">\n",
       "<caption>A data.frame: 6 × 9</caption>\n",
       "<thead>\n",
       "\t<tr><th></th><th scope=col>with_internet</th><th scope=col>work_from_home</th><th scope=col>sixtyfive_and_older</th><th scope=col>median_income</th><th scope=col>number_providers</th><th scope=col>mean_lowest_cost</th><th scope=col>mean_d_mbps</th><th scope=col>mean_u_mbps</th><th scope=col>mean_lat_ms</th></tr>\n",
       "\t<tr><th></th><th scope=col>&lt;int&gt;</th><th scope=col>&lt;int&gt;</th><th scope=col>&lt;int&gt;</th><th scope=col>&lt;int&gt;</th><th scope=col>&lt;dbl&gt;</th><th scope=col>&lt;dbl&gt;</th><th scope=col>&lt;dbl&gt;</th><th scope=col>&lt;dbl&gt;</th><th scope=col>&lt;dbl&gt;</th></tr>\n",
       "</thead>\n",
       "<tbody>\n",
       "\t<tr><th scope=row>1</th><td>1569</td><td>145</td><td>1337</td><td>73942</td><td>12</td><td>58.00000</td><td>110.3274</td><td>41.78210</td><td>51.70445</td></tr>\n",
       "\t<tr><th scope=row>2</th><td>1780</td><td>421</td><td>1352</td><td>72988</td><td>13</td><td>60.07692</td><td>145.7848</td><td>22.88731</td><td>24.62630</td></tr>\n",
       "\t<tr><th scope=row>3</th><td>1156</td><td>  6</td><td> 396</td><td>38077</td><td>11</td><td>60.00000</td><td>173.4079</td><td>27.06202</td><td>29.98058</td></tr>\n",
       "\t<tr><th scope=row>4</th><td> 805</td><td> 29</td><td> 647</td><td>38777</td><td> 8</td><td>62.50000</td><td>127.6005</td><td>23.53829</td><td>22.16379</td></tr>\n",
       "\t<tr><th scope=row>5</th><td>1198</td><td> 26</td><td> 635</td><td>42639</td><td> 8</td><td>62.50000</td><td>192.4299</td><td>21.68565</td><td>21.66087</td></tr>\n",
       "\t<tr><th scope=row>6</th><td>1392</td><td>115</td><td> 909</td><td>53947</td><td> 9</td><td>58.88889</td><td>151.0552</td><td>23.52123</td><td>26.18557</td></tr>\n",
       "</tbody>\n",
       "</table>\n"
      ],
      "text/latex": [
       "A data.frame: 6 × 9\n",
       "\\begin{tabular}{r|lllllllll}\n",
       "  & with\\_internet & work\\_from\\_home & sixtyfive\\_and\\_older & median\\_income & number\\_providers & mean\\_lowest\\_cost & mean\\_d\\_mbps & mean\\_u\\_mbps & mean\\_lat\\_ms\\\\\n",
       "  & <int> & <int> & <int> & <int> & <dbl> & <dbl> & <dbl> & <dbl> & <dbl>\\\\\n",
       "\\hline\n",
       "\t1 & 1569 & 145 & 1337 & 73942 & 12 & 58.00000 & 110.3274 & 41.78210 & 51.70445\\\\\n",
       "\t2 & 1780 & 421 & 1352 & 72988 & 13 & 60.07692 & 145.7848 & 22.88731 & 24.62630\\\\\n",
       "\t3 & 1156 &   6 &  396 & 38077 & 11 & 60.00000 & 173.4079 & 27.06202 & 29.98058\\\\\n",
       "\t4 &  805 &  29 &  647 & 38777 &  8 & 62.50000 & 127.6005 & 23.53829 & 22.16379\\\\\n",
       "\t5 & 1198 &  26 &  635 & 42639 &  8 & 62.50000 & 192.4299 & 21.68565 & 21.66087\\\\\n",
       "\t6 & 1392 & 115 &  909 & 53947 &  9 & 58.88889 & 151.0552 & 23.52123 & 26.18557\\\\\n",
       "\\end{tabular}\n"
      ],
      "text/markdown": [
       "\n",
       "A data.frame: 6 × 9\n",
       "\n",
       "| <!--/--> | with_internet &lt;int&gt; | work_from_home &lt;int&gt; | sixtyfive_and_older &lt;int&gt; | median_income &lt;int&gt; | number_providers &lt;dbl&gt; | mean_lowest_cost &lt;dbl&gt; | mean_d_mbps &lt;dbl&gt; | mean_u_mbps &lt;dbl&gt; | mean_lat_ms &lt;dbl&gt; |\n",
       "|---|---|---|---|---|---|---|---|---|---|\n",
       "| 1 | 1569 | 145 | 1337 | 73942 | 12 | 58.00000 | 110.3274 | 41.78210 | 51.70445 |\n",
       "| 2 | 1780 | 421 | 1352 | 72988 | 13 | 60.07692 | 145.7848 | 22.88731 | 24.62630 |\n",
       "| 3 | 1156 |   6 |  396 | 38077 | 11 | 60.00000 | 173.4079 | 27.06202 | 29.98058 |\n",
       "| 4 |  805 |  29 |  647 | 38777 |  8 | 62.50000 | 127.6005 | 23.53829 | 22.16379 |\n",
       "| 5 | 1198 |  26 |  635 | 42639 |  8 | 62.50000 | 192.4299 | 21.68565 | 21.66087 |\n",
       "| 6 | 1392 | 115 |  909 | 53947 |  9 | 58.88889 | 151.0552 | 23.52123 | 26.18557 |\n",
       "\n"
      ],
      "text/plain": [
       "  with_internet work_from_home sixtyfive_and_older median_income\n",
       "1 1569          145            1337                73942        \n",
       "2 1780          421            1352                72988        \n",
       "3 1156            6             396                38077        \n",
       "4  805           29             647                38777        \n",
       "5 1198           26             635                42639        \n",
       "6 1392          115             909                53947        \n",
       "  number_providers mean_lowest_cost mean_d_mbps mean_u_mbps mean_lat_ms\n",
       "1 12               58.00000         110.3274    41.78210    51.70445   \n",
       "2 13               60.07692         145.7848    22.88731    24.62630   \n",
       "3 11               60.00000         173.4079    27.06202    29.98058   \n",
       "4  8               62.50000         127.6005    23.53829    22.16379   \n",
       "5  8               62.50000         192.4299    21.68565    21.66087   \n",
       "6  9               58.88889         151.0552    23.52123    26.18557   "
      ]
     },
     "metadata": {},
     "output_type": "display_data"
    }
   ],
   "source": [
    "data <- data %>% dplyr::select(-NAME, -GEOID)\n",
    "scaled_data <- scale(data)\n",
    "head(data)"
   ]
  },
  {
   "cell_type": "code",
   "execution_count": 4,
   "metadata": {
    "vscode": {
     "languageId": "r"
    }
   },
   "outputs": [
    {
     "data": {
      "text/plain": [
       "Kaiser-Meyer-Olkin factor adequacy\n",
       "Call: KMO(r = data)\n",
       "Overall MSA =  0.63\n",
       "MSA for each item = \n",
       "      with_internet      work_from_home sixtyfive_and_older       median_income \n",
       "               0.57                0.74                0.55                0.65 \n",
       "   number_providers    mean_lowest_cost         mean_d_mbps         mean_u_mbps \n",
       "               0.71                0.69                0.65                0.60 \n",
       "        mean_lat_ms \n",
       "               0.67 "
      ]
     },
     "metadata": {},
     "output_type": "display_data"
    }
   ],
   "source": [
    "KMO(data)"
   ]
  },
  {
   "cell_type": "code",
   "execution_count": 5,
   "metadata": {
    "vscode": {
     "languageId": "r"
    }
   },
   "outputs": [
    {
     "data": {
      "text/html": [
       "<table class=\"dataframe\">\n",
       "<caption>A data.frame: 6 × 10</caption>\n",
       "<thead>\n",
       "\t<tr><th></th><th scope=col>with_internet</th><th scope=col>work_from_home</th><th scope=col>sixtyfive_and_older</th><th scope=col>median_income</th><th scope=col>number_providers</th><th scope=col>mean_lowest_cost</th><th scope=col>mean_d_mbps</th><th scope=col>mean_u_mbps</th><th scope=col>mean_lat_ms</th><th scope=col>index</th></tr>\n",
       "\t<tr><th></th><th scope=col>&lt;int&gt;</th><th scope=col>&lt;int&gt;</th><th scope=col>&lt;int&gt;</th><th scope=col>&lt;int&gt;</th><th scope=col>&lt;dbl&gt;</th><th scope=col>&lt;dbl&gt;</th><th scope=col>&lt;dbl&gt;</th><th scope=col>&lt;dbl&gt;</th><th scope=col>&lt;dbl&gt;</th><th scope=col>&lt;dbl&gt;</th></tr>\n",
       "</thead>\n",
       "<tbody>\n",
       "\t<tr><th scope=row>1</th><td>1569</td><td>145</td><td>1337</td><td>73942</td><td>12</td><td>58.00000</td><td>110.3274</td><td>41.78210</td><td>51.70445</td><td>-1.4973910</td></tr>\n",
       "\t<tr><th scope=row>2</th><td>1780</td><td>421</td><td>1352</td><td>72988</td><td>13</td><td>60.07692</td><td>145.7848</td><td>22.88731</td><td>24.62630</td><td>-0.4445651</td></tr>\n",
       "\t<tr><th scope=row>3</th><td>1156</td><td>  6</td><td> 396</td><td>38077</td><td>11</td><td>60.00000</td><td>173.4079</td><td>27.06202</td><td>29.98058</td><td>-0.9229616</td></tr>\n",
       "\t<tr><th scope=row>4</th><td> 805</td><td> 29</td><td> 647</td><td>38777</td><td> 8</td><td>62.50000</td><td>127.6005</td><td>23.53829</td><td>22.16379</td><td>-0.4642621</td></tr>\n",
       "\t<tr><th scope=row>5</th><td>1198</td><td> 26</td><td> 635</td><td>42639</td><td> 8</td><td>62.50000</td><td>192.4299</td><td>21.68565</td><td>21.66087</td><td> 0.1856894</td></tr>\n",
       "\t<tr><th scope=row>6</th><td>1392</td><td>115</td><td> 909</td><td>53947</td><td> 9</td><td>58.88889</td><td>151.0552</td><td>23.52123</td><td>26.18557</td><td>-0.3719643</td></tr>\n",
       "</tbody>\n",
       "</table>\n"
      ],
      "text/latex": [
       "A data.frame: 6 × 10\n",
       "\\begin{tabular}{r|llllllllll}\n",
       "  & with\\_internet & work\\_from\\_home & sixtyfive\\_and\\_older & median\\_income & number\\_providers & mean\\_lowest\\_cost & mean\\_d\\_mbps & mean\\_u\\_mbps & mean\\_lat\\_ms & index\\\\\n",
       "  & <int> & <int> & <int> & <int> & <dbl> & <dbl> & <dbl> & <dbl> & <dbl> & <dbl>\\\\\n",
       "\\hline\n",
       "\t1 & 1569 & 145 & 1337 & 73942 & 12 & 58.00000 & 110.3274 & 41.78210 & 51.70445 & -1.4973910\\\\\n",
       "\t2 & 1780 & 421 & 1352 & 72988 & 13 & 60.07692 & 145.7848 & 22.88731 & 24.62630 & -0.4445651\\\\\n",
       "\t3 & 1156 &   6 &  396 & 38077 & 11 & 60.00000 & 173.4079 & 27.06202 & 29.98058 & -0.9229616\\\\\n",
       "\t4 &  805 &  29 &  647 & 38777 &  8 & 62.50000 & 127.6005 & 23.53829 & 22.16379 & -0.4642621\\\\\n",
       "\t5 & 1198 &  26 &  635 & 42639 &  8 & 62.50000 & 192.4299 & 21.68565 & 21.66087 &  0.1856894\\\\\n",
       "\t6 & 1392 & 115 &  909 & 53947 &  9 & 58.88889 & 151.0552 & 23.52123 & 26.18557 & -0.3719643\\\\\n",
       "\\end{tabular}\n"
      ],
      "text/markdown": [
       "\n",
       "A data.frame: 6 × 10\n",
       "\n",
       "| <!--/--> | with_internet &lt;int&gt; | work_from_home &lt;int&gt; | sixtyfive_and_older &lt;int&gt; | median_income &lt;int&gt; | number_providers &lt;dbl&gt; | mean_lowest_cost &lt;dbl&gt; | mean_d_mbps &lt;dbl&gt; | mean_u_mbps &lt;dbl&gt; | mean_lat_ms &lt;dbl&gt; | index &lt;dbl&gt; |\n",
       "|---|---|---|---|---|---|---|---|---|---|---|\n",
       "| 1 | 1569 | 145 | 1337 | 73942 | 12 | 58.00000 | 110.3274 | 41.78210 | 51.70445 | -1.4973910 |\n",
       "| 2 | 1780 | 421 | 1352 | 72988 | 13 | 60.07692 | 145.7848 | 22.88731 | 24.62630 | -0.4445651 |\n",
       "| 3 | 1156 |   6 |  396 | 38077 | 11 | 60.00000 | 173.4079 | 27.06202 | 29.98058 | -0.9229616 |\n",
       "| 4 |  805 |  29 |  647 | 38777 |  8 | 62.50000 | 127.6005 | 23.53829 | 22.16379 | -0.4642621 |\n",
       "| 5 | 1198 |  26 |  635 | 42639 |  8 | 62.50000 | 192.4299 | 21.68565 | 21.66087 |  0.1856894 |\n",
       "| 6 | 1392 | 115 |  909 | 53947 |  9 | 58.88889 | 151.0552 | 23.52123 | 26.18557 | -0.3719643 |\n",
       "\n"
      ],
      "text/plain": [
       "  with_internet work_from_home sixtyfive_and_older median_income\n",
       "1 1569          145            1337                73942        \n",
       "2 1780          421            1352                72988        \n",
       "3 1156            6             396                38077        \n",
       "4  805           29             647                38777        \n",
       "5 1198           26             635                42639        \n",
       "6 1392          115             909                53947        \n",
       "  number_providers mean_lowest_cost mean_d_mbps mean_u_mbps mean_lat_ms\n",
       "1 12               58.00000         110.3274    41.78210    51.70445   \n",
       "2 13               60.07692         145.7848    22.88731    24.62630   \n",
       "3 11               60.00000         173.4079    27.06202    29.98058   \n",
       "4  8               62.50000         127.6005    23.53829    22.16379   \n",
       "5  8               62.50000         192.4299    21.68565    21.66087   \n",
       "6  9               58.88889         151.0552    23.52123    26.18557   \n",
       "  index     \n",
       "1 -1.4973910\n",
       "2 -0.4445651\n",
       "3 -0.9229616\n",
       "4 -0.4642621\n",
       "5  0.1856894\n",
       "6 -0.3719643"
      ]
     },
     "metadata": {},
     "output_type": "display_data"
    }
   ],
   "source": [
    "pca_data <- prcomp(scaled_data, scale = FALSE)\n",
    "\n",
    "# disable scientific notation\n",
    "options(scipen = 999)\n",
    "eigenvectors <- -pca_data$rotation\n",
    "eigenvalues <- pca_data$sdev^2\n",
    "\n",
    "index_col <- as.data.frame(-pca_data$x) %>%\n",
    "    dplyr::select(PC1) %>%\n",
    "    rename(index = PC1)\n",
    "\n",
    "index_data <- bind_cols(data, index_col)\n",
    "head(index_data)"
   ]
  },
  {
   "cell_type": "code",
   "execution_count": 6,
   "metadata": {
    "vscode": {
     "languageId": "r"
    }
   },
   "outputs": [
    {
     "data": {
      "text/html": [
       "<dl>\n",
       "\t<dt>$with_internet</dt>\n",
       "\t\t<dd>0.0000000000000184297022087776</dd>\n",
       "\t<dt>$work_from_home</dt>\n",
       "\t\t<dd>0.0488348110447259</dd>\n",
       "\t<dt>$sixtyfive_and_older</dt>\n",
       "\t\t<dd>0.197162282488086</dd>\n",
       "\t<dt>$median_income</dt>\n",
       "\t\t<dd>0.786719118713837</dd>\n",
       "\t<dt>$number_providers</dt>\n",
       "\t\t<dd>0</dd>\n",
       "\t<dt>$mean_lowest_cost</dt>\n",
       "\t\t<dd>0.000000027831087878738</dd>\n",
       "\t<dt>$mean_d_mbps</dt>\n",
       "\t\t<dd>0</dd>\n",
       "\t<dt>$mean_u_mbps</dt>\n",
       "\t\t<dd>0.0000000000000972555369571637</dd>\n",
       "\t<dt>$mean_lat_ms</dt>\n",
       "\t\t<dd>0</dd>\n",
       "\t<dt>$index</dt>\n",
       "\t\t<dd>&lt;NA&gt;</dd>\n",
       "</dl>\n"
      ],
      "text/latex": [
       "\\begin{description}\n",
       "\\item[\\$with\\_internet] 0.0000000000000184297022087776\n",
       "\\item[\\$work\\_from\\_home] 0.0488348110447259\n",
       "\\item[\\$sixtyfive\\_and\\_older] 0.197162282488086\n",
       "\\item[\\$median\\_income] 0.786719118713837\n",
       "\\item[\\$number\\_providers] 0\n",
       "\\item[\\$mean\\_lowest\\_cost] 0.000000027831087878738\n",
       "\\item[\\$mean\\_d\\_mbps] 0\n",
       "\\item[\\$mean\\_u\\_mbps] 0.0000000000000972555369571637\n",
       "\\item[\\$mean\\_lat\\_ms] 0\n",
       "\\item[\\$index] <NA>\n",
       "\\end{description}\n"
      ],
      "text/markdown": [
       "$with_internet\n",
       ":   0.0000000000000184297022087776\n",
       "$work_from_home\n",
       ":   0.0488348110447259\n",
       "$sixtyfive_and_older\n",
       ":   0.197162282488086\n",
       "$median_income\n",
       ":   0.786719118713837\n",
       "$number_providers\n",
       ":   0\n",
       "$mean_lowest_cost\n",
       ":   0.000000027831087878738\n",
       "$mean_d_mbps\n",
       ":   0\n",
       "$mean_u_mbps\n",
       ":   0.0000000000000972555369571637\n",
       "$mean_lat_ms\n",
       ":   0\n",
       "$index\n",
       ":   &lt;NA&gt;\n",
       "\n",
       "\n"
      ],
      "text/plain": [
       "$with_internet\n",
       "[1] 0.0000000000000184297\n",
       "\n",
       "$work_from_home\n",
       "[1] 0.04883481\n",
       "\n",
       "$sixtyfive_and_older\n",
       "[1] 0.1971623\n",
       "\n",
       "$median_income\n",
       "[1] 0.7867191\n",
       "\n",
       "$number_providers\n",
       "[1] 0\n",
       "\n",
       "$mean_lowest_cost\n",
       "[1] 0.00000002783109\n",
       "\n",
       "$mean_d_mbps\n",
       "[1] 0\n",
       "\n",
       "$mean_u_mbps\n",
       "[1] 0.00000000000009725554\n",
       "\n",
       "$mean_lat_ms\n",
       "[1] 0\n",
       "\n",
       "$index\n",
       "[1] NA\n"
      ]
     },
     "metadata": {},
     "output_type": "display_data"
    }
   ],
   "source": [
    "as.list(rcorr(as.matrix(index_data), type = \"pearson\")$P[, ncol(index_data)])"
   ]
  },
  {
   "cell_type": "code",
   "execution_count": 7,
   "metadata": {
    "vscode": {
     "languageId": "r"
    }
   },
   "outputs": [
    {
     "data": {
      "text/html": [
       "<table class=\"dataframe\">\n",
       "<caption>A matrix: 10 × 10 of type dbl</caption>\n",
       "<thead>\n",
       "\t<tr><th></th><th scope=col>with_internet</th><th scope=col>work_from_home</th><th scope=col>sixtyfive_and_older</th><th scope=col>median_income</th><th scope=col>number_providers</th><th scope=col>mean_lowest_cost</th><th scope=col>mean_d_mbps</th><th scope=col>mean_u_mbps</th><th scope=col>mean_lat_ms</th><th scope=col>index</th></tr>\n",
       "</thead>\n",
       "<tbody>\n",
       "\t<tr><th scope=row>with_internet</th><td>                   NA</td><td>0.0000000002997904</td><td>0.00000000000000</td><td>0.03006990</td><td>0.082203264746719906</td><td>0.06558715015735</td><td>0.000001719724394889</td><td>0.00690289845387948020</td><td>0.0012541075067722</td><td>0.00000000000001842970</td></tr>\n",
       "\t<tr><th scope=row>work_from_home</th><td>0.0000000002997904147</td><td>                NA</td><td>0.00000004534735</td><td>0.62244972</td><td>0.692796119793766207</td><td>0.93350819129855</td><td>0.672635578892683217</td><td>0.43009326946824133486</td><td>0.9085912323262422</td><td>0.04883481104472586765</td></tr>\n",
       "\t<tr><th scope=row>sixtyfive_and_older</th><td>0.0000000000000000000</td><td>0.0000000453473543</td><td>              NA</td><td>0.04477147</td><td>0.476702946467304045</td><td>0.49718826894028</td><td>0.569411922064795295</td><td>0.02203015631983396005</td><td>0.1693793288053456</td><td>0.19716228248808631562</td></tr>\n",
       "\t<tr><th scope=row>median_income</th><td>0.0300698982044131924</td><td>0.6224497181702566</td><td>0.04477147246482</td><td>        NA</td><td>0.767570871280282674</td><td>0.46966892178772</td><td>0.521089097196837159</td><td>0.80723851787517308942</td><td>0.4313383103711312</td><td>0.78671911871383670700</td></tr>\n",
       "\t<tr><th scope=row>number_providers</th><td>0.0822032647467199062</td><td>0.6927961197937662</td><td>0.47670294646730</td><td>0.76757087</td><td>                  NA</td><td>0.00000526142273</td><td>0.000000000006029399</td><td>0.82692993872099873620</td><td>0.0000000002296336</td><td>0.00000000000000000000</td></tr>\n",
       "\t<tr><th scope=row>mean_lowest_cost</th><td>0.0655871501573528359</td><td>0.9335081912985506</td><td>0.49718826894028</td><td>0.46966892</td><td>0.000005261422731273</td><td>              NA</td><td>0.007630242115639785</td><td>0.25618495750332925809</td><td>0.0141555670114957</td><td>0.00000002783108787874</td></tr>\n",
       "\t<tr><th scope=row>mean_d_mbps</th><td>0.0000017197243948885</td><td>0.6726355788926832</td><td>0.56941192206480</td><td>0.52108910</td><td>0.000000000006029399</td><td>0.00763024211564</td><td>                  NA</td><td>0.00000001366549318149</td><td>0.0000000000000000</td><td>0.00000000000000000000</td></tr>\n",
       "\t<tr><th scope=row>mean_u_mbps</th><td>0.0069028984538794802</td><td>0.4300932694682413</td><td>0.02203015631983</td><td>0.80723852</td><td>0.826929938720998736</td><td>0.25618495750333</td><td>0.000000013665493181</td><td>                    NA</td><td>0.0000000029104892</td><td>0.00000000000009725554</td></tr>\n",
       "\t<tr><th scope=row>mean_lat_ms</th><td>0.0012541075067722396</td><td>0.9085912323262422</td><td>0.16937932880535</td><td>0.43133831</td><td>0.000000000229633645</td><td>0.01415556701150</td><td>0.000000000000000000</td><td>0.00000000291048918299</td><td>                NA</td><td>0.00000000000000000000</td></tr>\n",
       "\t<tr><th scope=row>index</th><td>0.0000000000000184297</td><td>0.0488348110447259</td><td>0.19716228248809</td><td>0.78671912</td><td>0.000000000000000000</td><td>0.00000002783109</td><td>0.000000000000000000</td><td>0.00000000000009725554</td><td>0.0000000000000000</td><td>                    NA</td></tr>\n",
       "</tbody>\n",
       "</table>\n"
      ],
      "text/latex": [
       "A matrix: 10 × 10 of type dbl\n",
       "\\begin{tabular}{r|llllllllll}\n",
       "  & with\\_internet & work\\_from\\_home & sixtyfive\\_and\\_older & median\\_income & number\\_providers & mean\\_lowest\\_cost & mean\\_d\\_mbps & mean\\_u\\_mbps & mean\\_lat\\_ms & index\\\\\n",
       "\\hline\n",
       "\twith\\_internet &                    NA & 0.0000000002997904 & 0.00000000000000 & 0.03006990 & 0.082203264746719906 & 0.06558715015735 & 0.000001719724394889 & 0.00690289845387948020 & 0.0012541075067722 & 0.00000000000001842970\\\\\n",
       "\twork\\_from\\_home & 0.0000000002997904147 &                 NA & 0.00000004534735 & 0.62244972 & 0.692796119793766207 & 0.93350819129855 & 0.672635578892683217 & 0.43009326946824133486 & 0.9085912323262422 & 0.04883481104472586765\\\\\n",
       "\tsixtyfive\\_and\\_older & 0.0000000000000000000 & 0.0000000453473543 &               NA & 0.04477147 & 0.476702946467304045 & 0.49718826894028 & 0.569411922064795295 & 0.02203015631983396005 & 0.1693793288053456 & 0.19716228248808631562\\\\\n",
       "\tmedian\\_income & 0.0300698982044131924 & 0.6224497181702566 & 0.04477147246482 &         NA & 0.767570871280282674 & 0.46966892178772 & 0.521089097196837159 & 0.80723851787517308942 & 0.4313383103711312 & 0.78671911871383670700\\\\\n",
       "\tnumber\\_providers & 0.0822032647467199062 & 0.6927961197937662 & 0.47670294646730 & 0.76757087 &                   NA & 0.00000526142273 & 0.000000000006029399 & 0.82692993872099873620 & 0.0000000002296336 & 0.00000000000000000000\\\\\n",
       "\tmean\\_lowest\\_cost & 0.0655871501573528359 & 0.9335081912985506 & 0.49718826894028 & 0.46966892 & 0.000005261422731273 &               NA & 0.007630242115639785 & 0.25618495750332925809 & 0.0141555670114957 & 0.00000002783108787874\\\\\n",
       "\tmean\\_d\\_mbps & 0.0000017197243948885 & 0.6726355788926832 & 0.56941192206480 & 0.52108910 & 0.000000000006029399 & 0.00763024211564 &                   NA & 0.00000001366549318149 & 0.0000000000000000 & 0.00000000000000000000\\\\\n",
       "\tmean\\_u\\_mbps & 0.0069028984538794802 & 0.4300932694682413 & 0.02203015631983 & 0.80723852 & 0.826929938720998736 & 0.25618495750333 & 0.000000013665493181 &                     NA & 0.0000000029104892 & 0.00000000000009725554\\\\\n",
       "\tmean\\_lat\\_ms & 0.0012541075067722396 & 0.9085912323262422 & 0.16937932880535 & 0.43133831 & 0.000000000229633645 & 0.01415556701150 & 0.000000000000000000 & 0.00000000291048918299 &                 NA & 0.00000000000000000000\\\\\n",
       "\tindex & 0.0000000000000184297 & 0.0488348110447259 & 0.19716228248809 & 0.78671912 & 0.000000000000000000 & 0.00000002783109 & 0.000000000000000000 & 0.00000000000009725554 & 0.0000000000000000 &                     NA\\\\\n",
       "\\end{tabular}\n"
      ],
      "text/markdown": [
       "\n",
       "A matrix: 10 × 10 of type dbl\n",
       "\n",
       "| <!--/--> | with_internet | work_from_home | sixtyfive_and_older | median_income | number_providers | mean_lowest_cost | mean_d_mbps | mean_u_mbps | mean_lat_ms | index |\n",
       "|---|---|---|---|---|---|---|---|---|---|---|\n",
       "| with_internet |                    NA | 0.0000000002997904 | 0.00000000000000 | 0.03006990 | 0.082203264746719906 | 0.06558715015735 | 0.000001719724394889 | 0.00690289845387948020 | 0.0012541075067722 | 0.00000000000001842970 |\n",
       "| work_from_home | 0.0000000002997904147 |                 NA | 0.00000004534735 | 0.62244972 | 0.692796119793766207 | 0.93350819129855 | 0.672635578892683217 | 0.43009326946824133486 | 0.9085912323262422 | 0.04883481104472586765 |\n",
       "| sixtyfive_and_older | 0.0000000000000000000 | 0.0000000453473543 |               NA | 0.04477147 | 0.476702946467304045 | 0.49718826894028 | 0.569411922064795295 | 0.02203015631983396005 | 0.1693793288053456 | 0.19716228248808631562 |\n",
       "| median_income | 0.0300698982044131924 | 0.6224497181702566 | 0.04477147246482 |         NA | 0.767570871280282674 | 0.46966892178772 | 0.521089097196837159 | 0.80723851787517308942 | 0.4313383103711312 | 0.78671911871383670700 |\n",
       "| number_providers | 0.0822032647467199062 | 0.6927961197937662 | 0.47670294646730 | 0.76757087 |                   NA | 0.00000526142273 | 0.000000000006029399 | 0.82692993872099873620 | 0.0000000002296336 | 0.00000000000000000000 |\n",
       "| mean_lowest_cost | 0.0655871501573528359 | 0.9335081912985506 | 0.49718826894028 | 0.46966892 | 0.000005261422731273 |               NA | 0.007630242115639785 | 0.25618495750332925809 | 0.0141555670114957 | 0.00000002783108787874 |\n",
       "| mean_d_mbps | 0.0000017197243948885 | 0.6726355788926832 | 0.56941192206480 | 0.52108910 | 0.000000000006029399 | 0.00763024211564 |                   NA | 0.00000001366549318149 | 0.0000000000000000 | 0.00000000000000000000 |\n",
       "| mean_u_mbps | 0.0069028984538794802 | 0.4300932694682413 | 0.02203015631983 | 0.80723852 | 0.826929938720998736 | 0.25618495750333 | 0.000000013665493181 |                     NA | 0.0000000029104892 | 0.00000000000009725554 |\n",
       "| mean_lat_ms | 0.0012541075067722396 | 0.9085912323262422 | 0.16937932880535 | 0.43133831 | 0.000000000229633645 | 0.01415556701150 | 0.000000000000000000 | 0.00000000291048918299 |                 NA | 0.00000000000000000000 |\n",
       "| index | 0.0000000000000184297 | 0.0488348110447259 | 0.19716228248809 | 0.78671912 | 0.000000000000000000 | 0.00000002783109 | 0.000000000000000000 | 0.00000000000009725554 | 0.0000000000000000 |                     NA |\n",
       "\n"
      ],
      "text/plain": [
       "                    with_internet         work_from_home    \n",
       "with_internet                          NA 0.0000000002997904\n",
       "work_from_home      0.0000000002997904147                 NA\n",
       "sixtyfive_and_older 0.0000000000000000000 0.0000000453473543\n",
       "median_income       0.0300698982044131924 0.6224497181702566\n",
       "number_providers    0.0822032647467199062 0.6927961197937662\n",
       "mean_lowest_cost    0.0655871501573528359 0.9335081912985506\n",
       "mean_d_mbps         0.0000017197243948885 0.6726355788926832\n",
       "mean_u_mbps         0.0069028984538794802 0.4300932694682413\n",
       "mean_lat_ms         0.0012541075067722396 0.9085912323262422\n",
       "index               0.0000000000000184297 0.0488348110447259\n",
       "                    sixtyfive_and_older median_income number_providers    \n",
       "with_internet       0.00000000000000    0.03006990    0.082203264746719906\n",
       "work_from_home      0.00000004534735    0.62244972    0.692796119793766207\n",
       "sixtyfive_and_older               NA    0.04477147    0.476702946467304045\n",
       "median_income       0.04477147246482            NA    0.767570871280282674\n",
       "number_providers    0.47670294646730    0.76757087                      NA\n",
       "mean_lowest_cost    0.49718826894028    0.46966892    0.000005261422731273\n",
       "mean_d_mbps         0.56941192206480    0.52108910    0.000000000006029399\n",
       "mean_u_mbps         0.02203015631983    0.80723852    0.826929938720998736\n",
       "mean_lat_ms         0.16937932880535    0.43133831    0.000000000229633645\n",
       "index               0.19716228248809    0.78671912    0.000000000000000000\n",
       "                    mean_lowest_cost mean_d_mbps         \n",
       "with_internet       0.06558715015735 0.000001719724394889\n",
       "work_from_home      0.93350819129855 0.672635578892683217\n",
       "sixtyfive_and_older 0.49718826894028 0.569411922064795295\n",
       "median_income       0.46966892178772 0.521089097196837159\n",
       "number_providers    0.00000526142273 0.000000000006029399\n",
       "mean_lowest_cost                  NA 0.007630242115639785\n",
       "mean_d_mbps         0.00763024211564                   NA\n",
       "mean_u_mbps         0.25618495750333 0.000000013665493181\n",
       "mean_lat_ms         0.01415556701150 0.000000000000000000\n",
       "index               0.00000002783109 0.000000000000000000\n",
       "                    mean_u_mbps            mean_lat_ms       \n",
       "with_internet       0.00690289845387948020 0.0012541075067722\n",
       "work_from_home      0.43009326946824133486 0.9085912323262422\n",
       "sixtyfive_and_older 0.02203015631983396005 0.1693793288053456\n",
       "median_income       0.80723851787517308942 0.4313383103711312\n",
       "number_providers    0.82692993872099873620 0.0000000002296336\n",
       "mean_lowest_cost    0.25618495750332925809 0.0141555670114957\n",
       "mean_d_mbps         0.00000001366549318149 0.0000000000000000\n",
       "mean_u_mbps                             NA 0.0000000029104892\n",
       "mean_lat_ms         0.00000000291048918299                 NA\n",
       "index               0.00000000000009725554 0.0000000000000000\n",
       "                    index                 \n",
       "with_internet       0.00000000000001842970\n",
       "work_from_home      0.04883481104472586765\n",
       "sixtyfive_and_older 0.19716228248808631562\n",
       "median_income       0.78671911871383670700\n",
       "number_providers    0.00000000000000000000\n",
       "mean_lowest_cost    0.00000002783108787874\n",
       "mean_d_mbps         0.00000000000000000000\n",
       "mean_u_mbps         0.00000000000009725554\n",
       "mean_lat_ms         0.00000000000000000000\n",
       "index                                   NA"
      ]
     },
     "metadata": {},
     "output_type": "display_data"
    }
   ],
   "source": [
    "as.list(rcorr(as.matrix(index_data), type = \"pearson\"))$P"
   ]
  },
  {
   "cell_type": "code",
   "execution_count": 22,
   "metadata": {
    "vscode": {
     "languageId": "r"
    }
   },
   "outputs": [],
   "source": [
    "data1.2 <- data %>% dplyr::select(-median_income, -sixtyfive_and_older)\n",
    "scaled_data1.2 <- scale(data1.2)\n",
    "\n",
    "pca_data1.2 <- prcomp(scaled_data1.2, scale = FALSE)\n",
    "eigenvectors1.2 <- -pca_data1.2$rotation\n",
    "eigenvalues1.2 <- pca_data1.2$sdev^2\n",
    "\n",
    "index_col1.2 <- as.data.frame(-pca_data1.2$x) %>%\n",
    "    dplyr::select(PC1) %>%\n",
    "    rename(index = PC1)\n",
    "\n",
    "index_data1.2 <- bind_cols(data1.2, index_col1.2)"
   ]
  },
  {
   "cell_type": "code",
   "execution_count": 23,
   "metadata": {
    "vscode": {
     "languageId": "r"
    }
   },
   "outputs": [
    {
     "data": {
      "text/html": [
       "<dl>\n",
       "\t<dt>$with_internet</dt>\n",
       "\t\t<dd>0.00000000000190047977355334</dd>\n",
       "\t<dt>$work_from_home</dt>\n",
       "\t\t<dd>0.12573000750205</dd>\n",
       "\t<dt>$number_providers</dt>\n",
       "\t\t<dd>0</dd>\n",
       "\t<dt>$mean_lowest_cost</dt>\n",
       "\t\t<dd>0.0000000313912678073791</dd>\n",
       "\t<dt>$mean_d_mbps</dt>\n",
       "\t\t<dd>0</dd>\n",
       "\t<dt>$mean_u_mbps</dt>\n",
       "\t\t<dd>0.0000000000000197619698383278</dd>\n",
       "\t<dt>$mean_lat_ms</dt>\n",
       "\t\t<dd>0</dd>\n",
       "\t<dt>$index</dt>\n",
       "\t\t<dd>&lt;NA&gt;</dd>\n",
       "</dl>\n"
      ],
      "text/latex": [
       "\\begin{description}\n",
       "\\item[\\$with\\_internet] 0.00000000000190047977355334\n",
       "\\item[\\$work\\_from\\_home] 0.12573000750205\n",
       "\\item[\\$number\\_providers] 0\n",
       "\\item[\\$mean\\_lowest\\_cost] 0.0000000313912678073791\n",
       "\\item[\\$mean\\_d\\_mbps] 0\n",
       "\\item[\\$mean\\_u\\_mbps] 0.0000000000000197619698383278\n",
       "\\item[\\$mean\\_lat\\_ms] 0\n",
       "\\item[\\$index] <NA>\n",
       "\\end{description}\n"
      ],
      "text/markdown": [
       "$with_internet\n",
       ":   0.00000000000190047977355334\n",
       "$work_from_home\n",
       ":   0.12573000750205\n",
       "$number_providers\n",
       ":   0\n",
       "$mean_lowest_cost\n",
       ":   0.0000000313912678073791\n",
       "$mean_d_mbps\n",
       ":   0\n",
       "$mean_u_mbps\n",
       ":   0.0000000000000197619698383278\n",
       "$mean_lat_ms\n",
       ":   0\n",
       "$index\n",
       ":   &lt;NA&gt;\n",
       "\n",
       "\n"
      ],
      "text/plain": [
       "$with_internet\n",
       "[1] 0.00000000000190048\n",
       "\n",
       "$work_from_home\n",
       "[1] 0.12573\n",
       "\n",
       "$number_providers\n",
       "[1] 0\n",
       "\n",
       "$mean_lowest_cost\n",
       "[1] 0.00000003139127\n",
       "\n",
       "$mean_d_mbps\n",
       "[1] 0\n",
       "\n",
       "$mean_u_mbps\n",
       "[1] 0.00000000000001976197\n",
       "\n",
       "$mean_lat_ms\n",
       "[1] 0\n",
       "\n",
       "$index\n",
       "[1] NA\n"
      ]
     },
     "metadata": {},
     "output_type": "display_data"
    }
   ],
   "source": [
    "as.list(rcorr(as.matrix(index_data1.2), type = \"pearson\")$P[, ncol(index_data1.2)])"
   ]
  },
  {
   "cell_type": "code",
   "execution_count": 24,
   "metadata": {
    "vscode": {
     "languageId": "r"
    }
   },
   "outputs": [],
   "source": [
    "data1.3 <- data %>% dplyr::select(-median_income, -sixtyfive_and_older, -work_from_home)\n",
    "scaled_data1.3 <- scale(data1.3)\n",
    "\n",
    "pca_data1.3 <- prcomp(scaled_data1.3, scale = FALSE)\n",
    "eigenvectors1.3 <- -pca_data1.3$rotation\n",
    "eigenvalues1.3 <- pca_data1.3$sdev^2\n",
    "\n",
    "index_col1.3 <- as.data.frame(-pca_data1.3$x) %>%\n",
    "    dplyr::select(PC1) %>%\n",
    "    rename(index = PC1)\n",
    "\n",
    "index_data1.3 <- bind_cols(data1.3, index_col1.3)"
   ]
  },
  {
   "cell_type": "code",
   "execution_count": 25,
   "metadata": {
    "vscode": {
     "languageId": "r"
    }
   },
   "outputs": [
    {
     "data": {
      "text/html": [
       "<dl>\n",
       "\t<dt>$with_internet</dt>\n",
       "\t\t<dd>0.0000000000358324481197769</dd>\n",
       "\t<dt>$number_providers</dt>\n",
       "\t\t<dd>0</dd>\n",
       "\t<dt>$mean_lowest_cost</dt>\n",
       "\t\t<dd>0.0000000252181475701718</dd>\n",
       "\t<dt>$mean_d_mbps</dt>\n",
       "\t\t<dd>0</dd>\n",
       "\t<dt>$mean_u_mbps</dt>\n",
       "\t\t<dd>0.00000000000000932587340685131</dd>\n",
       "\t<dt>$mean_lat_ms</dt>\n",
       "\t\t<dd>0</dd>\n",
       "\t<dt>$index</dt>\n",
       "\t\t<dd>&lt;NA&gt;</dd>\n",
       "</dl>\n"
      ],
      "text/latex": [
       "\\begin{description}\n",
       "\\item[\\$with\\_internet] 0.0000000000358324481197769\n",
       "\\item[\\$number\\_providers] 0\n",
       "\\item[\\$mean\\_lowest\\_cost] 0.0000000252181475701718\n",
       "\\item[\\$mean\\_d\\_mbps] 0\n",
       "\\item[\\$mean\\_u\\_mbps] 0.00000000000000932587340685131\n",
       "\\item[\\$mean\\_lat\\_ms] 0\n",
       "\\item[\\$index] <NA>\n",
       "\\end{description}\n"
      ],
      "text/markdown": [
       "$with_internet\n",
       ":   0.0000000000358324481197769\n",
       "$number_providers\n",
       ":   0\n",
       "$mean_lowest_cost\n",
       ":   0.0000000252181475701718\n",
       "$mean_d_mbps\n",
       ":   0\n",
       "$mean_u_mbps\n",
       ":   0.00000000000000932587340685131\n",
       "$mean_lat_ms\n",
       ":   0\n",
       "$index\n",
       ":   &lt;NA&gt;\n",
       "\n",
       "\n"
      ],
      "text/plain": [
       "$with_internet\n",
       "[1] 0.00000000003583245\n",
       "\n",
       "$number_providers\n",
       "[1] 0\n",
       "\n",
       "$mean_lowest_cost\n",
       "[1] 0.00000002521815\n",
       "\n",
       "$mean_d_mbps\n",
       "[1] 0\n",
       "\n",
       "$mean_u_mbps\n",
       "[1] 0.000000000000009325873\n",
       "\n",
       "$mean_lat_ms\n",
       "[1] 0\n",
       "\n",
       "$index\n",
       "[1] NA\n"
      ]
     },
     "metadata": {},
     "output_type": "display_data"
    }
   ],
   "source": [
    "as.list(rcorr(as.matrix(index_data1.3), type = \"pearson\")$P[, ncol(index_data1.3)])"
   ]
  },
  {
   "cell_type": "code",
   "execution_count": 26,
   "metadata": {
    "vscode": {
     "languageId": "r"
    }
   },
   "outputs": [
    {
     "data": {
      "text/plain": [
       "Subset selection object\n",
       "Call: regsubsets.formula(index ~ ., index_data1.3)\n",
       "6 Variables  (and intercept)\n",
       "                 Forced in Forced out\n",
       "with_internet        FALSE      FALSE\n",
       "number_providers     FALSE      FALSE\n",
       "mean_lowest_cost     FALSE      FALSE\n",
       "mean_d_mbps          FALSE      FALSE\n",
       "mean_u_mbps          FALSE      FALSE\n",
       "mean_lat_ms          FALSE      FALSE\n",
       "1 subsets of each size up to 6\n",
       "Selection Algorithm: exhaustive\n",
       "         with_internet number_providers mean_lowest_cost mean_d_mbps\n",
       "1  ( 1 ) \" \"           \" \"              \" \"              \"*\"        \n",
       "2  ( 1 ) \" \"           \" \"              \" \"              \"*\"        \n",
       "3  ( 1 ) \" \"           \"*\"              \" \"              \"*\"        \n",
       "4  ( 1 ) \"*\"           \"*\"              \" \"              \" \"        \n",
       "5  ( 1 ) \"*\"           \"*\"              \" \"              \"*\"        \n",
       "6  ( 1 ) \"*\"           \"*\"              \"*\"              \"*\"        \n",
       "         mean_u_mbps mean_lat_ms\n",
       "1  ( 1 ) \" \"         \" \"        \n",
       "2  ( 1 ) \" \"         \"*\"        \n",
       "3  ( 1 ) \"*\"         \" \"        \n",
       "4  ( 1 ) \"*\"         \"*\"        \n",
       "5  ( 1 ) \"*\"         \"*\"        \n",
       "6  ( 1 ) \"*\"         \"*\"        "
      ]
     },
     "metadata": {},
     "output_type": "display_data"
    }
   ],
   "source": [
    "library(leaps)\n",
    "subset <- regsubsets(index ~ ., index_data1.3)\n",
    "summary(subset)"
   ]
  },
  {
   "cell_type": "code",
   "execution_count": 27,
   "metadata": {
    "vscode": {
     "languageId": "r"
    }
   },
   "outputs": [
    {
     "data": {
      "text/plain": [
       "Subset selection object\n",
       "Call: regsubsets.formula(index ~ ., index_data1.3, method = \"forward\")\n",
       "6 Variables  (and intercept)\n",
       "                 Forced in Forced out\n",
       "with_internet        FALSE      FALSE\n",
       "number_providers     FALSE      FALSE\n",
       "mean_lowest_cost     FALSE      FALSE\n",
       "mean_d_mbps          FALSE      FALSE\n",
       "mean_u_mbps          FALSE      FALSE\n",
       "mean_lat_ms          FALSE      FALSE\n",
       "1 subsets of each size up to 6\n",
       "Selection Algorithm: forward\n",
       "         with_internet number_providers mean_lowest_cost mean_d_mbps\n",
       "1  ( 1 ) \" \"           \" \"              \" \"              \"*\"        \n",
       "2  ( 1 ) \" \"           \" \"              \" \"              \"*\"        \n",
       "3  ( 1 ) \" \"           \" \"              \"*\"              \"*\"        \n",
       "4  ( 1 ) \"*\"           \" \"              \"*\"              \"*\"        \n",
       "5  ( 1 ) \"*\"           \"*\"              \"*\"              \"*\"        \n",
       "6  ( 1 ) \"*\"           \"*\"              \"*\"              \"*\"        \n",
       "         mean_u_mbps mean_lat_ms\n",
       "1  ( 1 ) \" \"         \" \"        \n",
       "2  ( 1 ) \" \"         \"*\"        \n",
       "3  ( 1 ) \" \"         \"*\"        \n",
       "4  ( 1 ) \" \"         \"*\"        \n",
       "5  ( 1 ) \" \"         \"*\"        \n",
       "6  ( 1 ) \"*\"         \"*\"        "
      ]
     },
     "metadata": {},
     "output_type": "display_data"
    }
   ],
   "source": [
    "forward <- regsubsets(index ~ ., index_data1.3, method = \"forward\")\n",
    "\n",
    "results <- summary(forward)\n",
    "\n",
    "results"
   ]
  },
  {
   "cell_type": "code",
   "execution_count": 28,
   "metadata": {
    "vscode": {
     "languageId": "r"
    }
   },
   "outputs": [
    {
     "data": {
      "text/html": [
       "6"
      ],
      "text/latex": [
       "6"
      ],
      "text/markdown": [
       "6"
      ],
      "text/plain": [
       "[1] 6"
      ]
     },
     "metadata": {},
     "output_type": "display_data"
    },
    {
     "data": {
      "text/html": [
       "6"
      ],
      "text/latex": [
       "6"
      ],
      "text/markdown": [
       "6"
      ],
      "text/plain": [
       "[1] 6"
      ]
     },
     "metadata": {},
     "output_type": "display_data"
    },
    {
     "data": {
      "text/html": [
       "6"
      ],
      "text/latex": [
       "6"
      ],
      "text/markdown": [
       "6"
      ],
      "text/plain": [
       "[1] 6"
      ]
     },
     "metadata": {},
     "output_type": "display_data"
    },
    {
     "data": {
      "text/html": [
       "6"
      ],
      "text/latex": [
       "6"
      ],
      "text/markdown": [
       "6"
      ],
      "text/plain": [
       "[1] 6"
      ]
     },
     "metadata": {},
     "output_type": "display_data"
    }
   ],
   "source": [
    "which.max(results$adjr2)\n",
    "which.min(results$bic)\n",
    "which.max(results$rsq)\n",
    "which.min(results$cp)"
   ]
  },
  {
   "cell_type": "code",
   "execution_count": 29,
   "metadata": {
    "vscode": {
     "languageId": "r"
    }
   },
   "outputs": [
    {
     "data": {
      "text/html": [
       "<dl>\n",
       "\t<dt>$`(Intercept)`</dt>\n",
       "\t\t<dd>-4.22005572264255</dd>\n",
       "\t<dt>$with_internet</dt>\n",
       "\t\t<dd>0.000545474393970044</dd>\n",
       "\t<dt>$number_providers</dt>\n",
       "\t\t<dd>-0.193305838895398</dd>\n",
       "\t<dt>$mean_d_mbps</dt>\n",
       "\t\t<dd>0.00657983254909885</dd>\n",
       "\t<dt>$mean_u_mbps</dt>\n",
       "\t\t<dd>0.0123676143398366</dd>\n",
       "\t<dt>$mean_lat_ms</dt>\n",
       "\t\t<dd>-0.0266198346527094</dd>\n",
       "</dl>\n"
      ],
      "text/latex": [
       "\\begin{description}\n",
       "\\item[\\$`(Intercept)`] -4.22005572264255\n",
       "\\item[\\$with\\_internet] 0.000545474393970044\n",
       "\\item[\\$number\\_providers] -0.193305838895398\n",
       "\\item[\\$mean\\_d\\_mbps] 0.00657983254909885\n",
       "\\item[\\$mean\\_u\\_mbps] 0.0123676143398366\n",
       "\\item[\\$mean\\_lat\\_ms] -0.0266198346527094\n",
       "\\end{description}\n"
      ],
      "text/markdown": [
       "$`(Intercept)`\n",
       ":   -4.22005572264255\n",
       "$with_internet\n",
       ":   0.000545474393970044\n",
       "$number_providers\n",
       ":   -0.193305838895398\n",
       "$mean_d_mbps\n",
       ":   0.00657983254909885\n",
       "$mean_u_mbps\n",
       ":   0.0123676143398366\n",
       "$mean_lat_ms\n",
       ":   -0.0266198346527094\n",
       "\n",
       "\n"
      ],
      "text/plain": [
       "$`(Intercept)`\n",
       "[1] -4.220056\n",
       "\n",
       "$with_internet\n",
       "[1] 0.0005454744\n",
       "\n",
       "$number_providers\n",
       "[1] -0.1933058\n",
       "\n",
       "$mean_d_mbps\n",
       "[1] 0.006579833\n",
       "\n",
       "$mean_u_mbps\n",
       "[1] 0.01236761\n",
       "\n",
       "$mean_lat_ms\n",
       "[1] -0.02661983\n"
      ]
     },
     "metadata": {},
     "output_type": "display_data"
    }
   ],
   "source": [
    "coefficients <- coef(forward, 6)\n",
    "as.list(coefficients[which(coefficients < .05)])"
   ]
  },
  {
   "cell_type": "code",
   "execution_count": 30,
   "metadata": {
    "vscode": {
     "languageId": "r"
    }
   },
   "outputs": [
    {
     "data": {
      "text/html": [
       "<dl>\n",
       "\t<dt>$`(Intercept)`</dt>\n",
       "\t\t<dd>-4.22005572264255</dd>\n",
       "\t<dt>$with_internet</dt>\n",
       "\t\t<dd>0.000545474393970044</dd>\n",
       "\t<dt>$number_providers</dt>\n",
       "\t\t<dd>-0.193305838895398</dd>\n",
       "\t<dt>$mean_lowest_cost</dt>\n",
       "\t\t<dd>0.0711378778822101</dd>\n",
       "\t<dt>$mean_d_mbps</dt>\n",
       "\t\t<dd>0.00657983254909885</dd>\n",
       "\t<dt>$mean_u_mbps</dt>\n",
       "\t\t<dd>0.0123676143398366</dd>\n",
       "\t<dt>$mean_lat_ms</dt>\n",
       "\t\t<dd>-0.0266198346527094</dd>\n",
       "</dl>\n"
      ],
      "text/latex": [
       "\\begin{description}\n",
       "\\item[\\$`(Intercept)`] -4.22005572264255\n",
       "\\item[\\$with\\_internet] 0.000545474393970044\n",
       "\\item[\\$number\\_providers] -0.193305838895398\n",
       "\\item[\\$mean\\_lowest\\_cost] 0.0711378778822101\n",
       "\\item[\\$mean\\_d\\_mbps] 0.00657983254909885\n",
       "\\item[\\$mean\\_u\\_mbps] 0.0123676143398366\n",
       "\\item[\\$mean\\_lat\\_ms] -0.0266198346527094\n",
       "\\end{description}\n"
      ],
      "text/markdown": [
       "$`(Intercept)`\n",
       ":   -4.22005572264255\n",
       "$with_internet\n",
       ":   0.000545474393970044\n",
       "$number_providers\n",
       ":   -0.193305838895398\n",
       "$mean_lowest_cost\n",
       ":   0.0711378778822101\n",
       "$mean_d_mbps\n",
       ":   0.00657983254909885\n",
       "$mean_u_mbps\n",
       ":   0.0123676143398366\n",
       "$mean_lat_ms\n",
       ":   -0.0266198346527094\n",
       "\n",
       "\n"
      ],
      "text/plain": [
       "$`(Intercept)`\n",
       "[1] -4.220056\n",
       "\n",
       "$with_internet\n",
       "[1] 0.0005454744\n",
       "\n",
       "$number_providers\n",
       "[1] -0.1933058\n",
       "\n",
       "$mean_lowest_cost\n",
       "[1] 0.07113788\n",
       "\n",
       "$mean_d_mbps\n",
       "[1] 0.006579833\n",
       "\n",
       "$mean_u_mbps\n",
       "[1] 0.01236761\n",
       "\n",
       "$mean_lat_ms\n",
       "[1] -0.02661983\n"
      ]
     },
     "metadata": {},
     "output_type": "display_data"
    }
   ],
   "source": [
    "as.list(coefficients)"
   ]
  },
  {
   "cell_type": "code",
   "execution_count": 31,
   "metadata": {
    "vscode": {
     "languageId": "r"
    }
   },
   "outputs": [],
   "source": [
    "model <- lm(\n",
    "    index_data1.3$index ~ .,\n",
    "    data = index_data1.3\n",
    ")"
   ]
  },
  {
   "cell_type": "code",
   "execution_count": 32,
   "metadata": {
    "vscode": {
     "languageId": "r"
    }
   },
   "outputs": [
    {
     "data": {
      "text/plain": [
       "\n",
       "Call:\n",
       "lm(formula = index_data1.3$index ~ ., data = index_data1.3)\n",
       "\n",
       "Residuals:\n",
       "                   Min                     1Q                 Median \n",
       "-0.0000000000000279935 -0.0000000000000000260  0.0000000000000001881 \n",
       "                    3Q                    Max \n",
       " 0.0000000000000004533  0.0000000000000037440 \n",
       "\n",
       "Coefficients:\n",
       "                                  Estimate                Std. Error\n",
       "(Intercept)      -4.2200557226425630119593  0.0000000000000036893039\n",
       "with_internet     0.0005454743939700425724  0.0000000000000000003572\n",
       "number_providers -0.1933058388953982353886  0.0000000000000001070922\n",
       "mean_lowest_cost  0.0711378778822102514345  0.0000000000000000538157\n",
       "mean_d_mbps       0.0065798325490988678055  0.0000000000000000039673\n",
       "mean_u_mbps       0.0123676143398365606663  0.0000000000000000075302\n",
       "mean_lat_ms      -0.0266198346527094509284  0.0000000000000000158545\n",
       "                           t value            Pr(>|t|)    \n",
       "(Intercept)      -1143862331586891 <0.0000000000000002 ***\n",
       "with_internet     1527234625189356 <0.0000000000000002 ***\n",
       "number_providers -1805041595558254 <0.0000000000000002 ***\n",
       "mean_lowest_cost  1321879188565807 <0.0000000000000002 ***\n",
       "mean_d_mbps       1658501395310186 <0.0000000000000002 ***\n",
       "mean_u_mbps       1642401395726802 <0.0000000000000002 ***\n",
       "mean_lat_ms      -1679011354314844 <0.0000000000000002 ***\n",
       "---\n",
       "Signif. codes:  0 ‘***’ 0.001 ‘**’ 0.01 ‘*’ 0.05 ‘.’ 0.1 ‘ ’ 1\n",
       "\n",
       "Residual standard error: 0.000000000000002341 on 176 degrees of freedom\n",
       "Multiple R-squared:      1,\tAdjusted R-squared:      1 \n",
       "F-statistic: 1.461e+31 on 6 and 176 DF,  p-value: < 0.00000000000000022\n"
      ]
     },
     "metadata": {},
     "output_type": "display_data"
    }
   ],
   "source": [
    "summary(model)"
   ]
  },
  {
   "cell_type": "code",
   "execution_count": 33,
   "metadata": {
    "vscode": {
     "languageId": "r"
    }
   },
   "outputs": [
    {
     "data": {
      "text/html": [
       "<dl>\n",
       "\t<dt>$with_internet</dt>\n",
       "\t\t<dd>1.16342433685344</dd>\n",
       "\t<dt>$number_providers</dt>\n",
       "\t\t<dd>1.51506175603418</dd>\n",
       "\t<dt>$mean_lowest_cost</dt>\n",
       "\t\t<dd>1.13826176297198</dd>\n",
       "\t<dt>$mean_d_mbps</dt>\n",
       "\t\t<dd>3.7520370461737</dd>\n",
       "\t<dt>$mean_u_mbps</dt>\n",
       "\t\t<dd>1.32070539633834</dd>\n",
       "\t<dt>$mean_lat_ms</dt>\n",
       "\t\t<dd>3.44016066506991</dd>\n",
       "</dl>\n"
      ],
      "text/latex": [
       "\\begin{description}\n",
       "\\item[\\$with\\_internet] 1.16342433685344\n",
       "\\item[\\$number\\_providers] 1.51506175603418\n",
       "\\item[\\$mean\\_lowest\\_cost] 1.13826176297198\n",
       "\\item[\\$mean\\_d\\_mbps] 3.7520370461737\n",
       "\\item[\\$mean\\_u\\_mbps] 1.32070539633834\n",
       "\\item[\\$mean\\_lat\\_ms] 3.44016066506991\n",
       "\\end{description}\n"
      ],
      "text/markdown": [
       "$with_internet\n",
       ":   1.16342433685344\n",
       "$number_providers\n",
       ":   1.51506175603418\n",
       "$mean_lowest_cost\n",
       ":   1.13826176297198\n",
       "$mean_d_mbps\n",
       ":   3.7520370461737\n",
       "$mean_u_mbps\n",
       ":   1.32070539633834\n",
       "$mean_lat_ms\n",
       ":   3.44016066506991\n",
       "\n",
       "\n"
      ],
      "text/plain": [
       "$with_internet\n",
       "[1] 1.163424\n",
       "\n",
       "$number_providers\n",
       "[1] 1.515062\n",
       "\n",
       "$mean_lowest_cost\n",
       "[1] 1.138262\n",
       "\n",
       "$mean_d_mbps\n",
       "[1] 3.752037\n",
       "\n",
       "$mean_u_mbps\n",
       "[1] 1.320705\n",
       "\n",
       "$mean_lat_ms\n",
       "[1] 3.440161\n"
      ]
     },
     "metadata": {},
     "output_type": "display_data"
    }
   ],
   "source": [
    "as.list(vif(model))"
   ]
  }
 ],
 "metadata": {
  "kernelspec": {
   "display_name": "R",
   "language": "R",
   "name": "ir"
  },
  "language_info": {
   "codemirror_mode": "r",
   "file_extension": ".r",
   "mimetype": "text/x-r-source",
   "name": "R",
   "pygments_lexer": "r",
   "version": "4.3.0"
  },
  "orig_nbformat": 4
 },
 "nbformat": 4,
 "nbformat_minor": 2
}
