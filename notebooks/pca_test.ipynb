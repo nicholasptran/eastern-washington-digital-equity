{
 "cells": [
  {
   "cell_type": "code",
   "execution_count": 1,
   "metadata": {
    "vscode": {
     "languageId": "r"
    }
   },
   "outputs": [
    {
     "name": "stderr",
     "output_type": "stream",
     "text": [
      "── \u001b[1mAttaching core tidyverse packages\u001b[22m ──────────────────────── tidyverse 2.0.0 ──\n",
      "\u001b[32m✔\u001b[39m \u001b[34mdplyr    \u001b[39m 1.1.2     \u001b[32m✔\u001b[39m \u001b[34mreadr    \u001b[39m 2.1.4\n",
      "\u001b[32m✔\u001b[39m \u001b[34mforcats  \u001b[39m 1.0.0     \u001b[32m✔\u001b[39m \u001b[34mstringr  \u001b[39m 1.5.0\n",
      "\u001b[32m✔\u001b[39m \u001b[34mggplot2  \u001b[39m 3.4.2     \u001b[32m✔\u001b[39m \u001b[34mtibble   \u001b[39m 3.2.1\n",
      "\u001b[32m✔\u001b[39m \u001b[34mlubridate\u001b[39m 1.9.2     \u001b[32m✔\u001b[39m \u001b[34mtidyr    \u001b[39m 1.3.0\n",
      "\u001b[32m✔\u001b[39m \u001b[34mpurrr    \u001b[39m 1.0.1     \n",
      "── \u001b[1mConflicts\u001b[22m ────────────────────────────────────────── tidyverse_conflicts() ──\n",
      "\u001b[31m✖\u001b[39m \u001b[34mdplyr\u001b[39m::\u001b[32mfilter()\u001b[39m masks \u001b[34mstats\u001b[39m::filter()\n",
      "\u001b[31m✖\u001b[39m \u001b[34mdplyr\u001b[39m::\u001b[32mlag()\u001b[39m    masks \u001b[34mstats\u001b[39m::lag()\n",
      "\u001b[36mℹ\u001b[39m Use the conflicted package (\u001b[3m\u001b[34m<http://conflicted.r-lib.org/>\u001b[39m\u001b[23m) to force all conflicts to become errors\n",
      "\n",
      "Attaching package: ‘psych’\n",
      "\n",
      "\n",
      "The following objects are masked from ‘package:ggplot2’:\n",
      "\n",
      "    %+%, alpha\n",
      "\n",
      "\n",
      "\n",
      "Attaching package: ‘Hmisc’\n",
      "\n",
      "\n",
      "The following object is masked from ‘package:psych’:\n",
      "\n",
      "    describe\n",
      "\n",
      "\n",
      "The following objects are masked from ‘package:dplyr’:\n",
      "\n",
      "    src, summarize\n",
      "\n",
      "\n",
      "The following objects are masked from ‘package:base’:\n",
      "\n",
      "    format.pval, units\n",
      "\n",
      "\n",
      "Loading required package: carData\n",
      "\n",
      "\n",
      "Attaching package: ‘car’\n",
      "\n",
      "\n",
      "The following object is masked from ‘package:psych’:\n",
      "\n",
      "    logit\n",
      "\n",
      "\n",
      "The following object is masked from ‘package:dplyr’:\n",
      "\n",
      "    recode\n",
      "\n",
      "\n",
      "The following object is masked from ‘package:purrr’:\n",
      "\n",
      "    some\n",
      "\n",
      "\n",
      "Welcome to compositions, a package for compositional data analysis.\n",
      "Find an intro with \"? compositions\"\n",
      "\n",
      "\n",
      "\n",
      "Attaching package: ‘compositions’\n",
      "\n",
      "\n",
      "The following objects are masked from ‘package:psych’:\n",
      "\n",
      "    ellipses, pairwisePlot\n",
      "\n",
      "\n",
      "The following objects are masked from ‘package:stats’:\n",
      "\n",
      "    anova, cor, cov, dist, var\n",
      "\n",
      "\n",
      "The following object is masked from ‘package:graphics’:\n",
      "\n",
      "    segments\n",
      "\n",
      "\n",
      "The following objects are masked from ‘package:base’:\n",
      "\n",
      "    %*%, norm, scale, scale.default\n",
      "\n",
      "\n"
     ]
    }
   ],
   "source": [
    "library(tidyverse, quietly = TRUE)\n",
    "library(psych, quietly = TRUE)\n",
    "library(Hmisc, quietly = TRUE)\n",
    "library(car)\n",
    "library(compositions)"
   ]
  },
  {
   "cell_type": "code",
   "execution_count": 2,
   "metadata": {
    "vscode": {
     "languageId": "r"
    }
   },
   "outputs": [
    {
     "data": {
      "text/html": [
       "<table class=\"dataframe\">\n",
       "<caption>A data.frame: 1 × 11</caption>\n",
       "<thead>\n",
       "\t<tr><th></th><th scope=col>NAME</th><th scope=col>GEOID</th><th scope=col>with_internet</th><th scope=col>work_from_home</th><th scope=col>sixtyfive_and_older</th><th scope=col>median_income</th><th scope=col>number_providers</th><th scope=col>mean_lowest_cost</th><th scope=col>mean_d_mbps</th><th scope=col>mean_u_mbps</th><th scope=col>mean_lat_ms</th></tr>\n",
       "\t<tr><th></th><th scope=col>&lt;chr&gt;</th><th scope=col>&lt;dbl&gt;</th><th scope=col>&lt;int&gt;</th><th scope=col>&lt;int&gt;</th><th scope=col>&lt;int&gt;</th><th scope=col>&lt;int&gt;</th><th scope=col>&lt;dbl&gt;</th><th scope=col>&lt;dbl&gt;</th><th scope=col>&lt;dbl&gt;</th><th scope=col>&lt;dbl&gt;</th><th scope=col>&lt;dbl&gt;</th></tr>\n",
       "</thead>\n",
       "<tbody>\n",
       "\t<tr><th scope=row>1</th><td>Census Tract 9601, Asotin County, Washington</td><td>53003960100</td><td>1569</td><td>145</td><td>1337</td><td>73942</td><td>12</td><td>58</td><td>110.3274</td><td>41.7821</td><td>51.70445</td></tr>\n",
       "</tbody>\n",
       "</table>\n"
      ],
      "text/latex": [
       "A data.frame: 1 × 11\n",
       "\\begin{tabular}{r|lllllllllll}\n",
       "  & NAME & GEOID & with\\_internet & work\\_from\\_home & sixtyfive\\_and\\_older & median\\_income & number\\_providers & mean\\_lowest\\_cost & mean\\_d\\_mbps & mean\\_u\\_mbps & mean\\_lat\\_ms\\\\\n",
       "  & <chr> & <dbl> & <int> & <int> & <int> & <int> & <dbl> & <dbl> & <dbl> & <dbl> & <dbl>\\\\\n",
       "\\hline\n",
       "\t1 & Census Tract 9601, Asotin County, Washington & 53003960100 & 1569 & 145 & 1337 & 73942 & 12 & 58 & 110.3274 & 41.7821 & 51.70445\\\\\n",
       "\\end{tabular}\n"
      ],
      "text/markdown": [
       "\n",
       "A data.frame: 1 × 11\n",
       "\n",
       "| <!--/--> | NAME &lt;chr&gt; | GEOID &lt;dbl&gt; | with_internet &lt;int&gt; | work_from_home &lt;int&gt; | sixtyfive_and_older &lt;int&gt; | median_income &lt;int&gt; | number_providers &lt;dbl&gt; | mean_lowest_cost &lt;dbl&gt; | mean_d_mbps &lt;dbl&gt; | mean_u_mbps &lt;dbl&gt; | mean_lat_ms &lt;dbl&gt; |\n",
       "|---|---|---|---|---|---|---|---|---|---|---|---|\n",
       "| 1 | Census Tract 9601, Asotin County, Washington | 53003960100 | 1569 | 145 | 1337 | 73942 | 12 | 58 | 110.3274 | 41.7821 | 51.70445 |\n",
       "\n"
      ],
      "text/plain": [
       "  NAME                                         GEOID       with_internet\n",
       "1 Census Tract 9601, Asotin County, Washington 53003960100 1569         \n",
       "  work_from_home sixtyfive_and_older median_income number_providers\n",
       "1 145            1337                73942         12              \n",
       "  mean_lowest_cost mean_d_mbps mean_u_mbps mean_lat_ms\n",
       "1 58               110.3274    41.7821     51.70445   "
      ]
     },
     "metadata": {},
     "output_type": "display_data"
    }
   ],
   "source": [
    "data <- read.csv(\"../data/combined_data.csv\")\n",
    "head(data, 1)"
   ]
  },
  {
   "cell_type": "code",
   "execution_count": 3,
   "metadata": {
    "vscode": {
     "languageId": "r"
    }
   },
   "outputs": [
    {
     "data": {
      "text/html": [
       "<table class=\"dataframe\">\n",
       "<caption>A data.frame: 6 × 9</caption>\n",
       "<thead>\n",
       "\t<tr><th></th><th scope=col>with_internet</th><th scope=col>work_from_home</th><th scope=col>sixtyfive_and_older</th><th scope=col>median_income</th><th scope=col>number_providers</th><th scope=col>mean_lowest_cost</th><th scope=col>mean_d_mbps</th><th scope=col>mean_u_mbps</th><th scope=col>mean_lat_ms</th></tr>\n",
       "\t<tr><th></th><th scope=col>&lt;int&gt;</th><th scope=col>&lt;int&gt;</th><th scope=col>&lt;int&gt;</th><th scope=col>&lt;int&gt;</th><th scope=col>&lt;dbl&gt;</th><th scope=col>&lt;dbl&gt;</th><th scope=col>&lt;dbl&gt;</th><th scope=col>&lt;dbl&gt;</th><th scope=col>&lt;dbl&gt;</th></tr>\n",
       "</thead>\n",
       "<tbody>\n",
       "\t<tr><th scope=row>1</th><td>1569</td><td>145</td><td>1337</td><td>73942</td><td>12</td><td>58.00000</td><td>110.3274</td><td>41.78210</td><td>51.70445</td></tr>\n",
       "\t<tr><th scope=row>2</th><td>1780</td><td>421</td><td>1352</td><td>72988</td><td>13</td><td>60.07692</td><td>145.7848</td><td>22.88731</td><td>24.62630</td></tr>\n",
       "\t<tr><th scope=row>3</th><td>1156</td><td>  6</td><td> 396</td><td>38077</td><td>11</td><td>60.00000</td><td>173.4079</td><td>27.06202</td><td>29.98058</td></tr>\n",
       "\t<tr><th scope=row>4</th><td> 805</td><td> 29</td><td> 647</td><td>38777</td><td> 8</td><td>62.50000</td><td>127.6005</td><td>23.53829</td><td>22.16379</td></tr>\n",
       "\t<tr><th scope=row>5</th><td>1198</td><td> 26</td><td> 635</td><td>42639</td><td> 8</td><td>62.50000</td><td>192.4299</td><td>21.68565</td><td>21.66087</td></tr>\n",
       "\t<tr><th scope=row>6</th><td>1392</td><td>115</td><td> 909</td><td>53947</td><td> 9</td><td>58.88889</td><td>151.0552</td><td>23.52123</td><td>26.18557</td></tr>\n",
       "</tbody>\n",
       "</table>\n"
      ],
      "text/latex": [
       "A data.frame: 6 × 9\n",
       "\\begin{tabular}{r|lllllllll}\n",
       "  & with\\_internet & work\\_from\\_home & sixtyfive\\_and\\_older & median\\_income & number\\_providers & mean\\_lowest\\_cost & mean\\_d\\_mbps & mean\\_u\\_mbps & mean\\_lat\\_ms\\\\\n",
       "  & <int> & <int> & <int> & <int> & <dbl> & <dbl> & <dbl> & <dbl> & <dbl>\\\\\n",
       "\\hline\n",
       "\t1 & 1569 & 145 & 1337 & 73942 & 12 & 58.00000 & 110.3274 & 41.78210 & 51.70445\\\\\n",
       "\t2 & 1780 & 421 & 1352 & 72988 & 13 & 60.07692 & 145.7848 & 22.88731 & 24.62630\\\\\n",
       "\t3 & 1156 &   6 &  396 & 38077 & 11 & 60.00000 & 173.4079 & 27.06202 & 29.98058\\\\\n",
       "\t4 &  805 &  29 &  647 & 38777 &  8 & 62.50000 & 127.6005 & 23.53829 & 22.16379\\\\\n",
       "\t5 & 1198 &  26 &  635 & 42639 &  8 & 62.50000 & 192.4299 & 21.68565 & 21.66087\\\\\n",
       "\t6 & 1392 & 115 &  909 & 53947 &  9 & 58.88889 & 151.0552 & 23.52123 & 26.18557\\\\\n",
       "\\end{tabular}\n"
      ],
      "text/markdown": [
       "\n",
       "A data.frame: 6 × 9\n",
       "\n",
       "| <!--/--> | with_internet &lt;int&gt; | work_from_home &lt;int&gt; | sixtyfive_and_older &lt;int&gt; | median_income &lt;int&gt; | number_providers &lt;dbl&gt; | mean_lowest_cost &lt;dbl&gt; | mean_d_mbps &lt;dbl&gt; | mean_u_mbps &lt;dbl&gt; | mean_lat_ms &lt;dbl&gt; |\n",
       "|---|---|---|---|---|---|---|---|---|---|\n",
       "| 1 | 1569 | 145 | 1337 | 73942 | 12 | 58.00000 | 110.3274 | 41.78210 | 51.70445 |\n",
       "| 2 | 1780 | 421 | 1352 | 72988 | 13 | 60.07692 | 145.7848 | 22.88731 | 24.62630 |\n",
       "| 3 | 1156 |   6 |  396 | 38077 | 11 | 60.00000 | 173.4079 | 27.06202 | 29.98058 |\n",
       "| 4 |  805 |  29 |  647 | 38777 |  8 | 62.50000 | 127.6005 | 23.53829 | 22.16379 |\n",
       "| 5 | 1198 |  26 |  635 | 42639 |  8 | 62.50000 | 192.4299 | 21.68565 | 21.66087 |\n",
       "| 6 | 1392 | 115 |  909 | 53947 |  9 | 58.88889 | 151.0552 | 23.52123 | 26.18557 |\n",
       "\n"
      ],
      "text/plain": [
       "  with_internet work_from_home sixtyfive_and_older median_income\n",
       "1 1569          145            1337                73942        \n",
       "2 1780          421            1352                72988        \n",
       "3 1156            6             396                38077        \n",
       "4  805           29             647                38777        \n",
       "5 1198           26             635                42639        \n",
       "6 1392          115             909                53947        \n",
       "  number_providers mean_lowest_cost mean_d_mbps mean_u_mbps mean_lat_ms\n",
       "1 12               58.00000         110.3274    41.78210    51.70445   \n",
       "2 13               60.07692         145.7848    22.88731    24.62630   \n",
       "3 11               60.00000         173.4079    27.06202    29.98058   \n",
       "4  8               62.50000         127.6005    23.53829    22.16379   \n",
       "5  8               62.50000         192.4299    21.68565    21.66087   \n",
       "6  9               58.88889         151.0552    23.52123    26.18557   "
      ]
     },
     "metadata": {},
     "output_type": "display_data"
    }
   ],
   "source": [
    "data <- data %>% dplyr::select(-NAME, -GEOID)\n",
    "\n",
    "head(data)"
   ]
  },
  {
   "cell_type": "code",
   "execution_count": 4,
   "metadata": {
    "vscode": {
     "languageId": "r"
    }
   },
   "outputs": [
    {
     "data": {
      "text/plain": [
       "Kaiser-Meyer-Olkin factor adequacy\n",
       "Call: KMO(r = data)\n",
       "Overall MSA =  0.63\n",
       "MSA for each item = \n",
       "      with_internet      work_from_home sixtyfive_and_older       median_income \n",
       "               0.57                0.74                0.55                0.65 \n",
       "   number_providers    mean_lowest_cost         mean_d_mbps         mean_u_mbps \n",
       "               0.71                0.69                0.65                0.60 \n",
       "        mean_lat_ms \n",
       "               0.67 "
      ]
     },
     "metadata": {},
     "output_type": "display_data"
    }
   ],
   "source": [
    "KMO(data)"
   ]
  },
  {
   "cell_type": "code",
   "execution_count": 5,
   "metadata": {
    "vscode": {
     "languageId": "r"
    }
   },
   "outputs": [],
   "source": [
    "scaled_data <- scale(data)"
   ]
  },
  {
   "cell_type": "code",
   "execution_count": 6,
   "metadata": {
    "vscode": {
     "languageId": "r"
    }
   },
   "outputs": [
    {
     "data": {
      "text/html": [
       "<table class=\"dataframe\">\n",
       "<caption>A data.frame: 6 × 10</caption>\n",
       "<thead>\n",
       "\t<tr><th></th><th scope=col>with_internet</th><th scope=col>work_from_home</th><th scope=col>sixtyfive_and_older</th><th scope=col>median_income</th><th scope=col>number_providers</th><th scope=col>mean_lowest_cost</th><th scope=col>mean_d_mbps</th><th scope=col>mean_u_mbps</th><th scope=col>mean_lat_ms</th><th scope=col>index</th></tr>\n",
       "\t<tr><th></th><th scope=col>&lt;dbl&gt;</th><th scope=col>&lt;dbl&gt;</th><th scope=col>&lt;dbl&gt;</th><th scope=col>&lt;dbl&gt;</th><th scope=col>&lt;dbl&gt;</th><th scope=col>&lt;dbl&gt;</th><th scope=col>&lt;dbl&gt;</th><th scope=col>&lt;dbl&gt;</th><th scope=col>&lt;dbl&gt;</th><th scope=col>&lt;dbl&gt;</th></tr>\n",
       "</thead>\n",
       "<tbody>\n",
       "\t<tr><th scope=row>1</th><td> 0.5167430</td><td> 0.1292741</td><td> 2.23493253</td><td>0.07418486</td><td> 1.7094218</td><td>-0.18458632</td><td>-1.05913969</td><td> 0.2831385</td><td> 1.17991288</td><td>-1.4973910</td></tr>\n",
       "\t<tr><th scope=row>2</th><td> 0.9194434</td><td> 2.9303783</td><td> 2.28240921</td><td>0.07416551</td><td> 2.2108891</td><td> 0.41923513</td><td>-0.64056563</td><td>-0.4304467</td><td>-0.15416598</td><td>-0.4445651</td></tr>\n",
       "\t<tr><th scope=row>3</th><td>-0.2714809</td><td>-1.2814270</td><td>-0.74343819</td><td>0.07345717</td><td> 1.2079545</td><td> 0.39687137</td><td>-0.31447576</td><td>-0.2727836</td><td> 0.10962741</td><td>-0.9229616</td></tr>\n",
       "\t<tr><th scope=row>4</th><td>-0.9413759</td><td>-1.0480017</td><td> 0.05100501</td><td>0.07347137</td><td>-0.2964475</td><td> 1.12369349</td><td>-0.85523159</td><td>-0.4058615</td><td>-0.27548794</td><td>-0.4642621</td></tr>\n",
       "\t<tr><th scope=row>5</th><td>-0.1913226</td><td>-1.0784484</td><td> 0.01302366</td><td>0.07354973</td><td>-0.2964475</td><td> 1.12369349</td><td>-0.08992031</td><td>-0.4758288</td><td>-0.30026584</td><td> 0.1856894</td></tr>\n",
       "\t<tr><th scope=row>6</th><td> 0.1789328</td><td>-0.1751938</td><td> 0.88026444</td><td>0.07377917</td><td> 0.2050198</td><td> 0.07383932</td><td>-0.57834859</td><td>-0.4065058</td><td>-0.07734433</td><td>-0.3719643</td></tr>\n",
       "</tbody>\n",
       "</table>\n"
      ],
      "text/latex": [
       "A data.frame: 6 × 10\n",
       "\\begin{tabular}{r|llllllllll}\n",
       "  & with\\_internet & work\\_from\\_home & sixtyfive\\_and\\_older & median\\_income & number\\_providers & mean\\_lowest\\_cost & mean\\_d\\_mbps & mean\\_u\\_mbps & mean\\_lat\\_ms & index\\\\\n",
       "  & <dbl> & <dbl> & <dbl> & <dbl> & <dbl> & <dbl> & <dbl> & <dbl> & <dbl> & <dbl>\\\\\n",
       "\\hline\n",
       "\t1 &  0.5167430 &  0.1292741 &  2.23493253 & 0.07418486 &  1.7094218 & -0.18458632 & -1.05913969 &  0.2831385 &  1.17991288 & -1.4973910\\\\\n",
       "\t2 &  0.9194434 &  2.9303783 &  2.28240921 & 0.07416551 &  2.2108891 &  0.41923513 & -0.64056563 & -0.4304467 & -0.15416598 & -0.4445651\\\\\n",
       "\t3 & -0.2714809 & -1.2814270 & -0.74343819 & 0.07345717 &  1.2079545 &  0.39687137 & -0.31447576 & -0.2727836 &  0.10962741 & -0.9229616\\\\\n",
       "\t4 & -0.9413759 & -1.0480017 &  0.05100501 & 0.07347137 & -0.2964475 &  1.12369349 & -0.85523159 & -0.4058615 & -0.27548794 & -0.4642621\\\\\n",
       "\t5 & -0.1913226 & -1.0784484 &  0.01302366 & 0.07354973 & -0.2964475 &  1.12369349 & -0.08992031 & -0.4758288 & -0.30026584 &  0.1856894\\\\\n",
       "\t6 &  0.1789328 & -0.1751938 &  0.88026444 & 0.07377917 &  0.2050198 &  0.07383932 & -0.57834859 & -0.4065058 & -0.07734433 & -0.3719643\\\\\n",
       "\\end{tabular}\n"
      ],
      "text/markdown": [
       "\n",
       "A data.frame: 6 × 10\n",
       "\n",
       "| <!--/--> | with_internet &lt;dbl&gt; | work_from_home &lt;dbl&gt; | sixtyfive_and_older &lt;dbl&gt; | median_income &lt;dbl&gt; | number_providers &lt;dbl&gt; | mean_lowest_cost &lt;dbl&gt; | mean_d_mbps &lt;dbl&gt; | mean_u_mbps &lt;dbl&gt; | mean_lat_ms &lt;dbl&gt; | index &lt;dbl&gt; |\n",
       "|---|---|---|---|---|---|---|---|---|---|---|\n",
       "| 1 |  0.5167430 |  0.1292741 |  2.23493253 | 0.07418486 |  1.7094218 | -0.18458632 | -1.05913969 |  0.2831385 |  1.17991288 | -1.4973910 |\n",
       "| 2 |  0.9194434 |  2.9303783 |  2.28240921 | 0.07416551 |  2.2108891 |  0.41923513 | -0.64056563 | -0.4304467 | -0.15416598 | -0.4445651 |\n",
       "| 3 | -0.2714809 | -1.2814270 | -0.74343819 | 0.07345717 |  1.2079545 |  0.39687137 | -0.31447576 | -0.2727836 |  0.10962741 | -0.9229616 |\n",
       "| 4 | -0.9413759 | -1.0480017 |  0.05100501 | 0.07347137 | -0.2964475 |  1.12369349 | -0.85523159 | -0.4058615 | -0.27548794 | -0.4642621 |\n",
       "| 5 | -0.1913226 | -1.0784484 |  0.01302366 | 0.07354973 | -0.2964475 |  1.12369349 | -0.08992031 | -0.4758288 | -0.30026584 |  0.1856894 |\n",
       "| 6 |  0.1789328 | -0.1751938 |  0.88026444 | 0.07377917 |  0.2050198 |  0.07383932 | -0.57834859 | -0.4065058 | -0.07734433 | -0.3719643 |\n",
       "\n"
      ],
      "text/plain": [
       "  with_internet work_from_home sixtyfive_and_older median_income\n",
       "1  0.5167430     0.1292741      2.23493253         0.07418486   \n",
       "2  0.9194434     2.9303783      2.28240921         0.07416551   \n",
       "3 -0.2714809    -1.2814270     -0.74343819         0.07345717   \n",
       "4 -0.9413759    -1.0480017      0.05100501         0.07347137   \n",
       "5 -0.1913226    -1.0784484      0.01302366         0.07354973   \n",
       "6  0.1789328    -0.1751938      0.88026444         0.07377917   \n",
       "  number_providers mean_lowest_cost mean_d_mbps mean_u_mbps mean_lat_ms\n",
       "1  1.7094218       -0.18458632      -1.05913969  0.2831385   1.17991288\n",
       "2  2.2108891        0.41923513      -0.64056563 -0.4304467  -0.15416598\n",
       "3  1.2079545        0.39687137      -0.31447576 -0.2727836   0.10962741\n",
       "4 -0.2964475        1.12369349      -0.85523159 -0.4058615  -0.27548794\n",
       "5 -0.2964475        1.12369349      -0.08992031 -0.4758288  -0.30026584\n",
       "6  0.2050198        0.07383932      -0.57834859 -0.4065058  -0.07734433\n",
       "  index     \n",
       "1 -1.4973910\n",
       "2 -0.4445651\n",
       "3 -0.9229616\n",
       "4 -0.4642621\n",
       "5  0.1856894\n",
       "6 -0.3719643"
      ]
     },
     "metadata": {},
     "output_type": "display_data"
    }
   ],
   "source": [
    "pca_data <- prcomp(scaled_data, scale = FALSE)\n",
    "\n",
    "# disable scientific notation\n",
    "options(scipen = 999)\n",
    "eigenvectors <- -pca_data$rotation\n",
    "eigenvalues <- pca_data$sdev^2\n",
    "\n",
    "index_col <- as.data.frame(-pca_data$x) %>%\n",
    "    dplyr::select(PC1) %>%\n",
    "    rename(index = PC1)\n",
    "\n",
    "index_data <- bind_cols(scaled_data, index_col)\n",
    "head(index_data)"
   ]
  },
  {
   "cell_type": "code",
   "execution_count": 7,
   "metadata": {
    "vscode": {
     "languageId": "r"
    }
   },
   "outputs": [
    {
     "data": {
      "text/html": [
       "<dl>\n",
       "\t<dt>$with_internet</dt>\n",
       "\t\t<dd>0.0000000000000184297022087776</dd>\n",
       "\t<dt>$work_from_home</dt>\n",
       "\t\t<dd>0.0488348110447259</dd>\n",
       "\t<dt>$sixtyfive_and_older</dt>\n",
       "\t\t<dd>0.197162282488086</dd>\n",
       "\t<dt>$median_income</dt>\n",
       "\t\t<dd>0.786719118713837</dd>\n",
       "\t<dt>$number_providers</dt>\n",
       "\t\t<dd>0</dd>\n",
       "\t<dt>$mean_lowest_cost</dt>\n",
       "\t\t<dd>0.000000027831087878738</dd>\n",
       "\t<dt>$mean_d_mbps</dt>\n",
       "\t\t<dd>0</dd>\n",
       "\t<dt>$mean_u_mbps</dt>\n",
       "\t\t<dd>0.0000000000000972555369571637</dd>\n",
       "\t<dt>$mean_lat_ms</dt>\n",
       "\t\t<dd>0</dd>\n",
       "\t<dt>$index</dt>\n",
       "\t\t<dd>&lt;NA&gt;</dd>\n",
       "</dl>\n"
      ],
      "text/latex": [
       "\\begin{description}\n",
       "\\item[\\$with\\_internet] 0.0000000000000184297022087776\n",
       "\\item[\\$work\\_from\\_home] 0.0488348110447259\n",
       "\\item[\\$sixtyfive\\_and\\_older] 0.197162282488086\n",
       "\\item[\\$median\\_income] 0.786719118713837\n",
       "\\item[\\$number\\_providers] 0\n",
       "\\item[\\$mean\\_lowest\\_cost] 0.000000027831087878738\n",
       "\\item[\\$mean\\_d\\_mbps] 0\n",
       "\\item[\\$mean\\_u\\_mbps] 0.0000000000000972555369571637\n",
       "\\item[\\$mean\\_lat\\_ms] 0\n",
       "\\item[\\$index] <NA>\n",
       "\\end{description}\n"
      ],
      "text/markdown": [
       "$with_internet\n",
       ":   0.0000000000000184297022087776\n",
       "$work_from_home\n",
       ":   0.0488348110447259\n",
       "$sixtyfive_and_older\n",
       ":   0.197162282488086\n",
       "$median_income\n",
       ":   0.786719118713837\n",
       "$number_providers\n",
       ":   0\n",
       "$mean_lowest_cost\n",
       ":   0.000000027831087878738\n",
       "$mean_d_mbps\n",
       ":   0\n",
       "$mean_u_mbps\n",
       ":   0.0000000000000972555369571637\n",
       "$mean_lat_ms\n",
       ":   0\n",
       "$index\n",
       ":   &lt;NA&gt;\n",
       "\n",
       "\n"
      ],
      "text/plain": [
       "$with_internet\n",
       "[1] 0.0000000000000184297\n",
       "\n",
       "$work_from_home\n",
       "[1] 0.04883481\n",
       "\n",
       "$sixtyfive_and_older\n",
       "[1] 0.1971623\n",
       "\n",
       "$median_income\n",
       "[1] 0.7867191\n",
       "\n",
       "$number_providers\n",
       "[1] 0\n",
       "\n",
       "$mean_lowest_cost\n",
       "[1] 0.00000002783109\n",
       "\n",
       "$mean_d_mbps\n",
       "[1] 0\n",
       "\n",
       "$mean_u_mbps\n",
       "[1] 0.00000000000009725554\n",
       "\n",
       "$mean_lat_ms\n",
       "[1] 0\n",
       "\n",
       "$index\n",
       "[1] NA\n"
      ]
     },
     "metadata": {},
     "output_type": "display_data"
    }
   ],
   "source": [
    "as.list(rcorr(as.matrix(index_data), type = \"pearson\")$P[, ncol(index_data)])"
   ]
  },
  {
   "cell_type": "code",
   "execution_count": 8,
   "metadata": {
    "vscode": {
     "languageId": "r"
    }
   },
   "outputs": [
    {
     "data": {
      "text/html": [
       "<table class=\"dataframe\">\n",
       "<caption>A matrix: 10 × 10 of type dbl</caption>\n",
       "<thead>\n",
       "\t<tr><th></th><th scope=col>with_internet</th><th scope=col>work_from_home</th><th scope=col>sixtyfive_and_older</th><th scope=col>median_income</th><th scope=col>number_providers</th><th scope=col>mean_lowest_cost</th><th scope=col>mean_d_mbps</th><th scope=col>mean_u_mbps</th><th scope=col>mean_lat_ms</th><th scope=col>index</th></tr>\n",
       "</thead>\n",
       "<tbody>\n",
       "\t<tr><th scope=row>with_internet</th><td>                   NA</td><td>0.0000000002997904</td><td>0.00000000000000</td><td>0.03006990</td><td>0.082203264746717686</td><td>0.06558715015739</td><td>0.000001719724394889</td><td>0.00690289845388036838</td><td>0.0012541075067722</td><td>0.00000000000001842970</td></tr>\n",
       "\t<tr><th scope=row>work_from_home</th><td>0.0000000002997904147</td><td>                NA</td><td>0.00000004534735</td><td>0.62244972</td><td>0.692796119793771537</td><td>0.93350819129816</td><td>0.672635578892659680</td><td>0.43009326946822890037</td><td>0.9085912323262457</td><td>0.04883481104472586765</td></tr>\n",
       "\t<tr><th scope=row>sixtyfive_and_older</th><td>0.0000000000000000000</td><td>0.0000000453473543</td><td>              NA</td><td>0.04477147</td><td>0.476702946467304045</td><td>0.49718826894047</td><td>0.569411922064836595</td><td>0.02203015631983151756</td><td>0.1693793288053422</td><td>0.19716228248808564949</td></tr>\n",
       "\t<tr><th scope=row>median_income</th><td>0.0300698982044131924</td><td>0.6224497181702566</td><td>0.04477147246482</td><td>        NA</td><td>0.767570871280282230</td><td>0.46966892178760</td><td>0.521089097196837159</td><td>0.80723851787517242329</td><td>0.4313383103711321</td><td>0.78671911871383670700</td></tr>\n",
       "\t<tr><th scope=row>number_providers</th><td>0.0822032647467176858</td><td>0.6927961197937715</td><td>0.47670294646730</td><td>0.76757087</td><td>                  NA</td><td>0.00000526142273</td><td>0.000000000006029399</td><td>0.82692993872093989438</td><td>0.0000000002296336</td><td>0.00000000000000000000</td></tr>\n",
       "\t<tr><th scope=row>mean_lowest_cost</th><td>0.0655871501573890292</td><td>0.9335081912981564</td><td>0.49718826894047</td><td>0.46966892</td><td>0.000005261422731273</td><td>              NA</td><td>0.007630242115620689</td><td>0.25618495750335812389</td><td>0.0141555670114635</td><td>0.00000002783108787874</td></tr>\n",
       "\t<tr><th scope=row>mean_d_mbps</th><td>0.0000017197243948885</td><td>0.6726355788926597</td><td>0.56941192206484</td><td>0.52108910</td><td>0.000000000006029399</td><td>0.00763024211562</td><td>                  NA</td><td>0.00000001366549318149</td><td>0.0000000000000000</td><td>0.00000000000000000000</td></tr>\n",
       "\t<tr><th scope=row>mean_u_mbps</th><td>0.0069028984538803684</td><td>0.4300932694682289</td><td>0.02203015631983</td><td>0.80723852</td><td>0.826929938720939894</td><td>0.25618495750336</td><td>0.000000013665493181</td><td>                    NA</td><td>0.0000000029104892</td><td>0.00000000000009725554</td></tr>\n",
       "\t<tr><th scope=row>mean_lat_ms</th><td>0.0012541075067722396</td><td>0.9085912323262457</td><td>0.16937932880534</td><td>0.43133831</td><td>0.000000000229633645</td><td>0.01415556701146</td><td>0.000000000000000000</td><td>0.00000000291048918299</td><td>                NA</td><td>0.00000000000000000000</td></tr>\n",
       "\t<tr><th scope=row>index</th><td>0.0000000000000184297</td><td>0.0488348110447259</td><td>0.19716228248809</td><td>0.78671912</td><td>0.000000000000000000</td><td>0.00000002783109</td><td>0.000000000000000000</td><td>0.00000000000009725554</td><td>0.0000000000000000</td><td>                    NA</td></tr>\n",
       "</tbody>\n",
       "</table>\n"
      ],
      "text/latex": [
       "A matrix: 10 × 10 of type dbl\n",
       "\\begin{tabular}{r|llllllllll}\n",
       "  & with\\_internet & work\\_from\\_home & sixtyfive\\_and\\_older & median\\_income & number\\_providers & mean\\_lowest\\_cost & mean\\_d\\_mbps & mean\\_u\\_mbps & mean\\_lat\\_ms & index\\\\\n",
       "\\hline\n",
       "\twith\\_internet &                    NA & 0.0000000002997904 & 0.00000000000000 & 0.03006990 & 0.082203264746717686 & 0.06558715015739 & 0.000001719724394889 & 0.00690289845388036838 & 0.0012541075067722 & 0.00000000000001842970\\\\\n",
       "\twork\\_from\\_home & 0.0000000002997904147 &                 NA & 0.00000004534735 & 0.62244972 & 0.692796119793771537 & 0.93350819129816 & 0.672635578892659680 & 0.43009326946822890037 & 0.9085912323262457 & 0.04883481104472586765\\\\\n",
       "\tsixtyfive\\_and\\_older & 0.0000000000000000000 & 0.0000000453473543 &               NA & 0.04477147 & 0.476702946467304045 & 0.49718826894047 & 0.569411922064836595 & 0.02203015631983151756 & 0.1693793288053422 & 0.19716228248808564949\\\\\n",
       "\tmedian\\_income & 0.0300698982044131924 & 0.6224497181702566 & 0.04477147246482 &         NA & 0.767570871280282230 & 0.46966892178760 & 0.521089097196837159 & 0.80723851787517242329 & 0.4313383103711321 & 0.78671911871383670700\\\\\n",
       "\tnumber\\_providers & 0.0822032647467176858 & 0.6927961197937715 & 0.47670294646730 & 0.76757087 &                   NA & 0.00000526142273 & 0.000000000006029399 & 0.82692993872093989438 & 0.0000000002296336 & 0.00000000000000000000\\\\\n",
       "\tmean\\_lowest\\_cost & 0.0655871501573890292 & 0.9335081912981564 & 0.49718826894047 & 0.46966892 & 0.000005261422731273 &               NA & 0.007630242115620689 & 0.25618495750335812389 & 0.0141555670114635 & 0.00000002783108787874\\\\\n",
       "\tmean\\_d\\_mbps & 0.0000017197243948885 & 0.6726355788926597 & 0.56941192206484 & 0.52108910 & 0.000000000006029399 & 0.00763024211562 &                   NA & 0.00000001366549318149 & 0.0000000000000000 & 0.00000000000000000000\\\\\n",
       "\tmean\\_u\\_mbps & 0.0069028984538803684 & 0.4300932694682289 & 0.02203015631983 & 0.80723852 & 0.826929938720939894 & 0.25618495750336 & 0.000000013665493181 &                     NA & 0.0000000029104892 & 0.00000000000009725554\\\\\n",
       "\tmean\\_lat\\_ms & 0.0012541075067722396 & 0.9085912323262457 & 0.16937932880534 & 0.43133831 & 0.000000000229633645 & 0.01415556701146 & 0.000000000000000000 & 0.00000000291048918299 &                 NA & 0.00000000000000000000\\\\\n",
       "\tindex & 0.0000000000000184297 & 0.0488348110447259 & 0.19716228248809 & 0.78671912 & 0.000000000000000000 & 0.00000002783109 & 0.000000000000000000 & 0.00000000000009725554 & 0.0000000000000000 &                     NA\\\\\n",
       "\\end{tabular}\n"
      ],
      "text/markdown": [
       "\n",
       "A matrix: 10 × 10 of type dbl\n",
       "\n",
       "| <!--/--> | with_internet | work_from_home | sixtyfive_and_older | median_income | number_providers | mean_lowest_cost | mean_d_mbps | mean_u_mbps | mean_lat_ms | index |\n",
       "|---|---|---|---|---|---|---|---|---|---|---|\n",
       "| with_internet |                    NA | 0.0000000002997904 | 0.00000000000000 | 0.03006990 | 0.082203264746717686 | 0.06558715015739 | 0.000001719724394889 | 0.00690289845388036838 | 0.0012541075067722 | 0.00000000000001842970 |\n",
       "| work_from_home | 0.0000000002997904147 |                 NA | 0.00000004534735 | 0.62244972 | 0.692796119793771537 | 0.93350819129816 | 0.672635578892659680 | 0.43009326946822890037 | 0.9085912323262457 | 0.04883481104472586765 |\n",
       "| sixtyfive_and_older | 0.0000000000000000000 | 0.0000000453473543 |               NA | 0.04477147 | 0.476702946467304045 | 0.49718826894047 | 0.569411922064836595 | 0.02203015631983151756 | 0.1693793288053422 | 0.19716228248808564949 |\n",
       "| median_income | 0.0300698982044131924 | 0.6224497181702566 | 0.04477147246482 |         NA | 0.767570871280282230 | 0.46966892178760 | 0.521089097196837159 | 0.80723851787517242329 | 0.4313383103711321 | 0.78671911871383670700 |\n",
       "| number_providers | 0.0822032647467176858 | 0.6927961197937715 | 0.47670294646730 | 0.76757087 |                   NA | 0.00000526142273 | 0.000000000006029399 | 0.82692993872093989438 | 0.0000000002296336 | 0.00000000000000000000 |\n",
       "| mean_lowest_cost | 0.0655871501573890292 | 0.9335081912981564 | 0.49718826894047 | 0.46966892 | 0.000005261422731273 |               NA | 0.007630242115620689 | 0.25618495750335812389 | 0.0141555670114635 | 0.00000002783108787874 |\n",
       "| mean_d_mbps | 0.0000017197243948885 | 0.6726355788926597 | 0.56941192206484 | 0.52108910 | 0.000000000006029399 | 0.00763024211562 |                   NA | 0.00000001366549318149 | 0.0000000000000000 | 0.00000000000000000000 |\n",
       "| mean_u_mbps | 0.0069028984538803684 | 0.4300932694682289 | 0.02203015631983 | 0.80723852 | 0.826929938720939894 | 0.25618495750336 | 0.000000013665493181 |                     NA | 0.0000000029104892 | 0.00000000000009725554 |\n",
       "| mean_lat_ms | 0.0012541075067722396 | 0.9085912323262457 | 0.16937932880534 | 0.43133831 | 0.000000000229633645 | 0.01415556701146 | 0.000000000000000000 | 0.00000000291048918299 |                 NA | 0.00000000000000000000 |\n",
       "| index | 0.0000000000000184297 | 0.0488348110447259 | 0.19716228248809 | 0.78671912 | 0.000000000000000000 | 0.00000002783109 | 0.000000000000000000 | 0.00000000000009725554 | 0.0000000000000000 |                     NA |\n",
       "\n"
      ],
      "text/plain": [
       "                    with_internet         work_from_home    \n",
       "with_internet                          NA 0.0000000002997904\n",
       "work_from_home      0.0000000002997904147                 NA\n",
       "sixtyfive_and_older 0.0000000000000000000 0.0000000453473543\n",
       "median_income       0.0300698982044131924 0.6224497181702566\n",
       "number_providers    0.0822032647467176858 0.6927961197937715\n",
       "mean_lowest_cost    0.0655871501573890292 0.9335081912981564\n",
       "mean_d_mbps         0.0000017197243948885 0.6726355788926597\n",
       "mean_u_mbps         0.0069028984538803684 0.4300932694682289\n",
       "mean_lat_ms         0.0012541075067722396 0.9085912323262457\n",
       "index               0.0000000000000184297 0.0488348110447259\n",
       "                    sixtyfive_and_older median_income number_providers    \n",
       "with_internet       0.00000000000000    0.03006990    0.082203264746717686\n",
       "work_from_home      0.00000004534735    0.62244972    0.692796119793771537\n",
       "sixtyfive_and_older               NA    0.04477147    0.476702946467304045\n",
       "median_income       0.04477147246482            NA    0.767570871280282230\n",
       "number_providers    0.47670294646730    0.76757087                      NA\n",
       "mean_lowest_cost    0.49718826894047    0.46966892    0.000005261422731273\n",
       "mean_d_mbps         0.56941192206484    0.52108910    0.000000000006029399\n",
       "mean_u_mbps         0.02203015631983    0.80723852    0.826929938720939894\n",
       "mean_lat_ms         0.16937932880534    0.43133831    0.000000000229633645\n",
       "index               0.19716228248809    0.78671912    0.000000000000000000\n",
       "                    mean_lowest_cost mean_d_mbps         \n",
       "with_internet       0.06558715015739 0.000001719724394889\n",
       "work_from_home      0.93350819129816 0.672635578892659680\n",
       "sixtyfive_and_older 0.49718826894047 0.569411922064836595\n",
       "median_income       0.46966892178760 0.521089097196837159\n",
       "number_providers    0.00000526142273 0.000000000006029399\n",
       "mean_lowest_cost                  NA 0.007630242115620689\n",
       "mean_d_mbps         0.00763024211562                   NA\n",
       "mean_u_mbps         0.25618495750336 0.000000013665493181\n",
       "mean_lat_ms         0.01415556701146 0.000000000000000000\n",
       "index               0.00000002783109 0.000000000000000000\n",
       "                    mean_u_mbps            mean_lat_ms       \n",
       "with_internet       0.00690289845388036838 0.0012541075067722\n",
       "work_from_home      0.43009326946822890037 0.9085912323262457\n",
       "sixtyfive_and_older 0.02203015631983151756 0.1693793288053422\n",
       "median_income       0.80723851787517242329 0.4313383103711321\n",
       "number_providers    0.82692993872093989438 0.0000000002296336\n",
       "mean_lowest_cost    0.25618495750335812389 0.0141555670114635\n",
       "mean_d_mbps         0.00000001366549318149 0.0000000000000000\n",
       "mean_u_mbps                             NA 0.0000000029104892\n",
       "mean_lat_ms         0.00000000291048918299                 NA\n",
       "index               0.00000000000009725554 0.0000000000000000\n",
       "                    index                 \n",
       "with_internet       0.00000000000001842970\n",
       "work_from_home      0.04883481104472586765\n",
       "sixtyfive_and_older 0.19716228248808564949\n",
       "median_income       0.78671911871383670700\n",
       "number_providers    0.00000000000000000000\n",
       "mean_lowest_cost    0.00000002783108787874\n",
       "mean_d_mbps         0.00000000000000000000\n",
       "mean_u_mbps         0.00000000000009725554\n",
       "mean_lat_ms         0.00000000000000000000\n",
       "index                                   NA"
      ]
     },
     "metadata": {},
     "output_type": "display_data"
    }
   ],
   "source": [
    "as.list(rcorr(as.matrix(index_data), type = \"pearson\"))$P"
   ]
  },
  {
   "cell_type": "code",
   "execution_count": 9,
   "metadata": {
    "vscode": {
     "languageId": "r"
    }
   },
   "outputs": [],
   "source": [
    "data1.2 <- data %>% dplyr::select(-median_income, -sixtyfive_and_older)\n",
    "scaled_data1.2 <- scale(data1.2)\n",
    "\n",
    "pca_data1.2 <- prcomp(scaled_data1.2, scale = FALSE)\n",
    "eigenvectors1.2 <- -pca_data1.2$rotation\n",
    "eigenvalues1.2 <- pca_data1.2$sdev^2\n",
    "\n",
    "index_col1.2 <- as.data.frame(-pca_data1.2$x) %>%\n",
    "    dplyr::select(PC1) %>%\n",
    "    rename(index = PC1)\n",
    "\n",
    "index_data1.2 <- bind_cols(scaled_data1.2, index_col1.2)"
   ]
  },
  {
   "cell_type": "code",
   "execution_count": 10,
   "metadata": {
    "vscode": {
     "languageId": "r"
    }
   },
   "outputs": [
    {
     "data": {
      "text/html": [
       "<dl>\n",
       "\t<dt>$with_internet</dt>\n",
       "\t\t<dd>0.00000000000190047977355334</dd>\n",
       "\t<dt>$work_from_home</dt>\n",
       "\t\t<dd>0.12573000750205</dd>\n",
       "\t<dt>$number_providers</dt>\n",
       "\t\t<dd>0</dd>\n",
       "\t<dt>$mean_lowest_cost</dt>\n",
       "\t\t<dd>0.0000000313912678073791</dd>\n",
       "\t<dt>$mean_d_mbps</dt>\n",
       "\t\t<dd>0</dd>\n",
       "\t<dt>$mean_u_mbps</dt>\n",
       "\t\t<dd>0.0000000000000197619698383278</dd>\n",
       "\t<dt>$mean_lat_ms</dt>\n",
       "\t\t<dd>0</dd>\n",
       "\t<dt>$index</dt>\n",
       "\t\t<dd>&lt;NA&gt;</dd>\n",
       "</dl>\n"
      ],
      "text/latex": [
       "\\begin{description}\n",
       "\\item[\\$with\\_internet] 0.00000000000190047977355334\n",
       "\\item[\\$work\\_from\\_home] 0.12573000750205\n",
       "\\item[\\$number\\_providers] 0\n",
       "\\item[\\$mean\\_lowest\\_cost] 0.0000000313912678073791\n",
       "\\item[\\$mean\\_d\\_mbps] 0\n",
       "\\item[\\$mean\\_u\\_mbps] 0.0000000000000197619698383278\n",
       "\\item[\\$mean\\_lat\\_ms] 0\n",
       "\\item[\\$index] <NA>\n",
       "\\end{description}\n"
      ],
      "text/markdown": [
       "$with_internet\n",
       ":   0.00000000000190047977355334\n",
       "$work_from_home\n",
       ":   0.12573000750205\n",
       "$number_providers\n",
       ":   0\n",
       "$mean_lowest_cost\n",
       ":   0.0000000313912678073791\n",
       "$mean_d_mbps\n",
       ":   0\n",
       "$mean_u_mbps\n",
       ":   0.0000000000000197619698383278\n",
       "$mean_lat_ms\n",
       ":   0\n",
       "$index\n",
       ":   &lt;NA&gt;\n",
       "\n",
       "\n"
      ],
      "text/plain": [
       "$with_internet\n",
       "[1] 0.00000000000190048\n",
       "\n",
       "$work_from_home\n",
       "[1] 0.12573\n",
       "\n",
       "$number_providers\n",
       "[1] 0\n",
       "\n",
       "$mean_lowest_cost\n",
       "[1] 0.00000003139127\n",
       "\n",
       "$mean_d_mbps\n",
       "[1] 0\n",
       "\n",
       "$mean_u_mbps\n",
       "[1] 0.00000000000001976197\n",
       "\n",
       "$mean_lat_ms\n",
       "[1] 0\n",
       "\n",
       "$index\n",
       "[1] NA\n"
      ]
     },
     "metadata": {},
     "output_type": "display_data"
    }
   ],
   "source": [
    "as.list(rcorr(as.matrix(index_data1.2), type = \"pearson\")$P[, ncol(index_data1.2)])"
   ]
  },
  {
   "cell_type": "code",
   "execution_count": 11,
   "metadata": {
    "vscode": {
     "languageId": "r"
    }
   },
   "outputs": [],
   "source": [
    "data1.3 <- data %>% dplyr::select(-median_income, -sixtyfive_and_older, -work_from_home)\n",
    "scaled_data1.3 <- scale(data1.3)\n",
    "\n",
    "pca_data1.3 <- prcomp(scaled_data1.3, scale = FALSE)\n",
    "eigenvectors1.3 <- -pca_data1.3$rotation\n",
    "eigenvalues1.3 <- pca_data1.3$sdev^2\n",
    "\n",
    "index_col1.3 <- as.data.frame(-pca_data1.3$x) %>%\n",
    "    dplyr::select(PC1) %>%\n",
    "    rename(index = PC1)\n",
    "\n",
    "index_data1.3 <- bind_cols(scaled_data1.3, index_col1.3)"
   ]
  },
  {
   "cell_type": "code",
   "execution_count": 12,
   "metadata": {
    "vscode": {
     "languageId": "r"
    }
   },
   "outputs": [
    {
     "data": {
      "text/plain": [
       "Subset selection object\n",
       "Call: regsubsets.formula(index ~ ., index_data1.3)\n",
       "6 Variables  (and intercept)\n",
       "                 Forced in Forced out\n",
       "with_internet        FALSE      FALSE\n",
       "number_providers     FALSE      FALSE\n",
       "mean_lowest_cost     FALSE      FALSE\n",
       "mean_d_mbps          FALSE      FALSE\n",
       "mean_u_mbps          FALSE      FALSE\n",
       "mean_lat_ms          FALSE      FALSE\n",
       "1 subsets of each size up to 6\n",
       "Selection Algorithm: exhaustive\n",
       "         with_internet number_providers mean_lowest_cost mean_d_mbps\n",
       "1  ( 1 ) \" \"           \" \"              \" \"              \"*\"        \n",
       "2  ( 1 ) \" \"           \" \"              \" \"              \"*\"        \n",
       "3  ( 1 ) \" \"           \"*\"              \" \"              \"*\"        \n",
       "4  ( 1 ) \"*\"           \"*\"              \" \"              \" \"        \n",
       "5  ( 1 ) \"*\"           \"*\"              \" \"              \"*\"        \n",
       "6  ( 1 ) \"*\"           \"*\"              \"*\"              \"*\"        \n",
       "         mean_u_mbps mean_lat_ms\n",
       "1  ( 1 ) \" \"         \" \"        \n",
       "2  ( 1 ) \" \"         \"*\"        \n",
       "3  ( 1 ) \"*\"         \" \"        \n",
       "4  ( 1 ) \"*\"         \"*\"        \n",
       "5  ( 1 ) \"*\"         \"*\"        \n",
       "6  ( 1 ) \"*\"         \"*\"        "
      ]
     },
     "metadata": {},
     "output_type": "display_data"
    }
   ],
   "source": [
    "library(leaps)\n",
    "subset <- regsubsets(index ~ ., index_data1.3)\n",
    "summary(subset)"
   ]
  },
  {
   "cell_type": "code",
   "execution_count": 13,
   "metadata": {
    "vscode": {
     "languageId": "r"
    }
   },
   "outputs": [
    {
     "data": {
      "text/plain": [
       "Subset selection object\n",
       "Call: regsubsets.formula(index ~ ., index_data1.3, method = \"forward\")\n",
       "6 Variables  (and intercept)\n",
       "                 Forced in Forced out\n",
       "with_internet        FALSE      FALSE\n",
       "number_providers     FALSE      FALSE\n",
       "mean_lowest_cost     FALSE      FALSE\n",
       "mean_d_mbps          FALSE      FALSE\n",
       "mean_u_mbps          FALSE      FALSE\n",
       "mean_lat_ms          FALSE      FALSE\n",
       "1 subsets of each size up to 6\n",
       "Selection Algorithm: forward\n",
       "         with_internet number_providers mean_lowest_cost mean_d_mbps\n",
       "1  ( 1 ) \" \"           \" \"              \" \"              \"*\"        \n",
       "2  ( 1 ) \" \"           \" \"              \" \"              \"*\"        \n",
       "3  ( 1 ) \" \"           \" \"              \"*\"              \"*\"        \n",
       "4  ( 1 ) \"*\"           \" \"              \"*\"              \"*\"        \n",
       "5  ( 1 ) \"*\"           \"*\"              \"*\"              \"*\"        \n",
       "6  ( 1 ) \"*\"           \"*\"              \"*\"              \"*\"        \n",
       "         mean_u_mbps mean_lat_ms\n",
       "1  ( 1 ) \" \"         \" \"        \n",
       "2  ( 1 ) \" \"         \"*\"        \n",
       "3  ( 1 ) \" \"         \"*\"        \n",
       "4  ( 1 ) \" \"         \"*\"        \n",
       "5  ( 1 ) \" \"         \"*\"        \n",
       "6  ( 1 ) \"*\"         \"*\"        "
      ]
     },
     "metadata": {},
     "output_type": "display_data"
    }
   ],
   "source": [
    "forward <- regsubsets(index ~ ., index_data1.3, method = \"forward\")\n",
    "\n",
    "results <- summary(forward)\n",
    "\n",
    "results"
   ]
  },
  {
   "cell_type": "code",
   "execution_count": 14,
   "metadata": {
    "vscode": {
     "languageId": "r"
    }
   },
   "outputs": [
    {
     "data": {
      "text/plain": [
       "\n",
       "Call:\n",
       "lm(formula = index ~ mean_d_mbps, data = index_data1.3)\n",
       "\n",
       "Residuals:\n",
       "     Min       1Q   Median       3Q      Max \n",
       "-1.70584 -0.43971 -0.02255  0.45061  1.68436 \n",
       "\n",
       "Coefficients:\n",
       "                         Estimate            Std. Error t value\n",
       "(Intercept) 0.0000000000000001285 0.0511065819026084930     0.0\n",
       "mean_d_mbps 1.4709618235742687453 0.0512467922673198531    28.7\n",
       "                       Pr(>|t|)    \n",
       "(Intercept)                   1    \n",
       "mean_d_mbps <0.0000000000000002 ***\n",
       "---\n",
       "Signif. codes:  0 ‘***’ 0.001 ‘**’ 0.01 ‘*’ 0.05 ‘.’ 0.1 ‘ ’ 1\n",
       "\n",
       "Residual standard error: 0.6914 on 181 degrees of freedom\n",
       "Multiple R-squared:  0.8199,\tAdjusted R-squared:  0.8189 \n",
       "F-statistic: 823.9 on 1 and 181 DF,  p-value: < 0.00000000000000022\n"
      ]
     },
     "metadata": {},
     "output_type": "display_data"
    }
   ],
   "source": [
    "model <- lm(\n",
    "    index ~ mean_d_mbps, index_data1.3\n",
    ")\n",
    "summary(model)"
   ]
  },
  {
   "cell_type": "code",
   "execution_count": 15,
   "metadata": {
    "vscode": {
     "languageId": "r"
    }
   },
   "outputs": [
    {
     "data": {
      "text/plain": [
       "\n",
       "Call:\n",
       "lm(formula = index ~ mean_lat_ms + mean_d_mbps, data = index_data1.3)\n",
       "\n",
       "Residuals:\n",
       "     Min       1Q   Median       3Q      Max \n",
       "-2.19923 -0.40893 -0.01228  0.38916  1.35442 \n",
       "\n",
       "Coefficients:\n",
       "                             Estimate                Std. Error t value\n",
       "(Intercept) -0.0000000000000000008643  0.0434782552565973340331   0.000\n",
       "mean_lat_ms -0.6571177518744153456254  0.0784928270836868224869  -8.372\n",
       "mean_d_mbps  0.9245283099032233220527  0.0784928270836868224869  11.779\n",
       "                        Pr(>|t|)    \n",
       "(Intercept)                    1    \n",
       "mean_lat_ms   0.0000000000000155 ***\n",
       "mean_d_mbps < 0.0000000000000002 ***\n",
       "---\n",
       "Signif. codes:  0 ‘***’ 0.001 ‘**’ 0.01 ‘*’ 0.05 ‘.’ 0.1 ‘ ’ 1\n",
       "\n",
       "Residual standard error: 0.5882 on 180 degrees of freedom\n",
       "Multiple R-squared:  0.8704,\tAdjusted R-squared:  0.8689 \n",
       "F-statistic: 604.2 on 2 and 180 DF,  p-value: < 0.00000000000000022\n"
      ]
     },
     "metadata": {},
     "output_type": "display_data"
    }
   ],
   "source": [
    "model2 <- lm(\n",
    "    index ~ mean_lat_ms + mean_d_mbps, \n",
    "    index_data1.3\n",
    ")\n",
    "summary(model2)"
   ]
  },
  {
   "cell_type": "code",
   "execution_count": 16,
   "metadata": {
    "vscode": {
     "languageId": "r"
    }
   },
   "outputs": [
    {
     "data": {
      "text/plain": [
       "\n",
       "Call:\n",
       "lm(formula = index ~ mean_lat_ms + mean_d_mbps + mean_lowest_cost, \n",
       "    data = index_data1.3)\n",
       "\n",
       "Residuals:\n",
       "     Min       1Q   Median       3Q      Max \n",
       "-1.51984 -0.35446 -0.00827  0.31214  1.38770 \n",
       "\n",
       "Coefficients:\n",
       "                               Estimate             Std. Error t value\n",
       "(Intercept)      -0.0000000000000001416  0.0348208194465178464    0.00\n",
       "mean_lat_ms      -0.6366596523024188325  0.0628959988089049377  -10.12\n",
       "mean_d_mbps       0.8709064547483797991  0.0630878721772683698   13.80\n",
       "mean_lowest_cost  0.3591995464179494890  0.0356302111979138053   10.08\n",
       "                            Pr(>|t|)    \n",
       "(Intercept)                        1    \n",
       "mean_lat_ms      <0.0000000000000002 ***\n",
       "mean_d_mbps      <0.0000000000000002 ***\n",
       "mean_lowest_cost <0.0000000000000002 ***\n",
       "---\n",
       "Signif. codes:  0 ‘***’ 0.001 ‘**’ 0.01 ‘*’ 0.05 ‘.’ 0.1 ‘ ’ 1\n",
       "\n",
       "Residual standard error: 0.471 on 179 degrees of freedom\n",
       "Multiple R-squared:  0.9173,\tAdjusted R-squared:  0.9159 \n",
       "F-statistic: 661.9 on 3 and 179 DF,  p-value: < 0.00000000000000022\n"
      ]
     },
     "metadata": {},
     "output_type": "display_data"
    }
   ],
   "source": [
    "model3 <- lm(\n",
    "    index ~ mean_lat_ms + mean_d_mbps + mean_lowest_cost,\n",
    "    index_data1.3\n",
    ")\n",
    "summary(model3)"
   ]
  },
  {
   "cell_type": "code",
   "execution_count": 17,
   "metadata": {
    "vscode": {
     "languageId": "r"
    }
   },
   "outputs": [
    {
     "data": {
      "text/plain": [
       "\n",
       "Call:\n",
       "lm(formula = index ~ mean_lat_ms + mean_d_mbps + mean_lowest_cost + \n",
       "    with_internet, data = index_data1.3)\n",
       "\n",
       "Residuals:\n",
       "     Min       1Q   Median       3Q      Max \n",
       "-1.47743 -0.24823 -0.01983  0.24207  1.20332 \n",
       "\n",
       "Coefficients:\n",
       "                              Estimate            Std. Error t value\n",
       "(Intercept)      -0.000000000000000162  0.028348155644931029   0.000\n",
       "mean_lat_ms      -0.685585589272718732  0.051457824634856708 -13.323\n",
       "mean_d_mbps       0.733445105870662029  0.053321242265313255  13.755\n",
       "mean_lowest_cost  0.337422230695737679  0.029095743642552484  11.597\n",
       "with_internet     0.292861755568714688  0.030520819627181200   9.595\n",
       "                            Pr(>|t|)    \n",
       "(Intercept)                        1    \n",
       "mean_lat_ms      <0.0000000000000002 ***\n",
       "mean_d_mbps      <0.0000000000000002 ***\n",
       "mean_lowest_cost <0.0000000000000002 ***\n",
       "with_internet    <0.0000000000000002 ***\n",
       "---\n",
       "Signif. codes:  0 ‘***’ 0.001 ‘**’ 0.01 ‘*’ 0.05 ‘.’ 0.1 ‘ ’ 1\n",
       "\n",
       "Residual standard error: 0.3835 on 178 degrees of freedom\n",
       "Multiple R-squared:  0.9455,\tAdjusted R-squared:  0.9443 \n",
       "F-statistic:   772 on 4 and 178 DF,  p-value: < 0.00000000000000022\n"
      ]
     },
     "metadata": {},
     "output_type": "display_data"
    }
   ],
   "source": [
    "model4 <- lm(\n",
    "    index ~ mean_lat_ms + \n",
    "    mean_d_mbps + \n",
    "    mean_lowest_cost +\n",
    "    with_internet,\n",
    "    index_data1.3\n",
    ")\n",
    "summary(model4)"
   ]
  },
  {
   "cell_type": "code",
   "execution_count": 18,
   "metadata": {
    "vscode": {
     "languageId": "r"
    }
   },
   "outputs": [
    {
     "data": {
      "text/plain": [
       "\n",
       "Call:\n",
       "lm(formula = index ~ mean_lat_ms + mean_d_mbps + mean_lowest_cost + \n",
       "    with_internet + number_providers, data = index_data1.3)\n",
       "\n",
       "Residuals:\n",
       "     Min       1Q   Median       3Q      Max \n",
       "-0.36749 -0.19468 -0.09555  0.12350  1.12830 \n",
       "\n",
       "Coefficients:\n",
       "                                Estimate              Std. Error t value\n",
       "(Intercept)      -0.00000000000000002238  0.02136007448136309494    0.00\n",
       "mean_lat_ms      -0.64644137967919168553  0.03891746614605681720  -16.61\n",
       "mean_d_mbps       0.63162359424861880264  0.04111130247879486027   15.36\n",
       "mean_lowest_cost  0.26404730632427958481  0.02280506922083241211   11.58\n",
       "with_internet     0.30883167272258182923  0.02303773797240890944   13.40\n",
       "number_providers -0.29839189613928263078  0.02553819579576480439  -11.68\n",
       "                            Pr(>|t|)    \n",
       "(Intercept)                        1    \n",
       "mean_lat_ms      <0.0000000000000002 ***\n",
       "mean_d_mbps      <0.0000000000000002 ***\n",
       "mean_lowest_cost <0.0000000000000002 ***\n",
       "with_internet    <0.0000000000000002 ***\n",
       "number_providers <0.0000000000000002 ***\n",
       "---\n",
       "Signif. codes:  0 ‘***’ 0.001 ‘**’ 0.01 ‘*’ 0.05 ‘.’ 0.1 ‘ ’ 1\n",
       "\n",
       "Residual standard error: 0.289 on 177 degrees of freedom\n",
       "Multiple R-squared:  0.9692,\tAdjusted R-squared:  0.9684 \n",
       "F-statistic:  1115 on 5 and 177 DF,  p-value: < 0.00000000000000022\n"
      ]
     },
     "metadata": {},
     "output_type": "display_data"
    }
   ],
   "source": [
    "model5 <- lm(\n",
    "    index ~ mean_lat_ms +\n",
    "        mean_d_mbps +\n",
    "        mean_lowest_cost +\n",
    "        with_internet +\n",
    "        number_providers,\n",
    "    index_data1.3\n",
    ")\n",
    "summary(model5)"
   ]
  },
  {
   "cell_type": "code",
   "execution_count": 19,
   "metadata": {
    "vscode": {
     "languageId": "r"
    }
   },
   "outputs": [
    {
     "data": {
      "text/plain": [
       "\n",
       "Call:\n",
       "lm(formula = index ~ mean_lat_ms + mean_d_mbps + mean_lowest_cost + \n",
       "    with_internet + number_providers, data = index_data1.3)\n",
       "\n",
       "Coefficients:\n",
       "            (Intercept)              mean_lat_ms              mean_d_mbps  \n",
       "-0.00000000000000002238  -0.64644137967919168553   0.63162359424861880264  \n",
       "       mean_lowest_cost            with_internet         number_providers  \n",
       " 0.26404730632427958481   0.30883167272258182923  -0.29839189613928263078  \n"
      ]
     },
     "metadata": {},
     "output_type": "display_data"
    }
   ],
   "source": [
    "model5"
   ]
  },
  {
   "cell_type": "code",
   "execution_count": 20,
   "metadata": {
    "vscode": {
     "languageId": "r"
    }
   },
   "outputs": [
    {
     "name": "stderr",
     "output_type": "stream",
     "text": [
      "Warning message in summary.lm(model6):\n",
      "“essentially perfect fit: summary may be unreliable”\n"
     ]
    },
    {
     "data": {
      "text/plain": [
       "\n",
       "Call:\n",
       "lm(formula = index ~ mean_lat_ms + mean_d_mbps + mean_lowest_cost + \n",
       "    with_internet + number_providers + mean_u_mbps, data = index_data1.3)\n",
       "\n",
       "Residuals:\n",
       "                    Min                      1Q                  Median \n",
       "-0.00000000000000151116 -0.00000000000000012422  0.00000000000000000457 \n",
       "                     3Q                     Max \n",
       " 0.00000000000000013981  0.00000000000000163229 \n",
       "\n",
       "Coefficients:\n",
       "                                Estimate              Std. Error\n",
       "(Intercept)       0.00000000000000009084  0.00000000000000001991\n",
       "mean_lat_ms      -0.54030991517724169526  0.00000000000000003703\n",
       "mean_d_mbps       0.55737738214154430860  0.00000000000000003867\n",
       "mean_lowest_cost  0.24468806134217044312  0.00000000000000002130\n",
       "with_internet     0.28580825950903210320  0.00000000000000002153\n",
       "number_providers -0.38548041995769960488  0.00000000000000002457\n",
       "mean_u_mbps       0.32747807056422123528  0.00000000000000002294\n",
       "                                t value             Pr(>|t|)    \n",
       "(Intercept)                       4.562           0.00000946 ***\n",
       "mean_lat_ms      -14591443969945114.000 < 0.0000000000000002 ***\n",
       "mean_d_mbps       14413202222577958.000 < 0.0000000000000002 ***\n",
       "mean_lowest_cost  11487787777864910.000 < 0.0000000000000002 ***\n",
       "with_internet     13272428685572730.000 < 0.0000000000000002 ***\n",
       "number_providers -15686709465854936.000 < 0.0000000000000002 ***\n",
       "mean_u_mbps       14273285216517612.000 < 0.0000000000000002 ***\n",
       "---\n",
       "Signif. codes:  0 ‘***’ 0.001 ‘**’ 0.01 ‘*’ 0.05 ‘.’ 0.1 ‘ ’ 1\n",
       "\n",
       "Residual standard error: 0.0000000000000002693 on 176 degrees of freedom\n",
       "Multiple R-squared:      1,\tAdjusted R-squared:      1 \n",
       "F-statistic: 1.104e+33 on 6 and 176 DF,  p-value: < 0.00000000000000022\n"
      ]
     },
     "metadata": {},
     "output_type": "display_data"
    }
   ],
   "source": [
    "model6 <- lm(\n",
    "    index ~ mean_lat_ms +\n",
    "        mean_d_mbps +\n",
    "        mean_lowest_cost +\n",
    "        with_internet +\n",
    "        number_providers +\n",
    "        mean_u_mbps,\n",
    "    index_data1.3\n",
    ")\n",
    "summary(model6)"
   ]
  },
  {
   "cell_type": "code",
   "execution_count": 21,
   "metadata": {
    "vscode": {
     "languageId": "r"
    }
   },
   "outputs": [
    {
     "data": {
      "text/html": [
       "<dl>\n",
       "\t<dt>$mean_lat_ms</dt>\n",
       "\t\t<dd>3.30144362266646</dd>\n",
       "\t<dt>$mean_d_mbps</dt>\n",
       "\t\t<dd>3.68414950020179</dd>\n",
       "\t<dt>$mean_lowest_cost</dt>\n",
       "\t\t<dd>1.13364626740944</dd>\n",
       "\t<dt>$with_internet</dt>\n",
       "\t\t<dd>1.15689632517602</dd>\n",
       "\t<dt>$number_providers</dt>\n",
       "\t\t<dd>1.42165820991361</dd>\n",
       "</dl>\n"
      ],
      "text/latex": [
       "\\begin{description}\n",
       "\\item[\\$mean\\_lat\\_ms] 3.30144362266646\n",
       "\\item[\\$mean\\_d\\_mbps] 3.68414950020179\n",
       "\\item[\\$mean\\_lowest\\_cost] 1.13364626740944\n",
       "\\item[\\$with\\_internet] 1.15689632517602\n",
       "\\item[\\$number\\_providers] 1.42165820991361\n",
       "\\end{description}\n"
      ],
      "text/markdown": [
       "$mean_lat_ms\n",
       ":   3.30144362266646\n",
       "$mean_d_mbps\n",
       ":   3.68414950020179\n",
       "$mean_lowest_cost\n",
       ":   1.13364626740944\n",
       "$with_internet\n",
       ":   1.15689632517602\n",
       "$number_providers\n",
       ":   1.42165820991361\n",
       "\n",
       "\n"
      ],
      "text/plain": [
       "$mean_lat_ms\n",
       "[1] 3.301444\n",
       "\n",
       "$mean_d_mbps\n",
       "[1] 3.68415\n",
       "\n",
       "$mean_lowest_cost\n",
       "[1] 1.133646\n",
       "\n",
       "$with_internet\n",
       "[1] 1.156896\n",
       "\n",
       "$number_providers\n",
       "[1] 1.421658\n"
      ]
     },
     "metadata": {},
     "output_type": "display_data"
    }
   ],
   "source": [
    "as.list(vif(model5))"
   ]
  }
 ],
 "metadata": {
  "kernelspec": {
   "display_name": "R",
   "language": "R",
   "name": "ir"
  },
  "language_info": {
   "codemirror_mode": "r",
   "file_extension": ".r",
   "mimetype": "text/x-r-source",
   "name": "R",
   "pygments_lexer": "r",
   "version": "4.3.0"
  },
  "orig_nbformat": 4
 },
 "nbformat": 4,
 "nbformat_minor": 2
}
