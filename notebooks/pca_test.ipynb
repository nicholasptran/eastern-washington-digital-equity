{
 "cells": [
  {
   "cell_type": "code",
   "execution_count": 22,
   "metadata": {
    "vscode": {
     "languageId": "r"
    }
   },
   "outputs": [],
   "source": [
    "library(tidyverse, quietly = TRUE)\n",
    "library(psych, quietly = TRUE)\n",
    "library(Hmisc, quietly = TRUE)\n",
    "library(car)"
   ]
  },
  {
   "cell_type": "code",
   "execution_count": 2,
   "metadata": {
    "vscode": {
     "languageId": "r"
    }
   },
   "outputs": [
    {
     "data": {
      "text/html": [
       "<table class=\"dataframe\">\n",
       "<caption>A data.frame: 1 × 11</caption>\n",
       "<thead>\n",
       "\t<tr><th></th><th scope=col>NAME</th><th scope=col>GEOID</th><th scope=col>with_internet</th><th scope=col>work_from_home</th><th scope=col>sixtyfive_and_older</th><th scope=col>median_income</th><th scope=col>number_providers</th><th scope=col>mean_lowest_cost</th><th scope=col>mean_d_mbps</th><th scope=col>mean_u_mbps</th><th scope=col>mean_lat_ms</th></tr>\n",
       "\t<tr><th></th><th scope=col>&lt;chr&gt;</th><th scope=col>&lt;dbl&gt;</th><th scope=col>&lt;int&gt;</th><th scope=col>&lt;int&gt;</th><th scope=col>&lt;int&gt;</th><th scope=col>&lt;int&gt;</th><th scope=col>&lt;dbl&gt;</th><th scope=col>&lt;dbl&gt;</th><th scope=col>&lt;dbl&gt;</th><th scope=col>&lt;dbl&gt;</th><th scope=col>&lt;dbl&gt;</th></tr>\n",
       "</thead>\n",
       "<tbody>\n",
       "\t<tr><th scope=row>1</th><td>Census Tract 9601, Asotin County, Washington</td><td>53003960100</td><td>1569</td><td>145</td><td>1337</td><td>73942</td><td>12</td><td>58</td><td>110.3274</td><td>41.7821</td><td>51.70445</td></tr>\n",
       "</tbody>\n",
       "</table>\n"
      ],
      "text/latex": [
       "A data.frame: 1 × 11\n",
       "\\begin{tabular}{r|lllllllllll}\n",
       "  & NAME & GEOID & with\\_internet & work\\_from\\_home & sixtyfive\\_and\\_older & median\\_income & number\\_providers & mean\\_lowest\\_cost & mean\\_d\\_mbps & mean\\_u\\_mbps & mean\\_lat\\_ms\\\\\n",
       "  & <chr> & <dbl> & <int> & <int> & <int> & <int> & <dbl> & <dbl> & <dbl> & <dbl> & <dbl>\\\\\n",
       "\\hline\n",
       "\t1 & Census Tract 9601, Asotin County, Washington & 53003960100 & 1569 & 145 & 1337 & 73942 & 12 & 58 & 110.3274 & 41.7821 & 51.70445\\\\\n",
       "\\end{tabular}\n"
      ],
      "text/markdown": [
       "\n",
       "A data.frame: 1 × 11\n",
       "\n",
       "| <!--/--> | NAME &lt;chr&gt; | GEOID &lt;dbl&gt; | with_internet &lt;int&gt; | work_from_home &lt;int&gt; | sixtyfive_and_older &lt;int&gt; | median_income &lt;int&gt; | number_providers &lt;dbl&gt; | mean_lowest_cost &lt;dbl&gt; | mean_d_mbps &lt;dbl&gt; | mean_u_mbps &lt;dbl&gt; | mean_lat_ms &lt;dbl&gt; |\n",
       "|---|---|---|---|---|---|---|---|---|---|---|---|\n",
       "| 1 | Census Tract 9601, Asotin County, Washington | 53003960100 | 1569 | 145 | 1337 | 73942 | 12 | 58 | 110.3274 | 41.7821 | 51.70445 |\n",
       "\n"
      ],
      "text/plain": [
       "  NAME                                         GEOID       with_internet\n",
       "1 Census Tract 9601, Asotin County, Washington 53003960100 1569         \n",
       "  work_from_home sixtyfive_and_older median_income number_providers\n",
       "1 145            1337                73942         12              \n",
       "  mean_lowest_cost mean_d_mbps mean_u_mbps mean_lat_ms\n",
       "1 58               110.3274    41.7821     51.70445   "
      ]
     },
     "metadata": {},
     "output_type": "display_data"
    }
   ],
   "source": [
    "data <- read.csv(\"../data/combined_data.csv\")\n",
    "head(data, 1)"
   ]
  },
  {
   "cell_type": "code",
   "execution_count": 3,
   "metadata": {
    "vscode": {
     "languageId": "r"
    }
   },
   "outputs": [
    {
     "data": {
      "text/html": [
       "<table class=\"dataframe\">\n",
       "<caption>A data.frame: 6 × 8</caption>\n",
       "<thead>\n",
       "\t<tr><th></th><th scope=col>with_internet</th><th scope=col>work_from_home</th><th scope=col>sixtyfive_and_older</th><th scope=col>median_income</th><th scope=col>number_providers</th><th scope=col>mean_lowest_cost</th><th scope=col>mean_d_mbps</th><th scope=col>mean_lat_ms</th></tr>\n",
       "\t<tr><th></th><th scope=col>&lt;int&gt;</th><th scope=col>&lt;int&gt;</th><th scope=col>&lt;int&gt;</th><th scope=col>&lt;int&gt;</th><th scope=col>&lt;dbl&gt;</th><th scope=col>&lt;dbl&gt;</th><th scope=col>&lt;dbl&gt;</th><th scope=col>&lt;dbl&gt;</th></tr>\n",
       "</thead>\n",
       "<tbody>\n",
       "\t<tr><th scope=row>1</th><td>1569</td><td>145</td><td>1337</td><td>73942</td><td>12</td><td>58.00000</td><td>110.3274</td><td>51.70445</td></tr>\n",
       "\t<tr><th scope=row>2</th><td>1780</td><td>421</td><td>1352</td><td>72988</td><td>13</td><td>60.07692</td><td>145.7848</td><td>24.62630</td></tr>\n",
       "\t<tr><th scope=row>3</th><td>1156</td><td>  6</td><td> 396</td><td>38077</td><td>11</td><td>60.00000</td><td>173.4079</td><td>29.98058</td></tr>\n",
       "\t<tr><th scope=row>4</th><td> 805</td><td> 29</td><td> 647</td><td>38777</td><td> 8</td><td>62.50000</td><td>127.6005</td><td>22.16379</td></tr>\n",
       "\t<tr><th scope=row>5</th><td>1198</td><td> 26</td><td> 635</td><td>42639</td><td> 8</td><td>62.50000</td><td>192.4299</td><td>21.66087</td></tr>\n",
       "\t<tr><th scope=row>6</th><td>1392</td><td>115</td><td> 909</td><td>53947</td><td> 9</td><td>58.88889</td><td>151.0552</td><td>26.18557</td></tr>\n",
       "</tbody>\n",
       "</table>\n"
      ],
      "text/latex": [
       "A data.frame: 6 × 8\n",
       "\\begin{tabular}{r|llllllll}\n",
       "  & with\\_internet & work\\_from\\_home & sixtyfive\\_and\\_older & median\\_income & number\\_providers & mean\\_lowest\\_cost & mean\\_d\\_mbps & mean\\_lat\\_ms\\\\\n",
       "  & <int> & <int> & <int> & <int> & <dbl> & <dbl> & <dbl> & <dbl>\\\\\n",
       "\\hline\n",
       "\t1 & 1569 & 145 & 1337 & 73942 & 12 & 58.00000 & 110.3274 & 51.70445\\\\\n",
       "\t2 & 1780 & 421 & 1352 & 72988 & 13 & 60.07692 & 145.7848 & 24.62630\\\\\n",
       "\t3 & 1156 &   6 &  396 & 38077 & 11 & 60.00000 & 173.4079 & 29.98058\\\\\n",
       "\t4 &  805 &  29 &  647 & 38777 &  8 & 62.50000 & 127.6005 & 22.16379\\\\\n",
       "\t5 & 1198 &  26 &  635 & 42639 &  8 & 62.50000 & 192.4299 & 21.66087\\\\\n",
       "\t6 & 1392 & 115 &  909 & 53947 &  9 & 58.88889 & 151.0552 & 26.18557\\\\\n",
       "\\end{tabular}\n"
      ],
      "text/markdown": [
       "\n",
       "A data.frame: 6 × 8\n",
       "\n",
       "| <!--/--> | with_internet &lt;int&gt; | work_from_home &lt;int&gt; | sixtyfive_and_older &lt;int&gt; | median_income &lt;int&gt; | number_providers &lt;dbl&gt; | mean_lowest_cost &lt;dbl&gt; | mean_d_mbps &lt;dbl&gt; | mean_lat_ms &lt;dbl&gt; |\n",
       "|---|---|---|---|---|---|---|---|---|\n",
       "| 1 | 1569 | 145 | 1337 | 73942 | 12 | 58.00000 | 110.3274 | 51.70445 |\n",
       "| 2 | 1780 | 421 | 1352 | 72988 | 13 | 60.07692 | 145.7848 | 24.62630 |\n",
       "| 3 | 1156 |   6 |  396 | 38077 | 11 | 60.00000 | 173.4079 | 29.98058 |\n",
       "| 4 |  805 |  29 |  647 | 38777 |  8 | 62.50000 | 127.6005 | 22.16379 |\n",
       "| 5 | 1198 |  26 |  635 | 42639 |  8 | 62.50000 | 192.4299 | 21.66087 |\n",
       "| 6 | 1392 | 115 |  909 | 53947 |  9 | 58.88889 | 151.0552 | 26.18557 |\n",
       "\n"
      ],
      "text/plain": [
       "  with_internet work_from_home sixtyfive_and_older median_income\n",
       "1 1569          145            1337                73942        \n",
       "2 1780          421            1352                72988        \n",
       "3 1156            6             396                38077        \n",
       "4  805           29             647                38777        \n",
       "5 1198           26             635                42639        \n",
       "6 1392          115             909                53947        \n",
       "  number_providers mean_lowest_cost mean_d_mbps mean_lat_ms\n",
       "1 12               58.00000         110.3274    51.70445   \n",
       "2 13               60.07692         145.7848    24.62630   \n",
       "3 11               60.00000         173.4079    29.98058   \n",
       "4  8               62.50000         127.6005    22.16379   \n",
       "5  8               62.50000         192.4299    21.66087   \n",
       "6  9               58.88889         151.0552    26.18557   "
      ]
     },
     "metadata": {},
     "output_type": "display_data"
    }
   ],
   "source": [
    "data <- data %>% dplyr::select(-NAME, -GEOID, -mean_u_mbps)\n",
    "scaled_data <- scale(data)\n",
    "head(data)"
   ]
  },
  {
   "cell_type": "code",
   "execution_count": 4,
   "metadata": {
    "vscode": {
     "languageId": "r"
    }
   },
   "outputs": [
    {
     "data": {
      "text/plain": [
       "Kaiser-Meyer-Olkin factor adequacy\n",
       "Call: KMO(r = data)\n",
       "Overall MSA =  0.64\n",
       "MSA for each item = \n",
       "      with_internet      work_from_home sixtyfive_and_older       median_income \n",
       "               0.59                0.76                0.59                0.64 \n",
       "   number_providers    mean_lowest_cost         mean_d_mbps         mean_lat_ms \n",
       "               0.81                0.69                0.60                0.63 "
      ]
     },
     "metadata": {},
     "output_type": "display_data"
    }
   ],
   "source": [
    "KMO(data)"
   ]
  },
  {
   "cell_type": "code",
   "execution_count": 5,
   "metadata": {
    "vscode": {
     "languageId": "r"
    }
   },
   "outputs": [
    {
     "data": {
      "text/html": [
       "<table class=\"dataframe\">\n",
       "<caption>A data.frame: 6 × 9</caption>\n",
       "<thead>\n",
       "\t<tr><th></th><th scope=col>with_internet</th><th scope=col>work_from_home</th><th scope=col>sixtyfive_and_older</th><th scope=col>median_income</th><th scope=col>number_providers</th><th scope=col>mean_lowest_cost</th><th scope=col>mean_d_mbps</th><th scope=col>mean_lat_ms</th><th scope=col>index</th></tr>\n",
       "\t<tr><th></th><th scope=col>&lt;dbl&gt;</th><th scope=col>&lt;dbl&gt;</th><th scope=col>&lt;dbl&gt;</th><th scope=col>&lt;dbl&gt;</th><th scope=col>&lt;dbl&gt;</th><th scope=col>&lt;dbl&gt;</th><th scope=col>&lt;dbl&gt;</th><th scope=col>&lt;dbl&gt;</th><th scope=col>&lt;dbl&gt;</th></tr>\n",
       "</thead>\n",
       "<tbody>\n",
       "\t<tr><th scope=row>1</th><td> 0.5167430</td><td> 0.1292741</td><td> 2.23493253</td><td>0.07418486</td><td> 1.7094218</td><td>-0.18458632</td><td>-1.05913969</td><td> 1.17991288</td><td>-1.42192033</td></tr>\n",
       "\t<tr><th scope=row>2</th><td> 0.9194434</td><td> 2.9303783</td><td> 2.28240921</td><td>0.07416551</td><td> 2.2108891</td><td> 0.41923513</td><td>-0.64056563</td><td>-0.15416598</td><td> 0.02864058</td></tr>\n",
       "\t<tr><th scope=row>3</th><td>-0.2714809</td><td>-1.2814270</td><td>-0.74343819</td><td>0.07345717</td><td> 1.2079545</td><td> 0.39687137</td><td>-0.31447576</td><td> 0.10962741</td><td>-1.02857117</td></tr>\n",
       "\t<tr><th scope=row>4</th><td>-0.9413759</td><td>-1.0480017</td><td> 0.05100501</td><td>0.07347137</td><td>-0.2964475</td><td> 1.12369349</td><td>-0.85523159</td><td>-0.27548794</td><td>-0.40670926</td></tr>\n",
       "\t<tr><th scope=row>5</th><td>-0.1913226</td><td>-1.0784484</td><td> 0.01302366</td><td>0.07354973</td><td>-0.2964475</td><td> 1.12369349</td><td>-0.08992031</td><td>-0.30026584</td><td> 0.29898986</td></tr>\n",
       "\t<tr><th scope=row>6</th><td> 0.1789328</td><td>-0.1751938</td><td> 0.88026444</td><td>0.07377917</td><td> 0.2050198</td><td> 0.07383932</td><td>-0.57834859</td><td>-0.07734433</td><td>-0.17626727</td></tr>\n",
       "</tbody>\n",
       "</table>\n"
      ],
      "text/latex": [
       "A data.frame: 6 × 9\n",
       "\\begin{tabular}{r|lllllllll}\n",
       "  & with\\_internet & work\\_from\\_home & sixtyfive\\_and\\_older & median\\_income & number\\_providers & mean\\_lowest\\_cost & mean\\_d\\_mbps & mean\\_lat\\_ms & index\\\\\n",
       "  & <dbl> & <dbl> & <dbl> & <dbl> & <dbl> & <dbl> & <dbl> & <dbl> & <dbl>\\\\\n",
       "\\hline\n",
       "\t1 &  0.5167430 &  0.1292741 &  2.23493253 & 0.07418486 &  1.7094218 & -0.18458632 & -1.05913969 &  1.17991288 & -1.42192033\\\\\n",
       "\t2 &  0.9194434 &  2.9303783 &  2.28240921 & 0.07416551 &  2.2108891 &  0.41923513 & -0.64056563 & -0.15416598 &  0.02864058\\\\\n",
       "\t3 & -0.2714809 & -1.2814270 & -0.74343819 & 0.07345717 &  1.2079545 &  0.39687137 & -0.31447576 &  0.10962741 & -1.02857117\\\\\n",
       "\t4 & -0.9413759 & -1.0480017 &  0.05100501 & 0.07347137 & -0.2964475 &  1.12369349 & -0.85523159 & -0.27548794 & -0.40670926\\\\\n",
       "\t5 & -0.1913226 & -1.0784484 &  0.01302366 & 0.07354973 & -0.2964475 &  1.12369349 & -0.08992031 & -0.30026584 &  0.29898986\\\\\n",
       "\t6 &  0.1789328 & -0.1751938 &  0.88026444 & 0.07377917 &  0.2050198 &  0.07383932 & -0.57834859 & -0.07734433 & -0.17626727\\\\\n",
       "\\end{tabular}\n"
      ],
      "text/markdown": [
       "\n",
       "A data.frame: 6 × 9\n",
       "\n",
       "| <!--/--> | with_internet &lt;dbl&gt; | work_from_home &lt;dbl&gt; | sixtyfive_and_older &lt;dbl&gt; | median_income &lt;dbl&gt; | number_providers &lt;dbl&gt; | mean_lowest_cost &lt;dbl&gt; | mean_d_mbps &lt;dbl&gt; | mean_lat_ms &lt;dbl&gt; | index &lt;dbl&gt; |\n",
       "|---|---|---|---|---|---|---|---|---|---|\n",
       "| 1 |  0.5167430 |  0.1292741 |  2.23493253 | 0.07418486 |  1.7094218 | -0.18458632 | -1.05913969 |  1.17991288 | -1.42192033 |\n",
       "| 2 |  0.9194434 |  2.9303783 |  2.28240921 | 0.07416551 |  2.2108891 |  0.41923513 | -0.64056563 | -0.15416598 |  0.02864058 |\n",
       "| 3 | -0.2714809 | -1.2814270 | -0.74343819 | 0.07345717 |  1.2079545 |  0.39687137 | -0.31447576 |  0.10962741 | -1.02857117 |\n",
       "| 4 | -0.9413759 | -1.0480017 |  0.05100501 | 0.07347137 | -0.2964475 |  1.12369349 | -0.85523159 | -0.27548794 | -0.40670926 |\n",
       "| 5 | -0.1913226 | -1.0784484 |  0.01302366 | 0.07354973 | -0.2964475 |  1.12369349 | -0.08992031 | -0.30026584 |  0.29898986 |\n",
       "| 6 |  0.1789328 | -0.1751938 |  0.88026444 | 0.07377917 |  0.2050198 |  0.07383932 | -0.57834859 | -0.07734433 | -0.17626727 |\n",
       "\n"
      ],
      "text/plain": [
       "  with_internet work_from_home sixtyfive_and_older median_income\n",
       "1  0.5167430     0.1292741      2.23493253         0.07418486   \n",
       "2  0.9194434     2.9303783      2.28240921         0.07416551   \n",
       "3 -0.2714809    -1.2814270     -0.74343819         0.07345717   \n",
       "4 -0.9413759    -1.0480017      0.05100501         0.07347137   \n",
       "5 -0.1913226    -1.0784484      0.01302366         0.07354973   \n",
       "6  0.1789328    -0.1751938      0.88026444         0.07377917   \n",
       "  number_providers mean_lowest_cost mean_d_mbps mean_lat_ms index      \n",
       "1  1.7094218       -0.18458632      -1.05913969  1.17991288 -1.42192033\n",
       "2  2.2108891        0.41923513      -0.64056563 -0.15416598  0.02864058\n",
       "3  1.2079545        0.39687137      -0.31447576  0.10962741 -1.02857117\n",
       "4 -0.2964475        1.12369349      -0.85523159 -0.27548794 -0.40670926\n",
       "5 -0.2964475        1.12369349      -0.08992031 -0.30026584  0.29898986\n",
       "6  0.2050198        0.07383932      -0.57834859 -0.07734433 -0.17626727"
      ]
     },
     "metadata": {},
     "output_type": "display_data"
    }
   ],
   "source": [
    "pca_data <- prcomp(data, scale = TRUE, center = TRUE)\n",
    "\n",
    "# disable scientific notation\n",
    "options(scipen = 999)\n",
    "eigenvectors <- -pca_data$rotation\n",
    "eigenvalues <- pca_data$sdev^2\n",
    "\n",
    "index_col <- as.data.frame(-pca_data$x) %>%\n",
    "    dplyr::select(PC1) %>%\n",
    "    rename(index = PC1)\n",
    "\n",
    "index_data <- bind_cols(scaled_data, index_col)\n",
    "head(index_data)"
   ]
  },
  {
   "cell_type": "code",
   "execution_count": 6,
   "metadata": {
    "vscode": {
     "languageId": "r"
    }
   },
   "outputs": [
    {
     "data": {
      "text/html": [
       "<dl>\n",
       "\t<dt>$with_internet</dt>\n",
       "\t\t<dd>0</dd>\n",
       "\t<dt>$work_from_home</dt>\n",
       "\t\t<dd>0.00126193079847048</dd>\n",
       "\t<dt>$sixtyfive_and_older</dt>\n",
       "\t\t<dd>0.00226241188219989</dd>\n",
       "\t<dt>$median_income</dt>\n",
       "\t\t<dd>0.918350528428636</dd>\n",
       "\t<dt>$number_providers</dt>\n",
       "\t\t<dd>0</dd>\n",
       "\t<dt>$mean_lowest_cost</dt>\n",
       "\t\t<dd>0.00000000265774868779545</dd>\n",
       "\t<dt>$mean_d_mbps</dt>\n",
       "\t\t<dd>0</dd>\n",
       "\t<dt>$mean_lat_ms</dt>\n",
       "\t\t<dd>0</dd>\n",
       "\t<dt>$index</dt>\n",
       "\t\t<dd>&lt;NA&gt;</dd>\n",
       "</dl>\n"
      ],
      "text/latex": [
       "\\begin{description}\n",
       "\\item[\\$with\\_internet] 0\n",
       "\\item[\\$work\\_from\\_home] 0.00126193079847048\n",
       "\\item[\\$sixtyfive\\_and\\_older] 0.00226241188219989\n",
       "\\item[\\$median\\_income] 0.918350528428636\n",
       "\\item[\\$number\\_providers] 0\n",
       "\\item[\\$mean\\_lowest\\_cost] 0.00000000265774868779545\n",
       "\\item[\\$mean\\_d\\_mbps] 0\n",
       "\\item[\\$mean\\_lat\\_ms] 0\n",
       "\\item[\\$index] <NA>\n",
       "\\end{description}\n"
      ],
      "text/markdown": [
       "$with_internet\n",
       ":   0\n",
       "$work_from_home\n",
       ":   0.00126193079847048\n",
       "$sixtyfive_and_older\n",
       ":   0.00226241188219989\n",
       "$median_income\n",
       ":   0.918350528428636\n",
       "$number_providers\n",
       ":   0\n",
       "$mean_lowest_cost\n",
       ":   0.00000000265774868779545\n",
       "$mean_d_mbps\n",
       ":   0\n",
       "$mean_lat_ms\n",
       ":   0\n",
       "$index\n",
       ":   &lt;NA&gt;\n",
       "\n",
       "\n"
      ],
      "text/plain": [
       "$with_internet\n",
       "[1] 0\n",
       "\n",
       "$work_from_home\n",
       "[1] 0.001261931\n",
       "\n",
       "$sixtyfive_and_older\n",
       "[1] 0.002262412\n",
       "\n",
       "$median_income\n",
       "[1] 0.9183505\n",
       "\n",
       "$number_providers\n",
       "[1] 0\n",
       "\n",
       "$mean_lowest_cost\n",
       "[1] 0.000000002657749\n",
       "\n",
       "$mean_d_mbps\n",
       "[1] 0\n",
       "\n",
       "$mean_lat_ms\n",
       "[1] 0\n",
       "\n",
       "$index\n",
       "[1] NA\n"
      ]
     },
     "metadata": {},
     "output_type": "display_data"
    }
   ],
   "source": [
    "as.list(rcorr(as.matrix(index_data), type = \"pearson\")$P[, ncol(index_data)])"
   ]
  },
  {
   "cell_type": "code",
   "execution_count": 7,
   "metadata": {
    "vscode": {
     "languageId": "r"
    }
   },
   "outputs": [
    {
     "data": {
      "text/html": [
       "<table class=\"dataframe\">\n",
       "<caption>A matrix: 9 × 9 of type dbl</caption>\n",
       "<thead>\n",
       "\t<tr><th></th><th scope=col>with_internet</th><th scope=col>work_from_home</th><th scope=col>sixtyfive_and_older</th><th scope=col>median_income</th><th scope=col>number_providers</th><th scope=col>mean_lowest_cost</th><th scope=col>mean_d_mbps</th><th scope=col>mean_lat_ms</th><th scope=col>index</th></tr>\n",
       "</thead>\n",
       "<tbody>\n",
       "\t<tr><th scope=row>with_internet</th><td>                NA</td><td>0.0000000002997904</td><td>0.00000000000000</td><td>0.03006990</td><td>0.082203264746717686</td><td>0.065587150157389</td><td>0.000001719724394889</td><td>0.0012541075067722</td><td>0.000000000000000</td></tr>\n",
       "\t<tr><th scope=row>work_from_home</th><td>0.0000000002997904</td><td>                NA</td><td>0.00000004534735</td><td>0.62244972</td><td>0.692796119793771537</td><td>0.933508191298156</td><td>0.672635578892659680</td><td>0.9085912323262457</td><td>0.001261930798470</td></tr>\n",
       "\t<tr><th scope=row>sixtyfive_and_older</th><td>0.0000000000000000</td><td>0.0000000453473543</td><td>              NA</td><td>0.04477147</td><td>0.476702946467304045</td><td>0.497188268940468</td><td>0.569411922064836595</td><td>0.1693793288053422</td><td>0.002262411882200</td></tr>\n",
       "\t<tr><th scope=row>median_income</th><td>0.0300698982044132</td><td>0.6224497181702566</td><td>0.04477147246482</td><td>        NA</td><td>0.767570871280282230</td><td>0.469668921787601</td><td>0.521089097196837159</td><td>0.4313383103711321</td><td>0.918350528428636</td></tr>\n",
       "\t<tr><th scope=row>number_providers</th><td>0.0822032647467177</td><td>0.6927961197937715</td><td>0.47670294646730</td><td>0.76757087</td><td>                  NA</td><td>0.000005261422731</td><td>0.000000000006029399</td><td>0.0000000002296336</td><td>0.000000000000000</td></tr>\n",
       "\t<tr><th scope=row>mean_lowest_cost</th><td>0.0655871501573890</td><td>0.9335081912981564</td><td>0.49718826894047</td><td>0.46966892</td><td>0.000005261422731273</td><td>               NA</td><td>0.007630242115620689</td><td>0.0141555670114635</td><td>0.000000002657749</td></tr>\n",
       "\t<tr><th scope=row>mean_d_mbps</th><td>0.0000017197243949</td><td>0.6726355788926597</td><td>0.56941192206484</td><td>0.52108910</td><td>0.000000000006029399</td><td>0.007630242115621</td><td>                  NA</td><td>0.0000000000000000</td><td>0.000000000000000</td></tr>\n",
       "\t<tr><th scope=row>mean_lat_ms</th><td>0.0012541075067722</td><td>0.9085912323262457</td><td>0.16937932880534</td><td>0.43133831</td><td>0.000000000229633645</td><td>0.014155567011463</td><td>0.000000000000000000</td><td>                NA</td><td>0.000000000000000</td></tr>\n",
       "\t<tr><th scope=row>index</th><td>0.0000000000000000</td><td>0.0012619307984705</td><td>0.00226241188220</td><td>0.91835053</td><td>0.000000000000000000</td><td>0.000000002657749</td><td>0.000000000000000000</td><td>0.0000000000000000</td><td>               NA</td></tr>\n",
       "</tbody>\n",
       "</table>\n"
      ],
      "text/latex": [
       "A matrix: 9 × 9 of type dbl\n",
       "\\begin{tabular}{r|lllllllll}\n",
       "  & with\\_internet & work\\_from\\_home & sixtyfive\\_and\\_older & median\\_income & number\\_providers & mean\\_lowest\\_cost & mean\\_d\\_mbps & mean\\_lat\\_ms & index\\\\\n",
       "\\hline\n",
       "\twith\\_internet &                 NA & 0.0000000002997904 & 0.00000000000000 & 0.03006990 & 0.082203264746717686 & 0.065587150157389 & 0.000001719724394889 & 0.0012541075067722 & 0.000000000000000\\\\\n",
       "\twork\\_from\\_home & 0.0000000002997904 &                 NA & 0.00000004534735 & 0.62244972 & 0.692796119793771537 & 0.933508191298156 & 0.672635578892659680 & 0.9085912323262457 & 0.001261930798470\\\\\n",
       "\tsixtyfive\\_and\\_older & 0.0000000000000000 & 0.0000000453473543 &               NA & 0.04477147 & 0.476702946467304045 & 0.497188268940468 & 0.569411922064836595 & 0.1693793288053422 & 0.002262411882200\\\\\n",
       "\tmedian\\_income & 0.0300698982044132 & 0.6224497181702566 & 0.04477147246482 &         NA & 0.767570871280282230 & 0.469668921787601 & 0.521089097196837159 & 0.4313383103711321 & 0.918350528428636\\\\\n",
       "\tnumber\\_providers & 0.0822032647467177 & 0.6927961197937715 & 0.47670294646730 & 0.76757087 &                   NA & 0.000005261422731 & 0.000000000006029399 & 0.0000000002296336 & 0.000000000000000\\\\\n",
       "\tmean\\_lowest\\_cost & 0.0655871501573890 & 0.9335081912981564 & 0.49718826894047 & 0.46966892 & 0.000005261422731273 &                NA & 0.007630242115620689 & 0.0141555670114635 & 0.000000002657749\\\\\n",
       "\tmean\\_d\\_mbps & 0.0000017197243949 & 0.6726355788926597 & 0.56941192206484 & 0.52108910 & 0.000000000006029399 & 0.007630242115621 &                   NA & 0.0000000000000000 & 0.000000000000000\\\\\n",
       "\tmean\\_lat\\_ms & 0.0012541075067722 & 0.9085912323262457 & 0.16937932880534 & 0.43133831 & 0.000000000229633645 & 0.014155567011463 & 0.000000000000000000 &                 NA & 0.000000000000000\\\\\n",
       "\tindex & 0.0000000000000000 & 0.0012619307984705 & 0.00226241188220 & 0.91835053 & 0.000000000000000000 & 0.000000002657749 & 0.000000000000000000 & 0.0000000000000000 &                NA\\\\\n",
       "\\end{tabular}\n"
      ],
      "text/markdown": [
       "\n",
       "A matrix: 9 × 9 of type dbl\n",
       "\n",
       "| <!--/--> | with_internet | work_from_home | sixtyfive_and_older | median_income | number_providers | mean_lowest_cost | mean_d_mbps | mean_lat_ms | index |\n",
       "|---|---|---|---|---|---|---|---|---|---|\n",
       "| with_internet |                 NA | 0.0000000002997904 | 0.00000000000000 | 0.03006990 | 0.082203264746717686 | 0.065587150157389 | 0.000001719724394889 | 0.0012541075067722 | 0.000000000000000 |\n",
       "| work_from_home | 0.0000000002997904 |                 NA | 0.00000004534735 | 0.62244972 | 0.692796119793771537 | 0.933508191298156 | 0.672635578892659680 | 0.9085912323262457 | 0.001261930798470 |\n",
       "| sixtyfive_and_older | 0.0000000000000000 | 0.0000000453473543 |               NA | 0.04477147 | 0.476702946467304045 | 0.497188268940468 | 0.569411922064836595 | 0.1693793288053422 | 0.002262411882200 |\n",
       "| median_income | 0.0300698982044132 | 0.6224497181702566 | 0.04477147246482 |         NA | 0.767570871280282230 | 0.469668921787601 | 0.521089097196837159 | 0.4313383103711321 | 0.918350528428636 |\n",
       "| number_providers | 0.0822032647467177 | 0.6927961197937715 | 0.47670294646730 | 0.76757087 |                   NA | 0.000005261422731 | 0.000000000006029399 | 0.0000000002296336 | 0.000000000000000 |\n",
       "| mean_lowest_cost | 0.0655871501573890 | 0.9335081912981564 | 0.49718826894047 | 0.46966892 | 0.000005261422731273 |                NA | 0.007630242115620689 | 0.0141555670114635 | 0.000000002657749 |\n",
       "| mean_d_mbps | 0.0000017197243949 | 0.6726355788926597 | 0.56941192206484 | 0.52108910 | 0.000000000006029399 | 0.007630242115621 |                   NA | 0.0000000000000000 | 0.000000000000000 |\n",
       "| mean_lat_ms | 0.0012541075067722 | 0.9085912323262457 | 0.16937932880534 | 0.43133831 | 0.000000000229633645 | 0.014155567011463 | 0.000000000000000000 |                 NA | 0.000000000000000 |\n",
       "| index | 0.0000000000000000 | 0.0012619307984705 | 0.00226241188220 | 0.91835053 | 0.000000000000000000 | 0.000000002657749 | 0.000000000000000000 | 0.0000000000000000 |                NA |\n",
       "\n"
      ],
      "text/plain": [
       "                    with_internet      work_from_home     sixtyfive_and_older\n",
       "with_internet                       NA 0.0000000002997904 0.00000000000000   \n",
       "work_from_home      0.0000000002997904                 NA 0.00000004534735   \n",
       "sixtyfive_and_older 0.0000000000000000 0.0000000453473543               NA   \n",
       "median_income       0.0300698982044132 0.6224497181702566 0.04477147246482   \n",
       "number_providers    0.0822032647467177 0.6927961197937715 0.47670294646730   \n",
       "mean_lowest_cost    0.0655871501573890 0.9335081912981564 0.49718826894047   \n",
       "mean_d_mbps         0.0000017197243949 0.6726355788926597 0.56941192206484   \n",
       "mean_lat_ms         0.0012541075067722 0.9085912323262457 0.16937932880534   \n",
       "index               0.0000000000000000 0.0012619307984705 0.00226241188220   \n",
       "                    median_income number_providers     mean_lowest_cost \n",
       "with_internet       0.03006990    0.082203264746717686 0.065587150157389\n",
       "work_from_home      0.62244972    0.692796119793771537 0.933508191298156\n",
       "sixtyfive_and_older 0.04477147    0.476702946467304045 0.497188268940468\n",
       "median_income               NA    0.767570871280282230 0.469668921787601\n",
       "number_providers    0.76757087                      NA 0.000005261422731\n",
       "mean_lowest_cost    0.46966892    0.000005261422731273                NA\n",
       "mean_d_mbps         0.52108910    0.000000000006029399 0.007630242115621\n",
       "mean_lat_ms         0.43133831    0.000000000229633645 0.014155567011463\n",
       "index               0.91835053    0.000000000000000000 0.000000002657749\n",
       "                    mean_d_mbps          mean_lat_ms        index            \n",
       "with_internet       0.000001719724394889 0.0012541075067722 0.000000000000000\n",
       "work_from_home      0.672635578892659680 0.9085912323262457 0.001261930798470\n",
       "sixtyfive_and_older 0.569411922064836595 0.1693793288053422 0.002262411882200\n",
       "median_income       0.521089097196837159 0.4313383103711321 0.918350528428636\n",
       "number_providers    0.000000000006029399 0.0000000002296336 0.000000000000000\n",
       "mean_lowest_cost    0.007630242115620689 0.0141555670114635 0.000000002657749\n",
       "mean_d_mbps                           NA 0.0000000000000000 0.000000000000000\n",
       "mean_lat_ms         0.000000000000000000                 NA 0.000000000000000\n",
       "index               0.000000000000000000 0.0000000000000000                NA"
      ]
     },
     "metadata": {},
     "output_type": "display_data"
    }
   ],
   "source": [
    "as.list(rcorr(as.matrix(index_data), type = \"pearson\"))$P"
   ]
  },
  {
   "cell_type": "code",
   "execution_count": 8,
   "metadata": {
    "vscode": {
     "languageId": "r"
    }
   },
   "outputs": [],
   "source": [
    "data1.2 <- data %>% dplyr::select(-median_income)\n",
    "scaled_data1.2 <- scale(data1.2)\n",
    "\n",
    "pca_data1.2 <- prcomp(data1.2, scale = TRUE, center = TRUE)\n",
    "eigenvectors1.2 <- -pca_data1.2$rotation\n",
    "eigenvalues1.2 <- pca_data1.2$sdev^2\n",
    "\n",
    "index_col1.2 <- as.data.frame(-pca_data1.2$x) %>%\n",
    "    dplyr::select(PC1) %>%\n",
    "    rename(index = PC1)\n",
    "\n",
    "index_data1.2 <- bind_cols(scaled_data1.2, index_col1.2)"
   ]
  },
  {
   "cell_type": "code",
   "execution_count": 9,
   "metadata": {
    "vscode": {
     "languageId": "r"
    }
   },
   "outputs": [
    {
     "name": "stderr",
     "output_type": "stream",
     "text": [
      "Warning message in log(vr):\n",
      "“NaNs produced”\n"
     ]
    },
    {
     "data": {
      "text/plain": [
       "Subset selection object\n",
       "Call: regsubsets.formula(index ~ ., index_data1.2)\n",
       "7 Variables  (and intercept)\n",
       "                    Forced in Forced out\n",
       "with_internet           FALSE      FALSE\n",
       "work_from_home          FALSE      FALSE\n",
       "sixtyfive_and_older     FALSE      FALSE\n",
       "number_providers        FALSE      FALSE\n",
       "mean_lowest_cost        FALSE      FALSE\n",
       "mean_d_mbps             FALSE      FALSE\n",
       "mean_lat_ms             FALSE      FALSE\n",
       "1 subsets of each size up to 7\n",
       "Selection Algorithm: exhaustive\n",
       "         with_internet work_from_home sixtyfive_and_older number_providers\n",
       "1  ( 1 ) \" \"           \" \"            \" \"                 \" \"             \n",
       "2  ( 1 ) \"*\"           \" \"            \" \"                 \" \"             \n",
       "3  ( 1 ) \"*\"           \" \"            \" \"                 \"*\"             \n",
       "4  ( 1 ) \"*\"           \" \"            \" \"                 \"*\"             \n",
       "5  ( 1 ) \"*\"           \" \"            \" \"                 \"*\"             \n",
       "6  ( 1 ) \"*\"           \"*\"            \" \"                 \"*\"             \n",
       "7  ( 1 ) \"*\"           \"*\"            \"*\"                 \"*\"             \n",
       "         mean_lowest_cost mean_d_mbps mean_lat_ms\n",
       "1  ( 1 ) \" \"              \"*\"         \" \"        \n",
       "2  ( 1 ) \" \"              \"*\"         \" \"        \n",
       "3  ( 1 ) \" \"              \" \"         \"*\"        \n",
       "4  ( 1 ) \" \"              \"*\"         \"*\"        \n",
       "5  ( 1 ) \"*\"              \"*\"         \"*\"        \n",
       "6  ( 1 ) \"*\"              \"*\"         \"*\"        \n",
       "7  ( 1 ) \"*\"              \"*\"         \"*\"        "
      ]
     },
     "metadata": {},
     "output_type": "display_data"
    }
   ],
   "source": [
    "library(leaps)\n",
    "subset <- regsubsets(index ~ ., index_data1.2)\n",
    "summary(subset)"
   ]
  },
  {
   "cell_type": "code",
   "execution_count": 16,
   "metadata": {
    "vscode": {
     "languageId": "r"
    }
   },
   "outputs": [
    {
     "data": {
      "text/plain": [
       "Subset selection object\n",
       "Call: regsubsets.formula(index ~ ., index_data1.2, method = \"forward\")\n",
       "7 Variables  (and intercept)\n",
       "                    Forced in Forced out\n",
       "with_internet           FALSE      FALSE\n",
       "work_from_home          FALSE      FALSE\n",
       "sixtyfive_and_older     FALSE      FALSE\n",
       "number_providers        FALSE      FALSE\n",
       "mean_lowest_cost        FALSE      FALSE\n",
       "mean_d_mbps             FALSE      FALSE\n",
       "mean_lat_ms             FALSE      FALSE\n",
       "1 subsets of each size up to 7\n",
       "Selection Algorithm: forward\n",
       "         with_internet work_from_home sixtyfive_and_older number_providers\n",
       "1  ( 1 ) \" \"           \" \"            \" \"                 \" \"             \n",
       "2  ( 1 ) \"*\"           \" \"            \" \"                 \" \"             \n",
       "3  ( 1 ) \"*\"           \" \"            \" \"                 \"*\"             \n",
       "4  ( 1 ) \"*\"           \" \"            \" \"                 \"*\"             \n",
       "5  ( 1 ) \"*\"           \" \"            \" \"                 \"*\"             \n",
       "6  ( 1 ) \"*\"           \"*\"            \" \"                 \"*\"             \n",
       "7  ( 1 ) \"*\"           \"*\"            \"*\"                 \"*\"             \n",
       "         mean_lowest_cost mean_d_mbps mean_lat_ms\n",
       "1  ( 1 ) \" \"              \"*\"         \" \"        \n",
       "2  ( 1 ) \" \"              \"*\"         \" \"        \n",
       "3  ( 1 ) \" \"              \"*\"         \" \"        \n",
       "4  ( 1 ) \" \"              \"*\"         \"*\"        \n",
       "5  ( 1 ) \"*\"              \"*\"         \"*\"        \n",
       "6  ( 1 ) \"*\"              \"*\"         \"*\"        \n",
       "7  ( 1 ) \"*\"              \"*\"         \"*\"        "
      ]
     },
     "metadata": {},
     "output_type": "display_data"
    }
   ],
   "source": [
    "forward <- regsubsets(index ~ ., index_data1.2, method = \"forward\")\n",
    "\n",
    "results <- summary(forward)\n",
    "\n",
    "results"
   ]
  },
  {
   "cell_type": "code",
   "execution_count": 17,
   "metadata": {
    "vscode": {
     "languageId": "r"
    }
   },
   "outputs": [
    {
     "data": {
      "text/html": [
       "7"
      ],
      "text/latex": [
       "7"
      ],
      "text/markdown": [
       "7"
      ],
      "text/plain": [
       "[1] 7"
      ]
     },
     "metadata": {},
     "output_type": "display_data"
    },
    {
     "data": {
      "text/html": [
       "7"
      ],
      "text/latex": [
       "7"
      ],
      "text/markdown": [
       "7"
      ],
      "text/plain": [
       "[1] 7"
      ]
     },
     "metadata": {},
     "output_type": "display_data"
    },
    {
     "data": {
      "text/html": [
       "7"
      ],
      "text/latex": [
       "7"
      ],
      "text/markdown": [
       "7"
      ],
      "text/plain": [
       "[1] 7"
      ]
     },
     "metadata": {},
     "output_type": "display_data"
    },
    {
     "data": {
      "text/html": [
       "7"
      ],
      "text/latex": [
       "7"
      ],
      "text/markdown": [
       "7"
      ],
      "text/plain": [
       "[1] 7"
      ]
     },
     "metadata": {},
     "output_type": "display_data"
    }
   ],
   "source": [
    "which.max(results$adjr2)\n",
    "which.min(results$bic)\n",
    "which.max(results$rsq)\n",
    "which.min(results$cp)"
   ]
  },
  {
   "cell_type": "code",
   "execution_count": 18,
   "metadata": {
    "vscode": {
     "languageId": "r"
    }
   },
   "outputs": [
    {
     "data": {
      "text/html": [
       "<dl>\n",
       "\t<dt>$`(Intercept)`</dt>\n",
       "\t\t<dd>0.0000000000000000524753851482984</dd>\n",
       "\t<dt>$number_providers</dt>\n",
       "\t\t<dd>-0.418647248935488</dd>\n",
       "\t<dt>$mean_lat_ms</dt>\n",
       "\t\t<dd>-0.51717000241015</dd>\n",
       "</dl>\n"
      ],
      "text/latex": [
       "\\begin{description}\n",
       "\\item[\\$`(Intercept)`] 0.0000000000000000524753851482984\n",
       "\\item[\\$number\\_providers] -0.418647248935488\n",
       "\\item[\\$mean\\_lat\\_ms] -0.51717000241015\n",
       "\\end{description}\n"
      ],
      "text/markdown": [
       "$`(Intercept)`\n",
       ":   0.0000000000000000524753851482984\n",
       "$number_providers\n",
       ":   -0.418647248935488\n",
       "$mean_lat_ms\n",
       ":   -0.51717000241015\n",
       "\n",
       "\n"
      ],
      "text/plain": [
       "$`(Intercept)`\n",
       "[1] 0.00000000000000005247539\n",
       "\n",
       "$number_providers\n",
       "[1] -0.4186472\n",
       "\n",
       "$mean_lat_ms\n",
       "[1] -0.51717\n"
      ]
     },
     "metadata": {},
     "output_type": "display_data"
    }
   ],
   "source": [
    "coefficients <- coef(forward, 7)\n",
    "as.list(coefficients[which(coefficients < .05)])"
   ]
  },
  {
   "cell_type": "code",
   "execution_count": 19,
   "metadata": {
    "vscode": {
     "languageId": "r"
    }
   },
   "outputs": [
    {
     "data": {
      "text/html": [
       "<dl>\n",
       "\t<dt>$`(Intercept)`</dt>\n",
       "\t\t<dd>0.0000000000000000524753851482984</dd>\n",
       "\t<dt>$with_internet</dt>\n",
       "\t\t<dd>0.376409362470466</dd>\n",
       "\t<dt>$work_from_home</dt>\n",
       "\t\t<dd>0.149505947351314</dd>\n",
       "\t<dt>$sixtyfive_and_older</dt>\n",
       "\t\t<dd>0.14132351465795</dd>\n",
       "\t<dt>$number_providers</dt>\n",
       "\t\t<dd>-0.418647248935488</dd>\n",
       "\t<dt>$mean_lowest_cost</dt>\n",
       "\t\t<dd>0.268265962770774</dd>\n",
       "\t<dt>$mean_d_mbps</dt>\n",
       "\t\t<dd>0.548903152241257</dd>\n",
       "\t<dt>$mean_lat_ms</dt>\n",
       "\t\t<dd>-0.51717000241015</dd>\n",
       "</dl>\n"
      ],
      "text/latex": [
       "\\begin{description}\n",
       "\\item[\\$`(Intercept)`] 0.0000000000000000524753851482984\n",
       "\\item[\\$with\\_internet] 0.376409362470466\n",
       "\\item[\\$work\\_from\\_home] 0.149505947351314\n",
       "\\item[\\$sixtyfive\\_and\\_older] 0.14132351465795\n",
       "\\item[\\$number\\_providers] -0.418647248935488\n",
       "\\item[\\$mean\\_lowest\\_cost] 0.268265962770774\n",
       "\\item[\\$mean\\_d\\_mbps] 0.548903152241257\n",
       "\\item[\\$mean\\_lat\\_ms] -0.51717000241015\n",
       "\\end{description}\n"
      ],
      "text/markdown": [
       "$`(Intercept)`\n",
       ":   0.0000000000000000524753851482984\n",
       "$with_internet\n",
       ":   0.376409362470466\n",
       "$work_from_home\n",
       ":   0.149505947351314\n",
       "$sixtyfive_and_older\n",
       ":   0.14132351465795\n",
       "$number_providers\n",
       ":   -0.418647248935488\n",
       "$mean_lowest_cost\n",
       ":   0.268265962770774\n",
       "$mean_d_mbps\n",
       ":   0.548903152241257\n",
       "$mean_lat_ms\n",
       ":   -0.51717000241015\n",
       "\n",
       "\n"
      ],
      "text/plain": [
       "$`(Intercept)`\n",
       "[1] 0.00000000000000005247539\n",
       "\n",
       "$with_internet\n",
       "[1] 0.3764094\n",
       "\n",
       "$work_from_home\n",
       "[1] 0.1495059\n",
       "\n",
       "$sixtyfive_and_older\n",
       "[1] 0.1413235\n",
       "\n",
       "$number_providers\n",
       "[1] -0.4186472\n",
       "\n",
       "$mean_lowest_cost\n",
       "[1] 0.268266\n",
       "\n",
       "$mean_d_mbps\n",
       "[1] 0.5489032\n",
       "\n",
       "$mean_lat_ms\n",
       "[1] -0.51717\n"
      ]
     },
     "metadata": {},
     "output_type": "display_data"
    }
   ],
   "source": [
    "as.list(coefficients)"
   ]
  },
  {
   "cell_type": "code",
   "execution_count": 20,
   "metadata": {
    "vscode": {
     "languageId": "r"
    }
   },
   "outputs": [],
   "source": [
    "model <- lm(\n",
    "    index_data1.2$index ~ .,\n",
    "    data = index_data1.2\n",
    ")"
   ]
  },
  {
   "cell_type": "code",
   "execution_count": 24,
   "metadata": {
    "vscode": {
     "languageId": "r"
    }
   },
   "outputs": [
    {
     "name": "stderr",
     "output_type": "stream",
     "text": [
      "Warning message in summary.lm(object, ...):\n",
      "“essentially perfect fit: summary may be unreliable”\n"
     ]
    },
    {
     "data": {
      "text/html": [
       "<dl>\n",
       "\t<dt>$with_internet</dt>\n",
       "\t\t<dd>2.32895248426638</dd>\n",
       "\t<dt>$work_from_home</dt>\n",
       "\t\t<dd>1.2953957946337</dd>\n",
       "\t<dt>$sixtyfive_and_older</dt>\n",
       "\t\t<dd>1.91312652440289</dd>\n",
       "\t<dt>$number_providers</dt>\n",
       "\t\t<dd>1.42217153217031</dd>\n",
       "\t<dt>$mean_lowest_cost</dt>\n",
       "\t\t<dd>1.13655714386215</dd>\n",
       "\t<dt>$mean_d_mbps</dt>\n",
       "\t\t<dd>3.7716976936318</dd>\n",
       "\t<dt>$mean_lat_ms</dt>\n",
       "\t\t<dd>3.32024039847711</dd>\n",
       "</dl>\n"
      ],
      "text/latex": [
       "\\begin{description}\n",
       "\\item[\\$with\\_internet] 2.32895248426638\n",
       "\\item[\\$work\\_from\\_home] 1.2953957946337\n",
       "\\item[\\$sixtyfive\\_and\\_older] 1.91312652440289\n",
       "\\item[\\$number\\_providers] 1.42217153217031\n",
       "\\item[\\$mean\\_lowest\\_cost] 1.13655714386215\n",
       "\\item[\\$mean\\_d\\_mbps] 3.7716976936318\n",
       "\\item[\\$mean\\_lat\\_ms] 3.32024039847711\n",
       "\\end{description}\n"
      ],
      "text/markdown": [
       "$with_internet\n",
       ":   2.32895248426638\n",
       "$work_from_home\n",
       ":   1.2953957946337\n",
       "$sixtyfive_and_older\n",
       ":   1.91312652440289\n",
       "$number_providers\n",
       ":   1.42217153217031\n",
       "$mean_lowest_cost\n",
       ":   1.13655714386215\n",
       "$mean_d_mbps\n",
       ":   3.7716976936318\n",
       "$mean_lat_ms\n",
       ":   3.32024039847711\n",
       "\n",
       "\n"
      ],
      "text/plain": [
       "$with_internet\n",
       "[1] 2.328952\n",
       "\n",
       "$work_from_home\n",
       "[1] 1.295396\n",
       "\n",
       "$sixtyfive_and_older\n",
       "[1] 1.913127\n",
       "\n",
       "$number_providers\n",
       "[1] 1.422172\n",
       "\n",
       "$mean_lowest_cost\n",
       "[1] 1.136557\n",
       "\n",
       "$mean_d_mbps\n",
       "[1] 3.771698\n",
       "\n",
       "$mean_lat_ms\n",
       "[1] 3.32024\n"
      ]
     },
     "metadata": {},
     "output_type": "display_data"
    }
   ],
   "source": [
    "as.list(vif(model))"
   ]
  }
 ],
 "metadata": {
  "kernelspec": {
   "display_name": "R",
   "language": "R",
   "name": "ir"
  },
  "language_info": {
   "codemirror_mode": "r",
   "file_extension": ".r",
   "mimetype": "text/x-r-source",
   "name": "R",
   "pygments_lexer": "r",
   "version": "4.3.0"
  },
  "orig_nbformat": 4
 },
 "nbformat": 4,
 "nbformat_minor": 2
}
