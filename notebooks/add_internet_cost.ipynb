{
 "cells": [
  {
   "cell_type": "code",
   "execution_count": 1,
   "metadata": {
    "vscode": {
     "languageId": "r"
    }
   },
   "outputs": [
    {
     "name": "stderr",
     "output_type": "stream",
     "text": [
      "── \u001b[1mAttaching core tidyverse packages\u001b[22m ──────────────────────── tidyverse 2.0.0 ──\n",
      "\u001b[32m✔\u001b[39m \u001b[34mdplyr    \u001b[39m 1.1.2     \u001b[32m✔\u001b[39m \u001b[34mreadr    \u001b[39m 2.1.4\n",
      "\u001b[32m✔\u001b[39m \u001b[34mforcats  \u001b[39m 1.0.0     \u001b[32m✔\u001b[39m \u001b[34mstringr  \u001b[39m 1.5.0\n",
      "\u001b[32m✔\u001b[39m \u001b[34mggplot2  \u001b[39m 3.4.2     \u001b[32m✔\u001b[39m \u001b[34mtibble   \u001b[39m 3.2.1\n",
      "\u001b[32m✔\u001b[39m \u001b[34mlubridate\u001b[39m 1.9.2     \u001b[32m✔\u001b[39m \u001b[34mtidyr    \u001b[39m 1.3.0\n",
      "\u001b[32m✔\u001b[39m \u001b[34mpurrr    \u001b[39m 1.0.1     \n",
      "── \u001b[1mConflicts\u001b[22m ────────────────────────────────────────── tidyverse_conflicts() ──\n",
      "\u001b[31m✖\u001b[39m \u001b[34mdplyr\u001b[39m::\u001b[32mfilter()\u001b[39m masks \u001b[34mstats\u001b[39m::filter()\n",
      "\u001b[31m✖\u001b[39m \u001b[34mdplyr\u001b[39m::\u001b[32mlag()\u001b[39m    masks \u001b[34mstats\u001b[39m::lag()\n",
      "\u001b[36mℹ\u001b[39m Use the conflicted package (\u001b[3m\u001b[34m<http://conflicted.r-lib.org/>\u001b[39m\u001b[23m) to force all conflicts to become errors\n"
     ]
    }
   ],
   "source": [
    "library(tidyverse)\n",
    "\n",
    "data <- read.csv(\"../data/combined_data.csv\")\n",
    "internet_cost <- read.csv(\"../data/internet_cost.csv\")\n",
    "provider_data <- read.csv(\"../data/provider_data.csv\") %>% select(-X)"
   ]
  },
  {
   "cell_type": "code",
   "execution_count": 2,
   "metadata": {
    "vscode": {
     "languageId": "r"
    }
   },
   "outputs": [
    {
     "data": {
      "text/html": [
       "<table class=\"dataframe\">\n",
       "<caption>A data.frame: 181 × 1</caption>\n",
       "<thead>\n",
       "\t<tr><th></th><th scope=col>GEOID</th></tr>\n",
       "\t<tr><th></th><th scope=col>&lt;dbl&gt;</th></tr>\n",
       "</thead>\n",
       "<tbody>\n",
       "\t<tr><th scope=row>1</th><td>53075000602</td></tr>\n",
       "\t<tr><th scope=row>52</th><td>53075000601</td></tr>\n",
       "\t<tr><th scope=row>100</th><td>53075000202</td></tr>\n",
       "\t<tr><th scope=row>140</th><td>53075000201</td></tr>\n",
       "\t<tr><th scope=row>224</th><td>53063011702</td></tr>\n",
       "\t<tr><th scope=row>850</th><td>53063014400</td></tr>\n",
       "\t<tr><th scope=row>3181</th><td>53063014500</td></tr>\n",
       "\t<tr><th scope=row>7451</th><td>53001950200</td></tr>\n",
       "\t<tr><th scope=row>10220</th><td>53001950400</td></tr>\n",
       "\t<tr><th scope=row>11668</th><td>53001950100</td></tr>\n",
       "\t<tr><th scope=row>15305</th><td>53001950500</td></tr>\n",
       "\t<tr><th scope=row>16805</th><td>53003960400</td></tr>\n",
       "\t<tr><th scope=row>17308</th><td>53003960200</td></tr>\n",
       "\t<tr><th scope=row>18631</th><td>53003960100</td></tr>\n",
       "\t<tr><th scope=row>20237</th><td>53003960600</td></tr>\n",
       "\t<tr><th scope=row>21148</th><td>53003960300</td></tr>\n",
       "\t<tr><th scope=row>22662</th><td>53003960500</td></tr>\n",
       "\t<tr><th scope=row>23738</th><td>53075000100</td></tr>\n",
       "\t<tr><th scope=row>24308</th><td>53075000900</td></tr>\n",
       "\t<tr><th scope=row>29574</th><td>53075001000</td></tr>\n",
       "\t<tr><th scope=row>32031</th><td>53075000300</td></tr>\n",
       "\t<tr><th scope=row>32810</th><td>53075000800</td></tr>\n",
       "\t<tr><th scope=row>34371</th><td>53075000400</td></tr>\n",
       "\t<tr><th scope=row>35048</th><td>53075000700</td></tr>\n",
       "\t<tr><th scope=row>37764</th><td>53075000500</td></tr>\n",
       "\t<tr><th scope=row>37852</th><td>53063011104</td></tr>\n",
       "\t<tr><th scope=row>37881</th><td>53063010507</td></tr>\n",
       "\t<tr><th scope=row>37997</th><td>53063011203</td></tr>\n",
       "\t<tr><th scope=row>38263</th><td>53063011103</td></tr>\n",
       "\t<tr><th scope=row>38519</th><td>53063003601</td></tr>\n",
       "\t<tr><th scope=row>⋮</th><td>⋮</td></tr>\n",
       "\t<tr><th scope=row>146829</th><td>53063012100</td></tr>\n",
       "\t<tr><th scope=row>147500</th><td>53065950900</td></tr>\n",
       "\t<tr><th scope=row>148006</th><td>53065950700</td></tr>\n",
       "\t<tr><th scope=row>150319</th><td>53065950300</td></tr>\n",
       "\t<tr><th scope=row>152194</th><td>53065951100</td></tr>\n",
       "\t<tr><th scope=row>154023</th><td>53065950200</td></tr>\n",
       "\t<tr><th scope=row>156507</th><td>53065950800</td></tr>\n",
       "\t<tr><th scope=row>159337</th><td>53065941000</td></tr>\n",
       "\t<tr><th scope=row>160279</th><td>53065950600</td></tr>\n",
       "\t<tr><th scope=row>161831</th><td>53065950500</td></tr>\n",
       "\t<tr><th scope=row>163249</th><td>53051970200</td></tr>\n",
       "\t<tr><th scope=row>165268</th><td>53051970400</td></tr>\n",
       "\t<tr><th scope=row>166671</th><td>53051970300</td></tr>\n",
       "\t<tr><th scope=row>168000</th><td>53051970500</td></tr>\n",
       "\t<tr><th scope=row>168666</th><td>53051970100</td></tr>\n",
       "\t<tr><th scope=row>170471</th><td>53001950302</td></tr>\n",
       "\t<tr><th scope=row>170513</th><td>53001950301</td></tr>\n",
       "\t<tr><th scope=row>170697</th><td>53001950303</td></tr>\n",
       "\t<tr><th scope=row>170707</th><td>53019940000</td></tr>\n",
       "\t<tr><th scope=row>171664</th><td>53019970200</td></tr>\n",
       "\t<tr><th scope=row>174443</th><td>53019970100</td></tr>\n",
       "\t<tr><th scope=row>177583</th><td>53063004601</td></tr>\n",
       "\t<tr><th scope=row>178443</th><td>53063011000</td></tr>\n",
       "\t<tr><th scope=row>179551</th><td>53063001400</td></tr>\n",
       "\t<tr><th scope=row>182212</th><td>53063000800</td></tr>\n",
       "\t<tr><th scope=row>183515</th><td>53063004500</td></tr>\n",
       "\t<tr><th scope=row>184694</th><td>53063001500</td></tr>\n",
       "\t<tr><th scope=row>187301</th><td>53063004400</td></tr>\n",
       "\t<tr><th scope=row>188372</th><td>53063004602</td></tr>\n",
       "\t<tr><th scope=row>189033</th><td>53063004800</td></tr>\n",
       "</tbody>\n",
       "</table>\n"
      ],
      "text/latex": [
       "A data.frame: 181 × 1\n",
       "\\begin{tabular}{r|l}\n",
       "  & GEOID\\\\\n",
       "  & <dbl>\\\\\n",
       "\\hline\n",
       "\t1 & 53075000602\\\\\n",
       "\t52 & 53075000601\\\\\n",
       "\t100 & 53075000202\\\\\n",
       "\t140 & 53075000201\\\\\n",
       "\t224 & 53063011702\\\\\n",
       "\t850 & 53063014400\\\\\n",
       "\t3181 & 53063014500\\\\\n",
       "\t7451 & 53001950200\\\\\n",
       "\t10220 & 53001950400\\\\\n",
       "\t11668 & 53001950100\\\\\n",
       "\t15305 & 53001950500\\\\\n",
       "\t16805 & 53003960400\\\\\n",
       "\t17308 & 53003960200\\\\\n",
       "\t18631 & 53003960100\\\\\n",
       "\t20237 & 53003960600\\\\\n",
       "\t21148 & 53003960300\\\\\n",
       "\t22662 & 53003960500\\\\\n",
       "\t23738 & 53075000100\\\\\n",
       "\t24308 & 53075000900\\\\\n",
       "\t29574 & 53075001000\\\\\n",
       "\t32031 & 53075000300\\\\\n",
       "\t32810 & 53075000800\\\\\n",
       "\t34371 & 53075000400\\\\\n",
       "\t35048 & 53075000700\\\\\n",
       "\t37764 & 53075000500\\\\\n",
       "\t37852 & 53063011104\\\\\n",
       "\t37881 & 53063010507\\\\\n",
       "\t37997 & 53063011203\\\\\n",
       "\t38263 & 53063011103\\\\\n",
       "\t38519 & 53063003601\\\\\n",
       "\t⋮ & ⋮\\\\\n",
       "\t146829 & 53063012100\\\\\n",
       "\t147500 & 53065950900\\\\\n",
       "\t148006 & 53065950700\\\\\n",
       "\t150319 & 53065950300\\\\\n",
       "\t152194 & 53065951100\\\\\n",
       "\t154023 & 53065950200\\\\\n",
       "\t156507 & 53065950800\\\\\n",
       "\t159337 & 53065941000\\\\\n",
       "\t160279 & 53065950600\\\\\n",
       "\t161831 & 53065950500\\\\\n",
       "\t163249 & 53051970200\\\\\n",
       "\t165268 & 53051970400\\\\\n",
       "\t166671 & 53051970300\\\\\n",
       "\t168000 & 53051970500\\\\\n",
       "\t168666 & 53051970100\\\\\n",
       "\t170471 & 53001950302\\\\\n",
       "\t170513 & 53001950301\\\\\n",
       "\t170697 & 53001950303\\\\\n",
       "\t170707 & 53019940000\\\\\n",
       "\t171664 & 53019970200\\\\\n",
       "\t174443 & 53019970100\\\\\n",
       "\t177583 & 53063004601\\\\\n",
       "\t178443 & 53063011000\\\\\n",
       "\t179551 & 53063001400\\\\\n",
       "\t182212 & 53063000800\\\\\n",
       "\t183515 & 53063004500\\\\\n",
       "\t184694 & 53063001500\\\\\n",
       "\t187301 & 53063004400\\\\\n",
       "\t188372 & 53063004602\\\\\n",
       "\t189033 & 53063004800\\\\\n",
       "\\end{tabular}\n"
      ],
      "text/markdown": [
       "\n",
       "A data.frame: 181 × 1\n",
       "\n",
       "| <!--/--> | GEOID &lt;dbl&gt; |\n",
       "|---|---|\n",
       "| 1 | 53075000602 |\n",
       "| 52 | 53075000601 |\n",
       "| 100 | 53075000202 |\n",
       "| 140 | 53075000201 |\n",
       "| 224 | 53063011702 |\n",
       "| 850 | 53063014400 |\n",
       "| 3181 | 53063014500 |\n",
       "| 7451 | 53001950200 |\n",
       "| 10220 | 53001950400 |\n",
       "| 11668 | 53001950100 |\n",
       "| 15305 | 53001950500 |\n",
       "| 16805 | 53003960400 |\n",
       "| 17308 | 53003960200 |\n",
       "| 18631 | 53003960100 |\n",
       "| 20237 | 53003960600 |\n",
       "| 21148 | 53003960300 |\n",
       "| 22662 | 53003960500 |\n",
       "| 23738 | 53075000100 |\n",
       "| 24308 | 53075000900 |\n",
       "| 29574 | 53075001000 |\n",
       "| 32031 | 53075000300 |\n",
       "| 32810 | 53075000800 |\n",
       "| 34371 | 53075000400 |\n",
       "| 35048 | 53075000700 |\n",
       "| 37764 | 53075000500 |\n",
       "| 37852 | 53063011104 |\n",
       "| 37881 | 53063010507 |\n",
       "| 37997 | 53063011203 |\n",
       "| 38263 | 53063011103 |\n",
       "| 38519 | 53063003601 |\n",
       "| ⋮ | ⋮ |\n",
       "| 146829 | 53063012100 |\n",
       "| 147500 | 53065950900 |\n",
       "| 148006 | 53065950700 |\n",
       "| 150319 | 53065950300 |\n",
       "| 152194 | 53065951100 |\n",
       "| 154023 | 53065950200 |\n",
       "| 156507 | 53065950800 |\n",
       "| 159337 | 53065941000 |\n",
       "| 160279 | 53065950600 |\n",
       "| 161831 | 53065950500 |\n",
       "| 163249 | 53051970200 |\n",
       "| 165268 | 53051970400 |\n",
       "| 166671 | 53051970300 |\n",
       "| 168000 | 53051970500 |\n",
       "| 168666 | 53051970100 |\n",
       "| 170471 | 53001950302 |\n",
       "| 170513 | 53001950301 |\n",
       "| 170697 | 53001950303 |\n",
       "| 170707 | 53019940000 |\n",
       "| 171664 | 53019970200 |\n",
       "| 174443 | 53019970100 |\n",
       "| 177583 | 53063004601 |\n",
       "| 178443 | 53063011000 |\n",
       "| 179551 | 53063001400 |\n",
       "| 182212 | 53063000800 |\n",
       "| 183515 | 53063004500 |\n",
       "| 184694 | 53063001500 |\n",
       "| 187301 | 53063004400 |\n",
       "| 188372 | 53063004602 |\n",
       "| 189033 | 53063004800 |\n",
       "\n"
      ],
      "text/plain": [
       "       GEOID      \n",
       "1      53075000602\n",
       "52     53075000601\n",
       "100    53075000202\n",
       "140    53075000201\n",
       "224    53063011702\n",
       "850    53063014400\n",
       "3181   53063014500\n",
       "7451   53001950200\n",
       "10220  53001950400\n",
       "11668  53001950100\n",
       "15305  53001950500\n",
       "16805  53003960400\n",
       "17308  53003960200\n",
       "18631  53003960100\n",
       "20237  53003960600\n",
       "21148  53003960300\n",
       "22662  53003960500\n",
       "23738  53075000100\n",
       "24308  53075000900\n",
       "29574  53075001000\n",
       "32031  53075000300\n",
       "32810  53075000800\n",
       "34371  53075000400\n",
       "35048  53075000700\n",
       "37764  53075000500\n",
       "37852  53063011104\n",
       "37881  53063010507\n",
       "37997  53063011203\n",
       "38263  53063011103\n",
       "38519  53063003601\n",
       "⋮      ⋮          \n",
       "146829 53063012100\n",
       "147500 53065950900\n",
       "148006 53065950700\n",
       "150319 53065950300\n",
       "152194 53065951100\n",
       "154023 53065950200\n",
       "156507 53065950800\n",
       "159337 53065941000\n",
       "160279 53065950600\n",
       "161831 53065950500\n",
       "163249 53051970200\n",
       "165268 53051970400\n",
       "166671 53051970300\n",
       "168000 53051970500\n",
       "168666 53051970100\n",
       "170471 53001950302\n",
       "170513 53001950301\n",
       "170697 53001950303\n",
       "170707 53019940000\n",
       "171664 53019970200\n",
       "174443 53019970100\n",
       "177583 53063004601\n",
       "178443 53063011000\n",
       "179551 53063001400\n",
       "182212 53063000800\n",
       "183515 53063004500\n",
       "184694 53063001500\n",
       "187301 53063004400\n",
       "188372 53063004602\n",
       "189033 53063004800"
      ]
     },
     "metadata": {},
     "output_type": "display_data"
    }
   ],
   "source": [
    "provider_data %>% select(GEOID) %>% unique()"
   ]
  },
  {
   "cell_type": "code",
   "execution_count": 3,
   "metadata": {
    "vscode": {
     "languageId": "r"
    }
   },
   "outputs": [
    {
     "data": {
      "text/html": [
       "<table class=\"dataframe\">\n",
       "<caption>A data.frame: 6 × 29</caption>\n",
       "<thead>\n",
       "\t<tr><th></th><th scope=col>GEOID</th><th scope=col>tract</th><th scope=col>not_citizen</th><th scope=col>naturalized_citizen</th><th scope=col>native_citizen</th><th scope=col>foreign_born</th><th scope=col>work_from_home</th><th scope=col>desktop_or_laptop</th><th scope=col>desktop_or_laptop_only</th><th scope=col>smartphone</th><th scope=col>⋯</th><th scope=col>access_with_no_subscription</th><th scope=col>no_internet_access</th><th scope=col>sixty_five_and_older</th><th scope=col>median_income</th><th scope=col>mean_income</th><th scope=col>mean_d_mbps</th><th scope=col>mean_u_mbps</th><th scope=col>mean_lat_ms</th><th scope=col>number_providers</th><th scope=col>mean_lowest_cost</th></tr>\n",
       "\t<tr><th></th><th scope=col>&lt;dbl&gt;</th><th scope=col>&lt;dbl&gt;</th><th scope=col>&lt;int&gt;</th><th scope=col>&lt;int&gt;</th><th scope=col>&lt;int&gt;</th><th scope=col>&lt;int&gt;</th><th scope=col>&lt;int&gt;</th><th scope=col>&lt;int&gt;</th><th scope=col>&lt;int&gt;</th><th scope=col>&lt;int&gt;</th><th scope=col>⋯</th><th scope=col>&lt;int&gt;</th><th scope=col>&lt;int&gt;</th><th scope=col>&lt;int&gt;</th><th scope=col>&lt;dbl&gt;</th><th scope=col>&lt;int&gt;</th><th scope=col>&lt;dbl&gt;</th><th scope=col>&lt;dbl&gt;</th><th scope=col>&lt;dbl&gt;</th><th scope=col>&lt;dbl&gt;</th><th scope=col>&lt;dbl&gt;</th></tr>\n",
       "</thead>\n",
       "<tbody>\n",
       "\t<tr><th scope=row>1</th><td>53001950100</td><td>9501.00</td><td> 28</td><td> 94</td><td>2484</td><td>122</td><td> 82</td><td>754</td><td>88</td><td>867</td><td>⋯</td><td>52</td><td>137</td><td>505</td><td>52589</td><td>63888</td><td> 62.65864</td><td> 9.528565</td><td>42.64130</td><td>12</td><td>54.25000</td></tr>\n",
       "\t<tr><th scope=row>2</th><td>53001950200</td><td>9502.00</td><td>132</td><td>  8</td><td>1623</td><td>140</td><td> 47</td><td>448</td><td>21</td><td>503</td><td>⋯</td><td> 9</td><td>116</td><td>228</td><td>59886</td><td>61202</td><td> 61.97721</td><td> 9.037524</td><td>60.90244</td><td>12</td><td>56.08333</td></tr>\n",
       "\t<tr><th scope=row>3</th><td>53001950301</td><td>9503.01</td><td>486</td><td> 31</td><td>1064</td><td>517</td><td>  3</td><td>242</td><td>17</td><td>301</td><td>⋯</td><td>11</td><td>163</td><td>259</td><td>39928</td><td>53032</td><td> 88.08681</td><td>13.245116</td><td>60.16744</td><td> 8</td><td>53.00000</td></tr>\n",
       "\t<tr><th scope=row>4</th><td>53001950302</td><td>9503.02</td><td>571</td><td>194</td><td>1669</td><td>765</td><td> 26</td><td>305</td><td> 0</td><td>554</td><td>⋯</td><td>18</td><td> 88</td><td>258</td><td>58884</td><td>70361</td><td> 87.01079</td><td>17.036596</td><td>44.42424</td><td> 8</td><td>53.00000</td></tr>\n",
       "\t<tr><th scope=row>5</th><td>53001950303</td><td>9503.03</td><td>545</td><td>128</td><td>1841</td><td>673</td><td>110</td><td>396</td><td> 6</td><td>581</td><td>⋯</td><td> 9</td><td> 66</td><td>271</td><td>50915</td><td>74863</td><td> 74.14176</td><td>14.220405</td><td>37.89241</td><td> 8</td><td>53.00000</td></tr>\n",
       "\t<tr><th scope=row>6</th><td>53001950400</td><td>9504.00</td><td>729</td><td>141</td><td>2274</td><td>870</td><td> 23</td><td>455</td><td>46</td><td>639</td><td>⋯</td><td>23</td><td>168</td><td>308</td><td>63750</td><td>69882</td><td>267.83971</td><td>32.930247</td><td>23.83806</td><td> 9</td><td>52.22222</td></tr>\n",
       "</tbody>\n",
       "</table>\n"
      ],
      "text/latex": [
       "A data.frame: 6 × 29\n",
       "\\begin{tabular}{r|lllllllllllllllllllll}\n",
       "  & GEOID & tract & not\\_citizen & naturalized\\_citizen & native\\_citizen & foreign\\_born & work\\_from\\_home & desktop\\_or\\_laptop & desktop\\_or\\_laptop\\_only & smartphone & ⋯ & access\\_with\\_no\\_subscription & no\\_internet\\_access & sixty\\_five\\_and\\_older & median\\_income & mean\\_income & mean\\_d\\_mbps & mean\\_u\\_mbps & mean\\_lat\\_ms & number\\_providers & mean\\_lowest\\_cost\\\\\n",
       "  & <dbl> & <dbl> & <int> & <int> & <int> & <int> & <int> & <int> & <int> & <int> & ⋯ & <int> & <int> & <int> & <dbl> & <int> & <dbl> & <dbl> & <dbl> & <dbl> & <dbl>\\\\\n",
       "\\hline\n",
       "\t1 & 53001950100 & 9501.00 &  28 &  94 & 2484 & 122 &  82 & 754 & 88 & 867 & ⋯ & 52 & 137 & 505 & 52589 & 63888 &  62.65864 &  9.528565 & 42.64130 & 12 & 54.25000\\\\\n",
       "\t2 & 53001950200 & 9502.00 & 132 &   8 & 1623 & 140 &  47 & 448 & 21 & 503 & ⋯ &  9 & 116 & 228 & 59886 & 61202 &  61.97721 &  9.037524 & 60.90244 & 12 & 56.08333\\\\\n",
       "\t3 & 53001950301 & 9503.01 & 486 &  31 & 1064 & 517 &   3 & 242 & 17 & 301 & ⋯ & 11 & 163 & 259 & 39928 & 53032 &  88.08681 & 13.245116 & 60.16744 &  8 & 53.00000\\\\\n",
       "\t4 & 53001950302 & 9503.02 & 571 & 194 & 1669 & 765 &  26 & 305 &  0 & 554 & ⋯ & 18 &  88 & 258 & 58884 & 70361 &  87.01079 & 17.036596 & 44.42424 &  8 & 53.00000\\\\\n",
       "\t5 & 53001950303 & 9503.03 & 545 & 128 & 1841 & 673 & 110 & 396 &  6 & 581 & ⋯ &  9 &  66 & 271 & 50915 & 74863 &  74.14176 & 14.220405 & 37.89241 &  8 & 53.00000\\\\\n",
       "\t6 & 53001950400 & 9504.00 & 729 & 141 & 2274 & 870 &  23 & 455 & 46 & 639 & ⋯ & 23 & 168 & 308 & 63750 & 69882 & 267.83971 & 32.930247 & 23.83806 &  9 & 52.22222\\\\\n",
       "\\end{tabular}\n"
      ],
      "text/markdown": [
       "\n",
       "A data.frame: 6 × 29\n",
       "\n",
       "| <!--/--> | GEOID &lt;dbl&gt; | tract &lt;dbl&gt; | not_citizen &lt;int&gt; | naturalized_citizen &lt;int&gt; | native_citizen &lt;int&gt; | foreign_born &lt;int&gt; | work_from_home &lt;int&gt; | desktop_or_laptop &lt;int&gt; | desktop_or_laptop_only &lt;int&gt; | smartphone &lt;int&gt; | ⋯ ⋯ | access_with_no_subscription &lt;int&gt; | no_internet_access &lt;int&gt; | sixty_five_and_older &lt;int&gt; | median_income &lt;dbl&gt; | mean_income &lt;int&gt; | mean_d_mbps &lt;dbl&gt; | mean_u_mbps &lt;dbl&gt; | mean_lat_ms &lt;dbl&gt; | number_providers &lt;dbl&gt; | mean_lowest_cost &lt;dbl&gt; |\n",
       "|---|---|---|---|---|---|---|---|---|---|---|---|---|---|---|---|---|---|---|---|---|---|\n",
       "| 1 | 53001950100 | 9501.00 |  28 |  94 | 2484 | 122 |  82 | 754 | 88 | 867 | ⋯ | 52 | 137 | 505 | 52589 | 63888 |  62.65864 |  9.528565 | 42.64130 | 12 | 54.25000 |\n",
       "| 2 | 53001950200 | 9502.00 | 132 |   8 | 1623 | 140 |  47 | 448 | 21 | 503 | ⋯ |  9 | 116 | 228 | 59886 | 61202 |  61.97721 |  9.037524 | 60.90244 | 12 | 56.08333 |\n",
       "| 3 | 53001950301 | 9503.01 | 486 |  31 | 1064 | 517 |   3 | 242 | 17 | 301 | ⋯ | 11 | 163 | 259 | 39928 | 53032 |  88.08681 | 13.245116 | 60.16744 |  8 | 53.00000 |\n",
       "| 4 | 53001950302 | 9503.02 | 571 | 194 | 1669 | 765 |  26 | 305 |  0 | 554 | ⋯ | 18 |  88 | 258 | 58884 | 70361 |  87.01079 | 17.036596 | 44.42424 |  8 | 53.00000 |\n",
       "| 5 | 53001950303 | 9503.03 | 545 | 128 | 1841 | 673 | 110 | 396 |  6 | 581 | ⋯ |  9 |  66 | 271 | 50915 | 74863 |  74.14176 | 14.220405 | 37.89241 |  8 | 53.00000 |\n",
       "| 6 | 53001950400 | 9504.00 | 729 | 141 | 2274 | 870 |  23 | 455 | 46 | 639 | ⋯ | 23 | 168 | 308 | 63750 | 69882 | 267.83971 | 32.930247 | 23.83806 |  9 | 52.22222 |\n",
       "\n"
      ],
      "text/plain": [
       "  GEOID       tract   not_citizen naturalized_citizen native_citizen\n",
       "1 53001950100 9501.00  28          94                 2484          \n",
       "2 53001950200 9502.00 132           8                 1623          \n",
       "3 53001950301 9503.01 486          31                 1064          \n",
       "4 53001950302 9503.02 571         194                 1669          \n",
       "5 53001950303 9503.03 545         128                 1841          \n",
       "6 53001950400 9504.00 729         141                 2274          \n",
       "  foreign_born work_from_home desktop_or_laptop desktop_or_laptop_only\n",
       "1 122           82            754               88                    \n",
       "2 140           47            448               21                    \n",
       "3 517            3            242               17                    \n",
       "4 765           26            305                0                    \n",
       "5 673          110            396                6                    \n",
       "6 870           23            455               46                    \n",
       "  smartphone ⋯ access_with_no_subscription no_internet_access\n",
       "1 867        ⋯ 52                          137               \n",
       "2 503        ⋯  9                          116               \n",
       "3 301        ⋯ 11                          163               \n",
       "4 554        ⋯ 18                           88               \n",
       "5 581        ⋯  9                           66               \n",
       "6 639        ⋯ 23                          168               \n",
       "  sixty_five_and_older median_income mean_income mean_d_mbps mean_u_mbps\n",
       "1 505                  52589         63888        62.65864    9.528565  \n",
       "2 228                  59886         61202        61.97721    9.037524  \n",
       "3 259                  39928         53032        88.08681   13.245116  \n",
       "4 258                  58884         70361        87.01079   17.036596  \n",
       "5 271                  50915         74863        74.14176   14.220405  \n",
       "6 308                  63750         69882       267.83971   32.930247  \n",
       "  mean_lat_ms number_providers mean_lowest_cost\n",
       "1 42.64130    12               54.25000        \n",
       "2 60.90244    12               56.08333        \n",
       "3 60.16744     8               53.00000        \n",
       "4 44.42424     8               53.00000        \n",
       "5 37.89241     8               53.00000        \n",
       "6 23.83806     9               52.22222        "
      ]
     },
     "metadata": {},
     "output_type": "display_data"
    }
   ],
   "source": [
    "head(data)"
   ]
  },
  {
   "cell_type": "code",
   "execution_count": 4,
   "metadata": {
    "vscode": {
     "languageId": "r"
    }
   },
   "outputs": [
    {
     "data": {
      "text/html": [
       "<table class=\"dataframe\">\n",
       "<caption>A data.frame: 6 × 4</caption>\n",
       "<thead>\n",
       "\t<tr><th></th><th scope=col>provider_id</th><th scope=col>company</th><th scope=col>lowest_per_month</th><th scope=col>source</th></tr>\n",
       "\t<tr><th></th><th scope=col>&lt;int&gt;</th><th scope=col>&lt;chr&gt;</th><th scope=col>&lt;int&gt;</th><th scope=col>&lt;chr&gt;</th></tr>\n",
       "</thead>\n",
       "<tbody>\n",
       "\t<tr><th scope=row>1</th><td>77236</td><td>First Step Internet, LLC                               </td><td> 40</td><td>https://www.fsr.com/high-speed-wireless-internet-service-pricing/                   </td></tr>\n",
       "\t<tr><th scope=row>2</th><td>79497</td><td>Viasat Inc                                             </td><td> 70</td><td>https://buy.viasat.com/en-US/r/pln                                                  </td></tr>\n",
       "\t<tr><th scope=row>3</th><td>81097</td><td>HughesNet                                              </td><td> 65</td><td>https://www.hughesnet.com/get-started                                               </td></tr>\n",
       "\t<tr><th scope=row>4</th><td>81199</td><td>Space Exploration Technologies Corp.                   </td><td>110</td><td>https://www.starlink.com/orders/?processorToken=34360db1-77ec-4fcb-a4ef-123da5c9101f</td></tr>\n",
       "\t<tr><th scope=row>5</th><td>78962</td><td>Frontier Communications Northwest, LLC, dba Ziply Fiber</td><td> 20</td><td>https://ziplyfiber.com/                                                             </td></tr>\n",
       "\t<tr><th scope=row>6</th><td>86844</td><td>T-Mobile                                               </td><td> 50</td><td>https://www.t-mobile.com/home-internet                                              </td></tr>\n",
       "</tbody>\n",
       "</table>\n"
      ],
      "text/latex": [
       "A data.frame: 6 × 4\n",
       "\\begin{tabular}{r|llll}\n",
       "  & provider\\_id & company & lowest\\_per\\_month & source\\\\\n",
       "  & <int> & <chr> & <int> & <chr>\\\\\n",
       "\\hline\n",
       "\t1 & 77236 & First Step Internet, LLC                                &  40 & https://www.fsr.com/high-speed-wireless-internet-service-pricing/                   \\\\\n",
       "\t2 & 79497 & Viasat Inc                                              &  70 & https://buy.viasat.com/en-US/r/pln                                                  \\\\\n",
       "\t3 & 81097 & HughesNet                                               &  65 & https://www.hughesnet.com/get-started                                               \\\\\n",
       "\t4 & 81199 & Space Exploration Technologies Corp.                    & 110 & https://www.starlink.com/orders/?processorToken=34360db1-77ec-4fcb-a4ef-123da5c9101f\\\\\n",
       "\t5 & 78962 & Frontier Communications Northwest, LLC, dba Ziply Fiber &  20 & https://ziplyfiber.com/                                                             \\\\\n",
       "\t6 & 86844 & T-Mobile                                                &  50 & https://www.t-mobile.com/home-internet                                              \\\\\n",
       "\\end{tabular}\n"
      ],
      "text/markdown": [
       "\n",
       "A data.frame: 6 × 4\n",
       "\n",
       "| <!--/--> | provider_id &lt;int&gt; | company &lt;chr&gt; | lowest_per_month &lt;int&gt; | source &lt;chr&gt; |\n",
       "|---|---|---|---|---|\n",
       "| 1 | 77236 | First Step Internet, LLC                                |  40 | https://www.fsr.com/high-speed-wireless-internet-service-pricing/                    |\n",
       "| 2 | 79497 | Viasat Inc                                              |  70 | https://buy.viasat.com/en-US/r/pln                                                   |\n",
       "| 3 | 81097 | HughesNet                                               |  65 | https://www.hughesnet.com/get-started                                                |\n",
       "| 4 | 81199 | Space Exploration Technologies Corp.                    | 110 | https://www.starlink.com/orders/?processorToken=34360db1-77ec-4fcb-a4ef-123da5c9101f |\n",
       "| 5 | 78962 | Frontier Communications Northwest, LLC, dba Ziply Fiber |  20 | https://ziplyfiber.com/                                                              |\n",
       "| 6 | 86844 | T-Mobile                                                |  50 | https://www.t-mobile.com/home-internet                                               |\n",
       "\n"
      ],
      "text/plain": [
       "  provider_id company                                                \n",
       "1 77236       First Step Internet, LLC                               \n",
       "2 79497       Viasat Inc                                             \n",
       "3 81097       HughesNet                                              \n",
       "4 81199       Space Exploration Technologies Corp.                   \n",
       "5 78962       Frontier Communications Northwest, LLC, dba Ziply Fiber\n",
       "6 86844       T-Mobile                                               \n",
       "  lowest_per_month\n",
       "1  40             \n",
       "2  70             \n",
       "3  65             \n",
       "4 110             \n",
       "5  20             \n",
       "6  50             \n",
       "  source                                                                              \n",
       "1 https://www.fsr.com/high-speed-wireless-internet-service-pricing/                   \n",
       "2 https://buy.viasat.com/en-US/r/pln                                                  \n",
       "3 https://www.hughesnet.com/get-started                                               \n",
       "4 https://www.starlink.com/orders/?processorToken=34360db1-77ec-4fcb-a4ef-123da5c9101f\n",
       "5 https://ziplyfiber.com/                                                             \n",
       "6 https://www.t-mobile.com/home-internet                                              "
      ]
     },
     "metadata": {},
     "output_type": "display_data"
    }
   ],
   "source": [
    "head(internet_cost)"
   ]
  },
  {
   "cell_type": "code",
   "execution_count": 5,
   "metadata": {
    "vscode": {
     "languageId": "r"
    }
   },
   "outputs": [
    {
     "data": {
      "text/html": [
       "<table class=\"dataframe\">\n",
       "<caption>A data.frame: 6 × 9</caption>\n",
       "<thead>\n",
       "\t<tr><th></th><th scope=col>tract</th><th scope=col>company</th><th scope=col>is_consumer</th><th scope=col>is_business</th><th scope=col>max_d_mbps</th><th scope=col>max_u_mbps</th><th scope=col>technology_code</th><th scope=col>provider_id</th><th scope=col>GEOID</th></tr>\n",
       "\t<tr><th></th><th scope=col>&lt;dbl&gt;</th><th scope=col>&lt;chr&gt;</th><th scope=col>&lt;int&gt;</th><th scope=col>&lt;int&gt;</th><th scope=col>&lt;dbl&gt;</th><th scope=col>&lt;dbl&gt;</th><th scope=col>&lt;int&gt;</th><th scope=col>&lt;int&gt;</th><th scope=col>&lt;dbl&gt;</th></tr>\n",
       "</thead>\n",
       "<tbody>\n",
       "\t<tr><th scope=row>1</th><td>6.02</td><td>VSATSystemsLLC                      </td><td>1</td><td>1</td><td>  2</td><td> 1.3</td><td>60</td><td>76178</td><td>5.3075e+10</td></tr>\n",
       "\t<tr><th scope=row>2</th><td>6.02</td><td>First Step Internet, LLC            </td><td>1</td><td>0</td><td> 25</td><td> 4.0</td><td>70</td><td>77236</td><td>5.3075e+10</td></tr>\n",
       "\t<tr><th scope=row>3</th><td>6.02</td><td>GCI Communication Corp.             </td><td>0</td><td>1</td><td>  0</td><td> 0.0</td><td>60</td><td>80632</td><td>5.3075e+10</td></tr>\n",
       "\t<tr><th scope=row>4</th><td>6.02</td><td>Viasat Inc                          </td><td>1</td><td>1</td><td>100</td><td> 3.0</td><td>60</td><td>79497</td><td>5.3075e+10</td></tr>\n",
       "\t<tr><th scope=row>5</th><td>6.02</td><td>HughesNet                           </td><td>1</td><td>1</td><td> 25</td><td> 3.0</td><td>60</td><td>81097</td><td>5.3075e+10</td></tr>\n",
       "\t<tr><th scope=row>6</th><td>6.02</td><td>Space Exploration Technologies Corp.</td><td>1</td><td>1</td><td>100</td><td>10.0</td><td>60</td><td>81199</td><td>5.3075e+10</td></tr>\n",
       "</tbody>\n",
       "</table>\n"
      ],
      "text/latex": [
       "A data.frame: 6 × 9\n",
       "\\begin{tabular}{r|lllllllll}\n",
       "  & tract & company & is\\_consumer & is\\_business & max\\_d\\_mbps & max\\_u\\_mbps & technology\\_code & provider\\_id & GEOID\\\\\n",
       "  & <dbl> & <chr> & <int> & <int> & <dbl> & <dbl> & <int> & <int> & <dbl>\\\\\n",
       "\\hline\n",
       "\t1 & 6.02 & VSATSystemsLLC                       & 1 & 1 &   2 &  1.3 & 60 & 76178 & 5.3075e+10\\\\\n",
       "\t2 & 6.02 & First Step Internet, LLC             & 1 & 0 &  25 &  4.0 & 70 & 77236 & 5.3075e+10\\\\\n",
       "\t3 & 6.02 & GCI Communication Corp.              & 0 & 1 &   0 &  0.0 & 60 & 80632 & 5.3075e+10\\\\\n",
       "\t4 & 6.02 & Viasat Inc                           & 1 & 1 & 100 &  3.0 & 60 & 79497 & 5.3075e+10\\\\\n",
       "\t5 & 6.02 & HughesNet                            & 1 & 1 &  25 &  3.0 & 60 & 81097 & 5.3075e+10\\\\\n",
       "\t6 & 6.02 & Space Exploration Technologies Corp. & 1 & 1 & 100 & 10.0 & 60 & 81199 & 5.3075e+10\\\\\n",
       "\\end{tabular}\n"
      ],
      "text/markdown": [
       "\n",
       "A data.frame: 6 × 9\n",
       "\n",
       "| <!--/--> | tract &lt;dbl&gt; | company &lt;chr&gt; | is_consumer &lt;int&gt; | is_business &lt;int&gt; | max_d_mbps &lt;dbl&gt; | max_u_mbps &lt;dbl&gt; | technology_code &lt;int&gt; | provider_id &lt;int&gt; | GEOID &lt;dbl&gt; |\n",
       "|---|---|---|---|---|---|---|---|---|---|\n",
       "| 1 | 6.02 | VSATSystemsLLC                       | 1 | 1 |   2 |  1.3 | 60 | 76178 | 5.3075e+10 |\n",
       "| 2 | 6.02 | First Step Internet, LLC             | 1 | 0 |  25 |  4.0 | 70 | 77236 | 5.3075e+10 |\n",
       "| 3 | 6.02 | GCI Communication Corp.              | 0 | 1 |   0 |  0.0 | 60 | 80632 | 5.3075e+10 |\n",
       "| 4 | 6.02 | Viasat Inc                           | 1 | 1 | 100 |  3.0 | 60 | 79497 | 5.3075e+10 |\n",
       "| 5 | 6.02 | HughesNet                            | 1 | 1 |  25 |  3.0 | 60 | 81097 | 5.3075e+10 |\n",
       "| 6 | 6.02 | Space Exploration Technologies Corp. | 1 | 1 | 100 | 10.0 | 60 | 81199 | 5.3075e+10 |\n",
       "\n"
      ],
      "text/plain": [
       "  tract company                              is_consumer is_business max_d_mbps\n",
       "1 6.02  VSATSystemsLLC                       1           1             2       \n",
       "2 6.02  First Step Internet, LLC             1           0            25       \n",
       "3 6.02  GCI Communication Corp.              0           1             0       \n",
       "4 6.02  Viasat Inc                           1           1           100       \n",
       "5 6.02  HughesNet                            1           1            25       \n",
       "6 6.02  Space Exploration Technologies Corp. 1           1           100       \n",
       "  max_u_mbps technology_code provider_id GEOID     \n",
       "1  1.3       60              76178       5.3075e+10\n",
       "2  4.0       70              77236       5.3075e+10\n",
       "3  0.0       60              80632       5.3075e+10\n",
       "4  3.0       60              79497       5.3075e+10\n",
       "5  3.0       60              81097       5.3075e+10\n",
       "6 10.0       60              81199       5.3075e+10"
      ]
     },
     "metadata": {},
     "output_type": "display_data"
    }
   ],
   "source": [
    "head(provider_data)"
   ]
  },
  {
   "cell_type": "code",
   "execution_count": 6,
   "metadata": {
    "vscode": {
     "languageId": "r"
    }
   },
   "outputs": [
    {
     "name": "stderr",
     "output_type": "stream",
     "text": [
      "\u001b[1m\u001b[22mJoining with `by = join_by(company, provider_id)`\n"
     ]
    }
   ],
   "source": [
    "internet_cost <- inner_join(provider_data, internet_cost)  %>% select(GEOID, tract, provider_id, lowest_per_month)"
   ]
  },
  {
   "cell_type": "code",
   "execution_count": 7,
   "metadata": {
    "vscode": {
     "languageId": "r"
    }
   },
   "outputs": [
    {
     "data": {
      "text/html": [
       "<table class=\"dataframe\">\n",
       "<caption>A data.frame: 6 × 4</caption>\n",
       "<thead>\n",
       "\t<tr><th></th><th scope=col>GEOID</th><th scope=col>tract</th><th scope=col>provider_id</th><th scope=col>lowest_per_month</th></tr>\n",
       "\t<tr><th></th><th scope=col>&lt;dbl&gt;</th><th scope=col>&lt;dbl&gt;</th><th scope=col>&lt;int&gt;</th><th scope=col>&lt;int&gt;</th></tr>\n",
       "</thead>\n",
       "<tbody>\n",
       "\t<tr><th scope=row>1</th><td>5.3075e+10</td><td>6.02</td><td>77236</td><td> 40</td></tr>\n",
       "\t<tr><th scope=row>2</th><td>5.3075e+10</td><td>6.02</td><td>79497</td><td> 70</td></tr>\n",
       "\t<tr><th scope=row>3</th><td>5.3075e+10</td><td>6.02</td><td>81097</td><td> 65</td></tr>\n",
       "\t<tr><th scope=row>4</th><td>5.3075e+10</td><td>6.02</td><td>81199</td><td>110</td></tr>\n",
       "\t<tr><th scope=row>5</th><td>5.3075e+10</td><td>6.02</td><td>81199</td><td>110</td></tr>\n",
       "\t<tr><th scope=row>6</th><td>5.3075e+10</td><td>6.02</td><td>78962</td><td> 20</td></tr>\n",
       "</tbody>\n",
       "</table>\n"
      ],
      "text/latex": [
       "A data.frame: 6 × 4\n",
       "\\begin{tabular}{r|llll}\n",
       "  & GEOID & tract & provider\\_id & lowest\\_per\\_month\\\\\n",
       "  & <dbl> & <dbl> & <int> & <int>\\\\\n",
       "\\hline\n",
       "\t1 & 5.3075e+10 & 6.02 & 77236 &  40\\\\\n",
       "\t2 & 5.3075e+10 & 6.02 & 79497 &  70\\\\\n",
       "\t3 & 5.3075e+10 & 6.02 & 81097 &  65\\\\\n",
       "\t4 & 5.3075e+10 & 6.02 & 81199 & 110\\\\\n",
       "\t5 & 5.3075e+10 & 6.02 & 81199 & 110\\\\\n",
       "\t6 & 5.3075e+10 & 6.02 & 78962 &  20\\\\\n",
       "\\end{tabular}\n"
      ],
      "text/markdown": [
       "\n",
       "A data.frame: 6 × 4\n",
       "\n",
       "| <!--/--> | GEOID &lt;dbl&gt; | tract &lt;dbl&gt; | provider_id &lt;int&gt; | lowest_per_month &lt;int&gt; |\n",
       "|---|---|---|---|---|\n",
       "| 1 | 5.3075e+10 | 6.02 | 77236 |  40 |\n",
       "| 2 | 5.3075e+10 | 6.02 | 79497 |  70 |\n",
       "| 3 | 5.3075e+10 | 6.02 | 81097 |  65 |\n",
       "| 4 | 5.3075e+10 | 6.02 | 81199 | 110 |\n",
       "| 5 | 5.3075e+10 | 6.02 | 81199 | 110 |\n",
       "| 6 | 5.3075e+10 | 6.02 | 78962 |  20 |\n",
       "\n"
      ],
      "text/plain": [
       "  GEOID      tract provider_id lowest_per_month\n",
       "1 5.3075e+10 6.02  77236        40             \n",
       "2 5.3075e+10 6.02  79497        70             \n",
       "3 5.3075e+10 6.02  81097        65             \n",
       "4 5.3075e+10 6.02  81199       110             \n",
       "5 5.3075e+10 6.02  81199       110             \n",
       "6 5.3075e+10 6.02  78962        20             "
      ]
     },
     "metadata": {},
     "output_type": "display_data"
    }
   ],
   "source": [
    "head(internet_cost)"
   ]
  },
  {
   "cell_type": "code",
   "execution_count": 8,
   "metadata": {
    "vscode": {
     "languageId": "r"
    }
   },
   "outputs": [
    {
     "data": {
      "text/html": [
       "<table class=\"dataframe\">\n",
       "<caption>A data.frame: 12 × 4</caption>\n",
       "<thead>\n",
       "\t<tr><th></th><th scope=col>GEOID</th><th scope=col>tract</th><th scope=col>provider_id</th><th scope=col>lowest_per_month</th></tr>\n",
       "\t<tr><th></th><th scope=col>&lt;dbl&gt;</th><th scope=col>&lt;dbl&gt;</th><th scope=col>&lt;int&gt;</th><th scope=col>&lt;int&gt;</th></tr>\n",
       "</thead>\n",
       "<tbody>\n",
       "\t<tr><th scope=row>1</th><td>53001950100</td><td>9501</td><td>79497</td><td> 70</td></tr>\n",
       "\t<tr><th scope=row>3</th><td>53001950100</td><td>9501</td><td>81097</td><td> 65</td></tr>\n",
       "\t<tr><th scope=row>4</th><td>53001950100</td><td>9501</td><td>78774</td><td> 43</td></tr>\n",
       "\t<tr><th scope=row>6</th><td>53001950100</td><td>9501</td><td>81199</td><td>110</td></tr>\n",
       "\t<tr><th scope=row>7</th><td>53001950100</td><td>9501</td><td>78688</td><td> 46</td></tr>\n",
       "\t<tr><th scope=row>15</th><td>53001950100</td><td>9501</td><td>81190</td><td> 50</td></tr>\n",
       "\t<tr><th scope=row>24</th><td>53001950100</td><td>9501</td><td>79653</td><td> 49</td></tr>\n",
       "\t<tr><th scope=row>56</th><td>53001950100</td><td>9501</td><td>86844</td><td> 50</td></tr>\n",
       "\t<tr><th scope=row>66</th><td>53001950100</td><td>9501</td><td>77036</td><td> 50</td></tr>\n",
       "\t<tr><th scope=row>78</th><td>53001950100</td><td>9501</td><td>75896</td><td> 50</td></tr>\n",
       "\t<tr><th scope=row>178</th><td>53001950100</td><td>9501</td><td>84932</td><td> 30</td></tr>\n",
       "\t<tr><th scope=row>2115</th><td>53001950100</td><td>9501</td><td>76068</td><td> 38</td></tr>\n",
       "</tbody>\n",
       "</table>\n"
      ],
      "text/latex": [
       "A data.frame: 12 × 4\n",
       "\\begin{tabular}{r|llll}\n",
       "  & GEOID & tract & provider\\_id & lowest\\_per\\_month\\\\\n",
       "  & <dbl> & <dbl> & <int> & <int>\\\\\n",
       "\\hline\n",
       "\t1 & 53001950100 & 9501 & 79497 &  70\\\\\n",
       "\t3 & 53001950100 & 9501 & 81097 &  65\\\\\n",
       "\t4 & 53001950100 & 9501 & 78774 &  43\\\\\n",
       "\t6 & 53001950100 & 9501 & 81199 & 110\\\\\n",
       "\t7 & 53001950100 & 9501 & 78688 &  46\\\\\n",
       "\t15 & 53001950100 & 9501 & 81190 &  50\\\\\n",
       "\t24 & 53001950100 & 9501 & 79653 &  49\\\\\n",
       "\t56 & 53001950100 & 9501 & 86844 &  50\\\\\n",
       "\t66 & 53001950100 & 9501 & 77036 &  50\\\\\n",
       "\t78 & 53001950100 & 9501 & 75896 &  50\\\\\n",
       "\t178 & 53001950100 & 9501 & 84932 &  30\\\\\n",
       "\t2115 & 53001950100 & 9501 & 76068 &  38\\\\\n",
       "\\end{tabular}\n"
      ],
      "text/markdown": [
       "\n",
       "A data.frame: 12 × 4\n",
       "\n",
       "| <!--/--> | GEOID &lt;dbl&gt; | tract &lt;dbl&gt; | provider_id &lt;int&gt; | lowest_per_month &lt;int&gt; |\n",
       "|---|---|---|---|---|\n",
       "| 1 | 53001950100 | 9501 | 79497 |  70 |\n",
       "| 3 | 53001950100 | 9501 | 81097 |  65 |\n",
       "| 4 | 53001950100 | 9501 | 78774 |  43 |\n",
       "| 6 | 53001950100 | 9501 | 81199 | 110 |\n",
       "| 7 | 53001950100 | 9501 | 78688 |  46 |\n",
       "| 15 | 53001950100 | 9501 | 81190 |  50 |\n",
       "| 24 | 53001950100 | 9501 | 79653 |  49 |\n",
       "| 56 | 53001950100 | 9501 | 86844 |  50 |\n",
       "| 66 | 53001950100 | 9501 | 77036 |  50 |\n",
       "| 78 | 53001950100 | 9501 | 75896 |  50 |\n",
       "| 178 | 53001950100 | 9501 | 84932 |  30 |\n",
       "| 2115 | 53001950100 | 9501 | 76068 |  38 |\n",
       "\n"
      ],
      "text/plain": [
       "     GEOID       tract provider_id lowest_per_month\n",
       "1    53001950100 9501  79497        70             \n",
       "3    53001950100 9501  81097        65             \n",
       "4    53001950100 9501  78774        43             \n",
       "6    53001950100 9501  81199       110             \n",
       "7    53001950100 9501  78688        46             \n",
       "15   53001950100 9501  81190        50             \n",
       "24   53001950100 9501  79653        49             \n",
       "56   53001950100 9501  86844        50             \n",
       "66   53001950100 9501  77036        50             \n",
       "78   53001950100 9501  75896        50             \n",
       "178  53001950100 9501  84932        30             \n",
       "2115 53001950100 9501  76068        38             "
      ]
     },
     "metadata": {},
     "output_type": "display_data"
    }
   ],
   "source": [
    "internet_cost %>% \n",
    "    filter(GEOID == 53001950100) %>% \n",
    "    unique()"
   ]
  },
  {
   "cell_type": "code",
   "execution_count": 9,
   "metadata": {
    "vscode": {
     "languageId": "r"
    }
   },
   "outputs": [],
   "source": [
    "internet_cost <- internet_cost %>% \n",
    "    group_by(GEOID) %>% \n",
    "    unique() %>% \n",
    "    summarise(\n",
    "        number_providers = n(),\n",
    "        lowest_cost = min(lowest_per_month)\n",
    "    )"
   ]
  },
  {
   "cell_type": "code",
   "execution_count": 10,
   "metadata": {
    "vscode": {
     "languageId": "r"
    }
   },
   "outputs": [
    {
     "data": {
      "text/html": [
       "<table class=\"dataframe\">\n",
       "<caption>A tibble: 6 × 3</caption>\n",
       "<thead>\n",
       "\t<tr><th scope=col>GEOID</th><th scope=col>number_providers</th><th scope=col>lowest_cost</th></tr>\n",
       "\t<tr><th scope=col>&lt;dbl&gt;</th><th scope=col>&lt;int&gt;</th><th scope=col>&lt;int&gt;</th></tr>\n",
       "</thead>\n",
       "<tbody>\n",
       "\t<tr><td>53001950100</td><td>12</td><td>30</td></tr>\n",
       "\t<tr><td>53001950200</td><td>12</td><td>30</td></tr>\n",
       "\t<tr><td>53001950301</td><td> 8</td><td>30</td></tr>\n",
       "\t<tr><td>53001950302</td><td> 8</td><td>30</td></tr>\n",
       "\t<tr><td>53001950303</td><td> 8</td><td>30</td></tr>\n",
       "\t<tr><td>53001950400</td><td> 9</td><td>30</td></tr>\n",
       "</tbody>\n",
       "</table>\n"
      ],
      "text/latex": [
       "A tibble: 6 × 3\n",
       "\\begin{tabular}{lll}\n",
       " GEOID & number\\_providers & lowest\\_cost\\\\\n",
       " <dbl> & <int> & <int>\\\\\n",
       "\\hline\n",
       "\t 53001950100 & 12 & 30\\\\\n",
       "\t 53001950200 & 12 & 30\\\\\n",
       "\t 53001950301 &  8 & 30\\\\\n",
       "\t 53001950302 &  8 & 30\\\\\n",
       "\t 53001950303 &  8 & 30\\\\\n",
       "\t 53001950400 &  9 & 30\\\\\n",
       "\\end{tabular}\n"
      ],
      "text/markdown": [
       "\n",
       "A tibble: 6 × 3\n",
       "\n",
       "| GEOID &lt;dbl&gt; | number_providers &lt;int&gt; | lowest_cost &lt;int&gt; |\n",
       "|---|---|---|\n",
       "| 53001950100 | 12 | 30 |\n",
       "| 53001950200 | 12 | 30 |\n",
       "| 53001950301 |  8 | 30 |\n",
       "| 53001950302 |  8 | 30 |\n",
       "| 53001950303 |  8 | 30 |\n",
       "| 53001950400 |  9 | 30 |\n",
       "\n"
      ],
      "text/plain": [
       "  GEOID       number_providers lowest_cost\n",
       "1 53001950100 12               30         \n",
       "2 53001950200 12               30         \n",
       "3 53001950301  8               30         \n",
       "4 53001950302  8               30         \n",
       "5 53001950303  8               30         \n",
       "6 53001950400  9               30         "
      ]
     },
     "metadata": {},
     "output_type": "display_data"
    }
   ],
   "source": [
    "head(internet_cost)"
   ]
  },
  {
   "cell_type": "code",
   "execution_count": 26,
   "metadata": {
    "vscode": {
     "languageId": "r"
    }
   },
   "outputs": [],
   "source": [
    "internet_cost <- internet_cost %>% select(-number_providers)"
   ]
  },
  {
   "cell_type": "code",
   "execution_count": 28,
   "metadata": {
    "vscode": {
     "languageId": "r"
    }
   },
   "outputs": [
    {
     "name": "stderr",
     "output_type": "stream",
     "text": [
      "\u001b[1m\u001b[22mJoining with `by = join_by(GEOID)`\n"
     ]
    }
   ],
   "source": [
    "data <- left_join(data, internet_cost) %>% select(-mean_lowest_cost)"
   ]
  },
  {
   "cell_type": "code",
   "execution_count": 37,
   "metadata": {
    "vscode": {
     "languageId": "r"
    }
   },
   "outputs": [],
   "source": [
    "data$lowest_cost[is.na(data$lowest_cost)] <- mean(data$lowest_cost, na.rm=TRUE)"
   ]
  },
  {
   "cell_type": "code",
   "execution_count": 40,
   "metadata": {
    "vscode": {
     "languageId": "r"
    }
   },
   "outputs": [],
   "source": [
    "# write.csv(data, \"../data/combined_data.csv\", row.names = FALSE)"
   ]
  }
 ],
 "metadata": {
  "kernelspec": {
   "display_name": "R",
   "language": "R",
   "name": "ir"
  },
  "language_info": {
   "codemirror_mode": "r",
   "file_extension": ".r",
   "mimetype": "text/x-r-source",
   "name": "R",
   "pygments_lexer": "r",
   "version": "4.3.0"
  },
  "orig_nbformat": 4,
  "vscode": {
   "interpreter": {
    "hash": "31f2aee4e71d21fbe5cf8b01ff0e069b9275f58929596ceb00d14d90e3e16cd6"
   }
  }
 },
 "nbformat": 4,
 "nbformat_minor": 2
}
