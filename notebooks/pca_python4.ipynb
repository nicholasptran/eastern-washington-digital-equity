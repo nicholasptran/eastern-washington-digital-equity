{
 "cells": [
  {
   "attachments": {},
   "cell_type": "markdown",
   "metadata": {
    "slideshow": {
     "slide_type": "slide"
    }
   },
   "source": [
    "# Eastern Washington Digital Equity\n",
    "\n",
    "## Nicholas Tran"
   ]
  },
  {
   "attachments": {},
   "cell_type": "markdown",
   "metadata": {
    "slideshow": {
     "slide_type": "slide"
    }
   },
   "source": [
    "# Preparation"
   ]
  },
  {
   "attachments": {},
   "cell_type": "markdown",
   "metadata": {
    "slideshow": {
     "slide_type": "subslide"
    }
   },
   "source": [
    "## Import The Modules"
   ]
  },
  {
   "cell_type": "code",
   "execution_count": 1,
   "metadata": {},
   "outputs": [
    {
     "ename": "KeyboardInterrupt",
     "evalue": "",
     "output_type": "error",
     "traceback": [
      "\u001b[1;31m---------------------------------------------------------------------------\u001b[0m",
      "\u001b[1;31mKeyboardInterrupt\u001b[0m                         Traceback (most recent call last)",
      "Cell \u001b[1;32mIn[1], line 6\u001b[0m\n\u001b[0;32m      4\u001b[0m \u001b[39mfrom\u001b[39;00m \u001b[39mpingouin\u001b[39;00m \u001b[39mimport\u001b[39;00m cronbach_alpha \u001b[39m# cronbach alpha\u001b[39;00m\n\u001b[0;32m      5\u001b[0m \u001b[39mfrom\u001b[39;00m \u001b[39mscipy\u001b[39;00m\u001b[39m.\u001b[39;00m\u001b[39mstats\u001b[39;00m \u001b[39mimport\u001b[39;00m pearsonr \u001b[39m# pearson correlation\u001b[39;00m\n\u001b[1;32m----> 6\u001b[0m \u001b[39mfrom\u001b[39;00m \u001b[39msklearn\u001b[39;00m \u001b[39mimport\u001b[39;00m linear_model \u001b[39mas\u001b[39;00m lm \u001b[39m# linear regression \u001b[39;00m\n\u001b[0;32m      7\u001b[0m \u001b[39mfrom\u001b[39;00m \u001b[39msklearn\u001b[39;00m\u001b[39m.\u001b[39;00m\u001b[39mfeature_selection\u001b[39;00m \u001b[39mimport\u001b[39;00m SequentialFeatureSelector \u001b[39mas\u001b[39;00m SFS \u001b[39m# to select features \u001b[39;00m\n\u001b[0;32m      8\u001b[0m \u001b[39mfrom\u001b[39;00m \u001b[39msklearn\u001b[39;00m\u001b[39m.\u001b[39;00m\u001b[39mpreprocessing\u001b[39;00m \u001b[39mimport\u001b[39;00m StandardScaler  \u001b[39m# scale the data\u001b[39;00m\n",
      "File \u001b[1;32mc:\\Users\\Nicholas\\AppData\\Local\\pypoetry\\Cache\\virtualenvs\\washington-digital-equity-u1Zqo0Am-py3.11\\Lib\\site-packages\\sklearn\\__init__.py:82\u001b[0m\n\u001b[0;32m     80\u001b[0m \u001b[39mfrom\u001b[39;00m \u001b[39m.\u001b[39;00m \u001b[39mimport\u001b[39;00m _distributor_init  \u001b[39m# noqa: F401\u001b[39;00m\n\u001b[0;32m     81\u001b[0m \u001b[39mfrom\u001b[39;00m \u001b[39m.\u001b[39;00m \u001b[39mimport\u001b[39;00m __check_build  \u001b[39m# noqa: F401\u001b[39;00m\n\u001b[1;32m---> 82\u001b[0m \u001b[39mfrom\u001b[39;00m \u001b[39m.\u001b[39;00m\u001b[39mbase\u001b[39;00m \u001b[39mimport\u001b[39;00m clone\n\u001b[0;32m     83\u001b[0m \u001b[39mfrom\u001b[39;00m \u001b[39m.\u001b[39;00m\u001b[39mutils\u001b[39;00m\u001b[39m.\u001b[39;00m\u001b[39m_show_versions\u001b[39;00m \u001b[39mimport\u001b[39;00m show_versions\n\u001b[0;32m     85\u001b[0m __all__ \u001b[39m=\u001b[39m [\n\u001b[0;32m     86\u001b[0m     \u001b[39m\"\u001b[39m\u001b[39mcalibration\u001b[39m\u001b[39m\"\u001b[39m,\n\u001b[0;32m     87\u001b[0m     \u001b[39m\"\u001b[39m\u001b[39mcluster\u001b[39m\u001b[39m\"\u001b[39m,\n\u001b[1;32m   (...)\u001b[0m\n\u001b[0;32m    128\u001b[0m     \u001b[39m\"\u001b[39m\u001b[39mshow_versions\u001b[39m\u001b[39m\"\u001b[39m,\n\u001b[0;32m    129\u001b[0m ]\n",
      "File \u001b[1;32mc:\\Users\\Nicholas\\AppData\\Local\\pypoetry\\Cache\\virtualenvs\\washington-digital-equity-u1Zqo0Am-py3.11\\Lib\\site-packages\\sklearn\\base.py:17\u001b[0m\n\u001b[0;32m     15\u001b[0m \u001b[39mfrom\u001b[39;00m \u001b[39m.\u001b[39;00m \u001b[39mimport\u001b[39;00m __version__\n\u001b[0;32m     16\u001b[0m \u001b[39mfrom\u001b[39;00m \u001b[39m.\u001b[39;00m\u001b[39m_config\u001b[39;00m \u001b[39mimport\u001b[39;00m get_config\n\u001b[1;32m---> 17\u001b[0m \u001b[39mfrom\u001b[39;00m \u001b[39m.\u001b[39;00m\u001b[39mutils\u001b[39;00m \u001b[39mimport\u001b[39;00m _IS_32BIT\n\u001b[0;32m     18\u001b[0m \u001b[39mfrom\u001b[39;00m \u001b[39m.\u001b[39;00m\u001b[39mutils\u001b[39;00m\u001b[39m.\u001b[39;00m\u001b[39m_set_output\u001b[39;00m \u001b[39mimport\u001b[39;00m _SetOutputMixin\n\u001b[0;32m     19\u001b[0m \u001b[39mfrom\u001b[39;00m \u001b[39m.\u001b[39;00m\u001b[39mutils\u001b[39;00m\u001b[39m.\u001b[39;00m\u001b[39m_tags\u001b[39;00m \u001b[39mimport\u001b[39;00m (\n\u001b[0;32m     20\u001b[0m     _DEFAULT_TAGS,\n\u001b[0;32m     21\u001b[0m )\n",
      "File \u001b[1;32mc:\\Users\\Nicholas\\AppData\\Local\\pypoetry\\Cache\\virtualenvs\\washington-digital-equity-u1Zqo0Am-py3.11\\Lib\\site-packages\\sklearn\\utils\\__init__.py:21\u001b[0m\n\u001b[0;32m     19\u001b[0m \u001b[39mfrom\u001b[39;00m \u001b[39m.\u001b[39;00m\u001b[39mmurmurhash\u001b[39;00m \u001b[39mimport\u001b[39;00m murmurhash3_32\n\u001b[0;32m     20\u001b[0m \u001b[39mfrom\u001b[39;00m \u001b[39m.\u001b[39;00m\u001b[39mclass_weight\u001b[39;00m \u001b[39mimport\u001b[39;00m compute_class_weight, compute_sample_weight\n\u001b[1;32m---> 21\u001b[0m \u001b[39mfrom\u001b[39;00m \u001b[39m.\u001b[39;00m \u001b[39mimport\u001b[39;00m _joblib\n\u001b[0;32m     22\u001b[0m \u001b[39mfrom\u001b[39;00m \u001b[39m.\u001b[39;00m\u001b[39m.\u001b[39;00m\u001b[39mexceptions\u001b[39;00m \u001b[39mimport\u001b[39;00m DataConversionWarning\n\u001b[0;32m     23\u001b[0m \u001b[39mfrom\u001b[39;00m \u001b[39m.\u001b[39;00m\u001b[39mdeprecation\u001b[39;00m \u001b[39mimport\u001b[39;00m deprecated\n",
      "File \u001b[1;32mc:\\Users\\Nicholas\\AppData\\Local\\pypoetry\\Cache\\virtualenvs\\washington-digital-equity-u1Zqo0Am-py3.11\\Lib\\site-packages\\sklearn\\utils\\_joblib.py:7\u001b[0m\n\u001b[0;32m      4\u001b[0m _warnings\u001b[39m.\u001b[39msimplefilter(\u001b[39m\"\u001b[39m\u001b[39mignore\u001b[39m\u001b[39m\"\u001b[39m)\n\u001b[0;32m      5\u001b[0m \u001b[39m# joblib imports may raise DeprecationWarning on certain Python\u001b[39;00m\n\u001b[0;32m      6\u001b[0m \u001b[39m# versions\u001b[39;00m\n\u001b[1;32m----> 7\u001b[0m \u001b[39mimport\u001b[39;00m \u001b[39mjoblib\u001b[39;00m\n\u001b[0;32m      8\u001b[0m \u001b[39mfrom\u001b[39;00m \u001b[39mjoblib\u001b[39;00m \u001b[39mimport\u001b[39;00m logger\n\u001b[0;32m      9\u001b[0m \u001b[39mfrom\u001b[39;00m \u001b[39mjoblib\u001b[39;00m \u001b[39mimport\u001b[39;00m dump, load\n",
      "File \u001b[1;32mc:\\Users\\Nicholas\\AppData\\Local\\pypoetry\\Cache\\virtualenvs\\washington-digital-equity-u1Zqo0Am-py3.11\\Lib\\site-packages\\joblib\\__init__.py:120\u001b[0m\n\u001b[0;32m    118\u001b[0m \u001b[39mfrom\u001b[39;00m \u001b[39m.\u001b[39;00m\u001b[39mnumpy_pickle\u001b[39;00m \u001b[39mimport\u001b[39;00m load\n\u001b[0;32m    119\u001b[0m \u001b[39mfrom\u001b[39;00m \u001b[39m.\u001b[39;00m\u001b[39mcompressor\u001b[39;00m \u001b[39mimport\u001b[39;00m register_compressor\n\u001b[1;32m--> 120\u001b[0m \u001b[39mfrom\u001b[39;00m \u001b[39m.\u001b[39;00m\u001b[39mparallel\u001b[39;00m \u001b[39mimport\u001b[39;00m Parallel\n\u001b[0;32m    121\u001b[0m \u001b[39mfrom\u001b[39;00m \u001b[39m.\u001b[39;00m\u001b[39mparallel\u001b[39;00m \u001b[39mimport\u001b[39;00m delayed\n\u001b[0;32m    122\u001b[0m \u001b[39mfrom\u001b[39;00m \u001b[39m.\u001b[39;00m\u001b[39mparallel\u001b[39;00m \u001b[39mimport\u001b[39;00m cpu_count\n",
      "File \u001b[1;32mc:\\Users\\Nicholas\\AppData\\Local\\pypoetry\\Cache\\virtualenvs\\washington-digital-equity-u1Zqo0Am-py3.11\\Lib\\site-packages\\joblib\\parallel.py:26\u001b[0m\n\u001b[0;32m     24\u001b[0m \u001b[39mfrom\u001b[39;00m \u001b[39m.\u001b[39;00m\u001b[39mlogger\u001b[39;00m \u001b[39mimport\u001b[39;00m Logger, short_format_time\n\u001b[0;32m     25\u001b[0m \u001b[39mfrom\u001b[39;00m \u001b[39m.\u001b[39;00m\u001b[39mdisk\u001b[39;00m \u001b[39mimport\u001b[39;00m memstr_to_bytes\n\u001b[1;32m---> 26\u001b[0m \u001b[39mfrom\u001b[39;00m \u001b[39m.\u001b[39;00m\u001b[39m_parallel_backends\u001b[39;00m \u001b[39mimport\u001b[39;00m (FallbackToBackend, MultiprocessingBackend,\n\u001b[0;32m     27\u001b[0m                                  ThreadingBackend, SequentialBackend,\n\u001b[0;32m     28\u001b[0m                                  LokyBackend)\n\u001b[0;32m     29\u001b[0m \u001b[39mfrom\u001b[39;00m \u001b[39m.\u001b[39;00m\u001b[39mexternals\u001b[39;00m\u001b[39m.\u001b[39;00m\u001b[39mcloudpickle\u001b[39;00m \u001b[39mimport\u001b[39;00m dumps, loads\n\u001b[0;32m     30\u001b[0m \u001b[39mfrom\u001b[39;00m \u001b[39m.\u001b[39;00m\u001b[39m_utils\u001b[39;00m \u001b[39mimport\u001b[39;00m eval_expr\n",
      "File \u001b[1;32mc:\\Users\\Nicholas\\AppData\\Local\\pypoetry\\Cache\\virtualenvs\\washington-digital-equity-u1Zqo0Am-py3.11\\Lib\\site-packages\\joblib\\_parallel_backends.py:17\u001b[0m\n\u001b[0;32m     14\u001b[0m \u001b[39mfrom\u001b[39;00m \u001b[39m.\u001b[39;00m\u001b[39m_multiprocessing_helpers\u001b[39;00m \u001b[39mimport\u001b[39;00m mp\n\u001b[0;32m     16\u001b[0m \u001b[39mif\u001b[39;00m mp \u001b[39mis\u001b[39;00m \u001b[39mnot\u001b[39;00m \u001b[39mNone\u001b[39;00m:\n\u001b[1;32m---> 17\u001b[0m     \u001b[39mfrom\u001b[39;00m \u001b[39m.\u001b[39;00m\u001b[39mpool\u001b[39;00m \u001b[39mimport\u001b[39;00m MemmappingPool\n\u001b[0;32m     18\u001b[0m     \u001b[39mfrom\u001b[39;00m \u001b[39mmultiprocessing\u001b[39;00m\u001b[39m.\u001b[39;00m\u001b[39mpool\u001b[39;00m \u001b[39mimport\u001b[39;00m ThreadPool\n\u001b[0;32m     19\u001b[0m     \u001b[39mfrom\u001b[39;00m \u001b[39m.\u001b[39;00m\u001b[39mexecutor\u001b[39;00m \u001b[39mimport\u001b[39;00m get_memmapping_executor\n",
      "File \u001b[1;32mc:\\Users\\Nicholas\\AppData\\Local\\pypoetry\\Cache\\virtualenvs\\washington-digital-equity-u1Zqo0Am-py3.11\\Lib\\site-packages\\joblib\\pool.py:31\u001b[0m\n\u001b[0;32m     28\u001b[0m \u001b[39mfrom\u001b[39;00m \u001b[39mpickle\u001b[39;00m \u001b[39mimport\u001b[39;00m HIGHEST_PROTOCOL\n\u001b[0;32m     29\u001b[0m \u001b[39mfrom\u001b[39;00m \u001b[39mio\u001b[39;00m \u001b[39mimport\u001b[39;00m BytesIO\n\u001b[1;32m---> 31\u001b[0m \u001b[39mfrom\u001b[39;00m \u001b[39m.\u001b[39;00m\u001b[39m_memmapping_reducer\u001b[39;00m \u001b[39mimport\u001b[39;00m get_memmapping_reducers\n\u001b[0;32m     32\u001b[0m \u001b[39mfrom\u001b[39;00m \u001b[39m.\u001b[39;00m\u001b[39m_memmapping_reducer\u001b[39;00m \u001b[39mimport\u001b[39;00m TemporaryResourcesManager\n\u001b[0;32m     33\u001b[0m \u001b[39mfrom\u001b[39;00m \u001b[39m.\u001b[39;00m\u001b[39m_multiprocessing_helpers\u001b[39;00m \u001b[39mimport\u001b[39;00m mp, assert_spawning\n",
      "File \u001b[1;32mc:\\Users\\Nicholas\\AppData\\Local\\pypoetry\\Cache\\virtualenvs\\washington-digital-equity-u1Zqo0Am-py3.11\\Lib\\site-packages\\joblib\\_memmapping_reducer.py:37\u001b[0m\n\u001b[0;32m     35\u001b[0m \u001b[39mfrom\u001b[39;00m \u001b[39m.\u001b[39;00m\u001b[39mbackports\u001b[39;00m \u001b[39mimport\u001b[39;00m make_memmap\n\u001b[0;32m     36\u001b[0m \u001b[39mfrom\u001b[39;00m \u001b[39m.\u001b[39;00m\u001b[39mdisk\u001b[39;00m \u001b[39mimport\u001b[39;00m delete_folder\n\u001b[1;32m---> 37\u001b[0m \u001b[39mfrom\u001b[39;00m \u001b[39m.\u001b[39;00m\u001b[39mexternals\u001b[39;00m\u001b[39m.\u001b[39;00m\u001b[39mloky\u001b[39;00m\u001b[39m.\u001b[39;00m\u001b[39mbackend\u001b[39;00m \u001b[39mimport\u001b[39;00m resource_tracker\n\u001b[0;32m     39\u001b[0m \u001b[39m# Some system have a ramdisk mounted by default, we can use it instead of /tmp\u001b[39;00m\n\u001b[0;32m     40\u001b[0m \u001b[39m# as the default folder to dump big arrays to share with subprocesses.\u001b[39;00m\n\u001b[0;32m     41\u001b[0m SYSTEM_SHARED_MEM_FS \u001b[39m=\u001b[39m \u001b[39m'\u001b[39m\u001b[39m/dev/shm\u001b[39m\u001b[39m'\u001b[39m\n",
      "File \u001b[1;32mc:\\Users\\Nicholas\\AppData\\Local\\pypoetry\\Cache\\virtualenvs\\washington-digital-equity-u1Zqo0Am-py3.11\\Lib\\site-packages\\joblib\\externals\\loky\\__init__.py:19\u001b[0m\n\u001b[0;32m     17\u001b[0m \u001b[39mfrom\u001b[39;00m \u001b[39m.\u001b[39;00m\u001b[39m_base\u001b[39;00m \u001b[39mimport\u001b[39;00m Future\n\u001b[0;32m     18\u001b[0m \u001b[39mfrom\u001b[39;00m \u001b[39m.\u001b[39;00m\u001b[39mbackend\u001b[39;00m\u001b[39m.\u001b[39;00m\u001b[39mcontext\u001b[39;00m \u001b[39mimport\u001b[39;00m cpu_count\n\u001b[1;32m---> 19\u001b[0m \u001b[39mfrom\u001b[39;00m \u001b[39m.\u001b[39;00m\u001b[39mbackend\u001b[39;00m\u001b[39m.\u001b[39;00m\u001b[39mreduction\u001b[39;00m \u001b[39mimport\u001b[39;00m set_loky_pickler\n\u001b[0;32m     20\u001b[0m \u001b[39mfrom\u001b[39;00m \u001b[39m.\u001b[39;00m\u001b[39mreusable_executor\u001b[39;00m \u001b[39mimport\u001b[39;00m get_reusable_executor\n\u001b[0;32m     21\u001b[0m \u001b[39mfrom\u001b[39;00m \u001b[39m.\u001b[39;00m\u001b[39mcloudpickle_wrapper\u001b[39;00m \u001b[39mimport\u001b[39;00m wrap_non_picklable_objects\n",
      "File \u001b[1;32mc:\\Users\\Nicholas\\AppData\\Local\\pypoetry\\Cache\\virtualenvs\\washington-digital-equity-u1Zqo0Am-py3.11\\Lib\\site-packages\\joblib\\externals\\loky\\backend\\reduction.py:82\u001b[0m\n\u001b[0;32m     80\u001b[0m \u001b[39m# global variable to change the pickler behavior\u001b[39;00m\n\u001b[0;32m     81\u001b[0m \u001b[39mtry\u001b[39;00m:\n\u001b[1;32m---> 82\u001b[0m     \u001b[39mfrom\u001b[39;00m \u001b[39mjoblib\u001b[39;00m\u001b[39m.\u001b[39;00m\u001b[39mexternals\u001b[39;00m \u001b[39mimport\u001b[39;00m cloudpickle  \u001b[39m# noqa: F401\u001b[39;00m\n\u001b[0;32m     83\u001b[0m     DEFAULT_ENV \u001b[39m=\u001b[39m \u001b[39m\"\u001b[39m\u001b[39mcloudpickle\u001b[39m\u001b[39m\"\u001b[39m\n\u001b[0;32m     84\u001b[0m \u001b[39mexcept\u001b[39;00m \u001b[39mImportError\u001b[39;00m:\n\u001b[0;32m     85\u001b[0m     \u001b[39m# If cloudpickle is not present, fallback to pickle\u001b[39;00m\n",
      "File \u001b[1;32m<frozen importlib._bootstrap>:1178\u001b[0m, in \u001b[0;36m_find_and_load\u001b[1;34m(name, import_)\u001b[0m\n",
      "File \u001b[1;32m<frozen importlib._bootstrap>:1149\u001b[0m, in \u001b[0;36m_find_and_load_unlocked\u001b[1;34m(name, import_)\u001b[0m\n",
      "File \u001b[1;32m<frozen importlib._bootstrap>:690\u001b[0m, in \u001b[0;36m_load_unlocked\u001b[1;34m(spec)\u001b[0m\n",
      "File \u001b[1;32m<frozen importlib._bootstrap_external>:936\u001b[0m, in \u001b[0;36mexec_module\u001b[1;34m(self, module)\u001b[0m\n",
      "File \u001b[1;32m<frozen importlib._bootstrap_external>:1032\u001b[0m, in \u001b[0;36mget_code\u001b[1;34m(self, fullname)\u001b[0m\n",
      "File \u001b[1;32m<frozen importlib._bootstrap_external>:1131\u001b[0m, in \u001b[0;36mget_data\u001b[1;34m(self, path)\u001b[0m\n",
      "\u001b[1;31mKeyboardInterrupt\u001b[0m: "
     ]
    }
   ],
   "source": [
    "import numpy as np  # matrix and array manipulation\n",
    "import pandas as pd  # dataframe manipulation\n",
    "import plotly.express as px # plotting\n",
    "from pingouin import cronbach_alpha # cronbach alpha\n",
    "from scipy.stats import pearsonr # pearson correlation\n",
    "from sklearn import linear_model as lm # linear regression \n",
    "from sklearn.feature_selection import SequentialFeatureSelector as SFS # to select features \n",
    "from sklearn.preprocessing import StandardScaler  # scale the data\n",
    "from statsmodels.stats.outliers_influence import variance_inflation_factor as VIF\n",
    "from factor_analyzer.factor_analyzer import (\n",
    "    calculate_kmo,\n",
    ")  # get measure of sampling adequacy\n",
    "\n",
    "# initialize the scaler\n",
    "scaler = StandardScaler()\n",
    "\n",
    "# use this as a method in corr() to get the pearson p values\n",
    "def pearsonr_pval(x, y):\n",
    "    return pearsonr(x, y)[1]\n",
    "import statsmodels.api as sm\n",
    "\n",
    "# turn scientific notation into decimals\n",
    "pd.options.display.float_format = \"{:.10f}\".format\n"
   ]
  },
  {
   "attachments": {},
   "cell_type": "markdown",
   "metadata": {
    "slideshow": {
     "slide_type": "subslide"
    }
   },
   "source": [
    "## Import The Dataset"
   ]
  },
  {
   "cell_type": "code",
   "execution_count": 2,
   "metadata": {},
   "outputs": [
    {
     "data": {
      "text/html": [
       "<div>\n",
       "<style scoped>\n",
       "    .dataframe tbody tr th:only-of-type {\n",
       "        vertical-align: middle;\n",
       "    }\n",
       "\n",
       "    .dataframe tbody tr th {\n",
       "        vertical-align: top;\n",
       "    }\n",
       "\n",
       "    .dataframe thead th {\n",
       "        text-align: right;\n",
       "    }\n",
       "</style>\n",
       "<table border=\"1\" class=\"dataframe\">\n",
       "  <thead>\n",
       "    <tr style=\"text-align: right;\">\n",
       "      <th></th>\n",
       "      <th>native_citizen</th>\n",
       "      <th>work_from_home</th>\n",
       "      <th>no_computer</th>\n",
       "      <th>internet_subscription</th>\n",
       "      <th>mean_d_mbps</th>\n",
       "      <th>mean_lat_ms</th>\n",
       "    </tr>\n",
       "  </thead>\n",
       "  <tbody>\n",
       "    <tr>\n",
       "      <th>0</th>\n",
       "      <td>2484</td>\n",
       "      <td>82</td>\n",
       "      <td>76</td>\n",
       "      <td>910</td>\n",
       "      <td>62.6586413043</td>\n",
       "      <td>42.6413043478</td>\n",
       "    </tr>\n",
       "    <tr>\n",
       "      <th>1</th>\n",
       "      <td>1623</td>\n",
       "      <td>47</td>\n",
       "      <td>64</td>\n",
       "      <td>487</td>\n",
       "      <td>61.9772073171</td>\n",
       "      <td>60.9024390244</td>\n",
       "    </tr>\n",
       "    <tr>\n",
       "      <th>2</th>\n",
       "      <td>1064</td>\n",
       "      <td>3</td>\n",
       "      <td>183</td>\n",
       "      <td>327</td>\n",
       "      <td>88.0868093023</td>\n",
       "      <td>60.1674418605</td>\n",
       "    </tr>\n",
       "    <tr>\n",
       "      <th>3</th>\n",
       "      <td>1669</td>\n",
       "      <td>26</td>\n",
       "      <td>55</td>\n",
       "      <td>515</td>\n",
       "      <td>87.0107878788</td>\n",
       "      <td>44.4242424242</td>\n",
       "    </tr>\n",
       "    <tr>\n",
       "      <th>4</th>\n",
       "      <td>1841</td>\n",
       "      <td>110</td>\n",
       "      <td>24</td>\n",
       "      <td>557</td>\n",
       "      <td>74.1417594937</td>\n",
       "      <td>37.8924050633</td>\n",
       "    </tr>\n",
       "  </tbody>\n",
       "</table>\n",
       "</div>"
      ],
      "text/plain": [
       "   native_citizen  work_from_home  no_computer  internet_subscription  \\\n",
       "0            2484              82           76                    910   \n",
       "1            1623              47           64                    487   \n",
       "2            1064               3          183                    327   \n",
       "3            1669              26           55                    515   \n",
       "4            1841             110           24                    557   \n",
       "\n",
       "    mean_d_mbps   mean_lat_ms  \n",
       "0 62.6586413043 42.6413043478  \n",
       "1 61.9772073171 60.9024390244  \n",
       "2 88.0868093023 60.1674418605  \n",
       "3 87.0107878788 44.4242424242  \n",
       "4 74.1417594937 37.8924050633  "
      ]
     },
     "execution_count": 2,
     "metadata": {},
     "output_type": "execute_result"
    }
   ],
   "source": [
    "dataset1 = pd.read_csv(\"../app/data/combined_data_new.csv\")\n",
    "\n",
    "dataset = dataset1[\n",
    "    [\n",
    "        \"native_citizen\",\n",
    "        \"work_from_home\",\n",
    "        \"no_computer\",\n",
    "        \"internet_subscription\",\n",
    "        \"mean_d_mbps\",\n",
    "        \"mean_lat_ms\",\n",
    "    ]\n",
    "]\n",
    "\n",
    "\n",
    "dataset.head()"
   ]
  },
  {
   "attachments": {},
   "cell_type": "markdown",
   "metadata": {
    "slideshow": {
     "slide_type": "subslide"
    }
   },
   "source": [
    "## Create A Class for The Data"
   ]
  },
  {
   "cell_type": "code",
   "execution_count": 3,
   "metadata": {},
   "outputs": [],
   "source": [
    "class PCA:\n",
    "    \"\"\"Input a df and get many things back.\n",
    "    https://stackoverflow.com/questions/13224362/principal-component-analysis-pca-in-python\n",
    "    \"\"\"\n",
    "\n",
    "    def __init__(self, df):\n",
    "        import numpy as np\n",
    "        from scipy import linalg as LA\n",
    "\n",
    "        self.data = df\n",
    "\n",
    "        # scale data\n",
    "        self.scaled = pd.DataFrame(scaler.fit_transform(df), columns=df.columns)\n",
    "\n",
    "        # kmo, total kmo\n",
    "        self.kmo, self.total_kmo = calculate_kmo(self.scaled)\n",
    "        self.kmo = pd.DataFrame(self.data.columns, self.kmo).reset_index()\n",
    "        self.kmo = self.kmo.rename(columns={\"index\": \"KMO\", 0: \"Variables\"})\n",
    "\n",
    "        # center data\n",
    "        self.center = self.scaled.apply(lambda x: x - x.mean())\n",
    "\n",
    "        # covariance\n",
    "        self.cov = pd.DataFrame(\n",
    "            np.cov(self.center, rowvar=False),\n",
    "            columns=self.scaled.columns,\n",
    "            index=self.scaled.columns,\n",
    "        )\n",
    "\n",
    "        # eigenvalues and loadings(eigenvectors)\n",
    "        self.eigenvalues, self.loadings = LA.eigh(self.cov)\n",
    "\n",
    "        # sort eigenvalues and loadings from\n",
    "        sorter = np.argsort(self.eigenvalues)[::-1]\n",
    "        self.loadings = self.loadings[:, sorter]\n",
    "        self.eigenvalues = self.eigenvalues[sorter]\n",
    "\n",
    "        pc_list = [\"pc\" + str(i + 1) for i in range(len(self.eigenvalues))]\n",
    "\n",
    "        # turn into dataframe\n",
    "        self.loadings = pd.DataFrame(\n",
    "            self.loadings, index=self.scaled.columns, columns=pc_list\n",
    "        )\n",
    "        self.eigenvalues = pd.DataFrame(\n",
    "            self.eigenvalues, index=pc_list, columns=[\"eigenvalues\"]\n",
    "        )\n",
    "\n",
    "        # pca scores - scaled data * loadings\n",
    "        self.scores = self.scaled @ self.loadings\n",
    "\n",
    "        # percent explained\n",
    "        explained_variance = self.eigenvalues / self.eigenvalues.sum() * 100\n",
    "        self.percent_explained = pd.DataFrame(explained_variance).round(2)\n",
    "\n",
    "        self.percent_explained[\n",
    "            \"cumulative_explained_variance\"\n",
    "        ] = self.percent_explained.cumsum().round(2)\n",
    "        self.percent_explained.columns.values[0] = \"explained_variance\"\n",
    "\n",
    "        # scree plot\n",
    "        self.scree = (\n",
    "            px.line(\n",
    "                self.percent_explained,\n",
    "                x=pc_list,\n",
    "                y=\"cumulative_explained_variance\",\n",
    "                text=\"cumulative_explained_variance\",\n",
    "                color=px.Constant(\"cumulative explained variance\"),\n",
    "            )\n",
    "            .update_traces(textposition=\"top left\")\n",
    "            .add_bar(\n",
    "                x=pc_list,\n",
    "                y=self.percent_explained.explained_variance,\n",
    "                name=\"explained variance\",\n",
    "                text=self.percent_explained.explained_variance,\n",
    "            )\n",
    "        )\n",
    "\n",
    "    def calculate_weights(self, number_of_components):\n",
    "        \"\"\"calculate coefficients using your eigenvalues. Multiplies each row by the respective\n",
    "        eigenvalue. Row 1 of loadings will be multiplied by eigenvalue 1. Row 2 with 2. You may\n",
    "        only use this when you have at least 2 pcs.\n",
    "\n",
    "        Args:\n",
    "            number_of_components (int): number of pcs you want to use.\n",
    "\n",
    "        Returns:\n",
    "            DataFrame: Returns a dataframe of weights.\n",
    "        \"\"\"\n",
    "        weights = (\n",
    "            self.loadings.iloc[:, 0:number_of_components]\n",
    "            .mul(\n",
    "                [\n",
    "                    float(self.eigenvalues.iloc[i, :])\n",
    "                    for i in range(len(self.eigenvalues))\n",
    "                ],\n",
    "                axis=0,\n",
    "            )\n",
    "            .sum(axis=1)\n",
    "        )\n",
    "        return weights\n",
    "\n",
    "\n",
    "data = PCA(dataset)\n",
    "\n",
    "data.weights = data.calculate_weights(3)\n",
    "\n",
    "data.scaled[\"index\"] = data.scaled @ data.weights\n",
    "\n",
    "# data.weights = (\n",
    "#     pd.DataFrame(data.weights).reset_index().rename(columns={0: \"coefficients\"})\n",
    "# )"
   ]
  },
  {
   "cell_type": "code",
   "execution_count": 4,
   "metadata": {},
   "outputs": [
    {
     "data": {
      "text/plain": [
       "native_citizen          -0.4074733019\n",
       "work_from_home          -0.6330107281\n",
       "no_computer              0.9094260191\n",
       "internet_subscription   -0.1301317560\n",
       "mean_d_mbps             -0.1624212828\n",
       "mean_lat_ms              0.1133194251\n",
       "dtype: float64"
      ]
     },
     "execution_count": 4,
     "metadata": {},
     "output_type": "execute_result"
    }
   ],
   "source": [
    "data.weights"
   ]
  },
  {
   "cell_type": "code",
   "execution_count": 5,
   "metadata": {},
   "outputs": [
    {
     "data": {
      "text/html": [
       "<div>\n",
       "<style scoped>\n",
       "    .dataframe tbody tr th:only-of-type {\n",
       "        vertical-align: middle;\n",
       "    }\n",
       "\n",
       "    .dataframe tbody tr th {\n",
       "        vertical-align: top;\n",
       "    }\n",
       "\n",
       "    .dataframe thead th {\n",
       "        text-align: right;\n",
       "    }\n",
       "</style>\n",
       "<table border=\"1\" class=\"dataframe\">\n",
       "  <thead>\n",
       "    <tr style=\"text-align: right;\">\n",
       "      <th></th>\n",
       "      <th>native_citizen</th>\n",
       "      <th>work_from_home</th>\n",
       "      <th>no_computer</th>\n",
       "      <th>internet_subscription</th>\n",
       "      <th>mean_d_mbps</th>\n",
       "      <th>mean_lat_ms</th>\n",
       "      <th>index</th>\n",
       "    </tr>\n",
       "  </thead>\n",
       "  <tbody>\n",
       "    <tr>\n",
       "      <th>0</th>\n",
       "      <td>-0.7793647066</td>\n",
       "      <td>-0.5115079191</td>\n",
       "      <td>-0.3341503606</td>\n",
       "      <td>-0.7430128489</td>\n",
       "      <td>-1.6263184336</td>\n",
       "      <td>0.7354042894</td>\n",
       "      <td>0.7816491628</td>\n",
       "    </tr>\n",
       "    <tr>\n",
       "      <th>1</th>\n",
       "      <td>-1.4274799394</td>\n",
       "      <td>-0.8676949403</td>\n",
       "      <td>-0.4867380487</td>\n",
       "      <td>-1.5525370030</td>\n",
       "      <td>-1.6343848222</td>\n",
       "      <td>1.6375569339</td>\n",
       "      <td>1.3413281805</td>\n",
       "    </tr>\n",
       "    <tr>\n",
       "      <th>2</th>\n",
       "      <td>-1.8482655551</td>\n",
       "      <td>-1.3154729099</td>\n",
       "      <td>1.0264231913</td>\n",
       "      <td>-1.8587399927</td>\n",
       "      <td>-1.3253157117</td>\n",
       "      <td>1.6012459572</td>\n",
       "      <td>3.1578761382</td>\n",
       "    </tr>\n",
       "    <tr>\n",
       "      <th>3</th>\n",
       "      <td>-1.3928535739</td>\n",
       "      <td>-1.0814071531</td>\n",
       "      <td>-0.6011788147</td>\n",
       "      <td>-1.4989514798</td>\n",
       "      <td>-1.3380529792</td>\n",
       "      <td>0.8234865651</td>\n",
       "      <td>1.2110718116</td>\n",
       "    </tr>\n",
       "    <tr>\n",
       "      <th>4</th>\n",
       "      <td>-1.2633810767</td>\n",
       "      <td>-0.2265583020</td>\n",
       "      <td>-0.9953636755</td>\n",
       "      <td>-1.4185731950</td>\n",
       "      <td>-1.4903884747</td>\n",
       "      <td>0.5007949880</td>\n",
       "      <td>0.2364202986</td>\n",
       "    </tr>\n",
       "    <tr>\n",
       "      <th>...</th>\n",
       "      <td>...</td>\n",
       "      <td>...</td>\n",
       "      <td>...</td>\n",
       "      <td>...</td>\n",
       "      <td>...</td>\n",
       "      <td>...</td>\n",
       "      <td>...</td>\n",
       "    </tr>\n",
       "    <tr>\n",
       "      <th>178</th>\n",
       "      <td>0.2112504459</td>\n",
       "      <td>-1.0407000649</td>\n",
       "      <td>-0.6647570181</td>\n",
       "      <td>0.6119353806</td>\n",
       "      <td>0.1229907201</td>\n",
       "      <td>-0.3605116454</td>\n",
       "      <td>-0.1723134480</td>\n",
       "    </tr>\n",
       "    <tr>\n",
       "      <th>179</th>\n",
       "      <td>-0.1320022209</td>\n",
       "      <td>0.0990984031</td>\n",
       "      <td>0.2380534696</td>\n",
       "      <td>-0.1535720937</td>\n",
       "      <td>-0.8491271755</td>\n",
       "      <td>0.8787309027</td>\n",
       "      <td>0.4650272598</td>\n",
       "    </tr>\n",
       "    <tr>\n",
       "      <th>180</th>\n",
       "      <td>0.0622065248</td>\n",
       "      <td>-0.8269878522</td>\n",
       "      <td>0.4923662831</td>\n",
       "      <td>-0.3870518734</td>\n",
       "      <td>-1.8089348075</td>\n",
       "      <td>1.7956215829</td>\n",
       "      <td>1.4935714506</td>\n",
       "    </tr>\n",
       "    <tr>\n",
       "      <th>181</th>\n",
       "      <td>0.2534042822</td>\n",
       "      <td>0.2313964396</td>\n",
       "      <td>0.5305132051</td>\n",
       "      <td>0.0301497001</td>\n",
       "      <td>-0.3223962253</td>\n",
       "      <td>-0.6920936906</td>\n",
       "      <td>0.2027435198</td>\n",
       "    </tr>\n",
       "    <tr>\n",
       "      <th>182</th>\n",
       "      <td>-1.1542327506</td>\n",
       "      <td>-0.3181492504</td>\n",
       "      <td>-0.8300603468</td>\n",
       "      <td>-1.0779223689</td>\n",
       "      <td>-1.7649486239</td>\n",
       "      <td>0.3459000182</td>\n",
       "      <td>0.3829667834</td>\n",
       "    </tr>\n",
       "  </tbody>\n",
       "</table>\n",
       "<p>183 rows × 7 columns</p>\n",
       "</div>"
      ],
      "text/plain": [
       "     native_citizen  work_from_home   no_computer  internet_subscription  \\\n",
       "0     -0.7793647066   -0.5115079191 -0.3341503606          -0.7430128489   \n",
       "1     -1.4274799394   -0.8676949403 -0.4867380487          -1.5525370030   \n",
       "2     -1.8482655551   -1.3154729099  1.0264231913          -1.8587399927   \n",
       "3     -1.3928535739   -1.0814071531 -0.6011788147          -1.4989514798   \n",
       "4     -1.2633810767   -0.2265583020 -0.9953636755          -1.4185731950   \n",
       "..              ...             ...           ...                    ...   \n",
       "178    0.2112504459   -1.0407000649 -0.6647570181           0.6119353806   \n",
       "179   -0.1320022209    0.0990984031  0.2380534696          -0.1535720937   \n",
       "180    0.0622065248   -0.8269878522  0.4923662831          -0.3870518734   \n",
       "181    0.2534042822    0.2313964396  0.5305132051           0.0301497001   \n",
       "182   -1.1542327506   -0.3181492504 -0.8300603468          -1.0779223689   \n",
       "\n",
       "      mean_d_mbps   mean_lat_ms         index  \n",
       "0   -1.6263184336  0.7354042894  0.7816491628  \n",
       "1   -1.6343848222  1.6375569339  1.3413281805  \n",
       "2   -1.3253157117  1.6012459572  3.1578761382  \n",
       "3   -1.3380529792  0.8234865651  1.2110718116  \n",
       "4   -1.4903884747  0.5007949880  0.2364202986  \n",
       "..            ...           ...           ...  \n",
       "178  0.1229907201 -0.3605116454 -0.1723134480  \n",
       "179 -0.8491271755  0.8787309027  0.4650272598  \n",
       "180 -1.8089348075  1.7956215829  1.4935714506  \n",
       "181 -0.3223962253 -0.6920936906  0.2027435198  \n",
       "182 -1.7649486239  0.3459000182  0.3829667834  \n",
       "\n",
       "[183 rows x 7 columns]"
      ]
     },
     "execution_count": 5,
     "metadata": {},
     "output_type": "execute_result"
    }
   ],
   "source": [
    "data.scaled"
   ]
  },
  {
   "cell_type": "code",
   "execution_count": 6,
   "metadata": {},
   "outputs": [
    {
     "data": {
      "text/html": [
       "<div>\n",
       "<style scoped>\n",
       "    .dataframe tbody tr th:only-of-type {\n",
       "        vertical-align: middle;\n",
       "    }\n",
       "\n",
       "    .dataframe tbody tr th {\n",
       "        vertical-align: top;\n",
       "    }\n",
       "\n",
       "    .dataframe thead th {\n",
       "        text-align: right;\n",
       "    }\n",
       "</style>\n",
       "<table border=\"1\" class=\"dataframe\">\n",
       "  <thead>\n",
       "    <tr style=\"text-align: right;\">\n",
       "      <th></th>\n",
       "      <th>pc1</th>\n",
       "      <th>pc2</th>\n",
       "      <th>pc3</th>\n",
       "      <th>pc4</th>\n",
       "      <th>pc5</th>\n",
       "      <th>pc6</th>\n",
       "    </tr>\n",
       "  </thead>\n",
       "  <tbody>\n",
       "    <tr>\n",
       "      <th>native_citizen</th>\n",
       "      <td>-0.5304821532</td>\n",
       "      <td>0.3226012348</td>\n",
       "      <td>0.0483777367</td>\n",
       "      <td>-0.3444218899</td>\n",
       "      <td>0.0362374517</td>\n",
       "      <td>0.7015961316</td>\n",
       "    </tr>\n",
       "    <tr>\n",
       "      <th>work_from_home</th>\n",
       "      <td>-0.3270214438</td>\n",
       "      <td>0.3870402176</td>\n",
       "      <td>-0.4509510317</td>\n",
       "      <td>0.7316641799</td>\n",
       "      <td>0.0559949198</td>\n",
       "      <td>-0.0378432176</td>\n",
       "    </tr>\n",
       "    <tr>\n",
       "      <th>no_computer</th>\n",
       "      <td>-0.1373524548</td>\n",
       "      <td>0.0894573888</td>\n",
       "      <td>0.8845230259</td>\n",
       "      <td>0.4313081476</td>\n",
       "      <td>0.0686957121</td>\n",
       "      <td>0.0022082470</td>\n",
       "    </tr>\n",
       "    <tr>\n",
       "      <th>internet_subscription</th>\n",
       "      <td>-0.5591628836</td>\n",
       "      <td>0.2245219099</td>\n",
       "      <td>0.0747238653</td>\n",
       "      <td>-0.3434801603</td>\n",
       "      <td>-0.1938040725</td>\n",
       "      <td>-0.6897858266</td>\n",
       "    </tr>\n",
       "    <tr>\n",
       "      <th>mean_d_mbps</th>\n",
       "      <td>-0.4021231841</td>\n",
       "      <td>-0.5585252591</td>\n",
       "      <td>-0.0687126632</td>\n",
       "      <td>0.0146419327</td>\n",
       "      <td>0.7184474894</td>\n",
       "      <td>-0.0724145601</td>\n",
       "    </tr>\n",
       "    <tr>\n",
       "      <th>mean_lat_ms</th>\n",
       "      <td>0.3441130309</td>\n",
       "      <td>0.6129968481</td>\n",
       "      <td>0.0402081099</td>\n",
       "      <td>-0.2045027255</td>\n",
       "      <td>0.6611395478</td>\n",
       "      <td>-0.1589890801</td>\n",
       "    </tr>\n",
       "  </tbody>\n",
       "</table>\n",
       "</div>"
      ],
      "text/plain": [
       "                                pc1           pc2           pc3           pc4  \\\n",
       "native_citizen        -0.5304821532  0.3226012348  0.0483777367 -0.3444218899   \n",
       "work_from_home        -0.3270214438  0.3870402176 -0.4509510317  0.7316641799   \n",
       "no_computer           -0.1373524548  0.0894573888  0.8845230259  0.4313081476   \n",
       "internet_subscription -0.5591628836  0.2245219099  0.0747238653 -0.3434801603   \n",
       "mean_d_mbps           -0.4021231841 -0.5585252591 -0.0687126632  0.0146419327   \n",
       "mean_lat_ms            0.3441130309  0.6129968481  0.0402081099 -0.2045027255   \n",
       "\n",
       "                                pc5           pc6  \n",
       "native_citizen         0.0362374517  0.7015961316  \n",
       "work_from_home         0.0559949198 -0.0378432176  \n",
       "no_computer            0.0686957121  0.0022082470  \n",
       "internet_subscription -0.1938040725 -0.6897858266  \n",
       "mean_d_mbps            0.7184474894 -0.0724145601  \n",
       "mean_lat_ms            0.6611395478 -0.1589890801  "
      ]
     },
     "execution_count": 6,
     "metadata": {},
     "output_type": "execute_result"
    }
   ],
   "source": [
    "data.loadings"
   ]
  },
  {
   "cell_type": "code",
   "execution_count": 7,
   "metadata": {},
   "outputs": [
    {
     "data": {
      "text/html": [
       "<div>\n",
       "<style scoped>\n",
       "    .dataframe tbody tr th:only-of-type {\n",
       "        vertical-align: middle;\n",
       "    }\n",
       "\n",
       "    .dataframe tbody tr th {\n",
       "        vertical-align: top;\n",
       "    }\n",
       "\n",
       "    .dataframe thead th {\n",
       "        text-align: right;\n",
       "    }\n",
       "</style>\n",
       "<table border=\"1\" class=\"dataframe\">\n",
       "  <thead>\n",
       "    <tr style=\"text-align: right;\">\n",
       "      <th></th>\n",
       "      <th>eigenvalues</th>\n",
       "    </tr>\n",
       "  </thead>\n",
       "  <tbody>\n",
       "    <tr>\n",
       "      <th>pc1</th>\n",
       "      <td>2.5546405890</td>\n",
       "    </tr>\n",
       "    <tr>\n",
       "      <th>pc2</th>\n",
       "      <td>1.6192338067</td>\n",
       "    </tr>\n",
       "    <tr>\n",
       "      <th>pc3</th>\n",
       "      <td>1.0870136580</td>\n",
       "    </tr>\n",
       "    <tr>\n",
       "      <th>pc4</th>\n",
       "      <td>0.5006663731</td>\n",
       "    </tr>\n",
       "    <tr>\n",
       "      <th>pc5</th>\n",
       "      <td>0.1577884397</td>\n",
       "    </tr>\n",
       "    <tr>\n",
       "      <th>pc6</th>\n",
       "      <td>0.1136241664</td>\n",
       "    </tr>\n",
       "  </tbody>\n",
       "</table>\n",
       "</div>"
      ],
      "text/plain": [
       "     eigenvalues\n",
       "pc1 2.5546405890\n",
       "pc2 1.6192338067\n",
       "pc3 1.0870136580\n",
       "pc4 0.5006663731\n",
       "pc5 0.1577884397\n",
       "pc6 0.1136241664"
      ]
     },
     "execution_count": 7,
     "metadata": {},
     "output_type": "execute_result"
    }
   ],
   "source": [
    "data.eigenvalues"
   ]
  },
  {
   "cell_type": "code",
   "execution_count": 8,
   "metadata": {},
   "outputs": [
    {
     "data": {
      "text/html": [
       "<div>\n",
       "<style scoped>\n",
       "    .dataframe tbody tr th:only-of-type {\n",
       "        vertical-align: middle;\n",
       "    }\n",
       "\n",
       "    .dataframe tbody tr th {\n",
       "        vertical-align: top;\n",
       "    }\n",
       "\n",
       "    .dataframe thead th {\n",
       "        text-align: right;\n",
       "    }\n",
       "</style>\n",
       "<table border=\"1\" class=\"dataframe\">\n",
       "  <thead>\n",
       "    <tr style=\"text-align: right;\">\n",
       "      <th></th>\n",
       "      <th>explained_variance</th>\n",
       "      <th>cumulative_explained_variance</th>\n",
       "    </tr>\n",
       "  </thead>\n",
       "  <tbody>\n",
       "    <tr>\n",
       "      <th>pc1</th>\n",
       "      <td>42.3400000000</td>\n",
       "      <td>42.3400000000</td>\n",
       "    </tr>\n",
       "    <tr>\n",
       "      <th>pc2</th>\n",
       "      <td>26.8400000000</td>\n",
       "      <td>69.1800000000</td>\n",
       "    </tr>\n",
       "    <tr>\n",
       "      <th>pc3</th>\n",
       "      <td>18.0200000000</td>\n",
       "      <td>87.2000000000</td>\n",
       "    </tr>\n",
       "    <tr>\n",
       "      <th>pc4</th>\n",
       "      <td>8.3000000000</td>\n",
       "      <td>95.5000000000</td>\n",
       "    </tr>\n",
       "    <tr>\n",
       "      <th>pc5</th>\n",
       "      <td>2.6200000000</td>\n",
       "      <td>98.1200000000</td>\n",
       "    </tr>\n",
       "    <tr>\n",
       "      <th>pc6</th>\n",
       "      <td>1.8800000000</td>\n",
       "      <td>100.0000000000</td>\n",
       "    </tr>\n",
       "  </tbody>\n",
       "</table>\n",
       "</div>"
      ],
      "text/plain": [
       "     explained_variance  cumulative_explained_variance\n",
       "pc1       42.3400000000                  42.3400000000\n",
       "pc2       26.8400000000                  69.1800000000\n",
       "pc3       18.0200000000                  87.2000000000\n",
       "pc4        8.3000000000                  95.5000000000\n",
       "pc5        2.6200000000                  98.1200000000\n",
       "pc6        1.8800000000                 100.0000000000"
      ]
     },
     "execution_count": 8,
     "metadata": {},
     "output_type": "execute_result"
    }
   ],
   "source": [
    "data.percent_explained"
   ]
  },
  {
   "cell_type": "code",
   "execution_count": 9,
   "metadata": {},
   "outputs": [
    {
     "data": {
      "text/html": [
       "<div>\n",
       "<style scoped>\n",
       "    .dataframe tbody tr th:only-of-type {\n",
       "        vertical-align: middle;\n",
       "    }\n",
       "\n",
       "    .dataframe tbody tr th {\n",
       "        vertical-align: top;\n",
       "    }\n",
       "\n",
       "    .dataframe thead th {\n",
       "        text-align: right;\n",
       "    }\n",
       "</style>\n",
       "<table border=\"1\" class=\"dataframe\">\n",
       "  <thead>\n",
       "    <tr style=\"text-align: right;\">\n",
       "      <th></th>\n",
       "      <th>KMO</th>\n",
       "      <th>Variables</th>\n",
       "    </tr>\n",
       "  </thead>\n",
       "  <tbody>\n",
       "    <tr>\n",
       "      <th>0</th>\n",
       "      <td>0.5981748653</td>\n",
       "      <td>native_citizen</td>\n",
       "    </tr>\n",
       "    <tr>\n",
       "      <th>1</th>\n",
       "      <td>0.7612109755</td>\n",
       "      <td>work_from_home</td>\n",
       "    </tr>\n",
       "    <tr>\n",
       "      <th>2</th>\n",
       "      <td>0.4830733703</td>\n",
       "      <td>no_computer</td>\n",
       "    </tr>\n",
       "    <tr>\n",
       "      <th>3</th>\n",
       "      <td>0.6277870951</td>\n",
       "      <td>internet_subscription</td>\n",
       "    </tr>\n",
       "    <tr>\n",
       "      <th>4</th>\n",
       "      <td>0.5486351738</td>\n",
       "      <td>mean_d_mbps</td>\n",
       "    </tr>\n",
       "    <tr>\n",
       "      <th>5</th>\n",
       "      <td>0.5179792857</td>\n",
       "      <td>mean_lat_ms</td>\n",
       "    </tr>\n",
       "  </tbody>\n",
       "</table>\n",
       "</div>"
      ],
      "text/plain": [
       "           KMO              Variables\n",
       "0 0.5981748653         native_citizen\n",
       "1 0.7612109755         work_from_home\n",
       "2 0.4830733703            no_computer\n",
       "3 0.6277870951  internet_subscription\n",
       "4 0.5486351738            mean_d_mbps\n",
       "5 0.5179792857            mean_lat_ms"
      ]
     },
     "execution_count": 9,
     "metadata": {},
     "output_type": "execute_result"
    }
   ],
   "source": [
    "data.kmo"
   ]
  },
  {
   "cell_type": "code",
   "execution_count": 10,
   "metadata": {},
   "outputs": [
    {
     "data": {
      "application/vnd.plotly.v1+json": {
       "config": {
        "plotlyServerURL": "https://plot.ly"
       },
       "data": [
        {
         "hovertemplate": "color=cumulative explained variance<br>x=%{x}<br>cumulative_explained_variance=%{text}<extra></extra>",
         "legendgroup": "cumulative explained variance",
         "line": {
          "color": "#636efa",
          "dash": "solid"
         },
         "marker": {
          "symbol": "circle"
         },
         "mode": "lines+text+markers",
         "name": "cumulative explained variance",
         "orientation": "v",
         "showlegend": true,
         "text": [
          42.34,
          69.18,
          87.2,
          95.5,
          98.12,
          100
         ],
         "textposition": "top left",
         "type": "scatter",
         "x": [
          "pc1",
          "pc2",
          "pc3",
          "pc4",
          "pc5",
          "pc6"
         ],
         "xaxis": "x",
         "y": [
          42.34,
          69.18,
          87.2,
          95.5,
          98.12,
          100
         ],
         "yaxis": "y"
        },
        {
         "name": "explained variance",
         "text": [
          42.34,
          26.84,
          18.02,
          8.3,
          2.62,
          1.88
         ],
         "type": "bar",
         "x": [
          "pc1",
          "pc2",
          "pc3",
          "pc4",
          "pc5",
          "pc6"
         ],
         "y": [
          42.34,
          26.84,
          18.02,
          8.3,
          2.62,
          1.88
         ]
        }
       ],
       "layout": {
        "legend": {
         "title": {
          "text": "color"
         },
         "tracegroupgap": 0
        },
        "margin": {
         "t": 60
        },
        "template": {
         "data": {
          "bar": [
           {
            "error_x": {
             "color": "#2a3f5f"
            },
            "error_y": {
             "color": "#2a3f5f"
            },
            "marker": {
             "line": {
              "color": "#E5ECF6",
              "width": 0.5
             },
             "pattern": {
              "fillmode": "overlay",
              "size": 10,
              "solidity": 0.2
             }
            },
            "type": "bar"
           }
          ],
          "barpolar": [
           {
            "marker": {
             "line": {
              "color": "#E5ECF6",
              "width": 0.5
             },
             "pattern": {
              "fillmode": "overlay",
              "size": 10,
              "solidity": 0.2
             }
            },
            "type": "barpolar"
           }
          ],
          "carpet": [
           {
            "aaxis": {
             "endlinecolor": "#2a3f5f",
             "gridcolor": "white",
             "linecolor": "white",
             "minorgridcolor": "white",
             "startlinecolor": "#2a3f5f"
            },
            "baxis": {
             "endlinecolor": "#2a3f5f",
             "gridcolor": "white",
             "linecolor": "white",
             "minorgridcolor": "white",
             "startlinecolor": "#2a3f5f"
            },
            "type": "carpet"
           }
          ],
          "choropleth": [
           {
            "colorbar": {
             "outlinewidth": 0,
             "ticks": ""
            },
            "type": "choropleth"
           }
          ],
          "contour": [
           {
            "colorbar": {
             "outlinewidth": 0,
             "ticks": ""
            },
            "colorscale": [
             [
              0,
              "#0d0887"
             ],
             [
              0.1111111111111111,
              "#46039f"
             ],
             [
              0.2222222222222222,
              "#7201a8"
             ],
             [
              0.3333333333333333,
              "#9c179e"
             ],
             [
              0.4444444444444444,
              "#bd3786"
             ],
             [
              0.5555555555555556,
              "#d8576b"
             ],
             [
              0.6666666666666666,
              "#ed7953"
             ],
             [
              0.7777777777777778,
              "#fb9f3a"
             ],
             [
              0.8888888888888888,
              "#fdca26"
             ],
             [
              1,
              "#f0f921"
             ]
            ],
            "type": "contour"
           }
          ],
          "contourcarpet": [
           {
            "colorbar": {
             "outlinewidth": 0,
             "ticks": ""
            },
            "type": "contourcarpet"
           }
          ],
          "heatmap": [
           {
            "colorbar": {
             "outlinewidth": 0,
             "ticks": ""
            },
            "colorscale": [
             [
              0,
              "#0d0887"
             ],
             [
              0.1111111111111111,
              "#46039f"
             ],
             [
              0.2222222222222222,
              "#7201a8"
             ],
             [
              0.3333333333333333,
              "#9c179e"
             ],
             [
              0.4444444444444444,
              "#bd3786"
             ],
             [
              0.5555555555555556,
              "#d8576b"
             ],
             [
              0.6666666666666666,
              "#ed7953"
             ],
             [
              0.7777777777777778,
              "#fb9f3a"
             ],
             [
              0.8888888888888888,
              "#fdca26"
             ],
             [
              1,
              "#f0f921"
             ]
            ],
            "type": "heatmap"
           }
          ],
          "heatmapgl": [
           {
            "colorbar": {
             "outlinewidth": 0,
             "ticks": ""
            },
            "colorscale": [
             [
              0,
              "#0d0887"
             ],
             [
              0.1111111111111111,
              "#46039f"
             ],
             [
              0.2222222222222222,
              "#7201a8"
             ],
             [
              0.3333333333333333,
              "#9c179e"
             ],
             [
              0.4444444444444444,
              "#bd3786"
             ],
             [
              0.5555555555555556,
              "#d8576b"
             ],
             [
              0.6666666666666666,
              "#ed7953"
             ],
             [
              0.7777777777777778,
              "#fb9f3a"
             ],
             [
              0.8888888888888888,
              "#fdca26"
             ],
             [
              1,
              "#f0f921"
             ]
            ],
            "type": "heatmapgl"
           }
          ],
          "histogram": [
           {
            "marker": {
             "pattern": {
              "fillmode": "overlay",
              "size": 10,
              "solidity": 0.2
             }
            },
            "type": "histogram"
           }
          ],
          "histogram2d": [
           {
            "colorbar": {
             "outlinewidth": 0,
             "ticks": ""
            },
            "colorscale": [
             [
              0,
              "#0d0887"
             ],
             [
              0.1111111111111111,
              "#46039f"
             ],
             [
              0.2222222222222222,
              "#7201a8"
             ],
             [
              0.3333333333333333,
              "#9c179e"
             ],
             [
              0.4444444444444444,
              "#bd3786"
             ],
             [
              0.5555555555555556,
              "#d8576b"
             ],
             [
              0.6666666666666666,
              "#ed7953"
             ],
             [
              0.7777777777777778,
              "#fb9f3a"
             ],
             [
              0.8888888888888888,
              "#fdca26"
             ],
             [
              1,
              "#f0f921"
             ]
            ],
            "type": "histogram2d"
           }
          ],
          "histogram2dcontour": [
           {
            "colorbar": {
             "outlinewidth": 0,
             "ticks": ""
            },
            "colorscale": [
             [
              0,
              "#0d0887"
             ],
             [
              0.1111111111111111,
              "#46039f"
             ],
             [
              0.2222222222222222,
              "#7201a8"
             ],
             [
              0.3333333333333333,
              "#9c179e"
             ],
             [
              0.4444444444444444,
              "#bd3786"
             ],
             [
              0.5555555555555556,
              "#d8576b"
             ],
             [
              0.6666666666666666,
              "#ed7953"
             ],
             [
              0.7777777777777778,
              "#fb9f3a"
             ],
             [
              0.8888888888888888,
              "#fdca26"
             ],
             [
              1,
              "#f0f921"
             ]
            ],
            "type": "histogram2dcontour"
           }
          ],
          "mesh3d": [
           {
            "colorbar": {
             "outlinewidth": 0,
             "ticks": ""
            },
            "type": "mesh3d"
           }
          ],
          "parcoords": [
           {
            "line": {
             "colorbar": {
              "outlinewidth": 0,
              "ticks": ""
             }
            },
            "type": "parcoords"
           }
          ],
          "pie": [
           {
            "automargin": true,
            "type": "pie"
           }
          ],
          "scatter": [
           {
            "fillpattern": {
             "fillmode": "overlay",
             "size": 10,
             "solidity": 0.2
            },
            "type": "scatter"
           }
          ],
          "scatter3d": [
           {
            "line": {
             "colorbar": {
              "outlinewidth": 0,
              "ticks": ""
             }
            },
            "marker": {
             "colorbar": {
              "outlinewidth": 0,
              "ticks": ""
             }
            },
            "type": "scatter3d"
           }
          ],
          "scattercarpet": [
           {
            "marker": {
             "colorbar": {
              "outlinewidth": 0,
              "ticks": ""
             }
            },
            "type": "scattercarpet"
           }
          ],
          "scattergeo": [
           {
            "marker": {
             "colorbar": {
              "outlinewidth": 0,
              "ticks": ""
             }
            },
            "type": "scattergeo"
           }
          ],
          "scattergl": [
           {
            "marker": {
             "colorbar": {
              "outlinewidth": 0,
              "ticks": ""
             }
            },
            "type": "scattergl"
           }
          ],
          "scattermapbox": [
           {
            "marker": {
             "colorbar": {
              "outlinewidth": 0,
              "ticks": ""
             }
            },
            "type": "scattermapbox"
           }
          ],
          "scatterpolar": [
           {
            "marker": {
             "colorbar": {
              "outlinewidth": 0,
              "ticks": ""
             }
            },
            "type": "scatterpolar"
           }
          ],
          "scatterpolargl": [
           {
            "marker": {
             "colorbar": {
              "outlinewidth": 0,
              "ticks": ""
             }
            },
            "type": "scatterpolargl"
           }
          ],
          "scatterternary": [
           {
            "marker": {
             "colorbar": {
              "outlinewidth": 0,
              "ticks": ""
             }
            },
            "type": "scatterternary"
           }
          ],
          "surface": [
           {
            "colorbar": {
             "outlinewidth": 0,
             "ticks": ""
            },
            "colorscale": [
             [
              0,
              "#0d0887"
             ],
             [
              0.1111111111111111,
              "#46039f"
             ],
             [
              0.2222222222222222,
              "#7201a8"
             ],
             [
              0.3333333333333333,
              "#9c179e"
             ],
             [
              0.4444444444444444,
              "#bd3786"
             ],
             [
              0.5555555555555556,
              "#d8576b"
             ],
             [
              0.6666666666666666,
              "#ed7953"
             ],
             [
              0.7777777777777778,
              "#fb9f3a"
             ],
             [
              0.8888888888888888,
              "#fdca26"
             ],
             [
              1,
              "#f0f921"
             ]
            ],
            "type": "surface"
           }
          ],
          "table": [
           {
            "cells": {
             "fill": {
              "color": "#EBF0F8"
             },
             "line": {
              "color": "white"
             }
            },
            "header": {
             "fill": {
              "color": "#C8D4E3"
             },
             "line": {
              "color": "white"
             }
            },
            "type": "table"
           }
          ]
         },
         "layout": {
          "annotationdefaults": {
           "arrowcolor": "#2a3f5f",
           "arrowhead": 0,
           "arrowwidth": 1
          },
          "autotypenumbers": "strict",
          "coloraxis": {
           "colorbar": {
            "outlinewidth": 0,
            "ticks": ""
           }
          },
          "colorscale": {
           "diverging": [
            [
             0,
             "#8e0152"
            ],
            [
             0.1,
             "#c51b7d"
            ],
            [
             0.2,
             "#de77ae"
            ],
            [
             0.3,
             "#f1b6da"
            ],
            [
             0.4,
             "#fde0ef"
            ],
            [
             0.5,
             "#f7f7f7"
            ],
            [
             0.6,
             "#e6f5d0"
            ],
            [
             0.7,
             "#b8e186"
            ],
            [
             0.8,
             "#7fbc41"
            ],
            [
             0.9,
             "#4d9221"
            ],
            [
             1,
             "#276419"
            ]
           ],
           "sequential": [
            [
             0,
             "#0d0887"
            ],
            [
             0.1111111111111111,
             "#46039f"
            ],
            [
             0.2222222222222222,
             "#7201a8"
            ],
            [
             0.3333333333333333,
             "#9c179e"
            ],
            [
             0.4444444444444444,
             "#bd3786"
            ],
            [
             0.5555555555555556,
             "#d8576b"
            ],
            [
             0.6666666666666666,
             "#ed7953"
            ],
            [
             0.7777777777777778,
             "#fb9f3a"
            ],
            [
             0.8888888888888888,
             "#fdca26"
            ],
            [
             1,
             "#f0f921"
            ]
           ],
           "sequentialminus": [
            [
             0,
             "#0d0887"
            ],
            [
             0.1111111111111111,
             "#46039f"
            ],
            [
             0.2222222222222222,
             "#7201a8"
            ],
            [
             0.3333333333333333,
             "#9c179e"
            ],
            [
             0.4444444444444444,
             "#bd3786"
            ],
            [
             0.5555555555555556,
             "#d8576b"
            ],
            [
             0.6666666666666666,
             "#ed7953"
            ],
            [
             0.7777777777777778,
             "#fb9f3a"
            ],
            [
             0.8888888888888888,
             "#fdca26"
            ],
            [
             1,
             "#f0f921"
            ]
           ]
          },
          "colorway": [
           "#636efa",
           "#EF553B",
           "#00cc96",
           "#ab63fa",
           "#FFA15A",
           "#19d3f3",
           "#FF6692",
           "#B6E880",
           "#FF97FF",
           "#FECB52"
          ],
          "font": {
           "color": "#2a3f5f"
          },
          "geo": {
           "bgcolor": "white",
           "lakecolor": "white",
           "landcolor": "#E5ECF6",
           "showlakes": true,
           "showland": true,
           "subunitcolor": "white"
          },
          "hoverlabel": {
           "align": "left"
          },
          "hovermode": "closest",
          "mapbox": {
           "style": "light"
          },
          "paper_bgcolor": "white",
          "plot_bgcolor": "#E5ECF6",
          "polar": {
           "angularaxis": {
            "gridcolor": "white",
            "linecolor": "white",
            "ticks": ""
           },
           "bgcolor": "#E5ECF6",
           "radialaxis": {
            "gridcolor": "white",
            "linecolor": "white",
            "ticks": ""
           }
          },
          "scene": {
           "xaxis": {
            "backgroundcolor": "#E5ECF6",
            "gridcolor": "white",
            "gridwidth": 2,
            "linecolor": "white",
            "showbackground": true,
            "ticks": "",
            "zerolinecolor": "white"
           },
           "yaxis": {
            "backgroundcolor": "#E5ECF6",
            "gridcolor": "white",
            "gridwidth": 2,
            "linecolor": "white",
            "showbackground": true,
            "ticks": "",
            "zerolinecolor": "white"
           },
           "zaxis": {
            "backgroundcolor": "#E5ECF6",
            "gridcolor": "white",
            "gridwidth": 2,
            "linecolor": "white",
            "showbackground": true,
            "ticks": "",
            "zerolinecolor": "white"
           }
          },
          "shapedefaults": {
           "line": {
            "color": "#2a3f5f"
           }
          },
          "ternary": {
           "aaxis": {
            "gridcolor": "white",
            "linecolor": "white",
            "ticks": ""
           },
           "baxis": {
            "gridcolor": "white",
            "linecolor": "white",
            "ticks": ""
           },
           "bgcolor": "#E5ECF6",
           "caxis": {
            "gridcolor": "white",
            "linecolor": "white",
            "ticks": ""
           }
          },
          "title": {
           "x": 0.05
          },
          "xaxis": {
           "automargin": true,
           "gridcolor": "white",
           "linecolor": "white",
           "ticks": "",
           "title": {
            "standoff": 15
           },
           "zerolinecolor": "white",
           "zerolinewidth": 2
          },
          "yaxis": {
           "automargin": true,
           "gridcolor": "white",
           "linecolor": "white",
           "ticks": "",
           "title": {
            "standoff": 15
           },
           "zerolinecolor": "white",
           "zerolinewidth": 2
          }
         }
        },
        "xaxis": {
         "anchor": "y",
         "domain": [
          0,
          1
         ],
         "title": {
          "text": "x"
         }
        },
        "yaxis": {
         "anchor": "x",
         "domain": [
          0,
          1
         ],
         "title": {
          "text": "cumulative_explained_variance"
         }
        }
       }
      }
     },
     "metadata": {},
     "output_type": "display_data"
    }
   ],
   "source": [
    "data.scree"
   ]
  },
  {
   "cell_type": "code",
   "execution_count": 11,
   "metadata": {},
   "outputs": [
    {
     "data": {
      "text/plain": [
       "0.5891717365269227"
      ]
     },
     "execution_count": 11,
     "metadata": {},
     "output_type": "execute_result"
    }
   ],
   "source": [
    "data.total_kmo"
   ]
  },
  {
   "cell_type": "code",
   "execution_count": 12,
   "metadata": {},
   "outputs": [
    {
     "data": {
      "text/plain": [
       "native_citizen          -0.4074733019\n",
       "work_from_home          -0.6330107281\n",
       "no_computer              0.9094260191\n",
       "internet_subscription   -0.1301317560\n",
       "mean_d_mbps             -0.1624212828\n",
       "mean_lat_ms              0.1133194251\n",
       "dtype: float64"
      ]
     },
     "execution_count": 12,
     "metadata": {},
     "output_type": "execute_result"
    }
   ],
   "source": [
    "data.weights\n"
   ]
  },
  {
   "cell_type": "code",
   "execution_count": 13,
   "metadata": {},
   "outputs": [
    {
     "data": {
      "text/plain": [
       "native_citizen          -0.4074733019\n",
       "work_from_home          -0.6330107281\n",
       "no_computer              0.9094260191\n",
       "internet_subscription   -0.1301317560\n",
       "mean_d_mbps             -0.1624212828\n",
       "mean_lat_ms              0.1133194251\n",
       "dtype: float64"
      ]
     },
     "execution_count": 13,
     "metadata": {},
     "output_type": "execute_result"
    }
   ],
   "source": [
    "data.weights"
   ]
  },
  {
   "cell_type": "code",
   "execution_count": 14,
   "metadata": {},
   "outputs": [
    {
     "data": {
      "text/html": [
       "<div>\n",
       "<style scoped>\n",
       "    .dataframe tbody tr th:only-of-type {\n",
       "        vertical-align: middle;\n",
       "    }\n",
       "\n",
       "    .dataframe tbody tr th {\n",
       "        vertical-align: top;\n",
       "    }\n",
       "\n",
       "    .dataframe thead th {\n",
       "        text-align: right;\n",
       "    }\n",
       "</style>\n",
       "<table border=\"1\" class=\"dataframe\">\n",
       "  <thead>\n",
       "    <tr style=\"text-align: right;\">\n",
       "      <th></th>\n",
       "      <th>explained_variance</th>\n",
       "      <th>cumulative_explained_variance</th>\n",
       "    </tr>\n",
       "  </thead>\n",
       "  <tbody>\n",
       "    <tr>\n",
       "      <th>pc1</th>\n",
       "      <td>42.3400000000</td>\n",
       "      <td>42.3400000000</td>\n",
       "    </tr>\n",
       "    <tr>\n",
       "      <th>pc2</th>\n",
       "      <td>26.8400000000</td>\n",
       "      <td>69.1800000000</td>\n",
       "    </tr>\n",
       "    <tr>\n",
       "      <th>pc3</th>\n",
       "      <td>18.0200000000</td>\n",
       "      <td>87.2000000000</td>\n",
       "    </tr>\n",
       "    <tr>\n",
       "      <th>pc4</th>\n",
       "      <td>8.3000000000</td>\n",
       "      <td>95.5000000000</td>\n",
       "    </tr>\n",
       "    <tr>\n",
       "      <th>pc5</th>\n",
       "      <td>2.6200000000</td>\n",
       "      <td>98.1200000000</td>\n",
       "    </tr>\n",
       "    <tr>\n",
       "      <th>pc6</th>\n",
       "      <td>1.8800000000</td>\n",
       "      <td>100.0000000000</td>\n",
       "    </tr>\n",
       "  </tbody>\n",
       "</table>\n",
       "</div>"
      ],
      "text/plain": [
       "     explained_variance  cumulative_explained_variance\n",
       "pc1       42.3400000000                  42.3400000000\n",
       "pc2       26.8400000000                  69.1800000000\n",
       "pc3       18.0200000000                  87.2000000000\n",
       "pc4        8.3000000000                  95.5000000000\n",
       "pc5        2.6200000000                  98.1200000000\n",
       "pc6        1.8800000000                 100.0000000000"
      ]
     },
     "execution_count": 14,
     "metadata": {},
     "output_type": "execute_result"
    }
   ],
   "source": [
    "data.percent_explained"
   ]
  },
  {
   "cell_type": "code",
   "execution_count": 15,
   "metadata": {},
   "outputs": [
    {
     "data": {
      "text/html": [
       "<div>\n",
       "<style scoped>\n",
       "    .dataframe tbody tr th:only-of-type {\n",
       "        vertical-align: middle;\n",
       "    }\n",
       "\n",
       "    .dataframe tbody tr th {\n",
       "        vertical-align: top;\n",
       "    }\n",
       "\n",
       "    .dataframe thead th {\n",
       "        text-align: right;\n",
       "    }\n",
       "</style>\n",
       "<table border=\"1\" class=\"dataframe\">\n",
       "  <thead>\n",
       "    <tr style=\"text-align: right;\">\n",
       "      <th></th>\n",
       "      <th>eigenvalues</th>\n",
       "    </tr>\n",
       "  </thead>\n",
       "  <tbody>\n",
       "    <tr>\n",
       "      <th>pc1</th>\n",
       "      <td>2.5546405890</td>\n",
       "    </tr>\n",
       "    <tr>\n",
       "      <th>pc2</th>\n",
       "      <td>1.6192338067</td>\n",
       "    </tr>\n",
       "    <tr>\n",
       "      <th>pc3</th>\n",
       "      <td>1.0870136580</td>\n",
       "    </tr>\n",
       "    <tr>\n",
       "      <th>pc4</th>\n",
       "      <td>0.5006663731</td>\n",
       "    </tr>\n",
       "    <tr>\n",
       "      <th>pc5</th>\n",
       "      <td>0.1577884397</td>\n",
       "    </tr>\n",
       "    <tr>\n",
       "      <th>pc6</th>\n",
       "      <td>0.1136241664</td>\n",
       "    </tr>\n",
       "  </tbody>\n",
       "</table>\n",
       "</div>"
      ],
      "text/plain": [
       "     eigenvalues\n",
       "pc1 2.5546405890\n",
       "pc2 1.6192338067\n",
       "pc3 1.0870136580\n",
       "pc4 0.5006663731\n",
       "pc5 0.1577884397\n",
       "pc6 0.1136241664"
      ]
     },
     "execution_count": 15,
     "metadata": {},
     "output_type": "execute_result"
    }
   ],
   "source": [
    "data.eigenvalues\n"
   ]
  },
  {
   "cell_type": "code",
   "execution_count": 16,
   "metadata": {},
   "outputs": [
    {
     "data": {
      "text/html": [
       "<div>\n",
       "<style scoped>\n",
       "    .dataframe tbody tr th:only-of-type {\n",
       "        vertical-align: middle;\n",
       "    }\n",
       "\n",
       "    .dataframe tbody tr th {\n",
       "        vertical-align: top;\n",
       "    }\n",
       "\n",
       "    .dataframe thead th {\n",
       "        text-align: right;\n",
       "    }\n",
       "</style>\n",
       "<table border=\"1\" class=\"dataframe\">\n",
       "  <thead>\n",
       "    <tr style=\"text-align: right;\">\n",
       "      <th></th>\n",
       "      <th>explained_variance</th>\n",
       "      <th>cumulative_explained_variance</th>\n",
       "    </tr>\n",
       "  </thead>\n",
       "  <tbody>\n",
       "    <tr>\n",
       "      <th>pc1</th>\n",
       "      <td>42.3400000000</td>\n",
       "      <td>42.3400000000</td>\n",
       "    </tr>\n",
       "    <tr>\n",
       "      <th>pc2</th>\n",
       "      <td>26.8400000000</td>\n",
       "      <td>69.1800000000</td>\n",
       "    </tr>\n",
       "    <tr>\n",
       "      <th>pc3</th>\n",
       "      <td>18.0200000000</td>\n",
       "      <td>87.2000000000</td>\n",
       "    </tr>\n",
       "    <tr>\n",
       "      <th>pc4</th>\n",
       "      <td>8.3000000000</td>\n",
       "      <td>95.5000000000</td>\n",
       "    </tr>\n",
       "    <tr>\n",
       "      <th>pc5</th>\n",
       "      <td>2.6200000000</td>\n",
       "      <td>98.1200000000</td>\n",
       "    </tr>\n",
       "    <tr>\n",
       "      <th>pc6</th>\n",
       "      <td>1.8800000000</td>\n",
       "      <td>100.0000000000</td>\n",
       "    </tr>\n",
       "  </tbody>\n",
       "</table>\n",
       "</div>"
      ],
      "text/plain": [
       "     explained_variance  cumulative_explained_variance\n",
       "pc1       42.3400000000                  42.3400000000\n",
       "pc2       26.8400000000                  69.1800000000\n",
       "pc3       18.0200000000                  87.2000000000\n",
       "pc4        8.3000000000                  95.5000000000\n",
       "pc5        2.6200000000                  98.1200000000\n",
       "pc6        1.8800000000                 100.0000000000"
      ]
     },
     "execution_count": 16,
     "metadata": {},
     "output_type": "execute_result"
    }
   ],
   "source": [
    "data.percent_explained\n"
   ]
  },
  {
   "cell_type": "code",
   "execution_count": 17,
   "metadata": {},
   "outputs": [
    {
     "data": {
      "application/vnd.plotly.v1+json": {
       "config": {
        "plotlyServerURL": "https://plot.ly"
       },
       "data": [
        {
         "hovertemplate": "color=cumulative explained variance<br>x=%{x}<br>cumulative_explained_variance=%{text}<extra></extra>",
         "legendgroup": "cumulative explained variance",
         "line": {
          "color": "#636efa",
          "dash": "solid"
         },
         "marker": {
          "symbol": "circle"
         },
         "mode": "lines+text+markers",
         "name": "cumulative explained variance",
         "orientation": "v",
         "showlegend": true,
         "text": [
          42.34,
          69.18,
          87.2,
          95.5,
          98.12,
          100
         ],
         "textposition": "top left",
         "type": "scatter",
         "x": [
          "pc1",
          "pc2",
          "pc3",
          "pc4",
          "pc5",
          "pc6"
         ],
         "xaxis": "x",
         "y": [
          42.34,
          69.18,
          87.2,
          95.5,
          98.12,
          100
         ],
         "yaxis": "y"
        },
        {
         "name": "explained variance",
         "text": [
          42.34,
          26.84,
          18.02,
          8.3,
          2.62,
          1.88
         ],
         "type": "bar",
         "x": [
          "pc1",
          "pc2",
          "pc3",
          "pc4",
          "pc5",
          "pc6"
         ],
         "y": [
          42.34,
          26.84,
          18.02,
          8.3,
          2.62,
          1.88
         ]
        }
       ],
       "layout": {
        "legend": {
         "title": {
          "text": "color"
         },
         "tracegroupgap": 0
        },
        "margin": {
         "t": 60
        },
        "template": {
         "data": {
          "bar": [
           {
            "error_x": {
             "color": "#2a3f5f"
            },
            "error_y": {
             "color": "#2a3f5f"
            },
            "marker": {
             "line": {
              "color": "#E5ECF6",
              "width": 0.5
             },
             "pattern": {
              "fillmode": "overlay",
              "size": 10,
              "solidity": 0.2
             }
            },
            "type": "bar"
           }
          ],
          "barpolar": [
           {
            "marker": {
             "line": {
              "color": "#E5ECF6",
              "width": 0.5
             },
             "pattern": {
              "fillmode": "overlay",
              "size": 10,
              "solidity": 0.2
             }
            },
            "type": "barpolar"
           }
          ],
          "carpet": [
           {
            "aaxis": {
             "endlinecolor": "#2a3f5f",
             "gridcolor": "white",
             "linecolor": "white",
             "minorgridcolor": "white",
             "startlinecolor": "#2a3f5f"
            },
            "baxis": {
             "endlinecolor": "#2a3f5f",
             "gridcolor": "white",
             "linecolor": "white",
             "minorgridcolor": "white",
             "startlinecolor": "#2a3f5f"
            },
            "type": "carpet"
           }
          ],
          "choropleth": [
           {
            "colorbar": {
             "outlinewidth": 0,
             "ticks": ""
            },
            "type": "choropleth"
           }
          ],
          "contour": [
           {
            "colorbar": {
             "outlinewidth": 0,
             "ticks": ""
            },
            "colorscale": [
             [
              0,
              "#0d0887"
             ],
             [
              0.1111111111111111,
              "#46039f"
             ],
             [
              0.2222222222222222,
              "#7201a8"
             ],
             [
              0.3333333333333333,
              "#9c179e"
             ],
             [
              0.4444444444444444,
              "#bd3786"
             ],
             [
              0.5555555555555556,
              "#d8576b"
             ],
             [
              0.6666666666666666,
              "#ed7953"
             ],
             [
              0.7777777777777778,
              "#fb9f3a"
             ],
             [
              0.8888888888888888,
              "#fdca26"
             ],
             [
              1,
              "#f0f921"
             ]
            ],
            "type": "contour"
           }
          ],
          "contourcarpet": [
           {
            "colorbar": {
             "outlinewidth": 0,
             "ticks": ""
            },
            "type": "contourcarpet"
           }
          ],
          "heatmap": [
           {
            "colorbar": {
             "outlinewidth": 0,
             "ticks": ""
            },
            "colorscale": [
             [
              0,
              "#0d0887"
             ],
             [
              0.1111111111111111,
              "#46039f"
             ],
             [
              0.2222222222222222,
              "#7201a8"
             ],
             [
              0.3333333333333333,
              "#9c179e"
             ],
             [
              0.4444444444444444,
              "#bd3786"
             ],
             [
              0.5555555555555556,
              "#d8576b"
             ],
             [
              0.6666666666666666,
              "#ed7953"
             ],
             [
              0.7777777777777778,
              "#fb9f3a"
             ],
             [
              0.8888888888888888,
              "#fdca26"
             ],
             [
              1,
              "#f0f921"
             ]
            ],
            "type": "heatmap"
           }
          ],
          "heatmapgl": [
           {
            "colorbar": {
             "outlinewidth": 0,
             "ticks": ""
            },
            "colorscale": [
             [
              0,
              "#0d0887"
             ],
             [
              0.1111111111111111,
              "#46039f"
             ],
             [
              0.2222222222222222,
              "#7201a8"
             ],
             [
              0.3333333333333333,
              "#9c179e"
             ],
             [
              0.4444444444444444,
              "#bd3786"
             ],
             [
              0.5555555555555556,
              "#d8576b"
             ],
             [
              0.6666666666666666,
              "#ed7953"
             ],
             [
              0.7777777777777778,
              "#fb9f3a"
             ],
             [
              0.8888888888888888,
              "#fdca26"
             ],
             [
              1,
              "#f0f921"
             ]
            ],
            "type": "heatmapgl"
           }
          ],
          "histogram": [
           {
            "marker": {
             "pattern": {
              "fillmode": "overlay",
              "size": 10,
              "solidity": 0.2
             }
            },
            "type": "histogram"
           }
          ],
          "histogram2d": [
           {
            "colorbar": {
             "outlinewidth": 0,
             "ticks": ""
            },
            "colorscale": [
             [
              0,
              "#0d0887"
             ],
             [
              0.1111111111111111,
              "#46039f"
             ],
             [
              0.2222222222222222,
              "#7201a8"
             ],
             [
              0.3333333333333333,
              "#9c179e"
             ],
             [
              0.4444444444444444,
              "#bd3786"
             ],
             [
              0.5555555555555556,
              "#d8576b"
             ],
             [
              0.6666666666666666,
              "#ed7953"
             ],
             [
              0.7777777777777778,
              "#fb9f3a"
             ],
             [
              0.8888888888888888,
              "#fdca26"
             ],
             [
              1,
              "#f0f921"
             ]
            ],
            "type": "histogram2d"
           }
          ],
          "histogram2dcontour": [
           {
            "colorbar": {
             "outlinewidth": 0,
             "ticks": ""
            },
            "colorscale": [
             [
              0,
              "#0d0887"
             ],
             [
              0.1111111111111111,
              "#46039f"
             ],
             [
              0.2222222222222222,
              "#7201a8"
             ],
             [
              0.3333333333333333,
              "#9c179e"
             ],
             [
              0.4444444444444444,
              "#bd3786"
             ],
             [
              0.5555555555555556,
              "#d8576b"
             ],
             [
              0.6666666666666666,
              "#ed7953"
             ],
             [
              0.7777777777777778,
              "#fb9f3a"
             ],
             [
              0.8888888888888888,
              "#fdca26"
             ],
             [
              1,
              "#f0f921"
             ]
            ],
            "type": "histogram2dcontour"
           }
          ],
          "mesh3d": [
           {
            "colorbar": {
             "outlinewidth": 0,
             "ticks": ""
            },
            "type": "mesh3d"
           }
          ],
          "parcoords": [
           {
            "line": {
             "colorbar": {
              "outlinewidth": 0,
              "ticks": ""
             }
            },
            "type": "parcoords"
           }
          ],
          "pie": [
           {
            "automargin": true,
            "type": "pie"
           }
          ],
          "scatter": [
           {
            "fillpattern": {
             "fillmode": "overlay",
             "size": 10,
             "solidity": 0.2
            },
            "type": "scatter"
           }
          ],
          "scatter3d": [
           {
            "line": {
             "colorbar": {
              "outlinewidth": 0,
              "ticks": ""
             }
            },
            "marker": {
             "colorbar": {
              "outlinewidth": 0,
              "ticks": ""
             }
            },
            "type": "scatter3d"
           }
          ],
          "scattercarpet": [
           {
            "marker": {
             "colorbar": {
              "outlinewidth": 0,
              "ticks": ""
             }
            },
            "type": "scattercarpet"
           }
          ],
          "scattergeo": [
           {
            "marker": {
             "colorbar": {
              "outlinewidth": 0,
              "ticks": ""
             }
            },
            "type": "scattergeo"
           }
          ],
          "scattergl": [
           {
            "marker": {
             "colorbar": {
              "outlinewidth": 0,
              "ticks": ""
             }
            },
            "type": "scattergl"
           }
          ],
          "scattermapbox": [
           {
            "marker": {
             "colorbar": {
              "outlinewidth": 0,
              "ticks": ""
             }
            },
            "type": "scattermapbox"
           }
          ],
          "scatterpolar": [
           {
            "marker": {
             "colorbar": {
              "outlinewidth": 0,
              "ticks": ""
             }
            },
            "type": "scatterpolar"
           }
          ],
          "scatterpolargl": [
           {
            "marker": {
             "colorbar": {
              "outlinewidth": 0,
              "ticks": ""
             }
            },
            "type": "scatterpolargl"
           }
          ],
          "scatterternary": [
           {
            "marker": {
             "colorbar": {
              "outlinewidth": 0,
              "ticks": ""
             }
            },
            "type": "scatterternary"
           }
          ],
          "surface": [
           {
            "colorbar": {
             "outlinewidth": 0,
             "ticks": ""
            },
            "colorscale": [
             [
              0,
              "#0d0887"
             ],
             [
              0.1111111111111111,
              "#46039f"
             ],
             [
              0.2222222222222222,
              "#7201a8"
             ],
             [
              0.3333333333333333,
              "#9c179e"
             ],
             [
              0.4444444444444444,
              "#bd3786"
             ],
             [
              0.5555555555555556,
              "#d8576b"
             ],
             [
              0.6666666666666666,
              "#ed7953"
             ],
             [
              0.7777777777777778,
              "#fb9f3a"
             ],
             [
              0.8888888888888888,
              "#fdca26"
             ],
             [
              1,
              "#f0f921"
             ]
            ],
            "type": "surface"
           }
          ],
          "table": [
           {
            "cells": {
             "fill": {
              "color": "#EBF0F8"
             },
             "line": {
              "color": "white"
             }
            },
            "header": {
             "fill": {
              "color": "#C8D4E3"
             },
             "line": {
              "color": "white"
             }
            },
            "type": "table"
           }
          ]
         },
         "layout": {
          "annotationdefaults": {
           "arrowcolor": "#2a3f5f",
           "arrowhead": 0,
           "arrowwidth": 1
          },
          "autotypenumbers": "strict",
          "coloraxis": {
           "colorbar": {
            "outlinewidth": 0,
            "ticks": ""
           }
          },
          "colorscale": {
           "diverging": [
            [
             0,
             "#8e0152"
            ],
            [
             0.1,
             "#c51b7d"
            ],
            [
             0.2,
             "#de77ae"
            ],
            [
             0.3,
             "#f1b6da"
            ],
            [
             0.4,
             "#fde0ef"
            ],
            [
             0.5,
             "#f7f7f7"
            ],
            [
             0.6,
             "#e6f5d0"
            ],
            [
             0.7,
             "#b8e186"
            ],
            [
             0.8,
             "#7fbc41"
            ],
            [
             0.9,
             "#4d9221"
            ],
            [
             1,
             "#276419"
            ]
           ],
           "sequential": [
            [
             0,
             "#0d0887"
            ],
            [
             0.1111111111111111,
             "#46039f"
            ],
            [
             0.2222222222222222,
             "#7201a8"
            ],
            [
             0.3333333333333333,
             "#9c179e"
            ],
            [
             0.4444444444444444,
             "#bd3786"
            ],
            [
             0.5555555555555556,
             "#d8576b"
            ],
            [
             0.6666666666666666,
             "#ed7953"
            ],
            [
             0.7777777777777778,
             "#fb9f3a"
            ],
            [
             0.8888888888888888,
             "#fdca26"
            ],
            [
             1,
             "#f0f921"
            ]
           ],
           "sequentialminus": [
            [
             0,
             "#0d0887"
            ],
            [
             0.1111111111111111,
             "#46039f"
            ],
            [
             0.2222222222222222,
             "#7201a8"
            ],
            [
             0.3333333333333333,
             "#9c179e"
            ],
            [
             0.4444444444444444,
             "#bd3786"
            ],
            [
             0.5555555555555556,
             "#d8576b"
            ],
            [
             0.6666666666666666,
             "#ed7953"
            ],
            [
             0.7777777777777778,
             "#fb9f3a"
            ],
            [
             0.8888888888888888,
             "#fdca26"
            ],
            [
             1,
             "#f0f921"
            ]
           ]
          },
          "colorway": [
           "#636efa",
           "#EF553B",
           "#00cc96",
           "#ab63fa",
           "#FFA15A",
           "#19d3f3",
           "#FF6692",
           "#B6E880",
           "#FF97FF",
           "#FECB52"
          ],
          "font": {
           "color": "#2a3f5f"
          },
          "geo": {
           "bgcolor": "white",
           "lakecolor": "white",
           "landcolor": "#E5ECF6",
           "showlakes": true,
           "showland": true,
           "subunitcolor": "white"
          },
          "hoverlabel": {
           "align": "left"
          },
          "hovermode": "closest",
          "mapbox": {
           "style": "light"
          },
          "paper_bgcolor": "white",
          "plot_bgcolor": "#E5ECF6",
          "polar": {
           "angularaxis": {
            "gridcolor": "white",
            "linecolor": "white",
            "ticks": ""
           },
           "bgcolor": "#E5ECF6",
           "radialaxis": {
            "gridcolor": "white",
            "linecolor": "white",
            "ticks": ""
           }
          },
          "scene": {
           "xaxis": {
            "backgroundcolor": "#E5ECF6",
            "gridcolor": "white",
            "gridwidth": 2,
            "linecolor": "white",
            "showbackground": true,
            "ticks": "",
            "zerolinecolor": "white"
           },
           "yaxis": {
            "backgroundcolor": "#E5ECF6",
            "gridcolor": "white",
            "gridwidth": 2,
            "linecolor": "white",
            "showbackground": true,
            "ticks": "",
            "zerolinecolor": "white"
           },
           "zaxis": {
            "backgroundcolor": "#E5ECF6",
            "gridcolor": "white",
            "gridwidth": 2,
            "linecolor": "white",
            "showbackground": true,
            "ticks": "",
            "zerolinecolor": "white"
           }
          },
          "shapedefaults": {
           "line": {
            "color": "#2a3f5f"
           }
          },
          "ternary": {
           "aaxis": {
            "gridcolor": "white",
            "linecolor": "white",
            "ticks": ""
           },
           "baxis": {
            "gridcolor": "white",
            "linecolor": "white",
            "ticks": ""
           },
           "bgcolor": "#E5ECF6",
           "caxis": {
            "gridcolor": "white",
            "linecolor": "white",
            "ticks": ""
           }
          },
          "title": {
           "x": 0.05
          },
          "xaxis": {
           "automargin": true,
           "gridcolor": "white",
           "linecolor": "white",
           "ticks": "",
           "title": {
            "standoff": 15
           },
           "zerolinecolor": "white",
           "zerolinewidth": 2
          },
          "yaxis": {
           "automargin": true,
           "gridcolor": "white",
           "linecolor": "white",
           "ticks": "",
           "title": {
            "standoff": 15
           },
           "zerolinecolor": "white",
           "zerolinewidth": 2
          }
         }
        },
        "xaxis": {
         "anchor": "y",
         "domain": [
          0,
          1
         ],
         "title": {
          "text": "x"
         }
        },
        "yaxis": {
         "anchor": "x",
         "domain": [
          0,
          1
         ],
         "title": {
          "text": "cumulative_explained_variance"
         }
        }
       }
      }
     },
     "metadata": {},
     "output_type": "display_data"
    }
   ],
   "source": [
    "data.scree\n"
   ]
  },
  {
   "cell_type": "code",
   "execution_count": 18,
   "metadata": {},
   "outputs": [],
   "source": [
    "# X = all the independent variables\n",
    "X = data.scaled.iloc[:, :-1]\n",
    "\n",
    "# y = index, or dependent variable\n",
    "y = data.scaled.iloc[:, -1]\n",
    "\n",
    "lr = lm.LinearRegression()\n",
    "\n",
    "sfs = SFS( # defaults to forward \n",
    "    lr,\n",
    "    n_features_to_select=5,\n",
    "    n_jobs=-1, # since scoring is null, defaults to model.score\n",
    ") # lr.score() will give us the r2\n",
    "\n",
    "sfs.fit(X, y)\n",
    "selected_variables = list(sfs.get_feature_names_out())"
   ]
  },
  {
   "cell_type": "code",
   "execution_count": 19,
   "metadata": {},
   "outputs": [
    {
     "data": {
      "text/plain": [
       "['native_citizen',\n",
       " 'work_from_home',\n",
       " 'no_computer',\n",
       " 'internet_subscription',\n",
       " 'mean_d_mbps']"
      ]
     },
     "execution_count": 19,
     "metadata": {},
     "output_type": "execute_result"
    }
   ],
   "source": [
    "selected_variables"
   ]
  },
  {
   "cell_type": "code",
   "execution_count": 20,
   "metadata": {},
   "outputs": [
    {
     "data": {
      "text/html": [
       "<style>#sk-container-id-1 {color: black;background-color: white;}#sk-container-id-1 pre{padding: 0;}#sk-container-id-1 div.sk-toggleable {background-color: white;}#sk-container-id-1 label.sk-toggleable__label {cursor: pointer;display: block;width: 100%;margin-bottom: 0;padding: 0.3em;box-sizing: border-box;text-align: center;}#sk-container-id-1 label.sk-toggleable__label-arrow:before {content: \"▸\";float: left;margin-right: 0.25em;color: #696969;}#sk-container-id-1 label.sk-toggleable__label-arrow:hover:before {color: black;}#sk-container-id-1 div.sk-estimator:hover label.sk-toggleable__label-arrow:before {color: black;}#sk-container-id-1 div.sk-toggleable__content {max-height: 0;max-width: 0;overflow: hidden;text-align: left;background-color: #f0f8ff;}#sk-container-id-1 div.sk-toggleable__content pre {margin: 0.2em;color: black;border-radius: 0.25em;background-color: #f0f8ff;}#sk-container-id-1 input.sk-toggleable__control:checked~div.sk-toggleable__content {max-height: 200px;max-width: 100%;overflow: auto;}#sk-container-id-1 input.sk-toggleable__control:checked~label.sk-toggleable__label-arrow:before {content: \"▾\";}#sk-container-id-1 div.sk-estimator input.sk-toggleable__control:checked~label.sk-toggleable__label {background-color: #d4ebff;}#sk-container-id-1 div.sk-label input.sk-toggleable__control:checked~label.sk-toggleable__label {background-color: #d4ebff;}#sk-container-id-1 input.sk-hidden--visually {border: 0;clip: rect(1px 1px 1px 1px);clip: rect(1px, 1px, 1px, 1px);height: 1px;margin: -1px;overflow: hidden;padding: 0;position: absolute;width: 1px;}#sk-container-id-1 div.sk-estimator {font-family: monospace;background-color: #f0f8ff;border: 1px dotted black;border-radius: 0.25em;box-sizing: border-box;margin-bottom: 0.5em;}#sk-container-id-1 div.sk-estimator:hover {background-color: #d4ebff;}#sk-container-id-1 div.sk-parallel-item::after {content: \"\";width: 100%;border-bottom: 1px solid gray;flex-grow: 1;}#sk-container-id-1 div.sk-label:hover label.sk-toggleable__label {background-color: #d4ebff;}#sk-container-id-1 div.sk-serial::before {content: \"\";position: absolute;border-left: 1px solid gray;box-sizing: border-box;top: 0;bottom: 0;left: 50%;z-index: 0;}#sk-container-id-1 div.sk-serial {display: flex;flex-direction: column;align-items: center;background-color: white;padding-right: 0.2em;padding-left: 0.2em;position: relative;}#sk-container-id-1 div.sk-item {position: relative;z-index: 1;}#sk-container-id-1 div.sk-parallel {display: flex;align-items: stretch;justify-content: center;background-color: white;position: relative;}#sk-container-id-1 div.sk-item::before, #sk-container-id-1 div.sk-parallel-item::before {content: \"\";position: absolute;border-left: 1px solid gray;box-sizing: border-box;top: 0;bottom: 0;left: 50%;z-index: -1;}#sk-container-id-1 div.sk-parallel-item {display: flex;flex-direction: column;z-index: 1;position: relative;background-color: white;}#sk-container-id-1 div.sk-parallel-item:first-child::after {align-self: flex-end;width: 50%;}#sk-container-id-1 div.sk-parallel-item:last-child::after {align-self: flex-start;width: 50%;}#sk-container-id-1 div.sk-parallel-item:only-child::after {width: 0;}#sk-container-id-1 div.sk-dashed-wrapped {border: 1px dashed gray;margin: 0 0.4em 0.5em 0.4em;box-sizing: border-box;padding-bottom: 0.4em;background-color: white;}#sk-container-id-1 div.sk-label label {font-family: monospace;font-weight: bold;display: inline-block;line-height: 1.2em;}#sk-container-id-1 div.sk-label-container {text-align: center;}#sk-container-id-1 div.sk-container {/* jupyter's `normalize.less` sets `[hidden] { display: none; }` but bootstrap.min.css set `[hidden] { display: none !important; }` so we also need the `!important` here to be able to override the default hidden behavior on the sphinx rendered scikit-learn.org. See: https://github.com/scikit-learn/scikit-learn/issues/21755 */display: inline-block !important;position: relative;}#sk-container-id-1 div.sk-text-repr-fallback {display: none;}</style><div id=\"sk-container-id-1\" class=\"sk-top-container\"><div class=\"sk-text-repr-fallback\"><pre>LinearRegression()</pre><b>In a Jupyter environment, please rerun this cell to show the HTML representation or trust the notebook. <br />On GitHub, the HTML representation is unable to render, please try loading this page with nbviewer.org.</b></div><div class=\"sk-container\" hidden><div class=\"sk-item\"><div class=\"sk-estimator sk-toggleable\"><input class=\"sk-toggleable__control sk-hidden--visually\" id=\"sk-estimator-id-1\" type=\"checkbox\" checked><label for=\"sk-estimator-id-1\" class=\"sk-toggleable__label sk-toggleable__label-arrow\">LinearRegression</label><div class=\"sk-toggleable__content\"><pre>LinearRegression()</pre></div></div></div></div></div>"
      ],
      "text/plain": [
       "LinearRegression()"
      ]
     },
     "execution_count": 20,
     "metadata": {},
     "output_type": "execute_result"
    }
   ],
   "source": [
    "X_new = data.scaled[selected_variables]\n",
    "model = lr\n",
    "model.fit(X_new, y)"
   ]
  },
  {
   "cell_type": "code",
   "execution_count": 21,
   "metadata": {},
   "outputs": [
    {
     "data": {
      "text/plain": [
       "array(['native_citizen', 'work_from_home', 'no_computer',\n",
       "       'internet_subscription', 'mean_d_mbps'], dtype=object)"
      ]
     },
     "execution_count": 21,
     "metadata": {},
     "output_type": "execute_result"
    }
   ],
   "source": [
    "model.feature_names_in_"
   ]
  },
  {
   "cell_type": "code",
   "execution_count": 22,
   "metadata": {},
   "outputs": [
    {
     "data": {
      "text/plain": [
       "array([-0.38597394, -0.63552653,  0.90413644, -0.14045984, -0.25823065])"
      ]
     },
     "execution_count": 22,
     "metadata": {},
     "output_type": "execute_result"
    }
   ],
   "source": [
    "model.coef_"
   ]
  },
  {
   "cell_type": "code",
   "execution_count": 23,
   "metadata": {},
   "outputs": [
    {
     "name": "stdout",
     "output_type": "stream",
     "text": [
      "adjr2: 0.9979151735655256\n"
     ]
    }
   ],
   "source": [
    "r2 = model.score(X_new, y)\n",
    "observations = X_new.shape[0]\n",
    "predictors = X_new.shape[1]\n",
    "adj_r2 = 1 - (1 - r2) * (observations - 1) / (observations - predictors - 1)\n",
    "print(f\"adjr2: {adj_r2}\")\n"
   ]
  },
  {
   "cell_type": "code",
   "execution_count": 24,
   "metadata": {},
   "outputs": [],
   "source": [
    "# results = pd.DataFrame.from_dict(sfs.get_metric_dict()).T\n",
    "# results\n"
   ]
  },
  {
   "cell_type": "code",
   "execution_count": 25,
   "metadata": {},
   "outputs": [],
   "source": [
    "# largest_before_1 = results[results[\"avg_score\"] != 1].tail(1).index.to_list()\n",
    "# largest_before_1 = largest_before_1[0] - 1\n",
    "# model_vars = list(results.iloc[largest_before_1, 3])\n",
    "# model_vars"
   ]
  },
  {
   "cell_type": "code",
   "execution_count": 26,
   "metadata": {},
   "outputs": [],
   "source": [
    "# model = lr\n",
    "# model.fit(final_X, final_y)\n",
    "# r2 = model.score(final_X, final_y)\n",
    "# observations = final_X.shape[0]\n",
    "# predictors = final_X.shape[1]\n",
    "# adj_r2 = 1 - (1 - r2) * (observations - 1) / (observations - predictors - 1)\n",
    "# print(f\"adjr2: {adj_r2}\")\n"
   ]
  },
  {
   "cell_type": "code",
   "execution_count": 27,
   "metadata": {},
   "outputs": [
    {
     "data": {
      "text/html": [
       "<div>\n",
       "<style scoped>\n",
       "    .dataframe tbody tr th:only-of-type {\n",
       "        vertical-align: middle;\n",
       "    }\n",
       "\n",
       "    .dataframe tbody tr th {\n",
       "        vertical-align: top;\n",
       "    }\n",
       "\n",
       "    .dataframe thead th {\n",
       "        text-align: right;\n",
       "    }\n",
       "</style>\n",
       "<table border=\"1\" class=\"dataframe\">\n",
       "  <thead>\n",
       "    <tr style=\"text-align: right;\">\n",
       "      <th></th>\n",
       "      <th>coefficient</th>\n",
       "      <th>vif</th>\n",
       "    </tr>\n",
       "  </thead>\n",
       "  <tbody>\n",
       "    <tr>\n",
       "      <th>native_citizen</th>\n",
       "      <td>0.3859739398</td>\n",
       "      <td>4.6586473430</td>\n",
       "    </tr>\n",
       "    <tr>\n",
       "      <th>work_from_home</th>\n",
       "      <td>0.6355265332</td>\n",
       "      <td>1.4293249699</td>\n",
       "    </tr>\n",
       "    <tr>\n",
       "      <th>no_computer</th>\n",
       "      <td>-0.9041364371</td>\n",
       "      <td>1.1324644851</td>\n",
       "    </tr>\n",
       "    <tr>\n",
       "      <th>internet_subscription</th>\n",
       "      <td>0.1404598355</td>\n",
       "      <td>4.8183229193</td>\n",
       "    </tr>\n",
       "    <tr>\n",
       "      <th>mean_d_mbps</th>\n",
       "      <td>0.2582306521</td>\n",
       "      <td>1.1855445756</td>\n",
       "    </tr>\n",
       "  </tbody>\n",
       "</table>\n",
       "</div>"
      ],
      "text/plain": [
       "                        coefficient          vif\n",
       "native_citizen         0.3859739398 4.6586473430\n",
       "work_from_home         0.6355265332 1.4293249699\n",
       "no_computer           -0.9041364371 1.1324644851\n",
       "internet_subscription  0.1404598355 4.8183229193\n",
       "mean_d_mbps            0.2582306521 1.1855445756"
      ]
     },
     "execution_count": 27,
     "metadata": {},
     "output_type": "execute_result"
    }
   ],
   "source": [
    "fin_df = pd.DataFrame(-model.coef_, model.feature_names_in_)\n",
    "fin_df[\"vif\"] = [VIF(X_new.values, i) for i in range(X_new.shape[1])]\n",
    "fin_df = fin_df.rename(columns={0: \"coefficient\"})\n",
    "fin_df\n"
   ]
  },
  {
   "cell_type": "code",
   "execution_count": 28,
   "metadata": {},
   "outputs": [
    {
     "name": "stderr",
     "output_type": "stream",
     "text": [
      "C:\\Users\\Nicholas\\AppData\\Local\\Temp\\ipykernel_2828\\1205995849.py:4: SettingWithCopyWarning:\n",
      "\n",
      "\n",
      "A value is trying to be set on a copy of a slice from a DataFrame.\n",
      "Try using .loc[row_indexer,col_indexer] = value instead\n",
      "\n",
      "See the caveats in the documentation: https://pandas.pydata.org/pandas-docs/stable/user_guide/indexing.html#returning-a-view-versus-a-copy\n",
      "\n"
     ]
    }
   ],
   "source": [
    "coefficients = -model.coef_\n",
    "final_vars = list(model.feature_names_in_)\n",
    "final_data = data.scaled[final_vars]\n",
    "final_data[\"index\"] = final_data.mul(coefficients).sum(axis=1)"
   ]
  },
  {
   "cell_type": "code",
   "execution_count": 29,
   "metadata": {},
   "outputs": [
    {
     "data": {
      "text/html": [
       "<div>\n",
       "<style scoped>\n",
       "    .dataframe tbody tr th:only-of-type {\n",
       "        vertical-align: middle;\n",
       "    }\n",
       "\n",
       "    .dataframe tbody tr th {\n",
       "        vertical-align: top;\n",
       "    }\n",
       "\n",
       "    .dataframe thead th {\n",
       "        text-align: right;\n",
       "    }\n",
       "</style>\n",
       "<table border=\"1\" class=\"dataframe\">\n",
       "  <thead>\n",
       "    <tr style=\"text-align: right;\">\n",
       "      <th></th>\n",
       "      <th>native_citizen</th>\n",
       "      <th>work_from_home</th>\n",
       "      <th>no_computer</th>\n",
       "      <th>internet_subscription</th>\n",
       "      <th>mean_d_mbps</th>\n",
       "      <th>index</th>\n",
       "    </tr>\n",
       "  </thead>\n",
       "  <tbody>\n",
       "    <tr>\n",
       "      <th>0</th>\n",
       "      <td>-0.7793647066</td>\n",
       "      <td>-0.5115079191</td>\n",
       "      <td>-0.3341503606</td>\n",
       "      <td>-0.7430128489</td>\n",
       "      <td>-1.6263184336</td>\n",
       "      <td>-0.8481025365</td>\n",
       "    </tr>\n",
       "    <tr>\n",
       "      <th>1</th>\n",
       "      <td>-1.4274799394</td>\n",
       "      <td>-0.8676949403</td>\n",
       "      <td>-0.4867380487</td>\n",
       "      <td>-1.5525370030</td>\n",
       "      <td>-1.6343848222</td>\n",
       "      <td>-1.3024529588</td>\n",
       "    </tr>\n",
       "    <tr>\n",
       "      <th>2</th>\n",
       "      <td>-1.8482655551</td>\n",
       "      <td>-1.3154729099</td>\n",
       "      <td>1.0264231913</td>\n",
       "      <td>-1.8587399927</td>\n",
       "      <td>-1.3253157117</td>\n",
       "      <td>-3.0807423372</td>\n",
       "    </tr>\n",
       "    <tr>\n",
       "      <th>3</th>\n",
       "      <td>-1.3928535739</td>\n",
       "      <td>-1.0814071531</td>\n",
       "      <td>-0.6011788147</td>\n",
       "      <td>-1.4989514798</td>\n",
       "      <td>-1.3380529792</td>\n",
       "      <td>-1.2373892204</td>\n",
       "    </tr>\n",
       "    <tr>\n",
       "      <th>4</th>\n",
       "      <td>-1.2633810767</td>\n",
       "      <td>-0.2265583020</td>\n",
       "      <td>-0.9953636755</td>\n",
       "      <td>-1.4185731950</td>\n",
       "      <td>-1.4903884747</td>\n",
       "      <td>-0.3157879620</td>\n",
       "    </tr>\n",
       "    <tr>\n",
       "      <th>...</th>\n",
       "      <td>...</td>\n",
       "      <td>...</td>\n",
       "      <td>...</td>\n",
       "      <td>...</td>\n",
       "      <td>...</td>\n",
       "      <td>...</td>\n",
       "    </tr>\n",
       "    <tr>\n",
       "      <th>178</th>\n",
       "      <td>0.2112504459</td>\n",
       "      <td>-1.0407000649</td>\n",
       "      <td>-0.6647570181</td>\n",
       "      <td>0.6119353806</td>\n",
       "      <td>0.1229907201</td>\n",
       "      <td>0.1388880212</td>\n",
       "    </tr>\n",
       "    <tr>\n",
       "      <th>179</th>\n",
       "      <td>-0.1320022209</td>\n",
       "      <td>0.0990984031</td>\n",
       "      <td>0.2380534696</td>\n",
       "      <td>-0.1535720937</td>\n",
       "      <td>-0.8491271755</td>\n",
       "      <td>-0.4440439438</td>\n",
       "    </tr>\n",
       "    <tr>\n",
       "      <th>180</th>\n",
       "      <td>0.0622065248</td>\n",
       "      <td>-0.8269878522</td>\n",
       "      <td>0.4923662831</td>\n",
       "      <td>-0.3870518734</td>\n",
       "      <td>-1.8089348075</td>\n",
       "      <td>-1.4682165795</td>\n",
       "    </tr>\n",
       "    <tr>\n",
       "      <th>181</th>\n",
       "      <td>0.2534042822</td>\n",
       "      <td>0.2313964396</td>\n",
       "      <td>0.5305132051</td>\n",
       "      <td>0.0301497001</td>\n",
       "      <td>-0.3223962253</td>\n",
       "      <td>-0.3138080585</td>\n",
       "    </tr>\n",
       "    <tr>\n",
       "      <th>182</th>\n",
       "      <td>-1.1542327506</td>\n",
       "      <td>-0.3181492504</td>\n",
       "      <td>-0.8300603468</td>\n",
       "      <td>-1.0779223689</td>\n",
       "      <td>-1.7649486239</td>\n",
       "      <td>-0.5043768804</td>\n",
       "    </tr>\n",
       "  </tbody>\n",
       "</table>\n",
       "<p>183 rows × 6 columns</p>\n",
       "</div>"
      ],
      "text/plain": [
       "     native_citizen  work_from_home   no_computer  internet_subscription  \\\n",
       "0     -0.7793647066   -0.5115079191 -0.3341503606          -0.7430128489   \n",
       "1     -1.4274799394   -0.8676949403 -0.4867380487          -1.5525370030   \n",
       "2     -1.8482655551   -1.3154729099  1.0264231913          -1.8587399927   \n",
       "3     -1.3928535739   -1.0814071531 -0.6011788147          -1.4989514798   \n",
       "4     -1.2633810767   -0.2265583020 -0.9953636755          -1.4185731950   \n",
       "..              ...             ...           ...                    ...   \n",
       "178    0.2112504459   -1.0407000649 -0.6647570181           0.6119353806   \n",
       "179   -0.1320022209    0.0990984031  0.2380534696          -0.1535720937   \n",
       "180    0.0622065248   -0.8269878522  0.4923662831          -0.3870518734   \n",
       "181    0.2534042822    0.2313964396  0.5305132051           0.0301497001   \n",
       "182   -1.1542327506   -0.3181492504 -0.8300603468          -1.0779223689   \n",
       "\n",
       "      mean_d_mbps         index  \n",
       "0   -1.6263184336 -0.8481025365  \n",
       "1   -1.6343848222 -1.3024529588  \n",
       "2   -1.3253157117 -3.0807423372  \n",
       "3   -1.3380529792 -1.2373892204  \n",
       "4   -1.4903884747 -0.3157879620  \n",
       "..            ...           ...  \n",
       "178  0.1229907201  0.1388880212  \n",
       "179 -0.8491271755 -0.4440439438  \n",
       "180 -1.8089348075 -1.4682165795  \n",
       "181 -0.3223962253 -0.3138080585  \n",
       "182 -1.7649486239 -0.5043768804  \n",
       "\n",
       "[183 rows x 6 columns]"
      ]
     },
     "execution_count": 29,
     "metadata": {},
     "output_type": "execute_result"
    }
   ],
   "source": [
    "final_data"
   ]
  },
  {
   "cell_type": "code",
   "execution_count": 30,
   "metadata": {},
   "outputs": [
    {
     "data": {
      "text/plain": [
       "0.6903825896668394"
      ]
     },
     "execution_count": 30,
     "metadata": {},
     "output_type": "execute_result"
    }
   ],
   "source": [
    "cronbach_alpha(final_data)[0]"
   ]
  },
  {
   "cell_type": "code",
   "execution_count": 31,
   "metadata": {},
   "outputs": [
    {
     "data": {
      "text/html": [
       "<div>\n",
       "<style scoped>\n",
       "    .dataframe tbody tr th:only-of-type {\n",
       "        vertical-align: middle;\n",
       "    }\n",
       "\n",
       "    .dataframe tbody tr th {\n",
       "        vertical-align: top;\n",
       "    }\n",
       "\n",
       "    .dataframe thead th {\n",
       "        text-align: right;\n",
       "    }\n",
       "</style>\n",
       "<table border=\"1\" class=\"dataframe\">\n",
       "  <thead>\n",
       "    <tr style=\"text-align: right;\">\n",
       "      <th></th>\n",
       "      <th>native_citizen</th>\n",
       "      <th>work_from_home</th>\n",
       "      <th>no_computer</th>\n",
       "      <th>internet_subscription</th>\n",
       "      <th>mean_d_mbps</th>\n",
       "      <th>index</th>\n",
       "    </tr>\n",
       "  </thead>\n",
       "  <tbody>\n",
       "    <tr>\n",
       "      <th>0</th>\n",
       "      <td>-0.7793647066</td>\n",
       "      <td>-0.5115079191</td>\n",
       "      <td>-0.3341503606</td>\n",
       "      <td>-0.7430128489</td>\n",
       "      <td>-1.6263184336</td>\n",
       "      <td>-0.8481025365</td>\n",
       "    </tr>\n",
       "    <tr>\n",
       "      <th>1</th>\n",
       "      <td>-1.4274799394</td>\n",
       "      <td>-0.8676949403</td>\n",
       "      <td>-0.4867380487</td>\n",
       "      <td>-1.5525370030</td>\n",
       "      <td>-1.6343848222</td>\n",
       "      <td>-1.3024529588</td>\n",
       "    </tr>\n",
       "    <tr>\n",
       "      <th>2</th>\n",
       "      <td>-1.8482655551</td>\n",
       "      <td>-1.3154729099</td>\n",
       "      <td>1.0264231913</td>\n",
       "      <td>-1.8587399927</td>\n",
       "      <td>-1.3253157117</td>\n",
       "      <td>-3.0807423372</td>\n",
       "    </tr>\n",
       "    <tr>\n",
       "      <th>3</th>\n",
       "      <td>-1.3928535739</td>\n",
       "      <td>-1.0814071531</td>\n",
       "      <td>-0.6011788147</td>\n",
       "      <td>-1.4989514798</td>\n",
       "      <td>-1.3380529792</td>\n",
       "      <td>-1.2373892204</td>\n",
       "    </tr>\n",
       "    <tr>\n",
       "      <th>4</th>\n",
       "      <td>-1.2633810767</td>\n",
       "      <td>-0.2265583020</td>\n",
       "      <td>-0.9953636755</td>\n",
       "      <td>-1.4185731950</td>\n",
       "      <td>-1.4903884747</td>\n",
       "      <td>-0.3157879620</td>\n",
       "    </tr>\n",
       "    <tr>\n",
       "      <th>...</th>\n",
       "      <td>...</td>\n",
       "      <td>...</td>\n",
       "      <td>...</td>\n",
       "      <td>...</td>\n",
       "      <td>...</td>\n",
       "      <td>...</td>\n",
       "    </tr>\n",
       "    <tr>\n",
       "      <th>178</th>\n",
       "      <td>0.2112504459</td>\n",
       "      <td>-1.0407000649</td>\n",
       "      <td>-0.6647570181</td>\n",
       "      <td>0.6119353806</td>\n",
       "      <td>0.1229907201</td>\n",
       "      <td>0.1388880212</td>\n",
       "    </tr>\n",
       "    <tr>\n",
       "      <th>179</th>\n",
       "      <td>-0.1320022209</td>\n",
       "      <td>0.0990984031</td>\n",
       "      <td>0.2380534696</td>\n",
       "      <td>-0.1535720937</td>\n",
       "      <td>-0.8491271755</td>\n",
       "      <td>-0.4440439438</td>\n",
       "    </tr>\n",
       "    <tr>\n",
       "      <th>180</th>\n",
       "      <td>0.0622065248</td>\n",
       "      <td>-0.8269878522</td>\n",
       "      <td>0.4923662831</td>\n",
       "      <td>-0.3870518734</td>\n",
       "      <td>-1.8089348075</td>\n",
       "      <td>-1.4682165795</td>\n",
       "    </tr>\n",
       "    <tr>\n",
       "      <th>181</th>\n",
       "      <td>0.2534042822</td>\n",
       "      <td>0.2313964396</td>\n",
       "      <td>0.5305132051</td>\n",
       "      <td>0.0301497001</td>\n",
       "      <td>-0.3223962253</td>\n",
       "      <td>-0.3138080585</td>\n",
       "    </tr>\n",
       "    <tr>\n",
       "      <th>182</th>\n",
       "      <td>-1.1542327506</td>\n",
       "      <td>-0.3181492504</td>\n",
       "      <td>-0.8300603468</td>\n",
       "      <td>-1.0779223689</td>\n",
       "      <td>-1.7649486239</td>\n",
       "      <td>-0.5043768804</td>\n",
       "    </tr>\n",
       "  </tbody>\n",
       "</table>\n",
       "<p>183 rows × 6 columns</p>\n",
       "</div>"
      ],
      "text/plain": [
       "     native_citizen  work_from_home   no_computer  internet_subscription  \\\n",
       "0     -0.7793647066   -0.5115079191 -0.3341503606          -0.7430128489   \n",
       "1     -1.4274799394   -0.8676949403 -0.4867380487          -1.5525370030   \n",
       "2     -1.8482655551   -1.3154729099  1.0264231913          -1.8587399927   \n",
       "3     -1.3928535739   -1.0814071531 -0.6011788147          -1.4989514798   \n",
       "4     -1.2633810767   -0.2265583020 -0.9953636755          -1.4185731950   \n",
       "..              ...             ...           ...                    ...   \n",
       "178    0.2112504459   -1.0407000649 -0.6647570181           0.6119353806   \n",
       "179   -0.1320022209    0.0990984031  0.2380534696          -0.1535720937   \n",
       "180    0.0622065248   -0.8269878522  0.4923662831          -0.3870518734   \n",
       "181    0.2534042822    0.2313964396  0.5305132051           0.0301497001   \n",
       "182   -1.1542327506   -0.3181492504 -0.8300603468          -1.0779223689   \n",
       "\n",
       "      mean_d_mbps         index  \n",
       "0   -1.6263184336 -0.8481025365  \n",
       "1   -1.6343848222 -1.3024529588  \n",
       "2   -1.3253157117 -3.0807423372  \n",
       "3   -1.3380529792 -1.2373892204  \n",
       "4   -1.4903884747 -0.3157879620  \n",
       "..            ...           ...  \n",
       "178  0.1229907201  0.1388880212  \n",
       "179 -0.8491271755 -0.4440439438  \n",
       "180 -1.8089348075 -1.4682165795  \n",
       "181 -0.3223962253 -0.3138080585  \n",
       "182 -1.7649486239 -0.5043768804  \n",
       "\n",
       "[183 rows x 6 columns]"
      ]
     },
     "execution_count": 31,
     "metadata": {},
     "output_type": "execute_result"
    }
   ],
   "source": [
    "final_data"
   ]
  },
  {
   "cell_type": "code",
   "execution_count": 32,
   "metadata": {},
   "outputs": [],
   "source": [
    "final_data = dataset1[[\"GEOID\", \"tract\"]].join(final_data)"
   ]
  },
  {
   "cell_type": "code",
   "execution_count": 33,
   "metadata": {},
   "outputs": [],
   "source": [
    "final_data.to_csv(\"../app/data/index_data4.csv\", index=False)"
   ]
  }
 ],
 "metadata": {
  "kernelspec": {
   "display_name": "washington-digital-equity-T8Bkn3ac-py3.11",
   "language": "python",
   "name": "python3"
  },
  "language_info": {
   "codemirror_mode": {
    "name": "ipython",
    "version": 3
   },
   "file_extension": ".py",
   "mimetype": "text/x-python",
   "name": "python",
   "nbconvert_exporter": "python",
   "pygments_lexer": "ipython3",
   "version": "3.11.3"
  },
  "orig_nbformat": 4
 },
 "nbformat": 4,
 "nbformat_minor": 2
}
