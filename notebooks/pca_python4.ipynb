{
 "cells": [
  {
   "attachments": {},
   "cell_type": "markdown",
   "metadata": {
    "slideshow": {
     "slide_type": "slide"
    }
   },
   "source": [
    "# Eastern Washington Digital Equity\n",
    "\n",
    "## Nicholas Tran"
   ]
  },
  {
   "attachments": {},
   "cell_type": "markdown",
   "metadata": {
    "slideshow": {
     "slide_type": "slide"
    }
   },
   "source": [
    "# Preparation"
   ]
  },
  {
   "attachments": {},
   "cell_type": "markdown",
   "metadata": {
    "slideshow": {
     "slide_type": "subslide"
    }
   },
   "source": [
    "## Import The Modules"
   ]
  },
  {
   "cell_type": "code",
   "execution_count": 9,
   "metadata": {},
   "outputs": [],
   "source": [
    "import numpy as np  # matrix and array manipulation\n",
    "import pandas as pd  # dataframe manipulation\n",
    "import plotly.express as px # plotting\n",
    "from pingouin import cronbach_alpha # cronbach alpha\n",
    "from scipy.stats import pearsonr # pearson correlation\n",
    "from sklearn import linear_model as lm # linear regression \n",
    "from sklearn.feature_selection import SequentialFeatureSelector as SFS # to select features \n",
    "from sklearn.preprocessing import StandardScaler  # scale the data\n",
    "from statsmodels.stats.outliers_influence import variance_inflation_factor as VIF\n",
    "from factor_analyzer.factor_analyzer import (\n",
    "    calculate_kmo,\n",
    ")  # get measure of sampling adequacy\n",
    "\n",
    "# initialize the scaler\n",
    "scaler = StandardScaler()\n",
    "\n",
    "# use this as a method in corr() to get the pearson p values\n",
    "def pearsonr_pval(x, y):\n",
    "    return pearsonr(x, y)[1]\n",
    "\n",
    "\n",
    "# turn scientific notation into decimals\n",
    "pd.options.display.float_format = \"{:.10f}\".format\n"
   ]
  },
  {
   "attachments": {},
   "cell_type": "markdown",
   "metadata": {
    "slideshow": {
     "slide_type": "subslide"
    }
   },
   "source": [
    "## Import The Dataset"
   ]
  },
  {
   "cell_type": "code",
   "execution_count": 13,
   "metadata": {},
   "outputs": [
    {
     "data": {
      "text/html": [
       "<div>\n",
       "<style scoped>\n",
       "    .dataframe tbody tr th:only-of-type {\n",
       "        vertical-align: middle;\n",
       "    }\n",
       "\n",
       "    .dataframe tbody tr th {\n",
       "        vertical-align: top;\n",
       "    }\n",
       "\n",
       "    .dataframe thead th {\n",
       "        text-align: right;\n",
       "    }\n",
       "</style>\n",
       "<table border=\"1\" class=\"dataframe\">\n",
       "  <thead>\n",
       "    <tr style=\"text-align: right;\">\n",
       "      <th></th>\n",
       "      <th>native_citizen</th>\n",
       "      <th>work_from_home</th>\n",
       "      <th>no_computer</th>\n",
       "      <th>internet_subscription</th>\n",
       "      <th>mean_d_mbps</th>\n",
       "      <th>mean_lat_ms</th>\n",
       "    </tr>\n",
       "  </thead>\n",
       "  <tbody>\n",
       "    <tr>\n",
       "      <th>0</th>\n",
       "      <td>2484</td>\n",
       "      <td>82</td>\n",
       "      <td>76</td>\n",
       "      <td>910</td>\n",
       "      <td>62.6586413043</td>\n",
       "      <td>42.6413043478</td>\n",
       "    </tr>\n",
       "    <tr>\n",
       "      <th>1</th>\n",
       "      <td>1623</td>\n",
       "      <td>47</td>\n",
       "      <td>64</td>\n",
       "      <td>487</td>\n",
       "      <td>61.9772073171</td>\n",
       "      <td>60.9024390244</td>\n",
       "    </tr>\n",
       "    <tr>\n",
       "      <th>2</th>\n",
       "      <td>1064</td>\n",
       "      <td>3</td>\n",
       "      <td>183</td>\n",
       "      <td>327</td>\n",
       "      <td>88.0868093023</td>\n",
       "      <td>60.1674418605</td>\n",
       "    </tr>\n",
       "    <tr>\n",
       "      <th>3</th>\n",
       "      <td>1669</td>\n",
       "      <td>26</td>\n",
       "      <td>55</td>\n",
       "      <td>515</td>\n",
       "      <td>87.0107878788</td>\n",
       "      <td>44.4242424242</td>\n",
       "    </tr>\n",
       "    <tr>\n",
       "      <th>4</th>\n",
       "      <td>1841</td>\n",
       "      <td>110</td>\n",
       "      <td>24</td>\n",
       "      <td>557</td>\n",
       "      <td>74.1417594937</td>\n",
       "      <td>37.8924050633</td>\n",
       "    </tr>\n",
       "  </tbody>\n",
       "</table>\n",
       "</div>"
      ],
      "text/plain": [
       "   native_citizen  work_from_home  no_computer  internet_subscription  \\\n",
       "0            2484              82           76                    910   \n",
       "1            1623              47           64                    487   \n",
       "2            1064               3          183                    327   \n",
       "3            1669              26           55                    515   \n",
       "4            1841             110           24                    557   \n",
       "\n",
       "    mean_d_mbps   mean_lat_ms  \n",
       "0 62.6586413043 42.6413043478  \n",
       "1 61.9772073171 60.9024390244  \n",
       "2 88.0868093023 60.1674418605  \n",
       "3 87.0107878788 44.4242424242  \n",
       "4 74.1417594937 37.8924050633  "
      ]
     },
     "execution_count": 13,
     "metadata": {},
     "output_type": "execute_result"
    }
   ],
   "source": [
    "dataset1 = pd.read_csv(\"../app/data/combined_data_new.csv\")\n",
    "\n",
    "dataset = dataset1[\n",
    "    [\n",
    "        \"native_citizen\",\n",
    "        \"work_from_home\",\n",
    "        \"no_computer\",\n",
    "        \"internet_subscription\",\n",
    "        \"mean_d_mbps\",\n",
    "        \"mean_lat_ms\",\n",
    "    ]\n",
    "]\n",
    "\n",
    "\n",
    "dataset.head()"
   ]
  },
  {
   "attachments": {},
   "cell_type": "markdown",
   "metadata": {
    "slideshow": {
     "slide_type": "subslide"
    }
   },
   "source": [
    "## Create A Class for The Data"
   ]
  },
  {
   "cell_type": "code",
   "execution_count": 14,
   "metadata": {},
   "outputs": [],
   "source": [
    "class PCA:\n",
    "    \"\"\"Input a df and get many things back.\n",
    "    https://stackoverflow.com/questions/13224362/principal-component-analysis-pca-in-python\n",
    "    \"\"\"\n",
    "\n",
    "    def __init__(self, df):\n",
    "        import numpy as np\n",
    "        from scipy import linalg as LA\n",
    "\n",
    "        self.data = df\n",
    "\n",
    "        # scale data\n",
    "        self.scaled = pd.DataFrame(scaler.fit_transform(df), columns=df.columns)\n",
    "\n",
    "        # kmo, total kmo\n",
    "        self.kmo, self.total_kmo = calculate_kmo(self.scaled)\n",
    "        self.kmo = pd.DataFrame(self.data.columns, self.kmo).reset_index()\n",
    "        self.kmo = self.kmo.rename(columns={\"index\": \"KMO\", 0: \"Variables\"})\n",
    "\n",
    "        # center data\n",
    "        self.center = self.scaled.apply(lambda x: x - x.mean())\n",
    "\n",
    "        # covariance\n",
    "        self.cov = pd.DataFrame(\n",
    "            np.cov(self.center, rowvar=False),\n",
    "            columns=self.scaled.columns,\n",
    "            index=self.scaled.columns,\n",
    "        )\n",
    "\n",
    "        # eigenvalues and loadings(eigenvectors)\n",
    "        self.eigenvalues, self.loadings = LA.eigh(self.cov)\n",
    "\n",
    "        # sort eigenvalues and loadings from\n",
    "        sorter = np.argsort(self.eigenvalues)[::-1]\n",
    "        self.loadings = self.loadings[:, sorter]\n",
    "        self.eigenvalues = self.eigenvalues[sorter]\n",
    "\n",
    "        pc_list = [\"pc\" + str(i + 1) for i in range(len(self.eigenvalues))]\n",
    "\n",
    "        # turn into dataframe\n",
    "        self.loadings = pd.DataFrame(\n",
    "            self.loadings, index=self.scaled.columns, columns=pc_list\n",
    "        )\n",
    "        self.eigenvalues = pd.DataFrame(\n",
    "            self.eigenvalues, index=pc_list, columns=[\"eigenvalues\"]\n",
    "        )\n",
    "\n",
    "        # pca scores - scaled data * loadings\n",
    "        self.scores = self.scaled @ self.loadings\n",
    "\n",
    "        # percent explained\n",
    "        explained_variance = self.eigenvalues / self.eigenvalues.sum() * 100\n",
    "        self.percent_explained = pd.DataFrame(explained_variance).round(2)\n",
    "\n",
    "        self.percent_explained[\n",
    "            \"cumulative_explained_variance\"\n",
    "        ] = self.percent_explained.cumsum().round(2)\n",
    "        self.percent_explained.columns.values[0] = \"explained_variance\"\n",
    "\n",
    "        # scree plot\n",
    "        self.scree = (\n",
    "            px.line(\n",
    "                self.percent_explained,\n",
    "                x=pc_list,\n",
    "                y=\"cumulative_explained_variance\",\n",
    "                text=\"cumulative_explained_variance\",\n",
    "                color=px.Constant(\"cumulative explained variance\"),\n",
    "            )\n",
    "            .update_traces(textposition=\"top left\")\n",
    "            .add_bar(\n",
    "                x=pc_list,\n",
    "                y=self.percent_explained.explained_variance,\n",
    "                name=\"explained variance\",\n",
    "                text=self.percent_explained.explained_variance,\n",
    "            )\n",
    "        )\n",
    "\n",
    "    def calculate_weights(self, number_of_components):\n",
    "        \"\"\"calculate coefficients using your eigenvalues. Multiplies each row by the respective\n",
    "        eigenvalue. Row 1 of loadings will be multiplied by eigenvalue 1. Row 2 with 2. You may\n",
    "        only use this when you have at least 2 pcs.\n",
    "\n",
    "        Args:\n",
    "            number_of_components (int): number of pcs you want to use.\n",
    "\n",
    "        Returns:\n",
    "            DataFrame: Returns a dataframe of weights.\n",
    "        \"\"\"\n",
    "        weights = (\n",
    "            self.loadings.iloc[:, 0:number_of_components]\n",
    "            .mul(\n",
    "                [\n",
    "                    float(self.eigenvalues.iloc[i, :])\n",
    "                    for i in range(len(self.eigenvalues))\n",
    "                ],\n",
    "                axis=0,\n",
    "            )\n",
    "            .sum(axis=1)\n",
    "        )\n",
    "        return weights\n",
    "\n",
    "\n",
    "data = PCA(dataset)\n",
    "\n",
    "data.weights = data.calculate_weights(3)\n",
    "\n",
    "data.scaled[\"index\"] = data.scaled @ data.weights\n",
    "\n",
    "# data.weights = (\n",
    "#     pd.DataFrame(data.weights).reset_index().rename(columns={0: \"coefficients\"})\n",
    "# )"
   ]
  },
  {
   "cell_type": "code",
   "execution_count": 18,
   "metadata": {},
   "outputs": [
    {
     "data": {
      "text/plain": [
       "native_citizen          -0.4074733019\n",
       "work_from_home          -0.6330107281\n",
       "no_computer              0.9094260191\n",
       "internet_subscription   -0.1301317560\n",
       "mean_d_mbps             -0.1624212828\n",
       "mean_lat_ms              0.1133194251\n",
       "dtype: float64"
      ]
     },
     "execution_count": 18,
     "metadata": {},
     "output_type": "execute_result"
    }
   ],
   "source": [
    "data.weights"
   ]
  },
  {
   "cell_type": "code",
   "execution_count": null,
   "metadata": {},
   "outputs": [],
   "source": [
    "data.scaled"
   ]
  },
  {
   "cell_type": "code",
   "execution_count": null,
   "metadata": {},
   "outputs": [],
   "source": [
    "data.loadings"
   ]
  },
  {
   "cell_type": "code",
   "execution_count": null,
   "metadata": {},
   "outputs": [],
   "source": [
    "data.eigenvalues"
   ]
  },
  {
   "cell_type": "code",
   "execution_count": null,
   "metadata": {},
   "outputs": [],
   "source": [
    "data.percent_explained"
   ]
  },
  {
   "cell_type": "code",
   "execution_count": null,
   "metadata": {},
   "outputs": [],
   "source": [
    "data.kmo"
   ]
  },
  {
   "cell_type": "code",
   "execution_count": null,
   "metadata": {},
   "outputs": [],
   "source": [
    "data.scree"
   ]
  },
  {
   "cell_type": "code",
   "execution_count": null,
   "metadata": {},
   "outputs": [],
   "source": [
    "data.total_kmo"
   ]
  },
  {
   "cell_type": "code",
   "execution_count": null,
   "metadata": {},
   "outputs": [],
   "source": [
    "data.weights\n"
   ]
  },
  {
   "cell_type": "code",
   "execution_count": null,
   "metadata": {},
   "outputs": [],
   "source": [
    "data.weights"
   ]
  },
  {
   "cell_type": "code",
   "execution_count": null,
   "metadata": {},
   "outputs": [],
   "source": [
    "data.percent_explained"
   ]
  },
  {
   "cell_type": "code",
   "execution_count": null,
   "metadata": {},
   "outputs": [],
   "source": [
    "data.eigenvalues\n"
   ]
  },
  {
   "cell_type": "code",
   "execution_count": null,
   "metadata": {},
   "outputs": [],
   "source": [
    "data.percent_explained\n"
   ]
  },
  {
   "cell_type": "code",
   "execution_count": null,
   "metadata": {},
   "outputs": [],
   "source": [
    "data.scree\n"
   ]
  },
  {
   "cell_type": "code",
   "execution_count": null,
   "metadata": {},
   "outputs": [],
   "source": [
    "# X = all the independent variables\n",
    "X = data.scaled.iloc[:, :-1]\n",
    "\n",
    "# y = index, or dependent variable\n",
    "y = data.scaled.iloc[:, -1]\n",
    "\n",
    "lr = lm.LinearRegression()\n",
    "\n",
    "sfs = SFS( # defaults to forward \n",
    "    lr,\n",
    "    n_features_to_select=5,\n",
    "    n_jobs=-1, # since scoring is null, defaults to model.score\n",
    ") # lr.score() will give us the r2\n",
    "\n",
    "sfs.fit(X, y)\n",
    "selected_variables = list(sfs.get_feature_names_out())"
   ]
  },
  {
   "cell_type": "code",
   "execution_count": null,
   "metadata": {},
   "outputs": [],
   "source": [
    "selected_variables"
   ]
  },
  {
   "cell_type": "code",
   "execution_count": null,
   "metadata": {},
   "outputs": [],
   "source": [
    "X_new = data.scaled[selected_variables]\n",
    "model = lr\n",
    "model.fit(X_new, y)"
   ]
  },
  {
   "cell_type": "code",
   "execution_count": null,
   "metadata": {},
   "outputs": [],
   "source": [
    "model.feature_names_in_"
   ]
  },
  {
   "cell_type": "code",
   "execution_count": null,
   "metadata": {},
   "outputs": [],
   "source": [
    "model.coef_"
   ]
  },
  {
   "cell_type": "code",
   "execution_count": null,
   "metadata": {},
   "outputs": [],
   "source": [
    "r2 = model.score(X_new, y)\n",
    "observations = X_new.shape[0]\n",
    "predictors = X_new.shape[1]\n",
    "adj_r2 = 1 - (1 - r2) * (observations - 1) / (observations - predictors - 1)\n",
    "print(f\"adjr2: {adj_r2}\")\n"
   ]
  },
  {
   "cell_type": "code",
   "execution_count": null,
   "metadata": {},
   "outputs": [],
   "source": [
    "# results = pd.DataFrame.from_dict(sfs.get_metric_dict()).T\n",
    "# results\n"
   ]
  },
  {
   "cell_type": "code",
   "execution_count": null,
   "metadata": {},
   "outputs": [],
   "source": [
    "# largest_before_1 = results[results[\"avg_score\"] != 1].tail(1).index.to_list()\n",
    "# largest_before_1 = largest_before_1[0] - 1\n",
    "# model_vars = list(results.iloc[largest_before_1, 3])\n",
    "# model_vars"
   ]
  },
  {
   "cell_type": "code",
   "execution_count": null,
   "metadata": {},
   "outputs": [],
   "source": [
    "# model = lr\n",
    "# model.fit(final_X, final_y)\n",
    "# r2 = model.score(final_X, final_y)\n",
    "# observations = final_X.shape[0]\n",
    "# predictors = final_X.shape[1]\n",
    "# adj_r2 = 1 - (1 - r2) * (observations - 1) / (observations - predictors - 1)\n",
    "# print(f\"adjr2: {adj_r2}\")\n"
   ]
  },
  {
   "cell_type": "code",
   "execution_count": null,
   "metadata": {},
   "outputs": [],
   "source": [
    "fin_df = pd.DataFrame(-model.coef_, model.feature_names_in_)\n",
    "fin_df[\"vif\"] = [VIF(X_new.values, i) for i in range(X_new.shape[1])]\n",
    "fin_df = fin_df.rename(columns={0: \"coefficient\"})\n",
    "fin_df\n"
   ]
  },
  {
   "cell_type": "code",
   "execution_count": null,
   "metadata": {},
   "outputs": [],
   "source": [
    "coefficients = -model.coef_\n",
    "final_vars = list(model.feature_names_in_)\n",
    "final_data = data.scaled[final_vars]\n",
    "final_data[\"index\"] = final_data.mul(coefficients).sum(axis=1)"
   ]
  },
  {
   "cell_type": "code",
   "execution_count": null,
   "metadata": {},
   "outputs": [],
   "source": [
    "final_data"
   ]
  },
  {
   "cell_type": "code",
   "execution_count": null,
   "metadata": {},
   "outputs": [],
   "source": [
    "cronbach_alpha(final_data)[0]"
   ]
  },
  {
   "cell_type": "code",
   "execution_count": null,
   "metadata": {},
   "outputs": [],
   "source": [
    "final_data"
   ]
  },
  {
   "cell_type": "code",
   "execution_count": null,
   "metadata": {},
   "outputs": [],
   "source": [
    "final_data = dataset1[[\"GEOID\", \"tract\"]].join(final_data)"
   ]
  },
  {
   "cell_type": "code",
   "execution_count": null,
   "metadata": {},
   "outputs": [],
   "source": [
    "final_data.to_csv(\"../app/data/index_data4.csv\", index=False)"
   ]
  }
 ],
 "metadata": {
  "kernelspec": {
   "display_name": "washington-digital-equity-T8Bkn3ac-py3.11",
   "language": "python",
   "name": "python3"
  },
  "language_info": {
   "codemirror_mode": {
    "name": "ipython",
    "version": 3
   },
   "file_extension": ".py",
   "mimetype": "text/x-python",
   "name": "python",
   "nbconvert_exporter": "python",
   "pygments_lexer": "ipython3",
   "version": "3.11.3"
  },
  "orig_nbformat": 4
 },
 "nbformat": 4,
 "nbformat_minor": 2
}
