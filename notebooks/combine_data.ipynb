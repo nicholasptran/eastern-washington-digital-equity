{
 "cells": [
  {
   "cell_type": "code",
   "execution_count": 1,
   "metadata": {
    "vscode": {
     "languageId": "r"
    }
   },
   "outputs": [
    {
     "name": "stderr",
     "output_type": "stream",
     "text": [
      "── \u001b[1mAttaching packages\u001b[22m ─────────────────────────────────────── tidyverse 1.3.1 ──\n",
      "\n",
      "\u001b[32m✔\u001b[39m \u001b[34mggplot2\u001b[39m 3.4.0     \u001b[32m✔\u001b[39m \u001b[34mpurrr  \u001b[39m 1.0.1\n",
      "\u001b[32m✔\u001b[39m \u001b[34mtibble \u001b[39m 3.1.7     \u001b[32m✔\u001b[39m \u001b[34mdplyr  \u001b[39m 1.0.9\n",
      "\u001b[32m✔\u001b[39m \u001b[34mtidyr  \u001b[39m 1.2.0     \u001b[32m✔\u001b[39m \u001b[34mstringr\u001b[39m 1.5.0\n",
      "\u001b[32m✔\u001b[39m \u001b[34mreadr  \u001b[39m 2.1.2     \u001b[32m✔\u001b[39m \u001b[34mforcats\u001b[39m 0.5.1\n",
      "\n",
      "── \u001b[1mConflicts\u001b[22m ────────────────────────────────────────── tidyverse_conflicts() ──\n",
      "\u001b[31m✖\u001b[39m \u001b[34mdplyr\u001b[39m::\u001b[32mfilter()\u001b[39m masks \u001b[34mstats\u001b[39m::filter()\n",
      "\u001b[31m✖\u001b[39m \u001b[34mdplyr\u001b[39m::\u001b[32mlag()\u001b[39m    masks \u001b[34mstats\u001b[39m::lag()\n",
      "\n"
     ]
    }
   ],
   "source": [
    "library(tidyverse)\n",
    "\n",
    "combined_data <- read.csv(\"../data/combined_data.csv\")\n",
    "speed_data <- read.csv(\"../data/ookla.csv\")"
   ]
  },
  {
   "cell_type": "code",
   "execution_count": 14,
   "metadata": {
    "vscode": {
     "languageId": "r"
    }
   },
   "outputs": [],
   "source": [
    "combined_data <- inner_join(combined_data, speed_data, by = c(\"GEOID\" = \"geoid\")) %>% \n",
    "    select(-X.x, -X.y, -tract.y, tract = tract.x)"
   ]
  },
  {
   "cell_type": "code",
   "execution_count": 18,
   "metadata": {
    "vscode": {
     "languageId": "r"
    }
   },
   "outputs": [],
   "source": [
    "# write.csv(combined_data, \"../data/combined_data.csv\", row.names = FALSE)"
   ]
  },
  {
   "cell_type": "code",
   "execution_count": 3,
   "metadata": {
    "vscode": {
     "languageId": "r"
    }
   },
   "outputs": [
    {
     "data": {
      "text/html": [
       "<table class=\"dataframe\">\n",
       "<caption>A data.frame: 6 × 27</caption>\n",
       "<thead>\n",
       "\t<tr><th></th><th scope=col>GEOID</th><th scope=col>tract</th><th scope=col>not_citizen</th><th scope=col>naturalized_citizen</th><th scope=col>native_citizen</th><th scope=col>foreign_born</th><th scope=col>work_from_home</th><th scope=col>desktop_or_laptop</th><th scope=col>desktop_or_laptop_only</th><th scope=col>smartphone</th><th scope=col>⋯</th><th scope=col>satellite</th><th scope=col>other_internet_service</th><th scope=col>access_with_no_subscription</th><th scope=col>no_internet_access</th><th scope=col>sixty_five_and_older</th><th scope=col>median_income</th><th scope=col>mean_income</th><th scope=col>mean_d_mbps</th><th scope=col>mean_u_mbps</th><th scope=col>mean_lat_ms</th></tr>\n",
       "\t<tr><th></th><th scope=col>&lt;dbl&gt;</th><th scope=col>&lt;dbl&gt;</th><th scope=col>&lt;int&gt;</th><th scope=col>&lt;int&gt;</th><th scope=col>&lt;int&gt;</th><th scope=col>&lt;int&gt;</th><th scope=col>&lt;int&gt;</th><th scope=col>&lt;int&gt;</th><th scope=col>&lt;int&gt;</th><th scope=col>&lt;int&gt;</th><th scope=col>⋯</th><th scope=col>&lt;int&gt;</th><th scope=col>&lt;int&gt;</th><th scope=col>&lt;int&gt;</th><th scope=col>&lt;int&gt;</th><th scope=col>&lt;int&gt;</th><th scope=col>&lt;dbl&gt;</th><th scope=col>&lt;int&gt;</th><th scope=col>&lt;dbl&gt;</th><th scope=col>&lt;dbl&gt;</th><th scope=col>&lt;dbl&gt;</th></tr>\n",
       "</thead>\n",
       "<tbody>\n",
       "\t<tr><th scope=row>1</th><td>53001950100</td><td>9501.00</td><td> 28</td><td> 94</td><td>2484</td><td>122</td><td> 82</td><td>754</td><td>88</td><td>867</td><td>⋯</td><td> 96</td><td>20</td><td>52</td><td>137</td><td>505</td><td>52589</td><td>63888</td><td> 62.65864</td><td> 9.528565</td><td>0.04264130</td></tr>\n",
       "\t<tr><th scope=row>2</th><td>53001950200</td><td>9502.00</td><td>132</td><td>  8</td><td>1623</td><td>140</td><td> 47</td><td>448</td><td>21</td><td>503</td><td>⋯</td><td>121</td><td>34</td><td> 9</td><td>116</td><td>228</td><td>59886</td><td>61202</td><td> 61.97721</td><td> 9.037524</td><td>0.06090244</td></tr>\n",
       "\t<tr><th scope=row>3</th><td>53001950301</td><td>9503.01</td><td>486</td><td> 31</td><td>1064</td><td>517</td><td>  3</td><td>242</td><td>17</td><td>301</td><td>⋯</td><td>132</td><td> 5</td><td>11</td><td>163</td><td>259</td><td>39928</td><td>53032</td><td> 88.08681</td><td>13.245116</td><td>0.06016744</td></tr>\n",
       "\t<tr><th scope=row>4</th><td>53001950302</td><td>9503.02</td><td>571</td><td>194</td><td>1669</td><td>765</td><td> 26</td><td>305</td><td> 0</td><td>554</td><td>⋯</td><td> 30</td><td> 8</td><td>18</td><td> 88</td><td>258</td><td>58884</td><td>70361</td><td> 87.01079</td><td>17.036596</td><td>0.04442424</td></tr>\n",
       "\t<tr><th scope=row>5</th><td>53001950303</td><td>9503.03</td><td>545</td><td>128</td><td>1841</td><td>673</td><td>110</td><td>396</td><td> 6</td><td>581</td><td>⋯</td><td> 39</td><td>16</td><td> 9</td><td> 66</td><td>271</td><td>50915</td><td>74863</td><td> 74.14176</td><td>14.220405</td><td>0.03789241</td></tr>\n",
       "\t<tr><th scope=row>6</th><td>53001950400</td><td>9504.00</td><td>729</td><td>141</td><td>2274</td><td>870</td><td> 23</td><td>455</td><td>46</td><td>639</td><td>⋯</td><td> 48</td><td> 0</td><td>23</td><td>168</td><td>308</td><td>63750</td><td>69882</td><td>267.83971</td><td>32.930247</td><td>0.02383806</td></tr>\n",
       "</tbody>\n",
       "</table>\n"
      ],
      "text/latex": [
       "A data.frame: 6 × 27\n",
       "\\begin{tabular}{r|lllllllllllllllllllll}\n",
       "  & GEOID & tract & not\\_citizen & naturalized\\_citizen & native\\_citizen & foreign\\_born & work\\_from\\_home & desktop\\_or\\_laptop & desktop\\_or\\_laptop\\_only & smartphone & ⋯ & satellite & other\\_internet\\_service & access\\_with\\_no\\_subscription & no\\_internet\\_access & sixty\\_five\\_and\\_older & median\\_income & mean\\_income & mean\\_d\\_mbps & mean\\_u\\_mbps & mean\\_lat\\_ms\\\\\n",
       "  & <dbl> & <dbl> & <int> & <int> & <int> & <int> & <int> & <int> & <int> & <int> & ⋯ & <int> & <int> & <int> & <int> & <int> & <dbl> & <int> & <dbl> & <dbl> & <dbl>\\\\\n",
       "\\hline\n",
       "\t1 & 53001950100 & 9501.00 &  28 &  94 & 2484 & 122 &  82 & 754 & 88 & 867 & ⋯ &  96 & 20 & 52 & 137 & 505 & 52589 & 63888 &  62.65864 &  9.528565 & 0.04264130\\\\\n",
       "\t2 & 53001950200 & 9502.00 & 132 &   8 & 1623 & 140 &  47 & 448 & 21 & 503 & ⋯ & 121 & 34 &  9 & 116 & 228 & 59886 & 61202 &  61.97721 &  9.037524 & 0.06090244\\\\\n",
       "\t3 & 53001950301 & 9503.01 & 486 &  31 & 1064 & 517 &   3 & 242 & 17 & 301 & ⋯ & 132 &  5 & 11 & 163 & 259 & 39928 & 53032 &  88.08681 & 13.245116 & 0.06016744\\\\\n",
       "\t4 & 53001950302 & 9503.02 & 571 & 194 & 1669 & 765 &  26 & 305 &  0 & 554 & ⋯ &  30 &  8 & 18 &  88 & 258 & 58884 & 70361 &  87.01079 & 17.036596 & 0.04442424\\\\\n",
       "\t5 & 53001950303 & 9503.03 & 545 & 128 & 1841 & 673 & 110 & 396 &  6 & 581 & ⋯ &  39 & 16 &  9 &  66 & 271 & 50915 & 74863 &  74.14176 & 14.220405 & 0.03789241\\\\\n",
       "\t6 & 53001950400 & 9504.00 & 729 & 141 & 2274 & 870 &  23 & 455 & 46 & 639 & ⋯ &  48 &  0 & 23 & 168 & 308 & 63750 & 69882 & 267.83971 & 32.930247 & 0.02383806\\\\\n",
       "\\end{tabular}\n"
      ],
      "text/markdown": [
       "\n",
       "A data.frame: 6 × 27\n",
       "\n",
       "| <!--/--> | GEOID &lt;dbl&gt; | tract &lt;dbl&gt; | not_citizen &lt;int&gt; | naturalized_citizen &lt;int&gt; | native_citizen &lt;int&gt; | foreign_born &lt;int&gt; | work_from_home &lt;int&gt; | desktop_or_laptop &lt;int&gt; | desktop_or_laptop_only &lt;int&gt; | smartphone &lt;int&gt; | ⋯ ⋯ | satellite &lt;int&gt; | other_internet_service &lt;int&gt; | access_with_no_subscription &lt;int&gt; | no_internet_access &lt;int&gt; | sixty_five_and_older &lt;int&gt; | median_income &lt;dbl&gt; | mean_income &lt;int&gt; | mean_d_mbps &lt;dbl&gt; | mean_u_mbps &lt;dbl&gt; | mean_lat_ms &lt;dbl&gt; |\n",
       "|---|---|---|---|---|---|---|---|---|---|---|---|---|---|---|---|---|---|---|---|---|---|\n",
       "| 1 | 53001950100 | 9501.00 |  28 |  94 | 2484 | 122 |  82 | 754 | 88 | 867 | ⋯ |  96 | 20 | 52 | 137 | 505 | 52589 | 63888 |  62.65864 |  9.528565 | 0.04264130 |\n",
       "| 2 | 53001950200 | 9502.00 | 132 |   8 | 1623 | 140 |  47 | 448 | 21 | 503 | ⋯ | 121 | 34 |  9 | 116 | 228 | 59886 | 61202 |  61.97721 |  9.037524 | 0.06090244 |\n",
       "| 3 | 53001950301 | 9503.01 | 486 |  31 | 1064 | 517 |   3 | 242 | 17 | 301 | ⋯ | 132 |  5 | 11 | 163 | 259 | 39928 | 53032 |  88.08681 | 13.245116 | 0.06016744 |\n",
       "| 4 | 53001950302 | 9503.02 | 571 | 194 | 1669 | 765 |  26 | 305 |  0 | 554 | ⋯ |  30 |  8 | 18 |  88 | 258 | 58884 | 70361 |  87.01079 | 17.036596 | 0.04442424 |\n",
       "| 5 | 53001950303 | 9503.03 | 545 | 128 | 1841 | 673 | 110 | 396 |  6 | 581 | ⋯ |  39 | 16 |  9 |  66 | 271 | 50915 | 74863 |  74.14176 | 14.220405 | 0.03789241 |\n",
       "| 6 | 53001950400 | 9504.00 | 729 | 141 | 2274 | 870 |  23 | 455 | 46 | 639 | ⋯ |  48 |  0 | 23 | 168 | 308 | 63750 | 69882 | 267.83971 | 32.930247 | 0.02383806 |\n",
       "\n"
      ],
      "text/plain": [
       "  GEOID       tract   not_citizen naturalized_citizen native_citizen\n",
       "1 53001950100 9501.00  28          94                 2484          \n",
       "2 53001950200 9502.00 132           8                 1623          \n",
       "3 53001950301 9503.01 486          31                 1064          \n",
       "4 53001950302 9503.02 571         194                 1669          \n",
       "5 53001950303 9503.03 545         128                 1841          \n",
       "6 53001950400 9504.00 729         141                 2274          \n",
       "  foreign_born work_from_home desktop_or_laptop desktop_or_laptop_only\n",
       "1 122           82            754               88                    \n",
       "2 140           47            448               21                    \n",
       "3 517            3            242               17                    \n",
       "4 765           26            305                0                    \n",
       "5 673          110            396                6                    \n",
       "6 870           23            455               46                    \n",
       "  smartphone ⋯ satellite other_internet_service access_with_no_subscription\n",
       "1 867        ⋯  96       20                     52                         \n",
       "2 503        ⋯ 121       34                      9                         \n",
       "3 301        ⋯ 132        5                     11                         \n",
       "4 554        ⋯  30        8                     18                         \n",
       "5 581        ⋯  39       16                      9                         \n",
       "6 639        ⋯  48        0                     23                         \n",
       "  no_internet_access sixty_five_and_older median_income mean_income mean_d_mbps\n",
       "1 137                505                  52589         63888        62.65864  \n",
       "2 116                228                  59886         61202        61.97721  \n",
       "3 163                259                  39928         53032        88.08681  \n",
       "4  88                258                  58884         70361        87.01079  \n",
       "5  66                271                  50915         74863        74.14176  \n",
       "6 168                308                  63750         69882       267.83971  \n",
       "  mean_u_mbps mean_lat_ms\n",
       "1  9.528565   0.04264130 \n",
       "2  9.037524   0.06090244 \n",
       "3 13.245116   0.06016744 \n",
       "4 17.036596   0.04442424 \n",
       "5 14.220405   0.03789241 \n",
       "6 32.930247   0.02383806 "
      ]
     },
     "metadata": {},
     "output_type": "display_data"
    }
   ],
   "source": [
    "head(combined_data)\n",
    "cost_data <- read.csv(\"../data/provider_and_lowest_cost.csv\")"
   ]
  },
  {
   "cell_type": "code",
   "execution_count": 6,
   "metadata": {
    "vscode": {
     "languageId": "r"
    }
   },
   "outputs": [
    {
     "name": "stderr",
     "output_type": "stream",
     "text": [
      "\u001b[1m\u001b[22mJoining, by = \"GEOID\"\n"
     ]
    }
   ],
   "source": [
    "combined_data <- left_join(combined_data, cost_data)"
   ]
  },
  {
   "cell_type": "code",
   "execution_count": 8,
   "metadata": {
    "vscode": {
     "languageId": "r"
    }
   },
   "outputs": [
    {
     "data": {
      "text/plain": [
       "     GEOID               tract          not_citizen   naturalized_citizen\n",
       " Min.   :5.300e+10   Min.   :   1.00   Min.   :   0   Min.   :  0.0      \n",
       " 1st Qu.:5.306e+10   1st Qu.:  37.01   1st Qu.:  23   1st Qu.: 37.5      \n",
       " Median :5.306e+10   Median : 112.02   Median :  51   Median : 81.0      \n",
       " Mean   :5.306e+10   Mean   :2202.41   Mean   : 116   Mean   :106.6      \n",
       " 3rd Qu.:5.306e+10   3rd Qu.: 140.51   3rd Qu.: 120   3rd Qu.:151.0      \n",
       " Max.   :5.308e+10   Max.   :9705.00   Max.   :1358   Max.   :511.0      \n",
       "                                                                         \n",
       " native_citizen  foreign_born    work_from_home  desktop_or_laptop\n",
       " Min.   :1036   Min.   :   0.0   Min.   :  0.0   Min.   : 186.0   \n",
       " 1st Qu.:2545   1st Qu.:  82.5   1st Qu.: 55.0   1st Qu.: 820.5   \n",
       " Median :3326   Median : 141.0   Median :116.0   Median :1141.0   \n",
       " Mean   :3519   Mean   : 222.6   Mean   :132.3   Mean   :1201.2   \n",
       " 3rd Qu.:4216   3rd Qu.: 280.0   3rd Qu.:175.0   3rd Qu.:1497.5   \n",
       " Max.   :7437   Max.   :1714.0   Max.   :518.0   Max.   :2843.0   \n",
       "                                                                  \n",
       " desktop_or_laptop_only   smartphone     smartphone_only tablet_or_portable\n",
       " Min.   :  0.00         Min.   : 186.0   Min.   :  0.0   Min.   :  99.0    \n",
       " 1st Qu.: 43.50         1st Qu.: 860.5   1st Qu.: 49.0   1st Qu.: 627.5    \n",
       " Median : 72.00         Median :1171.0   Median : 86.0   Median : 847.0    \n",
       " Mean   : 83.79         Mean   :1248.4   Mean   :107.0   Mean   : 919.5    \n",
       " 3rd Qu.:117.00         3rd Qu.:1529.0   3rd Qu.:147.5   3rd Qu.:1126.5    \n",
       " Max.   :242.00         Max.   :3212.0   Max.   :461.0   Max.   :2204.0    \n",
       "                                                                           \n",
       "  has_computer   no_computer    internet_subscription    dial_up       \n",
       " Min.   : 186   Min.   :  0.0   Min.   : 168          Min.   :  0.000  \n",
       " 1st Qu.:1016   1st Qu.: 50.0   1st Qu.: 922          1st Qu.:  0.000  \n",
       " Median :1307   Median : 84.0   Median :1224          Median :  0.000  \n",
       " Mean   :1388   Mean   :102.3   Mean   :1298          Mean   :  6.541  \n",
       " 3rd Qu.:1753   3rd Qu.:140.0   3rd Qu.:1611          3rd Qu.:  9.000  \n",
       " Max.   :3365   Max.   :380.0   Max.   :2927          Max.   :106.000  \n",
       "                                                                       \n",
       "   broadband        satellite     other_internet_service\n",
       " Min.   :  80.0   Min.   :  0.0   Min.   :  0.00        \n",
       " 1st Qu.: 647.5   1st Qu.: 48.0   1st Qu.:  0.00        \n",
       " Median : 987.0   Median : 83.0   Median : 16.00        \n",
       " Mean   :1043.1   Mean   :118.6   Mean   : 25.54        \n",
       " 3rd Qu.:1418.5   3rd Qu.:163.5   3rd Qu.: 41.00        \n",
       " Max.   :2563.0   Max.   :534.0   Max.   :134.00        \n",
       "                                                        \n",
       " access_with_no_subscription no_internet_access sixty_five_and_older\n",
       " Min.   :  0.00              Min.   :  0.0      Min.   :   0.0      \n",
       " 1st Qu.: 11.00              1st Qu.: 76.5      1st Qu.: 390.5      \n",
       " Median : 24.00              Median :133.0      Median : 600.0      \n",
       " Mean   : 42.02              Mean   :150.3      Mean   : 630.9      \n",
       " 3rd Qu.: 53.00              3rd Qu.:205.0      3rd Qu.: 833.0      \n",
       " Max.   :360.00              Max.   :504.0      Max.   :1463.0      \n",
       "                                                                    \n",
       " median_income     mean_income      mean_d_mbps      mean_u_mbps     \n",
       " Min.   : 12473   Min.   : 28106   Min.   : 31.72   Min.   :  4.244  \n",
       " 1st Qu.: 47666   1st Qu.: 59997   1st Qu.:123.64   1st Qu.: 16.626  \n",
       " Median : 56166   Median : 71188   Median :233.60   Median : 25.869  \n",
       " Mean   : 60992   Mean   : 77284   Mean   :200.05   Mean   : 34.285  \n",
       " 3rd Qu.: 72864   3rd Qu.: 90728   3rd Qu.:265.16   3rd Qu.: 42.066  \n",
       " Max.   :131750   Max.   :168506   Max.   :332.03   Max.   :155.087  \n",
       "                                                                     \n",
       "  mean_lat_ms      number_providers mean_lowest_cost\n",
       " Min.   :0.01018   Min.   : 4.000   Min.   :49.47   \n",
       " 1st Qu.:0.01350   1st Qu.: 8.000   1st Qu.:55.57   \n",
       " Median :0.01794   Median : 8.000   Median :60.78   \n",
       " Mean   :0.02776   Mean   : 8.591   Mean   :58.63   \n",
       " 3rd Qu.:0.03975   3rd Qu.: 9.000   3rd Qu.:61.12   \n",
       " Max.   :0.11778   Max.   :19.000   Max.   :67.60   \n",
       "                   NA's   :2        NA's   :2       "
      ]
     },
     "metadata": {},
     "output_type": "display_data"
    }
   ],
   "source": [
    "summary(combined_data)"
   ]
  },
  {
   "cell_type": "code",
   "execution_count": 13,
   "metadata": {
    "vscode": {
     "languageId": "r"
    }
   },
   "outputs": [],
   "source": [
    "combined_data$number_providers[is.na(combined_data$number_providers)] <- mean(combined_data$number_providers, na.rm = TRUE)"
   ]
  },
  {
   "cell_type": "code",
   "execution_count": 14,
   "metadata": {
    "vscode": {
     "languageId": "r"
    }
   },
   "outputs": [],
   "source": [
    "combined_data$mean_lowest_cost[is.na(combined_data$mean_lowest_cost)] <- mean(combined_data$mean_lowest_cost, na.rm = TRUE)"
   ]
  },
  {
   "cell_type": "code",
   "execution_count": 15,
   "metadata": {
    "vscode": {
     "languageId": "r"
    }
   },
   "outputs": [
    {
     "data": {
      "text/plain": [
       "     GEOID               tract          not_citizen   naturalized_citizen\n",
       " Min.   :5.300e+10   Min.   :   1.00   Min.   :   0   Min.   :  0.0      \n",
       " 1st Qu.:5.306e+10   1st Qu.:  37.01   1st Qu.:  23   1st Qu.: 37.5      \n",
       " Median :5.306e+10   Median : 112.02   Median :  51   Median : 81.0      \n",
       " Mean   :5.306e+10   Mean   :2202.41   Mean   : 116   Mean   :106.6      \n",
       " 3rd Qu.:5.306e+10   3rd Qu.: 140.51   3rd Qu.: 120   3rd Qu.:151.0      \n",
       " Max.   :5.308e+10   Max.   :9705.00   Max.   :1358   Max.   :511.0      \n",
       " native_citizen  foreign_born    work_from_home  desktop_or_laptop\n",
       " Min.   :1036   Min.   :   0.0   Min.   :  0.0   Min.   : 186.0   \n",
       " 1st Qu.:2545   1st Qu.:  82.5   1st Qu.: 55.0   1st Qu.: 820.5   \n",
       " Median :3326   Median : 141.0   Median :116.0   Median :1141.0   \n",
       " Mean   :3519   Mean   : 222.6   Mean   :132.3   Mean   :1201.2   \n",
       " 3rd Qu.:4216   3rd Qu.: 280.0   3rd Qu.:175.0   3rd Qu.:1497.5   \n",
       " Max.   :7437   Max.   :1714.0   Max.   :518.0   Max.   :2843.0   \n",
       " desktop_or_laptop_only   smartphone     smartphone_only tablet_or_portable\n",
       " Min.   :  0.00         Min.   : 186.0   Min.   :  0.0   Min.   :  99.0    \n",
       " 1st Qu.: 43.50         1st Qu.: 860.5   1st Qu.: 49.0   1st Qu.: 627.5    \n",
       " Median : 72.00         Median :1171.0   Median : 86.0   Median : 847.0    \n",
       " Mean   : 83.79         Mean   :1248.4   Mean   :107.0   Mean   : 919.5    \n",
       " 3rd Qu.:117.00         3rd Qu.:1529.0   3rd Qu.:147.5   3rd Qu.:1126.5    \n",
       " Max.   :242.00         Max.   :3212.0   Max.   :461.0   Max.   :2204.0    \n",
       "  has_computer   no_computer    internet_subscription    dial_up       \n",
       " Min.   : 186   Min.   :  0.0   Min.   : 168          Min.   :  0.000  \n",
       " 1st Qu.:1016   1st Qu.: 50.0   1st Qu.: 922          1st Qu.:  0.000  \n",
       " Median :1307   Median : 84.0   Median :1224          Median :  0.000  \n",
       " Mean   :1388   Mean   :102.3   Mean   :1298          Mean   :  6.541  \n",
       " 3rd Qu.:1753   3rd Qu.:140.0   3rd Qu.:1611          3rd Qu.:  9.000  \n",
       " Max.   :3365   Max.   :380.0   Max.   :2927          Max.   :106.000  \n",
       "   broadband        satellite     other_internet_service\n",
       " Min.   :  80.0   Min.   :  0.0   Min.   :  0.00        \n",
       " 1st Qu.: 647.5   1st Qu.: 48.0   1st Qu.:  0.00        \n",
       " Median : 987.0   Median : 83.0   Median : 16.00        \n",
       " Mean   :1043.1   Mean   :118.6   Mean   : 25.54        \n",
       " 3rd Qu.:1418.5   3rd Qu.:163.5   3rd Qu.: 41.00        \n",
       " Max.   :2563.0   Max.   :534.0   Max.   :134.00        \n",
       " access_with_no_subscription no_internet_access sixty_five_and_older\n",
       " Min.   :  0.00              Min.   :  0.0      Min.   :   0.0      \n",
       " 1st Qu.: 11.00              1st Qu.: 76.5      1st Qu.: 390.5      \n",
       " Median : 24.00              Median :133.0      Median : 600.0      \n",
       " Mean   : 42.02              Mean   :150.3      Mean   : 630.9      \n",
       " 3rd Qu.: 53.00              3rd Qu.:205.0      3rd Qu.: 833.0      \n",
       " Max.   :360.00              Max.   :504.0      Max.   :1463.0      \n",
       " median_income     mean_income      mean_d_mbps      mean_u_mbps     \n",
       " Min.   : 12473   Min.   : 28106   Min.   : 31.72   Min.   :  4.244  \n",
       " 1st Qu.: 47666   1st Qu.: 59997   1st Qu.:123.64   1st Qu.: 16.626  \n",
       " Median : 56166   Median : 71188   Median :233.60   Median : 25.869  \n",
       " Mean   : 60992   Mean   : 77284   Mean   :200.05   Mean   : 34.285  \n",
       " 3rd Qu.: 72864   3rd Qu.: 90728   3rd Qu.:265.16   3rd Qu.: 42.066  \n",
       " Max.   :131750   Max.   :168506   Max.   :332.03   Max.   :155.087  \n",
       "  mean_lat_ms      number_providers mean_lowest_cost\n",
       " Min.   :0.01018   Min.   : 4.000   Min.   :49.47   \n",
       " 1st Qu.:0.01350   1st Qu.: 8.000   1st Qu.:55.74   \n",
       " Median :0.01794   Median : 8.000   Median :60.08   \n",
       " Mean   :0.02776   Mean   : 8.591   Mean   :58.63   \n",
       " 3rd Qu.:0.03975   3rd Qu.: 9.000   3rd Qu.:61.12   \n",
       " Max.   :0.11778   Max.   :19.000   Max.   :67.60   "
      ]
     },
     "metadata": {},
     "output_type": "display_data"
    }
   ],
   "source": [
    "summary(combined_data)"
   ]
  },
  {
   "cell_type": "code",
   "execution_count": 16,
   "metadata": {
    "vscode": {
     "languageId": "r"
    }
   },
   "outputs": [],
   "source": [
    "# write.csv(combined_data, \"../data/combined_data.csv\", row.names = FALSE)"
   ]
  }
 ],
 "metadata": {
  "kernelspec": {
   "display_name": "R",
   "language": "R",
   "name": "ir"
  },
  "language_info": {
   "codemirror_mode": "r",
   "file_extension": ".r",
   "mimetype": "text/x-r-source",
   "name": "R",
   "pygments_lexer": "r",
   "version": "4.2.2"
  },
  "orig_nbformat": 4,
  "vscode": {
   "interpreter": {
    "hash": "31f2aee4e71d21fbe5cf8b01ff0e069b9275f58929596ceb00d14d90e3e16cd6"
   }
  }
 },
 "nbformat": 4,
 "nbformat_minor": 2
}
