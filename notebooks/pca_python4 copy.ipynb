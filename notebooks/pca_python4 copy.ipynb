{
 "cells": [
  {
   "attachments": {},
   "cell_type": "markdown",
   "metadata": {
    "slideshow": {
     "slide_type": "slide"
    }
   },
   "source": [
    "# Eastern Washington Digital Equity\n",
    "\n",
    "## Nicholas Tran"
   ]
  },
  {
   "attachments": {},
   "cell_type": "markdown",
   "metadata": {
    "slideshow": {
     "slide_type": "slide"
    }
   },
   "source": [
    "# Preparation"
   ]
  },
  {
   "attachments": {},
   "cell_type": "markdown",
   "metadata": {
    "slideshow": {
     "slide_type": "subslide"
    }
   },
   "source": [
    "## Import The Modules"
   ]
  },
  {
   "cell_type": "code",
   "execution_count": 1,
   "metadata": {},
   "outputs": [],
   "source": [
    "import numpy as np  # matrix and array manipulation\n",
    "import pandas as pd  # dataframe manipulation\n",
    "import plotly.express as px\n",
    "\n",
    "# from mlxtend.feature_selection import SequentialFeatureSelector as SFS\n",
    "from pingouin import cronbach_alpha\n",
    "from scipy.stats import pearsonr\n",
    "from sklearn import linear_model as lm\n",
    "from sklearn.feature_selection import SequentialFeatureSelector as SFS\n",
    "from sklearn.metrics import r2_score\n",
    "from sklearn.preprocessing import StandardScaler  # scale the data\n",
    "from statsmodels.stats.outliers_influence import variance_inflation_factor as VIF\n",
    "from factor_analyzer.factor_analyzer import (\n",
    "    calculate_kmo,\n",
    ")  # get measure of sampling adequacy\n",
    "\n",
    "# initialize the scaler\n",
    "scaler = StandardScaler()\n",
    "\n",
    "\n",
    "# use this as a method in corr() to get the pearson p values\n",
    "def pearsonr_pval(x, y):\n",
    "    return pearsonr(x, y)[1]\n",
    "\n",
    "\n",
    "# turn scientific notation into decimals\n",
    "pd.options.display.float_format = \"{:.10f}\".format"
   ]
  },
  {
   "attachments": {},
   "cell_type": "markdown",
   "metadata": {
    "slideshow": {
     "slide_type": "subslide"
    }
   },
   "source": [
    "## Import The Dataset"
   ]
  },
  {
   "cell_type": "code",
   "execution_count": 654,
   "metadata": {},
   "outputs": [
    {
     "data": {
      "text/html": [
       "<div>\n",
       "<style scoped>\n",
       "    .dataframe tbody tr th:only-of-type {\n",
       "        vertical-align: middle;\n",
       "    }\n",
       "\n",
       "    .dataframe tbody tr th {\n",
       "        vertical-align: top;\n",
       "    }\n",
       "\n",
       "    .dataframe thead th {\n",
       "        text-align: right;\n",
       "    }\n",
       "</style>\n",
       "<table border=\"1\" class=\"dataframe\">\n",
       "  <thead>\n",
       "    <tr style=\"text-align: right;\">\n",
       "      <th></th>\n",
       "      <th>native_citizen</th>\n",
       "      <th>work_from_home</th>\n",
       "      <th>smartphone_only</th>\n",
       "      <th>no_computer</th>\n",
       "      <th>no_internet_access</th>\n",
       "      <th>sixty_five_and_older</th>\n",
       "      <th>median_income</th>\n",
       "      <th>mean_d_mbps</th>\n",
       "      <th>mean_u_mbps</th>\n",
       "      <th>mean_lat_ms</th>\n",
       "      <th>number_providers</th>\n",
       "      <th>lowest_cost</th>\n",
       "    </tr>\n",
       "  </thead>\n",
       "  <tbody>\n",
       "    <tr>\n",
       "      <th>0</th>\n",
       "      <td>2484</td>\n",
       "      <td>82</td>\n",
       "      <td>153</td>\n",
       "      <td>76</td>\n",
       "      <td>137</td>\n",
       "      <td>505</td>\n",
       "      <td>52589.0000000000</td>\n",
       "      <td>62.6586413043</td>\n",
       "      <td>9.5285652174</td>\n",
       "      <td>42.6413043478</td>\n",
       "      <td>12.0000000000</td>\n",
       "      <td>30.0000000000</td>\n",
       "    </tr>\n",
       "    <tr>\n",
       "      <th>1</th>\n",
       "      <td>1623</td>\n",
       "      <td>47</td>\n",
       "      <td>68</td>\n",
       "      <td>64</td>\n",
       "      <td>116</td>\n",
       "      <td>228</td>\n",
       "      <td>59886.0000000000</td>\n",
       "      <td>61.9772073171</td>\n",
       "      <td>9.0375243902</td>\n",
       "      <td>60.9024390244</td>\n",
       "      <td>12.0000000000</td>\n",
       "      <td>30.0000000000</td>\n",
       "    </tr>\n",
       "    <tr>\n",
       "      <th>2</th>\n",
       "      <td>1064</td>\n",
       "      <td>3</td>\n",
       "      <td>76</td>\n",
       "      <td>183</td>\n",
       "      <td>163</td>\n",
       "      <td>259</td>\n",
       "      <td>39928.0000000000</td>\n",
       "      <td>88.0868093023</td>\n",
       "      <td>13.2451162791</td>\n",
       "      <td>60.1674418605</td>\n",
       "      <td>8.0000000000</td>\n",
       "      <td>30.0000000000</td>\n",
       "    </tr>\n",
       "    <tr>\n",
       "      <th>3</th>\n",
       "      <td>1669</td>\n",
       "      <td>26</td>\n",
       "      <td>132</td>\n",
       "      <td>55</td>\n",
       "      <td>88</td>\n",
       "      <td>258</td>\n",
       "      <td>58884.0000000000</td>\n",
       "      <td>87.0107878788</td>\n",
       "      <td>17.0365959596</td>\n",
       "      <td>44.4242424242</td>\n",
       "      <td>8.0000000000</td>\n",
       "      <td>30.0000000000</td>\n",
       "    </tr>\n",
       "    <tr>\n",
       "      <th>4</th>\n",
       "      <td>1841</td>\n",
       "      <td>110</td>\n",
       "      <td>97</td>\n",
       "      <td>24</td>\n",
       "      <td>66</td>\n",
       "      <td>271</td>\n",
       "      <td>50915.0000000000</td>\n",
       "      <td>74.1417594937</td>\n",
       "      <td>14.2204050633</td>\n",
       "      <td>37.8924050633</td>\n",
       "      <td>8.0000000000</td>\n",
       "      <td>30.0000000000</td>\n",
       "    </tr>\n",
       "  </tbody>\n",
       "</table>\n",
       "</div>"
      ],
      "text/plain": [
       "   native_citizen  work_from_home  smartphone_only  no_computer  \\\n",
       "0            2484              82              153           76   \n",
       "1            1623              47               68           64   \n",
       "2            1064               3               76          183   \n",
       "3            1669              26              132           55   \n",
       "4            1841             110               97           24   \n",
       "\n",
       "   no_internet_access  sixty_five_and_older    median_income   mean_d_mbps  \\\n",
       "0                 137                   505 52589.0000000000 62.6586413043   \n",
       "1                 116                   228 59886.0000000000 61.9772073171   \n",
       "2                 163                   259 39928.0000000000 88.0868093023   \n",
       "3                  88                   258 58884.0000000000 87.0107878788   \n",
       "4                  66                   271 50915.0000000000 74.1417594937   \n",
       "\n",
       "    mean_u_mbps   mean_lat_ms  number_providers   lowest_cost  \n",
       "0  9.5285652174 42.6413043478     12.0000000000 30.0000000000  \n",
       "1  9.0375243902 60.9024390244     12.0000000000 30.0000000000  \n",
       "2 13.2451162791 60.1674418605      8.0000000000 30.0000000000  \n",
       "3 17.0365959596 44.4242424242      8.0000000000 30.0000000000  \n",
       "4 14.2204050633 37.8924050633      8.0000000000 30.0000000000  "
      ]
     },
     "execution_count": 654,
     "metadata": {},
     "output_type": "execute_result"
    }
   ],
   "source": [
    "dataset1 = pd.read_csv(\"../app/data/combined_data.csv\")\n",
    "\n",
    "dataset = dataset1.drop(\n",
    "    columns=[\n",
    "        \"GEOID\",\n",
    "        \"tract\",\n",
    "        \"access_with_no_subscription\",\n",
    "        \"has_computer\",\n",
    "        'foreign_born',\n",
    "        'desktop_or_laptop',\n",
    "        'internet_subscription',\n",
    "        'naturalized_citizen',\n",
    "        'desktop_or_laptop_only',\n",
    "        'broadband',\n",
    "        'smartphone',\n",
    "        'dial_up',\n",
    "        'satellite',\n",
    "        'mean_income',\n",
    "        \"other_internet_service\",\n",
    "        'tablet_or_portable',\n",
    "        \"not_citizen\"\n",
    "    ]\n",
    ")\n",
    "\n",
    "\n",
    "dataset.head()"
   ]
  },
  {
   "attachments": {},
   "cell_type": "markdown",
   "metadata": {
    "slideshow": {
     "slide_type": "subslide"
    }
   },
   "source": [
    "## Create A Class for The Data"
   ]
  },
  {
   "cell_type": "code",
   "execution_count": 655,
   "metadata": {},
   "outputs": [],
   "source": [
    "class PCA:\n",
    "    \"\"\"Input a df and get many things back.\n",
    "    https://stackoverflow.com/questions/13224362/principal-component-analysis-pca-in-python\n",
    "    \"\"\"\n",
    "\n",
    "    def __init__(self, df):\n",
    "        import numpy as np\n",
    "        from scipy import linalg as LA\n",
    "\n",
    "        self.data = df\n",
    "\n",
    "        # scale data\n",
    "        self.scaled = pd.DataFrame(scaler.fit_transform(df), columns=df.columns)\n",
    "\n",
    "        # kmo, total kmo\n",
    "        self.kmo, self.total_kmo = calculate_kmo(self.scaled)\n",
    "        self.kmo = pd.DataFrame(self.data.columns, self.kmo).reset_index()\n",
    "        self.kmo = self.kmo.rename(\n",
    "            columns={\"index\": \"KMO\", 0: \"Variables\"}\n",
    "        ).sort_values(\"KMO\")\n",
    "\n",
    "        # center data\n",
    "        self.center = self.scaled.apply(lambda x: x - x.mean())\n",
    "\n",
    "        # covariance\n",
    "        self.cov = pd.DataFrame(\n",
    "            np.cov(self.center, rowvar=False),\n",
    "            columns=self.scaled.columns,\n",
    "            index=self.scaled.columns,\n",
    "        )\n",
    "\n",
    "        # eigenvalues and loadings(eigenvectors)\n",
    "        self.eigenvalues, self.loadings = LA.eigh(self.cov)\n",
    "\n",
    "        # sort eigenvalues and loadings from\n",
    "        sorter = np.argsort(self.eigenvalues)[::-1]\n",
    "        self.loadings = self.loadings[:, sorter]\n",
    "        self.eigenvalues = self.eigenvalues[sorter]\n",
    "\n",
    "        pc_list = [\"pc\" + str(i + 1) for i in range(len(self.eigenvalues))]\n",
    "\n",
    "        # turn into dataframe\n",
    "        self.loadings = pd.DataFrame(\n",
    "            self.loadings, index=self.scaled.columns, columns=pc_list\n",
    "        )\n",
    "        self.eigenvalues = pd.DataFrame(\n",
    "            self.eigenvalues, index=pc_list, columns=[\"eigenvalues\"]\n",
    "        )\n",
    "\n",
    "        # pca scores - scaled data * loadings\n",
    "        self.scores = self.scaled @ self.loadings\n",
    "\n",
    "        # percent explained\n",
    "        explained_variance = self.eigenvalues / self.eigenvalues.sum() * 100\n",
    "        self.percent_explained = pd.DataFrame(explained_variance).round(2)\n",
    "\n",
    "        self.percent_explained[\n",
    "            \"cumulative_explained_variance\"\n",
    "        ] = self.percent_explained.cumsum().round(2)\n",
    "        self.percent_explained.columns.values[0] = \"explained_variance\"\n",
    "\n",
    "        # scree plot\n",
    "        self.scree = (\n",
    "            px.line(\n",
    "                self.percent_explained,\n",
    "                x=pc_list,\n",
    "                y=\"cumulative_explained_variance\",\n",
    "                text=\"cumulative_explained_variance\",\n",
    "                color=px.Constant(\"cumulative explained variance\"),\n",
    "            )\n",
    "            .update_traces(textposition=\"top left\")\n",
    "            .add_bar(\n",
    "                x=pc_list,\n",
    "                y=self.percent_explained.explained_variance,\n",
    "                name=\"explained variance\",\n",
    "                text=self.percent_explained.explained_variance,\n",
    "            )\n",
    "        )\n",
    "\n",
    "    def calculate_weights(self, number_of_components):\n",
    "        \"\"\"calculate coefficients using your eigenvalues. Multiplies each row by the respective\n",
    "        eigenvalue. Row 1 of loadings will be multiplied by eigenvalue 1. Row 2 with 2. You may\n",
    "        only use this when you have at least 2 pcs.\n",
    "\n",
    "        Args:\n",
    "            number_of_components (int): number of pcs you want to use.\n",
    "\n",
    "        Returns:\n",
    "            DataFrame: Returns a dataframe of weights.\n",
    "        \"\"\"\n",
    "        weights = (\n",
    "            self.loadings.iloc[:, 0:number_of_components]\n",
    "            .mul(\n",
    "                [\n",
    "                    float(self.eigenvalues.iloc[i, :])\n",
    "                    for i in range(len(self.eigenvalues))\n",
    "                ],\n",
    "                axis=0,\n",
    "            )\n",
    "            .sum(axis=1)\n",
    "        )\n",
    "        return weights\n",
    "\n",
    "\n",
    "data = PCA(dataset)\n",
    "data.weights = data.calculate_weights(4)\n",
    "\n",
    "data.scaled[\"index\"] = data.scaled @ data.weights\n",
    "data.weights = (\n",
    "    pd.DataFrame(data.weights).reset_index().rename(columns={0: \"coefficients\"})\n",
    ")"
   ]
  },
  {
   "cell_type": "code",
   "execution_count": 656,
   "metadata": {},
   "outputs": [
    {
     "data": {
      "text/html": [
       "<div>\n",
       "<style scoped>\n",
       "    .dataframe tbody tr th:only-of-type {\n",
       "        vertical-align: middle;\n",
       "    }\n",
       "\n",
       "    .dataframe tbody tr th {\n",
       "        vertical-align: top;\n",
       "    }\n",
       "\n",
       "    .dataframe thead th {\n",
       "        text-align: right;\n",
       "    }\n",
       "</style>\n",
       "<table border=\"1\" class=\"dataframe\">\n",
       "  <thead>\n",
       "    <tr style=\"text-align: right;\">\n",
       "      <th></th>\n",
       "      <th>explained_variance</th>\n",
       "      <th>cumulative_explained_variance</th>\n",
       "    </tr>\n",
       "  </thead>\n",
       "  <tbody>\n",
       "    <tr>\n",
       "      <th>pc1</th>\n",
       "      <td>23.2900000000</td>\n",
       "      <td>23.2900000000</td>\n",
       "    </tr>\n",
       "    <tr>\n",
       "      <th>pc2</th>\n",
       "      <td>23.0200000000</td>\n",
       "      <td>46.3100000000</td>\n",
       "    </tr>\n",
       "    <tr>\n",
       "      <th>pc3</th>\n",
       "      <td>19.0600000000</td>\n",
       "      <td>65.3700000000</td>\n",
       "    </tr>\n",
       "    <tr>\n",
       "      <th>pc4</th>\n",
       "      <td>11.3500000000</td>\n",
       "      <td>76.7200000000</td>\n",
       "    </tr>\n",
       "    <tr>\n",
       "      <th>pc5</th>\n",
       "      <td>6.0700000000</td>\n",
       "      <td>82.7900000000</td>\n",
       "    </tr>\n",
       "    <tr>\n",
       "      <th>pc6</th>\n",
       "      <td>4.1100000000</td>\n",
       "      <td>86.9000000000</td>\n",
       "    </tr>\n",
       "    <tr>\n",
       "      <th>pc7</th>\n",
       "      <td>3.7600000000</td>\n",
       "      <td>90.6600000000</td>\n",
       "    </tr>\n",
       "    <tr>\n",
       "      <th>pc8</th>\n",
       "      <td>2.8100000000</td>\n",
       "      <td>93.4700000000</td>\n",
       "    </tr>\n",
       "    <tr>\n",
       "      <th>pc9</th>\n",
       "      <td>2.5400000000</td>\n",
       "      <td>96.0100000000</td>\n",
       "    </tr>\n",
       "    <tr>\n",
       "      <th>pc10</th>\n",
       "      <td>1.7100000000</td>\n",
       "      <td>97.7200000000</td>\n",
       "    </tr>\n",
       "    <tr>\n",
       "      <th>pc11</th>\n",
       "      <td>1.1900000000</td>\n",
       "      <td>98.9100000000</td>\n",
       "    </tr>\n",
       "    <tr>\n",
       "      <th>pc12</th>\n",
       "      <td>1.0900000000</td>\n",
       "      <td>100.0000000000</td>\n",
       "    </tr>\n",
       "  </tbody>\n",
       "</table>\n",
       "</div>"
      ],
      "text/plain": [
       "      explained_variance  cumulative_explained_variance\n",
       "pc1        23.2900000000                  23.2900000000\n",
       "pc2        23.0200000000                  46.3100000000\n",
       "pc3        19.0600000000                  65.3700000000\n",
       "pc4        11.3500000000                  76.7200000000\n",
       "pc5         6.0700000000                  82.7900000000\n",
       "pc6         4.1100000000                  86.9000000000\n",
       "pc7         3.7600000000                  90.6600000000\n",
       "pc8         2.8100000000                  93.4700000000\n",
       "pc9         2.5400000000                  96.0100000000\n",
       "pc10        1.7100000000                  97.7200000000\n",
       "pc11        1.1900000000                  98.9100000000\n",
       "pc12        1.0900000000                 100.0000000000"
      ]
     },
     "execution_count": 656,
     "metadata": {},
     "output_type": "execute_result"
    }
   ],
   "source": [
    "data.percent_explained"
   ]
  },
  {
   "cell_type": "code",
   "execution_count": 657,
   "metadata": {},
   "outputs": [
    {
     "data": {
      "text/html": [
       "<div>\n",
       "<style scoped>\n",
       "    .dataframe tbody tr th:only-of-type {\n",
       "        vertical-align: middle;\n",
       "    }\n",
       "\n",
       "    .dataframe tbody tr th {\n",
       "        vertical-align: top;\n",
       "    }\n",
       "\n",
       "    .dataframe thead th {\n",
       "        text-align: right;\n",
       "    }\n",
       "</style>\n",
       "<table border=\"1\" class=\"dataframe\">\n",
       "  <thead>\n",
       "    <tr style=\"text-align: right;\">\n",
       "      <th></th>\n",
       "      <th>eigenvalues</th>\n",
       "    </tr>\n",
       "  </thead>\n",
       "  <tbody>\n",
       "    <tr>\n",
       "      <th>pc1</th>\n",
       "      <td>2.8103353057</td>\n",
       "    </tr>\n",
       "    <tr>\n",
       "      <th>pc2</th>\n",
       "      <td>2.7771437275</td>\n",
       "    </tr>\n",
       "    <tr>\n",
       "      <th>pc3</th>\n",
       "      <td>2.2991932861</td>\n",
       "    </tr>\n",
       "    <tr>\n",
       "      <th>pc4</th>\n",
       "      <td>1.3694354633</td>\n",
       "    </tr>\n",
       "    <tr>\n",
       "      <th>pc5</th>\n",
       "      <td>0.7328469667</td>\n",
       "    </tr>\n",
       "    <tr>\n",
       "      <th>pc6</th>\n",
       "      <td>0.4962142965</td>\n",
       "    </tr>\n",
       "    <tr>\n",
       "      <th>pc7</th>\n",
       "      <td>0.4542766901</td>\n",
       "    </tr>\n",
       "    <tr>\n",
       "      <th>pc8</th>\n",
       "      <td>0.3389923433</td>\n",
       "    </tr>\n",
       "    <tr>\n",
       "      <th>pc9</th>\n",
       "      <td>0.3068837557</td>\n",
       "    </tr>\n",
       "    <tr>\n",
       "      <th>pc10</th>\n",
       "      <td>0.2058173008</td>\n",
       "    </tr>\n",
       "    <tr>\n",
       "      <th>pc11</th>\n",
       "      <td>0.1431314994</td>\n",
       "    </tr>\n",
       "    <tr>\n",
       "      <th>pc12</th>\n",
       "      <td>0.1316634307</td>\n",
       "    </tr>\n",
       "  </tbody>\n",
       "</table>\n",
       "</div>"
      ],
      "text/plain": [
       "      eigenvalues\n",
       "pc1  2.8103353057\n",
       "pc2  2.7771437275\n",
       "pc3  2.2991932861\n",
       "pc4  1.3694354633\n",
       "pc5  0.7328469667\n",
       "pc6  0.4962142965\n",
       "pc7  0.4542766901\n",
       "pc8  0.3389923433\n",
       "pc9  0.3068837557\n",
       "pc10 0.2058173008\n",
       "pc11 0.1431314994\n",
       "pc12 0.1316634307"
      ]
     },
     "execution_count": 657,
     "metadata": {},
     "output_type": "execute_result"
    }
   ],
   "source": [
    "data.eigenvalues\n"
   ]
  },
  {
   "cell_type": "code",
   "execution_count": 658,
   "metadata": {},
   "outputs": [
    {
     "data": {
      "application/vnd.plotly.v1+json": {
       "config": {
        "plotlyServerURL": "https://plot.ly"
       },
       "data": [
        {
         "hovertemplate": "color=cumulative explained variance<br>x=%{x}<br>cumulative_explained_variance=%{text}<extra></extra>",
         "legendgroup": "cumulative explained variance",
         "line": {
          "color": "#636efa",
          "dash": "solid"
         },
         "marker": {
          "symbol": "circle"
         },
         "mode": "lines+text+markers",
         "name": "cumulative explained variance",
         "orientation": "v",
         "showlegend": true,
         "text": [
          23.29,
          46.31,
          65.37,
          76.72,
          82.79,
          86.9,
          90.66,
          93.47,
          96.01,
          97.72,
          98.91,
          100
         ],
         "textposition": "top left",
         "type": "scatter",
         "x": [
          "pc1",
          "pc2",
          "pc3",
          "pc4",
          "pc5",
          "pc6",
          "pc7",
          "pc8",
          "pc9",
          "pc10",
          "pc11",
          "pc12"
         ],
         "xaxis": "x",
         "y": [
          23.29,
          46.31,
          65.37,
          76.72,
          82.79,
          86.9,
          90.66,
          93.47,
          96.01,
          97.72,
          98.91,
          100
         ],
         "yaxis": "y"
        },
        {
         "name": "explained variance",
         "text": [
          23.29,
          23.02,
          19.06,
          11.35,
          6.07,
          4.11,
          3.76,
          2.81,
          2.54,
          1.71,
          1.19,
          1.09
         ],
         "type": "bar",
         "x": [
          "pc1",
          "pc2",
          "pc3",
          "pc4",
          "pc5",
          "pc6",
          "pc7",
          "pc8",
          "pc9",
          "pc10",
          "pc11",
          "pc12"
         ],
         "y": [
          23.29,
          23.02,
          19.06,
          11.35,
          6.07,
          4.11,
          3.76,
          2.81,
          2.54,
          1.71,
          1.19,
          1.09
         ]
        }
       ],
       "layout": {
        "legend": {
         "title": {
          "text": "color"
         },
         "tracegroupgap": 0
        },
        "margin": {
         "t": 60
        },
        "template": {
         "data": {
          "bar": [
           {
            "error_x": {
             "color": "#2a3f5f"
            },
            "error_y": {
             "color": "#2a3f5f"
            },
            "marker": {
             "line": {
              "color": "#E5ECF6",
              "width": 0.5
             },
             "pattern": {
              "fillmode": "overlay",
              "size": 10,
              "solidity": 0.2
             }
            },
            "type": "bar"
           }
          ],
          "barpolar": [
           {
            "marker": {
             "line": {
              "color": "#E5ECF6",
              "width": 0.5
             },
             "pattern": {
              "fillmode": "overlay",
              "size": 10,
              "solidity": 0.2
             }
            },
            "type": "barpolar"
           }
          ],
          "carpet": [
           {
            "aaxis": {
             "endlinecolor": "#2a3f5f",
             "gridcolor": "white",
             "linecolor": "white",
             "minorgridcolor": "white",
             "startlinecolor": "#2a3f5f"
            },
            "baxis": {
             "endlinecolor": "#2a3f5f",
             "gridcolor": "white",
             "linecolor": "white",
             "minorgridcolor": "white",
             "startlinecolor": "#2a3f5f"
            },
            "type": "carpet"
           }
          ],
          "choropleth": [
           {
            "colorbar": {
             "outlinewidth": 0,
             "ticks": ""
            },
            "type": "choropleth"
           }
          ],
          "contour": [
           {
            "colorbar": {
             "outlinewidth": 0,
             "ticks": ""
            },
            "colorscale": [
             [
              0,
              "#0d0887"
             ],
             [
              0.1111111111111111,
              "#46039f"
             ],
             [
              0.2222222222222222,
              "#7201a8"
             ],
             [
              0.3333333333333333,
              "#9c179e"
             ],
             [
              0.4444444444444444,
              "#bd3786"
             ],
             [
              0.5555555555555556,
              "#d8576b"
             ],
             [
              0.6666666666666666,
              "#ed7953"
             ],
             [
              0.7777777777777778,
              "#fb9f3a"
             ],
             [
              0.8888888888888888,
              "#fdca26"
             ],
             [
              1,
              "#f0f921"
             ]
            ],
            "type": "contour"
           }
          ],
          "contourcarpet": [
           {
            "colorbar": {
             "outlinewidth": 0,
             "ticks": ""
            },
            "type": "contourcarpet"
           }
          ],
          "heatmap": [
           {
            "colorbar": {
             "outlinewidth": 0,
             "ticks": ""
            },
            "colorscale": [
             [
              0,
              "#0d0887"
             ],
             [
              0.1111111111111111,
              "#46039f"
             ],
             [
              0.2222222222222222,
              "#7201a8"
             ],
             [
              0.3333333333333333,
              "#9c179e"
             ],
             [
              0.4444444444444444,
              "#bd3786"
             ],
             [
              0.5555555555555556,
              "#d8576b"
             ],
             [
              0.6666666666666666,
              "#ed7953"
             ],
             [
              0.7777777777777778,
              "#fb9f3a"
             ],
             [
              0.8888888888888888,
              "#fdca26"
             ],
             [
              1,
              "#f0f921"
             ]
            ],
            "type": "heatmap"
           }
          ],
          "heatmapgl": [
           {
            "colorbar": {
             "outlinewidth": 0,
             "ticks": ""
            },
            "colorscale": [
             [
              0,
              "#0d0887"
             ],
             [
              0.1111111111111111,
              "#46039f"
             ],
             [
              0.2222222222222222,
              "#7201a8"
             ],
             [
              0.3333333333333333,
              "#9c179e"
             ],
             [
              0.4444444444444444,
              "#bd3786"
             ],
             [
              0.5555555555555556,
              "#d8576b"
             ],
             [
              0.6666666666666666,
              "#ed7953"
             ],
             [
              0.7777777777777778,
              "#fb9f3a"
             ],
             [
              0.8888888888888888,
              "#fdca26"
             ],
             [
              1,
              "#f0f921"
             ]
            ],
            "type": "heatmapgl"
           }
          ],
          "histogram": [
           {
            "marker": {
             "pattern": {
              "fillmode": "overlay",
              "size": 10,
              "solidity": 0.2
             }
            },
            "type": "histogram"
           }
          ],
          "histogram2d": [
           {
            "colorbar": {
             "outlinewidth": 0,
             "ticks": ""
            },
            "colorscale": [
             [
              0,
              "#0d0887"
             ],
             [
              0.1111111111111111,
              "#46039f"
             ],
             [
              0.2222222222222222,
              "#7201a8"
             ],
             [
              0.3333333333333333,
              "#9c179e"
             ],
             [
              0.4444444444444444,
              "#bd3786"
             ],
             [
              0.5555555555555556,
              "#d8576b"
             ],
             [
              0.6666666666666666,
              "#ed7953"
             ],
             [
              0.7777777777777778,
              "#fb9f3a"
             ],
             [
              0.8888888888888888,
              "#fdca26"
             ],
             [
              1,
              "#f0f921"
             ]
            ],
            "type": "histogram2d"
           }
          ],
          "histogram2dcontour": [
           {
            "colorbar": {
             "outlinewidth": 0,
             "ticks": ""
            },
            "colorscale": [
             [
              0,
              "#0d0887"
             ],
             [
              0.1111111111111111,
              "#46039f"
             ],
             [
              0.2222222222222222,
              "#7201a8"
             ],
             [
              0.3333333333333333,
              "#9c179e"
             ],
             [
              0.4444444444444444,
              "#bd3786"
             ],
             [
              0.5555555555555556,
              "#d8576b"
             ],
             [
              0.6666666666666666,
              "#ed7953"
             ],
             [
              0.7777777777777778,
              "#fb9f3a"
             ],
             [
              0.8888888888888888,
              "#fdca26"
             ],
             [
              1,
              "#f0f921"
             ]
            ],
            "type": "histogram2dcontour"
           }
          ],
          "mesh3d": [
           {
            "colorbar": {
             "outlinewidth": 0,
             "ticks": ""
            },
            "type": "mesh3d"
           }
          ],
          "parcoords": [
           {
            "line": {
             "colorbar": {
              "outlinewidth": 0,
              "ticks": ""
             }
            },
            "type": "parcoords"
           }
          ],
          "pie": [
           {
            "automargin": true,
            "type": "pie"
           }
          ],
          "scatter": [
           {
            "fillpattern": {
             "fillmode": "overlay",
             "size": 10,
             "solidity": 0.2
            },
            "type": "scatter"
           }
          ],
          "scatter3d": [
           {
            "line": {
             "colorbar": {
              "outlinewidth": 0,
              "ticks": ""
             }
            },
            "marker": {
             "colorbar": {
              "outlinewidth": 0,
              "ticks": ""
             }
            },
            "type": "scatter3d"
           }
          ],
          "scattercarpet": [
           {
            "marker": {
             "colorbar": {
              "outlinewidth": 0,
              "ticks": ""
             }
            },
            "type": "scattercarpet"
           }
          ],
          "scattergeo": [
           {
            "marker": {
             "colorbar": {
              "outlinewidth": 0,
              "ticks": ""
             }
            },
            "type": "scattergeo"
           }
          ],
          "scattergl": [
           {
            "marker": {
             "colorbar": {
              "outlinewidth": 0,
              "ticks": ""
             }
            },
            "type": "scattergl"
           }
          ],
          "scattermapbox": [
           {
            "marker": {
             "colorbar": {
              "outlinewidth": 0,
              "ticks": ""
             }
            },
            "type": "scattermapbox"
           }
          ],
          "scatterpolar": [
           {
            "marker": {
             "colorbar": {
              "outlinewidth": 0,
              "ticks": ""
             }
            },
            "type": "scatterpolar"
           }
          ],
          "scatterpolargl": [
           {
            "marker": {
             "colorbar": {
              "outlinewidth": 0,
              "ticks": ""
             }
            },
            "type": "scatterpolargl"
           }
          ],
          "scatterternary": [
           {
            "marker": {
             "colorbar": {
              "outlinewidth": 0,
              "ticks": ""
             }
            },
            "type": "scatterternary"
           }
          ],
          "surface": [
           {
            "colorbar": {
             "outlinewidth": 0,
             "ticks": ""
            },
            "colorscale": [
             [
              0,
              "#0d0887"
             ],
             [
              0.1111111111111111,
              "#46039f"
             ],
             [
              0.2222222222222222,
              "#7201a8"
             ],
             [
              0.3333333333333333,
              "#9c179e"
             ],
             [
              0.4444444444444444,
              "#bd3786"
             ],
             [
              0.5555555555555556,
              "#d8576b"
             ],
             [
              0.6666666666666666,
              "#ed7953"
             ],
             [
              0.7777777777777778,
              "#fb9f3a"
             ],
             [
              0.8888888888888888,
              "#fdca26"
             ],
             [
              1,
              "#f0f921"
             ]
            ],
            "type": "surface"
           }
          ],
          "table": [
           {
            "cells": {
             "fill": {
              "color": "#EBF0F8"
             },
             "line": {
              "color": "white"
             }
            },
            "header": {
             "fill": {
              "color": "#C8D4E3"
             },
             "line": {
              "color": "white"
             }
            },
            "type": "table"
           }
          ]
         },
         "layout": {
          "annotationdefaults": {
           "arrowcolor": "#2a3f5f",
           "arrowhead": 0,
           "arrowwidth": 1
          },
          "autotypenumbers": "strict",
          "coloraxis": {
           "colorbar": {
            "outlinewidth": 0,
            "ticks": ""
           }
          },
          "colorscale": {
           "diverging": [
            [
             0,
             "#8e0152"
            ],
            [
             0.1,
             "#c51b7d"
            ],
            [
             0.2,
             "#de77ae"
            ],
            [
             0.3,
             "#f1b6da"
            ],
            [
             0.4,
             "#fde0ef"
            ],
            [
             0.5,
             "#f7f7f7"
            ],
            [
             0.6,
             "#e6f5d0"
            ],
            [
             0.7,
             "#b8e186"
            ],
            [
             0.8,
             "#7fbc41"
            ],
            [
             0.9,
             "#4d9221"
            ],
            [
             1,
             "#276419"
            ]
           ],
           "sequential": [
            [
             0,
             "#0d0887"
            ],
            [
             0.1111111111111111,
             "#46039f"
            ],
            [
             0.2222222222222222,
             "#7201a8"
            ],
            [
             0.3333333333333333,
             "#9c179e"
            ],
            [
             0.4444444444444444,
             "#bd3786"
            ],
            [
             0.5555555555555556,
             "#d8576b"
            ],
            [
             0.6666666666666666,
             "#ed7953"
            ],
            [
             0.7777777777777778,
             "#fb9f3a"
            ],
            [
             0.8888888888888888,
             "#fdca26"
            ],
            [
             1,
             "#f0f921"
            ]
           ],
           "sequentialminus": [
            [
             0,
             "#0d0887"
            ],
            [
             0.1111111111111111,
             "#46039f"
            ],
            [
             0.2222222222222222,
             "#7201a8"
            ],
            [
             0.3333333333333333,
             "#9c179e"
            ],
            [
             0.4444444444444444,
             "#bd3786"
            ],
            [
             0.5555555555555556,
             "#d8576b"
            ],
            [
             0.6666666666666666,
             "#ed7953"
            ],
            [
             0.7777777777777778,
             "#fb9f3a"
            ],
            [
             0.8888888888888888,
             "#fdca26"
            ],
            [
             1,
             "#f0f921"
            ]
           ]
          },
          "colorway": [
           "#636efa",
           "#EF553B",
           "#00cc96",
           "#ab63fa",
           "#FFA15A",
           "#19d3f3",
           "#FF6692",
           "#B6E880",
           "#FF97FF",
           "#FECB52"
          ],
          "font": {
           "color": "#2a3f5f"
          },
          "geo": {
           "bgcolor": "white",
           "lakecolor": "white",
           "landcolor": "#E5ECF6",
           "showlakes": true,
           "showland": true,
           "subunitcolor": "white"
          },
          "hoverlabel": {
           "align": "left"
          },
          "hovermode": "closest",
          "mapbox": {
           "style": "light"
          },
          "paper_bgcolor": "white",
          "plot_bgcolor": "#E5ECF6",
          "polar": {
           "angularaxis": {
            "gridcolor": "white",
            "linecolor": "white",
            "ticks": ""
           },
           "bgcolor": "#E5ECF6",
           "radialaxis": {
            "gridcolor": "white",
            "linecolor": "white",
            "ticks": ""
           }
          },
          "scene": {
           "xaxis": {
            "backgroundcolor": "#E5ECF6",
            "gridcolor": "white",
            "gridwidth": 2,
            "linecolor": "white",
            "showbackground": true,
            "ticks": "",
            "zerolinecolor": "white"
           },
           "yaxis": {
            "backgroundcolor": "#E5ECF6",
            "gridcolor": "white",
            "gridwidth": 2,
            "linecolor": "white",
            "showbackground": true,
            "ticks": "",
            "zerolinecolor": "white"
           },
           "zaxis": {
            "backgroundcolor": "#E5ECF6",
            "gridcolor": "white",
            "gridwidth": 2,
            "linecolor": "white",
            "showbackground": true,
            "ticks": "",
            "zerolinecolor": "white"
           }
          },
          "shapedefaults": {
           "line": {
            "color": "#2a3f5f"
           }
          },
          "ternary": {
           "aaxis": {
            "gridcolor": "white",
            "linecolor": "white",
            "ticks": ""
           },
           "baxis": {
            "gridcolor": "white",
            "linecolor": "white",
            "ticks": ""
           },
           "bgcolor": "#E5ECF6",
           "caxis": {
            "gridcolor": "white",
            "linecolor": "white",
            "ticks": ""
           }
          },
          "title": {
           "x": 0.05
          },
          "xaxis": {
           "automargin": true,
           "gridcolor": "white",
           "linecolor": "white",
           "ticks": "",
           "title": {
            "standoff": 15
           },
           "zerolinecolor": "white",
           "zerolinewidth": 2
          },
          "yaxis": {
           "automargin": true,
           "gridcolor": "white",
           "linecolor": "white",
           "ticks": "",
           "title": {
            "standoff": 15
           },
           "zerolinecolor": "white",
           "zerolinewidth": 2
          }
         }
        },
        "xaxis": {
         "anchor": "y",
         "domain": [
          0,
          1
         ],
         "title": {
          "text": "x"
         }
        },
        "yaxis": {
         "anchor": "x",
         "domain": [
          0,
          1
         ],
         "title": {
          "text": "cumulative_explained_variance"
         }
        }
       }
      }
     },
     "metadata": {},
     "output_type": "display_data"
    }
   ],
   "source": [
    "data.scree\n"
   ]
  },
  {
   "cell_type": "code",
   "execution_count": 659,
   "metadata": {},
   "outputs": [],
   "source": [
    "# X = all the independent variables\n",
    "X = data.scaled.iloc[:, :-1]\n",
    "\n",
    "# y = index, or dependent variable\n",
    "y = data.scaled.iloc[:, -1]\n"
   ]
  },
  {
   "cell_type": "code",
   "execution_count": 660,
   "metadata": {},
   "outputs": [],
   "source": [
    "lr = lm.LinearRegression()\n",
    "\n",
    "sfs = SFS(\n",
    "    lr,\n",
    "    n_features_to_select=\"auto\",\n",
    "    n_jobs=-1,\n",
    ")\n",
    "\n",
    "# sfs = SFS(\n",
    "#     lr,\n",
    "#     k_features=\"parsimonious\",\n",
    "#     verbose=0,\n",
    "#     forward=True,\n",
    "#     scoring=\"r2\",  # picks model on r2\n",
    "#     cv=5,\n",
    "#     n_jobs=-1,\n",
    "# )\n",
    "\n",
    "sfs.fit(X, y)\n",
    "selected_variables = list(sfs.get_feature_names_out())"
   ]
  },
  {
   "cell_type": "code",
   "execution_count": 661,
   "metadata": {},
   "outputs": [],
   "source": [
    "selected_variables = list(sfs.get_feature_names_out())"
   ]
  },
  {
   "cell_type": "code",
   "execution_count": 662,
   "metadata": {},
   "outputs": [
    {
     "data": {
      "text/plain": [
       "['native_citizen',\n",
       " 'work_from_home',\n",
       " 'smartphone_only',\n",
       " 'no_computer',\n",
       " 'mean_d_mbps',\n",
       " 'mean_u_mbps']"
      ]
     },
     "execution_count": 662,
     "metadata": {},
     "output_type": "execute_result"
    }
   ],
   "source": [
    "selected_variables"
   ]
  },
  {
   "cell_type": "code",
   "execution_count": 663,
   "metadata": {},
   "outputs": [],
   "source": [
    "X_new = data.scaled[selected_variables]"
   ]
  },
  {
   "cell_type": "code",
   "execution_count": 664,
   "metadata": {},
   "outputs": [
    {
     "data": {
      "text/html": [
       "<style>#sk-container-id-28 {color: black;background-color: white;}#sk-container-id-28 pre{padding: 0;}#sk-container-id-28 div.sk-toggleable {background-color: white;}#sk-container-id-28 label.sk-toggleable__label {cursor: pointer;display: block;width: 100%;margin-bottom: 0;padding: 0.3em;box-sizing: border-box;text-align: center;}#sk-container-id-28 label.sk-toggleable__label-arrow:before {content: \"▸\";float: left;margin-right: 0.25em;color: #696969;}#sk-container-id-28 label.sk-toggleable__label-arrow:hover:before {color: black;}#sk-container-id-28 div.sk-estimator:hover label.sk-toggleable__label-arrow:before {color: black;}#sk-container-id-28 div.sk-toggleable__content {max-height: 0;max-width: 0;overflow: hidden;text-align: left;background-color: #f0f8ff;}#sk-container-id-28 div.sk-toggleable__content pre {margin: 0.2em;color: black;border-radius: 0.25em;background-color: #f0f8ff;}#sk-container-id-28 input.sk-toggleable__control:checked~div.sk-toggleable__content {max-height: 200px;max-width: 100%;overflow: auto;}#sk-container-id-28 input.sk-toggleable__control:checked~label.sk-toggleable__label-arrow:before {content: \"▾\";}#sk-container-id-28 div.sk-estimator input.sk-toggleable__control:checked~label.sk-toggleable__label {background-color: #d4ebff;}#sk-container-id-28 div.sk-label input.sk-toggleable__control:checked~label.sk-toggleable__label {background-color: #d4ebff;}#sk-container-id-28 input.sk-hidden--visually {border: 0;clip: rect(1px 1px 1px 1px);clip: rect(1px, 1px, 1px, 1px);height: 1px;margin: -1px;overflow: hidden;padding: 0;position: absolute;width: 1px;}#sk-container-id-28 div.sk-estimator {font-family: monospace;background-color: #f0f8ff;border: 1px dotted black;border-radius: 0.25em;box-sizing: border-box;margin-bottom: 0.5em;}#sk-container-id-28 div.sk-estimator:hover {background-color: #d4ebff;}#sk-container-id-28 div.sk-parallel-item::after {content: \"\";width: 100%;border-bottom: 1px solid gray;flex-grow: 1;}#sk-container-id-28 div.sk-label:hover label.sk-toggleable__label {background-color: #d4ebff;}#sk-container-id-28 div.sk-serial::before {content: \"\";position: absolute;border-left: 1px solid gray;box-sizing: border-box;top: 0;bottom: 0;left: 50%;z-index: 0;}#sk-container-id-28 div.sk-serial {display: flex;flex-direction: column;align-items: center;background-color: white;padding-right: 0.2em;padding-left: 0.2em;position: relative;}#sk-container-id-28 div.sk-item {position: relative;z-index: 1;}#sk-container-id-28 div.sk-parallel {display: flex;align-items: stretch;justify-content: center;background-color: white;position: relative;}#sk-container-id-28 div.sk-item::before, #sk-container-id-28 div.sk-parallel-item::before {content: \"\";position: absolute;border-left: 1px solid gray;box-sizing: border-box;top: 0;bottom: 0;left: 50%;z-index: -1;}#sk-container-id-28 div.sk-parallel-item {display: flex;flex-direction: column;z-index: 1;position: relative;background-color: white;}#sk-container-id-28 div.sk-parallel-item:first-child::after {align-self: flex-end;width: 50%;}#sk-container-id-28 div.sk-parallel-item:last-child::after {align-self: flex-start;width: 50%;}#sk-container-id-28 div.sk-parallel-item:only-child::after {width: 0;}#sk-container-id-28 div.sk-dashed-wrapped {border: 1px dashed gray;margin: 0 0.4em 0.5em 0.4em;box-sizing: border-box;padding-bottom: 0.4em;background-color: white;}#sk-container-id-28 div.sk-label label {font-family: monospace;font-weight: bold;display: inline-block;line-height: 1.2em;}#sk-container-id-28 div.sk-label-container {text-align: center;}#sk-container-id-28 div.sk-container {/* jupyter's `normalize.less` sets `[hidden] { display: none; }` but bootstrap.min.css set `[hidden] { display: none !important; }` so we also need the `!important` here to be able to override the default hidden behavior on the sphinx rendered scikit-learn.org. See: https://github.com/scikit-learn/scikit-learn/issues/21755 */display: inline-block !important;position: relative;}#sk-container-id-28 div.sk-text-repr-fallback {display: none;}</style><div id=\"sk-container-id-28\" class=\"sk-top-container\"><div class=\"sk-text-repr-fallback\"><pre>LinearRegression()</pre><b>In a Jupyter environment, please rerun this cell to show the HTML representation or trust the notebook. <br />On GitHub, the HTML representation is unable to render, please try loading this page with nbviewer.org.</b></div><div class=\"sk-container\" hidden><div class=\"sk-item\"><div class=\"sk-estimator sk-toggleable\"><input class=\"sk-toggleable__control sk-hidden--visually\" id=\"sk-estimator-id-28\" type=\"checkbox\" checked><label for=\"sk-estimator-id-28\" class=\"sk-toggleable__label sk-toggleable__label-arrow\">LinearRegression</label><div class=\"sk-toggleable__content\"><pre>LinearRegression()</pre></div></div></div></div></div>"
      ],
      "text/plain": [
       "LinearRegression()"
      ]
     },
     "execution_count": 664,
     "metadata": {},
     "output_type": "execute_result"
    }
   ],
   "source": [
    "model = lr\n",
    "model.fit(X_new, y)"
   ]
  },
  {
   "cell_type": "code",
   "execution_count": 665,
   "metadata": {},
   "outputs": [
    {
     "data": {
      "text/plain": [
       "array(['native_citizen', 'work_from_home', 'smartphone_only',\n",
       "       'no_computer', 'mean_d_mbps', 'mean_u_mbps'], dtype=object)"
      ]
     },
     "execution_count": 665,
     "metadata": {},
     "output_type": "execute_result"
    }
   ],
   "source": [
    "model.feature_names_in_"
   ]
  },
  {
   "cell_type": "code",
   "execution_count": 666,
   "metadata": {},
   "outputs": [
    {
     "data": {
      "text/plain": [
       "array([-1.00625826,  0.54414789, -1.10777882, -0.72389806, -0.43758194,\n",
       "       -0.43927279])"
      ]
     },
     "execution_count": 666,
     "metadata": {},
     "output_type": "execute_result"
    }
   ],
   "source": [
    "model.coef_"
   ]
  },
  {
   "cell_type": "code",
   "execution_count": 667,
   "metadata": {},
   "outputs": [
    {
     "name": "stdout",
     "output_type": "stream",
     "text": [
      "adjr2: 0.9861842002882262\n"
     ]
    }
   ],
   "source": [
    "r2 = model.score(X_new, y)\n",
    "observations = X_new.shape[0]\n",
    "predictors = X_new.shape[1]\n",
    "adj_r2 = 1 - (1 - r2) * (observations - 1) / (observations - predictors - 1)\n",
    "print(f\"adjr2: {adj_r2}\")\n"
   ]
  },
  {
   "cell_type": "code",
   "execution_count": 668,
   "metadata": {},
   "outputs": [],
   "source": [
    "# results = pd.DataFrame.from_dict(sfs.get_metric_dict()).T\n",
    "# results\n"
   ]
  },
  {
   "cell_type": "code",
   "execution_count": 669,
   "metadata": {},
   "outputs": [],
   "source": [
    "# largest_before_1 = results[results[\"avg_score\"] != 1].tail(1).index.to_list()\n",
    "# largest_before_1 = largest_before_1[0] - 1\n",
    "# model_vars = list(results.iloc[largest_before_1, 3])\n",
    "# model_vars"
   ]
  },
  {
   "cell_type": "code",
   "execution_count": 670,
   "metadata": {},
   "outputs": [],
   "source": [
    "# model = lr\n",
    "# model.fit(final_X, final_y)\n",
    "# r2 = model.score(final_X, final_y)\n",
    "# observations = final_X.shape[0]\n",
    "# predictors = final_X.shape[1]\n",
    "# adj_r2 = 1 - (1 - r2) * (observations - 1) / (observations - predictors - 1)\n",
    "# print(f\"adjr2: {adj_r2}\")\n"
   ]
  },
  {
   "cell_type": "code",
   "execution_count": 671,
   "metadata": {},
   "outputs": [
    {
     "data": {
      "text/html": [
       "<div>\n",
       "<style scoped>\n",
       "    .dataframe tbody tr th:only-of-type {\n",
       "        vertical-align: middle;\n",
       "    }\n",
       "\n",
       "    .dataframe tbody tr th {\n",
       "        vertical-align: top;\n",
       "    }\n",
       "\n",
       "    .dataframe thead th {\n",
       "        text-align: right;\n",
       "    }\n",
       "</style>\n",
       "<table border=\"1\" class=\"dataframe\">\n",
       "  <thead>\n",
       "    <tr style=\"text-align: right;\">\n",
       "      <th></th>\n",
       "      <th>coefficient</th>\n",
       "      <th>vif</th>\n",
       "    </tr>\n",
       "  </thead>\n",
       "  <tbody>\n",
       "    <tr>\n",
       "      <th>native_citizen</th>\n",
       "      <td>1.0062582573</td>\n",
       "      <td>1.7969580995</td>\n",
       "    </tr>\n",
       "    <tr>\n",
       "      <th>work_from_home</th>\n",
       "      <td>-0.5441478866</td>\n",
       "      <td>1.6481037403</td>\n",
       "    </tr>\n",
       "    <tr>\n",
       "      <th>smartphone_only</th>\n",
       "      <td>1.1077788178</td>\n",
       "      <td>1.4080240003</td>\n",
       "    </tr>\n",
       "    <tr>\n",
       "      <th>no_computer</th>\n",
       "      <td>0.7238980568</td>\n",
       "      <td>1.2106073440</td>\n",
       "    </tr>\n",
       "    <tr>\n",
       "      <th>mean_d_mbps</th>\n",
       "      <td>0.4375819369</td>\n",
       "      <td>1.2593099817</td>\n",
       "    </tr>\n",
       "    <tr>\n",
       "      <th>mean_u_mbps</th>\n",
       "      <td>0.4392727919</td>\n",
       "      <td>1.2362992391</td>\n",
       "    </tr>\n",
       "  </tbody>\n",
       "</table>\n",
       "</div>"
      ],
      "text/plain": [
       "                  coefficient          vif\n",
       "native_citizen   1.0062582573 1.7969580995\n",
       "work_from_home  -0.5441478866 1.6481037403\n",
       "smartphone_only  1.1077788178 1.4080240003\n",
       "no_computer      0.7238980568 1.2106073440\n",
       "mean_d_mbps      0.4375819369 1.2593099817\n",
       "mean_u_mbps      0.4392727919 1.2362992391"
      ]
     },
     "execution_count": 671,
     "metadata": {},
     "output_type": "execute_result"
    }
   ],
   "source": [
    "fin_df = pd.DataFrame(-model.coef_, model.feature_names_in_)\n",
    "fin_df[\"vif\"] = [VIF(X_new.values, i) for i in range(X_new.shape[1])]\n",
    "fin_df = fin_df.rename(columns={0: \"coefficient\"})\n",
    "fin_df\n"
   ]
  },
  {
   "cell_type": "code",
   "execution_count": 672,
   "metadata": {},
   "outputs": [
    {
     "name": "stderr",
     "output_type": "stream",
     "text": [
      "C:\\Users\\Nicholas\\AppData\\Local\\Temp\\ipykernel_3392\\1205995849.py:4: SettingWithCopyWarning:\n",
      "\n",
      "\n",
      "A value is trying to be set on a copy of a slice from a DataFrame.\n",
      "Try using .loc[row_indexer,col_indexer] = value instead\n",
      "\n",
      "See the caveats in the documentation: https://pandas.pydata.org/pandas-docs/stable/user_guide/indexing.html#returning-a-view-versus-a-copy\n",
      "\n"
     ]
    }
   ],
   "source": [
    "coefficients = -model.coef_\n",
    "final_vars = list(model.feature_names_in_)\n",
    "final_data = data.scaled[final_vars]\n",
    "final_data[\"index\"] = final_data.mul(coefficients).sum(axis=1)"
   ]
  },
  {
   "cell_type": "code",
   "execution_count": 673,
   "metadata": {},
   "outputs": [
    {
     "data": {
      "text/html": [
       "<div>\n",
       "<style scoped>\n",
       "    .dataframe tbody tr th:only-of-type {\n",
       "        vertical-align: middle;\n",
       "    }\n",
       "\n",
       "    .dataframe tbody tr th {\n",
       "        vertical-align: top;\n",
       "    }\n",
       "\n",
       "    .dataframe thead th {\n",
       "        text-align: right;\n",
       "    }\n",
       "</style>\n",
       "<table border=\"1\" class=\"dataframe\">\n",
       "  <thead>\n",
       "    <tr style=\"text-align: right;\">\n",
       "      <th></th>\n",
       "      <th>native_citizen</th>\n",
       "      <th>work_from_home</th>\n",
       "      <th>smartphone_only</th>\n",
       "      <th>no_computer</th>\n",
       "      <th>mean_d_mbps</th>\n",
       "      <th>mean_u_mbps</th>\n",
       "      <th>index</th>\n",
       "    </tr>\n",
       "  </thead>\n",
       "  <tbody>\n",
       "    <tr>\n",
       "      <th>0</th>\n",
       "      <td>-0.7793647066</td>\n",
       "      <td>-0.5115079191</td>\n",
       "      <td>0.5485540934</td>\n",
       "      <td>-0.3341503606</td>\n",
       "      <td>-1.6263184336</td>\n",
       "      <td>-0.9375212194</td>\n",
       "      <td>-1.2635955438</td>\n",
       "    </tr>\n",
       "    <tr>\n",
       "      <th>1</th>\n",
       "      <td>-1.4274799394</td>\n",
       "      <td>-0.8676949403</td>\n",
       "      <td>-0.4644767653</td>\n",
       "      <td>-0.4867380487</td>\n",
       "      <td>-1.6343848222</td>\n",
       "      <td>-0.9561168609</td>\n",
       "      <td>-2.9663187568</td>\n",
       "    </tr>\n",
       "    <tr>\n",
       "      <th>2</th>\n",
       "      <td>-1.8482655551</td>\n",
       "      <td>-1.3154729099</td>\n",
       "      <td>-0.3691326845</td>\n",
       "      <td>1.0264231913</td>\n",
       "      <td>-1.3253157117</td>\n",
       "      <td>-0.7967759956</td>\n",
       "      <td>-1.7398485202</td>\n",
       "    </tr>\n",
       "    <tr>\n",
       "      <th>3</th>\n",
       "      <td>-1.3928535739</td>\n",
       "      <td>-1.0814071531</td>\n",
       "      <td>0.2982758812</td>\n",
       "      <td>-0.6011788147</td>\n",
       "      <td>-1.3380529792</td>\n",
       "      <td>-0.6531932364</td>\n",
       "      <td>-1.7903312967</td>\n",
       "    </tr>\n",
       "    <tr>\n",
       "      <th>4</th>\n",
       "      <td>-1.2633810767</td>\n",
       "      <td>-0.2265583020</td>\n",
       "      <td>-0.1188544723</td>\n",
       "      <td>-0.9953636755</td>\n",
       "      <td>-1.4903884747</td>\n",
       "      <td>-0.7598419576</td>\n",
       "      <td>-2.9861576904</td>\n",
       "    </tr>\n",
       "    <tr>\n",
       "      <th>...</th>\n",
       "      <td>...</td>\n",
       "      <td>...</td>\n",
       "      <td>...</td>\n",
       "      <td>...</td>\n",
       "      <td>...</td>\n",
       "      <td>...</td>\n",
       "      <td>...</td>\n",
       "    </tr>\n",
       "    <tr>\n",
       "      <th>178</th>\n",
       "      <td>0.2112504459</td>\n",
       "      <td>-1.0407000649</td>\n",
       "      <td>-0.0354284016</td>\n",
       "      <td>-0.6647570181</td>\n",
       "      <td>0.1229907201</td>\n",
       "      <td>2.9177987183</td>\n",
       "      <td>1.5939322068</td>\n",
       "    </tr>\n",
       "    <tr>\n",
       "      <th>179</th>\n",
       "      <td>-0.1320022209</td>\n",
       "      <td>0.0990984031</td>\n",
       "      <td>-0.7743450279</td>\n",
       "      <td>0.2380534696</td>\n",
       "      <td>-0.8491271755</td>\n",
       "      <td>0.9769717497</td>\n",
       "      <td>-0.8146346929</td>\n",
       "    </tr>\n",
       "    <tr>\n",
       "      <th>180</th>\n",
       "      <td>0.0622065248</td>\n",
       "      <td>-0.8269878522</td>\n",
       "      <td>-0.3333786542</td>\n",
       "      <td>0.4923662831</td>\n",
       "      <td>-1.8089348075</td>\n",
       "      <td>0.2263970815</td>\n",
       "      <td>-0.1923944133</td>\n",
       "    </tr>\n",
       "    <tr>\n",
       "      <th>181</th>\n",
       "      <td>0.2534042822</td>\n",
       "      <td>0.2313964396</td>\n",
       "      <td>-0.1903625329</td>\n",
       "      <td>0.5305132051</td>\n",
       "      <td>-0.3223962253</td>\n",
       "      <td>4.5747370603</td>\n",
       "      <td>2.1707169206</td>\n",
       "    </tr>\n",
       "    <tr>\n",
       "      <th>182</th>\n",
       "      <td>-1.1542327506</td>\n",
       "      <td>-0.3181492504</td>\n",
       "      <td>-1.1080493108</td>\n",
       "      <td>-0.8300603468</td>\n",
       "      <td>-1.7649486239</td>\n",
       "      <td>-0.1057117288</td>\n",
       "      <td>-3.6354345453</td>\n",
       "    </tr>\n",
       "  </tbody>\n",
       "</table>\n",
       "<p>183 rows × 7 columns</p>\n",
       "</div>"
      ],
      "text/plain": [
       "     native_citizen  work_from_home  smartphone_only   no_computer  \\\n",
       "0     -0.7793647066   -0.5115079191     0.5485540934 -0.3341503606   \n",
       "1     -1.4274799394   -0.8676949403    -0.4644767653 -0.4867380487   \n",
       "2     -1.8482655551   -1.3154729099    -0.3691326845  1.0264231913   \n",
       "3     -1.3928535739   -1.0814071531     0.2982758812 -0.6011788147   \n",
       "4     -1.2633810767   -0.2265583020    -0.1188544723 -0.9953636755   \n",
       "..              ...             ...              ...           ...   \n",
       "178    0.2112504459   -1.0407000649    -0.0354284016 -0.6647570181   \n",
       "179   -0.1320022209    0.0990984031    -0.7743450279  0.2380534696   \n",
       "180    0.0622065248   -0.8269878522    -0.3333786542  0.4923662831   \n",
       "181    0.2534042822    0.2313964396    -0.1903625329  0.5305132051   \n",
       "182   -1.1542327506   -0.3181492504    -1.1080493108 -0.8300603468   \n",
       "\n",
       "      mean_d_mbps   mean_u_mbps         index  \n",
       "0   -1.6263184336 -0.9375212194 -1.2635955438  \n",
       "1   -1.6343848222 -0.9561168609 -2.9663187568  \n",
       "2   -1.3253157117 -0.7967759956 -1.7398485202  \n",
       "3   -1.3380529792 -0.6531932364 -1.7903312967  \n",
       "4   -1.4903884747 -0.7598419576 -2.9861576904  \n",
       "..            ...           ...           ...  \n",
       "178  0.1229907201  2.9177987183  1.5939322068  \n",
       "179 -0.8491271755  0.9769717497 -0.8146346929  \n",
       "180 -1.8089348075  0.2263970815 -0.1923944133  \n",
       "181 -0.3223962253  4.5747370603  2.1707169206  \n",
       "182 -1.7649486239 -0.1057117288 -3.6354345453  \n",
       "\n",
       "[183 rows x 7 columns]"
      ]
     },
     "execution_count": 673,
     "metadata": {},
     "output_type": "execute_result"
    }
   ],
   "source": [
    "final_data"
   ]
  },
  {
   "cell_type": "code",
   "execution_count": 674,
   "metadata": {},
   "outputs": [
    {
     "data": {
      "text/plain": [
       "0.670469086375667"
      ]
     },
     "execution_count": 674,
     "metadata": {},
     "output_type": "execute_result"
    }
   ],
   "source": [
    "cronbach_alpha(final_data)[0]"
   ]
  },
  {
   "cell_type": "code",
   "execution_count": 675,
   "metadata": {},
   "outputs": [
    {
     "data": {
      "text/html": [
       "<div>\n",
       "<style scoped>\n",
       "    .dataframe tbody tr th:only-of-type {\n",
       "        vertical-align: middle;\n",
       "    }\n",
       "\n",
       "    .dataframe tbody tr th {\n",
       "        vertical-align: top;\n",
       "    }\n",
       "\n",
       "    .dataframe thead th {\n",
       "        text-align: right;\n",
       "    }\n",
       "</style>\n",
       "<table border=\"1\" class=\"dataframe\">\n",
       "  <thead>\n",
       "    <tr style=\"text-align: right;\">\n",
       "      <th></th>\n",
       "      <th>native_citizen</th>\n",
       "      <th>work_from_home</th>\n",
       "      <th>smartphone_only</th>\n",
       "      <th>no_computer</th>\n",
       "      <th>mean_d_mbps</th>\n",
       "      <th>mean_u_mbps</th>\n",
       "      <th>index</th>\n",
       "    </tr>\n",
       "  </thead>\n",
       "  <tbody>\n",
       "    <tr>\n",
       "      <th>0</th>\n",
       "      <td>-0.7793647066</td>\n",
       "      <td>-0.5115079191</td>\n",
       "      <td>0.5485540934</td>\n",
       "      <td>-0.3341503606</td>\n",
       "      <td>-1.6263184336</td>\n",
       "      <td>-0.9375212194</td>\n",
       "      <td>-1.2635955438</td>\n",
       "    </tr>\n",
       "    <tr>\n",
       "      <th>1</th>\n",
       "      <td>-1.4274799394</td>\n",
       "      <td>-0.8676949403</td>\n",
       "      <td>-0.4644767653</td>\n",
       "      <td>-0.4867380487</td>\n",
       "      <td>-1.6343848222</td>\n",
       "      <td>-0.9561168609</td>\n",
       "      <td>-2.9663187568</td>\n",
       "    </tr>\n",
       "    <tr>\n",
       "      <th>2</th>\n",
       "      <td>-1.8482655551</td>\n",
       "      <td>-1.3154729099</td>\n",
       "      <td>-0.3691326845</td>\n",
       "      <td>1.0264231913</td>\n",
       "      <td>-1.3253157117</td>\n",
       "      <td>-0.7967759956</td>\n",
       "      <td>-1.7398485202</td>\n",
       "    </tr>\n",
       "    <tr>\n",
       "      <th>3</th>\n",
       "      <td>-1.3928535739</td>\n",
       "      <td>-1.0814071531</td>\n",
       "      <td>0.2982758812</td>\n",
       "      <td>-0.6011788147</td>\n",
       "      <td>-1.3380529792</td>\n",
       "      <td>-0.6531932364</td>\n",
       "      <td>-1.7903312967</td>\n",
       "    </tr>\n",
       "    <tr>\n",
       "      <th>4</th>\n",
       "      <td>-1.2633810767</td>\n",
       "      <td>-0.2265583020</td>\n",
       "      <td>-0.1188544723</td>\n",
       "      <td>-0.9953636755</td>\n",
       "      <td>-1.4903884747</td>\n",
       "      <td>-0.7598419576</td>\n",
       "      <td>-2.9861576904</td>\n",
       "    </tr>\n",
       "    <tr>\n",
       "      <th>...</th>\n",
       "      <td>...</td>\n",
       "      <td>...</td>\n",
       "      <td>...</td>\n",
       "      <td>...</td>\n",
       "      <td>...</td>\n",
       "      <td>...</td>\n",
       "      <td>...</td>\n",
       "    </tr>\n",
       "    <tr>\n",
       "      <th>178</th>\n",
       "      <td>0.2112504459</td>\n",
       "      <td>-1.0407000649</td>\n",
       "      <td>-0.0354284016</td>\n",
       "      <td>-0.6647570181</td>\n",
       "      <td>0.1229907201</td>\n",
       "      <td>2.9177987183</td>\n",
       "      <td>1.5939322068</td>\n",
       "    </tr>\n",
       "    <tr>\n",
       "      <th>179</th>\n",
       "      <td>-0.1320022209</td>\n",
       "      <td>0.0990984031</td>\n",
       "      <td>-0.7743450279</td>\n",
       "      <td>0.2380534696</td>\n",
       "      <td>-0.8491271755</td>\n",
       "      <td>0.9769717497</td>\n",
       "      <td>-0.8146346929</td>\n",
       "    </tr>\n",
       "    <tr>\n",
       "      <th>180</th>\n",
       "      <td>0.0622065248</td>\n",
       "      <td>-0.8269878522</td>\n",
       "      <td>-0.3333786542</td>\n",
       "      <td>0.4923662831</td>\n",
       "      <td>-1.8089348075</td>\n",
       "      <td>0.2263970815</td>\n",
       "      <td>-0.1923944133</td>\n",
       "    </tr>\n",
       "    <tr>\n",
       "      <th>181</th>\n",
       "      <td>0.2534042822</td>\n",
       "      <td>0.2313964396</td>\n",
       "      <td>-0.1903625329</td>\n",
       "      <td>0.5305132051</td>\n",
       "      <td>-0.3223962253</td>\n",
       "      <td>4.5747370603</td>\n",
       "      <td>2.1707169206</td>\n",
       "    </tr>\n",
       "    <tr>\n",
       "      <th>182</th>\n",
       "      <td>-1.1542327506</td>\n",
       "      <td>-0.3181492504</td>\n",
       "      <td>-1.1080493108</td>\n",
       "      <td>-0.8300603468</td>\n",
       "      <td>-1.7649486239</td>\n",
       "      <td>-0.1057117288</td>\n",
       "      <td>-3.6354345453</td>\n",
       "    </tr>\n",
       "  </tbody>\n",
       "</table>\n",
       "<p>183 rows × 7 columns</p>\n",
       "</div>"
      ],
      "text/plain": [
       "     native_citizen  work_from_home  smartphone_only   no_computer  \\\n",
       "0     -0.7793647066   -0.5115079191     0.5485540934 -0.3341503606   \n",
       "1     -1.4274799394   -0.8676949403    -0.4644767653 -0.4867380487   \n",
       "2     -1.8482655551   -1.3154729099    -0.3691326845  1.0264231913   \n",
       "3     -1.3928535739   -1.0814071531     0.2982758812 -0.6011788147   \n",
       "4     -1.2633810767   -0.2265583020    -0.1188544723 -0.9953636755   \n",
       "..              ...             ...              ...           ...   \n",
       "178    0.2112504459   -1.0407000649    -0.0354284016 -0.6647570181   \n",
       "179   -0.1320022209    0.0990984031    -0.7743450279  0.2380534696   \n",
       "180    0.0622065248   -0.8269878522    -0.3333786542  0.4923662831   \n",
       "181    0.2534042822    0.2313964396    -0.1903625329  0.5305132051   \n",
       "182   -1.1542327506   -0.3181492504    -1.1080493108 -0.8300603468   \n",
       "\n",
       "      mean_d_mbps   mean_u_mbps         index  \n",
       "0   -1.6263184336 -0.9375212194 -1.2635955438  \n",
       "1   -1.6343848222 -0.9561168609 -2.9663187568  \n",
       "2   -1.3253157117 -0.7967759956 -1.7398485202  \n",
       "3   -1.3380529792 -0.6531932364 -1.7903312967  \n",
       "4   -1.4903884747 -0.7598419576 -2.9861576904  \n",
       "..            ...           ...           ...  \n",
       "178  0.1229907201  2.9177987183  1.5939322068  \n",
       "179 -0.8491271755  0.9769717497 -0.8146346929  \n",
       "180 -1.8089348075  0.2263970815 -0.1923944133  \n",
       "181 -0.3223962253  4.5747370603  2.1707169206  \n",
       "182 -1.7649486239 -0.1057117288 -3.6354345453  \n",
       "\n",
       "[183 rows x 7 columns]"
      ]
     },
     "execution_count": 675,
     "metadata": {},
     "output_type": "execute_result"
    }
   ],
   "source": [
    "final_data"
   ]
  },
  {
   "cell_type": "code",
   "execution_count": 676,
   "metadata": {},
   "outputs": [],
   "source": [
    "final_data = dataset1[[\"GEOID\", \"tract\"]].join(final_data)"
   ]
  },
  {
   "cell_type": "code",
   "execution_count": 677,
   "metadata": {},
   "outputs": [],
   "source": [
    "# final_data.to_csv(\"../app/data/index_data4.csv\", index=False)"
   ]
  }
 ],
 "metadata": {
  "kernelspec": {
   "display_name": "washington-digital-equity-T8Bkn3ac-py3.11",
   "language": "python",
   "name": "python3"
  },
  "language_info": {
   "codemirror_mode": {
    "name": "ipython",
    "version": 3
   },
   "file_extension": ".py",
   "mimetype": "text/x-python",
   "name": "python",
   "nbconvert_exporter": "python",
   "pygments_lexer": "ipython3",
   "version": "3.11.3"
  },
  "orig_nbformat": 4
 },
 "nbformat": 4,
 "nbformat_minor": 2
}
