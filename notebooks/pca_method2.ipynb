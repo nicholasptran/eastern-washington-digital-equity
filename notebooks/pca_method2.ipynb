{
 "cells": [
  {
   "attachments": {},
   "cell_type": "markdown",
   "metadata": {
    "slideshow": {
     "slide_type": "slide"
    }
   },
   "source": [
    "# Eastern Washington Digital Equity"
   ]
  },
  {
   "attachments": {},
   "cell_type": "markdown",
   "metadata": {},
   "source": [
    "## Nicholas Tran, Juliana Reyes, Trevor Myers"
   ]
  },
  {
   "attachments": {},
   "cell_type": "markdown",
   "metadata": {
    "slideshow": {
     "slide_type": "slide"
    }
   },
   "source": [
    "# PCA - Method 1"
   ]
  },
  {
   "attachments": {},
   "cell_type": "markdown",
   "metadata": {
    "slideshow": {
     "slide_type": "skip"
    }
   },
   "source": [
    "jupyter nbconvert notebooks/pca_method2.ipynb --to slides --post serve --SlidesExporter.reveal_scroll=True"
   ]
  },
  {
   "attachments": {},
   "cell_type": "markdown",
   "metadata": {
    "slideshow": {
     "slide_type": "fragment"
    }
   },
   "source": [
    "## Use PC1 As Index"
   ]
  },
  {
   "attachments": {},
   "cell_type": "markdown",
   "metadata": {
    "slideshow": {
     "slide_type": "fragment"
    }
   },
   "source": [
    "## Use Correlation P Values for Feature Selection"
   ]
  },
  {
   "attachments": {},
   "cell_type": "markdown",
   "metadata": {
    "slideshow": {
     "slide_type": "fragment"
    }
   },
   "source": [
    "## Create New Dataset w/ Removed Variables"
   ]
  },
  {
   "attachments": {},
   "cell_type": "markdown",
   "metadata": {
    "slideshow": {
     "slide_type": "fragment"
    }
   },
   "source": [
    "## Use Stepwise Regression for Final Coefficients"
   ]
  },
  {
   "attachments": {},
   "cell_type": "markdown",
   "metadata": {
    "slideshow": {
     "slide_type": "slide"
    }
   },
   "source": [
    "## Prepare The Data"
   ]
  },
  {
   "attachments": {},
   "cell_type": "markdown",
   "metadata": {
    "slideshow": {
     "slide_type": "subslide"
    }
   },
   "source": [
    "### Load The Libraries"
   ]
  },
  {
   "cell_type": "code",
   "execution_count": 19,
   "metadata": {
    "vscode": {
     "languageId": "r"
    }
   },
   "outputs": [],
   "source": [
    "library(tidyverse, quietly = TRUE) # data manipulation\n",
    "library(psych, quietly = TRUE) # KMO\n",
    "library(Hmisc, quietly = TRUE) # correlation matrix\n",
    "library(leaps) # stepwise regression\n"
   ]
  },
  {
   "attachments": {},
   "cell_type": "markdown",
   "metadata": {
    "slideshow": {
     "slide_type": "subslide"
    }
   },
   "source": [
    "### Get The Data"
   ]
  },
  {
   "cell_type": "code",
   "execution_count": 20,
   "metadata": {
    "vscode": {
     "languageId": "r"
    }
   },
   "outputs": [
    {
     "data": {
      "text/html": [
       "<table class=\"dataframe\">\n",
       "<caption>A data.frame: 6 × 11</caption>\n",
       "<thead>\n",
       "\t<tr><th></th><th scope=col>NAME</th><th scope=col>GEOID</th><th scope=col>has_computer</th><th scope=col>with_internet</th><th scope=col>sixtyfive_and_older</th><th scope=col>median_income</th><th scope=col>number_providers</th><th scope=col>mean_lowest_cost</th><th scope=col>mean_d_mbps</th><th scope=col>mean_u_mbps</th><th scope=col>mean_lat_ms</th></tr>\n",
       "\t<tr><th></th><th scope=col>&lt;chr&gt;</th><th scope=col>&lt;dbl&gt;</th><th scope=col>&lt;int&gt;</th><th scope=col>&lt;int&gt;</th><th scope=col>&lt;int&gt;</th><th scope=col>&lt;int&gt;</th><th scope=col>&lt;dbl&gt;</th><th scope=col>&lt;dbl&gt;</th><th scope=col>&lt;dbl&gt;</th><th scope=col>&lt;dbl&gt;</th><th scope=col>&lt;dbl&gt;</th></tr>\n",
       "</thead>\n",
       "<tbody>\n",
       "\t<tr><th scope=row>1</th><td>Census Tract 9601, Asotin County, Washington</td><td>53003960100</td><td>1664</td><td>1569</td><td>1337</td><td>73942</td><td>12</td><td>58.00000</td><td>110.3274</td><td>41.78210</td><td>51.70445</td></tr>\n",
       "\t<tr><th scope=row>2</th><td>Census Tract 9602, Asotin County, Washington</td><td>53003960200</td><td>1872</td><td>1780</td><td>1352</td><td>72988</td><td>13</td><td>60.07692</td><td>145.7848</td><td>22.88731</td><td>24.62630</td></tr>\n",
       "\t<tr><th scope=row>3</th><td>Census Tract 9603, Asotin County, Washington</td><td>53003960300</td><td>1279</td><td>1156</td><td> 396</td><td>38077</td><td>11</td><td>60.00000</td><td>173.4079</td><td>27.06202</td><td>29.98058</td></tr>\n",
       "\t<tr><th scope=row>4</th><td>Census Tract 9604, Asotin County, Washington</td><td>53003960400</td><td> 941</td><td> 805</td><td> 647</td><td>38777</td><td> 8</td><td>62.50000</td><td>127.6005</td><td>23.53829</td><td>22.16379</td></tr>\n",
       "\t<tr><th scope=row>5</th><td>Census Tract 9605, Asotin County, Washington</td><td>53003960500</td><td>1345</td><td>1198</td><td> 635</td><td>42639</td><td> 8</td><td>62.50000</td><td>192.4299</td><td>21.68565</td><td>21.66087</td></tr>\n",
       "\t<tr><th scope=row>6</th><td>Census Tract 9606, Asotin County, Washington</td><td>53003960600</td><td>1542</td><td>1392</td><td> 909</td><td>53947</td><td> 9</td><td>58.88889</td><td>151.0552</td><td>23.52123</td><td>26.18557</td></tr>\n",
       "</tbody>\n",
       "</table>\n"
      ],
      "text/latex": [
       "A data.frame: 6 × 11\n",
       "\\begin{tabular}{r|lllllllllll}\n",
       "  & NAME & GEOID & has\\_computer & with\\_internet & sixtyfive\\_and\\_older & median\\_income & number\\_providers & mean\\_lowest\\_cost & mean\\_d\\_mbps & mean\\_u\\_mbps & mean\\_lat\\_ms\\\\\n",
       "  & <chr> & <dbl> & <int> & <int> & <int> & <int> & <dbl> & <dbl> & <dbl> & <dbl> & <dbl>\\\\\n",
       "\\hline\n",
       "\t1 & Census Tract 9601, Asotin County, Washington & 53003960100 & 1664 & 1569 & 1337 & 73942 & 12 & 58.00000 & 110.3274 & 41.78210 & 51.70445\\\\\n",
       "\t2 & Census Tract 9602, Asotin County, Washington & 53003960200 & 1872 & 1780 & 1352 & 72988 & 13 & 60.07692 & 145.7848 & 22.88731 & 24.62630\\\\\n",
       "\t3 & Census Tract 9603, Asotin County, Washington & 53003960300 & 1279 & 1156 &  396 & 38077 & 11 & 60.00000 & 173.4079 & 27.06202 & 29.98058\\\\\n",
       "\t4 & Census Tract 9604, Asotin County, Washington & 53003960400 &  941 &  805 &  647 & 38777 &  8 & 62.50000 & 127.6005 & 23.53829 & 22.16379\\\\\n",
       "\t5 & Census Tract 9605, Asotin County, Washington & 53003960500 & 1345 & 1198 &  635 & 42639 &  8 & 62.50000 & 192.4299 & 21.68565 & 21.66087\\\\\n",
       "\t6 & Census Tract 9606, Asotin County, Washington & 53003960600 & 1542 & 1392 &  909 & 53947 &  9 & 58.88889 & 151.0552 & 23.52123 & 26.18557\\\\\n",
       "\\end{tabular}\n"
      ],
      "text/markdown": [
       "\n",
       "A data.frame: 6 × 11\n",
       "\n",
       "| <!--/--> | NAME &lt;chr&gt; | GEOID &lt;dbl&gt; | has_computer &lt;int&gt; | with_internet &lt;int&gt; | sixtyfive_and_older &lt;int&gt; | median_income &lt;int&gt; | number_providers &lt;dbl&gt; | mean_lowest_cost &lt;dbl&gt; | mean_d_mbps &lt;dbl&gt; | mean_u_mbps &lt;dbl&gt; | mean_lat_ms &lt;dbl&gt; |\n",
       "|---|---|---|---|---|---|---|---|---|---|---|---|\n",
       "| 1 | Census Tract 9601, Asotin County, Washington | 53003960100 | 1664 | 1569 | 1337 | 73942 | 12 | 58.00000 | 110.3274 | 41.78210 | 51.70445 |\n",
       "| 2 | Census Tract 9602, Asotin County, Washington | 53003960200 | 1872 | 1780 | 1352 | 72988 | 13 | 60.07692 | 145.7848 | 22.88731 | 24.62630 |\n",
       "| 3 | Census Tract 9603, Asotin County, Washington | 53003960300 | 1279 | 1156 |  396 | 38077 | 11 | 60.00000 | 173.4079 | 27.06202 | 29.98058 |\n",
       "| 4 | Census Tract 9604, Asotin County, Washington | 53003960400 |  941 |  805 |  647 | 38777 |  8 | 62.50000 | 127.6005 | 23.53829 | 22.16379 |\n",
       "| 5 | Census Tract 9605, Asotin County, Washington | 53003960500 | 1345 | 1198 |  635 | 42639 |  8 | 62.50000 | 192.4299 | 21.68565 | 21.66087 |\n",
       "| 6 | Census Tract 9606, Asotin County, Washington | 53003960600 | 1542 | 1392 |  909 | 53947 |  9 | 58.88889 | 151.0552 | 23.52123 | 26.18557 |\n",
       "\n"
      ],
      "text/plain": [
       "  NAME                                         GEOID       has_computer\n",
       "1 Census Tract 9601, Asotin County, Washington 53003960100 1664        \n",
       "2 Census Tract 9602, Asotin County, Washington 53003960200 1872        \n",
       "3 Census Tract 9603, Asotin County, Washington 53003960300 1279        \n",
       "4 Census Tract 9604, Asotin County, Washington 53003960400  941        \n",
       "5 Census Tract 9605, Asotin County, Washington 53003960500 1345        \n",
       "6 Census Tract 9606, Asotin County, Washington 53003960600 1542        \n",
       "  with_internet sixtyfive_and_older median_income number_providers\n",
       "1 1569          1337                73942         12              \n",
       "2 1780          1352                72988         13              \n",
       "3 1156           396                38077         11              \n",
       "4  805           647                38777          8              \n",
       "5 1198           635                42639          8              \n",
       "6 1392           909                53947          9              \n",
       "  mean_lowest_cost mean_d_mbps mean_u_mbps mean_lat_ms\n",
       "1 58.00000         110.3274    41.78210    51.70445   \n",
       "2 60.07692         145.7848    22.88731    24.62630   \n",
       "3 60.00000         173.4079    27.06202    29.98058   \n",
       "4 62.50000         127.6005    23.53829    22.16379   \n",
       "5 62.50000         192.4299    21.68565    21.66087   \n",
       "6 58.88889         151.0552    23.52123    26.18557   "
      ]
     },
     "metadata": {},
     "output_type": "display_data"
    }
   ],
   "source": [
    "clean_data <- read.csv(\"../data/combined_data.csv\")\n",
    "data <- read.csv(\"../data/combined_data.csv\")\n",
    "head(data)\n"
   ]
  },
  {
   "cell_type": "code",
   "execution_count": 21,
   "metadata": {
    "vscode": {
     "languageId": "r"
    }
   },
   "outputs": [
    {
     "data": {
      "text/html": [
       "<ol>\n",
       "\t<li>'NAME'</li>\n",
       "\t<li>'GEOID'</li>\n",
       "\t<li>'has_computer'</li>\n",
       "\t<li>'with_internet'</li>\n",
       "\t<li>'sixtyfive_and_older'</li>\n",
       "\t<li>'median_income'</li>\n",
       "\t<li>'number_providers'</li>\n",
       "\t<li>'mean_lowest_cost'</li>\n",
       "\t<li>'mean_d_mbps'</li>\n",
       "\t<li>'mean_u_mbps'</li>\n",
       "\t<li>'mean_lat_ms'</li>\n",
       "</ol>\n"
      ],
      "text/latex": [
       "\\begin{enumerate}\n",
       "\\item 'NAME'\n",
       "\\item 'GEOID'\n",
       "\\item 'has\\_computer'\n",
       "\\item 'with\\_internet'\n",
       "\\item 'sixtyfive\\_and\\_older'\n",
       "\\item 'median\\_income'\n",
       "\\item 'number\\_providers'\n",
       "\\item 'mean\\_lowest\\_cost'\n",
       "\\item 'mean\\_d\\_mbps'\n",
       "\\item 'mean\\_u\\_mbps'\n",
       "\\item 'mean\\_lat\\_ms'\n",
       "\\end{enumerate}\n"
      ],
      "text/markdown": [
       "1. 'NAME'\n",
       "2. 'GEOID'\n",
       "3. 'has_computer'\n",
       "4. 'with_internet'\n",
       "5. 'sixtyfive_and_older'\n",
       "6. 'median_income'\n",
       "7. 'number_providers'\n",
       "8. 'mean_lowest_cost'\n",
       "9. 'mean_d_mbps'\n",
       "10. 'mean_u_mbps'\n",
       "11. 'mean_lat_ms'\n",
       "\n",
       "\n"
      ],
      "text/plain": [
       "[[1]]\n",
       "[1] \"NAME\"\n",
       "\n",
       "[[2]]\n",
       "[1] \"GEOID\"\n",
       "\n",
       "[[3]]\n",
       "[1] \"has_computer\"\n",
       "\n",
       "[[4]]\n",
       "[1] \"with_internet\"\n",
       "\n",
       "[[5]]\n",
       "[1] \"sixtyfive_and_older\"\n",
       "\n",
       "[[6]]\n",
       "[1] \"median_income\"\n",
       "\n",
       "[[7]]\n",
       "[1] \"number_providers\"\n",
       "\n",
       "[[8]]\n",
       "[1] \"mean_lowest_cost\"\n",
       "\n",
       "[[9]]\n",
       "[1] \"mean_d_mbps\"\n",
       "\n",
       "[[10]]\n",
       "[1] \"mean_u_mbps\"\n",
       "\n",
       "[[11]]\n",
       "[1] \"mean_lat_ms\"\n"
      ]
     },
     "metadata": {},
     "output_type": "display_data"
    }
   ],
   "source": [
    "as.list(names(data))\n"
   ]
  },
  {
   "attachments": {},
   "cell_type": "markdown",
   "metadata": {
    "slideshow": {
     "slide_type": "subslide"
    }
   },
   "source": [
    "#### Remove Unnecessary Columns"
   ]
  },
  {
   "cell_type": "code",
   "execution_count": 22,
   "metadata": {
    "vscode": {
     "languageId": "r"
    }
   },
   "outputs": [
    {
     "data": {
      "text/html": [
       "<table class=\"dataframe\">\n",
       "<caption>A data.frame: 6 × 9</caption>\n",
       "<thead>\n",
       "\t<tr><th></th><th scope=col>has_computer</th><th scope=col>with_internet</th><th scope=col>sixtyfive_and_older</th><th scope=col>median_income</th><th scope=col>number_providers</th><th scope=col>mean_lowest_cost</th><th scope=col>mean_d_mbps</th><th scope=col>mean_u_mbps</th><th scope=col>mean_lat_ms</th></tr>\n",
       "\t<tr><th></th><th scope=col>&lt;int&gt;</th><th scope=col>&lt;int&gt;</th><th scope=col>&lt;int&gt;</th><th scope=col>&lt;int&gt;</th><th scope=col>&lt;dbl&gt;</th><th scope=col>&lt;dbl&gt;</th><th scope=col>&lt;dbl&gt;</th><th scope=col>&lt;dbl&gt;</th><th scope=col>&lt;dbl&gt;</th></tr>\n",
       "</thead>\n",
       "<tbody>\n",
       "\t<tr><th scope=row>1</th><td>1664</td><td>1569</td><td>1337</td><td>73942</td><td>12</td><td>58.00000</td><td>110.3274</td><td>41.78210</td><td>51.70445</td></tr>\n",
       "\t<tr><th scope=row>2</th><td>1872</td><td>1780</td><td>1352</td><td>72988</td><td>13</td><td>60.07692</td><td>145.7848</td><td>22.88731</td><td>24.62630</td></tr>\n",
       "\t<tr><th scope=row>3</th><td>1279</td><td>1156</td><td> 396</td><td>38077</td><td>11</td><td>60.00000</td><td>173.4079</td><td>27.06202</td><td>29.98058</td></tr>\n",
       "\t<tr><th scope=row>4</th><td> 941</td><td> 805</td><td> 647</td><td>38777</td><td> 8</td><td>62.50000</td><td>127.6005</td><td>23.53829</td><td>22.16379</td></tr>\n",
       "\t<tr><th scope=row>5</th><td>1345</td><td>1198</td><td> 635</td><td>42639</td><td> 8</td><td>62.50000</td><td>192.4299</td><td>21.68565</td><td>21.66087</td></tr>\n",
       "\t<tr><th scope=row>6</th><td>1542</td><td>1392</td><td> 909</td><td>53947</td><td> 9</td><td>58.88889</td><td>151.0552</td><td>23.52123</td><td>26.18557</td></tr>\n",
       "</tbody>\n",
       "</table>\n"
      ],
      "text/latex": [
       "A data.frame: 6 × 9\n",
       "\\begin{tabular}{r|lllllllll}\n",
       "  & has\\_computer & with\\_internet & sixtyfive\\_and\\_older & median\\_income & number\\_providers & mean\\_lowest\\_cost & mean\\_d\\_mbps & mean\\_u\\_mbps & mean\\_lat\\_ms\\\\\n",
       "  & <int> & <int> & <int> & <int> & <dbl> & <dbl> & <dbl> & <dbl> & <dbl>\\\\\n",
       "\\hline\n",
       "\t1 & 1664 & 1569 & 1337 & 73942 & 12 & 58.00000 & 110.3274 & 41.78210 & 51.70445\\\\\n",
       "\t2 & 1872 & 1780 & 1352 & 72988 & 13 & 60.07692 & 145.7848 & 22.88731 & 24.62630\\\\\n",
       "\t3 & 1279 & 1156 &  396 & 38077 & 11 & 60.00000 & 173.4079 & 27.06202 & 29.98058\\\\\n",
       "\t4 &  941 &  805 &  647 & 38777 &  8 & 62.50000 & 127.6005 & 23.53829 & 22.16379\\\\\n",
       "\t5 & 1345 & 1198 &  635 & 42639 &  8 & 62.50000 & 192.4299 & 21.68565 & 21.66087\\\\\n",
       "\t6 & 1542 & 1392 &  909 & 53947 &  9 & 58.88889 & 151.0552 & 23.52123 & 26.18557\\\\\n",
       "\\end{tabular}\n"
      ],
      "text/markdown": [
       "\n",
       "A data.frame: 6 × 9\n",
       "\n",
       "| <!--/--> | has_computer &lt;int&gt; | with_internet &lt;int&gt; | sixtyfive_and_older &lt;int&gt; | median_income &lt;int&gt; | number_providers &lt;dbl&gt; | mean_lowest_cost &lt;dbl&gt; | mean_d_mbps &lt;dbl&gt; | mean_u_mbps &lt;dbl&gt; | mean_lat_ms &lt;dbl&gt; |\n",
       "|---|---|---|---|---|---|---|---|---|---|\n",
       "| 1 | 1664 | 1569 | 1337 | 73942 | 12 | 58.00000 | 110.3274 | 41.78210 | 51.70445 |\n",
       "| 2 | 1872 | 1780 | 1352 | 72988 | 13 | 60.07692 | 145.7848 | 22.88731 | 24.62630 |\n",
       "| 3 | 1279 | 1156 |  396 | 38077 | 11 | 60.00000 | 173.4079 | 27.06202 | 29.98058 |\n",
       "| 4 |  941 |  805 |  647 | 38777 |  8 | 62.50000 | 127.6005 | 23.53829 | 22.16379 |\n",
       "| 5 | 1345 | 1198 |  635 | 42639 |  8 | 62.50000 | 192.4299 | 21.68565 | 21.66087 |\n",
       "| 6 | 1542 | 1392 |  909 | 53947 |  9 | 58.88889 | 151.0552 | 23.52123 | 26.18557 |\n",
       "\n"
      ],
      "text/plain": [
       "  has_computer with_internet sixtyfive_and_older median_income number_providers\n",
       "1 1664         1569          1337                73942         12              \n",
       "2 1872         1780          1352                72988         13              \n",
       "3 1279         1156           396                38077         11              \n",
       "4  941          805           647                38777          8              \n",
       "5 1345         1198           635                42639          8              \n",
       "6 1542         1392           909                53947          9              \n",
       "  mean_lowest_cost mean_d_mbps mean_u_mbps mean_lat_ms\n",
       "1 58.00000         110.3274    41.78210    51.70445   \n",
       "2 60.07692         145.7848    22.88731    24.62630   \n",
       "3 60.00000         173.4079    27.06202    29.98058   \n",
       "4 62.50000         127.6005    23.53829    22.16379   \n",
       "5 62.50000         192.4299    21.68565    21.66087   \n",
       "6 58.88889         151.0552    23.52123    26.18557   "
      ]
     },
     "metadata": {},
     "output_type": "display_data"
    }
   ],
   "source": [
    "data <- data %>% dplyr::select(-NAME, -GEOID)\n",
    "head(data)\n"
   ]
  },
  {
   "attachments": {},
   "cell_type": "markdown",
   "metadata": {
    "slideshow": {
     "slide_type": "subslide"
    }
   },
   "source": [
    "#### Check Data To See If We Can Use Dimensionality Reduction Techniques"
   ]
  },
  {
   "cell_type": "code",
   "execution_count": 23,
   "metadata": {
    "vscode": {
     "languageId": "r"
    }
   },
   "outputs": [
    {
     "data": {
      "text/plain": [
       "Kaiser-Meyer-Olkin factor adequacy\n",
       "Call: KMO(r = data)\n",
       "Overall MSA =  0.66\n",
       "MSA for each item = \n",
       "       has_computer       with_internet sixtyfive_and_older       median_income \n",
       "               0.60                0.61                0.87                0.89 \n",
       "   number_providers    mean_lowest_cost         mean_d_mbps         mean_u_mbps \n",
       "               0.66                0.56                0.68                0.64 \n",
       "        mean_lat_ms \n",
       "               0.69 "
      ]
     },
     "metadata": {},
     "output_type": "display_data"
    }
   ],
   "source": [
    "KMO(data)\n"
   ]
  },
  {
   "attachments": {},
   "cell_type": "markdown",
   "metadata": {
    "slideshow": {
     "slide_type": "subslide"
    }
   },
   "source": [
    "#### Standardize The Data"
   ]
  },
  {
   "cell_type": "code",
   "execution_count": 24,
   "metadata": {
    "vscode": {
     "languageId": "r"
    }
   },
   "outputs": [],
   "source": [
    "scaled_data <- scale(data)\n"
   ]
  },
  {
   "cell_type": "code",
   "execution_count": 25,
   "metadata": {
    "slideshow": {
     "slide_type": "fragment"
    },
    "vscode": {
     "languageId": "r"
    }
   },
   "outputs": [
    {
     "data": {
      "text/html": [
       "<table class=\"dataframe\">\n",
       "<caption>A matrix: 6 × 9 of type dbl</caption>\n",
       "<thead>\n",
       "\t<tr><th scope=col>has_computer</th><th scope=col>with_internet</th><th scope=col>sixtyfive_and_older</th><th scope=col>median_income</th><th scope=col>number_providers</th><th scope=col>mean_lowest_cost</th><th scope=col>mean_d_mbps</th><th scope=col>mean_u_mbps</th><th scope=col>mean_lat_ms</th></tr>\n",
       "</thead>\n",
       "<tbody>\n",
       "\t<tr><td> 0.50245011</td><td> 0.5167430</td><td> 2.23493253</td><td>0.07418486</td><td> 1.7094218</td><td>-0.18458632</td><td>-1.05913969</td><td> 0.2831385</td><td> 1.17991288</td></tr>\n",
       "\t<tr><td> 0.88153598</td><td> 0.9194434</td><td> 2.28240921</td><td>0.07416551</td><td> 2.2108891</td><td> 0.41923513</td><td>-0.64056563</td><td>-0.4304467</td><td>-0.15416598</td></tr>\n",
       "\t<tr><td>-0.19922325</td><td>-0.2714809</td><td>-0.74343819</td><td>0.07345717</td><td> 1.2079545</td><td> 0.39687137</td><td>-0.31447576</td><td>-0.2727836</td><td> 0.10962741</td></tr>\n",
       "\t<tr><td>-0.81523778</td><td>-0.9413759</td><td> 0.05100501</td><td>0.07347137</td><td>-0.2964475</td><td> 1.12369349</td><td>-0.85523159</td><td>-0.4058615</td><td>-0.27548794</td></tr>\n",
       "\t<tr><td>-0.07893639</td><td>-0.1913226</td><td> 0.01302366</td><td>0.07354973</td><td>-0.2964475</td><td> 1.12369349</td><td>-0.08992031</td><td>-0.4758288</td><td>-0.30026584</td></tr>\n",
       "\t<tr><td> 0.28010167</td><td> 0.1789328</td><td> 0.88026444</td><td>0.07377917</td><td> 0.2050198</td><td> 0.07383932</td><td>-0.57834859</td><td>-0.4065058</td><td>-0.07734433</td></tr>\n",
       "</tbody>\n",
       "</table>\n"
      ],
      "text/latex": [
       "A matrix: 6 × 9 of type dbl\n",
       "\\begin{tabular}{lllllllll}\n",
       " has\\_computer & with\\_internet & sixtyfive\\_and\\_older & median\\_income & number\\_providers & mean\\_lowest\\_cost & mean\\_d\\_mbps & mean\\_u\\_mbps & mean\\_lat\\_ms\\\\\n",
       "\\hline\n",
       "\t  0.50245011 &  0.5167430 &  2.23493253 & 0.07418486 &  1.7094218 & -0.18458632 & -1.05913969 &  0.2831385 &  1.17991288\\\\\n",
       "\t  0.88153598 &  0.9194434 &  2.28240921 & 0.07416551 &  2.2108891 &  0.41923513 & -0.64056563 & -0.4304467 & -0.15416598\\\\\n",
       "\t -0.19922325 & -0.2714809 & -0.74343819 & 0.07345717 &  1.2079545 &  0.39687137 & -0.31447576 & -0.2727836 &  0.10962741\\\\\n",
       "\t -0.81523778 & -0.9413759 &  0.05100501 & 0.07347137 & -0.2964475 &  1.12369349 & -0.85523159 & -0.4058615 & -0.27548794\\\\\n",
       "\t -0.07893639 & -0.1913226 &  0.01302366 & 0.07354973 & -0.2964475 &  1.12369349 & -0.08992031 & -0.4758288 & -0.30026584\\\\\n",
       "\t  0.28010167 &  0.1789328 &  0.88026444 & 0.07377917 &  0.2050198 &  0.07383932 & -0.57834859 & -0.4065058 & -0.07734433\\\\\n",
       "\\end{tabular}\n"
      ],
      "text/markdown": [
       "\n",
       "A matrix: 6 × 9 of type dbl\n",
       "\n",
       "| has_computer | with_internet | sixtyfive_and_older | median_income | number_providers | mean_lowest_cost | mean_d_mbps | mean_u_mbps | mean_lat_ms |\n",
       "|---|---|---|---|---|---|---|---|---|\n",
       "|  0.50245011 |  0.5167430 |  2.23493253 | 0.07418486 |  1.7094218 | -0.18458632 | -1.05913969 |  0.2831385 |  1.17991288 |\n",
       "|  0.88153598 |  0.9194434 |  2.28240921 | 0.07416551 |  2.2108891 |  0.41923513 | -0.64056563 | -0.4304467 | -0.15416598 |\n",
       "| -0.19922325 | -0.2714809 | -0.74343819 | 0.07345717 |  1.2079545 |  0.39687137 | -0.31447576 | -0.2727836 |  0.10962741 |\n",
       "| -0.81523778 | -0.9413759 |  0.05100501 | 0.07347137 | -0.2964475 |  1.12369349 | -0.85523159 | -0.4058615 | -0.27548794 |\n",
       "| -0.07893639 | -0.1913226 |  0.01302366 | 0.07354973 | -0.2964475 |  1.12369349 | -0.08992031 | -0.4758288 | -0.30026584 |\n",
       "|  0.28010167 |  0.1789328 |  0.88026444 | 0.07377917 |  0.2050198 |  0.07383932 | -0.57834859 | -0.4065058 | -0.07734433 |\n",
       "\n"
      ],
      "text/plain": [
       "     has_computer with_internet sixtyfive_and_older median_income\n",
       "[1,]  0.50245011   0.5167430     2.23493253         0.07418486   \n",
       "[2,]  0.88153598   0.9194434     2.28240921         0.07416551   \n",
       "[3,] -0.19922325  -0.2714809    -0.74343819         0.07345717   \n",
       "[4,] -0.81523778  -0.9413759     0.05100501         0.07347137   \n",
       "[5,] -0.07893639  -0.1913226     0.01302366         0.07354973   \n",
       "[6,]  0.28010167   0.1789328     0.88026444         0.07377917   \n",
       "     number_providers mean_lowest_cost mean_d_mbps mean_u_mbps mean_lat_ms\n",
       "[1,]  1.7094218       -0.18458632      -1.05913969  0.2831385   1.17991288\n",
       "[2,]  2.2108891        0.41923513      -0.64056563 -0.4304467  -0.15416598\n",
       "[3,]  1.2079545        0.39687137      -0.31447576 -0.2727836   0.10962741\n",
       "[4,] -0.2964475        1.12369349      -0.85523159 -0.4058615  -0.27548794\n",
       "[5,] -0.2964475        1.12369349      -0.08992031 -0.4758288  -0.30026584\n",
       "[6,]  0.2050198        0.07383932      -0.57834859 -0.4065058  -0.07734433"
      ]
     },
     "metadata": {},
     "output_type": "display_data"
    }
   ],
   "source": [
    "head(scaled_data)\n"
   ]
  },
  {
   "attachments": {},
   "cell_type": "markdown",
   "metadata": {
    "slideshow": {
     "slide_type": "subslide"
    }
   },
   "source": [
    "### Examine The Data"
   ]
  },
  {
   "attachments": {},
   "cell_type": "markdown",
   "metadata": {
    "slideshow": {
     "slide_type": "subslide"
    }
   },
   "source": [
    "#### Variance"
   ]
  },
  {
   "cell_type": "code",
   "execution_count": 26,
   "metadata": {
    "vscode": {
     "languageId": "r"
    }
   },
   "outputs": [
    {
     "data": {
      "text/html": [
       "<table class=\"dataframe\">\n",
       "<caption>A matrix: 9 × 9 of type dbl</caption>\n",
       "<thead>\n",
       "\t<tr><th></th><th scope=col>has_computer</th><th scope=col>with_internet</th><th scope=col>sixtyfive_and_older</th><th scope=col>median_income</th><th scope=col>number_providers</th><th scope=col>mean_lowest_cost</th><th scope=col>mean_d_mbps</th><th scope=col>mean_u_mbps</th><th scope=col>mean_lat_ms</th></tr>\n",
       "</thead>\n",
       "<tbody>\n",
       "\t<tr><th scope=row>has_computer</th><td> 1.0000000</td><td> 0.9894358</td><td> 0.63073622</td><td> 0.16291986</td><td>-0.11586967</td><td> 0.10884185</td><td> 0.30554032</td><td> 0.19648189</td><td>-0.20130674</td></tr>\n",
       "\t<tr><th scope=row>with_internet</th><td> 0.9894358</td><td> 1.0000000</td><td> 0.62529208</td><td> 0.16040888</td><td>-0.12882664</td><td> 0.13640579</td><td> 0.34507339</td><td> 0.19906151</td><td>-0.23671663</td></tr>\n",
       "\t<tr><th scope=row>sixtyfive_and_older</th><td> 0.6307362</td><td> 0.6252921</td><td> 1.00000000</td><td> 0.14854040</td><td> 0.05292992</td><td> 0.05050125</td><td>-0.04232679</td><td>-0.16920740</td><td> 0.10201766</td></tr>\n",
       "\t<tr><th scope=row>median_income</th><td> 0.1629199</td><td> 0.1604089</td><td> 0.14854040</td><td> 1.00000000</td><td> 0.02199604</td><td>-0.05377681</td><td>-0.04773346</td><td>-0.01815921</td><td> 0.05852071</td></tr>\n",
       "\t<tr><th scope=row>number_providers</th><td>-0.1158697</td><td>-0.1288266</td><td> 0.05292992</td><td> 0.02199604</td><td> 1.00000000</td><td>-0.32945829</td><td>-0.48020798</td><td>-0.01627282</td><td> 0.44680246</td></tr>\n",
       "\t<tr><th scope=row>mean_lowest_cost</th><td> 0.1088418</td><td> 0.1364058</td><td> 0.05050125</td><td>-0.05377681</td><td>-0.32945829</td><td> 1.00000000</td><td> 0.19664282</td><td> 0.08436356</td><td>-0.18109139</td></tr>\n",
       "\t<tr><th scope=row>mean_d_mbps</th><td> 0.3055403</td><td> 0.3450734</td><td>-0.04232679</td><td>-0.04773346</td><td>-0.48020798</td><td> 0.19664282</td><td> 1.00000000</td><td> 0.40439966</td><td>-0.83156103</td></tr>\n",
       "\t<tr><th scope=row>mean_u_mbps</th><td> 0.1964819</td><td> 0.1990615</td><td>-0.16920740</td><td>-0.01815921</td><td>-0.01627282</td><td> 0.08436356</td><td> 0.40439966</td><td> 1.00000000</td><td>-0.42114628</td></tr>\n",
       "\t<tr><th scope=row>mean_lat_ms</th><td>-0.2013067</td><td>-0.2367166</td><td> 0.10201766</td><td> 0.05852071</td><td> 0.44680246</td><td>-0.18109139</td><td>-0.83156103</td><td>-0.42114628</td><td> 1.00000000</td></tr>\n",
       "</tbody>\n",
       "</table>\n"
      ],
      "text/latex": [
       "A matrix: 9 × 9 of type dbl\n",
       "\\begin{tabular}{r|lllllllll}\n",
       "  & has\\_computer & with\\_internet & sixtyfive\\_and\\_older & median\\_income & number\\_providers & mean\\_lowest\\_cost & mean\\_d\\_mbps & mean\\_u\\_mbps & mean\\_lat\\_ms\\\\\n",
       "\\hline\n",
       "\thas\\_computer &  1.0000000 &  0.9894358 &  0.63073622 &  0.16291986 & -0.11586967 &  0.10884185 &  0.30554032 &  0.19648189 & -0.20130674\\\\\n",
       "\twith\\_internet &  0.9894358 &  1.0000000 &  0.62529208 &  0.16040888 & -0.12882664 &  0.13640579 &  0.34507339 &  0.19906151 & -0.23671663\\\\\n",
       "\tsixtyfive\\_and\\_older &  0.6307362 &  0.6252921 &  1.00000000 &  0.14854040 &  0.05292992 &  0.05050125 & -0.04232679 & -0.16920740 &  0.10201766\\\\\n",
       "\tmedian\\_income &  0.1629199 &  0.1604089 &  0.14854040 &  1.00000000 &  0.02199604 & -0.05377681 & -0.04773346 & -0.01815921 &  0.05852071\\\\\n",
       "\tnumber\\_providers & -0.1158697 & -0.1288266 &  0.05292992 &  0.02199604 &  1.00000000 & -0.32945829 & -0.48020798 & -0.01627282 &  0.44680246\\\\\n",
       "\tmean\\_lowest\\_cost &  0.1088418 &  0.1364058 &  0.05050125 & -0.05377681 & -0.32945829 &  1.00000000 &  0.19664282 &  0.08436356 & -0.18109139\\\\\n",
       "\tmean\\_d\\_mbps &  0.3055403 &  0.3450734 & -0.04232679 & -0.04773346 & -0.48020798 &  0.19664282 &  1.00000000 &  0.40439966 & -0.83156103\\\\\n",
       "\tmean\\_u\\_mbps &  0.1964819 &  0.1990615 & -0.16920740 & -0.01815921 & -0.01627282 &  0.08436356 &  0.40439966 &  1.00000000 & -0.42114628\\\\\n",
       "\tmean\\_lat\\_ms & -0.2013067 & -0.2367166 &  0.10201766 &  0.05852071 &  0.44680246 & -0.18109139 & -0.83156103 & -0.42114628 &  1.00000000\\\\\n",
       "\\end{tabular}\n"
      ],
      "text/markdown": [
       "\n",
       "A matrix: 9 × 9 of type dbl\n",
       "\n",
       "| <!--/--> | has_computer | with_internet | sixtyfive_and_older | median_income | number_providers | mean_lowest_cost | mean_d_mbps | mean_u_mbps | mean_lat_ms |\n",
       "|---|---|---|---|---|---|---|---|---|---|\n",
       "| has_computer |  1.0000000 |  0.9894358 |  0.63073622 |  0.16291986 | -0.11586967 |  0.10884185 |  0.30554032 |  0.19648189 | -0.20130674 |\n",
       "| with_internet |  0.9894358 |  1.0000000 |  0.62529208 |  0.16040888 | -0.12882664 |  0.13640579 |  0.34507339 |  0.19906151 | -0.23671663 |\n",
       "| sixtyfive_and_older |  0.6307362 |  0.6252921 |  1.00000000 |  0.14854040 |  0.05292992 |  0.05050125 | -0.04232679 | -0.16920740 |  0.10201766 |\n",
       "| median_income |  0.1629199 |  0.1604089 |  0.14854040 |  1.00000000 |  0.02199604 | -0.05377681 | -0.04773346 | -0.01815921 |  0.05852071 |\n",
       "| number_providers | -0.1158697 | -0.1288266 |  0.05292992 |  0.02199604 |  1.00000000 | -0.32945829 | -0.48020798 | -0.01627282 |  0.44680246 |\n",
       "| mean_lowest_cost |  0.1088418 |  0.1364058 |  0.05050125 | -0.05377681 | -0.32945829 |  1.00000000 |  0.19664282 |  0.08436356 | -0.18109139 |\n",
       "| mean_d_mbps |  0.3055403 |  0.3450734 | -0.04232679 | -0.04773346 | -0.48020798 |  0.19664282 |  1.00000000 |  0.40439966 | -0.83156103 |\n",
       "| mean_u_mbps |  0.1964819 |  0.1990615 | -0.16920740 | -0.01815921 | -0.01627282 |  0.08436356 |  0.40439966 |  1.00000000 | -0.42114628 |\n",
       "| mean_lat_ms | -0.2013067 | -0.2367166 |  0.10201766 |  0.05852071 |  0.44680246 | -0.18109139 | -0.83156103 | -0.42114628 |  1.00000000 |\n",
       "\n"
      ],
      "text/plain": [
       "                    has_computer with_internet sixtyfive_and_older\n",
       "has_computer         1.0000000    0.9894358     0.63073622        \n",
       "with_internet        0.9894358    1.0000000     0.62529208        \n",
       "sixtyfive_and_older  0.6307362    0.6252921     1.00000000        \n",
       "median_income        0.1629199    0.1604089     0.14854040        \n",
       "number_providers    -0.1158697   -0.1288266     0.05292992        \n",
       "mean_lowest_cost     0.1088418    0.1364058     0.05050125        \n",
       "mean_d_mbps          0.3055403    0.3450734    -0.04232679        \n",
       "mean_u_mbps          0.1964819    0.1990615    -0.16920740        \n",
       "mean_lat_ms         -0.2013067   -0.2367166     0.10201766        \n",
       "                    median_income number_providers mean_lowest_cost mean_d_mbps\n",
       "has_computer         0.16291986   -0.11586967       0.10884185       0.30554032\n",
       "with_internet        0.16040888   -0.12882664       0.13640579       0.34507339\n",
       "sixtyfive_and_older  0.14854040    0.05292992       0.05050125      -0.04232679\n",
       "median_income        1.00000000    0.02199604      -0.05377681      -0.04773346\n",
       "number_providers     0.02199604    1.00000000      -0.32945829      -0.48020798\n",
       "mean_lowest_cost    -0.05377681   -0.32945829       1.00000000       0.19664282\n",
       "mean_d_mbps         -0.04773346   -0.48020798       0.19664282       1.00000000\n",
       "mean_u_mbps         -0.01815921   -0.01627282       0.08436356       0.40439966\n",
       "mean_lat_ms          0.05852071    0.44680246      -0.18109139      -0.83156103\n",
       "                    mean_u_mbps mean_lat_ms\n",
       "has_computer         0.19648189 -0.20130674\n",
       "with_internet        0.19906151 -0.23671663\n",
       "sixtyfive_and_older -0.16920740  0.10201766\n",
       "median_income       -0.01815921  0.05852071\n",
       "number_providers    -0.01627282  0.44680246\n",
       "mean_lowest_cost     0.08436356 -0.18109139\n",
       "mean_d_mbps          0.40439966 -0.83156103\n",
       "mean_u_mbps          1.00000000 -0.42114628\n",
       "mean_lat_ms         -0.42114628  1.00000000"
      ]
     },
     "metadata": {},
     "output_type": "display_data"
    }
   ],
   "source": [
    "var(scaled_data)\n"
   ]
  },
  {
   "attachments": {},
   "cell_type": "markdown",
   "metadata": {
    "slideshow": {
     "slide_type": "subslide"
    }
   },
   "source": [
    "#### Correlation"
   ]
  },
  {
   "cell_type": "code",
   "execution_count": 27,
   "metadata": {
    "vscode": {
     "languageId": "r"
    }
   },
   "outputs": [
    {
     "data": {
      "text/html": [
       "<table class=\"dataframe\">\n",
       "<caption>A matrix: 9 × 9 of type dbl</caption>\n",
       "<thead>\n",
       "\t<tr><th></th><th scope=col>has_computer</th><th scope=col>with_internet</th><th scope=col>sixtyfive_and_older</th><th scope=col>median_income</th><th scope=col>number_providers</th><th scope=col>mean_lowest_cost</th><th scope=col>mean_d_mbps</th><th scope=col>mean_u_mbps</th><th scope=col>mean_lat_ms</th></tr>\n",
       "</thead>\n",
       "<tbody>\n",
       "\t<tr><th scope=row>has_computer</th><td> 1.0000000</td><td> 0.9894358</td><td> 0.63073622</td><td> 0.16291986</td><td>-0.11586967</td><td> 0.10884185</td><td> 0.30554032</td><td> 0.19648189</td><td>-0.20130674</td></tr>\n",
       "\t<tr><th scope=row>with_internet</th><td> 0.9894358</td><td> 1.0000000</td><td> 0.62529208</td><td> 0.16040888</td><td>-0.12882664</td><td> 0.13640579</td><td> 0.34507339</td><td> 0.19906151</td><td>-0.23671663</td></tr>\n",
       "\t<tr><th scope=row>sixtyfive_and_older</th><td> 0.6307362</td><td> 0.6252921</td><td> 1.00000000</td><td> 0.14854040</td><td> 0.05292992</td><td> 0.05050125</td><td>-0.04232679</td><td>-0.16920740</td><td> 0.10201766</td></tr>\n",
       "\t<tr><th scope=row>median_income</th><td> 0.1629199</td><td> 0.1604089</td><td> 0.14854040</td><td> 1.00000000</td><td> 0.02199604</td><td>-0.05377681</td><td>-0.04773346</td><td>-0.01815921</td><td> 0.05852071</td></tr>\n",
       "\t<tr><th scope=row>number_providers</th><td>-0.1158697</td><td>-0.1288266</td><td> 0.05292992</td><td> 0.02199604</td><td> 1.00000000</td><td>-0.32945829</td><td>-0.48020798</td><td>-0.01627282</td><td> 0.44680246</td></tr>\n",
       "\t<tr><th scope=row>mean_lowest_cost</th><td> 0.1088418</td><td> 0.1364058</td><td> 0.05050125</td><td>-0.05377681</td><td>-0.32945829</td><td> 1.00000000</td><td> 0.19664282</td><td> 0.08436356</td><td>-0.18109139</td></tr>\n",
       "\t<tr><th scope=row>mean_d_mbps</th><td> 0.3055403</td><td> 0.3450734</td><td>-0.04232679</td><td>-0.04773346</td><td>-0.48020798</td><td> 0.19664282</td><td> 1.00000000</td><td> 0.40439966</td><td>-0.83156103</td></tr>\n",
       "\t<tr><th scope=row>mean_u_mbps</th><td> 0.1964819</td><td> 0.1990615</td><td>-0.16920740</td><td>-0.01815921</td><td>-0.01627282</td><td> 0.08436356</td><td> 0.40439966</td><td> 1.00000000</td><td>-0.42114628</td></tr>\n",
       "\t<tr><th scope=row>mean_lat_ms</th><td>-0.2013067</td><td>-0.2367166</td><td> 0.10201766</td><td> 0.05852071</td><td> 0.44680246</td><td>-0.18109139</td><td>-0.83156103</td><td>-0.42114628</td><td> 1.00000000</td></tr>\n",
       "</tbody>\n",
       "</table>\n"
      ],
      "text/latex": [
       "A matrix: 9 × 9 of type dbl\n",
       "\\begin{tabular}{r|lllllllll}\n",
       "  & has\\_computer & with\\_internet & sixtyfive\\_and\\_older & median\\_income & number\\_providers & mean\\_lowest\\_cost & mean\\_d\\_mbps & mean\\_u\\_mbps & mean\\_lat\\_ms\\\\\n",
       "\\hline\n",
       "\thas\\_computer &  1.0000000 &  0.9894358 &  0.63073622 &  0.16291986 & -0.11586967 &  0.10884185 &  0.30554032 &  0.19648189 & -0.20130674\\\\\n",
       "\twith\\_internet &  0.9894358 &  1.0000000 &  0.62529208 &  0.16040888 & -0.12882664 &  0.13640579 &  0.34507339 &  0.19906151 & -0.23671663\\\\\n",
       "\tsixtyfive\\_and\\_older &  0.6307362 &  0.6252921 &  1.00000000 &  0.14854040 &  0.05292992 &  0.05050125 & -0.04232679 & -0.16920740 &  0.10201766\\\\\n",
       "\tmedian\\_income &  0.1629199 &  0.1604089 &  0.14854040 &  1.00000000 &  0.02199604 & -0.05377681 & -0.04773346 & -0.01815921 &  0.05852071\\\\\n",
       "\tnumber\\_providers & -0.1158697 & -0.1288266 &  0.05292992 &  0.02199604 &  1.00000000 & -0.32945829 & -0.48020798 & -0.01627282 &  0.44680246\\\\\n",
       "\tmean\\_lowest\\_cost &  0.1088418 &  0.1364058 &  0.05050125 & -0.05377681 & -0.32945829 &  1.00000000 &  0.19664282 &  0.08436356 & -0.18109139\\\\\n",
       "\tmean\\_d\\_mbps &  0.3055403 &  0.3450734 & -0.04232679 & -0.04773346 & -0.48020798 &  0.19664282 &  1.00000000 &  0.40439966 & -0.83156103\\\\\n",
       "\tmean\\_u\\_mbps &  0.1964819 &  0.1990615 & -0.16920740 & -0.01815921 & -0.01627282 &  0.08436356 &  0.40439966 &  1.00000000 & -0.42114628\\\\\n",
       "\tmean\\_lat\\_ms & -0.2013067 & -0.2367166 &  0.10201766 &  0.05852071 &  0.44680246 & -0.18109139 & -0.83156103 & -0.42114628 &  1.00000000\\\\\n",
       "\\end{tabular}\n"
      ],
      "text/markdown": [
       "\n",
       "A matrix: 9 × 9 of type dbl\n",
       "\n",
       "| <!--/--> | has_computer | with_internet | sixtyfive_and_older | median_income | number_providers | mean_lowest_cost | mean_d_mbps | mean_u_mbps | mean_lat_ms |\n",
       "|---|---|---|---|---|---|---|---|---|---|\n",
       "| has_computer |  1.0000000 |  0.9894358 |  0.63073622 |  0.16291986 | -0.11586967 |  0.10884185 |  0.30554032 |  0.19648189 | -0.20130674 |\n",
       "| with_internet |  0.9894358 |  1.0000000 |  0.62529208 |  0.16040888 | -0.12882664 |  0.13640579 |  0.34507339 |  0.19906151 | -0.23671663 |\n",
       "| sixtyfive_and_older |  0.6307362 |  0.6252921 |  1.00000000 |  0.14854040 |  0.05292992 |  0.05050125 | -0.04232679 | -0.16920740 |  0.10201766 |\n",
       "| median_income |  0.1629199 |  0.1604089 |  0.14854040 |  1.00000000 |  0.02199604 | -0.05377681 | -0.04773346 | -0.01815921 |  0.05852071 |\n",
       "| number_providers | -0.1158697 | -0.1288266 |  0.05292992 |  0.02199604 |  1.00000000 | -0.32945829 | -0.48020798 | -0.01627282 |  0.44680246 |\n",
       "| mean_lowest_cost |  0.1088418 |  0.1364058 |  0.05050125 | -0.05377681 | -0.32945829 |  1.00000000 |  0.19664282 |  0.08436356 | -0.18109139 |\n",
       "| mean_d_mbps |  0.3055403 |  0.3450734 | -0.04232679 | -0.04773346 | -0.48020798 |  0.19664282 |  1.00000000 |  0.40439966 | -0.83156103 |\n",
       "| mean_u_mbps |  0.1964819 |  0.1990615 | -0.16920740 | -0.01815921 | -0.01627282 |  0.08436356 |  0.40439966 |  1.00000000 | -0.42114628 |\n",
       "| mean_lat_ms | -0.2013067 | -0.2367166 |  0.10201766 |  0.05852071 |  0.44680246 | -0.18109139 | -0.83156103 | -0.42114628 |  1.00000000 |\n",
       "\n"
      ],
      "text/plain": [
       "                    has_computer with_internet sixtyfive_and_older\n",
       "has_computer         1.0000000    0.9894358     0.63073622        \n",
       "with_internet        0.9894358    1.0000000     0.62529208        \n",
       "sixtyfive_and_older  0.6307362    0.6252921     1.00000000        \n",
       "median_income        0.1629199    0.1604089     0.14854040        \n",
       "number_providers    -0.1158697   -0.1288266     0.05292992        \n",
       "mean_lowest_cost     0.1088418    0.1364058     0.05050125        \n",
       "mean_d_mbps          0.3055403    0.3450734    -0.04232679        \n",
       "mean_u_mbps          0.1964819    0.1990615    -0.16920740        \n",
       "mean_lat_ms         -0.2013067   -0.2367166     0.10201766        \n",
       "                    median_income number_providers mean_lowest_cost mean_d_mbps\n",
       "has_computer         0.16291986   -0.11586967       0.10884185       0.30554032\n",
       "with_internet        0.16040888   -0.12882664       0.13640579       0.34507339\n",
       "sixtyfive_and_older  0.14854040    0.05292992       0.05050125      -0.04232679\n",
       "median_income        1.00000000    0.02199604      -0.05377681      -0.04773346\n",
       "number_providers     0.02199604    1.00000000      -0.32945829      -0.48020798\n",
       "mean_lowest_cost    -0.05377681   -0.32945829       1.00000000       0.19664282\n",
       "mean_d_mbps         -0.04773346   -0.48020798       0.19664282       1.00000000\n",
       "mean_u_mbps         -0.01815921   -0.01627282       0.08436356       0.40439966\n",
       "mean_lat_ms          0.05852071    0.44680246      -0.18109139      -0.83156103\n",
       "                    mean_u_mbps mean_lat_ms\n",
       "has_computer         0.19648189 -0.20130674\n",
       "with_internet        0.19906151 -0.23671663\n",
       "sixtyfive_and_older -0.16920740  0.10201766\n",
       "median_income       -0.01815921  0.05852071\n",
       "number_providers    -0.01627282  0.44680246\n",
       "mean_lowest_cost     0.08436356 -0.18109139\n",
       "mean_d_mbps          0.40439966 -0.83156103\n",
       "mean_u_mbps          1.00000000 -0.42114628\n",
       "mean_lat_ms         -0.42114628  1.00000000"
      ]
     },
     "metadata": {},
     "output_type": "display_data"
    }
   ],
   "source": [
    "cor(scaled_data)"
   ]
  },
  {
   "attachments": {},
   "cell_type": "markdown",
   "metadata": {
    "slideshow": {
     "slide_type": "slide"
    }
   },
   "source": [
    "## Create The Index"
   ]
  },
  {
   "attachments": {},
   "cell_type": "markdown",
   "metadata": {
    "slideshow": {
     "slide_type": "subslide"
    }
   },
   "source": [
    "### Apply PCA"
   ]
  },
  {
   "cell_type": "code",
   "execution_count": 107,
   "metadata": {
    "vscode": {
     "languageId": "r"
    }
   },
   "outputs": [],
   "source": [
    "# pca_data <- prcomp(data, scale = TRUE, center = TRUE)\n",
    "pca_data <- prcomp(data, scale = TRUE, center = TRUE)\n",
    "\n",
    "# disable scientific notation\n",
    "options(scipen = 999)\n"
   ]
  },
  {
   "attachments": {},
   "cell_type": "markdown",
   "metadata": {
    "slideshow": {
     "slide_type": "subslide"
    }
   },
   "source": [
    "### Summary"
   ]
  },
  {
   "cell_type": "code",
   "execution_count": 108,
   "metadata": {
    "vscode": {
     "languageId": "r"
    }
   },
   "outputs": [
    {
     "data": {
      "text/html": [
       "<table class=\"dataframe\">\n",
       "<caption>A matrix: 3 × 9 of type dbl</caption>\n",
       "<thead>\n",
       "\t<tr><th></th><th scope=col>PC1</th><th scope=col>PC2</th><th scope=col>PC3</th><th scope=col>PC4</th><th scope=col>PC5</th><th scope=col>PC6</th><th scope=col>PC7</th><th scope=col>PC8</th><th scope=col>PC9</th></tr>\n",
       "</thead>\n",
       "<tbody>\n",
       "\t<tr><th scope=row>Standard deviation</th><td>1.743773</td><td>1.464435</td><td>1.065625</td><td>0.9701836</td><td>0.8955194</td><td>0.6650307</td><td>0.5707461</td><td>0.3984125</td><td>0.09575389</td></tr>\n",
       "\t<tr><th scope=row>Proportion of Variance</th><td>0.337860</td><td>0.238290</td><td>0.126170</td><td>0.1045800</td><td>0.0891100</td><td>0.0491400</td><td>0.0361900</td><td>0.0176400</td><td>0.00102000</td></tr>\n",
       "\t<tr><th scope=row>Cumulative Proportion</th><td>0.337860</td><td>0.576150</td><td>0.702320</td><td>0.8069000</td><td>0.8960100</td><td>0.9451500</td><td>0.9813400</td><td>0.9989800</td><td>1.00000000</td></tr>\n",
       "</tbody>\n",
       "</table>\n"
      ],
      "text/latex": [
       "A matrix: 3 × 9 of type dbl\n",
       "\\begin{tabular}{r|lllllllll}\n",
       "  & PC1 & PC2 & PC3 & PC4 & PC5 & PC6 & PC7 & PC8 & PC9\\\\\n",
       "\\hline\n",
       "\tStandard deviation & 1.743773 & 1.464435 & 1.065625 & 0.9701836 & 0.8955194 & 0.6650307 & 0.5707461 & 0.3984125 & 0.09575389\\\\\n",
       "\tProportion of Variance & 0.337860 & 0.238290 & 0.126170 & 0.1045800 & 0.0891100 & 0.0491400 & 0.0361900 & 0.0176400 & 0.00102000\\\\\n",
       "\tCumulative Proportion & 0.337860 & 0.576150 & 0.702320 & 0.8069000 & 0.8960100 & 0.9451500 & 0.9813400 & 0.9989800 & 1.00000000\\\\\n",
       "\\end{tabular}\n"
      ],
      "text/markdown": [
       "\n",
       "A matrix: 3 × 9 of type dbl\n",
       "\n",
       "| <!--/--> | PC1 | PC2 | PC3 | PC4 | PC5 | PC6 | PC7 | PC8 | PC9 |\n",
       "|---|---|---|---|---|---|---|---|---|---|\n",
       "| Standard deviation | 1.743773 | 1.464435 | 1.065625 | 0.9701836 | 0.8955194 | 0.6650307 | 0.5707461 | 0.3984125 | 0.09575389 |\n",
       "| Proportion of Variance | 0.337860 | 0.238290 | 0.126170 | 0.1045800 | 0.0891100 | 0.0491400 | 0.0361900 | 0.0176400 | 0.00102000 |\n",
       "| Cumulative Proportion | 0.337860 | 0.576150 | 0.702320 | 0.8069000 | 0.8960100 | 0.9451500 | 0.9813400 | 0.9989800 | 1.00000000 |\n",
       "\n"
      ],
      "text/plain": [
       "                       PC1      PC2      PC3      PC4       PC5       PC6      \n",
       "Standard deviation     1.743773 1.464435 1.065625 0.9701836 0.8955194 0.6650307\n",
       "Proportion of Variance 0.337860 0.238290 0.126170 0.1045800 0.0891100 0.0491400\n",
       "Cumulative Proportion  0.337860 0.576150 0.702320 0.8069000 0.8960100 0.9451500\n",
       "                       PC7       PC8       PC9       \n",
       "Standard deviation     0.5707461 0.3984125 0.09575389\n",
       "Proportion of Variance 0.0361900 0.0176400 0.00102000\n",
       "Cumulative Proportion  0.9813400 0.9989800 1.00000000"
      ]
     },
     "metadata": {},
     "output_type": "display_data"
    }
   ],
   "source": [
    "summary(pca_data)$importance\n"
   ]
  },
  {
   "attachments": {},
   "cell_type": "markdown",
   "metadata": {
    "slideshow": {
     "slide_type": "subslide"
    }
   },
   "source": [
    "### Eigenvectors"
   ]
  },
  {
   "cell_type": "code",
   "execution_count": 109,
   "metadata": {
    "vscode": {
     "languageId": "r"
    }
   },
   "outputs": [
    {
     "data": {
      "text/html": [
       "<table class=\"dataframe\">\n",
       "<caption>A matrix: 9 × 9 of type dbl</caption>\n",
       "<thead>\n",
       "\t<tr><th></th><th scope=col>PC1</th><th scope=col>PC2</th><th scope=col>PC3</th><th scope=col>PC4</th><th scope=col>PC5</th><th scope=col>PC6</th><th scope=col>PC7</th><th scope=col>PC8</th><th scope=col>PC9</th></tr>\n",
       "</thead>\n",
       "<tbody>\n",
       "\t<tr><th scope=row>has_computer</th><td>-0.45993302</td><td> 0.3645542</td><td>-0.06581007</td><td> 0.10300466</td><td>-0.0020124875</td><td>-0.2024725</td><td> 0.317672634</td><td>-0.092083249</td><td> 0.700161815</td></tr>\n",
       "\t<tr><th scope=row>with_internet</th><td>-0.47267948</td><td> 0.3461413</td><td>-0.05423008</td><td> 0.09969522</td><td> 0.0007207665</td><td>-0.1493425</td><td> 0.331599084</td><td>-0.063379248</td><td>-0.712461740</td></tr>\n",
       "\t<tr><th scope=row>sixtyfive_and_older</th><td>-0.24045500</td><td> 0.5093232</td><td> 0.16540539</td><td> 0.11811830</td><td>-0.1113232689</td><td> 0.2892430</td><td>-0.734696590</td><td> 0.074997004</td><td> 0.001554206</td></tr>\n",
       "\t<tr><th scope=row>median_income</th><td>-0.06011374</td><td> 0.2171501</td><td>-0.11890688</td><td>-0.94529010</td><td> 0.1858748525</td><td> 0.0826222</td><td>-0.003009265</td><td> 0.011320667</td><td> 0.002619315</td></tr>\n",
       "\t<tr><th scope=row>number_providers</th><td> 0.26786214</td><td> 0.2950848</td><td>-0.50605500</td><td> 0.22386285</td><td> 0.2792463404</td><td> 0.6281214</td><td> 0.247267641</td><td> 0.032340077</td><td> 0.016323203</td></tr>\n",
       "\t<tr><th scope=row>mean_lowest_cost</th><td>-0.18976570</td><td>-0.1367443</td><td> 0.58920624</td><td> 0.06984364</td><td> 0.7275385176</td><td> 0.2341803</td><td> 0.093370699</td><td> 0.001803882</td><td> 0.019333680</td></tr>\n",
       "\t<tr><th scope=row>mean_d_mbps</th><td>-0.43037469</td><td>-0.3465275</td><td>-0.08730473</td><td>-0.04847258</td><td>-0.2182100276</td><td> 0.3113622</td><td> 0.103093440</td><td> 0.726855033</td><td> 0.034872271</td></tr>\n",
       "\t<tr><th scope=row>mean_u_mbps</th><td>-0.24523568</td><td>-0.2388443</td><td>-0.57095208</td><td> 0.10377848</td><td> 0.5079292254</td><td>-0.3474239</td><td>-0.406960585</td><td> 0.039015688</td><td>-0.014900853</td></tr>\n",
       "\t<tr><th scope=row>mean_lat_ms</th><td> 0.38791675</td><td> 0.3972660</td><td> 0.11985947</td><td> 0.06175215</td><td> 0.2003860575</td><td>-0.4233051</td><td> 0.056863540</td><td> 0.671462166</td><td>-0.009169267</td></tr>\n",
       "</tbody>\n",
       "</table>\n"
      ],
      "text/latex": [
       "A matrix: 9 × 9 of type dbl\n",
       "\\begin{tabular}{r|lllllllll}\n",
       "  & PC1 & PC2 & PC3 & PC4 & PC5 & PC6 & PC7 & PC8 & PC9\\\\\n",
       "\\hline\n",
       "\thas\\_computer & -0.45993302 &  0.3645542 & -0.06581007 &  0.10300466 & -0.0020124875 & -0.2024725 &  0.317672634 & -0.092083249 &  0.700161815\\\\\n",
       "\twith\\_internet & -0.47267948 &  0.3461413 & -0.05423008 &  0.09969522 &  0.0007207665 & -0.1493425 &  0.331599084 & -0.063379248 & -0.712461740\\\\\n",
       "\tsixtyfive\\_and\\_older & -0.24045500 &  0.5093232 &  0.16540539 &  0.11811830 & -0.1113232689 &  0.2892430 & -0.734696590 &  0.074997004 &  0.001554206\\\\\n",
       "\tmedian\\_income & -0.06011374 &  0.2171501 & -0.11890688 & -0.94529010 &  0.1858748525 &  0.0826222 & -0.003009265 &  0.011320667 &  0.002619315\\\\\n",
       "\tnumber\\_providers &  0.26786214 &  0.2950848 & -0.50605500 &  0.22386285 &  0.2792463404 &  0.6281214 &  0.247267641 &  0.032340077 &  0.016323203\\\\\n",
       "\tmean\\_lowest\\_cost & -0.18976570 & -0.1367443 &  0.58920624 &  0.06984364 &  0.7275385176 &  0.2341803 &  0.093370699 &  0.001803882 &  0.019333680\\\\\n",
       "\tmean\\_d\\_mbps & -0.43037469 & -0.3465275 & -0.08730473 & -0.04847258 & -0.2182100276 &  0.3113622 &  0.103093440 &  0.726855033 &  0.034872271\\\\\n",
       "\tmean\\_u\\_mbps & -0.24523568 & -0.2388443 & -0.57095208 &  0.10377848 &  0.5079292254 & -0.3474239 & -0.406960585 &  0.039015688 & -0.014900853\\\\\n",
       "\tmean\\_lat\\_ms &  0.38791675 &  0.3972660 &  0.11985947 &  0.06175215 &  0.2003860575 & -0.4233051 &  0.056863540 &  0.671462166 & -0.009169267\\\\\n",
       "\\end{tabular}\n"
      ],
      "text/markdown": [
       "\n",
       "A matrix: 9 × 9 of type dbl\n",
       "\n",
       "| <!--/--> | PC1 | PC2 | PC3 | PC4 | PC5 | PC6 | PC7 | PC8 | PC9 |\n",
       "|---|---|---|---|---|---|---|---|---|---|\n",
       "| has_computer | -0.45993302 |  0.3645542 | -0.06581007 |  0.10300466 | -0.0020124875 | -0.2024725 |  0.317672634 | -0.092083249 |  0.700161815 |\n",
       "| with_internet | -0.47267948 |  0.3461413 | -0.05423008 |  0.09969522 |  0.0007207665 | -0.1493425 |  0.331599084 | -0.063379248 | -0.712461740 |\n",
       "| sixtyfive_and_older | -0.24045500 |  0.5093232 |  0.16540539 |  0.11811830 | -0.1113232689 |  0.2892430 | -0.734696590 |  0.074997004 |  0.001554206 |\n",
       "| median_income | -0.06011374 |  0.2171501 | -0.11890688 | -0.94529010 |  0.1858748525 |  0.0826222 | -0.003009265 |  0.011320667 |  0.002619315 |\n",
       "| number_providers |  0.26786214 |  0.2950848 | -0.50605500 |  0.22386285 |  0.2792463404 |  0.6281214 |  0.247267641 |  0.032340077 |  0.016323203 |\n",
       "| mean_lowest_cost | -0.18976570 | -0.1367443 |  0.58920624 |  0.06984364 |  0.7275385176 |  0.2341803 |  0.093370699 |  0.001803882 |  0.019333680 |\n",
       "| mean_d_mbps | -0.43037469 | -0.3465275 | -0.08730473 | -0.04847258 | -0.2182100276 |  0.3113622 |  0.103093440 |  0.726855033 |  0.034872271 |\n",
       "| mean_u_mbps | -0.24523568 | -0.2388443 | -0.57095208 |  0.10377848 |  0.5079292254 | -0.3474239 | -0.406960585 |  0.039015688 | -0.014900853 |\n",
       "| mean_lat_ms |  0.38791675 |  0.3972660 |  0.11985947 |  0.06175215 |  0.2003860575 | -0.4233051 |  0.056863540 |  0.671462166 | -0.009169267 |\n",
       "\n"
      ],
      "text/plain": [
       "                    PC1         PC2        PC3         PC4        \n",
       "has_computer        -0.45993302  0.3645542 -0.06581007  0.10300466\n",
       "with_internet       -0.47267948  0.3461413 -0.05423008  0.09969522\n",
       "sixtyfive_and_older -0.24045500  0.5093232  0.16540539  0.11811830\n",
       "median_income       -0.06011374  0.2171501 -0.11890688 -0.94529010\n",
       "number_providers     0.26786214  0.2950848 -0.50605500  0.22386285\n",
       "mean_lowest_cost    -0.18976570 -0.1367443  0.58920624  0.06984364\n",
       "mean_d_mbps         -0.43037469 -0.3465275 -0.08730473 -0.04847258\n",
       "mean_u_mbps         -0.24523568 -0.2388443 -0.57095208  0.10377848\n",
       "mean_lat_ms          0.38791675  0.3972660  0.11985947  0.06175215\n",
       "                    PC5           PC6        PC7          PC8         \n",
       "has_computer        -0.0020124875 -0.2024725  0.317672634 -0.092083249\n",
       "with_internet        0.0007207665 -0.1493425  0.331599084 -0.063379248\n",
       "sixtyfive_and_older -0.1113232689  0.2892430 -0.734696590  0.074997004\n",
       "median_income        0.1858748525  0.0826222 -0.003009265  0.011320667\n",
       "number_providers     0.2792463404  0.6281214  0.247267641  0.032340077\n",
       "mean_lowest_cost     0.7275385176  0.2341803  0.093370699  0.001803882\n",
       "mean_d_mbps         -0.2182100276  0.3113622  0.103093440  0.726855033\n",
       "mean_u_mbps          0.5079292254 -0.3474239 -0.406960585  0.039015688\n",
       "mean_lat_ms          0.2003860575 -0.4233051  0.056863540  0.671462166\n",
       "                    PC9         \n",
       "has_computer         0.700161815\n",
       "with_internet       -0.712461740\n",
       "sixtyfive_and_older  0.001554206\n",
       "median_income        0.002619315\n",
       "number_providers     0.016323203\n",
       "mean_lowest_cost     0.019333680\n",
       "mean_d_mbps          0.034872271\n",
       "mean_u_mbps         -0.014900853\n",
       "mean_lat_ms         -0.009169267"
      ]
     },
     "metadata": {},
     "output_type": "display_data"
    }
   ],
   "source": [
    "eigenvectors <- pca_data$rotation\n",
    "\n",
    "eigenvectors\n"
   ]
  },
  {
   "attachments": {},
   "cell_type": "markdown",
   "metadata": {
    "slideshow": {
     "slide_type": "subslide"
    }
   },
   "source": [
    "### Eigenvalues"
   ]
  },
  {
   "cell_type": "code",
   "execution_count": 31,
   "metadata": {
    "vscode": {
     "languageId": "r"
    }
   },
   "outputs": [
    {
     "data": {
      "text/html": [
       "<ol>\n",
       "\t<li>3.04074579713778</li>\n",
       "\t<li>2.14456855644664</li>\n",
       "\t<li>1.13555614744263</li>\n",
       "\t<li>0.941256152116763</li>\n",
       "\t<li>0.801954980925561</li>\n",
       "\t<li>0.442265850098981</li>\n",
       "\t<li>0.325751151358129</li>\n",
       "\t<li>0.158732556082361</li>\n",
       "\t<li>0.00916880839115163</li>\n",
       "</ol>\n"
      ],
      "text/latex": [
       "\\begin{enumerate}\n",
       "\\item 3.04074579713778\n",
       "\\item 2.14456855644664\n",
       "\\item 1.13555614744263\n",
       "\\item 0.941256152116763\n",
       "\\item 0.801954980925561\n",
       "\\item 0.442265850098981\n",
       "\\item 0.325751151358129\n",
       "\\item 0.158732556082361\n",
       "\\item 0.00916880839115163\n",
       "\\end{enumerate}\n"
      ],
      "text/markdown": [
       "1. 3.04074579713778\n",
       "2. 2.14456855644664\n",
       "3. 1.13555614744263\n",
       "4. 0.941256152116763\n",
       "5. 0.801954980925561\n",
       "6. 0.442265850098981\n",
       "7. 0.325751151358129\n",
       "8. 0.158732556082361\n",
       "9. 0.00916880839115163\n",
       "\n",
       "\n"
      ],
      "text/plain": [
       "[[1]]\n",
       "[1] 3.040746\n",
       "\n",
       "[[2]]\n",
       "[1] 2.144569\n",
       "\n",
       "[[3]]\n",
       "[1] 1.135556\n",
       "\n",
       "[[4]]\n",
       "[1] 0.9412562\n",
       "\n",
       "[[5]]\n",
       "[1] 0.801955\n",
       "\n",
       "[[6]]\n",
       "[1] 0.4422659\n",
       "\n",
       "[[7]]\n",
       "[1] 0.3257512\n",
       "\n",
       "[[8]]\n",
       "[1] 0.1587326\n",
       "\n",
       "[[9]]\n",
       "[1] 0.009168808\n"
      ]
     },
     "metadata": {},
     "output_type": "display_data"
    }
   ],
   "source": [
    "eigenvalues <- pca_data$sdev^2\n",
    "\n",
    "as.list(eigenvalues)\n"
   ]
  },
  {
   "attachments": {},
   "cell_type": "markdown",
   "metadata": {
    "slideshow": {
     "slide_type": "subslide"
    }
   },
   "source": [
    "### Principal Component Scores"
   ]
  },
  {
   "cell_type": "code",
   "execution_count": 32,
   "metadata": {
    "vscode": {
     "languageId": "r"
    }
   },
   "outputs": [
    {
     "data": {
      "text/html": [
       "<table class=\"dataframe\">\n",
       "<caption>A matrix: 6 × 9 of type dbl</caption>\n",
       "<thead>\n",
       "\t<tr><th scope=col>PC1</th><th scope=col>PC2</th><th scope=col>PC3</th><th scope=col>PC4</th><th scope=col>PC5</th><th scope=col>PC6</th><th scope=col>PC7</th><th scope=col>PC8</th><th scope=col>PC9</th></tr>\n",
       "</thead>\n",
       "<tbody>\n",
       "\t<tr><td>-0.31980931</td><td>-2.814248406</td><td> 0.6018283</td><td>-0.82050064</td><td>-0.71877381</td><td>-0.5765536</td><td> 1.0631272</td><td>-0.1778576</td><td> 0.040333441</td></tr>\n",
       "\t<tr><td> 0.55922699</td><td>-2.676824146</td><td> 0.3277764</td><td>-0.88302832</td><td>-0.57122993</td><td>-1.8527420</td><td> 0.4059791</td><td> 0.4810874</td><td> 0.004425048</td></tr>\n",
       "\t<tr><td>-0.88731815</td><td> 0.009439822</td><td> 0.2849808</td><td>-0.08700092</td><td>-0.67471195</td><td>-0.6740471</td><td>-0.8132396</td><td> 0.1452019</td><td>-0.072451920</td></tr>\n",
       "\t<tr><td>-0.87133260</td><td> 0.538393916</td><td>-1.1898814</td><td> 0.24680822</td><td>-0.66895624</td><td>-0.3947503</td><td> 0.5158786</td><td> 0.6906138</td><td>-0.095803662</td></tr>\n",
       "\t<tr><td> 0.13454734</td><td> 0.288009090</td><td>-1.0646210</td><td> 0.14663718</td><td>-0.46475567</td><td>-0.3957613</td><td>-0.1006092</td><td> 0.2718971</td><td>-0.104848567</td></tr>\n",
       "\t<tr><td> 0.07000694</td><td>-0.945588616</td><td>-0.3217633</td><td>-0.11304798</td><td> 0.06951643</td><td>-0.3172342</td><td> 0.3396357</td><td> 0.4516868</td><td>-0.061567426</td></tr>\n",
       "</tbody>\n",
       "</table>\n"
      ],
      "text/latex": [
       "A matrix: 6 × 9 of type dbl\n",
       "\\begin{tabular}{lllllllll}\n",
       " PC1 & PC2 & PC3 & PC4 & PC5 & PC6 & PC7 & PC8 & PC9\\\\\n",
       "\\hline\n",
       "\t -0.31980931 & -2.814248406 &  0.6018283 & -0.82050064 & -0.71877381 & -0.5765536 &  1.0631272 & -0.1778576 &  0.040333441\\\\\n",
       "\t  0.55922699 & -2.676824146 &  0.3277764 & -0.88302832 & -0.57122993 & -1.8527420 &  0.4059791 &  0.4810874 &  0.004425048\\\\\n",
       "\t -0.88731815 &  0.009439822 &  0.2849808 & -0.08700092 & -0.67471195 & -0.6740471 & -0.8132396 &  0.1452019 & -0.072451920\\\\\n",
       "\t -0.87133260 &  0.538393916 & -1.1898814 &  0.24680822 & -0.66895624 & -0.3947503 &  0.5158786 &  0.6906138 & -0.095803662\\\\\n",
       "\t  0.13454734 &  0.288009090 & -1.0646210 &  0.14663718 & -0.46475567 & -0.3957613 & -0.1006092 &  0.2718971 & -0.104848567\\\\\n",
       "\t  0.07000694 & -0.945588616 & -0.3217633 & -0.11304798 &  0.06951643 & -0.3172342 &  0.3396357 &  0.4516868 & -0.061567426\\\\\n",
       "\\end{tabular}\n"
      ],
      "text/markdown": [
       "\n",
       "A matrix: 6 × 9 of type dbl\n",
       "\n",
       "| PC1 | PC2 | PC3 | PC4 | PC5 | PC6 | PC7 | PC8 | PC9 |\n",
       "|---|---|---|---|---|---|---|---|---|\n",
       "| -0.31980931 | -2.814248406 |  0.6018283 | -0.82050064 | -0.71877381 | -0.5765536 |  1.0631272 | -0.1778576 |  0.040333441 |\n",
       "|  0.55922699 | -2.676824146 |  0.3277764 | -0.88302832 | -0.57122993 | -1.8527420 |  0.4059791 |  0.4810874 |  0.004425048 |\n",
       "| -0.88731815 |  0.009439822 |  0.2849808 | -0.08700092 | -0.67471195 | -0.6740471 | -0.8132396 |  0.1452019 | -0.072451920 |\n",
       "| -0.87133260 |  0.538393916 | -1.1898814 |  0.24680822 | -0.66895624 | -0.3947503 |  0.5158786 |  0.6906138 | -0.095803662 |\n",
       "|  0.13454734 |  0.288009090 | -1.0646210 |  0.14663718 | -0.46475567 | -0.3957613 | -0.1006092 |  0.2718971 | -0.104848567 |\n",
       "|  0.07000694 | -0.945588616 | -0.3217633 | -0.11304798 |  0.06951643 | -0.3172342 |  0.3396357 |  0.4516868 | -0.061567426 |\n",
       "\n"
      ],
      "text/plain": [
       "     PC1         PC2          PC3        PC4         PC5         PC6       \n",
       "[1,] -0.31980931 -2.814248406  0.6018283 -0.82050064 -0.71877381 -0.5765536\n",
       "[2,]  0.55922699 -2.676824146  0.3277764 -0.88302832 -0.57122993 -1.8527420\n",
       "[3,] -0.88731815  0.009439822  0.2849808 -0.08700092 -0.67471195 -0.6740471\n",
       "[4,] -0.87133260  0.538393916 -1.1898814  0.24680822 -0.66895624 -0.3947503\n",
       "[5,]  0.13454734  0.288009090 -1.0646210  0.14663718 -0.46475567 -0.3957613\n",
       "[6,]  0.07000694 -0.945588616 -0.3217633 -0.11304798  0.06951643 -0.3172342\n",
       "     PC7        PC8        PC9         \n",
       "[1,]  1.0631272 -0.1778576  0.040333441\n",
       "[2,]  0.4059791  0.4810874  0.004425048\n",
       "[3,] -0.8132396  0.1452019 -0.072451920\n",
       "[4,]  0.5158786  0.6906138 -0.095803662\n",
       "[5,] -0.1006092  0.2718971 -0.104848567\n",
       "[6,]  0.3396357  0.4516868 -0.061567426"
      ]
     },
     "metadata": {},
     "output_type": "display_data"
    }
   ],
   "source": [
    "principal_components <- -pca_data$x\n",
    "\n",
    "head(principal_components)\n"
   ]
  },
  {
   "attachments": {},
   "cell_type": "markdown",
   "metadata": {
    "slideshow": {
     "slide_type": "subslide"
    }
   },
   "source": [
    "### Use The Scores From PC1 As Index"
   ]
  },
  {
   "attachments": {},
   "cell_type": "markdown",
   "metadata": {
    "slideshow": {
     "slide_type": "subslide"
    }
   },
   "source": [
    "#### PC1 Eigenvector"
   ]
  },
  {
   "cell_type": "code",
   "execution_count": 33,
   "metadata": {
    "vscode": {
     "languageId": "r"
    }
   },
   "outputs": [
    {
     "data": {
      "text/html": [
       "<dl>\n",
       "\t<dt>$has_computer</dt>\n",
       "\t\t<dd>-0.459933015712116</dd>\n",
       "\t<dt>$with_internet</dt>\n",
       "\t\t<dd>-0.47267947873074</dd>\n",
       "\t<dt>$sixtyfive_and_older</dt>\n",
       "\t\t<dd>-0.240454997493564</dd>\n",
       "\t<dt>$median_income</dt>\n",
       "\t\t<dd>-0.0601137431352062</dd>\n",
       "\t<dt>$number_providers</dt>\n",
       "\t\t<dd>0.26786214435133</dd>\n",
       "\t<dt>$mean_lowest_cost</dt>\n",
       "\t\t<dd>-0.189765703714406</dd>\n",
       "\t<dt>$mean_d_mbps</dt>\n",
       "\t\t<dd>-0.430374691807091</dd>\n",
       "\t<dt>$mean_u_mbps</dt>\n",
       "\t\t<dd>-0.24523567507768</dd>\n",
       "\t<dt>$mean_lat_ms</dt>\n",
       "\t\t<dd>0.387916745126925</dd>\n",
       "</dl>\n"
      ],
      "text/latex": [
       "\\begin{description}\n",
       "\\item[\\$has\\_computer] -0.459933015712116\n",
       "\\item[\\$with\\_internet] -0.47267947873074\n",
       "\\item[\\$sixtyfive\\_and\\_older] -0.240454997493564\n",
       "\\item[\\$median\\_income] -0.0601137431352062\n",
       "\\item[\\$number\\_providers] 0.26786214435133\n",
       "\\item[\\$mean\\_lowest\\_cost] -0.189765703714406\n",
       "\\item[\\$mean\\_d\\_mbps] -0.430374691807091\n",
       "\\item[\\$mean\\_u\\_mbps] -0.24523567507768\n",
       "\\item[\\$mean\\_lat\\_ms] 0.387916745126925\n",
       "\\end{description}\n"
      ],
      "text/markdown": [
       "$has_computer\n",
       ":   -0.459933015712116\n",
       "$with_internet\n",
       ":   -0.47267947873074\n",
       "$sixtyfive_and_older\n",
       ":   -0.240454997493564\n",
       "$median_income\n",
       ":   -0.0601137431352062\n",
       "$number_providers\n",
       ":   0.26786214435133\n",
       "$mean_lowest_cost\n",
       ":   -0.189765703714406\n",
       "$mean_d_mbps\n",
       ":   -0.430374691807091\n",
       "$mean_u_mbps\n",
       ":   -0.24523567507768\n",
       "$mean_lat_ms\n",
       ":   0.387916745126925\n",
       "\n",
       "\n"
      ],
      "text/plain": [
       "$has_computer\n",
       "[1] -0.459933\n",
       "\n",
       "$with_internet\n",
       "[1] -0.4726795\n",
       "\n",
       "$sixtyfive_and_older\n",
       "[1] -0.240455\n",
       "\n",
       "$median_income\n",
       "[1] -0.06011374\n",
       "\n",
       "$number_providers\n",
       "[1] 0.2678621\n",
       "\n",
       "$mean_lowest_cost\n",
       "[1] -0.1897657\n",
       "\n",
       "$mean_d_mbps\n",
       "[1] -0.4303747\n",
       "\n",
       "$mean_u_mbps\n",
       "[1] -0.2452357\n",
       "\n",
       "$mean_lat_ms\n",
       "[1] 0.3879167\n"
      ]
     },
     "metadata": {},
     "output_type": "display_data"
    }
   ],
   "source": [
    "as.list(eigenvectors[, 1])\n"
   ]
  },
  {
   "attachments": {},
   "cell_type": "markdown",
   "metadata": {
    "slideshow": {
     "slide_type": "subslide"
    }
   },
   "source": [
    "#### Multiply PC1 by Scaled Data"
   ]
  },
  {
   "cell_type": "code",
   "execution_count": 34,
   "metadata": {
    "vscode": {
     "languageId": "r"
    }
   },
   "outputs": [
    {
     "data": {
      "text/html": [
       "<table class=\"dataframe\">\n",
       "<caption>A matrix: 6 × 1 of type dbl</caption>\n",
       "<tbody>\n",
       "\t<tr><td> 0.31980931</td></tr>\n",
       "\t<tr><td>-0.55922699</td></tr>\n",
       "\t<tr><td> 0.88731815</td></tr>\n",
       "\t<tr><td> 0.87133260</td></tr>\n",
       "\t<tr><td>-0.13454734</td></tr>\n",
       "\t<tr><td>-0.07000694</td></tr>\n",
       "</tbody>\n",
       "</table>\n"
      ],
      "text/latex": [
       "A matrix: 6 × 1 of type dbl\n",
       "\\begin{tabular}{l}\n",
       "\t  0.31980931\\\\\n",
       "\t -0.55922699\\\\\n",
       "\t  0.88731815\\\\\n",
       "\t  0.87133260\\\\\n",
       "\t -0.13454734\\\\\n",
       "\t -0.07000694\\\\\n",
       "\\end{tabular}\n"
      ],
      "text/markdown": [
       "\n",
       "A matrix: 6 × 1 of type dbl\n",
       "\n",
       "|  0.31980931 |\n",
       "| -0.55922699 |\n",
       "|  0.88731815 |\n",
       "|  0.87133260 |\n",
       "| -0.13454734 |\n",
       "| -0.07000694 |\n",
       "\n"
      ],
      "text/plain": [
       "     [,1]       \n",
       "[1,]  0.31980931\n",
       "[2,] -0.55922699\n",
       "[3,]  0.88731815\n",
       "[4,]  0.87133260\n",
       "[5,] -0.13454734\n",
       "[6,] -0.07000694"
      ]
     },
     "metadata": {},
     "output_type": "display_data"
    }
   ],
   "source": [
    "head(scaled_data %*% eigenvectors[, 1])\n"
   ]
  },
  {
   "attachments": {},
   "cell_type": "markdown",
   "metadata": {
    "slideshow": {
     "slide_type": "subslide"
    }
   },
   "source": [
    "#### We See That The Scores In PC1 Are The Same"
   ]
  },
  {
   "cell_type": "code",
   "execution_count": 35,
   "metadata": {
    "vscode": {
     "languageId": "r"
    }
   },
   "outputs": [
    {
     "data": {
      "text/html": [
       "<table class=\"dataframe\">\n",
       "<caption>A data.frame: 6 × 1</caption>\n",
       "<thead>\n",
       "\t<tr><th></th><th scope=col>PC1</th></tr>\n",
       "\t<tr><th></th><th scope=col>&lt;dbl&gt;</th></tr>\n",
       "</thead>\n",
       "<tbody>\n",
       "\t<tr><th scope=row>1</th><td>-0.31980931</td></tr>\n",
       "\t<tr><th scope=row>2</th><td> 0.55922699</td></tr>\n",
       "\t<tr><th scope=row>3</th><td>-0.88731815</td></tr>\n",
       "\t<tr><th scope=row>4</th><td>-0.87133260</td></tr>\n",
       "\t<tr><th scope=row>5</th><td> 0.13454734</td></tr>\n",
       "\t<tr><th scope=row>6</th><td> 0.07000694</td></tr>\n",
       "</tbody>\n",
       "</table>\n"
      ],
      "text/latex": [
       "A data.frame: 6 × 1\n",
       "\\begin{tabular}{r|l}\n",
       "  & PC1\\\\\n",
       "  & <dbl>\\\\\n",
       "\\hline\n",
       "\t1 & -0.31980931\\\\\n",
       "\t2 &  0.55922699\\\\\n",
       "\t3 & -0.88731815\\\\\n",
       "\t4 & -0.87133260\\\\\n",
       "\t5 &  0.13454734\\\\\n",
       "\t6 &  0.07000694\\\\\n",
       "\\end{tabular}\n"
      ],
      "text/markdown": [
       "\n",
       "A data.frame: 6 × 1\n",
       "\n",
       "| <!--/--> | PC1 &lt;dbl&gt; |\n",
       "|---|---|\n",
       "| 1 | -0.31980931 |\n",
       "| 2 |  0.55922699 |\n",
       "| 3 | -0.88731815 |\n",
       "| 4 | -0.87133260 |\n",
       "| 5 |  0.13454734 |\n",
       "| 6 |  0.07000694 |\n",
       "\n"
      ],
      "text/plain": [
       "  PC1        \n",
       "1 -0.31980931\n",
       "2  0.55922699\n",
       "3 -0.88731815\n",
       "4 -0.87133260\n",
       "5  0.13454734\n",
       "6  0.07000694"
      ]
     },
     "metadata": {},
     "output_type": "display_data"
    }
   ],
   "source": [
    "principal_components %>%\n",
    "    as.data.frame() %>%\n",
    "    dplyr::select(PC1) %>%\n",
    "    head()\n"
   ]
  },
  {
   "attachments": {},
   "cell_type": "markdown",
   "metadata": {
    "slideshow": {
     "slide_type": "subslide"
    }
   },
   "source": [
    "#### Append to DataFrame"
   ]
  },
  {
   "cell_type": "code",
   "execution_count": 36,
   "metadata": {
    "slideshow": {
     "slide_type": "fragment"
    },
    "vscode": {
     "languageId": "r"
    }
   },
   "outputs": [
    {
     "data": {
      "text/html": [
       "<table class=\"dataframe\">\n",
       "<caption>A data.frame: 6 × 10</caption>\n",
       "<thead>\n",
       "\t<tr><th></th><th scope=col>has_computer</th><th scope=col>with_internet</th><th scope=col>sixtyfive_and_older</th><th scope=col>median_income</th><th scope=col>number_providers</th><th scope=col>mean_lowest_cost</th><th scope=col>mean_d_mbps</th><th scope=col>mean_u_mbps</th><th scope=col>mean_lat_ms</th><th scope=col>index</th></tr>\n",
       "\t<tr><th></th><th scope=col>&lt;dbl&gt;</th><th scope=col>&lt;dbl&gt;</th><th scope=col>&lt;dbl&gt;</th><th scope=col>&lt;dbl&gt;</th><th scope=col>&lt;dbl&gt;</th><th scope=col>&lt;dbl&gt;</th><th scope=col>&lt;dbl&gt;</th><th scope=col>&lt;dbl&gt;</th><th scope=col>&lt;dbl&gt;</th><th scope=col>&lt;dbl&gt;</th></tr>\n",
       "</thead>\n",
       "<tbody>\n",
       "\t<tr><th scope=row>1</th><td> 0.50245011</td><td> 0.5167430</td><td> 2.23493253</td><td>0.07418486</td><td> 1.7094218</td><td>-0.18458632</td><td>-1.05913969</td><td> 0.2831385</td><td> 1.17991288</td><td>-0.31980931</td></tr>\n",
       "\t<tr><th scope=row>2</th><td> 0.88153598</td><td> 0.9194434</td><td> 2.28240921</td><td>0.07416551</td><td> 2.2108891</td><td> 0.41923513</td><td>-0.64056563</td><td>-0.4304467</td><td>-0.15416598</td><td> 0.55922699</td></tr>\n",
       "\t<tr><th scope=row>3</th><td>-0.19922325</td><td>-0.2714809</td><td>-0.74343819</td><td>0.07345717</td><td> 1.2079545</td><td> 0.39687137</td><td>-0.31447576</td><td>-0.2727836</td><td> 0.10962741</td><td>-0.88731815</td></tr>\n",
       "\t<tr><th scope=row>4</th><td>-0.81523778</td><td>-0.9413759</td><td> 0.05100501</td><td>0.07347137</td><td>-0.2964475</td><td> 1.12369349</td><td>-0.85523159</td><td>-0.4058615</td><td>-0.27548794</td><td>-0.87133260</td></tr>\n",
       "\t<tr><th scope=row>5</th><td>-0.07893639</td><td>-0.1913226</td><td> 0.01302366</td><td>0.07354973</td><td>-0.2964475</td><td> 1.12369349</td><td>-0.08992031</td><td>-0.4758288</td><td>-0.30026584</td><td> 0.13454734</td></tr>\n",
       "\t<tr><th scope=row>6</th><td> 0.28010167</td><td> 0.1789328</td><td> 0.88026444</td><td>0.07377917</td><td> 0.2050198</td><td> 0.07383932</td><td>-0.57834859</td><td>-0.4065058</td><td>-0.07734433</td><td> 0.07000694</td></tr>\n",
       "</tbody>\n",
       "</table>\n"
      ],
      "text/latex": [
       "A data.frame: 6 × 10\n",
       "\\begin{tabular}{r|llllllllll}\n",
       "  & has\\_computer & with\\_internet & sixtyfive\\_and\\_older & median\\_income & number\\_providers & mean\\_lowest\\_cost & mean\\_d\\_mbps & mean\\_u\\_mbps & mean\\_lat\\_ms & index\\\\\n",
       "  & <dbl> & <dbl> & <dbl> & <dbl> & <dbl> & <dbl> & <dbl> & <dbl> & <dbl> & <dbl>\\\\\n",
       "\\hline\n",
       "\t1 &  0.50245011 &  0.5167430 &  2.23493253 & 0.07418486 &  1.7094218 & -0.18458632 & -1.05913969 &  0.2831385 &  1.17991288 & -0.31980931\\\\\n",
       "\t2 &  0.88153598 &  0.9194434 &  2.28240921 & 0.07416551 &  2.2108891 &  0.41923513 & -0.64056563 & -0.4304467 & -0.15416598 &  0.55922699\\\\\n",
       "\t3 & -0.19922325 & -0.2714809 & -0.74343819 & 0.07345717 &  1.2079545 &  0.39687137 & -0.31447576 & -0.2727836 &  0.10962741 & -0.88731815\\\\\n",
       "\t4 & -0.81523778 & -0.9413759 &  0.05100501 & 0.07347137 & -0.2964475 &  1.12369349 & -0.85523159 & -0.4058615 & -0.27548794 & -0.87133260\\\\\n",
       "\t5 & -0.07893639 & -0.1913226 &  0.01302366 & 0.07354973 & -0.2964475 &  1.12369349 & -0.08992031 & -0.4758288 & -0.30026584 &  0.13454734\\\\\n",
       "\t6 &  0.28010167 &  0.1789328 &  0.88026444 & 0.07377917 &  0.2050198 &  0.07383932 & -0.57834859 & -0.4065058 & -0.07734433 &  0.07000694\\\\\n",
       "\\end{tabular}\n"
      ],
      "text/markdown": [
       "\n",
       "A data.frame: 6 × 10\n",
       "\n",
       "| <!--/--> | has_computer &lt;dbl&gt; | with_internet &lt;dbl&gt; | sixtyfive_and_older &lt;dbl&gt; | median_income &lt;dbl&gt; | number_providers &lt;dbl&gt; | mean_lowest_cost &lt;dbl&gt; | mean_d_mbps &lt;dbl&gt; | mean_u_mbps &lt;dbl&gt; | mean_lat_ms &lt;dbl&gt; | index &lt;dbl&gt; |\n",
       "|---|---|---|---|---|---|---|---|---|---|---|\n",
       "| 1 |  0.50245011 |  0.5167430 |  2.23493253 | 0.07418486 |  1.7094218 | -0.18458632 | -1.05913969 |  0.2831385 |  1.17991288 | -0.31980931 |\n",
       "| 2 |  0.88153598 |  0.9194434 |  2.28240921 | 0.07416551 |  2.2108891 |  0.41923513 | -0.64056563 | -0.4304467 | -0.15416598 |  0.55922699 |\n",
       "| 3 | -0.19922325 | -0.2714809 | -0.74343819 | 0.07345717 |  1.2079545 |  0.39687137 | -0.31447576 | -0.2727836 |  0.10962741 | -0.88731815 |\n",
       "| 4 | -0.81523778 | -0.9413759 |  0.05100501 | 0.07347137 | -0.2964475 |  1.12369349 | -0.85523159 | -0.4058615 | -0.27548794 | -0.87133260 |\n",
       "| 5 | -0.07893639 | -0.1913226 |  0.01302366 | 0.07354973 | -0.2964475 |  1.12369349 | -0.08992031 | -0.4758288 | -0.30026584 |  0.13454734 |\n",
       "| 6 |  0.28010167 |  0.1789328 |  0.88026444 | 0.07377917 |  0.2050198 |  0.07383932 | -0.57834859 | -0.4065058 | -0.07734433 |  0.07000694 |\n",
       "\n"
      ],
      "text/plain": [
       "  has_computer with_internet sixtyfive_and_older median_income number_providers\n",
       "1  0.50245011   0.5167430     2.23493253         0.07418486     1.7094218      \n",
       "2  0.88153598   0.9194434     2.28240921         0.07416551     2.2108891      \n",
       "3 -0.19922325  -0.2714809    -0.74343819         0.07345717     1.2079545      \n",
       "4 -0.81523778  -0.9413759     0.05100501         0.07347137    -0.2964475      \n",
       "5 -0.07893639  -0.1913226     0.01302366         0.07354973    -0.2964475      \n",
       "6  0.28010167   0.1789328     0.88026444         0.07377917     0.2050198      \n",
       "  mean_lowest_cost mean_d_mbps mean_u_mbps mean_lat_ms index      \n",
       "1 -0.18458632      -1.05913969  0.2831385   1.17991288 -0.31980931\n",
       "2  0.41923513      -0.64056563 -0.4304467  -0.15416598  0.55922699\n",
       "3  0.39687137      -0.31447576 -0.2727836   0.10962741 -0.88731815\n",
       "4  1.12369349      -0.85523159 -0.4058615  -0.27548794 -0.87133260\n",
       "5  1.12369349      -0.08992031 -0.4758288  -0.30026584  0.13454734\n",
       "6  0.07383932      -0.57834859 -0.4065058  -0.07734433  0.07000694"
      ]
     },
     "metadata": {},
     "output_type": "display_data"
    }
   ],
   "source": [
    "index_data <- scaled_data %>%\n",
    "    as.data.frame() %>%\n",
    "    mutate(index = as.data.frame(principal_components)[, 1])\n",
    "\n",
    "head(index_data)\n"
   ]
  },
  {
   "attachments": {},
   "cell_type": "markdown",
   "metadata": {
    "slideshow": {
     "slide_type": "subslide"
    }
   },
   "source": [
    "### Test The Index"
   ]
  },
  {
   "attachments": {},
   "cell_type": "markdown",
   "metadata": {
    "slideshow": {
     "slide_type": "subslide"
    }
   },
   "source": [
    "#### We remove variables with a p value greater than alpha of .05"
   ]
  },
  {
   "cell_type": "code",
   "execution_count": 37,
   "metadata": {
    "vscode": {
     "languageId": "r"
    }
   },
   "outputs": [
    {
     "data": {
      "text/html": [
       "<dl>\n",
       "\t<dt>$has_computer</dt>\n",
       "\t\t<dd>0</dd>\n",
       "\t<dt>$with_internet</dt>\n",
       "\t\t<dd>0</dd>\n",
       "\t<dt>$sixtyfive_and_older</dt>\n",
       "\t\t<dd>0.00000000346637030190777</dd>\n",
       "\t<dt>$median_income</dt>\n",
       "\t\t<dd>0.15788520163541</dd>\n",
       "\t<dt>$number_providers</dt>\n",
       "\t\t<dd>0.00000000002639000129534</dd>\n",
       "\t<dt>$mean_lowest_cost</dt>\n",
       "\t\t<dd>0.00000475458068960322</dd>\n",
       "\t<dt>$mean_d_mbps</dt>\n",
       "\t\t<dd>0</dd>\n",
       "\t<dt>$mean_u_mbps</dt>\n",
       "\t\t<dd>0.0000000015618764059866</dd>\n",
       "\t<dt>$mean_lat_ms</dt>\n",
       "\t\t<dd>0</dd>\n",
       "\t<dt>$index</dt>\n",
       "\t\t<dd>&lt;NA&gt;</dd>\n",
       "</dl>\n"
      ],
      "text/latex": [
       "\\begin{description}\n",
       "\\item[\\$has\\_computer] 0\n",
       "\\item[\\$with\\_internet] 0\n",
       "\\item[\\$sixtyfive\\_and\\_older] 0.00000000346637030190777\n",
       "\\item[\\$median\\_income] 0.15788520163541\n",
       "\\item[\\$number\\_providers] 0.00000000002639000129534\n",
       "\\item[\\$mean\\_lowest\\_cost] 0.00000475458068960322\n",
       "\\item[\\$mean\\_d\\_mbps] 0\n",
       "\\item[\\$mean\\_u\\_mbps] 0.0000000015618764059866\n",
       "\\item[\\$mean\\_lat\\_ms] 0\n",
       "\\item[\\$index] <NA>\n",
       "\\end{description}\n"
      ],
      "text/markdown": [
       "$has_computer\n",
       ":   0\n",
       "$with_internet\n",
       ":   0\n",
       "$sixtyfive_and_older\n",
       ":   0.00000000346637030190777\n",
       "$median_income\n",
       ":   0.15788520163541\n",
       "$number_providers\n",
       ":   0.00000000002639000129534\n",
       "$mean_lowest_cost\n",
       ":   0.00000475458068960322\n",
       "$mean_d_mbps\n",
       ":   0\n",
       "$mean_u_mbps\n",
       ":   0.0000000015618764059866\n",
       "$mean_lat_ms\n",
       ":   0\n",
       "$index\n",
       ":   &lt;NA&gt;\n",
       "\n",
       "\n"
      ],
      "text/plain": [
       "$has_computer\n",
       "[1] 0\n",
       "\n",
       "$with_internet\n",
       "[1] 0\n",
       "\n",
       "$sixtyfive_and_older\n",
       "[1] 0.00000000346637\n",
       "\n",
       "$median_income\n",
       "[1] 0.1578852\n",
       "\n",
       "$number_providers\n",
       "[1] 0.00000000002639\n",
       "\n",
       "$mean_lowest_cost\n",
       "[1] 0.000004754581\n",
       "\n",
       "$mean_d_mbps\n",
       "[1] 0\n",
       "\n",
       "$mean_u_mbps\n",
       "[1] 0.000000001561876\n",
       "\n",
       "$mean_lat_ms\n",
       "[1] 0\n",
       "\n",
       "$index\n",
       "[1] NA\n"
      ]
     },
     "metadata": {},
     "output_type": "display_data"
    }
   ],
   "source": [
    "as.list(rcorr(as.matrix(index_data), type = \"pearson\")$P[, ncol(index_data)])\n"
   ]
  },
  {
   "cell_type": "code",
   "execution_count": 38,
   "metadata": {
    "slideshow": {
     "slide_type": "subslide"
    },
    "vscode": {
     "languageId": "r"
    }
   },
   "outputs": [
    {
     "data": {
      "text/html": [
       "<table class=\"dataframe\">\n",
       "<caption>A matrix: 10 × 10 of type dbl</caption>\n",
       "<thead>\n",
       "\t<tr><th></th><th scope=col>has_computer</th><th scope=col>with_internet</th><th scope=col>sixtyfive_and_older</th><th scope=col>median_income</th><th scope=col>number_providers</th><th scope=col>mean_lowest_cost</th><th scope=col>mean_d_mbps</th><th scope=col>mean_u_mbps</th><th scope=col>mean_lat_ms</th><th scope=col>index</th></tr>\n",
       "</thead>\n",
       "<tbody>\n",
       "\t<tr><th scope=row>has_computer</th><td>           NA</td><td>0.000000000000</td><td>0.00000000000000</td><td>0.02755381</td><td>0.118292436762501785</td><td>0.142469388878</td><td>0.000025995933165657</td><td>0.007680971891602</td><td>0.0062836851041634</td><td>0.000000000000000</td></tr>\n",
       "\t<tr><th scope=row>with_internet</th><td>0.00000000000</td><td>            NA</td><td>0.00000000000000</td><td>0.03006990</td><td>0.082203264746717686</td><td>0.065587150157</td><td>0.000001719724394889</td><td>0.006902898453880</td><td>0.0012541075067722</td><td>0.000000000000000</td></tr>\n",
       "\t<tr><th scope=row>sixtyfive_and_older</th><td>0.00000000000</td><td>0.000000000000</td><td>              NA</td><td>0.04477147</td><td>0.476702946467304045</td><td>0.497188268940</td><td>0.569411922064836595</td><td>0.022030156319832</td><td>0.1693793288053422</td><td>0.000000003466370</td></tr>\n",
       "\t<tr><th scope=row>median_income</th><td>0.02755381191</td><td>0.030069898204</td><td>0.04477147246482</td><td>        NA</td><td>0.767570871280282230</td><td>0.469668921788</td><td>0.521089097196837159</td><td>0.807238517875172</td><td>0.4313383103711321</td><td>0.157885201635410</td></tr>\n",
       "\t<tr><th scope=row>number_providers</th><td>0.11829243676</td><td>0.082203264747</td><td>0.47670294646730</td><td>0.76757087</td><td>                  NA</td><td>0.000005261423</td><td>0.000000000006029399</td><td>0.826929938720940</td><td>0.0000000002296336</td><td>0.000000000026390</td></tr>\n",
       "\t<tr><th scope=row>mean_lowest_cost</th><td>0.14246938888</td><td>0.065587150157</td><td>0.49718826894047</td><td>0.46966892</td><td>0.000005261422731273</td><td>            NA</td><td>0.007630242115620689</td><td>0.256184957503358</td><td>0.0141555670114635</td><td>0.000004754580690</td></tr>\n",
       "\t<tr><th scope=row>mean_d_mbps</th><td>0.00002599593</td><td>0.000001719724</td><td>0.56941192206484</td><td>0.52108910</td><td>0.000000000006029399</td><td>0.007630242116</td><td>                  NA</td><td>0.000000013665493</td><td>0.0000000000000000</td><td>0.000000000000000</td></tr>\n",
       "\t<tr><th scope=row>mean_u_mbps</th><td>0.00768097189</td><td>0.006902898454</td><td>0.02203015631983</td><td>0.80723852</td><td>0.826929938720939894</td><td>0.256184957503</td><td>0.000000013665493181</td><td>               NA</td><td>0.0000000029104892</td><td>0.000000001561876</td></tr>\n",
       "\t<tr><th scope=row>mean_lat_ms</th><td>0.00628368510</td><td>0.001254107507</td><td>0.16937932880534</td><td>0.43133831</td><td>0.000000000229633645</td><td>0.014155567011</td><td>0.000000000000000000</td><td>0.000000002910489</td><td>                NA</td><td>0.000000000000000</td></tr>\n",
       "\t<tr><th scope=row>index</th><td>0.00000000000</td><td>0.000000000000</td><td>0.00000000346637</td><td>0.15788520</td><td>0.000000000026390001</td><td>0.000004754581</td><td>0.000000000000000000</td><td>0.000000001561876</td><td>0.0000000000000000</td><td>               NA</td></tr>\n",
       "</tbody>\n",
       "</table>\n"
      ],
      "text/latex": [
       "A matrix: 10 × 10 of type dbl\n",
       "\\begin{tabular}{r|llllllllll}\n",
       "  & has\\_computer & with\\_internet & sixtyfive\\_and\\_older & median\\_income & number\\_providers & mean\\_lowest\\_cost & mean\\_d\\_mbps & mean\\_u\\_mbps & mean\\_lat\\_ms & index\\\\\n",
       "\\hline\n",
       "\thas\\_computer &            NA & 0.000000000000 & 0.00000000000000 & 0.02755381 & 0.118292436762501785 & 0.142469388878 & 0.000025995933165657 & 0.007680971891602 & 0.0062836851041634 & 0.000000000000000\\\\\n",
       "\twith\\_internet & 0.00000000000 &             NA & 0.00000000000000 & 0.03006990 & 0.082203264746717686 & 0.065587150157 & 0.000001719724394889 & 0.006902898453880 & 0.0012541075067722 & 0.000000000000000\\\\\n",
       "\tsixtyfive\\_and\\_older & 0.00000000000 & 0.000000000000 &               NA & 0.04477147 & 0.476702946467304045 & 0.497188268940 & 0.569411922064836595 & 0.022030156319832 & 0.1693793288053422 & 0.000000003466370\\\\\n",
       "\tmedian\\_income & 0.02755381191 & 0.030069898204 & 0.04477147246482 &         NA & 0.767570871280282230 & 0.469668921788 & 0.521089097196837159 & 0.807238517875172 & 0.4313383103711321 & 0.157885201635410\\\\\n",
       "\tnumber\\_providers & 0.11829243676 & 0.082203264747 & 0.47670294646730 & 0.76757087 &                   NA & 0.000005261423 & 0.000000000006029399 & 0.826929938720940 & 0.0000000002296336 & 0.000000000026390\\\\\n",
       "\tmean\\_lowest\\_cost & 0.14246938888 & 0.065587150157 & 0.49718826894047 & 0.46966892 & 0.000005261422731273 &             NA & 0.007630242115620689 & 0.256184957503358 & 0.0141555670114635 & 0.000004754580690\\\\\n",
       "\tmean\\_d\\_mbps & 0.00002599593 & 0.000001719724 & 0.56941192206484 & 0.52108910 & 0.000000000006029399 & 0.007630242116 &                   NA & 0.000000013665493 & 0.0000000000000000 & 0.000000000000000\\\\\n",
       "\tmean\\_u\\_mbps & 0.00768097189 & 0.006902898454 & 0.02203015631983 & 0.80723852 & 0.826929938720939894 & 0.256184957503 & 0.000000013665493181 &                NA & 0.0000000029104892 & 0.000000001561876\\\\\n",
       "\tmean\\_lat\\_ms & 0.00628368510 & 0.001254107507 & 0.16937932880534 & 0.43133831 & 0.000000000229633645 & 0.014155567011 & 0.000000000000000000 & 0.000000002910489 &                 NA & 0.000000000000000\\\\\n",
       "\tindex & 0.00000000000 & 0.000000000000 & 0.00000000346637 & 0.15788520 & 0.000000000026390001 & 0.000004754581 & 0.000000000000000000 & 0.000000001561876 & 0.0000000000000000 &                NA\\\\\n",
       "\\end{tabular}\n"
      ],
      "text/markdown": [
       "\n",
       "A matrix: 10 × 10 of type dbl\n",
       "\n",
       "| <!--/--> | has_computer | with_internet | sixtyfive_and_older | median_income | number_providers | mean_lowest_cost | mean_d_mbps | mean_u_mbps | mean_lat_ms | index |\n",
       "|---|---|---|---|---|---|---|---|---|---|---|\n",
       "| has_computer |            NA | 0.000000000000 | 0.00000000000000 | 0.02755381 | 0.118292436762501785 | 0.142469388878 | 0.000025995933165657 | 0.007680971891602 | 0.0062836851041634 | 0.000000000000000 |\n",
       "| with_internet | 0.00000000000 |             NA | 0.00000000000000 | 0.03006990 | 0.082203264746717686 | 0.065587150157 | 0.000001719724394889 | 0.006902898453880 | 0.0012541075067722 | 0.000000000000000 |\n",
       "| sixtyfive_and_older | 0.00000000000 | 0.000000000000 |               NA | 0.04477147 | 0.476702946467304045 | 0.497188268940 | 0.569411922064836595 | 0.022030156319832 | 0.1693793288053422 | 0.000000003466370 |\n",
       "| median_income | 0.02755381191 | 0.030069898204 | 0.04477147246482 |         NA | 0.767570871280282230 | 0.469668921788 | 0.521089097196837159 | 0.807238517875172 | 0.4313383103711321 | 0.157885201635410 |\n",
       "| number_providers | 0.11829243676 | 0.082203264747 | 0.47670294646730 | 0.76757087 |                   NA | 0.000005261423 | 0.000000000006029399 | 0.826929938720940 | 0.0000000002296336 | 0.000000000026390 |\n",
       "| mean_lowest_cost | 0.14246938888 | 0.065587150157 | 0.49718826894047 | 0.46966892 | 0.000005261422731273 |             NA | 0.007630242115620689 | 0.256184957503358 | 0.0141555670114635 | 0.000004754580690 |\n",
       "| mean_d_mbps | 0.00002599593 | 0.000001719724 | 0.56941192206484 | 0.52108910 | 0.000000000006029399 | 0.007630242116 |                   NA | 0.000000013665493 | 0.0000000000000000 | 0.000000000000000 |\n",
       "| mean_u_mbps | 0.00768097189 | 0.006902898454 | 0.02203015631983 | 0.80723852 | 0.826929938720939894 | 0.256184957503 | 0.000000013665493181 |                NA | 0.0000000029104892 | 0.000000001561876 |\n",
       "| mean_lat_ms | 0.00628368510 | 0.001254107507 | 0.16937932880534 | 0.43133831 | 0.000000000229633645 | 0.014155567011 | 0.000000000000000000 | 0.000000002910489 |                 NA | 0.000000000000000 |\n",
       "| index | 0.00000000000 | 0.000000000000 | 0.00000000346637 | 0.15788520 | 0.000000000026390001 | 0.000004754581 | 0.000000000000000000 | 0.000000001561876 | 0.0000000000000000 |                NA |\n",
       "\n"
      ],
      "text/plain": [
       "                    has_computer  with_internet  sixtyfive_and_older\n",
       "has_computer                   NA 0.000000000000 0.00000000000000   \n",
       "with_internet       0.00000000000             NA 0.00000000000000   \n",
       "sixtyfive_and_older 0.00000000000 0.000000000000               NA   \n",
       "median_income       0.02755381191 0.030069898204 0.04477147246482   \n",
       "number_providers    0.11829243676 0.082203264747 0.47670294646730   \n",
       "mean_lowest_cost    0.14246938888 0.065587150157 0.49718826894047   \n",
       "mean_d_mbps         0.00002599593 0.000001719724 0.56941192206484   \n",
       "mean_u_mbps         0.00768097189 0.006902898454 0.02203015631983   \n",
       "mean_lat_ms         0.00628368510 0.001254107507 0.16937932880534   \n",
       "index               0.00000000000 0.000000000000 0.00000000346637   \n",
       "                    median_income number_providers     mean_lowest_cost\n",
       "has_computer        0.02755381    0.118292436762501785 0.142469388878  \n",
       "with_internet       0.03006990    0.082203264746717686 0.065587150157  \n",
       "sixtyfive_and_older 0.04477147    0.476702946467304045 0.497188268940  \n",
       "median_income               NA    0.767570871280282230 0.469668921788  \n",
       "number_providers    0.76757087                      NA 0.000005261423  \n",
       "mean_lowest_cost    0.46966892    0.000005261422731273             NA  \n",
       "mean_d_mbps         0.52108910    0.000000000006029399 0.007630242116  \n",
       "mean_u_mbps         0.80723852    0.826929938720939894 0.256184957503  \n",
       "mean_lat_ms         0.43133831    0.000000000229633645 0.014155567011  \n",
       "index               0.15788520    0.000000000026390001 0.000004754581  \n",
       "                    mean_d_mbps          mean_u_mbps       mean_lat_ms       \n",
       "has_computer        0.000025995933165657 0.007680971891602 0.0062836851041634\n",
       "with_internet       0.000001719724394889 0.006902898453880 0.0012541075067722\n",
       "sixtyfive_and_older 0.569411922064836595 0.022030156319832 0.1693793288053422\n",
       "median_income       0.521089097196837159 0.807238517875172 0.4313383103711321\n",
       "number_providers    0.000000000006029399 0.826929938720940 0.0000000002296336\n",
       "mean_lowest_cost    0.007630242115620689 0.256184957503358 0.0141555670114635\n",
       "mean_d_mbps                           NA 0.000000013665493 0.0000000000000000\n",
       "mean_u_mbps         0.000000013665493181                NA 0.0000000029104892\n",
       "mean_lat_ms         0.000000000000000000 0.000000002910489                 NA\n",
       "index               0.000000000000000000 0.000000001561876 0.0000000000000000\n",
       "                    index            \n",
       "has_computer        0.000000000000000\n",
       "with_internet       0.000000000000000\n",
       "sixtyfive_and_older 0.000000003466370\n",
       "median_income       0.157885201635410\n",
       "number_providers    0.000000000026390\n",
       "mean_lowest_cost    0.000004754580690\n",
       "mean_d_mbps         0.000000000000000\n",
       "mean_u_mbps         0.000000001561876\n",
       "mean_lat_ms         0.000000000000000\n",
       "index                              NA"
      ]
     },
     "metadata": {},
     "output_type": "display_data"
    }
   ],
   "source": [
    "rcorr(as.matrix(index_data), type = \"pearson\")$P\n"
   ]
  },
  {
   "cell_type": "code",
   "execution_count": 39,
   "metadata": {
    "slideshow": {
     "slide_type": "subslide"
    },
    "vscode": {
     "languageId": "r"
    }
   },
   "outputs": [
    {
     "data": {
      "text/html": [
       "<table class=\"dataframe\">\n",
       "<caption>A matrix: 10 × 10 of type dbl</caption>\n",
       "<thead>\n",
       "\t<tr><th></th><th scope=col>has_computer</th><th scope=col>with_internet</th><th scope=col>sixtyfive_and_older</th><th scope=col>median_income</th><th scope=col>number_providers</th><th scope=col>mean_lowest_cost</th><th scope=col>mean_d_mbps</th><th scope=col>mean_u_mbps</th><th scope=col>mean_lat_ms</th><th scope=col>index</th></tr>\n",
       "</thead>\n",
       "<tbody>\n",
       "\t<tr><th scope=row>has_computer</th><td> 1.0000000</td><td> 0.9894358</td><td> 0.63073622</td><td> 0.16291986</td><td>-0.11586967</td><td> 0.10884185</td><td> 0.30554032</td><td> 0.19648189</td><td>-0.20130674</td><td> 0.8020190</td></tr>\n",
       "\t<tr><th scope=row>with_internet</th><td> 0.9894358</td><td> 1.0000000</td><td> 0.62529208</td><td> 0.16040888</td><td>-0.12882664</td><td> 0.13640579</td><td> 0.34507339</td><td> 0.19906151</td><td>-0.23671663</td><td> 0.8242459</td></tr>\n",
       "\t<tr><th scope=row>sixtyfive_and_older</th><td> 0.6307362</td><td> 0.6252921</td><td> 1.00000000</td><td> 0.14854040</td><td> 0.05292992</td><td> 0.05050125</td><td>-0.04232679</td><td>-0.16920740</td><td> 0.10201766</td><td> 0.4192990</td></tr>\n",
       "\t<tr><th scope=row>median_income</th><td> 0.1629199</td><td> 0.1604089</td><td> 0.14854040</td><td> 1.00000000</td><td> 0.02199604</td><td>-0.05377681</td><td>-0.04773346</td><td>-0.01815921</td><td> 0.05852071</td><td> 0.1048247</td></tr>\n",
       "\t<tr><th scope=row>number_providers</th><td>-0.1158697</td><td>-0.1288266</td><td> 0.05292992</td><td> 0.02199604</td><td> 1.00000000</td><td>-0.32945829</td><td>-0.48020798</td><td>-0.01627282</td><td> 0.44680246</td><td>-0.4670909</td></tr>\n",
       "\t<tr><th scope=row>mean_lowest_cost</th><td> 0.1088418</td><td> 0.1364058</td><td> 0.05050125</td><td>-0.05377681</td><td>-0.32945829</td><td> 1.00000000</td><td> 0.19664282</td><td> 0.08436356</td><td>-0.18109139</td><td> 0.3309084</td></tr>\n",
       "\t<tr><th scope=row>mean_d_mbps</th><td> 0.3055403</td><td> 0.3450734</td><td>-0.04232679</td><td>-0.04773346</td><td>-0.48020798</td><td> 0.19664282</td><td> 1.00000000</td><td> 0.40439966</td><td>-0.83156103</td><td> 0.7504760</td></tr>\n",
       "\t<tr><th scope=row>mean_u_mbps</th><td> 0.1964819</td><td> 0.1990615</td><td>-0.16920740</td><td>-0.01815921</td><td>-0.01627282</td><td> 0.08436356</td><td> 0.40439966</td><td> 1.00000000</td><td>-0.42114628</td><td> 0.4276355</td></tr>\n",
       "\t<tr><th scope=row>mean_lat_ms</th><td>-0.2013067</td><td>-0.2367166</td><td> 0.10201766</td><td> 0.05852071</td><td> 0.44680246</td><td>-0.18109139</td><td>-0.83156103</td><td>-0.42114628</td><td> 1.00000000</td><td>-0.6764389</td></tr>\n",
       "\t<tr><th scope=row>index</th><td> 0.8020190</td><td> 0.8242459</td><td> 0.41929904</td><td> 0.10482475</td><td>-0.46709089</td><td> 0.33090839</td><td> 0.75047596</td><td> 0.42763546</td><td>-0.67643892</td><td> 1.0000000</td></tr>\n",
       "</tbody>\n",
       "</table>\n"
      ],
      "text/latex": [
       "A matrix: 10 × 10 of type dbl\n",
       "\\begin{tabular}{r|llllllllll}\n",
       "  & has\\_computer & with\\_internet & sixtyfive\\_and\\_older & median\\_income & number\\_providers & mean\\_lowest\\_cost & mean\\_d\\_mbps & mean\\_u\\_mbps & mean\\_lat\\_ms & index\\\\\n",
       "\\hline\n",
       "\thas\\_computer &  1.0000000 &  0.9894358 &  0.63073622 &  0.16291986 & -0.11586967 &  0.10884185 &  0.30554032 &  0.19648189 & -0.20130674 &  0.8020190\\\\\n",
       "\twith\\_internet &  0.9894358 &  1.0000000 &  0.62529208 &  0.16040888 & -0.12882664 &  0.13640579 &  0.34507339 &  0.19906151 & -0.23671663 &  0.8242459\\\\\n",
       "\tsixtyfive\\_and\\_older &  0.6307362 &  0.6252921 &  1.00000000 &  0.14854040 &  0.05292992 &  0.05050125 & -0.04232679 & -0.16920740 &  0.10201766 &  0.4192990\\\\\n",
       "\tmedian\\_income &  0.1629199 &  0.1604089 &  0.14854040 &  1.00000000 &  0.02199604 & -0.05377681 & -0.04773346 & -0.01815921 &  0.05852071 &  0.1048247\\\\\n",
       "\tnumber\\_providers & -0.1158697 & -0.1288266 &  0.05292992 &  0.02199604 &  1.00000000 & -0.32945829 & -0.48020798 & -0.01627282 &  0.44680246 & -0.4670909\\\\\n",
       "\tmean\\_lowest\\_cost &  0.1088418 &  0.1364058 &  0.05050125 & -0.05377681 & -0.32945829 &  1.00000000 &  0.19664282 &  0.08436356 & -0.18109139 &  0.3309084\\\\\n",
       "\tmean\\_d\\_mbps &  0.3055403 &  0.3450734 & -0.04232679 & -0.04773346 & -0.48020798 &  0.19664282 &  1.00000000 &  0.40439966 & -0.83156103 &  0.7504760\\\\\n",
       "\tmean\\_u\\_mbps &  0.1964819 &  0.1990615 & -0.16920740 & -0.01815921 & -0.01627282 &  0.08436356 &  0.40439966 &  1.00000000 & -0.42114628 &  0.4276355\\\\\n",
       "\tmean\\_lat\\_ms & -0.2013067 & -0.2367166 &  0.10201766 &  0.05852071 &  0.44680246 & -0.18109139 & -0.83156103 & -0.42114628 &  1.00000000 & -0.6764389\\\\\n",
       "\tindex &  0.8020190 &  0.8242459 &  0.41929904 &  0.10482475 & -0.46709089 &  0.33090839 &  0.75047596 &  0.42763546 & -0.67643892 &  1.0000000\\\\\n",
       "\\end{tabular}\n"
      ],
      "text/markdown": [
       "\n",
       "A matrix: 10 × 10 of type dbl\n",
       "\n",
       "| <!--/--> | has_computer | with_internet | sixtyfive_and_older | median_income | number_providers | mean_lowest_cost | mean_d_mbps | mean_u_mbps | mean_lat_ms | index |\n",
       "|---|---|---|---|---|---|---|---|---|---|---|\n",
       "| has_computer |  1.0000000 |  0.9894358 |  0.63073622 |  0.16291986 | -0.11586967 |  0.10884185 |  0.30554032 |  0.19648189 | -0.20130674 |  0.8020190 |\n",
       "| with_internet |  0.9894358 |  1.0000000 |  0.62529208 |  0.16040888 | -0.12882664 |  0.13640579 |  0.34507339 |  0.19906151 | -0.23671663 |  0.8242459 |\n",
       "| sixtyfive_and_older |  0.6307362 |  0.6252921 |  1.00000000 |  0.14854040 |  0.05292992 |  0.05050125 | -0.04232679 | -0.16920740 |  0.10201766 |  0.4192990 |\n",
       "| median_income |  0.1629199 |  0.1604089 |  0.14854040 |  1.00000000 |  0.02199604 | -0.05377681 | -0.04773346 | -0.01815921 |  0.05852071 |  0.1048247 |\n",
       "| number_providers | -0.1158697 | -0.1288266 |  0.05292992 |  0.02199604 |  1.00000000 | -0.32945829 | -0.48020798 | -0.01627282 |  0.44680246 | -0.4670909 |\n",
       "| mean_lowest_cost |  0.1088418 |  0.1364058 |  0.05050125 | -0.05377681 | -0.32945829 |  1.00000000 |  0.19664282 |  0.08436356 | -0.18109139 |  0.3309084 |\n",
       "| mean_d_mbps |  0.3055403 |  0.3450734 | -0.04232679 | -0.04773346 | -0.48020798 |  0.19664282 |  1.00000000 |  0.40439966 | -0.83156103 |  0.7504760 |\n",
       "| mean_u_mbps |  0.1964819 |  0.1990615 | -0.16920740 | -0.01815921 | -0.01627282 |  0.08436356 |  0.40439966 |  1.00000000 | -0.42114628 |  0.4276355 |\n",
       "| mean_lat_ms | -0.2013067 | -0.2367166 |  0.10201766 |  0.05852071 |  0.44680246 | -0.18109139 | -0.83156103 | -0.42114628 |  1.00000000 | -0.6764389 |\n",
       "| index |  0.8020190 |  0.8242459 |  0.41929904 |  0.10482475 | -0.46709089 |  0.33090839 |  0.75047596 |  0.42763546 | -0.67643892 |  1.0000000 |\n",
       "\n"
      ],
      "text/plain": [
       "                    has_computer with_internet sixtyfive_and_older\n",
       "has_computer         1.0000000    0.9894358     0.63073622        \n",
       "with_internet        0.9894358    1.0000000     0.62529208        \n",
       "sixtyfive_and_older  0.6307362    0.6252921     1.00000000        \n",
       "median_income        0.1629199    0.1604089     0.14854040        \n",
       "number_providers    -0.1158697   -0.1288266     0.05292992        \n",
       "mean_lowest_cost     0.1088418    0.1364058     0.05050125        \n",
       "mean_d_mbps          0.3055403    0.3450734    -0.04232679        \n",
       "mean_u_mbps          0.1964819    0.1990615    -0.16920740        \n",
       "mean_lat_ms         -0.2013067   -0.2367166     0.10201766        \n",
       "index                0.8020190    0.8242459     0.41929904        \n",
       "                    median_income number_providers mean_lowest_cost mean_d_mbps\n",
       "has_computer         0.16291986   -0.11586967       0.10884185       0.30554032\n",
       "with_internet        0.16040888   -0.12882664       0.13640579       0.34507339\n",
       "sixtyfive_and_older  0.14854040    0.05292992       0.05050125      -0.04232679\n",
       "median_income        1.00000000    0.02199604      -0.05377681      -0.04773346\n",
       "number_providers     0.02199604    1.00000000      -0.32945829      -0.48020798\n",
       "mean_lowest_cost    -0.05377681   -0.32945829       1.00000000       0.19664282\n",
       "mean_d_mbps         -0.04773346   -0.48020798       0.19664282       1.00000000\n",
       "mean_u_mbps         -0.01815921   -0.01627282       0.08436356       0.40439966\n",
       "mean_lat_ms          0.05852071    0.44680246      -0.18109139      -0.83156103\n",
       "index                0.10482475   -0.46709089       0.33090839       0.75047596\n",
       "                    mean_u_mbps mean_lat_ms index     \n",
       "has_computer         0.19648189 -0.20130674  0.8020190\n",
       "with_internet        0.19906151 -0.23671663  0.8242459\n",
       "sixtyfive_and_older -0.16920740  0.10201766  0.4192990\n",
       "median_income       -0.01815921  0.05852071  0.1048247\n",
       "number_providers    -0.01627282  0.44680246 -0.4670909\n",
       "mean_lowest_cost     0.08436356 -0.18109139  0.3309084\n",
       "mean_d_mbps          0.40439966 -0.83156103  0.7504760\n",
       "mean_u_mbps          1.00000000 -0.42114628  0.4276355\n",
       "mean_lat_ms         -0.42114628  1.00000000 -0.6764389\n",
       "index                0.42763546 -0.67643892  1.0000000"
      ]
     },
     "metadata": {},
     "output_type": "display_data"
    }
   ],
   "source": [
    "rcorr(as.matrix(index_data), type = \"pearson\")$r\n"
   ]
  },
  {
   "cell_type": "code",
   "execution_count": 40,
   "metadata": {
    "slideshow": {
     "slide_type": "subslide"
    },
    "vscode": {
     "languageId": "r"
    }
   },
   "outputs": [],
   "source": [
    "data1.2 <- data %>% dplyr::select(-median_income)\n",
    "scaled_data1.2 <- scale(data1.2)\n",
    "\n",
    "pca_data1.2 <- prcomp(data1.2, scale = TRUE, center = TRUE)\n",
    "eigenvectors1.2 <- -pca_data1.2$rotation\n",
    "eigenvalues1.2 <- pca_data1.2$sdev^2\n",
    "\n",
    "index_col <- as.data.frame(-pca_data1.2$x)[, 1]\n",
    "\n",
    "index_data1.2 <- scaled_data %>%\n",
    "    as.data.frame() %>%\n",
    "    mutate(index = as.data.frame(-pca_data1.2$x)[, 1])\n"
   ]
  },
  {
   "attachments": {},
   "cell_type": "markdown",
   "metadata": {
    "slideshow": {
     "slide_type": "subslide"
    }
   },
   "source": [
    "#### Check To See if The Data Are Good"
   ]
  },
  {
   "cell_type": "code",
   "execution_count": 41,
   "metadata": {
    "slideshow": {
     "slide_type": "fragment"
    },
    "vscode": {
     "languageId": "r"
    }
   },
   "outputs": [
    {
     "data": {
      "text/html": [
       "<dl>\n",
       "\t<dt>$chisq</dt>\n",
       "\t\t<dd>1196.83261117247</dd>\n",
       "\t<dt>$p.value</dt>\n",
       "\t\t<dd>0.0000000000000000000000000000000000000000000000000000000000000000000000000000000000000000000000000000000000000000000000000000000000000000000000000000000000000000000000000000000000000000000000000000000000000000000000000000000000000000026753888718162</dd>\n",
       "\t<dt>$df</dt>\n",
       "\t\t<dd>28</dd>\n",
       "</dl>\n"
      ],
      "text/latex": [
       "\\begin{description}\n",
       "\\item[\\$chisq] 1196.83261117247\n",
       "\\item[\\$p.value] 0.0000000000000000000000000000000000000000000000000000000000000000000000000000000000000000000000000000000000000000000000000000000000000000000000000000000000000000000000000000000000000000000000000000000000000000000000000000000000000000026753888718162\n",
       "\\item[\\$df] 28\n",
       "\\end{description}\n"
      ],
      "text/markdown": [
       "$chisq\n",
       ":   1196.83261117247\n",
       "$p.value\n",
       ":   0.0000000000000000000000000000000000000000000000000000000000000000000000000000000000000000000000000000000000000000000000000000000000000000000000000000000000000000000000000000000000000000000000000000000000000000000000000000000000000000026753888718162\n",
       "$df\n",
       ":   28\n",
       "\n",
       "\n"
      ],
      "text/plain": [
       "$chisq\n",
       "[1] 1196.833\n",
       "\n",
       "$p.value\n",
       "[1] 0.000000000000000000000000000000000000000000000000000000000000000000000000000000000000000000000000000000000000000000000000000000000000000000000000000000000000000000000000000000000000000000000000000000000000000000000000000000000000000002675389\n",
       "\n",
       "$df\n",
       "[1] 28\n"
      ]
     },
     "metadata": {},
     "output_type": "display_data"
    }
   ],
   "source": [
    "cortest.bartlett(cov(scaled_data1.2), 183)\n"
   ]
  },
  {
   "attachments": {},
   "cell_type": "markdown",
   "metadata": {
    "slideshow": {
     "slide_type": "slide"
    }
   },
   "source": [
    "## Calculate The Final Coefficients with Stepwise Regression"
   ]
  },
  {
   "attachments": {},
   "cell_type": "markdown",
   "metadata": {
    "slideshow": {
     "slide_type": "subslide"
    }
   },
   "source": [
    "### Create Models"
   ]
  },
  {
   "cell_type": "code",
   "execution_count": 42,
   "metadata": {
    "vscode": {
     "languageId": "r"
    }
   },
   "outputs": [
    {
     "data": {
      "text/plain": [
       "Subset selection object\n",
       "Call: regsubsets.formula(index_col ~ ., as.data.frame(scaled_data), \n",
       "    method = \"forward\")\n",
       "9 Variables  (and intercept)\n",
       "                    Forced in Forced out\n",
       "has_computer            FALSE      FALSE\n",
       "with_internet           FALSE      FALSE\n",
       "sixtyfive_and_older     FALSE      FALSE\n",
       "median_income           FALSE      FALSE\n",
       "number_providers        FALSE      FALSE\n",
       "mean_lowest_cost        FALSE      FALSE\n",
       "mean_d_mbps             FALSE      FALSE\n",
       "mean_u_mbps             FALSE      FALSE\n",
       "mean_lat_ms             FALSE      FALSE\n",
       "1 subsets of each size up to 8\n",
       "Selection Algorithm: forward\n",
       "         has_computer with_internet sixtyfive_and_older median_income\n",
       "1  ( 1 ) \" \"          \"*\"           \" \"                 \" \"          \n",
       "2  ( 1 ) \" \"          \"*\"           \" \"                 \" \"          \n",
       "3  ( 1 ) \" \"          \"*\"           \" \"                 \" \"          \n",
       "4  ( 1 ) \" \"          \"*\"           \" \"                 \" \"          \n",
       "5  ( 1 ) \" \"          \"*\"           \" \"                 \" \"          \n",
       "6  ( 1 ) \" \"          \"*\"           \" \"                 \" \"          \n",
       "7  ( 1 ) \" \"          \"*\"           \"*\"                 \" \"          \n",
       "8  ( 1 ) \"*\"          \"*\"           \"*\"                 \" \"          \n",
       "         number_providers mean_lowest_cost mean_d_mbps mean_u_mbps mean_lat_ms\n",
       "1  ( 1 ) \" \"              \" \"              \" \"         \" \"         \" \"        \n",
       "2  ( 1 ) \" \"              \" \"              \"*\"         \" \"         \" \"        \n",
       "3  ( 1 ) \" \"              \" \"              \"*\"         \" \"         \"*\"        \n",
       "4  ( 1 ) \" \"              \"*\"              \"*\"         \" \"         \"*\"        \n",
       "5  ( 1 ) \"*\"              \"*\"              \"*\"         \" \"         \"*\"        \n",
       "6  ( 1 ) \"*\"              \"*\"              \"*\"         \"*\"         \"*\"        \n",
       "7  ( 1 ) \"*\"              \"*\"              \"*\"         \"*\"         \"*\"        \n",
       "8  ( 1 ) \"*\"              \"*\"              \"*\"         \"*\"         \"*\"        "
      ]
     },
     "metadata": {},
     "output_type": "display_data"
    }
   ],
   "source": [
    "forward <- regsubsets(index_col ~ ., as.data.frame(scaled_data), method = \"forward\")\n",
    "results <- summary(forward)\n",
    "\n",
    "results\n"
   ]
  },
  {
   "cell_type": "code",
   "execution_count": 43,
   "metadata": {
    "vscode": {
     "languageId": "r"
    }
   },
   "outputs": [
    {
     "data": {
      "text/html": [
       "8"
      ],
      "text/latex": [
       "8"
      ],
      "text/markdown": [
       "8"
      ],
      "text/plain": [
       "[1] 8"
      ]
     },
     "metadata": {},
     "output_type": "display_data"
    },
    {
     "data": {
      "text/html": [
       "8"
      ],
      "text/latex": [
       "8"
      ],
      "text/markdown": [
       "8"
      ],
      "text/plain": [
       "[1] 8"
      ]
     },
     "metadata": {},
     "output_type": "display_data"
    },
    {
     "data": {
      "text/html": [
       "8"
      ],
      "text/latex": [
       "8"
      ],
      "text/markdown": [
       "8"
      ],
      "text/plain": [
       "[1] 8"
      ]
     },
     "metadata": {},
     "output_type": "display_data"
    }
   ],
   "source": [
    "which.max(results$adjr2)\n",
    "which.min(results$bic)\n",
    "which.max(results$rsq)"
   ]
  },
  {
   "cell_type": "code",
   "execution_count": 44,
   "metadata": {
    "vscode": {
     "languageId": "r"
    }
   },
   "outputs": [
    {
     "data": {
      "text/html": [
       "<dl>\n",
       "\t<dt>$`(Intercept)`</dt>\n",
       "\t\t<dd>0.000000000000000695190432997705</dd>\n",
       "\t<dt>$with_internet</dt>\n",
       "\t\t<dd>0.919544773016862</dd>\n",
       "\t<dt>$sixtyfive_and_older</dt>\n",
       "\t\t<dd>0.238070099459294</dd>\n",
       "\t<dt>$number_providers</dt>\n",
       "\t\t<dd>-0.283197483084217</dd>\n",
       "\t<dt>$mean_lowest_cost</dt>\n",
       "\t\t<dd>0.18140792025227</dd>\n",
       "\t<dt>$mean_d_mbps</dt>\n",
       "\t\t<dd>0.418526801525844</dd>\n",
       "\t<dt>$mean_u_mbps</dt>\n",
       "\t\t<dd>0.260635201000311</dd>\n",
       "\t<dt>$mean_lat_ms</dt>\n",
       "\t\t<dd>-0.388188553080966</dd>\n",
       "</dl>\n"
      ],
      "text/latex": [
       "\\begin{description}\n",
       "\\item[\\$`(Intercept)`] 0.000000000000000695190432997705\n",
       "\\item[\\$with\\_internet] 0.919544773016862\n",
       "\\item[\\$sixtyfive\\_and\\_older] 0.238070099459294\n",
       "\\item[\\$number\\_providers] -0.283197483084217\n",
       "\\item[\\$mean\\_lowest\\_cost] 0.18140792025227\n",
       "\\item[\\$mean\\_d\\_mbps] 0.418526801525844\n",
       "\\item[\\$mean\\_u\\_mbps] 0.260635201000311\n",
       "\\item[\\$mean\\_lat\\_ms] -0.388188553080966\n",
       "\\end{description}\n"
      ],
      "text/markdown": [
       "$`(Intercept)`\n",
       ":   0.000000000000000695190432997705\n",
       "$with_internet\n",
       ":   0.919544773016862\n",
       "$sixtyfive_and_older\n",
       ":   0.238070099459294\n",
       "$number_providers\n",
       ":   -0.283197483084217\n",
       "$mean_lowest_cost\n",
       ":   0.18140792025227\n",
       "$mean_d_mbps\n",
       ":   0.418526801525844\n",
       "$mean_u_mbps\n",
       ":   0.260635201000311\n",
       "$mean_lat_ms\n",
       ":   -0.388188553080966\n",
       "\n",
       "\n"
      ],
      "text/plain": [
       "$`(Intercept)`\n",
       "[1] 0.0000000000000006951904\n",
       "\n",
       "$with_internet\n",
       "[1] 0.9195448\n",
       "\n",
       "$sixtyfive_and_older\n",
       "[1] 0.2380701\n",
       "\n",
       "$number_providers\n",
       "[1] -0.2831975\n",
       "\n",
       "$mean_lowest_cost\n",
       "[1] 0.1814079\n",
       "\n",
       "$mean_d_mbps\n",
       "[1] 0.4185268\n",
       "\n",
       "$mean_u_mbps\n",
       "[1] 0.2606352\n",
       "\n",
       "$mean_lat_ms\n",
       "[1] -0.3881886\n"
      ]
     },
     "metadata": {},
     "output_type": "display_data"
    }
   ],
   "source": [
    "as.list(coef(forward, 7))"
   ]
  },
  {
   "cell_type": "code",
   "execution_count": 45,
   "metadata": {
    "slideshow": {
     "slide_type": "subslide"
    },
    "vscode": {
     "languageId": "r"
    }
   },
   "outputs": [
    {
     "data": {
      "text/plain": [
       "\n",
       "Call:\n",
       "lm(formula = index_col ~ with_internet + sixtyfive_and_older + \n",
       "    number_providers + mean_lowest_cost + mean_d_mbps + mean_u_mbps + \n",
       "    mean_lat_ms, data = as.data.frame(scaled_data))\n",
       "\n",
       "Residuals:\n",
       "      Min        1Q    Median        3Q       Max \n",
       "-0.117888 -0.035833 -0.009977  0.025538  0.290854 \n",
       "\n",
       "Coefficients:\n",
       "                                    Estimate               Std. Error t value\n",
       "(Intercept)         -0.000000000000000004469  0.004658053117695023539    0.00\n",
       "with_internet        0.919544773016861660686  0.007061894622457788422  130.21\n",
       "sixtyfive_and_older  0.238070099459294026722  0.006715512539211152161   35.45\n",
       "number_providers    -0.283197483084216827809  0.005769324662002943936  -49.09\n",
       "mean_lowest_cost     0.181407920252269649897  0.004986765846081950802   36.38\n",
       "mean_d_mbps          0.418526801525845260077  0.009104631669045097284   45.97\n",
       "mean_u_mbps          0.260635201000310623431  0.005619697047219966539   46.38\n",
       "mean_lat_ms         -0.388188553080966003428  0.008664247364721180261  -44.80\n",
       "                               Pr(>|t|)    \n",
       "(Intercept)                           1    \n",
       "with_internet       <0.0000000000000002 ***\n",
       "sixtyfive_and_older <0.0000000000000002 ***\n",
       "number_providers    <0.0000000000000002 ***\n",
       "mean_lowest_cost    <0.0000000000000002 ***\n",
       "mean_d_mbps         <0.0000000000000002 ***\n",
       "mean_u_mbps         <0.0000000000000002 ***\n",
       "mean_lat_ms         <0.0000000000000002 ***\n",
       "---\n",
       "Signif. codes:  0 ‘***’ 0.001 ‘**’ 0.01 ‘*’ 0.05 ‘.’ 0.1 ‘ ’ 1\n",
       "\n",
       "Residual standard error: 0.06301 on 175 degrees of freedom\n",
       "Multiple R-squared:  0.9987,\tAdjusted R-squared:  0.9987 \n",
       "F-statistic: 1.984e+04 on 7 and 175 DF,  p-value: < 0.00000000000000022\n"
      ]
     },
     "metadata": {},
     "output_type": "display_data"
    }
   ],
   "source": [
    "model1.1 <- lm(\n",
    "    index_col ~\n",
    "        with_internet +\n",
    "        sixtyfive_and_older +\n",
    "        number_providers +\n",
    "        mean_lowest_cost +\n",
    "        mean_d_mbps +\n",
    "        mean_u_mbps +\n",
    "        mean_lat_ms,\n",
    "    as.data.frame(scaled_data)\n",
    ")\n",
    "summary(model1.1)\n"
   ]
  },
  {
   "attachments": {},
   "cell_type": "markdown",
   "metadata": {
    "slideshow": {
     "slide_type": "subslide"
    }
   },
   "source": [
    "### Choose Model Based On Diminishing Adj R2"
   ]
  },
  {
   "attachments": {},
   "cell_type": "markdown",
   "metadata": {
    "slideshow": {
     "slide_type": "subslide"
    }
   },
   "source": [
    "## We will end up using coefficients using another PCA method"
   ]
  },
  {
   "attachments": {},
   "cell_type": "markdown",
   "metadata": {
    "slideshow": {
     "slide_type": "slide"
    }
   },
   "source": [
    "# PCA Method 2"
   ]
  },
  {
   "attachments": {},
   "cell_type": "markdown",
   "metadata": {
    "slideshow": {
     "slide_type": "fragment"
    }
   },
   "source": [
    "## Determine Amount of PCs To Use"
   ]
  },
  {
   "attachments": {},
   "cell_type": "markdown",
   "metadata": {
    "slideshow": {
     "slide_type": "fragment"
    }
   },
   "source": [
    "## Variable Selection Based on sqrt(1/n)"
   ]
  },
  {
   "attachments": {},
   "cell_type": "markdown",
   "metadata": {
    "slideshow": {
     "slide_type": "fragment"
    }
   },
   "source": [
    "## Create Index Using PCs"
   ]
  },
  {
   "attachments": {},
   "cell_type": "markdown",
   "metadata": {
    "slideshow": {
     "slide_type": "slide"
    }
   },
   "source": [
    "## Determine Number of PCs To Use"
   ]
  },
  {
   "attachments": {},
   "cell_type": "markdown",
   "metadata": {
    "slideshow": {
     "slide_type": "subslide"
    }
   },
   "source": [
    "### Explain At Least 70% of The Data"
   ]
  },
  {
   "cell_type": "code",
   "execution_count": 46,
   "metadata": {
    "vscode": {
     "languageId": "r"
    }
   },
   "outputs": [
    {
     "data": {
      "text/html": [
       "<table class=\"dataframe\">\n",
       "<caption>A matrix: 9 × 3 of type dbl</caption>\n",
       "<thead>\n",
       "\t<tr><th></th><th scope=col>Standard deviation</th><th scope=col>Proportion of Variance</th><th scope=col>Cumulative Proportion</th></tr>\n",
       "</thead>\n",
       "<tbody>\n",
       "\t<tr><th scope=row>PC1</th><td>1.74377344</td><td>0.33786</td><td>0.33786</td></tr>\n",
       "\t<tr><th scope=row>PC2</th><td>1.46443455</td><td>0.23829</td><td>0.57615</td></tr>\n",
       "\t<tr><th scope=row>PC3</th><td>1.06562477</td><td>0.12617</td><td>0.70232</td></tr>\n",
       "\t<tr><th scope=row>PC4</th><td>0.97018357</td><td>0.10458</td><td>0.80690</td></tr>\n",
       "\t<tr><th scope=row>PC5</th><td>0.89551939</td><td>0.08911</td><td>0.89601</td></tr>\n",
       "\t<tr><th scope=row>PC6</th><td>0.66503071</td><td>0.04914</td><td>0.94515</td></tr>\n",
       "\t<tr><th scope=row>PC7</th><td>0.57074614</td><td>0.03619</td><td>0.98134</td></tr>\n",
       "\t<tr><th scope=row>PC8</th><td>0.39841255</td><td>0.01764</td><td>0.99898</td></tr>\n",
       "\t<tr><th scope=row>PC9</th><td>0.09575389</td><td>0.00102</td><td>1.00000</td></tr>\n",
       "</tbody>\n",
       "</table>\n"
      ],
      "text/latex": [
       "A matrix: 9 × 3 of type dbl\n",
       "\\begin{tabular}{r|lll}\n",
       "  & Standard deviation & Proportion of Variance & Cumulative Proportion\\\\\n",
       "\\hline\n",
       "\tPC1 & 1.74377344 & 0.33786 & 0.33786\\\\\n",
       "\tPC2 & 1.46443455 & 0.23829 & 0.57615\\\\\n",
       "\tPC3 & 1.06562477 & 0.12617 & 0.70232\\\\\n",
       "\tPC4 & 0.97018357 & 0.10458 & 0.80690\\\\\n",
       "\tPC5 & 0.89551939 & 0.08911 & 0.89601\\\\\n",
       "\tPC6 & 0.66503071 & 0.04914 & 0.94515\\\\\n",
       "\tPC7 & 0.57074614 & 0.03619 & 0.98134\\\\\n",
       "\tPC8 & 0.39841255 & 0.01764 & 0.99898\\\\\n",
       "\tPC9 & 0.09575389 & 0.00102 & 1.00000\\\\\n",
       "\\end{tabular}\n"
      ],
      "text/markdown": [
       "\n",
       "A matrix: 9 × 3 of type dbl\n",
       "\n",
       "| <!--/--> | Standard deviation | Proportion of Variance | Cumulative Proportion |\n",
       "|---|---|---|---|\n",
       "| PC1 | 1.74377344 | 0.33786 | 0.33786 |\n",
       "| PC2 | 1.46443455 | 0.23829 | 0.57615 |\n",
       "| PC3 | 1.06562477 | 0.12617 | 0.70232 |\n",
       "| PC4 | 0.97018357 | 0.10458 | 0.80690 |\n",
       "| PC5 | 0.89551939 | 0.08911 | 0.89601 |\n",
       "| PC6 | 0.66503071 | 0.04914 | 0.94515 |\n",
       "| PC7 | 0.57074614 | 0.03619 | 0.98134 |\n",
       "| PC8 | 0.39841255 | 0.01764 | 0.99898 |\n",
       "| PC9 | 0.09575389 | 0.00102 | 1.00000 |\n",
       "\n"
      ],
      "text/plain": [
       "    Standard deviation Proportion of Variance Cumulative Proportion\n",
       "PC1 1.74377344         0.33786                0.33786              \n",
       "PC2 1.46443455         0.23829                0.57615              \n",
       "PC3 1.06562477         0.12617                0.70232              \n",
       "PC4 0.97018357         0.10458                0.80690              \n",
       "PC5 0.89551939         0.08911                0.89601              \n",
       "PC6 0.66503071         0.04914                0.94515              \n",
       "PC7 0.57074614         0.03619                0.98134              \n",
       "PC8 0.39841255         0.01764                0.99898              \n",
       "PC9 0.09575389         0.00102                1.00000              "
      ]
     },
     "metadata": {},
     "output_type": "display_data"
    }
   ],
   "source": [
    "importance <- summary(pca_data)$importance %>%\n",
    "    as.data.frame() %>%\n",
    "    t()\n",
    "importance\n"
   ]
  },
  {
   "cell_type": "code",
   "execution_count": 47,
   "metadata": {
    "slideshow": {
     "slide_type": "subslide"
    },
    "vscode": {
     "languageId": "r"
    }
   },
   "outputs": [
    {
     "data": {
      "text/html": [
       "<table class=\"dataframe\">\n",
       "<caption>A data.frame: 9 × 3</caption>\n",
       "<thead>\n",
       "\t<tr><th scope=col>PC</th><th scope=col>variance_explained</th><th scope=col>total_percent</th></tr>\n",
       "\t<tr><th scope=col>&lt;chr&gt;</th><th scope=col>&lt;dbl&gt;</th><th scope=col>&lt;dbl&gt;</th></tr>\n",
       "</thead>\n",
       "<tbody>\n",
       "\t<tr><td>PC1</td><td>0.337860644</td><td>0.3378606</td></tr>\n",
       "\t<tr><td>PC2</td><td>0.238285395</td><td>0.5761460</td></tr>\n",
       "\t<tr><td>PC3</td><td>0.126172905</td><td>0.7023189</td></tr>\n",
       "\t<tr><td>PC4</td><td>0.104584017</td><td>0.8069030</td></tr>\n",
       "\t<tr><td>PC5</td><td>0.089106109</td><td>0.8960091</td></tr>\n",
       "\t<tr><td>PC6</td><td>0.049140650</td><td>0.9451497</td></tr>\n",
       "\t<tr><td>PC7</td><td>0.036194572</td><td>0.9813443</td></tr>\n",
       "\t<tr><td>PC8</td><td>0.017636951</td><td>0.9989812</td></tr>\n",
       "\t<tr><td>PC9</td><td>0.001018756</td><td>1.0000000</td></tr>\n",
       "</tbody>\n",
       "</table>\n"
      ],
      "text/latex": [
       "A data.frame: 9 × 3\n",
       "\\begin{tabular}{lll}\n",
       " PC & variance\\_explained & total\\_percent\\\\\n",
       " <chr> & <dbl> & <dbl>\\\\\n",
       "\\hline\n",
       "\t PC1 & 0.337860644 & 0.3378606\\\\\n",
       "\t PC2 & 0.238285395 & 0.5761460\\\\\n",
       "\t PC3 & 0.126172905 & 0.7023189\\\\\n",
       "\t PC4 & 0.104584017 & 0.8069030\\\\\n",
       "\t PC5 & 0.089106109 & 0.8960091\\\\\n",
       "\t PC6 & 0.049140650 & 0.9451497\\\\\n",
       "\t PC7 & 0.036194572 & 0.9813443\\\\\n",
       "\t PC8 & 0.017636951 & 0.9989812\\\\\n",
       "\t PC9 & 0.001018756 & 1.0000000\\\\\n",
       "\\end{tabular}\n"
      ],
      "text/markdown": [
       "\n",
       "A data.frame: 9 × 3\n",
       "\n",
       "| PC &lt;chr&gt; | variance_explained &lt;dbl&gt; | total_percent &lt;dbl&gt; |\n",
       "|---|---|---|\n",
       "| PC1 | 0.337860644 | 0.3378606 |\n",
       "| PC2 | 0.238285395 | 0.5761460 |\n",
       "| PC3 | 0.126172905 | 0.7023189 |\n",
       "| PC4 | 0.104584017 | 0.8069030 |\n",
       "| PC5 | 0.089106109 | 0.8960091 |\n",
       "| PC6 | 0.049140650 | 0.9451497 |\n",
       "| PC7 | 0.036194572 | 0.9813443 |\n",
       "| PC8 | 0.017636951 | 0.9989812 |\n",
       "| PC9 | 0.001018756 | 1.0000000 |\n",
       "\n"
      ],
      "text/plain": [
       "  PC  variance_explained total_percent\n",
       "1 PC1 0.337860644        0.3378606    \n",
       "2 PC2 0.238285395        0.5761460    \n",
       "3 PC3 0.126172905        0.7023189    \n",
       "4 PC4 0.104584017        0.8069030    \n",
       "5 PC5 0.089106109        0.8960091    \n",
       "6 PC6 0.049140650        0.9451497    \n",
       "7 PC7 0.036194572        0.9813443    \n",
       "8 PC8 0.017636951        0.9989812    \n",
       "9 PC9 0.001018756        1.0000000    "
      ]
     },
     "metadata": {},
     "output_type": "display_data"
    }
   ],
   "source": [
    "percent_explained <- data.frame(\n",
    "    PC = paste0(\"PC\", 1:9),\n",
    "    variance_explained = (eigenvalues / sum(eigenvalues)),\n",
    "    total_percent = cumsum((eigenvalues / sum(eigenvalues)))\n",
    ")\n",
    "percent_explained\n"
   ]
  },
  {
   "attachments": {},
   "cell_type": "markdown",
   "metadata": {
    "slideshow": {
     "slide_type": "fragment"
    }
   },
   "source": [
    "### This method suggests 3 PCs"
   ]
  },
  {
   "attachments": {},
   "cell_type": "markdown",
   "metadata": {
    "slideshow": {
     "slide_type": "subslide"
    }
   },
   "source": [
    "### Number of Eigenvalues Over 1"
   ]
  },
  {
   "cell_type": "code",
   "execution_count": 48,
   "metadata": {
    "vscode": {
     "languageId": "r"
    }
   },
   "outputs": [
    {
     "data": {
      "text/html": [
       "<ol>\n",
       "\t<li>3.04074579713778</li>\n",
       "\t<li>2.14456855644664</li>\n",
       "\t<li>1.13555614744263</li>\n",
       "\t<li>0.941256152116763</li>\n",
       "\t<li>0.801954980925561</li>\n",
       "\t<li>0.442265850098981</li>\n",
       "\t<li>0.325751151358129</li>\n",
       "\t<li>0.158732556082361</li>\n",
       "\t<li>0.00916880839115163</li>\n",
       "</ol>\n"
      ],
      "text/latex": [
       "\\begin{enumerate}\n",
       "\\item 3.04074579713778\n",
       "\\item 2.14456855644664\n",
       "\\item 1.13555614744263\n",
       "\\item 0.941256152116763\n",
       "\\item 0.801954980925561\n",
       "\\item 0.442265850098981\n",
       "\\item 0.325751151358129\n",
       "\\item 0.158732556082361\n",
       "\\item 0.00916880839115163\n",
       "\\end{enumerate}\n"
      ],
      "text/markdown": [
       "1. 3.04074579713778\n",
       "2. 2.14456855644664\n",
       "3. 1.13555614744263\n",
       "4. 0.941256152116763\n",
       "5. 0.801954980925561\n",
       "6. 0.442265850098981\n",
       "7. 0.325751151358129\n",
       "8. 0.158732556082361\n",
       "9. 0.00916880839115163\n",
       "\n",
       "\n"
      ],
      "text/plain": [
       "[[1]]\n",
       "[1] 3.040746\n",
       "\n",
       "[[2]]\n",
       "[1] 2.144569\n",
       "\n",
       "[[3]]\n",
       "[1] 1.135556\n",
       "\n",
       "[[4]]\n",
       "[1] 0.9412562\n",
       "\n",
       "[[5]]\n",
       "[1] 0.801955\n",
       "\n",
       "[[6]]\n",
       "[1] 0.4422659\n",
       "\n",
       "[[7]]\n",
       "[1] 0.3257512\n",
       "\n",
       "[[8]]\n",
       "[1] 0.1587326\n",
       "\n",
       "[[9]]\n",
       "[1] 0.009168808\n"
      ]
     },
     "metadata": {},
     "output_type": "display_data"
    }
   ],
   "source": [
    "as.list(eigenvalues)\n"
   ]
  },
  {
   "attachments": {},
   "cell_type": "markdown",
   "metadata": {
    "slideshow": {
     "slide_type": "fragment"
    }
   },
   "source": [
    "### There are 3"
   ]
  },
  {
   "attachments": {},
   "cell_type": "markdown",
   "metadata": {
    "slideshow": {
     "slide_type": "subslide"
    }
   },
   "source": [
    "### Scree Plot"
   ]
  },
  {
   "cell_type": "code",
   "execution_count": 49,
   "metadata": {
    "vscode": {
     "languageId": "r"
    }
   },
   "outputs": [
    {
     "data": {
      "image/png": "[encoded data removed]",
      "text/plain": [
       "plot without title"
      ]
     },
     "metadata": {
      "image/png": {
       "height": 420,
       "width": 420
      }
     },
     "output_type": "display_data"
    }
   ],
   "source": [
    "percent_explained %>%\n",
    "    ggplot(aes(x = factor(PC, level = c(\"PC1\", \"PC2\", \"PC3\", \"PC4\", \"PC5\", \"PC6\", \"PC7\", \"PC8\", \"PC9\")), y = variance_explained, group = 1, )) +\n",
    "    geom_point(size = 4) +\n",
    "    geom_line() +\n",
    "    ggtitle(\"Scree Plot\") +\n",
    "    xlab(\"PCs\")\n"
   ]
  },
  {
   "cell_type": "code",
   "execution_count": 50,
   "metadata": {
    "slideshow": {
     "slide_type": "subslide"
    },
    "vscode": {
     "languageId": "r"
    }
   },
   "outputs": [
    {
     "data": {
      "image/png": "[encoded data removed]",
      "text/plain": [
       "plot without title"
      ]
     },
     "metadata": {
      "image/png": {
       "height": 420,
       "width": 420
      }
     },
     "output_type": "display_data"
    }
   ],
   "source": [
    "percent_explained %>%\n",
    "    ggplot(aes(x = factor(PC, level = c(\"PC1\", \"PC2\", \"PC3\", \"PC4\", \"PC5\", \"PC6\", \"PC7\", \"PC8\", \"PC9\")), y = total_percent, group = 1, )) +\n",
    "    geom_point(size = 4) +\n",
    "    geom_line() +\n",
    "    ggtitle(\"Cumulative Scree Plot\") +\n",
    "    xlab(\"PCs\")\n"
   ]
  },
  {
   "attachments": {},
   "cell_type": "markdown",
   "metadata": {
    "slideshow": {
     "slide_type": "subslide"
    }
   },
   "source": [
    "### We'll use 3"
   ]
  },
  {
   "attachments": {},
   "cell_type": "markdown",
   "metadata": {
    "slideshow": {
     "slide_type": "slide"
    }
   },
   "source": [
    "## Feature Selection"
   ]
  },
  {
   "attachments": {},
   "cell_type": "markdown",
   "metadata": {
    "slideshow": {
     "slide_type": "subslide"
    }
   },
   "source": [
    "### Remove Variables That Don't Exceed sqrt(1/n) in PC 1-3"
   ]
  },
  {
   "cell_type": "code",
   "execution_count": 51,
   "metadata": {
    "vscode": {
     "languageId": "r"
    }
   },
   "outputs": [
    {
     "data": {
      "text/html": [
       "0.333333333333333"
      ],
      "text/latex": [
       "0.333333333333333"
      ],
      "text/markdown": [
       "0.333333333333333"
      ],
      "text/plain": [
       "[1] 0.3333333"
      ]
     },
     "metadata": {},
     "output_type": "display_data"
    }
   ],
   "source": [
    "sqrt(1 / 9)"
   ]
  },
  {
   "cell_type": "code",
   "execution_count": 52,
   "metadata": {
    "vscode": {
     "languageId": "r"
    }
   },
   "outputs": [
    {
     "data": {
      "text/html": [
       "<table class=\"dataframe\">\n",
       "<caption>A matrix: 9 × 3 of type dbl</caption>\n",
       "<thead>\n",
       "\t<tr><th></th><th scope=col>PC1</th><th scope=col>PC2</th><th scope=col>PC3</th></tr>\n",
       "</thead>\n",
       "<tbody>\n",
       "\t<tr><th scope=row>has_computer</th><td>-0.45993302</td><td> 0.3645542</td><td>-0.06581007</td></tr>\n",
       "\t<tr><th scope=row>with_internet</th><td>-0.47267948</td><td> 0.3461413</td><td>-0.05423008</td></tr>\n",
       "\t<tr><th scope=row>sixtyfive_and_older</th><td>-0.24045500</td><td> 0.5093232</td><td> 0.16540539</td></tr>\n",
       "\t<tr><th scope=row>median_income</th><td>-0.06011374</td><td> 0.2171501</td><td>-0.11890688</td></tr>\n",
       "\t<tr><th scope=row>number_providers</th><td> 0.26786214</td><td> 0.2950848</td><td>-0.50605500</td></tr>\n",
       "\t<tr><th scope=row>mean_lowest_cost</th><td>-0.18976570</td><td>-0.1367443</td><td> 0.58920624</td></tr>\n",
       "\t<tr><th scope=row>mean_d_mbps</th><td>-0.43037469</td><td>-0.3465275</td><td>-0.08730473</td></tr>\n",
       "\t<tr><th scope=row>mean_u_mbps</th><td>-0.24523568</td><td>-0.2388443</td><td>-0.57095208</td></tr>\n",
       "\t<tr><th scope=row>mean_lat_ms</th><td> 0.38791675</td><td> 0.3972660</td><td> 0.11985947</td></tr>\n",
       "</tbody>\n",
       "</table>\n"
      ],
      "text/latex": [
       "A matrix: 9 × 3 of type dbl\n",
       "\\begin{tabular}{r|lll}\n",
       "  & PC1 & PC2 & PC3\\\\\n",
       "\\hline\n",
       "\thas\\_computer & -0.45993302 &  0.3645542 & -0.06581007\\\\\n",
       "\twith\\_internet & -0.47267948 &  0.3461413 & -0.05423008\\\\\n",
       "\tsixtyfive\\_and\\_older & -0.24045500 &  0.5093232 &  0.16540539\\\\\n",
       "\tmedian\\_income & -0.06011374 &  0.2171501 & -0.11890688\\\\\n",
       "\tnumber\\_providers &  0.26786214 &  0.2950848 & -0.50605500\\\\\n",
       "\tmean\\_lowest\\_cost & -0.18976570 & -0.1367443 &  0.58920624\\\\\n",
       "\tmean\\_d\\_mbps & -0.43037469 & -0.3465275 & -0.08730473\\\\\n",
       "\tmean\\_u\\_mbps & -0.24523568 & -0.2388443 & -0.57095208\\\\\n",
       "\tmean\\_lat\\_ms &  0.38791675 &  0.3972660 &  0.11985947\\\\\n",
       "\\end{tabular}\n"
      ],
      "text/markdown": [
       "\n",
       "A matrix: 9 × 3 of type dbl\n",
       "\n",
       "| <!--/--> | PC1 | PC2 | PC3 |\n",
       "|---|---|---|---|\n",
       "| has_computer | -0.45993302 |  0.3645542 | -0.06581007 |\n",
       "| with_internet | -0.47267948 |  0.3461413 | -0.05423008 |\n",
       "| sixtyfive_and_older | -0.24045500 |  0.5093232 |  0.16540539 |\n",
       "| median_income | -0.06011374 |  0.2171501 | -0.11890688 |\n",
       "| number_providers |  0.26786214 |  0.2950848 | -0.50605500 |\n",
       "| mean_lowest_cost | -0.18976570 | -0.1367443 |  0.58920624 |\n",
       "| mean_d_mbps | -0.43037469 | -0.3465275 | -0.08730473 |\n",
       "| mean_u_mbps | -0.24523568 | -0.2388443 | -0.57095208 |\n",
       "| mean_lat_ms |  0.38791675 |  0.3972660 |  0.11985947 |\n",
       "\n"
      ],
      "text/plain": [
       "                    PC1         PC2        PC3        \n",
       "has_computer        -0.45993302  0.3645542 -0.06581007\n",
       "with_internet       -0.47267948  0.3461413 -0.05423008\n",
       "sixtyfive_and_older -0.24045500  0.5093232  0.16540539\n",
       "median_income       -0.06011374  0.2171501 -0.11890688\n",
       "number_providers     0.26786214  0.2950848 -0.50605500\n",
       "mean_lowest_cost    -0.18976570 -0.1367443  0.58920624\n",
       "mean_d_mbps         -0.43037469 -0.3465275 -0.08730473\n",
       "mean_u_mbps         -0.24523568 -0.2388443 -0.57095208\n",
       "mean_lat_ms          0.38791675  0.3972660  0.11985947"
      ]
     },
     "metadata": {},
     "output_type": "display_data"
    }
   ],
   "source": [
    "eigenvectors[, 1:3]"
   ]
  },
  {
   "attachments": {},
   "cell_type": "markdown",
   "metadata": {
    "slideshow": {
     "slide_type": "subslide"
    }
   },
   "source": [
    "### Remove median_income And Redo PCA"
   ]
  },
  {
   "cell_type": "code",
   "execution_count": 53,
   "metadata": {
    "vscode": {
     "languageId": "r"
    }
   },
   "outputs": [],
   "source": [
    "data2.2 <- data %>% dplyr::select(-median_income)\n",
    "scaled_data2.2 <- scale(data2.2)\n",
    "pca_data2.2 <- prcomp(data2.2, scale = TRUE, center = TRUE)\n",
    "eigenvectors2.2 <- -pca_data2.2$rotation\n",
    "eigenvalues2.2 <- pca_data2.2$sdev^2\n"
   ]
  },
  {
   "attachments": {},
   "cell_type": "markdown",
   "metadata": {
    "slideshow": {
     "slide_type": "slide"
    }
   },
   "source": [
    "## Create The Index"
   ]
  },
  {
   "attachments": {},
   "cell_type": "markdown",
   "metadata": {
    "slideshow": {
     "slide_type": "subslide"
    }
   },
   "source": [
    "### Multiply Eigenvectors By Eigenvalues To Get Weights"
   ]
  },
  {
   "cell_type": "code",
   "execution_count": 54,
   "metadata": {
    "vscode": {
     "languageId": "r"
    }
   },
   "outputs": [],
   "source": [
    "weights <- eigenvectors2.2[, 1:3]\n",
    "\n",
    "for (i in 1:ncol(weights)) {\n",
    "    weights[i, ] <- weights[i, ] * eigenvalues2.2[i]\n",
    "}\n"
   ]
  },
  {
   "cell_type": "code",
   "execution_count": 86,
   "metadata": {
    "vscode": {
     "languageId": "r"
    }
   },
   "outputs": [
    {
     "data": {
      "text/html": [
       "<table class=\"dataframe\">\n",
       "<caption>A data.frame: 183 × 9</caption>\n",
       "<thead>\n",
       "\t<tr><th scope=col>has_computer</th><th scope=col>with_internet</th><th scope=col>sixtyfive_and_older</th><th scope=col>median_income</th><th scope=col>number_providers</th><th scope=col>mean_lowest_cost</th><th scope=col>mean_d_mbps</th><th scope=col>mean_u_mbps</th><th scope=col>mean_lat_ms</th></tr>\n",
       "\t<tr><th scope=col>&lt;int&gt;</th><th scope=col>&lt;int&gt;</th><th scope=col>&lt;int&gt;</th><th scope=col>&lt;int&gt;</th><th scope=col>&lt;dbl&gt;</th><th scope=col>&lt;dbl&gt;</th><th scope=col>&lt;dbl&gt;</th><th scope=col>&lt;dbl&gt;</th><th scope=col>&lt;dbl&gt;</th></tr>\n",
       "</thead>\n",
       "<tbody>\n",
       "\t<tr><td>1664</td><td>1569</td><td>1337</td><td>73942</td><td>12</td><td>58.00000</td><td>110.3274</td><td>41.78210</td><td>51.70445</td></tr>\n",
       "\t<tr><td>1872</td><td>1780</td><td>1352</td><td>72988</td><td>13</td><td>60.07692</td><td>145.7848</td><td>22.88731</td><td>24.62630</td></tr>\n",
       "\t<tr><td>1279</td><td>1156</td><td> 396</td><td>38077</td><td>11</td><td>60.00000</td><td>173.4079</td><td>27.06202</td><td>29.98058</td></tr>\n",
       "\t<tr><td> 941</td><td> 805</td><td> 647</td><td>38777</td><td> 8</td><td>62.50000</td><td>127.6005</td><td>23.53829</td><td>22.16379</td></tr>\n",
       "\t<tr><td>1345</td><td>1198</td><td> 635</td><td>42639</td><td> 8</td><td>62.50000</td><td>192.4299</td><td>21.68565</td><td>21.66087</td></tr>\n",
       "\t<tr><td>1542</td><td>1392</td><td> 909</td><td>53947</td><td> 9</td><td>58.88889</td><td>151.0552</td><td>23.52123</td><td>26.18557</td></tr>\n",
       "\t<tr><td>1179</td><td>1179</td><td> 334</td><td>36981</td><td> 7</td><td>62.71429</td><td>268.8225</td><td>22.46620</td><td>14.43662</td></tr>\n",
       "\t<tr><td> 570</td><td> 515</td><td>  97</td><td>40476</td><td> 8</td><td>61.12500</td><td>304.6950</td><td>73.52632</td><td>10.17647</td></tr>\n",
       "\t<tr><td>1026</td><td> 975</td><td> 302</td><td>35778</td><td> 8</td><td>61.12500</td><td>267.8514</td><td>23.15267</td><td>14.22414</td></tr>\n",
       "\t<tr><td> 946</td><td> 878</td><td> 313</td><td>41271</td><td> 8</td><td>61.12500</td><td>287.0448</td><td>48.70619</td><td>12.67407</td></tr>\n",
       "\t<tr><td>1488</td><td>1451</td><td> 507</td><td>43889</td><td> 9</td><td>57.66667</td><td>260.2322</td><td>44.62267</td><td>12.30357</td></tr>\n",
       "\t<tr><td>1368</td><td>1344</td><td> 471</td><td>53932</td><td> 9</td><td>57.66667</td><td>246.0846</td><td>57.60121</td><td>11.88750</td></tr>\n",
       "\t<tr><td>1267</td><td>1224</td><td> 339</td><td>65545</td><td> 8</td><td>61.12500</td><td>274.0878</td><td>32.76166</td><td>15.70763</td></tr>\n",
       "\t<tr><td>2134</td><td>1974</td><td> 649</td><td>53867</td><td> 8</td><td>61.12500</td><td>320.6869</td><td>62.25031</td><td>13.52590</td></tr>\n",
       "\t<tr><td>1837</td><td>1770</td><td>1370</td><td>73271</td><td> 8</td><td>61.12500</td><td>259.0590</td><td>70.11178</td><td>18.04536</td></tr>\n",
       "\t<tr><td>2177</td><td>2071</td><td> 920</td><td>63149</td><td> 8</td><td>61.12500</td><td>278.5343</td><td>68.79503</td><td>15.69293</td></tr>\n",
       "\t<tr><td>2127</td><td>2014</td><td> 890</td><td>61536</td><td> 8</td><td>61.12500</td><td>264.3803</td><td>70.46662</td><td>12.78325</td></tr>\n",
       "\t<tr><td>1311</td><td>1349</td><td> 526</td><td>68102</td><td> 8</td><td>61.12500</td><td>280.1857</td><td>67.47713</td><td>13.08917</td></tr>\n",
       "\t<tr><td> 933</td><td> 906</td><td> 296</td><td>49828</td><td> 8</td><td>61.12500</td><td>240.8390</td><td>41.97553</td><td>12.86957</td></tr>\n",
       "\t<tr><td>1420</td><td>1361</td><td> 388</td><td>46209</td><td> 9</td><td>57.66667</td><td>268.6359</td><td>28.06279</td><td>12.55385</td></tr>\n",
       "\t<tr><td>2321</td><td>2226</td><td> 529</td><td>40786</td><td> 9</td><td>57.66667</td><td>294.3573</td><td>73.09170</td><td>11.56680</td></tr>\n",
       "\t<tr><td>2096</td><td>1928</td><td> 777</td><td>49783</td><td> 8</td><td>61.12500</td><td>262.5311</td><td>98.85843</td><td>12.48677</td></tr>\n",
       "\t<tr><td>1175</td><td>1105</td><td> 358</td><td>36096</td><td> 8</td><td>61.12500</td><td>289.6374</td><td>87.23211</td><td>12.92381</td></tr>\n",
       "\t<tr><td>1087</td><td>1018</td><td> 618</td><td>41358</td><td> 8</td><td>61.12500</td><td>250.6647</td><td>65.74106</td><td>12.27143</td></tr>\n",
       "\t<tr><td>1379</td><td>1321</td><td> 398</td><td>49425</td><td> 8</td><td>61.12500</td><td>245.4477</td><td>64.74504</td><td>18.44776</td></tr>\n",
       "\t<tr><td>1600</td><td>1515</td><td> 423</td><td>33374</td><td> 8</td><td>61.12500</td><td>264.6675</td><td>90.56022</td><td>11.40458</td></tr>\n",
       "\t<tr><td>1081</td><td>1061</td><td> 281</td><td>63531</td><td> 8</td><td>61.12500</td><td>256.5645</td><td>72.88237</td><td>11.18274</td></tr>\n",
       "\t<tr><td>1913</td><td>1852</td><td> 869</td><td>48367</td><td> 8</td><td>61.12500</td><td>260.9780</td><td>61.55381</td><td>12.09030</td></tr>\n",
       "\t<tr><td> 984</td><td> 915</td><td> 409</td><td>26975</td><td> 8</td><td>61.12500</td><td>200.9585</td><td>48.76427</td><td>16.73913</td></tr>\n",
       "\t<tr><td>1096</td><td>1049</td><td> 294</td><td>44527</td><td> 8</td><td>61.12500</td><td>274.2635</td><td>90.22648</td><td>19.28916</td></tr>\n",
       "\t<tr><td>⋮</td><td>⋮</td><td>⋮</td><td>⋮</td><td>⋮</td><td>⋮</td><td>⋮</td><td>⋮</td><td>⋮</td></tr>\n",
       "\t<tr><td>1064</td><td> 895</td><td>728</td><td>67500</td><td>11</td><td>54.00000</td><td> 62.15071</td><td> 19.377204</td><td>102.63717</td></tr>\n",
       "\t<tr><td>1256</td><td>1146</td><td>851</td><td>53314</td><td>13</td><td>56.46154</td><td> 41.01519</td><td>  7.752159</td><td> 73.13043</td></tr>\n",
       "\t<tr><td> 523</td><td> 401</td><td>396</td><td>39375</td><td>12</td><td>52.25000</td><td> 34.60593</td><td>  8.296217</td><td> 84.58696</td></tr>\n",
       "\t<tr><td>1097</td><td> 798</td><td>802</td><td>36959</td><td>12</td><td>51.16667</td><td> 77.58396</td><td> 10.572960</td><td> 50.43116</td></tr>\n",
       "\t<tr><td>1063</td><td> 960</td><td>897</td><td>44283</td><td>12</td><td>51.16667</td><td> 77.33579</td><td>  9.521168</td><td> 36.87425</td></tr>\n",
       "\t<tr><td> 897</td><td> 801</td><td>596</td><td>56923</td><td>12</td><td>58.00000</td><td>107.08317</td><td> 68.931886</td><td> 46.75714</td></tr>\n",
       "\t<tr><td> 872</td><td> 733</td><td>660</td><td>56125</td><td> 7</td><td>63.00000</td><td> 59.19279</td><td> 14.815764</td><td> 46.79401</td></tr>\n",
       "\t<tr><td>1115</td><td> 867</td><td>700</td><td>51010</td><td>13</td><td>56.07692</td><td> 59.94330</td><td> 22.707561</td><td> 51.70533</td></tr>\n",
       "\t<tr><td>1219</td><td> 939</td><td>725</td><td>48844</td><td> 7</td><td>61.14286</td><td> 75.09380</td><td> 45.599969</td><td> 54.93252</td></tr>\n",
       "\t<tr><td>1118</td><td> 955</td><td>748</td><td>54375</td><td> 8</td><td>59.75000</td><td> 64.99644</td><td> 55.480787</td><td> 40.66852</td></tr>\n",
       "\t<tr><td>1041</td><td> 890</td><td>741</td><td>68607</td><td> 8</td><td>59.75000</td><td> 68.41075</td><td> 41.135959</td><td> 27.49378</td></tr>\n",
       "\t<tr><td>1160</td><td>1050</td><td> 86</td><td>12473</td><td> 8</td><td>57.00000</td><td>209.42509</td><td> 93.230287</td><td> 19.02475</td></tr>\n",
       "\t<tr><td>1878</td><td>1868</td><td>448</td><td>57083</td><td> 9</td><td>54.22222</td><td>233.22473</td><td>108.809955</td><td> 17.94286</td></tr>\n",
       "\t<tr><td> 945</td><td> 881</td><td>112</td><td>46484</td><td> 7</td><td>57.85714</td><td>215.90716</td><td> 88.848706</td><td> 18.73529</td></tr>\n",
       "\t<tr><td>2351</td><td>2249</td><td>709</td><td>82103</td><td>12</td><td>53.58333</td><td>243.69289</td><td> 80.886371</td><td> 29.57576</td></tr>\n",
       "\t<tr><td>1774</td><td>1594</td><td>929</td><td>50859</td><td> 8</td><td>57.50000</td><td>196.55790</td><td> 79.704889</td><td> 21.20064</td></tr>\n",
       "\t<tr><td> 430</td><td> 178</td><td>  7</td><td>21696</td><td> 7</td><td>57.85714</td><td>227.08437</td><td> 13.688375</td><td> 40.62500</td></tr>\n",
       "\t<tr><td>2250</td><td>1885</td><td> 52</td><td>17294</td><td> 8</td><td>57.00000</td><td>267.54026</td><td>123.383890</td><td> 19.37008</td></tr>\n",
       "\t<tr><td>1947</td><td>1618</td><td> 92</td><td>21024</td><td> 7</td><td>57.85714</td><td>210.43713</td><td>111.333039</td><td> 20.45806</td></tr>\n",
       "\t<tr><td>1359</td><td>1218</td><td>725</td><td>65900</td><td>12</td><td>54.25000</td><td>128.31436</td><td> 60.083111</td><td> 45.54248</td></tr>\n",
       "\t<tr><td>1283</td><td>1096</td><td>826</td><td>54904</td><td>11</td><td>52.36364</td><td> 47.23154</td><td> 40.263262</td><td> 64.10194</td></tr>\n",
       "\t<tr><td>1443</td><td>1314</td><td>874</td><td>53597</td><td>17</td><td>49.47059</td><td>172.81164</td><td>155.086537</td><td> 13.74627</td></tr>\n",
       "\t<tr><td> 846</td><td> 735</td><td>441</td><td>57083</td><td>19</td><td>51.15789</td><td> 50.94741</td><td> 31.493520</td><td> 34.75706</td></tr>\n",
       "\t<tr><td>1023</td><td> 910</td><td>505</td><td>52589</td><td>12</td><td>54.25000</td><td> 62.65864</td><td>  9.528565</td><td> 42.64130</td></tr>\n",
       "\t<tr><td> 548</td><td> 487</td><td>228</td><td>59886</td><td>12</td><td>56.08333</td><td> 61.97721</td><td>  9.037524</td><td> 60.90244</td></tr>\n",
       "\t<tr><td> 318</td><td> 327</td><td>259</td><td>39928</td><td> 8</td><td>53.00000</td><td> 88.08681</td><td> 13.245116</td><td> 60.16744</td></tr>\n",
       "\t<tr><td> 566</td><td> 515</td><td>258</td><td>58884</td><td> 8</td><td>53.00000</td><td> 87.01079</td><td> 17.036596</td><td> 44.42424</td></tr>\n",
       "\t<tr><td> 608</td><td> 557</td><td>271</td><td>50915</td><td> 8</td><td>53.00000</td><td> 74.14176</td><td> 14.220405</td><td> 37.89241</td></tr>\n",
       "\t<tr><td> 713</td><td> 685</td><td>308</td><td>63750</td><td> 9</td><td>52.22222</td><td>267.83971</td><td> 32.930247</td><td> 23.83806</td></tr>\n",
       "\t<tr><td>1519</td><td>1368</td><td>365</td><td>48542</td><td> 9</td><td>52.22222</td><td>191.53978</td><td> 34.832863</td><td> 25.77778</td></tr>\n",
       "</tbody>\n",
       "</table>\n"
      ],
      "text/latex": [
       "A data.frame: 183 × 9\n",
       "\\begin{tabular}{lllllllll}\n",
       " has\\_computer & with\\_internet & sixtyfive\\_and\\_older & median\\_income & number\\_providers & mean\\_lowest\\_cost & mean\\_d\\_mbps & mean\\_u\\_mbps & mean\\_lat\\_ms\\\\\n",
       " <int> & <int> & <int> & <int> & <dbl> & <dbl> & <dbl> & <dbl> & <dbl>\\\\\n",
       "\\hline\n",
       "\t 1664 & 1569 & 1337 & 73942 & 12 & 58.00000 & 110.3274 & 41.78210 & 51.70445\\\\\n",
       "\t 1872 & 1780 & 1352 & 72988 & 13 & 60.07692 & 145.7848 & 22.88731 & 24.62630\\\\\n",
       "\t 1279 & 1156 &  396 & 38077 & 11 & 60.00000 & 173.4079 & 27.06202 & 29.98058\\\\\n",
       "\t  941 &  805 &  647 & 38777 &  8 & 62.50000 & 127.6005 & 23.53829 & 22.16379\\\\\n",
       "\t 1345 & 1198 &  635 & 42639 &  8 & 62.50000 & 192.4299 & 21.68565 & 21.66087\\\\\n",
       "\t 1542 & 1392 &  909 & 53947 &  9 & 58.88889 & 151.0552 & 23.52123 & 26.18557\\\\\n",
       "\t 1179 & 1179 &  334 & 36981 &  7 & 62.71429 & 268.8225 & 22.46620 & 14.43662\\\\\n",
       "\t  570 &  515 &   97 & 40476 &  8 & 61.12500 & 304.6950 & 73.52632 & 10.17647\\\\\n",
       "\t 1026 &  975 &  302 & 35778 &  8 & 61.12500 & 267.8514 & 23.15267 & 14.22414\\\\\n",
       "\t  946 &  878 &  313 & 41271 &  8 & 61.12500 & 287.0448 & 48.70619 & 12.67407\\\\\n",
       "\t 1488 & 1451 &  507 & 43889 &  9 & 57.66667 & 260.2322 & 44.62267 & 12.30357\\\\\n",
       "\t 1368 & 1344 &  471 & 53932 &  9 & 57.66667 & 246.0846 & 57.60121 & 11.88750\\\\\n",
       "\t 1267 & 1224 &  339 & 65545 &  8 & 61.12500 & 274.0878 & 32.76166 & 15.70763\\\\\n",
       "\t 2134 & 1974 &  649 & 53867 &  8 & 61.12500 & 320.6869 & 62.25031 & 13.52590\\\\\n",
       "\t 1837 & 1770 & 1370 & 73271 &  8 & 61.12500 & 259.0590 & 70.11178 & 18.04536\\\\\n",
       "\t 2177 & 2071 &  920 & 63149 &  8 & 61.12500 & 278.5343 & 68.79503 & 15.69293\\\\\n",
       "\t 2127 & 2014 &  890 & 61536 &  8 & 61.12500 & 264.3803 & 70.46662 & 12.78325\\\\\n",
       "\t 1311 & 1349 &  526 & 68102 &  8 & 61.12500 & 280.1857 & 67.47713 & 13.08917\\\\\n",
       "\t  933 &  906 &  296 & 49828 &  8 & 61.12500 & 240.8390 & 41.97553 & 12.86957\\\\\n",
       "\t 1420 & 1361 &  388 & 46209 &  9 & 57.66667 & 268.6359 & 28.06279 & 12.55385\\\\\n",
       "\t 2321 & 2226 &  529 & 40786 &  9 & 57.66667 & 294.3573 & 73.09170 & 11.56680\\\\\n",
       "\t 2096 & 1928 &  777 & 49783 &  8 & 61.12500 & 262.5311 & 98.85843 & 12.48677\\\\\n",
       "\t 1175 & 1105 &  358 & 36096 &  8 & 61.12500 & 289.6374 & 87.23211 & 12.92381\\\\\n",
       "\t 1087 & 1018 &  618 & 41358 &  8 & 61.12500 & 250.6647 & 65.74106 & 12.27143\\\\\n",
       "\t 1379 & 1321 &  398 & 49425 &  8 & 61.12500 & 245.4477 & 64.74504 & 18.44776\\\\\n",
       "\t 1600 & 1515 &  423 & 33374 &  8 & 61.12500 & 264.6675 & 90.56022 & 11.40458\\\\\n",
       "\t 1081 & 1061 &  281 & 63531 &  8 & 61.12500 & 256.5645 & 72.88237 & 11.18274\\\\\n",
       "\t 1913 & 1852 &  869 & 48367 &  8 & 61.12500 & 260.9780 & 61.55381 & 12.09030\\\\\n",
       "\t  984 &  915 &  409 & 26975 &  8 & 61.12500 & 200.9585 & 48.76427 & 16.73913\\\\\n",
       "\t 1096 & 1049 &  294 & 44527 &  8 & 61.12500 & 274.2635 & 90.22648 & 19.28916\\\\\n",
       "\t ⋮ & ⋮ & ⋮ & ⋮ & ⋮ & ⋮ & ⋮ & ⋮ & ⋮\\\\\n",
       "\t 1064 &  895 & 728 & 67500 & 11 & 54.00000 &  62.15071 &  19.377204 & 102.63717\\\\\n",
       "\t 1256 & 1146 & 851 & 53314 & 13 & 56.46154 &  41.01519 &   7.752159 &  73.13043\\\\\n",
       "\t  523 &  401 & 396 & 39375 & 12 & 52.25000 &  34.60593 &   8.296217 &  84.58696\\\\\n",
       "\t 1097 &  798 & 802 & 36959 & 12 & 51.16667 &  77.58396 &  10.572960 &  50.43116\\\\\n",
       "\t 1063 &  960 & 897 & 44283 & 12 & 51.16667 &  77.33579 &   9.521168 &  36.87425\\\\\n",
       "\t  897 &  801 & 596 & 56923 & 12 & 58.00000 & 107.08317 &  68.931886 &  46.75714\\\\\n",
       "\t  872 &  733 & 660 & 56125 &  7 & 63.00000 &  59.19279 &  14.815764 &  46.79401\\\\\n",
       "\t 1115 &  867 & 700 & 51010 & 13 & 56.07692 &  59.94330 &  22.707561 &  51.70533\\\\\n",
       "\t 1219 &  939 & 725 & 48844 &  7 & 61.14286 &  75.09380 &  45.599969 &  54.93252\\\\\n",
       "\t 1118 &  955 & 748 & 54375 &  8 & 59.75000 &  64.99644 &  55.480787 &  40.66852\\\\\n",
       "\t 1041 &  890 & 741 & 68607 &  8 & 59.75000 &  68.41075 &  41.135959 &  27.49378\\\\\n",
       "\t 1160 & 1050 &  86 & 12473 &  8 & 57.00000 & 209.42509 &  93.230287 &  19.02475\\\\\n",
       "\t 1878 & 1868 & 448 & 57083 &  9 & 54.22222 & 233.22473 & 108.809955 &  17.94286\\\\\n",
       "\t  945 &  881 & 112 & 46484 &  7 & 57.85714 & 215.90716 &  88.848706 &  18.73529\\\\\n",
       "\t 2351 & 2249 & 709 & 82103 & 12 & 53.58333 & 243.69289 &  80.886371 &  29.57576\\\\\n",
       "\t 1774 & 1594 & 929 & 50859 &  8 & 57.50000 & 196.55790 &  79.704889 &  21.20064\\\\\n",
       "\t  430 &  178 &   7 & 21696 &  7 & 57.85714 & 227.08437 &  13.688375 &  40.62500\\\\\n",
       "\t 2250 & 1885 &  52 & 17294 &  8 & 57.00000 & 267.54026 & 123.383890 &  19.37008\\\\\n",
       "\t 1947 & 1618 &  92 & 21024 &  7 & 57.85714 & 210.43713 & 111.333039 &  20.45806\\\\\n",
       "\t 1359 & 1218 & 725 & 65900 & 12 & 54.25000 & 128.31436 &  60.083111 &  45.54248\\\\\n",
       "\t 1283 & 1096 & 826 & 54904 & 11 & 52.36364 &  47.23154 &  40.263262 &  64.10194\\\\\n",
       "\t 1443 & 1314 & 874 & 53597 & 17 & 49.47059 & 172.81164 & 155.086537 &  13.74627\\\\\n",
       "\t  846 &  735 & 441 & 57083 & 19 & 51.15789 &  50.94741 &  31.493520 &  34.75706\\\\\n",
       "\t 1023 &  910 & 505 & 52589 & 12 & 54.25000 &  62.65864 &   9.528565 &  42.64130\\\\\n",
       "\t  548 &  487 & 228 & 59886 & 12 & 56.08333 &  61.97721 &   9.037524 &  60.90244\\\\\n",
       "\t  318 &  327 & 259 & 39928 &  8 & 53.00000 &  88.08681 &  13.245116 &  60.16744\\\\\n",
       "\t  566 &  515 & 258 & 58884 &  8 & 53.00000 &  87.01079 &  17.036596 &  44.42424\\\\\n",
       "\t  608 &  557 & 271 & 50915 &  8 & 53.00000 &  74.14176 &  14.220405 &  37.89241\\\\\n",
       "\t  713 &  685 & 308 & 63750 &  9 & 52.22222 & 267.83971 &  32.930247 &  23.83806\\\\\n",
       "\t 1519 & 1368 & 365 & 48542 &  9 & 52.22222 & 191.53978 &  34.832863 &  25.77778\\\\\n",
       "\\end{tabular}\n"
      ],
      "text/markdown": [
       "\n",
       "A data.frame: 183 × 9\n",
       "\n",
       "| has_computer &lt;int&gt; | with_internet &lt;int&gt; | sixtyfive_and_older &lt;int&gt; | median_income &lt;int&gt; | number_providers &lt;dbl&gt; | mean_lowest_cost &lt;dbl&gt; | mean_d_mbps &lt;dbl&gt; | mean_u_mbps &lt;dbl&gt; | mean_lat_ms &lt;dbl&gt; |\n",
       "|---|---|---|---|---|---|---|---|---|\n",
       "| 1664 | 1569 | 1337 | 73942 | 12 | 58.00000 | 110.3274 | 41.78210 | 51.70445 |\n",
       "| 1872 | 1780 | 1352 | 72988 | 13 | 60.07692 | 145.7848 | 22.88731 | 24.62630 |\n",
       "| 1279 | 1156 |  396 | 38077 | 11 | 60.00000 | 173.4079 | 27.06202 | 29.98058 |\n",
       "|  941 |  805 |  647 | 38777 |  8 | 62.50000 | 127.6005 | 23.53829 | 22.16379 |\n",
       "| 1345 | 1198 |  635 | 42639 |  8 | 62.50000 | 192.4299 | 21.68565 | 21.66087 |\n",
       "| 1542 | 1392 |  909 | 53947 |  9 | 58.88889 | 151.0552 | 23.52123 | 26.18557 |\n",
       "| 1179 | 1179 |  334 | 36981 |  7 | 62.71429 | 268.8225 | 22.46620 | 14.43662 |\n",
       "|  570 |  515 |   97 | 40476 |  8 | 61.12500 | 304.6950 | 73.52632 | 10.17647 |\n",
       "| 1026 |  975 |  302 | 35778 |  8 | 61.12500 | 267.8514 | 23.15267 | 14.22414 |\n",
       "|  946 |  878 |  313 | 41271 |  8 | 61.12500 | 287.0448 | 48.70619 | 12.67407 |\n",
       "| 1488 | 1451 |  507 | 43889 |  9 | 57.66667 | 260.2322 | 44.62267 | 12.30357 |\n",
       "| 1368 | 1344 |  471 | 53932 |  9 | 57.66667 | 246.0846 | 57.60121 | 11.88750 |\n",
       "| 1267 | 1224 |  339 | 65545 |  8 | 61.12500 | 274.0878 | 32.76166 | 15.70763 |\n",
       "| 2134 | 1974 |  649 | 53867 |  8 | 61.12500 | 320.6869 | 62.25031 | 13.52590 |\n",
       "| 1837 | 1770 | 1370 | 73271 |  8 | 61.12500 | 259.0590 | 70.11178 | 18.04536 |\n",
       "| 2177 | 2071 |  920 | 63149 |  8 | 61.12500 | 278.5343 | 68.79503 | 15.69293 |\n",
       "| 2127 | 2014 |  890 | 61536 |  8 | 61.12500 | 264.3803 | 70.46662 | 12.78325 |\n",
       "| 1311 | 1349 |  526 | 68102 |  8 | 61.12500 | 280.1857 | 67.47713 | 13.08917 |\n",
       "|  933 |  906 |  296 | 49828 |  8 | 61.12500 | 240.8390 | 41.97553 | 12.86957 |\n",
       "| 1420 | 1361 |  388 | 46209 |  9 | 57.66667 | 268.6359 | 28.06279 | 12.55385 |\n",
       "| 2321 | 2226 |  529 | 40786 |  9 | 57.66667 | 294.3573 | 73.09170 | 11.56680 |\n",
       "| 2096 | 1928 |  777 | 49783 |  8 | 61.12500 | 262.5311 | 98.85843 | 12.48677 |\n",
       "| 1175 | 1105 |  358 | 36096 |  8 | 61.12500 | 289.6374 | 87.23211 | 12.92381 |\n",
       "| 1087 | 1018 |  618 | 41358 |  8 | 61.12500 | 250.6647 | 65.74106 | 12.27143 |\n",
       "| 1379 | 1321 |  398 | 49425 |  8 | 61.12500 | 245.4477 | 64.74504 | 18.44776 |\n",
       "| 1600 | 1515 |  423 | 33374 |  8 | 61.12500 | 264.6675 | 90.56022 | 11.40458 |\n",
       "| 1081 | 1061 |  281 | 63531 |  8 | 61.12500 | 256.5645 | 72.88237 | 11.18274 |\n",
       "| 1913 | 1852 |  869 | 48367 |  8 | 61.12500 | 260.9780 | 61.55381 | 12.09030 |\n",
       "|  984 |  915 |  409 | 26975 |  8 | 61.12500 | 200.9585 | 48.76427 | 16.73913 |\n",
       "| 1096 | 1049 |  294 | 44527 |  8 | 61.12500 | 274.2635 | 90.22648 | 19.28916 |\n",
       "| ⋮ | ⋮ | ⋮ | ⋮ | ⋮ | ⋮ | ⋮ | ⋮ | ⋮ |\n",
       "| 1064 |  895 | 728 | 67500 | 11 | 54.00000 |  62.15071 |  19.377204 | 102.63717 |\n",
       "| 1256 | 1146 | 851 | 53314 | 13 | 56.46154 |  41.01519 |   7.752159 |  73.13043 |\n",
       "|  523 |  401 | 396 | 39375 | 12 | 52.25000 |  34.60593 |   8.296217 |  84.58696 |\n",
       "| 1097 |  798 | 802 | 36959 | 12 | 51.16667 |  77.58396 |  10.572960 |  50.43116 |\n",
       "| 1063 |  960 | 897 | 44283 | 12 | 51.16667 |  77.33579 |   9.521168 |  36.87425 |\n",
       "|  897 |  801 | 596 | 56923 | 12 | 58.00000 | 107.08317 |  68.931886 |  46.75714 |\n",
       "|  872 |  733 | 660 | 56125 |  7 | 63.00000 |  59.19279 |  14.815764 |  46.79401 |\n",
       "| 1115 |  867 | 700 | 51010 | 13 | 56.07692 |  59.94330 |  22.707561 |  51.70533 |\n",
       "| 1219 |  939 | 725 | 48844 |  7 | 61.14286 |  75.09380 |  45.599969 |  54.93252 |\n",
       "| 1118 |  955 | 748 | 54375 |  8 | 59.75000 |  64.99644 |  55.480787 |  40.66852 |\n",
       "| 1041 |  890 | 741 | 68607 |  8 | 59.75000 |  68.41075 |  41.135959 |  27.49378 |\n",
       "| 1160 | 1050 |  86 | 12473 |  8 | 57.00000 | 209.42509 |  93.230287 |  19.02475 |\n",
       "| 1878 | 1868 | 448 | 57083 |  9 | 54.22222 | 233.22473 | 108.809955 |  17.94286 |\n",
       "|  945 |  881 | 112 | 46484 |  7 | 57.85714 | 215.90716 |  88.848706 |  18.73529 |\n",
       "| 2351 | 2249 | 709 | 82103 | 12 | 53.58333 | 243.69289 |  80.886371 |  29.57576 |\n",
       "| 1774 | 1594 | 929 | 50859 |  8 | 57.50000 | 196.55790 |  79.704889 |  21.20064 |\n",
       "|  430 |  178 |   7 | 21696 |  7 | 57.85714 | 227.08437 |  13.688375 |  40.62500 |\n",
       "| 2250 | 1885 |  52 | 17294 |  8 | 57.00000 | 267.54026 | 123.383890 |  19.37008 |\n",
       "| 1947 | 1618 |  92 | 21024 |  7 | 57.85714 | 210.43713 | 111.333039 |  20.45806 |\n",
       "| 1359 | 1218 | 725 | 65900 | 12 | 54.25000 | 128.31436 |  60.083111 |  45.54248 |\n",
       "| 1283 | 1096 | 826 | 54904 | 11 | 52.36364 |  47.23154 |  40.263262 |  64.10194 |\n",
       "| 1443 | 1314 | 874 | 53597 | 17 | 49.47059 | 172.81164 | 155.086537 |  13.74627 |\n",
       "|  846 |  735 | 441 | 57083 | 19 | 51.15789 |  50.94741 |  31.493520 |  34.75706 |\n",
       "| 1023 |  910 | 505 | 52589 | 12 | 54.25000 |  62.65864 |   9.528565 |  42.64130 |\n",
       "|  548 |  487 | 228 | 59886 | 12 | 56.08333 |  61.97721 |   9.037524 |  60.90244 |\n",
       "|  318 |  327 | 259 | 39928 |  8 | 53.00000 |  88.08681 |  13.245116 |  60.16744 |\n",
       "|  566 |  515 | 258 | 58884 |  8 | 53.00000 |  87.01079 |  17.036596 |  44.42424 |\n",
       "|  608 |  557 | 271 | 50915 |  8 | 53.00000 |  74.14176 |  14.220405 |  37.89241 |\n",
       "|  713 |  685 | 308 | 63750 |  9 | 52.22222 | 267.83971 |  32.930247 |  23.83806 |\n",
       "| 1519 | 1368 | 365 | 48542 |  9 | 52.22222 | 191.53978 |  34.832863 |  25.77778 |\n",
       "\n"
      ],
      "text/plain": [
       "    has_computer with_internet sixtyfive_and_older median_income\n",
       "1   1664         1569          1337                73942        \n",
       "2   1872         1780          1352                72988        \n",
       "3   1279         1156           396                38077        \n",
       "4    941          805           647                38777        \n",
       "5   1345         1198           635                42639        \n",
       "6   1542         1392           909                53947        \n",
       "7   1179         1179           334                36981        \n",
       "8    570          515            97                40476        \n",
       "9   1026          975           302                35778        \n",
       "10   946          878           313                41271        \n",
       "11  1488         1451           507                43889        \n",
       "12  1368         1344           471                53932        \n",
       "13  1267         1224           339                65545        \n",
       "14  2134         1974           649                53867        \n",
       "15  1837         1770          1370                73271        \n",
       "16  2177         2071           920                63149        \n",
       "17  2127         2014           890                61536        \n",
       "18  1311         1349           526                68102        \n",
       "19   933          906           296                49828        \n",
       "20  1420         1361           388                46209        \n",
       "21  2321         2226           529                40786        \n",
       "22  2096         1928           777                49783        \n",
       "23  1175         1105           358                36096        \n",
       "24  1087         1018           618                41358        \n",
       "25  1379         1321           398                49425        \n",
       "26  1600         1515           423                33374        \n",
       "27  1081         1061           281                63531        \n",
       "28  1913         1852           869                48367        \n",
       "29   984          915           409                26975        \n",
       "30  1096         1049           294                44527        \n",
       "⋮   ⋮            ⋮             ⋮                   ⋮            \n",
       "154 1064          895          728                 67500        \n",
       "155 1256         1146          851                 53314        \n",
       "156  523          401          396                 39375        \n",
       "157 1097          798          802                 36959        \n",
       "158 1063          960          897                 44283        \n",
       "159  897          801          596                 56923        \n",
       "160  872          733          660                 56125        \n",
       "161 1115          867          700                 51010        \n",
       "162 1219          939          725                 48844        \n",
       "163 1118          955          748                 54375        \n",
       "164 1041          890          741                 68607        \n",
       "165 1160         1050           86                 12473        \n",
       "166 1878         1868          448                 57083        \n",
       "167  945          881          112                 46484        \n",
       "168 2351         2249          709                 82103        \n",
       "169 1774         1594          929                 50859        \n",
       "170  430          178            7                 21696        \n",
       "171 2250         1885           52                 17294        \n",
       "172 1947         1618           92                 21024        \n",
       "173 1359         1218          725                 65900        \n",
       "174 1283         1096          826                 54904        \n",
       "175 1443         1314          874                 53597        \n",
       "176  846          735          441                 57083        \n",
       "177 1023          910          505                 52589        \n",
       "178  548          487          228                 59886        \n",
       "179  318          327          259                 39928        \n",
       "180  566          515          258                 58884        \n",
       "181  608          557          271                 50915        \n",
       "182  713          685          308                 63750        \n",
       "183 1519         1368          365                 48542        \n",
       "    number_providers mean_lowest_cost mean_d_mbps mean_u_mbps mean_lat_ms\n",
       "1   12               58.00000         110.3274    41.78210    51.70445   \n",
       "2   13               60.07692         145.7848    22.88731    24.62630   \n",
       "3   11               60.00000         173.4079    27.06202    29.98058   \n",
       "4    8               62.50000         127.6005    23.53829    22.16379   \n",
       "5    8               62.50000         192.4299    21.68565    21.66087   \n",
       "6    9               58.88889         151.0552    23.52123    26.18557   \n",
       "7    7               62.71429         268.8225    22.46620    14.43662   \n",
       "8    8               61.12500         304.6950    73.52632    10.17647   \n",
       "9    8               61.12500         267.8514    23.15267    14.22414   \n",
       "10   8               61.12500         287.0448    48.70619    12.67407   \n",
       "11   9               57.66667         260.2322    44.62267    12.30357   \n",
       "12   9               57.66667         246.0846    57.60121    11.88750   \n",
       "13   8               61.12500         274.0878    32.76166    15.70763   \n",
       "14   8               61.12500         320.6869    62.25031    13.52590   \n",
       "15   8               61.12500         259.0590    70.11178    18.04536   \n",
       "16   8               61.12500         278.5343    68.79503    15.69293   \n",
       "17   8               61.12500         264.3803    70.46662    12.78325   \n",
       "18   8               61.12500         280.1857    67.47713    13.08917   \n",
       "19   8               61.12500         240.8390    41.97553    12.86957   \n",
       "20   9               57.66667         268.6359    28.06279    12.55385   \n",
       "21   9               57.66667         294.3573    73.09170    11.56680   \n",
       "22   8               61.12500         262.5311    98.85843    12.48677   \n",
       "23   8               61.12500         289.6374    87.23211    12.92381   \n",
       "24   8               61.12500         250.6647    65.74106    12.27143   \n",
       "25   8               61.12500         245.4477    64.74504    18.44776   \n",
       "26   8               61.12500         264.6675    90.56022    11.40458   \n",
       "27   8               61.12500         256.5645    72.88237    11.18274   \n",
       "28   8               61.12500         260.9780    61.55381    12.09030   \n",
       "29   8               61.12500         200.9585    48.76427    16.73913   \n",
       "30   8               61.12500         274.2635    90.22648    19.28916   \n",
       "⋮   ⋮                ⋮                ⋮           ⋮           ⋮          \n",
       "154 11               54.00000          62.15071    19.377204  102.63717  \n",
       "155 13               56.46154          41.01519     7.752159   73.13043  \n",
       "156 12               52.25000          34.60593     8.296217   84.58696  \n",
       "157 12               51.16667          77.58396    10.572960   50.43116  \n",
       "158 12               51.16667          77.33579     9.521168   36.87425  \n",
       "159 12               58.00000         107.08317    68.931886   46.75714  \n",
       "160  7               63.00000          59.19279    14.815764   46.79401  \n",
       "161 13               56.07692          59.94330    22.707561   51.70533  \n",
       "162  7               61.14286          75.09380    45.599969   54.93252  \n",
       "163  8               59.75000          64.99644    55.480787   40.66852  \n",
       "164  8               59.75000          68.41075    41.135959   27.49378  \n",
       "165  8               57.00000         209.42509    93.230287   19.02475  \n",
       "166  9               54.22222         233.22473   108.809955   17.94286  \n",
       "167  7               57.85714         215.90716    88.848706   18.73529  \n",
       "168 12               53.58333         243.69289    80.886371   29.57576  \n",
       "169  8               57.50000         196.55790    79.704889   21.20064  \n",
       "170  7               57.85714         227.08437    13.688375   40.62500  \n",
       "171  8               57.00000         267.54026   123.383890   19.37008  \n",
       "172  7               57.85714         210.43713   111.333039   20.45806  \n",
       "173 12               54.25000         128.31436    60.083111   45.54248  \n",
       "174 11               52.36364          47.23154    40.263262   64.10194  \n",
       "175 17               49.47059         172.81164   155.086537   13.74627  \n",
       "176 19               51.15789          50.94741    31.493520   34.75706  \n",
       "177 12               54.25000          62.65864     9.528565   42.64130  \n",
       "178 12               56.08333          61.97721     9.037524   60.90244  \n",
       "179  8               53.00000          88.08681    13.245116   60.16744  \n",
       "180  8               53.00000          87.01079    17.036596   44.42424  \n",
       "181  8               53.00000          74.14176    14.220405   37.89241  \n",
       "182  9               52.22222         267.83971    32.930247   23.83806  \n",
       "183  9               52.22222         191.53978    34.832863   25.77778  "
      ]
     },
     "metadata": {},
     "output_type": "display_data"
    }
   ],
   "source": [
    "data"
   ]
  },
  {
   "cell_type": "code",
   "execution_count": 83,
   "metadata": {
    "vscode": {
     "languageId": "r"
    }
   },
   "outputs": [
    {
     "data": {
      "text/html": [
       "<style>\n",
       ".list-inline {list-style: none; margin:0; padding: 0}\n",
       ".list-inline>li {display: inline-block}\n",
       ".list-inline>li:not(:last-child)::after {content: \"\\00b7\"; padding: 0 .5ex}\n",
       "</style>\n",
       "<ol class=list-inline><li>3.04074579713778</li><li>2.14456855644664</li><li>1.13555614744263</li><li>0.941256152116763</li><li>0.801954980925561</li><li>0.442265850098981</li><li>0.325751151358129</li><li>0.158732556082361</li><li>0.00916880839115163</li></ol>\n"
      ],
      "text/latex": [
       "\\begin{enumerate*}\n",
       "\\item 3.04074579713778\n",
       "\\item 2.14456855644664\n",
       "\\item 1.13555614744263\n",
       "\\item 0.941256152116763\n",
       "\\item 0.801954980925561\n",
       "\\item 0.442265850098981\n",
       "\\item 0.325751151358129\n",
       "\\item 0.158732556082361\n",
       "\\item 0.00916880839115163\n",
       "\\end{enumerate*}\n"
      ],
      "text/markdown": [
       "1. 3.04074579713778\n",
       "2. 2.14456855644664\n",
       "3. 1.13555614744263\n",
       "4. 0.941256152116763\n",
       "5. 0.801954980925561\n",
       "6. 0.442265850098981\n",
       "7. 0.325751151358129\n",
       "8. 0.158732556082361\n",
       "9. 0.00916880839115163\n",
       "\n",
       "\n"
      ],
      "text/plain": [
       "[1] 3.040745797 2.144568556 1.135556147 0.941256152 0.801954981 0.442265850\n",
       "[7] 0.325751151 0.158732556 0.009168808"
      ]
     },
     "metadata": {},
     "output_type": "display_data"
    }
   ],
   "source": [
    "eigenvalues"
   ]
  },
  {
   "cell_type": "code",
   "execution_count": 55,
   "metadata": {
    "vscode": {
     "languageId": "r"
    }
   },
   "outputs": [
    {
     "data": {
      "text/html": [
       "<table class=\"dataframe\">\n",
       "<caption>A matrix: 8 × 3 of type dbl</caption>\n",
       "<thead>\n",
       "\t<tr><th></th><th scope=col>PC1</th><th scope=col>PC2</th><th scope=col>PC3</th></tr>\n",
       "</thead>\n",
       "<tbody>\n",
       "\t<tr><th scope=row>has_computer</th><td> 1.3781844</td><td>-1.1700233</td><td> 0.24552823</td></tr>\n",
       "\t<tr><th scope=row>with_internet</th><td> 0.9755071</td><td>-0.7664853</td><td> 0.14365837</td></tr>\n",
       "\t<tr><th scope=row>sixtyfive_and_older</th><td> 0.2635078</td><td>-0.6016760</td><td>-0.16543816</td></tr>\n",
       "\t<tr><th scope=row>number_providers</th><td>-0.2727747</td><td>-0.2963657</td><td> 0.52529656</td></tr>\n",
       "\t<tr><th scope=row>mean_lowest_cost</th><td> 0.1934170</td><td> 0.1266271</td><td>-0.58752257</td></tr>\n",
       "\t<tr><th scope=row>mean_d_mbps</th><td> 0.4369824</td><td> 0.3411832</td><td> 0.08107499</td></tr>\n",
       "\t<tr><th scope=row>mean_u_mbps</th><td> 0.2492243</td><td> 0.2400401</td><td> 0.57210681</td></tr>\n",
       "\t<tr><th scope=row>mean_lat_ms</th><td>-0.3951587</td><td>-0.3953091</td><td>-0.11124764</td></tr>\n",
       "</tbody>\n",
       "</table>\n"
      ],
      "text/latex": [
       "A matrix: 8 × 3 of type dbl\n",
       "\\begin{tabular}{r|lll}\n",
       "  & PC1 & PC2 & PC3\\\\\n",
       "\\hline\n",
       "\thas\\_computer &  1.3781844 & -1.1700233 &  0.24552823\\\\\n",
       "\twith\\_internet &  0.9755071 & -0.7664853 &  0.14365837\\\\\n",
       "\tsixtyfive\\_and\\_older &  0.2635078 & -0.6016760 & -0.16543816\\\\\n",
       "\tnumber\\_providers & -0.2727747 & -0.2963657 &  0.52529656\\\\\n",
       "\tmean\\_lowest\\_cost &  0.1934170 &  0.1266271 & -0.58752257\\\\\n",
       "\tmean\\_d\\_mbps &  0.4369824 &  0.3411832 &  0.08107499\\\\\n",
       "\tmean\\_u\\_mbps &  0.2492243 &  0.2400401 &  0.57210681\\\\\n",
       "\tmean\\_lat\\_ms & -0.3951587 & -0.3953091 & -0.11124764\\\\\n",
       "\\end{tabular}\n"
      ],
      "text/markdown": [
       "\n",
       "A matrix: 8 × 3 of type dbl\n",
       "\n",
       "| <!--/--> | PC1 | PC2 | PC3 |\n",
       "|---|---|---|---|\n",
       "| has_computer |  1.3781844 | -1.1700233 |  0.24552823 |\n",
       "| with_internet |  0.9755071 | -0.7664853 |  0.14365837 |\n",
       "| sixtyfive_and_older |  0.2635078 | -0.6016760 | -0.16543816 |\n",
       "| number_providers | -0.2727747 | -0.2963657 |  0.52529656 |\n",
       "| mean_lowest_cost |  0.1934170 |  0.1266271 | -0.58752257 |\n",
       "| mean_d_mbps |  0.4369824 |  0.3411832 |  0.08107499 |\n",
       "| mean_u_mbps |  0.2492243 |  0.2400401 |  0.57210681 |\n",
       "| mean_lat_ms | -0.3951587 | -0.3953091 | -0.11124764 |\n",
       "\n"
      ],
      "text/plain": [
       "                    PC1        PC2        PC3        \n",
       "has_computer         1.3781844 -1.1700233  0.24552823\n",
       "with_internet        0.9755071 -0.7664853  0.14365837\n",
       "sixtyfive_and_older  0.2635078 -0.6016760 -0.16543816\n",
       "number_providers    -0.2727747 -0.2963657  0.52529656\n",
       "mean_lowest_cost     0.1934170  0.1266271 -0.58752257\n",
       "mean_d_mbps          0.4369824  0.3411832  0.08107499\n",
       "mean_u_mbps          0.2492243  0.2400401  0.57210681\n",
       "mean_lat_ms         -0.3951587 -0.3953091 -0.11124764"
      ]
     },
     "metadata": {},
     "output_type": "display_data"
    }
   ],
   "source": [
    "weights\n"
   ]
  },
  {
   "attachments": {},
   "cell_type": "markdown",
   "metadata": {
    "slideshow": {
     "slide_type": "subslide"
    }
   },
   "source": [
    "### Sum The Weights"
   ]
  },
  {
   "cell_type": "code",
   "execution_count": 56,
   "metadata": {
    "vscode": {
     "languageId": "r"
    }
   },
   "outputs": [
    {
     "data": {
      "text/html": [
       "<table class=\"dataframe\">\n",
       "<caption>A data.frame: 8 × 1</caption>\n",
       "<thead>\n",
       "\t<tr><th></th><th scope=col>weight</th></tr>\n",
       "\t<tr><th></th><th scope=col>&lt;dbl&gt;</th></tr>\n",
       "</thead>\n",
       "<tbody>\n",
       "\t<tr><th scope=row>has_computer</th><td> 0.45368933</td></tr>\n",
       "\t<tr><th scope=row>with_internet</th><td> 0.35268022</td></tr>\n",
       "\t<tr><th scope=row>sixtyfive_and_older</th><td>-0.50360634</td></tr>\n",
       "\t<tr><th scope=row>number_providers</th><td>-0.04384384</td></tr>\n",
       "\t<tr><th scope=row>mean_lowest_cost</th><td>-0.26747852</td></tr>\n",
       "\t<tr><th scope=row>mean_d_mbps</th><td> 0.85924065</td></tr>\n",
       "\t<tr><th scope=row>mean_u_mbps</th><td> 1.06137118</td></tr>\n",
       "\t<tr><th scope=row>mean_lat_ms</th><td>-0.90171551</td></tr>\n",
       "</tbody>\n",
       "</table>\n"
      ],
      "text/latex": [
       "A data.frame: 8 × 1\n",
       "\\begin{tabular}{r|l}\n",
       "  & weight\\\\\n",
       "  & <dbl>\\\\\n",
       "\\hline\n",
       "\thas\\_computer &  0.45368933\\\\\n",
       "\twith\\_internet &  0.35268022\\\\\n",
       "\tsixtyfive\\_and\\_older & -0.50360634\\\\\n",
       "\tnumber\\_providers & -0.04384384\\\\\n",
       "\tmean\\_lowest\\_cost & -0.26747852\\\\\n",
       "\tmean\\_d\\_mbps &  0.85924065\\\\\n",
       "\tmean\\_u\\_mbps &  1.06137118\\\\\n",
       "\tmean\\_lat\\_ms & -0.90171551\\\\\n",
       "\\end{tabular}\n"
      ],
      "text/markdown": [
       "\n",
       "A data.frame: 8 × 1\n",
       "\n",
       "| <!--/--> | weight &lt;dbl&gt; |\n",
       "|---|---|\n",
       "| has_computer |  0.45368933 |\n",
       "| with_internet |  0.35268022 |\n",
       "| sixtyfive_and_older | -0.50360634 |\n",
       "| number_providers | -0.04384384 |\n",
       "| mean_lowest_cost | -0.26747852 |\n",
       "| mean_d_mbps |  0.85924065 |\n",
       "| mean_u_mbps |  1.06137118 |\n",
       "| mean_lat_ms | -0.90171551 |\n",
       "\n"
      ],
      "text/plain": [
       "                    weight     \n",
       "has_computer         0.45368933\n",
       "with_internet        0.35268022\n",
       "sixtyfive_and_older -0.50360634\n",
       "number_providers    -0.04384384\n",
       "mean_lowest_cost    -0.26747852\n",
       "mean_d_mbps          0.85924065\n",
       "mean_u_mbps          1.06137118\n",
       "mean_lat_ms         -0.90171551"
      ]
     },
     "metadata": {},
     "output_type": "display_data"
    }
   ],
   "source": [
    "weights <- weights %>%\n",
    "    as.data.frame() %>%\n",
    "    transmute(weight = PC1 + PC2 + PC3)\n",
    "\n",
    "weights\n"
   ]
  },
  {
   "attachments": {},
   "cell_type": "markdown",
   "metadata": {
    "slideshow": {
     "slide_type": "subslide"
    }
   },
   "source": [
    "### Multiply Standardized Data By Weights"
   ]
  },
  {
   "cell_type": "code",
   "execution_count": 57,
   "metadata": {
    "vscode": {
     "languageId": "r"
    }
   },
   "outputs": [
    {
     "data": {
      "text/html": [
       "<table class=\"dataframe\">\n",
       "<caption>A data.frame: 6 × 9</caption>\n",
       "<thead>\n",
       "\t<tr><th></th><th scope=col>has_computer</th><th scope=col>with_internet</th><th scope=col>sixtyfive_and_older</th><th scope=col>number_providers</th><th scope=col>mean_lowest_cost</th><th scope=col>mean_d_mbps</th><th scope=col>mean_u_mbps</th><th scope=col>mean_lat_ms</th><th scope=col>index</th></tr>\n",
       "\t<tr><th></th><th scope=col>&lt;dbl&gt;</th><th scope=col>&lt;dbl&gt;</th><th scope=col>&lt;dbl&gt;</th><th scope=col>&lt;dbl&gt;</th><th scope=col>&lt;dbl&gt;</th><th scope=col>&lt;dbl&gt;</th><th scope=col>&lt;dbl&gt;</th><th scope=col>&lt;dbl&gt;</th><th scope=col>&lt;dbl[,1]&gt;</th></tr>\n",
       "</thead>\n",
       "<tbody>\n",
       "\t<tr><th scope=row>1</th><td> 0.50245011</td><td> 0.5167430</td><td> 2.23493253</td><td> 1.7094218</td><td>-0.18458632</td><td>-1.05913969</td><td> 0.2831385</td><td> 1.17991288</td><td>-2.4143862</td></tr>\n",
       "\t<tr><th scope=row>2</th><td> 0.88153598</td><td> 0.9194434</td><td> 2.28240921</td><td> 2.2108891</td><td> 0.41923513</td><td>-0.64056563</td><td>-0.4304467</td><td>-0.15416598</td><td>-1.5025430</td></tr>\n",
       "\t<tr><th scope=row>3</th><td>-0.19922325</td><td>-0.2714809</td><td>-0.74343819</td><td> 1.2079545</td><td> 0.39687137</td><td>-0.31447576</td><td>-0.2727836</td><td> 0.10962741</td><td>-0.6294349</td></tr>\n",
       "\t<tr><th scope=row>4</th><td>-0.81523778</td><td>-0.9413759</td><td> 0.05100501</td><td>-0.2964475</td><td> 1.12369349</td><td>-0.85523159</td><td>-0.4058615</td><td>-0.27548794</td><td>-1.9323299</td></tr>\n",
       "\t<tr><th scope=row>5</th><td>-0.07893639</td><td>-0.1913226</td><td> 0.01302366</td><td>-0.2964475</td><td> 1.12369349</td><td>-0.08992031</td><td>-0.4758288</td><td>-0.30026584</td><td>-0.7089533</td></tr>\n",
       "\t<tr><th scope=row>6</th><td> 0.28010167</td><td> 0.1789328</td><td> 0.88026444</td><td> 0.2050198</td><td> 0.07383932</td><td>-0.57834859</td><td>-0.4065058</td><td>-0.07734433</td><td>-1.1405124</td></tr>\n",
       "</tbody>\n",
       "</table>\n"
      ],
      "text/latex": [
       "A data.frame: 6 × 9\n",
       "\\begin{tabular}{r|lllllllll}\n",
       "  & has\\_computer & with\\_internet & sixtyfive\\_and\\_older & number\\_providers & mean\\_lowest\\_cost & mean\\_d\\_mbps & mean\\_u\\_mbps & mean\\_lat\\_ms & index\\\\\n",
       "  & <dbl> & <dbl> & <dbl> & <dbl> & <dbl> & <dbl> & <dbl> & <dbl> & <dbl{[},1{]}>\\\\\n",
       "\\hline\n",
       "\t1 &  0.50245011 &  0.5167430 &  2.23493253 &  1.7094218 & -0.18458632 & -1.05913969 &  0.2831385 &  1.17991288 & -2.4143862\\\\\n",
       "\t2 &  0.88153598 &  0.9194434 &  2.28240921 &  2.2108891 &  0.41923513 & -0.64056563 & -0.4304467 & -0.15416598 & -1.5025430\\\\\n",
       "\t3 & -0.19922325 & -0.2714809 & -0.74343819 &  1.2079545 &  0.39687137 & -0.31447576 & -0.2727836 &  0.10962741 & -0.6294349\\\\\n",
       "\t4 & -0.81523778 & -0.9413759 &  0.05100501 & -0.2964475 &  1.12369349 & -0.85523159 & -0.4058615 & -0.27548794 & -1.9323299\\\\\n",
       "\t5 & -0.07893639 & -0.1913226 &  0.01302366 & -0.2964475 &  1.12369349 & -0.08992031 & -0.4758288 & -0.30026584 & -0.7089533\\\\\n",
       "\t6 &  0.28010167 &  0.1789328 &  0.88026444 &  0.2050198 &  0.07383932 & -0.57834859 & -0.4065058 & -0.07734433 & -1.1405124\\\\\n",
       "\\end{tabular}\n"
      ],
      "text/markdown": [
       "\n",
       "A data.frame: 6 × 9\n",
       "\n",
       "| <!--/--> | has_computer &lt;dbl&gt; | with_internet &lt;dbl&gt; | sixtyfive_and_older &lt;dbl&gt; | number_providers &lt;dbl&gt; | mean_lowest_cost &lt;dbl&gt; | mean_d_mbps &lt;dbl&gt; | mean_u_mbps &lt;dbl&gt; | mean_lat_ms &lt;dbl&gt; | index &lt;dbl[,1]&gt; |\n",
       "|---|---|---|---|---|---|---|---|---|---|\n",
       "| 1 |  0.50245011 |  0.5167430 |  2.23493253 |  1.7094218 | -0.18458632 | -1.05913969 |  0.2831385 |  1.17991288 | -2.4143862 |\n",
       "| 2 |  0.88153598 |  0.9194434 |  2.28240921 |  2.2108891 |  0.41923513 | -0.64056563 | -0.4304467 | -0.15416598 | -1.5025430 |\n",
       "| 3 | -0.19922325 | -0.2714809 | -0.74343819 |  1.2079545 |  0.39687137 | -0.31447576 | -0.2727836 |  0.10962741 | -0.6294349 |\n",
       "| 4 | -0.81523778 | -0.9413759 |  0.05100501 | -0.2964475 |  1.12369349 | -0.85523159 | -0.4058615 | -0.27548794 | -1.9323299 |\n",
       "| 5 | -0.07893639 | -0.1913226 |  0.01302366 | -0.2964475 |  1.12369349 | -0.08992031 | -0.4758288 | -0.30026584 | -0.7089533 |\n",
       "| 6 |  0.28010167 |  0.1789328 |  0.88026444 |  0.2050198 |  0.07383932 | -0.57834859 | -0.4065058 | -0.07734433 | -1.1405124 |\n",
       "\n"
      ],
      "text/plain": [
       "  has_computer with_internet sixtyfive_and_older number_providers\n",
       "1  0.50245011   0.5167430     2.23493253          1.7094218      \n",
       "2  0.88153598   0.9194434     2.28240921          2.2108891      \n",
       "3 -0.19922325  -0.2714809    -0.74343819          1.2079545      \n",
       "4 -0.81523778  -0.9413759     0.05100501         -0.2964475      \n",
       "5 -0.07893639  -0.1913226     0.01302366         -0.2964475      \n",
       "6  0.28010167   0.1789328     0.88026444          0.2050198      \n",
       "  mean_lowest_cost mean_d_mbps mean_u_mbps mean_lat_ms index     \n",
       "1 -0.18458632      -1.05913969  0.2831385   1.17991288 -2.4143862\n",
       "2  0.41923513      -0.64056563 -0.4304467  -0.15416598 -1.5025430\n",
       "3  0.39687137      -0.31447576 -0.2727836   0.10962741 -0.6294349\n",
       "4  1.12369349      -0.85523159 -0.4058615  -0.27548794 -1.9323299\n",
       "5  1.12369349      -0.08992031 -0.4758288  -0.30026584 -0.7089533\n",
       "6  0.07383932      -0.57834859 -0.4065058  -0.07734433 -1.1405124"
      ]
     },
     "metadata": {},
     "output_type": "display_data"
    }
   ],
   "source": [
    "index_data2 <- scaled_data2.2 %>%\n",
    "        as.data.frame() %>%\n",
    "        mutate(index = (scaled_data2.2 %*% as.matrix(weights)))\n",
    "\n",
    "head(index_data2)\n"
   ]
  },
  {
   "attachments": {},
   "cell_type": "markdown",
   "metadata": {
    "slideshow": {
     "slide_type": "subslide"
    }
   },
   "source": [
    "## Check Reliability"
   ]
  },
  {
   "cell_type": "code",
   "execution_count": 58,
   "metadata": {
    "vscode": {
     "languageId": "r"
    }
   },
   "outputs": [
    {
     "name": "stderr",
     "output_type": "stream",
     "text": [
      "Loading required package: MASS\n",
      "\n",
      "\n",
      "Attaching package: ‘MASS’\n",
      "\n",
      "\n",
      "The following object is masked from ‘package:dplyr’:\n",
      "\n",
      "    select\n",
      "\n",
      "\n",
      "Loading required package: msm\n",
      "\n",
      "Loading required package: polycor\n",
      "\n",
      "\n",
      "Attaching package: ‘polycor’\n",
      "\n",
      "\n",
      "The following object is masked from ‘package:psych’:\n",
      "\n",
      "    polyserial\n",
      "\n",
      "\n",
      "\n",
      "Attaching package: ‘ltm’\n",
      "\n",
      "\n",
      "The following object is masked from ‘package:psych’:\n",
      "\n",
      "    factor.scores\n",
      "\n",
      "\n"
     ]
    },
    {
     "data": {
      "text/plain": [
       "\n",
       "Cronbach's alpha for the 'index_data2' data-set\n",
       "\n",
       "Items: 9\n",
       "Sample units: 183\n",
       "alpha: 0.45\n"
      ]
     },
     "metadata": {},
     "output_type": "display_data"
    }
   ],
   "source": [
    "library(ltm) # cronbach.alpha\n",
    "cronbach.alpha(index_data2)\n"
   ]
  },
  {
   "attachments": {},
   "cell_type": "markdown",
   "metadata": {},
   "source": [
    "We cannot use this method because the cronbach alpha of .45 is less than .7 - suggesting that the index is not reliable"
   ]
  },
  {
   "attachments": {},
   "cell_type": "markdown",
   "metadata": {
    "slideshow": {
     "slide_type": "slide"
    }
   },
   "source": [
    "# PCA - Method 3"
   ]
  },
  {
   "attachments": {},
   "cell_type": "markdown",
   "metadata": {
    "slideshow": {
     "slide_type": "fragment"
    }
   },
   "source": [
    "## Create Index Using Method 2"
   ]
  },
  {
   "attachments": {},
   "cell_type": "markdown",
   "metadata": {
    "slideshow": {
     "slide_type": "fragment"
    }
   },
   "source": [
    "## Feature Selection Using Method 1"
   ]
  },
  {
   "attachments": {},
   "cell_type": "markdown",
   "metadata": {
    "slideshow": {
     "slide_type": "fragment"
    }
   },
   "source": [
    "## Stepwise Regression For Final Coefficients"
   ]
  },
  {
   "attachments": {},
   "cell_type": "markdown",
   "metadata": {
    "slideshow": {
     "slide_type": "slide"
    }
   },
   "source": [
    "## Create The Index"
   ]
  },
  {
   "cell_type": "code",
   "execution_count": 111,
   "metadata": {
    "vscode": {
     "languageId": "r"
    }
   },
   "outputs": [
    {
     "data": {
      "text/html": [
       "<table class=\"dataframe\">\n",
       "<caption>A matrix: 9 × 3 of type dbl</caption>\n",
       "<thead>\n",
       "\t<tr><th></th><th scope=col>PC1</th><th scope=col>PC2</th><th scope=col>PC3</th></tr>\n",
       "</thead>\n",
       "<tbody>\n",
       "\t<tr><th scope=row>has_computer</th><td>-1.39853938</td><td> 1.1085166</td><td>-0.20011170</td></tr>\n",
       "\t<tr><th scope=row>with_internet</th><td>-1.01369355</td><td> 0.7423236</td><td>-0.11630012</td></tr>\n",
       "\t<tr><th scope=row>sixtyfive_and_older</th><td>-0.27305015</td><td> 0.5783651</td><td> 0.18782710</td></tr>\n",
       "\t<tr><th scope=row>median_income</th><td>-0.06011374</td><td> 0.2171501</td><td>-0.11890688</td></tr>\n",
       "\t<tr><th scope=row>number_providers</th><td> 0.26786214</td><td> 0.2950848</td><td>-0.50605500</td></tr>\n",
       "\t<tr><th scope=row>mean_lowest_cost</th><td>-0.18976570</td><td>-0.1367443</td><td> 0.58920624</td></tr>\n",
       "\t<tr><th scope=row>mean_d_mbps</th><td>-0.43037469</td><td>-0.3465275</td><td>-0.08730473</td></tr>\n",
       "\t<tr><th scope=row>mean_u_mbps</th><td>-0.24523568</td><td>-0.2388443</td><td>-0.57095208</td></tr>\n",
       "\t<tr><th scope=row>mean_lat_ms</th><td> 0.38791675</td><td> 0.3972660</td><td> 0.11985947</td></tr>\n",
       "</tbody>\n",
       "</table>\n"
      ],
      "text/latex": [
       "A matrix: 9 × 3 of type dbl\n",
       "\\begin{tabular}{r|lll}\n",
       "  & PC1 & PC2 & PC3\\\\\n",
       "\\hline\n",
       "\thas\\_computer & -1.39853938 &  1.1085166 & -0.20011170\\\\\n",
       "\twith\\_internet & -1.01369355 &  0.7423236 & -0.11630012\\\\\n",
       "\tsixtyfive\\_and\\_older & -0.27305015 &  0.5783651 &  0.18782710\\\\\n",
       "\tmedian\\_income & -0.06011374 &  0.2171501 & -0.11890688\\\\\n",
       "\tnumber\\_providers &  0.26786214 &  0.2950848 & -0.50605500\\\\\n",
       "\tmean\\_lowest\\_cost & -0.18976570 & -0.1367443 &  0.58920624\\\\\n",
       "\tmean\\_d\\_mbps & -0.43037469 & -0.3465275 & -0.08730473\\\\\n",
       "\tmean\\_u\\_mbps & -0.24523568 & -0.2388443 & -0.57095208\\\\\n",
       "\tmean\\_lat\\_ms &  0.38791675 &  0.3972660 &  0.11985947\\\\\n",
       "\\end{tabular}\n"
      ],
      "text/markdown": [
       "\n",
       "A matrix: 9 × 3 of type dbl\n",
       "\n",
       "| <!--/--> | PC1 | PC2 | PC3 |\n",
       "|---|---|---|---|\n",
       "| has_computer | -1.39853938 |  1.1085166 | -0.20011170 |\n",
       "| with_internet | -1.01369355 |  0.7423236 | -0.11630012 |\n",
       "| sixtyfive_and_older | -0.27305015 |  0.5783651 |  0.18782710 |\n",
       "| median_income | -0.06011374 |  0.2171501 | -0.11890688 |\n",
       "| number_providers |  0.26786214 |  0.2950848 | -0.50605500 |\n",
       "| mean_lowest_cost | -0.18976570 | -0.1367443 |  0.58920624 |\n",
       "| mean_d_mbps | -0.43037469 | -0.3465275 | -0.08730473 |\n",
       "| mean_u_mbps | -0.24523568 | -0.2388443 | -0.57095208 |\n",
       "| mean_lat_ms |  0.38791675 |  0.3972660 |  0.11985947 |\n",
       "\n"
      ],
      "text/plain": [
       "                    PC1         PC2        PC3        \n",
       "has_computer        -1.39853938  1.1085166 -0.20011170\n",
       "with_internet       -1.01369355  0.7423236 -0.11630012\n",
       "sixtyfive_and_older -0.27305015  0.5783651  0.18782710\n",
       "median_income       -0.06011374  0.2171501 -0.11890688\n",
       "number_providers     0.26786214  0.2950848 -0.50605500\n",
       "mean_lowest_cost    -0.18976570 -0.1367443  0.58920624\n",
       "mean_d_mbps         -0.43037469 -0.3465275 -0.08730473\n",
       "mean_u_mbps         -0.24523568 -0.2388443 -0.57095208\n",
       "mean_lat_ms          0.38791675  0.3972660  0.11985947"
      ]
     },
     "metadata": {},
     "output_type": "display_data"
    }
   ],
   "source": [
    "weights3 <- eigenvectors[, 1:3]\n",
    "\n",
    "for (i in 1:ncol(weights3)) {\n",
    "    weights3[i, ] <- weights3[i, ] * eigenvalues[i]\n",
    "}\n",
    "# weights3 <- weights3 %>%\n",
    "#     as.data.frame() %>%\n",
    "#     transmute(weight = PC1 + PC2 + PC3)\n",
    "weights3\n"
   ]
  },
  {
   "attachments": {},
   "cell_type": "markdown",
   "metadata": {
    "slideshow": {
     "slide_type": "subslide"
    }
   },
   "source": [
    "### Create The Index"
   ]
  },
  {
   "cell_type": "code",
   "execution_count": 60,
   "metadata": {
    "vscode": {
     "languageId": "r"
    }
   },
   "outputs": [
    {
     "data": {
      "text/html": [
       "<table class=\"dataframe\">\n",
       "<caption>A data.frame: 6 × 10</caption>\n",
       "<thead>\n",
       "\t<tr><th></th><th scope=col>has_computer</th><th scope=col>with_internet</th><th scope=col>sixtyfive_and_older</th><th scope=col>median_income</th><th scope=col>number_providers</th><th scope=col>mean_lowest_cost</th><th scope=col>mean_d_mbps</th><th scope=col>mean_u_mbps</th><th scope=col>mean_lat_ms</th><th scope=col>index</th></tr>\n",
       "\t<tr><th></th><th scope=col>&lt;dbl&gt;</th><th scope=col>&lt;dbl&gt;</th><th scope=col>&lt;dbl&gt;</th><th scope=col>&lt;dbl&gt;</th><th scope=col>&lt;dbl&gt;</th><th scope=col>&lt;dbl&gt;</th><th scope=col>&lt;dbl&gt;</th><th scope=col>&lt;dbl&gt;</th><th scope=col>&lt;dbl&gt;</th><th scope=col>&lt;dbl[,1]&gt;</th></tr>\n",
       "</thead>\n",
       "<tbody>\n",
       "\t<tr><th scope=row>1</th><td> 0.50245011</td><td> 0.5167430</td><td> 2.23493253</td><td>0.07418486</td><td> 1.7094218</td><td>-0.18458632</td><td>-1.05913969</td><td> 0.2831385</td><td> 1.17991288</td><td>2.391603</td></tr>\n",
       "\t<tr><th scope=row>2</th><td> 0.88153598</td><td> 0.9194434</td><td> 2.28240921</td><td>0.07416551</td><td> 2.2108891</td><td> 0.41923513</td><td>-0.64056563</td><td>-0.4304467</td><td>-0.15416598</td><td>1.443971</td></tr>\n",
       "\t<tr><th scope=row>3</th><td>-0.19922325</td><td>-0.2714809</td><td>-0.74343819</td><td>0.07345717</td><td> 1.2079545</td><td> 0.39687137</td><td>-0.31447576</td><td>-0.2727836</td><td> 0.10962741</td><td>0.670836</td></tr>\n",
       "\t<tr><th scope=row>4</th><td>-0.81523778</td><td>-0.9413759</td><td> 0.05100501</td><td>0.07347137</td><td>-0.2964475</td><td> 1.12369349</td><td>-0.85523159</td><td>-0.4058615</td><td>-0.27548794</td><td>1.988764</td></tr>\n",
       "\t<tr><th scope=row>5</th><td>-0.07893639</td><td>-0.1913226</td><td> 0.01302366</td><td>0.07354973</td><td>-0.2964475</td><td> 1.12369349</td><td>-0.08992031</td><td>-0.4758288</td><td>-0.30026584</td><td>0.708382</td></tr>\n",
       "\t<tr><th scope=row>6</th><td> 0.28010167</td><td> 0.1789328</td><td> 0.88026444</td><td>0.07377917</td><td> 0.2050198</td><td> 0.07383932</td><td>-0.57834859</td><td>-0.4065058</td><td>-0.07734433</td><td>1.120005</td></tr>\n",
       "</tbody>\n",
       "</table>\n"
      ],
      "text/latex": [
       "A data.frame: 6 × 10\n",
       "\\begin{tabular}{r|llllllllll}\n",
       "  & has\\_computer & with\\_internet & sixtyfive\\_and\\_older & median\\_income & number\\_providers & mean\\_lowest\\_cost & mean\\_d\\_mbps & mean\\_u\\_mbps & mean\\_lat\\_ms & index\\\\\n",
       "  & <dbl> & <dbl> & <dbl> & <dbl> & <dbl> & <dbl> & <dbl> & <dbl> & <dbl> & <dbl{[},1{]}>\\\\\n",
       "\\hline\n",
       "\t1 &  0.50245011 &  0.5167430 &  2.23493253 & 0.07418486 &  1.7094218 & -0.18458632 & -1.05913969 &  0.2831385 &  1.17991288 & 2.391603\\\\\n",
       "\t2 &  0.88153598 &  0.9194434 &  2.28240921 & 0.07416551 &  2.2108891 &  0.41923513 & -0.64056563 & -0.4304467 & -0.15416598 & 1.443971\\\\\n",
       "\t3 & -0.19922325 & -0.2714809 & -0.74343819 & 0.07345717 &  1.2079545 &  0.39687137 & -0.31447576 & -0.2727836 &  0.10962741 & 0.670836\\\\\n",
       "\t4 & -0.81523778 & -0.9413759 &  0.05100501 & 0.07347137 & -0.2964475 &  1.12369349 & -0.85523159 & -0.4058615 & -0.27548794 & 1.988764\\\\\n",
       "\t5 & -0.07893639 & -0.1913226 &  0.01302366 & 0.07354973 & -0.2964475 &  1.12369349 & -0.08992031 & -0.4758288 & -0.30026584 & 0.708382\\\\\n",
       "\t6 &  0.28010167 &  0.1789328 &  0.88026444 & 0.07377917 &  0.2050198 &  0.07383932 & -0.57834859 & -0.4065058 & -0.07734433 & 1.120005\\\\\n",
       "\\end{tabular}\n"
      ],
      "text/markdown": [
       "\n",
       "A data.frame: 6 × 10\n",
       "\n",
       "| <!--/--> | has_computer &lt;dbl&gt; | with_internet &lt;dbl&gt; | sixtyfive_and_older &lt;dbl&gt; | median_income &lt;dbl&gt; | number_providers &lt;dbl&gt; | mean_lowest_cost &lt;dbl&gt; | mean_d_mbps &lt;dbl&gt; | mean_u_mbps &lt;dbl&gt; | mean_lat_ms &lt;dbl&gt; | index &lt;dbl[,1]&gt; |\n",
       "|---|---|---|---|---|---|---|---|---|---|---|\n",
       "| 1 |  0.50245011 |  0.5167430 |  2.23493253 | 0.07418486 |  1.7094218 | -0.18458632 | -1.05913969 |  0.2831385 |  1.17991288 | 2.391603 |\n",
       "| 2 |  0.88153598 |  0.9194434 |  2.28240921 | 0.07416551 |  2.2108891 |  0.41923513 | -0.64056563 | -0.4304467 | -0.15416598 | 1.443971 |\n",
       "| 3 | -0.19922325 | -0.2714809 | -0.74343819 | 0.07345717 |  1.2079545 |  0.39687137 | -0.31447576 | -0.2727836 |  0.10962741 | 0.670836 |\n",
       "| 4 | -0.81523778 | -0.9413759 |  0.05100501 | 0.07347137 | -0.2964475 |  1.12369349 | -0.85523159 | -0.4058615 | -0.27548794 | 1.988764 |\n",
       "| 5 | -0.07893639 | -0.1913226 |  0.01302366 | 0.07354973 | -0.2964475 |  1.12369349 | -0.08992031 | -0.4758288 | -0.30026584 | 0.708382 |\n",
       "| 6 |  0.28010167 |  0.1789328 |  0.88026444 | 0.07377917 |  0.2050198 |  0.07383932 | -0.57834859 | -0.4065058 | -0.07734433 | 1.120005 |\n",
       "\n"
      ],
      "text/plain": [
       "  has_computer with_internet sixtyfive_and_older median_income number_providers\n",
       "1  0.50245011   0.5167430     2.23493253         0.07418486     1.7094218      \n",
       "2  0.88153598   0.9194434     2.28240921         0.07416551     2.2108891      \n",
       "3 -0.19922325  -0.2714809    -0.74343819         0.07345717     1.2079545      \n",
       "4 -0.81523778  -0.9413759     0.05100501         0.07347137    -0.2964475      \n",
       "5 -0.07893639  -0.1913226     0.01302366         0.07354973    -0.2964475      \n",
       "6  0.28010167   0.1789328     0.88026444         0.07377917     0.2050198      \n",
       "  mean_lowest_cost mean_d_mbps mean_u_mbps mean_lat_ms index   \n",
       "1 -0.18458632      -1.05913969  0.2831385   1.17991288 2.391603\n",
       "2  0.41923513      -0.64056563 -0.4304467  -0.15416598 1.443971\n",
       "3  0.39687137      -0.31447576 -0.2727836   0.10962741 0.670836\n",
       "4  1.12369349      -0.85523159 -0.4058615  -0.27548794 1.988764\n",
       "5  1.12369349      -0.08992031 -0.4758288  -0.30026584 0.708382\n",
       "6  0.07383932      -0.57834859 -0.4065058  -0.07734433 1.120005"
      ]
     },
     "metadata": {},
     "output_type": "display_data"
    }
   ],
   "source": [
    "index_data3 <- scaled_data %>%\n",
    "    as.data.frame() %>%\n",
    "    mutate(index = scaled_data %*% as.matrix(weights3))\n",
    "\n",
    "head(index_data3)\n"
   ]
  },
  {
   "attachments": {},
   "cell_type": "markdown",
   "metadata": {
    "slideshow": {
     "slide_type": "subslide"
    }
   },
   "source": [
    "### Check The Index"
   ]
  },
  {
   "cell_type": "code",
   "execution_count": 61,
   "metadata": {
    "vscode": {
     "languageId": "r"
    }
   },
   "outputs": [
    {
     "data": {
      "text/html": [
       "<dl>\n",
       "\t<dt>$has_computer</dt>\n",
       "\t\t<dd>0.000000000644980513442306</dd>\n",
       "\t<dt>$with_internet</dt>\n",
       "\t\t<dd>0.0000000000559419177648124</dd>\n",
       "\t<dt>$sixtyfive_and_older</dt>\n",
       "\t\t<dd>0.179826321888307</dd>\n",
       "\t<dt>$median_income</dt>\n",
       "\t\t<dd>0.730154941770592</dd>\n",
       "\t<dt>$number_providers</dt>\n",
       "\t\t<dd>0.00000164362034560384</dd>\n",
       "\t<dt>$mean_lowest_cost</dt>\n",
       "\t\t<dd>0.194275482216078</dd>\n",
       "\t<dt>$mean_d_mbps</dt>\n",
       "\t\t<dd>0</dd>\n",
       "\t<dt>$mean_u_mbps</dt>\n",
       "\t\t<dd>0</dd>\n",
       "\t<dt>$mean_lat_ms</dt>\n",
       "\t\t<dd>0</dd>\n",
       "\t<dt>$index</dt>\n",
       "\t\t<dd>&lt;NA&gt;</dd>\n",
       "</dl>\n"
      ],
      "text/latex": [
       "\\begin{description}\n",
       "\\item[\\$has\\_computer] 0.000000000644980513442306\n",
       "\\item[\\$with\\_internet] 0.0000000000559419177648124\n",
       "\\item[\\$sixtyfive\\_and\\_older] 0.179826321888307\n",
       "\\item[\\$median\\_income] 0.730154941770592\n",
       "\\item[\\$number\\_providers] 0.00000164362034560384\n",
       "\\item[\\$mean\\_lowest\\_cost] 0.194275482216078\n",
       "\\item[\\$mean\\_d\\_mbps] 0\n",
       "\\item[\\$mean\\_u\\_mbps] 0\n",
       "\\item[\\$mean\\_lat\\_ms] 0\n",
       "\\item[\\$index] <NA>\n",
       "\\end{description}\n"
      ],
      "text/markdown": [
       "$has_computer\n",
       ":   0.000000000644980513442306\n",
       "$with_internet\n",
       ":   0.0000000000559419177648124\n",
       "$sixtyfive_and_older\n",
       ":   0.179826321888307\n",
       "$median_income\n",
       ":   0.730154941770592\n",
       "$number_providers\n",
       ":   0.00000164362034560384\n",
       "$mean_lowest_cost\n",
       ":   0.194275482216078\n",
       "$mean_d_mbps\n",
       ":   0\n",
       "$mean_u_mbps\n",
       ":   0\n",
       "$mean_lat_ms\n",
       ":   0\n",
       "$index\n",
       ":   &lt;NA&gt;\n",
       "\n",
       "\n"
      ],
      "text/plain": [
       "$has_computer\n",
       "[1] 0.0000000006449805\n",
       "\n",
       "$with_internet\n",
       "[1] 0.00000000005594192\n",
       "\n",
       "$sixtyfive_and_older\n",
       "[1] 0.1798263\n",
       "\n",
       "$median_income\n",
       "[1] 0.7301549\n",
       "\n",
       "$number_providers\n",
       "[1] 0.00000164362\n",
       "\n",
       "$mean_lowest_cost\n",
       "[1] 0.1942755\n",
       "\n",
       "$mean_d_mbps\n",
       "[1] 0\n",
       "\n",
       "$mean_u_mbps\n",
       "[1] 0\n",
       "\n",
       "$mean_lat_ms\n",
       "[1] 0\n",
       "\n",
       "$index\n",
       "[1] NA\n"
      ]
     },
     "metadata": {},
     "output_type": "display_data"
    }
   ],
   "source": [
    "as.list(rcorr(as.matrix(index_data3), type = \"pearson\")$P[, ncol(index_data3)])\n"
   ]
  },
  {
   "cell_type": "code",
   "execution_count": 62,
   "metadata": {
    "slideshow": {
     "slide_type": "subslide"
    },
    "vscode": {
     "languageId": "r"
    }
   },
   "outputs": [
    {
     "data": {
      "text/html": [
       "<table class=\"dataframe\">\n",
       "<caption>A matrix: 10 × 10 of type dbl</caption>\n",
       "<thead>\n",
       "\t<tr><th></th><th scope=col>has_computer</th><th scope=col>with_internet</th><th scope=col>sixtyfive_and_older</th><th scope=col>median_income</th><th scope=col>number_providers</th><th scope=col>mean_lowest_cost</th><th scope=col>mean_d_mbps</th><th scope=col>mean_u_mbps</th><th scope=col>mean_lat_ms</th><th scope=col>index</th></tr>\n",
       "</thead>\n",
       "<tbody>\n",
       "\t<tr><th scope=row>has_computer</th><td>                NA</td><td>0.00000000000000000</td><td>0.00000000</td><td>0.02755381</td><td>0.118292436762501785</td><td>0.142469388878</td><td>0.000025995933165657</td><td>0.007680971891602</td><td>0.0062836851041634</td><td>0.00000000064498051</td></tr>\n",
       "\t<tr><th scope=row>with_internet</th><td>0.0000000000000000</td><td>                 NA</td><td>0.00000000</td><td>0.03006990</td><td>0.082203264746717686</td><td>0.065587150157</td><td>0.000001719724394889</td><td>0.006902898453880</td><td>0.0012541075067722</td><td>0.00000000005594192</td></tr>\n",
       "\t<tr><th scope=row>sixtyfive_and_older</th><td>0.0000000000000000</td><td>0.00000000000000000</td><td>        NA</td><td>0.04477147</td><td>0.476702946467304045</td><td>0.497188268940</td><td>0.569411922064836595</td><td>0.022030156319832</td><td>0.1693793288053422</td><td>0.17982632188830716</td></tr>\n",
       "\t<tr><th scope=row>median_income</th><td>0.0275538119084824</td><td>0.03006989820441319</td><td>0.04477147</td><td>        NA</td><td>0.767570871280282230</td><td>0.469668921788</td><td>0.521089097196837159</td><td>0.807238517875172</td><td>0.4313383103711321</td><td>0.73015494177059215</td></tr>\n",
       "\t<tr><th scope=row>number_providers</th><td>0.1182924367625018</td><td>0.08220326474671769</td><td>0.47670295</td><td>0.76757087</td><td>                  NA</td><td>0.000005261423</td><td>0.000000000006029399</td><td>0.826929938720940</td><td>0.0000000002296336</td><td>0.00000164362034560</td></tr>\n",
       "\t<tr><th scope=row>mean_lowest_cost</th><td>0.1424693888777973</td><td>0.06558715015738903</td><td>0.49718827</td><td>0.46966892</td><td>0.000005261422731273</td><td>            NA</td><td>0.007630242115620689</td><td>0.256184957503358</td><td>0.0141555670114635</td><td>0.19427548221607838</td></tr>\n",
       "\t<tr><th scope=row>mean_d_mbps</th><td>0.0000259959331657</td><td>0.00000171972439489</td><td>0.56941192</td><td>0.52108910</td><td>0.000000000006029399</td><td>0.007630242116</td><td>                  NA</td><td>0.000000013665493</td><td>0.0000000000000000</td><td>0.00000000000000000</td></tr>\n",
       "\t<tr><th scope=row>mean_u_mbps</th><td>0.0076809718916016</td><td>0.00690289845388037</td><td>0.02203016</td><td>0.80723852</td><td>0.826929938720939894</td><td>0.256184957503</td><td>0.000000013665493181</td><td>               NA</td><td>0.0000000029104892</td><td>0.00000000000000000</td></tr>\n",
       "\t<tr><th scope=row>mean_lat_ms</th><td>0.0062836851041634</td><td>0.00125410750677224</td><td>0.16937933</td><td>0.43133831</td><td>0.000000000229633645</td><td>0.014155567011</td><td>0.000000000000000000</td><td>0.000000002910489</td><td>                NA</td><td>0.00000000000000000</td></tr>\n",
       "\t<tr><th scope=row>index</th><td>0.0000000006449805</td><td>0.00000000005594192</td><td>0.17982632</td><td>0.73015494</td><td>0.000001643620345604</td><td>0.194275482216</td><td>0.000000000000000000</td><td>0.000000000000000</td><td>0.0000000000000000</td><td>                 NA</td></tr>\n",
       "</tbody>\n",
       "</table>\n"
      ],
      "text/latex": [
       "A matrix: 10 × 10 of type dbl\n",
       "\\begin{tabular}{r|llllllllll}\n",
       "  & has\\_computer & with\\_internet & sixtyfive\\_and\\_older & median\\_income & number\\_providers & mean\\_lowest\\_cost & mean\\_d\\_mbps & mean\\_u\\_mbps & mean\\_lat\\_ms & index\\\\\n",
       "\\hline\n",
       "\thas\\_computer &                 NA & 0.00000000000000000 & 0.00000000 & 0.02755381 & 0.118292436762501785 & 0.142469388878 & 0.000025995933165657 & 0.007680971891602 & 0.0062836851041634 & 0.00000000064498051\\\\\n",
       "\twith\\_internet & 0.0000000000000000 &                  NA & 0.00000000 & 0.03006990 & 0.082203264746717686 & 0.065587150157 & 0.000001719724394889 & 0.006902898453880 & 0.0012541075067722 & 0.00000000005594192\\\\\n",
       "\tsixtyfive\\_and\\_older & 0.0000000000000000 & 0.00000000000000000 &         NA & 0.04477147 & 0.476702946467304045 & 0.497188268940 & 0.569411922064836595 & 0.022030156319832 & 0.1693793288053422 & 0.17982632188830716\\\\\n",
       "\tmedian\\_income & 0.0275538119084824 & 0.03006989820441319 & 0.04477147 &         NA & 0.767570871280282230 & 0.469668921788 & 0.521089097196837159 & 0.807238517875172 & 0.4313383103711321 & 0.73015494177059215\\\\\n",
       "\tnumber\\_providers & 0.1182924367625018 & 0.08220326474671769 & 0.47670295 & 0.76757087 &                   NA & 0.000005261423 & 0.000000000006029399 & 0.826929938720940 & 0.0000000002296336 & 0.00000164362034560\\\\\n",
       "\tmean\\_lowest\\_cost & 0.1424693888777973 & 0.06558715015738903 & 0.49718827 & 0.46966892 & 0.000005261422731273 &             NA & 0.007630242115620689 & 0.256184957503358 & 0.0141555670114635 & 0.19427548221607838\\\\\n",
       "\tmean\\_d\\_mbps & 0.0000259959331657 & 0.00000171972439489 & 0.56941192 & 0.52108910 & 0.000000000006029399 & 0.007630242116 &                   NA & 0.000000013665493 & 0.0000000000000000 & 0.00000000000000000\\\\\n",
       "\tmean\\_u\\_mbps & 0.0076809718916016 & 0.00690289845388037 & 0.02203016 & 0.80723852 & 0.826929938720939894 & 0.256184957503 & 0.000000013665493181 &                NA & 0.0000000029104892 & 0.00000000000000000\\\\\n",
       "\tmean\\_lat\\_ms & 0.0062836851041634 & 0.00125410750677224 & 0.16937933 & 0.43133831 & 0.000000000229633645 & 0.014155567011 & 0.000000000000000000 & 0.000000002910489 &                 NA & 0.00000000000000000\\\\\n",
       "\tindex & 0.0000000006449805 & 0.00000000005594192 & 0.17982632 & 0.73015494 & 0.000001643620345604 & 0.194275482216 & 0.000000000000000000 & 0.000000000000000 & 0.0000000000000000 &                  NA\\\\\n",
       "\\end{tabular}\n"
      ],
      "text/markdown": [
       "\n",
       "A matrix: 10 × 10 of type dbl\n",
       "\n",
       "| <!--/--> | has_computer | with_internet | sixtyfive_and_older | median_income | number_providers | mean_lowest_cost | mean_d_mbps | mean_u_mbps | mean_lat_ms | index |\n",
       "|---|---|---|---|---|---|---|---|---|---|---|\n",
       "| has_computer |                 NA | 0.00000000000000000 | 0.00000000 | 0.02755381 | 0.118292436762501785 | 0.142469388878 | 0.000025995933165657 | 0.007680971891602 | 0.0062836851041634 | 0.00000000064498051 |\n",
       "| with_internet | 0.0000000000000000 |                  NA | 0.00000000 | 0.03006990 | 0.082203264746717686 | 0.065587150157 | 0.000001719724394889 | 0.006902898453880 | 0.0012541075067722 | 0.00000000005594192 |\n",
       "| sixtyfive_and_older | 0.0000000000000000 | 0.00000000000000000 |         NA | 0.04477147 | 0.476702946467304045 | 0.497188268940 | 0.569411922064836595 | 0.022030156319832 | 0.1693793288053422 | 0.17982632188830716 |\n",
       "| median_income | 0.0275538119084824 | 0.03006989820441319 | 0.04477147 |         NA | 0.767570871280282230 | 0.469668921788 | 0.521089097196837159 | 0.807238517875172 | 0.4313383103711321 | 0.73015494177059215 |\n",
       "| number_providers | 0.1182924367625018 | 0.08220326474671769 | 0.47670295 | 0.76757087 |                   NA | 0.000005261423 | 0.000000000006029399 | 0.826929938720940 | 0.0000000002296336 | 0.00000164362034560 |\n",
       "| mean_lowest_cost | 0.1424693888777973 | 0.06558715015738903 | 0.49718827 | 0.46966892 | 0.000005261422731273 |             NA | 0.007630242115620689 | 0.256184957503358 | 0.0141555670114635 | 0.19427548221607838 |\n",
       "| mean_d_mbps | 0.0000259959331657 | 0.00000171972439489 | 0.56941192 | 0.52108910 | 0.000000000006029399 | 0.007630242116 |                   NA | 0.000000013665493 | 0.0000000000000000 | 0.00000000000000000 |\n",
       "| mean_u_mbps | 0.0076809718916016 | 0.00690289845388037 | 0.02203016 | 0.80723852 | 0.826929938720939894 | 0.256184957503 | 0.000000013665493181 |                NA | 0.0000000029104892 | 0.00000000000000000 |\n",
       "| mean_lat_ms | 0.0062836851041634 | 0.00125410750677224 | 0.16937933 | 0.43133831 | 0.000000000229633645 | 0.014155567011 | 0.000000000000000000 | 0.000000002910489 |                 NA | 0.00000000000000000 |\n",
       "| index | 0.0000000006449805 | 0.00000000005594192 | 0.17982632 | 0.73015494 | 0.000001643620345604 | 0.194275482216 | 0.000000000000000000 | 0.000000000000000 | 0.0000000000000000 |                  NA |\n",
       "\n"
      ],
      "text/plain": [
       "                    has_computer       with_internet       sixtyfive_and_older\n",
       "has_computer                        NA 0.00000000000000000 0.00000000         \n",
       "with_internet       0.0000000000000000                  NA 0.00000000         \n",
       "sixtyfive_and_older 0.0000000000000000 0.00000000000000000         NA         \n",
       "median_income       0.0275538119084824 0.03006989820441319 0.04477147         \n",
       "number_providers    0.1182924367625018 0.08220326474671769 0.47670295         \n",
       "mean_lowest_cost    0.1424693888777973 0.06558715015738903 0.49718827         \n",
       "mean_d_mbps         0.0000259959331657 0.00000171972439489 0.56941192         \n",
       "mean_u_mbps         0.0076809718916016 0.00690289845388037 0.02203016         \n",
       "mean_lat_ms         0.0062836851041634 0.00125410750677224 0.16937933         \n",
       "index               0.0000000006449805 0.00000000005594192 0.17982632         \n",
       "                    median_income number_providers     mean_lowest_cost\n",
       "has_computer        0.02755381    0.118292436762501785 0.142469388878  \n",
       "with_internet       0.03006990    0.082203264746717686 0.065587150157  \n",
       "sixtyfive_and_older 0.04477147    0.476702946467304045 0.497188268940  \n",
       "median_income               NA    0.767570871280282230 0.469668921788  \n",
       "number_providers    0.76757087                      NA 0.000005261423  \n",
       "mean_lowest_cost    0.46966892    0.000005261422731273             NA  \n",
       "mean_d_mbps         0.52108910    0.000000000006029399 0.007630242116  \n",
       "mean_u_mbps         0.80723852    0.826929938720939894 0.256184957503  \n",
       "mean_lat_ms         0.43133831    0.000000000229633645 0.014155567011  \n",
       "index               0.73015494    0.000001643620345604 0.194275482216  \n",
       "                    mean_d_mbps          mean_u_mbps       mean_lat_ms       \n",
       "has_computer        0.000025995933165657 0.007680971891602 0.0062836851041634\n",
       "with_internet       0.000001719724394889 0.006902898453880 0.0012541075067722\n",
       "sixtyfive_and_older 0.569411922064836595 0.022030156319832 0.1693793288053422\n",
       "median_income       0.521089097196837159 0.807238517875172 0.4313383103711321\n",
       "number_providers    0.000000000006029399 0.826929938720940 0.0000000002296336\n",
       "mean_lowest_cost    0.007630242115620689 0.256184957503358 0.0141555670114635\n",
       "mean_d_mbps                           NA 0.000000013665493 0.0000000000000000\n",
       "mean_u_mbps         0.000000013665493181                NA 0.0000000029104892\n",
       "mean_lat_ms         0.000000000000000000 0.000000002910489                 NA\n",
       "index               0.000000000000000000 0.000000000000000 0.0000000000000000\n",
       "                    index              \n",
       "has_computer        0.00000000064498051\n",
       "with_internet       0.00000000005594192\n",
       "sixtyfive_and_older 0.17982632188830716\n",
       "median_income       0.73015494177059215\n",
       "number_providers    0.00000164362034560\n",
       "mean_lowest_cost    0.19427548221607838\n",
       "mean_d_mbps         0.00000000000000000\n",
       "mean_u_mbps         0.00000000000000000\n",
       "mean_lat_ms         0.00000000000000000\n",
       "index                                NA"
      ]
     },
     "metadata": {},
     "output_type": "display_data"
    }
   ],
   "source": [
    "rcorr(as.matrix(index_data3), type = \"pearson\")$P\n"
   ]
  },
  {
   "cell_type": "code",
   "execution_count": 63,
   "metadata": {
    "slideshow": {
     "slide_type": "subslide"
    },
    "vscode": {
     "languageId": "r"
    }
   },
   "outputs": [
    {
     "data": {
      "text/html": [
       "<table class=\"dataframe\">\n",
       "<caption>A matrix: 10 × 10 of type dbl</caption>\n",
       "<thead>\n",
       "\t<tr><th></th><th scope=col>has_computer</th><th scope=col>with_internet</th><th scope=col>sixtyfive_and_older</th><th scope=col>median_income</th><th scope=col>number_providers</th><th scope=col>mean_lowest_cost</th><th scope=col>mean_d_mbps</th><th scope=col>mean_u_mbps</th><th scope=col>mean_lat_ms</th><th scope=col>index</th></tr>\n",
       "</thead>\n",
       "<tbody>\n",
       "\t<tr><th scope=row>has_computer</th><td> 1.0000000</td><td> 0.9894358</td><td> 0.63073622</td><td> 0.16291986</td><td>-0.11586967</td><td> 0.10884185</td><td> 0.30554032</td><td> 0.19648189</td><td>-0.20130674</td><td>-0.43662618</td></tr>\n",
       "\t<tr><th scope=row>with_internet</th><td> 0.9894358</td><td> 1.0000000</td><td> 0.62529208</td><td> 0.16040888</td><td>-0.12882664</td><td> 0.13640579</td><td> 0.34507339</td><td> 0.19906151</td><td>-0.23671663</td><td>-0.46019537</td></tr>\n",
       "\t<tr><th scope=row>sixtyfive_and_older</th><td> 0.6307362</td><td> 0.6252921</td><td> 1.00000000</td><td> 0.14854040</td><td> 0.05292992</td><td> 0.05050125</td><td>-0.04232679</td><td>-0.16920740</td><td> 0.10201766</td><td> 0.09958673</td></tr>\n",
       "\t<tr><th scope=row>median_income</th><td> 0.1629199</td><td> 0.1604089</td><td> 0.14854040</td><td> 1.00000000</td><td> 0.02199604</td><td>-0.05377681</td><td>-0.04773346</td><td>-0.01815921</td><td> 0.05852071</td><td> 0.02566886</td></tr>\n",
       "\t<tr><th scope=row>number_providers</th><td>-0.1158697</td><td>-0.1288266</td><td> 0.05292992</td><td> 0.02199604</td><td> 1.00000000</td><td>-0.32945829</td><td>-0.48020798</td><td>-0.01627282</td><td> 0.44680246</td><td> 0.34568793</td></tr>\n",
       "\t<tr><th scope=row>mean_lowest_cost</th><td> 0.1088418</td><td> 0.1364058</td><td> 0.05050125</td><td>-0.05377681</td><td>-0.32945829</td><td> 1.00000000</td><td> 0.19664282</td><td> 0.08436356</td><td>-0.18109139</td><td>-0.09639037</td></tr>\n",
       "\t<tr><th scope=row>mean_d_mbps</th><td> 0.3055403</td><td> 0.3450734</td><td>-0.04232679</td><td>-0.04773346</td><td>-0.48020798</td><td> 0.19664282</td><td> 1.00000000</td><td> 0.40439966</td><td>-0.83156103</td><td>-0.85464249</td></tr>\n",
       "\t<tr><th scope=row>mean_u_mbps</th><td> 0.1964819</td><td> 0.1990615</td><td>-0.16920740</td><td>-0.01815921</td><td>-0.01627282</td><td> 0.08436356</td><td> 0.40439966</td><td> 1.00000000</td><td>-0.42114628</td><td>-0.74316911</td></tr>\n",
       "\t<tr><th scope=row>mean_lat_ms</th><td>-0.2013067</td><td>-0.2367166</td><td> 0.10201766</td><td> 0.05852071</td><td> 0.44680246</td><td>-0.18109139</td><td>-0.83156103</td><td>-0.42114628</td><td> 1.00000000</td><td> 0.84122145</td></tr>\n",
       "\t<tr><th scope=row>index</th><td>-0.4366262</td><td>-0.4601954</td><td> 0.09958673</td><td> 0.02566886</td><td> 0.34568793</td><td>-0.09639037</td><td>-0.85464249</td><td>-0.74316911</td><td> 0.84122145</td><td> 1.00000000</td></tr>\n",
       "</tbody>\n",
       "</table>\n"
      ],
      "text/latex": [
       "A matrix: 10 × 10 of type dbl\n",
       "\\begin{tabular}{r|llllllllll}\n",
       "  & has\\_computer & with\\_internet & sixtyfive\\_and\\_older & median\\_income & number\\_providers & mean\\_lowest\\_cost & mean\\_d\\_mbps & mean\\_u\\_mbps & mean\\_lat\\_ms & index\\\\\n",
       "\\hline\n",
       "\thas\\_computer &  1.0000000 &  0.9894358 &  0.63073622 &  0.16291986 & -0.11586967 &  0.10884185 &  0.30554032 &  0.19648189 & -0.20130674 & -0.43662618\\\\\n",
       "\twith\\_internet &  0.9894358 &  1.0000000 &  0.62529208 &  0.16040888 & -0.12882664 &  0.13640579 &  0.34507339 &  0.19906151 & -0.23671663 & -0.46019537\\\\\n",
       "\tsixtyfive\\_and\\_older &  0.6307362 &  0.6252921 &  1.00000000 &  0.14854040 &  0.05292992 &  0.05050125 & -0.04232679 & -0.16920740 &  0.10201766 &  0.09958673\\\\\n",
       "\tmedian\\_income &  0.1629199 &  0.1604089 &  0.14854040 &  1.00000000 &  0.02199604 & -0.05377681 & -0.04773346 & -0.01815921 &  0.05852071 &  0.02566886\\\\\n",
       "\tnumber\\_providers & -0.1158697 & -0.1288266 &  0.05292992 &  0.02199604 &  1.00000000 & -0.32945829 & -0.48020798 & -0.01627282 &  0.44680246 &  0.34568793\\\\\n",
       "\tmean\\_lowest\\_cost &  0.1088418 &  0.1364058 &  0.05050125 & -0.05377681 & -0.32945829 &  1.00000000 &  0.19664282 &  0.08436356 & -0.18109139 & -0.09639037\\\\\n",
       "\tmean\\_d\\_mbps &  0.3055403 &  0.3450734 & -0.04232679 & -0.04773346 & -0.48020798 &  0.19664282 &  1.00000000 &  0.40439966 & -0.83156103 & -0.85464249\\\\\n",
       "\tmean\\_u\\_mbps &  0.1964819 &  0.1990615 & -0.16920740 & -0.01815921 & -0.01627282 &  0.08436356 &  0.40439966 &  1.00000000 & -0.42114628 & -0.74316911\\\\\n",
       "\tmean\\_lat\\_ms & -0.2013067 & -0.2367166 &  0.10201766 &  0.05852071 &  0.44680246 & -0.18109139 & -0.83156103 & -0.42114628 &  1.00000000 &  0.84122145\\\\\n",
       "\tindex & -0.4366262 & -0.4601954 &  0.09958673 &  0.02566886 &  0.34568793 & -0.09639037 & -0.85464249 & -0.74316911 &  0.84122145 &  1.00000000\\\\\n",
       "\\end{tabular}\n"
      ],
      "text/markdown": [
       "\n",
       "A matrix: 10 × 10 of type dbl\n",
       "\n",
       "| <!--/--> | has_computer | with_internet | sixtyfive_and_older | median_income | number_providers | mean_lowest_cost | mean_d_mbps | mean_u_mbps | mean_lat_ms | index |\n",
       "|---|---|---|---|---|---|---|---|---|---|---|\n",
       "| has_computer |  1.0000000 |  0.9894358 |  0.63073622 |  0.16291986 | -0.11586967 |  0.10884185 |  0.30554032 |  0.19648189 | -0.20130674 | -0.43662618 |\n",
       "| with_internet |  0.9894358 |  1.0000000 |  0.62529208 |  0.16040888 | -0.12882664 |  0.13640579 |  0.34507339 |  0.19906151 | -0.23671663 | -0.46019537 |\n",
       "| sixtyfive_and_older |  0.6307362 |  0.6252921 |  1.00000000 |  0.14854040 |  0.05292992 |  0.05050125 | -0.04232679 | -0.16920740 |  0.10201766 |  0.09958673 |\n",
       "| median_income |  0.1629199 |  0.1604089 |  0.14854040 |  1.00000000 |  0.02199604 | -0.05377681 | -0.04773346 | -0.01815921 |  0.05852071 |  0.02566886 |\n",
       "| number_providers | -0.1158697 | -0.1288266 |  0.05292992 |  0.02199604 |  1.00000000 | -0.32945829 | -0.48020798 | -0.01627282 |  0.44680246 |  0.34568793 |\n",
       "| mean_lowest_cost |  0.1088418 |  0.1364058 |  0.05050125 | -0.05377681 | -0.32945829 |  1.00000000 |  0.19664282 |  0.08436356 | -0.18109139 | -0.09639037 |\n",
       "| mean_d_mbps |  0.3055403 |  0.3450734 | -0.04232679 | -0.04773346 | -0.48020798 |  0.19664282 |  1.00000000 |  0.40439966 | -0.83156103 | -0.85464249 |\n",
       "| mean_u_mbps |  0.1964819 |  0.1990615 | -0.16920740 | -0.01815921 | -0.01627282 |  0.08436356 |  0.40439966 |  1.00000000 | -0.42114628 | -0.74316911 |\n",
       "| mean_lat_ms | -0.2013067 | -0.2367166 |  0.10201766 |  0.05852071 |  0.44680246 | -0.18109139 | -0.83156103 | -0.42114628 |  1.00000000 |  0.84122145 |\n",
       "| index | -0.4366262 | -0.4601954 |  0.09958673 |  0.02566886 |  0.34568793 | -0.09639037 | -0.85464249 | -0.74316911 |  0.84122145 |  1.00000000 |\n",
       "\n"
      ],
      "text/plain": [
       "                    has_computer with_internet sixtyfive_and_older\n",
       "has_computer         1.0000000    0.9894358     0.63073622        \n",
       "with_internet        0.9894358    1.0000000     0.62529208        \n",
       "sixtyfive_and_older  0.6307362    0.6252921     1.00000000        \n",
       "median_income        0.1629199    0.1604089     0.14854040        \n",
       "number_providers    -0.1158697   -0.1288266     0.05292992        \n",
       "mean_lowest_cost     0.1088418    0.1364058     0.05050125        \n",
       "mean_d_mbps          0.3055403    0.3450734    -0.04232679        \n",
       "mean_u_mbps          0.1964819    0.1990615    -0.16920740        \n",
       "mean_lat_ms         -0.2013067   -0.2367166     0.10201766        \n",
       "index               -0.4366262   -0.4601954     0.09958673        \n",
       "                    median_income number_providers mean_lowest_cost mean_d_mbps\n",
       "has_computer         0.16291986   -0.11586967       0.10884185       0.30554032\n",
       "with_internet        0.16040888   -0.12882664       0.13640579       0.34507339\n",
       "sixtyfive_and_older  0.14854040    0.05292992       0.05050125      -0.04232679\n",
       "median_income        1.00000000    0.02199604      -0.05377681      -0.04773346\n",
       "number_providers     0.02199604    1.00000000      -0.32945829      -0.48020798\n",
       "mean_lowest_cost    -0.05377681   -0.32945829       1.00000000       0.19664282\n",
       "mean_d_mbps         -0.04773346   -0.48020798       0.19664282       1.00000000\n",
       "mean_u_mbps         -0.01815921   -0.01627282       0.08436356       0.40439966\n",
       "mean_lat_ms          0.05852071    0.44680246      -0.18109139      -0.83156103\n",
       "index                0.02566886    0.34568793      -0.09639037      -0.85464249\n",
       "                    mean_u_mbps mean_lat_ms index      \n",
       "has_computer         0.19648189 -0.20130674 -0.43662618\n",
       "with_internet        0.19906151 -0.23671663 -0.46019537\n",
       "sixtyfive_and_older -0.16920740  0.10201766  0.09958673\n",
       "median_income       -0.01815921  0.05852071  0.02566886\n",
       "number_providers    -0.01627282  0.44680246  0.34568793\n",
       "mean_lowest_cost     0.08436356 -0.18109139 -0.09639037\n",
       "mean_d_mbps          0.40439966 -0.83156103 -0.85464249\n",
       "mean_u_mbps          1.00000000 -0.42114628 -0.74316911\n",
       "mean_lat_ms         -0.42114628  1.00000000  0.84122145\n",
       "index               -0.74316911  0.84122145  1.00000000"
      ]
     },
     "metadata": {},
     "output_type": "display_data"
    }
   ],
   "source": [
    "rcorr(as.matrix(index_data3), type = \"pearson\")$r\n"
   ]
  },
  {
   "attachments": {},
   "cell_type": "markdown",
   "metadata": {
    "slideshow": {
     "slide_type": "slide"
    }
   },
   "source": [
    "## Create New Dataset"
   ]
  },
  {
   "cell_type": "code",
   "execution_count": 64,
   "metadata": {
    "vscode": {
     "languageId": "r"
    }
   },
   "outputs": [
    {
     "data": {
      "text/html": [
       "<table class=\"dataframe\">\n",
       "<caption>A data.frame: 6 × 1</caption>\n",
       "<thead>\n",
       "\t<tr><th></th><th scope=col>weight</th></tr>\n",
       "\t<tr><th></th><th scope=col>&lt;dbl&gt;</th></tr>\n",
       "</thead>\n",
       "<tbody>\n",
       "\t<tr><th scope=row>has_computer</th><td> 2.5716594</td></tr>\n",
       "\t<tr><th scope=row>with_internet</th><td> 1.3778443</td></tr>\n",
       "\t<tr><th scope=row>number_providers</th><td> 0.6502508</td></tr>\n",
       "\t<tr><th scope=row>mean_d_mbps</th><td> 0.1910314</td></tr>\n",
       "\t<tr><th scope=row>mean_u_mbps</th><td> 0.9443283</td></tr>\n",
       "\t<tr><th scope=row>mean_lat_ms</th><td>-0.1403025</td></tr>\n",
       "</tbody>\n",
       "</table>\n"
      ],
      "text/latex": [
       "A data.frame: 6 × 1\n",
       "\\begin{tabular}{r|l}\n",
       "  & weight\\\\\n",
       "  & <dbl>\\\\\n",
       "\\hline\n",
       "\thas\\_computer &  2.5716594\\\\\n",
       "\twith\\_internet &  1.3778443\\\\\n",
       "\tnumber\\_providers &  0.6502508\\\\\n",
       "\tmean\\_d\\_mbps &  0.1910314\\\\\n",
       "\tmean\\_u\\_mbps &  0.9443283\\\\\n",
       "\tmean\\_lat\\_ms & -0.1403025\\\\\n",
       "\\end{tabular}\n"
      ],
      "text/markdown": [
       "\n",
       "A data.frame: 6 × 1\n",
       "\n",
       "| <!--/--> | weight &lt;dbl&gt; |\n",
       "|---|---|\n",
       "| has_computer |  2.5716594 |\n",
       "| with_internet |  1.3778443 |\n",
       "| number_providers |  0.6502508 |\n",
       "| mean_d_mbps |  0.1910314 |\n",
       "| mean_u_mbps |  0.9443283 |\n",
       "| mean_lat_ms | -0.1403025 |\n",
       "\n"
      ],
      "text/plain": [
       "                 weight    \n",
       "has_computer      2.5716594\n",
       "with_internet     1.3778443\n",
       "number_providers  0.6502508\n",
       "mean_d_mbps       0.1910314\n",
       "mean_u_mbps       0.9443283\n",
       "mean_lat_ms      -0.1403025"
      ]
     },
     "metadata": {},
     "output_type": "display_data"
    }
   ],
   "source": [
    "data3 <- data %>% dplyr::select(-mean_lowest_cost, -sixtyfive_and_older, -median_income)\n",
    "scaled_data3 <- scale(data3)\n",
    "pca_data3 <- prcomp(data3, scale = TRUE, center = TRUE)\n",
    "eigenvectors3 <- -pca_data3$rotation\n",
    "eigenvalues3 <- pca_data3$sdev^2\n",
    "\n",
    "weights3.2 <- eigenvectors3[, 1:3]\n",
    "\n",
    "for (i in 1:ncol(weights3.2)) {\n",
    "    weights3.2[i, ] <- weights3.2[i, ] * eigenvalues3[i]\n",
    "}\n",
    "\n",
    "weights3.2 <- weights3.2 %>%\n",
    "    as.data.frame() %>%\n",
    "    transmute(weight = PC1 + PC2 + PC3)\n",
    "\n",
    "weights3.2\n"
   ]
  },
  {
   "attachments": {},
   "cell_type": "markdown",
   "metadata": {
    "slideshow": {
     "slide_type": "subslide"
    }
   },
   "source": [
    "### Multiply New Weights Against Data"
   ]
  },
  {
   "cell_type": "code",
   "execution_count": 65,
   "metadata": {
    "vscode": {
     "languageId": "r"
    }
   },
   "outputs": [],
   "source": [
    "index_col3 <- scaled_data3 %*% as.matrix(weights3.2)"
   ]
  },
  {
   "cell_type": "code",
   "execution_count": 66,
   "metadata": {
    "vscode": {
     "languageId": "r"
    }
   },
   "outputs": [
    {
     "data": {
      "text/html": [
       "<table class=\"dataframe\">\n",
       "<caption>A data.frame: 6 × 10</caption>\n",
       "<thead>\n",
       "\t<tr><th></th><th scope=col>has_computer</th><th scope=col>with_internet</th><th scope=col>sixtyfive_and_older</th><th scope=col>median_income</th><th scope=col>number_providers</th><th scope=col>mean_lowest_cost</th><th scope=col>mean_d_mbps</th><th scope=col>mean_u_mbps</th><th scope=col>mean_lat_ms</th><th scope=col>index</th></tr>\n",
       "\t<tr><th></th><th scope=col>&lt;dbl&gt;</th><th scope=col>&lt;dbl&gt;</th><th scope=col>&lt;dbl&gt;</th><th scope=col>&lt;dbl&gt;</th><th scope=col>&lt;dbl&gt;</th><th scope=col>&lt;dbl&gt;</th><th scope=col>&lt;dbl&gt;</th><th scope=col>&lt;dbl&gt;</th><th scope=col>&lt;dbl&gt;</th><th scope=col>&lt;dbl&gt;</th></tr>\n",
       "</thead>\n",
       "<tbody>\n",
       "\t<tr><th scope=row>1</th><td> 0.50245011</td><td> 0.5167430</td><td> 2.23493253</td><td>0.07418486</td><td> 1.7094218</td><td>-0.18458632</td><td>-1.05913969</td><td> 0.2831385</td><td> 1.17991288</td><td> 3.0151769</td></tr>\n",
       "\t<tr><th scope=row>2</th><td> 0.88153598</td><td> 0.9194434</td><td> 2.28240921</td><td>0.07416551</td><td> 2.2108891</td><td> 0.41923513</td><td>-0.64056563</td><td>-0.4304467</td><td>-0.15416598</td><td> 4.4642712</td></tr>\n",
       "\t<tr><th scope=row>3</th><td>-0.19922325</td><td>-0.2714809</td><td>-0.74343819</td><td>0.07345717</td><td> 1.2079545</td><td> 0.39687137</td><td>-0.31447576</td><td>-0.2727836</td><td> 0.10962741</td><td>-0.4339725</td></tr>\n",
       "\t<tr><th scope=row>4</th><td>-0.81523778</td><td>-0.9413759</td><td> 0.05100501</td><td>0.07347137</td><td>-0.2964475</td><td> 1.12369349</td><td>-0.85523159</td><td>-0.4058615</td><td>-0.27548794</td><td>-4.0943395</td></tr>\n",
       "\t<tr><th scope=row>5</th><td>-0.07893639</td><td>-0.1913226</td><td> 0.01302366</td><td>0.07354973</td><td>-0.2964475</td><td> 1.12369349</td><td>-0.08992031</td><td>-0.4758288</td><td>-0.30026584</td><td>-1.0837636</td></tr>\n",
       "\t<tr><th scope=row>6</th><td> 0.28010167</td><td> 0.1789328</td><td> 0.88026444</td><td>0.07377917</td><td> 0.2050198</td><td> 0.07383932</td><td>-0.57834859</td><td>-0.4065058</td><td>-0.07734433</td><td> 0.6166758</td></tr>\n",
       "</tbody>\n",
       "</table>\n"
      ],
      "text/latex": [
       "A data.frame: 6 × 10\n",
       "\\begin{tabular}{r|llllllllll}\n",
       "  & has\\_computer & with\\_internet & sixtyfive\\_and\\_older & median\\_income & number\\_providers & mean\\_lowest\\_cost & mean\\_d\\_mbps & mean\\_u\\_mbps & mean\\_lat\\_ms & index\\\\\n",
       "  & <dbl> & <dbl> & <dbl> & <dbl> & <dbl> & <dbl> & <dbl> & <dbl> & <dbl> & <dbl>\\\\\n",
       "\\hline\n",
       "\t1 &  0.50245011 &  0.5167430 &  2.23493253 & 0.07418486 &  1.7094218 & -0.18458632 & -1.05913969 &  0.2831385 &  1.17991288 &  3.0151769\\\\\n",
       "\t2 &  0.88153598 &  0.9194434 &  2.28240921 & 0.07416551 &  2.2108891 &  0.41923513 & -0.64056563 & -0.4304467 & -0.15416598 &  4.4642712\\\\\n",
       "\t3 & -0.19922325 & -0.2714809 & -0.74343819 & 0.07345717 &  1.2079545 &  0.39687137 & -0.31447576 & -0.2727836 &  0.10962741 & -0.4339725\\\\\n",
       "\t4 & -0.81523778 & -0.9413759 &  0.05100501 & 0.07347137 & -0.2964475 &  1.12369349 & -0.85523159 & -0.4058615 & -0.27548794 & -4.0943395\\\\\n",
       "\t5 & -0.07893639 & -0.1913226 &  0.01302366 & 0.07354973 & -0.2964475 &  1.12369349 & -0.08992031 & -0.4758288 & -0.30026584 & -1.0837636\\\\\n",
       "\t6 &  0.28010167 &  0.1789328 &  0.88026444 & 0.07377917 &  0.2050198 &  0.07383932 & -0.57834859 & -0.4065058 & -0.07734433 &  0.6166758\\\\\n",
       "\\end{tabular}\n"
      ],
      "text/markdown": [
       "\n",
       "A data.frame: 6 × 10\n",
       "\n",
       "| <!--/--> | has_computer &lt;dbl&gt; | with_internet &lt;dbl&gt; | sixtyfive_and_older &lt;dbl&gt; | median_income &lt;dbl&gt; | number_providers &lt;dbl&gt; | mean_lowest_cost &lt;dbl&gt; | mean_d_mbps &lt;dbl&gt; | mean_u_mbps &lt;dbl&gt; | mean_lat_ms &lt;dbl&gt; | index &lt;dbl&gt; |\n",
       "|---|---|---|---|---|---|---|---|---|---|---|\n",
       "| 1 |  0.50245011 |  0.5167430 |  2.23493253 | 0.07418486 |  1.7094218 | -0.18458632 | -1.05913969 |  0.2831385 |  1.17991288 |  3.0151769 |\n",
       "| 2 |  0.88153598 |  0.9194434 |  2.28240921 | 0.07416551 |  2.2108891 |  0.41923513 | -0.64056563 | -0.4304467 | -0.15416598 |  4.4642712 |\n",
       "| 3 | -0.19922325 | -0.2714809 | -0.74343819 | 0.07345717 |  1.2079545 |  0.39687137 | -0.31447576 | -0.2727836 |  0.10962741 | -0.4339725 |\n",
       "| 4 | -0.81523778 | -0.9413759 |  0.05100501 | 0.07347137 | -0.2964475 |  1.12369349 | -0.85523159 | -0.4058615 | -0.27548794 | -4.0943395 |\n",
       "| 5 | -0.07893639 | -0.1913226 |  0.01302366 | 0.07354973 | -0.2964475 |  1.12369349 | -0.08992031 | -0.4758288 | -0.30026584 | -1.0837636 |\n",
       "| 6 |  0.28010167 |  0.1789328 |  0.88026444 | 0.07377917 |  0.2050198 |  0.07383932 | -0.57834859 | -0.4065058 | -0.07734433 |  0.6166758 |\n",
       "\n"
      ],
      "text/plain": [
       "  has_computer with_internet sixtyfive_and_older median_income number_providers\n",
       "1  0.50245011   0.5167430     2.23493253         0.07418486     1.7094218      \n",
       "2  0.88153598   0.9194434     2.28240921         0.07416551     2.2108891      \n",
       "3 -0.19922325  -0.2714809    -0.74343819         0.07345717     1.2079545      \n",
       "4 -0.81523778  -0.9413759     0.05100501         0.07347137    -0.2964475      \n",
       "5 -0.07893639  -0.1913226     0.01302366         0.07354973    -0.2964475      \n",
       "6  0.28010167   0.1789328     0.88026444         0.07377917     0.2050198      \n",
       "  mean_lowest_cost mean_d_mbps mean_u_mbps mean_lat_ms index     \n",
       "1 -0.18458632      -1.05913969  0.2831385   1.17991288  3.0151769\n",
       "2  0.41923513      -0.64056563 -0.4304467  -0.15416598  4.4642712\n",
       "3  0.39687137      -0.31447576 -0.2727836   0.10962741 -0.4339725\n",
       "4  1.12369349      -0.85523159 -0.4058615  -0.27548794 -4.0943395\n",
       "5  1.12369349      -0.08992031 -0.4758288  -0.30026584 -1.0837636\n",
       "6  0.07383932      -0.57834859 -0.4065058  -0.07734433  0.6166758"
      ]
     },
     "metadata": {},
     "output_type": "display_data"
    }
   ],
   "source": [
    "index_data3.2 <- cbind(scaled_data, index_col3) %>%\n",
    "    as.data.frame() %>% \n",
    "    rename(index = weight)\n",
    "\n",
    "head(index_data3.2)"
   ]
  },
  {
   "attachments": {},
   "cell_type": "markdown",
   "metadata": {
    "slideshow": {
     "slide_type": "slide"
    }
   },
   "source": [
    "## Stepwise Regression"
   ]
  },
  {
   "cell_type": "code",
   "execution_count": 67,
   "metadata": {
    "vscode": {
     "languageId": "r"
    }
   },
   "outputs": [
    {
     "data": {
      "text/plain": [
       "Subset selection object\n",
       "Call: regsubsets.formula(index_col3 ~ ., as.data.frame(scaled_data), \n",
       "    method = \"forward\")\n",
       "9 Variables  (and intercept)\n",
       "                    Forced in Forced out\n",
       "has_computer            FALSE      FALSE\n",
       "with_internet           FALSE      FALSE\n",
       "sixtyfive_and_older     FALSE      FALSE\n",
       "median_income           FALSE      FALSE\n",
       "number_providers        FALSE      FALSE\n",
       "mean_lowest_cost        FALSE      FALSE\n",
       "mean_d_mbps             FALSE      FALSE\n",
       "mean_u_mbps             FALSE      FALSE\n",
       "mean_lat_ms             FALSE      FALSE\n",
       "1 subsets of each size up to 8\n",
       "Selection Algorithm: forward\n",
       "         has_computer with_internet sixtyfive_and_older median_income\n",
       "1  ( 1 ) \"*\"          \" \"           \" \"                 \" \"          \n",
       "2  ( 1 ) \"*\"          \" \"           \" \"                 \" \"          \n",
       "3  ( 1 ) \"*\"          \" \"           \" \"                 \" \"          \n",
       "4  ( 1 ) \"*\"          \" \"           \" \"                 \" \"          \n",
       "5  ( 1 ) \"*\"          \"*\"           \" \"                 \" \"          \n",
       "6  ( 1 ) \"*\"          \"*\"           \" \"                 \" \"          \n",
       "7  ( 1 ) \"*\"          \"*\"           \" \"                 \" \"          \n",
       "8  ( 1 ) \"*\"          \"*\"           \" \"                 \"*\"          \n",
       "         number_providers mean_lowest_cost mean_d_mbps mean_u_mbps mean_lat_ms\n",
       "1  ( 1 ) \" \"              \" \"              \" \"         \" \"         \" \"        \n",
       "2  ( 1 ) \" \"              \" \"              \" \"         \"*\"         \" \"        \n",
       "3  ( 1 ) \"*\"              \" \"              \" \"         \"*\"         \" \"        \n",
       "4  ( 1 ) \"*\"              \" \"              \"*\"         \"*\"         \" \"        \n",
       "5  ( 1 ) \"*\"              \" \"              \"*\"         \"*\"         \" \"        \n",
       "6  ( 1 ) \"*\"              \" \"              \"*\"         \"*\"         \"*\"        \n",
       "7  ( 1 ) \"*\"              \"*\"              \"*\"         \"*\"         \"*\"        \n",
       "8  ( 1 ) \"*\"              \"*\"              \"*\"         \"*\"         \"*\"        "
      ]
     },
     "metadata": {},
     "output_type": "display_data"
    }
   ],
   "source": [
    "forward3 <- regsubsets(index_col3 ~ ., as.data.frame(scaled_data), method = \"forward\")\n",
    "results3 <- summary(forward3)\n",
    "results3\n"
   ]
  },
  {
   "cell_type": "code",
   "execution_count": 68,
   "metadata": {
    "vscode": {
     "languageId": "r"
    }
   },
   "outputs": [
    {
     "data": {
      "text/html": [
       "6"
      ],
      "text/latex": [
       "6"
      ],
      "text/markdown": [
       "6"
      ],
      "text/plain": [
       "[1] 6"
      ]
     },
     "metadata": {},
     "output_type": "display_data"
    },
    {
     "data": {
      "text/html": [
       "7"
      ],
      "text/latex": [
       "7"
      ],
      "text/markdown": [
       "7"
      ],
      "text/plain": [
       "[1] 7"
      ]
     },
     "metadata": {},
     "output_type": "display_data"
    },
    {
     "data": {
      "text/html": [
       "6"
      ],
      "text/latex": [
       "6"
      ],
      "text/markdown": [
       "6"
      ],
      "text/plain": [
       "[1] 6"
      ]
     },
     "metadata": {},
     "output_type": "display_data"
    }
   ],
   "source": [
    "which.max(results3$adjr2)\n",
    "which.min(results3$bic)\n",
    "which.max(results3$rsq)"
   ]
  },
  {
   "cell_type": "code",
   "execution_count": 69,
   "metadata": {
    "vscode": {
     "languageId": "r"
    }
   },
   "outputs": [
    {
     "data": {
      "text/html": [
       "<dl>\n",
       "\t<dt>$`(Intercept)`</dt>\n",
       "\t\t<dd>0.000000000000000212503625807159</dd>\n",
       "\t<dt>$has_computer</dt>\n",
       "\t\t<dd>2.53853141545834</dd>\n",
       "\t<dt>$with_internet</dt>\n",
       "\t\t<dd>1.40239761591618</dd>\n",
       "\t<dt>$number_providers</dt>\n",
       "\t\t<dd>0.637564512044852</dd>\n",
       "\t<dt>$mean_d_mbps</dt>\n",
       "\t\t<dd>0.29594956065413</dd>\n",
       "\t<dt>$mean_u_mbps</dt>\n",
       "\t\t<dd>0.962402256731642</dd>\n",
       "</dl>\n"
      ],
      "text/latex": [
       "\\begin{description}\n",
       "\\item[\\$`(Intercept)`] 0.000000000000000212503625807159\n",
       "\\item[\\$has\\_computer] 2.53853141545834\n",
       "\\item[\\$with\\_internet] 1.40239761591618\n",
       "\\item[\\$number\\_providers] 0.637564512044852\n",
       "\\item[\\$mean\\_d\\_mbps] 0.29594956065413\n",
       "\\item[\\$mean\\_u\\_mbps] 0.962402256731642\n",
       "\\end{description}\n"
      ],
      "text/markdown": [
       "$`(Intercept)`\n",
       ":   0.000000000000000212503625807159\n",
       "$has_computer\n",
       ":   2.53853141545834\n",
       "$with_internet\n",
       ":   1.40239761591618\n",
       "$number_providers\n",
       ":   0.637564512044852\n",
       "$mean_d_mbps\n",
       ":   0.29594956065413\n",
       "$mean_u_mbps\n",
       ":   0.962402256731642\n",
       "\n",
       "\n"
      ],
      "text/plain": [
       "$`(Intercept)`\n",
       "[1] 0.0000000000000002125036\n",
       "\n",
       "$has_computer\n",
       "[1] 2.538531\n",
       "\n",
       "$with_internet\n",
       "[1] 1.402398\n",
       "\n",
       "$number_providers\n",
       "[1] 0.6375645\n",
       "\n",
       "$mean_d_mbps\n",
       "[1] 0.2959496\n",
       "\n",
       "$mean_u_mbps\n",
       "[1] 0.9624023\n"
      ]
     },
     "metadata": {},
     "output_type": "display_data"
    }
   ],
   "source": [
    "as.list(coef(forward3, 5))"
   ]
  },
  {
   "cell_type": "code",
   "execution_count": 70,
   "metadata": {
    "vscode": {
     "languageId": "r"
    }
   },
   "outputs": [
    {
     "data": {
      "text/plain": [
       "\n",
       "Call:\n",
       "lm(formula = index_col3 ~ has_computer + with_internet + number_providers + \n",
       "    mean_d_mbps + mean_u_mbps, data = as.data.frame(scaled_data))\n",
       "\n",
       "Residuals:\n",
       "     Min       1Q   Median       3Q      Max \n",
       "-0.39333 -0.02980  0.00926  0.04192  0.19805 \n",
       "\n",
       "Coefficients:\n",
       "                              Estimate            Std. Error t value\n",
       "(Intercept)      0.0000000000000001805 0.0056597484638082358    0.00\n",
       "has_computer     2.5385314154583387136 0.0409191352448041862   62.04\n",
       "with_internet    1.4023976159161759547 0.0414777554510061541   33.81\n",
       "number_providers 0.6375645120448517611 0.0066572165380981473   95.77\n",
       "mean_d_mbps      0.2959495606541310830 0.0078484724021221069   37.71\n",
       "mean_u_mbps      0.9624022567316415921 0.0064201340480712389  149.90\n",
       "                            Pr(>|t|)    \n",
       "(Intercept)                        1    \n",
       "has_computer     <0.0000000000000002 ***\n",
       "with_internet    <0.0000000000000002 ***\n",
       "number_providers <0.0000000000000002 ***\n",
       "mean_d_mbps      <0.0000000000000002 ***\n",
       "mean_u_mbps      <0.0000000000000002 ***\n",
       "---\n",
       "Signif. codes:  0 ‘***’ 0.001 ‘**’ 0.01 ‘*’ 0.05 ‘.’ 0.1 ‘ ’ 1\n",
       "\n",
       "Residual standard error: 0.07656 on 177 degrees of freedom\n",
       "Multiple R-squared:  0.9997,\tAdjusted R-squared:  0.9997 \n",
       "F-statistic: 1.151e+05 on 5 and 177 DF,  p-value: < 0.00000000000000022\n"
      ]
     },
     "metadata": {},
     "output_type": "display_data"
    }
   ],
   "source": [
    "model <- lm(\n",
    "    index_col3 ~\n",
    "        has_computer +\n",
    "        with_internet +\n",
    "        number_providers +\n",
    "        mean_d_mbps +\n",
    "        mean_u_mbps,\n",
    "    as.data.frame(scaled_data)\n",
    ")\n",
    "summary(model)"
   ]
  },
  {
   "cell_type": "code",
   "execution_count": 71,
   "metadata": {
    "vscode": {
     "languageId": "r"
    }
   },
   "outputs": [
    {
     "data": {
      "text/html": [
       "<dl>\n",
       "\t<dt>$has_computer</dt>\n",
       "\t\t<dd>2.53853141545834</dd>\n",
       "\t<dt>$with_internet</dt>\n",
       "\t\t<dd>1.40239761591618</dd>\n",
       "\t<dt>$number_providers</dt>\n",
       "\t\t<dd>0.637564512044852</dd>\n",
       "\t<dt>$mean_d_mbps</dt>\n",
       "\t\t<dd>0.295949560654131</dd>\n",
       "\t<dt>$mean_u_mbps</dt>\n",
       "\t\t<dd>0.962402256731642</dd>\n",
       "</dl>\n"
      ],
      "text/latex": [
       "\\begin{description}\n",
       "\\item[\\$has\\_computer] 2.53853141545834\n",
       "\\item[\\$with\\_internet] 1.40239761591618\n",
       "\\item[\\$number\\_providers] 0.637564512044852\n",
       "\\item[\\$mean\\_d\\_mbps] 0.295949560654131\n",
       "\\item[\\$mean\\_u\\_mbps] 0.962402256731642\n",
       "\\end{description}\n"
      ],
      "text/markdown": [
       "$has_computer\n",
       ":   2.53853141545834\n",
       "$with_internet\n",
       ":   1.40239761591618\n",
       "$number_providers\n",
       ":   0.637564512044852\n",
       "$mean_d_mbps\n",
       ":   0.295949560654131\n",
       "$mean_u_mbps\n",
       ":   0.962402256731642\n",
       "\n",
       "\n"
      ],
      "text/plain": [
       "$has_computer\n",
       "[1] 2.538531\n",
       "\n",
       "$with_internet\n",
       "[1] 1.402398\n",
       "\n",
       "$number_providers\n",
       "[1] 0.6375645\n",
       "\n",
       "$mean_d_mbps\n",
       "[1] 0.2959496\n",
       "\n",
       "$mean_u_mbps\n",
       "[1] 0.9624023\n"
      ]
     },
     "metadata": {},
     "output_type": "display_data"
    }
   ],
   "source": [
    "final_coefficients <- as.matrix(model$coefficients)[-1,]\n",
    "as.list(final_coefficients)"
   ]
  },
  {
   "cell_type": "code",
   "execution_count": 72,
   "metadata": {
    "slideshow": {
     "slide_type": "subslide"
    },
    "vscode": {
     "languageId": "r"
    }
   },
   "outputs": [
    {
     "data": {
      "text/html": [
       "<table class=\"dataframe\">\n",
       "<caption>A data.frame: 6 × 5</caption>\n",
       "<thead>\n",
       "\t<tr><th></th><th scope=col>has_computer</th><th scope=col>with_internet</th><th scope=col>number_providers</th><th scope=col>mean_d_mbps</th><th scope=col>mean_u_mbps</th></tr>\n",
       "\t<tr><th></th><th scope=col>&lt;dbl&gt;</th><th scope=col>&lt;dbl&gt;</th><th scope=col>&lt;dbl&gt;</th><th scope=col>&lt;dbl&gt;</th><th scope=col>&lt;dbl&gt;</th></tr>\n",
       "</thead>\n",
       "<tbody>\n",
       "\t<tr><th scope=row>1</th><td> 0.50245011</td><td> 0.5167430</td><td> 1.7094218</td><td>-1.05913969</td><td> 0.2831385</td></tr>\n",
       "\t<tr><th scope=row>2</th><td> 0.88153598</td><td> 0.9194434</td><td> 2.2108891</td><td>-0.64056563</td><td>-0.4304467</td></tr>\n",
       "\t<tr><th scope=row>3</th><td>-0.19922325</td><td>-0.2714809</td><td> 1.2079545</td><td>-0.31447576</td><td>-0.2727836</td></tr>\n",
       "\t<tr><th scope=row>4</th><td>-0.81523778</td><td>-0.9413759</td><td>-0.2964475</td><td>-0.85523159</td><td>-0.4058615</td></tr>\n",
       "\t<tr><th scope=row>5</th><td>-0.07893639</td><td>-0.1913226</td><td>-0.2964475</td><td>-0.08992031</td><td>-0.4758288</td></tr>\n",
       "\t<tr><th scope=row>6</th><td> 0.28010167</td><td> 0.1789328</td><td> 0.2050198</td><td>-0.57834859</td><td>-0.4065058</td></tr>\n",
       "</tbody>\n",
       "</table>\n"
      ],
      "text/latex": [
       "A data.frame: 6 × 5\n",
       "\\begin{tabular}{r|lllll}\n",
       "  & has\\_computer & with\\_internet & number\\_providers & mean\\_d\\_mbps & mean\\_u\\_mbps\\\\\n",
       "  & <dbl> & <dbl> & <dbl> & <dbl> & <dbl>\\\\\n",
       "\\hline\n",
       "\t1 &  0.50245011 &  0.5167430 &  1.7094218 & -1.05913969 &  0.2831385\\\\\n",
       "\t2 &  0.88153598 &  0.9194434 &  2.2108891 & -0.64056563 & -0.4304467\\\\\n",
       "\t3 & -0.19922325 & -0.2714809 &  1.2079545 & -0.31447576 & -0.2727836\\\\\n",
       "\t4 & -0.81523778 & -0.9413759 & -0.2964475 & -0.85523159 & -0.4058615\\\\\n",
       "\t5 & -0.07893639 & -0.1913226 & -0.2964475 & -0.08992031 & -0.4758288\\\\\n",
       "\t6 &  0.28010167 &  0.1789328 &  0.2050198 & -0.57834859 & -0.4065058\\\\\n",
       "\\end{tabular}\n"
      ],
      "text/markdown": [
       "\n",
       "A data.frame: 6 × 5\n",
       "\n",
       "| <!--/--> | has_computer &lt;dbl&gt; | with_internet &lt;dbl&gt; | number_providers &lt;dbl&gt; | mean_d_mbps &lt;dbl&gt; | mean_u_mbps &lt;dbl&gt; |\n",
       "|---|---|---|---|---|---|\n",
       "| 1 |  0.50245011 |  0.5167430 |  1.7094218 | -1.05913969 |  0.2831385 |\n",
       "| 2 |  0.88153598 |  0.9194434 |  2.2108891 | -0.64056563 | -0.4304467 |\n",
       "| 3 | -0.19922325 | -0.2714809 |  1.2079545 | -0.31447576 | -0.2727836 |\n",
       "| 4 | -0.81523778 | -0.9413759 | -0.2964475 | -0.85523159 | -0.4058615 |\n",
       "| 5 | -0.07893639 | -0.1913226 | -0.2964475 | -0.08992031 | -0.4758288 |\n",
       "| 6 |  0.28010167 |  0.1789328 |  0.2050198 | -0.57834859 | -0.4065058 |\n",
       "\n"
      ],
      "text/plain": [
       "  has_computer with_internet number_providers mean_d_mbps mean_u_mbps\n",
       "1  0.50245011   0.5167430     1.7094218       -1.05913969  0.2831385 \n",
       "2  0.88153598   0.9194434     2.2108891       -0.64056563 -0.4304467 \n",
       "3 -0.19922325  -0.2714809     1.2079545       -0.31447576 -0.2727836 \n",
       "4 -0.81523778  -0.9413759    -0.2964475       -0.85523159 -0.4058615 \n",
       "5 -0.07893639  -0.1913226    -0.2964475       -0.08992031 -0.4758288 \n",
       "6  0.28010167   0.1789328     0.2050198       -0.57834859 -0.4065058 "
      ]
     },
     "metadata": {},
     "output_type": "display_data"
    }
   ],
   "source": [
    "final_vars <- scaled_data %>%\n",
    "    as.data.frame() %>%\n",
    "    dplyr::select(has_computer, with_internet, number_providers, mean_d_mbps, mean_u_mbps)\n",
    "head(final_vars)\n"
   ]
  },
  {
   "cell_type": "code",
   "execution_count": 73,
   "metadata": {
    "vscode": {
     "languageId": "r"
    }
   },
   "outputs": [],
   "source": [
    "final_index <- as.matrix(final_vars) %*% final_coefficients\n"
   ]
  },
  {
   "cell_type": "code",
   "execution_count": 74,
   "metadata": {
    "slideshow": {
     "slide_type": "subslide"
    },
    "vscode": {
     "languageId": "r"
    }
   },
   "outputs": [
    {
     "data": {
      "text/html": [
       "<table class=\"dataframe\">\n",
       "<caption>A data.frame: 6 × 6</caption>\n",
       "<thead>\n",
       "\t<tr><th></th><th scope=col>has_computer</th><th scope=col>with_internet</th><th scope=col>number_providers</th><th scope=col>mean_d_mbps</th><th scope=col>mean_u_mbps</th><th scope=col>index</th></tr>\n",
       "\t<tr><th></th><th scope=col>&lt;dbl&gt;</th><th scope=col>&lt;dbl&gt;</th><th scope=col>&lt;dbl&gt;</th><th scope=col>&lt;dbl&gt;</th><th scope=col>&lt;dbl&gt;</th><th scope=col>&lt;dbl&gt;</th></tr>\n",
       "</thead>\n",
       "<tbody>\n",
       "\t<tr><th scope=row>1</th><td> 0.50245011</td><td> 0.5167430</td><td> 1.7094218</td><td>-1.05913969</td><td> 0.2831385</td><td> 3.0490725</td></tr>\n",
       "\t<tr><th scope=row>2</th><td> 0.88153598</td><td> 0.9194434</td><td> 2.2108891</td><td>-0.64056563</td><td>-0.4304467</td><td> 4.3329785</td></tr>\n",
       "\t<tr><th scope=row>3</th><td>-0.19922325</td><td>-0.2714809</td><td> 1.2079545</td><td>-0.31447576</td><td>-0.2727836</td><td>-0.4719063</td></tr>\n",
       "\t<tr><th scope=row>4</th><td>-0.81523778</td><td>-0.9413759</td><td>-0.2964475</td><td>-0.85523159</td><td>-0.4058615</td><td>-4.2224019</td></tr>\n",
       "\t<tr><th scope=row>5</th><td>-0.07893639</td><td>-0.1913226</td><td>-0.2964475</td><td>-0.08992031</td><td>-0.4758288</td><td>-1.1422478</td></tr>\n",
       "\t<tr><th scope=row>6</th><td> 0.28010167</td><td> 0.1789328</td><td> 0.2050198</td><td>-0.57834859</td><td>-0.4065058</td><td> 0.5303110</td></tr>\n",
       "</tbody>\n",
       "</table>\n"
      ],
      "text/latex": [
       "A data.frame: 6 × 6\n",
       "\\begin{tabular}{r|llllll}\n",
       "  & has\\_computer & with\\_internet & number\\_providers & mean\\_d\\_mbps & mean\\_u\\_mbps & index\\\\\n",
       "  & <dbl> & <dbl> & <dbl> & <dbl> & <dbl> & <dbl>\\\\\n",
       "\\hline\n",
       "\t1 &  0.50245011 &  0.5167430 &  1.7094218 & -1.05913969 &  0.2831385 &  3.0490725\\\\\n",
       "\t2 &  0.88153598 &  0.9194434 &  2.2108891 & -0.64056563 & -0.4304467 &  4.3329785\\\\\n",
       "\t3 & -0.19922325 & -0.2714809 &  1.2079545 & -0.31447576 & -0.2727836 & -0.4719063\\\\\n",
       "\t4 & -0.81523778 & -0.9413759 & -0.2964475 & -0.85523159 & -0.4058615 & -4.2224019\\\\\n",
       "\t5 & -0.07893639 & -0.1913226 & -0.2964475 & -0.08992031 & -0.4758288 & -1.1422478\\\\\n",
       "\t6 &  0.28010167 &  0.1789328 &  0.2050198 & -0.57834859 & -0.4065058 &  0.5303110\\\\\n",
       "\\end{tabular}\n"
      ],
      "text/markdown": [
       "\n",
       "A data.frame: 6 × 6\n",
       "\n",
       "| <!--/--> | has_computer &lt;dbl&gt; | with_internet &lt;dbl&gt; | number_providers &lt;dbl&gt; | mean_d_mbps &lt;dbl&gt; | mean_u_mbps &lt;dbl&gt; | index &lt;dbl&gt; |\n",
       "|---|---|---|---|---|---|---|\n",
       "| 1 |  0.50245011 |  0.5167430 |  1.7094218 | -1.05913969 |  0.2831385 |  3.0490725 |\n",
       "| 2 |  0.88153598 |  0.9194434 |  2.2108891 | -0.64056563 | -0.4304467 |  4.3329785 |\n",
       "| 3 | -0.19922325 | -0.2714809 |  1.2079545 | -0.31447576 | -0.2727836 | -0.4719063 |\n",
       "| 4 | -0.81523778 | -0.9413759 | -0.2964475 | -0.85523159 | -0.4058615 | -4.2224019 |\n",
       "| 5 | -0.07893639 | -0.1913226 | -0.2964475 | -0.08992031 | -0.4758288 | -1.1422478 |\n",
       "| 6 |  0.28010167 |  0.1789328 |  0.2050198 | -0.57834859 | -0.4065058 |  0.5303110 |\n",
       "\n"
      ],
      "text/plain": [
       "  has_computer with_internet number_providers mean_d_mbps mean_u_mbps\n",
       "1  0.50245011   0.5167430     1.7094218       -1.05913969  0.2831385 \n",
       "2  0.88153598   0.9194434     2.2108891       -0.64056563 -0.4304467 \n",
       "3 -0.19922325  -0.2714809     1.2079545       -0.31447576 -0.2727836 \n",
       "4 -0.81523778  -0.9413759    -0.2964475       -0.85523159 -0.4058615 \n",
       "5 -0.07893639  -0.1913226    -0.2964475       -0.08992031 -0.4758288 \n",
       "6  0.28010167   0.1789328     0.2050198       -0.57834859 -0.4065058 \n",
       "  index     \n",
       "1  3.0490725\n",
       "2  4.3329785\n",
       "3 -0.4719063\n",
       "4 -4.2224019\n",
       "5 -1.1422478\n",
       "6  0.5303110"
      ]
     },
     "metadata": {},
     "output_type": "display_data"
    }
   ],
   "source": [
    "final_data <- scaled_data %>%\n",
    "    as.data.frame() %>%\n",
    "    dplyr::select(\n",
    "        has_computer,\n",
    "        with_internet,\n",
    "        number_providers, \n",
    "        mean_d_mbps, \n",
    "        mean_u_mbps,\n",
    "    ) %>%\n",
    "    cbind(., final_index) %>%\n",
    "    rename(index = final_index)\n",
    "\n",
    "head(final_data)\n"
   ]
  },
  {
   "cell_type": "code",
   "execution_count": 75,
   "metadata": {
    "vscode": {
     "languageId": "r"
    }
   },
   "outputs": [],
   "source": [
    "temp <- clean_data %>% dplyr::select(NAME, GEOID)\n"
   ]
  },
  {
   "cell_type": "code",
   "execution_count": 76,
   "metadata": {
    "slideshow": {
     "slide_type": "subslide"
    },
    "vscode": {
     "languageId": "r"
    }
   },
   "outputs": [
    {
     "data": {
      "text/plain": [
       "\n",
       "Cronbach's alpha for the '.' data-set\n",
       "\n",
       "Items: 6\n",
       "Sample units: 183\n",
       "alpha: 0.64\n"
      ]
     },
     "metadata": {},
     "output_type": "display_data"
    }
   ],
   "source": [
    "final_data %>%\n",
    "    cronbach.alpha()\n"
   ]
  },
  {
   "cell_type": "code",
   "execution_count": 77,
   "metadata": {
    "vscode": {
     "languageId": "r"
    }
   },
   "outputs": [],
   "source": [
    "final_data2 <- cbind(temp, final_data)\n"
   ]
  },
  {
   "attachments": {},
   "cell_type": "markdown",
   "metadata": {
    "slideshow": {
     "slide_type": "slide"
    }
   },
   "source": [
    "# Cluster Analysis on Chosen Model"
   ]
  },
  {
   "cell_type": "code",
   "execution_count": 78,
   "metadata": {
    "slideshow": {
     "slide_type": "subslide"
    },
    "vscode": {
     "languageId": "r"
    }
   },
   "outputs": [],
   "source": [
    "new_data <- read.csv(\"../data/combined_data.csv\") %>%\n",
    "    dplyr::select(NAME, GEOID)\n",
    "cluster_data <- bind_cols(new_data, index_data2)\n",
    "\n",
    "dist_data <- dist(index_data2, method = \"euclidean\")\n",
    "hclust_avg <- hclust(dist_data, method = \"average\")\n",
    "cut_avg <- cutree(hclust_avg, k = 5)\n"
   ]
  },
  {
   "cell_type": "code",
   "execution_count": 79,
   "metadata": {
    "slideshow": {
     "slide_type": "subslide"
    },
    "vscode": {
     "languageId": "r"
    }
   },
   "outputs": [
    {
     "data": {
      "text/plain": [
       "K-means clustering with 5 clusters of sizes 53, 36, 29, 35, 30\n",
       "\n",
       "Cluster means:\n",
       "  has_computer with_internet sixtyfive_and_older number_providers\n",
       "1  -0.60939526    -0.5722009         -0.71978943      -0.40439396\n",
       "2  -0.71909942    -0.7846642         -0.09467808       0.88757256\n",
       "3   0.07421883     0.0569841          0.48189685       0.30877166\n",
       "4   1.16366335     1.1688068          1.11032289      -0.51721982\n",
       "5   0.51016548     0.5337926         -0.37596865      -0.04571387\n",
       "  mean_lowest_cost mean_d_mbps mean_u_mbps mean_lat_ms      index\n",
       "1       0.09992779   0.6221607 -0.08026222  -0.6133618  0.8776878\n",
       "2      -0.64460024  -1.5653221 -0.84858106   1.5357489 -4.0522571\n",
       "3       0.46495884  -0.7046760 -0.37856524   0.4961573 -1.7814984\n",
       "4      -0.06914202   0.7034982 -0.24834197  -0.5661160  1.2735288\n",
       "5       0.22818666   0.6396748  1.81577257  -0.5784428  3.5484583\n",
       "\n",
       "Clustering vector:\n",
       "  [1] 3 3 3 3 3 3 1 1 1 1 1 5 1 5 4 5 5 5 1 1 5 5 5 1 5 5 5 5 1 5 1 1 4 1 1 5 1\n",
       " [38] 1 1 1 1 1 5 5 1 5 4 4 5 4 1 1 4 4 4 4 3 3 3 3 2 4 2 2 3 4 2 2 3 1 4 4 3 1\n",
       " [75] 4 5 1 5 1 1 1 1 1 3 1 3 4 1 4 4 4 1 1 1 4 4 4 4 1 1 4 4 4 1 4 4 1 4 1 1 4\n",
       "[112] 1 1 4 4 4 4 1 1 1 2 4 2 2 4 3 3 1 3 5 5 3 2 2 1 1 2 3 2 2 3 3 2 3 2 2 2 2\n",
       "[149] 2 2 3 2 2 2 2 2 2 2 3 2 2 3 3 3 5 5 5 5 5 1 5 5 3 2 5 2 2 2 2 2 2 1 1\n",
       "\n",
       "Within cluster sum of squares by cluster:\n",
       "[1] 172.6502 218.1194 152.6024 135.5025 166.7338\n",
       " (between_SS / total_SS =  69.4 %)\n",
       "\n",
       "Available components:\n",
       "\n",
       "[1] \"cluster\"      \"centers\"      \"totss\"        \"withinss\"     \"tot.withinss\"\n",
       "[6] \"betweenss\"    \"size\"         \"iter\"         \"ifault\"      "
      ]
     },
     "metadata": {},
     "output_type": "display_data"
    }
   ],
   "source": [
    "cluster <- kmeans(index_data2, centers = 5, nstart = 25)\n",
    "cluster\n"
   ]
  },
  {
   "cell_type": "code",
   "execution_count": 80,
   "metadata": {
    "slideshow": {
     "slide_type": "subslide"
    },
    "vscode": {
     "languageId": "r"
    }
   },
   "outputs": [
    {
     "data": {
      "image/png": "[encoded data removed]",
      "text/plain": [
       "Plot with title “Cluster Dendrogram”"
      ]
     },
     "metadata": {
      "image/png": {
       "height": 420,
       "width": 420
      }
     },
     "output_type": "display_data"
    }
   ],
   "source": [
    "plot(hclust_avg)\n"
   ]
  },
  {
   "cell_type": "code",
   "execution_count": 81,
   "metadata": {
    "vscode": {
     "languageId": "r"
    }
   },
   "outputs": [],
   "source": [
    "new_data <- as.data.frame(lapply(new_data, unlist))\n"
   ]
  },
  {
   "cell_type": "code",
   "execution_count": 82,
   "metadata": {
    "slideshow": {
     "slide_type": "subslide"
    },
    "vscode": {
     "languageId": "r"
    }
   },
   "outputs": [
    {
     "ename": "ERROR",
     "evalue": "Error in library(factoextra): there is no package called ‘factoextra’\n",
     "output_type": "error",
     "traceback": [
      "Error in library(factoextra): there is no package called ‘factoextra’\nTraceback:\n",
      "1. library(factoextra)"
     ]
    }
   ],
   "source": [
    "library(factoextra)\n",
    "fviz_cluster(cluster, data = index_data2)\n"
   ]
  }
 ],
 "metadata": {
  "kernelspec": {
   "display_name": "R",
   "language": "R",
   "name": "ir"
  },
  "language_info": {
   "codemirror_mode": "r",
   "file_extension": ".r",
   "mimetype": "text/x-r-source",
   "name": "R",
   "pygments_lexer": "r",
   "version": "4.3.0"
  },
  "orig_nbformat": 4
 },
 "nbformat": 4,
 "nbformat_minor": 2
}
