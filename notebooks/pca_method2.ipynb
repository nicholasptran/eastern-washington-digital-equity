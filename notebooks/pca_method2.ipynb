{
 "cells": [
  {
   "attachments": {},
   "cell_type": "markdown",
   "metadata": {
    "slideshow": {
     "slide_type": "slide"
    }
   },
   "source": [
    "# Eastern Washington Digital Equity"
   ]
  },
  {
   "attachments": {},
   "cell_type": "markdown",
   "metadata": {},
   "source": [
    "## Nicholas Tran, Juliana Reyes, Trevor Myers"
   ]
  },
  {
   "attachments": {},
   "cell_type": "markdown",
   "metadata": {
    "slideshow": {
     "slide_type": "slide"
    }
   },
   "source": [
    "# PCA - Method 1"
   ]
  },
  {
   "attachments": {},
   "cell_type": "markdown",
   "metadata": {
    "slideshow": {
     "slide_type": "skip"
    }
   },
   "source": [
    "jupyter nbconvert notebooks/pca_method2.ipynb --to slides --post serve --SlidesExporter.reveal_scroll=True"
   ]
  },
  {
   "attachments": {},
   "cell_type": "markdown",
   "metadata": {
    "slideshow": {
     "slide_type": "fragment"
    }
   },
   "source": [
    "## Use PC1 As Index"
   ]
  },
  {
   "attachments": {},
   "cell_type": "markdown",
   "metadata": {
    "slideshow": {
     "slide_type": "fragment"
    }
   },
   "source": [
    "## Use Correlation P Values for Feature Selection"
   ]
  },
  {
   "attachments": {},
   "cell_type": "markdown",
   "metadata": {
    "slideshow": {
     "slide_type": "fragment"
    }
   },
   "source": [
    "## Create New Dataset w/ Removed Variables"
   ]
  },
  {
   "attachments": {},
   "cell_type": "markdown",
   "metadata": {
    "slideshow": {
     "slide_type": "fragment"
    }
   },
   "source": [
    "## Use Stepwise Regression for Final Coefficients"
   ]
  },
  {
   "attachments": {},
   "cell_type": "markdown",
   "metadata": {
    "slideshow": {
     "slide_type": "slide"
    }
   },
   "source": [
    "## Prepare The Data"
   ]
  },
  {
   "attachments": {},
   "cell_type": "markdown",
   "metadata": {
    "slideshow": {
     "slide_type": "subslide"
    }
   },
   "source": [
    "### Load The Libraries"
   ]
  },
  {
   "cell_type": "code",
   "execution_count": 31,
   "metadata": {
    "vscode": {
     "languageId": "r"
    }
   },
   "outputs": [],
   "source": [
    "library(tidyverse, quietly = TRUE)\n",
    "library(psych, quietly = TRUE)\n",
    "library(Hmisc, quietly = TRUE)"
   ]
  },
  {
   "attachments": {},
   "cell_type": "markdown",
   "metadata": {
    "slideshow": {
     "slide_type": "subslide"
    }
   },
   "source": [
    "### Get The Data"
   ]
  },
  {
   "cell_type": "code",
   "execution_count": 32,
   "metadata": {
    "vscode": {
     "languageId": "r"
    }
   },
   "outputs": [],
   "source": [
    "data <- read.csv(\"../data/combined_data.csv\")"
   ]
  },
  {
   "cell_type": "code",
   "execution_count": 33,
   "metadata": {
    "slideshow": {
     "slide_type": "fragment"
    },
    "vscode": {
     "languageId": "r"
    }
   },
   "outputs": [
    {
     "data": {
      "text/html": [
       "<table class=\"dataframe\">\n",
       "<caption>A data.frame: 6 × 13</caption>\n",
       "<thead>\n",
       "\t<tr><th></th><th scope=col>NAME</th><th scope=col>GEOID</th><th scope=col>has_computer</th><th scope=col>with_internet</th><th scope=col>total_population</th><th scope=col>work_from_home</th><th scope=col>X65_and_older</th><th scope=col>median_income</th><th scope=col>number_providers</th><th scope=col>mean_lowest_cost</th><th scope=col>mean_d_mbps</th><th scope=col>mean_u_mbps</th><th scope=col>mean_lat_ms</th></tr>\n",
       "\t<tr><th></th><th scope=col>&lt;chr&gt;</th><th scope=col>&lt;dbl&gt;</th><th scope=col>&lt;dbl&gt;</th><th scope=col>&lt;dbl&gt;</th><th scope=col>&lt;dbl&gt;</th><th scope=col>&lt;dbl&gt;</th><th scope=col>&lt;dbl&gt;</th><th scope=col>&lt;dbl&gt;</th><th scope=col>&lt;dbl&gt;</th><th scope=col>&lt;dbl&gt;</th><th scope=col>&lt;dbl&gt;</th><th scope=col>&lt;dbl&gt;</th><th scope=col>&lt;dbl&gt;</th></tr>\n",
       "</thead>\n",
       "<tbody>\n",
       "\t<tr><th scope=row>1</th><td>Census Tract 9601, Asotin County, Washington</td><td>53003960100</td><td>1664</td><td>1569</td><td>4320</td><td>145</td><td>1337</td><td>73942</td><td>12</td><td>58.00000</td><td>110.3274</td><td>41.78210</td><td>0.05170445</td></tr>\n",
       "\t<tr><th scope=row>2</th><td>Census Tract 9602, Asotin County, Washington</td><td>53003960200</td><td>1872</td><td>1780</td><td>4755</td><td>421</td><td>1352</td><td>72988</td><td>13</td><td>60.07692</td><td>145.7848</td><td>22.88731</td><td>0.02462630</td></tr>\n",
       "\t<tr><th scope=row>3</th><td>Census Tract 9603, Asotin County, Washington</td><td>53003960300</td><td>1279</td><td>1156</td><td>3633</td><td>  6</td><td> 396</td><td>38077</td><td>11</td><td>60.00000</td><td>173.4079</td><td>27.06202</td><td>0.02998058</td></tr>\n",
       "\t<tr><th scope=row>4</th><td>Census Tract 9604, Asotin County, Washington</td><td>53003960400</td><td> 941</td><td> 805</td><td>2517</td><td> 29</td><td> 647</td><td>38777</td><td> 8</td><td>62.50000</td><td>127.6005</td><td>23.53829</td><td>0.02216379</td></tr>\n",
       "\t<tr><th scope=row>5</th><td>Census Tract 9605, Asotin County, Washington</td><td>53003960500</td><td>1345</td><td>1198</td><td>3517</td><td> 26</td><td> 635</td><td>42639</td><td> 8</td><td>62.50000</td><td>192.4299</td><td>21.68565</td><td>0.02166087</td></tr>\n",
       "\t<tr><th scope=row>6</th><td>Census Tract 9606, Asotin County, Washington</td><td>53003960600</td><td>1542</td><td>1392</td><td>3894</td><td>115</td><td> 909</td><td>53947</td><td> 9</td><td>58.88889</td><td>151.0552</td><td>23.52123</td><td>0.02618557</td></tr>\n",
       "</tbody>\n",
       "</table>\n"
      ],
      "text/latex": [
       "A data.frame: 6 × 13\n",
       "\\begin{tabular}{r|lllllllllllll}\n",
       "  & NAME & GEOID & has\\_computer & with\\_internet & total\\_population & work\\_from\\_home & X65\\_and\\_older & median\\_income & number\\_providers & mean\\_lowest\\_cost & mean\\_d\\_mbps & mean\\_u\\_mbps & mean\\_lat\\_ms\\\\\n",
       "  & <chr> & <dbl> & <dbl> & <dbl> & <dbl> & <dbl> & <dbl> & <dbl> & <dbl> & <dbl> & <dbl> & <dbl> & <dbl>\\\\\n",
       "\\hline\n",
       "\t1 & Census Tract 9601, Asotin County, Washington & 53003960100 & 1664 & 1569 & 4320 & 145 & 1337 & 73942 & 12 & 58.00000 & 110.3274 & 41.78210 & 0.05170445\\\\\n",
       "\t2 & Census Tract 9602, Asotin County, Washington & 53003960200 & 1872 & 1780 & 4755 & 421 & 1352 & 72988 & 13 & 60.07692 & 145.7848 & 22.88731 & 0.02462630\\\\\n",
       "\t3 & Census Tract 9603, Asotin County, Washington & 53003960300 & 1279 & 1156 & 3633 &   6 &  396 & 38077 & 11 & 60.00000 & 173.4079 & 27.06202 & 0.02998058\\\\\n",
       "\t4 & Census Tract 9604, Asotin County, Washington & 53003960400 &  941 &  805 & 2517 &  29 &  647 & 38777 &  8 & 62.50000 & 127.6005 & 23.53829 & 0.02216379\\\\\n",
       "\t5 & Census Tract 9605, Asotin County, Washington & 53003960500 & 1345 & 1198 & 3517 &  26 &  635 & 42639 &  8 & 62.50000 & 192.4299 & 21.68565 & 0.02166087\\\\\n",
       "\t6 & Census Tract 9606, Asotin County, Washington & 53003960600 & 1542 & 1392 & 3894 & 115 &  909 & 53947 &  9 & 58.88889 & 151.0552 & 23.52123 & 0.02618557\\\\\n",
       "\\end{tabular}\n"
      ],
      "text/markdown": [
       "\n",
       "A data.frame: 6 × 13\n",
       "\n",
       "| <!--/--> | NAME &lt;chr&gt; | GEOID &lt;dbl&gt; | has_computer &lt;dbl&gt; | with_internet &lt;dbl&gt; | total_population &lt;dbl&gt; | work_from_home &lt;dbl&gt; | X65_and_older &lt;dbl&gt; | median_income &lt;dbl&gt; | number_providers &lt;dbl&gt; | mean_lowest_cost &lt;dbl&gt; | mean_d_mbps &lt;dbl&gt; | mean_u_mbps &lt;dbl&gt; | mean_lat_ms &lt;dbl&gt; |\n",
       "|---|---|---|---|---|---|---|---|---|---|---|---|---|---|\n",
       "| 1 | Census Tract 9601, Asotin County, Washington | 53003960100 | 1664 | 1569 | 4320 | 145 | 1337 | 73942 | 12 | 58.00000 | 110.3274 | 41.78210 | 0.05170445 |\n",
       "| 2 | Census Tract 9602, Asotin County, Washington | 53003960200 | 1872 | 1780 | 4755 | 421 | 1352 | 72988 | 13 | 60.07692 | 145.7848 | 22.88731 | 0.02462630 |\n",
       "| 3 | Census Tract 9603, Asotin County, Washington | 53003960300 | 1279 | 1156 | 3633 |   6 |  396 | 38077 | 11 | 60.00000 | 173.4079 | 27.06202 | 0.02998058 |\n",
       "| 4 | Census Tract 9604, Asotin County, Washington | 53003960400 |  941 |  805 | 2517 |  29 |  647 | 38777 |  8 | 62.50000 | 127.6005 | 23.53829 | 0.02216379 |\n",
       "| 5 | Census Tract 9605, Asotin County, Washington | 53003960500 | 1345 | 1198 | 3517 |  26 |  635 | 42639 |  8 | 62.50000 | 192.4299 | 21.68565 | 0.02166087 |\n",
       "| 6 | Census Tract 9606, Asotin County, Washington | 53003960600 | 1542 | 1392 | 3894 | 115 |  909 | 53947 |  9 | 58.88889 | 151.0552 | 23.52123 | 0.02618557 |\n",
       "\n"
      ],
      "text/plain": [
       "  NAME                                         GEOID       has_computer\n",
       "1 Census Tract 9601, Asotin County, Washington 53003960100 1664        \n",
       "2 Census Tract 9602, Asotin County, Washington 53003960200 1872        \n",
       "3 Census Tract 9603, Asotin County, Washington 53003960300 1279        \n",
       "4 Census Tract 9604, Asotin County, Washington 53003960400  941        \n",
       "5 Census Tract 9605, Asotin County, Washington 53003960500 1345        \n",
       "6 Census Tract 9606, Asotin County, Washington 53003960600 1542        \n",
       "  with_internet total_population work_from_home X65_and_older median_income\n",
       "1 1569          4320             145            1337          73942        \n",
       "2 1780          4755             421            1352          72988        \n",
       "3 1156          3633               6             396          38077        \n",
       "4  805          2517              29             647          38777        \n",
       "5 1198          3517              26             635          42639        \n",
       "6 1392          3894             115             909          53947        \n",
       "  number_providers mean_lowest_cost mean_d_mbps mean_u_mbps mean_lat_ms\n",
       "1 12               58.00000         110.3274    41.78210    0.05170445 \n",
       "2 13               60.07692         145.7848    22.88731    0.02462630 \n",
       "3 11               60.00000         173.4079    27.06202    0.02998058 \n",
       "4  8               62.50000         127.6005    23.53829    0.02216379 \n",
       "5  8               62.50000         192.4299    21.68565    0.02166087 \n",
       "6  9               58.88889         151.0552    23.52123    0.02618557 "
      ]
     },
     "metadata": {},
     "output_type": "display_data"
    }
   ],
   "source": [
    "head(data)"
   ]
  },
  {
   "attachments": {},
   "cell_type": "markdown",
   "metadata": {
    "slideshow": {
     "slide_type": "subslide"
    }
   },
   "source": [
    "#### Remove Unnecessary Columns"
   ]
  },
  {
   "cell_type": "code",
   "execution_count": 34,
   "metadata": {
    "vscode": {
     "languageId": "r"
    }
   },
   "outputs": [],
   "source": [
    "data <- data %>% select(-NAME, -GEOID)"
   ]
  },
  {
   "cell_type": "code",
   "execution_count": 35,
   "metadata": {
    "slideshow": {
     "slide_type": "fragment"
    },
    "vscode": {
     "languageId": "r"
    }
   },
   "outputs": [
    {
     "data": {
      "text/html": [
       "<table class=\"dataframe\">\n",
       "<caption>A data.frame: 6 × 11</caption>\n",
       "<thead>\n",
       "\t<tr><th></th><th scope=col>has_computer</th><th scope=col>with_internet</th><th scope=col>total_population</th><th scope=col>work_from_home</th><th scope=col>X65_and_older</th><th scope=col>median_income</th><th scope=col>number_providers</th><th scope=col>mean_lowest_cost</th><th scope=col>mean_d_mbps</th><th scope=col>mean_u_mbps</th><th scope=col>mean_lat_ms</th></tr>\n",
       "\t<tr><th></th><th scope=col>&lt;dbl&gt;</th><th scope=col>&lt;dbl&gt;</th><th scope=col>&lt;dbl&gt;</th><th scope=col>&lt;dbl&gt;</th><th scope=col>&lt;dbl&gt;</th><th scope=col>&lt;dbl&gt;</th><th scope=col>&lt;dbl&gt;</th><th scope=col>&lt;dbl&gt;</th><th scope=col>&lt;dbl&gt;</th><th scope=col>&lt;dbl&gt;</th><th scope=col>&lt;dbl&gt;</th></tr>\n",
       "</thead>\n",
       "<tbody>\n",
       "\t<tr><th scope=row>1</th><td>1664</td><td>1569</td><td>4320</td><td>145</td><td>1337</td><td>73942</td><td>12</td><td>58.00000</td><td>110.3274</td><td>41.78210</td><td>0.05170445</td></tr>\n",
       "\t<tr><th scope=row>2</th><td>1872</td><td>1780</td><td>4755</td><td>421</td><td>1352</td><td>72988</td><td>13</td><td>60.07692</td><td>145.7848</td><td>22.88731</td><td>0.02462630</td></tr>\n",
       "\t<tr><th scope=row>3</th><td>1279</td><td>1156</td><td>3633</td><td>  6</td><td> 396</td><td>38077</td><td>11</td><td>60.00000</td><td>173.4079</td><td>27.06202</td><td>0.02998058</td></tr>\n",
       "\t<tr><th scope=row>4</th><td> 941</td><td> 805</td><td>2517</td><td> 29</td><td> 647</td><td>38777</td><td> 8</td><td>62.50000</td><td>127.6005</td><td>23.53829</td><td>0.02216379</td></tr>\n",
       "\t<tr><th scope=row>5</th><td>1345</td><td>1198</td><td>3517</td><td> 26</td><td> 635</td><td>42639</td><td> 8</td><td>62.50000</td><td>192.4299</td><td>21.68565</td><td>0.02166087</td></tr>\n",
       "\t<tr><th scope=row>6</th><td>1542</td><td>1392</td><td>3894</td><td>115</td><td> 909</td><td>53947</td><td> 9</td><td>58.88889</td><td>151.0552</td><td>23.52123</td><td>0.02618557</td></tr>\n",
       "</tbody>\n",
       "</table>\n"
      ],
      "text/latex": [
       "A data.frame: 6 × 11\n",
       "\\begin{tabular}{r|lllllllllll}\n",
       "  & has\\_computer & with\\_internet & total\\_population & work\\_from\\_home & X65\\_and\\_older & median\\_income & number\\_providers & mean\\_lowest\\_cost & mean\\_d\\_mbps & mean\\_u\\_mbps & mean\\_lat\\_ms\\\\\n",
       "  & <dbl> & <dbl> & <dbl> & <dbl> & <dbl> & <dbl> & <dbl> & <dbl> & <dbl> & <dbl> & <dbl>\\\\\n",
       "\\hline\n",
       "\t1 & 1664 & 1569 & 4320 & 145 & 1337 & 73942 & 12 & 58.00000 & 110.3274 & 41.78210 & 0.05170445\\\\\n",
       "\t2 & 1872 & 1780 & 4755 & 421 & 1352 & 72988 & 13 & 60.07692 & 145.7848 & 22.88731 & 0.02462630\\\\\n",
       "\t3 & 1279 & 1156 & 3633 &   6 &  396 & 38077 & 11 & 60.00000 & 173.4079 & 27.06202 & 0.02998058\\\\\n",
       "\t4 &  941 &  805 & 2517 &  29 &  647 & 38777 &  8 & 62.50000 & 127.6005 & 23.53829 & 0.02216379\\\\\n",
       "\t5 & 1345 & 1198 & 3517 &  26 &  635 & 42639 &  8 & 62.50000 & 192.4299 & 21.68565 & 0.02166087\\\\\n",
       "\t6 & 1542 & 1392 & 3894 & 115 &  909 & 53947 &  9 & 58.88889 & 151.0552 & 23.52123 & 0.02618557\\\\\n",
       "\\end{tabular}\n"
      ],
      "text/markdown": [
       "\n",
       "A data.frame: 6 × 11\n",
       "\n",
       "| <!--/--> | has_computer &lt;dbl&gt; | with_internet &lt;dbl&gt; | total_population &lt;dbl&gt; | work_from_home &lt;dbl&gt; | X65_and_older &lt;dbl&gt; | median_income &lt;dbl&gt; | number_providers &lt;dbl&gt; | mean_lowest_cost &lt;dbl&gt; | mean_d_mbps &lt;dbl&gt; | mean_u_mbps &lt;dbl&gt; | mean_lat_ms &lt;dbl&gt; |\n",
       "|---|---|---|---|---|---|---|---|---|---|---|---|\n",
       "| 1 | 1664 | 1569 | 4320 | 145 | 1337 | 73942 | 12 | 58.00000 | 110.3274 | 41.78210 | 0.05170445 |\n",
       "| 2 | 1872 | 1780 | 4755 | 421 | 1352 | 72988 | 13 | 60.07692 | 145.7848 | 22.88731 | 0.02462630 |\n",
       "| 3 | 1279 | 1156 | 3633 |   6 |  396 | 38077 | 11 | 60.00000 | 173.4079 | 27.06202 | 0.02998058 |\n",
       "| 4 |  941 |  805 | 2517 |  29 |  647 | 38777 |  8 | 62.50000 | 127.6005 | 23.53829 | 0.02216379 |\n",
       "| 5 | 1345 | 1198 | 3517 |  26 |  635 | 42639 |  8 | 62.50000 | 192.4299 | 21.68565 | 0.02166087 |\n",
       "| 6 | 1542 | 1392 | 3894 | 115 |  909 | 53947 |  9 | 58.88889 | 151.0552 | 23.52123 | 0.02618557 |\n",
       "\n"
      ],
      "text/plain": [
       "  has_computer with_internet total_population work_from_home X65_and_older\n",
       "1 1664         1569          4320             145            1337         \n",
       "2 1872         1780          4755             421            1352         \n",
       "3 1279         1156          3633               6             396         \n",
       "4  941          805          2517              29             647         \n",
       "5 1345         1198          3517              26             635         \n",
       "6 1542         1392          3894             115             909         \n",
       "  median_income number_providers mean_lowest_cost mean_d_mbps mean_u_mbps\n",
       "1 73942         12               58.00000         110.3274    41.78210   \n",
       "2 72988         13               60.07692         145.7848    22.88731   \n",
       "3 38077         11               60.00000         173.4079    27.06202   \n",
       "4 38777          8               62.50000         127.6005    23.53829   \n",
       "5 42639          8               62.50000         192.4299    21.68565   \n",
       "6 53947          9               58.88889         151.0552    23.52123   \n",
       "  mean_lat_ms\n",
       "1 0.05170445 \n",
       "2 0.02462630 \n",
       "3 0.02998058 \n",
       "4 0.02216379 \n",
       "5 0.02166087 \n",
       "6 0.02618557 "
      ]
     },
     "metadata": {},
     "output_type": "display_data"
    }
   ],
   "source": [
    "head(data)"
   ]
  },
  {
   "attachments": {},
   "cell_type": "markdown",
   "metadata": {
    "slideshow": {
     "slide_type": "subslide"
    }
   },
   "source": [
    "#### Standardize The Data"
   ]
  },
  {
   "cell_type": "code",
   "execution_count": 36,
   "metadata": {
    "vscode": {
     "languageId": "r"
    }
   },
   "outputs": [],
   "source": [
    "scaled_data <- scale(data)"
   ]
  },
  {
   "cell_type": "code",
   "execution_count": 37,
   "metadata": {
    "slideshow": {
     "slide_type": "fragment"
    },
    "vscode": {
     "languageId": "r"
    }
   },
   "outputs": [
    {
     "data": {
      "text/html": [
       "<table class=\"dataframe\">\n",
       "<caption>A matrix: 6 × 11 of type dbl</caption>\n",
       "<thead>\n",
       "\t<tr><th scope=col>has_computer</th><th scope=col>with_internet</th><th scope=col>total_population</th><th scope=col>work_from_home</th><th scope=col>X65_and_older</th><th scope=col>median_income</th><th scope=col>number_providers</th><th scope=col>mean_lowest_cost</th><th scope=col>mean_d_mbps</th><th scope=col>mean_u_mbps</th><th scope=col>mean_lat_ms</th></tr>\n",
       "</thead>\n",
       "<tbody>\n",
       "\t<tr><td> 0.50245011</td><td> 0.5167430</td><td> 0.41151922</td><td> 0.1292741</td><td> 2.23493253</td><td>0.07418486</td><td> 1.7094218</td><td>-0.18458632</td><td>-1.05913969</td><td> 0.2831385</td><td> 1.17991288</td></tr>\n",
       "\t<tr><td> 0.88153598</td><td> 0.9194434</td><td> 0.72118268</td><td> 2.9303783</td><td> 2.28240921</td><td>0.07416551</td><td> 2.2108891</td><td> 0.41923513</td><td>-0.64056563</td><td>-0.4304467</td><td>-0.15416598</td></tr>\n",
       "\t<tr><td>-0.19922325</td><td>-0.2714809</td><td>-0.07753548</td><td>-1.2814270</td><td>-0.74343819</td><td>0.07345717</td><td> 1.2079545</td><td> 0.39687137</td><td>-0.31447576</td><td>-0.2727836</td><td> 0.10962741</td></tr>\n",
       "\t<tr><td>-0.81523778</td><td>-0.9413759</td><td>-0.87198242</td><td>-1.0480017</td><td> 0.05100501</td><td>0.07347137</td><td>-0.2964475</td><td> 1.12369349</td><td>-0.85523159</td><td>-0.4058615</td><td>-0.27548794</td></tr>\n",
       "\t<tr><td>-0.07893639</td><td>-0.1913226</td><td>-0.16011240</td><td>-1.0784484</td><td> 0.01302366</td><td>0.07354973</td><td>-0.2964475</td><td> 1.12369349</td><td>-0.08992031</td><td>-0.4758288</td><td>-0.30026584</td></tr>\n",
       "\t<tr><td> 0.28010167</td><td> 0.1789328</td><td> 0.10826259</td><td>-0.1751938</td><td> 0.88026444</td><td>0.07377917</td><td> 0.2050198</td><td> 0.07383932</td><td>-0.57834859</td><td>-0.4065058</td><td>-0.07734433</td></tr>\n",
       "</tbody>\n",
       "</table>\n"
      ],
      "text/latex": [
       "A matrix: 6 × 11 of type dbl\n",
       "\\begin{tabular}{lllllllllll}\n",
       " has\\_computer & with\\_internet & total\\_population & work\\_from\\_home & X65\\_and\\_older & median\\_income & number\\_providers & mean\\_lowest\\_cost & mean\\_d\\_mbps & mean\\_u\\_mbps & mean\\_lat\\_ms\\\\\n",
       "\\hline\n",
       "\t  0.50245011 &  0.5167430 &  0.41151922 &  0.1292741 &  2.23493253 & 0.07418486 &  1.7094218 & -0.18458632 & -1.05913969 &  0.2831385 &  1.17991288\\\\\n",
       "\t  0.88153598 &  0.9194434 &  0.72118268 &  2.9303783 &  2.28240921 & 0.07416551 &  2.2108891 &  0.41923513 & -0.64056563 & -0.4304467 & -0.15416598\\\\\n",
       "\t -0.19922325 & -0.2714809 & -0.07753548 & -1.2814270 & -0.74343819 & 0.07345717 &  1.2079545 &  0.39687137 & -0.31447576 & -0.2727836 &  0.10962741\\\\\n",
       "\t -0.81523778 & -0.9413759 & -0.87198242 & -1.0480017 &  0.05100501 & 0.07347137 & -0.2964475 &  1.12369349 & -0.85523159 & -0.4058615 & -0.27548794\\\\\n",
       "\t -0.07893639 & -0.1913226 & -0.16011240 & -1.0784484 &  0.01302366 & 0.07354973 & -0.2964475 &  1.12369349 & -0.08992031 & -0.4758288 & -0.30026584\\\\\n",
       "\t  0.28010167 &  0.1789328 &  0.10826259 & -0.1751938 &  0.88026444 & 0.07377917 &  0.2050198 &  0.07383932 & -0.57834859 & -0.4065058 & -0.07734433\\\\\n",
       "\\end{tabular}\n"
      ],
      "text/markdown": [
       "\n",
       "A matrix: 6 × 11 of type dbl\n",
       "\n",
       "| has_computer | with_internet | total_population | work_from_home | X65_and_older | median_income | number_providers | mean_lowest_cost | mean_d_mbps | mean_u_mbps | mean_lat_ms |\n",
       "|---|---|---|---|---|---|---|---|---|---|---|\n",
       "|  0.50245011 |  0.5167430 |  0.41151922 |  0.1292741 |  2.23493253 | 0.07418486 |  1.7094218 | -0.18458632 | -1.05913969 |  0.2831385 |  1.17991288 |\n",
       "|  0.88153598 |  0.9194434 |  0.72118268 |  2.9303783 |  2.28240921 | 0.07416551 |  2.2108891 |  0.41923513 | -0.64056563 | -0.4304467 | -0.15416598 |\n",
       "| -0.19922325 | -0.2714809 | -0.07753548 | -1.2814270 | -0.74343819 | 0.07345717 |  1.2079545 |  0.39687137 | -0.31447576 | -0.2727836 |  0.10962741 |\n",
       "| -0.81523778 | -0.9413759 | -0.87198242 | -1.0480017 |  0.05100501 | 0.07347137 | -0.2964475 |  1.12369349 | -0.85523159 | -0.4058615 | -0.27548794 |\n",
       "| -0.07893639 | -0.1913226 | -0.16011240 | -1.0784484 |  0.01302366 | 0.07354973 | -0.2964475 |  1.12369349 | -0.08992031 | -0.4758288 | -0.30026584 |\n",
       "|  0.28010167 |  0.1789328 |  0.10826259 | -0.1751938 |  0.88026444 | 0.07377917 |  0.2050198 |  0.07383932 | -0.57834859 | -0.4065058 | -0.07734433 |\n",
       "\n"
      ],
      "text/plain": [
       "     has_computer with_internet total_population work_from_home X65_and_older\n",
       "[1,]  0.50245011   0.5167430     0.41151922       0.1292741      2.23493253  \n",
       "[2,]  0.88153598   0.9194434     0.72118268       2.9303783      2.28240921  \n",
       "[3,] -0.19922325  -0.2714809    -0.07753548      -1.2814270     -0.74343819  \n",
       "[4,] -0.81523778  -0.9413759    -0.87198242      -1.0480017      0.05100501  \n",
       "[5,] -0.07893639  -0.1913226    -0.16011240      -1.0784484      0.01302366  \n",
       "[6,]  0.28010167   0.1789328     0.10826259      -0.1751938      0.88026444  \n",
       "     median_income number_providers mean_lowest_cost mean_d_mbps mean_u_mbps\n",
       "[1,] 0.07418486     1.7094218       -0.18458632      -1.05913969  0.2831385 \n",
       "[2,] 0.07416551     2.2108891        0.41923513      -0.64056563 -0.4304467 \n",
       "[3,] 0.07345717     1.2079545        0.39687137      -0.31447576 -0.2727836 \n",
       "[4,] 0.07347137    -0.2964475        1.12369349      -0.85523159 -0.4058615 \n",
       "[5,] 0.07354973    -0.2964475        1.12369349      -0.08992031 -0.4758288 \n",
       "[6,] 0.07377917     0.2050198        0.07383932      -0.57834859 -0.4065058 \n",
       "     mean_lat_ms\n",
       "[1,]  1.17991288\n",
       "[2,] -0.15416598\n",
       "[3,]  0.10962741\n",
       "[4,] -0.27548794\n",
       "[5,] -0.30026584\n",
       "[6,] -0.07734433"
      ]
     },
     "metadata": {},
     "output_type": "display_data"
    }
   ],
   "source": [
    "head(scaled_data)"
   ]
  },
  {
   "attachments": {},
   "cell_type": "markdown",
   "metadata": {
    "slideshow": {
     "slide_type": "subslide"
    }
   },
   "source": [
    "### Examine The Data"
   ]
  },
  {
   "attachments": {},
   "cell_type": "markdown",
   "metadata": {
    "slideshow": {
     "slide_type": "subslide"
    }
   },
   "source": [
    "#### Variance"
   ]
  },
  {
   "cell_type": "code",
   "execution_count": 38,
   "metadata": {
    "vscode": {
     "languageId": "r"
    }
   },
   "outputs": [
    {
     "data": {
      "text/html": [
       "<table class=\"dataframe\">\n",
       "<caption>A matrix: 11 × 11 of type dbl</caption>\n",
       "<thead>\n",
       "\t<tr><th></th><th scope=col>has_computer</th><th scope=col>with_internet</th><th scope=col>total_population</th><th scope=col>work_from_home</th><th scope=col>X65_and_older</th><th scope=col>median_income</th><th scope=col>number_providers</th><th scope=col>mean_lowest_cost</th><th scope=col>mean_d_mbps</th><th scope=col>mean_u_mbps</th><th scope=col>mean_lat_ms</th></tr>\n",
       "</thead>\n",
       "<tbody>\n",
       "\t<tr><th scope=row>has_computer</th><td> 1.0000000</td><td> 0.9894358</td><td> 0.88769674</td><td> 0.429532198</td><td> 0.63073622</td><td> 0.16291986</td><td>-0.11586967</td><td> 0.10884185</td><td> 0.30554032</td><td> 0.19648189</td><td>-0.201306736</td></tr>\n",
       "\t<tr><th scope=row>with_internet</th><td> 0.9894358</td><td> 1.0000000</td><td> 0.88409177</td><td> 0.444207496</td><td> 0.62529208</td><td> 0.16040888</td><td>-0.12882664</td><td> 0.13640579</td><td> 0.34507339</td><td> 0.19906151</td><td>-0.236716631</td></tr>\n",
       "\t<tr><th scope=row>total_population</th><td> 0.8876967</td><td> 0.8840918</td><td> 1.00000000</td><td> 0.465567411</td><td> 0.55262306</td><td> 0.02849018</td><td>-0.12177616</td><td> 0.07103486</td><td> 0.26876416</td><td> 0.16742756</td><td>-0.141781841</td></tr>\n",
       "\t<tr><th scope=row>work_from_home</th><td> 0.4295322</td><td> 0.4442075</td><td> 0.46556741</td><td> 1.000000000</td><td> 0.39074417</td><td> 0.03663670</td><td> 0.02939906</td><td>-0.00620995</td><td> 0.03144231</td><td>-0.05867872</td><td> 0.008545821</td></tr>\n",
       "\t<tr><th scope=row>X65_and_older</th><td> 0.6307362</td><td> 0.6252921</td><td> 0.55262306</td><td> 0.390744170</td><td> 1.00000000</td><td> 0.14854040</td><td> 0.05292992</td><td> 0.05050125</td><td>-0.04232679</td><td>-0.16920740</td><td> 0.102017655</td></tr>\n",
       "\t<tr><th scope=row>median_income</th><td> 0.1629199</td><td> 0.1604089</td><td> 0.02849018</td><td> 0.036636701</td><td> 0.14854040</td><td> 1.00000000</td><td> 0.02199604</td><td>-0.05377681</td><td>-0.04773346</td><td>-0.01815921</td><td> 0.058520706</td></tr>\n",
       "\t<tr><th scope=row>number_providers</th><td>-0.1158697</td><td>-0.1288266</td><td>-0.12177616</td><td> 0.029399058</td><td> 0.05292992</td><td> 0.02199604</td><td> 1.00000000</td><td>-0.32945829</td><td>-0.48020798</td><td>-0.01627282</td><td> 0.446802457</td></tr>\n",
       "\t<tr><th scope=row>mean_lowest_cost</th><td> 0.1088418</td><td> 0.1364058</td><td> 0.07103486</td><td>-0.006209950</td><td> 0.05050125</td><td>-0.05377681</td><td>-0.32945829</td><td> 1.00000000</td><td> 0.19664282</td><td> 0.08436356</td><td>-0.181091388</td></tr>\n",
       "\t<tr><th scope=row>mean_d_mbps</th><td> 0.3055403</td><td> 0.3450734</td><td> 0.26876416</td><td> 0.031442306</td><td>-0.04232679</td><td>-0.04773346</td><td>-0.48020798</td><td> 0.19664282</td><td> 1.00000000</td><td> 0.40439966</td><td>-0.831561029</td></tr>\n",
       "\t<tr><th scope=row>mean_u_mbps</th><td> 0.1964819</td><td> 0.1990615</td><td> 0.16742756</td><td>-0.058678724</td><td>-0.16920740</td><td>-0.01815921</td><td>-0.01627282</td><td> 0.08436356</td><td> 0.40439966</td><td> 1.00000000</td><td>-0.421146282</td></tr>\n",
       "\t<tr><th scope=row>mean_lat_ms</th><td>-0.2013067</td><td>-0.2367166</td><td>-0.14178184</td><td> 0.008545821</td><td> 0.10201766</td><td> 0.05852071</td><td> 0.44680246</td><td>-0.18109139</td><td>-0.83156103</td><td>-0.42114628</td><td> 1.000000000</td></tr>\n",
       "</tbody>\n",
       "</table>\n"
      ],
      "text/latex": [
       "A matrix: 11 × 11 of type dbl\n",
       "\\begin{tabular}{r|lllllllllll}\n",
       "  & has\\_computer & with\\_internet & total\\_population & work\\_from\\_home & X65\\_and\\_older & median\\_income & number\\_providers & mean\\_lowest\\_cost & mean\\_d\\_mbps & mean\\_u\\_mbps & mean\\_lat\\_ms\\\\\n",
       "\\hline\n",
       "\thas\\_computer &  1.0000000 &  0.9894358 &  0.88769674 &  0.429532198 &  0.63073622 &  0.16291986 & -0.11586967 &  0.10884185 &  0.30554032 &  0.19648189 & -0.201306736\\\\\n",
       "\twith\\_internet &  0.9894358 &  1.0000000 &  0.88409177 &  0.444207496 &  0.62529208 &  0.16040888 & -0.12882664 &  0.13640579 &  0.34507339 &  0.19906151 & -0.236716631\\\\\n",
       "\ttotal\\_population &  0.8876967 &  0.8840918 &  1.00000000 &  0.465567411 &  0.55262306 &  0.02849018 & -0.12177616 &  0.07103486 &  0.26876416 &  0.16742756 & -0.141781841\\\\\n",
       "\twork\\_from\\_home &  0.4295322 &  0.4442075 &  0.46556741 &  1.000000000 &  0.39074417 &  0.03663670 &  0.02939906 & -0.00620995 &  0.03144231 & -0.05867872 &  0.008545821\\\\\n",
       "\tX65\\_and\\_older &  0.6307362 &  0.6252921 &  0.55262306 &  0.390744170 &  1.00000000 &  0.14854040 &  0.05292992 &  0.05050125 & -0.04232679 & -0.16920740 &  0.102017655\\\\\n",
       "\tmedian\\_income &  0.1629199 &  0.1604089 &  0.02849018 &  0.036636701 &  0.14854040 &  1.00000000 &  0.02199604 & -0.05377681 & -0.04773346 & -0.01815921 &  0.058520706\\\\\n",
       "\tnumber\\_providers & -0.1158697 & -0.1288266 & -0.12177616 &  0.029399058 &  0.05292992 &  0.02199604 &  1.00000000 & -0.32945829 & -0.48020798 & -0.01627282 &  0.446802457\\\\\n",
       "\tmean\\_lowest\\_cost &  0.1088418 &  0.1364058 &  0.07103486 & -0.006209950 &  0.05050125 & -0.05377681 & -0.32945829 &  1.00000000 &  0.19664282 &  0.08436356 & -0.181091388\\\\\n",
       "\tmean\\_d\\_mbps &  0.3055403 &  0.3450734 &  0.26876416 &  0.031442306 & -0.04232679 & -0.04773346 & -0.48020798 &  0.19664282 &  1.00000000 &  0.40439966 & -0.831561029\\\\\n",
       "\tmean\\_u\\_mbps &  0.1964819 &  0.1990615 &  0.16742756 & -0.058678724 & -0.16920740 & -0.01815921 & -0.01627282 &  0.08436356 &  0.40439966 &  1.00000000 & -0.421146282\\\\\n",
       "\tmean\\_lat\\_ms & -0.2013067 & -0.2367166 & -0.14178184 &  0.008545821 &  0.10201766 &  0.05852071 &  0.44680246 & -0.18109139 & -0.83156103 & -0.42114628 &  1.000000000\\\\\n",
       "\\end{tabular}\n"
      ],
      "text/markdown": [
       "\n",
       "A matrix: 11 × 11 of type dbl\n",
       "\n",
       "| <!--/--> | has_computer | with_internet | total_population | work_from_home | X65_and_older | median_income | number_providers | mean_lowest_cost | mean_d_mbps | mean_u_mbps | mean_lat_ms |\n",
       "|---|---|---|---|---|---|---|---|---|---|---|---|\n",
       "| has_computer |  1.0000000 |  0.9894358 |  0.88769674 |  0.429532198 |  0.63073622 |  0.16291986 | -0.11586967 |  0.10884185 |  0.30554032 |  0.19648189 | -0.201306736 |\n",
       "| with_internet |  0.9894358 |  1.0000000 |  0.88409177 |  0.444207496 |  0.62529208 |  0.16040888 | -0.12882664 |  0.13640579 |  0.34507339 |  0.19906151 | -0.236716631 |\n",
       "| total_population |  0.8876967 |  0.8840918 |  1.00000000 |  0.465567411 |  0.55262306 |  0.02849018 | -0.12177616 |  0.07103486 |  0.26876416 |  0.16742756 | -0.141781841 |\n",
       "| work_from_home |  0.4295322 |  0.4442075 |  0.46556741 |  1.000000000 |  0.39074417 |  0.03663670 |  0.02939906 | -0.00620995 |  0.03144231 | -0.05867872 |  0.008545821 |\n",
       "| X65_and_older |  0.6307362 |  0.6252921 |  0.55262306 |  0.390744170 |  1.00000000 |  0.14854040 |  0.05292992 |  0.05050125 | -0.04232679 | -0.16920740 |  0.102017655 |\n",
       "| median_income |  0.1629199 |  0.1604089 |  0.02849018 |  0.036636701 |  0.14854040 |  1.00000000 |  0.02199604 | -0.05377681 | -0.04773346 | -0.01815921 |  0.058520706 |\n",
       "| number_providers | -0.1158697 | -0.1288266 | -0.12177616 |  0.029399058 |  0.05292992 |  0.02199604 |  1.00000000 | -0.32945829 | -0.48020798 | -0.01627282 |  0.446802457 |\n",
       "| mean_lowest_cost |  0.1088418 |  0.1364058 |  0.07103486 | -0.006209950 |  0.05050125 | -0.05377681 | -0.32945829 |  1.00000000 |  0.19664282 |  0.08436356 | -0.181091388 |\n",
       "| mean_d_mbps |  0.3055403 |  0.3450734 |  0.26876416 |  0.031442306 | -0.04232679 | -0.04773346 | -0.48020798 |  0.19664282 |  1.00000000 |  0.40439966 | -0.831561029 |\n",
       "| mean_u_mbps |  0.1964819 |  0.1990615 |  0.16742756 | -0.058678724 | -0.16920740 | -0.01815921 | -0.01627282 |  0.08436356 |  0.40439966 |  1.00000000 | -0.421146282 |\n",
       "| mean_lat_ms | -0.2013067 | -0.2367166 | -0.14178184 |  0.008545821 |  0.10201766 |  0.05852071 |  0.44680246 | -0.18109139 | -0.83156103 | -0.42114628 |  1.000000000 |\n",
       "\n"
      ],
      "text/plain": [
       "                 has_computer with_internet total_population work_from_home\n",
       "has_computer      1.0000000    0.9894358     0.88769674       0.429532198  \n",
       "with_internet     0.9894358    1.0000000     0.88409177       0.444207496  \n",
       "total_population  0.8876967    0.8840918     1.00000000       0.465567411  \n",
       "work_from_home    0.4295322    0.4442075     0.46556741       1.000000000  \n",
       "X65_and_older     0.6307362    0.6252921     0.55262306       0.390744170  \n",
       "median_income     0.1629199    0.1604089     0.02849018       0.036636701  \n",
       "number_providers -0.1158697   -0.1288266    -0.12177616       0.029399058  \n",
       "mean_lowest_cost  0.1088418    0.1364058     0.07103486      -0.006209950  \n",
       "mean_d_mbps       0.3055403    0.3450734     0.26876416       0.031442306  \n",
       "mean_u_mbps       0.1964819    0.1990615     0.16742756      -0.058678724  \n",
       "mean_lat_ms      -0.2013067   -0.2367166    -0.14178184       0.008545821  \n",
       "                 X65_and_older median_income number_providers mean_lowest_cost\n",
       "has_computer      0.63073622    0.16291986   -0.11586967       0.10884185     \n",
       "with_internet     0.62529208    0.16040888   -0.12882664       0.13640579     \n",
       "total_population  0.55262306    0.02849018   -0.12177616       0.07103486     \n",
       "work_from_home    0.39074417    0.03663670    0.02939906      -0.00620995     \n",
       "X65_and_older     1.00000000    0.14854040    0.05292992       0.05050125     \n",
       "median_income     0.14854040    1.00000000    0.02199604      -0.05377681     \n",
       "number_providers  0.05292992    0.02199604    1.00000000      -0.32945829     \n",
       "mean_lowest_cost  0.05050125   -0.05377681   -0.32945829       1.00000000     \n",
       "mean_d_mbps      -0.04232679   -0.04773346   -0.48020798       0.19664282     \n",
       "mean_u_mbps      -0.16920740   -0.01815921   -0.01627282       0.08436356     \n",
       "mean_lat_ms       0.10201766    0.05852071    0.44680246      -0.18109139     \n",
       "                 mean_d_mbps mean_u_mbps mean_lat_ms \n",
       "has_computer      0.30554032  0.19648189 -0.201306736\n",
       "with_internet     0.34507339  0.19906151 -0.236716631\n",
       "total_population  0.26876416  0.16742756 -0.141781841\n",
       "work_from_home    0.03144231 -0.05867872  0.008545821\n",
       "X65_and_older    -0.04232679 -0.16920740  0.102017655\n",
       "median_income    -0.04773346 -0.01815921  0.058520706\n",
       "number_providers -0.48020798 -0.01627282  0.446802457\n",
       "mean_lowest_cost  0.19664282  0.08436356 -0.181091388\n",
       "mean_d_mbps       1.00000000  0.40439966 -0.831561029\n",
       "mean_u_mbps       0.40439966  1.00000000 -0.421146282\n",
       "mean_lat_ms      -0.83156103 -0.42114628  1.000000000"
      ]
     },
     "metadata": {},
     "output_type": "display_data"
    }
   ],
   "source": [
    "var(scaled_data)"
   ]
  },
  {
   "attachments": {},
   "cell_type": "markdown",
   "metadata": {
    "slideshow": {
     "slide_type": "subslide"
    }
   },
   "source": [
    "#### Correlation"
   ]
  },
  {
   "cell_type": "code",
   "execution_count": 39,
   "metadata": {
    "vscode": {
     "languageId": "r"
    }
   },
   "outputs": [
    {
     "data": {
      "text/html": [
       "<table class=\"dataframe\">\n",
       "<caption>A matrix: 11 × 11 of type dbl</caption>\n",
       "<thead>\n",
       "\t<tr><th></th><th scope=col>has_computer</th><th scope=col>with_internet</th><th scope=col>total_population</th><th scope=col>work_from_home</th><th scope=col>X65_and_older</th><th scope=col>median_income</th><th scope=col>number_providers</th><th scope=col>mean_lowest_cost</th><th scope=col>mean_d_mbps</th><th scope=col>mean_u_mbps</th><th scope=col>mean_lat_ms</th></tr>\n",
       "</thead>\n",
       "<tbody>\n",
       "\t<tr><th scope=row>has_computer</th><td> 1.0000000</td><td> 0.9894358</td><td> 0.88769674</td><td> 0.429532198</td><td> 0.63073622</td><td> 0.16291986</td><td>-0.11586967</td><td> 0.10884185</td><td> 0.30554032</td><td> 0.19648189</td><td>-0.201306736</td></tr>\n",
       "\t<tr><th scope=row>with_internet</th><td> 0.9894358</td><td> 1.0000000</td><td> 0.88409177</td><td> 0.444207496</td><td> 0.62529208</td><td> 0.16040888</td><td>-0.12882664</td><td> 0.13640579</td><td> 0.34507339</td><td> 0.19906151</td><td>-0.236716631</td></tr>\n",
       "\t<tr><th scope=row>total_population</th><td> 0.8876967</td><td> 0.8840918</td><td> 1.00000000</td><td> 0.465567411</td><td> 0.55262306</td><td> 0.02849018</td><td>-0.12177616</td><td> 0.07103486</td><td> 0.26876416</td><td> 0.16742756</td><td>-0.141781841</td></tr>\n",
       "\t<tr><th scope=row>work_from_home</th><td> 0.4295322</td><td> 0.4442075</td><td> 0.46556741</td><td> 1.000000000</td><td> 0.39074417</td><td> 0.03663670</td><td> 0.02939906</td><td>-0.00620995</td><td> 0.03144231</td><td>-0.05867872</td><td> 0.008545821</td></tr>\n",
       "\t<tr><th scope=row>X65_and_older</th><td> 0.6307362</td><td> 0.6252921</td><td> 0.55262306</td><td> 0.390744170</td><td> 1.00000000</td><td> 0.14854040</td><td> 0.05292992</td><td> 0.05050125</td><td>-0.04232679</td><td>-0.16920740</td><td> 0.102017655</td></tr>\n",
       "\t<tr><th scope=row>median_income</th><td> 0.1629199</td><td> 0.1604089</td><td> 0.02849018</td><td> 0.036636701</td><td> 0.14854040</td><td> 1.00000000</td><td> 0.02199604</td><td>-0.05377681</td><td>-0.04773346</td><td>-0.01815921</td><td> 0.058520706</td></tr>\n",
       "\t<tr><th scope=row>number_providers</th><td>-0.1158697</td><td>-0.1288266</td><td>-0.12177616</td><td> 0.029399058</td><td> 0.05292992</td><td> 0.02199604</td><td> 1.00000000</td><td>-0.32945829</td><td>-0.48020798</td><td>-0.01627282</td><td> 0.446802457</td></tr>\n",
       "\t<tr><th scope=row>mean_lowest_cost</th><td> 0.1088418</td><td> 0.1364058</td><td> 0.07103486</td><td>-0.006209950</td><td> 0.05050125</td><td>-0.05377681</td><td>-0.32945829</td><td> 1.00000000</td><td> 0.19664282</td><td> 0.08436356</td><td>-0.181091388</td></tr>\n",
       "\t<tr><th scope=row>mean_d_mbps</th><td> 0.3055403</td><td> 0.3450734</td><td> 0.26876416</td><td> 0.031442306</td><td>-0.04232679</td><td>-0.04773346</td><td>-0.48020798</td><td> 0.19664282</td><td> 1.00000000</td><td> 0.40439966</td><td>-0.831561029</td></tr>\n",
       "\t<tr><th scope=row>mean_u_mbps</th><td> 0.1964819</td><td> 0.1990615</td><td> 0.16742756</td><td>-0.058678724</td><td>-0.16920740</td><td>-0.01815921</td><td>-0.01627282</td><td> 0.08436356</td><td> 0.40439966</td><td> 1.00000000</td><td>-0.421146282</td></tr>\n",
       "\t<tr><th scope=row>mean_lat_ms</th><td>-0.2013067</td><td>-0.2367166</td><td>-0.14178184</td><td> 0.008545821</td><td> 0.10201766</td><td> 0.05852071</td><td> 0.44680246</td><td>-0.18109139</td><td>-0.83156103</td><td>-0.42114628</td><td> 1.000000000</td></tr>\n",
       "</tbody>\n",
       "</table>\n"
      ],
      "text/latex": [
       "A matrix: 11 × 11 of type dbl\n",
       "\\begin{tabular}{r|lllllllllll}\n",
       "  & has\\_computer & with\\_internet & total\\_population & work\\_from\\_home & X65\\_and\\_older & median\\_income & number\\_providers & mean\\_lowest\\_cost & mean\\_d\\_mbps & mean\\_u\\_mbps & mean\\_lat\\_ms\\\\\n",
       "\\hline\n",
       "\thas\\_computer &  1.0000000 &  0.9894358 &  0.88769674 &  0.429532198 &  0.63073622 &  0.16291986 & -0.11586967 &  0.10884185 &  0.30554032 &  0.19648189 & -0.201306736\\\\\n",
       "\twith\\_internet &  0.9894358 &  1.0000000 &  0.88409177 &  0.444207496 &  0.62529208 &  0.16040888 & -0.12882664 &  0.13640579 &  0.34507339 &  0.19906151 & -0.236716631\\\\\n",
       "\ttotal\\_population &  0.8876967 &  0.8840918 &  1.00000000 &  0.465567411 &  0.55262306 &  0.02849018 & -0.12177616 &  0.07103486 &  0.26876416 &  0.16742756 & -0.141781841\\\\\n",
       "\twork\\_from\\_home &  0.4295322 &  0.4442075 &  0.46556741 &  1.000000000 &  0.39074417 &  0.03663670 &  0.02939906 & -0.00620995 &  0.03144231 & -0.05867872 &  0.008545821\\\\\n",
       "\tX65\\_and\\_older &  0.6307362 &  0.6252921 &  0.55262306 &  0.390744170 &  1.00000000 &  0.14854040 &  0.05292992 &  0.05050125 & -0.04232679 & -0.16920740 &  0.102017655\\\\\n",
       "\tmedian\\_income &  0.1629199 &  0.1604089 &  0.02849018 &  0.036636701 &  0.14854040 &  1.00000000 &  0.02199604 & -0.05377681 & -0.04773346 & -0.01815921 &  0.058520706\\\\\n",
       "\tnumber\\_providers & -0.1158697 & -0.1288266 & -0.12177616 &  0.029399058 &  0.05292992 &  0.02199604 &  1.00000000 & -0.32945829 & -0.48020798 & -0.01627282 &  0.446802457\\\\\n",
       "\tmean\\_lowest\\_cost &  0.1088418 &  0.1364058 &  0.07103486 & -0.006209950 &  0.05050125 & -0.05377681 & -0.32945829 &  1.00000000 &  0.19664282 &  0.08436356 & -0.181091388\\\\\n",
       "\tmean\\_d\\_mbps &  0.3055403 &  0.3450734 &  0.26876416 &  0.031442306 & -0.04232679 & -0.04773346 & -0.48020798 &  0.19664282 &  1.00000000 &  0.40439966 & -0.831561029\\\\\n",
       "\tmean\\_u\\_mbps &  0.1964819 &  0.1990615 &  0.16742756 & -0.058678724 & -0.16920740 & -0.01815921 & -0.01627282 &  0.08436356 &  0.40439966 &  1.00000000 & -0.421146282\\\\\n",
       "\tmean\\_lat\\_ms & -0.2013067 & -0.2367166 & -0.14178184 &  0.008545821 &  0.10201766 &  0.05852071 &  0.44680246 & -0.18109139 & -0.83156103 & -0.42114628 &  1.000000000\\\\\n",
       "\\end{tabular}\n"
      ],
      "text/markdown": [
       "\n",
       "A matrix: 11 × 11 of type dbl\n",
       "\n",
       "| <!--/--> | has_computer | with_internet | total_population | work_from_home | X65_and_older | median_income | number_providers | mean_lowest_cost | mean_d_mbps | mean_u_mbps | mean_lat_ms |\n",
       "|---|---|---|---|---|---|---|---|---|---|---|---|\n",
       "| has_computer |  1.0000000 |  0.9894358 |  0.88769674 |  0.429532198 |  0.63073622 |  0.16291986 | -0.11586967 |  0.10884185 |  0.30554032 |  0.19648189 | -0.201306736 |\n",
       "| with_internet |  0.9894358 |  1.0000000 |  0.88409177 |  0.444207496 |  0.62529208 |  0.16040888 | -0.12882664 |  0.13640579 |  0.34507339 |  0.19906151 | -0.236716631 |\n",
       "| total_population |  0.8876967 |  0.8840918 |  1.00000000 |  0.465567411 |  0.55262306 |  0.02849018 | -0.12177616 |  0.07103486 |  0.26876416 |  0.16742756 | -0.141781841 |\n",
       "| work_from_home |  0.4295322 |  0.4442075 |  0.46556741 |  1.000000000 |  0.39074417 |  0.03663670 |  0.02939906 | -0.00620995 |  0.03144231 | -0.05867872 |  0.008545821 |\n",
       "| X65_and_older |  0.6307362 |  0.6252921 |  0.55262306 |  0.390744170 |  1.00000000 |  0.14854040 |  0.05292992 |  0.05050125 | -0.04232679 | -0.16920740 |  0.102017655 |\n",
       "| median_income |  0.1629199 |  0.1604089 |  0.02849018 |  0.036636701 |  0.14854040 |  1.00000000 |  0.02199604 | -0.05377681 | -0.04773346 | -0.01815921 |  0.058520706 |\n",
       "| number_providers | -0.1158697 | -0.1288266 | -0.12177616 |  0.029399058 |  0.05292992 |  0.02199604 |  1.00000000 | -0.32945829 | -0.48020798 | -0.01627282 |  0.446802457 |\n",
       "| mean_lowest_cost |  0.1088418 |  0.1364058 |  0.07103486 | -0.006209950 |  0.05050125 | -0.05377681 | -0.32945829 |  1.00000000 |  0.19664282 |  0.08436356 | -0.181091388 |\n",
       "| mean_d_mbps |  0.3055403 |  0.3450734 |  0.26876416 |  0.031442306 | -0.04232679 | -0.04773346 | -0.48020798 |  0.19664282 |  1.00000000 |  0.40439966 | -0.831561029 |\n",
       "| mean_u_mbps |  0.1964819 |  0.1990615 |  0.16742756 | -0.058678724 | -0.16920740 | -0.01815921 | -0.01627282 |  0.08436356 |  0.40439966 |  1.00000000 | -0.421146282 |\n",
       "| mean_lat_ms | -0.2013067 | -0.2367166 | -0.14178184 |  0.008545821 |  0.10201766 |  0.05852071 |  0.44680246 | -0.18109139 | -0.83156103 | -0.42114628 |  1.000000000 |\n",
       "\n"
      ],
      "text/plain": [
       "                 has_computer with_internet total_population work_from_home\n",
       "has_computer      1.0000000    0.9894358     0.88769674       0.429532198  \n",
       "with_internet     0.9894358    1.0000000     0.88409177       0.444207496  \n",
       "total_population  0.8876967    0.8840918     1.00000000       0.465567411  \n",
       "work_from_home    0.4295322    0.4442075     0.46556741       1.000000000  \n",
       "X65_and_older     0.6307362    0.6252921     0.55262306       0.390744170  \n",
       "median_income     0.1629199    0.1604089     0.02849018       0.036636701  \n",
       "number_providers -0.1158697   -0.1288266    -0.12177616       0.029399058  \n",
       "mean_lowest_cost  0.1088418    0.1364058     0.07103486      -0.006209950  \n",
       "mean_d_mbps       0.3055403    0.3450734     0.26876416       0.031442306  \n",
       "mean_u_mbps       0.1964819    0.1990615     0.16742756      -0.058678724  \n",
       "mean_lat_ms      -0.2013067   -0.2367166    -0.14178184       0.008545821  \n",
       "                 X65_and_older median_income number_providers mean_lowest_cost\n",
       "has_computer      0.63073622    0.16291986   -0.11586967       0.10884185     \n",
       "with_internet     0.62529208    0.16040888   -0.12882664       0.13640579     \n",
       "total_population  0.55262306    0.02849018   -0.12177616       0.07103486     \n",
       "work_from_home    0.39074417    0.03663670    0.02939906      -0.00620995     \n",
       "X65_and_older     1.00000000    0.14854040    0.05292992       0.05050125     \n",
       "median_income     0.14854040    1.00000000    0.02199604      -0.05377681     \n",
       "number_providers  0.05292992    0.02199604    1.00000000      -0.32945829     \n",
       "mean_lowest_cost  0.05050125   -0.05377681   -0.32945829       1.00000000     \n",
       "mean_d_mbps      -0.04232679   -0.04773346   -0.48020798       0.19664282     \n",
       "mean_u_mbps      -0.16920740   -0.01815921   -0.01627282       0.08436356     \n",
       "mean_lat_ms       0.10201766    0.05852071    0.44680246      -0.18109139     \n",
       "                 mean_d_mbps mean_u_mbps mean_lat_ms \n",
       "has_computer      0.30554032  0.19648189 -0.201306736\n",
       "with_internet     0.34507339  0.19906151 -0.236716631\n",
       "total_population  0.26876416  0.16742756 -0.141781841\n",
       "work_from_home    0.03144231 -0.05867872  0.008545821\n",
       "X65_and_older    -0.04232679 -0.16920740  0.102017655\n",
       "median_income    -0.04773346 -0.01815921  0.058520706\n",
       "number_providers -0.48020798 -0.01627282  0.446802457\n",
       "mean_lowest_cost  0.19664282  0.08436356 -0.181091388\n",
       "mean_d_mbps       1.00000000  0.40439966 -0.831561029\n",
       "mean_u_mbps       0.40439966  1.00000000 -0.421146282\n",
       "mean_lat_ms      -0.83156103 -0.42114628  1.000000000"
      ]
     },
     "metadata": {},
     "output_type": "display_data"
    }
   ],
   "source": [
    "cor(scaled_data)"
   ]
  },
  {
   "attachments": {},
   "cell_type": "markdown",
   "metadata": {
    "slideshow": {
     "slide_type": "slide"
    }
   },
   "source": [
    "## Index"
   ]
  },
  {
   "attachments": {},
   "cell_type": "markdown",
   "metadata": {
    "slideshow": {
     "slide_type": "subslide"
    }
   },
   "source": [
    "### Apply PCA"
   ]
  },
  {
   "cell_type": "code",
   "execution_count": 40,
   "metadata": {
    "vscode": {
     "languageId": "r"
    }
   },
   "outputs": [],
   "source": [
    "pca_data <- prcomp(data, scale = TRUE, center = TRUE)\n",
    "\n",
    "# disable scientific notation\n",
    "options(scipen = 999)"
   ]
  },
  {
   "attachments": {},
   "cell_type": "markdown",
   "metadata": {
    "slideshow": {
     "slide_type": "subslide"
    }
   },
   "source": [
    "### Means"
   ]
  },
  {
   "cell_type": "code",
   "execution_count": 41,
   "metadata": {
    "vscode": {
     "languageId": "r"
    }
   },
   "outputs": [
    {
     "data": {
      "text/html": [
       "<dl>\n",
       "\t<dt>$has_computer</dt>\n",
       "\t\t<dd>1388.31147540984</dd>\n",
       "\t<dt>$with_internet</dt>\n",
       "\t\t<dd>1298.24590163934</dd>\n",
       "\t<dt>$total_population</dt>\n",
       "\t\t<dd>3741.91803278689</dd>\n",
       "\t<dt>$work_from_home</dt>\n",
       "\t\t<dd>132.262295081967</dd>\n",
       "\t<dt>$X65_and_older</dt>\n",
       "\t\t<dd>630.885245901639</dd>\n",
       "\t<dt>$median_income</dt>\n",
       "\t\t<dd>-3582328.05464481</dd>\n",
       "\t<dt>$number_providers</dt>\n",
       "\t\t<dd>8.59116022099447</dd>\n",
       "\t<dt>$mean_lowest_cost</dt>\n",
       "\t\t<dd>58.6349088622219</dd>\n",
       "\t<dt>$mean_d_mbps</dt>\n",
       "\t\t<dd>200.047094438153</dd>\n",
       "\t<dt>$mean_u_mbps</dt>\n",
       "\t\t<dd>34.2849682322739</dd>\n",
       "\t<dt>$mean_lat_ms</dt>\n",
       "\t\t<dd>0.0277554456733385</dd>\n",
       "</dl>\n"
      ],
      "text/latex": [
       "\\begin{description}\n",
       "\\item[\\$has\\_computer] 1388.31147540984\n",
       "\\item[\\$with\\_internet] 1298.24590163934\n",
       "\\item[\\$total\\_population] 3741.91803278689\n",
       "\\item[\\$work\\_from\\_home] 132.262295081967\n",
       "\\item[\\$X65\\_and\\_older] 630.885245901639\n",
       "\\item[\\$median\\_income] -3582328.05464481\n",
       "\\item[\\$number\\_providers] 8.59116022099447\n",
       "\\item[\\$mean\\_lowest\\_cost] 58.6349088622219\n",
       "\\item[\\$mean\\_d\\_mbps] 200.047094438153\n",
       "\\item[\\$mean\\_u\\_mbps] 34.2849682322739\n",
       "\\item[\\$mean\\_lat\\_ms] 0.0277554456733385\n",
       "\\end{description}\n"
      ],
      "text/markdown": [
       "$has_computer\n",
       ":   1388.31147540984\n",
       "$with_internet\n",
       ":   1298.24590163934\n",
       "$total_population\n",
       ":   3741.91803278689\n",
       "$work_from_home\n",
       ":   132.262295081967\n",
       "$X65_and_older\n",
       ":   630.885245901639\n",
       "$median_income\n",
       ":   -3582328.05464481\n",
       "$number_providers\n",
       ":   8.59116022099447\n",
       "$mean_lowest_cost\n",
       ":   58.6349088622219\n",
       "$mean_d_mbps\n",
       ":   200.047094438153\n",
       "$mean_u_mbps\n",
       ":   34.2849682322739\n",
       "$mean_lat_ms\n",
       ":   0.0277554456733385\n",
       "\n",
       "\n"
      ],
      "text/plain": [
       "$has_computer\n",
       "[1] 1388.311\n",
       "\n",
       "$with_internet\n",
       "[1] 1298.246\n",
       "\n",
       "$total_population\n",
       "[1] 3741.918\n",
       "\n",
       "$work_from_home\n",
       "[1] 132.2623\n",
       "\n",
       "$X65_and_older\n",
       "[1] 630.8852\n",
       "\n",
       "$median_income\n",
       "[1] -3582328\n",
       "\n",
       "$number_providers\n",
       "[1] 8.59116\n",
       "\n",
       "$mean_lowest_cost\n",
       "[1] 58.63491\n",
       "\n",
       "$mean_d_mbps\n",
       "[1] 200.0471\n",
       "\n",
       "$mean_u_mbps\n",
       "[1] 34.28497\n",
       "\n",
       "$mean_lat_ms\n",
       "[1] 0.02775545\n"
      ]
     },
     "metadata": {},
     "output_type": "display_data"
    }
   ],
   "source": [
    "as.list(pca_data$center)"
   ]
  },
  {
   "attachments": {},
   "cell_type": "markdown",
   "metadata": {
    "slideshow": {
     "slide_type": "subslide"
    }
   },
   "source": [
    "### Standard Deviations"
   ]
  },
  {
   "cell_type": "code",
   "execution_count": 42,
   "metadata": {
    "vscode": {
     "languageId": "r"
    }
   },
   "outputs": [
    {
     "data": {
      "text/html": [
       "<dl>\n",
       "\t<dt>$has_computer</dt>\n",
       "\t\t<dd>548.688352295285</dd>\n",
       "\t<dt>$with_internet</dt>\n",
       "\t\t<dd>523.962742648426</dd>\n",
       "\t<dt>$total_population</dt>\n",
       "\t\t<dd>1404.75083585199</dd>\n",
       "\t<dt>$work_from_home</dt>\n",
       "\t\t<dd>98.5325686613891</dd>\n",
       "\t<dt>$X65_and_older</dt>\n",
       "\t\t<dd>315.944550968386</dd>\n",
       "\t<dt>$median_income</dt>\n",
       "\t\t<dd>49285931.8512443</dd>\n",
       "\t<dt>$number_providers</dt>\n",
       "\t\t<dd>1.99414783412875</dd>\n",
       "\t<dt>$mean_lowest_cost</dt>\n",
       "\t\t<dd>3.43963115890699</dd>\n",
       "\t<dt>$mean_d_mbps</dt>\n",
       "\t\t<dd>84.7099645746882</dd>\n",
       "\t<dt>$mean_u_mbps</dt>\n",
       "\t\t<dd>26.4786774203819</dd>\n",
       "\t<dt>$mean_lat_ms</dt>\n",
       "\t\t<dd>0.0202972678916414</dd>\n",
       "</dl>\n"
      ],
      "text/latex": [
       "\\begin{description}\n",
       "\\item[\\$has\\_computer] 548.688352295285\n",
       "\\item[\\$with\\_internet] 523.962742648426\n",
       "\\item[\\$total\\_population] 1404.75083585199\n",
       "\\item[\\$work\\_from\\_home] 98.5325686613891\n",
       "\\item[\\$X65\\_and\\_older] 315.944550968386\n",
       "\\item[\\$median\\_income] 49285931.8512443\n",
       "\\item[\\$number\\_providers] 1.99414783412875\n",
       "\\item[\\$mean\\_lowest\\_cost] 3.43963115890699\n",
       "\\item[\\$mean\\_d\\_mbps] 84.7099645746882\n",
       "\\item[\\$mean\\_u\\_mbps] 26.4786774203819\n",
       "\\item[\\$mean\\_lat\\_ms] 0.0202972678916414\n",
       "\\end{description}\n"
      ],
      "text/markdown": [
       "$has_computer\n",
       ":   548.688352295285\n",
       "$with_internet\n",
       ":   523.962742648426\n",
       "$total_population\n",
       ":   1404.75083585199\n",
       "$work_from_home\n",
       ":   98.5325686613891\n",
       "$X65_and_older\n",
       ":   315.944550968386\n",
       "$median_income\n",
       ":   49285931.8512443\n",
       "$number_providers\n",
       ":   1.99414783412875\n",
       "$mean_lowest_cost\n",
       ":   3.43963115890699\n",
       "$mean_d_mbps\n",
       ":   84.7099645746882\n",
       "$mean_u_mbps\n",
       ":   26.4786774203819\n",
       "$mean_lat_ms\n",
       ":   0.0202972678916414\n",
       "\n",
       "\n"
      ],
      "text/plain": [
       "$has_computer\n",
       "[1] 548.6884\n",
       "\n",
       "$with_internet\n",
       "[1] 523.9627\n",
       "\n",
       "$total_population\n",
       "[1] 1404.751\n",
       "\n",
       "$work_from_home\n",
       "[1] 98.53257\n",
       "\n",
       "$X65_and_older\n",
       "[1] 315.9446\n",
       "\n",
       "$median_income\n",
       "[1] 49285932\n",
       "\n",
       "$number_providers\n",
       "[1] 1.994148\n",
       "\n",
       "$mean_lowest_cost\n",
       "[1] 3.439631\n",
       "\n",
       "$mean_d_mbps\n",
       "[1] 84.70996\n",
       "\n",
       "$mean_u_mbps\n",
       "[1] 26.47868\n",
       "\n",
       "$mean_lat_ms\n",
       "[1] 0.02029727\n"
      ]
     },
     "metadata": {},
     "output_type": "display_data"
    }
   ],
   "source": [
    "as.list(pca_data$scale)"
   ]
  },
  {
   "attachments": {},
   "cell_type": "markdown",
   "metadata": {
    "slideshow": {
     "slide_type": "subslide"
    }
   },
   "source": [
    "### Eigenvectors"
   ]
  },
  {
   "cell_type": "code",
   "execution_count": 43,
   "metadata": {
    "vscode": {
     "languageId": "r"
    }
   },
   "outputs": [],
   "source": [
    "eigenvectors <- -pca_data$rotation"
   ]
  },
  {
   "cell_type": "code",
   "execution_count": 44,
   "metadata": {
    "slideshow": {
     "slide_type": "fragment"
    },
    "vscode": {
     "languageId": "r"
    }
   },
   "outputs": [
    {
     "data": {
      "text/html": [
       "<table class=\"dataframe\">\n",
       "<caption>A matrix: 11 × 11 of type dbl</caption>\n",
       "<thead>\n",
       "\t<tr><th></th><th scope=col>PC1</th><th scope=col>PC2</th><th scope=col>PC3</th><th scope=col>PC4</th><th scope=col>PC5</th><th scope=col>PC6</th><th scope=col>PC7</th><th scope=col>PC8</th><th scope=col>PC9</th><th scope=col>PC10</th><th scope=col>PC11</th></tr>\n",
       "</thead>\n",
       "<tbody>\n",
       "\t<tr><th scope=row>has_computer</th><td> 0.47919705</td><td>-0.1268249</td><td> 0.06154895</td><td> 0.02249805</td><td> 0.082450809</td><td>-0.170916796</td><td>-0.10743319</td><td> 0.16049814</td><td> 0.157125222</td><td> 0.402468269</td><td> 0.7000070809</td></tr>\n",
       "\t<tr><th scope=row>with_internet</th><td> 0.48511745</td><td>-0.1067514</td><td> 0.04853273</td><td> 0.02101569</td><td> 0.075662979</td><td>-0.137584991</td><td>-0.06559733</td><td> 0.18549698</td><td> 0.125568202</td><td> 0.404770143</td><td>-0.7123869772</td></tr>\n",
       "\t<tr><th scope=row>total_population</th><td> 0.45150948</td><td>-0.1341981</td><td> 0.04862688</td><td>-0.13845549</td><td> 0.029444584</td><td>-0.145410785</td><td>-0.29710901</td><td> 0.22683251</td><td>-0.099951346</td><td>-0.764727493</td><td>-0.0076894091</td></tr>\n",
       "\t<tr><th scope=row>work_from_home</th><td> 0.26110792</td><td>-0.2293261</td><td>-0.05407837</td><td>-0.22589947</td><td>-0.304757368</td><td> 0.848481403</td><td>-0.04815021</td><td>-0.08186524</td><td>-0.012624330</td><td> 0.054694488</td><td> 0.0175550506</td></tr>\n",
       "\t<tr><th scope=row>X65_and_older</th><td> 0.31626111</td><td>-0.3335954</td><td>-0.17476200</td><td> 0.03416679</td><td>-0.000599359</td><td>-0.215988050</td><td> 0.52578086</td><td>-0.64149740</td><td>-0.098342671</td><td>-0.112678605</td><td>-0.0007018638</td></tr>\n",
       "\t<tr><th scope=row>median_income</th><td> 0.06593853</td><td>-0.1275799</td><td> 0.09793375</td><td> 0.95136781</td><td>-0.003448479</td><td> 0.215137821</td><td>-0.01978329</td><td> 0.05922046</td><td>-0.029600007</td><td>-0.116645941</td><td> 0.0025893128</td></tr>\n",
       "\t<tr><th scope=row>number_providers</th><td>-0.13912814</td><td>-0.3709887</td><td> 0.50891597</td><td>-0.13982215</td><td> 0.296737255</td><td> 0.116798365</td><td> 0.54471681</td><td> 0.40120998</td><td>-0.038937837</td><td>-0.057834727</td><td> 0.0149429896</td></tr>\n",
       "\t<tr><th scope=row>mean_lowest_cost</th><td> 0.10661612</td><td> 0.2082061</td><td>-0.58684768</td><td> 0.01051921</td><td> 0.689754467</td><td> 0.264049516</td><td> 0.16337918</td><td> 0.15961272</td><td>-0.009808512</td><td>-0.051505392</td><td> 0.0195194073</td></tr>\n",
       "\t<tr><th scope=row>mean_d_mbps</th><td> 0.25782171</td><td> 0.4831156</td><td> 0.07731489</td><td> 0.02340106</td><td>-0.230461927</td><td>-0.004866702</td><td> 0.28024093</td><td> 0.18060900</td><td>-0.719928054</td><td> 0.098602974</td><td> 0.0359462000</td></tr>\n",
       "\t<tr><th scope=row>mean_u_mbps</th><td> 0.13850507</td><td> 0.3144688</td><td> 0.57227046</td><td>-0.03954638</td><td> 0.472066631</td><td> 0.176606776</td><td>-0.22875269</td><td>-0.49429226</td><td>-0.044789391</td><td> 0.002975945</td><td>-0.0128023036</td></tr>\n",
       "\t<tr><th scope=row>mean_lat_ms</th><td>-0.20553537</td><td>-0.5109635</td><td>-0.10759997</td><td>-0.02848155</td><td> 0.232264641</td><td>-0.057271885</td><td>-0.40305592</td><td>-0.05709824</td><td>-0.645702989</td><td> 0.210592001</td><td>-0.0077491250</td></tr>\n",
       "</tbody>\n",
       "</table>\n"
      ],
      "text/latex": [
       "A matrix: 11 × 11 of type dbl\n",
       "\\begin{tabular}{r|lllllllllll}\n",
       "  & PC1 & PC2 & PC3 & PC4 & PC5 & PC6 & PC7 & PC8 & PC9 & PC10 & PC11\\\\\n",
       "\\hline\n",
       "\thas\\_computer &  0.47919705 & -0.1268249 &  0.06154895 &  0.02249805 &  0.082450809 & -0.170916796 & -0.10743319 &  0.16049814 &  0.157125222 &  0.402468269 &  0.7000070809\\\\\n",
       "\twith\\_internet &  0.48511745 & -0.1067514 &  0.04853273 &  0.02101569 &  0.075662979 & -0.137584991 & -0.06559733 &  0.18549698 &  0.125568202 &  0.404770143 & -0.7123869772\\\\\n",
       "\ttotal\\_population &  0.45150948 & -0.1341981 &  0.04862688 & -0.13845549 &  0.029444584 & -0.145410785 & -0.29710901 &  0.22683251 & -0.099951346 & -0.764727493 & -0.0076894091\\\\\n",
       "\twork\\_from\\_home &  0.26110792 & -0.2293261 & -0.05407837 & -0.22589947 & -0.304757368 &  0.848481403 & -0.04815021 & -0.08186524 & -0.012624330 &  0.054694488 &  0.0175550506\\\\\n",
       "\tX65\\_and\\_older &  0.31626111 & -0.3335954 & -0.17476200 &  0.03416679 & -0.000599359 & -0.215988050 &  0.52578086 & -0.64149740 & -0.098342671 & -0.112678605 & -0.0007018638\\\\\n",
       "\tmedian\\_income &  0.06593853 & -0.1275799 &  0.09793375 &  0.95136781 & -0.003448479 &  0.215137821 & -0.01978329 &  0.05922046 & -0.029600007 & -0.116645941 &  0.0025893128\\\\\n",
       "\tnumber\\_providers & -0.13912814 & -0.3709887 &  0.50891597 & -0.13982215 &  0.296737255 &  0.116798365 &  0.54471681 &  0.40120998 & -0.038937837 & -0.057834727 &  0.0149429896\\\\\n",
       "\tmean\\_lowest\\_cost &  0.10661612 &  0.2082061 & -0.58684768 &  0.01051921 &  0.689754467 &  0.264049516 &  0.16337918 &  0.15961272 & -0.009808512 & -0.051505392 &  0.0195194073\\\\\n",
       "\tmean\\_d\\_mbps &  0.25782171 &  0.4831156 &  0.07731489 &  0.02340106 & -0.230461927 & -0.004866702 &  0.28024093 &  0.18060900 & -0.719928054 &  0.098602974 &  0.0359462000\\\\\n",
       "\tmean\\_u\\_mbps &  0.13850507 &  0.3144688 &  0.57227046 & -0.03954638 &  0.472066631 &  0.176606776 & -0.22875269 & -0.49429226 & -0.044789391 &  0.002975945 & -0.0128023036\\\\\n",
       "\tmean\\_lat\\_ms & -0.20553537 & -0.5109635 & -0.10759997 & -0.02848155 &  0.232264641 & -0.057271885 & -0.40305592 & -0.05709824 & -0.645702989 &  0.210592001 & -0.0077491250\\\\\n",
       "\\end{tabular}\n"
      ],
      "text/markdown": [
       "\n",
       "A matrix: 11 × 11 of type dbl\n",
       "\n",
       "| <!--/--> | PC1 | PC2 | PC3 | PC4 | PC5 | PC6 | PC7 | PC8 | PC9 | PC10 | PC11 |\n",
       "|---|---|---|---|---|---|---|---|---|---|---|---|\n",
       "| has_computer |  0.47919705 | -0.1268249 |  0.06154895 |  0.02249805 |  0.082450809 | -0.170916796 | -0.10743319 |  0.16049814 |  0.157125222 |  0.402468269 |  0.7000070809 |\n",
       "| with_internet |  0.48511745 | -0.1067514 |  0.04853273 |  0.02101569 |  0.075662979 | -0.137584991 | -0.06559733 |  0.18549698 |  0.125568202 |  0.404770143 | -0.7123869772 |\n",
       "| total_population |  0.45150948 | -0.1341981 |  0.04862688 | -0.13845549 |  0.029444584 | -0.145410785 | -0.29710901 |  0.22683251 | -0.099951346 | -0.764727493 | -0.0076894091 |\n",
       "| work_from_home |  0.26110792 | -0.2293261 | -0.05407837 | -0.22589947 | -0.304757368 |  0.848481403 | -0.04815021 | -0.08186524 | -0.012624330 |  0.054694488 |  0.0175550506 |\n",
       "| X65_and_older |  0.31626111 | -0.3335954 | -0.17476200 |  0.03416679 | -0.000599359 | -0.215988050 |  0.52578086 | -0.64149740 | -0.098342671 | -0.112678605 | -0.0007018638 |\n",
       "| median_income |  0.06593853 | -0.1275799 |  0.09793375 |  0.95136781 | -0.003448479 |  0.215137821 | -0.01978329 |  0.05922046 | -0.029600007 | -0.116645941 |  0.0025893128 |\n",
       "| number_providers | -0.13912814 | -0.3709887 |  0.50891597 | -0.13982215 |  0.296737255 |  0.116798365 |  0.54471681 |  0.40120998 | -0.038937837 | -0.057834727 |  0.0149429896 |\n",
       "| mean_lowest_cost |  0.10661612 |  0.2082061 | -0.58684768 |  0.01051921 |  0.689754467 |  0.264049516 |  0.16337918 |  0.15961272 | -0.009808512 | -0.051505392 |  0.0195194073 |\n",
       "| mean_d_mbps |  0.25782171 |  0.4831156 |  0.07731489 |  0.02340106 | -0.230461927 | -0.004866702 |  0.28024093 |  0.18060900 | -0.719928054 |  0.098602974 |  0.0359462000 |\n",
       "| mean_u_mbps |  0.13850507 |  0.3144688 |  0.57227046 | -0.03954638 |  0.472066631 |  0.176606776 | -0.22875269 | -0.49429226 | -0.044789391 |  0.002975945 | -0.0128023036 |\n",
       "| mean_lat_ms | -0.20553537 | -0.5109635 | -0.10759997 | -0.02848155 |  0.232264641 | -0.057271885 | -0.40305592 | -0.05709824 | -0.645702989 |  0.210592001 | -0.0077491250 |\n",
       "\n"
      ],
      "text/plain": [
       "                 PC1         PC2        PC3         PC4         PC5         \n",
       "has_computer      0.47919705 -0.1268249  0.06154895  0.02249805  0.082450809\n",
       "with_internet     0.48511745 -0.1067514  0.04853273  0.02101569  0.075662979\n",
       "total_population  0.45150948 -0.1341981  0.04862688 -0.13845549  0.029444584\n",
       "work_from_home    0.26110792 -0.2293261 -0.05407837 -0.22589947 -0.304757368\n",
       "X65_and_older     0.31626111 -0.3335954 -0.17476200  0.03416679 -0.000599359\n",
       "median_income     0.06593853 -0.1275799  0.09793375  0.95136781 -0.003448479\n",
       "number_providers -0.13912814 -0.3709887  0.50891597 -0.13982215  0.296737255\n",
       "mean_lowest_cost  0.10661612  0.2082061 -0.58684768  0.01051921  0.689754467\n",
       "mean_d_mbps       0.25782171  0.4831156  0.07731489  0.02340106 -0.230461927\n",
       "mean_u_mbps       0.13850507  0.3144688  0.57227046 -0.03954638  0.472066631\n",
       "mean_lat_ms      -0.20553537 -0.5109635 -0.10759997 -0.02848155  0.232264641\n",
       "                 PC6          PC7         PC8         PC9          PC10        \n",
       "has_computer     -0.170916796 -0.10743319  0.16049814  0.157125222  0.402468269\n",
       "with_internet    -0.137584991 -0.06559733  0.18549698  0.125568202  0.404770143\n",
       "total_population -0.145410785 -0.29710901  0.22683251 -0.099951346 -0.764727493\n",
       "work_from_home    0.848481403 -0.04815021 -0.08186524 -0.012624330  0.054694488\n",
       "X65_and_older    -0.215988050  0.52578086 -0.64149740 -0.098342671 -0.112678605\n",
       "median_income     0.215137821 -0.01978329  0.05922046 -0.029600007 -0.116645941\n",
       "number_providers  0.116798365  0.54471681  0.40120998 -0.038937837 -0.057834727\n",
       "mean_lowest_cost  0.264049516  0.16337918  0.15961272 -0.009808512 -0.051505392\n",
       "mean_d_mbps      -0.004866702  0.28024093  0.18060900 -0.719928054  0.098602974\n",
       "mean_u_mbps       0.176606776 -0.22875269 -0.49429226 -0.044789391  0.002975945\n",
       "mean_lat_ms      -0.057271885 -0.40305592 -0.05709824 -0.645702989  0.210592001\n",
       "                 PC11         \n",
       "has_computer      0.7000070809\n",
       "with_internet    -0.7123869772\n",
       "total_population -0.0076894091\n",
       "work_from_home    0.0175550506\n",
       "X65_and_older    -0.0007018638\n",
       "median_income     0.0025893128\n",
       "number_providers  0.0149429896\n",
       "mean_lowest_cost  0.0195194073\n",
       "mean_d_mbps       0.0359462000\n",
       "mean_u_mbps      -0.0128023036\n",
       "mean_lat_ms      -0.0077491250"
      ]
     },
     "metadata": {},
     "output_type": "display_data"
    }
   ],
   "source": [
    "eigenvectors"
   ]
  },
  {
   "attachments": {},
   "cell_type": "markdown",
   "metadata": {
    "slideshow": {
     "slide_type": "subslide"
    }
   },
   "source": [
    "### Eigenvalues"
   ]
  },
  {
   "cell_type": "code",
   "execution_count": 45,
   "metadata": {
    "vscode": {
     "languageId": "r"
    }
   },
   "outputs": [],
   "source": [
    "eigenvalues <- pca_data$sdev^2"
   ]
  },
  {
   "cell_type": "code",
   "execution_count": 46,
   "metadata": {
    "slideshow": {
     "slide_type": "fragment"
    },
    "vscode": {
     "languageId": "r"
    }
   },
   "outputs": [
    {
     "data": {
      "text/html": [
       "<ol>\n",
       "\t<li>3.87618563026407</li>\n",
       "\t<li>2.39202043970429</li>\n",
       "\t<li>1.13918766789001</li>\n",
       "\t<li>0.99388662552</li>\n",
       "\t<li>0.823295274743982</li>\n",
       "\t<li>0.660623447204626</li>\n",
       "\t<li>0.482839648438703</li>\n",
       "\t<li>0.347077843469694</li>\n",
       "\t<li>0.159288752425191</li>\n",
       "\t<li>0.116651442420637</li>\n",
       "\t<li>0.00894322791880101</li>\n",
       "</ol>\n"
      ],
      "text/latex": [
       "\\begin{enumerate}\n",
       "\\item 3.87618563026407\n",
       "\\item 2.39202043970429\n",
       "\\item 1.13918766789001\n",
       "\\item 0.99388662552\n",
       "\\item 0.823295274743982\n",
       "\\item 0.660623447204626\n",
       "\\item 0.482839648438703\n",
       "\\item 0.347077843469694\n",
       "\\item 0.159288752425191\n",
       "\\item 0.116651442420637\n",
       "\\item 0.00894322791880101\n",
       "\\end{enumerate}\n"
      ],
      "text/markdown": [
       "1. 3.87618563026407\n",
       "2. 2.39202043970429\n",
       "3. 1.13918766789001\n",
       "4. 0.99388662552\n",
       "5. 0.823295274743982\n",
       "6. 0.660623447204626\n",
       "7. 0.482839648438703\n",
       "8. 0.347077843469694\n",
       "9. 0.159288752425191\n",
       "10. 0.116651442420637\n",
       "11. 0.00894322791880101\n",
       "\n",
       "\n"
      ],
      "text/plain": [
       "[[1]]\n",
       "[1] 3.876186\n",
       "\n",
       "[[2]]\n",
       "[1] 2.39202\n",
       "\n",
       "[[3]]\n",
       "[1] 1.139188\n",
       "\n",
       "[[4]]\n",
       "[1] 0.9938866\n",
       "\n",
       "[[5]]\n",
       "[1] 0.8232953\n",
       "\n",
       "[[6]]\n",
       "[1] 0.6606234\n",
       "\n",
       "[[7]]\n",
       "[1] 0.4828396\n",
       "\n",
       "[[8]]\n",
       "[1] 0.3470778\n",
       "\n",
       "[[9]]\n",
       "[1] 0.1592888\n",
       "\n",
       "[[10]]\n",
       "[1] 0.1166514\n",
       "\n",
       "[[11]]\n",
       "[1] 0.008943228\n"
      ]
     },
     "metadata": {},
     "output_type": "display_data"
    }
   ],
   "source": [
    "as.list(eigenvalues)"
   ]
  },
  {
   "attachments": {},
   "cell_type": "markdown",
   "metadata": {
    "slideshow": {
     "slide_type": "subslide"
    }
   },
   "source": [
    "### Principal Component Scores"
   ]
  },
  {
   "cell_type": "code",
   "execution_count": 47,
   "metadata": {
    "vscode": {
     "languageId": "r"
    }
   },
   "outputs": [],
   "source": [
    "principal_components <- -pca_data$x"
   ]
  },
  {
   "cell_type": "code",
   "execution_count": 48,
   "metadata": {
    "slideshow": {
     "slide_type": "fragment"
    },
    "vscode": {
     "languageId": "r"
    }
   },
   "outputs": [
    {
     "data": {
      "text/html": [
       "<table class=\"dataframe\">\n",
       "<caption>A matrix: 6 × 11 of type dbl</caption>\n",
       "<thead>\n",
       "\t<tr><th scope=col>PC1</th><th scope=col>PC2</th><th scope=col>PC3</th><th scope=col>PC4</th><th scope=col>PC5</th><th scope=col>PC6</th><th scope=col>PC7</th><th scope=col>PC8</th><th scope=col>PC9</th><th scope=col>PC10</th><th scope=col>PC11</th></tr>\n",
       "</thead>\n",
       "<tbody>\n",
       "\t<tr><td> 0.6888514</td><td>-2.65693442</td><td> 0.6171702</td><td>-0.2276232</td><td>1.0833837</td><td>-0.4353841</td><td>1.0210891</td><td>-0.9122902</td><td>-0.1977161</td><td>-0.1011978</td><td>-0.04757314</td></tr>\n",
       "\t<tr><td> 2.2299770</td><td>-2.84859344</td><td> 0.1837251</td><td>-0.8724234</td><td>0.1226496</td><td> 1.9321696</td><td>1.9420858</td><td>-0.1642138</td><td> 0.4080204</td><td>-0.1764768</td><td> 0.03146945</td></tr>\n",
       "\t<tr><td>-1.0941835</td><td>-0.06207896</td><td> 0.3668369</td><td> 0.1700875</td><td>0.9528205</td><td>-0.6352557</td><td>0.3845289</td><td> 1.1060140</td><td> 0.1463751</td><td>-0.2246969</td><td> 0.04989017</td></tr>\n",
       "\t<tr><td>-1.5527524</td><td> 0.47874603</td><td>-1.1623565</td><td> 0.4481435</td><td>0.7836069</td><td>-0.2784191</td><td>0.4705508</td><td>-0.3235346</td><td> 0.6591823</td><td>-0.2982396</td><td> 0.08250591</td></tr>\n",
       "\t<tr><td>-0.3418799</td><td> 0.58979836</td><td>-1.0159321</td><td> 0.4089459</td><td>0.7161696</td><td>-0.6432504</td><td>0.3527014</td><td> 0.2963316</td><td> 0.2701854</td><td>-0.1700480</td><td> 0.08621016</td></tr>\n",
       "\t<tr><td> 0.2972542</td><td>-0.76045101</td><td>-0.3139671</td><td> 0.1117709</td><td>0.1276237</td><td>-0.4322418</td><td>0.4816347</td><td>-0.2483354</td><td> 0.4449293</td><td>-0.1051930</td><td> 0.05378802</td></tr>\n",
       "</tbody>\n",
       "</table>\n"
      ],
      "text/latex": [
       "A matrix: 6 × 11 of type dbl\n",
       "\\begin{tabular}{lllllllllll}\n",
       " PC1 & PC2 & PC3 & PC4 & PC5 & PC6 & PC7 & PC8 & PC9 & PC10 & PC11\\\\\n",
       "\\hline\n",
       "\t  0.6888514 & -2.65693442 &  0.6171702 & -0.2276232 & 1.0833837 & -0.4353841 & 1.0210891 & -0.9122902 & -0.1977161 & -0.1011978 & -0.04757314\\\\\n",
       "\t  2.2299770 & -2.84859344 &  0.1837251 & -0.8724234 & 0.1226496 &  1.9321696 & 1.9420858 & -0.1642138 &  0.4080204 & -0.1764768 &  0.03146945\\\\\n",
       "\t -1.0941835 & -0.06207896 &  0.3668369 &  0.1700875 & 0.9528205 & -0.6352557 & 0.3845289 &  1.1060140 &  0.1463751 & -0.2246969 &  0.04989017\\\\\n",
       "\t -1.5527524 &  0.47874603 & -1.1623565 &  0.4481435 & 0.7836069 & -0.2784191 & 0.4705508 & -0.3235346 &  0.6591823 & -0.2982396 &  0.08250591\\\\\n",
       "\t -0.3418799 &  0.58979836 & -1.0159321 &  0.4089459 & 0.7161696 & -0.6432504 & 0.3527014 &  0.2963316 &  0.2701854 & -0.1700480 &  0.08621016\\\\\n",
       "\t  0.2972542 & -0.76045101 & -0.3139671 &  0.1117709 & 0.1276237 & -0.4322418 & 0.4816347 & -0.2483354 &  0.4449293 & -0.1051930 &  0.05378802\\\\\n",
       "\\end{tabular}\n"
      ],
      "text/markdown": [
       "\n",
       "A matrix: 6 × 11 of type dbl\n",
       "\n",
       "| PC1 | PC2 | PC3 | PC4 | PC5 | PC6 | PC7 | PC8 | PC9 | PC10 | PC11 |\n",
       "|---|---|---|---|---|---|---|---|---|---|---|\n",
       "|  0.6888514 | -2.65693442 |  0.6171702 | -0.2276232 | 1.0833837 | -0.4353841 | 1.0210891 | -0.9122902 | -0.1977161 | -0.1011978 | -0.04757314 |\n",
       "|  2.2299770 | -2.84859344 |  0.1837251 | -0.8724234 | 0.1226496 |  1.9321696 | 1.9420858 | -0.1642138 |  0.4080204 | -0.1764768 |  0.03146945 |\n",
       "| -1.0941835 | -0.06207896 |  0.3668369 |  0.1700875 | 0.9528205 | -0.6352557 | 0.3845289 |  1.1060140 |  0.1463751 | -0.2246969 |  0.04989017 |\n",
       "| -1.5527524 |  0.47874603 | -1.1623565 |  0.4481435 | 0.7836069 | -0.2784191 | 0.4705508 | -0.3235346 |  0.6591823 | -0.2982396 |  0.08250591 |\n",
       "| -0.3418799 |  0.58979836 | -1.0159321 |  0.4089459 | 0.7161696 | -0.6432504 | 0.3527014 |  0.2963316 |  0.2701854 | -0.1700480 |  0.08621016 |\n",
       "|  0.2972542 | -0.76045101 | -0.3139671 |  0.1117709 | 0.1276237 | -0.4322418 | 0.4816347 | -0.2483354 |  0.4449293 | -0.1051930 |  0.05378802 |\n",
       "\n"
      ],
      "text/plain": [
       "     PC1        PC2         PC3        PC4        PC5       PC6       \n",
       "[1,]  0.6888514 -2.65693442  0.6171702 -0.2276232 1.0833837 -0.4353841\n",
       "[2,]  2.2299770 -2.84859344  0.1837251 -0.8724234 0.1226496  1.9321696\n",
       "[3,] -1.0941835 -0.06207896  0.3668369  0.1700875 0.9528205 -0.6352557\n",
       "[4,] -1.5527524  0.47874603 -1.1623565  0.4481435 0.7836069 -0.2784191\n",
       "[5,] -0.3418799  0.58979836 -1.0159321  0.4089459 0.7161696 -0.6432504\n",
       "[6,]  0.2972542 -0.76045101 -0.3139671  0.1117709 0.1276237 -0.4322418\n",
       "     PC7       PC8        PC9        PC10       PC11       \n",
       "[1,] 1.0210891 -0.9122902 -0.1977161 -0.1011978 -0.04757314\n",
       "[2,] 1.9420858 -0.1642138  0.4080204 -0.1764768  0.03146945\n",
       "[3,] 0.3845289  1.1060140  0.1463751 -0.2246969  0.04989017\n",
       "[4,] 0.4705508 -0.3235346  0.6591823 -0.2982396  0.08250591\n",
       "[5,] 0.3527014  0.2963316  0.2701854 -0.1700480  0.08621016\n",
       "[6,] 0.4816347 -0.2483354  0.4449293 -0.1051930  0.05378802"
      ]
     },
     "metadata": {},
     "output_type": "display_data"
    }
   ],
   "source": [
    "head(principal_components)"
   ]
  },
  {
   "attachments": {},
   "cell_type": "markdown",
   "metadata": {
    "slideshow": {
     "slide_type": "subslide"
    }
   },
   "source": [
    "### Percent Explained"
   ]
  },
  {
   "cell_type": "code",
   "execution_count": 49,
   "metadata": {
    "vscode": {
     "languageId": "r"
    }
   },
   "outputs": [
    {
     "data": {
      "text/html": [
       "<ol>\n",
       "\t<li>0.352380511842188</li>\n",
       "\t<li>0.217456403609481</li>\n",
       "\t<li>0.103562515262728</li>\n",
       "\t<li>0.0903533295927273</li>\n",
       "\t<li>0.0748450249767256</li>\n",
       "\t<li>0.0600566770186023</li>\n",
       "\t<li>0.0438945134944275</li>\n",
       "\t<li>0.0315525312245176</li>\n",
       "\t<li>0.0144807956750174</li>\n",
       "\t<li>0.0106046765836943</li>\n",
       "\t<li>0.000813020719891001</li>\n",
       "</ol>\n"
      ],
      "text/latex": [
       "\\begin{enumerate}\n",
       "\\item 0.352380511842188\n",
       "\\item 0.217456403609481\n",
       "\\item 0.103562515262728\n",
       "\\item 0.0903533295927273\n",
       "\\item 0.0748450249767256\n",
       "\\item 0.0600566770186023\n",
       "\\item 0.0438945134944275\n",
       "\\item 0.0315525312245176\n",
       "\\item 0.0144807956750174\n",
       "\\item 0.0106046765836943\n",
       "\\item 0.000813020719891001\n",
       "\\end{enumerate}\n"
      ],
      "text/markdown": [
       "1. 0.352380511842188\n",
       "2. 0.217456403609481\n",
       "3. 0.103562515262728\n",
       "4. 0.0903533295927273\n",
       "5. 0.0748450249767256\n",
       "6. 0.0600566770186023\n",
       "7. 0.0438945134944275\n",
       "8. 0.0315525312245176\n",
       "9. 0.0144807956750174\n",
       "10. 0.0106046765836943\n",
       "11. 0.000813020719891001\n",
       "\n",
       "\n"
      ],
      "text/plain": [
       "[[1]]\n",
       "[1] 0.3523805\n",
       "\n",
       "[[2]]\n",
       "[1] 0.2174564\n",
       "\n",
       "[[3]]\n",
       "[1] 0.1035625\n",
       "\n",
       "[[4]]\n",
       "[1] 0.09035333\n",
       "\n",
       "[[5]]\n",
       "[1] 0.07484502\n",
       "\n",
       "[[6]]\n",
       "[1] 0.06005668\n",
       "\n",
       "[[7]]\n",
       "[1] 0.04389451\n",
       "\n",
       "[[8]]\n",
       "[1] 0.03155253\n",
       "\n",
       "[[9]]\n",
       "[1] 0.0144808\n",
       "\n",
       "[[10]]\n",
       "[1] 0.01060468\n",
       "\n",
       "[[11]]\n",
       "[1] 0.0008130207\n"
      ]
     },
     "metadata": {},
     "output_type": "display_data"
    }
   ],
   "source": [
    "percent_explained <- eigenvalues / sum(eigenvalues)\n",
    "as.list(percent_explained)"
   ]
  },
  {
   "cell_type": "code",
   "execution_count": 50,
   "metadata": {
    "vscode": {
     "languageId": "r"
    }
   },
   "outputs": [
    {
     "data": {
      "text/html": [
       "0.673399430714397"
      ],
      "text/latex": [
       "0.673399430714397"
      ],
      "text/markdown": [
       "0.673399430714397"
      ],
      "text/plain": [
       "[1] 0.6733994"
      ]
     },
     "metadata": {},
     "output_type": "display_data"
    },
    {
     "data": {
      "text/html": [
       "0.763752760307124"
      ],
      "text/latex": [
       "0.763752760307124"
      ],
      "text/markdown": [
       "0.763752760307124"
      ],
      "text/plain": [
       "[1] 0.7637528"
      ]
     },
     "metadata": {},
     "output_type": "display_data"
    }
   ],
   "source": [
    "sum(percent_explained[1:3])\n",
    "sum(percent_explained[1:4])"
   ]
  },
  {
   "attachments": {},
   "cell_type": "markdown",
   "metadata": {
    "slideshow": {
     "slide_type": "subslide"
    }
   },
   "source": [
    "### Use The Scores From PC1 As Index"
   ]
  },
  {
   "attachments": {},
   "cell_type": "markdown",
   "metadata": {
    "slideshow": {
     "slide_type": "subslide"
    }
   },
   "source": [
    "#### PC1 Eigenvector"
   ]
  },
  {
   "cell_type": "code",
   "execution_count": 63,
   "metadata": {
    "vscode": {
     "languageId": "r"
    }
   },
   "outputs": [
    {
     "data": {
      "text/html": [
       "<dl>\n",
       "\t<dt>$has_computer</dt>\n",
       "\t\t<dd>0.479197054162961</dd>\n",
       "\t<dt>$with_internet</dt>\n",
       "\t\t<dd>0.485117452192848</dd>\n",
       "\t<dt>$total_population</dt>\n",
       "\t\t<dd>0.451509476109241</dd>\n",
       "\t<dt>$work_from_home</dt>\n",
       "\t\t<dd>0.261107919649413</dd>\n",
       "\t<dt>$X65_and_older</dt>\n",
       "\t\t<dd>0.31626110500376</dd>\n",
       "\t<dt>$median_income</dt>\n",
       "\t\t<dd>0.0659385301224115</dd>\n",
       "\t<dt>$number_providers</dt>\n",
       "\t\t<dd>-0.139128135255786</dd>\n",
       "\t<dt>$mean_lowest_cost</dt>\n",
       "\t\t<dd>0.106616121524766</dd>\n",
       "\t<dt>$mean_d_mbps</dt>\n",
       "\t\t<dd>0.257821710907905</dd>\n",
       "\t<dt>$mean_u_mbps</dt>\n",
       "\t\t<dd>0.138505067319283</dd>\n",
       "\t<dt>$mean_lat_ms</dt>\n",
       "\t\t<dd>-0.205535369630475</dd>\n",
       "</dl>\n"
      ],
      "text/latex": [
       "\\begin{description}\n",
       "\\item[\\$has\\_computer] 0.479197054162961\n",
       "\\item[\\$with\\_internet] 0.485117452192848\n",
       "\\item[\\$total\\_population] 0.451509476109241\n",
       "\\item[\\$work\\_from\\_home] 0.261107919649413\n",
       "\\item[\\$X65\\_and\\_older] 0.31626110500376\n",
       "\\item[\\$median\\_income] 0.0659385301224115\n",
       "\\item[\\$number\\_providers] -0.139128135255786\n",
       "\\item[\\$mean\\_lowest\\_cost] 0.106616121524766\n",
       "\\item[\\$mean\\_d\\_mbps] 0.257821710907905\n",
       "\\item[\\$mean\\_u\\_mbps] 0.138505067319283\n",
       "\\item[\\$mean\\_lat\\_ms] -0.205535369630475\n",
       "\\end{description}\n"
      ],
      "text/markdown": [
       "$has_computer\n",
       ":   0.479197054162961\n",
       "$with_internet\n",
       ":   0.485117452192848\n",
       "$total_population\n",
       ":   0.451509476109241\n",
       "$work_from_home\n",
       ":   0.261107919649413\n",
       "$X65_and_older\n",
       ":   0.31626110500376\n",
       "$median_income\n",
       ":   0.0659385301224115\n",
       "$number_providers\n",
       ":   -0.139128135255786\n",
       "$mean_lowest_cost\n",
       ":   0.106616121524766\n",
       "$mean_d_mbps\n",
       ":   0.257821710907905\n",
       "$mean_u_mbps\n",
       ":   0.138505067319283\n",
       "$mean_lat_ms\n",
       ":   -0.205535369630475\n",
       "\n",
       "\n"
      ],
      "text/plain": [
       "$has_computer\n",
       "[1] 0.4791971\n",
       "\n",
       "$with_internet\n",
       "[1] 0.4851175\n",
       "\n",
       "$total_population\n",
       "[1] 0.4515095\n",
       "\n",
       "$work_from_home\n",
       "[1] 0.2611079\n",
       "\n",
       "$X65_and_older\n",
       "[1] 0.3162611\n",
       "\n",
       "$median_income\n",
       "[1] 0.06593853\n",
       "\n",
       "$number_providers\n",
       "[1] -0.1391281\n",
       "\n",
       "$mean_lowest_cost\n",
       "[1] 0.1066161\n",
       "\n",
       "$mean_d_mbps\n",
       "[1] 0.2578217\n",
       "\n",
       "$mean_u_mbps\n",
       "[1] 0.1385051\n",
       "\n",
       "$mean_lat_ms\n",
       "[1] -0.2055354\n"
      ]
     },
     "metadata": {},
     "output_type": "display_data"
    }
   ],
   "source": [
    "as.list(eigenvectors[, 1])"
   ]
  },
  {
   "attachments": {},
   "cell_type": "markdown",
   "metadata": {
    "slideshow": {
     "slide_type": "subslide"
    }
   },
   "source": [
    "#### Multiply PC1 by Scaled Data"
   ]
  },
  {
   "cell_type": "code",
   "execution_count": 64,
   "metadata": {
    "vscode": {
     "languageId": "r"
    }
   },
   "outputs": [
    {
     "data": {
      "text/html": [
       "<table class=\"dataframe\">\n",
       "<caption>A matrix: 6 × 1 of type dbl</caption>\n",
       "<tbody>\n",
       "\t<tr><td> 0.6888514</td></tr>\n",
       "\t<tr><td> 2.2299770</td></tr>\n",
       "\t<tr><td>-1.0941835</td></tr>\n",
       "\t<tr><td>-1.5527524</td></tr>\n",
       "\t<tr><td>-0.3418799</td></tr>\n",
       "\t<tr><td> 0.2972542</td></tr>\n",
       "</tbody>\n",
       "</table>\n"
      ],
      "text/latex": [
       "A matrix: 6 × 1 of type dbl\n",
       "\\begin{tabular}{l}\n",
       "\t  0.6888514\\\\\n",
       "\t  2.2299770\\\\\n",
       "\t -1.0941835\\\\\n",
       "\t -1.5527524\\\\\n",
       "\t -0.3418799\\\\\n",
       "\t  0.2972542\\\\\n",
       "\\end{tabular}\n"
      ],
      "text/markdown": [
       "\n",
       "A matrix: 6 × 1 of type dbl\n",
       "\n",
       "|  0.6888514 |\n",
       "|  2.2299770 |\n",
       "| -1.0941835 |\n",
       "| -1.5527524 |\n",
       "| -0.3418799 |\n",
       "|  0.2972542 |\n",
       "\n"
      ],
      "text/plain": [
       "     [,1]      \n",
       "[1,]  0.6888514\n",
       "[2,]  2.2299770\n",
       "[3,] -1.0941835\n",
       "[4,] -1.5527524\n",
       "[5,] -0.3418799\n",
       "[6,]  0.2972542"
      ]
     },
     "metadata": {},
     "output_type": "display_data"
    }
   ],
   "source": [
    "head(scaled_data %*% eigenvectors[, 1])"
   ]
  },
  {
   "attachments": {},
   "cell_type": "markdown",
   "metadata": {
    "slideshow": {
     "slide_type": "subslide"
    }
   },
   "source": [
    "#### We See That The Scores In PC1 Are The Same"
   ]
  },
  {
   "cell_type": "code",
   "execution_count": 81,
   "metadata": {
    "vscode": {
     "languageId": "r"
    }
   },
   "outputs": [
    {
     "data": {
      "text/html": [
       "<table class=\"dataframe\">\n",
       "<caption>A data.frame: 6 × 1</caption>\n",
       "<thead>\n",
       "\t<tr><th></th><th scope=col>index</th></tr>\n",
       "\t<tr><th></th><th scope=col>&lt;dbl&gt;</th></tr>\n",
       "</thead>\n",
       "<tbody>\n",
       "\t<tr><th scope=row>1</th><td> 0.6888514</td></tr>\n",
       "\t<tr><th scope=row>2</th><td> 2.2299770</td></tr>\n",
       "\t<tr><th scope=row>3</th><td>-1.0941835</td></tr>\n",
       "\t<tr><th scope=row>4</th><td>-1.5527524</td></tr>\n",
       "\t<tr><th scope=row>5</th><td>-0.3418799</td></tr>\n",
       "\t<tr><th scope=row>6</th><td> 0.2972542</td></tr>\n",
       "</tbody>\n",
       "</table>\n"
      ],
      "text/latex": [
       "A data.frame: 6 × 1\n",
       "\\begin{tabular}{r|l}\n",
       "  & index\\\\\n",
       "  & <dbl>\\\\\n",
       "\\hline\n",
       "\t1 &  0.6888514\\\\\n",
       "\t2 &  2.2299770\\\\\n",
       "\t3 & -1.0941835\\\\\n",
       "\t4 & -1.5527524\\\\\n",
       "\t5 & -0.3418799\\\\\n",
       "\t6 &  0.2972542\\\\\n",
       "\\end{tabular}\n"
      ],
      "text/markdown": [
       "\n",
       "A data.frame: 6 × 1\n",
       "\n",
       "| <!--/--> | index &lt;dbl&gt; |\n",
       "|---|---|\n",
       "| 1 |  0.6888514 |\n",
       "| 2 |  2.2299770 |\n",
       "| 3 | -1.0941835 |\n",
       "| 4 | -1.5527524 |\n",
       "| 5 | -0.3418799 |\n",
       "| 6 |  0.2972542 |\n",
       "\n"
      ],
      "text/plain": [
       "  index     \n",
       "1  0.6888514\n",
       "2  2.2299770\n",
       "3 -1.0941835\n",
       "4 -1.5527524\n",
       "5 -0.3418799\n",
       "6  0.2972542"
      ]
     },
     "metadata": {},
     "output_type": "display_data"
    }
   ],
   "source": [
    "index <- as.data.frame(-pca_data$x) %>%\n",
    "    select(PC1) %>% \n",
    "    rename(index = PC1)\n",
    "\n",
    "head(index)"
   ]
  },
  {
   "attachments": {},
   "cell_type": "markdown",
   "metadata": {
    "slideshow": {
     "slide_type": "subslide"
    }
   },
   "source": [
    "#### Append to DataFrame"
   ]
  },
  {
   "cell_type": "code",
   "execution_count": 83,
   "metadata": {
    "slideshow": {
     "slide_type": "fragment"
    },
    "vscode": {
     "languageId": "r"
    }
   },
   "outputs": [
    {
     "data": {
      "text/html": [
       "<table class=\"dataframe\">\n",
       "<caption>A data.frame: 6 × 12</caption>\n",
       "<thead>\n",
       "\t<tr><th></th><th scope=col>has_computer</th><th scope=col>with_internet</th><th scope=col>total_population</th><th scope=col>work_from_home</th><th scope=col>X65_and_older</th><th scope=col>median_income</th><th scope=col>number_providers</th><th scope=col>mean_lowest_cost</th><th scope=col>mean_d_mbps</th><th scope=col>mean_u_mbps</th><th scope=col>mean_lat_ms</th><th scope=col>index</th></tr>\n",
       "\t<tr><th></th><th scope=col>&lt;dbl&gt;</th><th scope=col>&lt;dbl&gt;</th><th scope=col>&lt;dbl&gt;</th><th scope=col>&lt;dbl&gt;</th><th scope=col>&lt;dbl&gt;</th><th scope=col>&lt;dbl&gt;</th><th scope=col>&lt;dbl&gt;</th><th scope=col>&lt;dbl&gt;</th><th scope=col>&lt;dbl&gt;</th><th scope=col>&lt;dbl&gt;</th><th scope=col>&lt;dbl&gt;</th><th scope=col>&lt;dbl&gt;</th></tr>\n",
       "</thead>\n",
       "<tbody>\n",
       "\t<tr><th scope=row>1</th><td> 0.50245011</td><td> 0.5167430</td><td> 0.41151922</td><td> 0.1292741</td><td> 2.23493253</td><td>0.07418486</td><td> 1.7094218</td><td>-0.18458632</td><td>-1.05913969</td><td> 0.2831385</td><td> 1.17991288</td><td> 0.6888514</td></tr>\n",
       "\t<tr><th scope=row>2</th><td> 0.88153598</td><td> 0.9194434</td><td> 0.72118268</td><td> 2.9303783</td><td> 2.28240921</td><td>0.07416551</td><td> 2.2108891</td><td> 0.41923513</td><td>-0.64056563</td><td>-0.4304467</td><td>-0.15416598</td><td> 2.2299770</td></tr>\n",
       "\t<tr><th scope=row>3</th><td>-0.19922325</td><td>-0.2714809</td><td>-0.07753548</td><td>-1.2814270</td><td>-0.74343819</td><td>0.07345717</td><td> 1.2079545</td><td> 0.39687137</td><td>-0.31447576</td><td>-0.2727836</td><td> 0.10962741</td><td>-1.0941835</td></tr>\n",
       "\t<tr><th scope=row>4</th><td>-0.81523778</td><td>-0.9413759</td><td>-0.87198242</td><td>-1.0480017</td><td> 0.05100501</td><td>0.07347137</td><td>-0.2964475</td><td> 1.12369349</td><td>-0.85523159</td><td>-0.4058615</td><td>-0.27548794</td><td>-1.5527524</td></tr>\n",
       "\t<tr><th scope=row>5</th><td>-0.07893639</td><td>-0.1913226</td><td>-0.16011240</td><td>-1.0784484</td><td> 0.01302366</td><td>0.07354973</td><td>-0.2964475</td><td> 1.12369349</td><td>-0.08992031</td><td>-0.4758288</td><td>-0.30026584</td><td>-0.3418799</td></tr>\n",
       "\t<tr><th scope=row>6</th><td> 0.28010167</td><td> 0.1789328</td><td> 0.10826259</td><td>-0.1751938</td><td> 0.88026444</td><td>0.07377917</td><td> 0.2050198</td><td> 0.07383932</td><td>-0.57834859</td><td>-0.4065058</td><td>-0.07734433</td><td> 0.2972542</td></tr>\n",
       "</tbody>\n",
       "</table>\n"
      ],
      "text/latex": [
       "A data.frame: 6 × 12\n",
       "\\begin{tabular}{r|llllllllllll}\n",
       "  & has\\_computer & with\\_internet & total\\_population & work\\_from\\_home & X65\\_and\\_older & median\\_income & number\\_providers & mean\\_lowest\\_cost & mean\\_d\\_mbps & mean\\_u\\_mbps & mean\\_lat\\_ms & index\\\\\n",
       "  & <dbl> & <dbl> & <dbl> & <dbl> & <dbl> & <dbl> & <dbl> & <dbl> & <dbl> & <dbl> & <dbl> & <dbl>\\\\\n",
       "\\hline\n",
       "\t1 &  0.50245011 &  0.5167430 &  0.41151922 &  0.1292741 &  2.23493253 & 0.07418486 &  1.7094218 & -0.18458632 & -1.05913969 &  0.2831385 &  1.17991288 &  0.6888514\\\\\n",
       "\t2 &  0.88153598 &  0.9194434 &  0.72118268 &  2.9303783 &  2.28240921 & 0.07416551 &  2.2108891 &  0.41923513 & -0.64056563 & -0.4304467 & -0.15416598 &  2.2299770\\\\\n",
       "\t3 & -0.19922325 & -0.2714809 & -0.07753548 & -1.2814270 & -0.74343819 & 0.07345717 &  1.2079545 &  0.39687137 & -0.31447576 & -0.2727836 &  0.10962741 & -1.0941835\\\\\n",
       "\t4 & -0.81523778 & -0.9413759 & -0.87198242 & -1.0480017 &  0.05100501 & 0.07347137 & -0.2964475 &  1.12369349 & -0.85523159 & -0.4058615 & -0.27548794 & -1.5527524\\\\\n",
       "\t5 & -0.07893639 & -0.1913226 & -0.16011240 & -1.0784484 &  0.01302366 & 0.07354973 & -0.2964475 &  1.12369349 & -0.08992031 & -0.4758288 & -0.30026584 & -0.3418799\\\\\n",
       "\t6 &  0.28010167 &  0.1789328 &  0.10826259 & -0.1751938 &  0.88026444 & 0.07377917 &  0.2050198 &  0.07383932 & -0.57834859 & -0.4065058 & -0.07734433 &  0.2972542\\\\\n",
       "\\end{tabular}\n"
      ],
      "text/markdown": [
       "\n",
       "A data.frame: 6 × 12\n",
       "\n",
       "| <!--/--> | has_computer &lt;dbl&gt; | with_internet &lt;dbl&gt; | total_population &lt;dbl&gt; | work_from_home &lt;dbl&gt; | X65_and_older &lt;dbl&gt; | median_income &lt;dbl&gt; | number_providers &lt;dbl&gt; | mean_lowest_cost &lt;dbl&gt; | mean_d_mbps &lt;dbl&gt; | mean_u_mbps &lt;dbl&gt; | mean_lat_ms &lt;dbl&gt; | index &lt;dbl&gt; |\n",
       "|---|---|---|---|---|---|---|---|---|---|---|---|---|\n",
       "| 1 |  0.50245011 |  0.5167430 |  0.41151922 |  0.1292741 |  2.23493253 | 0.07418486 |  1.7094218 | -0.18458632 | -1.05913969 |  0.2831385 |  1.17991288 |  0.6888514 |\n",
       "| 2 |  0.88153598 |  0.9194434 |  0.72118268 |  2.9303783 |  2.28240921 | 0.07416551 |  2.2108891 |  0.41923513 | -0.64056563 | -0.4304467 | -0.15416598 |  2.2299770 |\n",
       "| 3 | -0.19922325 | -0.2714809 | -0.07753548 | -1.2814270 | -0.74343819 | 0.07345717 |  1.2079545 |  0.39687137 | -0.31447576 | -0.2727836 |  0.10962741 | -1.0941835 |\n",
       "| 4 | -0.81523778 | -0.9413759 | -0.87198242 | -1.0480017 |  0.05100501 | 0.07347137 | -0.2964475 |  1.12369349 | -0.85523159 | -0.4058615 | -0.27548794 | -1.5527524 |\n",
       "| 5 | -0.07893639 | -0.1913226 | -0.16011240 | -1.0784484 |  0.01302366 | 0.07354973 | -0.2964475 |  1.12369349 | -0.08992031 | -0.4758288 | -0.30026584 | -0.3418799 |\n",
       "| 6 |  0.28010167 |  0.1789328 |  0.10826259 | -0.1751938 |  0.88026444 | 0.07377917 |  0.2050198 |  0.07383932 | -0.57834859 | -0.4065058 | -0.07734433 |  0.2972542 |\n",
       "\n"
      ],
      "text/plain": [
       "  has_computer with_internet total_population work_from_home X65_and_older\n",
       "1  0.50245011   0.5167430     0.41151922       0.1292741      2.23493253  \n",
       "2  0.88153598   0.9194434     0.72118268       2.9303783      2.28240921  \n",
       "3 -0.19922325  -0.2714809    -0.07753548      -1.2814270     -0.74343819  \n",
       "4 -0.81523778  -0.9413759    -0.87198242      -1.0480017      0.05100501  \n",
       "5 -0.07893639  -0.1913226    -0.16011240      -1.0784484      0.01302366  \n",
       "6  0.28010167   0.1789328     0.10826259      -0.1751938      0.88026444  \n",
       "  median_income number_providers mean_lowest_cost mean_d_mbps mean_u_mbps\n",
       "1 0.07418486     1.7094218       -0.18458632      -1.05913969  0.2831385 \n",
       "2 0.07416551     2.2108891        0.41923513      -0.64056563 -0.4304467 \n",
       "3 0.07345717     1.2079545        0.39687137      -0.31447576 -0.2727836 \n",
       "4 0.07347137    -0.2964475        1.12369349      -0.85523159 -0.4058615 \n",
       "5 0.07354973    -0.2964475        1.12369349      -0.08992031 -0.4758288 \n",
       "6 0.07377917     0.2050198        0.07383932      -0.57834859 -0.4065058 \n",
       "  mean_lat_ms index     \n",
       "1  1.17991288  0.6888514\n",
       "2 -0.15416598  2.2299770\n",
       "3  0.10962741 -1.0941835\n",
       "4 -0.27548794 -1.5527524\n",
       "5 -0.30026584 -0.3418799\n",
       "6 -0.07734433  0.2972542"
      ]
     },
     "metadata": {},
     "output_type": "display_data"
    }
   ],
   "source": [
    "index_data <- bind_cols(scaled_data, index)\n",
    "head(index_data)"
   ]
  },
  {
   "attachments": {},
   "cell_type": "markdown",
   "metadata": {
    "slideshow": {
     "slide_type": "subslide"
    }
   },
   "source": [
    "### Test The Index"
   ]
  },
  {
   "cell_type": "code",
   "execution_count": 84,
   "metadata": {
    "slideshow": {
     "slide_type": "fragment"
    },
    "vscode": {
     "languageId": "r"
    }
   },
   "outputs": [
    {
     "data": {
      "text/html": [
       "<dl>\n",
       "\t<dt>$has_computer</dt>\n",
       "\t\t<dd>0</dd>\n",
       "\t<dt>$with_internet</dt>\n",
       "\t\t<dd>0</dd>\n",
       "\t<dt>$total_population</dt>\n",
       "\t\t<dd>0</dd>\n",
       "\t<dt>$work_from_home</dt>\n",
       "\t\t<dd>0.0000000000000985878045867139</dd>\n",
       "\t<dt>$X65_and_older</dt>\n",
       "\t\t<dd>0</dd>\n",
       "\t<dt>$median_income</dt>\n",
       "\t\t<dd>0.0798497652907588</dd>\n",
       "\t<dt>$number_providers</dt>\n",
       "\t\t<dd>0.00017536412577579</dd>\n",
       "\t<dt>$mean_lowest_cost</dt>\n",
       "\t\t<dd>0.00434528427334024</dd>\n",
       "\t<dt>$mean_d_mbps</dt>\n",
       "\t\t<dd>0.000000000000223820961764432</dd>\n",
       "\t<dt>$mean_u_mbps</dt>\n",
       "\t\t<dd>0.000187997417102626</dd>\n",
       "\t<dt>$mean_lat_ms</dt>\n",
       "\t\t<dd>0.000000013351066696643</dd>\n",
       "\t<dt>$index</dt>\n",
       "\t\t<dd>&lt;NA&gt;</dd>\n",
       "</dl>\n"
      ],
      "text/latex": [
       "\\begin{description}\n",
       "\\item[\\$has\\_computer] 0\n",
       "\\item[\\$with\\_internet] 0\n",
       "\\item[\\$total\\_population] 0\n",
       "\\item[\\$work\\_from\\_home] 0.0000000000000985878045867139\n",
       "\\item[\\$X65\\_and\\_older] 0\n",
       "\\item[\\$median\\_income] 0.0798497652907588\n",
       "\\item[\\$number\\_providers] 0.00017536412577579\n",
       "\\item[\\$mean\\_lowest\\_cost] 0.00434528427334024\n",
       "\\item[\\$mean\\_d\\_mbps] 0.000000000000223820961764432\n",
       "\\item[\\$mean\\_u\\_mbps] 0.000187997417102626\n",
       "\\item[\\$mean\\_lat\\_ms] 0.000000013351066696643\n",
       "\\item[\\$index] <NA>\n",
       "\\end{description}\n"
      ],
      "text/markdown": [
       "$has_computer\n",
       ":   0\n",
       "$with_internet\n",
       ":   0\n",
       "$total_population\n",
       ":   0\n",
       "$work_from_home\n",
       ":   0.0000000000000985878045867139\n",
       "$X65_and_older\n",
       ":   0\n",
       "$median_income\n",
       ":   0.0798497652907588\n",
       "$number_providers\n",
       ":   0.00017536412577579\n",
       "$mean_lowest_cost\n",
       ":   0.00434528427334024\n",
       "$mean_d_mbps\n",
       ":   0.000000000000223820961764432\n",
       "$mean_u_mbps\n",
       ":   0.000187997417102626\n",
       "$mean_lat_ms\n",
       ":   0.000000013351066696643\n",
       "$index\n",
       ":   &lt;NA&gt;\n",
       "\n",
       "\n"
      ],
      "text/plain": [
       "$has_computer\n",
       "[1] 0\n",
       "\n",
       "$with_internet\n",
       "[1] 0\n",
       "\n",
       "$total_population\n",
       "[1] 0\n",
       "\n",
       "$work_from_home\n",
       "[1] 0.0000000000000985878\n",
       "\n",
       "$X65_and_older\n",
       "[1] 0\n",
       "\n",
       "$median_income\n",
       "[1] 0.07984977\n",
       "\n",
       "$number_providers\n",
       "[1] 0.0001753641\n",
       "\n",
       "$mean_lowest_cost\n",
       "[1] 0.004345284\n",
       "\n",
       "$mean_d_mbps\n",
       "[1] 0.000000000000223821\n",
       "\n",
       "$mean_u_mbps\n",
       "[1] 0.0001879974\n",
       "\n",
       "$mean_lat_ms\n",
       "[1] 0.00000001335107\n",
       "\n",
       "$index\n",
       "[1] NA\n"
      ]
     },
     "metadata": {},
     "output_type": "display_data"
    }
   ],
   "source": [
    "as.list(rcorr(as.matrix(index_data), type = \"pearson\")$P[,12])"
   ]
  },
  {
   "attachments": {},
   "cell_type": "markdown",
   "metadata": {
    "slideshow": {
     "slide_type": "subslide"
    }
   },
   "source": [
    "#### We remove variables with a p value greater than alpha of .05"
   ]
  },
  {
   "cell_type": "code",
   "execution_count": 85,
   "metadata": {
    "slideshow": {
     "slide_type": "fragment"
    },
    "vscode": {
     "languageId": "r"
    }
   },
   "outputs": [
    {
     "data": {
      "text/html": [
       "<table class=\"dataframe\">\n",
       "<caption>A matrix: 12 × 12 of type dbl</caption>\n",
       "<thead>\n",
       "\t<tr><th></th><th scope=col>has_computer</th><th scope=col>with_internet</th><th scope=col>total_population</th><th scope=col>work_from_home</th><th scope=col>X65_and_older</th><th scope=col>median_income</th><th scope=col>number_providers</th><th scope=col>mean_lowest_cost</th><th scope=col>mean_d_mbps</th><th scope=col>mean_u_mbps</th><th scope=col>mean_lat_ms</th><th scope=col>index</th></tr>\n",
       "</thead>\n",
       "<tbody>\n",
       "\t<tr><th scope=row>has_computer</th><td>               NA</td><td>0.0000000000000000</td><td>0.0000000000000000000000</td><td>0.0000000012988157216</td><td>0.0000000000000000000000</td><td>0.02755381</td><td>0.118292436762502007</td><td>0.142469388878</td><td>0.000025995933165657</td><td>0.007680971891602</td><td>0.0062836851041634</td><td>0.0000000000000000000</td></tr>\n",
       "\t<tr><th scope=row>with_internet</th><td>0.000000000000000</td><td>                NA</td><td>0.0000000000000000000000</td><td>0.0000000002997904147</td><td>0.0000000000000000000000</td><td>0.03006990</td><td>0.082203264746717686</td><td>0.065587150157</td><td>0.000001719724394889</td><td>0.006902898453880</td><td>0.0012541075067722</td><td>0.0000000000000000000</td></tr>\n",
       "\t<tr><th scope=row>total_population</th><td>0.000000000000000</td><td>0.0000000000000000</td><td>                      NA</td><td>0.0000000000312003756</td><td>0.0000000000000004440892</td><td>0.70183475</td><td>0.100551272738960584</td><td>0.339292030314</td><td>0.000234350069882705</td><td>0.023487314969218</td><td>0.0555524971855204</td><td>0.0000000000000000000</td></tr>\n",
       "\t<tr><th scope=row>work_from_home</th><td>0.000000001298816</td><td>0.0000000002997904</td><td>0.0000000000312003756164</td><td>                   NA</td><td>0.0000000453473543160499</td><td>0.62244972</td><td>0.692796119793770648</td><td>0.933508191298</td><td>0.672635578892659680</td><td>0.430093269468229</td><td>0.9085912323262459</td><td>0.0000000000000985878</td></tr>\n",
       "\t<tr><th scope=row>X65_and_older</th><td>0.000000000000000</td><td>0.0000000000000000</td><td>0.0000000000000004440892</td><td>0.0000000453473543160</td><td>                      NA</td><td>0.04477147</td><td>0.476702946467304045</td><td>0.497188268940</td><td>0.569411922064836595</td><td>0.022030156319832</td><td>0.1693793288053427</td><td>0.0000000000000000000</td></tr>\n",
       "\t<tr><th scope=row>median_income</th><td>0.027553811908482</td><td>0.0300698982044132</td><td>0.7018347511899820645453</td><td>0.6224497181702566273</td><td>0.0447714724648202722079</td><td>        NA</td><td>0.767570871280282230</td><td>0.469668921788</td><td>0.521089097196837159</td><td>0.807238517875172</td><td>0.4313383103711319</td><td>0.0798497652907588229</td></tr>\n",
       "\t<tr><th scope=row>number_providers</th><td>0.118292436762502</td><td>0.0822032647467177</td><td>0.1005512727389605842632</td><td>0.6927961197937706483</td><td>0.4767029464673040450862</td><td>0.76757087</td><td>                  NA</td><td>0.000005261423</td><td>0.000000000006029399</td><td>0.826929938720940</td><td>0.0000000002296336</td><td>0.0001753641257757899</td></tr>\n",
       "\t<tr><th scope=row>mean_lowest_cost</th><td>0.142469388877798</td><td>0.0655871501573895</td><td>0.3392920303139159710071</td><td>0.9335081912981513241</td><td>0.4971882689404691912927</td><td>0.46966892</td><td>0.000005261422731273</td><td>            NA</td><td>0.007630242115620911</td><td>0.256184957503357</td><td>0.0141555670114635</td><td>0.0043452842733402441</td></tr>\n",
       "\t<tr><th scope=row>mean_d_mbps</th><td>0.000025995933166</td><td>0.0000017197243949</td><td>0.0002343500698827050144</td><td>0.6726355788926596802</td><td>0.5694119220648365953252</td><td>0.52108910</td><td>0.000000000006029399</td><td>0.007630242116</td><td>                  NA</td><td>0.000000013665493</td><td>0.0000000000000000</td><td>0.0000000000002238210</td></tr>\n",
       "\t<tr><th scope=row>mean_u_mbps</th><td>0.007680971891602</td><td>0.0069028984538804</td><td>0.0234873149692178539993</td><td>0.4300932694682289004</td><td>0.0220301563198315175640</td><td>0.80723852</td><td>0.826929938720939672</td><td>0.256184957503</td><td>0.000000013665493181</td><td>               NA</td><td>0.0000000029104892</td><td>0.0001879974171026255</td></tr>\n",
       "\t<tr><th scope=row>mean_lat_ms</th><td>0.006283685104163</td><td>0.0012541075067722</td><td>0.0555524971855203553162</td><td>0.9085912323262459456</td><td>0.1693793288053426771000</td><td>0.43133831</td><td>0.000000000229633645</td><td>0.014155567011</td><td>0.000000000000000000</td><td>0.000000002910489</td><td>                NA</td><td>0.0000000133510666966</td></tr>\n",
       "\t<tr><th scope=row>index</th><td>0.000000000000000</td><td>0.0000000000000000</td><td>0.0000000000000000000000</td><td>0.0000000000000985878</td><td>0.0000000000000000000000</td><td>0.07984977</td><td>0.000175364125775790</td><td>0.004345284273</td><td>0.000000000000223821</td><td>0.000187997417103</td><td>0.0000000133510667</td><td>                   NA</td></tr>\n",
       "</tbody>\n",
       "</table>\n"
      ],
      "text/latex": [
       "A matrix: 12 × 12 of type dbl\n",
       "\\begin{tabular}{r|llllllllllll}\n",
       "  & has\\_computer & with\\_internet & total\\_population & work\\_from\\_home & X65\\_and\\_older & median\\_income & number\\_providers & mean\\_lowest\\_cost & mean\\_d\\_mbps & mean\\_u\\_mbps & mean\\_lat\\_ms & index\\\\\n",
       "\\hline\n",
       "\thas\\_computer &                NA & 0.0000000000000000 & 0.0000000000000000000000 & 0.0000000012988157216 & 0.0000000000000000000000 & 0.02755381 & 0.118292436762502007 & 0.142469388878 & 0.000025995933165657 & 0.007680971891602 & 0.0062836851041634 & 0.0000000000000000000\\\\\n",
       "\twith\\_internet & 0.000000000000000 &                 NA & 0.0000000000000000000000 & 0.0000000002997904147 & 0.0000000000000000000000 & 0.03006990 & 0.082203264746717686 & 0.065587150157 & 0.000001719724394889 & 0.006902898453880 & 0.0012541075067722 & 0.0000000000000000000\\\\\n",
       "\ttotal\\_population & 0.000000000000000 & 0.0000000000000000 &                       NA & 0.0000000000312003756 & 0.0000000000000004440892 & 0.70183475 & 0.100551272738960584 & 0.339292030314 & 0.000234350069882705 & 0.023487314969218 & 0.0555524971855204 & 0.0000000000000000000\\\\\n",
       "\twork\\_from\\_home & 0.000000001298816 & 0.0000000002997904 & 0.0000000000312003756164 &                    NA & 0.0000000453473543160499 & 0.62244972 & 0.692796119793770648 & 0.933508191298 & 0.672635578892659680 & 0.430093269468229 & 0.9085912323262459 & 0.0000000000000985878\\\\\n",
       "\tX65\\_and\\_older & 0.000000000000000 & 0.0000000000000000 & 0.0000000000000004440892 & 0.0000000453473543160 &                       NA & 0.04477147 & 0.476702946467304045 & 0.497188268940 & 0.569411922064836595 & 0.022030156319832 & 0.1693793288053427 & 0.0000000000000000000\\\\\n",
       "\tmedian\\_income & 0.027553811908482 & 0.0300698982044132 & 0.7018347511899820645453 & 0.6224497181702566273 & 0.0447714724648202722079 &         NA & 0.767570871280282230 & 0.469668921788 & 0.521089097196837159 & 0.807238517875172 & 0.4313383103711319 & 0.0798497652907588229\\\\\n",
       "\tnumber\\_providers & 0.118292436762502 & 0.0822032647467177 & 0.1005512727389605842632 & 0.6927961197937706483 & 0.4767029464673040450862 & 0.76757087 &                   NA & 0.000005261423 & 0.000000000006029399 & 0.826929938720940 & 0.0000000002296336 & 0.0001753641257757899\\\\\n",
       "\tmean\\_lowest\\_cost & 0.142469388877798 & 0.0655871501573895 & 0.3392920303139159710071 & 0.9335081912981513241 & 0.4971882689404691912927 & 0.46966892 & 0.000005261422731273 &             NA & 0.007630242115620911 & 0.256184957503357 & 0.0141555670114635 & 0.0043452842733402441\\\\\n",
       "\tmean\\_d\\_mbps & 0.000025995933166 & 0.0000017197243949 & 0.0002343500698827050144 & 0.6726355788926596802 & 0.5694119220648365953252 & 0.52108910 & 0.000000000006029399 & 0.007630242116 &                   NA & 0.000000013665493 & 0.0000000000000000 & 0.0000000000002238210\\\\\n",
       "\tmean\\_u\\_mbps & 0.007680971891602 & 0.0069028984538804 & 0.0234873149692178539993 & 0.4300932694682289004 & 0.0220301563198315175640 & 0.80723852 & 0.826929938720939672 & 0.256184957503 & 0.000000013665493181 &                NA & 0.0000000029104892 & 0.0001879974171026255\\\\\n",
       "\tmean\\_lat\\_ms & 0.006283685104163 & 0.0012541075067722 & 0.0555524971855203553162 & 0.9085912323262459456 & 0.1693793288053426771000 & 0.43133831 & 0.000000000229633645 & 0.014155567011 & 0.000000000000000000 & 0.000000002910489 &                 NA & 0.0000000133510666966\\\\\n",
       "\tindex & 0.000000000000000 & 0.0000000000000000 & 0.0000000000000000000000 & 0.0000000000000985878 & 0.0000000000000000000000 & 0.07984977 & 0.000175364125775790 & 0.004345284273 & 0.000000000000223821 & 0.000187997417103 & 0.0000000133510667 &                    NA\\\\\n",
       "\\end{tabular}\n"
      ],
      "text/markdown": [
       "\n",
       "A matrix: 12 × 12 of type dbl\n",
       "\n",
       "| <!--/--> | has_computer | with_internet | total_population | work_from_home | X65_and_older | median_income | number_providers | mean_lowest_cost | mean_d_mbps | mean_u_mbps | mean_lat_ms | index |\n",
       "|---|---|---|---|---|---|---|---|---|---|---|---|---|\n",
       "| has_computer |                NA | 0.0000000000000000 | 0.0000000000000000000000 | 0.0000000012988157216 | 0.0000000000000000000000 | 0.02755381 | 0.118292436762502007 | 0.142469388878 | 0.000025995933165657 | 0.007680971891602 | 0.0062836851041634 | 0.0000000000000000000 |\n",
       "| with_internet | 0.000000000000000 |                 NA | 0.0000000000000000000000 | 0.0000000002997904147 | 0.0000000000000000000000 | 0.03006990 | 0.082203264746717686 | 0.065587150157 | 0.000001719724394889 | 0.006902898453880 | 0.0012541075067722 | 0.0000000000000000000 |\n",
       "| total_population | 0.000000000000000 | 0.0000000000000000 |                       NA | 0.0000000000312003756 | 0.0000000000000004440892 | 0.70183475 | 0.100551272738960584 | 0.339292030314 | 0.000234350069882705 | 0.023487314969218 | 0.0555524971855204 | 0.0000000000000000000 |\n",
       "| work_from_home | 0.000000001298816 | 0.0000000002997904 | 0.0000000000312003756164 |                    NA | 0.0000000453473543160499 | 0.62244972 | 0.692796119793770648 | 0.933508191298 | 0.672635578892659680 | 0.430093269468229 | 0.9085912323262459 | 0.0000000000000985878 |\n",
       "| X65_and_older | 0.000000000000000 | 0.0000000000000000 | 0.0000000000000004440892 | 0.0000000453473543160 |                       NA | 0.04477147 | 0.476702946467304045 | 0.497188268940 | 0.569411922064836595 | 0.022030156319832 | 0.1693793288053427 | 0.0000000000000000000 |\n",
       "| median_income | 0.027553811908482 | 0.0300698982044132 | 0.7018347511899820645453 | 0.6224497181702566273 | 0.0447714724648202722079 |         NA | 0.767570871280282230 | 0.469668921788 | 0.521089097196837159 | 0.807238517875172 | 0.4313383103711319 | 0.0798497652907588229 |\n",
       "| number_providers | 0.118292436762502 | 0.0822032647467177 | 0.1005512727389605842632 | 0.6927961197937706483 | 0.4767029464673040450862 | 0.76757087 |                   NA | 0.000005261423 | 0.000000000006029399 | 0.826929938720940 | 0.0000000002296336 | 0.0001753641257757899 |\n",
       "| mean_lowest_cost | 0.142469388877798 | 0.0655871501573895 | 0.3392920303139159710071 | 0.9335081912981513241 | 0.4971882689404691912927 | 0.46966892 | 0.000005261422731273 |             NA | 0.007630242115620911 | 0.256184957503357 | 0.0141555670114635 | 0.0043452842733402441 |\n",
       "| mean_d_mbps | 0.000025995933166 | 0.0000017197243949 | 0.0002343500698827050144 | 0.6726355788926596802 | 0.5694119220648365953252 | 0.52108910 | 0.000000000006029399 | 0.007630242116 |                   NA | 0.000000013665493 | 0.0000000000000000 | 0.0000000000002238210 |\n",
       "| mean_u_mbps | 0.007680971891602 | 0.0069028984538804 | 0.0234873149692178539993 | 0.4300932694682289004 | 0.0220301563198315175640 | 0.80723852 | 0.826929938720939672 | 0.256184957503 | 0.000000013665493181 |                NA | 0.0000000029104892 | 0.0001879974171026255 |\n",
       "| mean_lat_ms | 0.006283685104163 | 0.0012541075067722 | 0.0555524971855203553162 | 0.9085912323262459456 | 0.1693793288053426771000 | 0.43133831 | 0.000000000229633645 | 0.014155567011 | 0.000000000000000000 | 0.000000002910489 |                 NA | 0.0000000133510666966 |\n",
       "| index | 0.000000000000000 | 0.0000000000000000 | 0.0000000000000000000000 | 0.0000000000000985878 | 0.0000000000000000000000 | 0.07984977 | 0.000175364125775790 | 0.004345284273 | 0.000000000000223821 | 0.000187997417103 | 0.0000000133510667 |                    NA |\n",
       "\n"
      ],
      "text/plain": [
       "                 has_computer      with_internet      total_population        \n",
       "has_computer                    NA 0.0000000000000000 0.0000000000000000000000\n",
       "with_internet    0.000000000000000                 NA 0.0000000000000000000000\n",
       "total_population 0.000000000000000 0.0000000000000000                       NA\n",
       "work_from_home   0.000000001298816 0.0000000002997904 0.0000000000312003756164\n",
       "X65_and_older    0.000000000000000 0.0000000000000000 0.0000000000000004440892\n",
       "median_income    0.027553811908482 0.0300698982044132 0.7018347511899820645453\n",
       "number_providers 0.118292436762502 0.0822032647467177 0.1005512727389605842632\n",
       "mean_lowest_cost 0.142469388877798 0.0655871501573895 0.3392920303139159710071\n",
       "mean_d_mbps      0.000025995933166 0.0000017197243949 0.0002343500698827050144\n",
       "mean_u_mbps      0.007680971891602 0.0069028984538804 0.0234873149692178539993\n",
       "mean_lat_ms      0.006283685104163 0.0012541075067722 0.0555524971855203553162\n",
       "index            0.000000000000000 0.0000000000000000 0.0000000000000000000000\n",
       "                 work_from_home        X65_and_older            median_income\n",
       "has_computer     0.0000000012988157216 0.0000000000000000000000 0.02755381   \n",
       "with_internet    0.0000000002997904147 0.0000000000000000000000 0.03006990   \n",
       "total_population 0.0000000000312003756 0.0000000000000004440892 0.70183475   \n",
       "work_from_home                      NA 0.0000000453473543160499 0.62244972   \n",
       "X65_and_older    0.0000000453473543160                       NA 0.04477147   \n",
       "median_income    0.6224497181702566273 0.0447714724648202722079         NA   \n",
       "number_providers 0.6927961197937706483 0.4767029464673040450862 0.76757087   \n",
       "mean_lowest_cost 0.9335081912981513241 0.4971882689404691912927 0.46966892   \n",
       "mean_d_mbps      0.6726355788926596802 0.5694119220648365953252 0.52108910   \n",
       "mean_u_mbps      0.4300932694682289004 0.0220301563198315175640 0.80723852   \n",
       "mean_lat_ms      0.9085912323262459456 0.1693793288053426771000 0.43133831   \n",
       "index            0.0000000000000985878 0.0000000000000000000000 0.07984977   \n",
       "                 number_providers     mean_lowest_cost mean_d_mbps         \n",
       "has_computer     0.118292436762502007 0.142469388878   0.000025995933165657\n",
       "with_internet    0.082203264746717686 0.065587150157   0.000001719724394889\n",
       "total_population 0.100551272738960584 0.339292030314   0.000234350069882705\n",
       "work_from_home   0.692796119793770648 0.933508191298   0.672635578892659680\n",
       "X65_and_older    0.476702946467304045 0.497188268940   0.569411922064836595\n",
       "median_income    0.767570871280282230 0.469668921788   0.521089097196837159\n",
       "number_providers                   NA 0.000005261423   0.000000000006029399\n",
       "mean_lowest_cost 0.000005261422731273             NA   0.007630242115620911\n",
       "mean_d_mbps      0.000000000006029399 0.007630242116                     NA\n",
       "mean_u_mbps      0.826929938720939672 0.256184957503   0.000000013665493181\n",
       "mean_lat_ms      0.000000000229633645 0.014155567011   0.000000000000000000\n",
       "index            0.000175364125775790 0.004345284273   0.000000000000223821\n",
       "                 mean_u_mbps       mean_lat_ms        index                \n",
       "has_computer     0.007680971891602 0.0062836851041634 0.0000000000000000000\n",
       "with_internet    0.006902898453880 0.0012541075067722 0.0000000000000000000\n",
       "total_population 0.023487314969218 0.0555524971855204 0.0000000000000000000\n",
       "work_from_home   0.430093269468229 0.9085912323262459 0.0000000000000985878\n",
       "X65_and_older    0.022030156319832 0.1693793288053427 0.0000000000000000000\n",
       "median_income    0.807238517875172 0.4313383103711319 0.0798497652907588229\n",
       "number_providers 0.826929938720940 0.0000000002296336 0.0001753641257757899\n",
       "mean_lowest_cost 0.256184957503357 0.0141555670114635 0.0043452842733402441\n",
       "mean_d_mbps      0.000000013665493 0.0000000000000000 0.0000000000002238210\n",
       "mean_u_mbps                     NA 0.0000000029104892 0.0001879974171026255\n",
       "mean_lat_ms      0.000000002910489                 NA 0.0000000133510666966\n",
       "index            0.000187997417103 0.0000000133510667                    NA"
      ]
     },
     "metadata": {},
     "output_type": "display_data"
    }
   ],
   "source": [
    "rcorr(as.matrix(index_data), type = \"pearson\")$P"
   ]
  },
  {
   "cell_type": "code",
   "execution_count": 107,
   "metadata": {
    "vscode": {
     "languageId": "r"
    }
   },
   "outputs": [
    {
     "data": {
      "text/html": [
       "<table class=\"dataframe\">\n",
       "<caption>A matrix: 12 × 12 of type dbl</caption>\n",
       "<thead>\n",
       "\t<tr><th></th><th scope=col>has_computer</th><th scope=col>with_internet</th><th scope=col>total_population</th><th scope=col>work_from_home</th><th scope=col>X65_and_older</th><th scope=col>median_income</th><th scope=col>number_providers</th><th scope=col>mean_lowest_cost</th><th scope=col>mean_d_mbps</th><th scope=col>mean_u_mbps</th><th scope=col>mean_lat_ms</th><th scope=col>index</th></tr>\n",
       "</thead>\n",
       "<tbody>\n",
       "\t<tr><th scope=row>has_computer</th><td> 1.0000000</td><td> 0.9894358</td><td> 0.88769674</td><td> 0.429532198</td><td> 0.63073622</td><td> 0.16291986</td><td>-0.11586967</td><td> 0.10884185</td><td> 0.30554032</td><td> 0.19648189</td><td>-0.201306736</td><td> 0.9434446</td></tr>\n",
       "\t<tr><th scope=row>with_internet</th><td> 0.9894358</td><td> 1.0000000</td><td> 0.88409177</td><td> 0.444207496</td><td> 0.62529208</td><td> 0.16040888</td><td>-0.12882664</td><td> 0.13640579</td><td> 0.34507339</td><td> 0.19906151</td><td>-0.236716631</td><td> 0.9551007</td></tr>\n",
       "\t<tr><th scope=row>total_population</th><td> 0.8876967</td><td> 0.8840918</td><td> 1.00000000</td><td> 0.465567411</td><td> 0.55262306</td><td> 0.02849018</td><td>-0.12177616</td><td> 0.07103486</td><td> 0.26876416</td><td> 0.16742756</td><td>-0.141781841</td><td> 0.8889333</td></tr>\n",
       "\t<tr><th scope=row>work_from_home</th><td> 0.4295322</td><td> 0.4442075</td><td> 0.46556741</td><td> 1.000000000</td><td> 0.39074417</td><td> 0.03663670</td><td> 0.02939906</td><td>-0.00620995</td><td> 0.03144231</td><td>-0.05867872</td><td> 0.008545821</td><td> 0.5140701</td></tr>\n",
       "\t<tr><th scope=row>X65_and_older</th><td> 0.6307362</td><td> 0.6252921</td><td> 0.55262306</td><td> 0.390744170</td><td> 1.00000000</td><td> 0.14854040</td><td> 0.05292992</td><td> 0.05050125</td><td>-0.04232679</td><td>-0.16920740</td><td> 0.102017655</td><td> 0.6226558</td></tr>\n",
       "\t<tr><th scope=row>median_income</th><td> 0.1629199</td><td> 0.1604089</td><td> 0.02849018</td><td> 0.036636701</td><td> 0.14854040</td><td> 1.00000000</td><td> 0.02199604</td><td>-0.05377681</td><td>-0.04773346</td><td>-0.01815921</td><td> 0.058520706</td><td> 0.1298200</td></tr>\n",
       "\t<tr><th scope=row>number_providers</th><td>-0.1158697</td><td>-0.1288266</td><td>-0.12177616</td><td> 0.029399058</td><td> 0.05292992</td><td> 0.02199604</td><td> 1.00000000</td><td>-0.32945829</td><td>-0.48020798</td><td>-0.01627282</td><td> 0.446802457</td><td>-0.2739159</td></tr>\n",
       "\t<tr><th scope=row>mean_lowest_cost</th><td> 0.1088418</td><td> 0.1364058</td><td> 0.07103486</td><td>-0.006209950</td><td> 0.05050125</td><td>-0.05377681</td><td>-0.32945829</td><td> 1.00000000</td><td> 0.19664282</td><td> 0.08436356</td><td>-0.181091388</td><td> 0.2099062</td></tr>\n",
       "\t<tr><th scope=row>mean_d_mbps</th><td> 0.3055403</td><td> 0.3450734</td><td> 0.26876416</td><td> 0.031442306</td><td>-0.04232679</td><td>-0.04773346</td><td>-0.48020798</td><td> 0.19664282</td><td> 1.00000000</td><td> 0.40439966</td><td>-0.831561029</td><td> 0.5076002</td></tr>\n",
       "\t<tr><th scope=row>mean_u_mbps</th><td> 0.1964819</td><td> 0.1990615</td><td> 0.16742756</td><td>-0.058678724</td><td>-0.16920740</td><td>-0.01815921</td><td>-0.01627282</td><td> 0.08436356</td><td> 0.40439966</td><td> 1.00000000</td><td>-0.421146282</td><td> 0.2726892</td></tr>\n",
       "\t<tr><th scope=row>mean_lat_ms</th><td>-0.2013067</td><td>-0.2367166</td><td>-0.14178184</td><td> 0.008545821</td><td> 0.10201766</td><td> 0.05852071</td><td> 0.44680246</td><td>-0.18109139</td><td>-0.83156103</td><td>-0.42114628</td><td> 1.000000000</td><td>-0.4046587</td></tr>\n",
       "\t<tr><th scope=row>index</th><td> 0.9434446</td><td> 0.9551007</td><td> 0.88893325</td><td> 0.514070081</td><td> 0.62265584</td><td> 0.12981998</td><td>-0.27391590</td><td> 0.20990615</td><td> 0.50760018</td><td> 0.27268921</td><td>-0.404658672</td><td> 1.0000000</td></tr>\n",
       "</tbody>\n",
       "</table>\n"
      ],
      "text/latex": [
       "A matrix: 12 × 12 of type dbl\n",
       "\\begin{tabular}{r|llllllllllll}\n",
       "  & has\\_computer & with\\_internet & total\\_population & work\\_from\\_home & X65\\_and\\_older & median\\_income & number\\_providers & mean\\_lowest\\_cost & mean\\_d\\_mbps & mean\\_u\\_mbps & mean\\_lat\\_ms & index\\\\\n",
       "\\hline\n",
       "\thas\\_computer &  1.0000000 &  0.9894358 &  0.88769674 &  0.429532198 &  0.63073622 &  0.16291986 & -0.11586967 &  0.10884185 &  0.30554032 &  0.19648189 & -0.201306736 &  0.9434446\\\\\n",
       "\twith\\_internet &  0.9894358 &  1.0000000 &  0.88409177 &  0.444207496 &  0.62529208 &  0.16040888 & -0.12882664 &  0.13640579 &  0.34507339 &  0.19906151 & -0.236716631 &  0.9551007\\\\\n",
       "\ttotal\\_population &  0.8876967 &  0.8840918 &  1.00000000 &  0.465567411 &  0.55262306 &  0.02849018 & -0.12177616 &  0.07103486 &  0.26876416 &  0.16742756 & -0.141781841 &  0.8889333\\\\\n",
       "\twork\\_from\\_home &  0.4295322 &  0.4442075 &  0.46556741 &  1.000000000 &  0.39074417 &  0.03663670 &  0.02939906 & -0.00620995 &  0.03144231 & -0.05867872 &  0.008545821 &  0.5140701\\\\\n",
       "\tX65\\_and\\_older &  0.6307362 &  0.6252921 &  0.55262306 &  0.390744170 &  1.00000000 &  0.14854040 &  0.05292992 &  0.05050125 & -0.04232679 & -0.16920740 &  0.102017655 &  0.6226558\\\\\n",
       "\tmedian\\_income &  0.1629199 &  0.1604089 &  0.02849018 &  0.036636701 &  0.14854040 &  1.00000000 &  0.02199604 & -0.05377681 & -0.04773346 & -0.01815921 &  0.058520706 &  0.1298200\\\\\n",
       "\tnumber\\_providers & -0.1158697 & -0.1288266 & -0.12177616 &  0.029399058 &  0.05292992 &  0.02199604 &  1.00000000 & -0.32945829 & -0.48020798 & -0.01627282 &  0.446802457 & -0.2739159\\\\\n",
       "\tmean\\_lowest\\_cost &  0.1088418 &  0.1364058 &  0.07103486 & -0.006209950 &  0.05050125 & -0.05377681 & -0.32945829 &  1.00000000 &  0.19664282 &  0.08436356 & -0.181091388 &  0.2099062\\\\\n",
       "\tmean\\_d\\_mbps &  0.3055403 &  0.3450734 &  0.26876416 &  0.031442306 & -0.04232679 & -0.04773346 & -0.48020798 &  0.19664282 &  1.00000000 &  0.40439966 & -0.831561029 &  0.5076002\\\\\n",
       "\tmean\\_u\\_mbps &  0.1964819 &  0.1990615 &  0.16742756 & -0.058678724 & -0.16920740 & -0.01815921 & -0.01627282 &  0.08436356 &  0.40439966 &  1.00000000 & -0.421146282 &  0.2726892\\\\\n",
       "\tmean\\_lat\\_ms & -0.2013067 & -0.2367166 & -0.14178184 &  0.008545821 &  0.10201766 &  0.05852071 &  0.44680246 & -0.18109139 & -0.83156103 & -0.42114628 &  1.000000000 & -0.4046587\\\\\n",
       "\tindex &  0.9434446 &  0.9551007 &  0.88893325 &  0.514070081 &  0.62265584 &  0.12981998 & -0.27391590 &  0.20990615 &  0.50760018 &  0.27268921 & -0.404658672 &  1.0000000\\\\\n",
       "\\end{tabular}\n"
      ],
      "text/markdown": [
       "\n",
       "A matrix: 12 × 12 of type dbl\n",
       "\n",
       "| <!--/--> | has_computer | with_internet | total_population | work_from_home | X65_and_older | median_income | number_providers | mean_lowest_cost | mean_d_mbps | mean_u_mbps | mean_lat_ms | index |\n",
       "|---|---|---|---|---|---|---|---|---|---|---|---|---|\n",
       "| has_computer |  1.0000000 |  0.9894358 |  0.88769674 |  0.429532198 |  0.63073622 |  0.16291986 | -0.11586967 |  0.10884185 |  0.30554032 |  0.19648189 | -0.201306736 |  0.9434446 |\n",
       "| with_internet |  0.9894358 |  1.0000000 |  0.88409177 |  0.444207496 |  0.62529208 |  0.16040888 | -0.12882664 |  0.13640579 |  0.34507339 |  0.19906151 | -0.236716631 |  0.9551007 |\n",
       "| total_population |  0.8876967 |  0.8840918 |  1.00000000 |  0.465567411 |  0.55262306 |  0.02849018 | -0.12177616 |  0.07103486 |  0.26876416 |  0.16742756 | -0.141781841 |  0.8889333 |\n",
       "| work_from_home |  0.4295322 |  0.4442075 |  0.46556741 |  1.000000000 |  0.39074417 |  0.03663670 |  0.02939906 | -0.00620995 |  0.03144231 | -0.05867872 |  0.008545821 |  0.5140701 |\n",
       "| X65_and_older |  0.6307362 |  0.6252921 |  0.55262306 |  0.390744170 |  1.00000000 |  0.14854040 |  0.05292992 |  0.05050125 | -0.04232679 | -0.16920740 |  0.102017655 |  0.6226558 |\n",
       "| median_income |  0.1629199 |  0.1604089 |  0.02849018 |  0.036636701 |  0.14854040 |  1.00000000 |  0.02199604 | -0.05377681 | -0.04773346 | -0.01815921 |  0.058520706 |  0.1298200 |\n",
       "| number_providers | -0.1158697 | -0.1288266 | -0.12177616 |  0.029399058 |  0.05292992 |  0.02199604 |  1.00000000 | -0.32945829 | -0.48020798 | -0.01627282 |  0.446802457 | -0.2739159 |\n",
       "| mean_lowest_cost |  0.1088418 |  0.1364058 |  0.07103486 | -0.006209950 |  0.05050125 | -0.05377681 | -0.32945829 |  1.00000000 |  0.19664282 |  0.08436356 | -0.181091388 |  0.2099062 |\n",
       "| mean_d_mbps |  0.3055403 |  0.3450734 |  0.26876416 |  0.031442306 | -0.04232679 | -0.04773346 | -0.48020798 |  0.19664282 |  1.00000000 |  0.40439966 | -0.831561029 |  0.5076002 |\n",
       "| mean_u_mbps |  0.1964819 |  0.1990615 |  0.16742756 | -0.058678724 | -0.16920740 | -0.01815921 | -0.01627282 |  0.08436356 |  0.40439966 |  1.00000000 | -0.421146282 |  0.2726892 |\n",
       "| mean_lat_ms | -0.2013067 | -0.2367166 | -0.14178184 |  0.008545821 |  0.10201766 |  0.05852071 |  0.44680246 | -0.18109139 | -0.83156103 | -0.42114628 |  1.000000000 | -0.4046587 |\n",
       "| index |  0.9434446 |  0.9551007 |  0.88893325 |  0.514070081 |  0.62265584 |  0.12981998 | -0.27391590 |  0.20990615 |  0.50760018 |  0.27268921 | -0.404658672 |  1.0000000 |\n",
       "\n"
      ],
      "text/plain": [
       "                 has_computer with_internet total_population work_from_home\n",
       "has_computer      1.0000000    0.9894358     0.88769674       0.429532198  \n",
       "with_internet     0.9894358    1.0000000     0.88409177       0.444207496  \n",
       "total_population  0.8876967    0.8840918     1.00000000       0.465567411  \n",
       "work_from_home    0.4295322    0.4442075     0.46556741       1.000000000  \n",
       "X65_and_older     0.6307362    0.6252921     0.55262306       0.390744170  \n",
       "median_income     0.1629199    0.1604089     0.02849018       0.036636701  \n",
       "number_providers -0.1158697   -0.1288266    -0.12177616       0.029399058  \n",
       "mean_lowest_cost  0.1088418    0.1364058     0.07103486      -0.006209950  \n",
       "mean_d_mbps       0.3055403    0.3450734     0.26876416       0.031442306  \n",
       "mean_u_mbps       0.1964819    0.1990615     0.16742756      -0.058678724  \n",
       "mean_lat_ms      -0.2013067   -0.2367166    -0.14178184       0.008545821  \n",
       "index             0.9434446    0.9551007     0.88893325       0.514070081  \n",
       "                 X65_and_older median_income number_providers mean_lowest_cost\n",
       "has_computer      0.63073622    0.16291986   -0.11586967       0.10884185     \n",
       "with_internet     0.62529208    0.16040888   -0.12882664       0.13640579     \n",
       "total_population  0.55262306    0.02849018   -0.12177616       0.07103486     \n",
       "work_from_home    0.39074417    0.03663670    0.02939906      -0.00620995     \n",
       "X65_and_older     1.00000000    0.14854040    0.05292992       0.05050125     \n",
       "median_income     0.14854040    1.00000000    0.02199604      -0.05377681     \n",
       "number_providers  0.05292992    0.02199604    1.00000000      -0.32945829     \n",
       "mean_lowest_cost  0.05050125   -0.05377681   -0.32945829       1.00000000     \n",
       "mean_d_mbps      -0.04232679   -0.04773346   -0.48020798       0.19664282     \n",
       "mean_u_mbps      -0.16920740   -0.01815921   -0.01627282       0.08436356     \n",
       "mean_lat_ms       0.10201766    0.05852071    0.44680246      -0.18109139     \n",
       "index             0.62265584    0.12981998   -0.27391590       0.20990615     \n",
       "                 mean_d_mbps mean_u_mbps mean_lat_ms  index     \n",
       "has_computer      0.30554032  0.19648189 -0.201306736  0.9434446\n",
       "with_internet     0.34507339  0.19906151 -0.236716631  0.9551007\n",
       "total_population  0.26876416  0.16742756 -0.141781841  0.8889333\n",
       "work_from_home    0.03144231 -0.05867872  0.008545821  0.5140701\n",
       "X65_and_older    -0.04232679 -0.16920740  0.102017655  0.6226558\n",
       "median_income    -0.04773346 -0.01815921  0.058520706  0.1298200\n",
       "number_providers -0.48020798 -0.01627282  0.446802457 -0.2739159\n",
       "mean_lowest_cost  0.19664282  0.08436356 -0.181091388  0.2099062\n",
       "mean_d_mbps       1.00000000  0.40439966 -0.831561029  0.5076002\n",
       "mean_u_mbps       0.40439966  1.00000000 -0.421146282  0.2726892\n",
       "mean_lat_ms      -0.83156103 -0.42114628  1.000000000 -0.4046587\n",
       "index             0.50760018  0.27268921 -0.404658672  1.0000000"
      ]
     },
     "metadata": {},
     "output_type": "display_data"
    }
   ],
   "source": [
    "rcorr(as.matrix(index_data), type = \"pearson\")$r"
   ]
  },
  {
   "cell_type": "code",
   "execution_count": 160,
   "metadata": {
    "slideshow": {
     "slide_type": "subslide"
    },
    "vscode": {
     "languageId": "r"
    }
   },
   "outputs": [],
   "source": [
    "data1.2 <- data %>% select(-median_income)\n",
    "scaled_data1.2 <- scale(data1.2)"
   ]
  },
  {
   "attachments": {},
   "cell_type": "markdown",
   "metadata": {
    "slideshow": {
     "slide_type": "subslide"
    }
   },
   "source": [
    "#### Check To See if The Data Are Good"
   ]
  },
  {
   "attachments": {},
   "cell_type": "markdown",
   "metadata": {},
   "source": [
    "MSA closer to 1 are good. Overall MSA >= .6 means to proceed"
   ]
  },
  {
   "cell_type": "code",
   "execution_count": 161,
   "metadata": {
    "slideshow": {
     "slide_type": "fragment"
    },
    "vscode": {
     "languageId": "r"
    }
   },
   "outputs": [
    {
     "data": {
      "text/plain": [
       "Kaiser-Meyer-Olkin factor adequacy\n",
       "Call: KMO(r = data1.2)\n",
       "Overall MSA =  0.75\n",
       "MSA for each item = \n",
       "    has_computer    with_internet total_population   work_from_home \n",
       "            0.71             0.72             0.95             0.87 \n",
       "   X65_and_older number_providers mean_lowest_cost      mean_d_mbps \n",
       "            0.91             0.67             0.55             0.69 \n",
       "     mean_u_mbps      mean_lat_ms \n",
       "            0.65             0.68 "
      ]
     },
     "metadata": {},
     "output_type": "display_data"
    }
   ],
   "source": [
    "KMO(data1.2)"
   ]
  },
  {
   "cell_type": "code",
   "execution_count": 162,
   "metadata": {
    "slideshow": {
     "slide_type": "fragment"
    },
    "vscode": {
     "languageId": "r"
    }
   },
   "outputs": [
    {
     "data": {
      "text/html": [
       "<dl>\n",
       "\t<dt>$chisq</dt>\n",
       "\t\t<dd>1533.55750958988</dd>\n",
       "\t<dt>$p.value</dt>\n",
       "\t\t<dd>0.000000000000000000000000000000000000000000000000000000000000000000000000000000000000000000000000000000000000000000000000000000000000000000000000000000000000000000000000000000000000000000000000000000000000000000000000000000000000000000000000000000000000000000000000000000000000000000000000000444499390298393</dd>\n",
       "\t<dt>$df</dt>\n",
       "\t\t<dd>45</dd>\n",
       "</dl>\n"
      ],
      "text/latex": [
       "\\begin{description}\n",
       "\\item[\\$chisq] 1533.55750958988\n",
       "\\item[\\$p.value] 0.000000000000000000000000000000000000000000000000000000000000000000000000000000000000000000000000000000000000000000000000000000000000000000000000000000000000000000000000000000000000000000000000000000000000000000000000000000000000000000000000000000000000000000000000000000000000000000000000000444499390298393\n",
       "\\item[\\$df] 45\n",
       "\\end{description}\n"
      ],
      "text/markdown": [
       "$chisq\n",
       ":   1533.55750958988\n",
       "$p.value\n",
       ":   0.000000000000000000000000000000000000000000000000000000000000000000000000000000000000000000000000000000000000000000000000000000000000000000000000000000000000000000000000000000000000000000000000000000000000000000000000000000000000000000000000000000000000000000000000000000000000000000000000000444499390298393\n",
       "$df\n",
       ":   45\n",
       "\n",
       "\n"
      ],
      "text/plain": [
       "$chisq\n",
       "[1] 1533.558\n",
       "\n",
       "$p.value\n",
       "[1] 0.0000000000000000000000000000000000000000000000000000000000000000000000000000000000000000000000000000000000000000000000000000000000000000000000000000000000000000000000000000000000000000000000000000000000000000000000000000000000000000000000000000000000000000000000000000000000000000000000000004444994\n",
       "\n",
       "$df\n",
       "[1] 45\n"
      ]
     },
     "metadata": {},
     "output_type": "display_data"
    }
   ],
   "source": [
    "cortest.bartlett(cov(scaled_data1.2), 183)"
   ]
  },
  {
   "attachments": {},
   "cell_type": "markdown",
   "metadata": {
    "slideshow": {
     "slide_type": "subslide"
    }
   },
   "source": [
    "### Redo PCA with New Data"
   ]
  },
  {
   "cell_type": "code",
   "execution_count": 163,
   "metadata": {
    "vscode": {
     "languageId": "r"
    }
   },
   "outputs": [],
   "source": [
    "pca_data1.2 <- prcomp(data1.2, scale = TRUE, center = TRUE)\n",
    "eigenvectors1.2 <- -pca_data1.2$rotation\n",
    "eigenvalues1.2 <- pca_data1.2$sdev^2\n",
    "\n",
    "index1.2 <- as.data.frame(-pca_data1.2$x) %>%\n",
    "    select(PC1) %>%\n",
    "    rename(index = PC1)\n",
    "\n",
    "index_data1.2 <- bind_cols(scaled_data1.2, index1.2)"
   ]
  },
  {
   "cell_type": "code",
   "execution_count": 164,
   "metadata": {
    "slideshow": {
     "slide_type": "fragment"
    },
    "vscode": {
     "languageId": "r"
    }
   },
   "outputs": [
    {
     "data": {
      "text/html": [
       "<table class=\"dataframe\">\n",
       "<caption>A data.frame: 6 × 11</caption>\n",
       "<thead>\n",
       "\t<tr><th></th><th scope=col>has_computer</th><th scope=col>with_internet</th><th scope=col>total_population</th><th scope=col>work_from_home</th><th scope=col>X65_and_older</th><th scope=col>number_providers</th><th scope=col>mean_lowest_cost</th><th scope=col>mean_d_mbps</th><th scope=col>mean_u_mbps</th><th scope=col>mean_lat_ms</th><th scope=col>index</th></tr>\n",
       "\t<tr><th></th><th scope=col>&lt;dbl&gt;</th><th scope=col>&lt;dbl&gt;</th><th scope=col>&lt;dbl&gt;</th><th scope=col>&lt;dbl&gt;</th><th scope=col>&lt;dbl&gt;</th><th scope=col>&lt;dbl&gt;</th><th scope=col>&lt;dbl&gt;</th><th scope=col>&lt;dbl&gt;</th><th scope=col>&lt;dbl&gt;</th><th scope=col>&lt;dbl&gt;</th><th scope=col>&lt;dbl&gt;</th></tr>\n",
       "</thead>\n",
       "<tbody>\n",
       "\t<tr><th scope=row>1</th><td> 0.50245011</td><td> 0.5167430</td><td> 0.41151922</td><td> 0.1292741</td><td> 2.23493253</td><td> 1.7094218</td><td>-0.18458632</td><td>-1.05913969</td><td> 0.2831385</td><td> 1.17991288</td><td> 0.6628607</td></tr>\n",
       "\t<tr><th scope=row>2</th><td> 0.88153598</td><td> 0.9194434</td><td> 0.72118268</td><td> 2.9303783</td><td> 2.28240921</td><td> 2.2108891</td><td> 0.41923513</td><td>-0.64056563</td><td>-0.4304467</td><td>-0.15416598</td><td> 2.2095890</td></tr>\n",
       "\t<tr><th scope=row>3</th><td>-0.19922325</td><td>-0.2714809</td><td>-0.07753548</td><td>-1.2814270</td><td>-0.74343819</td><td> 1.2079545</td><td> 0.39687137</td><td>-0.31447576</td><td>-0.2727836</td><td> 0.10962741</td><td>-1.1018270</td></tr>\n",
       "\t<tr><th scope=row>4</th><td>-0.81523778</td><td>-0.9413759</td><td>-0.87198242</td><td>-1.0480017</td><td> 0.05100501</td><td>-0.2964475</td><td> 1.12369349</td><td>-0.85523159</td><td>-0.4058615</td><td>-0.27548794</td><td>-1.5571455</td></tr>\n",
       "\t<tr><th scope=row>5</th><td>-0.07893639</td><td>-0.1913226</td><td>-0.16011240</td><td>-1.0784484</td><td> 0.01302366</td><td>-0.2964475</td><td> 1.12369349</td><td>-0.08992031</td><td>-0.4758288</td><td>-0.30026584</td><td>-0.3430116</td></tr>\n",
       "\t<tr><th scope=row>6</th><td> 0.28010167</td><td> 0.1789328</td><td> 0.10826259</td><td>-0.1751938</td><td> 0.88026444</td><td> 0.2050198</td><td> 0.07383932</td><td>-0.57834859</td><td>-0.4065058</td><td>-0.07734433</td><td> 0.2861899</td></tr>\n",
       "</tbody>\n",
       "</table>\n"
      ],
      "text/latex": [
       "A data.frame: 6 × 11\n",
       "\\begin{tabular}{r|lllllllllll}\n",
       "  & has\\_computer & with\\_internet & total\\_population & work\\_from\\_home & X65\\_and\\_older & number\\_providers & mean\\_lowest\\_cost & mean\\_d\\_mbps & mean\\_u\\_mbps & mean\\_lat\\_ms & index\\\\\n",
       "  & <dbl> & <dbl> & <dbl> & <dbl> & <dbl> & <dbl> & <dbl> & <dbl> & <dbl> & <dbl> & <dbl>\\\\\n",
       "\\hline\n",
       "\t1 &  0.50245011 &  0.5167430 &  0.41151922 &  0.1292741 &  2.23493253 &  1.7094218 & -0.18458632 & -1.05913969 &  0.2831385 &  1.17991288 &  0.6628607\\\\\n",
       "\t2 &  0.88153598 &  0.9194434 &  0.72118268 &  2.9303783 &  2.28240921 &  2.2108891 &  0.41923513 & -0.64056563 & -0.4304467 & -0.15416598 &  2.2095890\\\\\n",
       "\t3 & -0.19922325 & -0.2714809 & -0.07753548 & -1.2814270 & -0.74343819 &  1.2079545 &  0.39687137 & -0.31447576 & -0.2727836 &  0.10962741 & -1.1018270\\\\\n",
       "\t4 & -0.81523778 & -0.9413759 & -0.87198242 & -1.0480017 &  0.05100501 & -0.2964475 &  1.12369349 & -0.85523159 & -0.4058615 & -0.27548794 & -1.5571455\\\\\n",
       "\t5 & -0.07893639 & -0.1913226 & -0.16011240 & -1.0784484 &  0.01302366 & -0.2964475 &  1.12369349 & -0.08992031 & -0.4758288 & -0.30026584 & -0.3430116\\\\\n",
       "\t6 &  0.28010167 &  0.1789328 &  0.10826259 & -0.1751938 &  0.88026444 &  0.2050198 &  0.07383932 & -0.57834859 & -0.4065058 & -0.07734433 &  0.2861899\\\\\n",
       "\\end{tabular}\n"
      ],
      "text/markdown": [
       "\n",
       "A data.frame: 6 × 11\n",
       "\n",
       "| <!--/--> | has_computer &lt;dbl&gt; | with_internet &lt;dbl&gt; | total_population &lt;dbl&gt; | work_from_home &lt;dbl&gt; | X65_and_older &lt;dbl&gt; | number_providers &lt;dbl&gt; | mean_lowest_cost &lt;dbl&gt; | mean_d_mbps &lt;dbl&gt; | mean_u_mbps &lt;dbl&gt; | mean_lat_ms &lt;dbl&gt; | index &lt;dbl&gt; |\n",
       "|---|---|---|---|---|---|---|---|---|---|---|---|\n",
       "| 1 |  0.50245011 |  0.5167430 |  0.41151922 |  0.1292741 |  2.23493253 |  1.7094218 | -0.18458632 | -1.05913969 |  0.2831385 |  1.17991288 |  0.6628607 |\n",
       "| 2 |  0.88153598 |  0.9194434 |  0.72118268 |  2.9303783 |  2.28240921 |  2.2108891 |  0.41923513 | -0.64056563 | -0.4304467 | -0.15416598 |  2.2095890 |\n",
       "| 3 | -0.19922325 | -0.2714809 | -0.07753548 | -1.2814270 | -0.74343819 |  1.2079545 |  0.39687137 | -0.31447576 | -0.2727836 |  0.10962741 | -1.1018270 |\n",
       "| 4 | -0.81523778 | -0.9413759 | -0.87198242 | -1.0480017 |  0.05100501 | -0.2964475 |  1.12369349 | -0.85523159 | -0.4058615 | -0.27548794 | -1.5571455 |\n",
       "| 5 | -0.07893639 | -0.1913226 | -0.16011240 | -1.0784484 |  0.01302366 | -0.2964475 |  1.12369349 | -0.08992031 | -0.4758288 | -0.30026584 | -0.3430116 |\n",
       "| 6 |  0.28010167 |  0.1789328 |  0.10826259 | -0.1751938 |  0.88026444 |  0.2050198 |  0.07383932 | -0.57834859 | -0.4065058 | -0.07734433 |  0.2861899 |\n",
       "\n"
      ],
      "text/plain": [
       "  has_computer with_internet total_population work_from_home X65_and_older\n",
       "1  0.50245011   0.5167430     0.41151922       0.1292741      2.23493253  \n",
       "2  0.88153598   0.9194434     0.72118268       2.9303783      2.28240921  \n",
       "3 -0.19922325  -0.2714809    -0.07753548      -1.2814270     -0.74343819  \n",
       "4 -0.81523778  -0.9413759    -0.87198242      -1.0480017      0.05100501  \n",
       "5 -0.07893639  -0.1913226    -0.16011240      -1.0784484      0.01302366  \n",
       "6  0.28010167   0.1789328     0.10826259      -0.1751938      0.88026444  \n",
       "  number_providers mean_lowest_cost mean_d_mbps mean_u_mbps mean_lat_ms\n",
       "1  1.7094218       -0.18458632      -1.05913969  0.2831385   1.17991288\n",
       "2  2.2108891        0.41923513      -0.64056563 -0.4304467  -0.15416598\n",
       "3  1.2079545        0.39687137      -0.31447576 -0.2727836   0.10962741\n",
       "4 -0.2964475        1.12369349      -0.85523159 -0.4058615  -0.27548794\n",
       "5 -0.2964475        1.12369349      -0.08992031 -0.4758288  -0.30026584\n",
       "6  0.2050198        0.07383932      -0.57834859 -0.4065058  -0.07734433\n",
       "  index     \n",
       "1  0.6628607\n",
       "2  2.2095890\n",
       "3 -1.1018270\n",
       "4 -1.5571455\n",
       "5 -0.3430116\n",
       "6  0.2861899"
      ]
     },
     "metadata": {},
     "output_type": "display_data"
    }
   ],
   "source": [
    "head(index_data1.2)"
   ]
  },
  {
   "attachments": {},
   "cell_type": "markdown",
   "metadata": {
    "slideshow": {
     "slide_type": "slide"
    }
   },
   "source": [
    "## Calculate The Final Coefficients with Stepwise Regression"
   ]
  },
  {
   "attachments": {},
   "cell_type": "markdown",
   "metadata": {
    "slideshow": {
     "slide_type": "subslide"
    }
   },
   "source": [
    "### Create Models"
   ]
  },
  {
   "cell_type": "code",
   "execution_count": 165,
   "metadata": {
    "vscode": {
     "languageId": "r"
    }
   },
   "outputs": [
    {
     "name": "stderr",
     "output_type": "stream",
     "text": [
      "Warning message:\n",
      "“attempting model selection on an essentially perfect fit is nonsense”\n",
      "Warning message:\n",
      "“attempting model selection on an essentially perfect fit is nonsense”\n",
      "Warning message:\n",
      "“attempting model selection on an essentially perfect fit is nonsense”\n",
      "Warning message:\n",
      "“attempting model selection on an essentially perfect fit is nonsense”\n"
     ]
    }
   ],
   "source": [
    "# https://www.statology.org/stepwise-regression-r/\n",
    "intercept <- lm(index ~ 1, index_data1.2)\n",
    "lm_data <- lm(index ~ ., index_data1.2)\n",
    "\n",
    "forward <- step(intercept, direction = \"forward\", scope = formula(lm_data), trace = 0)\n",
    "backward <- step(lm_data, direction = \"backward\", scope = formula(lm_data), trace = 0)\n",
    "both <- step(intercept, direction = \"both\", scope = formula(lm_data), trace = 0)\n",
    "\n",
    "forward_bic <- step(intercept, direction = \"forward\", scope = formula(lm_data), trace = 0, k = log(nrow(index_data2)))\n",
    "backward_bic <- step(lm_data, direction = \"backward\", scope = formula(lm_data), trace = 0, k = log(nrow(index_data2)))\n",
    "both_bic <- step(intercept, direction = \"both\", scope = formula(lm_data), trace = 0, k = log(nrow(index_data2)))"
   ]
  },
  {
   "attachments": {},
   "cell_type": "markdown",
   "metadata": {
    "slideshow": {
     "slide_type": "subslide"
    }
   },
   "source": [
    "#### Forwards Stepwise"
   ]
  },
  {
   "cell_type": "code",
   "execution_count": 135,
   "metadata": {
    "vscode": {
     "languageId": "r"
    }
   },
   "outputs": [
    {
     "data": {
      "text/html": [
       "<table class=\"dataframe\">\n",
       "<caption>A data.frame: 11 × 6</caption>\n",
       "<thead>\n",
       "\t<tr><th scope=col>Step</th><th scope=col>Df</th><th scope=col>Deviance</th><th scope=col>Resid. Df</th><th scope=col>Resid. Dev</th><th scope=col>AIC</th></tr>\n",
       "\t<tr><th scope=col>&lt;I&lt;chr&gt;&gt;</th><th scope=col>&lt;dbl&gt;</th><th scope=col>&lt;dbl&gt;</th><th scope=col>&lt;dbl&gt;</th><th scope=col>&lt;dbl&gt;</th><th scope=col>&lt;dbl&gt;</th></tr>\n",
       "</thead>\n",
       "<tbody>\n",
       "\t<tr><td>                  </td><td>NA</td><td>         NA</td><td>182</td><td>703.20098621800843829987570643424987793</td><td>   251.5561</td></tr>\n",
       "\t<tr><td>+ with_internet   </td><td>-1</td><td>637.5479317</td><td>181</td><td> 65.65305450550512489371612900868058205</td><td>  -177.1747</td></tr>\n",
       "\t<tr><td>+ mean_d_mbps     </td><td>-1</td><td> 27.9735433</td><td>180</td><td> 37.67951116380591258803178789094090462</td><td>  -273.5792</td></tr>\n",
       "\t<tr><td>+ work_from_home  </td><td>-1</td><td> 12.0184712</td><td>179</td><td> 25.66103994550458722301300440449267626</td><td>  -338.6678</td></tr>\n",
       "\t<tr><td>+ total_population</td><td>-1</td><td>  7.0349847</td><td>178</td><td> 18.62605519741248727427773701492697001</td><td>  -392.0938</td></tr>\n",
       "\t<tr><td>+ X65_and_older   </td><td>-1</td><td>  6.2928412</td><td>177</td><td> 12.33321403238071489738558739190921187</td><td>  -462.3289</td></tr>\n",
       "\t<tr><td>+ mean_lat_ms     </td><td>-1</td><td>  4.1275863</td><td>176</td><td>  8.20562772852354882502368127461522818</td><td>  -531.6875</td></tr>\n",
       "\t<tr><td>+ mean_lowest_cost</td><td>-1</td><td>  3.1482264</td><td>175</td><td>  5.05740130314562819080492772627621889</td><td>  -615.0440</td></tr>\n",
       "\t<tr><td>+ mean_u_mbps     </td><td>-1</td><td>  1.6553191</td><td>174</td><td>  3.40208220439476161089942252147011459</td><td>  -682.3876</td></tr>\n",
       "\t<tr><td>+ number_providers</td><td>-1</td><td>  2.6653434</td><td>173</td><td>  0.73673879259798624730137817095965147</td><td>  -957.1516</td></tr>\n",
       "\t<tr><td>+ has_computer    </td><td>-1</td><td>  0.7367388</td><td>172</td><td>  0.00000000000000000000000000004067449</td><td>-12859.0988</td></tr>\n",
       "</tbody>\n",
       "</table>\n"
      ],
      "text/latex": [
       "A data.frame: 11 × 6\n",
       "\\begin{tabular}{llllll}\n",
       " Step & Df & Deviance & Resid. Df & Resid. Dev & AIC\\\\\n",
       " <I<chr>> & <dbl> & <dbl> & <dbl> & <dbl> & <dbl>\\\\\n",
       "\\hline\n",
       "\t                    & NA &          NA & 182 & 703.20098621800843829987570643424987793 &    251.5561\\\\\n",
       "\t + with\\_internet    & -1 & 637.5479317 & 181 &  65.65305450550512489371612900868058205 &   -177.1747\\\\\n",
       "\t + mean\\_d\\_mbps      & -1 &  27.9735433 & 180 &  37.67951116380591258803178789094090462 &   -273.5792\\\\\n",
       "\t + work\\_from\\_home   & -1 &  12.0184712 & 179 &  25.66103994550458722301300440449267626 &   -338.6678\\\\\n",
       "\t + total\\_population & -1 &   7.0349847 & 178 &  18.62605519741248727427773701492697001 &   -392.0938\\\\\n",
       "\t + X65\\_and\\_older    & -1 &   6.2928412 & 177 &  12.33321403238071489738558739190921187 &   -462.3289\\\\\n",
       "\t + mean\\_lat\\_ms      & -1 &   4.1275863 & 176 &   8.20562772852354882502368127461522818 &   -531.6875\\\\\n",
       "\t + mean\\_lowest\\_cost & -1 &   3.1482264 & 175 &   5.05740130314562819080492772627621889 &   -615.0440\\\\\n",
       "\t + mean\\_u\\_mbps      & -1 &   1.6553191 & 174 &   3.40208220439476161089942252147011459 &   -682.3876\\\\\n",
       "\t + number\\_providers & -1 &   2.6653434 & 173 &   0.73673879259798624730137817095965147 &   -957.1516\\\\\n",
       "\t + has\\_computer     & -1 &   0.7367388 & 172 &   0.00000000000000000000000000004067449 & -12859.0988\\\\\n",
       "\\end{tabular}\n"
      ],
      "text/markdown": [
       "\n",
       "A data.frame: 11 × 6\n",
       "\n",
       "| Step &lt;I&lt;chr&gt;&gt; | Df &lt;dbl&gt; | Deviance &lt;dbl&gt; | Resid. Df &lt;dbl&gt; | Resid. Dev &lt;dbl&gt; | AIC &lt;dbl&gt; |\n",
       "|---|---|---|---|---|---|\n",
       "| <!----> | NA |          NA | 182 | 703.20098621800843829987570643424987793 |    251.5561 |\n",
       "| + with_internet    | -1 | 637.5479317 | 181 |  65.65305450550512489371612900868058205 |   -177.1747 |\n",
       "| + mean_d_mbps      | -1 |  27.9735433 | 180 |  37.67951116380591258803178789094090462 |   -273.5792 |\n",
       "| + work_from_home   | -1 |  12.0184712 | 179 |  25.66103994550458722301300440449267626 |   -338.6678 |\n",
       "| + total_population | -1 |   7.0349847 | 178 |  18.62605519741248727427773701492697001 |   -392.0938 |\n",
       "| + X65_and_older    | -1 |   6.2928412 | 177 |  12.33321403238071489738558739190921187 |   -462.3289 |\n",
       "| + mean_lat_ms      | -1 |   4.1275863 | 176 |   8.20562772852354882502368127461522818 |   -531.6875 |\n",
       "| + mean_lowest_cost | -1 |   3.1482264 | 175 |   5.05740130314562819080492772627621889 |   -615.0440 |\n",
       "| + mean_u_mbps      | -1 |   1.6553191 | 174 |   3.40208220439476161089942252147011459 |   -682.3876 |\n",
       "| + number_providers | -1 |   2.6653434 | 173 |   0.73673879259798624730137817095965147 |   -957.1516 |\n",
       "| + has_computer     | -1 |   0.7367388 | 172 |   0.00000000000000000000000000004067449 | -12859.0988 |\n",
       "\n"
      ],
      "text/plain": [
       "   Step               Df Deviance    Resid. Df\n",
       "1                     NA          NA 182      \n",
       "2  + with_internet    -1 637.5479317 181      \n",
       "3  + mean_d_mbps      -1  27.9735433 180      \n",
       "4  + work_from_home   -1  12.0184712 179      \n",
       "5  + total_population -1   7.0349847 178      \n",
       "6  + X65_and_older    -1   6.2928412 177      \n",
       "7  + mean_lat_ms      -1   4.1275863 176      \n",
       "8  + mean_lowest_cost -1   3.1482264 175      \n",
       "9  + mean_u_mbps      -1   1.6553191 174      \n",
       "10 + number_providers -1   2.6653434 173      \n",
       "11 + has_computer     -1   0.7367388 172      \n",
       "   Resid. Dev                              AIC        \n",
       "1  703.20098621800843829987570643424987793    251.5561\n",
       "2   65.65305450550512489371612900868058205   -177.1747\n",
       "3   37.67951116380591258803178789094090462   -273.5792\n",
       "4   25.66103994550458722301300440449267626   -338.6678\n",
       "5   18.62605519741248727427773701492697001   -392.0938\n",
       "6   12.33321403238071489738558739190921187   -462.3289\n",
       "7    8.20562772852354882502368127461522818   -531.6875\n",
       "8    5.05740130314562819080492772627621889   -615.0440\n",
       "9    3.40208220439476161089942252147011459   -682.3876\n",
       "10   0.73673879259798624730137817095965147   -957.1516\n",
       "11   0.00000000000000000000000000004067449 -12859.0988"
      ]
     },
     "metadata": {},
     "output_type": "display_data"
    }
   ],
   "source": [
    "forward$anova"
   ]
  },
  {
   "cell_type": "code",
   "execution_count": 142,
   "metadata": {
    "slideshow": {
     "slide_type": "subslide"
    },
    "vscode": {
     "languageId": "r"
    }
   },
   "outputs": [
    {
     "data": {
      "text/html": [
       "<table class=\"dataframe\">\n",
       "<caption>A data.frame: 11 × 6</caption>\n",
       "<thead>\n",
       "\t<tr><th scope=col>Step</th><th scope=col>Df</th><th scope=col>Deviance</th><th scope=col>Resid. Df</th><th scope=col>Resid. Dev</th><th scope=col>AIC</th></tr>\n",
       "\t<tr><th scope=col>&lt;I&lt;chr&gt;&gt;</th><th scope=col>&lt;dbl&gt;</th><th scope=col>&lt;dbl&gt;</th><th scope=col>&lt;dbl&gt;</th><th scope=col>&lt;dbl&gt;</th><th scope=col>&lt;dbl&gt;</th></tr>\n",
       "</thead>\n",
       "<tbody>\n",
       "\t<tr><td>                  </td><td>NA</td><td>         NA</td><td>182</td><td>703.20098621800843829987570643424987793</td><td>   251.5561</td></tr>\n",
       "\t<tr><td>+ with_internet   </td><td>-1</td><td>637.5479317</td><td>181</td><td> 65.65305450550512489371612900868058205</td><td>  -177.1747</td></tr>\n",
       "\t<tr><td>+ mean_d_mbps     </td><td>-1</td><td> 27.9735433</td><td>180</td><td> 37.67951116380591258803178789094090462</td><td>  -273.5792</td></tr>\n",
       "\t<tr><td>+ work_from_home  </td><td>-1</td><td> 12.0184712</td><td>179</td><td> 25.66103994550458722301300440449267626</td><td>  -338.6678</td></tr>\n",
       "\t<tr><td>+ total_population</td><td>-1</td><td>  7.0349847</td><td>178</td><td> 18.62605519741248727427773701492697001</td><td>  -392.0938</td></tr>\n",
       "\t<tr><td>+ X65_and_older   </td><td>-1</td><td>  6.2928412</td><td>177</td><td> 12.33321403238071489738558739190921187</td><td>  -462.3289</td></tr>\n",
       "\t<tr><td>+ mean_lat_ms     </td><td>-1</td><td>  4.1275863</td><td>176</td><td>  8.20562772852354882502368127461522818</td><td>  -531.6875</td></tr>\n",
       "\t<tr><td>+ mean_lowest_cost</td><td>-1</td><td>  3.1482264</td><td>175</td><td>  5.05740130314562819080492772627621889</td><td>  -615.0440</td></tr>\n",
       "\t<tr><td>+ mean_u_mbps     </td><td>-1</td><td>  1.6553191</td><td>174</td><td>  3.40208220439476161089942252147011459</td><td>  -682.3876</td></tr>\n",
       "\t<tr><td>+ number_providers</td><td>-1</td><td>  2.6653434</td><td>173</td><td>  0.73673879259798624730137817095965147</td><td>  -957.1516</td></tr>\n",
       "\t<tr><td>+ has_computer    </td><td>-1</td><td>  0.7367388</td><td>172</td><td>  0.00000000000000000000000000004067449</td><td>-12859.0988</td></tr>\n",
       "</tbody>\n",
       "</table>\n"
      ],
      "text/latex": [
       "A data.frame: 11 × 6\n",
       "\\begin{tabular}{llllll}\n",
       " Step & Df & Deviance & Resid. Df & Resid. Dev & AIC\\\\\n",
       " <I<chr>> & <dbl> & <dbl> & <dbl> & <dbl> & <dbl>\\\\\n",
       "\\hline\n",
       "\t                    & NA &          NA & 182 & 703.20098621800843829987570643424987793 &    251.5561\\\\\n",
       "\t + with\\_internet    & -1 & 637.5479317 & 181 &  65.65305450550512489371612900868058205 &   -177.1747\\\\\n",
       "\t + mean\\_d\\_mbps      & -1 &  27.9735433 & 180 &  37.67951116380591258803178789094090462 &   -273.5792\\\\\n",
       "\t + work\\_from\\_home   & -1 &  12.0184712 & 179 &  25.66103994550458722301300440449267626 &   -338.6678\\\\\n",
       "\t + total\\_population & -1 &   7.0349847 & 178 &  18.62605519741248727427773701492697001 &   -392.0938\\\\\n",
       "\t + X65\\_and\\_older    & -1 &   6.2928412 & 177 &  12.33321403238071489738558739190921187 &   -462.3289\\\\\n",
       "\t + mean\\_lat\\_ms      & -1 &   4.1275863 & 176 &   8.20562772852354882502368127461522818 &   -531.6875\\\\\n",
       "\t + mean\\_lowest\\_cost & -1 &   3.1482264 & 175 &   5.05740130314562819080492772627621889 &   -615.0440\\\\\n",
       "\t + mean\\_u\\_mbps      & -1 &   1.6553191 & 174 &   3.40208220439476161089942252147011459 &   -682.3876\\\\\n",
       "\t + number\\_providers & -1 &   2.6653434 & 173 &   0.73673879259798624730137817095965147 &   -957.1516\\\\\n",
       "\t + has\\_computer     & -1 &   0.7367388 & 172 &   0.00000000000000000000000000004067449 & -12859.0988\\\\\n",
       "\\end{tabular}\n"
      ],
      "text/markdown": [
       "\n",
       "A data.frame: 11 × 6\n",
       "\n",
       "| Step &lt;I&lt;chr&gt;&gt; | Df &lt;dbl&gt; | Deviance &lt;dbl&gt; | Resid. Df &lt;dbl&gt; | Resid. Dev &lt;dbl&gt; | AIC &lt;dbl&gt; |\n",
       "|---|---|---|---|---|---|\n",
       "| <!----> | NA |          NA | 182 | 703.20098621800843829987570643424987793 |    251.5561 |\n",
       "| + with_internet    | -1 | 637.5479317 | 181 |  65.65305450550512489371612900868058205 |   -177.1747 |\n",
       "| + mean_d_mbps      | -1 |  27.9735433 | 180 |  37.67951116380591258803178789094090462 |   -273.5792 |\n",
       "| + work_from_home   | -1 |  12.0184712 | 179 |  25.66103994550458722301300440449267626 |   -338.6678 |\n",
       "| + total_population | -1 |   7.0349847 | 178 |  18.62605519741248727427773701492697001 |   -392.0938 |\n",
       "| + X65_and_older    | -1 |   6.2928412 | 177 |  12.33321403238071489738558739190921187 |   -462.3289 |\n",
       "| + mean_lat_ms      | -1 |   4.1275863 | 176 |   8.20562772852354882502368127461522818 |   -531.6875 |\n",
       "| + mean_lowest_cost | -1 |   3.1482264 | 175 |   5.05740130314562819080492772627621889 |   -615.0440 |\n",
       "| + mean_u_mbps      | -1 |   1.6553191 | 174 |   3.40208220439476161089942252147011459 |   -682.3876 |\n",
       "| + number_providers | -1 |   2.6653434 | 173 |   0.73673879259798624730137817095965147 |   -957.1516 |\n",
       "| + has_computer     | -1 |   0.7367388 | 172 |   0.00000000000000000000000000004067449 | -12859.0988 |\n",
       "\n"
      ],
      "text/plain": [
       "   Step               Df Deviance    Resid. Df\n",
       "1                     NA          NA 182      \n",
       "2  + with_internet    -1 637.5479317 181      \n",
       "3  + mean_d_mbps      -1  27.9735433 180      \n",
       "4  + work_from_home   -1  12.0184712 179      \n",
       "5  + total_population -1   7.0349847 178      \n",
       "6  + X65_and_older    -1   6.2928412 177      \n",
       "7  + mean_lat_ms      -1   4.1275863 176      \n",
       "8  + mean_lowest_cost -1   3.1482264 175      \n",
       "9  + mean_u_mbps      -1   1.6553191 174      \n",
       "10 + number_providers -1   2.6653434 173      \n",
       "11 + has_computer     -1   0.7367388 172      \n",
       "   Resid. Dev                              AIC        \n",
       "1  703.20098621800843829987570643424987793    251.5561\n",
       "2   65.65305450550512489371612900868058205   -177.1747\n",
       "3   37.67951116380591258803178789094090462   -273.5792\n",
       "4   25.66103994550458722301300440449267626   -338.6678\n",
       "5   18.62605519741248727427773701492697001   -392.0938\n",
       "6   12.33321403238071489738558739190921187   -462.3289\n",
       "7    8.20562772852354882502368127461522818   -531.6875\n",
       "8    5.05740130314562819080492772627621889   -615.0440\n",
       "9    3.40208220439476161089942252147011459   -682.3876\n",
       "10   0.73673879259798624730137817095965147   -957.1516\n",
       "11   0.00000000000000000000000000004067449 -12859.0988"
      ]
     },
     "metadata": {},
     "output_type": "display_data"
    }
   ],
   "source": [
    "forward_bic$anova"
   ]
  },
  {
   "cell_type": "code",
   "execution_count": 136,
   "metadata": {
    "slideshow": {
     "slide_type": "subslide"
    },
    "vscode": {
     "languageId": "r"
    }
   },
   "outputs": [
    {
     "data": {
      "text/plain": [
       "\n",
       "Call:\n",
       "lm(formula = index ~ with_internet + mean_d_mbps + work_from_home + \n",
       "    total_population + X65_and_older + mean_lat_ms + mean_lowest_cost + \n",
       "    mean_u_mbps + number_providers + has_computer, data = index_data2)\n",
       "\n",
       "Coefficients:\n",
       "           (Intercept)           with_internet             mean_d_mbps  \n",
       "-0.0000000000000000341   0.4844094907499328362   0.2623924148424930936  \n",
       "        work_from_home        total_population           X65_and_older  \n",
       " 0.2609643935694284655   0.4528009461375878120   0.3137032282915110937  \n",
       "           mean_lat_ms        mean_lowest_cost             mean_u_mbps  \n",
       "-0.2101406902830652568   0.1092570389869753633   0.1410615093362440342  \n",
       "      number_providers            has_computer  \n",
       "-0.1420782190977260828   0.4783054033677653916  \n"
      ]
     },
     "metadata": {},
     "output_type": "display_data"
    }
   ],
   "source": [
    "forward"
   ]
  },
  {
   "cell_type": "code",
   "execution_count": 144,
   "metadata": {
    "slideshow": {
     "slide_type": "subslide"
    },
    "vscode": {
     "languageId": "r"
    }
   },
   "outputs": [
    {
     "data": {
      "text/plain": [
       "\n",
       "Call:\n",
       "lm(formula = index ~ with_internet + mean_d_mbps + work_from_home + \n",
       "    total_population + X65_and_older + mean_lat_ms + mean_lowest_cost + \n",
       "    mean_u_mbps + number_providers + has_computer, data = index_data2)\n",
       "\n",
       "Coefficients:\n",
       "           (Intercept)           with_internet             mean_d_mbps  \n",
       "-0.0000000000000000341   0.4844094907499328362   0.2623924148424930936  \n",
       "        work_from_home        total_population           X65_and_older  \n",
       " 0.2609643935694284655   0.4528009461375878120   0.3137032282915110937  \n",
       "           mean_lat_ms        mean_lowest_cost             mean_u_mbps  \n",
       "-0.2101406902830652568   0.1092570389869753633   0.1410615093362440342  \n",
       "      number_providers            has_computer  \n",
       "-0.1420782190977260828   0.4783054033677653916  \n"
      ]
     },
     "metadata": {},
     "output_type": "display_data"
    }
   ],
   "source": [
    "forward_bic"
   ]
  },
  {
   "cell_type": "code",
   "execution_count": 149,
   "metadata": {
    "slideshow": {
     "slide_type": "subslide"
    },
    "vscode": {
     "languageId": "r"
    }
   },
   "outputs": [
    {
     "name": "stderr",
     "output_type": "stream",
     "text": [
      "Warning message in summary.lm(forward):\n",
      "“essentially perfect fit: summary may be unreliable”\n"
     ]
    },
    {
     "data": {
      "text/plain": [
       "\n",
       "Call:\n",
       "lm(formula = index ~ with_internet + mean_d_mbps + work_from_home + \n",
       "    total_population + X65_and_older + mean_lat_ms + mean_lowest_cost + \n",
       "    mean_u_mbps + number_providers + has_computer, data = index_data2)\n",
       "\n",
       "Residuals:\n",
       "                   Min                     1Q                 Median \n",
       "-0.0000000000000026870 -0.0000000000000001139  0.0000000000000000141 \n",
       "                    3Q                    Max \n",
       " 0.0000000000000001618  0.0000000000000028486 \n",
       "\n",
       "Coefficients:\n",
       "                                Estimate              Std. Error\n",
       "(Intercept)      -0.00000000000000003410  0.00000000000000003595\n",
       "with_internet     0.48440949074993283618  0.00000000000000027484\n",
       "mean_d_mbps       0.26239241484249309355  0.00000000000000007136\n",
       "work_from_home    0.26096439356942846555  0.00000000000000004236\n",
       "total_population  0.45280094613758781197  0.00000000000000008164\n",
       "X65_and_older     0.31370322829151109367  0.00000000000000005221\n",
       "mean_lat_ms      -0.21014069028306525677  0.00000000000000006781\n",
       "mean_lowest_cost  0.10925703898697536331  0.00000000000000003933\n",
       "mean_u_mbps       0.14106150933624403421  0.00000000000000004409\n",
       "number_providers -0.14207821909772608282  0.00000000000000004521\n",
       "has_computer      0.47830540336776539156  0.00000000000000027099\n",
       "                               t value            Pr(>|t|)    \n",
       "(Intercept)                     -0.949               0.344    \n",
       "with_internet     1762502596513509.750 <0.0000000000000002 ***\n",
       "mean_d_mbps       3677182864544718.500 <0.0000000000000002 ***\n",
       "work_from_home    6160388209493108.000 <0.0000000000000002 ***\n",
       "total_population  5545989506880560.000 <0.0000000000000002 ***\n",
       "X65_and_older     6008395093172970.000 <0.0000000000000002 ***\n",
       "mean_lat_ms      -3098768204949454.500 <0.0000000000000002 ***\n",
       "mean_lowest_cost  2778241457606855.500 <0.0000000000000002 ***\n",
       "mean_u_mbps       3199315472318010.000 <0.0000000000000002 ***\n",
       "number_providers -3142680147117755.500 <0.0000000000000002 ***\n",
       "has_computer      1765061923036970.500 <0.0000000000000002 ***\n",
       "---\n",
       "Signif. codes:  0 ‘***’ 0.001 ‘**’ 0.01 ‘*’ 0.05 ‘.’ 0.1 ‘ ’ 1\n",
       "\n",
       "Residual standard error: 0.0000000000000004863 on 172 degrees of freedom\n",
       "Multiple R-squared:      1,\tAdjusted R-squared:      1 \n",
       "F-statistic: 2.974e+32 on 10 and 172 DF,  p-value: < 0.00000000000000022\n"
      ]
     },
     "metadata": {},
     "output_type": "display_data"
    }
   ],
   "source": [
    "summary(forward)"
   ]
  },
  {
   "cell_type": "code",
   "execution_count": 150,
   "metadata": {
    "slideshow": {
     "slide_type": "subslide"
    },
    "vscode": {
     "languageId": "r"
    }
   },
   "outputs": [
    {
     "name": "stderr",
     "output_type": "stream",
     "text": [
      "Warning message in summary.lm(forward_bic):\n",
      "“essentially perfect fit: summary may be unreliable”\n"
     ]
    },
    {
     "data": {
      "text/plain": [
       "\n",
       "Call:\n",
       "lm(formula = index ~ with_internet + mean_d_mbps + work_from_home + \n",
       "    total_population + X65_and_older + mean_lat_ms + mean_lowest_cost + \n",
       "    mean_u_mbps + number_providers + has_computer, data = index_data2)\n",
       "\n",
       "Residuals:\n",
       "                   Min                     1Q                 Median \n",
       "-0.0000000000000026870 -0.0000000000000001139  0.0000000000000000141 \n",
       "                    3Q                    Max \n",
       " 0.0000000000000001618  0.0000000000000028486 \n",
       "\n",
       "Coefficients:\n",
       "                                Estimate              Std. Error\n",
       "(Intercept)      -0.00000000000000003410  0.00000000000000003595\n",
       "with_internet     0.48440949074993283618  0.00000000000000027484\n",
       "mean_d_mbps       0.26239241484249309355  0.00000000000000007136\n",
       "work_from_home    0.26096439356942846555  0.00000000000000004236\n",
       "total_population  0.45280094613758781197  0.00000000000000008164\n",
       "X65_and_older     0.31370322829151109367  0.00000000000000005221\n",
       "mean_lat_ms      -0.21014069028306525677  0.00000000000000006781\n",
       "mean_lowest_cost  0.10925703898697536331  0.00000000000000003933\n",
       "mean_u_mbps       0.14106150933624403421  0.00000000000000004409\n",
       "number_providers -0.14207821909772608282  0.00000000000000004521\n",
       "has_computer      0.47830540336776539156  0.00000000000000027099\n",
       "                               t value            Pr(>|t|)    \n",
       "(Intercept)                     -0.949               0.344    \n",
       "with_internet     1762502596513509.750 <0.0000000000000002 ***\n",
       "mean_d_mbps       3677182864544718.500 <0.0000000000000002 ***\n",
       "work_from_home    6160388209493108.000 <0.0000000000000002 ***\n",
       "total_population  5545989506880560.000 <0.0000000000000002 ***\n",
       "X65_and_older     6008395093172970.000 <0.0000000000000002 ***\n",
       "mean_lat_ms      -3098768204949454.500 <0.0000000000000002 ***\n",
       "mean_lowest_cost  2778241457606855.500 <0.0000000000000002 ***\n",
       "mean_u_mbps       3199315472318010.000 <0.0000000000000002 ***\n",
       "number_providers -3142680147117755.500 <0.0000000000000002 ***\n",
       "has_computer      1765061923036970.500 <0.0000000000000002 ***\n",
       "---\n",
       "Signif. codes:  0 ‘***’ 0.001 ‘**’ 0.01 ‘*’ 0.05 ‘.’ 0.1 ‘ ’ 1\n",
       "\n",
       "Residual standard error: 0.0000000000000004863 on 172 degrees of freedom\n",
       "Multiple R-squared:      1,\tAdjusted R-squared:      1 \n",
       "F-statistic: 2.974e+32 on 10 and 172 DF,  p-value: < 0.00000000000000022\n"
      ]
     },
     "metadata": {},
     "output_type": "display_data"
    }
   ],
   "source": [
    "summary(forward_bic)"
   ]
  },
  {
   "attachments": {},
   "cell_type": "markdown",
   "metadata": {
    "slideshow": {
     "slide_type": "subslide"
    }
   },
   "source": [
    "#### Backwards Stepwise"
   ]
  },
  {
   "cell_type": "code",
   "execution_count": 147,
   "metadata": {
    "vscode": {
     "languageId": "r"
    }
   },
   "outputs": [
    {
     "data": {
      "text/html": [
       "<table class=\"dataframe\">\n",
       "<caption>A data.frame: 1 × 6</caption>\n",
       "<thead>\n",
       "\t<tr><th scope=col>Step</th><th scope=col>Df</th><th scope=col>Deviance</th><th scope=col>Resid. Df</th><th scope=col>Resid. Dev</th><th scope=col>AIC</th></tr>\n",
       "\t<tr><th scope=col>&lt;I&lt;chr&gt;&gt;</th><th scope=col>&lt;dbl&gt;</th><th scope=col>&lt;dbl&gt;</th><th scope=col>&lt;dbl&gt;</th><th scope=col>&lt;dbl&gt;</th><th scope=col>&lt;dbl&gt;</th></tr>\n",
       "</thead>\n",
       "<tbody>\n",
       "\t<tr><td></td><td>NA</td><td>NA</td><td>172</td><td>0.0000000000000000000000000001257256</td><td>-12652.58</td></tr>\n",
       "</tbody>\n",
       "</table>\n"
      ],
      "text/latex": [
       "A data.frame: 1 × 6\n",
       "\\begin{tabular}{llllll}\n",
       " Step & Df & Deviance & Resid. Df & Resid. Dev & AIC\\\\\n",
       " <I<chr>> & <dbl> & <dbl> & <dbl> & <dbl> & <dbl>\\\\\n",
       "\\hline\n",
       "\t  & NA & NA & 172 & 0.0000000000000000000000000001257256 & -12652.58\\\\\n",
       "\\end{tabular}\n"
      ],
      "text/markdown": [
       "\n",
       "A data.frame: 1 × 6\n",
       "\n",
       "| Step &lt;I&lt;chr&gt;&gt; | Df &lt;dbl&gt; | Deviance &lt;dbl&gt; | Resid. Df &lt;dbl&gt; | Resid. Dev &lt;dbl&gt; | AIC &lt;dbl&gt; |\n",
       "|---|---|---|---|---|---|\n",
       "| <!----> | NA | NA | 172 | 0.0000000000000000000000000001257256 | -12652.58 |\n",
       "\n"
      ],
      "text/plain": [
       "  Step Df Deviance Resid. Df Resid. Dev                           AIC      \n",
       "1      NA NA       172       0.0000000000000000000000000001257256 -12652.58"
      ]
     },
     "metadata": {},
     "output_type": "display_data"
    }
   ],
   "source": [
    "backward$anova"
   ]
  },
  {
   "cell_type": "code",
   "execution_count": 151,
   "metadata": {
    "slideshow": {
     "slide_type": "subslide"
    },
    "vscode": {
     "languageId": "r"
    }
   },
   "outputs": [
    {
     "data": {
      "text/html": [
       "<table class=\"dataframe\">\n",
       "<caption>A data.frame: 1 × 6</caption>\n",
       "<thead>\n",
       "\t<tr><th scope=col>Step</th><th scope=col>Df</th><th scope=col>Deviance</th><th scope=col>Resid. Df</th><th scope=col>Resid. Dev</th><th scope=col>AIC</th></tr>\n",
       "\t<tr><th scope=col>&lt;I&lt;chr&gt;&gt;</th><th scope=col>&lt;dbl&gt;</th><th scope=col>&lt;dbl&gt;</th><th scope=col>&lt;dbl&gt;</th><th scope=col>&lt;dbl&gt;</th><th scope=col>&lt;dbl&gt;</th></tr>\n",
       "</thead>\n",
       "<tbody>\n",
       "\t<tr><td></td><td>NA</td><td>NA</td><td>172</td><td>0.0000000000000000000000000001257256</td><td>-12652.58</td></tr>\n",
       "</tbody>\n",
       "</table>\n"
      ],
      "text/latex": [
       "A data.frame: 1 × 6\n",
       "\\begin{tabular}{llllll}\n",
       " Step & Df & Deviance & Resid. Df & Resid. Dev & AIC\\\\\n",
       " <I<chr>> & <dbl> & <dbl> & <dbl> & <dbl> & <dbl>\\\\\n",
       "\\hline\n",
       "\t  & NA & NA & 172 & 0.0000000000000000000000000001257256 & -12652.58\\\\\n",
       "\\end{tabular}\n"
      ],
      "text/markdown": [
       "\n",
       "A data.frame: 1 × 6\n",
       "\n",
       "| Step &lt;I&lt;chr&gt;&gt; | Df &lt;dbl&gt; | Deviance &lt;dbl&gt; | Resid. Df &lt;dbl&gt; | Resid. Dev &lt;dbl&gt; | AIC &lt;dbl&gt; |\n",
       "|---|---|---|---|---|---|\n",
       "| <!----> | NA | NA | 172 | 0.0000000000000000000000000001257256 | -12652.58 |\n",
       "\n"
      ],
      "text/plain": [
       "  Step Df Deviance Resid. Df Resid. Dev                           AIC      \n",
       "1      NA NA       172       0.0000000000000000000000000001257256 -12652.58"
      ]
     },
     "metadata": {},
     "output_type": "display_data"
    }
   ],
   "source": [
    "backward_bic$anova"
   ]
  },
  {
   "cell_type": "code",
   "execution_count": 152,
   "metadata": {
    "slideshow": {
     "slide_type": "subslide"
    },
    "vscode": {
     "languageId": "r"
    }
   },
   "outputs": [
    {
     "data": {
      "text/plain": [
       "\n",
       "Call:\n",
       "lm(formula = index ~ has_computer + with_internet + total_population + \n",
       "    work_from_home + X65_and_older + number_providers + mean_lowest_cost + \n",
       "    mean_d_mbps + mean_u_mbps + mean_lat_ms, data = index_data2)\n",
       "\n",
       "Coefficients:\n",
       "           (Intercept)            has_computer           with_internet  \n",
       "-0.0000000000000000341   0.4783054033677658912   0.4844094907499331693  \n",
       "      total_population          work_from_home           X65_and_older  \n",
       " 0.4528009461375878120   0.2609643935694285766   0.3137032282915111492  \n",
       "      number_providers        mean_lowest_cost             mean_d_mbps  \n",
       "-0.1420782190977260828   0.1092570389869754882   0.2623924148424926495  \n",
       "           mean_u_mbps             mean_lat_ms  \n",
       " 0.1410615093362440897  -0.2101406902830655343  \n"
      ]
     },
     "metadata": {},
     "output_type": "display_data"
    }
   ],
   "source": [
    "backward"
   ]
  },
  {
   "cell_type": "code",
   "execution_count": 153,
   "metadata": {
    "slideshow": {
     "slide_type": "subslide"
    },
    "vscode": {
     "languageId": "r"
    }
   },
   "outputs": [
    {
     "data": {
      "text/plain": [
       "\n",
       "Call:\n",
       "lm(formula = index ~ has_computer + with_internet + total_population + \n",
       "    work_from_home + X65_and_older + number_providers + mean_lowest_cost + \n",
       "    mean_d_mbps + mean_u_mbps + mean_lat_ms, data = index_data2)\n",
       "\n",
       "Coefficients:\n",
       "           (Intercept)            has_computer           with_internet  \n",
       "-0.0000000000000000341   0.4783054033677658912   0.4844094907499331693  \n",
       "      total_population          work_from_home           X65_and_older  \n",
       " 0.4528009461375878120   0.2609643935694285766   0.3137032282915111492  \n",
       "      number_providers        mean_lowest_cost             mean_d_mbps  \n",
       "-0.1420782190977260828   0.1092570389869754882   0.2623924148424926495  \n",
       "           mean_u_mbps             mean_lat_ms  \n",
       " 0.1410615093362440897  -0.2101406902830655343  \n"
      ]
     },
     "metadata": {},
     "output_type": "display_data"
    }
   ],
   "source": [
    "backward_bic"
   ]
  },
  {
   "cell_type": "code",
   "execution_count": 154,
   "metadata": {
    "slideshow": {
     "slide_type": "subslide"
    },
    "vscode": {
     "languageId": "r"
    }
   },
   "outputs": [
    {
     "name": "stderr",
     "output_type": "stream",
     "text": [
      "Warning message in summary.lm(backward):\n",
      "“essentially perfect fit: summary may be unreliable”\n"
     ]
    },
    {
     "data": {
      "text/plain": [
       "\n",
       "Call:\n",
       "lm(formula = index ~ has_computer + with_internet + total_population + \n",
       "    work_from_home + X65_and_older + number_providers + mean_lowest_cost + \n",
       "    mean_d_mbps + mean_u_mbps + mean_lat_ms, data = index_data2)\n",
       "\n",
       "Residuals:\n",
       "                   Min                     1Q                 Median \n",
       "-0.0000000000000023792 -0.0000000000000002494 -0.0000000000000000194 \n",
       "                    3Q                    Max \n",
       " 0.0000000000000001804  0.0000000000000090374 \n",
       "\n",
       "Coefficients:\n",
       "                                Estimate              Std. Error\n",
       "(Intercept)      -0.00000000000000003410  0.00000000000000006320\n",
       "has_computer      0.47830540336776589116  0.00000000000000047643\n",
       "with_internet     0.48440949074993316925  0.00000000000000048321\n",
       "total_population  0.45280094613758781197  0.00000000000000014354\n",
       "work_from_home    0.26096439356942857657  0.00000000000000007448\n",
       "X65_and_older     0.31370322829151114918  0.00000000000000009179\n",
       "number_providers -0.14207821909772608282  0.00000000000000007948\n",
       "mean_lowest_cost  0.10925703898697548822  0.00000000000000006914\n",
       "mean_d_mbps       0.26239241484249264946  0.00000000000000012545\n",
       "mean_u_mbps       0.14106150933624408972  0.00000000000000007752\n",
       "mean_lat_ms      -0.21014069028306553433  0.00000000000000011923\n",
       "                              t value            Pr(>|t|)    \n",
       "(Intercept)                     -0.54                0.59    \n",
       "has_computer      1003943236348812.00 <0.0000000000000002 ***\n",
       "with_internet     1002487526201024.50 <0.0000000000000002 ***\n",
       "total_population  3154483466910973.00 <0.0000000000000002 ***\n",
       "work_from_home    3503945099876265.00 <0.0000000000000002 ***\n",
       "X65_and_older     3417493480751971.00 <0.0000000000000002 ***\n",
       "number_providers -1787513761714336.00 <0.0000000000000002 ***\n",
       "mean_lowest_cost  1580225987487830.75 <0.0000000000000002 ***\n",
       "mean_d_mbps       2091531644014781.75 <0.0000000000000002 ***\n",
       "mean_u_mbps       1819727165069262.25 <0.0000000000000002 ***\n",
       "mean_lat_ms      -1762537245729588.75 <0.0000000000000002 ***\n",
       "---\n",
       "Signif. codes:  0 ‘***’ 0.001 ‘**’ 0.01 ‘*’ 0.05 ‘.’ 0.1 ‘ ’ 1\n",
       "\n",
       "Residual standard error: 0.000000000000000855 on 172 degrees of freedom\n",
       "Multiple R-squared:      1,\tAdjusted R-squared:      1 \n",
       "F-statistic: 9.62e+31 on 10 and 172 DF,  p-value: < 0.00000000000000022\n"
      ]
     },
     "metadata": {},
     "output_type": "display_data"
    }
   ],
   "source": [
    "summary(backward)"
   ]
  },
  {
   "cell_type": "code",
   "execution_count": 155,
   "metadata": {
    "vscode": {
     "languageId": "r"
    }
   },
   "outputs": [
    {
     "name": "stderr",
     "output_type": "stream",
     "text": [
      "Warning message in summary.lm(backward_bic):\n",
      "“essentially perfect fit: summary may be unreliable”\n"
     ]
    },
    {
     "data": {
      "text/plain": [
       "\n",
       "Call:\n",
       "lm(formula = index ~ has_computer + with_internet + total_population + \n",
       "    work_from_home + X65_and_older + number_providers + mean_lowest_cost + \n",
       "    mean_d_mbps + mean_u_mbps + mean_lat_ms, data = index_data2)\n",
       "\n",
       "Residuals:\n",
       "                   Min                     1Q                 Median \n",
       "-0.0000000000000023792 -0.0000000000000002494 -0.0000000000000000194 \n",
       "                    3Q                    Max \n",
       " 0.0000000000000001804  0.0000000000000090374 \n",
       "\n",
       "Coefficients:\n",
       "                                Estimate              Std. Error\n",
       "(Intercept)      -0.00000000000000003410  0.00000000000000006320\n",
       "has_computer      0.47830540336776589116  0.00000000000000047643\n",
       "with_internet     0.48440949074993316925  0.00000000000000048321\n",
       "total_population  0.45280094613758781197  0.00000000000000014354\n",
       "work_from_home    0.26096439356942857657  0.00000000000000007448\n",
       "X65_and_older     0.31370322829151114918  0.00000000000000009179\n",
       "number_providers -0.14207821909772608282  0.00000000000000007948\n",
       "mean_lowest_cost  0.10925703898697548822  0.00000000000000006914\n",
       "mean_d_mbps       0.26239241484249264946  0.00000000000000012545\n",
       "mean_u_mbps       0.14106150933624408972  0.00000000000000007752\n",
       "mean_lat_ms      -0.21014069028306553433  0.00000000000000011923\n",
       "                              t value            Pr(>|t|)    \n",
       "(Intercept)                     -0.54                0.59    \n",
       "has_computer      1003943236348812.00 <0.0000000000000002 ***\n",
       "with_internet     1002487526201024.50 <0.0000000000000002 ***\n",
       "total_population  3154483466910973.00 <0.0000000000000002 ***\n",
       "work_from_home    3503945099876265.00 <0.0000000000000002 ***\n",
       "X65_and_older     3417493480751971.00 <0.0000000000000002 ***\n",
       "number_providers -1787513761714336.00 <0.0000000000000002 ***\n",
       "mean_lowest_cost  1580225987487830.75 <0.0000000000000002 ***\n",
       "mean_d_mbps       2091531644014781.75 <0.0000000000000002 ***\n",
       "mean_u_mbps       1819727165069262.25 <0.0000000000000002 ***\n",
       "mean_lat_ms      -1762537245729588.75 <0.0000000000000002 ***\n",
       "---\n",
       "Signif. codes:  0 ‘***’ 0.001 ‘**’ 0.01 ‘*’ 0.05 ‘.’ 0.1 ‘ ’ 1\n",
       "\n",
       "Residual standard error: 0.000000000000000855 on 172 degrees of freedom\n",
       "Multiple R-squared:      1,\tAdjusted R-squared:      1 \n",
       "F-statistic: 9.62e+31 on 10 and 172 DF,  p-value: < 0.00000000000000022\n"
      ]
     },
     "metadata": {},
     "output_type": "display_data"
    }
   ],
   "source": [
    "summary(backward_bic)"
   ]
  },
  {
   "attachments": {},
   "cell_type": "markdown",
   "metadata": {
    "slideshow": {
     "slide_type": "subslide"
    }
   },
   "source": [
    "#### Stepwise in Both Directions"
   ]
  },
  {
   "cell_type": "code",
   "execution_count": 138,
   "metadata": {
    "vscode": {
     "languageId": "r"
    }
   },
   "outputs": [
    {
     "data": {
      "text/html": [
       "<table class=\"dataframe\">\n",
       "<caption>A data.frame: 11 × 6</caption>\n",
       "<thead>\n",
       "\t<tr><th scope=col>Step</th><th scope=col>Df</th><th scope=col>Deviance</th><th scope=col>Resid. Df</th><th scope=col>Resid. Dev</th><th scope=col>AIC</th></tr>\n",
       "\t<tr><th scope=col>&lt;I&lt;chr&gt;&gt;</th><th scope=col>&lt;dbl&gt;</th><th scope=col>&lt;dbl&gt;</th><th scope=col>&lt;dbl&gt;</th><th scope=col>&lt;dbl&gt;</th><th scope=col>&lt;dbl&gt;</th></tr>\n",
       "</thead>\n",
       "<tbody>\n",
       "\t<tr><td>                  </td><td>NA</td><td>         NA</td><td>182</td><td>703.20098621800843829987570643424987793</td><td>   251.5561</td></tr>\n",
       "\t<tr><td>+ with_internet   </td><td>-1</td><td>637.5479317</td><td>181</td><td> 65.65305450550512489371612900868058205</td><td>  -177.1747</td></tr>\n",
       "\t<tr><td>+ mean_d_mbps     </td><td>-1</td><td> 27.9735433</td><td>180</td><td> 37.67951116380591258803178789094090462</td><td>  -273.5792</td></tr>\n",
       "\t<tr><td>+ work_from_home  </td><td>-1</td><td> 12.0184712</td><td>179</td><td> 25.66103994550458722301300440449267626</td><td>  -338.6678</td></tr>\n",
       "\t<tr><td>+ total_population</td><td>-1</td><td>  7.0349847</td><td>178</td><td> 18.62605519741248727427773701492697001</td><td>  -392.0938</td></tr>\n",
       "\t<tr><td>+ X65_and_older   </td><td>-1</td><td>  6.2928412</td><td>177</td><td> 12.33321403238071489738558739190921187</td><td>  -462.3289</td></tr>\n",
       "\t<tr><td>+ mean_lat_ms     </td><td>-1</td><td>  4.1275863</td><td>176</td><td>  8.20562772852354882502368127461522818</td><td>  -531.6875</td></tr>\n",
       "\t<tr><td>+ mean_lowest_cost</td><td>-1</td><td>  3.1482264</td><td>175</td><td>  5.05740130314562819080492772627621889</td><td>  -615.0440</td></tr>\n",
       "\t<tr><td>+ mean_u_mbps     </td><td>-1</td><td>  1.6553191</td><td>174</td><td>  3.40208220439476161089942252147011459</td><td>  -682.3876</td></tr>\n",
       "\t<tr><td>+ number_providers</td><td>-1</td><td>  2.6653434</td><td>173</td><td>  0.73673879259798624730137817095965147</td><td>  -957.1516</td></tr>\n",
       "\t<tr><td>+ has_computer    </td><td>-1</td><td>  0.7367388</td><td>172</td><td>  0.00000000000000000000000000004067449</td><td>-12859.0988</td></tr>\n",
       "</tbody>\n",
       "</table>\n"
      ],
      "text/latex": [
       "A data.frame: 11 × 6\n",
       "\\begin{tabular}{llllll}\n",
       " Step & Df & Deviance & Resid. Df & Resid. Dev & AIC\\\\\n",
       " <I<chr>> & <dbl> & <dbl> & <dbl> & <dbl> & <dbl>\\\\\n",
       "\\hline\n",
       "\t                    & NA &          NA & 182 & 703.20098621800843829987570643424987793 &    251.5561\\\\\n",
       "\t + with\\_internet    & -1 & 637.5479317 & 181 &  65.65305450550512489371612900868058205 &   -177.1747\\\\\n",
       "\t + mean\\_d\\_mbps      & -1 &  27.9735433 & 180 &  37.67951116380591258803178789094090462 &   -273.5792\\\\\n",
       "\t + work\\_from\\_home   & -1 &  12.0184712 & 179 &  25.66103994550458722301300440449267626 &   -338.6678\\\\\n",
       "\t + total\\_population & -1 &   7.0349847 & 178 &  18.62605519741248727427773701492697001 &   -392.0938\\\\\n",
       "\t + X65\\_and\\_older    & -1 &   6.2928412 & 177 &  12.33321403238071489738558739190921187 &   -462.3289\\\\\n",
       "\t + mean\\_lat\\_ms      & -1 &   4.1275863 & 176 &   8.20562772852354882502368127461522818 &   -531.6875\\\\\n",
       "\t + mean\\_lowest\\_cost & -1 &   3.1482264 & 175 &   5.05740130314562819080492772627621889 &   -615.0440\\\\\n",
       "\t + mean\\_u\\_mbps      & -1 &   1.6553191 & 174 &   3.40208220439476161089942252147011459 &   -682.3876\\\\\n",
       "\t + number\\_providers & -1 &   2.6653434 & 173 &   0.73673879259798624730137817095965147 &   -957.1516\\\\\n",
       "\t + has\\_computer     & -1 &   0.7367388 & 172 &   0.00000000000000000000000000004067449 & -12859.0988\\\\\n",
       "\\end{tabular}\n"
      ],
      "text/markdown": [
       "\n",
       "A data.frame: 11 × 6\n",
       "\n",
       "| Step &lt;I&lt;chr&gt;&gt; | Df &lt;dbl&gt; | Deviance &lt;dbl&gt; | Resid. Df &lt;dbl&gt; | Resid. Dev &lt;dbl&gt; | AIC &lt;dbl&gt; |\n",
       "|---|---|---|---|---|---|\n",
       "| <!----> | NA |          NA | 182 | 703.20098621800843829987570643424987793 |    251.5561 |\n",
       "| + with_internet    | -1 | 637.5479317 | 181 |  65.65305450550512489371612900868058205 |   -177.1747 |\n",
       "| + mean_d_mbps      | -1 |  27.9735433 | 180 |  37.67951116380591258803178789094090462 |   -273.5792 |\n",
       "| + work_from_home   | -1 |  12.0184712 | 179 |  25.66103994550458722301300440449267626 |   -338.6678 |\n",
       "| + total_population | -1 |   7.0349847 | 178 |  18.62605519741248727427773701492697001 |   -392.0938 |\n",
       "| + X65_and_older    | -1 |   6.2928412 | 177 |  12.33321403238071489738558739190921187 |   -462.3289 |\n",
       "| + mean_lat_ms      | -1 |   4.1275863 | 176 |   8.20562772852354882502368127461522818 |   -531.6875 |\n",
       "| + mean_lowest_cost | -1 |   3.1482264 | 175 |   5.05740130314562819080492772627621889 |   -615.0440 |\n",
       "| + mean_u_mbps      | -1 |   1.6553191 | 174 |   3.40208220439476161089942252147011459 |   -682.3876 |\n",
       "| + number_providers | -1 |   2.6653434 | 173 |   0.73673879259798624730137817095965147 |   -957.1516 |\n",
       "| + has_computer     | -1 |   0.7367388 | 172 |   0.00000000000000000000000000004067449 | -12859.0988 |\n",
       "\n"
      ],
      "text/plain": [
       "   Step               Df Deviance    Resid. Df\n",
       "1                     NA          NA 182      \n",
       "2  + with_internet    -1 637.5479317 181      \n",
       "3  + mean_d_mbps      -1  27.9735433 180      \n",
       "4  + work_from_home   -1  12.0184712 179      \n",
       "5  + total_population -1   7.0349847 178      \n",
       "6  + X65_and_older    -1   6.2928412 177      \n",
       "7  + mean_lat_ms      -1   4.1275863 176      \n",
       "8  + mean_lowest_cost -1   3.1482264 175      \n",
       "9  + mean_u_mbps      -1   1.6553191 174      \n",
       "10 + number_providers -1   2.6653434 173      \n",
       "11 + has_computer     -1   0.7367388 172      \n",
       "   Resid. Dev                              AIC        \n",
       "1  703.20098621800843829987570643424987793    251.5561\n",
       "2   65.65305450550512489371612900868058205   -177.1747\n",
       "3   37.67951116380591258803178789094090462   -273.5792\n",
       "4   25.66103994550458722301300440449267626   -338.6678\n",
       "5   18.62605519741248727427773701492697001   -392.0938\n",
       "6   12.33321403238071489738558739190921187   -462.3289\n",
       "7    8.20562772852354882502368127461522818   -531.6875\n",
       "8    5.05740130314562819080492772627621889   -615.0440\n",
       "9    3.40208220439476161089942252147011459   -682.3876\n",
       "10   0.73673879259798624730137817095965147   -957.1516\n",
       "11   0.00000000000000000000000000004067449 -12859.0988"
      ]
     },
     "metadata": {},
     "output_type": "display_data"
    }
   ],
   "source": [
    "both$anova"
   ]
  },
  {
   "cell_type": "code",
   "execution_count": 156,
   "metadata": {
    "slideshow": {
     "slide_type": "subslide"
    },
    "vscode": {
     "languageId": "r"
    }
   },
   "outputs": [
    {
     "data": {
      "text/plain": [
       "\n",
       "Call:\n",
       "lm(formula = index ~ with_internet + mean_d_mbps + work_from_home + \n",
       "    total_population + X65_and_older + mean_lat_ms + mean_lowest_cost + \n",
       "    mean_u_mbps + number_providers + has_computer, data = index_data2)\n",
       "\n",
       "Coefficients:\n",
       "           (Intercept)           with_internet             mean_d_mbps  \n",
       "-0.0000000000000000341   0.4844094907499328362   0.2623924148424930936  \n",
       "        work_from_home        total_population           X65_and_older  \n",
       " 0.2609643935694284655   0.4528009461375878120   0.3137032282915110937  \n",
       "           mean_lat_ms        mean_lowest_cost             mean_u_mbps  \n",
       "-0.2101406902830652568   0.1092570389869753633   0.1410615093362440342  \n",
       "      number_providers            has_computer  \n",
       "-0.1420782190977260828   0.4783054033677653916  \n"
      ]
     },
     "metadata": {},
     "output_type": "display_data"
    }
   ],
   "source": [
    "both"
   ]
  },
  {
   "cell_type": "code",
   "execution_count": 157,
   "metadata": {
    "slideshow": {
     "slide_type": "subslide"
    },
    "vscode": {
     "languageId": "r"
    }
   },
   "outputs": [
    {
     "data": {
      "text/plain": [
       "\n",
       "Call:\n",
       "lm(formula = index ~ with_internet + mean_d_mbps + work_from_home + \n",
       "    total_population + X65_and_older + mean_lat_ms + mean_lowest_cost + \n",
       "    mean_u_mbps + number_providers + has_computer, data = index_data2)\n",
       "\n",
       "Coefficients:\n",
       "           (Intercept)           with_internet             mean_d_mbps  \n",
       "-0.0000000000000000341   0.4844094907499328362   0.2623924148424930936  \n",
       "        work_from_home        total_population           X65_and_older  \n",
       " 0.2609643935694284655   0.4528009461375878120   0.3137032282915110937  \n",
       "           mean_lat_ms        mean_lowest_cost             mean_u_mbps  \n",
       "-0.2101406902830652568   0.1092570389869753633   0.1410615093362440342  \n",
       "      number_providers            has_computer  \n",
       "-0.1420782190977260828   0.4783054033677653916  \n"
      ]
     },
     "metadata": {},
     "output_type": "display_data"
    }
   ],
   "source": [
    "both_bic"
   ]
  },
  {
   "cell_type": "code",
   "execution_count": 158,
   "metadata": {
    "slideshow": {
     "slide_type": "subslide"
    },
    "vscode": {
     "languageId": "r"
    }
   },
   "outputs": [
    {
     "name": "stderr",
     "output_type": "stream",
     "text": [
      "Warning message in summary.lm(both):\n",
      "“essentially perfect fit: summary may be unreliable”\n"
     ]
    },
    {
     "data": {
      "text/plain": [
       "\n",
       "Call:\n",
       "lm(formula = index ~ with_internet + mean_d_mbps + work_from_home + \n",
       "    total_population + X65_and_older + mean_lat_ms + mean_lowest_cost + \n",
       "    mean_u_mbps + number_providers + has_computer, data = index_data2)\n",
       "\n",
       "Residuals:\n",
       "                   Min                     1Q                 Median \n",
       "-0.0000000000000026870 -0.0000000000000001139  0.0000000000000000141 \n",
       "                    3Q                    Max \n",
       " 0.0000000000000001618  0.0000000000000028486 \n",
       "\n",
       "Coefficients:\n",
       "                                Estimate              Std. Error\n",
       "(Intercept)      -0.00000000000000003410  0.00000000000000003595\n",
       "with_internet     0.48440949074993283618  0.00000000000000027484\n",
       "mean_d_mbps       0.26239241484249309355  0.00000000000000007136\n",
       "work_from_home    0.26096439356942846555  0.00000000000000004236\n",
       "total_population  0.45280094613758781197  0.00000000000000008164\n",
       "X65_and_older     0.31370322829151109367  0.00000000000000005221\n",
       "mean_lat_ms      -0.21014069028306525677  0.00000000000000006781\n",
       "mean_lowest_cost  0.10925703898697536331  0.00000000000000003933\n",
       "mean_u_mbps       0.14106150933624403421  0.00000000000000004409\n",
       "number_providers -0.14207821909772608282  0.00000000000000004521\n",
       "has_computer      0.47830540336776539156  0.00000000000000027099\n",
       "                               t value            Pr(>|t|)    \n",
       "(Intercept)                     -0.949               0.344    \n",
       "with_internet     1762502596513509.750 <0.0000000000000002 ***\n",
       "mean_d_mbps       3677182864544718.500 <0.0000000000000002 ***\n",
       "work_from_home    6160388209493108.000 <0.0000000000000002 ***\n",
       "total_population  5545989506880560.000 <0.0000000000000002 ***\n",
       "X65_and_older     6008395093172970.000 <0.0000000000000002 ***\n",
       "mean_lat_ms      -3098768204949454.500 <0.0000000000000002 ***\n",
       "mean_lowest_cost  2778241457606855.500 <0.0000000000000002 ***\n",
       "mean_u_mbps       3199315472318010.000 <0.0000000000000002 ***\n",
       "number_providers -3142680147117755.500 <0.0000000000000002 ***\n",
       "has_computer      1765061923036970.500 <0.0000000000000002 ***\n",
       "---\n",
       "Signif. codes:  0 ‘***’ 0.001 ‘**’ 0.01 ‘*’ 0.05 ‘.’ 0.1 ‘ ’ 1\n",
       "\n",
       "Residual standard error: 0.0000000000000004863 on 172 degrees of freedom\n",
       "Multiple R-squared:      1,\tAdjusted R-squared:      1 \n",
       "F-statistic: 2.974e+32 on 10 and 172 DF,  p-value: < 0.00000000000000022\n"
      ]
     },
     "metadata": {},
     "output_type": "display_data"
    }
   ],
   "source": [
    "summary(both)"
   ]
  },
  {
   "cell_type": "code",
   "execution_count": 159,
   "metadata": {
    "vscode": {
     "languageId": "r"
    }
   },
   "outputs": [
    {
     "name": "stderr",
     "output_type": "stream",
     "text": [
      "Warning message in summary.lm(both_bic):\n",
      "“essentially perfect fit: summary may be unreliable”\n"
     ]
    },
    {
     "data": {
      "text/plain": [
       "\n",
       "Call:\n",
       "lm(formula = index ~ with_internet + mean_d_mbps + work_from_home + \n",
       "    total_population + X65_and_older + mean_lat_ms + mean_lowest_cost + \n",
       "    mean_u_mbps + number_providers + has_computer, data = index_data2)\n",
       "\n",
       "Residuals:\n",
       "                   Min                     1Q                 Median \n",
       "-0.0000000000000026870 -0.0000000000000001139  0.0000000000000000141 \n",
       "                    3Q                    Max \n",
       " 0.0000000000000001618  0.0000000000000028486 \n",
       "\n",
       "Coefficients:\n",
       "                                Estimate              Std. Error\n",
       "(Intercept)      -0.00000000000000003410  0.00000000000000003595\n",
       "with_internet     0.48440949074993283618  0.00000000000000027484\n",
       "mean_d_mbps       0.26239241484249309355  0.00000000000000007136\n",
       "work_from_home    0.26096439356942846555  0.00000000000000004236\n",
       "total_population  0.45280094613758781197  0.00000000000000008164\n",
       "X65_and_older     0.31370322829151109367  0.00000000000000005221\n",
       "mean_lat_ms      -0.21014069028306525677  0.00000000000000006781\n",
       "mean_lowest_cost  0.10925703898697536331  0.00000000000000003933\n",
       "mean_u_mbps       0.14106150933624403421  0.00000000000000004409\n",
       "number_providers -0.14207821909772608282  0.00000000000000004521\n",
       "has_computer      0.47830540336776539156  0.00000000000000027099\n",
       "                               t value            Pr(>|t|)    \n",
       "(Intercept)                     -0.949               0.344    \n",
       "with_internet     1762502596513509.750 <0.0000000000000002 ***\n",
       "mean_d_mbps       3677182864544718.500 <0.0000000000000002 ***\n",
       "work_from_home    6160388209493108.000 <0.0000000000000002 ***\n",
       "total_population  5545989506880560.000 <0.0000000000000002 ***\n",
       "X65_and_older     6008395093172970.000 <0.0000000000000002 ***\n",
       "mean_lat_ms      -3098768204949454.500 <0.0000000000000002 ***\n",
       "mean_lowest_cost  2778241457606855.500 <0.0000000000000002 ***\n",
       "mean_u_mbps       3199315472318010.000 <0.0000000000000002 ***\n",
       "number_providers -3142680147117755.500 <0.0000000000000002 ***\n",
       "has_computer      1765061923036970.500 <0.0000000000000002 ***\n",
       "---\n",
       "Signif. codes:  0 ‘***’ 0.001 ‘**’ 0.01 ‘*’ 0.05 ‘.’ 0.1 ‘ ’ 1\n",
       "\n",
       "Residual standard error: 0.0000000000000004863 on 172 degrees of freedom\n",
       "Multiple R-squared:      1,\tAdjusted R-squared:      1 \n",
       "F-statistic: 2.974e+32 on 10 and 172 DF,  p-value: < 0.00000000000000022\n"
      ]
     },
     "metadata": {},
     "output_type": "display_data"
    }
   ],
   "source": [
    "summary(both_bic)"
   ]
  },
  {
   "attachments": {},
   "cell_type": "markdown",
   "metadata": {
    "slideshow": {
     "slide_type": "subslide"
    }
   },
   "source": [
    "## We will end up using coefficients using another PCA method"
   ]
  },
  {
   "attachments": {},
   "cell_type": "markdown",
   "metadata": {
    "slideshow": {
     "slide_type": "slide"
    }
   },
   "source": [
    "# PCA Method 2"
   ]
  },
  {
   "attachments": {},
   "cell_type": "markdown",
   "metadata": {
    "slideshow": {
     "slide_type": "slide"
    }
   },
   "source": [
    "## Determine Number of PCs To Use"
   ]
  },
  {
   "cell_type": "code",
   "execution_count": null,
   "metadata": {
    "vscode": {
     "languageId": "r"
    }
   },
   "outputs": [],
   "source": []
  }
 ],
 "metadata": {
  "kernelspec": {
   "display_name": "R",
   "language": "R",
   "name": "ir"
  },
  "language_info": {
   "codemirror_mode": "r",
   "file_extension": ".r",
   "mimetype": "text/x-r-source",
   "name": "R",
   "pygments_lexer": "r",
   "version": "4.2.3"
  },
  "orig_nbformat": 4
 },
 "nbformat": 4,
 "nbformat_minor": 2
}
