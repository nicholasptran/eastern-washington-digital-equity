{
 "cells": [
  {
   "attachments": {},
   "cell_type": "markdown",
   "metadata": {
    "slideshow": {
     "slide_type": "slide"
    }
   },
   "source": [
    "# Eastern Washington Digital Equity"
   ]
  },
  {
   "attachments": {},
   "cell_type": "markdown",
   "metadata": {},
   "source": [
    "## Nicholas Tran, Juliana Reyes, Trevor Myers"
   ]
  },
  {
   "attachments": {},
   "cell_type": "markdown",
   "metadata": {
    "slideshow": {
     "slide_type": "slide"
    }
   },
   "source": [
    "# PCA - Method 1"
   ]
  },
  {
   "attachments": {},
   "cell_type": "markdown",
   "metadata": {
    "slideshow": {
     "slide_type": "skip"
    }
   },
   "source": [
    "jupyter nbconvert notebooks/pca_method2.ipynb --to slides --post serve --SlidesExporter.reveal_scroll=True"
   ]
  },
  {
   "attachments": {},
   "cell_type": "markdown",
   "metadata": {
    "slideshow": {
     "slide_type": "fragment"
    }
   },
   "source": [
    "## Use PC1 As Index"
   ]
  },
  {
   "attachments": {},
   "cell_type": "markdown",
   "metadata": {
    "slideshow": {
     "slide_type": "fragment"
    }
   },
   "source": [
    "## Use Correlation P Values for Feature Selection"
   ]
  },
  {
   "attachments": {},
   "cell_type": "markdown",
   "metadata": {
    "slideshow": {
     "slide_type": "fragment"
    }
   },
   "source": [
    "## Create New Dataset w/ Removed Variables"
   ]
  },
  {
   "attachments": {},
   "cell_type": "markdown",
   "metadata": {
    "slideshow": {
     "slide_type": "fragment"
    }
   },
   "source": [
    "## Use Stepwise Regression for Final Coefficients"
   ]
  },
  {
   "attachments": {},
   "cell_type": "markdown",
   "metadata": {
    "slideshow": {
     "slide_type": "slide"
    }
   },
   "source": [
    "## Prepare The Data"
   ]
  },
  {
   "attachments": {},
   "cell_type": "markdown",
   "metadata": {
    "slideshow": {
     "slide_type": "subslide"
    }
   },
   "source": [
    "### Load The Libraries"
   ]
  },
  {
   "cell_type": "code",
   "execution_count": 1,
   "metadata": {
    "vscode": {
     "languageId": "r"
    }
   },
   "outputs": [
    {
     "name": "stderr",
     "output_type": "stream",
     "text": [
      "── \u001b[1mAttaching core tidyverse packages\u001b[22m ──────────────────────── tidyverse 2.0.0 ──\n",
      "\u001b[32m✔\u001b[39m \u001b[34mdplyr    \u001b[39m 1.1.2     \u001b[32m✔\u001b[39m \u001b[34mreadr    \u001b[39m 2.1.4\n",
      "\u001b[32m✔\u001b[39m \u001b[34mforcats  \u001b[39m 1.0.0     \u001b[32m✔\u001b[39m \u001b[34mstringr  \u001b[39m 1.5.0\n",
      "\u001b[32m✔\u001b[39m \u001b[34mggplot2  \u001b[39m 3.4.2     \u001b[32m✔\u001b[39m \u001b[34mtibble   \u001b[39m 3.2.1\n",
      "\u001b[32m✔\u001b[39m \u001b[34mlubridate\u001b[39m 1.9.2     \u001b[32m✔\u001b[39m \u001b[34mtidyr    \u001b[39m 1.3.0\n",
      "\u001b[32m✔\u001b[39m \u001b[34mpurrr    \u001b[39m 1.0.1     \n",
      "── \u001b[1mConflicts\u001b[22m ────────────────────────────────────────── tidyverse_conflicts() ──\n",
      "\u001b[31m✖\u001b[39m \u001b[34mdplyr\u001b[39m::\u001b[32mfilter()\u001b[39m masks \u001b[34mstats\u001b[39m::filter()\n",
      "\u001b[31m✖\u001b[39m \u001b[34mdplyr\u001b[39m::\u001b[32mlag()\u001b[39m    masks \u001b[34mstats\u001b[39m::lag()\n",
      "\u001b[36mℹ\u001b[39m Use the conflicted package (\u001b[3m\u001b[34m<http://conflicted.r-lib.org/>\u001b[39m\u001b[23m) to force all conflicts to become errors\n",
      "\n",
      "Attaching package: ‘psych’\n",
      "\n",
      "\n",
      "The following objects are masked from ‘package:ggplot2’:\n",
      "\n",
      "    %+%, alpha\n",
      "\n",
      "\n",
      "\n",
      "Attaching package: ‘Hmisc’\n",
      "\n",
      "\n",
      "The following object is masked from ‘package:psych’:\n",
      "\n",
      "    describe\n",
      "\n",
      "\n",
      "The following objects are masked from ‘package:dplyr’:\n",
      "\n",
      "    src, summarize\n",
      "\n",
      "\n",
      "The following objects are masked from ‘package:base’:\n",
      "\n",
      "    format.pval, units\n",
      "\n",
      "\n"
     ]
    }
   ],
   "source": [
    "library(tidyverse, quietly = TRUE)\n",
    "library(psych, quietly = TRUE)\n",
    "library(Hmisc, quietly = TRUE)"
   ]
  },
  {
   "attachments": {},
   "cell_type": "markdown",
   "metadata": {
    "slideshow": {
     "slide_type": "subslide"
    }
   },
   "source": [
    "### Get The Data"
   ]
  },
  {
   "cell_type": "code",
   "execution_count": 11,
   "metadata": {
    "vscode": {
     "languageId": "r"
    }
   },
   "outputs": [
    {
     "data": {
      "text/html": [
       "<table class=\"dataframe\">\n",
       "<caption>A data.frame: 6 × 11</caption>\n",
       "<thead>\n",
       "\t<tr><th></th><th scope=col>NAME</th><th scope=col>GEOID</th><th scope=col>with_internet</th><th scope=col>work_from_home</th><th scope=col>sixtyfive_and_older</th><th scope=col>median_income</th><th scope=col>number_providers</th><th scope=col>mean_lowest_cost</th><th scope=col>mean_d_mbps</th><th scope=col>mean_u_mbps</th><th scope=col>mean_lat_ms</th></tr>\n",
       "\t<tr><th></th><th scope=col>&lt;chr&gt;</th><th scope=col>&lt;dbl&gt;</th><th scope=col>&lt;int&gt;</th><th scope=col>&lt;int&gt;</th><th scope=col>&lt;int&gt;</th><th scope=col>&lt;int&gt;</th><th scope=col>&lt;dbl&gt;</th><th scope=col>&lt;dbl&gt;</th><th scope=col>&lt;dbl&gt;</th><th scope=col>&lt;dbl&gt;</th><th scope=col>&lt;dbl&gt;</th></tr>\n",
       "</thead>\n",
       "<tbody>\n",
       "\t<tr><th scope=row>1</th><td>Census Tract 9601, Asotin County, Washington</td><td>53003960100</td><td>1569</td><td>145</td><td>1337</td><td>73942</td><td>12</td><td>58.00000</td><td>110.3274</td><td>41.78210</td><td>51.70445</td></tr>\n",
       "\t<tr><th scope=row>2</th><td>Census Tract 9602, Asotin County, Washington</td><td>53003960200</td><td>1780</td><td>421</td><td>1352</td><td>72988</td><td>13</td><td>60.07692</td><td>145.7848</td><td>22.88731</td><td>24.62630</td></tr>\n",
       "\t<tr><th scope=row>3</th><td>Census Tract 9603, Asotin County, Washington</td><td>53003960300</td><td>1156</td><td>  6</td><td> 396</td><td>38077</td><td>11</td><td>60.00000</td><td>173.4079</td><td>27.06202</td><td>29.98058</td></tr>\n",
       "\t<tr><th scope=row>4</th><td>Census Tract 9604, Asotin County, Washington</td><td>53003960400</td><td> 805</td><td> 29</td><td> 647</td><td>38777</td><td> 8</td><td>62.50000</td><td>127.6005</td><td>23.53829</td><td>22.16379</td></tr>\n",
       "\t<tr><th scope=row>5</th><td>Census Tract 9605, Asotin County, Washington</td><td>53003960500</td><td>1198</td><td> 26</td><td> 635</td><td>42639</td><td> 8</td><td>62.50000</td><td>192.4299</td><td>21.68565</td><td>21.66087</td></tr>\n",
       "\t<tr><th scope=row>6</th><td>Census Tract 9606, Asotin County, Washington</td><td>53003960600</td><td>1392</td><td>115</td><td> 909</td><td>53947</td><td> 9</td><td>58.88889</td><td>151.0552</td><td>23.52123</td><td>26.18557</td></tr>\n",
       "</tbody>\n",
       "</table>\n"
      ],
      "text/latex": [
       "A data.frame: 6 × 11\n",
       "\\begin{tabular}{r|lllllllllll}\n",
       "  & NAME & GEOID & with\\_internet & work\\_from\\_home & sixtyfive\\_and\\_older & median\\_income & number\\_providers & mean\\_lowest\\_cost & mean\\_d\\_mbps & mean\\_u\\_mbps & mean\\_lat\\_ms\\\\\n",
       "  & <chr> & <dbl> & <int> & <int> & <int> & <int> & <dbl> & <dbl> & <dbl> & <dbl> & <dbl>\\\\\n",
       "\\hline\n",
       "\t1 & Census Tract 9601, Asotin County, Washington & 53003960100 & 1569 & 145 & 1337 & 73942 & 12 & 58.00000 & 110.3274 & 41.78210 & 51.70445\\\\\n",
       "\t2 & Census Tract 9602, Asotin County, Washington & 53003960200 & 1780 & 421 & 1352 & 72988 & 13 & 60.07692 & 145.7848 & 22.88731 & 24.62630\\\\\n",
       "\t3 & Census Tract 9603, Asotin County, Washington & 53003960300 & 1156 &   6 &  396 & 38077 & 11 & 60.00000 & 173.4079 & 27.06202 & 29.98058\\\\\n",
       "\t4 & Census Tract 9604, Asotin County, Washington & 53003960400 &  805 &  29 &  647 & 38777 &  8 & 62.50000 & 127.6005 & 23.53829 & 22.16379\\\\\n",
       "\t5 & Census Tract 9605, Asotin County, Washington & 53003960500 & 1198 &  26 &  635 & 42639 &  8 & 62.50000 & 192.4299 & 21.68565 & 21.66087\\\\\n",
       "\t6 & Census Tract 9606, Asotin County, Washington & 53003960600 & 1392 & 115 &  909 & 53947 &  9 & 58.88889 & 151.0552 & 23.52123 & 26.18557\\\\\n",
       "\\end{tabular}\n"
      ],
      "text/markdown": [
       "\n",
       "A data.frame: 6 × 11\n",
       "\n",
       "| <!--/--> | NAME &lt;chr&gt; | GEOID &lt;dbl&gt; | with_internet &lt;int&gt; | work_from_home &lt;int&gt; | sixtyfive_and_older &lt;int&gt; | median_income &lt;int&gt; | number_providers &lt;dbl&gt; | mean_lowest_cost &lt;dbl&gt; | mean_d_mbps &lt;dbl&gt; | mean_u_mbps &lt;dbl&gt; | mean_lat_ms &lt;dbl&gt; |\n",
       "|---|---|---|---|---|---|---|---|---|---|---|---|\n",
       "| 1 | Census Tract 9601, Asotin County, Washington | 53003960100 | 1569 | 145 | 1337 | 73942 | 12 | 58.00000 | 110.3274 | 41.78210 | 51.70445 |\n",
       "| 2 | Census Tract 9602, Asotin County, Washington | 53003960200 | 1780 | 421 | 1352 | 72988 | 13 | 60.07692 | 145.7848 | 22.88731 | 24.62630 |\n",
       "| 3 | Census Tract 9603, Asotin County, Washington | 53003960300 | 1156 |   6 |  396 | 38077 | 11 | 60.00000 | 173.4079 | 27.06202 | 29.98058 |\n",
       "| 4 | Census Tract 9604, Asotin County, Washington | 53003960400 |  805 |  29 |  647 | 38777 |  8 | 62.50000 | 127.6005 | 23.53829 | 22.16379 |\n",
       "| 5 | Census Tract 9605, Asotin County, Washington | 53003960500 | 1198 |  26 |  635 | 42639 |  8 | 62.50000 | 192.4299 | 21.68565 | 21.66087 |\n",
       "| 6 | Census Tract 9606, Asotin County, Washington | 53003960600 | 1392 | 115 |  909 | 53947 |  9 | 58.88889 | 151.0552 | 23.52123 | 26.18557 |\n",
       "\n"
      ],
      "text/plain": [
       "  NAME                                         GEOID       with_internet\n",
       "1 Census Tract 9601, Asotin County, Washington 53003960100 1569         \n",
       "2 Census Tract 9602, Asotin County, Washington 53003960200 1780         \n",
       "3 Census Tract 9603, Asotin County, Washington 53003960300 1156         \n",
       "4 Census Tract 9604, Asotin County, Washington 53003960400  805         \n",
       "5 Census Tract 9605, Asotin County, Washington 53003960500 1198         \n",
       "6 Census Tract 9606, Asotin County, Washington 53003960600 1392         \n",
       "  work_from_home sixtyfive_and_older median_income number_providers\n",
       "1 145            1337                73942         12              \n",
       "2 421            1352                72988         13              \n",
       "3   6             396                38077         11              \n",
       "4  29             647                38777          8              \n",
       "5  26             635                42639          8              \n",
       "6 115             909                53947          9              \n",
       "  mean_lowest_cost mean_d_mbps mean_u_mbps mean_lat_ms\n",
       "1 58.00000         110.3274    41.78210    51.70445   \n",
       "2 60.07692         145.7848    22.88731    24.62630   \n",
       "3 60.00000         173.4079    27.06202    29.98058   \n",
       "4 62.50000         127.6005    23.53829    22.16379   \n",
       "5 62.50000         192.4299    21.68565    21.66087   \n",
       "6 58.88889         151.0552    23.52123    26.18557   "
      ]
     },
     "metadata": {},
     "output_type": "display_data"
    }
   ],
   "source": [
    "data <- read.csv(\"../data/combined_data.csv\")\n",
    "head(data)"
   ]
  },
  {
   "cell_type": "code",
   "execution_count": 12,
   "metadata": {
    "vscode": {
     "languageId": "r"
    }
   },
   "outputs": [
    {
     "data": {
      "text/html": [
       "<ol>\n",
       "\t<li>'NAME'</li>\n",
       "\t<li>'GEOID'</li>\n",
       "\t<li>'with_internet'</li>\n",
       "\t<li>'work_from_home'</li>\n",
       "\t<li>'sixtyfive_and_older'</li>\n",
       "\t<li>'median_income'</li>\n",
       "\t<li>'number_providers'</li>\n",
       "\t<li>'mean_lowest_cost'</li>\n",
       "\t<li>'mean_d_mbps'</li>\n",
       "\t<li>'mean_u_mbps'</li>\n",
       "\t<li>'mean_lat_ms'</li>\n",
       "</ol>\n"
      ],
      "text/latex": [
       "\\begin{enumerate}\n",
       "\\item 'NAME'\n",
       "\\item 'GEOID'\n",
       "\\item 'with\\_internet'\n",
       "\\item 'work\\_from\\_home'\n",
       "\\item 'sixtyfive\\_and\\_older'\n",
       "\\item 'median\\_income'\n",
       "\\item 'number\\_providers'\n",
       "\\item 'mean\\_lowest\\_cost'\n",
       "\\item 'mean\\_d\\_mbps'\n",
       "\\item 'mean\\_u\\_mbps'\n",
       "\\item 'mean\\_lat\\_ms'\n",
       "\\end{enumerate}\n"
      ],
      "text/markdown": [
       "1. 'NAME'\n",
       "2. 'GEOID'\n",
       "3. 'with_internet'\n",
       "4. 'work_from_home'\n",
       "5. 'sixtyfive_and_older'\n",
       "6. 'median_income'\n",
       "7. 'number_providers'\n",
       "8. 'mean_lowest_cost'\n",
       "9. 'mean_d_mbps'\n",
       "10. 'mean_u_mbps'\n",
       "11. 'mean_lat_ms'\n",
       "\n",
       "\n"
      ],
      "text/plain": [
       "[[1]]\n",
       "[1] \"NAME\"\n",
       "\n",
       "[[2]]\n",
       "[1] \"GEOID\"\n",
       "\n",
       "[[3]]\n",
       "[1] \"with_internet\"\n",
       "\n",
       "[[4]]\n",
       "[1] \"work_from_home\"\n",
       "\n",
       "[[5]]\n",
       "[1] \"sixtyfive_and_older\"\n",
       "\n",
       "[[6]]\n",
       "[1] \"median_income\"\n",
       "\n",
       "[[7]]\n",
       "[1] \"number_providers\"\n",
       "\n",
       "[[8]]\n",
       "[1] \"mean_lowest_cost\"\n",
       "\n",
       "[[9]]\n",
       "[1] \"mean_d_mbps\"\n",
       "\n",
       "[[10]]\n",
       "[1] \"mean_u_mbps\"\n",
       "\n",
       "[[11]]\n",
       "[1] \"mean_lat_ms\"\n"
      ]
     },
     "metadata": {},
     "output_type": "display_data"
    }
   ],
   "source": [
    "as.list(names(data))"
   ]
  },
  {
   "attachments": {},
   "cell_type": "markdown",
   "metadata": {
    "slideshow": {
     "slide_type": "subslide"
    }
   },
   "source": [
    "#### Remove Unnecessary Columns"
   ]
  },
  {
   "cell_type": "code",
   "execution_count": 13,
   "metadata": {
    "vscode": {
     "languageId": "r"
    }
   },
   "outputs": [],
   "source": [
    "data <- data %>% dplyr::select(-NAME, -GEOID, -mean_u_mbps)\n",
    "head(data)"
   ]
  },
  {
   "attachments": {},
   "cell_type": "markdown",
   "metadata": {
    "slideshow": {
     "slide_type": "subslide"
    }
   },
   "source": [
    "#### Check Data To See If We Can Use Dimensionality Reduction Techniques"
   ]
  },
  {
   "cell_type": "code",
   "execution_count": 15,
   "metadata": {
    "vscode": {
     "languageId": "r"
    }
   },
   "outputs": [
    {
     "data": {
      "text/plain": [
       "Kaiser-Meyer-Olkin factor adequacy\n",
       "Call: KMO(r = data)\n",
       "Overall MSA =  0.64\n",
       "MSA for each item = \n",
       "      with_internet      work_from_home sixtyfive_and_older       median_income \n",
       "               0.59                0.76                0.59                0.64 \n",
       "   number_providers    mean_lowest_cost         mean_d_mbps         mean_lat_ms \n",
       "               0.81                0.69                0.60                0.63 "
      ]
     },
     "metadata": {},
     "output_type": "display_data"
    }
   ],
   "source": [
    "KMO(data)"
   ]
  },
  {
   "attachments": {},
   "cell_type": "markdown",
   "metadata": {
    "slideshow": {
     "slide_type": "subslide"
    }
   },
   "source": [
    "#### Standardize The Data"
   ]
  },
  {
   "cell_type": "code",
   "execution_count": 16,
   "metadata": {
    "vscode": {
     "languageId": "r"
    }
   },
   "outputs": [],
   "source": [
    "scaled_data <- scale(data)"
   ]
  },
  {
   "cell_type": "code",
   "execution_count": 17,
   "metadata": {
    "slideshow": {
     "slide_type": "fragment"
    },
    "vscode": {
     "languageId": "r"
    }
   },
   "outputs": [
    {
     "data": {
      "text/html": [
       "<table class=\"dataframe\">\n",
       "<caption>A matrix: 6 × 8 of type dbl</caption>\n",
       "<thead>\n",
       "\t<tr><th scope=col>with_internet</th><th scope=col>work_from_home</th><th scope=col>sixtyfive_and_older</th><th scope=col>median_income</th><th scope=col>number_providers</th><th scope=col>mean_lowest_cost</th><th scope=col>mean_d_mbps</th><th scope=col>mean_lat_ms</th></tr>\n",
       "</thead>\n",
       "<tbody>\n",
       "\t<tr><td> 0.5167430</td><td> 0.1292741</td><td> 2.23493253</td><td>0.07418486</td><td> 1.7094218</td><td>-0.18458632</td><td>-1.05913969</td><td> 1.17991288</td></tr>\n",
       "\t<tr><td> 0.9194434</td><td> 2.9303783</td><td> 2.28240921</td><td>0.07416551</td><td> 2.2108891</td><td> 0.41923513</td><td>-0.64056563</td><td>-0.15416598</td></tr>\n",
       "\t<tr><td>-0.2714809</td><td>-1.2814270</td><td>-0.74343819</td><td>0.07345717</td><td> 1.2079545</td><td> 0.39687137</td><td>-0.31447576</td><td> 0.10962741</td></tr>\n",
       "\t<tr><td>-0.9413759</td><td>-1.0480017</td><td> 0.05100501</td><td>0.07347137</td><td>-0.2964475</td><td> 1.12369349</td><td>-0.85523159</td><td>-0.27548794</td></tr>\n",
       "\t<tr><td>-0.1913226</td><td>-1.0784484</td><td> 0.01302366</td><td>0.07354973</td><td>-0.2964475</td><td> 1.12369349</td><td>-0.08992031</td><td>-0.30026584</td></tr>\n",
       "\t<tr><td> 0.1789328</td><td>-0.1751938</td><td> 0.88026444</td><td>0.07377917</td><td> 0.2050198</td><td> 0.07383932</td><td>-0.57834859</td><td>-0.07734433</td></tr>\n",
       "</tbody>\n",
       "</table>\n"
      ],
      "text/latex": [
       "A matrix: 6 × 8 of type dbl\n",
       "\\begin{tabular}{llllllll}\n",
       " with\\_internet & work\\_from\\_home & sixtyfive\\_and\\_older & median\\_income & number\\_providers & mean\\_lowest\\_cost & mean\\_d\\_mbps & mean\\_lat\\_ms\\\\\n",
       "\\hline\n",
       "\t  0.5167430 &  0.1292741 &  2.23493253 & 0.07418486 &  1.7094218 & -0.18458632 & -1.05913969 &  1.17991288\\\\\n",
       "\t  0.9194434 &  2.9303783 &  2.28240921 & 0.07416551 &  2.2108891 &  0.41923513 & -0.64056563 & -0.15416598\\\\\n",
       "\t -0.2714809 & -1.2814270 & -0.74343819 & 0.07345717 &  1.2079545 &  0.39687137 & -0.31447576 &  0.10962741\\\\\n",
       "\t -0.9413759 & -1.0480017 &  0.05100501 & 0.07347137 & -0.2964475 &  1.12369349 & -0.85523159 & -0.27548794\\\\\n",
       "\t -0.1913226 & -1.0784484 &  0.01302366 & 0.07354973 & -0.2964475 &  1.12369349 & -0.08992031 & -0.30026584\\\\\n",
       "\t  0.1789328 & -0.1751938 &  0.88026444 & 0.07377917 &  0.2050198 &  0.07383932 & -0.57834859 & -0.07734433\\\\\n",
       "\\end{tabular}\n"
      ],
      "text/markdown": [
       "\n",
       "A matrix: 6 × 8 of type dbl\n",
       "\n",
       "| with_internet | work_from_home | sixtyfive_and_older | median_income | number_providers | mean_lowest_cost | mean_d_mbps | mean_lat_ms |\n",
       "|---|---|---|---|---|---|---|---|\n",
       "|  0.5167430 |  0.1292741 |  2.23493253 | 0.07418486 |  1.7094218 | -0.18458632 | -1.05913969 |  1.17991288 |\n",
       "|  0.9194434 |  2.9303783 |  2.28240921 | 0.07416551 |  2.2108891 |  0.41923513 | -0.64056563 | -0.15416598 |\n",
       "| -0.2714809 | -1.2814270 | -0.74343819 | 0.07345717 |  1.2079545 |  0.39687137 | -0.31447576 |  0.10962741 |\n",
       "| -0.9413759 | -1.0480017 |  0.05100501 | 0.07347137 | -0.2964475 |  1.12369349 | -0.85523159 | -0.27548794 |\n",
       "| -0.1913226 | -1.0784484 |  0.01302366 | 0.07354973 | -0.2964475 |  1.12369349 | -0.08992031 | -0.30026584 |\n",
       "|  0.1789328 | -0.1751938 |  0.88026444 | 0.07377917 |  0.2050198 |  0.07383932 | -0.57834859 | -0.07734433 |\n",
       "\n"
      ],
      "text/plain": [
       "     with_internet work_from_home sixtyfive_and_older median_income\n",
       "[1,]  0.5167430     0.1292741      2.23493253         0.07418486   \n",
       "[2,]  0.9194434     2.9303783      2.28240921         0.07416551   \n",
       "[3,] -0.2714809    -1.2814270     -0.74343819         0.07345717   \n",
       "[4,] -0.9413759    -1.0480017      0.05100501         0.07347137   \n",
       "[5,] -0.1913226    -1.0784484      0.01302366         0.07354973   \n",
       "[6,]  0.1789328    -0.1751938      0.88026444         0.07377917   \n",
       "     number_providers mean_lowest_cost mean_d_mbps mean_lat_ms\n",
       "[1,]  1.7094218       -0.18458632      -1.05913969  1.17991288\n",
       "[2,]  2.2108891        0.41923513      -0.64056563 -0.15416598\n",
       "[3,]  1.2079545        0.39687137      -0.31447576  0.10962741\n",
       "[4,] -0.2964475        1.12369349      -0.85523159 -0.27548794\n",
       "[5,] -0.2964475        1.12369349      -0.08992031 -0.30026584\n",
       "[6,]  0.2050198        0.07383932      -0.57834859 -0.07734433"
      ]
     },
     "metadata": {},
     "output_type": "display_data"
    }
   ],
   "source": [
    "head(scaled_data)"
   ]
  },
  {
   "attachments": {},
   "cell_type": "markdown",
   "metadata": {
    "slideshow": {
     "slide_type": "subslide"
    }
   },
   "source": [
    "### Examine The Data"
   ]
  },
  {
   "attachments": {},
   "cell_type": "markdown",
   "metadata": {
    "slideshow": {
     "slide_type": "subslide"
    }
   },
   "source": [
    "#### Variance"
   ]
  },
  {
   "cell_type": "code",
   "execution_count": 18,
   "metadata": {
    "vscode": {
     "languageId": "r"
    }
   },
   "outputs": [
    {
     "data": {
      "text/html": [
       "<table class=\"dataframe\">\n",
       "<caption>A matrix: 8 × 8 of type dbl</caption>\n",
       "<thead>\n",
       "\t<tr><th></th><th scope=col>with_internet</th><th scope=col>work_from_home</th><th scope=col>sixtyfive_and_older</th><th scope=col>median_income</th><th scope=col>number_providers</th><th scope=col>mean_lowest_cost</th><th scope=col>mean_d_mbps</th><th scope=col>mean_lat_ms</th></tr>\n",
       "</thead>\n",
       "<tbody>\n",
       "\t<tr><th scope=row>with_internet</th><td> 1.0000000</td><td> 0.444207496</td><td> 0.62529208</td><td> 0.16040888</td><td>-0.12882664</td><td> 0.13640579</td><td> 0.34507339</td><td>-0.236716631</td></tr>\n",
       "\t<tr><th scope=row>work_from_home</th><td> 0.4442075</td><td> 1.000000000</td><td> 0.39074417</td><td> 0.03663670</td><td> 0.02939906</td><td>-0.00620995</td><td> 0.03144231</td><td> 0.008545821</td></tr>\n",
       "\t<tr><th scope=row>sixtyfive_and_older</th><td> 0.6252921</td><td> 0.390744170</td><td> 1.00000000</td><td> 0.14854040</td><td> 0.05292992</td><td> 0.05050125</td><td>-0.04232679</td><td> 0.102017655</td></tr>\n",
       "\t<tr><th scope=row>median_income</th><td> 0.1604089</td><td> 0.036636701</td><td> 0.14854040</td><td> 1.00000000</td><td> 0.02199604</td><td>-0.05377681</td><td>-0.04773346</td><td> 0.058520706</td></tr>\n",
       "\t<tr><th scope=row>number_providers</th><td>-0.1288266</td><td> 0.029399058</td><td> 0.05292992</td><td> 0.02199604</td><td> 1.00000000</td><td>-0.32945829</td><td>-0.48020798</td><td> 0.446802457</td></tr>\n",
       "\t<tr><th scope=row>mean_lowest_cost</th><td> 0.1364058</td><td>-0.006209950</td><td> 0.05050125</td><td>-0.05377681</td><td>-0.32945829</td><td> 1.00000000</td><td> 0.19664282</td><td>-0.181091388</td></tr>\n",
       "\t<tr><th scope=row>mean_d_mbps</th><td> 0.3450734</td><td> 0.031442306</td><td>-0.04232679</td><td>-0.04773346</td><td>-0.48020798</td><td> 0.19664282</td><td> 1.00000000</td><td>-0.831561029</td></tr>\n",
       "\t<tr><th scope=row>mean_lat_ms</th><td>-0.2367166</td><td> 0.008545821</td><td> 0.10201766</td><td> 0.05852071</td><td> 0.44680246</td><td>-0.18109139</td><td>-0.83156103</td><td> 1.000000000</td></tr>\n",
       "</tbody>\n",
       "</table>\n"
      ],
      "text/latex": [
       "A matrix: 8 × 8 of type dbl\n",
       "\\begin{tabular}{r|llllllll}\n",
       "  & with\\_internet & work\\_from\\_home & sixtyfive\\_and\\_older & median\\_income & number\\_providers & mean\\_lowest\\_cost & mean\\_d\\_mbps & mean\\_lat\\_ms\\\\\n",
       "\\hline\n",
       "\twith\\_internet &  1.0000000 &  0.444207496 &  0.62529208 &  0.16040888 & -0.12882664 &  0.13640579 &  0.34507339 & -0.236716631\\\\\n",
       "\twork\\_from\\_home &  0.4442075 &  1.000000000 &  0.39074417 &  0.03663670 &  0.02939906 & -0.00620995 &  0.03144231 &  0.008545821\\\\\n",
       "\tsixtyfive\\_and\\_older &  0.6252921 &  0.390744170 &  1.00000000 &  0.14854040 &  0.05292992 &  0.05050125 & -0.04232679 &  0.102017655\\\\\n",
       "\tmedian\\_income &  0.1604089 &  0.036636701 &  0.14854040 &  1.00000000 &  0.02199604 & -0.05377681 & -0.04773346 &  0.058520706\\\\\n",
       "\tnumber\\_providers & -0.1288266 &  0.029399058 &  0.05292992 &  0.02199604 &  1.00000000 & -0.32945829 & -0.48020798 &  0.446802457\\\\\n",
       "\tmean\\_lowest\\_cost &  0.1364058 & -0.006209950 &  0.05050125 & -0.05377681 & -0.32945829 &  1.00000000 &  0.19664282 & -0.181091388\\\\\n",
       "\tmean\\_d\\_mbps &  0.3450734 &  0.031442306 & -0.04232679 & -0.04773346 & -0.48020798 &  0.19664282 &  1.00000000 & -0.831561029\\\\\n",
       "\tmean\\_lat\\_ms & -0.2367166 &  0.008545821 &  0.10201766 &  0.05852071 &  0.44680246 & -0.18109139 & -0.83156103 &  1.000000000\\\\\n",
       "\\end{tabular}\n"
      ],
      "text/markdown": [
       "\n",
       "A matrix: 8 × 8 of type dbl\n",
       "\n",
       "| <!--/--> | with_internet | work_from_home | sixtyfive_and_older | median_income | number_providers | mean_lowest_cost | mean_d_mbps | mean_lat_ms |\n",
       "|---|---|---|---|---|---|---|---|---|\n",
       "| with_internet |  1.0000000 |  0.444207496 |  0.62529208 |  0.16040888 | -0.12882664 |  0.13640579 |  0.34507339 | -0.236716631 |\n",
       "| work_from_home |  0.4442075 |  1.000000000 |  0.39074417 |  0.03663670 |  0.02939906 | -0.00620995 |  0.03144231 |  0.008545821 |\n",
       "| sixtyfive_and_older |  0.6252921 |  0.390744170 |  1.00000000 |  0.14854040 |  0.05292992 |  0.05050125 | -0.04232679 |  0.102017655 |\n",
       "| median_income |  0.1604089 |  0.036636701 |  0.14854040 |  1.00000000 |  0.02199604 | -0.05377681 | -0.04773346 |  0.058520706 |\n",
       "| number_providers | -0.1288266 |  0.029399058 |  0.05292992 |  0.02199604 |  1.00000000 | -0.32945829 | -0.48020798 |  0.446802457 |\n",
       "| mean_lowest_cost |  0.1364058 | -0.006209950 |  0.05050125 | -0.05377681 | -0.32945829 |  1.00000000 |  0.19664282 | -0.181091388 |\n",
       "| mean_d_mbps |  0.3450734 |  0.031442306 | -0.04232679 | -0.04773346 | -0.48020798 |  0.19664282 |  1.00000000 | -0.831561029 |\n",
       "| mean_lat_ms | -0.2367166 |  0.008545821 |  0.10201766 |  0.05852071 |  0.44680246 | -0.18109139 | -0.83156103 |  1.000000000 |\n",
       "\n"
      ],
      "text/plain": [
       "                    with_internet work_from_home sixtyfive_and_older\n",
       "with_internet        1.0000000     0.444207496    0.62529208        \n",
       "work_from_home       0.4442075     1.000000000    0.39074417        \n",
       "sixtyfive_and_older  0.6252921     0.390744170    1.00000000        \n",
       "median_income        0.1604089     0.036636701    0.14854040        \n",
       "number_providers    -0.1288266     0.029399058    0.05292992        \n",
       "mean_lowest_cost     0.1364058    -0.006209950    0.05050125        \n",
       "mean_d_mbps          0.3450734     0.031442306   -0.04232679        \n",
       "mean_lat_ms         -0.2367166     0.008545821    0.10201766        \n",
       "                    median_income number_providers mean_lowest_cost mean_d_mbps\n",
       "with_internet        0.16040888   -0.12882664       0.13640579       0.34507339\n",
       "work_from_home       0.03663670    0.02939906      -0.00620995       0.03144231\n",
       "sixtyfive_and_older  0.14854040    0.05292992       0.05050125      -0.04232679\n",
       "median_income        1.00000000    0.02199604      -0.05377681      -0.04773346\n",
       "number_providers     0.02199604    1.00000000      -0.32945829      -0.48020798\n",
       "mean_lowest_cost    -0.05377681   -0.32945829       1.00000000       0.19664282\n",
       "mean_d_mbps         -0.04773346   -0.48020798       0.19664282       1.00000000\n",
       "mean_lat_ms          0.05852071    0.44680246      -0.18109139      -0.83156103\n",
       "                    mean_lat_ms \n",
       "with_internet       -0.236716631\n",
       "work_from_home       0.008545821\n",
       "sixtyfive_and_older  0.102017655\n",
       "median_income        0.058520706\n",
       "number_providers     0.446802457\n",
       "mean_lowest_cost    -0.181091388\n",
       "mean_d_mbps         -0.831561029\n",
       "mean_lat_ms          1.000000000"
      ]
     },
     "metadata": {},
     "output_type": "display_data"
    }
   ],
   "source": [
    "var(scaled_data)"
   ]
  },
  {
   "attachments": {},
   "cell_type": "markdown",
   "metadata": {
    "slideshow": {
     "slide_type": "subslide"
    }
   },
   "source": [
    "#### Correlation"
   ]
  },
  {
   "cell_type": "code",
   "execution_count": 19,
   "metadata": {
    "vscode": {
     "languageId": "r"
    }
   },
   "outputs": [
    {
     "data": {
      "text/html": [
       "<table class=\"dataframe\">\n",
       "<caption>A matrix: 8 × 8 of type dbl</caption>\n",
       "<thead>\n",
       "\t<tr><th></th><th scope=col>with_internet</th><th scope=col>work_from_home</th><th scope=col>sixtyfive_and_older</th><th scope=col>median_income</th><th scope=col>number_providers</th><th scope=col>mean_lowest_cost</th><th scope=col>mean_d_mbps</th><th scope=col>mean_lat_ms</th></tr>\n",
       "</thead>\n",
       "<tbody>\n",
       "\t<tr><th scope=row>with_internet</th><td> 1.0000000</td><td> 0.444207496</td><td> 0.62529208</td><td> 0.16040888</td><td>-0.12882664</td><td> 0.13640579</td><td> 0.34507339</td><td>-0.236716631</td></tr>\n",
       "\t<tr><th scope=row>work_from_home</th><td> 0.4442075</td><td> 1.000000000</td><td> 0.39074417</td><td> 0.03663670</td><td> 0.02939906</td><td>-0.00620995</td><td> 0.03144231</td><td> 0.008545821</td></tr>\n",
       "\t<tr><th scope=row>sixtyfive_and_older</th><td> 0.6252921</td><td> 0.390744170</td><td> 1.00000000</td><td> 0.14854040</td><td> 0.05292992</td><td> 0.05050125</td><td>-0.04232679</td><td> 0.102017655</td></tr>\n",
       "\t<tr><th scope=row>median_income</th><td> 0.1604089</td><td> 0.036636701</td><td> 0.14854040</td><td> 1.00000000</td><td> 0.02199604</td><td>-0.05377681</td><td>-0.04773346</td><td> 0.058520706</td></tr>\n",
       "\t<tr><th scope=row>number_providers</th><td>-0.1288266</td><td> 0.029399058</td><td> 0.05292992</td><td> 0.02199604</td><td> 1.00000000</td><td>-0.32945829</td><td>-0.48020798</td><td> 0.446802457</td></tr>\n",
       "\t<tr><th scope=row>mean_lowest_cost</th><td> 0.1364058</td><td>-0.006209950</td><td> 0.05050125</td><td>-0.05377681</td><td>-0.32945829</td><td> 1.00000000</td><td> 0.19664282</td><td>-0.181091388</td></tr>\n",
       "\t<tr><th scope=row>mean_d_mbps</th><td> 0.3450734</td><td> 0.031442306</td><td>-0.04232679</td><td>-0.04773346</td><td>-0.48020798</td><td> 0.19664282</td><td> 1.00000000</td><td>-0.831561029</td></tr>\n",
       "\t<tr><th scope=row>mean_lat_ms</th><td>-0.2367166</td><td> 0.008545821</td><td> 0.10201766</td><td> 0.05852071</td><td> 0.44680246</td><td>-0.18109139</td><td>-0.83156103</td><td> 1.000000000</td></tr>\n",
       "</tbody>\n",
       "</table>\n"
      ],
      "text/latex": [
       "A matrix: 8 × 8 of type dbl\n",
       "\\begin{tabular}{r|llllllll}\n",
       "  & with\\_internet & work\\_from\\_home & sixtyfive\\_and\\_older & median\\_income & number\\_providers & mean\\_lowest\\_cost & mean\\_d\\_mbps & mean\\_lat\\_ms\\\\\n",
       "\\hline\n",
       "\twith\\_internet &  1.0000000 &  0.444207496 &  0.62529208 &  0.16040888 & -0.12882664 &  0.13640579 &  0.34507339 & -0.236716631\\\\\n",
       "\twork\\_from\\_home &  0.4442075 &  1.000000000 &  0.39074417 &  0.03663670 &  0.02939906 & -0.00620995 &  0.03144231 &  0.008545821\\\\\n",
       "\tsixtyfive\\_and\\_older &  0.6252921 &  0.390744170 &  1.00000000 &  0.14854040 &  0.05292992 &  0.05050125 & -0.04232679 &  0.102017655\\\\\n",
       "\tmedian\\_income &  0.1604089 &  0.036636701 &  0.14854040 &  1.00000000 &  0.02199604 & -0.05377681 & -0.04773346 &  0.058520706\\\\\n",
       "\tnumber\\_providers & -0.1288266 &  0.029399058 &  0.05292992 &  0.02199604 &  1.00000000 & -0.32945829 & -0.48020798 &  0.446802457\\\\\n",
       "\tmean\\_lowest\\_cost &  0.1364058 & -0.006209950 &  0.05050125 & -0.05377681 & -0.32945829 &  1.00000000 &  0.19664282 & -0.181091388\\\\\n",
       "\tmean\\_d\\_mbps &  0.3450734 &  0.031442306 & -0.04232679 & -0.04773346 & -0.48020798 &  0.19664282 &  1.00000000 & -0.831561029\\\\\n",
       "\tmean\\_lat\\_ms & -0.2367166 &  0.008545821 &  0.10201766 &  0.05852071 &  0.44680246 & -0.18109139 & -0.83156103 &  1.000000000\\\\\n",
       "\\end{tabular}\n"
      ],
      "text/markdown": [
       "\n",
       "A matrix: 8 × 8 of type dbl\n",
       "\n",
       "| <!--/--> | with_internet | work_from_home | sixtyfive_and_older | median_income | number_providers | mean_lowest_cost | mean_d_mbps | mean_lat_ms |\n",
       "|---|---|---|---|---|---|---|---|---|\n",
       "| with_internet |  1.0000000 |  0.444207496 |  0.62529208 |  0.16040888 | -0.12882664 |  0.13640579 |  0.34507339 | -0.236716631 |\n",
       "| work_from_home |  0.4442075 |  1.000000000 |  0.39074417 |  0.03663670 |  0.02939906 | -0.00620995 |  0.03144231 |  0.008545821 |\n",
       "| sixtyfive_and_older |  0.6252921 |  0.390744170 |  1.00000000 |  0.14854040 |  0.05292992 |  0.05050125 | -0.04232679 |  0.102017655 |\n",
       "| median_income |  0.1604089 |  0.036636701 |  0.14854040 |  1.00000000 |  0.02199604 | -0.05377681 | -0.04773346 |  0.058520706 |\n",
       "| number_providers | -0.1288266 |  0.029399058 |  0.05292992 |  0.02199604 |  1.00000000 | -0.32945829 | -0.48020798 |  0.446802457 |\n",
       "| mean_lowest_cost |  0.1364058 | -0.006209950 |  0.05050125 | -0.05377681 | -0.32945829 |  1.00000000 |  0.19664282 | -0.181091388 |\n",
       "| mean_d_mbps |  0.3450734 |  0.031442306 | -0.04232679 | -0.04773346 | -0.48020798 |  0.19664282 |  1.00000000 | -0.831561029 |\n",
       "| mean_lat_ms | -0.2367166 |  0.008545821 |  0.10201766 |  0.05852071 |  0.44680246 | -0.18109139 | -0.83156103 |  1.000000000 |\n",
       "\n"
      ],
      "text/plain": [
       "                    with_internet work_from_home sixtyfive_and_older\n",
       "with_internet        1.0000000     0.444207496    0.62529208        \n",
       "work_from_home       0.4442075     1.000000000    0.39074417        \n",
       "sixtyfive_and_older  0.6252921     0.390744170    1.00000000        \n",
       "median_income        0.1604089     0.036636701    0.14854040        \n",
       "number_providers    -0.1288266     0.029399058    0.05292992        \n",
       "mean_lowest_cost     0.1364058    -0.006209950    0.05050125        \n",
       "mean_d_mbps          0.3450734     0.031442306   -0.04232679        \n",
       "mean_lat_ms         -0.2367166     0.008545821    0.10201766        \n",
       "                    median_income number_providers mean_lowest_cost mean_d_mbps\n",
       "with_internet        0.16040888   -0.12882664       0.13640579       0.34507339\n",
       "work_from_home       0.03663670    0.02939906      -0.00620995       0.03144231\n",
       "sixtyfive_and_older  0.14854040    0.05292992       0.05050125      -0.04232679\n",
       "median_income        1.00000000    0.02199604      -0.05377681      -0.04773346\n",
       "number_providers     0.02199604    1.00000000      -0.32945829      -0.48020798\n",
       "mean_lowest_cost    -0.05377681   -0.32945829       1.00000000       0.19664282\n",
       "mean_d_mbps         -0.04773346   -0.48020798       0.19664282       1.00000000\n",
       "mean_lat_ms          0.05852071    0.44680246      -0.18109139      -0.83156103\n",
       "                    mean_lat_ms \n",
       "with_internet       -0.236716631\n",
       "work_from_home       0.008545821\n",
       "sixtyfive_and_older  0.102017655\n",
       "median_income        0.058520706\n",
       "number_providers     0.446802457\n",
       "mean_lowest_cost    -0.181091388\n",
       "mean_d_mbps         -0.831561029\n",
       "mean_lat_ms          1.000000000"
      ]
     },
     "metadata": {},
     "output_type": "display_data"
    }
   ],
   "source": [
    "cor(scaled_data)"
   ]
  },
  {
   "attachments": {},
   "cell_type": "markdown",
   "metadata": {
    "slideshow": {
     "slide_type": "slide"
    }
   },
   "source": [
    "## Create The Index"
   ]
  },
  {
   "attachments": {},
   "cell_type": "markdown",
   "metadata": {
    "slideshow": {
     "slide_type": "subslide"
    }
   },
   "source": [
    "### Apply PCA"
   ]
  },
  {
   "cell_type": "code",
   "execution_count": 20,
   "metadata": {
    "vscode": {
     "languageId": "r"
    }
   },
   "outputs": [],
   "source": [
    "pca_data <- prcomp(data, scale = TRUE, center = TRUE)\n",
    "\n",
    "# disable scientific notation\n",
    "options(scipen = 999)"
   ]
  },
  {
   "attachments": {},
   "cell_type": "markdown",
   "metadata": {
    "slideshow": {
     "slide_type": "subslide"
    }
   },
   "source": [
    "### Summary"
   ]
  },
  {
   "cell_type": "code",
   "execution_count": 21,
   "metadata": {
    "vscode": {
     "languageId": "r"
    }
   },
   "outputs": [
    {
     "data": {
      "text/html": [
       "<table class=\"dataframe\">\n",
       "<caption>A matrix: 3 × 8 of type dbl</caption>\n",
       "<thead>\n",
       "\t<tr><th></th><th scope=col>PC1</th><th scope=col>PC2</th><th scope=col>PC3</th><th scope=col>PC4</th><th scope=col>PC5</th><th scope=col>PC6</th><th scope=col>PC7</th><th scope=col>PC8</th></tr>\n",
       "</thead>\n",
       "<tbody>\n",
       "\t<tr><th scope=row>Standard deviation</th><td>1.574858</td><td>1.397105</td><td>0.9934573</td><td>0.9793035</td><td>0.7915245</td><td>0.7458941</td><td>0.5319915</td><td>0.395023</td></tr>\n",
       "\t<tr><th scope=row>Proportion of Variance</th><td>0.310020</td><td>0.243990</td><td>0.1233700</td><td>0.1198800</td><td>0.0783100</td><td>0.0695400</td><td>0.0353800</td><td>0.019510</td></tr>\n",
       "\t<tr><th scope=row>Cumulative Proportion</th><td>0.310020</td><td>0.554010</td><td>0.6773800</td><td>0.7972600</td><td>0.8755700</td><td>0.9451200</td><td>0.9804900</td><td>1.000000</td></tr>\n",
       "</tbody>\n",
       "</table>\n"
      ],
      "text/latex": [
       "A matrix: 3 × 8 of type dbl\n",
       "\\begin{tabular}{r|llllllll}\n",
       "  & PC1 & PC2 & PC3 & PC4 & PC5 & PC6 & PC7 & PC8\\\\\n",
       "\\hline\n",
       "\tStandard deviation & 1.574858 & 1.397105 & 0.9934573 & 0.9793035 & 0.7915245 & 0.7458941 & 0.5319915 & 0.395023\\\\\n",
       "\tProportion of Variance & 0.310020 & 0.243990 & 0.1233700 & 0.1198800 & 0.0783100 & 0.0695400 & 0.0353800 & 0.019510\\\\\n",
       "\tCumulative Proportion & 0.310020 & 0.554010 & 0.6773800 & 0.7972600 & 0.8755700 & 0.9451200 & 0.9804900 & 1.000000\\\\\n",
       "\\end{tabular}\n"
      ],
      "text/markdown": [
       "\n",
       "A matrix: 3 × 8 of type dbl\n",
       "\n",
       "| <!--/--> | PC1 | PC2 | PC3 | PC4 | PC5 | PC6 | PC7 | PC8 |\n",
       "|---|---|---|---|---|---|---|---|---|\n",
       "| Standard deviation | 1.574858 | 1.397105 | 0.9934573 | 0.9793035 | 0.7915245 | 0.7458941 | 0.5319915 | 0.395023 |\n",
       "| Proportion of Variance | 0.310020 | 0.243990 | 0.1233700 | 0.1198800 | 0.0783100 | 0.0695400 | 0.0353800 | 0.019510 |\n",
       "| Cumulative Proportion | 0.310020 | 0.554010 | 0.6773800 | 0.7972600 | 0.8755700 | 0.9451200 | 0.9804900 | 1.000000 |\n",
       "\n"
      ],
      "text/plain": [
       "                       PC1      PC2      PC3       PC4       PC5      \n",
       "Standard deviation     1.574858 1.397105 0.9934573 0.9793035 0.7915245\n",
       "Proportion of Variance 0.310020 0.243990 0.1233700 0.1198800 0.0783100\n",
       "Cumulative Proportion  0.310020 0.554010 0.6773800 0.7972600 0.8755700\n",
       "                       PC6       PC7       PC8     \n",
       "Standard deviation     0.7458941 0.5319915 0.395023\n",
       "Proportion of Variance 0.0695400 0.0353800 0.019510\n",
       "Cumulative Proportion  0.9451200 0.9804900 1.000000"
      ]
     },
     "metadata": {},
     "output_type": "display_data"
    }
   ],
   "source": [
    "summary(pca_data)$importance"
   ]
  },
  {
   "attachments": {},
   "cell_type": "markdown",
   "metadata": {
    "slideshow": {
     "slide_type": "subslide"
    }
   },
   "source": [
    "### Eigenvectors"
   ]
  },
  {
   "cell_type": "code",
   "execution_count": 22,
   "metadata": {
    "vscode": {
     "languageId": "r"
    }
   },
   "outputs": [],
   "source": [
    "eigenvectors <- -pca_data$rotation"
   ]
  },
  {
   "cell_type": "code",
   "execution_count": 23,
   "metadata": {
    "slideshow": {
     "slide_type": "fragment"
    },
    "vscode": {
     "languageId": "r"
    }
   },
   "outputs": [
    {
     "data": {
      "text/html": [
       "<table class=\"dataframe\">\n",
       "<caption>A matrix: 8 × 8 of type dbl</caption>\n",
       "<thead>\n",
       "\t<tr><th></th><th scope=col>PC1</th><th scope=col>PC2</th><th scope=col>PC3</th><th scope=col>PC4</th><th scope=col>PC5</th><th scope=col>PC6</th><th scope=col>PC7</th><th scope=col>PC8</th></tr>\n",
       "</thead>\n",
       "<tbody>\n",
       "\t<tr><th scope=row>with_internet</th><td> 0.377412658</td><td>-0.4796603</td><td> 0.02147272</td><td> 0.04412577</td><td>-0.26336729</td><td>-0.00083599</td><td> 0.716294176</td><td>-0.20648774</td></tr>\n",
       "\t<tr><th scope=row>work_from_home</th><td> 0.150229235</td><td>-0.4772610</td><td>-0.17544641</td><td> 0.28500329</td><td> 0.76259312</td><td> 0.20089979</td><td>-0.121958382</td><td> 0.02935836</td></tr>\n",
       "\t<tr><th scope=row>sixtyfive_and_older</th><td> 0.142469065</td><td>-0.5881751</td><td>-0.11438801</td><td>-0.06884421</td><td>-0.41567131</td><td>-0.29853581</td><td>-0.587743355</td><td> 0.09262777</td></tr>\n",
       "\t<tr><th scope=row>median_income</th><td> 0.004844915</td><td>-0.2243666</td><td> 0.74296047</td><td>-0.57722842</td><td> 0.19556285</td><td> 0.14835313</td><td>-0.061934144</td><td> 0.01907654</td></tr>\n",
       "\t<tr><th scope=row>number_providers</th><td>-0.418283619</td><td>-0.2198003</td><td> 0.08373760</td><td> 0.27345973</td><td>-0.34792065</td><td> 0.75353711</td><td>-0.058305894</td><td> 0.05165163</td></tr>\n",
       "\t<tr><th scope=row>mean_lowest_cost</th><td> 0.268025375</td><td> 0.0757529</td><td>-0.56029686</td><td>-0.63562117</td><td>-0.02188238</td><td> 0.44984550</td><td>-0.038300424</td><td> 0.01305070</td></tr>\n",
       "\t<tr><th scope=row>mean_d_mbps</th><td> 0.548537004</td><td> 0.1843519</td><td> 0.19401595</td><td> 0.21522843</td><td>-0.10066443</td><td> 0.16084239</td><td>-0.008642155</td><td> 0.73829383</td></tr>\n",
       "\t<tr><th scope=row>mean_lat_ms</th><td>-0.516699451</td><td>-0.2404605</td><td>-0.21235786</td><td>-0.23189673</td><td> 0.08000614</td><td>-0.22903464</td><td> 0.343263062</td><td> 0.63217173</td></tr>\n",
       "</tbody>\n",
       "</table>\n"
      ],
      "text/latex": [
       "A matrix: 8 × 8 of type dbl\n",
       "\\begin{tabular}{r|llllllll}\n",
       "  & PC1 & PC2 & PC3 & PC4 & PC5 & PC6 & PC7 & PC8\\\\\n",
       "\\hline\n",
       "\twith\\_internet &  0.377412658 & -0.4796603 &  0.02147272 &  0.04412577 & -0.26336729 & -0.00083599 &  0.716294176 & -0.20648774\\\\\n",
       "\twork\\_from\\_home &  0.150229235 & -0.4772610 & -0.17544641 &  0.28500329 &  0.76259312 &  0.20089979 & -0.121958382 &  0.02935836\\\\\n",
       "\tsixtyfive\\_and\\_older &  0.142469065 & -0.5881751 & -0.11438801 & -0.06884421 & -0.41567131 & -0.29853581 & -0.587743355 &  0.09262777\\\\\n",
       "\tmedian\\_income &  0.004844915 & -0.2243666 &  0.74296047 & -0.57722842 &  0.19556285 &  0.14835313 & -0.061934144 &  0.01907654\\\\\n",
       "\tnumber\\_providers & -0.418283619 & -0.2198003 &  0.08373760 &  0.27345973 & -0.34792065 &  0.75353711 & -0.058305894 &  0.05165163\\\\\n",
       "\tmean\\_lowest\\_cost &  0.268025375 &  0.0757529 & -0.56029686 & -0.63562117 & -0.02188238 &  0.44984550 & -0.038300424 &  0.01305070\\\\\n",
       "\tmean\\_d\\_mbps &  0.548537004 &  0.1843519 &  0.19401595 &  0.21522843 & -0.10066443 &  0.16084239 & -0.008642155 &  0.73829383\\\\\n",
       "\tmean\\_lat\\_ms & -0.516699451 & -0.2404605 & -0.21235786 & -0.23189673 &  0.08000614 & -0.22903464 &  0.343263062 &  0.63217173\\\\\n",
       "\\end{tabular}\n"
      ],
      "text/markdown": [
       "\n",
       "A matrix: 8 × 8 of type dbl\n",
       "\n",
       "| <!--/--> | PC1 | PC2 | PC3 | PC4 | PC5 | PC6 | PC7 | PC8 |\n",
       "|---|---|---|---|---|---|---|---|---|\n",
       "| with_internet |  0.377412658 | -0.4796603 |  0.02147272 |  0.04412577 | -0.26336729 | -0.00083599 |  0.716294176 | -0.20648774 |\n",
       "| work_from_home |  0.150229235 | -0.4772610 | -0.17544641 |  0.28500329 |  0.76259312 |  0.20089979 | -0.121958382 |  0.02935836 |\n",
       "| sixtyfive_and_older |  0.142469065 | -0.5881751 | -0.11438801 | -0.06884421 | -0.41567131 | -0.29853581 | -0.587743355 |  0.09262777 |\n",
       "| median_income |  0.004844915 | -0.2243666 |  0.74296047 | -0.57722842 |  0.19556285 |  0.14835313 | -0.061934144 |  0.01907654 |\n",
       "| number_providers | -0.418283619 | -0.2198003 |  0.08373760 |  0.27345973 | -0.34792065 |  0.75353711 | -0.058305894 |  0.05165163 |\n",
       "| mean_lowest_cost |  0.268025375 |  0.0757529 | -0.56029686 | -0.63562117 | -0.02188238 |  0.44984550 | -0.038300424 |  0.01305070 |\n",
       "| mean_d_mbps |  0.548537004 |  0.1843519 |  0.19401595 |  0.21522843 | -0.10066443 |  0.16084239 | -0.008642155 |  0.73829383 |\n",
       "| mean_lat_ms | -0.516699451 | -0.2404605 | -0.21235786 | -0.23189673 |  0.08000614 | -0.22903464 |  0.343263062 |  0.63217173 |\n",
       "\n"
      ],
      "text/plain": [
       "                    PC1          PC2        PC3         PC4         PC5        \n",
       "with_internet        0.377412658 -0.4796603  0.02147272  0.04412577 -0.26336729\n",
       "work_from_home       0.150229235 -0.4772610 -0.17544641  0.28500329  0.76259312\n",
       "sixtyfive_and_older  0.142469065 -0.5881751 -0.11438801 -0.06884421 -0.41567131\n",
       "median_income        0.004844915 -0.2243666  0.74296047 -0.57722842  0.19556285\n",
       "number_providers    -0.418283619 -0.2198003  0.08373760  0.27345973 -0.34792065\n",
       "mean_lowest_cost     0.268025375  0.0757529 -0.56029686 -0.63562117 -0.02188238\n",
       "mean_d_mbps          0.548537004  0.1843519  0.19401595  0.21522843 -0.10066443\n",
       "mean_lat_ms         -0.516699451 -0.2404605 -0.21235786 -0.23189673  0.08000614\n",
       "                    PC6         PC7          PC8        \n",
       "with_internet       -0.00083599  0.716294176 -0.20648774\n",
       "work_from_home       0.20089979 -0.121958382  0.02935836\n",
       "sixtyfive_and_older -0.29853581 -0.587743355  0.09262777\n",
       "median_income        0.14835313 -0.061934144  0.01907654\n",
       "number_providers     0.75353711 -0.058305894  0.05165163\n",
       "mean_lowest_cost     0.44984550 -0.038300424  0.01305070\n",
       "mean_d_mbps          0.16084239 -0.008642155  0.73829383\n",
       "mean_lat_ms         -0.22903464  0.343263062  0.63217173"
      ]
     },
     "metadata": {},
     "output_type": "display_data"
    }
   ],
   "source": [
    "eigenvectors"
   ]
  },
  {
   "attachments": {},
   "cell_type": "markdown",
   "metadata": {
    "slideshow": {
     "slide_type": "subslide"
    }
   },
   "source": [
    "### Eigenvalues"
   ]
  },
  {
   "cell_type": "code",
   "execution_count": 24,
   "metadata": {
    "vscode": {
     "languageId": "r"
    }
   },
   "outputs": [],
   "source": [
    "eigenvalues <- pca_data$sdev^2"
   ]
  },
  {
   "cell_type": "code",
   "execution_count": 25,
   "metadata": {
    "slideshow": {
     "slide_type": "fragment"
    },
    "vscode": {
     "languageId": "r"
    }
   },
   "outputs": [
    {
     "data": {
      "text/html": [
       "<ol>\n",
       "\t<li>2.48017839557914</li>\n",
       "\t<li>1.95190163804364</li>\n",
       "\t<li>0.986957432395328</li>\n",
       "\t<li>0.959035359730823</li>\n",
       "\t<li>0.626511001873219</li>\n",
       "\t<li>0.556358016716779</li>\n",
       "\t<li>0.283014996946427</li>\n",
       "\t<li>0.15604315871465</li>\n",
       "</ol>\n"
      ],
      "text/latex": [
       "\\begin{enumerate}\n",
       "\\item 2.48017839557914\n",
       "\\item 1.95190163804364\n",
       "\\item 0.986957432395328\n",
       "\\item 0.959035359730823\n",
       "\\item 0.626511001873219\n",
       "\\item 0.556358016716779\n",
       "\\item 0.283014996946427\n",
       "\\item 0.15604315871465\n",
       "\\end{enumerate}\n"
      ],
      "text/markdown": [
       "1. 2.48017839557914\n",
       "2. 1.95190163804364\n",
       "3. 0.986957432395328\n",
       "4. 0.959035359730823\n",
       "5. 0.626511001873219\n",
       "6. 0.556358016716779\n",
       "7. 0.283014996946427\n",
       "8. 0.15604315871465\n",
       "\n",
       "\n"
      ],
      "text/plain": [
       "[[1]]\n",
       "[1] 2.480178\n",
       "\n",
       "[[2]]\n",
       "[1] 1.951902\n",
       "\n",
       "[[3]]\n",
       "[1] 0.9869574\n",
       "\n",
       "[[4]]\n",
       "[1] 0.9590354\n",
       "\n",
       "[[5]]\n",
       "[1] 0.626511\n",
       "\n",
       "[[6]]\n",
       "[1] 0.556358\n",
       "\n",
       "[[7]]\n",
       "[1] 0.283015\n",
       "\n",
       "[[8]]\n",
       "[1] 0.1560432\n"
      ]
     },
     "metadata": {},
     "output_type": "display_data"
    }
   ],
   "source": [
    "as.list(eigenvalues)"
   ]
  },
  {
   "attachments": {},
   "cell_type": "markdown",
   "metadata": {
    "slideshow": {
     "slide_type": "subslide"
    }
   },
   "source": [
    "### Principal Component Scores"
   ]
  },
  {
   "cell_type": "code",
   "execution_count": 26,
   "metadata": {
    "vscode": {
     "languageId": "r"
    }
   },
   "outputs": [],
   "source": [
    "principal_components <- -pca_data$x"
   ]
  },
  {
   "cell_type": "code",
   "execution_count": 27,
   "metadata": {
    "slideshow": {
     "slide_type": "fragment"
    },
    "vscode": {
     "languageId": "r"
    }
   },
   "outputs": [
    {
     "data": {
      "text/html": [
       "<table class=\"dataframe\">\n",
       "<caption>A matrix: 6 × 8 of type dbl</caption>\n",
       "<thead>\n",
       "\t<tr><th scope=col>PC1</th><th scope=col>PC2</th><th scope=col>PC3</th><th scope=col>PC4</th><th scope=col>PC5</th><th scope=col>PC6</th><th scope=col>PC7</th><th scope=col>PC8</th></tr>\n",
       "</thead>\n",
       "<tbody>\n",
       "\t<tr><td>-1.42192033</td><td>-2.5094262</td><td>-0.4216056</td><td>-0.05382848</td><td>-1.3416852</td><td> 0.133819276</td><td>-0.6422132</td><td> 0.1553629</td></tr>\n",
       "\t<tr><td> 0.02864058</td><td>-3.7338870</td><td>-0.8416628</td><td> 0.91179458</td><td> 0.3320671</td><td> 1.704422847</td><td>-1.2372048</td><td>-0.3417111</td></tr>\n",
       "\t<tr><td>-1.02857117</td><td> 0.8428045</td><td> 0.1531004</td><td>-0.38344967</td><td>-0.9708462</td><td> 0.988708880</td><td> 0.3489395</td><td>-0.1443247</td></tr>\n",
       "\t<tr><td>-0.40670926</td><td> 0.9640893</td><td>-0.5494461</td><td>-1.30163926</td><td>-0.4155025</td><td>-0.006440414</td><td>-0.6939448</td><td>-0.6364739</td></tr>\n",
       "\t<tr><td> 0.29898986</td><td> 0.7882164</td><td>-0.3698514</td><td>-1.10418779</td><td>-0.6994794</td><td> 0.126935700</td><td>-0.1457736</td><td>-0.2464005</td></tr>\n",
       "\t<tr><td>-0.17626727</td><td>-0.6640083</td><td>-0.1312856</td><td>-0.24263415</td><td>-0.5531141</td><td>-0.174793193</td><td>-0.4087374</td><td>-0.4234793</td></tr>\n",
       "</tbody>\n",
       "</table>\n"
      ],
      "text/latex": [
       "A matrix: 6 × 8 of type dbl\n",
       "\\begin{tabular}{llllllll}\n",
       " PC1 & PC2 & PC3 & PC4 & PC5 & PC6 & PC7 & PC8\\\\\n",
       "\\hline\n",
       "\t -1.42192033 & -2.5094262 & -0.4216056 & -0.05382848 & -1.3416852 &  0.133819276 & -0.6422132 &  0.1553629\\\\\n",
       "\t  0.02864058 & -3.7338870 & -0.8416628 &  0.91179458 &  0.3320671 &  1.704422847 & -1.2372048 & -0.3417111\\\\\n",
       "\t -1.02857117 &  0.8428045 &  0.1531004 & -0.38344967 & -0.9708462 &  0.988708880 &  0.3489395 & -0.1443247\\\\\n",
       "\t -0.40670926 &  0.9640893 & -0.5494461 & -1.30163926 & -0.4155025 & -0.006440414 & -0.6939448 & -0.6364739\\\\\n",
       "\t  0.29898986 &  0.7882164 & -0.3698514 & -1.10418779 & -0.6994794 &  0.126935700 & -0.1457736 & -0.2464005\\\\\n",
       "\t -0.17626727 & -0.6640083 & -0.1312856 & -0.24263415 & -0.5531141 & -0.174793193 & -0.4087374 & -0.4234793\\\\\n",
       "\\end{tabular}\n"
      ],
      "text/markdown": [
       "\n",
       "A matrix: 6 × 8 of type dbl\n",
       "\n",
       "| PC1 | PC2 | PC3 | PC4 | PC5 | PC6 | PC7 | PC8 |\n",
       "|---|---|---|---|---|---|---|---|\n",
       "| -1.42192033 | -2.5094262 | -0.4216056 | -0.05382848 | -1.3416852 |  0.133819276 | -0.6422132 |  0.1553629 |\n",
       "|  0.02864058 | -3.7338870 | -0.8416628 |  0.91179458 |  0.3320671 |  1.704422847 | -1.2372048 | -0.3417111 |\n",
       "| -1.02857117 |  0.8428045 |  0.1531004 | -0.38344967 | -0.9708462 |  0.988708880 |  0.3489395 | -0.1443247 |\n",
       "| -0.40670926 |  0.9640893 | -0.5494461 | -1.30163926 | -0.4155025 | -0.006440414 | -0.6939448 | -0.6364739 |\n",
       "|  0.29898986 |  0.7882164 | -0.3698514 | -1.10418779 | -0.6994794 |  0.126935700 | -0.1457736 | -0.2464005 |\n",
       "| -0.17626727 | -0.6640083 | -0.1312856 | -0.24263415 | -0.5531141 | -0.174793193 | -0.4087374 | -0.4234793 |\n",
       "\n"
      ],
      "text/plain": [
       "     PC1         PC2        PC3        PC4         PC5        PC6         \n",
       "[1,] -1.42192033 -2.5094262 -0.4216056 -0.05382848 -1.3416852  0.133819276\n",
       "[2,]  0.02864058 -3.7338870 -0.8416628  0.91179458  0.3320671  1.704422847\n",
       "[3,] -1.02857117  0.8428045  0.1531004 -0.38344967 -0.9708462  0.988708880\n",
       "[4,] -0.40670926  0.9640893 -0.5494461 -1.30163926 -0.4155025 -0.006440414\n",
       "[5,]  0.29898986  0.7882164 -0.3698514 -1.10418779 -0.6994794  0.126935700\n",
       "[6,] -0.17626727 -0.6640083 -0.1312856 -0.24263415 -0.5531141 -0.174793193\n",
       "     PC7        PC8       \n",
       "[1,] -0.6422132  0.1553629\n",
       "[2,] -1.2372048 -0.3417111\n",
       "[3,]  0.3489395 -0.1443247\n",
       "[4,] -0.6939448 -0.6364739\n",
       "[5,] -0.1457736 -0.2464005\n",
       "[6,] -0.4087374 -0.4234793"
      ]
     },
     "metadata": {},
     "output_type": "display_data"
    }
   ],
   "source": [
    "head(principal_components)"
   ]
  },
  {
   "attachments": {},
   "cell_type": "markdown",
   "metadata": {
    "slideshow": {
     "slide_type": "subslide"
    }
   },
   "source": [
    "### Use The Scores From PC1 As Index"
   ]
  },
  {
   "attachments": {},
   "cell_type": "markdown",
   "metadata": {
    "slideshow": {
     "slide_type": "subslide"
    }
   },
   "source": [
    "#### PC1 Eigenvector"
   ]
  },
  {
   "cell_type": "code",
   "execution_count": 28,
   "metadata": {
    "vscode": {
     "languageId": "r"
    }
   },
   "outputs": [
    {
     "data": {
      "text/html": [
       "<dl>\n",
       "\t<dt>$with_internet</dt>\n",
       "\t\t<dd>0.377412658157769</dd>\n",
       "\t<dt>$work_from_home</dt>\n",
       "\t\t<dd>0.150229235477226</dd>\n",
       "\t<dt>$sixtyfive_and_older</dt>\n",
       "\t\t<dd>0.142469064562933</dd>\n",
       "\t<dt>$median_income</dt>\n",
       "\t\t<dd>0.00484491548081449</dd>\n",
       "\t<dt>$number_providers</dt>\n",
       "\t\t<dd>-0.418283619085679</dd>\n",
       "\t<dt>$mean_lowest_cost</dt>\n",
       "\t\t<dd>0.268025374744568</dd>\n",
       "\t<dt>$mean_d_mbps</dt>\n",
       "\t\t<dd>0.548537003873807</dd>\n",
       "\t<dt>$mean_lat_ms</dt>\n",
       "\t\t<dd>-0.516699450924354</dd>\n",
       "</dl>\n"
      ],
      "text/latex": [
       "\\begin{description}\n",
       "\\item[\\$with\\_internet] 0.377412658157769\n",
       "\\item[\\$work\\_from\\_home] 0.150229235477226\n",
       "\\item[\\$sixtyfive\\_and\\_older] 0.142469064562933\n",
       "\\item[\\$median\\_income] 0.00484491548081449\n",
       "\\item[\\$number\\_providers] -0.418283619085679\n",
       "\\item[\\$mean\\_lowest\\_cost] 0.268025374744568\n",
       "\\item[\\$mean\\_d\\_mbps] 0.548537003873807\n",
       "\\item[\\$mean\\_lat\\_ms] -0.516699450924354\n",
       "\\end{description}\n"
      ],
      "text/markdown": [
       "$with_internet\n",
       ":   0.377412658157769\n",
       "$work_from_home\n",
       ":   0.150229235477226\n",
       "$sixtyfive_and_older\n",
       ":   0.142469064562933\n",
       "$median_income\n",
       ":   0.00484491548081449\n",
       "$number_providers\n",
       ":   -0.418283619085679\n",
       "$mean_lowest_cost\n",
       ":   0.268025374744568\n",
       "$mean_d_mbps\n",
       ":   0.548537003873807\n",
       "$mean_lat_ms\n",
       ":   -0.516699450924354\n",
       "\n",
       "\n"
      ],
      "text/plain": [
       "$with_internet\n",
       "[1] 0.3774127\n",
       "\n",
       "$work_from_home\n",
       "[1] 0.1502292\n",
       "\n",
       "$sixtyfive_and_older\n",
       "[1] 0.1424691\n",
       "\n",
       "$median_income\n",
       "[1] 0.004844915\n",
       "\n",
       "$number_providers\n",
       "[1] -0.4182836\n",
       "\n",
       "$mean_lowest_cost\n",
       "[1] 0.2680254\n",
       "\n",
       "$mean_d_mbps\n",
       "[1] 0.548537\n",
       "\n",
       "$mean_lat_ms\n",
       "[1] -0.5166995\n"
      ]
     },
     "metadata": {},
     "output_type": "display_data"
    }
   ],
   "source": [
    "as.list(eigenvectors[, 1])"
   ]
  },
  {
   "attachments": {},
   "cell_type": "markdown",
   "metadata": {
    "slideshow": {
     "slide_type": "subslide"
    }
   },
   "source": [
    "#### Multiply PC1 by Scaled Data"
   ]
  },
  {
   "cell_type": "code",
   "execution_count": 29,
   "metadata": {
    "vscode": {
     "languageId": "r"
    }
   },
   "outputs": [
    {
     "data": {
      "text/html": [
       "<table class=\"dataframe\">\n",
       "<caption>A matrix: 6 × 1 of type dbl</caption>\n",
       "<tbody>\n",
       "\t<tr><td>-1.42192033</td></tr>\n",
       "\t<tr><td> 0.02864058</td></tr>\n",
       "\t<tr><td>-1.02857117</td></tr>\n",
       "\t<tr><td>-0.40670926</td></tr>\n",
       "\t<tr><td> 0.29898986</td></tr>\n",
       "\t<tr><td>-0.17626727</td></tr>\n",
       "</tbody>\n",
       "</table>\n"
      ],
      "text/latex": [
       "A matrix: 6 × 1 of type dbl\n",
       "\\begin{tabular}{l}\n",
       "\t -1.42192033\\\\\n",
       "\t  0.02864058\\\\\n",
       "\t -1.02857117\\\\\n",
       "\t -0.40670926\\\\\n",
       "\t  0.29898986\\\\\n",
       "\t -0.17626727\\\\\n",
       "\\end{tabular}\n"
      ],
      "text/markdown": [
       "\n",
       "A matrix: 6 × 1 of type dbl\n",
       "\n",
       "| -1.42192033 |\n",
       "|  0.02864058 |\n",
       "| -1.02857117 |\n",
       "| -0.40670926 |\n",
       "|  0.29898986 |\n",
       "| -0.17626727 |\n",
       "\n"
      ],
      "text/plain": [
       "     [,1]       \n",
       "[1,] -1.42192033\n",
       "[2,]  0.02864058\n",
       "[3,] -1.02857117\n",
       "[4,] -0.40670926\n",
       "[5,]  0.29898986\n",
       "[6,] -0.17626727"
      ]
     },
     "metadata": {},
     "output_type": "display_data"
    }
   ],
   "source": [
    "head(scaled_data %*% eigenvectors[, 1])"
   ]
  },
  {
   "attachments": {},
   "cell_type": "markdown",
   "metadata": {
    "slideshow": {
     "slide_type": "subslide"
    }
   },
   "source": [
    "#### We See That The Scores In PC1 Are The Same"
   ]
  },
  {
   "cell_type": "code",
   "execution_count": 30,
   "metadata": {
    "vscode": {
     "languageId": "r"
    }
   },
   "outputs": [
    {
     "data": {
      "text/html": [
       "<table class=\"dataframe\">\n",
       "<caption>A data.frame: 6 × 1</caption>\n",
       "<thead>\n",
       "\t<tr><th></th><th scope=col>index</th></tr>\n",
       "\t<tr><th></th><th scope=col>&lt;dbl&gt;</th></tr>\n",
       "</thead>\n",
       "<tbody>\n",
       "\t<tr><th scope=row>1</th><td>-1.42192033</td></tr>\n",
       "\t<tr><th scope=row>2</th><td> 0.02864058</td></tr>\n",
       "\t<tr><th scope=row>3</th><td>-1.02857117</td></tr>\n",
       "\t<tr><th scope=row>4</th><td>-0.40670926</td></tr>\n",
       "\t<tr><th scope=row>5</th><td> 0.29898986</td></tr>\n",
       "\t<tr><th scope=row>6</th><td>-0.17626727</td></tr>\n",
       "</tbody>\n",
       "</table>\n"
      ],
      "text/latex": [
       "A data.frame: 6 × 1\n",
       "\\begin{tabular}{r|l}\n",
       "  & index\\\\\n",
       "  & <dbl>\\\\\n",
       "\\hline\n",
       "\t1 & -1.42192033\\\\\n",
       "\t2 &  0.02864058\\\\\n",
       "\t3 & -1.02857117\\\\\n",
       "\t4 & -0.40670926\\\\\n",
       "\t5 &  0.29898986\\\\\n",
       "\t6 & -0.17626727\\\\\n",
       "\\end{tabular}\n"
      ],
      "text/markdown": [
       "\n",
       "A data.frame: 6 × 1\n",
       "\n",
       "| <!--/--> | index &lt;dbl&gt; |\n",
       "|---|---|\n",
       "| 1 | -1.42192033 |\n",
       "| 2 |  0.02864058 |\n",
       "| 3 | -1.02857117 |\n",
       "| 4 | -0.40670926 |\n",
       "| 5 |  0.29898986 |\n",
       "| 6 | -0.17626727 |\n",
       "\n"
      ],
      "text/plain": [
       "  index      \n",
       "1 -1.42192033\n",
       "2  0.02864058\n",
       "3 -1.02857117\n",
       "4 -0.40670926\n",
       "5  0.29898986\n",
       "6 -0.17626727"
      ]
     },
     "metadata": {},
     "output_type": "display_data"
    }
   ],
   "source": [
    "index_col <- as.data.frame(-pca_data$x) %>%\n",
    "    dplyr::select(PC1) %>%\n",
    "    rename(index = PC1)\n",
    "\n",
    "head(index_col)"
   ]
  },
  {
   "attachments": {},
   "cell_type": "markdown",
   "metadata": {
    "slideshow": {
     "slide_type": "subslide"
    }
   },
   "source": [
    "#### Append to DataFrame"
   ]
  },
  {
   "cell_type": "code",
   "execution_count": 31,
   "metadata": {
    "slideshow": {
     "slide_type": "fragment"
    },
    "vscode": {
     "languageId": "r"
    }
   },
   "outputs": [
    {
     "data": {
      "text/html": [
       "<table class=\"dataframe\">\n",
       "<caption>A data.frame: 6 × 9</caption>\n",
       "<thead>\n",
       "\t<tr><th></th><th scope=col>with_internet</th><th scope=col>work_from_home</th><th scope=col>sixtyfive_and_older</th><th scope=col>median_income</th><th scope=col>number_providers</th><th scope=col>mean_lowest_cost</th><th scope=col>mean_d_mbps</th><th scope=col>mean_lat_ms</th><th scope=col>index</th></tr>\n",
       "\t<tr><th></th><th scope=col>&lt;dbl&gt;</th><th scope=col>&lt;dbl&gt;</th><th scope=col>&lt;dbl&gt;</th><th scope=col>&lt;dbl&gt;</th><th scope=col>&lt;dbl&gt;</th><th scope=col>&lt;dbl&gt;</th><th scope=col>&lt;dbl&gt;</th><th scope=col>&lt;dbl&gt;</th><th scope=col>&lt;dbl&gt;</th></tr>\n",
       "</thead>\n",
       "<tbody>\n",
       "\t<tr><th scope=row>1</th><td> 0.5167430</td><td> 0.1292741</td><td> 2.23493253</td><td>0.07418486</td><td> 1.7094218</td><td>-0.18458632</td><td>-1.05913969</td><td> 1.17991288</td><td>-1.42192033</td></tr>\n",
       "\t<tr><th scope=row>2</th><td> 0.9194434</td><td> 2.9303783</td><td> 2.28240921</td><td>0.07416551</td><td> 2.2108891</td><td> 0.41923513</td><td>-0.64056563</td><td>-0.15416598</td><td> 0.02864058</td></tr>\n",
       "\t<tr><th scope=row>3</th><td>-0.2714809</td><td>-1.2814270</td><td>-0.74343819</td><td>0.07345717</td><td> 1.2079545</td><td> 0.39687137</td><td>-0.31447576</td><td> 0.10962741</td><td>-1.02857117</td></tr>\n",
       "\t<tr><th scope=row>4</th><td>-0.9413759</td><td>-1.0480017</td><td> 0.05100501</td><td>0.07347137</td><td>-0.2964475</td><td> 1.12369349</td><td>-0.85523159</td><td>-0.27548794</td><td>-0.40670926</td></tr>\n",
       "\t<tr><th scope=row>5</th><td>-0.1913226</td><td>-1.0784484</td><td> 0.01302366</td><td>0.07354973</td><td>-0.2964475</td><td> 1.12369349</td><td>-0.08992031</td><td>-0.30026584</td><td> 0.29898986</td></tr>\n",
       "\t<tr><th scope=row>6</th><td> 0.1789328</td><td>-0.1751938</td><td> 0.88026444</td><td>0.07377917</td><td> 0.2050198</td><td> 0.07383932</td><td>-0.57834859</td><td>-0.07734433</td><td>-0.17626727</td></tr>\n",
       "</tbody>\n",
       "</table>\n"
      ],
      "text/latex": [
       "A data.frame: 6 × 9\n",
       "\\begin{tabular}{r|lllllllll}\n",
       "  & with\\_internet & work\\_from\\_home & sixtyfive\\_and\\_older & median\\_income & number\\_providers & mean\\_lowest\\_cost & mean\\_d\\_mbps & mean\\_lat\\_ms & index\\\\\n",
       "  & <dbl> & <dbl> & <dbl> & <dbl> & <dbl> & <dbl> & <dbl> & <dbl> & <dbl>\\\\\n",
       "\\hline\n",
       "\t1 &  0.5167430 &  0.1292741 &  2.23493253 & 0.07418486 &  1.7094218 & -0.18458632 & -1.05913969 &  1.17991288 & -1.42192033\\\\\n",
       "\t2 &  0.9194434 &  2.9303783 &  2.28240921 & 0.07416551 &  2.2108891 &  0.41923513 & -0.64056563 & -0.15416598 &  0.02864058\\\\\n",
       "\t3 & -0.2714809 & -1.2814270 & -0.74343819 & 0.07345717 &  1.2079545 &  0.39687137 & -0.31447576 &  0.10962741 & -1.02857117\\\\\n",
       "\t4 & -0.9413759 & -1.0480017 &  0.05100501 & 0.07347137 & -0.2964475 &  1.12369349 & -0.85523159 & -0.27548794 & -0.40670926\\\\\n",
       "\t5 & -0.1913226 & -1.0784484 &  0.01302366 & 0.07354973 & -0.2964475 &  1.12369349 & -0.08992031 & -0.30026584 &  0.29898986\\\\\n",
       "\t6 &  0.1789328 & -0.1751938 &  0.88026444 & 0.07377917 &  0.2050198 &  0.07383932 & -0.57834859 & -0.07734433 & -0.17626727\\\\\n",
       "\\end{tabular}\n"
      ],
      "text/markdown": [
       "\n",
       "A data.frame: 6 × 9\n",
       "\n",
       "| <!--/--> | with_internet &lt;dbl&gt; | work_from_home &lt;dbl&gt; | sixtyfive_and_older &lt;dbl&gt; | median_income &lt;dbl&gt; | number_providers &lt;dbl&gt; | mean_lowest_cost &lt;dbl&gt; | mean_d_mbps &lt;dbl&gt; | mean_lat_ms &lt;dbl&gt; | index &lt;dbl&gt; |\n",
       "|---|---|---|---|---|---|---|---|---|---|\n",
       "| 1 |  0.5167430 |  0.1292741 |  2.23493253 | 0.07418486 |  1.7094218 | -0.18458632 | -1.05913969 |  1.17991288 | -1.42192033 |\n",
       "| 2 |  0.9194434 |  2.9303783 |  2.28240921 | 0.07416551 |  2.2108891 |  0.41923513 | -0.64056563 | -0.15416598 |  0.02864058 |\n",
       "| 3 | -0.2714809 | -1.2814270 | -0.74343819 | 0.07345717 |  1.2079545 |  0.39687137 | -0.31447576 |  0.10962741 | -1.02857117 |\n",
       "| 4 | -0.9413759 | -1.0480017 |  0.05100501 | 0.07347137 | -0.2964475 |  1.12369349 | -0.85523159 | -0.27548794 | -0.40670926 |\n",
       "| 5 | -0.1913226 | -1.0784484 |  0.01302366 | 0.07354973 | -0.2964475 |  1.12369349 | -0.08992031 | -0.30026584 |  0.29898986 |\n",
       "| 6 |  0.1789328 | -0.1751938 |  0.88026444 | 0.07377917 |  0.2050198 |  0.07383932 | -0.57834859 | -0.07734433 | -0.17626727 |\n",
       "\n"
      ],
      "text/plain": [
       "  with_internet work_from_home sixtyfive_and_older median_income\n",
       "1  0.5167430     0.1292741      2.23493253         0.07418486   \n",
       "2  0.9194434     2.9303783      2.28240921         0.07416551   \n",
       "3 -0.2714809    -1.2814270     -0.74343819         0.07345717   \n",
       "4 -0.9413759    -1.0480017      0.05100501         0.07347137   \n",
       "5 -0.1913226    -1.0784484      0.01302366         0.07354973   \n",
       "6  0.1789328    -0.1751938      0.88026444         0.07377917   \n",
       "  number_providers mean_lowest_cost mean_d_mbps mean_lat_ms index      \n",
       "1  1.7094218       -0.18458632      -1.05913969  1.17991288 -1.42192033\n",
       "2  2.2108891        0.41923513      -0.64056563 -0.15416598  0.02864058\n",
       "3  1.2079545        0.39687137      -0.31447576  0.10962741 -1.02857117\n",
       "4 -0.2964475        1.12369349      -0.85523159 -0.27548794 -0.40670926\n",
       "5 -0.2964475        1.12369349      -0.08992031 -0.30026584  0.29898986\n",
       "6  0.2050198        0.07383932      -0.57834859 -0.07734433 -0.17626727"
      ]
     },
     "metadata": {},
     "output_type": "display_data"
    }
   ],
   "source": [
    "index_data <- bind_cols(scaled_data, index_col)\n",
    "head(index_data)"
   ]
  },
  {
   "attachments": {},
   "cell_type": "markdown",
   "metadata": {
    "slideshow": {
     "slide_type": "subslide"
    }
   },
   "source": [
    "### Test The Index"
   ]
  },
  {
   "attachments": {},
   "cell_type": "markdown",
   "metadata": {
    "slideshow": {
     "slide_type": "subslide"
    }
   },
   "source": [
    "#### We remove variables with a p value greater than alpha of .05"
   ]
  },
  {
   "cell_type": "code",
   "execution_count": 33,
   "metadata": {
    "slideshow": {
     "slide_type": "fragment"
    },
    "vscode": {
     "languageId": "r"
    }
   },
   "outputs": [
    {
     "data": {
      "text/html": [
       "<dl>\n",
       "\t<dt>$with_internet</dt>\n",
       "\t\t<dd>0</dd>\n",
       "\t<dt>$work_from_home</dt>\n",
       "\t\t<dd>0.00126193079847048</dd>\n",
       "\t<dt>$sixtyfive_and_older</dt>\n",
       "\t\t<dd>0.00226241188219989</dd>\n",
       "\t<dt>$median_income</dt>\n",
       "\t\t<dd>0.918350528428636</dd>\n",
       "\t<dt>$number_providers</dt>\n",
       "\t\t<dd>0</dd>\n",
       "\t<dt>$mean_lowest_cost</dt>\n",
       "\t\t<dd>0.00000000265774868779545</dd>\n",
       "\t<dt>$mean_d_mbps</dt>\n",
       "\t\t<dd>0</dd>\n",
       "\t<dt>$mean_lat_ms</dt>\n",
       "\t\t<dd>0</dd>\n",
       "\t<dt>$index</dt>\n",
       "\t\t<dd>&lt;NA&gt;</dd>\n",
       "</dl>\n"
      ],
      "text/latex": [
       "\\begin{description}\n",
       "\\item[\\$with\\_internet] 0\n",
       "\\item[\\$work\\_from\\_home] 0.00126193079847048\n",
       "\\item[\\$sixtyfive\\_and\\_older] 0.00226241188219989\n",
       "\\item[\\$median\\_income] 0.918350528428636\n",
       "\\item[\\$number\\_providers] 0\n",
       "\\item[\\$mean\\_lowest\\_cost] 0.00000000265774868779545\n",
       "\\item[\\$mean\\_d\\_mbps] 0\n",
       "\\item[\\$mean\\_lat\\_ms] 0\n",
       "\\item[\\$index] <NA>\n",
       "\\end{description}\n"
      ],
      "text/markdown": [
       "$with_internet\n",
       ":   0\n",
       "$work_from_home\n",
       ":   0.00126193079847048\n",
       "$sixtyfive_and_older\n",
       ":   0.00226241188219989\n",
       "$median_income\n",
       ":   0.918350528428636\n",
       "$number_providers\n",
       ":   0\n",
       "$mean_lowest_cost\n",
       ":   0.00000000265774868779545\n",
       "$mean_d_mbps\n",
       ":   0\n",
       "$mean_lat_ms\n",
       ":   0\n",
       "$index\n",
       ":   &lt;NA&gt;\n",
       "\n",
       "\n"
      ],
      "text/plain": [
       "$with_internet\n",
       "[1] 0\n",
       "\n",
       "$work_from_home\n",
       "[1] 0.001261931\n",
       "\n",
       "$sixtyfive_and_older\n",
       "[1] 0.002262412\n",
       "\n",
       "$median_income\n",
       "[1] 0.9183505\n",
       "\n",
       "$number_providers\n",
       "[1] 0\n",
       "\n",
       "$mean_lowest_cost\n",
       "[1] 0.000000002657749\n",
       "\n",
       "$mean_d_mbps\n",
       "[1] 0\n",
       "\n",
       "$mean_lat_ms\n",
       "[1] 0\n",
       "\n",
       "$index\n",
       "[1] NA\n"
      ]
     },
     "metadata": {},
     "output_type": "display_data"
    }
   ],
   "source": [
    "as.list(rcorr(as.matrix(index_data), type = \"pearson\")$P[, 9])"
   ]
  },
  {
   "cell_type": "code",
   "execution_count": 34,
   "metadata": {
    "slideshow": {
     "slide_type": "subslide"
    },
    "vscode": {
     "languageId": "r"
    }
   },
   "outputs": [
    {
     "data": {
      "text/html": [
       "<table class=\"dataframe\">\n",
       "<caption>A matrix: 9 × 9 of type dbl</caption>\n",
       "<thead>\n",
       "\t<tr><th></th><th scope=col>with_internet</th><th scope=col>work_from_home</th><th scope=col>sixtyfive_and_older</th><th scope=col>median_income</th><th scope=col>number_providers</th><th scope=col>mean_lowest_cost</th><th scope=col>mean_d_mbps</th><th scope=col>mean_lat_ms</th><th scope=col>index</th></tr>\n",
       "</thead>\n",
       "<tbody>\n",
       "\t<tr><th scope=row>with_internet</th><td>                NA</td><td>0.0000000002997904</td><td>0.00000000000000</td><td>0.03006990</td><td>0.082203264746717686</td><td>0.065587150157389</td><td>0.000001719724394889</td><td>0.0012541075067722</td><td>0.000000000000000</td></tr>\n",
       "\t<tr><th scope=row>work_from_home</th><td>0.0000000002997904</td><td>                NA</td><td>0.00000004534735</td><td>0.62244972</td><td>0.692796119793771537</td><td>0.933508191298156</td><td>0.672635578892659680</td><td>0.9085912323262457</td><td>0.001261930798470</td></tr>\n",
       "\t<tr><th scope=row>sixtyfive_and_older</th><td>0.0000000000000000</td><td>0.0000000453473543</td><td>              NA</td><td>0.04477147</td><td>0.476702946467304045</td><td>0.497188268940468</td><td>0.569411922064836595</td><td>0.1693793288053422</td><td>0.002262411882200</td></tr>\n",
       "\t<tr><th scope=row>median_income</th><td>0.0300698982044132</td><td>0.6224497181702566</td><td>0.04477147246482</td><td>        NA</td><td>0.767570871280282230</td><td>0.469668921787601</td><td>0.521089097196837159</td><td>0.4313383103711321</td><td>0.918350528428636</td></tr>\n",
       "\t<tr><th scope=row>number_providers</th><td>0.0822032647467177</td><td>0.6927961197937715</td><td>0.47670294646730</td><td>0.76757087</td><td>                  NA</td><td>0.000005261422731</td><td>0.000000000006029399</td><td>0.0000000002296336</td><td>0.000000000000000</td></tr>\n",
       "\t<tr><th scope=row>mean_lowest_cost</th><td>0.0655871501573890</td><td>0.9335081912981564</td><td>0.49718826894047</td><td>0.46966892</td><td>0.000005261422731273</td><td>               NA</td><td>0.007630242115620689</td><td>0.0141555670114635</td><td>0.000000002657749</td></tr>\n",
       "\t<tr><th scope=row>mean_d_mbps</th><td>0.0000017197243949</td><td>0.6726355788926597</td><td>0.56941192206484</td><td>0.52108910</td><td>0.000000000006029399</td><td>0.007630242115621</td><td>                  NA</td><td>0.0000000000000000</td><td>0.000000000000000</td></tr>\n",
       "\t<tr><th scope=row>mean_lat_ms</th><td>0.0012541075067722</td><td>0.9085912323262457</td><td>0.16937932880534</td><td>0.43133831</td><td>0.000000000229633645</td><td>0.014155567011463</td><td>0.000000000000000000</td><td>                NA</td><td>0.000000000000000</td></tr>\n",
       "\t<tr><th scope=row>index</th><td>0.0000000000000000</td><td>0.0012619307984705</td><td>0.00226241188220</td><td>0.91835053</td><td>0.000000000000000000</td><td>0.000000002657749</td><td>0.000000000000000000</td><td>0.0000000000000000</td><td>               NA</td></tr>\n",
       "</tbody>\n",
       "</table>\n"
      ],
      "text/latex": [
       "A matrix: 9 × 9 of type dbl\n",
       "\\begin{tabular}{r|lllllllll}\n",
       "  & with\\_internet & work\\_from\\_home & sixtyfive\\_and\\_older & median\\_income & number\\_providers & mean\\_lowest\\_cost & mean\\_d\\_mbps & mean\\_lat\\_ms & index\\\\\n",
       "\\hline\n",
       "\twith\\_internet &                 NA & 0.0000000002997904 & 0.00000000000000 & 0.03006990 & 0.082203264746717686 & 0.065587150157389 & 0.000001719724394889 & 0.0012541075067722 & 0.000000000000000\\\\\n",
       "\twork\\_from\\_home & 0.0000000002997904 &                 NA & 0.00000004534735 & 0.62244972 & 0.692796119793771537 & 0.933508191298156 & 0.672635578892659680 & 0.9085912323262457 & 0.001261930798470\\\\\n",
       "\tsixtyfive\\_and\\_older & 0.0000000000000000 & 0.0000000453473543 &               NA & 0.04477147 & 0.476702946467304045 & 0.497188268940468 & 0.569411922064836595 & 0.1693793288053422 & 0.002262411882200\\\\\n",
       "\tmedian\\_income & 0.0300698982044132 & 0.6224497181702566 & 0.04477147246482 &         NA & 0.767570871280282230 & 0.469668921787601 & 0.521089097196837159 & 0.4313383103711321 & 0.918350528428636\\\\\n",
       "\tnumber\\_providers & 0.0822032647467177 & 0.6927961197937715 & 0.47670294646730 & 0.76757087 &                   NA & 0.000005261422731 & 0.000000000006029399 & 0.0000000002296336 & 0.000000000000000\\\\\n",
       "\tmean\\_lowest\\_cost & 0.0655871501573890 & 0.9335081912981564 & 0.49718826894047 & 0.46966892 & 0.000005261422731273 &                NA & 0.007630242115620689 & 0.0141555670114635 & 0.000000002657749\\\\\n",
       "\tmean\\_d\\_mbps & 0.0000017197243949 & 0.6726355788926597 & 0.56941192206484 & 0.52108910 & 0.000000000006029399 & 0.007630242115621 &                   NA & 0.0000000000000000 & 0.000000000000000\\\\\n",
       "\tmean\\_lat\\_ms & 0.0012541075067722 & 0.9085912323262457 & 0.16937932880534 & 0.43133831 & 0.000000000229633645 & 0.014155567011463 & 0.000000000000000000 &                 NA & 0.000000000000000\\\\\n",
       "\tindex & 0.0000000000000000 & 0.0012619307984705 & 0.00226241188220 & 0.91835053 & 0.000000000000000000 & 0.000000002657749 & 0.000000000000000000 & 0.0000000000000000 &                NA\\\\\n",
       "\\end{tabular}\n"
      ],
      "text/markdown": [
       "\n",
       "A matrix: 9 × 9 of type dbl\n",
       "\n",
       "| <!--/--> | with_internet | work_from_home | sixtyfive_and_older | median_income | number_providers | mean_lowest_cost | mean_d_mbps | mean_lat_ms | index |\n",
       "|---|---|---|---|---|---|---|---|---|---|\n",
       "| with_internet |                 NA | 0.0000000002997904 | 0.00000000000000 | 0.03006990 | 0.082203264746717686 | 0.065587150157389 | 0.000001719724394889 | 0.0012541075067722 | 0.000000000000000 |\n",
       "| work_from_home | 0.0000000002997904 |                 NA | 0.00000004534735 | 0.62244972 | 0.692796119793771537 | 0.933508191298156 | 0.672635578892659680 | 0.9085912323262457 | 0.001261930798470 |\n",
       "| sixtyfive_and_older | 0.0000000000000000 | 0.0000000453473543 |               NA | 0.04477147 | 0.476702946467304045 | 0.497188268940468 | 0.569411922064836595 | 0.1693793288053422 | 0.002262411882200 |\n",
       "| median_income | 0.0300698982044132 | 0.6224497181702566 | 0.04477147246482 |         NA | 0.767570871280282230 | 0.469668921787601 | 0.521089097196837159 | 0.4313383103711321 | 0.918350528428636 |\n",
       "| number_providers | 0.0822032647467177 | 0.6927961197937715 | 0.47670294646730 | 0.76757087 |                   NA | 0.000005261422731 | 0.000000000006029399 | 0.0000000002296336 | 0.000000000000000 |\n",
       "| mean_lowest_cost | 0.0655871501573890 | 0.9335081912981564 | 0.49718826894047 | 0.46966892 | 0.000005261422731273 |                NA | 0.007630242115620689 | 0.0141555670114635 | 0.000000002657749 |\n",
       "| mean_d_mbps | 0.0000017197243949 | 0.6726355788926597 | 0.56941192206484 | 0.52108910 | 0.000000000006029399 | 0.007630242115621 |                   NA | 0.0000000000000000 | 0.000000000000000 |\n",
       "| mean_lat_ms | 0.0012541075067722 | 0.9085912323262457 | 0.16937932880534 | 0.43133831 | 0.000000000229633645 | 0.014155567011463 | 0.000000000000000000 |                 NA | 0.000000000000000 |\n",
       "| index | 0.0000000000000000 | 0.0012619307984705 | 0.00226241188220 | 0.91835053 | 0.000000000000000000 | 0.000000002657749 | 0.000000000000000000 | 0.0000000000000000 |                NA |\n",
       "\n"
      ],
      "text/plain": [
       "                    with_internet      work_from_home     sixtyfive_and_older\n",
       "with_internet                       NA 0.0000000002997904 0.00000000000000   \n",
       "work_from_home      0.0000000002997904                 NA 0.00000004534735   \n",
       "sixtyfive_and_older 0.0000000000000000 0.0000000453473543               NA   \n",
       "median_income       0.0300698982044132 0.6224497181702566 0.04477147246482   \n",
       "number_providers    0.0822032647467177 0.6927961197937715 0.47670294646730   \n",
       "mean_lowest_cost    0.0655871501573890 0.9335081912981564 0.49718826894047   \n",
       "mean_d_mbps         0.0000017197243949 0.6726355788926597 0.56941192206484   \n",
       "mean_lat_ms         0.0012541075067722 0.9085912323262457 0.16937932880534   \n",
       "index               0.0000000000000000 0.0012619307984705 0.00226241188220   \n",
       "                    median_income number_providers     mean_lowest_cost \n",
       "with_internet       0.03006990    0.082203264746717686 0.065587150157389\n",
       "work_from_home      0.62244972    0.692796119793771537 0.933508191298156\n",
       "sixtyfive_and_older 0.04477147    0.476702946467304045 0.497188268940468\n",
       "median_income               NA    0.767570871280282230 0.469668921787601\n",
       "number_providers    0.76757087                      NA 0.000005261422731\n",
       "mean_lowest_cost    0.46966892    0.000005261422731273                NA\n",
       "mean_d_mbps         0.52108910    0.000000000006029399 0.007630242115621\n",
       "mean_lat_ms         0.43133831    0.000000000229633645 0.014155567011463\n",
       "index               0.91835053    0.000000000000000000 0.000000002657749\n",
       "                    mean_d_mbps          mean_lat_ms        index            \n",
       "with_internet       0.000001719724394889 0.0012541075067722 0.000000000000000\n",
       "work_from_home      0.672635578892659680 0.9085912323262457 0.001261930798470\n",
       "sixtyfive_and_older 0.569411922064836595 0.1693793288053422 0.002262411882200\n",
       "median_income       0.521089097196837159 0.4313383103711321 0.918350528428636\n",
       "number_providers    0.000000000006029399 0.0000000002296336 0.000000000000000\n",
       "mean_lowest_cost    0.007630242115620689 0.0141555670114635 0.000000002657749\n",
       "mean_d_mbps                           NA 0.0000000000000000 0.000000000000000\n",
       "mean_lat_ms         0.000000000000000000                 NA 0.000000000000000\n",
       "index               0.000000000000000000 0.0000000000000000                NA"
      ]
     },
     "metadata": {},
     "output_type": "display_data"
    }
   ],
   "source": [
    "rcorr(as.matrix(index_data), type = \"pearson\")$P"
   ]
  },
  {
   "cell_type": "code",
   "execution_count": 35,
   "metadata": {
    "slideshow": {
     "slide_type": "subslide"
    },
    "vscode": {
     "languageId": "r"
    }
   },
   "outputs": [
    {
     "data": {
      "text/html": [
       "<table class=\"dataframe\">\n",
       "<caption>A matrix: 9 × 9 of type dbl</caption>\n",
       "<thead>\n",
       "\t<tr><th></th><th scope=col>with_internet</th><th scope=col>work_from_home</th><th scope=col>sixtyfive_and_older</th><th scope=col>median_income</th><th scope=col>number_providers</th><th scope=col>mean_lowest_cost</th><th scope=col>mean_d_mbps</th><th scope=col>mean_lat_ms</th><th scope=col>index</th></tr>\n",
       "</thead>\n",
       "<tbody>\n",
       "\t<tr><th scope=row>with_internet</th><td> 1.0000000</td><td> 0.444207496</td><td> 0.62529208</td><td> 0.160408879</td><td>-0.12882664</td><td> 0.13640579</td><td> 0.34507339</td><td>-0.236716631</td><td> 0.594371425</td></tr>\n",
       "\t<tr><th scope=row>work_from_home</th><td> 0.4442075</td><td> 1.000000000</td><td> 0.39074417</td><td> 0.036636701</td><td> 0.02939906</td><td>-0.00620995</td><td> 0.03144231</td><td> 0.008545821</td><td> 0.236589746</td></tr>\n",
       "\t<tr><th scope=row>sixtyfive_and_older</th><td> 0.6252921</td><td> 0.390744170</td><td> 1.00000000</td><td> 0.148540399</td><td> 0.05292992</td><td> 0.05050125</td><td>-0.04232679</td><td> 0.102017655</td><td> 0.224368577</td></tr>\n",
       "\t<tr><th scope=row>median_income</th><td> 0.1604089</td><td> 0.036636701</td><td> 0.14854040</td><td> 1.000000000</td><td> 0.02199604</td><td>-0.05377681</td><td>-0.04773346</td><td> 0.058520706</td><td> 0.007630055</td></tr>\n",
       "\t<tr><th scope=row>number_providers</th><td>-0.1288266</td><td> 0.029399058</td><td> 0.05292992</td><td> 0.021996041</td><td> 1.00000000</td><td>-0.32945829</td><td>-0.48020798</td><td> 0.446802457</td><td>-0.658737393</td></tr>\n",
       "\t<tr><th scope=row>mean_lowest_cost</th><td> 0.1364058</td><td>-0.006209950</td><td> 0.05050125</td><td>-0.053776814</td><td>-0.32945829</td><td> 1.00000000</td><td> 0.19664282</td><td>-0.181091388</td><td> 0.422101963</td></tr>\n",
       "\t<tr><th scope=row>mean_d_mbps</th><td> 0.3450734</td><td> 0.031442306</td><td>-0.04232679</td><td>-0.047733455</td><td>-0.48020798</td><td> 0.19664282</td><td> 1.00000000</td><td>-0.831561029</td><td> 0.863868006</td></tr>\n",
       "\t<tr><th scope=row>mean_lat_ms</th><td>-0.2367166</td><td> 0.008545821</td><td> 0.10201766</td><td> 0.058520706</td><td> 0.44680246</td><td>-0.18109139</td><td>-0.83156103</td><td> 1.000000000</td><td>-0.813728375</td></tr>\n",
       "\t<tr><th scope=row>index</th><td> 0.5943714</td><td> 0.236589746</td><td> 0.22436858</td><td> 0.007630055</td><td>-0.65873739</td><td> 0.42210196</td><td> 0.86386801</td><td>-0.813728375</td><td> 1.000000000</td></tr>\n",
       "</tbody>\n",
       "</table>\n"
      ],
      "text/latex": [
       "A matrix: 9 × 9 of type dbl\n",
       "\\begin{tabular}{r|lllllllll}\n",
       "  & with\\_internet & work\\_from\\_home & sixtyfive\\_and\\_older & median\\_income & number\\_providers & mean\\_lowest\\_cost & mean\\_d\\_mbps & mean\\_lat\\_ms & index\\\\\n",
       "\\hline\n",
       "\twith\\_internet &  1.0000000 &  0.444207496 &  0.62529208 &  0.160408879 & -0.12882664 &  0.13640579 &  0.34507339 & -0.236716631 &  0.594371425\\\\\n",
       "\twork\\_from\\_home &  0.4442075 &  1.000000000 &  0.39074417 &  0.036636701 &  0.02939906 & -0.00620995 &  0.03144231 &  0.008545821 &  0.236589746\\\\\n",
       "\tsixtyfive\\_and\\_older &  0.6252921 &  0.390744170 &  1.00000000 &  0.148540399 &  0.05292992 &  0.05050125 & -0.04232679 &  0.102017655 &  0.224368577\\\\\n",
       "\tmedian\\_income &  0.1604089 &  0.036636701 &  0.14854040 &  1.000000000 &  0.02199604 & -0.05377681 & -0.04773346 &  0.058520706 &  0.007630055\\\\\n",
       "\tnumber\\_providers & -0.1288266 &  0.029399058 &  0.05292992 &  0.021996041 &  1.00000000 & -0.32945829 & -0.48020798 &  0.446802457 & -0.658737393\\\\\n",
       "\tmean\\_lowest\\_cost &  0.1364058 & -0.006209950 &  0.05050125 & -0.053776814 & -0.32945829 &  1.00000000 &  0.19664282 & -0.181091388 &  0.422101963\\\\\n",
       "\tmean\\_d\\_mbps &  0.3450734 &  0.031442306 & -0.04232679 & -0.047733455 & -0.48020798 &  0.19664282 &  1.00000000 & -0.831561029 &  0.863868006\\\\\n",
       "\tmean\\_lat\\_ms & -0.2367166 &  0.008545821 &  0.10201766 &  0.058520706 &  0.44680246 & -0.18109139 & -0.83156103 &  1.000000000 & -0.813728375\\\\\n",
       "\tindex &  0.5943714 &  0.236589746 &  0.22436858 &  0.007630055 & -0.65873739 &  0.42210196 &  0.86386801 & -0.813728375 &  1.000000000\\\\\n",
       "\\end{tabular}\n"
      ],
      "text/markdown": [
       "\n",
       "A matrix: 9 × 9 of type dbl\n",
       "\n",
       "| <!--/--> | with_internet | work_from_home | sixtyfive_and_older | median_income | number_providers | mean_lowest_cost | mean_d_mbps | mean_lat_ms | index |\n",
       "|---|---|---|---|---|---|---|---|---|---|\n",
       "| with_internet |  1.0000000 |  0.444207496 |  0.62529208 |  0.160408879 | -0.12882664 |  0.13640579 |  0.34507339 | -0.236716631 |  0.594371425 |\n",
       "| work_from_home |  0.4442075 |  1.000000000 |  0.39074417 |  0.036636701 |  0.02939906 | -0.00620995 |  0.03144231 |  0.008545821 |  0.236589746 |\n",
       "| sixtyfive_and_older |  0.6252921 |  0.390744170 |  1.00000000 |  0.148540399 |  0.05292992 |  0.05050125 | -0.04232679 |  0.102017655 |  0.224368577 |\n",
       "| median_income |  0.1604089 |  0.036636701 |  0.14854040 |  1.000000000 |  0.02199604 | -0.05377681 | -0.04773346 |  0.058520706 |  0.007630055 |\n",
       "| number_providers | -0.1288266 |  0.029399058 |  0.05292992 |  0.021996041 |  1.00000000 | -0.32945829 | -0.48020798 |  0.446802457 | -0.658737393 |\n",
       "| mean_lowest_cost |  0.1364058 | -0.006209950 |  0.05050125 | -0.053776814 | -0.32945829 |  1.00000000 |  0.19664282 | -0.181091388 |  0.422101963 |\n",
       "| mean_d_mbps |  0.3450734 |  0.031442306 | -0.04232679 | -0.047733455 | -0.48020798 |  0.19664282 |  1.00000000 | -0.831561029 |  0.863868006 |\n",
       "| mean_lat_ms | -0.2367166 |  0.008545821 |  0.10201766 |  0.058520706 |  0.44680246 | -0.18109139 | -0.83156103 |  1.000000000 | -0.813728375 |\n",
       "| index |  0.5943714 |  0.236589746 |  0.22436858 |  0.007630055 | -0.65873739 |  0.42210196 |  0.86386801 | -0.813728375 |  1.000000000 |\n",
       "\n"
      ],
      "text/plain": [
       "                    with_internet work_from_home sixtyfive_and_older\n",
       "with_internet        1.0000000     0.444207496    0.62529208        \n",
       "work_from_home       0.4442075     1.000000000    0.39074417        \n",
       "sixtyfive_and_older  0.6252921     0.390744170    1.00000000        \n",
       "median_income        0.1604089     0.036636701    0.14854040        \n",
       "number_providers    -0.1288266     0.029399058    0.05292992        \n",
       "mean_lowest_cost     0.1364058    -0.006209950    0.05050125        \n",
       "mean_d_mbps          0.3450734     0.031442306   -0.04232679        \n",
       "mean_lat_ms         -0.2367166     0.008545821    0.10201766        \n",
       "index                0.5943714     0.236589746    0.22436858        \n",
       "                    median_income number_providers mean_lowest_cost mean_d_mbps\n",
       "with_internet        0.160408879  -0.12882664       0.13640579       0.34507339\n",
       "work_from_home       0.036636701   0.02939906      -0.00620995       0.03144231\n",
       "sixtyfive_and_older  0.148540399   0.05292992       0.05050125      -0.04232679\n",
       "median_income        1.000000000   0.02199604      -0.05377681      -0.04773346\n",
       "number_providers     0.021996041   1.00000000      -0.32945829      -0.48020798\n",
       "mean_lowest_cost    -0.053776814  -0.32945829       1.00000000       0.19664282\n",
       "mean_d_mbps         -0.047733455  -0.48020798       0.19664282       1.00000000\n",
       "mean_lat_ms          0.058520706   0.44680246      -0.18109139      -0.83156103\n",
       "index                0.007630055  -0.65873739       0.42210196       0.86386801\n",
       "                    mean_lat_ms  index       \n",
       "with_internet       -0.236716631  0.594371425\n",
       "work_from_home       0.008545821  0.236589746\n",
       "sixtyfive_and_older  0.102017655  0.224368577\n",
       "median_income        0.058520706  0.007630055\n",
       "number_providers     0.446802457 -0.658737393\n",
       "mean_lowest_cost    -0.181091388  0.422101963\n",
       "mean_d_mbps         -0.831561029  0.863868006\n",
       "mean_lat_ms          1.000000000 -0.813728375\n",
       "index               -0.813728375  1.000000000"
      ]
     },
     "metadata": {},
     "output_type": "display_data"
    }
   ],
   "source": [
    "rcorr(as.matrix(index_data), type = \"pearson\")$r"
   ]
  },
  {
   "cell_type": "code",
   "execution_count": 36,
   "metadata": {
    "slideshow": {
     "slide_type": "subslide"
    },
    "vscode": {
     "languageId": "r"
    }
   },
   "outputs": [],
   "source": [
    "data1.2 <- data %>% dplyr::select(-median_income)\n",
    "scaled_data1.2 <- scale(data1.2)\n",
    "\n",
    "pca_data1.2 <- prcomp(data1.2, scale = TRUE, center = TRUE)\n",
    "eigenvectors1.2 <- -pca_data1.2$rotation\n",
    "eigenvalues1.2 <- pca_data1.2$sdev^2\n",
    "\n",
    "index_col1.2 <- as.data.frame(-pca_data1.2$x) %>%\n",
    "    dplyr::select(PC1) %>%\n",
    "    rename(index = PC1)\n",
    "\n",
    "index_data1.2 <- bind_cols(scaled_data1.2, index_col1.2)"
   ]
  },
  {
   "cell_type": "code",
   "execution_count": 37,
   "metadata": {
    "vscode": {
     "languageId": "r"
    }
   },
   "outputs": [
    {
     "data": {
      "text/html": [
       "<table class=\"dataframe\">\n",
       "<caption>A matrix: 8 × 8 of type dbl</caption>\n",
       "<thead>\n",
       "\t<tr><th></th><th scope=col>with_internet</th><th scope=col>work_from_home</th><th scope=col>sixtyfive_and_older</th><th scope=col>number_providers</th><th scope=col>mean_lowest_cost</th><th scope=col>mean_d_mbps</th><th scope=col>mean_lat_ms</th><th scope=col>index</th></tr>\n",
       "</thead>\n",
       "<tbody>\n",
       "\t<tr><th scope=row>with_internet</th><td>                NA</td><td>0.0000000002997904</td><td>0.00000000000000</td><td>0.082203264746717686</td><td>0.065587150157389</td><td>0.000001719724394889</td><td>0.0012541075067722</td><td>0.000000000000000</td></tr>\n",
       "\t<tr><th scope=row>work_from_home</th><td>0.0000000002997904</td><td>                NA</td><td>0.00000004534735</td><td>0.692796119793771537</td><td>0.933508191298156</td><td>0.672635578892659680</td><td>0.9085912323262457</td><td>0.001334290517258</td></tr>\n",
       "\t<tr><th scope=row>sixtyfive_and_older</th><td>0.0000000000000000</td><td>0.0000000453473543</td><td>              NA</td><td>0.476702946467304045</td><td>0.497188268940468</td><td>0.569411922064836595</td><td>0.1693793288053422</td><td>0.002459982284872</td></tr>\n",
       "\t<tr><th scope=row>number_providers</th><td>0.0822032647467177</td><td>0.6927961197937715</td><td>0.47670294646730</td><td>                  NA</td><td>0.000005261422731</td><td>0.000000000006029399</td><td>0.0000000002296336</td><td>0.000000000000000</td></tr>\n",
       "\t<tr><th scope=row>mean_lowest_cost</th><td>0.0655871501573890</td><td>0.9335081912981564</td><td>0.49718826894047</td><td>0.000005261422731273</td><td>               NA</td><td>0.007630242115620689</td><td>0.0141555670114635</td><td>0.000000002564211</td></tr>\n",
       "\t<tr><th scope=row>mean_d_mbps</th><td>0.0000017197243949</td><td>0.6726355788926597</td><td>0.56941192206484</td><td>0.000000000006029399</td><td>0.007630242115621</td><td>                  NA</td><td>0.0000000000000000</td><td>0.000000000000000</td></tr>\n",
       "\t<tr><th scope=row>mean_lat_ms</th><td>0.0012541075067722</td><td>0.9085912323262457</td><td>0.16937932880534</td><td>0.000000000229633645</td><td>0.014155567011463</td><td>0.000000000000000000</td><td>                NA</td><td>0.000000000000000</td></tr>\n",
       "\t<tr><th scope=row>index</th><td>0.0000000000000000</td><td>0.0013342905172582</td><td>0.00245998228487</td><td>0.000000000000000000</td><td>0.000000002564211</td><td>0.000000000000000000</td><td>0.0000000000000000</td><td>               NA</td></tr>\n",
       "</tbody>\n",
       "</table>\n"
      ],
      "text/latex": [
       "A matrix: 8 × 8 of type dbl\n",
       "\\begin{tabular}{r|llllllll}\n",
       "  & with\\_internet & work\\_from\\_home & sixtyfive\\_and\\_older & number\\_providers & mean\\_lowest\\_cost & mean\\_d\\_mbps & mean\\_lat\\_ms & index\\\\\n",
       "\\hline\n",
       "\twith\\_internet &                 NA & 0.0000000002997904 & 0.00000000000000 & 0.082203264746717686 & 0.065587150157389 & 0.000001719724394889 & 0.0012541075067722 & 0.000000000000000\\\\\n",
       "\twork\\_from\\_home & 0.0000000002997904 &                 NA & 0.00000004534735 & 0.692796119793771537 & 0.933508191298156 & 0.672635578892659680 & 0.9085912323262457 & 0.001334290517258\\\\\n",
       "\tsixtyfive\\_and\\_older & 0.0000000000000000 & 0.0000000453473543 &               NA & 0.476702946467304045 & 0.497188268940468 & 0.569411922064836595 & 0.1693793288053422 & 0.002459982284872\\\\\n",
       "\tnumber\\_providers & 0.0822032647467177 & 0.6927961197937715 & 0.47670294646730 &                   NA & 0.000005261422731 & 0.000000000006029399 & 0.0000000002296336 & 0.000000000000000\\\\\n",
       "\tmean\\_lowest\\_cost & 0.0655871501573890 & 0.9335081912981564 & 0.49718826894047 & 0.000005261422731273 &                NA & 0.007630242115620689 & 0.0141555670114635 & 0.000000002564211\\\\\n",
       "\tmean\\_d\\_mbps & 0.0000017197243949 & 0.6726355788926597 & 0.56941192206484 & 0.000000000006029399 & 0.007630242115621 &                   NA & 0.0000000000000000 & 0.000000000000000\\\\\n",
       "\tmean\\_lat\\_ms & 0.0012541075067722 & 0.9085912323262457 & 0.16937932880534 & 0.000000000229633645 & 0.014155567011463 & 0.000000000000000000 &                 NA & 0.000000000000000\\\\\n",
       "\tindex & 0.0000000000000000 & 0.0013342905172582 & 0.00245998228487 & 0.000000000000000000 & 0.000000002564211 & 0.000000000000000000 & 0.0000000000000000 &                NA\\\\\n",
       "\\end{tabular}\n"
      ],
      "text/markdown": [
       "\n",
       "A matrix: 8 × 8 of type dbl\n",
       "\n",
       "| <!--/--> | with_internet | work_from_home | sixtyfive_and_older | number_providers | mean_lowest_cost | mean_d_mbps | mean_lat_ms | index |\n",
       "|---|---|---|---|---|---|---|---|---|\n",
       "| with_internet |                 NA | 0.0000000002997904 | 0.00000000000000 | 0.082203264746717686 | 0.065587150157389 | 0.000001719724394889 | 0.0012541075067722 | 0.000000000000000 |\n",
       "| work_from_home | 0.0000000002997904 |                 NA | 0.00000004534735 | 0.692796119793771537 | 0.933508191298156 | 0.672635578892659680 | 0.9085912323262457 | 0.001334290517258 |\n",
       "| sixtyfive_and_older | 0.0000000000000000 | 0.0000000453473543 |               NA | 0.476702946467304045 | 0.497188268940468 | 0.569411922064836595 | 0.1693793288053422 | 0.002459982284872 |\n",
       "| number_providers | 0.0822032647467177 | 0.6927961197937715 | 0.47670294646730 |                   NA | 0.000005261422731 | 0.000000000006029399 | 0.0000000002296336 | 0.000000000000000 |\n",
       "| mean_lowest_cost | 0.0655871501573890 | 0.9335081912981564 | 0.49718826894047 | 0.000005261422731273 |                NA | 0.007630242115620689 | 0.0141555670114635 | 0.000000002564211 |\n",
       "| mean_d_mbps | 0.0000017197243949 | 0.6726355788926597 | 0.56941192206484 | 0.000000000006029399 | 0.007630242115621 |                   NA | 0.0000000000000000 | 0.000000000000000 |\n",
       "| mean_lat_ms | 0.0012541075067722 | 0.9085912323262457 | 0.16937932880534 | 0.000000000229633645 | 0.014155567011463 | 0.000000000000000000 |                 NA | 0.000000000000000 |\n",
       "| index | 0.0000000000000000 | 0.0013342905172582 | 0.00245998228487 | 0.000000000000000000 | 0.000000002564211 | 0.000000000000000000 | 0.0000000000000000 |                NA |\n",
       "\n"
      ],
      "text/plain": [
       "                    with_internet      work_from_home     sixtyfive_and_older\n",
       "with_internet                       NA 0.0000000002997904 0.00000000000000   \n",
       "work_from_home      0.0000000002997904                 NA 0.00000004534735   \n",
       "sixtyfive_and_older 0.0000000000000000 0.0000000453473543               NA   \n",
       "number_providers    0.0822032647467177 0.6927961197937715 0.47670294646730   \n",
       "mean_lowest_cost    0.0655871501573890 0.9335081912981564 0.49718826894047   \n",
       "mean_d_mbps         0.0000017197243949 0.6726355788926597 0.56941192206484   \n",
       "mean_lat_ms         0.0012541075067722 0.9085912323262457 0.16937932880534   \n",
       "index               0.0000000000000000 0.0013342905172582 0.00245998228487   \n",
       "                    number_providers     mean_lowest_cost  mean_d_mbps         \n",
       "with_internet       0.082203264746717686 0.065587150157389 0.000001719724394889\n",
       "work_from_home      0.692796119793771537 0.933508191298156 0.672635578892659680\n",
       "sixtyfive_and_older 0.476702946467304045 0.497188268940468 0.569411922064836595\n",
       "number_providers                      NA 0.000005261422731 0.000000000006029399\n",
       "mean_lowest_cost    0.000005261422731273                NA 0.007630242115620689\n",
       "mean_d_mbps         0.000000000006029399 0.007630242115621                   NA\n",
       "mean_lat_ms         0.000000000229633645 0.014155567011463 0.000000000000000000\n",
       "index               0.000000000000000000 0.000000002564211 0.000000000000000000\n",
       "                    mean_lat_ms        index            \n",
       "with_internet       0.0012541075067722 0.000000000000000\n",
       "work_from_home      0.9085912323262457 0.001334290517258\n",
       "sixtyfive_and_older 0.1693793288053422 0.002459982284872\n",
       "number_providers    0.0000000002296336 0.000000000000000\n",
       "mean_lowest_cost    0.0141555670114635 0.000000002564211\n",
       "mean_d_mbps         0.0000000000000000 0.000000000000000\n",
       "mean_lat_ms                         NA 0.000000000000000\n",
       "index               0.0000000000000000                NA"
      ]
     },
     "metadata": {},
     "output_type": "display_data"
    }
   ],
   "source": [
    "rcorr(as.matrix(index_data1.2), type = \"pearson\")$P"
   ]
  },
  {
   "cell_type": "code",
   "execution_count": 37,
   "metadata": {
    "vscode": {
     "languageId": "r"
    }
   },
   "outputs": [],
   "source": [
    "# data1.3 <- data %>% dplyr::select(-median_income, -sixtyfive_and_older, -work_from_home)\n",
    "# scaled_data1.3 <- scale(data1.3)\n",
    "\n",
    "# pca_data1.3 <- prcomp(data1.3, scale = TRUE, center = TRUE)\n",
    "# eigenvectors1.3 <- -pca_data1.3$rotation\n",
    "# eigenvalues1.3 <- pca_data1.3$sdev^2\n",
    "\n",
    "# index_col1.3 <- as.data.frame(-pca_data1.3$x) %>%\n",
    "#     dplyr::select(PC1) %>%\n",
    "#     rename(index = PC1)\n",
    "\n",
    "# index_data1.3 <- bind_cols(scaled_data1.3, index_col1.3)"
   ]
  },
  {
   "cell_type": "code",
   "execution_count": 38,
   "metadata": {
    "vscode": {
     "languageId": "r"
    }
   },
   "outputs": [
    {
     "data": {
      "text/html": [
       "<table class=\"dataframe\">\n",
       "<caption>A matrix: 7 × 7 of type dbl</caption>\n",
       "<thead>\n",
       "\t<tr><th></th><th scope=col>with_internet</th><th scope=col>number_providers</th><th scope=col>mean_lowest_cost</th><th scope=col>mean_d_mbps</th><th scope=col>mean_u_mbps</th><th scope=col>mean_lat_ms</th><th scope=col>index</th></tr>\n",
       "</thead>\n",
       "<tbody>\n",
       "\t<tr><th scope=row>with_internet</th><td>                 NA</td><td>0.082203264746717686</td><td>0.06558715015739</td><td>0.000001719724394889</td><td>0.006902898453880368379</td><td>0.0012541075067722</td><td>0.000000000035832448120</td></tr>\n",
       "\t<tr><th scope=row>number_providers</th><td>0.08220326474671769</td><td>                  NA</td><td>0.00000526142273</td><td>0.000000000006029399</td><td>0.826929938720939894381</td><td>0.0000000002296336</td><td>0.000000000000000000000</td></tr>\n",
       "\t<tr><th scope=row>mean_lowest_cost</th><td>0.06558715015738903</td><td>0.000005261422731273</td><td>              NA</td><td>0.007630242115620689</td><td>0.256184957503358123887</td><td>0.0141555670114635</td><td>0.000000025218147570172</td></tr>\n",
       "\t<tr><th scope=row>mean_d_mbps</th><td>0.00000171972439489</td><td>0.000000000006029399</td><td>0.00763024211562</td><td>                  NA</td><td>0.000000013665493181492</td><td>0.0000000000000000</td><td>0.000000000000000000000</td></tr>\n",
       "\t<tr><th scope=row>mean_u_mbps</th><td>0.00690289845388037</td><td>0.826929938720939894</td><td>0.25618495750336</td><td>0.000000013665493181</td><td>                     NA</td><td>0.0000000029104892</td><td>0.000000000000009325873</td></tr>\n",
       "\t<tr><th scope=row>mean_lat_ms</th><td>0.00125410750677224</td><td>0.000000000229633645</td><td>0.01415556701146</td><td>0.000000000000000000</td><td>0.000000002910489182995</td><td>                NA</td><td>0.000000000000000000000</td></tr>\n",
       "\t<tr><th scope=row>index</th><td>0.00000000003583245</td><td>0.000000000000000000</td><td>0.00000002521815</td><td>0.000000000000000000</td><td>0.000000000000009325873</td><td>0.0000000000000000</td><td>                     NA</td></tr>\n",
       "</tbody>\n",
       "</table>\n"
      ],
      "text/latex": [
       "A matrix: 7 × 7 of type dbl\n",
       "\\begin{tabular}{r|lllllll}\n",
       "  & with\\_internet & number\\_providers & mean\\_lowest\\_cost & mean\\_d\\_mbps & mean\\_u\\_mbps & mean\\_lat\\_ms & index\\\\\n",
       "\\hline\n",
       "\twith\\_internet &                  NA & 0.082203264746717686 & 0.06558715015739 & 0.000001719724394889 & 0.006902898453880368379 & 0.0012541075067722 & 0.000000000035832448120\\\\\n",
       "\tnumber\\_providers & 0.08220326474671769 &                   NA & 0.00000526142273 & 0.000000000006029399 & 0.826929938720939894381 & 0.0000000002296336 & 0.000000000000000000000\\\\\n",
       "\tmean\\_lowest\\_cost & 0.06558715015738903 & 0.000005261422731273 &               NA & 0.007630242115620689 & 0.256184957503358123887 & 0.0141555670114635 & 0.000000025218147570172\\\\\n",
       "\tmean\\_d\\_mbps & 0.00000171972439489 & 0.000000000006029399 & 0.00763024211562 &                   NA & 0.000000013665493181492 & 0.0000000000000000 & 0.000000000000000000000\\\\\n",
       "\tmean\\_u\\_mbps & 0.00690289845388037 & 0.826929938720939894 & 0.25618495750336 & 0.000000013665493181 &                      NA & 0.0000000029104892 & 0.000000000000009325873\\\\\n",
       "\tmean\\_lat\\_ms & 0.00125410750677224 & 0.000000000229633645 & 0.01415556701146 & 0.000000000000000000 & 0.000000002910489182995 &                 NA & 0.000000000000000000000\\\\\n",
       "\tindex & 0.00000000003583245 & 0.000000000000000000 & 0.00000002521815 & 0.000000000000000000 & 0.000000000000009325873 & 0.0000000000000000 &                      NA\\\\\n",
       "\\end{tabular}\n"
      ],
      "text/markdown": [
       "\n",
       "A matrix: 7 × 7 of type dbl\n",
       "\n",
       "| <!--/--> | with_internet | number_providers | mean_lowest_cost | mean_d_mbps | mean_u_mbps | mean_lat_ms | index |\n",
       "|---|---|---|---|---|---|---|---|\n",
       "| with_internet |                  NA | 0.082203264746717686 | 0.06558715015739 | 0.000001719724394889 | 0.006902898453880368379 | 0.0012541075067722 | 0.000000000035832448120 |\n",
       "| number_providers | 0.08220326474671769 |                   NA | 0.00000526142273 | 0.000000000006029399 | 0.826929938720939894381 | 0.0000000002296336 | 0.000000000000000000000 |\n",
       "| mean_lowest_cost | 0.06558715015738903 | 0.000005261422731273 |               NA | 0.007630242115620689 | 0.256184957503358123887 | 0.0141555670114635 | 0.000000025218147570172 |\n",
       "| mean_d_mbps | 0.00000171972439489 | 0.000000000006029399 | 0.00763024211562 |                   NA | 0.000000013665493181492 | 0.0000000000000000 | 0.000000000000000000000 |\n",
       "| mean_u_mbps | 0.00690289845388037 | 0.826929938720939894 | 0.25618495750336 | 0.000000013665493181 |                      NA | 0.0000000029104892 | 0.000000000000009325873 |\n",
       "| mean_lat_ms | 0.00125410750677224 | 0.000000000229633645 | 0.01415556701146 | 0.000000000000000000 | 0.000000002910489182995 |                 NA | 0.000000000000000000000 |\n",
       "| index | 0.00000000003583245 | 0.000000000000000000 | 0.00000002521815 | 0.000000000000000000 | 0.000000000000009325873 | 0.0000000000000000 |                      NA |\n",
       "\n"
      ],
      "text/plain": [
       "                 with_internet       number_providers     mean_lowest_cost\n",
       "with_internet                     NA 0.082203264746717686 0.06558715015739\n",
       "number_providers 0.08220326474671769                   NA 0.00000526142273\n",
       "mean_lowest_cost 0.06558715015738903 0.000005261422731273               NA\n",
       "mean_d_mbps      0.00000171972439489 0.000000000006029399 0.00763024211562\n",
       "mean_u_mbps      0.00690289845388037 0.826929938720939894 0.25618495750336\n",
       "mean_lat_ms      0.00125410750677224 0.000000000229633645 0.01415556701146\n",
       "index            0.00000000003583245 0.000000000000000000 0.00000002521815\n",
       "                 mean_d_mbps          mean_u_mbps            \n",
       "with_internet    0.000001719724394889 0.006902898453880368379\n",
       "number_providers 0.000000000006029399 0.826929938720939894381\n",
       "mean_lowest_cost 0.007630242115620689 0.256184957503358123887\n",
       "mean_d_mbps                        NA 0.000000013665493181492\n",
       "mean_u_mbps      0.000000013665493181                      NA\n",
       "mean_lat_ms      0.000000000000000000 0.000000002910489182995\n",
       "index            0.000000000000000000 0.000000000000009325873\n",
       "                 mean_lat_ms        index                  \n",
       "with_internet    0.0012541075067722 0.000000000035832448120\n",
       "number_providers 0.0000000002296336 0.000000000000000000000\n",
       "mean_lowest_cost 0.0141555670114635 0.000000025218147570172\n",
       "mean_d_mbps      0.0000000000000000 0.000000000000000000000\n",
       "mean_u_mbps      0.0000000029104892 0.000000000000009325873\n",
       "mean_lat_ms                      NA 0.000000000000000000000\n",
       "index            0.0000000000000000                      NA"
      ]
     },
     "metadata": {},
     "output_type": "display_data"
    }
   ],
   "source": [
    "# rcorr(as.matrix(index_data1.3), type = \"pearson\")$P"
   ]
  },
  {
   "attachments": {},
   "cell_type": "markdown",
   "metadata": {
    "slideshow": {
     "slide_type": "subslide"
    }
   },
   "source": [
    "#### Check To See if The Data Are Good"
   ]
  },
  {
   "cell_type": "code",
   "execution_count": 39,
   "metadata": {
    "slideshow": {
     "slide_type": "fragment"
    },
    "vscode": {
     "languageId": "r"
    }
   },
   "outputs": [
    {
     "data": {
      "text/html": [
       "<dl>\n",
       "\t<dt>$chisq</dt>\n",
       "\t\t<dd>356.307892505092</dd>\n",
       "\t<dt>$p.value</dt>\n",
       "\t\t<dd>0.00000000000000000000000000000000000000000000000000000000000000000100648846413552</dd>\n",
       "\t<dt>$df</dt>\n",
       "\t\t<dd>15</dd>\n",
       "</dl>\n"
      ],
      "text/latex": [
       "\\begin{description}\n",
       "\\item[\\$chisq] 356.307892505092\n",
       "\\item[\\$p.value] 0.00000000000000000000000000000000000000000000000000000000000000000100648846413552\n",
       "\\item[\\$df] 15\n",
       "\\end{description}\n"
      ],
      "text/markdown": [
       "$chisq\n",
       ":   356.307892505092\n",
       "$p.value\n",
       ":   0.00000000000000000000000000000000000000000000000000000000000000000100648846413552\n",
       "$df\n",
       ":   15\n",
       "\n",
       "\n"
      ],
      "text/plain": [
       "$chisq\n",
       "[1] 356.3079\n",
       "\n",
       "$p.value\n",
       "[1] 0.000000000000000000000000000000000000000000000000000000000000000001006488\n",
       "\n",
       "$df\n",
       "[1] 15\n"
      ]
     },
     "metadata": {},
     "output_type": "display_data"
    }
   ],
   "source": [
    "cortest.bartlett(cov(scaled_data1.3), 183)"
   ]
  },
  {
   "cell_type": "code",
   "execution_count": 40,
   "metadata": {
    "vscode": {
     "languageId": "r"
    }
   },
   "outputs": [
    {
     "data": {
      "text/html": [
       "<table class=\"dataframe\">\n",
       "<caption>A matrix: 7 × 7 of type dbl</caption>\n",
       "<thead>\n",
       "\t<tr><th></th><th scope=col>with_internet</th><th scope=col>number_providers</th><th scope=col>mean_lowest_cost</th><th scope=col>mean_d_mbps</th><th scope=col>mean_u_mbps</th><th scope=col>mean_lat_ms</th><th scope=col>index</th></tr>\n",
       "</thead>\n",
       "<tbody>\n",
       "\t<tr><th scope=row>with_internet</th><td>                 NA</td><td>0.082203264746717686</td><td>0.06558715015739</td><td>0.000001719724394889</td><td>0.006902898453880368379</td><td>0.0012541075067722</td><td>0.000000000035832448120</td></tr>\n",
       "\t<tr><th scope=row>number_providers</th><td>0.08220326474671769</td><td>                  NA</td><td>0.00000526142273</td><td>0.000000000006029399</td><td>0.826929938720939894381</td><td>0.0000000002296336</td><td>0.000000000000000000000</td></tr>\n",
       "\t<tr><th scope=row>mean_lowest_cost</th><td>0.06558715015738903</td><td>0.000005261422731273</td><td>              NA</td><td>0.007630242115620689</td><td>0.256184957503358123887</td><td>0.0141555670114635</td><td>0.000000025218147570172</td></tr>\n",
       "\t<tr><th scope=row>mean_d_mbps</th><td>0.00000171972439489</td><td>0.000000000006029399</td><td>0.00763024211562</td><td>                  NA</td><td>0.000000013665493181492</td><td>0.0000000000000000</td><td>0.000000000000000000000</td></tr>\n",
       "\t<tr><th scope=row>mean_u_mbps</th><td>0.00690289845388037</td><td>0.826929938720939894</td><td>0.25618495750336</td><td>0.000000013665493181</td><td>                     NA</td><td>0.0000000029104892</td><td>0.000000000000009325873</td></tr>\n",
       "\t<tr><th scope=row>mean_lat_ms</th><td>0.00125410750677224</td><td>0.000000000229633645</td><td>0.01415556701146</td><td>0.000000000000000000</td><td>0.000000002910489182995</td><td>                NA</td><td>0.000000000000000000000</td></tr>\n",
       "\t<tr><th scope=row>index</th><td>0.00000000003583245</td><td>0.000000000000000000</td><td>0.00000002521815</td><td>0.000000000000000000</td><td>0.000000000000009325873</td><td>0.0000000000000000</td><td>                     NA</td></tr>\n",
       "</tbody>\n",
       "</table>\n"
      ],
      "text/latex": [
       "A matrix: 7 × 7 of type dbl\n",
       "\\begin{tabular}{r|lllllll}\n",
       "  & with\\_internet & number\\_providers & mean\\_lowest\\_cost & mean\\_d\\_mbps & mean\\_u\\_mbps & mean\\_lat\\_ms & index\\\\\n",
       "\\hline\n",
       "\twith\\_internet &                  NA & 0.082203264746717686 & 0.06558715015739 & 0.000001719724394889 & 0.006902898453880368379 & 0.0012541075067722 & 0.000000000035832448120\\\\\n",
       "\tnumber\\_providers & 0.08220326474671769 &                   NA & 0.00000526142273 & 0.000000000006029399 & 0.826929938720939894381 & 0.0000000002296336 & 0.000000000000000000000\\\\\n",
       "\tmean\\_lowest\\_cost & 0.06558715015738903 & 0.000005261422731273 &               NA & 0.007630242115620689 & 0.256184957503358123887 & 0.0141555670114635 & 0.000000025218147570172\\\\\n",
       "\tmean\\_d\\_mbps & 0.00000171972439489 & 0.000000000006029399 & 0.00763024211562 &                   NA & 0.000000013665493181492 & 0.0000000000000000 & 0.000000000000000000000\\\\\n",
       "\tmean\\_u\\_mbps & 0.00690289845388037 & 0.826929938720939894 & 0.25618495750336 & 0.000000013665493181 &                      NA & 0.0000000029104892 & 0.000000000000009325873\\\\\n",
       "\tmean\\_lat\\_ms & 0.00125410750677224 & 0.000000000229633645 & 0.01415556701146 & 0.000000000000000000 & 0.000000002910489182995 &                 NA & 0.000000000000000000000\\\\\n",
       "\tindex & 0.00000000003583245 & 0.000000000000000000 & 0.00000002521815 & 0.000000000000000000 & 0.000000000000009325873 & 0.0000000000000000 &                      NA\\\\\n",
       "\\end{tabular}\n"
      ],
      "text/markdown": [
       "\n",
       "A matrix: 7 × 7 of type dbl\n",
       "\n",
       "| <!--/--> | with_internet | number_providers | mean_lowest_cost | mean_d_mbps | mean_u_mbps | mean_lat_ms | index |\n",
       "|---|---|---|---|---|---|---|---|\n",
       "| with_internet |                  NA | 0.082203264746717686 | 0.06558715015739 | 0.000001719724394889 | 0.006902898453880368379 | 0.0012541075067722 | 0.000000000035832448120 |\n",
       "| number_providers | 0.08220326474671769 |                   NA | 0.00000526142273 | 0.000000000006029399 | 0.826929938720939894381 | 0.0000000002296336 | 0.000000000000000000000 |\n",
       "| mean_lowest_cost | 0.06558715015738903 | 0.000005261422731273 |               NA | 0.007630242115620689 | 0.256184957503358123887 | 0.0141555670114635 | 0.000000025218147570172 |\n",
       "| mean_d_mbps | 0.00000171972439489 | 0.000000000006029399 | 0.00763024211562 |                   NA | 0.000000013665493181492 | 0.0000000000000000 | 0.000000000000000000000 |\n",
       "| mean_u_mbps | 0.00690289845388037 | 0.826929938720939894 | 0.25618495750336 | 0.000000013665493181 |                      NA | 0.0000000029104892 | 0.000000000000009325873 |\n",
       "| mean_lat_ms | 0.00125410750677224 | 0.000000000229633645 | 0.01415556701146 | 0.000000000000000000 | 0.000000002910489182995 |                 NA | 0.000000000000000000000 |\n",
       "| index | 0.00000000003583245 | 0.000000000000000000 | 0.00000002521815 | 0.000000000000000000 | 0.000000000000009325873 | 0.0000000000000000 |                      NA |\n",
       "\n"
      ],
      "text/plain": [
       "                 with_internet       number_providers     mean_lowest_cost\n",
       "with_internet                     NA 0.082203264746717686 0.06558715015739\n",
       "number_providers 0.08220326474671769                   NA 0.00000526142273\n",
       "mean_lowest_cost 0.06558715015738903 0.000005261422731273               NA\n",
       "mean_d_mbps      0.00000171972439489 0.000000000006029399 0.00763024211562\n",
       "mean_u_mbps      0.00690289845388037 0.826929938720939894 0.25618495750336\n",
       "mean_lat_ms      0.00125410750677224 0.000000000229633645 0.01415556701146\n",
       "index            0.00000000003583245 0.000000000000000000 0.00000002521815\n",
       "                 mean_d_mbps          mean_u_mbps            \n",
       "with_internet    0.000001719724394889 0.006902898453880368379\n",
       "number_providers 0.000000000006029399 0.826929938720939894381\n",
       "mean_lowest_cost 0.007630242115620689 0.256184957503358123887\n",
       "mean_d_mbps                        NA 0.000000013665493181492\n",
       "mean_u_mbps      0.000000013665493181                      NA\n",
       "mean_lat_ms      0.000000000000000000 0.000000002910489182995\n",
       "index            0.000000000000000000 0.000000000000009325873\n",
       "                 mean_lat_ms        index                  \n",
       "with_internet    0.0012541075067722 0.000000000035832448120\n",
       "number_providers 0.0000000002296336 0.000000000000000000000\n",
       "mean_lowest_cost 0.0141555670114635 0.000000025218147570172\n",
       "mean_d_mbps      0.0000000000000000 0.000000000000000000000\n",
       "mean_u_mbps      0.0000000029104892 0.000000000000009325873\n",
       "mean_lat_ms                      NA 0.000000000000000000000\n",
       "index            0.0000000000000000                      NA"
      ]
     },
     "metadata": {},
     "output_type": "display_data"
    }
   ],
   "source": [
    "rcorr(as.matrix(index_data1.3), type = \"pearson\")$P"
   ]
  },
  {
   "attachments": {},
   "cell_type": "markdown",
   "metadata": {
    "slideshow": {
     "slide_type": "slide"
    }
   },
   "source": [
    "## Calculate The Final Coefficients with Stepwise Regression"
   ]
  },
  {
   "attachments": {},
   "cell_type": "markdown",
   "metadata": {
    "slideshow": {
     "slide_type": "subslide"
    }
   },
   "source": [
    "### Create Models"
   ]
  },
  {
   "cell_type": "code",
   "execution_count": 38,
   "metadata": {
    "vscode": {
     "languageId": "r"
    }
   },
   "outputs": [
    {
     "name": "stderr",
     "output_type": "stream",
     "text": [
      "Warning message:\n",
      "“attempting model selection on an essentially perfect fit is nonsense”\n",
      "Warning message:\n",
      "“attempting model selection on an essentially perfect fit is nonsense”\n",
      "Warning message:\n",
      "“attempting model selection on an essentially perfect fit is nonsense”\n",
      "Warning message:\n",
      "“attempting model selection on an essentially perfect fit is nonsense”\n"
     ]
    }
   ],
   "source": [
    "# https://www.statology.org/stepwise-regression-r/\n",
    "intercept <- lm(index_data1.2$index ~ 1, index_data1.2)\n",
    "lm_data <- lm(index_data1.2$index ~ ., index_data1.2)\n",
    "\n",
    "forward <- step(intercept, direction = \"forward\", scope = formula(lm_data), trace = 0)\n",
    "backward <- step(lm_data, direction = \"backward\", scope = formula(lm_data), trace = 0)\n",
    "both <- step(intercept, direction = \"both\", scope = formula(lm_data), trace = 0)\n",
    "\n",
    "forward_bic <- step(intercept, direction = \"forward\", scope = formula(lm_data), trace = 0, k = log(nrow(index_data1.2)))\n",
    "backward_bic <- step(lm_data, direction = \"backward\", scope = formula(lm_data), trace = 0, k = log(nrow(index_data1.2)))\n",
    "both_bic <- step(intercept, direction = \"both\", scope = formula(lm_data), trace = 0, k = log(nrow(index_data1.2)))"
   ]
  },
  {
   "cell_type": "code",
   "execution_count": 55,
   "metadata": {
    "vscode": {
     "languageId": "r"
    }
   },
   "outputs": [
    {
     "data": {
      "text/plain": [
       "\n",
       "Call:\n",
       "lm(formula = index_data$index ~ with_internet + mean_d_mbps + \n",
       "    X65_and_older + number_providers + work_from_home + mean_lat_ms + \n",
       "    mean_lowest_cost + median_income + has_computer, data = index_data)\n",
       "\n",
       "Coefficients:\n",
       "           (Intercept)           with_internet             mean_d_mbps  \n",
       "-0.0000000000000004006   0.5238386735312039466   0.3288176204369959721  \n",
       "         X65_and_older        number_providers          work_from_home  \n",
       " 0.3498369629278137438  -0.2060301605619866971   0.2845334348307537176  \n",
       "           mean_lat_ms        mean_lowest_cost           median_income  \n",
       "-0.2764928431564969702   0.1537551350004074113   0.0887838982247061842  \n",
       "          has_computer  \n",
       " 0.5135240003496904793  \n"
      ]
     },
     "metadata": {},
     "output_type": "display_data"
    }
   ],
   "source": [
    "forward"
   ]
  },
  {
   "attachments": {},
   "cell_type": "markdown",
   "metadata": {},
   "source": [
    "best variables to use in each step"
   ]
  },
  {
   "cell_type": "code",
   "execution_count": 39,
   "metadata": {
    "vscode": {
     "languageId": "r"
    }
   },
   "outputs": [
    {
     "name": "stderr",
     "output_type": "stream",
     "text": [
      "Warning message in log(vr):\n",
      "“NaNs produced”\n"
     ]
    },
    {
     "data": {
      "text/plain": [
       "Subset selection object\n",
       "Call: regsubsets.formula(index ~ ., index_data1.2)\n",
       "7 Variables  (and intercept)\n",
       "                    Forced in Forced out\n",
       "with_internet           FALSE      FALSE\n",
       "work_from_home          FALSE      FALSE\n",
       "sixtyfive_and_older     FALSE      FALSE\n",
       "number_providers        FALSE      FALSE\n",
       "mean_lowest_cost        FALSE      FALSE\n",
       "mean_d_mbps             FALSE      FALSE\n",
       "mean_lat_ms             FALSE      FALSE\n",
       "1 subsets of each size up to 7\n",
       "Selection Algorithm: exhaustive\n",
       "         with_internet work_from_home sixtyfive_and_older number_providers\n",
       "1  ( 1 ) \" \"           \" \"            \" \"                 \" \"             \n",
       "2  ( 1 ) \"*\"           \" \"            \" \"                 \" \"             \n",
       "3  ( 1 ) \"*\"           \" \"            \" \"                 \"*\"             \n",
       "4  ( 1 ) \"*\"           \" \"            \" \"                 \"*\"             \n",
       "5  ( 1 ) \"*\"           \" \"            \" \"                 \"*\"             \n",
       "6  ( 1 ) \"*\"           \"*\"            \" \"                 \"*\"             \n",
       "7  ( 1 ) \"*\"           \"*\"            \"*\"                 \"*\"             \n",
       "         mean_lowest_cost mean_d_mbps mean_lat_ms\n",
       "1  ( 1 ) \" \"              \"*\"         \" \"        \n",
       "2  ( 1 ) \" \"              \"*\"         \" \"        \n",
       "3  ( 1 ) \" \"              \" \"         \"*\"        \n",
       "4  ( 1 ) \" \"              \"*\"         \"*\"        \n",
       "5  ( 1 ) \"*\"              \"*\"         \"*\"        \n",
       "6  ( 1 ) \"*\"              \"*\"         \"*\"        \n",
       "7  ( 1 ) \"*\"              \"*\"         \"*\"        "
      ]
     },
     "metadata": {},
     "output_type": "display_data"
    }
   ],
   "source": [
    "library(leaps)\n",
    "subset <- regsubsets(index ~ ., index_data1.2)\n",
    "summary(subset)"
   ]
  },
  {
   "attachments": {},
   "cell_type": "markdown",
   "metadata": {},
   "source": [
    "forward model"
   ]
  },
  {
   "cell_type": "code",
   "execution_count": 40,
   "metadata": {
    "vscode": {
     "languageId": "r"
    }
   },
   "outputs": [],
   "source": [
    "forward <- regsubsets(index ~ ., index_data1.2, method = \"forward\")"
   ]
  },
  {
   "cell_type": "code",
   "execution_count": 41,
   "metadata": {
    "vscode": {
     "languageId": "r"
    }
   },
   "outputs": [
    {
     "data": {
      "text/plain": [
       "Subset selection object\n",
       "Call: regsubsets.formula(index ~ ., index_data1.2, method = \"forward\")\n",
       "7 Variables  (and intercept)\n",
       "                    Forced in Forced out\n",
       "with_internet           FALSE      FALSE\n",
       "work_from_home          FALSE      FALSE\n",
       "sixtyfive_and_older     FALSE      FALSE\n",
       "number_providers        FALSE      FALSE\n",
       "mean_lowest_cost        FALSE      FALSE\n",
       "mean_d_mbps             FALSE      FALSE\n",
       "mean_lat_ms             FALSE      FALSE\n",
       "1 subsets of each size up to 7\n",
       "Selection Algorithm: forward\n",
       "         with_internet work_from_home sixtyfive_and_older number_providers\n",
       "1  ( 1 ) \" \"           \" \"            \" \"                 \" \"             \n",
       "2  ( 1 ) \"*\"           \" \"            \" \"                 \" \"             \n",
       "3  ( 1 ) \"*\"           \" \"            \" \"                 \"*\"             \n",
       "4  ( 1 ) \"*\"           \" \"            \" \"                 \"*\"             \n",
       "5  ( 1 ) \"*\"           \" \"            \" \"                 \"*\"             \n",
       "6  ( 1 ) \"*\"           \"*\"            \" \"                 \"*\"             \n",
       "7  ( 1 ) \"*\"           \"*\"            \"*\"                 \"*\"             \n",
       "         mean_lowest_cost mean_d_mbps mean_lat_ms\n",
       "1  ( 1 ) \" \"              \"*\"         \" \"        \n",
       "2  ( 1 ) \" \"              \"*\"         \" \"        \n",
       "3  ( 1 ) \" \"              \"*\"         \" \"        \n",
       "4  ( 1 ) \" \"              \"*\"         \"*\"        \n",
       "5  ( 1 ) \"*\"              \"*\"         \"*\"        \n",
       "6  ( 1 ) \"*\"              \"*\"         \"*\"        \n",
       "7  ( 1 ) \"*\"              \"*\"         \"*\"        "
      ]
     },
     "metadata": {},
     "output_type": "display_data"
    }
   ],
   "source": [
    "results <- summary(forward)\n",
    "\n",
    "results"
   ]
  },
  {
   "attachments": {},
   "cell_type": "markdown",
   "metadata": {},
   "source": [
    "best model"
   ]
  },
  {
   "cell_type": "code",
   "execution_count": 42,
   "metadata": {
    "vscode": {
     "languageId": "r"
    }
   },
   "outputs": [
    {
     "data": {
      "text/html": [
       "7"
      ],
      "text/latex": [
       "7"
      ],
      "text/markdown": [
       "7"
      ],
      "text/plain": [
       "[1] 7"
      ]
     },
     "metadata": {},
     "output_type": "display_data"
    },
    {
     "data": {
      "text/html": [
       "7"
      ],
      "text/latex": [
       "7"
      ],
      "text/markdown": [
       "7"
      ],
      "text/plain": [
       "[1] 7"
      ]
     },
     "metadata": {},
     "output_type": "display_data"
    },
    {
     "data": {
      "text/html": [
       "7"
      ],
      "text/latex": [
       "7"
      ],
      "text/markdown": [
       "7"
      ],
      "text/plain": [
       "[1] 7"
      ]
     },
     "metadata": {},
     "output_type": "display_data"
    },
    {
     "data": {
      "text/html": [
       "7"
      ],
      "text/latex": [
       "7"
      ],
      "text/markdown": [
       "7"
      ],
      "text/plain": [
       "[1] 7"
      ]
     },
     "metadata": {},
     "output_type": "display_data"
    }
   ],
   "source": [
    "which.max(results$adjr2)\n",
    "which.min(results$bic)\n",
    "which.max(results$rsq)\n",
    "which.min(results$cp)"
   ]
  },
  {
   "cell_type": "code",
   "execution_count": 43,
   "metadata": {
    "vscode": {
     "languageId": "r"
    }
   },
   "outputs": [],
   "source": [
    "coefficients <- coef(forward, 7)"
   ]
  },
  {
   "cell_type": "code",
   "execution_count": 44,
   "metadata": {
    "vscode": {
     "languageId": "r"
    }
   },
   "outputs": [
    {
     "data": {
      "text/html": [
       "<dl>\n",
       "\t<dt>$`(Intercept)`</dt>\n",
       "\t\t<dd>0.0000000000000000524753851482984</dd>\n",
       "\t<dt>$number_providers</dt>\n",
       "\t\t<dd>-0.418647248935488</dd>\n",
       "\t<dt>$mean_lat_ms</dt>\n",
       "\t\t<dd>-0.51717000241015</dd>\n",
       "</dl>\n"
      ],
      "text/latex": [
       "\\begin{description}\n",
       "\\item[\\$`(Intercept)`] 0.0000000000000000524753851482984\n",
       "\\item[\\$number\\_providers] -0.418647248935488\n",
       "\\item[\\$mean\\_lat\\_ms] -0.51717000241015\n",
       "\\end{description}\n"
      ],
      "text/markdown": [
       "$`(Intercept)`\n",
       ":   0.0000000000000000524753851482984\n",
       "$number_providers\n",
       ":   -0.418647248935488\n",
       "$mean_lat_ms\n",
       ":   -0.51717000241015\n",
       "\n",
       "\n"
      ],
      "text/plain": [
       "$`(Intercept)`\n",
       "[1] 0.00000000000000005247539\n",
       "\n",
       "$number_providers\n",
       "[1] -0.4186472\n",
       "\n",
       "$mean_lat_ms\n",
       "[1] -0.51717\n"
      ]
     },
     "metadata": {},
     "output_type": "display_data"
    }
   ],
   "source": [
    "as.list(coefficients[which(coefficients < .05)])"
   ]
  },
  {
   "cell_type": "code",
   "execution_count": 45,
   "metadata": {
    "vscode": {
     "languageId": "r"
    }
   },
   "outputs": [
    {
     "data": {
      "text/html": [
       "<dl>\n",
       "\t<dt>$`(Intercept)`</dt>\n",
       "\t\t<dd>0.0000000000000000524753851482984</dd>\n",
       "\t<dt>$with_internet</dt>\n",
       "\t\t<dd>0.376409362470466</dd>\n",
       "\t<dt>$work_from_home</dt>\n",
       "\t\t<dd>0.149505947351314</dd>\n",
       "\t<dt>$sixtyfive_and_older</dt>\n",
       "\t\t<dd>0.14132351465795</dd>\n",
       "\t<dt>$number_providers</dt>\n",
       "\t\t<dd>-0.418647248935488</dd>\n",
       "\t<dt>$mean_lowest_cost</dt>\n",
       "\t\t<dd>0.268265962770774</dd>\n",
       "\t<dt>$mean_d_mbps</dt>\n",
       "\t\t<dd>0.548903152241257</dd>\n",
       "\t<dt>$mean_lat_ms</dt>\n",
       "\t\t<dd>-0.51717000241015</dd>\n",
       "</dl>\n"
      ],
      "text/latex": [
       "\\begin{description}\n",
       "\\item[\\$`(Intercept)`] 0.0000000000000000524753851482984\n",
       "\\item[\\$with\\_internet] 0.376409362470466\n",
       "\\item[\\$work\\_from\\_home] 0.149505947351314\n",
       "\\item[\\$sixtyfive\\_and\\_older] 0.14132351465795\n",
       "\\item[\\$number\\_providers] -0.418647248935488\n",
       "\\item[\\$mean\\_lowest\\_cost] 0.268265962770774\n",
       "\\item[\\$mean\\_d\\_mbps] 0.548903152241257\n",
       "\\item[\\$mean\\_lat\\_ms] -0.51717000241015\n",
       "\\end{description}\n"
      ],
      "text/markdown": [
       "$`(Intercept)`\n",
       ":   0.0000000000000000524753851482984\n",
       "$with_internet\n",
       ":   0.376409362470466\n",
       "$work_from_home\n",
       ":   0.149505947351314\n",
       "$sixtyfive_and_older\n",
       ":   0.14132351465795\n",
       "$number_providers\n",
       ":   -0.418647248935488\n",
       "$mean_lowest_cost\n",
       ":   0.268265962770774\n",
       "$mean_d_mbps\n",
       ":   0.548903152241257\n",
       "$mean_lat_ms\n",
       ":   -0.51717000241015\n",
       "\n",
       "\n"
      ],
      "text/plain": [
       "$`(Intercept)`\n",
       "[1] 0.00000000000000005247539\n",
       "\n",
       "$with_internet\n",
       "[1] 0.3764094\n",
       "\n",
       "$work_from_home\n",
       "[1] 0.1495059\n",
       "\n",
       "$sixtyfive_and_older\n",
       "[1] 0.1413235\n",
       "\n",
       "$number_providers\n",
       "[1] -0.4186472\n",
       "\n",
       "$mean_lowest_cost\n",
       "[1] 0.268266\n",
       "\n",
       "$mean_d_mbps\n",
       "[1] 0.5489032\n",
       "\n",
       "$mean_lat_ms\n",
       "[1] -0.51717\n"
      ]
     },
     "metadata": {},
     "output_type": "display_data"
    }
   ],
   "source": [
    "as.list(coefficients)"
   ]
  },
  {
   "cell_type": "code",
   "execution_count": 44,
   "metadata": {
    "vscode": {
     "languageId": "r"
    }
   },
   "outputs": [
    {
     "ename": "ERROR",
     "evalue": "Error in eval(predvars, data, env): object 'mean_lat_ms' not found\n",
     "output_type": "error",
     "traceback": [
      "Error in eval(predvars, data, env): object 'mean_lat_ms' not found\nTraceback:\n",
      "1. lm(index ~ has_computer + with_internet + work_from_home + X65_and_older + \n .     median_income + number_providers + mean_lowest_cost + mean_d_mbps + \n .     mean_lat_ms, data = index_data)",
      "2. eval(mf, parent.frame())",
      "3. eval(mf, parent.frame())",
      "4. stats::model.frame(formula = index ~ has_computer + with_internet + \n .     work_from_home + X65_and_older + median_income + number_providers + \n .     mean_lowest_cost + mean_d_mbps + mean_lat_ms, data = index_data, \n .     drop.unused.levels = TRUE)",
      "5. model.frame.default(formula = index ~ has_computer + with_internet + \n .     work_from_home + X65_and_older + median_income + number_providers + \n .     mean_lowest_cost + mean_d_mbps + mean_lat_ms, data = index_data, \n .     drop.unused.levels = TRUE)",
      "6. eval(predvars, data, env)",
      "7. eval(predvars, data, env)"
     ]
    }
   ],
   "source": [
    "model <- lm(\n",
    "    index ~\n",
    "        has_computer +\n",
    "        with_internet +\n",
    "        work_from_home +\n",
    "        X65_and_older +\n",
    "        median_income + \n",
    "        number_providers +\n",
    "        mean_lowest_cost +\n",
    "        mean_d_mbps +\n",
    "        mean_lat_ms,\n",
    "    data = index_data\n",
    ")"
   ]
  },
  {
   "cell_type": "code",
   "execution_count": 46,
   "metadata": {
    "vscode": {
     "languageId": "r"
    }
   },
   "outputs": [],
   "source": [
    "model1 <- lm(\n",
    "    index_data1.2$index ~ ., \n",
    "    data = index_data1.2\n",
    ")"
   ]
  },
  {
   "cell_type": "code",
   "execution_count": null,
   "metadata": {
    "vscode": {
     "languageId": "r"
    }
   },
   "outputs": [],
   "source": [
    "model2 <- lm(\n",
    "    index ~ has_computer,\n",
    "    data = index_data1.2\n",
    ")"
   ]
  },
  {
   "cell_type": "code",
   "execution_count": null,
   "metadata": {
    "vscode": {
     "languageId": "r"
    }
   },
   "outputs": [],
   "source": [
    "model3 <- lm(\n",
    "    index ~\n",
    "        has_computer +\n",
    "        with_internet,\n",
    "    data = index_data1.2\n",
    ")"
   ]
  },
  {
   "cell_type": "code",
   "execution_count": null,
   "metadata": {
    "vscode": {
     "languageId": "r"
    }
   },
   "outputs": [],
   "source": [
    "model4 <- lm(\n",
    "    index ~\n",
    "        has_computer +\n",
    "        with_internet +\n",
    "        work_from_home,\n",
    "    data = index_data1.2\n",
    ")"
   ]
  },
  {
   "cell_type": "code",
   "execution_count": null,
   "metadata": {
    "vscode": {
     "languageId": "r"
    }
   },
   "outputs": [],
   "source": [
    "model5 <- lm(\n",
    "    index ~\n",
    "        has_computer +\n",
    "        with_internet +\n",
    "        work_from_home +\n",
    "        X65_and_older,\n",
    "    data = index_data1.2\n",
    ")"
   ]
  },
  {
   "cell_type": "code",
   "execution_count": null,
   "metadata": {
    "vscode": {
     "languageId": "r"
    }
   },
   "outputs": [],
   "source": [
    "model6 <- lm(\n",
    "    index ~\n",
    "        has_computer +\n",
    "        with_internet +\n",
    "        work_from_home +\n",
    "        X65_and_older +\n",
    "        number_providers,\n",
    "    data = index_data1.2\n",
    ")"
   ]
  },
  {
   "cell_type": "code",
   "execution_count": null,
   "metadata": {
    "vscode": {
     "languageId": "r"
    }
   },
   "outputs": [],
   "source": [
    "model7 <- lm(\n",
    "    index ~\n",
    "        has_computer +\n",
    "        with_internet +\n",
    "        work_from_home +\n",
    "        X65_and_older +\n",
    "        number_providers +\n",
    "        mean_lowest_cost,\n",
    "    data = index_data1.2\n",
    ")"
   ]
  },
  {
   "cell_type": "code",
   "execution_count": null,
   "metadata": {
    "vscode": {
     "languageId": "r"
    }
   },
   "outputs": [],
   "source": [
    "model8 <- lm(\n",
    "    index ~\n",
    "        has_computer +\n",
    "        with_internet +\n",
    "        work_from_home +\n",
    "        X65_and_older +\n",
    "        number_providers +\n",
    "        mean_lowest_cost +\n",
    "        mean_d_mbps,\n",
    "    data = index_data1.2\n",
    ")"
   ]
  },
  {
   "cell_type": "code",
   "execution_count": null,
   "metadata": {
    "vscode": {
     "languageId": "r"
    }
   },
   "outputs": [],
   "source": [
    "model9 <- lm(\n",
    "    index ~\n",
    "        has_computer +\n",
    "        with_internet +\n",
    "        work_from_home +\n",
    "        X65_and_older +\n",
    "        number_providers +\n",
    "        mean_lowest_cost +\n",
    "        mean_d_mbps +\n",
    "        mean_u_mbps,\n",
    "    data = index_data1.2\n",
    ")"
   ]
  },
  {
   "cell_type": "code",
   "execution_count": 50,
   "metadata": {
    "vscode": {
     "languageId": "r"
    }
   },
   "outputs": [],
   "source": [
    "model10 <- lm(\n",
    "    index ~\n",
    "        has_computer +\n",
    "        with_internet +\n",
    "        work_from_home +\n",
    "        X65_and_older +\n",
    "        median_income +\n",
    "        number_providers +\n",
    "        mean_lowest_cost +\n",
    "        mean_d_mbps,\n",
    "    data = index_data\n",
    ")"
   ]
  },
  {
   "cell_type": "code",
   "execution_count": 47,
   "metadata": {
    "vscode": {
     "languageId": "r"
    }
   },
   "outputs": [
    {
     "name": "stderr",
     "output_type": "stream",
     "text": [
      "Loading required package: carData\n",
      "\n",
      "\n",
      "Attaching package: ‘car’\n",
      "\n",
      "\n",
      "The following object is masked from ‘package:psych’:\n",
      "\n",
      "    logit\n",
      "\n",
      "\n",
      "The following object is masked from ‘package:dplyr’:\n",
      "\n",
      "    recode\n",
      "\n",
      "\n",
      "The following object is masked from ‘package:purrr’:\n",
      "\n",
      "    some\n",
      "\n",
      "\n",
      "Warning message in summary.lm(object, ...):\n",
      "“essentially perfect fit: summary may be unreliable”\n"
     ]
    },
    {
     "data": {
      "text/html": [
       "<dl>\n",
       "\t<dt>$with_internet</dt>\n",
       "\t\t<dd>2.32895248426638</dd>\n",
       "\t<dt>$work_from_home</dt>\n",
       "\t\t<dd>1.2953957946337</dd>\n",
       "\t<dt>$sixtyfive_and_older</dt>\n",
       "\t\t<dd>1.91312652440289</dd>\n",
       "\t<dt>$number_providers</dt>\n",
       "\t\t<dd>1.42217153217031</dd>\n",
       "\t<dt>$mean_lowest_cost</dt>\n",
       "\t\t<dd>1.13655714386215</dd>\n",
       "\t<dt>$mean_d_mbps</dt>\n",
       "\t\t<dd>3.7716976936318</dd>\n",
       "\t<dt>$mean_lat_ms</dt>\n",
       "\t\t<dd>3.32024039847711</dd>\n",
       "</dl>\n"
      ],
      "text/latex": [
       "\\begin{description}\n",
       "\\item[\\$with\\_internet] 2.32895248426638\n",
       "\\item[\\$work\\_from\\_home] 1.2953957946337\n",
       "\\item[\\$sixtyfive\\_and\\_older] 1.91312652440289\n",
       "\\item[\\$number\\_providers] 1.42217153217031\n",
       "\\item[\\$mean\\_lowest\\_cost] 1.13655714386215\n",
       "\\item[\\$mean\\_d\\_mbps] 3.7716976936318\n",
       "\\item[\\$mean\\_lat\\_ms] 3.32024039847711\n",
       "\\end{description}\n"
      ],
      "text/markdown": [
       "$with_internet\n",
       ":   2.32895248426638\n",
       "$work_from_home\n",
       ":   1.2953957946337\n",
       "$sixtyfive_and_older\n",
       ":   1.91312652440289\n",
       "$number_providers\n",
       ":   1.42217153217031\n",
       "$mean_lowest_cost\n",
       ":   1.13655714386215\n",
       "$mean_d_mbps\n",
       ":   3.7716976936318\n",
       "$mean_lat_ms\n",
       ":   3.32024039847711\n",
       "\n",
       "\n"
      ],
      "text/plain": [
       "$with_internet\n",
       "[1] 2.328952\n",
       "\n",
       "$work_from_home\n",
       "[1] 1.295396\n",
       "\n",
       "$sixtyfive_and_older\n",
       "[1] 1.913127\n",
       "\n",
       "$number_providers\n",
       "[1] 1.422172\n",
       "\n",
       "$mean_lowest_cost\n",
       "[1] 1.136557\n",
       "\n",
       "$mean_d_mbps\n",
       "[1] 3.771698\n",
       "\n",
       "$mean_lat_ms\n",
       "[1] 3.32024\n"
      ]
     },
     "metadata": {},
     "output_type": "display_data"
    }
   ],
   "source": [
    "library(car)\n",
    "as.list(vif(model1))"
   ]
  },
  {
   "cell_type": "code",
   "execution_count": 48,
   "metadata": {
    "vscode": {
     "languageId": "r"
    }
   },
   "outputs": [
    {
     "name": "stderr",
     "output_type": "stream",
     "text": [
      "Warning message in summary.lm(model1):\n",
      "“essentially perfect fit: summary may be unreliable”\n"
     ]
    },
    {
     "data": {
      "text/plain": [
       "\n",
       "Call:\n",
       "lm(formula = index_data1.2$index ~ ., data = index_data1.2)\n",
       "\n",
       "Residuals:\n",
       "                   Min                     1Q                 Median \n",
       "-0.0000000000000037353 -0.0000000000000001526 -0.0000000000000000192 \n",
       "                    3Q                    Max \n",
       " 0.0000000000000001288  0.0000000000000069159 \n",
       "\n",
       "Coefficients:\n",
       "                                   Estimate              Std. Error\n",
       "(Intercept)         -0.00000000000000014184  0.00000000000000005092\n",
       "with_internet        0.37640936247046657970  0.00000000000000007793\n",
       "work_from_home       0.14950594735131444990  0.00000000000000005812\n",
       "sixtyfive_and_older  0.14132351465795059409  0.00000000000000007063\n",
       "number_providers    -0.41864724893548704854  0.00000000000000006089\n",
       "mean_lowest_cost     0.26826596277077391361  0.00000000000000005444\n",
       "mean_d_mbps          0.54890315224125785232  0.00000000000000009917\n",
       "mean_lat_ms         -0.51717000241015043116  0.00000000000000009304\n",
       "                                  t value             Pr(>|t|)    \n",
       "(Intercept)                        -2.785              0.00594 ** \n",
       "with_internet        4830323559486376.000 < 0.0000000000000002 ***\n",
       "work_from_home       2572487941520019.000 < 0.0000000000000002 ***\n",
       "sixtyfive_and_older  2000961363700908.000 < 0.0000000000000002 ***\n",
       "number_providers    -6874931431423632.000 < 0.0000000000000002 ***\n",
       "mean_lowest_cost     4927947305497007.000 < 0.0000000000000002 ***\n",
       "mean_d_mbps          5535073683245446.000 < 0.0000000000000002 ***\n",
       "mean_lat_ms         -5558334532001858.000 < 0.0000000000000002 ***\n",
       "---\n",
       "Signif. codes:  0 ‘***’ 0.001 ‘**’ 0.01 ‘*’ 0.05 ‘.’ 0.1 ‘ ’ 1\n",
       "\n",
       "Residual standard error: 0.0000000000000006889 on 175 degrees of freedom\n",
       "Multiple R-squared:      1,\tAdjusted R-squared:      1 \n",
       "F-statistic: 1.359e+32 on 7 and 175 DF,  p-value: < 0.00000000000000022\n"
      ]
     },
     "metadata": {},
     "output_type": "display_data"
    }
   ],
   "source": [
    "summary(model1)"
   ]
  },
  {
   "attachments": {},
   "cell_type": "markdown",
   "metadata": {
    "slideshow": {
     "slide_type": "subslide"
    }
   },
   "source": [
    "## We will end up using coefficients using another PCA method"
   ]
  },
  {
   "attachments": {},
   "cell_type": "markdown",
   "metadata": {
    "slideshow": {
     "slide_type": "slide"
    }
   },
   "source": [
    "# PCA Method 2"
   ]
  },
  {
   "attachments": {},
   "cell_type": "markdown",
   "metadata": {
    "slideshow": {
     "slide_type": "fragment"
    }
   },
   "source": [
    "## Determine Amount of PCs To Use"
   ]
  },
  {
   "attachments": {},
   "cell_type": "markdown",
   "metadata": {
    "slideshow": {
     "slide_type": "fragment"
    }
   },
   "source": [
    "## Variable Selection Based on sqrt(1/n)"
   ]
  },
  {
   "attachments": {},
   "cell_type": "markdown",
   "metadata": {
    "slideshow": {
     "slide_type": "fragment"
    }
   },
   "source": [
    "## Create Index Using PCs"
   ]
  },
  {
   "attachments": {},
   "cell_type": "markdown",
   "metadata": {
    "slideshow": {
     "slide_type": "slide"
    }
   },
   "source": [
    "## Determine Number of PCs To Use"
   ]
  },
  {
   "attachments": {},
   "cell_type": "markdown",
   "metadata": {
    "slideshow": {
     "slide_type": "subslide"
    }
   },
   "source": [
    "### Explain At Least 70% of The Data"
   ]
  },
  {
   "cell_type": "code",
   "execution_count": null,
   "metadata": {
    "vscode": {
     "languageId": "r"
    }
   },
   "outputs": [
    {
     "data": {
      "text/html": [
       "<table class=\"dataframe\">\n",
       "<caption>A data.frame: 10 × 3</caption>\n",
       "<thead>\n",
       "\t<tr><th scope=col>PC</th><th scope=col>variance_explained</th><th scope=col>total_percent</th></tr>\n",
       "\t<tr><th scope=col>&lt;chr&gt;</th><th scope=col>&lt;dbl&gt;</th><th scope=col>&lt;dbl&gt;</th></tr>\n",
       "</thead>\n",
       "<tbody>\n",
       "\t<tr><td>PC1 </td><td>0.3168453973</td><td>0.3168454</td></tr>\n",
       "\t<tr><td>PC2 </td><td>0.2318058931</td><td>0.5486513</td></tr>\n",
       "\t<tr><td>PC3 </td><td>0.1136490872</td><td>0.6623004</td></tr>\n",
       "\t<tr><td>PC4 </td><td>0.0973346675</td><td>0.7596350</td></tr>\n",
       "\t<tr><td>PC5 </td><td>0.0822537883</td><td>0.8418888</td></tr>\n",
       "\t<tr><td>PC6 </td><td>0.0648092573</td><td>0.9066981</td></tr>\n",
       "\t<tr><td>PC7 </td><td>0.0442120427</td><td>0.9509101</td></tr>\n",
       "\t<tr><td>PC8 </td><td>0.0323408703</td><td>0.9832510</td></tr>\n",
       "\t<tr><td>PC9 </td><td>0.0158536798</td><td>0.9991047</td></tr>\n",
       "\t<tr><td>PC10</td><td>0.0008953165</td><td>1.0000000</td></tr>\n",
       "</tbody>\n",
       "</table>\n"
      ],
      "text/latex": [
       "A data.frame: 10 × 3\n",
       "\\begin{tabular}{lll}\n",
       " PC & variance\\_explained & total\\_percent\\\\\n",
       " <chr> & <dbl> & <dbl>\\\\\n",
       "\\hline\n",
       "\t PC1  & 0.3168453973 & 0.3168454\\\\\n",
       "\t PC2  & 0.2318058931 & 0.5486513\\\\\n",
       "\t PC3  & 0.1136490872 & 0.6623004\\\\\n",
       "\t PC4  & 0.0973346675 & 0.7596350\\\\\n",
       "\t PC5  & 0.0822537883 & 0.8418888\\\\\n",
       "\t PC6  & 0.0648092573 & 0.9066981\\\\\n",
       "\t PC7  & 0.0442120427 & 0.9509101\\\\\n",
       "\t PC8  & 0.0323408703 & 0.9832510\\\\\n",
       "\t PC9  & 0.0158536798 & 0.9991047\\\\\n",
       "\t PC10 & 0.0008953165 & 1.0000000\\\\\n",
       "\\end{tabular}\n"
      ],
      "text/markdown": [
       "\n",
       "A data.frame: 10 × 3\n",
       "\n",
       "| PC &lt;chr&gt; | variance_explained &lt;dbl&gt; | total_percent &lt;dbl&gt; |\n",
       "|---|---|---|\n",
       "| PC1  | 0.3168453973 | 0.3168454 |\n",
       "| PC2  | 0.2318058931 | 0.5486513 |\n",
       "| PC3  | 0.1136490872 | 0.6623004 |\n",
       "| PC4  | 0.0973346675 | 0.7596350 |\n",
       "| PC5  | 0.0822537883 | 0.8418888 |\n",
       "| PC6  | 0.0648092573 | 0.9066981 |\n",
       "| PC7  | 0.0442120427 | 0.9509101 |\n",
       "| PC8  | 0.0323408703 | 0.9832510 |\n",
       "| PC9  | 0.0158536798 | 0.9991047 |\n",
       "| PC10 | 0.0008953165 | 1.0000000 |\n",
       "\n"
      ],
      "text/plain": [
       "   PC   variance_explained total_percent\n",
       "1  PC1  0.3168453973       0.3168454    \n",
       "2  PC2  0.2318058931       0.5486513    \n",
       "3  PC3  0.1136490872       0.6623004    \n",
       "4  PC4  0.0973346675       0.7596350    \n",
       "5  PC5  0.0822537883       0.8418888    \n",
       "6  PC6  0.0648092573       0.9066981    \n",
       "7  PC7  0.0442120427       0.9509101    \n",
       "8  PC8  0.0323408703       0.9832510    \n",
       "9  PC9  0.0158536798       0.9991047    \n",
       "10 PC10 0.0008953165       1.0000000    "
      ]
     },
     "metadata": {},
     "output_type": "display_data"
    }
   ],
   "source": [
    "percent_explained <- data.frame(\n",
    "    PC = paste0(\"PC\", 1:10),\n",
    "    variance_explained = (eigenvalues / sum(eigenvalues)),\n",
    "    total_percent = cumsum((eigenvalues / sum(eigenvalues)))\n",
    ")\n",
    "percent_explained"
   ]
  },
  {
   "attachments": {},
   "cell_type": "markdown",
   "metadata": {
    "slideshow": {
     "slide_type": "fragment"
    }
   },
   "source": [
    "### This method suggests 4 PCs"
   ]
  },
  {
   "attachments": {},
   "cell_type": "markdown",
   "metadata": {
    "slideshow": {
     "slide_type": "subslide"
    }
   },
   "source": [
    "### Number of Eigenvalues Over 1"
   ]
  },
  {
   "cell_type": "code",
   "execution_count": null,
   "metadata": {
    "vscode": {
     "languageId": "r"
    }
   },
   "outputs": [
    {
     "data": {
      "text/html": [
       "<ol>\n",
       "\t<li>3.16845397303976</li>\n",
       "\t<li>2.31805893094016</li>\n",
       "\t<li>1.13649087166828</li>\n",
       "\t<li>0.973346675128721</li>\n",
       "\t<li>0.822537882911812</li>\n",
       "\t<li>0.648092573131781</li>\n",
       "\t<li>0.442120427124174</li>\n",
       "\t<li>0.323408703488003</li>\n",
       "\t<li>0.158536797835616</li>\n",
       "\t<li>0.00895316473168857</li>\n",
       "</ol>\n"
      ],
      "text/latex": [
       "\\begin{enumerate}\n",
       "\\item 3.16845397303976\n",
       "\\item 2.31805893094016\n",
       "\\item 1.13649087166828\n",
       "\\item 0.973346675128721\n",
       "\\item 0.822537882911812\n",
       "\\item 0.648092573131781\n",
       "\\item 0.442120427124174\n",
       "\\item 0.323408703488003\n",
       "\\item 0.158536797835616\n",
       "\\item 0.00895316473168857\n",
       "\\end{enumerate}\n"
      ],
      "text/markdown": [
       "1. 3.16845397303976\n",
       "2. 2.31805893094016\n",
       "3. 1.13649087166828\n",
       "4. 0.973346675128721\n",
       "5. 0.822537882911812\n",
       "6. 0.648092573131781\n",
       "7. 0.442120427124174\n",
       "8. 0.323408703488003\n",
       "9. 0.158536797835616\n",
       "10. 0.00895316473168857\n",
       "\n",
       "\n"
      ],
      "text/plain": [
       "[[1]]\n",
       "[1] 3.168454\n",
       "\n",
       "[[2]]\n",
       "[1] 2.318059\n",
       "\n",
       "[[3]]\n",
       "[1] 1.136491\n",
       "\n",
       "[[4]]\n",
       "[1] 0.9733467\n",
       "\n",
       "[[5]]\n",
       "[1] 0.8225379\n",
       "\n",
       "[[6]]\n",
       "[1] 0.6480926\n",
       "\n",
       "[[7]]\n",
       "[1] 0.4421204\n",
       "\n",
       "[[8]]\n",
       "[1] 0.3234087\n",
       "\n",
       "[[9]]\n",
       "[1] 0.1585368\n",
       "\n",
       "[[10]]\n",
       "[1] 0.008953165\n"
      ]
     },
     "metadata": {},
     "output_type": "display_data"
    }
   ],
   "source": [
    "as.list(eigenvalues)"
   ]
  },
  {
   "attachments": {},
   "cell_type": "markdown",
   "metadata": {
    "slideshow": {
     "slide_type": "fragment"
    }
   },
   "source": [
    "### There are 3"
   ]
  },
  {
   "attachments": {},
   "cell_type": "markdown",
   "metadata": {
    "slideshow": {
     "slide_type": "subslide"
    }
   },
   "source": [
    "### Scree Plot"
   ]
  },
  {
   "cell_type": "code",
   "execution_count": null,
   "metadata": {
    "vscode": {
     "languageId": "r"
    }
   },
   "outputs": [
    {
     "data": {
      "image/png": "[encoded data removed]",
      "text/plain": [
       "plot without title"
      ]
     },
     "metadata": {
      "image/png": {
       "height": 420,
       "width": 420
      }
     },
     "output_type": "display_data"
    }
   ],
   "source": [
    "percent_explained %>%\n",
    "    ggplot(aes(x = factor(PC, level = c(\"PC1\", \"PC2\", \"PC3\", \"PC4\", \"PC5\", \"PC6\", \"PC7\", \"PC8\", \"PC9\", \"PC10\")), y = variance_explained, group = 1, )) +\n",
    "    geom_point(size = 4) +\n",
    "    geom_line() +\n",
    "    ggtitle(\"Scree Plot\") +\n",
    "    xlab(\"PCs\")"
   ]
  },
  {
   "cell_type": "code",
   "execution_count": null,
   "metadata": {
    "slideshow": {
     "slide_type": "subslide"
    },
    "vscode": {
     "languageId": "r"
    }
   },
   "outputs": [
    {
     "data": {
      "image/png": "[encoded data removed]",
      "text/plain": [
       "plot without title"
      ]
     },
     "metadata": {
      "image/png": {
       "height": 420,
       "width": 420
      }
     },
     "output_type": "display_data"
    }
   ],
   "source": [
    "percent_explained %>%\n",
    "    ggplot(aes(x = factor(PC, level = c(\"PC1\", \"PC2\", \"PC3\", \"PC4\", \"PC5\", \"PC6\", \"PC7\", \"PC8\", \"PC9\", \"PC10\")), y = total_percent, group = 1, )) +\n",
    "    geom_point(size = 4) +\n",
    "    geom_line() +\n",
    "    ggtitle(\"Cumulative Scree Plot\") +\n",
    "    xlab(\"PCs\")"
   ]
  },
  {
   "attachments": {},
   "cell_type": "markdown",
   "metadata": {
    "slideshow": {
     "slide_type": "subslide"
    }
   },
   "source": [
    "### We'll use 3"
   ]
  },
  {
   "attachments": {},
   "cell_type": "markdown",
   "metadata": {
    "slideshow": {
     "slide_type": "slide"
    }
   },
   "source": [
    "## Feature Selection"
   ]
  },
  {
   "attachments": {},
   "cell_type": "markdown",
   "metadata": {
    "slideshow": {
     "slide_type": "subslide"
    }
   },
   "source": [
    "### Remove Variables That Don't Exceed sqrt(1/n) in PC 1-3"
   ]
  },
  {
   "cell_type": "code",
   "execution_count": null,
   "metadata": {
    "vscode": {
     "languageId": "r"
    }
   },
   "outputs": [
    {
     "data": {
      "text/html": [
       "0.316227766016838"
      ],
      "text/latex": [
       "0.316227766016838"
      ],
      "text/markdown": [
       "0.316227766016838"
      ],
      "text/plain": [
       "[1] 0.3162278"
      ]
     },
     "metadata": {},
     "output_type": "display_data"
    }
   ],
   "source": [
    "sqrt(1 / 10)"
   ]
  },
  {
   "cell_type": "code",
   "execution_count": null,
   "metadata": {
    "vscode": {
     "languageId": "r"
    }
   },
   "outputs": [
    {
     "data": {
      "text/html": [
       "<table class=\"dataframe\">\n",
       "<caption>A matrix: 10 × 3 of type dbl</caption>\n",
       "<thead>\n",
       "\t<tr><th></th><th scope=col>PC1</th><th scope=col>PC2</th><th scope=col>PC3</th></tr>\n",
       "</thead>\n",
       "<tbody>\n",
       "\t<tr><th scope=row>has_computer</th><td> 0.4898115</td><td>-0.2468622</td><td>-0.07696288</td></tr>\n",
       "\t<tr><th scope=row>with_internet</th><td> 0.5010888</td><td>-0.2295104</td><td>-0.06447828</td></tr>\n",
       "\t<tr><th scope=row>work_from_home</th><td> 0.2498171</td><td>-0.3026201</td><td> 0.04409626</td></tr>\n",
       "\t<tr><th scope=row>X65_and_older</th><td> 0.2976291</td><td>-0.4261841</td><td> 0.15302149</td></tr>\n",
       "\t<tr><th scope=row>median_income</th><td> 0.0737968</td><td>-0.1659468</td><td>-0.14728323</td></tr>\n",
       "\t<tr><th scope=row>number_providers</th><td>-0.2184470</td><td>-0.3295805</td><td>-0.50595286</td></tr>\n",
       "\t<tr><th scope=row>mean_lowest_cost</th><td> 0.1616836</td><td> 0.1707843</td><td> 0.58453163</td></tr>\n",
       "\t<tr><th scope=row>mean_d_mbps</th><td> 0.3683984</td><td> 0.4096731</td><td>-0.08315480</td></tr>\n",
       "\t<tr><th scope=row>mean_u_mbps</th><td> 0.1988716</td><td> 0.2826412</td><td>-0.57034600</td></tr>\n",
       "\t<tr><th scope=row>mean_lat_ms</th><td>-0.3216040</td><td>-0.4473535</td><td> 0.11398274</td></tr>\n",
       "</tbody>\n",
       "</table>\n"
      ],
      "text/latex": [
       "A matrix: 10 × 3 of type dbl\n",
       "\\begin{tabular}{r|lll}\n",
       "  & PC1 & PC2 & PC3\\\\\n",
       "\\hline\n",
       "\thas\\_computer &  0.4898115 & -0.2468622 & -0.07696288\\\\\n",
       "\twith\\_internet &  0.5010888 & -0.2295104 & -0.06447828\\\\\n",
       "\twork\\_from\\_home &  0.2498171 & -0.3026201 &  0.04409626\\\\\n",
       "\tX65\\_and\\_older &  0.2976291 & -0.4261841 &  0.15302149\\\\\n",
       "\tmedian\\_income &  0.0737968 & -0.1659468 & -0.14728323\\\\\n",
       "\tnumber\\_providers & -0.2184470 & -0.3295805 & -0.50595286\\\\\n",
       "\tmean\\_lowest\\_cost &  0.1616836 &  0.1707843 &  0.58453163\\\\\n",
       "\tmean\\_d\\_mbps &  0.3683984 &  0.4096731 & -0.08315480\\\\\n",
       "\tmean\\_u\\_mbps &  0.1988716 &  0.2826412 & -0.57034600\\\\\n",
       "\tmean\\_lat\\_ms & -0.3216040 & -0.4473535 &  0.11398274\\\\\n",
       "\\end{tabular}\n"
      ],
      "text/markdown": [
       "\n",
       "A matrix: 10 × 3 of type dbl\n",
       "\n",
       "| <!--/--> | PC1 | PC2 | PC3 |\n",
       "|---|---|---|---|\n",
       "| has_computer |  0.4898115 | -0.2468622 | -0.07696288 |\n",
       "| with_internet |  0.5010888 | -0.2295104 | -0.06447828 |\n",
       "| work_from_home |  0.2498171 | -0.3026201 |  0.04409626 |\n",
       "| X65_and_older |  0.2976291 | -0.4261841 |  0.15302149 |\n",
       "| median_income |  0.0737968 | -0.1659468 | -0.14728323 |\n",
       "| number_providers | -0.2184470 | -0.3295805 | -0.50595286 |\n",
       "| mean_lowest_cost |  0.1616836 |  0.1707843 |  0.58453163 |\n",
       "| mean_d_mbps |  0.3683984 |  0.4096731 | -0.08315480 |\n",
       "| mean_u_mbps |  0.1988716 |  0.2826412 | -0.57034600 |\n",
       "| mean_lat_ms | -0.3216040 | -0.4473535 |  0.11398274 |\n",
       "\n"
      ],
      "text/plain": [
       "                 PC1        PC2        PC3        \n",
       "has_computer      0.4898115 -0.2468622 -0.07696288\n",
       "with_internet     0.5010888 -0.2295104 -0.06447828\n",
       "work_from_home    0.2498171 -0.3026201  0.04409626\n",
       "X65_and_older     0.2976291 -0.4261841  0.15302149\n",
       "median_income     0.0737968 -0.1659468 -0.14728323\n",
       "number_providers -0.2184470 -0.3295805 -0.50595286\n",
       "mean_lowest_cost  0.1616836  0.1707843  0.58453163\n",
       "mean_d_mbps       0.3683984  0.4096731 -0.08315480\n",
       "mean_u_mbps       0.1988716  0.2826412 -0.57034600\n",
       "mean_lat_ms      -0.3216040 -0.4473535  0.11398274"
      ]
     },
     "metadata": {},
     "output_type": "display_data"
    }
   ],
   "source": [
    "eigenvectors[, 1:3]"
   ]
  },
  {
   "attachments": {},
   "cell_type": "markdown",
   "metadata": {
    "slideshow": {
     "slide_type": "subslide"
    }
   },
   "source": [
    "### Remove work_from_home and median_income And Redo PCA"
   ]
  },
  {
   "cell_type": "code",
   "execution_count": null,
   "metadata": {
    "vscode": {
     "languageId": "r"
    }
   },
   "outputs": [],
   "source": [
    "data2.2 <- data %>% dplyr::select(-work_from_home,-median_income)\n",
    "scaled_data2.2 <- scale(data2.2)\n",
    "pca_data2.2 <- prcomp(data2.2, scale = TRUE, center = TRUE)\n",
    "eigenvectors2.2 <- -pca_data2.2$rotation\n",
    "eigenvalues2.2 <- pca_data2.2$sdev^2"
   ]
  },
  {
   "attachments": {},
   "cell_type": "markdown",
   "metadata": {
    "slideshow": {
     "slide_type": "slide"
    }
   },
   "source": [
    "## Create The Index"
   ]
  },
  {
   "attachments": {},
   "cell_type": "markdown",
   "metadata": {
    "slideshow": {
     "slide_type": "subslide"
    }
   },
   "source": [
    "### Multiply Eigenvectors By Eigenvalues To Get Weights"
   ]
  },
  {
   "cell_type": "code",
   "execution_count": null,
   "metadata": {
    "vscode": {
     "languageId": "r"
    }
   },
   "outputs": [],
   "source": [
    "weights <- eigenvectors2.2[, 1:3]\n",
    "\n",
    "for (i in 1:ncol(weights)) {\n",
    "    weights[i, ] <- weights[i, ] * eigenvalues2.2[i]\n",
    "}"
   ]
  },
  {
   "cell_type": "code",
   "execution_count": null,
   "metadata": {
    "vscode": {
     "languageId": "r"
    }
   },
   "outputs": [
    {
     "data": {
      "text/html": [
       "<table class=\"dataframe\">\n",
       "<caption>A matrix: 8 × 3 of type dbl</caption>\n",
       "<thead>\n",
       "\t<tr><th></th><th scope=col>PC1</th><th scope=col>PC2</th><th scope=col>PC3</th></tr>\n",
       "</thead>\n",
       "<tbody>\n",
       "\t<tr><th scope=row>has_computer</th><td> 1.3781844</td><td>-1.1700233</td><td> 0.24552823</td></tr>\n",
       "\t<tr><th scope=row>with_internet</th><td> 0.9755071</td><td>-0.7664853</td><td> 0.14365837</td></tr>\n",
       "\t<tr><th scope=row>X65_and_older</th><td> 0.2635078</td><td>-0.6016760</td><td>-0.16543816</td></tr>\n",
       "\t<tr><th scope=row>number_providers</th><td>-0.2727747</td><td>-0.2963657</td><td> 0.52529656</td></tr>\n",
       "\t<tr><th scope=row>mean_lowest_cost</th><td> 0.1934170</td><td> 0.1266271</td><td>-0.58752257</td></tr>\n",
       "\t<tr><th scope=row>mean_d_mbps</th><td> 0.4369824</td><td> 0.3411832</td><td> 0.08107499</td></tr>\n",
       "\t<tr><th scope=row>mean_u_mbps</th><td> 0.2492243</td><td> 0.2400401</td><td> 0.57210681</td></tr>\n",
       "\t<tr><th scope=row>mean_lat_ms</th><td>-0.3951587</td><td>-0.3953091</td><td>-0.11124764</td></tr>\n",
       "</tbody>\n",
       "</table>\n"
      ],
      "text/latex": [
       "A matrix: 8 × 3 of type dbl\n",
       "\\begin{tabular}{r|lll}\n",
       "  & PC1 & PC2 & PC3\\\\\n",
       "\\hline\n",
       "\thas\\_computer &  1.3781844 & -1.1700233 &  0.24552823\\\\\n",
       "\twith\\_internet &  0.9755071 & -0.7664853 &  0.14365837\\\\\n",
       "\tX65\\_and\\_older &  0.2635078 & -0.6016760 & -0.16543816\\\\\n",
       "\tnumber\\_providers & -0.2727747 & -0.2963657 &  0.52529656\\\\\n",
       "\tmean\\_lowest\\_cost &  0.1934170 &  0.1266271 & -0.58752257\\\\\n",
       "\tmean\\_d\\_mbps &  0.4369824 &  0.3411832 &  0.08107499\\\\\n",
       "\tmean\\_u\\_mbps &  0.2492243 &  0.2400401 &  0.57210681\\\\\n",
       "\tmean\\_lat\\_ms & -0.3951587 & -0.3953091 & -0.11124764\\\\\n",
       "\\end{tabular}\n"
      ],
      "text/markdown": [
       "\n",
       "A matrix: 8 × 3 of type dbl\n",
       "\n",
       "| <!--/--> | PC1 | PC2 | PC3 |\n",
       "|---|---|---|---|\n",
       "| has_computer |  1.3781844 | -1.1700233 |  0.24552823 |\n",
       "| with_internet |  0.9755071 | -0.7664853 |  0.14365837 |\n",
       "| X65_and_older |  0.2635078 | -0.6016760 | -0.16543816 |\n",
       "| number_providers | -0.2727747 | -0.2963657 |  0.52529656 |\n",
       "| mean_lowest_cost |  0.1934170 |  0.1266271 | -0.58752257 |\n",
       "| mean_d_mbps |  0.4369824 |  0.3411832 |  0.08107499 |\n",
       "| mean_u_mbps |  0.2492243 |  0.2400401 |  0.57210681 |\n",
       "| mean_lat_ms | -0.3951587 | -0.3953091 | -0.11124764 |\n",
       "\n"
      ],
      "text/plain": [
       "                 PC1        PC2        PC3        \n",
       "has_computer      1.3781844 -1.1700233  0.24552823\n",
       "with_internet     0.9755071 -0.7664853  0.14365837\n",
       "X65_and_older     0.2635078 -0.6016760 -0.16543816\n",
       "number_providers -0.2727747 -0.2963657  0.52529656\n",
       "mean_lowest_cost  0.1934170  0.1266271 -0.58752257\n",
       "mean_d_mbps       0.4369824  0.3411832  0.08107499\n",
       "mean_u_mbps       0.2492243  0.2400401  0.57210681\n",
       "mean_lat_ms      -0.3951587 -0.3953091 -0.11124764"
      ]
     },
     "metadata": {},
     "output_type": "display_data"
    }
   ],
   "source": [
    "weights"
   ]
  },
  {
   "attachments": {},
   "cell_type": "markdown",
   "metadata": {
    "slideshow": {
     "slide_type": "subslide"
    }
   },
   "source": [
    "#### Proof"
   ]
  },
  {
   "cell_type": "code",
   "execution_count": null,
   "metadata": {
    "vscode": {
     "languageId": "r"
    }
   },
   "outputs": [
    {
     "data": {
      "text/html": [
       "<ol>\n",
       "\t<li>3.03360026460269</li>\n",
       "\t<li>2.08719956645967</li>\n",
       "\t<li>1.13257121503609</li>\n",
       "\t<li>0.807095168505819</li>\n",
       "\t<li>0.445767433828156</li>\n",
       "\t<li>0.325756717718082</li>\n",
       "\t<li>0.158834320725378</li>\n",
       "\t<li>0.00917531312412525</li>\n",
       "</ol>\n"
      ],
      "text/latex": [
       "\\begin{enumerate}\n",
       "\\item 3.03360026460269\n",
       "\\item 2.08719956645967\n",
       "\\item 1.13257121503609\n",
       "\\item 0.807095168505819\n",
       "\\item 0.445767433828156\n",
       "\\item 0.325756717718082\n",
       "\\item 0.158834320725378\n",
       "\\item 0.00917531312412525\n",
       "\\end{enumerate}\n"
      ],
      "text/markdown": [
       "1. 3.03360026460269\n",
       "2. 2.08719956645967\n",
       "3. 1.13257121503609\n",
       "4. 0.807095168505819\n",
       "5. 0.445767433828156\n",
       "6. 0.325756717718082\n",
       "7. 0.158834320725378\n",
       "8. 0.00917531312412525\n",
       "\n",
       "\n"
      ],
      "text/plain": [
       "[[1]]\n",
       "[1] 3.0336\n",
       "\n",
       "[[2]]\n",
       "[1] 2.0872\n",
       "\n",
       "[[3]]\n",
       "[1] 1.132571\n",
       "\n",
       "[[4]]\n",
       "[1] 0.8070952\n",
       "\n",
       "[[5]]\n",
       "[1] 0.4457674\n",
       "\n",
       "[[6]]\n",
       "[1] 0.3257567\n",
       "\n",
       "[[7]]\n",
       "[1] 0.1588343\n",
       "\n",
       "[[8]]\n",
       "[1] 0.009175313\n"
      ]
     },
     "metadata": {},
     "output_type": "display_data"
    }
   ],
   "source": [
    "as.list(eigenvalues2.2)"
   ]
  },
  {
   "cell_type": "code",
   "execution_count": null,
   "metadata": {
    "vscode": {
     "languageId": "r"
    }
   },
   "outputs": [
    {
     "data": {
      "text/html": [
       "<table class=\"dataframe\">\n",
       "<caption>A matrix: 8 × 3 of type dbl</caption>\n",
       "<thead>\n",
       "\t<tr><th></th><th scope=col>PC1</th><th scope=col>PC2</th><th scope=col>PC3</th></tr>\n",
       "</thead>\n",
       "<tbody>\n",
       "\t<tr><th scope=row>has_computer</th><td> 0.4543065</td><td>-0.3856880</td><td> 0.08093625</td></tr>\n",
       "\t<tr><th scope=row>with_internet</th><td> 0.4673761</td><td>-0.3672314</td><td> 0.06882829</td></tr>\n",
       "\t<tr><th scope=row>X65_and_older</th><td> 0.2326633</td><td>-0.5312478</td><td>-0.14607307</td></tr>\n",
       "\t<tr><th scope=row>number_providers</th><td>-0.2727747</td><td>-0.2963657</td><td> 0.52529656</td></tr>\n",
       "\t<tr><th scope=row>mean_lowest_cost</th><td> 0.1934170</td><td> 0.1266271</td><td>-0.58752257</td></tr>\n",
       "\t<tr><th scope=row>mean_d_mbps</th><td> 0.4369824</td><td> 0.3411832</td><td> 0.08107499</td></tr>\n",
       "\t<tr><th scope=row>mean_u_mbps</th><td> 0.2492243</td><td> 0.2400401</td><td> 0.57210681</td></tr>\n",
       "\t<tr><th scope=row>mean_lat_ms</th><td>-0.3951587</td><td>-0.3953091</td><td>-0.11124764</td></tr>\n",
       "</tbody>\n",
       "</table>\n"
      ],
      "text/latex": [
       "A matrix: 8 × 3 of type dbl\n",
       "\\begin{tabular}{r|lll}\n",
       "  & PC1 & PC2 & PC3\\\\\n",
       "\\hline\n",
       "\thas\\_computer &  0.4543065 & -0.3856880 &  0.08093625\\\\\n",
       "\twith\\_internet &  0.4673761 & -0.3672314 &  0.06882829\\\\\n",
       "\tX65\\_and\\_older &  0.2326633 & -0.5312478 & -0.14607307\\\\\n",
       "\tnumber\\_providers & -0.2727747 & -0.2963657 &  0.52529656\\\\\n",
       "\tmean\\_lowest\\_cost &  0.1934170 &  0.1266271 & -0.58752257\\\\\n",
       "\tmean\\_d\\_mbps &  0.4369824 &  0.3411832 &  0.08107499\\\\\n",
       "\tmean\\_u\\_mbps &  0.2492243 &  0.2400401 &  0.57210681\\\\\n",
       "\tmean\\_lat\\_ms & -0.3951587 & -0.3953091 & -0.11124764\\\\\n",
       "\\end{tabular}\n"
      ],
      "text/markdown": [
       "\n",
       "A matrix: 8 × 3 of type dbl\n",
       "\n",
       "| <!--/--> | PC1 | PC2 | PC3 |\n",
       "|---|---|---|---|\n",
       "| has_computer |  0.4543065 | -0.3856880 |  0.08093625 |\n",
       "| with_internet |  0.4673761 | -0.3672314 |  0.06882829 |\n",
       "| X65_and_older |  0.2326633 | -0.5312478 | -0.14607307 |\n",
       "| number_providers | -0.2727747 | -0.2963657 |  0.52529656 |\n",
       "| mean_lowest_cost |  0.1934170 |  0.1266271 | -0.58752257 |\n",
       "| mean_d_mbps |  0.4369824 |  0.3411832 |  0.08107499 |\n",
       "| mean_u_mbps |  0.2492243 |  0.2400401 |  0.57210681 |\n",
       "| mean_lat_ms | -0.3951587 | -0.3953091 | -0.11124764 |\n",
       "\n"
      ],
      "text/plain": [
       "                 PC1        PC2        PC3        \n",
       "has_computer      0.4543065 -0.3856880  0.08093625\n",
       "with_internet     0.4673761 -0.3672314  0.06882829\n",
       "X65_and_older     0.2326633 -0.5312478 -0.14607307\n",
       "number_providers -0.2727747 -0.2963657  0.52529656\n",
       "mean_lowest_cost  0.1934170  0.1266271 -0.58752257\n",
       "mean_d_mbps       0.4369824  0.3411832  0.08107499\n",
       "mean_u_mbps       0.2492243  0.2400401  0.57210681\n",
       "mean_lat_ms      -0.3951587 -0.3953091 -0.11124764"
      ]
     },
     "metadata": {},
     "output_type": "display_data"
    }
   ],
   "source": [
    "eigenvectors2.2[, 1:3]"
   ]
  },
  {
   "cell_type": "code",
   "execution_count": null,
   "metadata": {
    "vscode": {
     "languageId": "r"
    }
   },
   "outputs": [
    {
     "data": {
      "text/html": [
       "1.37818431861072"
      ],
      "text/latex": [
       "1.37818431861072"
      ],
      "text/markdown": [
       "1.37818431861072"
      ],
      "text/plain": [
       "[1] 1.378184"
      ]
     },
     "metadata": {},
     "output_type": "display_data"
    }
   ],
   "source": [
    "3.03360026460269 * 0.4543065"
   ]
  },
  {
   "cell_type": "code",
   "execution_count": null,
   "metadata": {
    "vscode": {
     "languageId": "r"
    }
   },
   "outputs": [
    {
     "data": {
      "text/html": [
       "0.975507193293611"
      ],
      "text/latex": [
       "0.975507193293611"
      ],
      "text/markdown": [
       "0.975507193293611"
      ],
      "text/plain": [
       "[1] 0.9755072"
      ]
     },
     "metadata": {},
     "output_type": "display_data"
    }
   ],
   "source": [
    "2.08719956645967 * 0.4673761"
   ]
  },
  {
   "cell_type": "code",
   "execution_count": null,
   "metadata": {
    "vscode": {
     "languageId": "r"
    }
   },
   "outputs": [
    {
     "data": {
      "text/html": [
       "0.436819126784839"
      ],
      "text/latex": [
       "0.436819126784839"
      ],
      "text/markdown": [
       "0.436819126784839"
      ],
      "text/plain": [
       "[1] 0.4368191"
      ]
     },
     "metadata": {},
     "output_type": "display_data"
    }
   ],
   "source": [
    "1.13257121503609 * 0.3856880"
   ]
  },
  {
   "cell_type": "code",
   "execution_count": null,
   "metadata": {
    "vscode": {
     "languageId": "r"
    }
   },
   "outputs": [
    {
     "data": {
      "text/html": [
       "<table class=\"dataframe\">\n",
       "<caption>A matrix: 8 × 3 of type dbl</caption>\n",
       "<thead>\n",
       "\t<tr><th></th><th scope=col>PC1</th><th scope=col>PC2</th><th scope=col>PC3</th></tr>\n",
       "</thead>\n",
       "<tbody>\n",
       "\t<tr><th scope=row>has_computer</th><td> 1.3781844</td><td>-1.1700233</td><td> 0.24552823</td></tr>\n",
       "\t<tr><th scope=row>with_internet</th><td> 0.9755071</td><td>-0.7664853</td><td> 0.14365837</td></tr>\n",
       "\t<tr><th scope=row>X65_and_older</th><td> 0.2635078</td><td>-0.6016760</td><td>-0.16543816</td></tr>\n",
       "\t<tr><th scope=row>number_providers</th><td>-0.2727747</td><td>-0.2963657</td><td> 0.52529656</td></tr>\n",
       "\t<tr><th scope=row>mean_lowest_cost</th><td> 0.1934170</td><td> 0.1266271</td><td>-0.58752257</td></tr>\n",
       "\t<tr><th scope=row>mean_d_mbps</th><td> 0.4369824</td><td> 0.3411832</td><td> 0.08107499</td></tr>\n",
       "\t<tr><th scope=row>mean_u_mbps</th><td> 0.2492243</td><td> 0.2400401</td><td> 0.57210681</td></tr>\n",
       "\t<tr><th scope=row>mean_lat_ms</th><td>-0.3951587</td><td>-0.3953091</td><td>-0.11124764</td></tr>\n",
       "</tbody>\n",
       "</table>\n"
      ],
      "text/latex": [
       "A matrix: 8 × 3 of type dbl\n",
       "\\begin{tabular}{r|lll}\n",
       "  & PC1 & PC2 & PC3\\\\\n",
       "\\hline\n",
       "\thas\\_computer &  1.3781844 & -1.1700233 &  0.24552823\\\\\n",
       "\twith\\_internet &  0.9755071 & -0.7664853 &  0.14365837\\\\\n",
       "\tX65\\_and\\_older &  0.2635078 & -0.6016760 & -0.16543816\\\\\n",
       "\tnumber\\_providers & -0.2727747 & -0.2963657 &  0.52529656\\\\\n",
       "\tmean\\_lowest\\_cost &  0.1934170 &  0.1266271 & -0.58752257\\\\\n",
       "\tmean\\_d\\_mbps &  0.4369824 &  0.3411832 &  0.08107499\\\\\n",
       "\tmean\\_u\\_mbps &  0.2492243 &  0.2400401 &  0.57210681\\\\\n",
       "\tmean\\_lat\\_ms & -0.3951587 & -0.3953091 & -0.11124764\\\\\n",
       "\\end{tabular}\n"
      ],
      "text/markdown": [
       "\n",
       "A matrix: 8 × 3 of type dbl\n",
       "\n",
       "| <!--/--> | PC1 | PC2 | PC3 |\n",
       "|---|---|---|---|\n",
       "| has_computer |  1.3781844 | -1.1700233 |  0.24552823 |\n",
       "| with_internet |  0.9755071 | -0.7664853 |  0.14365837 |\n",
       "| X65_and_older |  0.2635078 | -0.6016760 | -0.16543816 |\n",
       "| number_providers | -0.2727747 | -0.2963657 |  0.52529656 |\n",
       "| mean_lowest_cost |  0.1934170 |  0.1266271 | -0.58752257 |\n",
       "| mean_d_mbps |  0.4369824 |  0.3411832 |  0.08107499 |\n",
       "| mean_u_mbps |  0.2492243 |  0.2400401 |  0.57210681 |\n",
       "| mean_lat_ms | -0.3951587 | -0.3953091 | -0.11124764 |\n",
       "\n"
      ],
      "text/plain": [
       "                 PC1        PC2        PC3        \n",
       "has_computer      1.3781844 -1.1700233  0.24552823\n",
       "with_internet     0.9755071 -0.7664853  0.14365837\n",
       "X65_and_older     0.2635078 -0.6016760 -0.16543816\n",
       "number_providers -0.2727747 -0.2963657  0.52529656\n",
       "mean_lowest_cost  0.1934170  0.1266271 -0.58752257\n",
       "mean_d_mbps       0.4369824  0.3411832  0.08107499\n",
       "mean_u_mbps       0.2492243  0.2400401  0.57210681\n",
       "mean_lat_ms      -0.3951587 -0.3953091 -0.11124764"
      ]
     },
     "metadata": {},
     "output_type": "display_data"
    }
   ],
   "source": [
    "weights"
   ]
  },
  {
   "attachments": {},
   "cell_type": "markdown",
   "metadata": {
    "slideshow": {
     "slide_type": "subslide"
    }
   },
   "source": [
    "### Sum The Weights"
   ]
  },
  {
   "cell_type": "code",
   "execution_count": null,
   "metadata": {
    "vscode": {
     "languageId": "r"
    }
   },
   "outputs": [
    {
     "data": {
      "text/html": [
       "<table class=\"dataframe\">\n",
       "<caption>A data.frame: 8 × 1</caption>\n",
       "<thead>\n",
       "\t<tr><th></th><th scope=col>weight</th></tr>\n",
       "\t<tr><th></th><th scope=col>&lt;dbl&gt;</th></tr>\n",
       "</thead>\n",
       "<tbody>\n",
       "\t<tr><th scope=row>has_computer</th><td> 0.45368933</td></tr>\n",
       "\t<tr><th scope=row>with_internet</th><td> 0.35268022</td></tr>\n",
       "\t<tr><th scope=row>X65_and_older</th><td>-0.50360634</td></tr>\n",
       "\t<tr><th scope=row>number_providers</th><td>-0.04384384</td></tr>\n",
       "\t<tr><th scope=row>mean_lowest_cost</th><td>-0.26747852</td></tr>\n",
       "\t<tr><th scope=row>mean_d_mbps</th><td> 0.85924065</td></tr>\n",
       "\t<tr><th scope=row>mean_u_mbps</th><td> 1.06137118</td></tr>\n",
       "\t<tr><th scope=row>mean_lat_ms</th><td>-0.90171551</td></tr>\n",
       "</tbody>\n",
       "</table>\n"
      ],
      "text/latex": [
       "A data.frame: 8 × 1\n",
       "\\begin{tabular}{r|l}\n",
       "  & weight\\\\\n",
       "  & <dbl>\\\\\n",
       "\\hline\n",
       "\thas\\_computer &  0.45368933\\\\\n",
       "\twith\\_internet &  0.35268022\\\\\n",
       "\tX65\\_and\\_older & -0.50360634\\\\\n",
       "\tnumber\\_providers & -0.04384384\\\\\n",
       "\tmean\\_lowest\\_cost & -0.26747852\\\\\n",
       "\tmean\\_d\\_mbps &  0.85924065\\\\\n",
       "\tmean\\_u\\_mbps &  1.06137118\\\\\n",
       "\tmean\\_lat\\_ms & -0.90171551\\\\\n",
       "\\end{tabular}\n"
      ],
      "text/markdown": [
       "\n",
       "A data.frame: 8 × 1\n",
       "\n",
       "| <!--/--> | weight &lt;dbl&gt; |\n",
       "|---|---|\n",
       "| has_computer |  0.45368933 |\n",
       "| with_internet |  0.35268022 |\n",
       "| X65_and_older | -0.50360634 |\n",
       "| number_providers | -0.04384384 |\n",
       "| mean_lowest_cost | -0.26747852 |\n",
       "| mean_d_mbps |  0.85924065 |\n",
       "| mean_u_mbps |  1.06137118 |\n",
       "| mean_lat_ms | -0.90171551 |\n",
       "\n"
      ],
      "text/plain": [
       "                 weight     \n",
       "has_computer      0.45368933\n",
       "with_internet     0.35268022\n",
       "X65_and_older    -0.50360634\n",
       "number_providers -0.04384384\n",
       "mean_lowest_cost -0.26747852\n",
       "mean_d_mbps       0.85924065\n",
       "mean_u_mbps       1.06137118\n",
       "mean_lat_ms      -0.90171551"
      ]
     },
     "metadata": {},
     "output_type": "display_data"
    }
   ],
   "source": [
    "weights <- weights %>%\n",
    "    as.data.frame() %>%\n",
    "    transmute(weight = PC1 + PC2 + PC3)\n",
    "\n",
    "weights"
   ]
  },
  {
   "attachments": {},
   "cell_type": "markdown",
   "metadata": {
    "slideshow": {
     "slide_type": "subslide"
    }
   },
   "source": [
    "### Multiply Standardized Data By Weights"
   ]
  },
  {
   "cell_type": "code",
   "execution_count": null,
   "metadata": {
    "vscode": {
     "languageId": "r"
    }
   },
   "outputs": [
    {
     "data": {
      "text/html": [
       "<table class=\"dataframe\">\n",
       "<caption>A matrix: 6 × 1 of type dbl</caption>\n",
       "<thead>\n",
       "\t<tr><th scope=col>weight</th></tr>\n",
       "</thead>\n",
       "<tbody>\n",
       "\t<tr><td>-2.4143862</td></tr>\n",
       "\t<tr><td>-1.5025430</td></tr>\n",
       "\t<tr><td>-0.6294349</td></tr>\n",
       "\t<tr><td>-1.9323299</td></tr>\n",
       "\t<tr><td>-0.7089533</td></tr>\n",
       "\t<tr><td>-1.1405124</td></tr>\n",
       "</tbody>\n",
       "</table>\n"
      ],
      "text/latex": [
       "A matrix: 6 × 1 of type dbl\n",
       "\\begin{tabular}{l}\n",
       " weight\\\\\n",
       "\\hline\n",
       "\t -2.4143862\\\\\n",
       "\t -1.5025430\\\\\n",
       "\t -0.6294349\\\\\n",
       "\t -1.9323299\\\\\n",
       "\t -0.7089533\\\\\n",
       "\t -1.1405124\\\\\n",
       "\\end{tabular}\n"
      ],
      "text/markdown": [
       "\n",
       "A matrix: 6 × 1 of type dbl\n",
       "\n",
       "| weight |\n",
       "|---|\n",
       "| -2.4143862 |\n",
       "| -1.5025430 |\n",
       "| -0.6294349 |\n",
       "| -1.9323299 |\n",
       "| -0.7089533 |\n",
       "| -1.1405124 |\n",
       "\n"
      ],
      "text/plain": [
       "     weight    \n",
       "[1,] -2.4143862\n",
       "[2,] -1.5025430\n",
       "[3,] -0.6294349\n",
       "[4,] -1.9323299\n",
       "[5,] -0.7089533\n",
       "[6,] -1.1405124"
      ]
     },
     "metadata": {},
     "output_type": "display_data"
    }
   ],
   "source": [
    "index2 <- scaled_data2.2 %*% as.matrix(weights)\n",
    "head(index2)"
   ]
  },
  {
   "cell_type": "code",
   "execution_count": null,
   "metadata": {
    "vscode": {
     "languageId": "r"
    }
   },
   "outputs": [
    {
     "data": {
      "text/html": [
       "<table class=\"dataframe\">\n",
       "<caption>A tibble: 6 × 9</caption>\n",
       "<thead>\n",
       "\t<tr><th scope=col>has_computer</th><th scope=col>with_internet</th><th scope=col>X65_and_older</th><th scope=col>number_providers</th><th scope=col>mean_lowest_cost</th><th scope=col>mean_d_mbps</th><th scope=col>mean_u_mbps</th><th scope=col>mean_lat_ms</th><th scope=col>index</th></tr>\n",
       "\t<tr><th scope=col>&lt;dbl&gt;</th><th scope=col>&lt;dbl&gt;</th><th scope=col>&lt;dbl&gt;</th><th scope=col>&lt;dbl&gt;</th><th scope=col>&lt;dbl&gt;</th><th scope=col>&lt;dbl&gt;</th><th scope=col>&lt;dbl&gt;</th><th scope=col>&lt;dbl&gt;</th><th scope=col>&lt;dbl&gt;</th></tr>\n",
       "</thead>\n",
       "<tbody>\n",
       "\t<tr><td> 0.50245011</td><td> 0.5167430</td><td> 2.23493253</td><td> 1.7094218</td><td>-0.18458632</td><td>-1.05913969</td><td> 0.2831385</td><td> 1.17991288</td><td>-2.4143862</td></tr>\n",
       "\t<tr><td> 0.88153598</td><td> 0.9194434</td><td> 2.28240921</td><td> 2.2108891</td><td> 0.41923513</td><td>-0.64056563</td><td>-0.4304467</td><td>-0.15416598</td><td>-1.5025430</td></tr>\n",
       "\t<tr><td>-0.19922325</td><td>-0.2714809</td><td>-0.74343819</td><td> 1.2079545</td><td> 0.39687137</td><td>-0.31447576</td><td>-0.2727836</td><td> 0.10962741</td><td>-0.6294349</td></tr>\n",
       "\t<tr><td>-0.81523778</td><td>-0.9413759</td><td> 0.05100501</td><td>-0.2964475</td><td> 1.12369349</td><td>-0.85523159</td><td>-0.4058615</td><td>-0.27548794</td><td>-1.9323299</td></tr>\n",
       "\t<tr><td>-0.07893639</td><td>-0.1913226</td><td> 0.01302366</td><td>-0.2964475</td><td> 1.12369349</td><td>-0.08992031</td><td>-0.4758288</td><td>-0.30026584</td><td>-0.7089533</td></tr>\n",
       "\t<tr><td> 0.28010167</td><td> 0.1789328</td><td> 0.88026444</td><td> 0.2050198</td><td> 0.07383932</td><td>-0.57834859</td><td>-0.4065058</td><td>-0.07734433</td><td>-1.1405124</td></tr>\n",
       "</tbody>\n",
       "</table>\n"
      ],
      "text/latex": [
       "A tibble: 6 × 9\n",
       "\\begin{tabular}{lllllllll}\n",
       " has\\_computer & with\\_internet & X65\\_and\\_older & number\\_providers & mean\\_lowest\\_cost & mean\\_d\\_mbps & mean\\_u\\_mbps & mean\\_lat\\_ms & index\\\\\n",
       " <dbl> & <dbl> & <dbl> & <dbl> & <dbl> & <dbl> & <dbl> & <dbl> & <dbl>\\\\\n",
       "\\hline\n",
       "\t  0.50245011 &  0.5167430 &  2.23493253 &  1.7094218 & -0.18458632 & -1.05913969 &  0.2831385 &  1.17991288 & -2.4143862\\\\\n",
       "\t  0.88153598 &  0.9194434 &  2.28240921 &  2.2108891 &  0.41923513 & -0.64056563 & -0.4304467 & -0.15416598 & -1.5025430\\\\\n",
       "\t -0.19922325 & -0.2714809 & -0.74343819 &  1.2079545 &  0.39687137 & -0.31447576 & -0.2727836 &  0.10962741 & -0.6294349\\\\\n",
       "\t -0.81523778 & -0.9413759 &  0.05100501 & -0.2964475 &  1.12369349 & -0.85523159 & -0.4058615 & -0.27548794 & -1.9323299\\\\\n",
       "\t -0.07893639 & -0.1913226 &  0.01302366 & -0.2964475 &  1.12369349 & -0.08992031 & -0.4758288 & -0.30026584 & -0.7089533\\\\\n",
       "\t  0.28010167 &  0.1789328 &  0.88026444 &  0.2050198 &  0.07383932 & -0.57834859 & -0.4065058 & -0.07734433 & -1.1405124\\\\\n",
       "\\end{tabular}\n"
      ],
      "text/markdown": [
       "\n",
       "A tibble: 6 × 9\n",
       "\n",
       "| has_computer &lt;dbl&gt; | with_internet &lt;dbl&gt; | X65_and_older &lt;dbl&gt; | number_providers &lt;dbl&gt; | mean_lowest_cost &lt;dbl&gt; | mean_d_mbps &lt;dbl&gt; | mean_u_mbps &lt;dbl&gt; | mean_lat_ms &lt;dbl&gt; | index &lt;dbl&gt; |\n",
       "|---|---|---|---|---|---|---|---|---|\n",
       "|  0.50245011 |  0.5167430 |  2.23493253 |  1.7094218 | -0.18458632 | -1.05913969 |  0.2831385 |  1.17991288 | -2.4143862 |\n",
       "|  0.88153598 |  0.9194434 |  2.28240921 |  2.2108891 |  0.41923513 | -0.64056563 | -0.4304467 | -0.15416598 | -1.5025430 |\n",
       "| -0.19922325 | -0.2714809 | -0.74343819 |  1.2079545 |  0.39687137 | -0.31447576 | -0.2727836 |  0.10962741 | -0.6294349 |\n",
       "| -0.81523778 | -0.9413759 |  0.05100501 | -0.2964475 |  1.12369349 | -0.85523159 | -0.4058615 | -0.27548794 | -1.9323299 |\n",
       "| -0.07893639 | -0.1913226 |  0.01302366 | -0.2964475 |  1.12369349 | -0.08992031 | -0.4758288 | -0.30026584 | -0.7089533 |\n",
       "|  0.28010167 |  0.1789328 |  0.88026444 |  0.2050198 |  0.07383932 | -0.57834859 | -0.4065058 | -0.07734433 | -1.1405124 |\n",
       "\n"
      ],
      "text/plain": [
       "  has_computer with_internet X65_and_older number_providers mean_lowest_cost\n",
       "1  0.50245011   0.5167430     2.23493253    1.7094218       -0.18458632     \n",
       "2  0.88153598   0.9194434     2.28240921    2.2108891        0.41923513     \n",
       "3 -0.19922325  -0.2714809    -0.74343819    1.2079545        0.39687137     \n",
       "4 -0.81523778  -0.9413759     0.05100501   -0.2964475        1.12369349     \n",
       "5 -0.07893639  -0.1913226     0.01302366   -0.2964475        1.12369349     \n",
       "6  0.28010167   0.1789328     0.88026444    0.2050198        0.07383932     \n",
       "  mean_d_mbps mean_u_mbps mean_lat_ms index     \n",
       "1 -1.05913969  0.2831385   1.17991288 -2.4143862\n",
       "2 -0.64056563 -0.4304467  -0.15416598 -1.5025430\n",
       "3 -0.31447576 -0.2727836   0.10962741 -0.6294349\n",
       "4 -0.85523159 -0.4058615  -0.27548794 -1.9323299\n",
       "5 -0.08992031 -0.4758288  -0.30026584 -0.7089533\n",
       "6 -0.57834859 -0.4065058  -0.07734433 -1.1405124"
      ]
     },
     "metadata": {},
     "output_type": "display_data"
    }
   ],
   "source": [
    "index_data2 <- bind_cols(scaled_data2.2, index2) %>%\n",
    "    rename(index = weight)\n",
    "head(index_data2)"
   ]
  },
  {
   "attachments": {},
   "cell_type": "markdown",
   "metadata": {
    "slideshow": {
     "slide_type": "subslide"
    }
   },
   "source": [
    "## Check Reliability"
   ]
  },
  {
   "cell_type": "code",
   "execution_count": null,
   "metadata": {
    "vscode": {
     "languageId": "r"
    }
   },
   "outputs": [
    {
     "data": {
      "text/plain": [
       "\n",
       "Cronbach's alpha for the 'index_data1.2' data-set\n",
       "\n",
       "Items: 10\n",
       "Sample units: 183\n",
       "alpha: 0.644\n"
      ]
     },
     "metadata": {},
     "output_type": "display_data"
    },
    {
     "data": {
      "text/plain": [
       "\n",
       "Cronbach's alpha for the 'index_data2' data-set\n",
       "\n",
       "Items: 9\n",
       "Sample units: 183\n",
       "alpha: 0.45\n"
      ]
     },
     "metadata": {},
     "output_type": "display_data"
    }
   ],
   "source": [
    "library(ltm)\n",
    "cronbach.alpha(index_data1.2)\n",
    "cronbach.alpha(index_data2)"
   ]
  },
  {
   "attachments": {},
   "cell_type": "markdown",
   "metadata": {
    "slideshow": {
     "slide_type": "slide"
    }
   },
   "source": [
    "# PCA - Method 3"
   ]
  },
  {
   "attachments": {},
   "cell_type": "markdown",
   "metadata": {
    "slideshow": {
     "slide_type": "fragment"
    }
   },
   "source": [
    "## Create Index Using Method 2"
   ]
  },
  {
   "attachments": {},
   "cell_type": "markdown",
   "metadata": {
    "slideshow": {
     "slide_type": "fragment"
    }
   },
   "source": [
    "## Feature Selection Using Method 1"
   ]
  },
  {
   "attachments": {},
   "cell_type": "markdown",
   "metadata": {
    "slideshow": {
     "slide_type": "fragment"
    }
   },
   "source": [
    "## Stepwise Regression For Final Coefficients"
   ]
  },
  {
   "attachments": {},
   "cell_type": "markdown",
   "metadata": {
    "slideshow": {
     "slide_type": "slide"
    }
   },
   "source": [
    "## Create The Index"
   ]
  },
  {
   "cell_type": "code",
   "execution_count": null,
   "metadata": {
    "vscode": {
     "languageId": "r"
    }
   },
   "outputs": [
    {
     "data": {
      "text/html": [
       "<table class=\"dataframe\">\n",
       "<caption>A matrix: 10 × 3 of type dbl</caption>\n",
       "<thead>\n",
       "\t<tr><th></th><th scope=col>PC1</th><th scope=col>PC2</th><th scope=col>PC3</th></tr>\n",
       "</thead>\n",
       "<tbody>\n",
       "\t<tr><th scope=row>has_computer</th><td> 1.5519452</td><td>-0.7821715</td><td>-0.24385333</td></tr>\n",
       "\t<tr><th scope=row>with_internet</th><td> 1.1615533</td><td>-0.5320186</td><td>-0.14946446</td></tr>\n",
       "\t<tr><th scope=row>work_from_home</th><td> 0.2839149</td><td>-0.3439249</td><td> 0.05011499</td></tr>\n",
       "\t<tr><th scope=row>X65_and_older</th><td> 0.2976291</td><td>-0.4261841</td><td> 0.15302149</td></tr>\n",
       "\t<tr><th scope=row>median_income</th><td> 0.0737968</td><td>-0.1659468</td><td>-0.14728323</td></tr>\n",
       "\t<tr><th scope=row>number_providers</th><td>-0.2184470</td><td>-0.3295805</td><td>-0.50595286</td></tr>\n",
       "\t<tr><th scope=row>mean_lowest_cost</th><td> 0.1616836</td><td> 0.1707843</td><td> 0.58453163</td></tr>\n",
       "\t<tr><th scope=row>mean_d_mbps</th><td> 0.3683984</td><td> 0.4096731</td><td>-0.08315480</td></tr>\n",
       "\t<tr><th scope=row>mean_u_mbps</th><td> 0.1988716</td><td> 0.2826412</td><td>-0.57034600</td></tr>\n",
       "\t<tr><th scope=row>mean_lat_ms</th><td>-0.3216040</td><td>-0.4473535</td><td> 0.11398274</td></tr>\n",
       "</tbody>\n",
       "</table>\n"
      ],
      "text/latex": [
       "A matrix: 10 × 3 of type dbl\n",
       "\\begin{tabular}{r|lll}\n",
       "  & PC1 & PC2 & PC3\\\\\n",
       "\\hline\n",
       "\thas\\_computer &  1.5519452 & -0.7821715 & -0.24385333\\\\\n",
       "\twith\\_internet &  1.1615533 & -0.5320186 & -0.14946446\\\\\n",
       "\twork\\_from\\_home &  0.2839149 & -0.3439249 &  0.05011499\\\\\n",
       "\tX65\\_and\\_older &  0.2976291 & -0.4261841 &  0.15302149\\\\\n",
       "\tmedian\\_income &  0.0737968 & -0.1659468 & -0.14728323\\\\\n",
       "\tnumber\\_providers & -0.2184470 & -0.3295805 & -0.50595286\\\\\n",
       "\tmean\\_lowest\\_cost &  0.1616836 &  0.1707843 &  0.58453163\\\\\n",
       "\tmean\\_d\\_mbps &  0.3683984 &  0.4096731 & -0.08315480\\\\\n",
       "\tmean\\_u\\_mbps &  0.1988716 &  0.2826412 & -0.57034600\\\\\n",
       "\tmean\\_lat\\_ms & -0.3216040 & -0.4473535 &  0.11398274\\\\\n",
       "\\end{tabular}\n"
      ],
      "text/markdown": [
       "\n",
       "A matrix: 10 × 3 of type dbl\n",
       "\n",
       "| <!--/--> | PC1 | PC2 | PC3 |\n",
       "|---|---|---|---|\n",
       "| has_computer |  1.5519452 | -0.7821715 | -0.24385333 |\n",
       "| with_internet |  1.1615533 | -0.5320186 | -0.14946446 |\n",
       "| work_from_home |  0.2839149 | -0.3439249 |  0.05011499 |\n",
       "| X65_and_older |  0.2976291 | -0.4261841 |  0.15302149 |\n",
       "| median_income |  0.0737968 | -0.1659468 | -0.14728323 |\n",
       "| number_providers | -0.2184470 | -0.3295805 | -0.50595286 |\n",
       "| mean_lowest_cost |  0.1616836 |  0.1707843 |  0.58453163 |\n",
       "| mean_d_mbps |  0.3683984 |  0.4096731 | -0.08315480 |\n",
       "| mean_u_mbps |  0.1988716 |  0.2826412 | -0.57034600 |\n",
       "| mean_lat_ms | -0.3216040 | -0.4473535 |  0.11398274 |\n",
       "\n"
      ],
      "text/plain": [
       "                 PC1        PC2        PC3        \n",
       "has_computer      1.5519452 -0.7821715 -0.24385333\n",
       "with_internet     1.1615533 -0.5320186 -0.14946446\n",
       "work_from_home    0.2839149 -0.3439249  0.05011499\n",
       "X65_and_older     0.2976291 -0.4261841  0.15302149\n",
       "median_income     0.0737968 -0.1659468 -0.14728323\n",
       "number_providers -0.2184470 -0.3295805 -0.50595286\n",
       "mean_lowest_cost  0.1616836  0.1707843  0.58453163\n",
       "mean_d_mbps       0.3683984  0.4096731 -0.08315480\n",
       "mean_u_mbps       0.1988716  0.2826412 -0.57034600\n",
       "mean_lat_ms      -0.3216040 -0.4473535  0.11398274"
      ]
     },
     "metadata": {},
     "output_type": "display_data"
    }
   ],
   "source": [
    "weights3 <- eigenvectors[, 1:3]\n",
    "\n",
    "for (i in 1:ncol(weights3)) {\n",
    "    weights3[i, ] <- weights3[i, ] * eigenvalues[i]\n",
    "}\n",
    "weights3"
   ]
  },
  {
   "attachments": {},
   "cell_type": "markdown",
   "metadata": {
    "slideshow": {
     "slide_type": "subslide"
    }
   },
   "source": [
    "### Sum The Weights"
   ]
  },
  {
   "cell_type": "code",
   "execution_count": null,
   "metadata": {
    "vscode": {
     "languageId": "r"
    }
   },
   "outputs": [
    {
     "data": {
      "text/html": [
       "<table class=\"dataframe\">\n",
       "<caption>A data.frame: 10 × 1</caption>\n",
       "<thead>\n",
       "\t<tr><th></th><th scope=col>weight</th></tr>\n",
       "\t<tr><th></th><th scope=col>&lt;dbl&gt;</th></tr>\n",
       "</thead>\n",
       "<tbody>\n",
       "\t<tr><th scope=row>has_computer</th><td> 0.525920291</td></tr>\n",
       "\t<tr><th scope=row>with_internet</th><td> 0.480070233</td></tr>\n",
       "\t<tr><th scope=row>work_from_home</th><td>-0.009895079</td></tr>\n",
       "\t<tr><th scope=row>X65_and_older</th><td> 0.024466485</td></tr>\n",
       "\t<tr><th scope=row>median_income</th><td>-0.239433203</td></tr>\n",
       "\t<tr><th scope=row>number_providers</th><td>-1.053980388</td></tr>\n",
       "\t<tr><th scope=row>mean_lowest_cost</th><td> 0.916999570</td></tr>\n",
       "\t<tr><th scope=row>mean_d_mbps</th><td> 0.694916744</td></tr>\n",
       "\t<tr><th scope=row>mean_u_mbps</th><td>-0.088833144</td></tr>\n",
       "\t<tr><th scope=row>mean_lat_ms</th><td>-0.654974740</td></tr>\n",
       "</tbody>\n",
       "</table>\n"
      ],
      "text/latex": [
       "A data.frame: 10 × 1\n",
       "\\begin{tabular}{r|l}\n",
       "  & weight\\\\\n",
       "  & <dbl>\\\\\n",
       "\\hline\n",
       "\thas\\_computer &  0.525920291\\\\\n",
       "\twith\\_internet &  0.480070233\\\\\n",
       "\twork\\_from\\_home & -0.009895079\\\\\n",
       "\tX65\\_and\\_older &  0.024466485\\\\\n",
       "\tmedian\\_income & -0.239433203\\\\\n",
       "\tnumber\\_providers & -1.053980388\\\\\n",
       "\tmean\\_lowest\\_cost &  0.916999570\\\\\n",
       "\tmean\\_d\\_mbps &  0.694916744\\\\\n",
       "\tmean\\_u\\_mbps & -0.088833144\\\\\n",
       "\tmean\\_lat\\_ms & -0.654974740\\\\\n",
       "\\end{tabular}\n"
      ],
      "text/markdown": [
       "\n",
       "A data.frame: 10 × 1\n",
       "\n",
       "| <!--/--> | weight &lt;dbl&gt; |\n",
       "|---|---|\n",
       "| has_computer |  0.525920291 |\n",
       "| with_internet |  0.480070233 |\n",
       "| work_from_home | -0.009895079 |\n",
       "| X65_and_older |  0.024466485 |\n",
       "| median_income | -0.239433203 |\n",
       "| number_providers | -1.053980388 |\n",
       "| mean_lowest_cost |  0.916999570 |\n",
       "| mean_d_mbps |  0.694916744 |\n",
       "| mean_u_mbps | -0.088833144 |\n",
       "| mean_lat_ms | -0.654974740 |\n",
       "\n"
      ],
      "text/plain": [
       "                 weight      \n",
       "has_computer      0.525920291\n",
       "with_internet     0.480070233\n",
       "work_from_home   -0.009895079\n",
       "X65_and_older     0.024466485\n",
       "median_income    -0.239433203\n",
       "number_providers -1.053980388\n",
       "mean_lowest_cost  0.916999570\n",
       "mean_d_mbps       0.694916744\n",
       "mean_u_mbps      -0.088833144\n",
       "mean_lat_ms      -0.654974740"
      ]
     },
     "metadata": {},
     "output_type": "display_data"
    }
   ],
   "source": [
    "weights3 <- weights3 %>%\n",
    "    as.data.frame() %>%\n",
    "    transmute(weight = PC1 + PC2 + PC3)\n",
    "\n",
    "weights3"
   ]
  },
  {
   "attachments": {},
   "cell_type": "markdown",
   "metadata": {
    "slideshow": {
     "slide_type": "subslide"
    }
   },
   "source": [
    "### Create The Index"
   ]
  },
  {
   "cell_type": "code",
   "execution_count": null,
   "metadata": {
    "vscode": {
     "languageId": "r"
    }
   },
   "outputs": [
    {
     "data": {
      "text/html": [
       "<table class=\"dataframe\">\n",
       "<caption>A matrix: 6 × 1 of type dbl</caption>\n",
       "<thead>\n",
       "\t<tr><th scope=col>weight</th></tr>\n",
       "</thead>\n",
       "<tbody>\n",
       "\t<tr><td>-2.95698064</td></tr>\n",
       "\t<tr><td>-1.33761878</td></tr>\n",
       "\t<tr><td>-1.43353792</td></tr>\n",
       "\t<tr><td> 0.07840303</td></tr>\n",
       "\t<tr><td> 1.37934232</td></tr>\n",
       "\t<tr><td>-0.22469377</td></tr>\n",
       "</tbody>\n",
       "</table>\n"
      ],
      "text/latex": [
       "A matrix: 6 × 1 of type dbl\n",
       "\\begin{tabular}{l}\n",
       " weight\\\\\n",
       "\\hline\n",
       "\t -2.95698064\\\\\n",
       "\t -1.33761878\\\\\n",
       "\t -1.43353792\\\\\n",
       "\t  0.07840303\\\\\n",
       "\t  1.37934232\\\\\n",
       "\t -0.22469377\\\\\n",
       "\\end{tabular}\n"
      ],
      "text/markdown": [
       "\n",
       "A matrix: 6 × 1 of type dbl\n",
       "\n",
       "| weight |\n",
       "|---|\n",
       "| -2.95698064 |\n",
       "| -1.33761878 |\n",
       "| -1.43353792 |\n",
       "|  0.07840303 |\n",
       "|  1.37934232 |\n",
       "| -0.22469377 |\n",
       "\n"
      ],
      "text/plain": [
       "     weight     \n",
       "[1,] -2.95698064\n",
       "[2,] -1.33761878\n",
       "[3,] -1.43353792\n",
       "[4,]  0.07840303\n",
       "[5,]  1.37934232\n",
       "[6,] -0.22469377"
      ]
     },
     "metadata": {},
     "output_type": "display_data"
    }
   ],
   "source": [
    "index3 <- scaled_data %*% as.matrix(weights3)\n",
    "\n",
    "head(index3)"
   ]
  },
  {
   "attachments": {},
   "cell_type": "markdown",
   "metadata": {
    "slideshow": {
     "slide_type": "subslide"
    }
   },
   "source": [
    "### Append To Dataframe"
   ]
  },
  {
   "cell_type": "code",
   "execution_count": null,
   "metadata": {
    "vscode": {
     "languageId": "r"
    }
   },
   "outputs": [
    {
     "data": {
      "text/html": [
       "<table class=\"dataframe\">\n",
       "<caption>A tibble: 6 × 11</caption>\n",
       "<thead>\n",
       "\t<tr><th scope=col>has_computer</th><th scope=col>with_internet</th><th scope=col>work_from_home</th><th scope=col>X65_and_older</th><th scope=col>median_income</th><th scope=col>number_providers</th><th scope=col>mean_lowest_cost</th><th scope=col>mean_d_mbps</th><th scope=col>mean_u_mbps</th><th scope=col>mean_lat_ms</th><th scope=col>index</th></tr>\n",
       "\t<tr><th scope=col>&lt;dbl&gt;</th><th scope=col>&lt;dbl&gt;</th><th scope=col>&lt;dbl&gt;</th><th scope=col>&lt;dbl&gt;</th><th scope=col>&lt;dbl&gt;</th><th scope=col>&lt;dbl&gt;</th><th scope=col>&lt;dbl&gt;</th><th scope=col>&lt;dbl&gt;</th><th scope=col>&lt;dbl&gt;</th><th scope=col>&lt;dbl&gt;</th><th scope=col>&lt;dbl&gt;</th></tr>\n",
       "</thead>\n",
       "<tbody>\n",
       "\t<tr><td> 0.50245011</td><td> 0.5167430</td><td> 0.1292741</td><td> 2.23493253</td><td>0.07418486</td><td> 1.7094218</td><td>-0.18458632</td><td>-1.05913969</td><td> 0.2831385</td><td> 1.17991288</td><td>-2.95698064</td></tr>\n",
       "\t<tr><td> 0.88153598</td><td> 0.9194434</td><td> 2.9303783</td><td> 2.28240921</td><td>0.07416551</td><td> 2.2108891</td><td> 0.41923513</td><td>-0.64056563</td><td>-0.4304467</td><td>-0.15416598</td><td>-1.33761878</td></tr>\n",
       "\t<tr><td>-0.19922325</td><td>-0.2714809</td><td>-1.2814270</td><td>-0.74343819</td><td>0.07345717</td><td> 1.2079545</td><td> 0.39687137</td><td>-0.31447576</td><td>-0.2727836</td><td> 0.10962741</td><td>-1.43353792</td></tr>\n",
       "\t<tr><td>-0.81523778</td><td>-0.9413759</td><td>-1.0480017</td><td> 0.05100501</td><td>0.07347137</td><td>-0.2964475</td><td> 1.12369349</td><td>-0.85523159</td><td>-0.4058615</td><td>-0.27548794</td><td> 0.07840303</td></tr>\n",
       "\t<tr><td>-0.07893639</td><td>-0.1913226</td><td>-1.0784484</td><td> 0.01302366</td><td>0.07354973</td><td>-0.2964475</td><td> 1.12369349</td><td>-0.08992031</td><td>-0.4758288</td><td>-0.30026584</td><td> 1.37934232</td></tr>\n",
       "\t<tr><td> 0.28010167</td><td> 0.1789328</td><td>-0.1751938</td><td> 0.88026444</td><td>0.07377917</td><td> 0.2050198</td><td> 0.07383932</td><td>-0.57834859</td><td>-0.4065058</td><td>-0.07734433</td><td>-0.22469377</td></tr>\n",
       "</tbody>\n",
       "</table>\n"
      ],
      "text/latex": [
       "A tibble: 6 × 11\n",
       "\\begin{tabular}{lllllllllll}\n",
       " has\\_computer & with\\_internet & work\\_from\\_home & X65\\_and\\_older & median\\_income & number\\_providers & mean\\_lowest\\_cost & mean\\_d\\_mbps & mean\\_u\\_mbps & mean\\_lat\\_ms & index\\\\\n",
       " <dbl> & <dbl> & <dbl> & <dbl> & <dbl> & <dbl> & <dbl> & <dbl> & <dbl> & <dbl> & <dbl>\\\\\n",
       "\\hline\n",
       "\t  0.50245011 &  0.5167430 &  0.1292741 &  2.23493253 & 0.07418486 &  1.7094218 & -0.18458632 & -1.05913969 &  0.2831385 &  1.17991288 & -2.95698064\\\\\n",
       "\t  0.88153598 &  0.9194434 &  2.9303783 &  2.28240921 & 0.07416551 &  2.2108891 &  0.41923513 & -0.64056563 & -0.4304467 & -0.15416598 & -1.33761878\\\\\n",
       "\t -0.19922325 & -0.2714809 & -1.2814270 & -0.74343819 & 0.07345717 &  1.2079545 &  0.39687137 & -0.31447576 & -0.2727836 &  0.10962741 & -1.43353792\\\\\n",
       "\t -0.81523778 & -0.9413759 & -1.0480017 &  0.05100501 & 0.07347137 & -0.2964475 &  1.12369349 & -0.85523159 & -0.4058615 & -0.27548794 &  0.07840303\\\\\n",
       "\t -0.07893639 & -0.1913226 & -1.0784484 &  0.01302366 & 0.07354973 & -0.2964475 &  1.12369349 & -0.08992031 & -0.4758288 & -0.30026584 &  1.37934232\\\\\n",
       "\t  0.28010167 &  0.1789328 & -0.1751938 &  0.88026444 & 0.07377917 &  0.2050198 &  0.07383932 & -0.57834859 & -0.4065058 & -0.07734433 & -0.22469377\\\\\n",
       "\\end{tabular}\n"
      ],
      "text/markdown": [
       "\n",
       "A tibble: 6 × 11\n",
       "\n",
       "| has_computer &lt;dbl&gt; | with_internet &lt;dbl&gt; | work_from_home &lt;dbl&gt; | X65_and_older &lt;dbl&gt; | median_income &lt;dbl&gt; | number_providers &lt;dbl&gt; | mean_lowest_cost &lt;dbl&gt; | mean_d_mbps &lt;dbl&gt; | mean_u_mbps &lt;dbl&gt; | mean_lat_ms &lt;dbl&gt; | index &lt;dbl&gt; |\n",
       "|---|---|---|---|---|---|---|---|---|---|---|\n",
       "|  0.50245011 |  0.5167430 |  0.1292741 |  2.23493253 | 0.07418486 |  1.7094218 | -0.18458632 | -1.05913969 |  0.2831385 |  1.17991288 | -2.95698064 |\n",
       "|  0.88153598 |  0.9194434 |  2.9303783 |  2.28240921 | 0.07416551 |  2.2108891 |  0.41923513 | -0.64056563 | -0.4304467 | -0.15416598 | -1.33761878 |\n",
       "| -0.19922325 | -0.2714809 | -1.2814270 | -0.74343819 | 0.07345717 |  1.2079545 |  0.39687137 | -0.31447576 | -0.2727836 |  0.10962741 | -1.43353792 |\n",
       "| -0.81523778 | -0.9413759 | -1.0480017 |  0.05100501 | 0.07347137 | -0.2964475 |  1.12369349 | -0.85523159 | -0.4058615 | -0.27548794 |  0.07840303 |\n",
       "| -0.07893639 | -0.1913226 | -1.0784484 |  0.01302366 | 0.07354973 | -0.2964475 |  1.12369349 | -0.08992031 | -0.4758288 | -0.30026584 |  1.37934232 |\n",
       "|  0.28010167 |  0.1789328 | -0.1751938 |  0.88026444 | 0.07377917 |  0.2050198 |  0.07383932 | -0.57834859 | -0.4065058 | -0.07734433 | -0.22469377 |\n",
       "\n"
      ],
      "text/plain": [
       "  has_computer with_internet work_from_home X65_and_older median_income\n",
       "1  0.50245011   0.5167430     0.1292741      2.23493253   0.07418486   \n",
       "2  0.88153598   0.9194434     2.9303783      2.28240921   0.07416551   \n",
       "3 -0.19922325  -0.2714809    -1.2814270     -0.74343819   0.07345717   \n",
       "4 -0.81523778  -0.9413759    -1.0480017      0.05100501   0.07347137   \n",
       "5 -0.07893639  -0.1913226    -1.0784484      0.01302366   0.07354973   \n",
       "6  0.28010167   0.1789328    -0.1751938      0.88026444   0.07377917   \n",
       "  number_providers mean_lowest_cost mean_d_mbps mean_u_mbps mean_lat_ms\n",
       "1  1.7094218       -0.18458632      -1.05913969  0.2831385   1.17991288\n",
       "2  2.2108891        0.41923513      -0.64056563 -0.4304467  -0.15416598\n",
       "3  1.2079545        0.39687137      -0.31447576 -0.2727836   0.10962741\n",
       "4 -0.2964475        1.12369349      -0.85523159 -0.4058615  -0.27548794\n",
       "5 -0.2964475        1.12369349      -0.08992031 -0.4758288  -0.30026584\n",
       "6  0.2050198        0.07383932      -0.57834859 -0.4065058  -0.07734433\n",
       "  index      \n",
       "1 -2.95698064\n",
       "2 -1.33761878\n",
       "3 -1.43353792\n",
       "4  0.07840303\n",
       "5  1.37934232\n",
       "6 -0.22469377"
      ]
     },
     "metadata": {},
     "output_type": "display_data"
    }
   ],
   "source": [
    "index_data3 <- bind_cols(scaled_data, index3) %>%\n",
    "    rename(index = weight)\n",
    "\n",
    "head(index_data3)"
   ]
  },
  {
   "attachments": {},
   "cell_type": "markdown",
   "metadata": {
    "slideshow": {
     "slide_type": "subslide"
    }
   },
   "source": [
    "### Check The Index"
   ]
  },
  {
   "cell_type": "code",
   "execution_count": null,
   "metadata": {
    "vscode": {
     "languageId": "r"
    }
   },
   "outputs": [
    {
     "data": {
      "text/html": [
       "<dl>\n",
       "\t<dt>$has_computer</dt>\n",
       "\t\t<dd>0.00000000000000976996261670138</dd>\n",
       "\t<dt>$with_internet</dt>\n",
       "\t\t<dd>0</dd>\n",
       "\t<dt>$work_from_home</dt>\n",
       "\t\t<dd>0.0503829306040049</dd>\n",
       "\t<dt>$X65_and_older</dt>\n",
       "\t\t<dd>0.0127586689978747</dd>\n",
       "\t<dt>$median_income</dt>\n",
       "\t\t<dd>0.310472763929248</dd>\n",
       "\t<dt>$number_providers</dt>\n",
       "\t\t<dd>0</dd>\n",
       "\t<dt>$mean_lowest_cost</dt>\n",
       "\t\t<dd>0</dd>\n",
       "\t<dt>$mean_d_mbps</dt>\n",
       "\t\t<dd>0</dd>\n",
       "\t<dt>$mean_u_mbps</dt>\n",
       "\t\t<dd>0.000270208345365619</dd>\n",
       "\t<dt>$mean_lat_ms</dt>\n",
       "\t\t<dd>0</dd>\n",
       "\t<dt>$index</dt>\n",
       "\t\t<dd>&lt;NA&gt;</dd>\n",
       "</dl>\n"
      ],
      "text/latex": [
       "\\begin{description}\n",
       "\\item[\\$has\\_computer] 0.00000000000000976996261670138\n",
       "\\item[\\$with\\_internet] 0\n",
       "\\item[\\$work\\_from\\_home] 0.0503829306040049\n",
       "\\item[\\$X65\\_and\\_older] 0.0127586689978747\n",
       "\\item[\\$median\\_income] 0.310472763929248\n",
       "\\item[\\$number\\_providers] 0\n",
       "\\item[\\$mean\\_lowest\\_cost] 0\n",
       "\\item[\\$mean\\_d\\_mbps] 0\n",
       "\\item[\\$mean\\_u\\_mbps] 0.000270208345365619\n",
       "\\item[\\$mean\\_lat\\_ms] 0\n",
       "\\item[\\$index] <NA>\n",
       "\\end{description}\n"
      ],
      "text/markdown": [
       "$has_computer\n",
       ":   0.00000000000000976996261670138\n",
       "$with_internet\n",
       ":   0\n",
       "$work_from_home\n",
       ":   0.0503829306040049\n",
       "$X65_and_older\n",
       ":   0.0127586689978747\n",
       "$median_income\n",
       ":   0.310472763929248\n",
       "$number_providers\n",
       ":   0\n",
       "$mean_lowest_cost\n",
       ":   0\n",
       "$mean_d_mbps\n",
       ":   0\n",
       "$mean_u_mbps\n",
       ":   0.000270208345365619\n",
       "$mean_lat_ms\n",
       ":   0\n",
       "$index\n",
       ":   &lt;NA&gt;\n",
       "\n",
       "\n"
      ],
      "text/plain": [
       "$has_computer\n",
       "[1] 0.000000000000009769963\n",
       "\n",
       "$with_internet\n",
       "[1] 0\n",
       "\n",
       "$work_from_home\n",
       "[1] 0.05038293\n",
       "\n",
       "$X65_and_older\n",
       "[1] 0.01275867\n",
       "\n",
       "$median_income\n",
       "[1] 0.3104728\n",
       "\n",
       "$number_providers\n",
       "[1] 0\n",
       "\n",
       "$mean_lowest_cost\n",
       "[1] 0\n",
       "\n",
       "$mean_d_mbps\n",
       "[1] 0\n",
       "\n",
       "$mean_u_mbps\n",
       "[1] 0.0002702083\n",
       "\n",
       "$mean_lat_ms\n",
       "[1] 0\n",
       "\n",
       "$index\n",
       "[1] NA\n"
      ]
     },
     "metadata": {},
     "output_type": "display_data"
    }
   ],
   "source": [
    "as.list(rcorr(as.matrix(index_data3), type = \"pearson\")$P[, 11])"
   ]
  },
  {
   "cell_type": "code",
   "execution_count": null,
   "metadata": {
    "vscode": {
     "languageId": "r"
    }
   },
   "outputs": [
    {
     "data": {
      "text/html": [
       "<table class=\"dataframe\">\n",
       "<caption>A matrix: 11 × 11 of type dbl</caption>\n",
       "<thead>\n",
       "\t<tr><th></th><th scope=col>has_computer</th><th scope=col>with_internet</th><th scope=col>work_from_home</th><th scope=col>X65_and_older</th><th scope=col>median_income</th><th scope=col>number_providers</th><th scope=col>mean_lowest_cost</th><th scope=col>mean_d_mbps</th><th scope=col>mean_u_mbps</th><th scope=col>mean_lat_ms</th><th scope=col>index</th></tr>\n",
       "</thead>\n",
       "<tbody>\n",
       "\t<tr><th scope=row>has_computer</th><td>                     NA</td><td>0.0000000000000000</td><td>0.0000000012988157</td><td>0.00000000000000</td><td>0.02755381</td><td>0.118292436762502007</td><td>0.142469388878</td><td>0.000025995933165657</td><td>0.007680971891602</td><td>0.0062836851041634</td><td>0.000000000000009769963</td></tr>\n",
       "\t<tr><th scope=row>with_internet</th><td>0.000000000000000000000</td><td>                NA</td><td>0.0000000002997904</td><td>0.00000000000000</td><td>0.03006990</td><td>0.082203264746717686</td><td>0.065587150157</td><td>0.000001719724394889</td><td>0.006902898453880</td><td>0.0012541075067722</td><td>0.000000000000000000000</td></tr>\n",
       "\t<tr><th scope=row>work_from_home</th><td>0.000000001298815721640</td><td>0.0000000002997904</td><td>                NA</td><td>0.00000004534735</td><td>0.62244972</td><td>0.692796119793770648</td><td>0.933508191298</td><td>0.672635578892659680</td><td>0.430093269468229</td><td>0.9085912323262459</td><td>0.050382930604004894093</td></tr>\n",
       "\t<tr><th scope=row>X65_and_older</th><td>0.000000000000000000000</td><td>0.0000000000000000</td><td>0.0000000453473543</td><td>              NA</td><td>0.04477147</td><td>0.476702946467304045</td><td>0.497188268940</td><td>0.569411922064836595</td><td>0.022030156319832</td><td>0.1693793288053427</td><td>0.012758668997874700324</td></tr>\n",
       "\t<tr><th scope=row>median_income</th><td>0.027553811908482384041</td><td>0.0300698982044132</td><td>0.6224497181702566</td><td>0.04477147246482</td><td>        NA</td><td>0.767570871280282230</td><td>0.469668921788</td><td>0.521089097196837159</td><td>0.807238517875172</td><td>0.4313383103711319</td><td>0.310472763929248163350</td></tr>\n",
       "\t<tr><th scope=row>number_providers</th><td>0.118292436762502006786</td><td>0.0822032647467177</td><td>0.6927961197937706</td><td>0.47670294646730</td><td>0.76757087</td><td>                  NA</td><td>0.000005261423</td><td>0.000000000006029399</td><td>0.826929938720940</td><td>0.0000000002296336</td><td>0.000000000000000000000</td></tr>\n",
       "\t<tr><th scope=row>mean_lowest_cost</th><td>0.142469388877797698001</td><td>0.0655871501573895</td><td>0.9335081912981513</td><td>0.49718826894047</td><td>0.46966892</td><td>0.000005261422731273</td><td>            NA</td><td>0.007630242115620911</td><td>0.256184957503357</td><td>0.0141555670114635</td><td>0.000000000000000000000</td></tr>\n",
       "\t<tr><th scope=row>mean_d_mbps</th><td>0.000025995933165656737</td><td>0.0000017197243949</td><td>0.6726355788926597</td><td>0.56941192206484</td><td>0.52108910</td><td>0.000000000006029399</td><td>0.007630242116</td><td>                  NA</td><td>0.000000013665493</td><td>0.0000000000000000</td><td>0.000000000000000000000</td></tr>\n",
       "\t<tr><th scope=row>mean_u_mbps</th><td>0.007680971891601551249</td><td>0.0069028984538804</td><td>0.4300932694682289</td><td>0.02203015631983</td><td>0.80723852</td><td>0.826929938720939672</td><td>0.256184957503</td><td>0.000000013665493181</td><td>               NA</td><td>0.0000000029104892</td><td>0.000270208345365618996</td></tr>\n",
       "\t<tr><th scope=row>mean_lat_ms</th><td>0.006283685104163438950</td><td>0.0012541075067722</td><td>0.9085912323262459</td><td>0.16937932880534</td><td>0.43133831</td><td>0.000000000229633645</td><td>0.014155567011</td><td>0.000000000000000000</td><td>0.000000002910489</td><td>                NA</td><td>0.000000000000000000000</td></tr>\n",
       "\t<tr><th scope=row>index</th><td>0.000000000000009769963</td><td>0.0000000000000000</td><td>0.0503829306040049</td><td>0.01275866899787</td><td>0.31047276</td><td>0.000000000000000000</td><td>0.000000000000</td><td>0.000000000000000000</td><td>0.000270208345366</td><td>0.0000000000000000</td><td>                     NA</td></tr>\n",
       "</tbody>\n",
       "</table>\n"
      ],
      "text/latex": [
       "A matrix: 11 × 11 of type dbl\n",
       "\\begin{tabular}{r|lllllllllll}\n",
       "  & has\\_computer & with\\_internet & work\\_from\\_home & X65\\_and\\_older & median\\_income & number\\_providers & mean\\_lowest\\_cost & mean\\_d\\_mbps & mean\\_u\\_mbps & mean\\_lat\\_ms & index\\\\\n",
       "\\hline\n",
       "\thas\\_computer &                      NA & 0.0000000000000000 & 0.0000000012988157 & 0.00000000000000 & 0.02755381 & 0.118292436762502007 & 0.142469388878 & 0.000025995933165657 & 0.007680971891602 & 0.0062836851041634 & 0.000000000000009769963\\\\\n",
       "\twith\\_internet & 0.000000000000000000000 &                 NA & 0.0000000002997904 & 0.00000000000000 & 0.03006990 & 0.082203264746717686 & 0.065587150157 & 0.000001719724394889 & 0.006902898453880 & 0.0012541075067722 & 0.000000000000000000000\\\\\n",
       "\twork\\_from\\_home & 0.000000001298815721640 & 0.0000000002997904 &                 NA & 0.00000004534735 & 0.62244972 & 0.692796119793770648 & 0.933508191298 & 0.672635578892659680 & 0.430093269468229 & 0.9085912323262459 & 0.050382930604004894093\\\\\n",
       "\tX65\\_and\\_older & 0.000000000000000000000 & 0.0000000000000000 & 0.0000000453473543 &               NA & 0.04477147 & 0.476702946467304045 & 0.497188268940 & 0.569411922064836595 & 0.022030156319832 & 0.1693793288053427 & 0.012758668997874700324\\\\\n",
       "\tmedian\\_income & 0.027553811908482384041 & 0.0300698982044132 & 0.6224497181702566 & 0.04477147246482 &         NA & 0.767570871280282230 & 0.469668921788 & 0.521089097196837159 & 0.807238517875172 & 0.4313383103711319 & 0.310472763929248163350\\\\\n",
       "\tnumber\\_providers & 0.118292436762502006786 & 0.0822032647467177 & 0.6927961197937706 & 0.47670294646730 & 0.76757087 &                   NA & 0.000005261423 & 0.000000000006029399 & 0.826929938720940 & 0.0000000002296336 & 0.000000000000000000000\\\\\n",
       "\tmean\\_lowest\\_cost & 0.142469388877797698001 & 0.0655871501573895 & 0.9335081912981513 & 0.49718826894047 & 0.46966892 & 0.000005261422731273 &             NA & 0.007630242115620911 & 0.256184957503357 & 0.0141555670114635 & 0.000000000000000000000\\\\\n",
       "\tmean\\_d\\_mbps & 0.000025995933165656737 & 0.0000017197243949 & 0.6726355788926597 & 0.56941192206484 & 0.52108910 & 0.000000000006029399 & 0.007630242116 &                   NA & 0.000000013665493 & 0.0000000000000000 & 0.000000000000000000000\\\\\n",
       "\tmean\\_u\\_mbps & 0.007680971891601551249 & 0.0069028984538804 & 0.4300932694682289 & 0.02203015631983 & 0.80723852 & 0.826929938720939672 & 0.256184957503 & 0.000000013665493181 &                NA & 0.0000000029104892 & 0.000270208345365618996\\\\\n",
       "\tmean\\_lat\\_ms & 0.006283685104163438950 & 0.0012541075067722 & 0.9085912323262459 & 0.16937932880534 & 0.43133831 & 0.000000000229633645 & 0.014155567011 & 0.000000000000000000 & 0.000000002910489 &                 NA & 0.000000000000000000000\\\\\n",
       "\tindex & 0.000000000000009769963 & 0.0000000000000000 & 0.0503829306040049 & 0.01275866899787 & 0.31047276 & 0.000000000000000000 & 0.000000000000 & 0.000000000000000000 & 0.000270208345366 & 0.0000000000000000 &                      NA\\\\\n",
       "\\end{tabular}\n"
      ],
      "text/markdown": [
       "\n",
       "A matrix: 11 × 11 of type dbl\n",
       "\n",
       "| <!--/--> | has_computer | with_internet | work_from_home | X65_and_older | median_income | number_providers | mean_lowest_cost | mean_d_mbps | mean_u_mbps | mean_lat_ms | index |\n",
       "|---|---|---|---|---|---|---|---|---|---|---|---|\n",
       "| has_computer |                      NA | 0.0000000000000000 | 0.0000000012988157 | 0.00000000000000 | 0.02755381 | 0.118292436762502007 | 0.142469388878 | 0.000025995933165657 | 0.007680971891602 | 0.0062836851041634 | 0.000000000000009769963 |\n",
       "| with_internet | 0.000000000000000000000 |                 NA | 0.0000000002997904 | 0.00000000000000 | 0.03006990 | 0.082203264746717686 | 0.065587150157 | 0.000001719724394889 | 0.006902898453880 | 0.0012541075067722 | 0.000000000000000000000 |\n",
       "| work_from_home | 0.000000001298815721640 | 0.0000000002997904 |                 NA | 0.00000004534735 | 0.62244972 | 0.692796119793770648 | 0.933508191298 | 0.672635578892659680 | 0.430093269468229 | 0.9085912323262459 | 0.050382930604004894093 |\n",
       "| X65_and_older | 0.000000000000000000000 | 0.0000000000000000 | 0.0000000453473543 |               NA | 0.04477147 | 0.476702946467304045 | 0.497188268940 | 0.569411922064836595 | 0.022030156319832 | 0.1693793288053427 | 0.012758668997874700324 |\n",
       "| median_income | 0.027553811908482384041 | 0.0300698982044132 | 0.6224497181702566 | 0.04477147246482 |         NA | 0.767570871280282230 | 0.469668921788 | 0.521089097196837159 | 0.807238517875172 | 0.4313383103711319 | 0.310472763929248163350 |\n",
       "| number_providers | 0.118292436762502006786 | 0.0822032647467177 | 0.6927961197937706 | 0.47670294646730 | 0.76757087 |                   NA | 0.000005261423 | 0.000000000006029399 | 0.826929938720940 | 0.0000000002296336 | 0.000000000000000000000 |\n",
       "| mean_lowest_cost | 0.142469388877797698001 | 0.0655871501573895 | 0.9335081912981513 | 0.49718826894047 | 0.46966892 | 0.000005261422731273 |             NA | 0.007630242115620911 | 0.256184957503357 | 0.0141555670114635 | 0.000000000000000000000 |\n",
       "| mean_d_mbps | 0.000025995933165656737 | 0.0000017197243949 | 0.6726355788926597 | 0.56941192206484 | 0.52108910 | 0.000000000006029399 | 0.007630242116 |                   NA | 0.000000013665493 | 0.0000000000000000 | 0.000000000000000000000 |\n",
       "| mean_u_mbps | 0.007680971891601551249 | 0.0069028984538804 | 0.4300932694682289 | 0.02203015631983 | 0.80723852 | 0.826929938720939672 | 0.256184957503 | 0.000000013665493181 |                NA | 0.0000000029104892 | 0.000270208345365618996 |\n",
       "| mean_lat_ms | 0.006283685104163438950 | 0.0012541075067722 | 0.9085912323262459 | 0.16937932880534 | 0.43133831 | 0.000000000229633645 | 0.014155567011 | 0.000000000000000000 | 0.000000002910489 |                 NA | 0.000000000000000000000 |\n",
       "| index | 0.000000000000009769963 | 0.0000000000000000 | 0.0503829306040049 | 0.01275866899787 | 0.31047276 | 0.000000000000000000 | 0.000000000000 | 0.000000000000000000 | 0.000270208345366 | 0.0000000000000000 |                      NA |\n",
       "\n"
      ],
      "text/plain": [
       "                 has_computer            with_internet      work_from_home    \n",
       "has_computer                          NA 0.0000000000000000 0.0000000012988157\n",
       "with_internet    0.000000000000000000000                 NA 0.0000000002997904\n",
       "work_from_home   0.000000001298815721640 0.0000000002997904                 NA\n",
       "X65_and_older    0.000000000000000000000 0.0000000000000000 0.0000000453473543\n",
       "median_income    0.027553811908482384041 0.0300698982044132 0.6224497181702566\n",
       "number_providers 0.118292436762502006786 0.0822032647467177 0.6927961197937706\n",
       "mean_lowest_cost 0.142469388877797698001 0.0655871501573895 0.9335081912981513\n",
       "mean_d_mbps      0.000025995933165656737 0.0000017197243949 0.6726355788926597\n",
       "mean_u_mbps      0.007680971891601551249 0.0069028984538804 0.4300932694682289\n",
       "mean_lat_ms      0.006283685104163438950 0.0012541075067722 0.9085912323262459\n",
       "index            0.000000000000009769963 0.0000000000000000 0.0503829306040049\n",
       "                 X65_and_older    median_income number_providers    \n",
       "has_computer     0.00000000000000 0.02755381    0.118292436762502007\n",
       "with_internet    0.00000000000000 0.03006990    0.082203264746717686\n",
       "work_from_home   0.00000004534735 0.62244972    0.692796119793770648\n",
       "X65_and_older                  NA 0.04477147    0.476702946467304045\n",
       "median_income    0.04477147246482         NA    0.767570871280282230\n",
       "number_providers 0.47670294646730 0.76757087                      NA\n",
       "mean_lowest_cost 0.49718826894047 0.46966892    0.000005261422731273\n",
       "mean_d_mbps      0.56941192206484 0.52108910    0.000000000006029399\n",
       "mean_u_mbps      0.02203015631983 0.80723852    0.826929938720939672\n",
       "mean_lat_ms      0.16937932880534 0.43133831    0.000000000229633645\n",
       "index            0.01275866899787 0.31047276    0.000000000000000000\n",
       "                 mean_lowest_cost mean_d_mbps          mean_u_mbps      \n",
       "has_computer     0.142469388878   0.000025995933165657 0.007680971891602\n",
       "with_internet    0.065587150157   0.000001719724394889 0.006902898453880\n",
       "work_from_home   0.933508191298   0.672635578892659680 0.430093269468229\n",
       "X65_and_older    0.497188268940   0.569411922064836595 0.022030156319832\n",
       "median_income    0.469668921788   0.521089097196837159 0.807238517875172\n",
       "number_providers 0.000005261423   0.000000000006029399 0.826929938720940\n",
       "mean_lowest_cost             NA   0.007630242115620911 0.256184957503357\n",
       "mean_d_mbps      0.007630242116                     NA 0.000000013665493\n",
       "mean_u_mbps      0.256184957503   0.000000013665493181                NA\n",
       "mean_lat_ms      0.014155567011   0.000000000000000000 0.000000002910489\n",
       "index            0.000000000000   0.000000000000000000 0.000270208345366\n",
       "                 mean_lat_ms        index                  \n",
       "has_computer     0.0062836851041634 0.000000000000009769963\n",
       "with_internet    0.0012541075067722 0.000000000000000000000\n",
       "work_from_home   0.9085912323262459 0.050382930604004894093\n",
       "X65_and_older    0.1693793288053427 0.012758668997874700324\n",
       "median_income    0.4313383103711319 0.310472763929248163350\n",
       "number_providers 0.0000000002296336 0.000000000000000000000\n",
       "mean_lowest_cost 0.0141555670114635 0.000000000000000000000\n",
       "mean_d_mbps      0.0000000000000000 0.000000000000000000000\n",
       "mean_u_mbps      0.0000000029104892 0.000270208345365618996\n",
       "mean_lat_ms                      NA 0.000000000000000000000\n",
       "index            0.0000000000000000                      NA"
      ]
     },
     "metadata": {},
     "output_type": "display_data"
    }
   ],
   "source": [
    "rcorr(as.matrix(index_data3), type = \"pearson\")$P"
   ]
  },
  {
   "cell_type": "code",
   "execution_count": null,
   "metadata": {
    "vscode": {
     "languageId": "r"
    }
   },
   "outputs": [
    {
     "data": {
      "text/html": [
       "<table class=\"dataframe\">\n",
       "<caption>A matrix: 11 × 11 of type dbl</caption>\n",
       "<thead>\n",
       "\t<tr><th></th><th scope=col>has_computer</th><th scope=col>with_internet</th><th scope=col>work_from_home</th><th scope=col>X65_and_older</th><th scope=col>median_income</th><th scope=col>number_providers</th><th scope=col>mean_lowest_cost</th><th scope=col>mean_d_mbps</th><th scope=col>mean_u_mbps</th><th scope=col>mean_lat_ms</th><th scope=col>index</th></tr>\n",
       "</thead>\n",
       "<tbody>\n",
       "\t<tr><th scope=row>has_computer</th><td> 1.0000000</td><td> 0.9894358</td><td> 0.429532198</td><td> 0.63073622</td><td> 0.16291986</td><td>-0.11586967</td><td> 0.10884185</td><td> 0.30554032</td><td> 0.19648189</td><td>-0.201306736</td><td> 0.53144534</td></tr>\n",
       "\t<tr><th scope=row>with_internet</th><td> 0.9894358</td><td> 1.0000000</td><td> 0.444207496</td><td> 0.62529208</td><td> 0.16040888</td><td>-0.12882664</td><td> 0.13640579</td><td> 0.34507339</td><td> 0.19906151</td><td>-0.236716631</td><td> 0.56259930</td></tr>\n",
       "\t<tr><th scope=row>work_from_home</th><td> 0.4295322</td><td> 0.4442075</td><td> 1.000000000</td><td> 0.39074417</td><td> 0.03663670</td><td> 0.02939906</td><td>-0.00620995</td><td> 0.03144231</td><td>-0.05867872</td><td> 0.008545821</td><td> 0.14487201</td></tr>\n",
       "\t<tr><th scope=row>X65_and_older</th><td> 0.6307362</td><td> 0.6252921</td><td> 0.390744170</td><td> 1.00000000</td><td> 0.14854040</td><td> 0.05292992</td><td> 0.05050125</td><td>-0.04232679</td><td>-0.16920740</td><td> 0.102017655</td><td> 0.18378670</td></tr>\n",
       "\t<tr><th scope=row>median_income</th><td> 0.1629199</td><td> 0.1604089</td><td> 0.036636701</td><td> 0.14854040</td><td> 1.00000000</td><td> 0.02199604</td><td>-0.05377681</td><td>-0.04773346</td><td>-0.01815921</td><td> 0.058520706</td><td>-0.07538388</td></tr>\n",
       "\t<tr><th scope=row>number_providers</th><td>-0.1158697</td><td>-0.1288266</td><td> 0.029399058</td><td> 0.05292992</td><td> 0.02199604</td><td> 1.00000000</td><td>-0.32945829</td><td>-0.48020798</td><td>-0.01627282</td><td> 0.446802457</td><td>-0.73620015</td></tr>\n",
       "\t<tr><th scope=row>mean_lowest_cost</th><td> 0.1088418</td><td> 0.1364058</td><td>-0.006209950</td><td> 0.05050125</td><td>-0.05377681</td><td>-0.32945829</td><td> 1.00000000</td><td> 0.19664282</td><td> 0.08436356</td><td>-0.181091388</td><td> 0.57585454</td></tr>\n",
       "\t<tr><th scope=row>mean_d_mbps</th><td> 0.3055403</td><td> 0.3450734</td><td> 0.031442306</td><td>-0.04232679</td><td>-0.04773346</td><td>-0.48020798</td><td> 0.19664282</td><td> 1.00000000</td><td> 0.40439966</td><td>-0.831561029</td><td> 0.77757861</td></tr>\n",
       "\t<tr><th scope=row>mean_u_mbps</th><td> 0.1964819</td><td> 0.1990615</td><td>-0.058678724</td><td>-0.16920740</td><td>-0.01815921</td><td>-0.01627282</td><td> 0.08436356</td><td> 0.40439966</td><td> 1.00000000</td><td>-0.421146282</td><td> 0.26619642</td></tr>\n",
       "\t<tr><th scope=row>mean_lat_ms</th><td>-0.2013067</td><td>-0.2367166</td><td> 0.008545821</td><td> 0.10201766</td><td> 0.05852071</td><td> 0.44680246</td><td>-0.18109139</td><td>-0.83156103</td><td>-0.42114628</td><td> 1.000000000</td><td>-0.72065202</td></tr>\n",
       "\t<tr><th scope=row>index</th><td> 0.5314453</td><td> 0.5625993</td><td> 0.144872012</td><td> 0.18378670</td><td>-0.07538388</td><td>-0.73620015</td><td> 0.57585454</td><td> 0.77757861</td><td> 0.26619642</td><td>-0.720652023</td><td> 1.00000000</td></tr>\n",
       "</tbody>\n",
       "</table>\n"
      ],
      "text/latex": [
       "A matrix: 11 × 11 of type dbl\n",
       "\\begin{tabular}{r|lllllllllll}\n",
       "  & has\\_computer & with\\_internet & work\\_from\\_home & X65\\_and\\_older & median\\_income & number\\_providers & mean\\_lowest\\_cost & mean\\_d\\_mbps & mean\\_u\\_mbps & mean\\_lat\\_ms & index\\\\\n",
       "\\hline\n",
       "\thas\\_computer &  1.0000000 &  0.9894358 &  0.429532198 &  0.63073622 &  0.16291986 & -0.11586967 &  0.10884185 &  0.30554032 &  0.19648189 & -0.201306736 &  0.53144534\\\\\n",
       "\twith\\_internet &  0.9894358 &  1.0000000 &  0.444207496 &  0.62529208 &  0.16040888 & -0.12882664 &  0.13640579 &  0.34507339 &  0.19906151 & -0.236716631 &  0.56259930\\\\\n",
       "\twork\\_from\\_home &  0.4295322 &  0.4442075 &  1.000000000 &  0.39074417 &  0.03663670 &  0.02939906 & -0.00620995 &  0.03144231 & -0.05867872 &  0.008545821 &  0.14487201\\\\\n",
       "\tX65\\_and\\_older &  0.6307362 &  0.6252921 &  0.390744170 &  1.00000000 &  0.14854040 &  0.05292992 &  0.05050125 & -0.04232679 & -0.16920740 &  0.102017655 &  0.18378670\\\\\n",
       "\tmedian\\_income &  0.1629199 &  0.1604089 &  0.036636701 &  0.14854040 &  1.00000000 &  0.02199604 & -0.05377681 & -0.04773346 & -0.01815921 &  0.058520706 & -0.07538388\\\\\n",
       "\tnumber\\_providers & -0.1158697 & -0.1288266 &  0.029399058 &  0.05292992 &  0.02199604 &  1.00000000 & -0.32945829 & -0.48020798 & -0.01627282 &  0.446802457 & -0.73620015\\\\\n",
       "\tmean\\_lowest\\_cost &  0.1088418 &  0.1364058 & -0.006209950 &  0.05050125 & -0.05377681 & -0.32945829 &  1.00000000 &  0.19664282 &  0.08436356 & -0.181091388 &  0.57585454\\\\\n",
       "\tmean\\_d\\_mbps &  0.3055403 &  0.3450734 &  0.031442306 & -0.04232679 & -0.04773346 & -0.48020798 &  0.19664282 &  1.00000000 &  0.40439966 & -0.831561029 &  0.77757861\\\\\n",
       "\tmean\\_u\\_mbps &  0.1964819 &  0.1990615 & -0.058678724 & -0.16920740 & -0.01815921 & -0.01627282 &  0.08436356 &  0.40439966 &  1.00000000 & -0.421146282 &  0.26619642\\\\\n",
       "\tmean\\_lat\\_ms & -0.2013067 & -0.2367166 &  0.008545821 &  0.10201766 &  0.05852071 &  0.44680246 & -0.18109139 & -0.83156103 & -0.42114628 &  1.000000000 & -0.72065202\\\\\n",
       "\tindex &  0.5314453 &  0.5625993 &  0.144872012 &  0.18378670 & -0.07538388 & -0.73620015 &  0.57585454 &  0.77757861 &  0.26619642 & -0.720652023 &  1.00000000\\\\\n",
       "\\end{tabular}\n"
      ],
      "text/markdown": [
       "\n",
       "A matrix: 11 × 11 of type dbl\n",
       "\n",
       "| <!--/--> | has_computer | with_internet | work_from_home | X65_and_older | median_income | number_providers | mean_lowest_cost | mean_d_mbps | mean_u_mbps | mean_lat_ms | index |\n",
       "|---|---|---|---|---|---|---|---|---|---|---|---|\n",
       "| has_computer |  1.0000000 |  0.9894358 |  0.429532198 |  0.63073622 |  0.16291986 | -0.11586967 |  0.10884185 |  0.30554032 |  0.19648189 | -0.201306736 |  0.53144534 |\n",
       "| with_internet |  0.9894358 |  1.0000000 |  0.444207496 |  0.62529208 |  0.16040888 | -0.12882664 |  0.13640579 |  0.34507339 |  0.19906151 | -0.236716631 |  0.56259930 |\n",
       "| work_from_home |  0.4295322 |  0.4442075 |  1.000000000 |  0.39074417 |  0.03663670 |  0.02939906 | -0.00620995 |  0.03144231 | -0.05867872 |  0.008545821 |  0.14487201 |\n",
       "| X65_and_older |  0.6307362 |  0.6252921 |  0.390744170 |  1.00000000 |  0.14854040 |  0.05292992 |  0.05050125 | -0.04232679 | -0.16920740 |  0.102017655 |  0.18378670 |\n",
       "| median_income |  0.1629199 |  0.1604089 |  0.036636701 |  0.14854040 |  1.00000000 |  0.02199604 | -0.05377681 | -0.04773346 | -0.01815921 |  0.058520706 | -0.07538388 |\n",
       "| number_providers | -0.1158697 | -0.1288266 |  0.029399058 |  0.05292992 |  0.02199604 |  1.00000000 | -0.32945829 | -0.48020798 | -0.01627282 |  0.446802457 | -0.73620015 |\n",
       "| mean_lowest_cost |  0.1088418 |  0.1364058 | -0.006209950 |  0.05050125 | -0.05377681 | -0.32945829 |  1.00000000 |  0.19664282 |  0.08436356 | -0.181091388 |  0.57585454 |\n",
       "| mean_d_mbps |  0.3055403 |  0.3450734 |  0.031442306 | -0.04232679 | -0.04773346 | -0.48020798 |  0.19664282 |  1.00000000 |  0.40439966 | -0.831561029 |  0.77757861 |\n",
       "| mean_u_mbps |  0.1964819 |  0.1990615 | -0.058678724 | -0.16920740 | -0.01815921 | -0.01627282 |  0.08436356 |  0.40439966 |  1.00000000 | -0.421146282 |  0.26619642 |\n",
       "| mean_lat_ms | -0.2013067 | -0.2367166 |  0.008545821 |  0.10201766 |  0.05852071 |  0.44680246 | -0.18109139 | -0.83156103 | -0.42114628 |  1.000000000 | -0.72065202 |\n",
       "| index |  0.5314453 |  0.5625993 |  0.144872012 |  0.18378670 | -0.07538388 | -0.73620015 |  0.57585454 |  0.77757861 |  0.26619642 | -0.720652023 |  1.00000000 |\n",
       "\n"
      ],
      "text/plain": [
       "                 has_computer with_internet work_from_home X65_and_older\n",
       "has_computer      1.0000000    0.9894358     0.429532198    0.63073622  \n",
       "with_internet     0.9894358    1.0000000     0.444207496    0.62529208  \n",
       "work_from_home    0.4295322    0.4442075     1.000000000    0.39074417  \n",
       "X65_and_older     0.6307362    0.6252921     0.390744170    1.00000000  \n",
       "median_income     0.1629199    0.1604089     0.036636701    0.14854040  \n",
       "number_providers -0.1158697   -0.1288266     0.029399058    0.05292992  \n",
       "mean_lowest_cost  0.1088418    0.1364058    -0.006209950    0.05050125  \n",
       "mean_d_mbps       0.3055403    0.3450734     0.031442306   -0.04232679  \n",
       "mean_u_mbps       0.1964819    0.1990615    -0.058678724   -0.16920740  \n",
       "mean_lat_ms      -0.2013067   -0.2367166     0.008545821    0.10201766  \n",
       "index             0.5314453    0.5625993     0.144872012    0.18378670  \n",
       "                 median_income number_providers mean_lowest_cost mean_d_mbps\n",
       "has_computer      0.16291986   -0.11586967       0.10884185       0.30554032\n",
       "with_internet     0.16040888   -0.12882664       0.13640579       0.34507339\n",
       "work_from_home    0.03663670    0.02939906      -0.00620995       0.03144231\n",
       "X65_and_older     0.14854040    0.05292992       0.05050125      -0.04232679\n",
       "median_income     1.00000000    0.02199604      -0.05377681      -0.04773346\n",
       "number_providers  0.02199604    1.00000000      -0.32945829      -0.48020798\n",
       "mean_lowest_cost -0.05377681   -0.32945829       1.00000000       0.19664282\n",
       "mean_d_mbps      -0.04773346   -0.48020798       0.19664282       1.00000000\n",
       "mean_u_mbps      -0.01815921   -0.01627282       0.08436356       0.40439966\n",
       "mean_lat_ms       0.05852071    0.44680246      -0.18109139      -0.83156103\n",
       "index            -0.07538388   -0.73620015       0.57585454       0.77757861\n",
       "                 mean_u_mbps mean_lat_ms  index      \n",
       "has_computer      0.19648189 -0.201306736  0.53144534\n",
       "with_internet     0.19906151 -0.236716631  0.56259930\n",
       "work_from_home   -0.05867872  0.008545821  0.14487201\n",
       "X65_and_older    -0.16920740  0.102017655  0.18378670\n",
       "median_income    -0.01815921  0.058520706 -0.07538388\n",
       "number_providers -0.01627282  0.446802457 -0.73620015\n",
       "mean_lowest_cost  0.08436356 -0.181091388  0.57585454\n",
       "mean_d_mbps       0.40439966 -0.831561029  0.77757861\n",
       "mean_u_mbps       1.00000000 -0.421146282  0.26619642\n",
       "mean_lat_ms      -0.42114628  1.000000000 -0.72065202\n",
       "index             0.26619642 -0.720652023  1.00000000"
      ]
     },
     "metadata": {},
     "output_type": "display_data"
    }
   ],
   "source": [
    "rcorr(as.matrix(index_data3), type = \"pearson\")$r"
   ]
  },
  {
   "attachments": {},
   "cell_type": "markdown",
   "metadata": {
    "slideshow": {
     "slide_type": "slide"
    }
   },
   "source": [
    "## Create New Dataset"
   ]
  },
  {
   "cell_type": "code",
   "execution_count": null,
   "metadata": {
    "vscode": {
     "languageId": "r"
    }
   },
   "outputs": [],
   "source": [
    "data3 <- data %>% dplyr::select(-median_income, -work_from_home)\n",
    "scaled_data3 <- scale(data3)\n",
    "pca_data3 <- prcomp(data3, scale = TRUE, center = TRUE)\n",
    "eigenvectors3 <- -pca_data3$rotation\n",
    "eigenvalues3 <- pca_data3$sdev^2"
   ]
  },
  {
   "attachments": {},
   "cell_type": "markdown",
   "metadata": {
    "slideshow": {
     "slide_type": "subslide"
    }
   },
   "source": [
    "### Get New Weights"
   ]
  },
  {
   "cell_type": "code",
   "execution_count": null,
   "metadata": {
    "vscode": {
     "languageId": "r"
    }
   },
   "outputs": [
    {
     "data": {
      "text/html": [
       "<table class=\"dataframe\">\n",
       "<caption>A data.frame: 8 × 1</caption>\n",
       "<thead>\n",
       "\t<tr><th></th><th scope=col>weight</th></tr>\n",
       "\t<tr><th></th><th scope=col>&lt;dbl&gt;</th></tr>\n",
       "</thead>\n",
       "<tbody>\n",
       "\t<tr><th scope=row>has_computer</th><td> 0.45368933</td></tr>\n",
       "\t<tr><th scope=row>with_internet</th><td> 0.35268022</td></tr>\n",
       "\t<tr><th scope=row>X65_and_older</th><td>-0.50360634</td></tr>\n",
       "\t<tr><th scope=row>number_providers</th><td>-0.04384384</td></tr>\n",
       "\t<tr><th scope=row>mean_lowest_cost</th><td>-0.26747852</td></tr>\n",
       "\t<tr><th scope=row>mean_d_mbps</th><td> 0.85924065</td></tr>\n",
       "\t<tr><th scope=row>mean_u_mbps</th><td> 1.06137118</td></tr>\n",
       "\t<tr><th scope=row>mean_lat_ms</th><td>-0.90171551</td></tr>\n",
       "</tbody>\n",
       "</table>\n"
      ],
      "text/latex": [
       "A data.frame: 8 × 1\n",
       "\\begin{tabular}{r|l}\n",
       "  & weight\\\\\n",
       "  & <dbl>\\\\\n",
       "\\hline\n",
       "\thas\\_computer &  0.45368933\\\\\n",
       "\twith\\_internet &  0.35268022\\\\\n",
       "\tX65\\_and\\_older & -0.50360634\\\\\n",
       "\tnumber\\_providers & -0.04384384\\\\\n",
       "\tmean\\_lowest\\_cost & -0.26747852\\\\\n",
       "\tmean\\_d\\_mbps &  0.85924065\\\\\n",
       "\tmean\\_u\\_mbps &  1.06137118\\\\\n",
       "\tmean\\_lat\\_ms & -0.90171551\\\\\n",
       "\\end{tabular}\n"
      ],
      "text/markdown": [
       "\n",
       "A data.frame: 8 × 1\n",
       "\n",
       "| <!--/--> | weight &lt;dbl&gt; |\n",
       "|---|---|\n",
       "| has_computer |  0.45368933 |\n",
       "| with_internet |  0.35268022 |\n",
       "| X65_and_older | -0.50360634 |\n",
       "| number_providers | -0.04384384 |\n",
       "| mean_lowest_cost | -0.26747852 |\n",
       "| mean_d_mbps |  0.85924065 |\n",
       "| mean_u_mbps |  1.06137118 |\n",
       "| mean_lat_ms | -0.90171551 |\n",
       "\n"
      ],
      "text/plain": [
       "                 weight     \n",
       "has_computer      0.45368933\n",
       "with_internet     0.35268022\n",
       "X65_and_older    -0.50360634\n",
       "number_providers -0.04384384\n",
       "mean_lowest_cost -0.26747852\n",
       "mean_d_mbps       0.85924065\n",
       "mean_u_mbps       1.06137118\n",
       "mean_lat_ms      -0.90171551"
      ]
     },
     "metadata": {},
     "output_type": "display_data"
    }
   ],
   "source": [
    "weights3.2 <- eigenvectors3[, 1:3]\n",
    "\n",
    "for (i in 1:ncol(weights3.2)) {\n",
    "    weights3.2[i, ] <- weights3.2[i, ] * eigenvalues3[i]\n",
    "}\n",
    "\n",
    "weights3.2 <- weights3.2 %>%\n",
    "    as.data.frame() %>%\n",
    "    transmute(weight = PC1 + PC2 + PC3)\n",
    "\n",
    "weights3.2"
   ]
  },
  {
   "attachments": {},
   "cell_type": "markdown",
   "metadata": {
    "slideshow": {
     "slide_type": "subslide"
    }
   },
   "source": [
    "### Multiply New Weights Against Data"
   ]
  },
  {
   "cell_type": "code",
   "execution_count": null,
   "metadata": {
    "vscode": {
     "languageId": "r"
    }
   },
   "outputs": [
    {
     "data": {
      "text/html": [
       "<table class=\"dataframe\">\n",
       "<caption>A matrix: 6 × 1 of type dbl</caption>\n",
       "<thead>\n",
       "\t<tr><th scope=col>weight</th></tr>\n",
       "</thead>\n",
       "<tbody>\n",
       "\t<tr><td>-2.4143862</td></tr>\n",
       "\t<tr><td>-1.5025430</td></tr>\n",
       "\t<tr><td>-0.6294349</td></tr>\n",
       "\t<tr><td>-1.9323299</td></tr>\n",
       "\t<tr><td>-0.7089533</td></tr>\n",
       "\t<tr><td>-1.1405124</td></tr>\n",
       "</tbody>\n",
       "</table>\n"
      ],
      "text/latex": [
       "A matrix: 6 × 1 of type dbl\n",
       "\\begin{tabular}{l}\n",
       " weight\\\\\n",
       "\\hline\n",
       "\t -2.4143862\\\\\n",
       "\t -1.5025430\\\\\n",
       "\t -0.6294349\\\\\n",
       "\t -1.9323299\\\\\n",
       "\t -0.7089533\\\\\n",
       "\t -1.1405124\\\\\n",
       "\\end{tabular}\n"
      ],
      "text/markdown": [
       "\n",
       "A matrix: 6 × 1 of type dbl\n",
       "\n",
       "| weight |\n",
       "|---|\n",
       "| -2.4143862 |\n",
       "| -1.5025430 |\n",
       "| -0.6294349 |\n",
       "| -1.9323299 |\n",
       "| -0.7089533 |\n",
       "| -1.1405124 |\n",
       "\n"
      ],
      "text/plain": [
       "     weight    \n",
       "[1,] -2.4143862\n",
       "[2,] -1.5025430\n",
       "[3,] -0.6294349\n",
       "[4,] -1.9323299\n",
       "[5,] -0.7089533\n",
       "[6,] -1.1405124"
      ]
     },
     "metadata": {},
     "output_type": "display_data"
    }
   ],
   "source": [
    "index3.2 <- scaled_data3 %*% as.matrix(weights3.2)\n",
    "\n",
    "head(index3.2)"
   ]
  },
  {
   "attachments": {},
   "cell_type": "markdown",
   "metadata": {
    "slideshow": {
     "slide_type": "subslide"
    }
   },
   "source": [
    "### Append To Dataframe"
   ]
  },
  {
   "cell_type": "code",
   "execution_count": null,
   "metadata": {
    "vscode": {
     "languageId": "r"
    }
   },
   "outputs": [
    {
     "data": {
      "text/html": [
       "<table class=\"dataframe\">\n",
       "<caption>A tibble: 6 × 9</caption>\n",
       "<thead>\n",
       "\t<tr><th scope=col>has_computer</th><th scope=col>with_internet</th><th scope=col>X65_and_older</th><th scope=col>number_providers</th><th scope=col>mean_lowest_cost</th><th scope=col>mean_d_mbps</th><th scope=col>mean_u_mbps</th><th scope=col>mean_lat_ms</th><th scope=col>index</th></tr>\n",
       "\t<tr><th scope=col>&lt;dbl&gt;</th><th scope=col>&lt;dbl&gt;</th><th scope=col>&lt;dbl&gt;</th><th scope=col>&lt;dbl&gt;</th><th scope=col>&lt;dbl&gt;</th><th scope=col>&lt;dbl&gt;</th><th scope=col>&lt;dbl&gt;</th><th scope=col>&lt;dbl&gt;</th><th scope=col>&lt;dbl&gt;</th></tr>\n",
       "</thead>\n",
       "<tbody>\n",
       "\t<tr><td> 0.50245011</td><td> 0.5167430</td><td> 2.23493253</td><td> 1.7094218</td><td>-0.18458632</td><td>-1.05913969</td><td> 0.2831385</td><td> 1.17991288</td><td>-2.4143862</td></tr>\n",
       "\t<tr><td> 0.88153598</td><td> 0.9194434</td><td> 2.28240921</td><td> 2.2108891</td><td> 0.41923513</td><td>-0.64056563</td><td>-0.4304467</td><td>-0.15416598</td><td>-1.5025430</td></tr>\n",
       "\t<tr><td>-0.19922325</td><td>-0.2714809</td><td>-0.74343819</td><td> 1.2079545</td><td> 0.39687137</td><td>-0.31447576</td><td>-0.2727836</td><td> 0.10962741</td><td>-0.6294349</td></tr>\n",
       "\t<tr><td>-0.81523778</td><td>-0.9413759</td><td> 0.05100501</td><td>-0.2964475</td><td> 1.12369349</td><td>-0.85523159</td><td>-0.4058615</td><td>-0.27548794</td><td>-1.9323299</td></tr>\n",
       "\t<tr><td>-0.07893639</td><td>-0.1913226</td><td> 0.01302366</td><td>-0.2964475</td><td> 1.12369349</td><td>-0.08992031</td><td>-0.4758288</td><td>-0.30026584</td><td>-0.7089533</td></tr>\n",
       "\t<tr><td> 0.28010167</td><td> 0.1789328</td><td> 0.88026444</td><td> 0.2050198</td><td> 0.07383932</td><td>-0.57834859</td><td>-0.4065058</td><td>-0.07734433</td><td>-1.1405124</td></tr>\n",
       "</tbody>\n",
       "</table>\n"
      ],
      "text/latex": [
       "A tibble: 6 × 9\n",
       "\\begin{tabular}{lllllllll}\n",
       " has\\_computer & with\\_internet & X65\\_and\\_older & number\\_providers & mean\\_lowest\\_cost & mean\\_d\\_mbps & mean\\_u\\_mbps & mean\\_lat\\_ms & index\\\\\n",
       " <dbl> & <dbl> & <dbl> & <dbl> & <dbl> & <dbl> & <dbl> & <dbl> & <dbl>\\\\\n",
       "\\hline\n",
       "\t  0.50245011 &  0.5167430 &  2.23493253 &  1.7094218 & -0.18458632 & -1.05913969 &  0.2831385 &  1.17991288 & -2.4143862\\\\\n",
       "\t  0.88153598 &  0.9194434 &  2.28240921 &  2.2108891 &  0.41923513 & -0.64056563 & -0.4304467 & -0.15416598 & -1.5025430\\\\\n",
       "\t -0.19922325 & -0.2714809 & -0.74343819 &  1.2079545 &  0.39687137 & -0.31447576 & -0.2727836 &  0.10962741 & -0.6294349\\\\\n",
       "\t -0.81523778 & -0.9413759 &  0.05100501 & -0.2964475 &  1.12369349 & -0.85523159 & -0.4058615 & -0.27548794 & -1.9323299\\\\\n",
       "\t -0.07893639 & -0.1913226 &  0.01302366 & -0.2964475 &  1.12369349 & -0.08992031 & -0.4758288 & -0.30026584 & -0.7089533\\\\\n",
       "\t  0.28010167 &  0.1789328 &  0.88026444 &  0.2050198 &  0.07383932 & -0.57834859 & -0.4065058 & -0.07734433 & -1.1405124\\\\\n",
       "\\end{tabular}\n"
      ],
      "text/markdown": [
       "\n",
       "A tibble: 6 × 9\n",
       "\n",
       "| has_computer &lt;dbl&gt; | with_internet &lt;dbl&gt; | X65_and_older &lt;dbl&gt; | number_providers &lt;dbl&gt; | mean_lowest_cost &lt;dbl&gt; | mean_d_mbps &lt;dbl&gt; | mean_u_mbps &lt;dbl&gt; | mean_lat_ms &lt;dbl&gt; | index &lt;dbl&gt; |\n",
       "|---|---|---|---|---|---|---|---|---|\n",
       "|  0.50245011 |  0.5167430 |  2.23493253 |  1.7094218 | -0.18458632 | -1.05913969 |  0.2831385 |  1.17991288 | -2.4143862 |\n",
       "|  0.88153598 |  0.9194434 |  2.28240921 |  2.2108891 |  0.41923513 | -0.64056563 | -0.4304467 | -0.15416598 | -1.5025430 |\n",
       "| -0.19922325 | -0.2714809 | -0.74343819 |  1.2079545 |  0.39687137 | -0.31447576 | -0.2727836 |  0.10962741 | -0.6294349 |\n",
       "| -0.81523778 | -0.9413759 |  0.05100501 | -0.2964475 |  1.12369349 | -0.85523159 | -0.4058615 | -0.27548794 | -1.9323299 |\n",
       "| -0.07893639 | -0.1913226 |  0.01302366 | -0.2964475 |  1.12369349 | -0.08992031 | -0.4758288 | -0.30026584 | -0.7089533 |\n",
       "|  0.28010167 |  0.1789328 |  0.88026444 |  0.2050198 |  0.07383932 | -0.57834859 | -0.4065058 | -0.07734433 | -1.1405124 |\n",
       "\n"
      ],
      "text/plain": [
       "  has_computer with_internet X65_and_older number_providers mean_lowest_cost\n",
       "1  0.50245011   0.5167430     2.23493253    1.7094218       -0.18458632     \n",
       "2  0.88153598   0.9194434     2.28240921    2.2108891        0.41923513     \n",
       "3 -0.19922325  -0.2714809    -0.74343819    1.2079545        0.39687137     \n",
       "4 -0.81523778  -0.9413759     0.05100501   -0.2964475        1.12369349     \n",
       "5 -0.07893639  -0.1913226     0.01302366   -0.2964475        1.12369349     \n",
       "6  0.28010167   0.1789328     0.88026444    0.2050198        0.07383932     \n",
       "  mean_d_mbps mean_u_mbps mean_lat_ms index     \n",
       "1 -1.05913969  0.2831385   1.17991288 -2.4143862\n",
       "2 -0.64056563 -0.4304467  -0.15416598 -1.5025430\n",
       "3 -0.31447576 -0.2727836   0.10962741 -0.6294349\n",
       "4 -0.85523159 -0.4058615  -0.27548794 -1.9323299\n",
       "5 -0.08992031 -0.4758288  -0.30026584 -0.7089533\n",
       "6 -0.57834859 -0.4065058  -0.07734433 -1.1405124"
      ]
     },
     "metadata": {},
     "output_type": "display_data"
    }
   ],
   "source": [
    "index_data3.2 <- bind_cols(scaled_data3, index3.2) %>%\n",
    "    rename(index = weight)\n",
    "\n",
    "head(index_data3.2)"
   ]
  },
  {
   "attachments": {},
   "cell_type": "markdown",
   "metadata": {
    "slideshow": {
     "slide_type": "slide"
    }
   },
   "source": [
    "## Stepwise Regression"
   ]
  },
  {
   "cell_type": "code",
   "execution_count": null,
   "metadata": {
    "vscode": {
     "languageId": "r"
    }
   },
   "outputs": [
    {
     "name": "stderr",
     "output_type": "stream",
     "text": [
      "Warning message:\n",
      "“attempting model selection on an essentially perfect fit is nonsense”\n",
      "Warning message:\n",
      "“attempting model selection on an essentially perfect fit is nonsense”\n",
      "Warning message:\n",
      "“attempting model selection on an essentially perfect fit is nonsense”\n",
      "Warning message:\n",
      "“attempting model selection on an essentially perfect fit is nonsense”\n"
     ]
    }
   ],
   "source": [
    "intercept3 <- lm(index_data3.2$index ~ 1, index_data3.2)\n",
    "lm_data3 <- lm(index_data3.2$index ~ ., index_data3.2)\n",
    "\n",
    "forward3 <- step(intercept3, direction = \"forward\", scope = formula(lm_data3), trace = 0)\n",
    "backward3 <- step(lm_data3, direction = \"backward\", scope = formula(lm_data3), trace = 0)\n",
    "both3 <- step(intercept3, direction = \"both\", scope = formula(lm_data3), trace = 0)\n",
    "\n",
    "forward_bic3 <- step(intercept3, direction = \"forward\", scope = formula(lm_data3), trace = 0, k = log(nrow(index_data3)))\n",
    "backward_bic3 <- step(lm_data3, direction = \"backward\", scope = formula(lm_data3), trace = 0, k = log(nrow(index_data3)))\n",
    "both_bic3 <- step(intercept3, direction = \"both\", scope = formula(lm_data3), trace = 0, k = log(nrow(index_data3)))"
   ]
  },
  {
   "attachments": {},
   "cell_type": "markdown",
   "metadata": {
    "slideshow": {
     "slide_type": "subslide"
    }
   },
   "source": [
    "### Forward"
   ]
  },
  {
   "cell_type": "code",
   "execution_count": null,
   "metadata": {
    "vscode": {
     "languageId": "r"
    }
   },
   "outputs": [
    {
     "data": {
      "text/plain": [
       "\n",
       "Call:\n",
       "lm(formula = index_data3.2$index ~ with_internet + mean_u_mbps + \n",
       "    mean_d_mbps + mean_lat_ms + has_computer + total_population + \n",
       "    number_providers + X65_and_older + work_from_home, data = index_data3.2)\n",
       "\n",
       "Coefficients:\n",
       "           (Intercept)           with_internet             mean_u_mbps  \n",
       "-0.0000000000000005195   1.0526576754869811925   1.1939904361987245807  \n",
       "           mean_d_mbps             mean_lat_ms            has_computer  \n",
       " 0.6881421052964146190  -0.6947651246344695997   1.7009148881755427052  \n",
       "      total_population        number_providers           X65_and_older  \n",
       " 0.3917652256934771038   0.1682134633367980969  -0.1761106167240160114  \n",
       "        work_from_home  \n",
       "-0.0623652276685653234  \n"
      ]
     },
     "metadata": {},
     "output_type": "display_data"
    }
   ],
   "source": [
    "forward3"
   ]
  },
  {
   "cell_type": "code",
   "execution_count": null,
   "metadata": {
    "slideshow": {
     "slide_type": "subslide"
    },
    "vscode": {
     "languageId": "r"
    }
   },
   "outputs": [
    {
     "data": {
      "text/plain": [
       "\n",
       "Call:\n",
       "lm(formula = index_data3.2$index ~ with_internet + mean_u_mbps + \n",
       "    mean_d_mbps + mean_lat_ms + has_computer + total_population + \n",
       "    number_providers + X65_and_older + work_from_home, data = index_data3.2)\n",
       "\n",
       "Coefficients:\n",
       "           (Intercept)           with_internet             mean_u_mbps  \n",
       "-0.0000000000000005195   1.0526576754869811925   1.1939904361987245807  \n",
       "           mean_d_mbps             mean_lat_ms            has_computer  \n",
       " 0.6881421052964146190  -0.6947651246344695997   1.7009148881755427052  \n",
       "      total_population        number_providers           X65_and_older  \n",
       " 0.3917652256934771038   0.1682134633367980969  -0.1761106167240160114  \n",
       "        work_from_home  \n",
       "-0.0623652276685653234  \n"
      ]
     },
     "metadata": {},
     "output_type": "display_data"
    }
   ],
   "source": [
    "forward_bic3"
   ]
  },
  {
   "cell_type": "code",
   "execution_count": null,
   "metadata": {
    "slideshow": {
     "slide_type": "subslide"
    },
    "vscode": {
     "languageId": "r"
    }
   },
   "outputs": [
    {
     "data": {
      "text/html": [
       "<table class=\"dataframe\">\n",
       "<caption>A data.frame: 10 × 6</caption>\n",
       "<thead>\n",
       "\t<tr><th scope=col>Step</th><th scope=col>Df</th><th scope=col>Deviance</th><th scope=col>Resid. Df</th><th scope=col>Resid. Dev</th><th scope=col>AIC</th></tr>\n",
       "\t<tr><th scope=col>&lt;I&lt;chr&gt;&gt;</th><th scope=col>&lt;dbl&gt;</th><th scope=col>&lt;dbl&gt;</th><th scope=col>&lt;dbl&gt;</th><th scope=col>&lt;dbl&gt;</th><th scope=col>&lt;dbl&gt;</th></tr>\n",
       "</thead>\n",
       "<tbody>\n",
       "\t<tr><td>                  </td><td>NA</td><td>          NA</td><td>182</td><td>3064.4393816335059455013833940029144287</td><td>   517.71848</td></tr>\n",
       "\t<tr><td>+ with_internet   </td><td>-1</td><td>2309.2726240</td><td>181</td><td> 755.1667576628880169664626009762287140</td><td>   263.39380</td></tr>\n",
       "\t<tr><td>+ mean_u_mbps     </td><td>-1</td><td> 545.0171071</td><td>180</td><td> 210.1496505560769207932025892660021782</td><td>    31.31508</td></tr>\n",
       "\t<tr><td>+ mean_d_mbps     </td><td>-1</td><td> 168.0626834</td><td>179</td><td>  42.0869671293594578287411422934383154</td><td>  -260.96389</td></tr>\n",
       "\t<tr><td>+ mean_lat_ms     </td><td>-1</td><td>  18.9824707</td><td>178</td><td>  23.1044964615602204105471173534169793</td><td>  -368.71098</td></tr>\n",
       "\t<tr><td>+ has_computer    </td><td>-1</td><td>  11.8828867</td><td>177</td><td>  11.2216097328635360241833041072823107</td><td>  -498.87100</td></tr>\n",
       "\t<tr><td>+ total_population</td><td>-1</td><td>   4.7544795</td><td>176</td><td>   6.4671301836990160438745078863576055</td><td>  -597.72393</td></tr>\n",
       "\t<tr><td>+ number_providers</td><td>-1</td><td>   2.9918274</td><td>175</td><td>   3.4753028276105815130847531690960750</td><td>  -709.37623</td></tr>\n",
       "\t<tr><td>+ X65_and_older   </td><td>-1</td><td>   2.9617746</td><td>174</td><td>   0.5135282622357131288026721449568868</td><td> -1057.29635</td></tr>\n",
       "\t<tr><td>+ work_from_home  </td><td>-1</td><td>   0.5135283</td><td>173</td><td>   0.0000000000000000000000000001554533</td><td>-12651.04690</td></tr>\n",
       "</tbody>\n",
       "</table>\n"
      ],
      "text/latex": [
       "A data.frame: 10 × 6\n",
       "\\begin{tabular}{llllll}\n",
       " Step & Df & Deviance & Resid. Df & Resid. Dev & AIC\\\\\n",
       " <I<chr>> & <dbl> & <dbl> & <dbl> & <dbl> & <dbl>\\\\\n",
       "\\hline\n",
       "\t                    & NA &           NA & 182 & 3064.4393816335059455013833940029144287 &    517.71848\\\\\n",
       "\t + with\\_internet    & -1 & 2309.2726240 & 181 &  755.1667576628880169664626009762287140 &    263.39380\\\\\n",
       "\t + mean\\_u\\_mbps      & -1 &  545.0171071 & 180 &  210.1496505560769207932025892660021782 &     31.31508\\\\\n",
       "\t + mean\\_d\\_mbps      & -1 &  168.0626834 & 179 &   42.0869671293594578287411422934383154 &   -260.96389\\\\\n",
       "\t + mean\\_lat\\_ms      & -1 &   18.9824707 & 178 &   23.1044964615602204105471173534169793 &   -368.71098\\\\\n",
       "\t + has\\_computer     & -1 &   11.8828867 & 177 &   11.2216097328635360241833041072823107 &   -498.87100\\\\\n",
       "\t + total\\_population & -1 &    4.7544795 & 176 &    6.4671301836990160438745078863576055 &   -597.72393\\\\\n",
       "\t + number\\_providers & -1 &    2.9918274 & 175 &    3.4753028276105815130847531690960750 &   -709.37623\\\\\n",
       "\t + X65\\_and\\_older    & -1 &    2.9617746 & 174 &    0.5135282622357131288026721449568868 &  -1057.29635\\\\\n",
       "\t + work\\_from\\_home   & -1 &    0.5135283 & 173 &    0.0000000000000000000000000001554533 & -12651.04690\\\\\n",
       "\\end{tabular}\n"
      ],
      "text/markdown": [
       "\n",
       "A data.frame: 10 × 6\n",
       "\n",
       "| Step &lt;I&lt;chr&gt;&gt; | Df &lt;dbl&gt; | Deviance &lt;dbl&gt; | Resid. Df &lt;dbl&gt; | Resid. Dev &lt;dbl&gt; | AIC &lt;dbl&gt; |\n",
       "|---|---|---|---|---|---|\n",
       "| <!----> | NA |           NA | 182 | 3064.4393816335059455013833940029144287 |    517.71848 |\n",
       "| + with_internet    | -1 | 2309.2726240 | 181 |  755.1667576628880169664626009762287140 |    263.39380 |\n",
       "| + mean_u_mbps      | -1 |  545.0171071 | 180 |  210.1496505560769207932025892660021782 |     31.31508 |\n",
       "| + mean_d_mbps      | -1 |  168.0626834 | 179 |   42.0869671293594578287411422934383154 |   -260.96389 |\n",
       "| + mean_lat_ms      | -1 |   18.9824707 | 178 |   23.1044964615602204105471173534169793 |   -368.71098 |\n",
       "| + has_computer     | -1 |   11.8828867 | 177 |   11.2216097328635360241833041072823107 |   -498.87100 |\n",
       "| + total_population | -1 |    4.7544795 | 176 |    6.4671301836990160438745078863576055 |   -597.72393 |\n",
       "| + number_providers | -1 |    2.9918274 | 175 |    3.4753028276105815130847531690960750 |   -709.37623 |\n",
       "| + X65_and_older    | -1 |    2.9617746 | 174 |    0.5135282622357131288026721449568868 |  -1057.29635 |\n",
       "| + work_from_home   | -1 |    0.5135283 | 173 |    0.0000000000000000000000000001554533 | -12651.04690 |\n",
       "\n"
      ],
      "text/plain": [
       "   Step               Df Deviance     Resid. Df\n",
       "1                     NA           NA 182      \n",
       "2  + with_internet    -1 2309.2726240 181      \n",
       "3  + mean_u_mbps      -1  545.0171071 180      \n",
       "4  + mean_d_mbps      -1  168.0626834 179      \n",
       "5  + mean_lat_ms      -1   18.9824707 178      \n",
       "6  + has_computer     -1   11.8828867 177      \n",
       "7  + total_population -1    4.7544795 176      \n",
       "8  + number_providers -1    2.9918274 175      \n",
       "9  + X65_and_older    -1    2.9617746 174      \n",
       "10 + work_from_home   -1    0.5135283 173      \n",
       "   Resid. Dev                              AIC         \n",
       "1  3064.4393816335059455013833940029144287    517.71848\n",
       "2   755.1667576628880169664626009762287140    263.39380\n",
       "3   210.1496505560769207932025892660021782     31.31508\n",
       "4    42.0869671293594578287411422934383154   -260.96389\n",
       "5    23.1044964615602204105471173534169793   -368.71098\n",
       "6    11.2216097328635360241833041072823107   -498.87100\n",
       "7     6.4671301836990160438745078863576055   -597.72393\n",
       "8     3.4753028276105815130847531690960750   -709.37623\n",
       "9     0.5135282622357131288026721449568868  -1057.29635\n",
       "10    0.0000000000000000000000000001554533 -12651.04690"
      ]
     },
     "metadata": {},
     "output_type": "display_data"
    }
   ],
   "source": [
    "forward3$anova"
   ]
  },
  {
   "cell_type": "code",
   "execution_count": null,
   "metadata": {
    "slideshow": {
     "slide_type": "subslide"
    },
    "vscode": {
     "languageId": "r"
    }
   },
   "outputs": [
    {
     "data": {
      "text/html": [
       "<table class=\"dataframe\">\n",
       "<caption>A data.frame: 10 × 6</caption>\n",
       "<thead>\n",
       "\t<tr><th scope=col>Step</th><th scope=col>Df</th><th scope=col>Deviance</th><th scope=col>Resid. Df</th><th scope=col>Resid. Dev</th><th scope=col>AIC</th></tr>\n",
       "\t<tr><th scope=col>&lt;I&lt;chr&gt;&gt;</th><th scope=col>&lt;dbl&gt;</th><th scope=col>&lt;dbl&gt;</th><th scope=col>&lt;dbl&gt;</th><th scope=col>&lt;dbl&gt;</th><th scope=col>&lt;dbl&gt;</th></tr>\n",
       "</thead>\n",
       "<tbody>\n",
       "\t<tr><td>                  </td><td>NA</td><td>          NA</td><td>182</td><td>3064.4393816335059455013833940029144287</td><td>   520.92797</td></tr>\n",
       "\t<tr><td>+ with_internet   </td><td>-1</td><td>2309.2726240</td><td>181</td><td> 755.1667576628880169664626009762287140</td><td>   269.81277</td></tr>\n",
       "\t<tr><td>+ mean_u_mbps     </td><td>-1</td><td> 545.0171071</td><td>180</td><td> 210.1496505560769207932025892660021782</td><td>    40.94353</td></tr>\n",
       "\t<tr><td>+ mean_d_mbps     </td><td>-1</td><td> 168.0626834</td><td>179</td><td>  42.0869671293594578287411422934383154</td><td>  -248.12594</td></tr>\n",
       "\t<tr><td>+ mean_lat_ms     </td><td>-1</td><td>  18.9824707</td><td>178</td><td>  23.1044964615602204105471173534169793</td><td>  -352.66355</td></tr>\n",
       "\t<tr><td>+ has_computer    </td><td>-1</td><td>  11.8828867</td><td>177</td><td>  11.2216097328635360241833041072823107</td><td>  -479.61408</td></tr>\n",
       "\t<tr><td>+ total_population</td><td>-1</td><td>   4.7544795</td><td>176</td><td>   6.4671301836990160438745078863576055</td><td>  -575.25752</td></tr>\n",
       "\t<tr><td>+ number_providers</td><td>-1</td><td>   2.9918274</td><td>175</td><td>   3.4753028276105815130847531690960750</td><td>  -683.70034</td></tr>\n",
       "\t<tr><td>+ X65_and_older   </td><td>-1</td><td>   2.9617746</td><td>174</td><td>   0.5135282622357131288026721449568868</td><td> -1028.41098</td></tr>\n",
       "\t<tr><td>+ work_from_home  </td><td>-1</td><td>   0.5135283</td><td>173</td><td>   0.0000000000000000000000000001554533</td><td>-12618.95203</td></tr>\n",
       "</tbody>\n",
       "</table>\n"
      ],
      "text/latex": [
       "A data.frame: 10 × 6\n",
       "\\begin{tabular}{llllll}\n",
       " Step & Df & Deviance & Resid. Df & Resid. Dev & AIC\\\\\n",
       " <I<chr>> & <dbl> & <dbl> & <dbl> & <dbl> & <dbl>\\\\\n",
       "\\hline\n",
       "\t                    & NA &           NA & 182 & 3064.4393816335059455013833940029144287 &    520.92797\\\\\n",
       "\t + with\\_internet    & -1 & 2309.2726240 & 181 &  755.1667576628880169664626009762287140 &    269.81277\\\\\n",
       "\t + mean\\_u\\_mbps      & -1 &  545.0171071 & 180 &  210.1496505560769207932025892660021782 &     40.94353\\\\\n",
       "\t + mean\\_d\\_mbps      & -1 &  168.0626834 & 179 &   42.0869671293594578287411422934383154 &   -248.12594\\\\\n",
       "\t + mean\\_lat\\_ms      & -1 &   18.9824707 & 178 &   23.1044964615602204105471173534169793 &   -352.66355\\\\\n",
       "\t + has\\_computer     & -1 &   11.8828867 & 177 &   11.2216097328635360241833041072823107 &   -479.61408\\\\\n",
       "\t + total\\_population & -1 &    4.7544795 & 176 &    6.4671301836990160438745078863576055 &   -575.25752\\\\\n",
       "\t + number\\_providers & -1 &    2.9918274 & 175 &    3.4753028276105815130847531690960750 &   -683.70034\\\\\n",
       "\t + X65\\_and\\_older    & -1 &    2.9617746 & 174 &    0.5135282622357131288026721449568868 &  -1028.41098\\\\\n",
       "\t + work\\_from\\_home   & -1 &    0.5135283 & 173 &    0.0000000000000000000000000001554533 & -12618.95203\\\\\n",
       "\\end{tabular}\n"
      ],
      "text/markdown": [
       "\n",
       "A data.frame: 10 × 6\n",
       "\n",
       "| Step &lt;I&lt;chr&gt;&gt; | Df &lt;dbl&gt; | Deviance &lt;dbl&gt; | Resid. Df &lt;dbl&gt; | Resid. Dev &lt;dbl&gt; | AIC &lt;dbl&gt; |\n",
       "|---|---|---|---|---|---|\n",
       "| <!----> | NA |           NA | 182 | 3064.4393816335059455013833940029144287 |    520.92797 |\n",
       "| + with_internet    | -1 | 2309.2726240 | 181 |  755.1667576628880169664626009762287140 |    269.81277 |\n",
       "| + mean_u_mbps      | -1 |  545.0171071 | 180 |  210.1496505560769207932025892660021782 |     40.94353 |\n",
       "| + mean_d_mbps      | -1 |  168.0626834 | 179 |   42.0869671293594578287411422934383154 |   -248.12594 |\n",
       "| + mean_lat_ms      | -1 |   18.9824707 | 178 |   23.1044964615602204105471173534169793 |   -352.66355 |\n",
       "| + has_computer     | -1 |   11.8828867 | 177 |   11.2216097328635360241833041072823107 |   -479.61408 |\n",
       "| + total_population | -1 |    4.7544795 | 176 |    6.4671301836990160438745078863576055 |   -575.25752 |\n",
       "| + number_providers | -1 |    2.9918274 | 175 |    3.4753028276105815130847531690960750 |   -683.70034 |\n",
       "| + X65_and_older    | -1 |    2.9617746 | 174 |    0.5135282622357131288026721449568868 |  -1028.41098 |\n",
       "| + work_from_home   | -1 |    0.5135283 | 173 |    0.0000000000000000000000000001554533 | -12618.95203 |\n",
       "\n"
      ],
      "text/plain": [
       "   Step               Df Deviance     Resid. Df\n",
       "1                     NA           NA 182      \n",
       "2  + with_internet    -1 2309.2726240 181      \n",
       "3  + mean_u_mbps      -1  545.0171071 180      \n",
       "4  + mean_d_mbps      -1  168.0626834 179      \n",
       "5  + mean_lat_ms      -1   18.9824707 178      \n",
       "6  + has_computer     -1   11.8828867 177      \n",
       "7  + total_population -1    4.7544795 176      \n",
       "8  + number_providers -1    2.9918274 175      \n",
       "9  + X65_and_older    -1    2.9617746 174      \n",
       "10 + work_from_home   -1    0.5135283 173      \n",
       "   Resid. Dev                              AIC         \n",
       "1  3064.4393816335059455013833940029144287    520.92797\n",
       "2   755.1667576628880169664626009762287140    269.81277\n",
       "3   210.1496505560769207932025892660021782     40.94353\n",
       "4    42.0869671293594578287411422934383154   -248.12594\n",
       "5    23.1044964615602204105471173534169793   -352.66355\n",
       "6    11.2216097328635360241833041072823107   -479.61408\n",
       "7     6.4671301836990160438745078863576055   -575.25752\n",
       "8     3.4753028276105815130847531690960750   -683.70034\n",
       "9     0.5135282622357131288026721449568868  -1028.41098\n",
       "10    0.0000000000000000000000000001554533 -12618.95203"
      ]
     },
     "metadata": {},
     "output_type": "display_data"
    }
   ],
   "source": [
    "forward_bic3$anova"
   ]
  },
  {
   "cell_type": "code",
   "execution_count": null,
   "metadata": {
    "slideshow": {
     "slide_type": "subslide"
    },
    "vscode": {
     "languageId": "r"
    }
   },
   "outputs": [
    {
     "name": "stderr",
     "output_type": "stream",
     "text": [
      "Warning message in summary.lm(forward3):\n",
      "“essentially perfect fit: summary may be unreliable”\n"
     ]
    },
    {
     "data": {
      "text/plain": [
       "\n",
       "Call:\n",
       "lm(formula = index_data3.2$index ~ with_internet + mean_u_mbps + \n",
       "    mean_d_mbps + mean_lat_ms + has_computer + total_population + \n",
       "    number_providers + X65_and_older + work_from_home, data = index_data3.2)\n",
       "\n",
       "Residuals:\n",
       "                   Min                     1Q                 Median \n",
       "-0.0000000000000071038 -0.0000000000000002299  0.0000000000000000363 \n",
       "                    3Q                    Max \n",
       " 0.0000000000000004094  0.0000000000000023450 \n",
       "\n",
       "Coefficients:\n",
       "                                Estimate              Std. Error\n",
       "(Intercept)      -0.00000000000000051951  0.00000000000000007007\n",
       "with_internet     1.05265767548698119249  0.00000000000000052537\n",
       "mean_u_mbps       1.19399043619872458066  0.00000000000000008556\n",
       "mean_d_mbps       0.68814210529641461900  0.00000000000000013903\n",
       "mean_lat_ms      -0.69476512463446959966  0.00000000000000013216\n",
       "has_computer      1.70091488817554270518  0.00000000000000052081\n",
       "total_population  0.39176522569347710379  0.00000000000000015860\n",
       "number_providers  0.16821346333679809693  0.00000000000000008394\n",
       "X65_and_older    -0.17611061672401601141  0.00000000000000010166\n",
       "work_from_home   -0.06236522766856532340  0.00000000000000008250\n",
       "                               t value             Pr(>|t|)    \n",
       "(Intercept)                     -7.414     0.00000000000524 ***\n",
       "with_internet     2003665561905275.500 < 0.0000000000000002 ***\n",
       "mean_u_mbps      13955570955778608.000 < 0.0000000000000002 ***\n",
       "mean_d_mbps       4949434847630339.000 < 0.0000000000000002 ***\n",
       "mean_lat_ms      -5256997382288353.000 < 0.0000000000000002 ***\n",
       "has_computer      3265925635785037.000 < 0.0000000000000002 ***\n",
       "total_population  2470078767204971.000 < 0.0000000000000002 ***\n",
       "number_providers  2004073798187157.750 < 0.0000000000000002 ***\n",
       "X65_and_older    -1732432078181516.250 < 0.0000000000000002 ***\n",
       "work_from_home    -755971146762711.000 < 0.0000000000000002 ***\n",
       "---\n",
       "Signif. codes:  0 ‘***’ 0.001 ‘**’ 0.01 ‘*’ 0.05 ‘.’ 0.1 ‘ ’ 1\n",
       "\n",
       "Residual standard error: 0.0000000000000009479 on 173 degrees of freedom\n",
       "Multiple R-squared:      1,\tAdjusted R-squared:      1 \n",
       "F-statistic: 3.789e+32 on 9 and 173 DF,  p-value: < 0.00000000000000022\n"
      ]
     },
     "metadata": {},
     "output_type": "display_data"
    }
   ],
   "source": [
    "summary(forward3)"
   ]
  },
  {
   "cell_type": "code",
   "execution_count": null,
   "metadata": {
    "vscode": {
     "languageId": "r"
    }
   },
   "outputs": [
    {
     "name": "stderr",
     "output_type": "stream",
     "text": [
      "Warning message in summary.lm(forward_bic3):\n",
      "“essentially perfect fit: summary may be unreliable”\n"
     ]
    },
    {
     "data": {
      "text/plain": [
       "\n",
       "Call:\n",
       "lm(formula = index_data3.2$index ~ with_internet + mean_u_mbps + \n",
       "    mean_d_mbps + mean_lat_ms + has_computer + total_population + \n",
       "    number_providers + X65_and_older + work_from_home, data = index_data3.2)\n",
       "\n",
       "Residuals:\n",
       "                   Min                     1Q                 Median \n",
       "-0.0000000000000071038 -0.0000000000000002299  0.0000000000000000363 \n",
       "                    3Q                    Max \n",
       " 0.0000000000000004094  0.0000000000000023450 \n",
       "\n",
       "Coefficients:\n",
       "                                Estimate              Std. Error\n",
       "(Intercept)      -0.00000000000000051951  0.00000000000000007007\n",
       "with_internet     1.05265767548698119249  0.00000000000000052537\n",
       "mean_u_mbps       1.19399043619872458066  0.00000000000000008556\n",
       "mean_d_mbps       0.68814210529641461900  0.00000000000000013903\n",
       "mean_lat_ms      -0.69476512463446959966  0.00000000000000013216\n",
       "has_computer      1.70091488817554270518  0.00000000000000052081\n",
       "total_population  0.39176522569347710379  0.00000000000000015860\n",
       "number_providers  0.16821346333679809693  0.00000000000000008394\n",
       "X65_and_older    -0.17611061672401601141  0.00000000000000010166\n",
       "work_from_home   -0.06236522766856532340  0.00000000000000008250\n",
       "                               t value             Pr(>|t|)    \n",
       "(Intercept)                     -7.414     0.00000000000524 ***\n",
       "with_internet     2003665561905275.500 < 0.0000000000000002 ***\n",
       "mean_u_mbps      13955570955778608.000 < 0.0000000000000002 ***\n",
       "mean_d_mbps       4949434847630339.000 < 0.0000000000000002 ***\n",
       "mean_lat_ms      -5256997382288353.000 < 0.0000000000000002 ***\n",
       "has_computer      3265925635785037.000 < 0.0000000000000002 ***\n",
       "total_population  2470078767204971.000 < 0.0000000000000002 ***\n",
       "number_providers  2004073798187157.750 < 0.0000000000000002 ***\n",
       "X65_and_older    -1732432078181516.250 < 0.0000000000000002 ***\n",
       "work_from_home    -755971146762711.000 < 0.0000000000000002 ***\n",
       "---\n",
       "Signif. codes:  0 ‘***’ 0.001 ‘**’ 0.01 ‘*’ 0.05 ‘.’ 0.1 ‘ ’ 1\n",
       "\n",
       "Residual standard error: 0.0000000000000009479 on 173 degrees of freedom\n",
       "Multiple R-squared:      1,\tAdjusted R-squared:      1 \n",
       "F-statistic: 3.789e+32 on 9 and 173 DF,  p-value: < 0.00000000000000022\n"
      ]
     },
     "metadata": {},
     "output_type": "display_data"
    }
   ],
   "source": [
    "summary(forward_bic3)"
   ]
  },
  {
   "attachments": {},
   "cell_type": "markdown",
   "metadata": {
    "slideshow": {
     "slide_type": "subslide"
    }
   },
   "source": [
    "### Backward"
   ]
  },
  {
   "cell_type": "code",
   "execution_count": null,
   "metadata": {
    "vscode": {
     "languageId": "r"
    }
   },
   "outputs": [
    {
     "data": {
      "text/plain": [
       "\n",
       "Call:\n",
       "lm(formula = index_data3.2$index ~ has_computer + with_internet + \n",
       "    total_population + work_from_home + X65_and_older + number_providers + \n",
       "    mean_d_mbps + mean_u_mbps + mean_lat_ms, data = index_data3.2)\n",
       "\n",
       "Coefficients:\n",
       "           (Intercept)            has_computer           with_internet  \n",
       "-0.0000000000000005195   1.7009148881755424831   1.0526576754869809704  \n",
       "      total_population          work_from_home           X65_and_older  \n",
       " 0.3917652256934774369  -0.0623652276685653026  -0.1761106167240160392  \n",
       "      number_providers             mean_d_mbps             mean_u_mbps  \n",
       " 0.1682134633367982079   0.6881421052964155072   1.1939904361987241366  \n",
       "           mean_lat_ms  \n",
       "-0.6947651246344697107  \n"
      ]
     },
     "metadata": {},
     "output_type": "display_data"
    }
   ],
   "source": [
    "backward3"
   ]
  },
  {
   "cell_type": "code",
   "execution_count": null,
   "metadata": {
    "slideshow": {
     "slide_type": "subslide"
    },
    "vscode": {
     "languageId": "r"
    }
   },
   "outputs": [
    {
     "data": {
      "text/plain": [
       "\n",
       "Call:\n",
       "lm(formula = index_data3.2$index ~ has_computer + with_internet + \n",
       "    total_population + work_from_home + X65_and_older + number_providers + \n",
       "    mean_d_mbps + mean_u_mbps + mean_lat_ms, data = index_data3.2)\n",
       "\n",
       "Coefficients:\n",
       "           (Intercept)            has_computer           with_internet  \n",
       "-0.0000000000000005195   1.7009148881755424831   1.0526576754869809704  \n",
       "      total_population          work_from_home           X65_and_older  \n",
       " 0.3917652256934774369  -0.0623652276685653026  -0.1761106167240160392  \n",
       "      number_providers             mean_d_mbps             mean_u_mbps  \n",
       " 0.1682134633367982079   0.6881421052964155072   1.1939904361987241366  \n",
       "           mean_lat_ms  \n",
       "-0.6947651246344697107  \n"
      ]
     },
     "metadata": {},
     "output_type": "display_data"
    }
   ],
   "source": [
    "backward_bic3"
   ]
  },
  {
   "cell_type": "code",
   "execution_count": null,
   "metadata": {
    "slideshow": {
     "slide_type": "subslide"
    },
    "vscode": {
     "languageId": "r"
    }
   },
   "outputs": [
    {
     "data": {
      "text/html": [
       "<table class=\"dataframe\">\n",
       "<caption>A data.frame: 1 × 6</caption>\n",
       "<thead>\n",
       "\t<tr><th scope=col>Step</th><th scope=col>Df</th><th scope=col>Deviance</th><th scope=col>Resid. Df</th><th scope=col>Resid. Dev</th><th scope=col>AIC</th></tr>\n",
       "\t<tr><th scope=col>&lt;I&lt;chr&gt;&gt;</th><th scope=col>&lt;dbl&gt;</th><th scope=col>&lt;dbl&gt;</th><th scope=col>&lt;dbl&gt;</th><th scope=col>&lt;dbl&gt;</th><th scope=col>&lt;dbl&gt;</th></tr>\n",
       "</thead>\n",
       "<tbody>\n",
       "\t<tr><td></td><td>NA</td><td>NA</td><td>173</td><td>0.0000000000000000000000000002350742</td><td>-12575.37</td></tr>\n",
       "</tbody>\n",
       "</table>\n"
      ],
      "text/latex": [
       "A data.frame: 1 × 6\n",
       "\\begin{tabular}{llllll}\n",
       " Step & Df & Deviance & Resid. Df & Resid. Dev & AIC\\\\\n",
       " <I<chr>> & <dbl> & <dbl> & <dbl> & <dbl> & <dbl>\\\\\n",
       "\\hline\n",
       "\t  & NA & NA & 173 & 0.0000000000000000000000000002350742 & -12575.37\\\\\n",
       "\\end{tabular}\n"
      ],
      "text/markdown": [
       "\n",
       "A data.frame: 1 × 6\n",
       "\n",
       "| Step &lt;I&lt;chr&gt;&gt; | Df &lt;dbl&gt; | Deviance &lt;dbl&gt; | Resid. Df &lt;dbl&gt; | Resid. Dev &lt;dbl&gt; | AIC &lt;dbl&gt; |\n",
       "|---|---|---|---|---|---|\n",
       "| <!----> | NA | NA | 173 | 0.0000000000000000000000000002350742 | -12575.37 |\n",
       "\n"
      ],
      "text/plain": [
       "  Step Df Deviance Resid. Df Resid. Dev                           AIC      \n",
       "1      NA NA       173       0.0000000000000000000000000002350742 -12575.37"
      ]
     },
     "metadata": {},
     "output_type": "display_data"
    }
   ],
   "source": [
    "backward3$anova"
   ]
  },
  {
   "cell_type": "code",
   "execution_count": null,
   "metadata": {
    "slideshow": {
     "slide_type": "subslide"
    },
    "vscode": {
     "languageId": "r"
    }
   },
   "outputs": [
    {
     "data": {
      "text/html": [
       "<table class=\"dataframe\">\n",
       "<caption>A data.frame: 1 × 6</caption>\n",
       "<thead>\n",
       "\t<tr><th scope=col>Step</th><th scope=col>Df</th><th scope=col>Deviance</th><th scope=col>Resid. Df</th><th scope=col>Resid. Dev</th><th scope=col>AIC</th></tr>\n",
       "\t<tr><th scope=col>&lt;I&lt;chr&gt;&gt;</th><th scope=col>&lt;dbl&gt;</th><th scope=col>&lt;dbl&gt;</th><th scope=col>&lt;dbl&gt;</th><th scope=col>&lt;dbl&gt;</th><th scope=col>&lt;dbl&gt;</th></tr>\n",
       "</thead>\n",
       "<tbody>\n",
       "\t<tr><td></td><td>NA</td><td>NA</td><td>173</td><td>0.0000000000000000000000000002350742</td><td>-12543.27</td></tr>\n",
       "</tbody>\n",
       "</table>\n"
      ],
      "text/latex": [
       "A data.frame: 1 × 6\n",
       "\\begin{tabular}{llllll}\n",
       " Step & Df & Deviance & Resid. Df & Resid. Dev & AIC\\\\\n",
       " <I<chr>> & <dbl> & <dbl> & <dbl> & <dbl> & <dbl>\\\\\n",
       "\\hline\n",
       "\t  & NA & NA & 173 & 0.0000000000000000000000000002350742 & -12543.27\\\\\n",
       "\\end{tabular}\n"
      ],
      "text/markdown": [
       "\n",
       "A data.frame: 1 × 6\n",
       "\n",
       "| Step &lt;I&lt;chr&gt;&gt; | Df &lt;dbl&gt; | Deviance &lt;dbl&gt; | Resid. Df &lt;dbl&gt; | Resid. Dev &lt;dbl&gt; | AIC &lt;dbl&gt; |\n",
       "|---|---|---|---|---|---|\n",
       "| <!----> | NA | NA | 173 | 0.0000000000000000000000000002350742 | -12543.27 |\n",
       "\n"
      ],
      "text/plain": [
       "  Step Df Deviance Resid. Df Resid. Dev                           AIC      \n",
       "1      NA NA       173       0.0000000000000000000000000002350742 -12543.27"
      ]
     },
     "metadata": {},
     "output_type": "display_data"
    }
   ],
   "source": [
    "backward_bic3$anova"
   ]
  },
  {
   "cell_type": "code",
   "execution_count": null,
   "metadata": {
    "slideshow": {
     "slide_type": "subslide"
    },
    "vscode": {
     "languageId": "r"
    }
   },
   "outputs": [
    {
     "name": "stderr",
     "output_type": "stream",
     "text": [
      "Warning message in summary.lm(backward3):\n",
      "“essentially perfect fit: summary may be unreliable”\n"
     ]
    },
    {
     "data": {
      "text/plain": [
       "\n",
       "Call:\n",
       "lm(formula = index_data3.2$index ~ has_computer + with_internet + \n",
       "    total_population + work_from_home + X65_and_older + number_providers + \n",
       "    mean_d_mbps + mean_u_mbps + mean_lat_ms, data = index_data3.2)\n",
       "\n",
       "Residuals:\n",
       "                   Min                     1Q                 Median \n",
       "-0.0000000000000076835 -0.0000000000000003443  0.0000000000000000499 \n",
       "                    3Q                    Max \n",
       " 0.0000000000000004193  0.0000000000000038656 \n",
       "\n",
       "Coefficients:\n",
       "                                Estimate              Std. Error\n",
       "(Intercept)      -0.00000000000000051951  0.00000000000000008617\n",
       "has_computer      1.70091488817554248314  0.00000000000000064044\n",
       "with_internet     1.05265767548698097045  0.00000000000000064605\n",
       "total_population  0.39176522569347743685  0.00000000000000019504\n",
       "work_from_home   -0.06236522766856530259  0.00000000000000010145\n",
       "X65_and_older    -0.17611061672401603917  0.00000000000000012501\n",
       "number_providers  0.16821346333679820795  0.00000000000000010322\n",
       "mean_d_mbps       0.68814210529641550718  0.00000000000000017097\n",
       "mean_u_mbps       1.19399043619872413657  0.00000000000000010521\n",
       "mean_lat_ms      -0.69476512463446971068  0.00000000000000016252\n",
       "                               t value             Pr(>|t|)    \n",
       "(Intercept)                     -6.029        0.00000000971 ***\n",
       "has_computer      2655851399419839.000 < 0.0000000000000002 ***\n",
       "with_internet     1629381247462585.500 < 0.0000000000000002 ***\n",
       "total_population  2008668562038975.250 < 0.0000000000000002 ***\n",
       "work_from_home    -614755892189247.625 < 0.0000000000000002 ***\n",
       "X65_and_older    -1408814122655988.750 < 0.0000000000000002 ***\n",
       "number_providers  1629713225291062.750 < 0.0000000000000002 ***\n",
       "mean_d_mbps       4024881437098825.500 < 0.0000000000000002 ***\n",
       "mean_u_mbps      11348673174457730.000 < 0.0000000000000002 ***\n",
       "mean_lat_ms      -4274991353604696.500 < 0.0000000000000002 ***\n",
       "---\n",
       "Signif. codes:  0 ‘***’ 0.001 ‘**’ 0.01 ‘*’ 0.05 ‘.’ 0.1 ‘ ’ 1\n",
       "\n",
       "Residual standard error: 0.000000000000001166 on 173 degrees of freedom\n",
       "Multiple R-squared:      1,\tAdjusted R-squared:      1 \n",
       "F-statistic: 2.506e+32 on 9 and 173 DF,  p-value: < 0.00000000000000022\n"
      ]
     },
     "metadata": {},
     "output_type": "display_data"
    }
   ],
   "source": [
    "summary(backward3)"
   ]
  },
  {
   "cell_type": "code",
   "execution_count": null,
   "metadata": {
    "slideshow": {
     "slide_type": "subslide"
    },
    "vscode": {
     "languageId": "r"
    }
   },
   "outputs": [
    {
     "name": "stderr",
     "output_type": "stream",
     "text": [
      "Warning message in summary.lm(backward_bic3):\n",
      "“essentially perfect fit: summary may be unreliable”\n"
     ]
    },
    {
     "data": {
      "text/plain": [
       "\n",
       "Call:\n",
       "lm(formula = index_data3.2$index ~ has_computer + with_internet + \n",
       "    total_population + work_from_home + X65_and_older + number_providers + \n",
       "    mean_d_mbps + mean_u_mbps + mean_lat_ms, data = index_data3.2)\n",
       "\n",
       "Residuals:\n",
       "                   Min                     1Q                 Median \n",
       "-0.0000000000000076835 -0.0000000000000003443  0.0000000000000000499 \n",
       "                    3Q                    Max \n",
       " 0.0000000000000004193  0.0000000000000038656 \n",
       "\n",
       "Coefficients:\n",
       "                                Estimate              Std. Error\n",
       "(Intercept)      -0.00000000000000051951  0.00000000000000008617\n",
       "has_computer      1.70091488817554248314  0.00000000000000064044\n",
       "with_internet     1.05265767548698097045  0.00000000000000064605\n",
       "total_population  0.39176522569347743685  0.00000000000000019504\n",
       "work_from_home   -0.06236522766856530259  0.00000000000000010145\n",
       "X65_and_older    -0.17611061672401603917  0.00000000000000012501\n",
       "number_providers  0.16821346333679820795  0.00000000000000010322\n",
       "mean_d_mbps       0.68814210529641550718  0.00000000000000017097\n",
       "mean_u_mbps       1.19399043619872413657  0.00000000000000010521\n",
       "mean_lat_ms      -0.69476512463446971068  0.00000000000000016252\n",
       "                               t value             Pr(>|t|)    \n",
       "(Intercept)                     -6.029        0.00000000971 ***\n",
       "has_computer      2655851399419839.000 < 0.0000000000000002 ***\n",
       "with_internet     1629381247462585.500 < 0.0000000000000002 ***\n",
       "total_population  2008668562038975.250 < 0.0000000000000002 ***\n",
       "work_from_home    -614755892189247.625 < 0.0000000000000002 ***\n",
       "X65_and_older    -1408814122655988.750 < 0.0000000000000002 ***\n",
       "number_providers  1629713225291062.750 < 0.0000000000000002 ***\n",
       "mean_d_mbps       4024881437098825.500 < 0.0000000000000002 ***\n",
       "mean_u_mbps      11348673174457730.000 < 0.0000000000000002 ***\n",
       "mean_lat_ms      -4274991353604696.500 < 0.0000000000000002 ***\n",
       "---\n",
       "Signif. codes:  0 ‘***’ 0.001 ‘**’ 0.01 ‘*’ 0.05 ‘.’ 0.1 ‘ ’ 1\n",
       "\n",
       "Residual standard error: 0.000000000000001166 on 173 degrees of freedom\n",
       "Multiple R-squared:      1,\tAdjusted R-squared:      1 \n",
       "F-statistic: 2.506e+32 on 9 and 173 DF,  p-value: < 0.00000000000000022\n"
      ]
     },
     "metadata": {},
     "output_type": "display_data"
    }
   ],
   "source": [
    "summary(backward_bic3)"
   ]
  },
  {
   "attachments": {},
   "cell_type": "markdown",
   "metadata": {
    "slideshow": {
     "slide_type": "subslide"
    }
   },
   "source": [
    "### Both"
   ]
  },
  {
   "cell_type": "code",
   "execution_count": null,
   "metadata": {
    "vscode": {
     "languageId": "r"
    }
   },
   "outputs": [
    {
     "data": {
      "text/plain": [
       "\n",
       "Call:\n",
       "lm(formula = index_data3.2$index ~ with_internet + mean_u_mbps + \n",
       "    mean_d_mbps + mean_lat_ms + has_computer + total_population + \n",
       "    number_providers + X65_and_older + work_from_home, data = index_data3.2)\n",
       "\n",
       "Coefficients:\n",
       "           (Intercept)           with_internet             mean_u_mbps  \n",
       "-0.0000000000000005195   1.0526576754869811925   1.1939904361987245807  \n",
       "           mean_d_mbps             mean_lat_ms            has_computer  \n",
       " 0.6881421052964146190  -0.6947651246344695997   1.7009148881755427052  \n",
       "      total_population        number_providers           X65_and_older  \n",
       " 0.3917652256934771038   0.1682134633367980969  -0.1761106167240160114  \n",
       "        work_from_home  \n",
       "-0.0623652276685653234  \n"
      ]
     },
     "metadata": {},
     "output_type": "display_data"
    }
   ],
   "source": [
    "both3"
   ]
  },
  {
   "cell_type": "code",
   "execution_count": null,
   "metadata": {
    "slideshow": {
     "slide_type": "subslide"
    },
    "vscode": {
     "languageId": "r"
    }
   },
   "outputs": [
    {
     "data": {
      "text/plain": [
       "\n",
       "Call:\n",
       "lm(formula = index_data3.2$index ~ with_internet + mean_u_mbps + \n",
       "    mean_d_mbps + mean_lat_ms + has_computer + total_population + \n",
       "    number_providers + X65_and_older + work_from_home, data = index_data3.2)\n",
       "\n",
       "Coefficients:\n",
       "           (Intercept)           with_internet             mean_u_mbps  \n",
       "-0.0000000000000005195   1.0526576754869811925   1.1939904361987245807  \n",
       "           mean_d_mbps             mean_lat_ms            has_computer  \n",
       " 0.6881421052964146190  -0.6947651246344695997   1.7009148881755427052  \n",
       "      total_population        number_providers           X65_and_older  \n",
       " 0.3917652256934771038   0.1682134633367980969  -0.1761106167240160114  \n",
       "        work_from_home  \n",
       "-0.0623652276685653234  \n"
      ]
     },
     "metadata": {},
     "output_type": "display_data"
    }
   ],
   "source": [
    "both_bic3"
   ]
  },
  {
   "cell_type": "code",
   "execution_count": null,
   "metadata": {
    "slideshow": {
     "slide_type": "subslide"
    },
    "vscode": {
     "languageId": "r"
    }
   },
   "outputs": [
    {
     "data": {
      "text/html": [
       "<table class=\"dataframe\">\n",
       "<caption>A data.frame: 10 × 6</caption>\n",
       "<thead>\n",
       "\t<tr><th scope=col>Step</th><th scope=col>Df</th><th scope=col>Deviance</th><th scope=col>Resid. Df</th><th scope=col>Resid. Dev</th><th scope=col>AIC</th></tr>\n",
       "\t<tr><th scope=col>&lt;I&lt;chr&gt;&gt;</th><th scope=col>&lt;dbl&gt;</th><th scope=col>&lt;dbl&gt;</th><th scope=col>&lt;dbl&gt;</th><th scope=col>&lt;dbl&gt;</th><th scope=col>&lt;dbl&gt;</th></tr>\n",
       "</thead>\n",
       "<tbody>\n",
       "\t<tr><td>                  </td><td>NA</td><td>          NA</td><td>182</td><td>3064.4393816335059455013833940029144287</td><td>   517.71848</td></tr>\n",
       "\t<tr><td>+ with_internet   </td><td>-1</td><td>2309.2726240</td><td>181</td><td> 755.1667576628880169664626009762287140</td><td>   263.39380</td></tr>\n",
       "\t<tr><td>+ mean_u_mbps     </td><td>-1</td><td> 545.0171071</td><td>180</td><td> 210.1496505560769207932025892660021782</td><td>    31.31508</td></tr>\n",
       "\t<tr><td>+ mean_d_mbps     </td><td>-1</td><td> 168.0626834</td><td>179</td><td>  42.0869671293594578287411422934383154</td><td>  -260.96389</td></tr>\n",
       "\t<tr><td>+ mean_lat_ms     </td><td>-1</td><td>  18.9824707</td><td>178</td><td>  23.1044964615602204105471173534169793</td><td>  -368.71098</td></tr>\n",
       "\t<tr><td>+ has_computer    </td><td>-1</td><td>  11.8828867</td><td>177</td><td>  11.2216097328635360241833041072823107</td><td>  -498.87100</td></tr>\n",
       "\t<tr><td>+ total_population</td><td>-1</td><td>   4.7544795</td><td>176</td><td>   6.4671301836990160438745078863576055</td><td>  -597.72393</td></tr>\n",
       "\t<tr><td>+ number_providers</td><td>-1</td><td>   2.9918274</td><td>175</td><td>   3.4753028276105815130847531690960750</td><td>  -709.37623</td></tr>\n",
       "\t<tr><td>+ X65_and_older   </td><td>-1</td><td>   2.9617746</td><td>174</td><td>   0.5135282622357131288026721449568868</td><td> -1057.29635</td></tr>\n",
       "\t<tr><td>+ work_from_home  </td><td>-1</td><td>   0.5135283</td><td>173</td><td>   0.0000000000000000000000000001554533</td><td>-12651.04690</td></tr>\n",
       "</tbody>\n",
       "</table>\n"
      ],
      "text/latex": [
       "A data.frame: 10 × 6\n",
       "\\begin{tabular}{llllll}\n",
       " Step & Df & Deviance & Resid. Df & Resid. Dev & AIC\\\\\n",
       " <I<chr>> & <dbl> & <dbl> & <dbl> & <dbl> & <dbl>\\\\\n",
       "\\hline\n",
       "\t                    & NA &           NA & 182 & 3064.4393816335059455013833940029144287 &    517.71848\\\\\n",
       "\t + with\\_internet    & -1 & 2309.2726240 & 181 &  755.1667576628880169664626009762287140 &    263.39380\\\\\n",
       "\t + mean\\_u\\_mbps      & -1 &  545.0171071 & 180 &  210.1496505560769207932025892660021782 &     31.31508\\\\\n",
       "\t + mean\\_d\\_mbps      & -1 &  168.0626834 & 179 &   42.0869671293594578287411422934383154 &   -260.96389\\\\\n",
       "\t + mean\\_lat\\_ms      & -1 &   18.9824707 & 178 &   23.1044964615602204105471173534169793 &   -368.71098\\\\\n",
       "\t + has\\_computer     & -1 &   11.8828867 & 177 &   11.2216097328635360241833041072823107 &   -498.87100\\\\\n",
       "\t + total\\_population & -1 &    4.7544795 & 176 &    6.4671301836990160438745078863576055 &   -597.72393\\\\\n",
       "\t + number\\_providers & -1 &    2.9918274 & 175 &    3.4753028276105815130847531690960750 &   -709.37623\\\\\n",
       "\t + X65\\_and\\_older    & -1 &    2.9617746 & 174 &    0.5135282622357131288026721449568868 &  -1057.29635\\\\\n",
       "\t + work\\_from\\_home   & -1 &    0.5135283 & 173 &    0.0000000000000000000000000001554533 & -12651.04690\\\\\n",
       "\\end{tabular}\n"
      ],
      "text/markdown": [
       "\n",
       "A data.frame: 10 × 6\n",
       "\n",
       "| Step &lt;I&lt;chr&gt;&gt; | Df &lt;dbl&gt; | Deviance &lt;dbl&gt; | Resid. Df &lt;dbl&gt; | Resid. Dev &lt;dbl&gt; | AIC &lt;dbl&gt; |\n",
       "|---|---|---|---|---|---|\n",
       "| <!----> | NA |           NA | 182 | 3064.4393816335059455013833940029144287 |    517.71848 |\n",
       "| + with_internet    | -1 | 2309.2726240 | 181 |  755.1667576628880169664626009762287140 |    263.39380 |\n",
       "| + mean_u_mbps      | -1 |  545.0171071 | 180 |  210.1496505560769207932025892660021782 |     31.31508 |\n",
       "| + mean_d_mbps      | -1 |  168.0626834 | 179 |   42.0869671293594578287411422934383154 |   -260.96389 |\n",
       "| + mean_lat_ms      | -1 |   18.9824707 | 178 |   23.1044964615602204105471173534169793 |   -368.71098 |\n",
       "| + has_computer     | -1 |   11.8828867 | 177 |   11.2216097328635360241833041072823107 |   -498.87100 |\n",
       "| + total_population | -1 |    4.7544795 | 176 |    6.4671301836990160438745078863576055 |   -597.72393 |\n",
       "| + number_providers | -1 |    2.9918274 | 175 |    3.4753028276105815130847531690960750 |   -709.37623 |\n",
       "| + X65_and_older    | -1 |    2.9617746 | 174 |    0.5135282622357131288026721449568868 |  -1057.29635 |\n",
       "| + work_from_home   | -1 |    0.5135283 | 173 |    0.0000000000000000000000000001554533 | -12651.04690 |\n",
       "\n"
      ],
      "text/plain": [
       "   Step               Df Deviance     Resid. Df\n",
       "1                     NA           NA 182      \n",
       "2  + with_internet    -1 2309.2726240 181      \n",
       "3  + mean_u_mbps      -1  545.0171071 180      \n",
       "4  + mean_d_mbps      -1  168.0626834 179      \n",
       "5  + mean_lat_ms      -1   18.9824707 178      \n",
       "6  + has_computer     -1   11.8828867 177      \n",
       "7  + total_population -1    4.7544795 176      \n",
       "8  + number_providers -1    2.9918274 175      \n",
       "9  + X65_and_older    -1    2.9617746 174      \n",
       "10 + work_from_home   -1    0.5135283 173      \n",
       "   Resid. Dev                              AIC         \n",
       "1  3064.4393816335059455013833940029144287    517.71848\n",
       "2   755.1667576628880169664626009762287140    263.39380\n",
       "3   210.1496505560769207932025892660021782     31.31508\n",
       "4    42.0869671293594578287411422934383154   -260.96389\n",
       "5    23.1044964615602204105471173534169793   -368.71098\n",
       "6    11.2216097328635360241833041072823107   -498.87100\n",
       "7     6.4671301836990160438745078863576055   -597.72393\n",
       "8     3.4753028276105815130847531690960750   -709.37623\n",
       "9     0.5135282622357131288026721449568868  -1057.29635\n",
       "10    0.0000000000000000000000000001554533 -12651.04690"
      ]
     },
     "metadata": {},
     "output_type": "display_data"
    }
   ],
   "source": [
    "both3$anova"
   ]
  },
  {
   "cell_type": "code",
   "execution_count": null,
   "metadata": {
    "slideshow": {
     "slide_type": "subslide"
    },
    "vscode": {
     "languageId": "r"
    }
   },
   "outputs": [
    {
     "data": {
      "text/html": [
       "<table class=\"dataframe\">\n",
       "<caption>A data.frame: 10 × 6</caption>\n",
       "<thead>\n",
       "\t<tr><th scope=col>Step</th><th scope=col>Df</th><th scope=col>Deviance</th><th scope=col>Resid. Df</th><th scope=col>Resid. Dev</th><th scope=col>AIC</th></tr>\n",
       "\t<tr><th scope=col>&lt;I&lt;chr&gt;&gt;</th><th scope=col>&lt;dbl&gt;</th><th scope=col>&lt;dbl&gt;</th><th scope=col>&lt;dbl&gt;</th><th scope=col>&lt;dbl&gt;</th><th scope=col>&lt;dbl&gt;</th></tr>\n",
       "</thead>\n",
       "<tbody>\n",
       "\t<tr><td>                  </td><td>NA</td><td>          NA</td><td>182</td><td>3064.4393816335059455013833940029144287</td><td>   520.92797</td></tr>\n",
       "\t<tr><td>+ with_internet   </td><td>-1</td><td>2309.2726240</td><td>181</td><td> 755.1667576628880169664626009762287140</td><td>   269.81277</td></tr>\n",
       "\t<tr><td>+ mean_u_mbps     </td><td>-1</td><td> 545.0171071</td><td>180</td><td> 210.1496505560769207932025892660021782</td><td>    40.94353</td></tr>\n",
       "\t<tr><td>+ mean_d_mbps     </td><td>-1</td><td> 168.0626834</td><td>179</td><td>  42.0869671293594578287411422934383154</td><td>  -248.12594</td></tr>\n",
       "\t<tr><td>+ mean_lat_ms     </td><td>-1</td><td>  18.9824707</td><td>178</td><td>  23.1044964615602204105471173534169793</td><td>  -352.66355</td></tr>\n",
       "\t<tr><td>+ has_computer    </td><td>-1</td><td>  11.8828867</td><td>177</td><td>  11.2216097328635360241833041072823107</td><td>  -479.61408</td></tr>\n",
       "\t<tr><td>+ total_population</td><td>-1</td><td>   4.7544795</td><td>176</td><td>   6.4671301836990160438745078863576055</td><td>  -575.25752</td></tr>\n",
       "\t<tr><td>+ number_providers</td><td>-1</td><td>   2.9918274</td><td>175</td><td>   3.4753028276105815130847531690960750</td><td>  -683.70034</td></tr>\n",
       "\t<tr><td>+ X65_and_older   </td><td>-1</td><td>   2.9617746</td><td>174</td><td>   0.5135282622357131288026721449568868</td><td> -1028.41098</td></tr>\n",
       "\t<tr><td>+ work_from_home  </td><td>-1</td><td>   0.5135283</td><td>173</td><td>   0.0000000000000000000000000001554533</td><td>-12618.95203</td></tr>\n",
       "</tbody>\n",
       "</table>\n"
      ],
      "text/latex": [
       "A data.frame: 10 × 6\n",
       "\\begin{tabular}{llllll}\n",
       " Step & Df & Deviance & Resid. Df & Resid. Dev & AIC\\\\\n",
       " <I<chr>> & <dbl> & <dbl> & <dbl> & <dbl> & <dbl>\\\\\n",
       "\\hline\n",
       "\t                    & NA &           NA & 182 & 3064.4393816335059455013833940029144287 &    520.92797\\\\\n",
       "\t + with\\_internet    & -1 & 2309.2726240 & 181 &  755.1667576628880169664626009762287140 &    269.81277\\\\\n",
       "\t + mean\\_u\\_mbps      & -1 &  545.0171071 & 180 &  210.1496505560769207932025892660021782 &     40.94353\\\\\n",
       "\t + mean\\_d\\_mbps      & -1 &  168.0626834 & 179 &   42.0869671293594578287411422934383154 &   -248.12594\\\\\n",
       "\t + mean\\_lat\\_ms      & -1 &   18.9824707 & 178 &   23.1044964615602204105471173534169793 &   -352.66355\\\\\n",
       "\t + has\\_computer     & -1 &   11.8828867 & 177 &   11.2216097328635360241833041072823107 &   -479.61408\\\\\n",
       "\t + total\\_population & -1 &    4.7544795 & 176 &    6.4671301836990160438745078863576055 &   -575.25752\\\\\n",
       "\t + number\\_providers & -1 &    2.9918274 & 175 &    3.4753028276105815130847531690960750 &   -683.70034\\\\\n",
       "\t + X65\\_and\\_older    & -1 &    2.9617746 & 174 &    0.5135282622357131288026721449568868 &  -1028.41098\\\\\n",
       "\t + work\\_from\\_home   & -1 &    0.5135283 & 173 &    0.0000000000000000000000000001554533 & -12618.95203\\\\\n",
       "\\end{tabular}\n"
      ],
      "text/markdown": [
       "\n",
       "A data.frame: 10 × 6\n",
       "\n",
       "| Step &lt;I&lt;chr&gt;&gt; | Df &lt;dbl&gt; | Deviance &lt;dbl&gt; | Resid. Df &lt;dbl&gt; | Resid. Dev &lt;dbl&gt; | AIC &lt;dbl&gt; |\n",
       "|---|---|---|---|---|---|\n",
       "| <!----> | NA |           NA | 182 | 3064.4393816335059455013833940029144287 |    520.92797 |\n",
       "| + with_internet    | -1 | 2309.2726240 | 181 |  755.1667576628880169664626009762287140 |    269.81277 |\n",
       "| + mean_u_mbps      | -1 |  545.0171071 | 180 |  210.1496505560769207932025892660021782 |     40.94353 |\n",
       "| + mean_d_mbps      | -1 |  168.0626834 | 179 |   42.0869671293594578287411422934383154 |   -248.12594 |\n",
       "| + mean_lat_ms      | -1 |   18.9824707 | 178 |   23.1044964615602204105471173534169793 |   -352.66355 |\n",
       "| + has_computer     | -1 |   11.8828867 | 177 |   11.2216097328635360241833041072823107 |   -479.61408 |\n",
       "| + total_population | -1 |    4.7544795 | 176 |    6.4671301836990160438745078863576055 |   -575.25752 |\n",
       "| + number_providers | -1 |    2.9918274 | 175 |    3.4753028276105815130847531690960750 |   -683.70034 |\n",
       "| + X65_and_older    | -1 |    2.9617746 | 174 |    0.5135282622357131288026721449568868 |  -1028.41098 |\n",
       "| + work_from_home   | -1 |    0.5135283 | 173 |    0.0000000000000000000000000001554533 | -12618.95203 |\n",
       "\n"
      ],
      "text/plain": [
       "   Step               Df Deviance     Resid. Df\n",
       "1                     NA           NA 182      \n",
       "2  + with_internet    -1 2309.2726240 181      \n",
       "3  + mean_u_mbps      -1  545.0171071 180      \n",
       "4  + mean_d_mbps      -1  168.0626834 179      \n",
       "5  + mean_lat_ms      -1   18.9824707 178      \n",
       "6  + has_computer     -1   11.8828867 177      \n",
       "7  + total_population -1    4.7544795 176      \n",
       "8  + number_providers -1    2.9918274 175      \n",
       "9  + X65_and_older    -1    2.9617746 174      \n",
       "10 + work_from_home   -1    0.5135283 173      \n",
       "   Resid. Dev                              AIC         \n",
       "1  3064.4393816335059455013833940029144287    520.92797\n",
       "2   755.1667576628880169664626009762287140    269.81277\n",
       "3   210.1496505560769207932025892660021782     40.94353\n",
       "4    42.0869671293594578287411422934383154   -248.12594\n",
       "5    23.1044964615602204105471173534169793   -352.66355\n",
       "6    11.2216097328635360241833041072823107   -479.61408\n",
       "7     6.4671301836990160438745078863576055   -575.25752\n",
       "8     3.4753028276105815130847531690960750   -683.70034\n",
       "9     0.5135282622357131288026721449568868  -1028.41098\n",
       "10    0.0000000000000000000000000001554533 -12618.95203"
      ]
     },
     "metadata": {},
     "output_type": "display_data"
    }
   ],
   "source": [
    "both_bic3$anova"
   ]
  },
  {
   "cell_type": "code",
   "execution_count": null,
   "metadata": {
    "slideshow": {
     "slide_type": "subslide"
    },
    "vscode": {
     "languageId": "r"
    }
   },
   "outputs": [
    {
     "name": "stderr",
     "output_type": "stream",
     "text": [
      "Warning message in summary.lm(both3):\n",
      "“essentially perfect fit: summary may be unreliable”\n"
     ]
    },
    {
     "data": {
      "text/plain": [
       "\n",
       "Call:\n",
       "lm(formula = index_data3.2$index ~ with_internet + mean_u_mbps + \n",
       "    mean_d_mbps + mean_lat_ms + has_computer + total_population + \n",
       "    number_providers + X65_and_older + work_from_home, data = index_data3.2)\n",
       "\n",
       "Residuals:\n",
       "                   Min                     1Q                 Median \n",
       "-0.0000000000000071038 -0.0000000000000002299  0.0000000000000000363 \n",
       "                    3Q                    Max \n",
       " 0.0000000000000004094  0.0000000000000023450 \n",
       "\n",
       "Coefficients:\n",
       "                                Estimate              Std. Error\n",
       "(Intercept)      -0.00000000000000051951  0.00000000000000007007\n",
       "with_internet     1.05265767548698119249  0.00000000000000052537\n",
       "mean_u_mbps       1.19399043619872458066  0.00000000000000008556\n",
       "mean_d_mbps       0.68814210529641461900  0.00000000000000013903\n",
       "mean_lat_ms      -0.69476512463446959966  0.00000000000000013216\n",
       "has_computer      1.70091488817554270518  0.00000000000000052081\n",
       "total_population  0.39176522569347710379  0.00000000000000015860\n",
       "number_providers  0.16821346333679809693  0.00000000000000008394\n",
       "X65_and_older    -0.17611061672401601141  0.00000000000000010166\n",
       "work_from_home   -0.06236522766856532340  0.00000000000000008250\n",
       "                               t value             Pr(>|t|)    \n",
       "(Intercept)                     -7.414     0.00000000000524 ***\n",
       "with_internet     2003665561905275.500 < 0.0000000000000002 ***\n",
       "mean_u_mbps      13955570955778608.000 < 0.0000000000000002 ***\n",
       "mean_d_mbps       4949434847630339.000 < 0.0000000000000002 ***\n",
       "mean_lat_ms      -5256997382288353.000 < 0.0000000000000002 ***\n",
       "has_computer      3265925635785037.000 < 0.0000000000000002 ***\n",
       "total_population  2470078767204971.000 < 0.0000000000000002 ***\n",
       "number_providers  2004073798187157.750 < 0.0000000000000002 ***\n",
       "X65_and_older    -1732432078181516.250 < 0.0000000000000002 ***\n",
       "work_from_home    -755971146762711.000 < 0.0000000000000002 ***\n",
       "---\n",
       "Signif. codes:  0 ‘***’ 0.001 ‘**’ 0.01 ‘*’ 0.05 ‘.’ 0.1 ‘ ’ 1\n",
       "\n",
       "Residual standard error: 0.0000000000000009479 on 173 degrees of freedom\n",
       "Multiple R-squared:      1,\tAdjusted R-squared:      1 \n",
       "F-statistic: 3.789e+32 on 9 and 173 DF,  p-value: < 0.00000000000000022\n"
      ]
     },
     "metadata": {},
     "output_type": "display_data"
    }
   ],
   "source": [
    "summary(both3)"
   ]
  },
  {
   "cell_type": "code",
   "execution_count": null,
   "metadata": {
    "slideshow": {
     "slide_type": "subslide"
    },
    "vscode": {
     "languageId": "r"
    }
   },
   "outputs": [
    {
     "name": "stderr",
     "output_type": "stream",
     "text": [
      "Warning message in summary.lm(both_bic3):\n",
      "“essentially perfect fit: summary may be unreliable”\n"
     ]
    },
    {
     "data": {
      "text/plain": [
       "\n",
       "Call:\n",
       "lm(formula = index_data3.2$index ~ with_internet + mean_u_mbps + \n",
       "    mean_d_mbps + mean_lat_ms + has_computer + total_population + \n",
       "    number_providers + X65_and_older + work_from_home, data = index_data3.2)\n",
       "\n",
       "Residuals:\n",
       "                   Min                     1Q                 Median \n",
       "-0.0000000000000071038 -0.0000000000000002299  0.0000000000000000363 \n",
       "                    3Q                    Max \n",
       " 0.0000000000000004094  0.0000000000000023450 \n",
       "\n",
       "Coefficients:\n",
       "                                Estimate              Std. Error\n",
       "(Intercept)      -0.00000000000000051951  0.00000000000000007007\n",
       "with_internet     1.05265767548698119249  0.00000000000000052537\n",
       "mean_u_mbps       1.19399043619872458066  0.00000000000000008556\n",
       "mean_d_mbps       0.68814210529641461900  0.00000000000000013903\n",
       "mean_lat_ms      -0.69476512463446959966  0.00000000000000013216\n",
       "has_computer      1.70091488817554270518  0.00000000000000052081\n",
       "total_population  0.39176522569347710379  0.00000000000000015860\n",
       "number_providers  0.16821346333679809693  0.00000000000000008394\n",
       "X65_and_older    -0.17611061672401601141  0.00000000000000010166\n",
       "work_from_home   -0.06236522766856532340  0.00000000000000008250\n",
       "                               t value             Pr(>|t|)    \n",
       "(Intercept)                     -7.414     0.00000000000524 ***\n",
       "with_internet     2003665561905275.500 < 0.0000000000000002 ***\n",
       "mean_u_mbps      13955570955778608.000 < 0.0000000000000002 ***\n",
       "mean_d_mbps       4949434847630339.000 < 0.0000000000000002 ***\n",
       "mean_lat_ms      -5256997382288353.000 < 0.0000000000000002 ***\n",
       "has_computer      3265925635785037.000 < 0.0000000000000002 ***\n",
       "total_population  2470078767204971.000 < 0.0000000000000002 ***\n",
       "number_providers  2004073798187157.750 < 0.0000000000000002 ***\n",
       "X65_and_older    -1732432078181516.250 < 0.0000000000000002 ***\n",
       "work_from_home    -755971146762711.000 < 0.0000000000000002 ***\n",
       "---\n",
       "Signif. codes:  0 ‘***’ 0.001 ‘**’ 0.01 ‘*’ 0.05 ‘.’ 0.1 ‘ ’ 1\n",
       "\n",
       "Residual standard error: 0.0000000000000009479 on 173 degrees of freedom\n",
       "Multiple R-squared:      1,\tAdjusted R-squared:      1 \n",
       "F-statistic: 3.789e+32 on 9 and 173 DF,  p-value: < 0.00000000000000022\n"
      ]
     },
     "metadata": {},
     "output_type": "display_data"
    }
   ],
   "source": [
    "summary(both_bic3)"
   ]
  },
  {
   "attachments": {},
   "cell_type": "markdown",
   "metadata": {
    "slideshow": {
     "slide_type": "slide"
    }
   },
   "source": [
    "# Cluster Analysis on Chosen Model"
   ]
  },
  {
   "cell_type": "code",
   "execution_count": null,
   "metadata": {
    "slideshow": {
     "slide_type": "subslide"
    },
    "vscode": {
     "languageId": "r"
    }
   },
   "outputs": [],
   "source": [
    "new_data <- read.csv(\"../data/combined_data.csv\") %>%\n",
    "    dplyr::select(NAME, GEOID)\n",
    "cluster_data <- bind_cols(new_data, index_data2)\n",
    "\n",
    "dist_data <- dist(index_data2, method = \"euclidean\")\n",
    "hclust_avg <- hclust(dist_data, method = \"average\")\n",
    "cut_avg <- cutree(hclust_avg, k = 5)"
   ]
  },
  {
   "cell_type": "code",
   "execution_count": null,
   "metadata": {
    "slideshow": {
     "slide_type": "subslide"
    },
    "vscode": {
     "languageId": "r"
    }
   },
   "outputs": [
    {
     "data": {
      "text/plain": [
       "K-means clustering with 5 clusters of sizes 32, 40, 16, 45, 50\n",
       "\n",
       "Cluster means:\n",
       "  has_computer with_internet total_population X65_and_older number_providers\n",
       "1    1.2398906    1.27514620        1.2690111    1.20528192      -0.22450014\n",
       "2   -0.7402863   -0.81693958       -0.6443264   -0.13755656       0.71902381\n",
       "3    1.4761358    1.40468785        1.1937309    0.02706885       0.07965296\n",
       "4   -0.5842222   -0.58100253       -0.5307594   -0.23575417      -0.06242945\n",
       "5   -0.1478644   -0.08913974       -0.2010165   -0.45781845      -0.40084140\n",
       "  mean_lowest_cost mean_d_mbps mean_u_mbps mean_lat_ms     index\n",
       "1      -0.02249149  0.43504961  -0.1678420  -0.2966951  2.999362\n",
       "2      -0.49490556 -1.48304958  -0.8180604   1.4601489 -4.933530\n",
       "3      -0.03142816  0.69778366   1.7666667  -0.5959075  6.176999\n",
       "4       0.23952773 -0.01425485  -0.2641321  -0.1775674 -1.449290\n",
       "5       0.20480106  0.69754651   0.4342527  -0.6277332  1.354954\n",
       "\n",
       "Clustering vector:\n",
       "  [1] 4 1 4 4 4 4 5 5 4 5 5 5 5 3 1 3 3 5 4 5 3 3 5 5 5 3 5 1 4 5 5 4 1 5 4 3 5\n",
       " [38] 5 5 5 4 4 5 5 4 3 5 1 5 1 5 5 5 1 1 5 4 2 4 4 2 1 2 2 1 1 2 2 4 4 1 5 4 4\n",
       " [75] 1 5 5 5 4 4 4 5 5 4 5 4 1 4 5 1 1 4 4 5 3 1 1 1 4 4 1 1 1 5 5 5 4 5 5 4 1\n",
       "[112] 4 5 1 3 1 1 5 5 5 2 1 2 2 1 1 4 4 1 5 3 1 2 2 5 4 2 4 2 2 4 4 2 2 2 2 2 2\n",
       "[149] 2 2 4 2 2 2 2 2 2 2 4 2 2 2 4 4 5 3 5 3 1 2 3 3 4 2 3 2 2 2 2 2 2 4 5\n",
       "\n",
       "Within cluster sum of squares by cluster:\n",
       "[1] 188.3113 297.0997 131.7969 237.7163 204.4617\n",
       " (between_SS / total_SS =  72.9 %)\n",
       "\n",
       "Available components:\n",
       "\n",
       "[1] \"cluster\"      \"centers\"      \"totss\"        \"withinss\"     \"tot.withinss\"\n",
       "[6] \"betweenss\"    \"size\"         \"iter\"         \"ifault\"      "
      ]
     },
     "metadata": {},
     "output_type": "display_data"
    }
   ],
   "source": [
    "cluster <- kmeans(index_data2, centers = 5, nstart = 25)\n",
    "cluster"
   ]
  },
  {
   "cell_type": "code",
   "execution_count": null,
   "metadata": {
    "slideshow": {
     "slide_type": "subslide"
    },
    "vscode": {
     "languageId": "r"
    }
   },
   "outputs": [
    {
     "data": {
      "image/png": "[encoded data removed]",
      "text/plain": [
       "Plot with title “Cluster Dendrogram”"
      ]
     },
     "metadata": {
      "image/png": {
       "height": 420,
       "width": 420
      }
     },
     "output_type": "display_data"
    }
   ],
   "source": [
    "plot(hclust_avg)"
   ]
  },
  {
   "cell_type": "code",
   "execution_count": null,
   "metadata": {
    "vscode": {
     "languageId": "r"
    }
   },
   "outputs": [],
   "source": [
    "new_data <- as.data.frame(lapply(new_data, unlist))"
   ]
  },
  {
   "cell_type": "code",
   "execution_count": null,
   "metadata": {
    "slideshow": {
     "slide_type": "subslide"
    },
    "vscode": {
     "languageId": "r"
    }
   },
   "outputs": [
    {
     "data": {
      "image/png": "[encoded data removed]",
      "text/plain": [
       "plot without title"
      ]
     },
     "metadata": {
      "image/png": {
       "height": 420,
       "width": 420
      }
     },
     "output_type": "display_data"
    }
   ],
   "source": [
    "library(factoextra)\n",
    "fviz_cluster(cluster, data = index_data2)"
   ]
  }
 ],
 "metadata": {
  "kernelspec": {
   "display_name": "R",
   "language": "R",
   "name": "ir"
  },
  "language_info": {
   "codemirror_mode": "r",
   "file_extension": ".r",
   "mimetype": "text/x-r-source",
   "name": "R",
   "pygments_lexer": "r",
   "version": "4.3.0"
  },
  "orig_nbformat": 4
 },
 "nbformat": 4,
 "nbformat_minor": 2
}
