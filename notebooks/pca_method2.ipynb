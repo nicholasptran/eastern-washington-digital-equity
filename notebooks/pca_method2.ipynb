{
 "cells": [
  {
   "attachments": {},
   "cell_type": "markdown",
   "metadata": {
    "slideshow": {
     "slide_type": "slide"
    }
   },
   "source": [
    "# PCA - Method 2"
   ]
  },
  {
   "attachments": {},
   "cell_type": "markdown",
   "metadata": {},
   "source": [
    "## Nicholas Tran, Juliana Reyes, Trevor Myers"
   ]
  },
  {
   "attachments": {},
   "cell_type": "markdown",
   "metadata": {
    "slideshow": {
     "slide_type": "slide"
    }
   },
   "source": [
    "## Prepare The Data"
   ]
  },
  {
   "attachments": {},
   "cell_type": "markdown",
   "metadata": {
    "slideshow": {
     "slide_type": "fragment"
    }
   },
   "source": [
    "### Load The Libraries"
   ]
  },
  {
   "cell_type": "code",
   "execution_count": 8,
   "metadata": {
    "vscode": {
     "languageId": "r"
    }
   },
   "outputs": [],
   "source": [
    "library(tidyverse, quietly = TRUE)\n",
    "library(psych, quietly = TRUE)\n",
    "library(Hmisc, quietly = TRUE)"
   ]
  },
  {
   "attachments": {},
   "cell_type": "markdown",
   "metadata": {
    "slideshow": {
     "slide_type": "subslide"
    }
   },
   "source": [
    "### Get The Data"
   ]
  },
  {
   "cell_type": "code",
   "execution_count": 44,
   "metadata": {
    "vscode": {
     "languageId": "r"
    }
   },
   "outputs": [],
   "source": [
    "data <- read.csv(\"../data/combined_data.csv\")"
   ]
  },
  {
   "cell_type": "code",
   "execution_count": 45,
   "metadata": {
    "slideshow": {
     "slide_type": "fragment"
    },
    "vscode": {
     "languageId": "r"
    }
   },
   "outputs": [
    {
     "data": {
      "text/html": [
       "<table class=\"dataframe\">\n",
       "<caption>A data.frame: 6 × 15</caption>\n",
       "<thead>\n",
       "\t<tr><th></th><th scope=col>NAME</th><th scope=col>GEOID</th><th scope=col>has_computer</th><th scope=col>no_computer</th><th scope=col>with_internet</th><th scope=col>no_internet</th><th scope=col>total_population</th><th scope=col>work_from_home</th><th scope=col>X65_and_older</th><th scope=col>median_income</th><th scope=col>number_providers</th><th scope=col>mean_lowest_cost</th><th scope=col>mean_d_mbps</th><th scope=col>mean_u_mbps</th><th scope=col>mean_lat_ms</th></tr>\n",
       "\t<tr><th></th><th scope=col>&lt;chr&gt;</th><th scope=col>&lt;dbl&gt;</th><th scope=col>&lt;dbl&gt;</th><th scope=col>&lt;dbl&gt;</th><th scope=col>&lt;dbl&gt;</th><th scope=col>&lt;dbl&gt;</th><th scope=col>&lt;dbl&gt;</th><th scope=col>&lt;dbl&gt;</th><th scope=col>&lt;dbl&gt;</th><th scope=col>&lt;dbl&gt;</th><th scope=col>&lt;dbl&gt;</th><th scope=col>&lt;dbl&gt;</th><th scope=col>&lt;dbl&gt;</th><th scope=col>&lt;dbl&gt;</th><th scope=col>&lt;dbl&gt;</th></tr>\n",
       "</thead>\n",
       "<tbody>\n",
       "\t<tr><th scope=row>1</th><td>Census Tract 9601, Asotin County, Washington</td><td>53003960100</td><td>1664</td><td>118</td><td>1569</td><td>183</td><td>4320</td><td>145</td><td>1337</td><td>73942</td><td>12</td><td>58.00000</td><td>110.3274</td><td>41.78210</td><td>0.05170445</td></tr>\n",
       "\t<tr><th scope=row>2</th><td>Census Tract 9602, Asotin County, Washington</td><td>53003960200</td><td>1872</td><td>142</td><td>1780</td><td>222</td><td>4755</td><td>421</td><td>1352</td><td>72988</td><td>13</td><td>60.07692</td><td>145.7848</td><td>22.88731</td><td>0.02462630</td></tr>\n",
       "\t<tr><th scope=row>3</th><td>Census Tract 9603, Asotin County, Washington</td><td>53003960300</td><td>1279</td><td> 85</td><td>1156</td><td>192</td><td>3633</td><td>  6</td><td> 396</td><td>38077</td><td>11</td><td>60.00000</td><td>173.4079</td><td>27.06202</td><td>0.02998058</td></tr>\n",
       "\t<tr><th scope=row>4</th><td>Census Tract 9604, Asotin County, Washington</td><td>53003960400</td><td> 941</td><td> 53</td><td> 805</td><td>180</td><td>2517</td><td> 29</td><td> 647</td><td>38777</td><td> 8</td><td>62.50000</td><td>127.6005</td><td>23.53829</td><td>0.02216379</td></tr>\n",
       "\t<tr><th scope=row>5</th><td>Census Tract 9605, Asotin County, Washington</td><td>53003960500</td><td>1345</td><td>181</td><td>1198</td><td>304</td><td>3517</td><td> 26</td><td> 635</td><td>42639</td><td> 8</td><td>62.50000</td><td>192.4299</td><td>21.68565</td><td>0.02166087</td></tr>\n",
       "\t<tr><th scope=row>6</th><td>Census Tract 9606, Asotin County, Washington</td><td>53003960600</td><td>1542</td><td> 64</td><td>1392</td><td>203</td><td>3894</td><td>115</td><td> 909</td><td>53947</td><td> 9</td><td>58.88889</td><td>151.0552</td><td>23.52123</td><td>0.02618557</td></tr>\n",
       "</tbody>\n",
       "</table>\n"
      ],
      "text/latex": [
       "A data.frame: 6 × 15\n",
       "\\begin{tabular}{r|lllllllllllllll}\n",
       "  & NAME & GEOID & has\\_computer & no\\_computer & with\\_internet & no\\_internet & total\\_population & work\\_from\\_home & X65\\_and\\_older & median\\_income & number\\_providers & mean\\_lowest\\_cost & mean\\_d\\_mbps & mean\\_u\\_mbps & mean\\_lat\\_ms\\\\\n",
       "  & <chr> & <dbl> & <dbl> & <dbl> & <dbl> & <dbl> & <dbl> & <dbl> & <dbl> & <dbl> & <dbl> & <dbl> & <dbl> & <dbl> & <dbl>\\\\\n",
       "\\hline\n",
       "\t1 & Census Tract 9601, Asotin County, Washington & 53003960100 & 1664 & 118 & 1569 & 183 & 4320 & 145 & 1337 & 73942 & 12 & 58.00000 & 110.3274 & 41.78210 & 0.05170445\\\\\n",
       "\t2 & Census Tract 9602, Asotin County, Washington & 53003960200 & 1872 & 142 & 1780 & 222 & 4755 & 421 & 1352 & 72988 & 13 & 60.07692 & 145.7848 & 22.88731 & 0.02462630\\\\\n",
       "\t3 & Census Tract 9603, Asotin County, Washington & 53003960300 & 1279 &  85 & 1156 & 192 & 3633 &   6 &  396 & 38077 & 11 & 60.00000 & 173.4079 & 27.06202 & 0.02998058\\\\\n",
       "\t4 & Census Tract 9604, Asotin County, Washington & 53003960400 &  941 &  53 &  805 & 180 & 2517 &  29 &  647 & 38777 &  8 & 62.50000 & 127.6005 & 23.53829 & 0.02216379\\\\\n",
       "\t5 & Census Tract 9605, Asotin County, Washington & 53003960500 & 1345 & 181 & 1198 & 304 & 3517 &  26 &  635 & 42639 &  8 & 62.50000 & 192.4299 & 21.68565 & 0.02166087\\\\\n",
       "\t6 & Census Tract 9606, Asotin County, Washington & 53003960600 & 1542 &  64 & 1392 & 203 & 3894 & 115 &  909 & 53947 &  9 & 58.88889 & 151.0552 & 23.52123 & 0.02618557\\\\\n",
       "\\end{tabular}\n"
      ],
      "text/markdown": [
       "\n",
       "A data.frame: 6 × 15\n",
       "\n",
       "| <!--/--> | NAME &lt;chr&gt; | GEOID &lt;dbl&gt; | has_computer &lt;dbl&gt; | no_computer &lt;dbl&gt; | with_internet &lt;dbl&gt; | no_internet &lt;dbl&gt; | total_population &lt;dbl&gt; | work_from_home &lt;dbl&gt; | X65_and_older &lt;dbl&gt; | median_income &lt;dbl&gt; | number_providers &lt;dbl&gt; | mean_lowest_cost &lt;dbl&gt; | mean_d_mbps &lt;dbl&gt; | mean_u_mbps &lt;dbl&gt; | mean_lat_ms &lt;dbl&gt; |\n",
       "|---|---|---|---|---|---|---|---|---|---|---|---|---|---|---|---|\n",
       "| 1 | Census Tract 9601, Asotin County, Washington | 53003960100 | 1664 | 118 | 1569 | 183 | 4320 | 145 | 1337 | 73942 | 12 | 58.00000 | 110.3274 | 41.78210 | 0.05170445 |\n",
       "| 2 | Census Tract 9602, Asotin County, Washington | 53003960200 | 1872 | 142 | 1780 | 222 | 4755 | 421 | 1352 | 72988 | 13 | 60.07692 | 145.7848 | 22.88731 | 0.02462630 |\n",
       "| 3 | Census Tract 9603, Asotin County, Washington | 53003960300 | 1279 |  85 | 1156 | 192 | 3633 |   6 |  396 | 38077 | 11 | 60.00000 | 173.4079 | 27.06202 | 0.02998058 |\n",
       "| 4 | Census Tract 9604, Asotin County, Washington | 53003960400 |  941 |  53 |  805 | 180 | 2517 |  29 |  647 | 38777 |  8 | 62.50000 | 127.6005 | 23.53829 | 0.02216379 |\n",
       "| 5 | Census Tract 9605, Asotin County, Washington | 53003960500 | 1345 | 181 | 1198 | 304 | 3517 |  26 |  635 | 42639 |  8 | 62.50000 | 192.4299 | 21.68565 | 0.02166087 |\n",
       "| 6 | Census Tract 9606, Asotin County, Washington | 53003960600 | 1542 |  64 | 1392 | 203 | 3894 | 115 |  909 | 53947 |  9 | 58.88889 | 151.0552 | 23.52123 | 0.02618557 |\n",
       "\n"
      ],
      "text/plain": [
       "  NAME                                         GEOID       has_computer\n",
       "1 Census Tract 9601, Asotin County, Washington 53003960100 1664        \n",
       "2 Census Tract 9602, Asotin County, Washington 53003960200 1872        \n",
       "3 Census Tract 9603, Asotin County, Washington 53003960300 1279        \n",
       "4 Census Tract 9604, Asotin County, Washington 53003960400  941        \n",
       "5 Census Tract 9605, Asotin County, Washington 53003960500 1345        \n",
       "6 Census Tract 9606, Asotin County, Washington 53003960600 1542        \n",
       "  no_computer with_internet no_internet total_population work_from_home\n",
       "1 118         1569          183         4320             145           \n",
       "2 142         1780          222         4755             421           \n",
       "3  85         1156          192         3633               6           \n",
       "4  53          805          180         2517              29           \n",
       "5 181         1198          304         3517              26           \n",
       "6  64         1392          203         3894             115           \n",
       "  X65_and_older median_income number_providers mean_lowest_cost mean_d_mbps\n",
       "1 1337          73942         12               58.00000         110.3274   \n",
       "2 1352          72988         13               60.07692         145.7848   \n",
       "3  396          38077         11               60.00000         173.4079   \n",
       "4  647          38777          8               62.50000         127.6005   \n",
       "5  635          42639          8               62.50000         192.4299   \n",
       "6  909          53947          9               58.88889         151.0552   \n",
       "  mean_u_mbps mean_lat_ms\n",
       "1 41.78210    0.05170445 \n",
       "2 22.88731    0.02462630 \n",
       "3 27.06202    0.02998058 \n",
       "4 23.53829    0.02216379 \n",
       "5 21.68565    0.02166087 \n",
       "6 23.52123    0.02618557 "
      ]
     },
     "metadata": {},
     "output_type": "display_data"
    }
   ],
   "source": [
    "head(data)"
   ]
  },
  {
   "attachments": {},
   "cell_type": "markdown",
   "metadata": {
    "slideshow": {
     "slide_type": "subslide"
    }
   },
   "source": [
    "#### Remove Unnecessary Columns"
   ]
  },
  {
   "cell_type": "code",
   "execution_count": 46,
   "metadata": {
    "vscode": {
     "languageId": "r"
    }
   },
   "outputs": [],
   "source": [
    "data <- data %>% select(-NAME, -GEOID)"
   ]
  },
  {
   "cell_type": "code",
   "execution_count": 47,
   "metadata": {
    "slideshow": {
     "slide_type": "fragment"
    },
    "vscode": {
     "languageId": "r"
    }
   },
   "outputs": [
    {
     "data": {
      "text/html": [
       "<table class=\"dataframe\">\n",
       "<caption>A data.frame: 6 × 13</caption>\n",
       "<thead>\n",
       "\t<tr><th></th><th scope=col>has_computer</th><th scope=col>no_computer</th><th scope=col>with_internet</th><th scope=col>no_internet</th><th scope=col>total_population</th><th scope=col>work_from_home</th><th scope=col>X65_and_older</th><th scope=col>median_income</th><th scope=col>number_providers</th><th scope=col>mean_lowest_cost</th><th scope=col>mean_d_mbps</th><th scope=col>mean_u_mbps</th><th scope=col>mean_lat_ms</th></tr>\n",
       "\t<tr><th></th><th scope=col>&lt;dbl&gt;</th><th scope=col>&lt;dbl&gt;</th><th scope=col>&lt;dbl&gt;</th><th scope=col>&lt;dbl&gt;</th><th scope=col>&lt;dbl&gt;</th><th scope=col>&lt;dbl&gt;</th><th scope=col>&lt;dbl&gt;</th><th scope=col>&lt;dbl&gt;</th><th scope=col>&lt;dbl&gt;</th><th scope=col>&lt;dbl&gt;</th><th scope=col>&lt;dbl&gt;</th><th scope=col>&lt;dbl&gt;</th><th scope=col>&lt;dbl&gt;</th></tr>\n",
       "</thead>\n",
       "<tbody>\n",
       "\t<tr><th scope=row>1</th><td>1664</td><td>118</td><td>1569</td><td>183</td><td>4320</td><td>145</td><td>1337</td><td>73942</td><td>12</td><td>58.00000</td><td>110.3274</td><td>41.78210</td><td>0.05170445</td></tr>\n",
       "\t<tr><th scope=row>2</th><td>1872</td><td>142</td><td>1780</td><td>222</td><td>4755</td><td>421</td><td>1352</td><td>72988</td><td>13</td><td>60.07692</td><td>145.7848</td><td>22.88731</td><td>0.02462630</td></tr>\n",
       "\t<tr><th scope=row>3</th><td>1279</td><td> 85</td><td>1156</td><td>192</td><td>3633</td><td>  6</td><td> 396</td><td>38077</td><td>11</td><td>60.00000</td><td>173.4079</td><td>27.06202</td><td>0.02998058</td></tr>\n",
       "\t<tr><th scope=row>4</th><td> 941</td><td> 53</td><td> 805</td><td>180</td><td>2517</td><td> 29</td><td> 647</td><td>38777</td><td> 8</td><td>62.50000</td><td>127.6005</td><td>23.53829</td><td>0.02216379</td></tr>\n",
       "\t<tr><th scope=row>5</th><td>1345</td><td>181</td><td>1198</td><td>304</td><td>3517</td><td> 26</td><td> 635</td><td>42639</td><td> 8</td><td>62.50000</td><td>192.4299</td><td>21.68565</td><td>0.02166087</td></tr>\n",
       "\t<tr><th scope=row>6</th><td>1542</td><td> 64</td><td>1392</td><td>203</td><td>3894</td><td>115</td><td> 909</td><td>53947</td><td> 9</td><td>58.88889</td><td>151.0552</td><td>23.52123</td><td>0.02618557</td></tr>\n",
       "</tbody>\n",
       "</table>\n"
      ],
      "text/latex": [
       "A data.frame: 6 × 13\n",
       "\\begin{tabular}{r|lllllllllllll}\n",
       "  & has\\_computer & no\\_computer & with\\_internet & no\\_internet & total\\_population & work\\_from\\_home & X65\\_and\\_older & median\\_income & number\\_providers & mean\\_lowest\\_cost & mean\\_d\\_mbps & mean\\_u\\_mbps & mean\\_lat\\_ms\\\\\n",
       "  & <dbl> & <dbl> & <dbl> & <dbl> & <dbl> & <dbl> & <dbl> & <dbl> & <dbl> & <dbl> & <dbl> & <dbl> & <dbl>\\\\\n",
       "\\hline\n",
       "\t1 & 1664 & 118 & 1569 & 183 & 4320 & 145 & 1337 & 73942 & 12 & 58.00000 & 110.3274 & 41.78210 & 0.05170445\\\\\n",
       "\t2 & 1872 & 142 & 1780 & 222 & 4755 & 421 & 1352 & 72988 & 13 & 60.07692 & 145.7848 & 22.88731 & 0.02462630\\\\\n",
       "\t3 & 1279 &  85 & 1156 & 192 & 3633 &   6 &  396 & 38077 & 11 & 60.00000 & 173.4079 & 27.06202 & 0.02998058\\\\\n",
       "\t4 &  941 &  53 &  805 & 180 & 2517 &  29 &  647 & 38777 &  8 & 62.50000 & 127.6005 & 23.53829 & 0.02216379\\\\\n",
       "\t5 & 1345 & 181 & 1198 & 304 & 3517 &  26 &  635 & 42639 &  8 & 62.50000 & 192.4299 & 21.68565 & 0.02166087\\\\\n",
       "\t6 & 1542 &  64 & 1392 & 203 & 3894 & 115 &  909 & 53947 &  9 & 58.88889 & 151.0552 & 23.52123 & 0.02618557\\\\\n",
       "\\end{tabular}\n"
      ],
      "text/markdown": [
       "\n",
       "A data.frame: 6 × 13\n",
       "\n",
       "| <!--/--> | has_computer &lt;dbl&gt; | no_computer &lt;dbl&gt; | with_internet &lt;dbl&gt; | no_internet &lt;dbl&gt; | total_population &lt;dbl&gt; | work_from_home &lt;dbl&gt; | X65_and_older &lt;dbl&gt; | median_income &lt;dbl&gt; | number_providers &lt;dbl&gt; | mean_lowest_cost &lt;dbl&gt; | mean_d_mbps &lt;dbl&gt; | mean_u_mbps &lt;dbl&gt; | mean_lat_ms &lt;dbl&gt; |\n",
       "|---|---|---|---|---|---|---|---|---|---|---|---|---|---|\n",
       "| 1 | 1664 | 118 | 1569 | 183 | 4320 | 145 | 1337 | 73942 | 12 | 58.00000 | 110.3274 | 41.78210 | 0.05170445 |\n",
       "| 2 | 1872 | 142 | 1780 | 222 | 4755 | 421 | 1352 | 72988 | 13 | 60.07692 | 145.7848 | 22.88731 | 0.02462630 |\n",
       "| 3 | 1279 |  85 | 1156 | 192 | 3633 |   6 |  396 | 38077 | 11 | 60.00000 | 173.4079 | 27.06202 | 0.02998058 |\n",
       "| 4 |  941 |  53 |  805 | 180 | 2517 |  29 |  647 | 38777 |  8 | 62.50000 | 127.6005 | 23.53829 | 0.02216379 |\n",
       "| 5 | 1345 | 181 | 1198 | 304 | 3517 |  26 |  635 | 42639 |  8 | 62.50000 | 192.4299 | 21.68565 | 0.02166087 |\n",
       "| 6 | 1542 |  64 | 1392 | 203 | 3894 | 115 |  909 | 53947 |  9 | 58.88889 | 151.0552 | 23.52123 | 0.02618557 |\n",
       "\n"
      ],
      "text/plain": [
       "  has_computer no_computer with_internet no_internet total_population\n",
       "1 1664         118         1569          183         4320            \n",
       "2 1872         142         1780          222         4755            \n",
       "3 1279          85         1156          192         3633            \n",
       "4  941          53          805          180         2517            \n",
       "5 1345         181         1198          304         3517            \n",
       "6 1542          64         1392          203         3894            \n",
       "  work_from_home X65_and_older median_income number_providers mean_lowest_cost\n",
       "1 145            1337          73942         12               58.00000        \n",
       "2 421            1352          72988         13               60.07692        \n",
       "3   6             396          38077         11               60.00000        \n",
       "4  29             647          38777          8               62.50000        \n",
       "5  26             635          42639          8               62.50000        \n",
       "6 115             909          53947          9               58.88889        \n",
       "  mean_d_mbps mean_u_mbps mean_lat_ms\n",
       "1 110.3274    41.78210    0.05170445 \n",
       "2 145.7848    22.88731    0.02462630 \n",
       "3 173.4079    27.06202    0.02998058 \n",
       "4 127.6005    23.53829    0.02216379 \n",
       "5 192.4299    21.68565    0.02166087 \n",
       "6 151.0552    23.52123    0.02618557 "
      ]
     },
     "metadata": {},
     "output_type": "display_data"
    }
   ],
   "source": [
    "head(data)"
   ]
  },
  {
   "attachments": {},
   "cell_type": "markdown",
   "metadata": {
    "slideshow": {
     "slide_type": "subslide"
    }
   },
   "source": [
    "#### Standardize The Data"
   ]
  },
  {
   "cell_type": "code",
   "execution_count": 14,
   "metadata": {
    "vscode": {
     "languageId": "r"
    }
   },
   "outputs": [],
   "source": [
    "data <- scale(data)"
   ]
  },
  {
   "cell_type": "code",
   "execution_count": 15,
   "metadata": {
    "slideshow": {
     "slide_type": "fragment"
    },
    "vscode": {
     "languageId": "r"
    }
   },
   "outputs": [
    {
     "data": {
      "text/html": [
       "<table class=\"dataframe\">\n",
       "<caption>A matrix: 6 × 13 of type dbl</caption>\n",
       "<thead>\n",
       "\t<tr><th scope=col>has_computer</th><th scope=col>no_computer</th><th scope=col>with_internet</th><th scope=col>no_internet</th><th scope=col>total_population</th><th scope=col>work_from_home</th><th scope=col>X65_and_older</th><th scope=col>median_income</th><th scope=col>number_providers</th><th scope=col>mean_lowest_cost</th><th scope=col>mean_d_mbps</th><th scope=col>mean_u_mbps</th><th scope=col>mean_lat_ms</th></tr>\n",
       "</thead>\n",
       "<tbody>\n",
       "\t<tr><td> 0.50245011</td><td> 0.1993596</td><td> 0.5167430</td><td>0.3205972</td><td> 0.41151922</td><td> 0.1292741</td><td> 2.23493253</td><td>0.07418486</td><td> 1.7094218</td><td>-0.18458632</td><td>-1.05913969</td><td> 0.2831385</td><td> 1.17991288</td></tr>\n",
       "\t<tr><td> 0.88153598</td><td> 0.5037000</td><td> 0.9194434</td><td>0.7032231</td><td> 0.72118268</td><td> 2.9303783</td><td> 2.28240921</td><td>0.07416551</td><td> 2.2108891</td><td> 0.41923513</td><td>-0.64056563</td><td>-0.4304467</td><td>-0.15416598</td></tr>\n",
       "\t<tr><td>-0.19922325</td><td>-0.2191085</td><td>-0.2714809</td><td>0.4088955</td><td>-0.07753548</td><td>-1.2814270</td><td>-0.74343819</td><td>0.07345717</td><td> 1.2079545</td><td> 0.39687137</td><td>-0.31447576</td><td>-0.2727836</td><td> 0.10962741</td></tr>\n",
       "\t<tr><td>-0.81523778</td><td>-0.6248957</td><td>-0.9413759</td><td>0.2911645</td><td>-0.87198242</td><td>-1.0480017</td><td> 0.05100501</td><td>0.07347137</td><td>-0.2964475</td><td> 1.12369349</td><td>-0.85523159</td><td>-0.4058615</td><td>-0.27548794</td></tr>\n",
       "\t<tr><td>-0.07893639</td><td> 0.9982532</td><td>-0.1913226</td><td>1.5077184</td><td>-0.16011240</td><td>-1.0784484</td><td> 0.01302366</td><td>0.07354973</td><td>-0.2964475</td><td> 1.12369349</td><td>-0.08992031</td><td>-0.4758288</td><td>-0.30026584</td></tr>\n",
       "\t<tr><td> 0.28010167</td><td>-0.4854063</td><td> 0.1789328</td><td>0.5168156</td><td> 0.10826259</td><td>-0.1751938</td><td> 0.88026444</td><td>0.07377917</td><td> 0.2050198</td><td> 0.07383932</td><td>-0.57834859</td><td>-0.4065058</td><td>-0.07734433</td></tr>\n",
       "</tbody>\n",
       "</table>\n"
      ],
      "text/latex": [
       "A matrix: 6 × 13 of type dbl\n",
       "\\begin{tabular}{lllllllllllll}\n",
       " has\\_computer & no\\_computer & with\\_internet & no\\_internet & total\\_population & work\\_from\\_home & X65\\_and\\_older & median\\_income & number\\_providers & mean\\_lowest\\_cost & mean\\_d\\_mbps & mean\\_u\\_mbps & mean\\_lat\\_ms\\\\\n",
       "\\hline\n",
       "\t  0.50245011 &  0.1993596 &  0.5167430 & 0.3205972 &  0.41151922 &  0.1292741 &  2.23493253 & 0.07418486 &  1.7094218 & -0.18458632 & -1.05913969 &  0.2831385 &  1.17991288\\\\\n",
       "\t  0.88153598 &  0.5037000 &  0.9194434 & 0.7032231 &  0.72118268 &  2.9303783 &  2.28240921 & 0.07416551 &  2.2108891 &  0.41923513 & -0.64056563 & -0.4304467 & -0.15416598\\\\\n",
       "\t -0.19922325 & -0.2191085 & -0.2714809 & 0.4088955 & -0.07753548 & -1.2814270 & -0.74343819 & 0.07345717 &  1.2079545 &  0.39687137 & -0.31447576 & -0.2727836 &  0.10962741\\\\\n",
       "\t -0.81523778 & -0.6248957 & -0.9413759 & 0.2911645 & -0.87198242 & -1.0480017 &  0.05100501 & 0.07347137 & -0.2964475 &  1.12369349 & -0.85523159 & -0.4058615 & -0.27548794\\\\\n",
       "\t -0.07893639 &  0.9982532 & -0.1913226 & 1.5077184 & -0.16011240 & -1.0784484 &  0.01302366 & 0.07354973 & -0.2964475 &  1.12369349 & -0.08992031 & -0.4758288 & -0.30026584\\\\\n",
       "\t  0.28010167 & -0.4854063 &  0.1789328 & 0.5168156 &  0.10826259 & -0.1751938 &  0.88026444 & 0.07377917 &  0.2050198 &  0.07383932 & -0.57834859 & -0.4065058 & -0.07734433\\\\\n",
       "\\end{tabular}\n"
      ],
      "text/markdown": [
       "\n",
       "A matrix: 6 × 13 of type dbl\n",
       "\n",
       "| has_computer | no_computer | with_internet | no_internet | total_population | work_from_home | X65_and_older | median_income | number_providers | mean_lowest_cost | mean_d_mbps | mean_u_mbps | mean_lat_ms |\n",
       "|---|---|---|---|---|---|---|---|---|---|---|---|---|\n",
       "|  0.50245011 |  0.1993596 |  0.5167430 | 0.3205972 |  0.41151922 |  0.1292741 |  2.23493253 | 0.07418486 |  1.7094218 | -0.18458632 | -1.05913969 |  0.2831385 |  1.17991288 |\n",
       "|  0.88153598 |  0.5037000 |  0.9194434 | 0.7032231 |  0.72118268 |  2.9303783 |  2.28240921 | 0.07416551 |  2.2108891 |  0.41923513 | -0.64056563 | -0.4304467 | -0.15416598 |\n",
       "| -0.19922325 | -0.2191085 | -0.2714809 | 0.4088955 | -0.07753548 | -1.2814270 | -0.74343819 | 0.07345717 |  1.2079545 |  0.39687137 | -0.31447576 | -0.2727836 |  0.10962741 |\n",
       "| -0.81523778 | -0.6248957 | -0.9413759 | 0.2911645 | -0.87198242 | -1.0480017 |  0.05100501 | 0.07347137 | -0.2964475 |  1.12369349 | -0.85523159 | -0.4058615 | -0.27548794 |\n",
       "| -0.07893639 |  0.9982532 | -0.1913226 | 1.5077184 | -0.16011240 | -1.0784484 |  0.01302366 | 0.07354973 | -0.2964475 |  1.12369349 | -0.08992031 | -0.4758288 | -0.30026584 |\n",
       "|  0.28010167 | -0.4854063 |  0.1789328 | 0.5168156 |  0.10826259 | -0.1751938 |  0.88026444 | 0.07377917 |  0.2050198 |  0.07383932 | -0.57834859 | -0.4065058 | -0.07734433 |\n",
       "\n"
      ],
      "text/plain": [
       "     has_computer no_computer with_internet no_internet total_population\n",
       "[1,]  0.50245011   0.1993596   0.5167430    0.3205972    0.41151922     \n",
       "[2,]  0.88153598   0.5037000   0.9194434    0.7032231    0.72118268     \n",
       "[3,] -0.19922325  -0.2191085  -0.2714809    0.4088955   -0.07753548     \n",
       "[4,] -0.81523778  -0.6248957  -0.9413759    0.2911645   -0.87198242     \n",
       "[5,] -0.07893639   0.9982532  -0.1913226    1.5077184   -0.16011240     \n",
       "[6,]  0.28010167  -0.4854063   0.1789328    0.5168156    0.10826259     \n",
       "     work_from_home X65_and_older median_income number_providers\n",
       "[1,]  0.1292741      2.23493253   0.07418486     1.7094218      \n",
       "[2,]  2.9303783      2.28240921   0.07416551     2.2108891      \n",
       "[3,] -1.2814270     -0.74343819   0.07345717     1.2079545      \n",
       "[4,] -1.0480017      0.05100501   0.07347137    -0.2964475      \n",
       "[5,] -1.0784484      0.01302366   0.07354973    -0.2964475      \n",
       "[6,] -0.1751938      0.88026444   0.07377917     0.2050198      \n",
       "     mean_lowest_cost mean_d_mbps mean_u_mbps mean_lat_ms\n",
       "[1,] -0.18458632      -1.05913969  0.2831385   1.17991288\n",
       "[2,]  0.41923513      -0.64056563 -0.4304467  -0.15416598\n",
       "[3,]  0.39687137      -0.31447576 -0.2727836   0.10962741\n",
       "[4,]  1.12369349      -0.85523159 -0.4058615  -0.27548794\n",
       "[5,]  1.12369349      -0.08992031 -0.4758288  -0.30026584\n",
       "[6,]  0.07383932      -0.57834859 -0.4065058  -0.07734433"
      ]
     },
     "metadata": {},
     "output_type": "display_data"
    }
   ],
   "source": [
    "head(data)"
   ]
  },
  {
   "attachments": {},
   "cell_type": "markdown",
   "metadata": {
    "slideshow": {
     "slide_type": "subslide"
    }
   },
   "source": [
    "### Examine The Data"
   ]
  },
  {
   "attachments": {},
   "cell_type": "markdown",
   "metadata": {
    "slideshow": {
     "slide_type": "subslide"
    }
   },
   "source": [
    "#### Variance"
   ]
  },
  {
   "cell_type": "code",
   "execution_count": 48,
   "metadata": {
    "vscode": {
     "languageId": "r"
    }
   },
   "outputs": [
    {
     "data": {
      "text/html": [
       "<table class=\"dataframe\">\n",
       "<caption>A matrix: 13 × 13 of type dbl</caption>\n",
       "<thead>\n",
       "\t<tr><th></th><th scope=col>has_computer</th><th scope=col>no_computer</th><th scope=col>with_internet</th><th scope=col>no_internet</th><th scope=col>total_population</th><th scope=col>work_from_home</th><th scope=col>X65_and_older</th><th scope=col>median_income</th><th scope=col>number_providers</th><th scope=col>mean_lowest_cost</th><th scope=col>mean_d_mbps</th><th scope=col>mean_u_mbps</th><th scope=col>mean_lat_ms</th></tr>\n",
       "</thead>\n",
       "<tbody>\n",
       "\t<tr><th scope=row>has_computer</th><td>    301058.907945</td><td>    10949.94019096</td><td>    284455.115295</td><td>    18792.1572690</td><td>    684210.393803</td><td>    23222.08818231</td><td>    109341.33814</td><td>      4405779295.48</td><td>   -126.78061441</td><td>     205.41564659</td><td>     14201.32198</td><td>     2854.5953651</td><td>   -2.2419278467</td></tr>\n",
       "\t<tr><th scope=row>no_computer</th><td>     10949.940191</td><td>     6218.75157629</td><td>      9210.095929</td><td>     6523.5689966</td><td>     22142.924068</td><td>     -805.06800576</td><td>     10876.40029</td><td>       333704893.45</td><td>     -0.63195920</td><td>     -21.69216067</td><td>        33.61976</td><td>      -17.2536125</td><td>   -0.0482735762</td></tr>\n",
       "\t<tr><th scope=row>with_internet</th><td>    284455.115295</td><td>     9210.09592866</td><td>    274536.955684</td><td>    13357.9202846</td><td>    650724.344442</td><td>    22933.27580616</td><td>    103512.83607</td><td>      4142397601.24</td><td>   -134.60570093</td><td>     245.83576857</td><td>     15316.03603</td><td>     2761.7476115</td><td>   -2.5174842443</td></tr>\n",
       "\t<tr><th scope=row>no_internet</th><td>     18792.157269</td><td>     6523.56899658</td><td>     13357.920285</td><td>    10389.1647151</td><td>     36342.224374</td><td>     -678.65096379</td><td>     14858.36687</td><td>       443523853.39</td><td>     11.98026835</td><td>     -32.96527478</td><td>     -1449.38567</td><td>     -207.4160412</td><td>    0.3251750647</td></tr>\n",
       "\t<tr><th scope=row>total_population</th><td>    684210.393803</td><td>    22142.92406774</td><td>    650724.344442</td><td>    36342.2243740</td><td>   1973324.910827</td><td>    64440.91172762</td><td>    245267.02900</td><td>      1972502343.38</td><td>   -341.12922713</td><td>     343.22801159</td><td>     31981.96629</td><td>     6227.6260066</td><td>   -4.0425694971</td></tr>\n",
       "\t<tr><th scope=row>work_from_home</th><td>     23222.088182</td><td>     -805.06800576</td><td>     22933.275806</td><td>     -678.6509638</td><td>     64440.911728</td><td>     9708.66708701</td><td>     12164.18961</td><td>       177917690.36</td><td>      5.77657701</td><td>      -2.10464935</td><td>       262.43919</td><td>     -153.0935015</td><td>    0.0170911452</td></tr>\n",
       "\t<tr><th scope=row>X65_and_older</th><td>    109341.338137</td><td>    10876.40028824</td><td>    103512.836066</td><td>    14858.3668708</td><td>    245267.029004</td><td>    12164.18960548</td><td>     99820.95929</td><td>      2313014891.60</td><td>     33.34797523</td><td>      54.88136070</td><td>     -1132.81948</td><td>    -1415.5542300</td><td>    0.6542199624</td></tr>\n",
       "\t<tr><th scope=row>median_income</th><td>4405779295.484147</td><td>333704893.44937849</td><td>4142397601.238786</td><td>443523853.3858464</td><td>1972502343.380112</td><td>177917690.36056566</td><td>2313014891.60358</td><td>2429103078445496.50</td><td>2161846.46997754</td><td>-9116537.28862861</td><td>-199287631.10603</td><td>-23698242.2800123</td><td>58542.3442640970</td></tr>\n",
       "\t<tr><th scope=row>number_providers</th><td>      -126.780614</td><td>       -0.63195920</td><td>      -134.605701</td><td>       11.9802684</td><td>      -341.129227</td><td>        5.77657701</td><td>        33.34798</td><td>         2161846.47</td><td>      3.97662558</td><td>      -2.25979825</td><td>       -81.11875</td><td>       -0.8592439</td><td>    0.0180846658</td></tr>\n",
       "\t<tr><th scope=row>mean_lowest_cost</th><td>       205.415647</td><td>      -21.69216067</td><td>       245.835769</td><td>      -32.9652748</td><td>       343.228012</td><td>       -2.10464935</td><td>        54.88136</td><td>        -9116537.29</td><td>     -2.25979825</td><td>      11.83106251</td><td>        57.29602</td><td>        7.6835698</td><td>   -0.0126429161</td></tr>\n",
       "\t<tr><th scope=row>mean_d_mbps</th><td>     14201.321980</td><td>       33.61975576</td><td>     15316.036032</td><td>    -1449.3856721</td><td>     31981.966291</td><td>      262.43919066</td><td>     -1132.81948</td><td>      -199287631.11</td><td>    -81.11874522</td><td>      57.29602312</td><td>      7175.77810</td><td>      907.0716112</td><td>   -1.4297701033</td></tr>\n",
       "\t<tr><th scope=row>mean_u_mbps</th><td>      2854.595365</td><td>      -17.25361253</td><td>      2761.747612</td><td>     -207.4160412</td><td>      6227.626007</td><td>     -153.09350146</td><td>     -1415.55423</td><td>       -23698242.28</td><td>     -0.85924391</td><td>       7.68356983</td><td>       907.07161</td><td>      701.1203579</td><td>   -0.2263428832</td></tr>\n",
       "\t<tr><th scope=row>mean_lat_ms</th><td>        -2.241928</td><td>       -0.04827358</td><td>        -2.517484</td><td>        0.3251751</td><td>        -4.042569</td><td>        0.01709115</td><td>         0.65422</td><td>           58542.34</td><td>      0.01808467</td><td>      -0.01264292</td><td>        -1.42977</td><td>       -0.2263429</td><td>    0.0004119791</td></tr>\n",
       "</tbody>\n",
       "</table>\n"
      ],
      "text/latex": [
       "A matrix: 13 × 13 of type dbl\n",
       "\\begin{tabular}{r|lllllllllllll}\n",
       "  & has\\_computer & no\\_computer & with\\_internet & no\\_internet & total\\_population & work\\_from\\_home & X65\\_and\\_older & median\\_income & number\\_providers & mean\\_lowest\\_cost & mean\\_d\\_mbps & mean\\_u\\_mbps & mean\\_lat\\_ms\\\\\n",
       "\\hline\n",
       "\thas\\_computer &     301058.907945 &     10949.94019096 &     284455.115295 &     18792.1572690 &     684210.393803 &     23222.08818231 &     109341.33814 &       4405779295.48 &    -126.78061441 &      205.41564659 &      14201.32198 &      2854.5953651 &    -2.2419278467\\\\\n",
       "\tno\\_computer &      10949.940191 &      6218.75157629 &       9210.095929 &      6523.5689966 &      22142.924068 &      -805.06800576 &      10876.40029 &        333704893.45 &      -0.63195920 &      -21.69216067 &         33.61976 &       -17.2536125 &    -0.0482735762\\\\\n",
       "\twith\\_internet &     284455.115295 &      9210.09592866 &     274536.955684 &     13357.9202846 &     650724.344442 &     22933.27580616 &     103512.83607 &       4142397601.24 &    -134.60570093 &      245.83576857 &      15316.03603 &      2761.7476115 &    -2.5174842443\\\\\n",
       "\tno\\_internet &      18792.157269 &      6523.56899658 &      13357.920285 &     10389.1647151 &      36342.224374 &      -678.65096379 &      14858.36687 &        443523853.39 &      11.98026835 &      -32.96527478 &      -1449.38567 &      -207.4160412 &     0.3251750647\\\\\n",
       "\ttotal\\_population &     684210.393803 &     22142.92406774 &     650724.344442 &     36342.2243740 &    1973324.910827 &     64440.91172762 &     245267.02900 &       1972502343.38 &    -341.12922713 &      343.22801159 &      31981.96629 &      6227.6260066 &    -4.0425694971\\\\\n",
       "\twork\\_from\\_home &      23222.088182 &      -805.06800576 &      22933.275806 &      -678.6509638 &      64440.911728 &      9708.66708701 &      12164.18961 &        177917690.36 &       5.77657701 &       -2.10464935 &        262.43919 &      -153.0935015 &     0.0170911452\\\\\n",
       "\tX65\\_and\\_older &     109341.338137 &     10876.40028824 &     103512.836066 &     14858.3668708 &     245267.029004 &     12164.18960548 &      99820.95929 &       2313014891.60 &      33.34797523 &       54.88136070 &      -1132.81948 &     -1415.5542300 &     0.6542199624\\\\\n",
       "\tmedian\\_income & 4405779295.484147 & 333704893.44937849 & 4142397601.238786 & 443523853.3858464 & 1972502343.380112 & 177917690.36056566 & 2313014891.60358 & 2429103078445496.50 & 2161846.46997754 & -9116537.28862861 & -199287631.10603 & -23698242.2800123 & 58542.3442640970\\\\\n",
       "\tnumber\\_providers &       -126.780614 &        -0.63195920 &       -134.605701 &        11.9802684 &       -341.129227 &         5.77657701 &         33.34798 &          2161846.47 &       3.97662558 &       -2.25979825 &        -81.11875 &        -0.8592439 &     0.0180846658\\\\\n",
       "\tmean\\_lowest\\_cost &        205.415647 &       -21.69216067 &        245.835769 &       -32.9652748 &        343.228012 &        -2.10464935 &         54.88136 &         -9116537.29 &      -2.25979825 &       11.83106251 &         57.29602 &         7.6835698 &    -0.0126429161\\\\\n",
       "\tmean\\_d\\_mbps &      14201.321980 &        33.61975576 &      15316.036032 &     -1449.3856721 &      31981.966291 &       262.43919066 &      -1132.81948 &       -199287631.11 &     -81.11874522 &       57.29602312 &       7175.77810 &       907.0716112 &    -1.4297701033\\\\\n",
       "\tmean\\_u\\_mbps &       2854.595365 &       -17.25361253 &       2761.747612 &      -207.4160412 &       6227.626007 &      -153.09350146 &      -1415.55423 &        -23698242.28 &      -0.85924391 &        7.68356983 &        907.07161 &       701.1203579 &    -0.2263428832\\\\\n",
       "\tmean\\_lat\\_ms &         -2.241928 &        -0.04827358 &         -2.517484 &         0.3251751 &         -4.042569 &         0.01709115 &          0.65422 &            58542.34 &       0.01808467 &       -0.01264292 &         -1.42977 &        -0.2263429 &     0.0004119791\\\\\n",
       "\\end{tabular}\n"
      ],
      "text/markdown": [
       "\n",
       "A matrix: 13 × 13 of type dbl\n",
       "\n",
       "| <!--/--> | has_computer | no_computer | with_internet | no_internet | total_population | work_from_home | X65_and_older | median_income | number_providers | mean_lowest_cost | mean_d_mbps | mean_u_mbps | mean_lat_ms |\n",
       "|---|---|---|---|---|---|---|---|---|---|---|---|---|---|\n",
       "| has_computer |     301058.907945 |     10949.94019096 |     284455.115295 |     18792.1572690 |     684210.393803 |     23222.08818231 |     109341.33814 |       4405779295.48 |    -126.78061441 |      205.41564659 |      14201.32198 |      2854.5953651 |    -2.2419278467 |\n",
       "| no_computer |      10949.940191 |      6218.75157629 |       9210.095929 |      6523.5689966 |      22142.924068 |      -805.06800576 |      10876.40029 |        333704893.45 |      -0.63195920 |      -21.69216067 |         33.61976 |       -17.2536125 |    -0.0482735762 |\n",
       "| with_internet |     284455.115295 |      9210.09592866 |     274536.955684 |     13357.9202846 |     650724.344442 |     22933.27580616 |     103512.83607 |       4142397601.24 |    -134.60570093 |      245.83576857 |      15316.03603 |      2761.7476115 |    -2.5174842443 |\n",
       "| no_internet |      18792.157269 |      6523.56899658 |      13357.920285 |     10389.1647151 |      36342.224374 |      -678.65096379 |      14858.36687 |        443523853.39 |      11.98026835 |      -32.96527478 |      -1449.38567 |      -207.4160412 |     0.3251750647 |\n",
       "| total_population |     684210.393803 |     22142.92406774 |     650724.344442 |     36342.2243740 |    1973324.910827 |     64440.91172762 |     245267.02900 |       1972502343.38 |    -341.12922713 |      343.22801159 |      31981.96629 |      6227.6260066 |    -4.0425694971 |\n",
       "| work_from_home |      23222.088182 |      -805.06800576 |      22933.275806 |      -678.6509638 |      64440.911728 |      9708.66708701 |      12164.18961 |        177917690.36 |       5.77657701 |       -2.10464935 |        262.43919 |      -153.0935015 |     0.0170911452 |\n",
       "| X65_and_older |     109341.338137 |     10876.40028824 |     103512.836066 |     14858.3668708 |     245267.029004 |     12164.18960548 |      99820.95929 |       2313014891.60 |      33.34797523 |       54.88136070 |      -1132.81948 |     -1415.5542300 |     0.6542199624 |\n",
       "| median_income | 4405779295.484147 | 333704893.44937849 | 4142397601.238786 | 443523853.3858464 | 1972502343.380112 | 177917690.36056566 | 2313014891.60358 | 2429103078445496.50 | 2161846.46997754 | -9116537.28862861 | -199287631.10603 | -23698242.2800123 | 58542.3442640970 |\n",
       "| number_providers |       -126.780614 |        -0.63195920 |       -134.605701 |        11.9802684 |       -341.129227 |         5.77657701 |         33.34798 |          2161846.47 |       3.97662558 |       -2.25979825 |        -81.11875 |        -0.8592439 |     0.0180846658 |\n",
       "| mean_lowest_cost |        205.415647 |       -21.69216067 |        245.835769 |       -32.9652748 |        343.228012 |        -2.10464935 |         54.88136 |         -9116537.29 |      -2.25979825 |       11.83106251 |         57.29602 |         7.6835698 |    -0.0126429161 |\n",
       "| mean_d_mbps |      14201.321980 |        33.61975576 |      15316.036032 |     -1449.3856721 |      31981.966291 |       262.43919066 |      -1132.81948 |       -199287631.11 |     -81.11874522 |       57.29602312 |       7175.77810 |       907.0716112 |    -1.4297701033 |\n",
       "| mean_u_mbps |       2854.595365 |       -17.25361253 |       2761.747612 |      -207.4160412 |       6227.626007 |      -153.09350146 |      -1415.55423 |        -23698242.28 |      -0.85924391 |        7.68356983 |        907.07161 |       701.1203579 |    -0.2263428832 |\n",
       "| mean_lat_ms |         -2.241928 |        -0.04827358 |         -2.517484 |         0.3251751 |         -4.042569 |         0.01709115 |          0.65422 |            58542.34 |       0.01808467 |       -0.01264292 |         -1.42977 |        -0.2263429 |     0.0004119791 |\n",
       "\n"
      ],
      "text/plain": [
       "                 has_computer      no_computer        with_internet    \n",
       "has_computer         301058.907945     10949.94019096     284455.115295\n",
       "no_computer           10949.940191      6218.75157629       9210.095929\n",
       "with_internet        284455.115295      9210.09592866     274536.955684\n",
       "no_internet           18792.157269      6523.56899658      13357.920285\n",
       "total_population     684210.393803     22142.92406774     650724.344442\n",
       "work_from_home        23222.088182      -805.06800576      22933.275806\n",
       "X65_and_older        109341.338137     10876.40028824     103512.836066\n",
       "median_income    4405779295.484147 333704893.44937849 4142397601.238786\n",
       "number_providers       -126.780614        -0.63195920       -134.605701\n",
       "mean_lowest_cost        205.415647       -21.69216067        245.835769\n",
       "mean_d_mbps           14201.321980        33.61975576      15316.036032\n",
       "mean_u_mbps            2854.595365       -17.25361253       2761.747612\n",
       "mean_lat_ms              -2.241928        -0.04827358         -2.517484\n",
       "                 no_internet       total_population  work_from_home    \n",
       "has_computer         18792.1572690     684210.393803     23222.08818231\n",
       "no_computer           6523.5689966      22142.924068      -805.06800576\n",
       "with_internet        13357.9202846     650724.344442     22933.27580616\n",
       "no_internet          10389.1647151      36342.224374      -678.65096379\n",
       "total_population     36342.2243740    1973324.910827     64440.91172762\n",
       "work_from_home        -678.6509638      64440.911728      9708.66708701\n",
       "X65_and_older        14858.3668708     245267.029004     12164.18960548\n",
       "median_income    443523853.3858464 1972502343.380112 177917690.36056566\n",
       "number_providers        11.9802684       -341.129227         5.77657701\n",
       "mean_lowest_cost       -32.9652748        343.228012        -2.10464935\n",
       "mean_d_mbps          -1449.3856721      31981.966291       262.43919066\n",
       "mean_u_mbps           -207.4160412       6227.626007      -153.09350146\n",
       "mean_lat_ms              0.3251751         -4.042569         0.01709115\n",
       "                 X65_and_older    median_income       number_providers\n",
       "has_computer         109341.33814       4405779295.48    -126.78061441\n",
       "no_computer           10876.40029        333704893.45      -0.63195920\n",
       "with_internet        103512.83607       4142397601.24    -134.60570093\n",
       "no_internet           14858.36687        443523853.39      11.98026835\n",
       "total_population     245267.02900       1972502343.38    -341.12922713\n",
       "work_from_home        12164.18961        177917690.36       5.77657701\n",
       "X65_and_older         99820.95929       2313014891.60      33.34797523\n",
       "median_income    2313014891.60358 2429103078445496.50 2161846.46997754\n",
       "number_providers         33.34798          2161846.47       3.97662558\n",
       "mean_lowest_cost         54.88136         -9116537.29      -2.25979825\n",
       "mean_d_mbps           -1132.81948       -199287631.11     -81.11874522\n",
       "mean_u_mbps           -1415.55423        -23698242.28      -0.85924391\n",
       "mean_lat_ms               0.65422            58542.34       0.01808467\n",
       "                 mean_lowest_cost  mean_d_mbps      mean_u_mbps      \n",
       "has_computer          205.41564659      14201.32198      2854.5953651\n",
       "no_computer           -21.69216067         33.61976       -17.2536125\n",
       "with_internet         245.83576857      15316.03603      2761.7476115\n",
       "no_internet           -32.96527478      -1449.38567      -207.4160412\n",
       "total_population      343.22801159      31981.96629      6227.6260066\n",
       "work_from_home         -2.10464935        262.43919      -153.0935015\n",
       "X65_and_older          54.88136070      -1132.81948     -1415.5542300\n",
       "median_income    -9116537.28862861 -199287631.10603 -23698242.2800123\n",
       "number_providers       -2.25979825        -81.11875        -0.8592439\n",
       "mean_lowest_cost       11.83106251         57.29602         7.6835698\n",
       "mean_d_mbps            57.29602312       7175.77810       907.0716112\n",
       "mean_u_mbps             7.68356983        907.07161       701.1203579\n",
       "mean_lat_ms            -0.01264292         -1.42977        -0.2263429\n",
       "                 mean_lat_ms     \n",
       "has_computer        -2.2419278467\n",
       "no_computer         -0.0482735762\n",
       "with_internet       -2.5174842443\n",
       "no_internet          0.3251750647\n",
       "total_population    -4.0425694971\n",
       "work_from_home       0.0170911452\n",
       "X65_and_older        0.6542199624\n",
       "median_income    58542.3442640970\n",
       "number_providers     0.0180846658\n",
       "mean_lowest_cost    -0.0126429161\n",
       "mean_d_mbps         -1.4297701033\n",
       "mean_u_mbps         -0.2263428832\n",
       "mean_lat_ms          0.0004119791"
      ]
     },
     "metadata": {},
     "output_type": "display_data"
    }
   ],
   "source": [
    "var(data)"
   ]
  },
  {
   "attachments": {},
   "cell_type": "markdown",
   "metadata": {
    "slideshow": {
     "slide_type": "subslide"
    }
   },
   "source": [
    "#### Correlation"
   ]
  },
  {
   "cell_type": "code",
   "execution_count": 49,
   "metadata": {
    "vscode": {
     "languageId": "r"
    }
   },
   "outputs": [
    {
     "data": {
      "text/html": [
       "<table class=\"dataframe\">\n",
       "<caption>A matrix: 13 × 13 of type dbl</caption>\n",
       "<thead>\n",
       "\t<tr><th></th><th scope=col>has_computer</th><th scope=col>no_computer</th><th scope=col>with_internet</th><th scope=col>no_internet</th><th scope=col>total_population</th><th scope=col>work_from_home</th><th scope=col>X65_and_older</th><th scope=col>median_income</th><th scope=col>number_providers</th><th scope=col>mean_lowest_cost</th><th scope=col>mean_d_mbps</th><th scope=col>mean_u_mbps</th><th scope=col>mean_lat_ms</th></tr>\n",
       "</thead>\n",
       "<tbody>\n",
       "\t<tr><th scope=row>has_computer</th><td> 1.0000000</td><td> 0.253066350</td><td> 0.9894358</td><td> 0.33601648</td><td> 0.88769674</td><td> 0.429532198</td><td> 0.63073622</td><td> 0.16291986</td><td>-0.115869667</td><td> 0.10884185</td><td> 0.305540323</td><td> 0.196481890</td><td>-0.201306736</td></tr>\n",
       "\t<tr><th scope=row>no_computer</th><td> 0.2530664</td><td> 1.000000000</td><td> 0.2229011</td><td> 0.81160243</td><td> 0.19988678</td><td>-0.103609877</td><td> 0.43653866</td><td> 0.08585943</td><td>-0.004018649</td><td>-0.07997225</td><td> 0.005032786</td><td>-0.008262893</td><td>-0.030159233</td></tr>\n",
       "\t<tr><th scope=row>with_internet</th><td> 0.9894358</td><td> 0.222901065</td><td> 1.0000000</td><td> 0.25011983</td><td> 0.88409177</td><td> 0.444207496</td><td> 0.62529208</td><td> 0.16040888</td><td>-0.128826645</td><td> 0.13640579</td><td> 0.345073392</td><td> 0.199061509</td><td>-0.236716631</td></tr>\n",
       "\t<tr><th scope=row>no_internet</th><td> 0.3360165</td><td> 0.811602433</td><td> 0.2501198</td><td> 1.00000000</td><td> 0.25381769</td><td>-0.067573490</td><td> 0.46139182</td><td> 0.08828841</td><td> 0.058941187</td><td>-0.09402742</td><td>-0.167864611</td><td>-0.076852099</td><td> 0.157177123</td></tr>\n",
       "\t<tr><th scope=row>total_population</th><td> 0.8876967</td><td> 0.199886778</td><td> 0.8840918</td><td> 0.25381769</td><td> 1.00000000</td><td> 0.465567411</td><td> 0.55262306</td><td> 0.02849018</td><td>-0.121776161</td><td> 0.07103486</td><td> 0.268764165</td><td> 0.167427555</td><td>-0.141781841</td></tr>\n",
       "\t<tr><th scope=row>work_from_home</th><td> 0.4295322</td><td>-0.103609877</td><td> 0.4442075</td><td>-0.06757349</td><td> 0.46556741</td><td> 1.000000000</td><td> 0.39074417</td><td> 0.03663670</td><td> 0.029399058</td><td>-0.00620995</td><td> 0.031442306</td><td>-0.058678724</td><td> 0.008545821</td></tr>\n",
       "\t<tr><th scope=row>X65_and_older</th><td> 0.6307362</td><td> 0.436538658</td><td> 0.6252921</td><td> 0.46139182</td><td> 0.55262306</td><td> 0.390744170</td><td> 1.00000000</td><td> 0.14854040</td><td> 0.052929921</td><td> 0.05050125</td><td>-0.042326790</td><td>-0.169207400</td><td> 0.102017655</td></tr>\n",
       "\t<tr><th scope=row>median_income</th><td> 0.1629199</td><td> 0.085859430</td><td> 0.1604089</td><td> 0.08828841</td><td> 0.02849018</td><td> 0.036636701</td><td> 0.14854040</td><td> 1.00000000</td><td> 0.021996041</td><td>-0.05377681</td><td>-0.047733455</td><td>-0.018159207</td><td> 0.058520706</td></tr>\n",
       "\t<tr><th scope=row>number_providers</th><td>-0.1158697</td><td>-0.004018649</td><td>-0.1288266</td><td> 0.05894119</td><td>-0.12177616</td><td> 0.029399058</td><td> 0.05292992</td><td> 0.02199604</td><td> 1.000000000</td><td>-0.32945829</td><td>-0.480207980</td><td>-0.016272820</td><td> 0.446802457</td></tr>\n",
       "\t<tr><th scope=row>mean_lowest_cost</th><td> 0.1088418</td><td>-0.079972253</td><td> 0.1364058</td><td>-0.09402742</td><td> 0.07103486</td><td>-0.006209950</td><td> 0.05050125</td><td>-0.05377681</td><td>-0.329458291</td><td> 1.00000000</td><td> 0.196642825</td><td> 0.084363556</td><td>-0.181091388</td></tr>\n",
       "\t<tr><th scope=row>mean_d_mbps</th><td> 0.3055403</td><td> 0.005032786</td><td> 0.3450734</td><td>-0.16786461</td><td> 0.26876416</td><td> 0.031442306</td><td>-0.04232679</td><td>-0.04773346</td><td>-0.480207980</td><td> 0.19664282</td><td> 1.000000000</td><td> 0.404399664</td><td>-0.831561029</td></tr>\n",
       "\t<tr><th scope=row>mean_u_mbps</th><td> 0.1964819</td><td>-0.008262893</td><td> 0.1990615</td><td>-0.07685210</td><td> 0.16742756</td><td>-0.058678724</td><td>-0.16920740</td><td>-0.01815921</td><td>-0.016272820</td><td> 0.08436356</td><td> 0.404399664</td><td> 1.000000000</td><td>-0.421146282</td></tr>\n",
       "\t<tr><th scope=row>mean_lat_ms</th><td>-0.2013067</td><td>-0.030159233</td><td>-0.2367166</td><td> 0.15717712</td><td>-0.14178184</td><td> 0.008545821</td><td> 0.10201766</td><td> 0.05852071</td><td> 0.446802457</td><td>-0.18109139</td><td>-0.831561029</td><td>-0.421146282</td><td> 1.000000000</td></tr>\n",
       "</tbody>\n",
       "</table>\n"
      ],
      "text/latex": [
       "A matrix: 13 × 13 of type dbl\n",
       "\\begin{tabular}{r|lllllllllllll}\n",
       "  & has\\_computer & no\\_computer & with\\_internet & no\\_internet & total\\_population & work\\_from\\_home & X65\\_and\\_older & median\\_income & number\\_providers & mean\\_lowest\\_cost & mean\\_d\\_mbps & mean\\_u\\_mbps & mean\\_lat\\_ms\\\\\n",
       "\\hline\n",
       "\thas\\_computer &  1.0000000 &  0.253066350 &  0.9894358 &  0.33601648 &  0.88769674 &  0.429532198 &  0.63073622 &  0.16291986 & -0.115869667 &  0.10884185 &  0.305540323 &  0.196481890 & -0.201306736\\\\\n",
       "\tno\\_computer &  0.2530664 &  1.000000000 &  0.2229011 &  0.81160243 &  0.19988678 & -0.103609877 &  0.43653866 &  0.08585943 & -0.004018649 & -0.07997225 &  0.005032786 & -0.008262893 & -0.030159233\\\\\n",
       "\twith\\_internet &  0.9894358 &  0.222901065 &  1.0000000 &  0.25011983 &  0.88409177 &  0.444207496 &  0.62529208 &  0.16040888 & -0.128826645 &  0.13640579 &  0.345073392 &  0.199061509 & -0.236716631\\\\\n",
       "\tno\\_internet &  0.3360165 &  0.811602433 &  0.2501198 &  1.00000000 &  0.25381769 & -0.067573490 &  0.46139182 &  0.08828841 &  0.058941187 & -0.09402742 & -0.167864611 & -0.076852099 &  0.157177123\\\\\n",
       "\ttotal\\_population &  0.8876967 &  0.199886778 &  0.8840918 &  0.25381769 &  1.00000000 &  0.465567411 &  0.55262306 &  0.02849018 & -0.121776161 &  0.07103486 &  0.268764165 &  0.167427555 & -0.141781841\\\\\n",
       "\twork\\_from\\_home &  0.4295322 & -0.103609877 &  0.4442075 & -0.06757349 &  0.46556741 &  1.000000000 &  0.39074417 &  0.03663670 &  0.029399058 & -0.00620995 &  0.031442306 & -0.058678724 &  0.008545821\\\\\n",
       "\tX65\\_and\\_older &  0.6307362 &  0.436538658 &  0.6252921 &  0.46139182 &  0.55262306 &  0.390744170 &  1.00000000 &  0.14854040 &  0.052929921 &  0.05050125 & -0.042326790 & -0.169207400 &  0.102017655\\\\\n",
       "\tmedian\\_income &  0.1629199 &  0.085859430 &  0.1604089 &  0.08828841 &  0.02849018 &  0.036636701 &  0.14854040 &  1.00000000 &  0.021996041 & -0.05377681 & -0.047733455 & -0.018159207 &  0.058520706\\\\\n",
       "\tnumber\\_providers & -0.1158697 & -0.004018649 & -0.1288266 &  0.05894119 & -0.12177616 &  0.029399058 &  0.05292992 &  0.02199604 &  1.000000000 & -0.32945829 & -0.480207980 & -0.016272820 &  0.446802457\\\\\n",
       "\tmean\\_lowest\\_cost &  0.1088418 & -0.079972253 &  0.1364058 & -0.09402742 &  0.07103486 & -0.006209950 &  0.05050125 & -0.05377681 & -0.329458291 &  1.00000000 &  0.196642825 &  0.084363556 & -0.181091388\\\\\n",
       "\tmean\\_d\\_mbps &  0.3055403 &  0.005032786 &  0.3450734 & -0.16786461 &  0.26876416 &  0.031442306 & -0.04232679 & -0.04773346 & -0.480207980 &  0.19664282 &  1.000000000 &  0.404399664 & -0.831561029\\\\\n",
       "\tmean\\_u\\_mbps &  0.1964819 & -0.008262893 &  0.1990615 & -0.07685210 &  0.16742756 & -0.058678724 & -0.16920740 & -0.01815921 & -0.016272820 &  0.08436356 &  0.404399664 &  1.000000000 & -0.421146282\\\\\n",
       "\tmean\\_lat\\_ms & -0.2013067 & -0.030159233 & -0.2367166 &  0.15717712 & -0.14178184 &  0.008545821 &  0.10201766 &  0.05852071 &  0.446802457 & -0.18109139 & -0.831561029 & -0.421146282 &  1.000000000\\\\\n",
       "\\end{tabular}\n"
      ],
      "text/markdown": [
       "\n",
       "A matrix: 13 × 13 of type dbl\n",
       "\n",
       "| <!--/--> | has_computer | no_computer | with_internet | no_internet | total_population | work_from_home | X65_and_older | median_income | number_providers | mean_lowest_cost | mean_d_mbps | mean_u_mbps | mean_lat_ms |\n",
       "|---|---|---|---|---|---|---|---|---|---|---|---|---|---|\n",
       "| has_computer |  1.0000000 |  0.253066350 |  0.9894358 |  0.33601648 |  0.88769674 |  0.429532198 |  0.63073622 |  0.16291986 | -0.115869667 |  0.10884185 |  0.305540323 |  0.196481890 | -0.201306736 |\n",
       "| no_computer |  0.2530664 |  1.000000000 |  0.2229011 |  0.81160243 |  0.19988678 | -0.103609877 |  0.43653866 |  0.08585943 | -0.004018649 | -0.07997225 |  0.005032786 | -0.008262893 | -0.030159233 |\n",
       "| with_internet |  0.9894358 |  0.222901065 |  1.0000000 |  0.25011983 |  0.88409177 |  0.444207496 |  0.62529208 |  0.16040888 | -0.128826645 |  0.13640579 |  0.345073392 |  0.199061509 | -0.236716631 |\n",
       "| no_internet |  0.3360165 |  0.811602433 |  0.2501198 |  1.00000000 |  0.25381769 | -0.067573490 |  0.46139182 |  0.08828841 |  0.058941187 | -0.09402742 | -0.167864611 | -0.076852099 |  0.157177123 |\n",
       "| total_population |  0.8876967 |  0.199886778 |  0.8840918 |  0.25381769 |  1.00000000 |  0.465567411 |  0.55262306 |  0.02849018 | -0.121776161 |  0.07103486 |  0.268764165 |  0.167427555 | -0.141781841 |\n",
       "| work_from_home |  0.4295322 | -0.103609877 |  0.4442075 | -0.06757349 |  0.46556741 |  1.000000000 |  0.39074417 |  0.03663670 |  0.029399058 | -0.00620995 |  0.031442306 | -0.058678724 |  0.008545821 |\n",
       "| X65_and_older |  0.6307362 |  0.436538658 |  0.6252921 |  0.46139182 |  0.55262306 |  0.390744170 |  1.00000000 |  0.14854040 |  0.052929921 |  0.05050125 | -0.042326790 | -0.169207400 |  0.102017655 |\n",
       "| median_income |  0.1629199 |  0.085859430 |  0.1604089 |  0.08828841 |  0.02849018 |  0.036636701 |  0.14854040 |  1.00000000 |  0.021996041 | -0.05377681 | -0.047733455 | -0.018159207 |  0.058520706 |\n",
       "| number_providers | -0.1158697 | -0.004018649 | -0.1288266 |  0.05894119 | -0.12177616 |  0.029399058 |  0.05292992 |  0.02199604 |  1.000000000 | -0.32945829 | -0.480207980 | -0.016272820 |  0.446802457 |\n",
       "| mean_lowest_cost |  0.1088418 | -0.079972253 |  0.1364058 | -0.09402742 |  0.07103486 | -0.006209950 |  0.05050125 | -0.05377681 | -0.329458291 |  1.00000000 |  0.196642825 |  0.084363556 | -0.181091388 |\n",
       "| mean_d_mbps |  0.3055403 |  0.005032786 |  0.3450734 | -0.16786461 |  0.26876416 |  0.031442306 | -0.04232679 | -0.04773346 | -0.480207980 |  0.19664282 |  1.000000000 |  0.404399664 | -0.831561029 |\n",
       "| mean_u_mbps |  0.1964819 | -0.008262893 |  0.1990615 | -0.07685210 |  0.16742756 | -0.058678724 | -0.16920740 | -0.01815921 | -0.016272820 |  0.08436356 |  0.404399664 |  1.000000000 | -0.421146282 |\n",
       "| mean_lat_ms | -0.2013067 | -0.030159233 | -0.2367166 |  0.15717712 | -0.14178184 |  0.008545821 |  0.10201766 |  0.05852071 |  0.446802457 | -0.18109139 | -0.831561029 | -0.421146282 |  1.000000000 |\n",
       "\n"
      ],
      "text/plain": [
       "                 has_computer no_computer  with_internet no_internet\n",
       "has_computer      1.0000000    0.253066350  0.9894358     0.33601648\n",
       "no_computer       0.2530664    1.000000000  0.2229011     0.81160243\n",
       "with_internet     0.9894358    0.222901065  1.0000000     0.25011983\n",
       "no_internet       0.3360165    0.811602433  0.2501198     1.00000000\n",
       "total_population  0.8876967    0.199886778  0.8840918     0.25381769\n",
       "work_from_home    0.4295322   -0.103609877  0.4442075    -0.06757349\n",
       "X65_and_older     0.6307362    0.436538658  0.6252921     0.46139182\n",
       "median_income     0.1629199    0.085859430  0.1604089     0.08828841\n",
       "number_providers -0.1158697   -0.004018649 -0.1288266     0.05894119\n",
       "mean_lowest_cost  0.1088418   -0.079972253  0.1364058    -0.09402742\n",
       "mean_d_mbps       0.3055403    0.005032786  0.3450734    -0.16786461\n",
       "mean_u_mbps       0.1964819   -0.008262893  0.1990615    -0.07685210\n",
       "mean_lat_ms      -0.2013067   -0.030159233 -0.2367166     0.15717712\n",
       "                 total_population work_from_home X65_and_older median_income\n",
       "has_computer      0.88769674       0.429532198    0.63073622    0.16291986  \n",
       "no_computer       0.19988678      -0.103609877    0.43653866    0.08585943  \n",
       "with_internet     0.88409177       0.444207496    0.62529208    0.16040888  \n",
       "no_internet       0.25381769      -0.067573490    0.46139182    0.08828841  \n",
       "total_population  1.00000000       0.465567411    0.55262306    0.02849018  \n",
       "work_from_home    0.46556741       1.000000000    0.39074417    0.03663670  \n",
       "X65_and_older     0.55262306       0.390744170    1.00000000    0.14854040  \n",
       "median_income     0.02849018       0.036636701    0.14854040    1.00000000  \n",
       "number_providers -0.12177616       0.029399058    0.05292992    0.02199604  \n",
       "mean_lowest_cost  0.07103486      -0.006209950    0.05050125   -0.05377681  \n",
       "mean_d_mbps       0.26876416       0.031442306   -0.04232679   -0.04773346  \n",
       "mean_u_mbps       0.16742756      -0.058678724   -0.16920740   -0.01815921  \n",
       "mean_lat_ms      -0.14178184       0.008545821    0.10201766    0.05852071  \n",
       "                 number_providers mean_lowest_cost mean_d_mbps  mean_u_mbps \n",
       "has_computer     -0.115869667      0.10884185       0.305540323  0.196481890\n",
       "no_computer      -0.004018649     -0.07997225       0.005032786 -0.008262893\n",
       "with_internet    -0.128826645      0.13640579       0.345073392  0.199061509\n",
       "no_internet       0.058941187     -0.09402742      -0.167864611 -0.076852099\n",
       "total_population -0.121776161      0.07103486       0.268764165  0.167427555\n",
       "work_from_home    0.029399058     -0.00620995       0.031442306 -0.058678724\n",
       "X65_and_older     0.052929921      0.05050125      -0.042326790 -0.169207400\n",
       "median_income     0.021996041     -0.05377681      -0.047733455 -0.018159207\n",
       "number_providers  1.000000000     -0.32945829      -0.480207980 -0.016272820\n",
       "mean_lowest_cost -0.329458291      1.00000000       0.196642825  0.084363556\n",
       "mean_d_mbps      -0.480207980      0.19664282       1.000000000  0.404399664\n",
       "mean_u_mbps      -0.016272820      0.08436356       0.404399664  1.000000000\n",
       "mean_lat_ms       0.446802457     -0.18109139      -0.831561029 -0.421146282\n",
       "                 mean_lat_ms \n",
       "has_computer     -0.201306736\n",
       "no_computer      -0.030159233\n",
       "with_internet    -0.236716631\n",
       "no_internet       0.157177123\n",
       "total_population -0.141781841\n",
       "work_from_home    0.008545821\n",
       "X65_and_older     0.102017655\n",
       "median_income     0.058520706\n",
       "number_providers  0.446802457\n",
       "mean_lowest_cost -0.181091388\n",
       "mean_d_mbps      -0.831561029\n",
       "mean_u_mbps      -0.421146282\n",
       "mean_lat_ms       1.000000000"
      ]
     },
     "metadata": {},
     "output_type": "display_data"
    }
   ],
   "source": [
    "cor(data)"
   ]
  },
  {
   "attachments": {},
   "cell_type": "markdown",
   "metadata": {
    "slideshow": {
     "slide_type": "slide"
    }
   },
   "source": [
    "## Getting the Index"
   ]
  },
  {
   "attachments": {},
   "cell_type": "markdown",
   "metadata": {
    "slideshow": {
     "slide_type": "fragment"
    }
   },
   "source": [
    "We will use the first PC (Principal Component) and use the values as weights"
   ]
  },
  {
   "attachments": {},
   "cell_type": "markdown",
   "metadata": {
    "slideshow": {
     "slide_type": "fragment"
    }
   },
   "source": [
    "multiply std val against weights"
   ]
  },
  {
   "attachments": {},
   "cell_type": "markdown",
   "metadata": {
    "slideshow": {
     "slide_type": "fragment"
    }
   },
   "source": [
    "more stuff whtaever"
   ]
  },
  {
   "attachments": {},
   "cell_type": "markdown",
   "metadata": {
    "slideshow": {
     "slide_type": "subslide"
    }
   },
   "source": [
    "### Apply PCA"
   ]
  },
  {
   "cell_type": "code",
   "execution_count": 50,
   "metadata": {
    "vscode": {
     "languageId": "r"
    }
   },
   "outputs": [],
   "source": [
    "pca_data <- prcomp(data, scale = TRUE, center = TRUE)\n",
    "\n",
    "# disable scientific notation\n",
    "options(scipen = 999)"
   ]
  },
  {
   "attachments": {},
   "cell_type": "markdown",
   "metadata": {
    "slideshow": {
     "slide_type": "subslide"
    }
   },
   "source": [
    "### Means"
   ]
  },
  {
   "cell_type": "code",
   "execution_count": 51,
   "metadata": {
    "vscode": {
     "languageId": "r"
    }
   },
   "outputs": [
    {
     "data": {
      "text/html": [
       "<dl>\n",
       "\t<dt>$has_computer</dt>\n",
       "\t\t<dd>1388.31147540984</dd>\n",
       "\t<dt>$no_computer</dt>\n",
       "\t\t<dd>102.27868852459</dd>\n",
       "\t<dt>$with_internet</dt>\n",
       "\t\t<dd>1298.24590163934</dd>\n",
       "\t<dt>$no_internet</dt>\n",
       "\t\t<dd>150.322404371585</dd>\n",
       "\t<dt>$total_population</dt>\n",
       "\t\t<dd>3741.91803278689</dd>\n",
       "\t<dt>$work_from_home</dt>\n",
       "\t\t<dd>132.262295081967</dd>\n",
       "\t<dt>$X65_and_older</dt>\n",
       "\t\t<dd>630.885245901639</dd>\n",
       "\t<dt>$median_income</dt>\n",
       "\t\t<dd>-3582328.05464481</dd>\n",
       "\t<dt>$number_providers</dt>\n",
       "\t\t<dd>8.59116022099447</dd>\n",
       "\t<dt>$mean_lowest_cost</dt>\n",
       "\t\t<dd>58.6349088622219</dd>\n",
       "\t<dt>$mean_d_mbps</dt>\n",
       "\t\t<dd>200.047094438153</dd>\n",
       "\t<dt>$mean_u_mbps</dt>\n",
       "\t\t<dd>34.2849682322739</dd>\n",
       "\t<dt>$mean_lat_ms</dt>\n",
       "\t\t<dd>0.0277554456733385</dd>\n",
       "</dl>\n"
      ],
      "text/latex": [
       "\\begin{description}\n",
       "\\item[\\$has\\_computer] 1388.31147540984\n",
       "\\item[\\$no\\_computer] 102.27868852459\n",
       "\\item[\\$with\\_internet] 1298.24590163934\n",
       "\\item[\\$no\\_internet] 150.322404371585\n",
       "\\item[\\$total\\_population] 3741.91803278689\n",
       "\\item[\\$work\\_from\\_home] 132.262295081967\n",
       "\\item[\\$X65\\_and\\_older] 630.885245901639\n",
       "\\item[\\$median\\_income] -3582328.05464481\n",
       "\\item[\\$number\\_providers] 8.59116022099447\n",
       "\\item[\\$mean\\_lowest\\_cost] 58.6349088622219\n",
       "\\item[\\$mean\\_d\\_mbps] 200.047094438153\n",
       "\\item[\\$mean\\_u\\_mbps] 34.2849682322739\n",
       "\\item[\\$mean\\_lat\\_ms] 0.0277554456733385\n",
       "\\end{description}\n"
      ],
      "text/markdown": [
       "$has_computer\n",
       ":   1388.31147540984\n",
       "$no_computer\n",
       ":   102.27868852459\n",
       "$with_internet\n",
       ":   1298.24590163934\n",
       "$no_internet\n",
       ":   150.322404371585\n",
       "$total_population\n",
       ":   3741.91803278689\n",
       "$work_from_home\n",
       ":   132.262295081967\n",
       "$X65_and_older\n",
       ":   630.885245901639\n",
       "$median_income\n",
       ":   -3582328.05464481\n",
       "$number_providers\n",
       ":   8.59116022099447\n",
       "$mean_lowest_cost\n",
       ":   58.6349088622219\n",
       "$mean_d_mbps\n",
       ":   200.047094438153\n",
       "$mean_u_mbps\n",
       ":   34.2849682322739\n",
       "$mean_lat_ms\n",
       ":   0.0277554456733385\n",
       "\n",
       "\n"
      ],
      "text/plain": [
       "$has_computer\n",
       "[1] 1388.311\n",
       "\n",
       "$no_computer\n",
       "[1] 102.2787\n",
       "\n",
       "$with_internet\n",
       "[1] 1298.246\n",
       "\n",
       "$no_internet\n",
       "[1] 150.3224\n",
       "\n",
       "$total_population\n",
       "[1] 3741.918\n",
       "\n",
       "$work_from_home\n",
       "[1] 132.2623\n",
       "\n",
       "$X65_and_older\n",
       "[1] 630.8852\n",
       "\n",
       "$median_income\n",
       "[1] -3582328\n",
       "\n",
       "$number_providers\n",
       "[1] 8.59116\n",
       "\n",
       "$mean_lowest_cost\n",
       "[1] 58.63491\n",
       "\n",
       "$mean_d_mbps\n",
       "[1] 200.0471\n",
       "\n",
       "$mean_u_mbps\n",
       "[1] 34.28497\n",
       "\n",
       "$mean_lat_ms\n",
       "[1] 0.02775545\n"
      ]
     },
     "metadata": {},
     "output_type": "display_data"
    }
   ],
   "source": [
    "as.list(pca_data$center)"
   ]
  },
  {
   "attachments": {},
   "cell_type": "markdown",
   "metadata": {
    "slideshow": {
     "slide_type": "subslide"
    }
   },
   "source": [
    "### Standard Deviations"
   ]
  },
  {
   "cell_type": "code",
   "execution_count": 52,
   "metadata": {
    "vscode": {
     "languageId": "r"
    }
   },
   "outputs": [
    {
     "data": {
      "text/html": [
       "<dl>\n",
       "\t<dt>$has_computer</dt>\n",
       "\t\t<dd>548.688352295285</dd>\n",
       "\t<dt>$no_computer</dt>\n",
       "\t\t<dd>78.8590614723036</dd>\n",
       "\t<dt>$with_internet</dt>\n",
       "\t\t<dd>523.962742648426</dd>\n",
       "\t<dt>$no_internet</dt>\n",
       "\t\t<dd>101.927252072576</dd>\n",
       "\t<dt>$total_population</dt>\n",
       "\t\t<dd>1404.75083585199</dd>\n",
       "\t<dt>$work_from_home</dt>\n",
       "\t\t<dd>98.5325686613891</dd>\n",
       "\t<dt>$X65_and_older</dt>\n",
       "\t\t<dd>315.944550968386</dd>\n",
       "\t<dt>$median_income</dt>\n",
       "\t\t<dd>49285931.8512443</dd>\n",
       "\t<dt>$number_providers</dt>\n",
       "\t\t<dd>1.99414783412875</dd>\n",
       "\t<dt>$mean_lowest_cost</dt>\n",
       "\t\t<dd>3.43963115890699</dd>\n",
       "\t<dt>$mean_d_mbps</dt>\n",
       "\t\t<dd>84.7099645746882</dd>\n",
       "\t<dt>$mean_u_mbps</dt>\n",
       "\t\t<dd>26.4786774203819</dd>\n",
       "\t<dt>$mean_lat_ms</dt>\n",
       "\t\t<dd>0.0202972678916414</dd>\n",
       "</dl>\n"
      ],
      "text/latex": [
       "\\begin{description}\n",
       "\\item[\\$has\\_computer] 548.688352295285\n",
       "\\item[\\$no\\_computer] 78.8590614723036\n",
       "\\item[\\$with\\_internet] 523.962742648426\n",
       "\\item[\\$no\\_internet] 101.927252072576\n",
       "\\item[\\$total\\_population] 1404.75083585199\n",
       "\\item[\\$work\\_from\\_home] 98.5325686613891\n",
       "\\item[\\$X65\\_and\\_older] 315.944550968386\n",
       "\\item[\\$median\\_income] 49285931.8512443\n",
       "\\item[\\$number\\_providers] 1.99414783412875\n",
       "\\item[\\$mean\\_lowest\\_cost] 3.43963115890699\n",
       "\\item[\\$mean\\_d\\_mbps] 84.7099645746882\n",
       "\\item[\\$mean\\_u\\_mbps] 26.4786774203819\n",
       "\\item[\\$mean\\_lat\\_ms] 0.0202972678916414\n",
       "\\end{description}\n"
      ],
      "text/markdown": [
       "$has_computer\n",
       ":   548.688352295285\n",
       "$no_computer\n",
       ":   78.8590614723036\n",
       "$with_internet\n",
       ":   523.962742648426\n",
       "$no_internet\n",
       ":   101.927252072576\n",
       "$total_population\n",
       ":   1404.75083585199\n",
       "$work_from_home\n",
       ":   98.5325686613891\n",
       "$X65_and_older\n",
       ":   315.944550968386\n",
       "$median_income\n",
       ":   49285931.8512443\n",
       "$number_providers\n",
       ":   1.99414783412875\n",
       "$mean_lowest_cost\n",
       ":   3.43963115890699\n",
       "$mean_d_mbps\n",
       ":   84.7099645746882\n",
       "$mean_u_mbps\n",
       ":   26.4786774203819\n",
       "$mean_lat_ms\n",
       ":   0.0202972678916414\n",
       "\n",
       "\n"
      ],
      "text/plain": [
       "$has_computer\n",
       "[1] 548.6884\n",
       "\n",
       "$no_computer\n",
       "[1] 78.85906\n",
       "\n",
       "$with_internet\n",
       "[1] 523.9627\n",
       "\n",
       "$no_internet\n",
       "[1] 101.9273\n",
       "\n",
       "$total_population\n",
       "[1] 1404.751\n",
       "\n",
       "$work_from_home\n",
       "[1] 98.53257\n",
       "\n",
       "$X65_and_older\n",
       "[1] 315.9446\n",
       "\n",
       "$median_income\n",
       "[1] 49285932\n",
       "\n",
       "$number_providers\n",
       "[1] 1.994148\n",
       "\n",
       "$mean_lowest_cost\n",
       "[1] 3.439631\n",
       "\n",
       "$mean_d_mbps\n",
       "[1] 84.70996\n",
       "\n",
       "$mean_u_mbps\n",
       "[1] 26.47868\n",
       "\n",
       "$mean_lat_ms\n",
       "[1] 0.02029727\n"
      ]
     },
     "metadata": {},
     "output_type": "display_data"
    }
   ],
   "source": [
    "as.list(pca_data$scale)"
   ]
  },
  {
   "attachments": {},
   "cell_type": "markdown",
   "metadata": {
    "slideshow": {
     "slide_type": "subslide"
    }
   },
   "source": [
    "### Eigenvectors"
   ]
  },
  {
   "cell_type": "code",
   "execution_count": 58,
   "metadata": {
    "vscode": {
     "languageId": "r"
    }
   },
   "outputs": [],
   "source": [
    "eigenvectors <- -pca_data$rotation"
   ]
  },
  {
   "cell_type": "code",
   "execution_count": 59,
   "metadata": {
    "slideshow": {
     "slide_type": "fragment"
    },
    "vscode": {
     "languageId": "r"
    }
   },
   "outputs": [
    {
     "data": {
      "text/html": [
       "<table class=\"dataframe\">\n",
       "<caption>A matrix: 13 × 13 of type dbl</caption>\n",
       "<thead>\n",
       "\t<tr><th></th><th scope=col>PC1</th><th scope=col>PC2</th><th scope=col>PC3</th><th scope=col>PC4</th><th scope=col>PC5</th><th scope=col>PC6</th><th scope=col>PC7</th><th scope=col>PC8</th><th scope=col>PC9</th><th scope=col>PC10</th><th scope=col>PC11</th><th scope=col>PC12</th><th scope=col>PC13</th></tr>\n",
       "</thead>\n",
       "<tbody>\n",
       "\t<tr><th scope=row>has_computer</th><td> 0.47288891</td><td>-0.02442760</td><td> 0.10721627</td><td>-0.06093078</td><td>-0.014895658</td><td>-0.08050656</td><td> 0.24667250</td><td>-0.05292711</td><td> 0.11141715</td><td>-0.213852122</td><td>-0.0006648862</td><td>-0.361139782</td><td>-0.708273113</td></tr>\n",
       "\t<tr><th scope=row>no_computer</th><td> 0.20056267</td><td>-0.25288156</td><td>-0.58210439</td><td>-0.01030141</td><td> 0.064632621</td><td> 0.06555379</td><td>-0.25784049</td><td> 0.07203603</td><td> 0.10325341</td><td> 0.532080799</td><td>-0.3580661268</td><td>-0.219626853</td><td>-0.080683076</td></tr>\n",
       "\t<tr><th scope=row>with_internet</th><td> 0.47126532</td><td> 0.00816404</td><td> 0.13830333</td><td>-0.04908435</td><td>-0.024807868</td><td>-0.07449006</td><td> 0.21738178</td><td>-0.11454748</td><td> 0.07655159</td><td>-0.058899715</td><td>-0.1126421784</td><td>-0.441321825</td><td> 0.687737277</td></tr>\n",
       "\t<tr><th scope=row>no_internet</th><td> 0.20420996</td><td>-0.34706634</td><td>-0.49301848</td><td> 0.01948705</td><td> 0.086114817</td><td>-0.02815666</td><td>-0.03804858</td><td> 0.21892473</td><td> 0.23699318</td><td>-0.501945019</td><td> 0.4171629073</td><td> 0.191040245</td><td> 0.134818955</td></tr>\n",
       "\t<tr><th scope=row>total_population</th><td> 0.44033591</td><td>-0.01913394</td><td> 0.16992269</td><td>-0.04956443</td><td> 0.129316101</td><td>-0.02696833</td><td> 0.32459982</td><td> 0.08417591</td><td> 0.18967170</td><td> 0.309931671</td><td>-0.1315050122</td><td> 0.703628542</td><td> 0.009357538</td></tr>\n",
       "\t<tr><th scope=row>work_from_home</th><td> 0.23488701</td><td>-0.05887400</td><td> 0.49066769</td><td> 0.04533648</td><td> 0.076975186</td><td> 0.25491935</td><td>-0.63631137</td><td> 0.43503193</td><td> 0.16392408</td><td>-0.004540768</td><td> 0.0564919872</td><td>-0.058418399</td><td> 0.001409999</td></tr>\n",
       "\t<tr><th scope=row>X65_and_older</th><td> 0.35213674</td><td>-0.27837658</td><td> 0.02454598</td><td> 0.17397047</td><td> 0.009380222</td><td> 0.03228774</td><td>-0.23285439</td><td>-0.34125989</td><td>-0.74922747</td><td>-0.043697540</td><td> 0.0781457205</td><td> 0.162141826</td><td>-0.013416530</td></tr>\n",
       "\t<tr><th scope=row>median_income</th><td> 0.07656207</td><td>-0.10648033</td><td>-0.00130413</td><td>-0.09720139</td><td>-0.972948029</td><td>-0.03772283</td><td>-0.07018319</td><td> 0.03713296</td><td> 0.06695980</td><td> 0.039168189</td><td> 0.0059536182</td><td> 0.113755650</td><td> 0.001185697</td></tr>\n",
       "\t<tr><th scope=row>number_providers</th><td>-0.10602038</td><td>-0.33992194</td><td> 0.18558593</td><td>-0.51162516</td><td> 0.121041988</td><td>-0.29366028</td><td>-0.29467990</td><td>-0.53794770</td><td> 0.30620484</td><td> 0.018104834</td><td> 0.0450926888</td><td> 0.061049101</td><td>-0.007020164</td></tr>\n",
       "\t<tr><th scope=row>mean_lowest_cost</th><td> 0.07707167</td><td> 0.21997127</td><td>-0.01010764</td><td> 0.58843052</td><td>-0.015572233</td><td>-0.69903876</td><td>-0.25484718</td><td>-0.08700527</td><td> 0.18688676</td><td> 0.033093596</td><td> 0.0029935350</td><td> 0.041456206</td><td>-0.012484137</td></tr>\n",
       "\t<tr><th scope=row>mean_d_mbps</th><td> 0.20234658</td><td> 0.48222588</td><td>-0.15502203</td><td>-0.07639388</td><td>-0.020759910</td><td> 0.23043849</td><td>-0.10874431</td><td>-0.27671125</td><td> 0.10191055</td><td> 0.341733671</td><td> 0.6525078633</td><td>-0.041483725</td><td>-0.007988313</td></tr>\n",
       "\t<tr><th scope=row>mean_u_mbps</th><td> 0.10584459</td><td> 0.30252253</td><td>-0.11432772</td><td>-0.56923383</td><td> 0.050619100</td><td>-0.48148227</td><td>-0.11159346</td><td> 0.41799109</td><td>-0.37045190</td><td> 0.008895100</td><td> 0.0337889955</td><td> 0.005319539</td><td> 0.011756464</td></tr>\n",
       "\t<tr><th scope=row>mean_lat_ms</th><td>-0.15524417</td><td>-0.48401726</td><td> 0.21350513</td><td> 0.10626608</td><td> 0.017858855</td><td>-0.23427448</td><td> 0.28018318</td><td> 0.26180436</td><td>-0.09959284</td><td> 0.444897109</td><td> 0.4790588934</td><td>-0.212484854</td><td>-0.001612781</td></tr>\n",
       "</tbody>\n",
       "</table>\n"
      ],
      "text/latex": [
       "A matrix: 13 × 13 of type dbl\n",
       "\\begin{tabular}{r|lllllllllllll}\n",
       "  & PC1 & PC2 & PC3 & PC4 & PC5 & PC6 & PC7 & PC8 & PC9 & PC10 & PC11 & PC12 & PC13\\\\\n",
       "\\hline\n",
       "\thas\\_computer &  0.47288891 & -0.02442760 &  0.10721627 & -0.06093078 & -0.014895658 & -0.08050656 &  0.24667250 & -0.05292711 &  0.11141715 & -0.213852122 & -0.0006648862 & -0.361139782 & -0.708273113\\\\\n",
       "\tno\\_computer &  0.20056267 & -0.25288156 & -0.58210439 & -0.01030141 &  0.064632621 &  0.06555379 & -0.25784049 &  0.07203603 &  0.10325341 &  0.532080799 & -0.3580661268 & -0.219626853 & -0.080683076\\\\\n",
       "\twith\\_internet &  0.47126532 &  0.00816404 &  0.13830333 & -0.04908435 & -0.024807868 & -0.07449006 &  0.21738178 & -0.11454748 &  0.07655159 & -0.058899715 & -0.1126421784 & -0.441321825 &  0.687737277\\\\\n",
       "\tno\\_internet &  0.20420996 & -0.34706634 & -0.49301848 &  0.01948705 &  0.086114817 & -0.02815666 & -0.03804858 &  0.21892473 &  0.23699318 & -0.501945019 &  0.4171629073 &  0.191040245 &  0.134818955\\\\\n",
       "\ttotal\\_population &  0.44033591 & -0.01913394 &  0.16992269 & -0.04956443 &  0.129316101 & -0.02696833 &  0.32459982 &  0.08417591 &  0.18967170 &  0.309931671 & -0.1315050122 &  0.703628542 &  0.009357538\\\\\n",
       "\twork\\_from\\_home &  0.23488701 & -0.05887400 &  0.49066769 &  0.04533648 &  0.076975186 &  0.25491935 & -0.63631137 &  0.43503193 &  0.16392408 & -0.004540768 &  0.0564919872 & -0.058418399 &  0.001409999\\\\\n",
       "\tX65\\_and\\_older &  0.35213674 & -0.27837658 &  0.02454598 &  0.17397047 &  0.009380222 &  0.03228774 & -0.23285439 & -0.34125989 & -0.74922747 & -0.043697540 &  0.0781457205 &  0.162141826 & -0.013416530\\\\\n",
       "\tmedian\\_income &  0.07656207 & -0.10648033 & -0.00130413 & -0.09720139 & -0.972948029 & -0.03772283 & -0.07018319 &  0.03713296 &  0.06695980 &  0.039168189 &  0.0059536182 &  0.113755650 &  0.001185697\\\\\n",
       "\tnumber\\_providers & -0.10602038 & -0.33992194 &  0.18558593 & -0.51162516 &  0.121041988 & -0.29366028 & -0.29467990 & -0.53794770 &  0.30620484 &  0.018104834 &  0.0450926888 &  0.061049101 & -0.007020164\\\\\n",
       "\tmean\\_lowest\\_cost &  0.07707167 &  0.21997127 & -0.01010764 &  0.58843052 & -0.015572233 & -0.69903876 & -0.25484718 & -0.08700527 &  0.18688676 &  0.033093596 &  0.0029935350 &  0.041456206 & -0.012484137\\\\\n",
       "\tmean\\_d\\_mbps &  0.20234658 &  0.48222588 & -0.15502203 & -0.07639388 & -0.020759910 &  0.23043849 & -0.10874431 & -0.27671125 &  0.10191055 &  0.341733671 &  0.6525078633 & -0.041483725 & -0.007988313\\\\\n",
       "\tmean\\_u\\_mbps &  0.10584459 &  0.30252253 & -0.11432772 & -0.56923383 &  0.050619100 & -0.48148227 & -0.11159346 &  0.41799109 & -0.37045190 &  0.008895100 &  0.0337889955 &  0.005319539 &  0.011756464\\\\\n",
       "\tmean\\_lat\\_ms & -0.15524417 & -0.48401726 &  0.21350513 &  0.10626608 &  0.017858855 & -0.23427448 &  0.28018318 &  0.26180436 & -0.09959284 &  0.444897109 &  0.4790588934 & -0.212484854 & -0.001612781\\\\\n",
       "\\end{tabular}\n"
      ],
      "text/markdown": [
       "\n",
       "A matrix: 13 × 13 of type dbl\n",
       "\n",
       "| <!--/--> | PC1 | PC2 | PC3 | PC4 | PC5 | PC6 | PC7 | PC8 | PC9 | PC10 | PC11 | PC12 | PC13 |\n",
       "|---|---|---|---|---|---|---|---|---|---|---|---|---|---|\n",
       "| has_computer |  0.47288891 | -0.02442760 |  0.10721627 | -0.06093078 | -0.014895658 | -0.08050656 |  0.24667250 | -0.05292711 |  0.11141715 | -0.213852122 | -0.0006648862 | -0.361139782 | -0.708273113 |\n",
       "| no_computer |  0.20056267 | -0.25288156 | -0.58210439 | -0.01030141 |  0.064632621 |  0.06555379 | -0.25784049 |  0.07203603 |  0.10325341 |  0.532080799 | -0.3580661268 | -0.219626853 | -0.080683076 |\n",
       "| with_internet |  0.47126532 |  0.00816404 |  0.13830333 | -0.04908435 | -0.024807868 | -0.07449006 |  0.21738178 | -0.11454748 |  0.07655159 | -0.058899715 | -0.1126421784 | -0.441321825 |  0.687737277 |\n",
       "| no_internet |  0.20420996 | -0.34706634 | -0.49301848 |  0.01948705 |  0.086114817 | -0.02815666 | -0.03804858 |  0.21892473 |  0.23699318 | -0.501945019 |  0.4171629073 |  0.191040245 |  0.134818955 |\n",
       "| total_population |  0.44033591 | -0.01913394 |  0.16992269 | -0.04956443 |  0.129316101 | -0.02696833 |  0.32459982 |  0.08417591 |  0.18967170 |  0.309931671 | -0.1315050122 |  0.703628542 |  0.009357538 |\n",
       "| work_from_home |  0.23488701 | -0.05887400 |  0.49066769 |  0.04533648 |  0.076975186 |  0.25491935 | -0.63631137 |  0.43503193 |  0.16392408 | -0.004540768 |  0.0564919872 | -0.058418399 |  0.001409999 |\n",
       "| X65_and_older |  0.35213674 | -0.27837658 |  0.02454598 |  0.17397047 |  0.009380222 |  0.03228774 | -0.23285439 | -0.34125989 | -0.74922747 | -0.043697540 |  0.0781457205 |  0.162141826 | -0.013416530 |\n",
       "| median_income |  0.07656207 | -0.10648033 | -0.00130413 | -0.09720139 | -0.972948029 | -0.03772283 | -0.07018319 |  0.03713296 |  0.06695980 |  0.039168189 |  0.0059536182 |  0.113755650 |  0.001185697 |\n",
       "| number_providers | -0.10602038 | -0.33992194 |  0.18558593 | -0.51162516 |  0.121041988 | -0.29366028 | -0.29467990 | -0.53794770 |  0.30620484 |  0.018104834 |  0.0450926888 |  0.061049101 | -0.007020164 |\n",
       "| mean_lowest_cost |  0.07707167 |  0.21997127 | -0.01010764 |  0.58843052 | -0.015572233 | -0.69903876 | -0.25484718 | -0.08700527 |  0.18688676 |  0.033093596 |  0.0029935350 |  0.041456206 | -0.012484137 |\n",
       "| mean_d_mbps |  0.20234658 |  0.48222588 | -0.15502203 | -0.07639388 | -0.020759910 |  0.23043849 | -0.10874431 | -0.27671125 |  0.10191055 |  0.341733671 |  0.6525078633 | -0.041483725 | -0.007988313 |\n",
       "| mean_u_mbps |  0.10584459 |  0.30252253 | -0.11432772 | -0.56923383 |  0.050619100 | -0.48148227 | -0.11159346 |  0.41799109 | -0.37045190 |  0.008895100 |  0.0337889955 |  0.005319539 |  0.011756464 |\n",
       "| mean_lat_ms | -0.15524417 | -0.48401726 |  0.21350513 |  0.10626608 |  0.017858855 | -0.23427448 |  0.28018318 |  0.26180436 | -0.09959284 |  0.444897109 |  0.4790588934 | -0.212484854 | -0.001612781 |\n",
       "\n"
      ],
      "text/plain": [
       "                 PC1         PC2         PC3         PC4         PC5         \n",
       "has_computer      0.47288891 -0.02442760  0.10721627 -0.06093078 -0.014895658\n",
       "no_computer       0.20056267 -0.25288156 -0.58210439 -0.01030141  0.064632621\n",
       "with_internet     0.47126532  0.00816404  0.13830333 -0.04908435 -0.024807868\n",
       "no_internet       0.20420996 -0.34706634 -0.49301848  0.01948705  0.086114817\n",
       "total_population  0.44033591 -0.01913394  0.16992269 -0.04956443  0.129316101\n",
       "work_from_home    0.23488701 -0.05887400  0.49066769  0.04533648  0.076975186\n",
       "X65_and_older     0.35213674 -0.27837658  0.02454598  0.17397047  0.009380222\n",
       "median_income     0.07656207 -0.10648033 -0.00130413 -0.09720139 -0.972948029\n",
       "number_providers -0.10602038 -0.33992194  0.18558593 -0.51162516  0.121041988\n",
       "mean_lowest_cost  0.07707167  0.21997127 -0.01010764  0.58843052 -0.015572233\n",
       "mean_d_mbps       0.20234658  0.48222588 -0.15502203 -0.07639388 -0.020759910\n",
       "mean_u_mbps       0.10584459  0.30252253 -0.11432772 -0.56923383  0.050619100\n",
       "mean_lat_ms      -0.15524417 -0.48401726  0.21350513  0.10626608  0.017858855\n",
       "                 PC6         PC7         PC8         PC9         PC10        \n",
       "has_computer     -0.08050656  0.24667250 -0.05292711  0.11141715 -0.213852122\n",
       "no_computer       0.06555379 -0.25784049  0.07203603  0.10325341  0.532080799\n",
       "with_internet    -0.07449006  0.21738178 -0.11454748  0.07655159 -0.058899715\n",
       "no_internet      -0.02815666 -0.03804858  0.21892473  0.23699318 -0.501945019\n",
       "total_population -0.02696833  0.32459982  0.08417591  0.18967170  0.309931671\n",
       "work_from_home    0.25491935 -0.63631137  0.43503193  0.16392408 -0.004540768\n",
       "X65_and_older     0.03228774 -0.23285439 -0.34125989 -0.74922747 -0.043697540\n",
       "median_income    -0.03772283 -0.07018319  0.03713296  0.06695980  0.039168189\n",
       "number_providers -0.29366028 -0.29467990 -0.53794770  0.30620484  0.018104834\n",
       "mean_lowest_cost -0.69903876 -0.25484718 -0.08700527  0.18688676  0.033093596\n",
       "mean_d_mbps       0.23043849 -0.10874431 -0.27671125  0.10191055  0.341733671\n",
       "mean_u_mbps      -0.48148227 -0.11159346  0.41799109 -0.37045190  0.008895100\n",
       "mean_lat_ms      -0.23427448  0.28018318  0.26180436 -0.09959284  0.444897109\n",
       "                 PC11          PC12         PC13        \n",
       "has_computer     -0.0006648862 -0.361139782 -0.708273113\n",
       "no_computer      -0.3580661268 -0.219626853 -0.080683076\n",
       "with_internet    -0.1126421784 -0.441321825  0.687737277\n",
       "no_internet       0.4171629073  0.191040245  0.134818955\n",
       "total_population -0.1315050122  0.703628542  0.009357538\n",
       "work_from_home    0.0564919872 -0.058418399  0.001409999\n",
       "X65_and_older     0.0781457205  0.162141826 -0.013416530\n",
       "median_income     0.0059536182  0.113755650  0.001185697\n",
       "number_providers  0.0450926888  0.061049101 -0.007020164\n",
       "mean_lowest_cost  0.0029935350  0.041456206 -0.012484137\n",
       "mean_d_mbps       0.6525078633 -0.041483725 -0.007988313\n",
       "mean_u_mbps       0.0337889955  0.005319539  0.011756464\n",
       "mean_lat_ms       0.4790588934 -0.212484854 -0.001612781"
      ]
     },
     "metadata": {},
     "output_type": "display_data"
    }
   ],
   "source": [
    "eigenvectors"
   ]
  },
  {
   "attachments": {},
   "cell_type": "markdown",
   "metadata": {
    "slideshow": {
     "slide_type": "subslide"
    }
   },
   "source": [
    "### Eigenvalues"
   ]
  },
  {
   "cell_type": "code",
   "execution_count": 55,
   "metadata": {
    "vscode": {
     "languageId": "r"
    }
   },
   "outputs": [],
   "source": [
    "eigenvalues <- pca_data$sdev^2"
   ]
  },
  {
   "cell_type": "code",
   "execution_count": 56,
   "metadata": {
    "slideshow": {
     "slide_type": "fragment"
    },
    "vscode": {
     "languageId": "r"
    }
   },
   "outputs": [
    {
     "data": {
      "text/html": [
       "<ol>\n",
       "\t<li>4.05898897991325</li>\n",
       "\t<li>2.64556024476592</li>\n",
       "\t<li>1.60926489575566</li>\n",
       "\t<li>1.1396005911957</li>\n",
       "\t<li>0.98020399951375</li>\n",
       "\t<li>0.824744284759871</li>\n",
       "\t<li>0.547689552249434</li>\n",
       "\t<li>0.45996063543807</li>\n",
       "\t<li>0.298967018830872</li>\n",
       "\t<li>0.168530251613186</li>\n",
       "\t<li>0.15123010959019</li>\n",
       "\t<li>0.111551275698658</li>\n",
       "\t<li>0.00370816067543766</li>\n",
       "</ol>\n"
      ],
      "text/latex": [
       "\\begin{enumerate}\n",
       "\\item 4.05898897991325\n",
       "\\item 2.64556024476592\n",
       "\\item 1.60926489575566\n",
       "\\item 1.1396005911957\n",
       "\\item 0.98020399951375\n",
       "\\item 0.824744284759871\n",
       "\\item 0.547689552249434\n",
       "\\item 0.45996063543807\n",
       "\\item 0.298967018830872\n",
       "\\item 0.168530251613186\n",
       "\\item 0.15123010959019\n",
       "\\item 0.111551275698658\n",
       "\\item 0.00370816067543766\n",
       "\\end{enumerate}\n"
      ],
      "text/markdown": [
       "1. 4.05898897991325\n",
       "2. 2.64556024476592\n",
       "3. 1.60926489575566\n",
       "4. 1.1396005911957\n",
       "5. 0.98020399951375\n",
       "6. 0.824744284759871\n",
       "7. 0.547689552249434\n",
       "8. 0.45996063543807\n",
       "9. 0.298967018830872\n",
       "10. 0.168530251613186\n",
       "11. 0.15123010959019\n",
       "12. 0.111551275698658\n",
       "13. 0.00370816067543766\n",
       "\n",
       "\n"
      ],
      "text/plain": [
       "[[1]]\n",
       "[1] 4.058989\n",
       "\n",
       "[[2]]\n",
       "[1] 2.64556\n",
       "\n",
       "[[3]]\n",
       "[1] 1.609265\n",
       "\n",
       "[[4]]\n",
       "[1] 1.139601\n",
       "\n",
       "[[5]]\n",
       "[1] 0.980204\n",
       "\n",
       "[[6]]\n",
       "[1] 0.8247443\n",
       "\n",
       "[[7]]\n",
       "[1] 0.5476896\n",
       "\n",
       "[[8]]\n",
       "[1] 0.4599606\n",
       "\n",
       "[[9]]\n",
       "[1] 0.298967\n",
       "\n",
       "[[10]]\n",
       "[1] 0.1685303\n",
       "\n",
       "[[11]]\n",
       "[1] 0.1512301\n",
       "\n",
       "[[12]]\n",
       "[1] 0.1115513\n",
       "\n",
       "[[13]]\n",
       "[1] 0.003708161\n"
      ]
     },
     "metadata": {},
     "output_type": "display_data"
    }
   ],
   "source": [
    "as.list(eigenvalues)"
   ]
  },
  {
   "attachments": {},
   "cell_type": "markdown",
   "metadata": {
    "slideshow": {
     "slide_type": "subslide"
    }
   },
   "source": [
    "### Principal Component Scores"
   ]
  },
  {
   "cell_type": "code",
   "execution_count": 40,
   "metadata": {
    "vscode": {
     "languageId": "r"
    }
   },
   "outputs": [],
   "source": [
    "principal_components <- -pca_data$x"
   ]
  },
  {
   "cell_type": "code",
   "execution_count": 61,
   "metadata": {
    "slideshow": {
     "slide_type": "fragment"
    },
    "vscode": {
     "languageId": "r"
    }
   },
   "outputs": [
    {
     "data": {
      "text/html": [
       "<table class=\"dataframe\">\n",
       "<caption>A matrix: 6 × 13 of type dbl</caption>\n",
       "<thead>\n",
       "\t<tr><th scope=col>PC1</th><th scope=col>PC2</th><th scope=col>PC3</th><th scope=col>PC4</th><th scope=col>PC5</th><th scope=col>PC6</th><th scope=col>PC7</th><th scope=col>PC8</th><th scope=col>PC9</th><th scope=col>PC10</th><th scope=col>PC11</th><th scope=col>PC12</th><th scope=col>PC13</th></tr>\n",
       "</thead>\n",
       "<tbody>\n",
       "\t<tr><td> 1.0278534</td><td>-2.43313544</td><td> 0.7421958</td><td>-0.6227943</td><td> 0.29932078</td><td>-1.0134545</td><td>-0.34415016</td><td>-0.8534849</td><td>-1.2195589</td><td> 0.02982251</td><td> 0.092342018</td><td>0.1522132</td><td> 0.00097567433</td></tr>\n",
       "\t<tr><td> 2.5567363</td><td>-2.23886577</td><td> 1.7197546</td><td>-0.2102354</td><td> 0.57508818</td><td>-0.1743359</td><td>-2.59036873</td><td>-0.6712169</td><td> 0.1642085</td><td>-0.45168099</td><td>-0.147070865</td><td>0.2237510</td><td> 0.02203182207</td></tr>\n",
       "\t<tr><td>-0.9808996</td><td>-0.41833790</td><td>-0.4697185</td><td>-0.3485766</td><td>-0.02164418</td><td>-0.9399261</td><td> 0.52920781</td><td>-0.8748270</td><td> 0.8706007</td><td>-0.27219720</td><td> 0.053651755</td><td>0.3046097</td><td> 0.02042494010</td></tr>\n",
       "\t<tr><td>-1.5567772</td><td> 0.07165592</td><td>-0.6048426</td><td> 1.1854047</td><td>-0.30534564</td><td>-0.7937459</td><td>-0.02681987</td><td>-0.3176955</td><td>-0.3190303</td><td>-0.90031922</td><td>-0.202050453</td><td>0.4873737</td><td>-0.00001235758</td></tr>\n",
       "\t<tr><td> 0.1631020</td><td>-0.41428048</td><td>-1.9776299</td><td> 1.0461623</td><td>-0.05584076</td><td>-0.6490837</td><td> 0.02997913</td><td>-0.2471851</td><td> 0.5412078</td><td>-0.37663486</td><td> 0.026114225</td><td>0.2360407</td><td> 0.02761061882</td></tr>\n",
       "\t<tr><td> 0.3830182</td><td>-0.72454258</td><td> 0.1934017</td><td> 0.3277980</td><td>-0.04477616</td><td>-0.1354435</td><td> 0.15730371</td><td>-0.4687491</td><td>-0.3695629</td><td>-0.81886582</td><td>-0.004542685</td><td>0.3165912</td><td> 0.02015890273</td></tr>\n",
       "</tbody>\n",
       "</table>\n"
      ],
      "text/latex": [
       "A matrix: 6 × 13 of type dbl\n",
       "\\begin{tabular}{lllllllllllll}\n",
       " PC1 & PC2 & PC3 & PC4 & PC5 & PC6 & PC7 & PC8 & PC9 & PC10 & PC11 & PC12 & PC13\\\\\n",
       "\\hline\n",
       "\t  1.0278534 & -2.43313544 &  0.7421958 & -0.6227943 &  0.29932078 & -1.0134545 & -0.34415016 & -0.8534849 & -1.2195589 &  0.02982251 &  0.092342018 & 0.1522132 &  0.00097567433\\\\\n",
       "\t  2.5567363 & -2.23886577 &  1.7197546 & -0.2102354 &  0.57508818 & -0.1743359 & -2.59036873 & -0.6712169 &  0.1642085 & -0.45168099 & -0.147070865 & 0.2237510 &  0.02203182207\\\\\n",
       "\t -0.9808996 & -0.41833790 & -0.4697185 & -0.3485766 & -0.02164418 & -0.9399261 &  0.52920781 & -0.8748270 &  0.8706007 & -0.27219720 &  0.053651755 & 0.3046097 &  0.02042494010\\\\\n",
       "\t -1.5567772 &  0.07165592 & -0.6048426 &  1.1854047 & -0.30534564 & -0.7937459 & -0.02681987 & -0.3176955 & -0.3190303 & -0.90031922 & -0.202050453 & 0.4873737 & -0.00001235758\\\\\n",
       "\t  0.1631020 & -0.41428048 & -1.9776299 &  1.0461623 & -0.05584076 & -0.6490837 &  0.02997913 & -0.2471851 &  0.5412078 & -0.37663486 &  0.026114225 & 0.2360407 &  0.02761061882\\\\\n",
       "\t  0.3830182 & -0.72454258 &  0.1934017 &  0.3277980 & -0.04477616 & -0.1354435 &  0.15730371 & -0.4687491 & -0.3695629 & -0.81886582 & -0.004542685 & 0.3165912 &  0.02015890273\\\\\n",
       "\\end{tabular}\n"
      ],
      "text/markdown": [
       "\n",
       "A matrix: 6 × 13 of type dbl\n",
       "\n",
       "| PC1 | PC2 | PC3 | PC4 | PC5 | PC6 | PC7 | PC8 | PC9 | PC10 | PC11 | PC12 | PC13 |\n",
       "|---|---|---|---|---|---|---|---|---|---|---|---|---|\n",
       "|  1.0278534 | -2.43313544 |  0.7421958 | -0.6227943 |  0.29932078 | -1.0134545 | -0.34415016 | -0.8534849 | -1.2195589 |  0.02982251 |  0.092342018 | 0.1522132 |  0.00097567433 |\n",
       "|  2.5567363 | -2.23886577 |  1.7197546 | -0.2102354 |  0.57508818 | -0.1743359 | -2.59036873 | -0.6712169 |  0.1642085 | -0.45168099 | -0.147070865 | 0.2237510 |  0.02203182207 |\n",
       "| -0.9808996 | -0.41833790 | -0.4697185 | -0.3485766 | -0.02164418 | -0.9399261 |  0.52920781 | -0.8748270 |  0.8706007 | -0.27219720 |  0.053651755 | 0.3046097 |  0.02042494010 |\n",
       "| -1.5567772 |  0.07165592 | -0.6048426 |  1.1854047 | -0.30534564 | -0.7937459 | -0.02681987 | -0.3176955 | -0.3190303 | -0.90031922 | -0.202050453 | 0.4873737 | -0.00001235758 |\n",
       "|  0.1631020 | -0.41428048 | -1.9776299 |  1.0461623 | -0.05584076 | -0.6490837 |  0.02997913 | -0.2471851 |  0.5412078 | -0.37663486 |  0.026114225 | 0.2360407 |  0.02761061882 |\n",
       "|  0.3830182 | -0.72454258 |  0.1934017 |  0.3277980 | -0.04477616 | -0.1354435 |  0.15730371 | -0.4687491 | -0.3695629 | -0.81886582 | -0.004542685 | 0.3165912 |  0.02015890273 |\n",
       "\n"
      ],
      "text/plain": [
       "     PC1        PC2         PC3        PC4        PC5         PC6       \n",
       "[1,]  1.0278534 -2.43313544  0.7421958 -0.6227943  0.29932078 -1.0134545\n",
       "[2,]  2.5567363 -2.23886577  1.7197546 -0.2102354  0.57508818 -0.1743359\n",
       "[3,] -0.9808996 -0.41833790 -0.4697185 -0.3485766 -0.02164418 -0.9399261\n",
       "[4,] -1.5567772  0.07165592 -0.6048426  1.1854047 -0.30534564 -0.7937459\n",
       "[5,]  0.1631020 -0.41428048 -1.9776299  1.0461623 -0.05584076 -0.6490837\n",
       "[6,]  0.3830182 -0.72454258  0.1934017  0.3277980 -0.04477616 -0.1354435\n",
       "     PC7         PC8        PC9        PC10        PC11         PC12     \n",
       "[1,] -0.34415016 -0.8534849 -1.2195589  0.02982251  0.092342018 0.1522132\n",
       "[2,] -2.59036873 -0.6712169  0.1642085 -0.45168099 -0.147070865 0.2237510\n",
       "[3,]  0.52920781 -0.8748270  0.8706007 -0.27219720  0.053651755 0.3046097\n",
       "[4,] -0.02681987 -0.3176955 -0.3190303 -0.90031922 -0.202050453 0.4873737\n",
       "[5,]  0.02997913 -0.2471851  0.5412078 -0.37663486  0.026114225 0.2360407\n",
       "[6,]  0.15730371 -0.4687491 -0.3695629 -0.81886582 -0.004542685 0.3165912\n",
       "     PC13          \n",
       "[1,]  0.00097567433\n",
       "[2,]  0.02203182207\n",
       "[3,]  0.02042494010\n",
       "[4,] -0.00001235758\n",
       "[5,]  0.02761061882\n",
       "[6,]  0.02015890273"
      ]
     },
     "metadata": {},
     "output_type": "display_data"
    }
   ],
   "source": [
    "head(principal_components)"
   ]
  },
  {
   "cell_type": "code",
   "execution_count": null,
   "metadata": {
    "vscode": {
     "languageId": "r"
    }
   },
   "outputs": [],
   "source": []
  }
 ],
 "metadata": {
  "kernelspec": {
   "display_name": "R",
   "language": "R",
   "name": "ir"
  },
  "language_info": {
   "codemirror_mode": "r",
   "file_extension": ".r",
   "mimetype": "text/x-r-source",
   "name": "R",
   "pygments_lexer": "r",
   "version": "4.2.3"
  },
  "orig_nbformat": 4
 },
 "nbformat": 4,
 "nbformat_minor": 2
}
