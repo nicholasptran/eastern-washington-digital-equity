{
 "cells": [
  {
   "cell_type": "code",
   "execution_count": 2,
   "metadata": {
    "vscode": {
     "languageId": "r"
    }
   },
   "outputs": [],
   "source": [
    "library(tidyverse)\n",
    "\n",
    "data <- read.csv(\"../data/combined_data.csv\")\n",
    "\n"
   ]
  },
  {
   "cell_type": "code",
   "execution_count": 9,
   "metadata": {
    "vscode": {
     "languageId": "r"
    }
   },
   "outputs": [],
   "source": [
    "standardized_data <- data %>% select(-GEOID, -NAME)\n",
    "standardized_data <- scale(standardized_data)\n",
    "\n"
   ]
  },
  {
   "cell_type": "code",
   "execution_count": 10,
   "metadata": {
    "vscode": {
     "languageId": "r"
    }
   },
   "outputs": [
    {
     "data": {
      "text/html": [
       "<table class=\"dataframe\">\n",
       "<caption>A matrix: 6 × 13 of type dbl</caption>\n",
       "<thead>\n",
       "\t<tr><th scope=col>has_computer</th><th scope=col>no_computer</th><th scope=col>with_internet</th><th scope=col>no_internet</th><th scope=col>total_population</th><th scope=col>work_from_home</th><th scope=col>X65_and_older</th><th scope=col>median_income</th><th scope=col>number_providers</th><th scope=col>mean_lowest_cost</th><th scope=col>mean_d_mbps</th><th scope=col>mean_u_mbps</th><th scope=col>mean_lat_ms</th></tr>\n",
       "</thead>\n",
       "<tbody>\n",
       "\t<tr><td> 0.50245011</td><td> 0.1993596</td><td> 0.5167430</td><td>0.3205972</td><td> 0.41151922</td><td> 0.1292741</td><td> 2.23493253</td><td>0.07418486</td><td> 1.7094218</td><td>-0.18458632</td><td>-1.05913969</td><td> 0.2831385</td><td> 1.17991288</td></tr>\n",
       "\t<tr><td> 0.88153598</td><td> 0.5037000</td><td> 0.9194434</td><td>0.7032231</td><td> 0.72118268</td><td> 2.9303783</td><td> 2.28240921</td><td>0.07416551</td><td> 2.2108891</td><td> 0.41923513</td><td>-0.64056563</td><td>-0.4304467</td><td>-0.15416598</td></tr>\n",
       "\t<tr><td>-0.19922325</td><td>-0.2191085</td><td>-0.2714809</td><td>0.4088955</td><td>-0.07753548</td><td>-1.2814270</td><td>-0.74343819</td><td>0.07345717</td><td> 1.2079545</td><td> 0.39687137</td><td>-0.31447576</td><td>-0.2727836</td><td> 0.10962741</td></tr>\n",
       "\t<tr><td>-0.81523778</td><td>-0.6248957</td><td>-0.9413759</td><td>0.2911645</td><td>-0.87198242</td><td>-1.0480017</td><td> 0.05100501</td><td>0.07347137</td><td>-0.2964475</td><td> 1.12369349</td><td>-0.85523159</td><td>-0.4058615</td><td>-0.27548794</td></tr>\n",
       "\t<tr><td>-0.07893639</td><td> 0.9982532</td><td>-0.1913226</td><td>1.5077184</td><td>-0.16011240</td><td>-1.0784484</td><td> 0.01302366</td><td>0.07354973</td><td>-0.2964475</td><td> 1.12369349</td><td>-0.08992031</td><td>-0.4758288</td><td>-0.30026584</td></tr>\n",
       "\t<tr><td> 0.28010167</td><td>-0.4854063</td><td> 0.1789328</td><td>0.5168156</td><td> 0.10826259</td><td>-0.1751938</td><td> 0.88026444</td><td>0.07377917</td><td> 0.2050198</td><td> 0.07383932</td><td>-0.57834859</td><td>-0.4065058</td><td>-0.07734433</td></tr>\n",
       "</tbody>\n",
       "</table>\n"
      ],
      "text/latex": [
       "A matrix: 6 × 13 of type dbl\n",
       "\\begin{tabular}{lllllllllllll}\n",
       " has\\_computer & no\\_computer & with\\_internet & no\\_internet & total\\_population & work\\_from\\_home & X65\\_and\\_older & median\\_income & number\\_providers & mean\\_lowest\\_cost & mean\\_d\\_mbps & mean\\_u\\_mbps & mean\\_lat\\_ms\\\\\n",
       "\\hline\n",
       "\t  0.50245011 &  0.1993596 &  0.5167430 & 0.3205972 &  0.41151922 &  0.1292741 &  2.23493253 & 0.07418486 &  1.7094218 & -0.18458632 & -1.05913969 &  0.2831385 &  1.17991288\\\\\n",
       "\t  0.88153598 &  0.5037000 &  0.9194434 & 0.7032231 &  0.72118268 &  2.9303783 &  2.28240921 & 0.07416551 &  2.2108891 &  0.41923513 & -0.64056563 & -0.4304467 & -0.15416598\\\\\n",
       "\t -0.19922325 & -0.2191085 & -0.2714809 & 0.4088955 & -0.07753548 & -1.2814270 & -0.74343819 & 0.07345717 &  1.2079545 &  0.39687137 & -0.31447576 & -0.2727836 &  0.10962741\\\\\n",
       "\t -0.81523778 & -0.6248957 & -0.9413759 & 0.2911645 & -0.87198242 & -1.0480017 &  0.05100501 & 0.07347137 & -0.2964475 &  1.12369349 & -0.85523159 & -0.4058615 & -0.27548794\\\\\n",
       "\t -0.07893639 &  0.9982532 & -0.1913226 & 1.5077184 & -0.16011240 & -1.0784484 &  0.01302366 & 0.07354973 & -0.2964475 &  1.12369349 & -0.08992031 & -0.4758288 & -0.30026584\\\\\n",
       "\t  0.28010167 & -0.4854063 &  0.1789328 & 0.5168156 &  0.10826259 & -0.1751938 &  0.88026444 & 0.07377917 &  0.2050198 &  0.07383932 & -0.57834859 & -0.4065058 & -0.07734433\\\\\n",
       "\\end{tabular}\n"
      ],
      "text/markdown": [
       "\n",
       "A matrix: 6 × 13 of type dbl\n",
       "\n",
       "| has_computer | no_computer | with_internet | no_internet | total_population | work_from_home | X65_and_older | median_income | number_providers | mean_lowest_cost | mean_d_mbps | mean_u_mbps | mean_lat_ms |\n",
       "|---|---|---|---|---|---|---|---|---|---|---|---|---|\n",
       "|  0.50245011 |  0.1993596 |  0.5167430 | 0.3205972 |  0.41151922 |  0.1292741 |  2.23493253 | 0.07418486 |  1.7094218 | -0.18458632 | -1.05913969 |  0.2831385 |  1.17991288 |\n",
       "|  0.88153598 |  0.5037000 |  0.9194434 | 0.7032231 |  0.72118268 |  2.9303783 |  2.28240921 | 0.07416551 |  2.2108891 |  0.41923513 | -0.64056563 | -0.4304467 | -0.15416598 |\n",
       "| -0.19922325 | -0.2191085 | -0.2714809 | 0.4088955 | -0.07753548 | -1.2814270 | -0.74343819 | 0.07345717 |  1.2079545 |  0.39687137 | -0.31447576 | -0.2727836 |  0.10962741 |\n",
       "| -0.81523778 | -0.6248957 | -0.9413759 | 0.2911645 | -0.87198242 | -1.0480017 |  0.05100501 | 0.07347137 | -0.2964475 |  1.12369349 | -0.85523159 | -0.4058615 | -0.27548794 |\n",
       "| -0.07893639 |  0.9982532 | -0.1913226 | 1.5077184 | -0.16011240 | -1.0784484 |  0.01302366 | 0.07354973 | -0.2964475 |  1.12369349 | -0.08992031 | -0.4758288 | -0.30026584 |\n",
       "|  0.28010167 | -0.4854063 |  0.1789328 | 0.5168156 |  0.10826259 | -0.1751938 |  0.88026444 | 0.07377917 |  0.2050198 |  0.07383932 | -0.57834859 | -0.4065058 | -0.07734433 |\n",
       "\n"
      ],
      "text/plain": [
       "     has_computer no_computer with_internet no_internet total_population\n",
       "[1,]  0.50245011   0.1993596   0.5167430    0.3205972    0.41151922     \n",
       "[2,]  0.88153598   0.5037000   0.9194434    0.7032231    0.72118268     \n",
       "[3,] -0.19922325  -0.2191085  -0.2714809    0.4088955   -0.07753548     \n",
       "[4,] -0.81523778  -0.6248957  -0.9413759    0.2911645   -0.87198242     \n",
       "[5,] -0.07893639   0.9982532  -0.1913226    1.5077184   -0.16011240     \n",
       "[6,]  0.28010167  -0.4854063   0.1789328    0.5168156    0.10826259     \n",
       "     work_from_home X65_and_older median_income number_providers\n",
       "[1,]  0.1292741      2.23493253   0.07418486     1.7094218      \n",
       "[2,]  2.9303783      2.28240921   0.07416551     2.2108891      \n",
       "[3,] -1.2814270     -0.74343819   0.07345717     1.2079545      \n",
       "[4,] -1.0480017      0.05100501   0.07347137    -0.2964475      \n",
       "[5,] -1.0784484      0.01302366   0.07354973    -0.2964475      \n",
       "[6,] -0.1751938      0.88026444   0.07377917     0.2050198      \n",
       "     mean_lowest_cost mean_d_mbps mean_u_mbps mean_lat_ms\n",
       "[1,] -0.18458632      -1.05913969  0.2831385   1.17991288\n",
       "[2,]  0.41923513      -0.64056563 -0.4304467  -0.15416598\n",
       "[3,]  0.39687137      -0.31447576 -0.2727836   0.10962741\n",
       "[4,]  1.12369349      -0.85523159 -0.4058615  -0.27548794\n",
       "[5,]  1.12369349      -0.08992031 -0.4758288  -0.30026584\n",
       "[6,]  0.07383932      -0.57834859 -0.4065058  -0.07734433"
      ]
     },
     "metadata": {},
     "output_type": "display_data"
    }
   ],
   "source": [
    "head(standardized_data)"
   ]
  },
  {
   "attachments": {},
   "cell_type": "markdown",
   "metadata": {},
   "source": [
    "### assignments"
   ]
  },
  {
   "cell_type": "code",
   "execution_count": 11,
   "metadata": {
    "vscode": {
     "languageId": "r"
    }
   },
   "outputs": [],
   "source": [
    "pc_data <- prcomp(standardized_data, scale = FALSE)\n",
    "\n",
    "eigen_value <- pc_data$sdev^2\n",
    "\n",
    "# invert the loadings\n",
    "pc_data$rotation <- -pc_data$rotation\n",
    "\n",
    "loadings <- pc_data$rotation[, 1:4]\n",
    "\n",
    "pc_tract <- pc_data$x[, 1:4]"
   ]
  },
  {
   "cell_type": "code",
   "execution_count": 17,
   "metadata": {
    "vscode": {
     "languageId": "r"
    }
   },
   "outputs": [],
   "source": [
    "percent_explained <- eigen_value / sum(eigen_value)"
   ]
  },
  {
   "cell_type": "code",
   "execution_count": 21,
   "metadata": {
    "vscode": {
     "languageId": "r"
    }
   },
   "outputs": [
    {
     "data": {
      "text/html": [
       "<ol>\n",
       "\t<li>0.312229921531789</li>\n",
       "\t<li>0.203504634212763</li>\n",
       "\t<li>0.123789607365821</li>\n",
       "\t<li>0.0876615839381303</li>\n",
       "\t<li>0.0754003076549039</li>\n",
       "\t<li>0.0634418680584517</li>\n",
       "\t<li>0.0421299655576488</li>\n",
       "\t<li>0.03538158734139</li>\n",
       "\t<li>0.0229974629869901</li>\n",
       "\t<li>0.0129638655087066</li>\n",
       "\t<li>0.0116330853530915</li>\n",
       "\t<li>0.00858086736143528</li>\n",
       "\t<li>0.000285243128879819</li>\n",
       "</ol>\n"
      ],
      "text/latex": [
       "\\begin{enumerate}\n",
       "\\item 0.312229921531789\n",
       "\\item 0.203504634212763\n",
       "\\item 0.123789607365821\n",
       "\\item 0.0876615839381303\n",
       "\\item 0.0754003076549039\n",
       "\\item 0.0634418680584517\n",
       "\\item 0.0421299655576488\n",
       "\\item 0.03538158734139\n",
       "\\item 0.0229974629869901\n",
       "\\item 0.0129638655087066\n",
       "\\item 0.0116330853530915\n",
       "\\item 0.00858086736143528\n",
       "\\item 0.000285243128879819\n",
       "\\end{enumerate}\n"
      ],
      "text/markdown": [
       "1. 0.312229921531789\n",
       "2. 0.203504634212763\n",
       "3. 0.123789607365821\n",
       "4. 0.0876615839381303\n",
       "5. 0.0754003076549039\n",
       "6. 0.0634418680584517\n",
       "7. 0.0421299655576488\n",
       "8. 0.03538158734139\n",
       "9. 0.0229974629869901\n",
       "10. 0.0129638655087066\n",
       "11. 0.0116330853530915\n",
       "12. 0.00858086736143528\n",
       "13. 0.000285243128879819\n",
       "\n",
       "\n"
      ],
      "text/plain": [
       "[[1]]\n",
       "[1] 0.3122299\n",
       "\n",
       "[[2]]\n",
       "[1] 0.2035046\n",
       "\n",
       "[[3]]\n",
       "[1] 0.1237896\n",
       "\n",
       "[[4]]\n",
       "[1] 0.08766158\n",
       "\n",
       "[[5]]\n",
       "[1] 0.07540031\n",
       "\n",
       "[[6]]\n",
       "[1] 0.06344187\n",
       "\n",
       "[[7]]\n",
       "[1] 0.04212997\n",
       "\n",
       "[[8]]\n",
       "[1] 0.03538159\n",
       "\n",
       "[[9]]\n",
       "[1] 0.02299746\n",
       "\n",
       "[[10]]\n",
       "[1] 0.01296387\n",
       "\n",
       "[[11]]\n",
       "[1] 0.01163309\n",
       "\n",
       "[[12]]\n",
       "[1] 0.008580867\n",
       "\n",
       "[[13]]\n",
       "[1] 0.0002852431\n"
      ]
     },
     "metadata": {},
     "output_type": "display_data"
    }
   ],
   "source": [
    "as.list(percent_explained)"
   ]
  },
  {
   "cell_type": "code",
   "execution_count": 23,
   "metadata": {
    "vscode": {
     "languageId": "r"
    }
   },
   "outputs": [
    {
     "data": {
      "text/html": [
       "0.727185747048502"
      ],
      "text/latex": [
       "0.727185747048502"
      ],
      "text/markdown": [
       "0.727185747048502"
      ],
      "text/plain": [
       "[1] 0.7271857"
      ]
     },
     "metadata": {},
     "output_type": "display_data"
    },
    {
     "data": {
      "text/html": [
       "0.802586054703406"
      ],
      "text/latex": [
       "0.802586054703406"
      ],
      "text/markdown": [
       "0.802586054703406"
      ],
      "text/plain": [
       "[1] 0.8025861"
      ]
     },
     "metadata": {},
     "output_type": "display_data"
    },
    {
     "data": {
      "text/html": [
       "0.866027922761858"
      ],
      "text/latex": [
       "0.866027922761858"
      ],
      "text/markdown": [
       "0.866027922761858"
      ],
      "text/plain": [
       "[1] 0.8660279"
      ]
     },
     "metadata": {},
     "output_type": "display_data"
    }
   ],
   "source": [
    "sum(percent_explained[1:4])\n",
    "sum(percent_explained[1:5])\n",
    "sum(percent_explained[1:6])"
   ]
  },
  {
   "attachments": {},
   "cell_type": "markdown",
   "metadata": {},
   "source": [
    "### eigen value"
   ]
  },
  {
   "cell_type": "code",
   "execution_count": 13,
   "metadata": {
    "vscode": {
     "languageId": "r"
    }
   },
   "outputs": [
    {
     "data": {
      "text/html": [
       "<ol>\n",
       "\t<li>4.05898897991325</li>\n",
       "\t<li>2.64556024476592</li>\n",
       "\t<li>1.60926489575567</li>\n",
       "\t<li>1.13960059119569</li>\n",
       "\t<li>0.98020399951375</li>\n",
       "\t<li>0.824744284759872</li>\n",
       "\t<li>0.547689552249435</li>\n",
       "\t<li>0.45996063543807</li>\n",
       "\t<li>0.298967018830871</li>\n",
       "\t<li>0.168530251613186</li>\n",
       "\t<li>0.15123010959019</li>\n",
       "\t<li>0.111551275698659</li>\n",
       "\t<li>0.00370816067543765</li>\n",
       "</ol>\n"
      ],
      "text/latex": [
       "\\begin{enumerate}\n",
       "\\item 4.05898897991325\n",
       "\\item 2.64556024476592\n",
       "\\item 1.60926489575567\n",
       "\\item 1.13960059119569\n",
       "\\item 0.98020399951375\n",
       "\\item 0.824744284759872\n",
       "\\item 0.547689552249435\n",
       "\\item 0.45996063543807\n",
       "\\item 0.298967018830871\n",
       "\\item 0.168530251613186\n",
       "\\item 0.15123010959019\n",
       "\\item 0.111551275698659\n",
       "\\item 0.00370816067543765\n",
       "\\end{enumerate}\n"
      ],
      "text/markdown": [
       "1. 4.05898897991325\n",
       "2. 2.64556024476592\n",
       "3. 1.60926489575567\n",
       "4. 1.13960059119569\n",
       "5. 0.98020399951375\n",
       "6. 0.824744284759872\n",
       "7. 0.547689552249435\n",
       "8. 0.45996063543807\n",
       "9. 0.298967018830871\n",
       "10. 0.168530251613186\n",
       "11. 0.15123010959019\n",
       "12. 0.111551275698659\n",
       "13. 0.00370816067543765\n",
       "\n",
       "\n"
      ],
      "text/plain": [
       "[[1]]\n",
       "[1] 4.058989\n",
       "\n",
       "[[2]]\n",
       "[1] 2.64556\n",
       "\n",
       "[[3]]\n",
       "[1] 1.609265\n",
       "\n",
       "[[4]]\n",
       "[1] 1.139601\n",
       "\n",
       "[[5]]\n",
       "[1] 0.980204\n",
       "\n",
       "[[6]]\n",
       "[1] 0.8247443\n",
       "\n",
       "[[7]]\n",
       "[1] 0.5476896\n",
       "\n",
       "[[8]]\n",
       "[1] 0.4599606\n",
       "\n",
       "[[9]]\n",
       "[1] 0.298967\n",
       "\n",
       "[[10]]\n",
       "[1] 0.1685303\n",
       "\n",
       "[[11]]\n",
       "[1] 0.1512301\n",
       "\n",
       "[[12]]\n",
       "[1] 0.1115513\n",
       "\n",
       "[[13]]\n",
       "[1] 0.003708161\n"
      ]
     },
     "metadata": {},
     "output_type": "display_data"
    }
   ],
   "source": [
    "as.list(eigen_value)"
   ]
  },
  {
   "attachments": {},
   "cell_type": "markdown",
   "metadata": {},
   "source": [
    "### loadings"
   ]
  },
  {
   "cell_type": "code",
   "execution_count": 25,
   "metadata": {
    "vscode": {
     "languageId": "r"
    }
   },
   "outputs": [
    {
     "data": {
      "text/html": [
       "<table class=\"dataframe\">\n",
       "<caption>A data.frame: 13 × 4</caption>\n",
       "<thead>\n",
       "\t<tr><th></th><th scope=col>PC1</th><th scope=col>PC2</th><th scope=col>PC3</th><th scope=col>PC4</th></tr>\n",
       "\t<tr><th></th><th scope=col>&lt;dbl&gt;</th><th scope=col>&lt;dbl&gt;</th><th scope=col>&lt;dbl&gt;</th><th scope=col>&lt;dbl&gt;</th></tr>\n",
       "</thead>\n",
       "<tbody>\n",
       "\t<tr><th scope=row>has_computer</th><td> 0.47288891</td><td>-0.02442760</td><td> 0.10721627</td><td>-0.06093078</td></tr>\n",
       "\t<tr><th scope=row>no_computer</th><td> 0.20056267</td><td>-0.25288156</td><td>-0.58210439</td><td>-0.01030141</td></tr>\n",
       "\t<tr><th scope=row>with_internet</th><td> 0.47126532</td><td> 0.00816404</td><td> 0.13830333</td><td>-0.04908435</td></tr>\n",
       "\t<tr><th scope=row>no_internet</th><td> 0.20420996</td><td>-0.34706634</td><td>-0.49301848</td><td> 0.01948705</td></tr>\n",
       "\t<tr><th scope=row>total_population</th><td> 0.44033591</td><td>-0.01913394</td><td> 0.16992269</td><td>-0.04956443</td></tr>\n",
       "\t<tr><th scope=row>work_from_home</th><td> 0.23488701</td><td>-0.05887400</td><td> 0.49066769</td><td> 0.04533648</td></tr>\n",
       "\t<tr><th scope=row>X65_and_older</th><td> 0.35213674</td><td>-0.27837658</td><td> 0.02454598</td><td> 0.17397047</td></tr>\n",
       "\t<tr><th scope=row>median_income</th><td> 0.07656207</td><td>-0.10648033</td><td>-0.00130413</td><td>-0.09720139</td></tr>\n",
       "\t<tr><th scope=row>number_providers</th><td>-0.10602038</td><td>-0.33992194</td><td> 0.18558593</td><td>-0.51162516</td></tr>\n",
       "\t<tr><th scope=row>mean_lowest_cost</th><td> 0.07707167</td><td> 0.21997127</td><td>-0.01010764</td><td> 0.58843052</td></tr>\n",
       "\t<tr><th scope=row>mean_d_mbps</th><td> 0.20234658</td><td> 0.48222588</td><td>-0.15502203</td><td>-0.07639388</td></tr>\n",
       "\t<tr><th scope=row>mean_u_mbps</th><td> 0.10584459</td><td> 0.30252253</td><td>-0.11432772</td><td>-0.56923383</td></tr>\n",
       "\t<tr><th scope=row>mean_lat_ms</th><td>-0.15524417</td><td>-0.48401726</td><td> 0.21350513</td><td> 0.10626608</td></tr>\n",
       "</tbody>\n",
       "</table>\n"
      ],
      "text/latex": [
       "A data.frame: 13 × 4\n",
       "\\begin{tabular}{r|llll}\n",
       "  & PC1 & PC2 & PC3 & PC4\\\\\n",
       "  & <dbl> & <dbl> & <dbl> & <dbl>\\\\\n",
       "\\hline\n",
       "\thas\\_computer &  0.47288891 & -0.02442760 &  0.10721627 & -0.06093078\\\\\n",
       "\tno\\_computer &  0.20056267 & -0.25288156 & -0.58210439 & -0.01030141\\\\\n",
       "\twith\\_internet &  0.47126532 &  0.00816404 &  0.13830333 & -0.04908435\\\\\n",
       "\tno\\_internet &  0.20420996 & -0.34706634 & -0.49301848 &  0.01948705\\\\\n",
       "\ttotal\\_population &  0.44033591 & -0.01913394 &  0.16992269 & -0.04956443\\\\\n",
       "\twork\\_from\\_home &  0.23488701 & -0.05887400 &  0.49066769 &  0.04533648\\\\\n",
       "\tX65\\_and\\_older &  0.35213674 & -0.27837658 &  0.02454598 &  0.17397047\\\\\n",
       "\tmedian\\_income &  0.07656207 & -0.10648033 & -0.00130413 & -0.09720139\\\\\n",
       "\tnumber\\_providers & -0.10602038 & -0.33992194 &  0.18558593 & -0.51162516\\\\\n",
       "\tmean\\_lowest\\_cost &  0.07707167 &  0.21997127 & -0.01010764 &  0.58843052\\\\\n",
       "\tmean\\_d\\_mbps &  0.20234658 &  0.48222588 & -0.15502203 & -0.07639388\\\\\n",
       "\tmean\\_u\\_mbps &  0.10584459 &  0.30252253 & -0.11432772 & -0.56923383\\\\\n",
       "\tmean\\_lat\\_ms & -0.15524417 & -0.48401726 &  0.21350513 &  0.10626608\\\\\n",
       "\\end{tabular}\n"
      ],
      "text/markdown": [
       "\n",
       "A data.frame: 13 × 4\n",
       "\n",
       "| <!--/--> | PC1 &lt;dbl&gt; | PC2 &lt;dbl&gt; | PC3 &lt;dbl&gt; | PC4 &lt;dbl&gt; |\n",
       "|---|---|---|---|---|\n",
       "| has_computer |  0.47288891 | -0.02442760 |  0.10721627 | -0.06093078 |\n",
       "| no_computer |  0.20056267 | -0.25288156 | -0.58210439 | -0.01030141 |\n",
       "| with_internet |  0.47126532 |  0.00816404 |  0.13830333 | -0.04908435 |\n",
       "| no_internet |  0.20420996 | -0.34706634 | -0.49301848 |  0.01948705 |\n",
       "| total_population |  0.44033591 | -0.01913394 |  0.16992269 | -0.04956443 |\n",
       "| work_from_home |  0.23488701 | -0.05887400 |  0.49066769 |  0.04533648 |\n",
       "| X65_and_older |  0.35213674 | -0.27837658 |  0.02454598 |  0.17397047 |\n",
       "| median_income |  0.07656207 | -0.10648033 | -0.00130413 | -0.09720139 |\n",
       "| number_providers | -0.10602038 | -0.33992194 |  0.18558593 | -0.51162516 |\n",
       "| mean_lowest_cost |  0.07707167 |  0.21997127 | -0.01010764 |  0.58843052 |\n",
       "| mean_d_mbps |  0.20234658 |  0.48222588 | -0.15502203 | -0.07639388 |\n",
       "| mean_u_mbps |  0.10584459 |  0.30252253 | -0.11432772 | -0.56923383 |\n",
       "| mean_lat_ms | -0.15524417 | -0.48401726 |  0.21350513 |  0.10626608 |\n",
       "\n"
      ],
      "text/plain": [
       "                 PC1         PC2         PC3         PC4        \n",
       "has_computer      0.47288891 -0.02442760  0.10721627 -0.06093078\n",
       "no_computer       0.20056267 -0.25288156 -0.58210439 -0.01030141\n",
       "with_internet     0.47126532  0.00816404  0.13830333 -0.04908435\n",
       "no_internet       0.20420996 -0.34706634 -0.49301848  0.01948705\n",
       "total_population  0.44033591 -0.01913394  0.16992269 -0.04956443\n",
       "work_from_home    0.23488701 -0.05887400  0.49066769  0.04533648\n",
       "X65_and_older     0.35213674 -0.27837658  0.02454598  0.17397047\n",
       "median_income     0.07656207 -0.10648033 -0.00130413 -0.09720139\n",
       "number_providers -0.10602038 -0.33992194  0.18558593 -0.51162516\n",
       "mean_lowest_cost  0.07707167  0.21997127 -0.01010764  0.58843052\n",
       "mean_d_mbps       0.20234658  0.48222588 -0.15502203 -0.07639388\n",
       "mean_u_mbps       0.10584459  0.30252253 -0.11432772 -0.56923383\n",
       "mean_lat_ms      -0.15524417 -0.48401726  0.21350513  0.10626608"
      ]
     },
     "metadata": {},
     "output_type": "display_data"
    }
   ],
   "source": [
    "# remove scientific notation\n",
    "options(scipen=999)\n",
    "\n",
    "loadings %>% as.data.frame()"
   ]
  },
  {
   "attachments": {},
   "cell_type": "markdown",
   "metadata": {},
   "source": [
    "### remove variables that don't exceed threshold of sqrt(1/27) = |.19245| based on loadings "
   ]
  },
  {
   "cell_type": "code",
   "execution_count": null,
   "metadata": {
    "vscode": {
     "languageId": "r"
    }
   },
   "outputs": [],
   "source": [
    "as.matrix(loadings)"
   ]
  },
  {
   "cell_type": "code",
   "execution_count": 26,
   "metadata": {
    "vscode": {
     "languageId": "r"
    }
   },
   "outputs": [
    {
     "name": "stdout",
     "output_type": "stream",
     "text": [
      "[1] 0.2773501\n"
     ]
    }
   ],
   "source": [
    "threshold = sqrt(1/13)\n",
    "print(threshold)"
   ]
  },
  {
   "cell_type": "code",
   "execution_count": 27,
   "metadata": {
    "vscode": {
     "languageId": "r"
    }
   },
   "outputs": [
    {
     "data": {
      "text/html": [
       "<table class=\"dataframe\">\n",
       "<caption>A data.frame: 12 × 4</caption>\n",
       "<thead>\n",
       "\t<tr><th></th><th scope=col>PC1</th><th scope=col>PC2</th><th scope=col>PC3</th><th scope=col>PC4</th></tr>\n",
       "\t<tr><th></th><th scope=col>&lt;dbl&gt;</th><th scope=col>&lt;dbl&gt;</th><th scope=col>&lt;dbl&gt;</th><th scope=col>&lt;dbl&gt;</th></tr>\n",
       "</thead>\n",
       "<tbody>\n",
       "\t<tr><th scope=row>has_computer</th><td> 0.47288891</td><td>-0.02442760</td><td> 0.10721627</td><td>-0.06093078</td></tr>\n",
       "\t<tr><th scope=row>no_computer</th><td> 0.20056267</td><td>-0.25288156</td><td>-0.58210439</td><td>-0.01030141</td></tr>\n",
       "\t<tr><th scope=row>with_internet</th><td> 0.47126532</td><td> 0.00816404</td><td> 0.13830333</td><td>-0.04908435</td></tr>\n",
       "\t<tr><th scope=row>no_internet</th><td> 0.20420996</td><td>-0.34706634</td><td>-0.49301848</td><td> 0.01948705</td></tr>\n",
       "\t<tr><th scope=row>total_population</th><td> 0.44033591</td><td>-0.01913394</td><td> 0.16992269</td><td>-0.04956443</td></tr>\n",
       "\t<tr><th scope=row>work_from_home</th><td> 0.23488701</td><td>-0.05887400</td><td> 0.49066769</td><td> 0.04533648</td></tr>\n",
       "\t<tr><th scope=row>X65_and_older</th><td> 0.35213674</td><td>-0.27837658</td><td> 0.02454598</td><td> 0.17397047</td></tr>\n",
       "\t<tr><th scope=row>number_providers</th><td>-0.10602038</td><td>-0.33992194</td><td> 0.18558593</td><td>-0.51162516</td></tr>\n",
       "\t<tr><th scope=row>mean_lowest_cost</th><td> 0.07707167</td><td> 0.21997127</td><td>-0.01010764</td><td> 0.58843052</td></tr>\n",
       "\t<tr><th scope=row>mean_d_mbps</th><td> 0.20234658</td><td> 0.48222588</td><td>-0.15502203</td><td>-0.07639388</td></tr>\n",
       "\t<tr><th scope=row>mean_u_mbps</th><td> 0.10584459</td><td> 0.30252253</td><td>-0.11432772</td><td>-0.56923383</td></tr>\n",
       "\t<tr><th scope=row>mean_lat_ms</th><td>-0.15524417</td><td>-0.48401726</td><td> 0.21350513</td><td> 0.10626608</td></tr>\n",
       "</tbody>\n",
       "</table>\n"
      ],
      "text/latex": [
       "A data.frame: 12 × 4\n",
       "\\begin{tabular}{r|llll}\n",
       "  & PC1 & PC2 & PC3 & PC4\\\\\n",
       "  & <dbl> & <dbl> & <dbl> & <dbl>\\\\\n",
       "\\hline\n",
       "\thas\\_computer &  0.47288891 & -0.02442760 &  0.10721627 & -0.06093078\\\\\n",
       "\tno\\_computer &  0.20056267 & -0.25288156 & -0.58210439 & -0.01030141\\\\\n",
       "\twith\\_internet &  0.47126532 &  0.00816404 &  0.13830333 & -0.04908435\\\\\n",
       "\tno\\_internet &  0.20420996 & -0.34706634 & -0.49301848 &  0.01948705\\\\\n",
       "\ttotal\\_population &  0.44033591 & -0.01913394 &  0.16992269 & -0.04956443\\\\\n",
       "\twork\\_from\\_home &  0.23488701 & -0.05887400 &  0.49066769 &  0.04533648\\\\\n",
       "\tX65\\_and\\_older &  0.35213674 & -0.27837658 &  0.02454598 &  0.17397047\\\\\n",
       "\tnumber\\_providers & -0.10602038 & -0.33992194 &  0.18558593 & -0.51162516\\\\\n",
       "\tmean\\_lowest\\_cost &  0.07707167 &  0.21997127 & -0.01010764 &  0.58843052\\\\\n",
       "\tmean\\_d\\_mbps &  0.20234658 &  0.48222588 & -0.15502203 & -0.07639388\\\\\n",
       "\tmean\\_u\\_mbps &  0.10584459 &  0.30252253 & -0.11432772 & -0.56923383\\\\\n",
       "\tmean\\_lat\\_ms & -0.15524417 & -0.48401726 &  0.21350513 &  0.10626608\\\\\n",
       "\\end{tabular}\n"
      ],
      "text/markdown": [
       "\n",
       "A data.frame: 12 × 4\n",
       "\n",
       "| <!--/--> | PC1 &lt;dbl&gt; | PC2 &lt;dbl&gt; | PC3 &lt;dbl&gt; | PC4 &lt;dbl&gt; |\n",
       "|---|---|---|---|---|\n",
       "| has_computer |  0.47288891 | -0.02442760 |  0.10721627 | -0.06093078 |\n",
       "| no_computer |  0.20056267 | -0.25288156 | -0.58210439 | -0.01030141 |\n",
       "| with_internet |  0.47126532 |  0.00816404 |  0.13830333 | -0.04908435 |\n",
       "| no_internet |  0.20420996 | -0.34706634 | -0.49301848 |  0.01948705 |\n",
       "| total_population |  0.44033591 | -0.01913394 |  0.16992269 | -0.04956443 |\n",
       "| work_from_home |  0.23488701 | -0.05887400 |  0.49066769 |  0.04533648 |\n",
       "| X65_and_older |  0.35213674 | -0.27837658 |  0.02454598 |  0.17397047 |\n",
       "| number_providers | -0.10602038 | -0.33992194 |  0.18558593 | -0.51162516 |\n",
       "| mean_lowest_cost |  0.07707167 |  0.21997127 | -0.01010764 |  0.58843052 |\n",
       "| mean_d_mbps |  0.20234658 |  0.48222588 | -0.15502203 | -0.07639388 |\n",
       "| mean_u_mbps |  0.10584459 |  0.30252253 | -0.11432772 | -0.56923383 |\n",
       "| mean_lat_ms | -0.15524417 | -0.48401726 |  0.21350513 |  0.10626608 |\n",
       "\n"
      ],
      "text/plain": [
       "                 PC1         PC2         PC3         PC4        \n",
       "has_computer      0.47288891 -0.02442760  0.10721627 -0.06093078\n",
       "no_computer       0.20056267 -0.25288156 -0.58210439 -0.01030141\n",
       "with_internet     0.47126532  0.00816404  0.13830333 -0.04908435\n",
       "no_internet       0.20420996 -0.34706634 -0.49301848  0.01948705\n",
       "total_population  0.44033591 -0.01913394  0.16992269 -0.04956443\n",
       "work_from_home    0.23488701 -0.05887400  0.49066769  0.04533648\n",
       "X65_and_older     0.35213674 -0.27837658  0.02454598  0.17397047\n",
       "number_providers -0.10602038 -0.33992194  0.18558593 -0.51162516\n",
       "mean_lowest_cost  0.07707167  0.21997127 -0.01010764  0.58843052\n",
       "mean_d_mbps       0.20234658  0.48222588 -0.15502203 -0.07639388\n",
       "mean_u_mbps       0.10584459  0.30252253 -0.11432772 -0.56923383\n",
       "mean_lat_ms      -0.15524417 -0.48401726  0.21350513  0.10626608"
      ]
     },
     "metadata": {},
     "output_type": "display_data"
    }
   ],
   "source": [
    "loadings <- loadings %>%\n",
    "    as.data.frame() %>% \n",
    "    filter(!(row.names(.) %in% c('median_income')))\n",
    "\n",
    "loadings"
   ]
  },
  {
   "attachments": {},
   "cell_type": "markdown",
   "metadata": {},
   "source": [
    "### principal component 1 - 4"
   ]
  },
  {
   "cell_type": "code",
   "execution_count": 28,
   "metadata": {
    "vscode": {
     "languageId": "r"
    }
   },
   "outputs": [
    {
     "data": {
      "text/html": [
       "<table class=\"dataframe\">\n",
       "<caption>A matrix: 6 × 4 of type dbl</caption>\n",
       "<thead>\n",
       "\t<tr><th scope=col>PC1</th><th scope=col>PC2</th><th scope=col>PC3</th><th scope=col>PC4</th></tr>\n",
       "</thead>\n",
       "<tbody>\n",
       "\t<tr><td>-1.0278534</td><td> 2.43313544</td><td>-0.7421958</td><td> 0.6227943</td></tr>\n",
       "\t<tr><td>-2.5567363</td><td> 2.23886577</td><td>-1.7197546</td><td> 0.2102354</td></tr>\n",
       "\t<tr><td> 0.9808996</td><td> 0.41833790</td><td> 0.4697185</td><td> 0.3485766</td></tr>\n",
       "\t<tr><td> 1.5567772</td><td>-0.07165592</td><td> 0.6048426</td><td>-1.1854047</td></tr>\n",
       "\t<tr><td>-0.1631020</td><td> 0.41428048</td><td> 1.9776299</td><td>-1.0461623</td></tr>\n",
       "\t<tr><td>-0.3830182</td><td> 0.72454258</td><td>-0.1934017</td><td>-0.3277980</td></tr>\n",
       "</tbody>\n",
       "</table>\n"
      ],
      "text/latex": [
       "A matrix: 6 × 4 of type dbl\n",
       "\\begin{tabular}{llll}\n",
       " PC1 & PC2 & PC3 & PC4\\\\\n",
       "\\hline\n",
       "\t -1.0278534 &  2.43313544 & -0.7421958 &  0.6227943\\\\\n",
       "\t -2.5567363 &  2.23886577 & -1.7197546 &  0.2102354\\\\\n",
       "\t  0.9808996 &  0.41833790 &  0.4697185 &  0.3485766\\\\\n",
       "\t  1.5567772 & -0.07165592 &  0.6048426 & -1.1854047\\\\\n",
       "\t -0.1631020 &  0.41428048 &  1.9776299 & -1.0461623\\\\\n",
       "\t -0.3830182 &  0.72454258 & -0.1934017 & -0.3277980\\\\\n",
       "\\end{tabular}\n"
      ],
      "text/markdown": [
       "\n",
       "A matrix: 6 × 4 of type dbl\n",
       "\n",
       "| PC1 | PC2 | PC3 | PC4 |\n",
       "|---|---|---|---|\n",
       "| -1.0278534 |  2.43313544 | -0.7421958 |  0.6227943 |\n",
       "| -2.5567363 |  2.23886577 | -1.7197546 |  0.2102354 |\n",
       "|  0.9808996 |  0.41833790 |  0.4697185 |  0.3485766 |\n",
       "|  1.5567772 | -0.07165592 |  0.6048426 | -1.1854047 |\n",
       "| -0.1631020 |  0.41428048 |  1.9776299 | -1.0461623 |\n",
       "| -0.3830182 |  0.72454258 | -0.1934017 | -0.3277980 |\n",
       "\n"
      ],
      "text/plain": [
       "     PC1        PC2         PC3        PC4       \n",
       "[1,] -1.0278534  2.43313544 -0.7421958  0.6227943\n",
       "[2,] -2.5567363  2.23886577 -1.7197546  0.2102354\n",
       "[3,]  0.9808996  0.41833790  0.4697185  0.3485766\n",
       "[4,]  1.5567772 -0.07165592  0.6048426 -1.1854047\n",
       "[5,] -0.1631020  0.41428048  1.9776299 -1.0461623\n",
       "[6,] -0.3830182  0.72454258 -0.1934017 -0.3277980"
      ]
     },
     "metadata": {},
     "output_type": "display_data"
    }
   ],
   "source": [
    "head(pc_tract)"
   ]
  },
  {
   "cell_type": "code",
   "execution_count": 33,
   "metadata": {
    "vscode": {
     "languageId": "r"
    }
   },
   "outputs": [
    {
     "data": {
      "text/html": [
       "<table class=\"dataframe\">\n",
       "<caption>A data.frame: 1 × 4</caption>\n",
       "<thead>\n",
       "\t<tr><th></th><th scope=col>PC1</th><th scope=col>PC2</th><th scope=col>PC3</th><th scope=col>PC4</th></tr>\n",
       "\t<tr><th></th><th scope=col>&lt;dbl&gt;</th><th scope=col>&lt;dbl&gt;</th><th scope=col>&lt;dbl&gt;</th><th scope=col>&lt;dbl&gt;</th></tr>\n",
       "</thead>\n",
       "<tbody>\n",
       "\t<tr><th scope=row>has_computer</th><td>0.4728889</td><td>-0.0244276</td><td>0.1072163</td><td>-0.06093078</td></tr>\n",
       "</tbody>\n",
       "</table>\n"
      ],
      "text/latex": [
       "A data.frame: 1 × 4\n",
       "\\begin{tabular}{r|llll}\n",
       "  & PC1 & PC2 & PC3 & PC4\\\\\n",
       "  & <dbl> & <dbl> & <dbl> & <dbl>\\\\\n",
       "\\hline\n",
       "\thas\\_computer & 0.4728889 & -0.0244276 & 0.1072163 & -0.06093078\\\\\n",
       "\\end{tabular}\n"
      ],
      "text/markdown": [
       "\n",
       "A data.frame: 1 × 4\n",
       "\n",
       "| <!--/--> | PC1 &lt;dbl&gt; | PC2 &lt;dbl&gt; | PC3 &lt;dbl&gt; | PC4 &lt;dbl&gt; |\n",
       "|---|---|---|---|---|\n",
       "| has_computer | 0.4728889 | -0.0244276 | 0.1072163 | -0.06093078 |\n",
       "\n"
      ],
      "text/plain": [
       "             PC1       PC2        PC3       PC4        \n",
       "has_computer 0.4728889 -0.0244276 0.1072163 -0.06093078"
      ]
     },
     "metadata": {},
     "output_type": "display_data"
    }
   ],
   "source": [
    "loadings[1,]"
   ]
  },
  {
   "attachments": {},
   "cell_type": "markdown",
   "metadata": {},
   "source": [
    "multiply eigen vectors by eigen values"
   ]
  },
  {
   "cell_type": "code",
   "execution_count": 34,
   "metadata": {
    "vscode": {
     "languageId": "r"
    }
   },
   "outputs": [],
   "source": [
    "variable_weights <- loadings\n",
    "\n",
    "for(i in 1:ncol(variable_weights)){\n",
    "    variable_weights[i, ] <- variable_weights[i, ] * eigen_value[i]\n",
    "}"
   ]
  },
  {
   "attachments": {},
   "cell_type": "markdown",
   "metadata": {},
   "source": [
    "prove that it worked"
   ]
  },
  {
   "cell_type": "code",
   "execution_count": 35,
   "metadata": {
    "vscode": {
     "languageId": "r"
    }
   },
   "outputs": [
    {
     "data": {
      "text/html": [
       "<table class=\"dataframe\">\n",
       "<caption>A data.frame: 12 × 5</caption>\n",
       "<thead>\n",
       "\t<tr><th></th><th scope=col>PC1</th><th scope=col>PC2</th><th scope=col>PC3</th><th scope=col>PC4</th><th scope=col>weight</th></tr>\n",
       "\t<tr><th></th><th scope=col>&lt;dbl&gt;</th><th scope=col>&lt;dbl&gt;</th><th scope=col>&lt;dbl&gt;</th><th scope=col>&lt;dbl&gt;</th><th scope=col>&lt;dbl&gt;</th></tr>\n",
       "</thead>\n",
       "<tbody>\n",
       "\t<tr><th scope=row>has_computer</th><td> 1.91945086</td><td>-0.09915138</td><td> 0.43518968</td><td>-0.24731736</td><td> 2.0081718</td></tr>\n",
       "\t<tr><th scope=row>no_computer</th><td> 0.53060062</td><td>-0.66901340</td><td>-1.53999223</td><td>-0.02725299</td><td>-1.7056580</td></tr>\n",
       "\t<tr><th scope=row>with_internet</th><td> 0.75839073</td><td> 0.01313810</td><td> 0.22256670</td><td>-0.07898973</td><td> 0.9151058</td></tr>\n",
       "\t<tr><th scope=row>no_internet</th><td> 0.23271779</td><td>-0.39551701</td><td>-0.56184415</td><td> 0.02220745</td><td>-0.7024359</td></tr>\n",
       "\t<tr><th scope=row>total_population</th><td> 0.44033591</td><td>-0.01913394</td><td> 0.16992269</td><td>-0.04956443</td><td> 0.5415602</td></tr>\n",
       "\t<tr><th scope=row>work_from_home</th><td> 0.23488701</td><td>-0.05887400</td><td> 0.49066769</td><td> 0.04533648</td><td> 0.7120172</td></tr>\n",
       "\t<tr><th scope=row>X65_and_older</th><td> 0.35213674</td><td>-0.27837658</td><td> 0.02454598</td><td> 0.17397047</td><td> 0.2722766</td></tr>\n",
       "\t<tr><th scope=row>number_providers</th><td>-0.10602038</td><td>-0.33992194</td><td> 0.18558593</td><td>-0.51162516</td><td>-0.7719815</td></tr>\n",
       "\t<tr><th scope=row>mean_lowest_cost</th><td> 0.07707167</td><td> 0.21997127</td><td>-0.01010764</td><td> 0.58843052</td><td> 0.8753658</td></tr>\n",
       "\t<tr><th scope=row>mean_d_mbps</th><td> 0.20234658</td><td> 0.48222588</td><td>-0.15502203</td><td>-0.07639388</td><td> 0.4531565</td></tr>\n",
       "\t<tr><th scope=row>mean_u_mbps</th><td> 0.10584459</td><td> 0.30252253</td><td>-0.11432772</td><td>-0.56923383</td><td>-0.2751944</td></tr>\n",
       "\t<tr><th scope=row>mean_lat_ms</th><td>-0.15524417</td><td>-0.48401726</td><td> 0.21350513</td><td> 0.10626608</td><td>-0.3194902</td></tr>\n",
       "</tbody>\n",
       "</table>\n"
      ],
      "text/latex": [
       "A data.frame: 12 × 5\n",
       "\\begin{tabular}{r|lllll}\n",
       "  & PC1 & PC2 & PC3 & PC4 & weight\\\\\n",
       "  & <dbl> & <dbl> & <dbl> & <dbl> & <dbl>\\\\\n",
       "\\hline\n",
       "\thas\\_computer &  1.91945086 & -0.09915138 &  0.43518968 & -0.24731736 &  2.0081718\\\\\n",
       "\tno\\_computer &  0.53060062 & -0.66901340 & -1.53999223 & -0.02725299 & -1.7056580\\\\\n",
       "\twith\\_internet &  0.75839073 &  0.01313810 &  0.22256670 & -0.07898973 &  0.9151058\\\\\n",
       "\tno\\_internet &  0.23271779 & -0.39551701 & -0.56184415 &  0.02220745 & -0.7024359\\\\\n",
       "\ttotal\\_population &  0.44033591 & -0.01913394 &  0.16992269 & -0.04956443 &  0.5415602\\\\\n",
       "\twork\\_from\\_home &  0.23488701 & -0.05887400 &  0.49066769 &  0.04533648 &  0.7120172\\\\\n",
       "\tX65\\_and\\_older &  0.35213674 & -0.27837658 &  0.02454598 &  0.17397047 &  0.2722766\\\\\n",
       "\tnumber\\_providers & -0.10602038 & -0.33992194 &  0.18558593 & -0.51162516 & -0.7719815\\\\\n",
       "\tmean\\_lowest\\_cost &  0.07707167 &  0.21997127 & -0.01010764 &  0.58843052 &  0.8753658\\\\\n",
       "\tmean\\_d\\_mbps &  0.20234658 &  0.48222588 & -0.15502203 & -0.07639388 &  0.4531565\\\\\n",
       "\tmean\\_u\\_mbps &  0.10584459 &  0.30252253 & -0.11432772 & -0.56923383 & -0.2751944\\\\\n",
       "\tmean\\_lat\\_ms & -0.15524417 & -0.48401726 &  0.21350513 &  0.10626608 & -0.3194902\\\\\n",
       "\\end{tabular}\n"
      ],
      "text/markdown": [
       "\n",
       "A data.frame: 12 × 5\n",
       "\n",
       "| <!--/--> | PC1 &lt;dbl&gt; | PC2 &lt;dbl&gt; | PC3 &lt;dbl&gt; | PC4 &lt;dbl&gt; | weight &lt;dbl&gt; |\n",
       "|---|---|---|---|---|---|\n",
       "| has_computer |  1.91945086 | -0.09915138 |  0.43518968 | -0.24731736 |  2.0081718 |\n",
       "| no_computer |  0.53060062 | -0.66901340 | -1.53999223 | -0.02725299 | -1.7056580 |\n",
       "| with_internet |  0.75839073 |  0.01313810 |  0.22256670 | -0.07898973 |  0.9151058 |\n",
       "| no_internet |  0.23271779 | -0.39551701 | -0.56184415 |  0.02220745 | -0.7024359 |\n",
       "| total_population |  0.44033591 | -0.01913394 |  0.16992269 | -0.04956443 |  0.5415602 |\n",
       "| work_from_home |  0.23488701 | -0.05887400 |  0.49066769 |  0.04533648 |  0.7120172 |\n",
       "| X65_and_older |  0.35213674 | -0.27837658 |  0.02454598 |  0.17397047 |  0.2722766 |\n",
       "| number_providers | -0.10602038 | -0.33992194 |  0.18558593 | -0.51162516 | -0.7719815 |\n",
       "| mean_lowest_cost |  0.07707167 |  0.21997127 | -0.01010764 |  0.58843052 |  0.8753658 |\n",
       "| mean_d_mbps |  0.20234658 |  0.48222588 | -0.15502203 | -0.07639388 |  0.4531565 |\n",
       "| mean_u_mbps |  0.10584459 |  0.30252253 | -0.11432772 | -0.56923383 | -0.2751944 |\n",
       "| mean_lat_ms | -0.15524417 | -0.48401726 |  0.21350513 |  0.10626608 | -0.3194902 |\n",
       "\n"
      ],
      "text/plain": [
       "                 PC1         PC2         PC3         PC4         weight    \n",
       "has_computer      1.91945086 -0.09915138  0.43518968 -0.24731736  2.0081718\n",
       "no_computer       0.53060062 -0.66901340 -1.53999223 -0.02725299 -1.7056580\n",
       "with_internet     0.75839073  0.01313810  0.22256670 -0.07898973  0.9151058\n",
       "no_internet       0.23271779 -0.39551701 -0.56184415  0.02220745 -0.7024359\n",
       "total_population  0.44033591 -0.01913394  0.16992269 -0.04956443  0.5415602\n",
       "work_from_home    0.23488701 -0.05887400  0.49066769  0.04533648  0.7120172\n",
       "X65_and_older     0.35213674 -0.27837658  0.02454598  0.17397047  0.2722766\n",
       "number_providers -0.10602038 -0.33992194  0.18558593 -0.51162516 -0.7719815\n",
       "mean_lowest_cost  0.07707167  0.21997127 -0.01010764  0.58843052  0.8753658\n",
       "mean_d_mbps       0.20234658  0.48222588 -0.15502203 -0.07639388  0.4531565\n",
       "mean_u_mbps       0.10584459  0.30252253 -0.11432772 -0.56923383 -0.2751944\n",
       "mean_lat_ms      -0.15524417 -0.48401726  0.21350513  0.10626608 -0.3194902"
      ]
     },
     "metadata": {},
     "output_type": "display_data"
    }
   ],
   "source": [
    "variable_weights %>% \n",
    "    as.data.frame() %>% \n",
    "    mutate(weight = PC1 + PC2 + PC3 + PC4)"
   ]
  },
  {
   "attachments": {},
   "cell_type": "markdown",
   "metadata": {},
   "source": [
    "transmute instead of mutate and assign to variable"
   ]
  },
  {
   "cell_type": "code",
   "execution_count": 36,
   "metadata": {
    "vscode": {
     "languageId": "r"
    }
   },
   "outputs": [],
   "source": [
    "variable_weights <- variable_weights %>% \n",
    "    as.data.frame() %>% \n",
    "    transmute(weight = PC1 + PC2 + PC3 + PC4)"
   ]
  },
  {
   "cell_type": "code",
   "execution_count": 37,
   "metadata": {
    "vscode": {
     "languageId": "r"
    }
   },
   "outputs": [
    {
     "data": {
      "text/html": [
       "<table class=\"dataframe\">\n",
       "<caption>A data.frame: 12 × 1</caption>\n",
       "<thead>\n",
       "\t<tr><th></th><th scope=col>weight</th></tr>\n",
       "\t<tr><th></th><th scope=col>&lt;dbl&gt;</th></tr>\n",
       "</thead>\n",
       "<tbody>\n",
       "\t<tr><th scope=row>has_computer</th><td> 2.0081718</td></tr>\n",
       "\t<tr><th scope=row>no_computer</th><td>-1.7056580</td></tr>\n",
       "\t<tr><th scope=row>with_internet</th><td> 0.9151058</td></tr>\n",
       "\t<tr><th scope=row>no_internet</th><td>-0.7024359</td></tr>\n",
       "\t<tr><th scope=row>total_population</th><td> 0.5415602</td></tr>\n",
       "\t<tr><th scope=row>work_from_home</th><td> 0.7120172</td></tr>\n",
       "\t<tr><th scope=row>X65_and_older</th><td> 0.2722766</td></tr>\n",
       "\t<tr><th scope=row>number_providers</th><td>-0.7719815</td></tr>\n",
       "\t<tr><th scope=row>mean_lowest_cost</th><td> 0.8753658</td></tr>\n",
       "\t<tr><th scope=row>mean_d_mbps</th><td> 0.4531565</td></tr>\n",
       "\t<tr><th scope=row>mean_u_mbps</th><td>-0.2751944</td></tr>\n",
       "\t<tr><th scope=row>mean_lat_ms</th><td>-0.3194902</td></tr>\n",
       "</tbody>\n",
       "</table>\n"
      ],
      "text/latex": [
       "A data.frame: 12 × 1\n",
       "\\begin{tabular}{r|l}\n",
       "  & weight\\\\\n",
       "  & <dbl>\\\\\n",
       "\\hline\n",
       "\thas\\_computer &  2.0081718\\\\\n",
       "\tno\\_computer & -1.7056580\\\\\n",
       "\twith\\_internet &  0.9151058\\\\\n",
       "\tno\\_internet & -0.7024359\\\\\n",
       "\ttotal\\_population &  0.5415602\\\\\n",
       "\twork\\_from\\_home &  0.7120172\\\\\n",
       "\tX65\\_and\\_older &  0.2722766\\\\\n",
       "\tnumber\\_providers & -0.7719815\\\\\n",
       "\tmean\\_lowest\\_cost &  0.8753658\\\\\n",
       "\tmean\\_d\\_mbps &  0.4531565\\\\\n",
       "\tmean\\_u\\_mbps & -0.2751944\\\\\n",
       "\tmean\\_lat\\_ms & -0.3194902\\\\\n",
       "\\end{tabular}\n"
      ],
      "text/markdown": [
       "\n",
       "A data.frame: 12 × 1\n",
       "\n",
       "| <!--/--> | weight &lt;dbl&gt; |\n",
       "|---|---|\n",
       "| has_computer |  2.0081718 |\n",
       "| no_computer | -1.7056580 |\n",
       "| with_internet |  0.9151058 |\n",
       "| no_internet | -0.7024359 |\n",
       "| total_population |  0.5415602 |\n",
       "| work_from_home |  0.7120172 |\n",
       "| X65_and_older |  0.2722766 |\n",
       "| number_providers | -0.7719815 |\n",
       "| mean_lowest_cost |  0.8753658 |\n",
       "| mean_d_mbps |  0.4531565 |\n",
       "| mean_u_mbps | -0.2751944 |\n",
       "| mean_lat_ms | -0.3194902 |\n",
       "\n"
      ],
      "text/plain": [
       "                 weight    \n",
       "has_computer      2.0081718\n",
       "no_computer      -1.7056580\n",
       "with_internet     0.9151058\n",
       "no_internet      -0.7024359\n",
       "total_population  0.5415602\n",
       "work_from_home    0.7120172\n",
       "X65_and_older     0.2722766\n",
       "number_providers -0.7719815\n",
       "mean_lowest_cost  0.8753658\n",
       "mean_d_mbps       0.4531565\n",
       "mean_u_mbps      -0.2751944\n",
       "mean_lat_ms      -0.3194902"
      ]
     },
     "metadata": {},
     "output_type": "display_data"
    }
   ],
   "source": [
    "variable_weights"
   ]
  },
  {
   "attachments": {},
   "cell_type": "markdown",
   "metadata": {},
   "source": [
    "### separate tract and county from dataset to append later"
   ]
  },
  {
   "cell_type": "code",
   "execution_count": 30,
   "metadata": {
    "vscode": {
     "languageId": "r"
    }
   },
   "outputs": [
    {
     "data": {
      "text/html": [
       "<table class=\"dataframe\">\n",
       "<caption>A data.frame: 6 × 2</caption>\n",
       "<thead>\n",
       "\t<tr><th></th><th scope=col>GEOID</th><th scope=col>tract</th></tr>\n",
       "\t<tr><th></th><th scope=col>&lt;dbl&gt;</th><th scope=col>&lt;dbl&gt;</th></tr>\n",
       "</thead>\n",
       "<tbody>\n",
       "\t<tr><th scope=row>1</th><td>53001950100</td><td>9501.00</td></tr>\n",
       "\t<tr><th scope=row>2</th><td>53001950200</td><td>9502.00</td></tr>\n",
       "\t<tr><th scope=row>3</th><td>53001950301</td><td>9503.01</td></tr>\n",
       "\t<tr><th scope=row>4</th><td>53001950302</td><td>9503.02</td></tr>\n",
       "\t<tr><th scope=row>5</th><td>53001950303</td><td>9503.03</td></tr>\n",
       "\t<tr><th scope=row>6</th><td>53001950400</td><td>9504.00</td></tr>\n",
       "</tbody>\n",
       "</table>\n"
      ],
      "text/latex": [
       "A data.frame: 6 × 2\n",
       "\\begin{tabular}{r|ll}\n",
       "  & GEOID & tract\\\\\n",
       "  & <dbl> & <dbl>\\\\\n",
       "\\hline\n",
       "\t1 & 53001950100 & 9501.00\\\\\n",
       "\t2 & 53001950200 & 9502.00\\\\\n",
       "\t3 & 53001950301 & 9503.01\\\\\n",
       "\t4 & 53001950302 & 9503.02\\\\\n",
       "\t5 & 53001950303 & 9503.03\\\\\n",
       "\t6 & 53001950400 & 9504.00\\\\\n",
       "\\end{tabular}\n"
      ],
      "text/markdown": [
       "\n",
       "A data.frame: 6 × 2\n",
       "\n",
       "| <!--/--> | GEOID &lt;dbl&gt; | tract &lt;dbl&gt; |\n",
       "|---|---|---|\n",
       "| 1 | 53001950100 | 9501.00 |\n",
       "| 2 | 53001950200 | 9502.00 |\n",
       "| 3 | 53001950301 | 9503.01 |\n",
       "| 4 | 53001950302 | 9503.02 |\n",
       "| 5 | 53001950303 | 9503.03 |\n",
       "| 6 | 53001950400 | 9504.00 |\n",
       "\n"
      ],
      "text/plain": [
       "  GEOID       tract  \n",
       "1 53001950100 9501.00\n",
       "2 53001950200 9502.00\n",
       "3 53001950301 9503.01\n",
       "4 53001950302 9503.02\n",
       "5 53001950303 9503.03\n",
       "6 53001950400 9504.00"
      ]
     },
     "metadata": {},
     "output_type": "display_data"
    }
   ],
   "source": [
    "geoid_tract <- standardized_data_all %>%\n",
    "    select(GEOID, tract)\n",
    "\n",
    "head(geoid_tract)"
   ]
  },
  {
   "cell_type": "code",
   "execution_count": 31,
   "metadata": {
    "vscode": {
     "languageId": "r"
    }
   },
   "outputs": [
    {
     "data": {
      "text/html": [
       "<table class=\"dataframe\">\n",
       "<caption>A data.frame: 6 × 26</caption>\n",
       "<thead>\n",
       "\t<tr><th></th><th scope=col>not_citizen</th><th scope=col>naturalized_citizen</th><th scope=col>native_citizen</th><th scope=col>foreign_born</th><th scope=col>work_from_home</th><th scope=col>desktop_or_laptop</th><th scope=col>desktop_or_laptop_only</th><th scope=col>smartphone</th><th scope=col>smartphone_only</th><th scope=col>tablet_or_portable</th><th scope=col>⋯</th><th scope=col>access_with_no_subscription</th><th scope=col>no_internet_access</th><th scope=col>sixty_five_and_older</th><th scope=col>median_income</th><th scope=col>mean_income</th><th scope=col>mean_d_mbps</th><th scope=col>mean_u_mbps</th><th scope=col>mean_lat_ms</th><th scope=col>number_providers</th><th scope=col>mean_lowest_cost</th></tr>\n",
       "\t<tr><th></th><th scope=col>&lt;dbl&gt;</th><th scope=col>&lt;dbl&gt;</th><th scope=col>&lt;dbl&gt;</th><th scope=col>&lt;dbl&gt;</th><th scope=col>&lt;dbl&gt;</th><th scope=col>&lt;dbl&gt;</th><th scope=col>&lt;dbl&gt;</th><th scope=col>&lt;dbl&gt;</th><th scope=col>&lt;dbl&gt;</th><th scope=col>&lt;dbl&gt;</th><th scope=col>⋯</th><th scope=col>&lt;dbl&gt;</th><th scope=col>&lt;dbl&gt;</th><th scope=col>&lt;dbl&gt;</th><th scope=col>&lt;dbl&gt;</th><th scope=col>&lt;dbl&gt;</th><th scope=col>&lt;dbl&gt;</th><th scope=col>&lt;dbl&gt;</th><th scope=col>&lt;dbl&gt;</th><th scope=col>&lt;dbl&gt;</th><th scope=col>&lt;dbl&gt;</th></tr>\n",
       "</thead>\n",
       "<tbody>\n",
       "\t<tr><th scope=row>1</th><td>-0.48236366</td><td>-0.1360753</td><td>-0.7772324</td><td>-0.4237144</td><td>-0.5101084</td><td>-0.8806845</td><td> 0.0783680</td><td>-0.734196</td><td> 0.5470533</td><td>-0.7648065</td><td>⋯</td><td> 0.1866582</td><td>-0.1307050</td><td>-0.3984409</td><td>-0.37323672</td><td>-0.50677473</td><td>-1.621869</td><td>-0.93495618</td><td> 0.7333922</td><td> 1.7094218</td><td>-1.2748195</td></tr>\n",
       "\t<tr><th scope=row>2</th><td> 0.08777329</td><td>-1.0671850</td><td>-1.4235744</td><td>-0.3478686</td><td>-0.8653209</td><td>-1.4833040</td><td>-1.1695153</td><td>-1.434819</td><td>-0.4632060</td><td>-1.4361860</td><td>⋯</td><td>-0.6177302</td><td>-0.3367343</td><td>-1.2751771</td><td>-0.04914394</td><td>-0.60839056</td><td>-1.629913</td><td>-0.95350094</td><td> 1.6330766</td><td> 1.7094218</td><td>-0.7418166</td></tr>\n",
       "\t<tr><th scope=row>3</th><td> 2.02843174</td><td>-0.8181673</td><td>-1.8432087</td><td> 1.2406807</td><td>-1.3118738</td><td>-1.8889890</td><td>-1.2440157</td><td>-1.823626</td><td>-0.3681227</td><td>-1.7682401</td><td>⋯</td><td>-0.5803168</td><td> 0.1243789</td><td>-1.1770586</td><td>-0.93556901</td><td>-0.91747523</td><td>-1.321690</td><td>-0.79459603</td><td> 1.5968650</td><td>-0.2964475</td><td>-1.6382306</td></tr>\n",
       "\t<tr><th scope=row>4</th><td> 2.49440905</td><td> 0.9466105</td><td>-1.3890427</td><td> 2.2856680</td><td>-1.0784484</td><td>-1.7649203</td><td>-1.5606428</td><td>-1.336655</td><td> 0.2974598</td><td>-1.3149983</td><td>⋯</td><td>-0.4493698</td><td>-0.6114401</td><td>-1.1802237</td><td>-0.09364729</td><td>-0.26189039</td><td>-1.334392</td><td>-0.65140611</td><td> 0.8212335</td><td>-0.2964475</td><td>-1.6382306</td></tr>\n",
       "\t<tr><th scope=row>5</th><td> 2.35187481</td><td> 0.2320379</td><td>-1.2599245</td><td> 1.8980114</td><td>-0.2259384</td><td>-1.5857099</td><td>-1.4488921</td><td>-1.284685</td><td>-0.1185293</td><td>-1.4895085</td><td>⋯</td><td>-0.6177302</td><td>-0.8272803</td><td>-1.1390772</td><td>-0.44758663</td><td>-0.09157226</td><td>-1.486311</td><td>-0.75776304</td><td> 0.4994248</td><td>-0.2964475</td><td>-1.6382306</td></tr>\n",
       "\t<tr><th scope=row>6</th><td> 3.36057864</td><td> 0.3727870</td><td>-0.9348768</td><td> 2.7281021</td><td>-1.1088952</td><td>-1.4695186</td><td>-0.7038872</td><td>-1.173048</td><td> 0.9511569</td><td>-1.1889632</td><td>⋯</td><td>-0.3558363</td><td> 0.1734335</td><td>-1.0219681</td><td> 0.12247378</td><td>-0.28001176</td><td> 0.800291</td><td>-0.05116272</td><td>-0.1930008</td><td> 0.2050198</td><td>-1.8643530</td></tr>\n",
       "</tbody>\n",
       "</table>\n"
      ],
      "text/latex": [
       "A data.frame: 6 × 26\n",
       "\\begin{tabular}{r|lllllllllllllllllllll}\n",
       "  & not\\_citizen & naturalized\\_citizen & native\\_citizen & foreign\\_born & work\\_from\\_home & desktop\\_or\\_laptop & desktop\\_or\\_laptop\\_only & smartphone & smartphone\\_only & tablet\\_or\\_portable & ⋯ & access\\_with\\_no\\_subscription & no\\_internet\\_access & sixty\\_five\\_and\\_older & median\\_income & mean\\_income & mean\\_d\\_mbps & mean\\_u\\_mbps & mean\\_lat\\_ms & number\\_providers & mean\\_lowest\\_cost\\\\\n",
       "  & <dbl> & <dbl> & <dbl> & <dbl> & <dbl> & <dbl> & <dbl> & <dbl> & <dbl> & <dbl> & ⋯ & <dbl> & <dbl> & <dbl> & <dbl> & <dbl> & <dbl> & <dbl> & <dbl> & <dbl> & <dbl>\\\\\n",
       "\\hline\n",
       "\t1 & -0.48236366 & -0.1360753 & -0.7772324 & -0.4237144 & -0.5101084 & -0.8806845 &  0.0783680 & -0.734196 &  0.5470533 & -0.7648065 & ⋯ &  0.1866582 & -0.1307050 & -0.3984409 & -0.37323672 & -0.50677473 & -1.621869 & -0.93495618 &  0.7333922 &  1.7094218 & -1.2748195\\\\\n",
       "\t2 &  0.08777329 & -1.0671850 & -1.4235744 & -0.3478686 & -0.8653209 & -1.4833040 & -1.1695153 & -1.434819 & -0.4632060 & -1.4361860 & ⋯ & -0.6177302 & -0.3367343 & -1.2751771 & -0.04914394 & -0.60839056 & -1.629913 & -0.95350094 &  1.6330766 &  1.7094218 & -0.7418166\\\\\n",
       "\t3 &  2.02843174 & -0.8181673 & -1.8432087 &  1.2406807 & -1.3118738 & -1.8889890 & -1.2440157 & -1.823626 & -0.3681227 & -1.7682401 & ⋯ & -0.5803168 &  0.1243789 & -1.1770586 & -0.93556901 & -0.91747523 & -1.321690 & -0.79459603 &  1.5968650 & -0.2964475 & -1.6382306\\\\\n",
       "\t4 &  2.49440905 &  0.9466105 & -1.3890427 &  2.2856680 & -1.0784484 & -1.7649203 & -1.5606428 & -1.336655 &  0.2974598 & -1.3149983 & ⋯ & -0.4493698 & -0.6114401 & -1.1802237 & -0.09364729 & -0.26189039 & -1.334392 & -0.65140611 &  0.8212335 & -0.2964475 & -1.6382306\\\\\n",
       "\t5 &  2.35187481 &  0.2320379 & -1.2599245 &  1.8980114 & -0.2259384 & -1.5857099 & -1.4488921 & -1.284685 & -0.1185293 & -1.4895085 & ⋯ & -0.6177302 & -0.8272803 & -1.1390772 & -0.44758663 & -0.09157226 & -1.486311 & -0.75776304 &  0.4994248 & -0.2964475 & -1.6382306\\\\\n",
       "\t6 &  3.36057864 &  0.3727870 & -0.9348768 &  2.7281021 & -1.1088952 & -1.4695186 & -0.7038872 & -1.173048 &  0.9511569 & -1.1889632 & ⋯ & -0.3558363 &  0.1734335 & -1.0219681 &  0.12247378 & -0.28001176 &  0.800291 & -0.05116272 & -0.1930008 &  0.2050198 & -1.8643530\\\\\n",
       "\\end{tabular}\n"
      ],
      "text/markdown": [
       "\n",
       "A data.frame: 6 × 26\n",
       "\n",
       "| <!--/--> | not_citizen &lt;dbl&gt; | naturalized_citizen &lt;dbl&gt; | native_citizen &lt;dbl&gt; | foreign_born &lt;dbl&gt; | work_from_home &lt;dbl&gt; | desktop_or_laptop &lt;dbl&gt; | desktop_or_laptop_only &lt;dbl&gt; | smartphone &lt;dbl&gt; | smartphone_only &lt;dbl&gt; | tablet_or_portable &lt;dbl&gt; | ⋯ ⋯ | access_with_no_subscription &lt;dbl&gt; | no_internet_access &lt;dbl&gt; | sixty_five_and_older &lt;dbl&gt; | median_income &lt;dbl&gt; | mean_income &lt;dbl&gt; | mean_d_mbps &lt;dbl&gt; | mean_u_mbps &lt;dbl&gt; | mean_lat_ms &lt;dbl&gt; | number_providers &lt;dbl&gt; | mean_lowest_cost &lt;dbl&gt; |\n",
       "|---|---|---|---|---|---|---|---|---|---|---|---|---|---|---|---|---|---|---|---|---|---|\n",
       "| 1 | -0.48236366 | -0.1360753 | -0.7772324 | -0.4237144 | -0.5101084 | -0.8806845 |  0.0783680 | -0.734196 |  0.5470533 | -0.7648065 | ⋯ |  0.1866582 | -0.1307050 | -0.3984409 | -0.37323672 | -0.50677473 | -1.621869 | -0.93495618 |  0.7333922 |  1.7094218 | -1.2748195 |\n",
       "| 2 |  0.08777329 | -1.0671850 | -1.4235744 | -0.3478686 | -0.8653209 | -1.4833040 | -1.1695153 | -1.434819 | -0.4632060 | -1.4361860 | ⋯ | -0.6177302 | -0.3367343 | -1.2751771 | -0.04914394 | -0.60839056 | -1.629913 | -0.95350094 |  1.6330766 |  1.7094218 | -0.7418166 |\n",
       "| 3 |  2.02843174 | -0.8181673 | -1.8432087 |  1.2406807 | -1.3118738 | -1.8889890 | -1.2440157 | -1.823626 | -0.3681227 | -1.7682401 | ⋯ | -0.5803168 |  0.1243789 | -1.1770586 | -0.93556901 | -0.91747523 | -1.321690 | -0.79459603 |  1.5968650 | -0.2964475 | -1.6382306 |\n",
       "| 4 |  2.49440905 |  0.9466105 | -1.3890427 |  2.2856680 | -1.0784484 | -1.7649203 | -1.5606428 | -1.336655 |  0.2974598 | -1.3149983 | ⋯ | -0.4493698 | -0.6114401 | -1.1802237 | -0.09364729 | -0.26189039 | -1.334392 | -0.65140611 |  0.8212335 | -0.2964475 | -1.6382306 |\n",
       "| 5 |  2.35187481 |  0.2320379 | -1.2599245 |  1.8980114 | -0.2259384 | -1.5857099 | -1.4488921 | -1.284685 | -0.1185293 | -1.4895085 | ⋯ | -0.6177302 | -0.8272803 | -1.1390772 | -0.44758663 | -0.09157226 | -1.486311 | -0.75776304 |  0.4994248 | -0.2964475 | -1.6382306 |\n",
       "| 6 |  3.36057864 |  0.3727870 | -0.9348768 |  2.7281021 | -1.1088952 | -1.4695186 | -0.7038872 | -1.173048 |  0.9511569 | -1.1889632 | ⋯ | -0.3558363 |  0.1734335 | -1.0219681 |  0.12247378 | -0.28001176 |  0.800291 | -0.05116272 | -0.1930008 |  0.2050198 | -1.8643530 |\n",
       "\n"
      ],
      "text/plain": [
       "  not_citizen naturalized_citizen native_citizen foreign_born work_from_home\n",
       "1 -0.48236366 -0.1360753          -0.7772324     -0.4237144   -0.5101084    \n",
       "2  0.08777329 -1.0671850          -1.4235744     -0.3478686   -0.8653209    \n",
       "3  2.02843174 -0.8181673          -1.8432087      1.2406807   -1.3118738    \n",
       "4  2.49440905  0.9466105          -1.3890427      2.2856680   -1.0784484    \n",
       "5  2.35187481  0.2320379          -1.2599245      1.8980114   -0.2259384    \n",
       "6  3.36057864  0.3727870          -0.9348768      2.7281021   -1.1088952    \n",
       "  desktop_or_laptop desktop_or_laptop_only smartphone smartphone_only\n",
       "1 -0.8806845         0.0783680             -0.734196   0.5470533     \n",
       "2 -1.4833040        -1.1695153             -1.434819  -0.4632060     \n",
       "3 -1.8889890        -1.2440157             -1.823626  -0.3681227     \n",
       "4 -1.7649203        -1.5606428             -1.336655   0.2974598     \n",
       "5 -1.5857099        -1.4488921             -1.284685  -0.1185293     \n",
       "6 -1.4695186        -0.7038872             -1.173048   0.9511569     \n",
       "  tablet_or_portable ⋯ access_with_no_subscription no_internet_access\n",
       "1 -0.7648065         ⋯  0.1866582                  -0.1307050        \n",
       "2 -1.4361860         ⋯ -0.6177302                  -0.3367343        \n",
       "3 -1.7682401         ⋯ -0.5803168                   0.1243789        \n",
       "4 -1.3149983         ⋯ -0.4493698                  -0.6114401        \n",
       "5 -1.4895085         ⋯ -0.6177302                  -0.8272803        \n",
       "6 -1.1889632         ⋯ -0.3558363                   0.1734335        \n",
       "  sixty_five_and_older median_income mean_income mean_d_mbps mean_u_mbps\n",
       "1 -0.3984409           -0.37323672   -0.50677473 -1.621869   -0.93495618\n",
       "2 -1.2751771           -0.04914394   -0.60839056 -1.629913   -0.95350094\n",
       "3 -1.1770586           -0.93556901   -0.91747523 -1.321690   -0.79459603\n",
       "4 -1.1802237           -0.09364729   -0.26189039 -1.334392   -0.65140611\n",
       "5 -1.1390772           -0.44758663   -0.09157226 -1.486311   -0.75776304\n",
       "6 -1.0219681            0.12247378   -0.28001176  0.800291   -0.05116272\n",
       "  mean_lat_ms number_providers mean_lowest_cost\n",
       "1  0.7333922   1.7094218       -1.2748195      \n",
       "2  1.6330766   1.7094218       -0.7418166      \n",
       "3  1.5968650  -0.2964475       -1.6382306      \n",
       "4  0.8212335  -0.2964475       -1.6382306      \n",
       "5  0.4994248  -0.2964475       -1.6382306      \n",
       "6 -0.1930008   0.2050198       -1.8643530      "
      ]
     },
     "metadata": {},
     "output_type": "display_data"
    }
   ],
   "source": [
    "filtered_standardized_data <- standardized_data_all %>% \n",
    "    select(-GEOID, -tract, -dial_up)\n",
    "\n",
    "head(filtered_standardized_data)"
   ]
  },
  {
   "attachments": {},
   "cell_type": "markdown",
   "metadata": {},
   "source": [
    "### multiply standardized values by variable weights"
   ]
  },
  {
   "cell_type": "code",
   "execution_count": 32,
   "metadata": {
    "vscode": {
     "languageId": "r"
    }
   },
   "outputs": [
    {
     "data": {
      "text/html": [
       "<table class=\"dataframe\">\n",
       "<caption>A data.frame: 6 × 26</caption>\n",
       "<thead>\n",
       "\t<tr><th></th><th scope=col>not_citizen</th><th scope=col>naturalized_citizen</th><th scope=col>native_citizen</th><th scope=col>foreign_born</th><th scope=col>work_from_home</th><th scope=col>desktop_or_laptop</th><th scope=col>desktop_or_laptop_only</th><th scope=col>smartphone</th><th scope=col>smartphone_only</th><th scope=col>tablet_or_portable</th><th scope=col>⋯</th><th scope=col>access_with_no_subscription</th><th scope=col>no_internet_access</th><th scope=col>sixty_five_and_older</th><th scope=col>median_income</th><th scope=col>mean_income</th><th scope=col>mean_d_mbps</th><th scope=col>mean_u_mbps</th><th scope=col>mean_lat_ms</th><th scope=col>number_providers</th><th scope=col>mean_lowest_cost</th></tr>\n",
       "\t<tr><th></th><th scope=col>&lt;dbl&gt;</th><th scope=col>&lt;dbl&gt;</th><th scope=col>&lt;dbl&gt;</th><th scope=col>&lt;dbl&gt;</th><th scope=col>&lt;dbl&gt;</th><th scope=col>&lt;dbl&gt;</th><th scope=col>&lt;dbl&gt;</th><th scope=col>&lt;dbl&gt;</th><th scope=col>&lt;dbl&gt;</th><th scope=col>&lt;dbl&gt;</th><th scope=col>⋯</th><th scope=col>&lt;dbl&gt;</th><th scope=col>&lt;dbl&gt;</th><th scope=col>&lt;dbl&gt;</th><th scope=col>&lt;dbl&gt;</th><th scope=col>&lt;dbl&gt;</th><th scope=col>&lt;dbl&gt;</th><th scope=col>&lt;dbl&gt;</th><th scope=col>&lt;dbl&gt;</th><th scope=col>&lt;dbl&gt;</th><th scope=col>&lt;dbl&gt;</th></tr>\n",
       "</thead>\n",
       "<tbody>\n",
       "\t<tr><th scope=row>1</th><td>-0.42087952</td><td>-0.01605437</td><td>2.214360</td><td>-0.3036202</td><td>0.2977319</td><td>2.490386</td><td>-0.2000298</td><td>2.137220</td><td>-1.2675678</td><td>1.978232</td><td>⋯</td><td>-0.09056049</td><td> 0.3983849</td><td>1.224534</td><td>-0.25411102</td><td>-0.33113546</td><td>-0.4275794</td><td>-0.32907114</td><td>-0.34962709</td><td>-0.11431958</td><td>1.6704821</td></tr>\n",
       "\t<tr><th scope=row>2</th><td> 0.07658533</td><td>-0.12590818</td><td>4.055810</td><td>-0.2492715</td><td>0.5050567</td><td>4.194463</td><td> 2.9851202</td><td>4.176710</td><td> 1.0732867</td><td>3.714807</td><td>⋯</td><td> 0.29970266</td><td> 1.0263558</td><td>3.919020</td><td>-0.03345870</td><td>-0.39753302</td><td>-0.4297001</td><td>-0.33559824</td><td>-0.77852996</td><td>-0.11431958</td><td>0.9720524</td></tr>\n",
       "\t<tr><th scope=row>3</th><td> 1.76987916</td><td>-0.09652867</td><td>5.251362</td><td> 0.8890320</td><td>0.7656935</td><td>5.341653</td><td> 3.1752784</td><td>5.308515</td><td> 0.8529709</td><td>4.573691</td><td>⋯</td><td> 0.28155089</td><td>-0.3791029</td><td>3.617471</td><td>-0.63696411</td><td>-0.59949434</td><td>-0.3484420</td><td>-0.27966939</td><td>-0.76126694</td><td> 0.01982528</td><td>2.1466842</td></tr>\n",
       "\t<tr><th scope=row>4</th><td> 2.17646102</td><td> 0.11168261</td><td>3.957428</td><td> 1.6378364</td><td>0.6294515</td><td>4.990813</td><td> 3.9834508</td><td>3.890957</td><td>-0.6892391</td><td>3.401346</td><td>⋯</td><td> 0.21801968</td><td> 1.8636503</td><td>3.627198</td><td>-0.06375795</td><td>-0.17112376</td><td>-0.3517908</td><td>-0.22927166</td><td>-0.39150331</td><td> 0.01982528</td><td>2.1466842</td></tr>\n",
       "\t<tr><th scope=row>5</th><td> 2.05209480</td><td> 0.02737620</td><td>3.589566</td><td> 1.3600541</td><td>0.1318721</td><td>4.484045</td><td> 3.6982135</td><td>3.739677</td><td> 0.2746422</td><td>3.852730</td><td>⋯</td><td> 0.29970266</td><td> 2.5215246</td><td>3.500742</td><td>-0.30473072</td><td>-0.05983491</td><td>-0.3918417</td><td>-0.26670549</td><td>-0.23808876</td><td> 0.01982528</td><td>2.1466842</td></tr>\n",
       "\t<tr><th scope=row>6</th><td> 2.93222493</td><td> 0.04398201</td><td>2.663494</td><td> 1.9548705</td><td>0.6472222</td><td>4.155481</td><td> 1.7966314</td><td>3.414703</td><td>-2.2039096</td><td>3.075346</td><td>⋯</td><td> 0.17264024</td><td>-0.5286198</td><td>3.140829</td><td> 0.08338391</td><td>-0.18296457</td><td> 0.2109837</td><td>-0.01800745</td><td> 0.09200849</td><td>-0.01371094</td><td>2.4429877</td></tr>\n",
       "</tbody>\n",
       "</table>\n"
      ],
      "text/latex": [
       "A data.frame: 6 × 26\n",
       "\\begin{tabular}{r|lllllllllllllllllllll}\n",
       "  & not\\_citizen & naturalized\\_citizen & native\\_citizen & foreign\\_born & work\\_from\\_home & desktop\\_or\\_laptop & desktop\\_or\\_laptop\\_only & smartphone & smartphone\\_only & tablet\\_or\\_portable & ⋯ & access\\_with\\_no\\_subscription & no\\_internet\\_access & sixty\\_five\\_and\\_older & median\\_income & mean\\_income & mean\\_d\\_mbps & mean\\_u\\_mbps & mean\\_lat\\_ms & number\\_providers & mean\\_lowest\\_cost\\\\\n",
       "  & <dbl> & <dbl> & <dbl> & <dbl> & <dbl> & <dbl> & <dbl> & <dbl> & <dbl> & <dbl> & ⋯ & <dbl> & <dbl> & <dbl> & <dbl> & <dbl> & <dbl> & <dbl> & <dbl> & <dbl> & <dbl>\\\\\n",
       "\\hline\n",
       "\t1 & -0.42087952 & -0.01605437 & 2.214360 & -0.3036202 & 0.2977319 & 2.490386 & -0.2000298 & 2.137220 & -1.2675678 & 1.978232 & ⋯ & -0.09056049 &  0.3983849 & 1.224534 & -0.25411102 & -0.33113546 & -0.4275794 & -0.32907114 & -0.34962709 & -0.11431958 & 1.6704821\\\\\n",
       "\t2 &  0.07658533 & -0.12590818 & 4.055810 & -0.2492715 & 0.5050567 & 4.194463 &  2.9851202 & 4.176710 &  1.0732867 & 3.714807 & ⋯ &  0.29970266 &  1.0263558 & 3.919020 & -0.03345870 & -0.39753302 & -0.4297001 & -0.33559824 & -0.77852996 & -0.11431958 & 0.9720524\\\\\n",
       "\t3 &  1.76987916 & -0.09652867 & 5.251362 &  0.8890320 & 0.7656935 & 5.341653 &  3.1752784 & 5.308515 &  0.8529709 & 4.573691 & ⋯ &  0.28155089 & -0.3791029 & 3.617471 & -0.63696411 & -0.59949434 & -0.3484420 & -0.27966939 & -0.76126694 &  0.01982528 & 2.1466842\\\\\n",
       "\t4 &  2.17646102 &  0.11168261 & 3.957428 &  1.6378364 & 0.6294515 & 4.990813 &  3.9834508 & 3.890957 & -0.6892391 & 3.401346 & ⋯ &  0.21801968 &  1.8636503 & 3.627198 & -0.06375795 & -0.17112376 & -0.3517908 & -0.22927166 & -0.39150331 &  0.01982528 & 2.1466842\\\\\n",
       "\t5 &  2.05209480 &  0.02737620 & 3.589566 &  1.3600541 & 0.1318721 & 4.484045 &  3.6982135 & 3.739677 &  0.2746422 & 3.852730 & ⋯ &  0.29970266 &  2.5215246 & 3.500742 & -0.30473072 & -0.05983491 & -0.3918417 & -0.26670549 & -0.23808876 &  0.01982528 & 2.1466842\\\\\n",
       "\t6 &  2.93222493 &  0.04398201 & 2.663494 &  1.9548705 & 0.6472222 & 4.155481 &  1.7966314 & 3.414703 & -2.2039096 & 3.075346 & ⋯ &  0.17264024 & -0.5286198 & 3.140829 &  0.08338391 & -0.18296457 &  0.2109837 & -0.01800745 &  0.09200849 & -0.01371094 & 2.4429877\\\\\n",
       "\\end{tabular}\n"
      ],
      "text/markdown": [
       "\n",
       "A data.frame: 6 × 26\n",
       "\n",
       "| <!--/--> | not_citizen &lt;dbl&gt; | naturalized_citizen &lt;dbl&gt; | native_citizen &lt;dbl&gt; | foreign_born &lt;dbl&gt; | work_from_home &lt;dbl&gt; | desktop_or_laptop &lt;dbl&gt; | desktop_or_laptop_only &lt;dbl&gt; | smartphone &lt;dbl&gt; | smartphone_only &lt;dbl&gt; | tablet_or_portable &lt;dbl&gt; | ⋯ ⋯ | access_with_no_subscription &lt;dbl&gt; | no_internet_access &lt;dbl&gt; | sixty_five_and_older &lt;dbl&gt; | median_income &lt;dbl&gt; | mean_income &lt;dbl&gt; | mean_d_mbps &lt;dbl&gt; | mean_u_mbps &lt;dbl&gt; | mean_lat_ms &lt;dbl&gt; | number_providers &lt;dbl&gt; | mean_lowest_cost &lt;dbl&gt; |\n",
       "|---|---|---|---|---|---|---|---|---|---|---|---|---|---|---|---|---|---|---|---|---|---|\n",
       "| 1 | -0.42087952 | -0.01605437 | 2.214360 | -0.3036202 | 0.2977319 | 2.490386 | -0.2000298 | 2.137220 | -1.2675678 | 1.978232 | ⋯ | -0.09056049 |  0.3983849 | 1.224534 | -0.25411102 | -0.33113546 | -0.4275794 | -0.32907114 | -0.34962709 | -0.11431958 | 1.6704821 |\n",
       "| 2 |  0.07658533 | -0.12590818 | 4.055810 | -0.2492715 | 0.5050567 | 4.194463 |  2.9851202 | 4.176710 |  1.0732867 | 3.714807 | ⋯ |  0.29970266 |  1.0263558 | 3.919020 | -0.03345870 | -0.39753302 | -0.4297001 | -0.33559824 | -0.77852996 | -0.11431958 | 0.9720524 |\n",
       "| 3 |  1.76987916 | -0.09652867 | 5.251362 |  0.8890320 | 0.7656935 | 5.341653 |  3.1752784 | 5.308515 |  0.8529709 | 4.573691 | ⋯ |  0.28155089 | -0.3791029 | 3.617471 | -0.63696411 | -0.59949434 | -0.3484420 | -0.27966939 | -0.76126694 |  0.01982528 | 2.1466842 |\n",
       "| 4 |  2.17646102 |  0.11168261 | 3.957428 |  1.6378364 | 0.6294515 | 4.990813 |  3.9834508 | 3.890957 | -0.6892391 | 3.401346 | ⋯ |  0.21801968 |  1.8636503 | 3.627198 | -0.06375795 | -0.17112376 | -0.3517908 | -0.22927166 | -0.39150331 |  0.01982528 | 2.1466842 |\n",
       "| 5 |  2.05209480 |  0.02737620 | 3.589566 |  1.3600541 | 0.1318721 | 4.484045 |  3.6982135 | 3.739677 |  0.2746422 | 3.852730 | ⋯ |  0.29970266 |  2.5215246 | 3.500742 | -0.30473072 | -0.05983491 | -0.3918417 | -0.26670549 | -0.23808876 |  0.01982528 | 2.1466842 |\n",
       "| 6 |  2.93222493 |  0.04398201 | 2.663494 |  1.9548705 | 0.6472222 | 4.155481 |  1.7966314 | 3.414703 | -2.2039096 | 3.075346 | ⋯ |  0.17264024 | -0.5286198 | 3.140829 |  0.08338391 | -0.18296457 |  0.2109837 | -0.01800745 |  0.09200849 | -0.01371094 | 2.4429877 |\n",
       "\n"
      ],
      "text/plain": [
       "  not_citizen naturalized_citizen native_citizen foreign_born work_from_home\n",
       "1 -0.42087952 -0.01605437         2.214360       -0.3036202   0.2977319     \n",
       "2  0.07658533 -0.12590818         4.055810       -0.2492715   0.5050567     \n",
       "3  1.76987916 -0.09652867         5.251362        0.8890320   0.7656935     \n",
       "4  2.17646102  0.11168261         3.957428        1.6378364   0.6294515     \n",
       "5  2.05209480  0.02737620         3.589566        1.3600541   0.1318721     \n",
       "6  2.93222493  0.04398201         2.663494        1.9548705   0.6472222     \n",
       "  desktop_or_laptop desktop_or_laptop_only smartphone smartphone_only\n",
       "1 2.490386          -0.2000298             2.137220   -1.2675678     \n",
       "2 4.194463           2.9851202             4.176710    1.0732867     \n",
       "3 5.341653           3.1752784             5.308515    0.8529709     \n",
       "4 4.990813           3.9834508             3.890957   -0.6892391     \n",
       "5 4.484045           3.6982135             3.739677    0.2746422     \n",
       "6 4.155481           1.7966314             3.414703   -2.2039096     \n",
       "  tablet_or_portable ⋯ access_with_no_subscription no_internet_access\n",
       "1 1.978232           ⋯ -0.09056049                  0.3983849        \n",
       "2 3.714807           ⋯  0.29970266                  1.0263558        \n",
       "3 4.573691           ⋯  0.28155089                 -0.3791029        \n",
       "4 3.401346           ⋯  0.21801968                  1.8636503        \n",
       "5 3.852730           ⋯  0.29970266                  2.5215246        \n",
       "6 3.075346           ⋯  0.17264024                 -0.5286198        \n",
       "  sixty_five_and_older median_income mean_income mean_d_mbps mean_u_mbps\n",
       "1 1.224534             -0.25411102   -0.33113546 -0.4275794  -0.32907114\n",
       "2 3.919020             -0.03345870   -0.39753302 -0.4297001  -0.33559824\n",
       "3 3.617471             -0.63696411   -0.59949434 -0.3484420  -0.27966939\n",
       "4 3.627198             -0.06375795   -0.17112376 -0.3517908  -0.22927166\n",
       "5 3.500742             -0.30473072   -0.05983491 -0.3918417  -0.26670549\n",
       "6 3.140829              0.08338391   -0.18296457  0.2109837  -0.01800745\n",
       "  mean_lat_ms number_providers mean_lowest_cost\n",
       "1 -0.34962709 -0.11431958      1.6704821       \n",
       "2 -0.77852996 -0.11431958      0.9720524       \n",
       "3 -0.76126694  0.01982528      2.1466842       \n",
       "4 -0.39150331  0.01982528      2.1466842       \n",
       "5 -0.23808876  0.01982528      2.1466842       \n",
       "6  0.09200849 -0.01371094      2.4429877       "
      ]
     },
     "metadata": {},
     "output_type": "display_data"
    }
   ],
   "source": [
    "index <- filtered_standardized_data\n",
    "\n",
    "for(i in 1:ncol(index)){\n",
    "    index[, i] <- index[, i] * variable_weights[i,]\n",
    "}\n",
    "\n",
    "head(index)"
   ]
  },
  {
   "attachments": {},
   "cell_type": "markdown",
   "metadata": {},
   "source": [
    "### sum the rows"
   ]
  },
  {
   "cell_type": "code",
   "execution_count": 33,
   "metadata": {
    "vscode": {
     "languageId": "r"
    }
   },
   "outputs": [],
   "source": [
    "index <- index %>% \n",
    "    transmute(index = rowSums(.))"
   ]
  },
  {
   "attachments": {},
   "cell_type": "markdown",
   "metadata": {},
   "source": [
    "### append dataframes together"
   ]
  },
  {
   "cell_type": "code",
   "execution_count": 34,
   "metadata": {
    "vscode": {
     "languageId": "r"
    }
   },
   "outputs": [
    {
     "data": {
      "text/html": [
       "<table class=\"dataframe\">\n",
       "<caption>A data.frame: 6 × 3</caption>\n",
       "<thead>\n",
       "\t<tr><th></th><th scope=col>GEOID</th><th scope=col>tract</th><th scope=col>index</th></tr>\n",
       "\t<tr><th></th><th scope=col>&lt;dbl&gt;</th><th scope=col>&lt;dbl&gt;</th><th scope=col>&lt;dbl&gt;</th></tr>\n",
       "</thead>\n",
       "<tbody>\n",
       "\t<tr><th scope=row>1</th><td>53001950100</td><td>9501.00</td><td>16.30880</td></tr>\n",
       "\t<tr><th scope=row>2</th><td>53001950200</td><td>9502.00</td><td>38.48899</td></tr>\n",
       "\t<tr><th scope=row>3</th><td>53001950301</td><td>9503.01</td><td>46.05822</td></tr>\n",
       "\t<tr><th scope=row>4</th><td>53001950302</td><td>9503.02</td><td>47.42150</td></tr>\n",
       "\t<tr><th scope=row>5</th><td>53001950303</td><td>9503.03</td><td>46.38311</td></tr>\n",
       "\t<tr><th scope=row>6</th><td>53001950400</td><td>9504.00</td><td>35.05856</td></tr>\n",
       "</tbody>\n",
       "</table>\n"
      ],
      "text/latex": [
       "A data.frame: 6 × 3\n",
       "\\begin{tabular}{r|lll}\n",
       "  & GEOID & tract & index\\\\\n",
       "  & <dbl> & <dbl> & <dbl>\\\\\n",
       "\\hline\n",
       "\t1 & 53001950100 & 9501.00 & 16.30880\\\\\n",
       "\t2 & 53001950200 & 9502.00 & 38.48899\\\\\n",
       "\t3 & 53001950301 & 9503.01 & 46.05822\\\\\n",
       "\t4 & 53001950302 & 9503.02 & 47.42150\\\\\n",
       "\t5 & 53001950303 & 9503.03 & 46.38311\\\\\n",
       "\t6 & 53001950400 & 9504.00 & 35.05856\\\\\n",
       "\\end{tabular}\n"
      ],
      "text/markdown": [
       "\n",
       "A data.frame: 6 × 3\n",
       "\n",
       "| <!--/--> | GEOID &lt;dbl&gt; | tract &lt;dbl&gt; | index &lt;dbl&gt; |\n",
       "|---|---|---|---|\n",
       "| 1 | 53001950100 | 9501.00 | 16.30880 |\n",
       "| 2 | 53001950200 | 9502.00 | 38.48899 |\n",
       "| 3 | 53001950301 | 9503.01 | 46.05822 |\n",
       "| 4 | 53001950302 | 9503.02 | 47.42150 |\n",
       "| 5 | 53001950303 | 9503.03 | 46.38311 |\n",
       "| 6 | 53001950400 | 9504.00 | 35.05856 |\n",
       "\n"
      ],
      "text/plain": [
       "  GEOID       tract   index   \n",
       "1 53001950100 9501.00 16.30880\n",
       "2 53001950200 9502.00 38.48899\n",
       "3 53001950301 9503.01 46.05822\n",
       "4 53001950302 9503.02 47.42150\n",
       "5 53001950303 9503.03 46.38311\n",
       "6 53001950400 9504.00 35.05856"
      ]
     },
     "metadata": {},
     "output_type": "display_data"
    }
   ],
   "source": [
    "pc_index <- bind_cols(geoid_tract, index)\n",
    "\n",
    "head(pc_index)"
   ]
  },
  {
   "cell_type": "code",
   "execution_count": 41,
   "metadata": {
    "vscode": {
     "languageId": "r"
    }
   },
   "outputs": [],
   "source": [
    "# write.csv(pc_index, \"../data/pc_index.csv\")"
   ]
  }
 ],
 "metadata": {
  "kernelspec": {
   "display_name": "R",
   "language": "R",
   "name": "ir"
  },
  "language_info": {
   "codemirror_mode": "r",
   "file_extension": ".r",
   "mimetype": "text/x-r-source",
   "name": "R",
   "pygments_lexer": "r",
   "version": "4.2.3"
  },
  "orig_nbformat": 4,
  "vscode": {
   "interpreter": {
    "hash": "57dd2987098f537f345e7ae8c3dbbea75e05788d3d065fc2b6efdb1ab7ac492c"
   }
  }
 },
 "nbformat": 4,
 "nbformat_minor": 2
}
