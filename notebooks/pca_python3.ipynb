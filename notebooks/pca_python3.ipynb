{
 "cells": [
  {
   "attachments": {},
   "cell_type": "markdown",
   "metadata": {
    "slideshow": {
     "slide_type": "slide"
    }
   },
   "source": [
    "# Eastern Washington Digital Equity\n",
    "\n",
    "## Nicholas Tran"
   ]
  },
  {
   "attachments": {},
   "cell_type": "markdown",
   "metadata": {
    "slideshow": {
     "slide_type": "slide"
    }
   },
   "source": [
    "# Preparation"
   ]
  },
  {
   "attachments": {},
   "cell_type": "markdown",
   "metadata": {
    "slideshow": {
     "slide_type": "subslide"
    }
   },
   "source": [
    "## Import The Modules"
   ]
  },
  {
   "cell_type": "code",
   "execution_count": 561,
   "metadata": {},
   "outputs": [],
   "source": [
    "import numpy as np  # matrix and array manipulation\n",
    "import pandas as pd  # dataframe manipulation\n",
    "import plotly.express as px\n",
    "from mlxtend.feature_selection import SequentialFeatureSelector as SFS\n",
    "from pingouin import cronbach_alpha\n",
    "from scipy.stats import pearsonr\n",
    "from sklearn import linear_model as lm\n",
    "from sklearn.metrics import r2_score\n",
    "from sklearn.model_selection import train_test_split\n",
    "from sklearn.preprocessing import StandardScaler  # scale the data\n",
    "from statsmodels.stats.outliers_influence import variance_inflation_factor as VIF\n",
    "from factor_analyzer.factor_analyzer import (\n",
    "    calculate_kmo,\n",
    ")  # get measure of sampling adequacy\n",
    "\n",
    "# initialize the scaler\n",
    "scaler = StandardScaler()\n",
    "\n",
    "\n",
    "# use this as a method in corr() to get the pearson p values\n",
    "def pearsonr_pval(x, y):\n",
    "    return pearsonr(x, y)[1]\n",
    "\n",
    "\n",
    "# turn scientific notation into decimals\n",
    "pd.options.display.float_format = \"{:.10f}\".format"
   ]
  },
  {
   "attachments": {},
   "cell_type": "markdown",
   "metadata": {
    "slideshow": {
     "slide_type": "subslide"
    }
   },
   "source": [
    "## Import The Dataset"
   ]
  },
  {
   "cell_type": "code",
   "execution_count": 562,
   "metadata": {},
   "outputs": [
    {
     "data": {
      "text/html": [
       "<div>\n",
       "<style scoped>\n",
       "    .dataframe tbody tr th:only-of-type {\n",
       "        vertical-align: middle;\n",
       "    }\n",
       "\n",
       "    .dataframe tbody tr th {\n",
       "        vertical-align: top;\n",
       "    }\n",
       "\n",
       "    .dataframe thead th {\n",
       "        text-align: right;\n",
       "    }\n",
       "</style>\n",
       "<table border=\"1\" class=\"dataframe\">\n",
       "  <thead>\n",
       "    <tr style=\"text-align: right;\">\n",
       "      <th></th>\n",
       "      <th>work_from_home</th>\n",
       "      <th>smartphone_only</th>\n",
       "      <th>no_computer</th>\n",
       "      <th>internet_subscription</th>\n",
       "      <th>median_income</th>\n",
       "      <th>mean_d_mbps</th>\n",
       "      <th>number_providers</th>\n",
       "      <th>lowest_cost</th>\n",
       "    </tr>\n",
       "  </thead>\n",
       "  <tbody>\n",
       "    <tr>\n",
       "      <th>0</th>\n",
       "      <td>82</td>\n",
       "      <td>153</td>\n",
       "      <td>76</td>\n",
       "      <td>910</td>\n",
       "      <td>52589.0000000000</td>\n",
       "      <td>62.6586413043</td>\n",
       "      <td>12.0000000000</td>\n",
       "      <td>30.0000000000</td>\n",
       "    </tr>\n",
       "    <tr>\n",
       "      <th>1</th>\n",
       "      <td>47</td>\n",
       "      <td>68</td>\n",
       "      <td>64</td>\n",
       "      <td>487</td>\n",
       "      <td>59886.0000000000</td>\n",
       "      <td>61.9772073171</td>\n",
       "      <td>12.0000000000</td>\n",
       "      <td>30.0000000000</td>\n",
       "    </tr>\n",
       "    <tr>\n",
       "      <th>2</th>\n",
       "      <td>3</td>\n",
       "      <td>76</td>\n",
       "      <td>183</td>\n",
       "      <td>327</td>\n",
       "      <td>39928.0000000000</td>\n",
       "      <td>88.0868093023</td>\n",
       "      <td>8.0000000000</td>\n",
       "      <td>30.0000000000</td>\n",
       "    </tr>\n",
       "    <tr>\n",
       "      <th>3</th>\n",
       "      <td>26</td>\n",
       "      <td>132</td>\n",
       "      <td>55</td>\n",
       "      <td>515</td>\n",
       "      <td>58884.0000000000</td>\n",
       "      <td>87.0107878788</td>\n",
       "      <td>8.0000000000</td>\n",
       "      <td>30.0000000000</td>\n",
       "    </tr>\n",
       "    <tr>\n",
       "      <th>4</th>\n",
       "      <td>110</td>\n",
       "      <td>97</td>\n",
       "      <td>24</td>\n",
       "      <td>557</td>\n",
       "      <td>50915.0000000000</td>\n",
       "      <td>74.1417594937</td>\n",
       "      <td>8.0000000000</td>\n",
       "      <td>30.0000000000</td>\n",
       "    </tr>\n",
       "  </tbody>\n",
       "</table>\n",
       "</div>"
      ],
      "text/plain": [
       "   work_from_home  smartphone_only  no_computer  internet_subscription  \\\n",
       "0              82              153           76                    910   \n",
       "1              47               68           64                    487   \n",
       "2               3               76          183                    327   \n",
       "3              26              132           55                    515   \n",
       "4             110               97           24                    557   \n",
       "\n",
       "     median_income   mean_d_mbps  number_providers   lowest_cost  \n",
       "0 52589.0000000000 62.6586413043     12.0000000000 30.0000000000  \n",
       "1 59886.0000000000 61.9772073171     12.0000000000 30.0000000000  \n",
       "2 39928.0000000000 88.0868093023      8.0000000000 30.0000000000  \n",
       "3 58884.0000000000 87.0107878788      8.0000000000 30.0000000000  \n",
       "4 50915.0000000000 74.1417594937      8.0000000000 30.0000000000  "
      ]
     },
     "execution_count": 562,
     "metadata": {},
     "output_type": "execute_result"
    }
   ],
   "source": [
    "dataset = pd.read_csv(\"../data/combined_data.csv\")\n",
    "dataset = dataset.drop(\n",
    "    columns=[\n",
    "        \"GEOID\",\n",
    "        \"tract\",\n",
    "        \"has_computer\",\n",
    "        \"smartphone\",\n",
    "        \"desktop_or_laptop\",\n",
    "        \"tablet_or_portable\",\n",
    "        \"foreign_born\",\n",
    "        \"broadband\",\n",
    "        # \"median_income\",\n",
    "        \"naturalized_citizen\",\n",
    "        \"native_citizen\",\n",
    "        \"desktop_or_laptop_only\",\n",
    "        \"satellite\",\n",
    "        \"dial_up\",\n",
    "        \"other_internet_service\",\n",
    "        \"not_citizen\",\n",
    "        \"no_internet_access\",\n",
    "        # \"number_providers\",\n",
    "        \"mean_income\",\n",
    "        # \"no_computer\",\n",
    "        # \"internet_subscription\",\n",
    "        # \"work_from_home\",\n",
    "        \"mean_lat_ms\",\n",
    "        \"mean_u_mbps\",\n",
    "        \"access_with_no_subscription\",\n",
    "        \"sixty_five_and_older\"\n",
    "    ]\n",
    ")\n",
    "dataset.head()"
   ]
  },
  {
   "cell_type": "code",
   "execution_count": 563,
   "metadata": {},
   "outputs": [
    {
     "data": {
      "text/plain": [
       "Index(['work_from_home', 'smartphone_only', 'no_computer',\n",
       "       'internet_subscription', 'median_income', 'mean_d_mbps',\n",
       "       'number_providers', 'lowest_cost'],\n",
       "      dtype='object')"
      ]
     },
     "execution_count": 563,
     "metadata": {},
     "output_type": "execute_result"
    }
   ],
   "source": [
    "dataset.columns"
   ]
  },
  {
   "attachments": {},
   "cell_type": "markdown",
   "metadata": {
    "slideshow": {
     "slide_type": "subslide"
    }
   },
   "source": [
    "## Create A Class for The Data"
   ]
  },
  {
   "cell_type": "code",
   "execution_count": 1,
   "metadata": {},
   "outputs": [
    {
     "ename": "NameError",
     "evalue": "name 'dataset' is not defined",
     "output_type": "error",
     "traceback": [
      "\u001b[0;31m---------------------------------------------------------------------------\u001b[0m",
      "\u001b[0;31mNameError\u001b[0m                                 Traceback (most recent call last)",
      "Cell \u001b[0;32mIn[1], line 99\u001b[0m\n\u001b[1;32m     85\u001b[0m         weights \u001b[39m=\u001b[39m (\n\u001b[1;32m     86\u001b[0m             \u001b[39mself\u001b[39m\u001b[39m.\u001b[39mloadings\u001b[39m.\u001b[39miloc[:, \u001b[39m0\u001b[39m:number_of_components]\n\u001b[1;32m     87\u001b[0m             \u001b[39m.\u001b[39mmul(\n\u001b[0;32m   (...)\u001b[0m\n\u001b[1;32m     94\u001b[0m             \u001b[39m.\u001b[39msum(axis\u001b[39m=\u001b[39m\u001b[39m1\u001b[39m)\n\u001b[1;32m     95\u001b[0m         )\n\u001b[1;32m     96\u001b[0m         \u001b[39mreturn\u001b[39;00m weights\n\u001b[0;32m---> 99\u001b[0m data \u001b[39m=\u001b[39m PCA(dataset)\n\u001b[1;32m    100\u001b[0m data\u001b[39m.\u001b[39mweights \u001b[39m=\u001b[39m data\u001b[39m.\u001b[39mcalculate_weights(\u001b[39m3\u001b[39m)\n\u001b[1;32m    101\u001b[0m data\u001b[39m.\u001b[39mscaled[\u001b[39m\"\u001b[39m\u001b[39mindex\u001b[39m\u001b[39m\"\u001b[39m] \u001b[39m=\u001b[39m data\u001b[39m.\u001b[39mscaled \u001b[39m@\u001b[39m data\u001b[39m.\u001b[39mweights\n",
      "\u001b[0;31mNameError\u001b[0m: name 'dataset' is not defined"
     ]
    }
   ],
   "source": [
    "class PCA:\n",
    "    \"\"\"Input a df and get many things back.\n",
    "    https://stackoverflow.com/questions/13224362/principal-component-analysis-pca-in-python\n",
    "    \"\"\"\n",
    "\n",
    "    def __init__(self, df):\n",
    "        import numpy as np\n",
    "        from scipy import linalg as LA\n",
    "\n",
    "        self.data = df\n",
    "\n",
    "        # scale data\n",
    "        self.scaled = pd.DataFrame(scaler.fit_transform(df), columns=df.columns)\n",
    "\n",
    "        # kmo, total kmo\n",
    "        self.kmo, self.total_kmo = calculate_kmo(self.scaled)\n",
    "\n",
    "        # center data\n",
    "        self.center = self.scaled.apply(lambda x: x - x.mean())\n",
    "\n",
    "        # covariance\n",
    "        self.cov = pd.DataFrame(\n",
    "            np.cov(self.center, rowvar=False),\n",
    "            columns=self.scaled.columns,\n",
    "            index=self.scaled.columns,\n",
    "        )\n",
    "\n",
    "        # eigenvalues and loadings(eigenvectors)\n",
    "        self.eigenvalues, self.loadings = LA.eigh(self.cov)\n",
    "\n",
    "        # sort eigenvalues and loadings from\n",
    "        sorter = np.argsort(self.eigenvalues)[::-1]\n",
    "        self.loadings = self.loadings[:, sorter]\n",
    "        self.eigenvalues = self.eigenvalues[sorter]\n",
    "\n",
    "        pc_list = [\"pc\" + str(i + 1) for i in range(len(self.eigenvalues))]\n",
    "\n",
    "        # turn into dataframe\n",
    "        self.loadings = pd.DataFrame(\n",
    "            self.loadings, index=self.scaled.columns, columns=pc_list\n",
    "        )\n",
    "        self.eigenvalues = pd.DataFrame(self.eigenvalues, index=pc_list)\n",
    "\n",
    "        # pca scores - scaled data * loadings\n",
    "        self.scores = self.scaled @ self.loadings\n",
    "\n",
    "        # percent explained\n",
    "        explained_variance = self.eigenvalues / self.eigenvalues.sum() * 100\n",
    "        self.percent_explained = pd.DataFrame(explained_variance).round(2)\n",
    "\n",
    "        self.percent_explained[\n",
    "            \"cumulative_explained_variance\"\n",
    "        ] = self.percent_explained.cumsum().round(2)\n",
    "        self.percent_explained.columns.values[0] = \"explained_variance\"\n",
    "\n",
    "        # scree plot\n",
    "        self.scree = (\n",
    "            px.line(\n",
    "                self.percent_explained,\n",
    "                x=pc_list,\n",
    "                y=\"cumulative_explained_variance\",\n",
    "                text=\"cumulative_explained_variance\",\n",
    "                color=px.Constant(\"cumulative explained variance\"),\n",
    "            )\n",
    "            .update_traces(textposition=\"top left\")\n",
    "            .add_bar(\n",
    "                x=pc_list,\n",
    "                y=self.percent_explained.explained_variance,\n",
    "                name=\"explained variance\",\n",
    "                text=self.percent_explained.explained_variance,\n",
    "            )\n",
    "        )\n",
    "\n",
    "    def calculate_weights(self, number_of_components):\n",
    "        \"\"\"calculate coefficients using your eigenvalues. Multiplies each row by the respective\n",
    "        eigenvalue. Row 1 of loadings will be multiplied by eigenvalue 1. Row 2 with 2. You may\n",
    "        only use this when you have at least 2 pcs.\n",
    "\n",
    "        Args:\n",
    "            number_of_components (int): number of pcs you want to use.\n",
    "\n",
    "        Returns:\n",
    "            DataFrame: Returns a dataframe of weights.\n",
    "        \"\"\"\n",
    "        weights = (\n",
    "            self.loadings.iloc[:, 0:number_of_components]\n",
    "            .mul(\n",
    "                [\n",
    "                    float(self.eigenvalues.iloc[i, :])\n",
    "                    for i in range(len(self.eigenvalues))\n",
    "                ],\n",
    "                axis=0,\n",
    "            )\n",
    "            .sum(axis=1)\n",
    "        )\n",
    "        return weights\n",
    "\n",
    "\n",
    "data = PCA(dataset)\n",
    "data.weights = data.calculate_weights(3)\n",
    "data.scaled[\"index\"] = data.scaled @ data.weights\n"
   ]
  },
  {
   "cell_type": "code",
   "execution_count": 565,
   "metadata": {},
   "outputs": [
    {
     "data": {
      "text/html": [
       "<div>\n",
       "<style scoped>\n",
       "    .dataframe tbody tr th:only-of-type {\n",
       "        vertical-align: middle;\n",
       "    }\n",
       "\n",
       "    .dataframe tbody tr th {\n",
       "        vertical-align: top;\n",
       "    }\n",
       "\n",
       "    .dataframe thead th {\n",
       "        text-align: right;\n",
       "    }\n",
       "</style>\n",
       "<table border=\"1\" class=\"dataframe\">\n",
       "  <thead>\n",
       "    <tr style=\"text-align: right;\">\n",
       "      <th></th>\n",
       "      <th>0</th>\n",
       "    </tr>\n",
       "  </thead>\n",
       "  <tbody>\n",
       "    <tr>\n",
       "      <th>pc1</th>\n",
       "      <td>2.2642864711</td>\n",
       "    </tr>\n",
       "    <tr>\n",
       "      <th>pc2</th>\n",
       "      <td>2.0337426503</td>\n",
       "    </tr>\n",
       "    <tr>\n",
       "      <th>pc3</th>\n",
       "      <td>1.4129920527</td>\n",
       "    </tr>\n",
       "    <tr>\n",
       "      <th>pc4</th>\n",
       "      <td>0.7009338232</td>\n",
       "    </tr>\n",
       "    <tr>\n",
       "      <th>pc5</th>\n",
       "      <td>0.6080935676</td>\n",
       "    </tr>\n",
       "    <tr>\n",
       "      <th>pc6</th>\n",
       "      <td>0.4285827162</td>\n",
       "    </tr>\n",
       "    <tr>\n",
       "      <th>pc7</th>\n",
       "      <td>0.3531377115</td>\n",
       "    </tr>\n",
       "    <tr>\n",
       "      <th>pc8</th>\n",
       "      <td>0.2421870514</td>\n",
       "    </tr>\n",
       "  </tbody>\n",
       "</table>\n",
       "</div>"
      ],
      "text/plain": [
       "               0\n",
       "pc1 2.2642864711\n",
       "pc2 2.0337426503\n",
       "pc3 1.4129920527\n",
       "pc4 0.7009338232\n",
       "pc5 0.6080935676\n",
       "pc6 0.4285827162\n",
       "pc7 0.3531377115\n",
       "pc8 0.2421870514"
      ]
     },
     "execution_count": 565,
     "metadata": {},
     "output_type": "execute_result"
    }
   ],
   "source": [
    "data.eigenvalues\n"
   ]
  },
  {
   "cell_type": "code",
   "execution_count": 566,
   "metadata": {},
   "outputs": [
    {
     "data": {
      "text/html": [
       "<div>\n",
       "<style scoped>\n",
       "    .dataframe tbody tr th:only-of-type {\n",
       "        vertical-align: middle;\n",
       "    }\n",
       "\n",
       "    .dataframe tbody tr th {\n",
       "        vertical-align: top;\n",
       "    }\n",
       "\n",
       "    .dataframe thead th {\n",
       "        text-align: right;\n",
       "    }\n",
       "</style>\n",
       "<table border=\"1\" class=\"dataframe\">\n",
       "  <thead>\n",
       "    <tr style=\"text-align: right;\">\n",
       "      <th></th>\n",
       "      <th>explained_variance</th>\n",
       "      <th>cumulative_explained_variance</th>\n",
       "    </tr>\n",
       "  </thead>\n",
       "  <tbody>\n",
       "    <tr>\n",
       "      <th>pc1</th>\n",
       "      <td>28.1500000000</td>\n",
       "      <td>28.1500000000</td>\n",
       "    </tr>\n",
       "    <tr>\n",
       "      <th>pc2</th>\n",
       "      <td>25.2800000000</td>\n",
       "      <td>53.4300000000</td>\n",
       "    </tr>\n",
       "    <tr>\n",
       "      <th>pc3</th>\n",
       "      <td>17.5700000000</td>\n",
       "      <td>71.0000000000</td>\n",
       "    </tr>\n",
       "    <tr>\n",
       "      <th>pc4</th>\n",
       "      <td>8.7100000000</td>\n",
       "      <td>79.7100000000</td>\n",
       "    </tr>\n",
       "    <tr>\n",
       "      <th>pc5</th>\n",
       "      <td>7.5600000000</td>\n",
       "      <td>87.2700000000</td>\n",
       "    </tr>\n",
       "    <tr>\n",
       "      <th>pc6</th>\n",
       "      <td>5.3300000000</td>\n",
       "      <td>92.6000000000</td>\n",
       "    </tr>\n",
       "    <tr>\n",
       "      <th>pc7</th>\n",
       "      <td>4.3900000000</td>\n",
       "      <td>96.9900000000</td>\n",
       "    </tr>\n",
       "    <tr>\n",
       "      <th>pc8</th>\n",
       "      <td>3.0100000000</td>\n",
       "      <td>100.0000000000</td>\n",
       "    </tr>\n",
       "  </tbody>\n",
       "</table>\n",
       "</div>"
      ],
      "text/plain": [
       "     explained_variance  cumulative_explained_variance\n",
       "pc1       28.1500000000                  28.1500000000\n",
       "pc2       25.2800000000                  53.4300000000\n",
       "pc3       17.5700000000                  71.0000000000\n",
       "pc4        8.7100000000                  79.7100000000\n",
       "pc5        7.5600000000                  87.2700000000\n",
       "pc6        5.3300000000                  92.6000000000\n",
       "pc7        4.3900000000                  96.9900000000\n",
       "pc8        3.0100000000                 100.0000000000"
      ]
     },
     "execution_count": 566,
     "metadata": {},
     "output_type": "execute_result"
    }
   ],
   "source": [
    "data.percent_explained\n"
   ]
  },
  {
   "cell_type": "code",
   "execution_count": 567,
   "metadata": {},
   "outputs": [
    {
     "data": {
      "application/vnd.plotly.v1+json": {
       "config": {
        "plotlyServerURL": "https://plot.ly"
       },
       "data": [
        {
         "hovertemplate": "color=cumulative explained variance<br>x=%{x}<br>cumulative_explained_variance=%{text}<extra></extra>",
         "legendgroup": "cumulative explained variance",
         "line": {
          "color": "#636efa",
          "dash": "solid"
         },
         "marker": {
          "symbol": "circle"
         },
         "mode": "markers+text+lines",
         "name": "cumulative explained variance",
         "orientation": "v",
         "showlegend": true,
         "text": [
          28.15,
          53.43,
          71,
          79.71,
          87.27,
          92.6,
          96.99,
          100
         ],
         "textposition": "top left",
         "type": "scatter",
         "x": [
          "pc1",
          "pc2",
          "pc3",
          "pc4",
          "pc5",
          "pc6",
          "pc7",
          "pc8"
         ],
         "xaxis": "x",
         "y": [
          28.15,
          53.43,
          71,
          79.71,
          87.27,
          92.6,
          96.99,
          100
         ],
         "yaxis": "y"
        },
        {
         "name": "explained variance",
         "text": [
          28.15,
          25.28,
          17.57,
          8.71,
          7.56,
          5.33,
          4.39,
          3.01
         ],
         "type": "bar",
         "x": [
          "pc1",
          "pc2",
          "pc3",
          "pc4",
          "pc5",
          "pc6",
          "pc7",
          "pc8"
         ],
         "y": [
          28.15,
          25.28,
          17.57,
          8.71,
          7.56,
          5.33,
          4.39,
          3.01
         ]
        }
       ],
       "layout": {
        "legend": {
         "title": {
          "text": "color"
         },
         "tracegroupgap": 0
        },
        "margin": {
         "t": 60
        },
        "template": {
         "data": {
          "bar": [
           {
            "error_x": {
             "color": "#2a3f5f"
            },
            "error_y": {
             "color": "#2a3f5f"
            },
            "marker": {
             "line": {
              "color": "#E5ECF6",
              "width": 0.5
             },
             "pattern": {
              "fillmode": "overlay",
              "size": 10,
              "solidity": 0.2
             }
            },
            "type": "bar"
           }
          ],
          "barpolar": [
           {
            "marker": {
             "line": {
              "color": "#E5ECF6",
              "width": 0.5
             },
             "pattern": {
              "fillmode": "overlay",
              "size": 10,
              "solidity": 0.2
             }
            },
            "type": "barpolar"
           }
          ],
          "carpet": [
           {
            "aaxis": {
             "endlinecolor": "#2a3f5f",
             "gridcolor": "white",
             "linecolor": "white",
             "minorgridcolor": "white",
             "startlinecolor": "#2a3f5f"
            },
            "baxis": {
             "endlinecolor": "#2a3f5f",
             "gridcolor": "white",
             "linecolor": "white",
             "minorgridcolor": "white",
             "startlinecolor": "#2a3f5f"
            },
            "type": "carpet"
           }
          ],
          "choropleth": [
           {
            "colorbar": {
             "outlinewidth": 0,
             "ticks": ""
            },
            "type": "choropleth"
           }
          ],
          "contour": [
           {
            "colorbar": {
             "outlinewidth": 0,
             "ticks": ""
            },
            "colorscale": [
             [
              0,
              "#0d0887"
             ],
             [
              0.1111111111111111,
              "#46039f"
             ],
             [
              0.2222222222222222,
              "#7201a8"
             ],
             [
              0.3333333333333333,
              "#9c179e"
             ],
             [
              0.4444444444444444,
              "#bd3786"
             ],
             [
              0.5555555555555556,
              "#d8576b"
             ],
             [
              0.6666666666666666,
              "#ed7953"
             ],
             [
              0.7777777777777778,
              "#fb9f3a"
             ],
             [
              0.8888888888888888,
              "#fdca26"
             ],
             [
              1,
              "#f0f921"
             ]
            ],
            "type": "contour"
           }
          ],
          "contourcarpet": [
           {
            "colorbar": {
             "outlinewidth": 0,
             "ticks": ""
            },
            "type": "contourcarpet"
           }
          ],
          "heatmap": [
           {
            "colorbar": {
             "outlinewidth": 0,
             "ticks": ""
            },
            "colorscale": [
             [
              0,
              "#0d0887"
             ],
             [
              0.1111111111111111,
              "#46039f"
             ],
             [
              0.2222222222222222,
              "#7201a8"
             ],
             [
              0.3333333333333333,
              "#9c179e"
             ],
             [
              0.4444444444444444,
              "#bd3786"
             ],
             [
              0.5555555555555556,
              "#d8576b"
             ],
             [
              0.6666666666666666,
              "#ed7953"
             ],
             [
              0.7777777777777778,
              "#fb9f3a"
             ],
             [
              0.8888888888888888,
              "#fdca26"
             ],
             [
              1,
              "#f0f921"
             ]
            ],
            "type": "heatmap"
           }
          ],
          "heatmapgl": [
           {
            "colorbar": {
             "outlinewidth": 0,
             "ticks": ""
            },
            "colorscale": [
             [
              0,
              "#0d0887"
             ],
             [
              0.1111111111111111,
              "#46039f"
             ],
             [
              0.2222222222222222,
              "#7201a8"
             ],
             [
              0.3333333333333333,
              "#9c179e"
             ],
             [
              0.4444444444444444,
              "#bd3786"
             ],
             [
              0.5555555555555556,
              "#d8576b"
             ],
             [
              0.6666666666666666,
              "#ed7953"
             ],
             [
              0.7777777777777778,
              "#fb9f3a"
             ],
             [
              0.8888888888888888,
              "#fdca26"
             ],
             [
              1,
              "#f0f921"
             ]
            ],
            "type": "heatmapgl"
           }
          ],
          "histogram": [
           {
            "marker": {
             "pattern": {
              "fillmode": "overlay",
              "size": 10,
              "solidity": 0.2
             }
            },
            "type": "histogram"
           }
          ],
          "histogram2d": [
           {
            "colorbar": {
             "outlinewidth": 0,
             "ticks": ""
            },
            "colorscale": [
             [
              0,
              "#0d0887"
             ],
             [
              0.1111111111111111,
              "#46039f"
             ],
             [
              0.2222222222222222,
              "#7201a8"
             ],
             [
              0.3333333333333333,
              "#9c179e"
             ],
             [
              0.4444444444444444,
              "#bd3786"
             ],
             [
              0.5555555555555556,
              "#d8576b"
             ],
             [
              0.6666666666666666,
              "#ed7953"
             ],
             [
              0.7777777777777778,
              "#fb9f3a"
             ],
             [
              0.8888888888888888,
              "#fdca26"
             ],
             [
              1,
              "#f0f921"
             ]
            ],
            "type": "histogram2d"
           }
          ],
          "histogram2dcontour": [
           {
            "colorbar": {
             "outlinewidth": 0,
             "ticks": ""
            },
            "colorscale": [
             [
              0,
              "#0d0887"
             ],
             [
              0.1111111111111111,
              "#46039f"
             ],
             [
              0.2222222222222222,
              "#7201a8"
             ],
             [
              0.3333333333333333,
              "#9c179e"
             ],
             [
              0.4444444444444444,
              "#bd3786"
             ],
             [
              0.5555555555555556,
              "#d8576b"
             ],
             [
              0.6666666666666666,
              "#ed7953"
             ],
             [
              0.7777777777777778,
              "#fb9f3a"
             ],
             [
              0.8888888888888888,
              "#fdca26"
             ],
             [
              1,
              "#f0f921"
             ]
            ],
            "type": "histogram2dcontour"
           }
          ],
          "mesh3d": [
           {
            "colorbar": {
             "outlinewidth": 0,
             "ticks": ""
            },
            "type": "mesh3d"
           }
          ],
          "parcoords": [
           {
            "line": {
             "colorbar": {
              "outlinewidth": 0,
              "ticks": ""
             }
            },
            "type": "parcoords"
           }
          ],
          "pie": [
           {
            "automargin": true,
            "type": "pie"
           }
          ],
          "scatter": [
           {
            "fillpattern": {
             "fillmode": "overlay",
             "size": 10,
             "solidity": 0.2
            },
            "type": "scatter"
           }
          ],
          "scatter3d": [
           {
            "line": {
             "colorbar": {
              "outlinewidth": 0,
              "ticks": ""
             }
            },
            "marker": {
             "colorbar": {
              "outlinewidth": 0,
              "ticks": ""
             }
            },
            "type": "scatter3d"
           }
          ],
          "scattercarpet": [
           {
            "marker": {
             "colorbar": {
              "outlinewidth": 0,
              "ticks": ""
             }
            },
            "type": "scattercarpet"
           }
          ],
          "scattergeo": [
           {
            "marker": {
             "colorbar": {
              "outlinewidth": 0,
              "ticks": ""
             }
            },
            "type": "scattergeo"
           }
          ],
          "scattergl": [
           {
            "marker": {
             "colorbar": {
              "outlinewidth": 0,
              "ticks": ""
             }
            },
            "type": "scattergl"
           }
          ],
          "scattermapbox": [
           {
            "marker": {
             "colorbar": {
              "outlinewidth": 0,
              "ticks": ""
             }
            },
            "type": "scattermapbox"
           }
          ],
          "scatterpolar": [
           {
            "marker": {
             "colorbar": {
              "outlinewidth": 0,
              "ticks": ""
             }
            },
            "type": "scatterpolar"
           }
          ],
          "scatterpolargl": [
           {
            "marker": {
             "colorbar": {
              "outlinewidth": 0,
              "ticks": ""
             }
            },
            "type": "scatterpolargl"
           }
          ],
          "scatterternary": [
           {
            "marker": {
             "colorbar": {
              "outlinewidth": 0,
              "ticks": ""
             }
            },
            "type": "scatterternary"
           }
          ],
          "surface": [
           {
            "colorbar": {
             "outlinewidth": 0,
             "ticks": ""
            },
            "colorscale": [
             [
              0,
              "#0d0887"
             ],
             [
              0.1111111111111111,
              "#46039f"
             ],
             [
              0.2222222222222222,
              "#7201a8"
             ],
             [
              0.3333333333333333,
              "#9c179e"
             ],
             [
              0.4444444444444444,
              "#bd3786"
             ],
             [
              0.5555555555555556,
              "#d8576b"
             ],
             [
              0.6666666666666666,
              "#ed7953"
             ],
             [
              0.7777777777777778,
              "#fb9f3a"
             ],
             [
              0.8888888888888888,
              "#fdca26"
             ],
             [
              1,
              "#f0f921"
             ]
            ],
            "type": "surface"
           }
          ],
          "table": [
           {
            "cells": {
             "fill": {
              "color": "#EBF0F8"
             },
             "line": {
              "color": "white"
             }
            },
            "header": {
             "fill": {
              "color": "#C8D4E3"
             },
             "line": {
              "color": "white"
             }
            },
            "type": "table"
           }
          ]
         },
         "layout": {
          "annotationdefaults": {
           "arrowcolor": "#2a3f5f",
           "arrowhead": 0,
           "arrowwidth": 1
          },
          "autotypenumbers": "strict",
          "coloraxis": {
           "colorbar": {
            "outlinewidth": 0,
            "ticks": ""
           }
          },
          "colorscale": {
           "diverging": [
            [
             0,
             "#8e0152"
            ],
            [
             0.1,
             "#c51b7d"
            ],
            [
             0.2,
             "#de77ae"
            ],
            [
             0.3,
             "#f1b6da"
            ],
            [
             0.4,
             "#fde0ef"
            ],
            [
             0.5,
             "#f7f7f7"
            ],
            [
             0.6,
             "#e6f5d0"
            ],
            [
             0.7,
             "#b8e186"
            ],
            [
             0.8,
             "#7fbc41"
            ],
            [
             0.9,
             "#4d9221"
            ],
            [
             1,
             "#276419"
            ]
           ],
           "sequential": [
            [
             0,
             "#0d0887"
            ],
            [
             0.1111111111111111,
             "#46039f"
            ],
            [
             0.2222222222222222,
             "#7201a8"
            ],
            [
             0.3333333333333333,
             "#9c179e"
            ],
            [
             0.4444444444444444,
             "#bd3786"
            ],
            [
             0.5555555555555556,
             "#d8576b"
            ],
            [
             0.6666666666666666,
             "#ed7953"
            ],
            [
             0.7777777777777778,
             "#fb9f3a"
            ],
            [
             0.8888888888888888,
             "#fdca26"
            ],
            [
             1,
             "#f0f921"
            ]
           ],
           "sequentialminus": [
            [
             0,
             "#0d0887"
            ],
            [
             0.1111111111111111,
             "#46039f"
            ],
            [
             0.2222222222222222,
             "#7201a8"
            ],
            [
             0.3333333333333333,
             "#9c179e"
            ],
            [
             0.4444444444444444,
             "#bd3786"
            ],
            [
             0.5555555555555556,
             "#d8576b"
            ],
            [
             0.6666666666666666,
             "#ed7953"
            ],
            [
             0.7777777777777778,
             "#fb9f3a"
            ],
            [
             0.8888888888888888,
             "#fdca26"
            ],
            [
             1,
             "#f0f921"
            ]
           ]
          },
          "colorway": [
           "#636efa",
           "#EF553B",
           "#00cc96",
           "#ab63fa",
           "#FFA15A",
           "#19d3f3",
           "#FF6692",
           "#B6E880",
           "#FF97FF",
           "#FECB52"
          ],
          "font": {
           "color": "#2a3f5f"
          },
          "geo": {
           "bgcolor": "white",
           "lakecolor": "white",
           "landcolor": "#E5ECF6",
           "showlakes": true,
           "showland": true,
           "subunitcolor": "white"
          },
          "hoverlabel": {
           "align": "left"
          },
          "hovermode": "closest",
          "mapbox": {
           "style": "light"
          },
          "paper_bgcolor": "white",
          "plot_bgcolor": "#E5ECF6",
          "polar": {
           "angularaxis": {
            "gridcolor": "white",
            "linecolor": "white",
            "ticks": ""
           },
           "bgcolor": "#E5ECF6",
           "radialaxis": {
            "gridcolor": "white",
            "linecolor": "white",
            "ticks": ""
           }
          },
          "scene": {
           "xaxis": {
            "backgroundcolor": "#E5ECF6",
            "gridcolor": "white",
            "gridwidth": 2,
            "linecolor": "white",
            "showbackground": true,
            "ticks": "",
            "zerolinecolor": "white"
           },
           "yaxis": {
            "backgroundcolor": "#E5ECF6",
            "gridcolor": "white",
            "gridwidth": 2,
            "linecolor": "white",
            "showbackground": true,
            "ticks": "",
            "zerolinecolor": "white"
           },
           "zaxis": {
            "backgroundcolor": "#E5ECF6",
            "gridcolor": "white",
            "gridwidth": 2,
            "linecolor": "white",
            "showbackground": true,
            "ticks": "",
            "zerolinecolor": "white"
           }
          },
          "shapedefaults": {
           "line": {
            "color": "#2a3f5f"
           }
          },
          "ternary": {
           "aaxis": {
            "gridcolor": "white",
            "linecolor": "white",
            "ticks": ""
           },
           "baxis": {
            "gridcolor": "white",
            "linecolor": "white",
            "ticks": ""
           },
           "bgcolor": "#E5ECF6",
           "caxis": {
            "gridcolor": "white",
            "linecolor": "white",
            "ticks": ""
           }
          },
          "title": {
           "x": 0.05
          },
          "xaxis": {
           "automargin": true,
           "gridcolor": "white",
           "linecolor": "white",
           "ticks": "",
           "title": {
            "standoff": 15
           },
           "zerolinecolor": "white",
           "zerolinewidth": 2
          },
          "yaxis": {
           "automargin": true,
           "gridcolor": "white",
           "linecolor": "white",
           "ticks": "",
           "title": {
            "standoff": 15
           },
           "zerolinecolor": "white",
           "zerolinewidth": 2
          }
         }
        },
        "xaxis": {
         "anchor": "y",
         "domain": [
          0,
          1
         ],
         "title": {
          "text": "x"
         }
        },
        "yaxis": {
         "anchor": "x",
         "domain": [
          0,
          1
         ],
         "title": {
          "text": "cumulative_explained_variance"
         }
        }
       }
      }
     },
     "metadata": {},
     "output_type": "display_data"
    }
   ],
   "source": [
    "data.scree\n"
   ]
  },
  {
   "attachments": {},
   "cell_type": "markdown",
   "metadata": {},
   "source": [
    "https://stackoverflow.com/questions/52741236/how-to-calculate-p-values-for-pairwise-correlation-of-columns-in-pandas"
   ]
  },
  {
   "cell_type": "code",
   "execution_count": 568,
   "metadata": {},
   "outputs": [
    {
     "data": {
      "text/html": [
       "<div>\n",
       "<style scoped>\n",
       "    .dataframe tbody tr th:only-of-type {\n",
       "        vertical-align: middle;\n",
       "    }\n",
       "\n",
       "    .dataframe tbody tr th {\n",
       "        vertical-align: top;\n",
       "    }\n",
       "\n",
       "    .dataframe thead th {\n",
       "        text-align: right;\n",
       "    }\n",
       "</style>\n",
       "<table border=\"1\" class=\"dataframe\">\n",
       "  <thead>\n",
       "    <tr style=\"text-align: right;\">\n",
       "      <th></th>\n",
       "      <th>index</th>\n",
       "    </tr>\n",
       "  </thead>\n",
       "  <tbody>\n",
       "    <tr>\n",
       "      <th>work_from_home</th>\n",
       "      <td>0.0085073617</td>\n",
       "    </tr>\n",
       "    <tr>\n",
       "      <th>smartphone_only</th>\n",
       "      <td>0.0000000000</td>\n",
       "    </tr>\n",
       "    <tr>\n",
       "      <th>no_computer</th>\n",
       "      <td>0.0000000000</td>\n",
       "    </tr>\n",
       "    <tr>\n",
       "      <th>internet_subscription</th>\n",
       "      <td>0.0000000000</td>\n",
       "    </tr>\n",
       "    <tr>\n",
       "      <th>median_income</th>\n",
       "      <td>0.0002085952</td>\n",
       "    </tr>\n",
       "    <tr>\n",
       "      <th>mean_d_mbps</th>\n",
       "      <td>0.0017105449</td>\n",
       "    </tr>\n",
       "    <tr>\n",
       "      <th>number_providers</th>\n",
       "      <td>0.1016892245</td>\n",
       "    </tr>\n",
       "    <tr>\n",
       "      <th>lowest_cost</th>\n",
       "      <td>0.0094710914</td>\n",
       "    </tr>\n",
       "    <tr>\n",
       "      <th>index</th>\n",
       "      <td>1.0000000000</td>\n",
       "    </tr>\n",
       "  </tbody>\n",
       "</table>\n",
       "</div>"
      ],
      "text/plain": [
       "                             index\n",
       "work_from_home        0.0085073617\n",
       "smartphone_only       0.0000000000\n",
       "no_computer           0.0000000000\n",
       "internet_subscription 0.0000000000\n",
       "median_income         0.0002085952\n",
       "mean_d_mbps           0.0017105449\n",
       "number_providers      0.1016892245\n",
       "lowest_cost           0.0094710914\n",
       "index                 1.0000000000"
      ]
     },
     "execution_count": 568,
     "metadata": {},
     "output_type": "execute_result"
    }
   ],
   "source": [
    "data.scaled.corr(pearsonr_pval).iloc[:, -1:]\n"
   ]
  },
  {
   "cell_type": "code",
   "execution_count": 569,
   "metadata": {},
   "outputs": [
    {
     "data": {
      "text/html": [
       "<div>\n",
       "<style scoped>\n",
       "    .dataframe tbody tr th:only-of-type {\n",
       "        vertical-align: middle;\n",
       "    }\n",
       "\n",
       "    .dataframe tbody tr th {\n",
       "        vertical-align: top;\n",
       "    }\n",
       "\n",
       "    .dataframe thead th {\n",
       "        text-align: right;\n",
       "    }\n",
       "</style>\n",
       "<table border=\"1\" class=\"dataframe\">\n",
       "  <thead>\n",
       "    <tr style=\"text-align: right;\">\n",
       "      <th></th>\n",
       "      <th>index</th>\n",
       "    </tr>\n",
       "  </thead>\n",
       "  <tbody>\n",
       "    <tr>\n",
       "      <th>number_providers</th>\n",
       "      <td>0.1016892245</td>\n",
       "    </tr>\n",
       "    <tr>\n",
       "      <th>index</th>\n",
       "      <td>1.0000000000</td>\n",
       "    </tr>\n",
       "  </tbody>\n",
       "</table>\n",
       "</div>"
      ],
      "text/plain": [
       "                        index\n",
       "number_providers 0.1016892245\n",
       "index            1.0000000000"
      ]
     },
     "execution_count": 569,
     "metadata": {},
     "output_type": "execute_result"
    }
   ],
   "source": [
    "pvals = data.scaled.corr(pearsonr_pval).loc[\n",
    "    data.scaled.corr(pearsonr_pval)[\"index\"] >= 0.05\n",
    "]\n",
    "pvals.loc[:, [\"index\"]]\n"
   ]
  },
  {
   "cell_type": "code",
   "execution_count": 570,
   "metadata": {},
   "outputs": [
    {
     "data": {
      "text/plain": [
       "['number_providers']"
      ]
     },
     "execution_count": 570,
     "metadata": {},
     "output_type": "execute_result"
    }
   ],
   "source": [
    "insig_vars = list(pvals.index)\n",
    "# remove index col\n",
    "del insig_vars[-1]\n",
    "insig_vars"
   ]
  },
  {
   "cell_type": "code",
   "execution_count": 571,
   "metadata": {},
   "outputs": [],
   "source": [
    "data2 = PCA(dataset.drop(insig_vars, axis=1))\n",
    "data2.weights = -data2.calculate_weights(2)\n",
    "data.scaled[\"index\"] = data2.scaled @ data2.weights\n"
   ]
  },
  {
   "cell_type": "code",
   "execution_count": 572,
   "metadata": {},
   "outputs": [
    {
     "data": {
      "text/html": [
       "<div>\n",
       "<style scoped>\n",
       "    .dataframe tbody tr th:only-of-type {\n",
       "        vertical-align: middle;\n",
       "    }\n",
       "\n",
       "    .dataframe tbody tr th {\n",
       "        vertical-align: top;\n",
       "    }\n",
       "\n",
       "    .dataframe thead th {\n",
       "        text-align: right;\n",
       "    }\n",
       "</style>\n",
       "<table border=\"1\" class=\"dataframe\">\n",
       "  <thead>\n",
       "    <tr style=\"text-align: right;\">\n",
       "      <th></th>\n",
       "      <th>0</th>\n",
       "    </tr>\n",
       "  </thead>\n",
       "  <tbody>\n",
       "    <tr>\n",
       "      <th>pc1</th>\n",
       "      <td>2.0538834114</td>\n",
       "    </tr>\n",
       "    <tr>\n",
       "      <th>pc2</th>\n",
       "      <td>1.9068347455</td>\n",
       "    </tr>\n",
       "    <tr>\n",
       "      <th>pc3</th>\n",
       "      <td>1.1845017844</td>\n",
       "    </tr>\n",
       "    <tr>\n",
       "      <th>pc4</th>\n",
       "      <td>0.6880969678</td>\n",
       "    </tr>\n",
       "    <tr>\n",
       "      <th>pc5</th>\n",
       "      <td>0.6068890942</td>\n",
       "    </tr>\n",
       "    <tr>\n",
       "      <th>pc6</th>\n",
       "      <td>0.3559646439</td>\n",
       "    </tr>\n",
       "    <tr>\n",
       "      <th>pc7</th>\n",
       "      <td>0.2422908913</td>\n",
       "    </tr>\n",
       "  </tbody>\n",
       "</table>\n",
       "</div>"
      ],
      "text/plain": [
       "               0\n",
       "pc1 2.0538834114\n",
       "pc2 1.9068347455\n",
       "pc3 1.1845017844\n",
       "pc4 0.6880969678\n",
       "pc5 0.6068890942\n",
       "pc6 0.3559646439\n",
       "pc7 0.2422908913"
      ]
     },
     "execution_count": 572,
     "metadata": {},
     "output_type": "execute_result"
    }
   ],
   "source": [
    "data2.eigenvalues"
   ]
  },
  {
   "cell_type": "code",
   "execution_count": 573,
   "metadata": {},
   "outputs": [
    {
     "data": {
      "application/vnd.plotly.v1+json": {
       "config": {
        "plotlyServerURL": "https://plot.ly"
       },
       "data": [
        {
         "hovertemplate": "color=cumulative explained variance<br>x=%{x}<br>cumulative_explained_variance=%{text}<extra></extra>",
         "legendgroup": "cumulative explained variance",
         "line": {
          "color": "#636efa",
          "dash": "solid"
         },
         "marker": {
          "symbol": "circle"
         },
         "mode": "markers+text+lines",
         "name": "cumulative explained variance",
         "orientation": "v",
         "showlegend": true,
         "text": [
          29.18,
          56.27,
          73.1,
          82.88,
          91.5,
          96.56,
          100
         ],
         "textposition": "top left",
         "type": "scatter",
         "x": [
          "pc1",
          "pc2",
          "pc3",
          "pc4",
          "pc5",
          "pc6",
          "pc7"
         ],
         "xaxis": "x",
         "y": [
          29.18,
          56.27,
          73.1,
          82.88,
          91.5,
          96.56,
          100
         ],
         "yaxis": "y"
        },
        {
         "name": "explained variance",
         "text": [
          29.18,
          27.09,
          16.83,
          9.78,
          8.62,
          5.06,
          3.44
         ],
         "type": "bar",
         "x": [
          "pc1",
          "pc2",
          "pc3",
          "pc4",
          "pc5",
          "pc6",
          "pc7"
         ],
         "y": [
          29.18,
          27.09,
          16.83,
          9.78,
          8.62,
          5.06,
          3.44
         ]
        }
       ],
       "layout": {
        "legend": {
         "title": {
          "text": "color"
         },
         "tracegroupgap": 0
        },
        "margin": {
         "t": 60
        },
        "template": {
         "data": {
          "bar": [
           {
            "error_x": {
             "color": "#2a3f5f"
            },
            "error_y": {
             "color": "#2a3f5f"
            },
            "marker": {
             "line": {
              "color": "#E5ECF6",
              "width": 0.5
             },
             "pattern": {
              "fillmode": "overlay",
              "size": 10,
              "solidity": 0.2
             }
            },
            "type": "bar"
           }
          ],
          "barpolar": [
           {
            "marker": {
             "line": {
              "color": "#E5ECF6",
              "width": 0.5
             },
             "pattern": {
              "fillmode": "overlay",
              "size": 10,
              "solidity": 0.2
             }
            },
            "type": "barpolar"
           }
          ],
          "carpet": [
           {
            "aaxis": {
             "endlinecolor": "#2a3f5f",
             "gridcolor": "white",
             "linecolor": "white",
             "minorgridcolor": "white",
             "startlinecolor": "#2a3f5f"
            },
            "baxis": {
             "endlinecolor": "#2a3f5f",
             "gridcolor": "white",
             "linecolor": "white",
             "minorgridcolor": "white",
             "startlinecolor": "#2a3f5f"
            },
            "type": "carpet"
           }
          ],
          "choropleth": [
           {
            "colorbar": {
             "outlinewidth": 0,
             "ticks": ""
            },
            "type": "choropleth"
           }
          ],
          "contour": [
           {
            "colorbar": {
             "outlinewidth": 0,
             "ticks": ""
            },
            "colorscale": [
             [
              0,
              "#0d0887"
             ],
             [
              0.1111111111111111,
              "#46039f"
             ],
             [
              0.2222222222222222,
              "#7201a8"
             ],
             [
              0.3333333333333333,
              "#9c179e"
             ],
             [
              0.4444444444444444,
              "#bd3786"
             ],
             [
              0.5555555555555556,
              "#d8576b"
             ],
             [
              0.6666666666666666,
              "#ed7953"
             ],
             [
              0.7777777777777778,
              "#fb9f3a"
             ],
             [
              0.8888888888888888,
              "#fdca26"
             ],
             [
              1,
              "#f0f921"
             ]
            ],
            "type": "contour"
           }
          ],
          "contourcarpet": [
           {
            "colorbar": {
             "outlinewidth": 0,
             "ticks": ""
            },
            "type": "contourcarpet"
           }
          ],
          "heatmap": [
           {
            "colorbar": {
             "outlinewidth": 0,
             "ticks": ""
            },
            "colorscale": [
             [
              0,
              "#0d0887"
             ],
             [
              0.1111111111111111,
              "#46039f"
             ],
             [
              0.2222222222222222,
              "#7201a8"
             ],
             [
              0.3333333333333333,
              "#9c179e"
             ],
             [
              0.4444444444444444,
              "#bd3786"
             ],
             [
              0.5555555555555556,
              "#d8576b"
             ],
             [
              0.6666666666666666,
              "#ed7953"
             ],
             [
              0.7777777777777778,
              "#fb9f3a"
             ],
             [
              0.8888888888888888,
              "#fdca26"
             ],
             [
              1,
              "#f0f921"
             ]
            ],
            "type": "heatmap"
           }
          ],
          "heatmapgl": [
           {
            "colorbar": {
             "outlinewidth": 0,
             "ticks": ""
            },
            "colorscale": [
             [
              0,
              "#0d0887"
             ],
             [
              0.1111111111111111,
              "#46039f"
             ],
             [
              0.2222222222222222,
              "#7201a8"
             ],
             [
              0.3333333333333333,
              "#9c179e"
             ],
             [
              0.4444444444444444,
              "#bd3786"
             ],
             [
              0.5555555555555556,
              "#d8576b"
             ],
             [
              0.6666666666666666,
              "#ed7953"
             ],
             [
              0.7777777777777778,
              "#fb9f3a"
             ],
             [
              0.8888888888888888,
              "#fdca26"
             ],
             [
              1,
              "#f0f921"
             ]
            ],
            "type": "heatmapgl"
           }
          ],
          "histogram": [
           {
            "marker": {
             "pattern": {
              "fillmode": "overlay",
              "size": 10,
              "solidity": 0.2
             }
            },
            "type": "histogram"
           }
          ],
          "histogram2d": [
           {
            "colorbar": {
             "outlinewidth": 0,
             "ticks": ""
            },
            "colorscale": [
             [
              0,
              "#0d0887"
             ],
             [
              0.1111111111111111,
              "#46039f"
             ],
             [
              0.2222222222222222,
              "#7201a8"
             ],
             [
              0.3333333333333333,
              "#9c179e"
             ],
             [
              0.4444444444444444,
              "#bd3786"
             ],
             [
              0.5555555555555556,
              "#d8576b"
             ],
             [
              0.6666666666666666,
              "#ed7953"
             ],
             [
              0.7777777777777778,
              "#fb9f3a"
             ],
             [
              0.8888888888888888,
              "#fdca26"
             ],
             [
              1,
              "#f0f921"
             ]
            ],
            "type": "histogram2d"
           }
          ],
          "histogram2dcontour": [
           {
            "colorbar": {
             "outlinewidth": 0,
             "ticks": ""
            },
            "colorscale": [
             [
              0,
              "#0d0887"
             ],
             [
              0.1111111111111111,
              "#46039f"
             ],
             [
              0.2222222222222222,
              "#7201a8"
             ],
             [
              0.3333333333333333,
              "#9c179e"
             ],
             [
              0.4444444444444444,
              "#bd3786"
             ],
             [
              0.5555555555555556,
              "#d8576b"
             ],
             [
              0.6666666666666666,
              "#ed7953"
             ],
             [
              0.7777777777777778,
              "#fb9f3a"
             ],
             [
              0.8888888888888888,
              "#fdca26"
             ],
             [
              1,
              "#f0f921"
             ]
            ],
            "type": "histogram2dcontour"
           }
          ],
          "mesh3d": [
           {
            "colorbar": {
             "outlinewidth": 0,
             "ticks": ""
            },
            "type": "mesh3d"
           }
          ],
          "parcoords": [
           {
            "line": {
             "colorbar": {
              "outlinewidth": 0,
              "ticks": ""
             }
            },
            "type": "parcoords"
           }
          ],
          "pie": [
           {
            "automargin": true,
            "type": "pie"
           }
          ],
          "scatter": [
           {
            "fillpattern": {
             "fillmode": "overlay",
             "size": 10,
             "solidity": 0.2
            },
            "type": "scatter"
           }
          ],
          "scatter3d": [
           {
            "line": {
             "colorbar": {
              "outlinewidth": 0,
              "ticks": ""
             }
            },
            "marker": {
             "colorbar": {
              "outlinewidth": 0,
              "ticks": ""
             }
            },
            "type": "scatter3d"
           }
          ],
          "scattercarpet": [
           {
            "marker": {
             "colorbar": {
              "outlinewidth": 0,
              "ticks": ""
             }
            },
            "type": "scattercarpet"
           }
          ],
          "scattergeo": [
           {
            "marker": {
             "colorbar": {
              "outlinewidth": 0,
              "ticks": ""
             }
            },
            "type": "scattergeo"
           }
          ],
          "scattergl": [
           {
            "marker": {
             "colorbar": {
              "outlinewidth": 0,
              "ticks": ""
             }
            },
            "type": "scattergl"
           }
          ],
          "scattermapbox": [
           {
            "marker": {
             "colorbar": {
              "outlinewidth": 0,
              "ticks": ""
             }
            },
            "type": "scattermapbox"
           }
          ],
          "scatterpolar": [
           {
            "marker": {
             "colorbar": {
              "outlinewidth": 0,
              "ticks": ""
             }
            },
            "type": "scatterpolar"
           }
          ],
          "scatterpolargl": [
           {
            "marker": {
             "colorbar": {
              "outlinewidth": 0,
              "ticks": ""
             }
            },
            "type": "scatterpolargl"
           }
          ],
          "scatterternary": [
           {
            "marker": {
             "colorbar": {
              "outlinewidth": 0,
              "ticks": ""
             }
            },
            "type": "scatterternary"
           }
          ],
          "surface": [
           {
            "colorbar": {
             "outlinewidth": 0,
             "ticks": ""
            },
            "colorscale": [
             [
              0,
              "#0d0887"
             ],
             [
              0.1111111111111111,
              "#46039f"
             ],
             [
              0.2222222222222222,
              "#7201a8"
             ],
             [
              0.3333333333333333,
              "#9c179e"
             ],
             [
              0.4444444444444444,
              "#bd3786"
             ],
             [
              0.5555555555555556,
              "#d8576b"
             ],
             [
              0.6666666666666666,
              "#ed7953"
             ],
             [
              0.7777777777777778,
              "#fb9f3a"
             ],
             [
              0.8888888888888888,
              "#fdca26"
             ],
             [
              1,
              "#f0f921"
             ]
            ],
            "type": "surface"
           }
          ],
          "table": [
           {
            "cells": {
             "fill": {
              "color": "#EBF0F8"
             },
             "line": {
              "color": "white"
             }
            },
            "header": {
             "fill": {
              "color": "#C8D4E3"
             },
             "line": {
              "color": "white"
             }
            },
            "type": "table"
           }
          ]
         },
         "layout": {
          "annotationdefaults": {
           "arrowcolor": "#2a3f5f",
           "arrowhead": 0,
           "arrowwidth": 1
          },
          "autotypenumbers": "strict",
          "coloraxis": {
           "colorbar": {
            "outlinewidth": 0,
            "ticks": ""
           }
          },
          "colorscale": {
           "diverging": [
            [
             0,
             "#8e0152"
            ],
            [
             0.1,
             "#c51b7d"
            ],
            [
             0.2,
             "#de77ae"
            ],
            [
             0.3,
             "#f1b6da"
            ],
            [
             0.4,
             "#fde0ef"
            ],
            [
             0.5,
             "#f7f7f7"
            ],
            [
             0.6,
             "#e6f5d0"
            ],
            [
             0.7,
             "#b8e186"
            ],
            [
             0.8,
             "#7fbc41"
            ],
            [
             0.9,
             "#4d9221"
            ],
            [
             1,
             "#276419"
            ]
           ],
           "sequential": [
            [
             0,
             "#0d0887"
            ],
            [
             0.1111111111111111,
             "#46039f"
            ],
            [
             0.2222222222222222,
             "#7201a8"
            ],
            [
             0.3333333333333333,
             "#9c179e"
            ],
            [
             0.4444444444444444,
             "#bd3786"
            ],
            [
             0.5555555555555556,
             "#d8576b"
            ],
            [
             0.6666666666666666,
             "#ed7953"
            ],
            [
             0.7777777777777778,
             "#fb9f3a"
            ],
            [
             0.8888888888888888,
             "#fdca26"
            ],
            [
             1,
             "#f0f921"
            ]
           ],
           "sequentialminus": [
            [
             0,
             "#0d0887"
            ],
            [
             0.1111111111111111,
             "#46039f"
            ],
            [
             0.2222222222222222,
             "#7201a8"
            ],
            [
             0.3333333333333333,
             "#9c179e"
            ],
            [
             0.4444444444444444,
             "#bd3786"
            ],
            [
             0.5555555555555556,
             "#d8576b"
            ],
            [
             0.6666666666666666,
             "#ed7953"
            ],
            [
             0.7777777777777778,
             "#fb9f3a"
            ],
            [
             0.8888888888888888,
             "#fdca26"
            ],
            [
             1,
             "#f0f921"
            ]
           ]
          },
          "colorway": [
           "#636efa",
           "#EF553B",
           "#00cc96",
           "#ab63fa",
           "#FFA15A",
           "#19d3f3",
           "#FF6692",
           "#B6E880",
           "#FF97FF",
           "#FECB52"
          ],
          "font": {
           "color": "#2a3f5f"
          },
          "geo": {
           "bgcolor": "white",
           "lakecolor": "white",
           "landcolor": "#E5ECF6",
           "showlakes": true,
           "showland": true,
           "subunitcolor": "white"
          },
          "hoverlabel": {
           "align": "left"
          },
          "hovermode": "closest",
          "mapbox": {
           "style": "light"
          },
          "paper_bgcolor": "white",
          "plot_bgcolor": "#E5ECF6",
          "polar": {
           "angularaxis": {
            "gridcolor": "white",
            "linecolor": "white",
            "ticks": ""
           },
           "bgcolor": "#E5ECF6",
           "radialaxis": {
            "gridcolor": "white",
            "linecolor": "white",
            "ticks": ""
           }
          },
          "scene": {
           "xaxis": {
            "backgroundcolor": "#E5ECF6",
            "gridcolor": "white",
            "gridwidth": 2,
            "linecolor": "white",
            "showbackground": true,
            "ticks": "",
            "zerolinecolor": "white"
           },
           "yaxis": {
            "backgroundcolor": "#E5ECF6",
            "gridcolor": "white",
            "gridwidth": 2,
            "linecolor": "white",
            "showbackground": true,
            "ticks": "",
            "zerolinecolor": "white"
           },
           "zaxis": {
            "backgroundcolor": "#E5ECF6",
            "gridcolor": "white",
            "gridwidth": 2,
            "linecolor": "white",
            "showbackground": true,
            "ticks": "",
            "zerolinecolor": "white"
           }
          },
          "shapedefaults": {
           "line": {
            "color": "#2a3f5f"
           }
          },
          "ternary": {
           "aaxis": {
            "gridcolor": "white",
            "linecolor": "white",
            "ticks": ""
           },
           "baxis": {
            "gridcolor": "white",
            "linecolor": "white",
            "ticks": ""
           },
           "bgcolor": "#E5ECF6",
           "caxis": {
            "gridcolor": "white",
            "linecolor": "white",
            "ticks": ""
           }
          },
          "title": {
           "x": 0.05
          },
          "xaxis": {
           "automargin": true,
           "gridcolor": "white",
           "linecolor": "white",
           "ticks": "",
           "title": {
            "standoff": 15
           },
           "zerolinecolor": "white",
           "zerolinewidth": 2
          },
          "yaxis": {
           "automargin": true,
           "gridcolor": "white",
           "linecolor": "white",
           "ticks": "",
           "title": {
            "standoff": 15
           },
           "zerolinecolor": "white",
           "zerolinewidth": 2
          }
         }
        },
        "xaxis": {
         "anchor": "y",
         "domain": [
          0,
          1
         ],
         "title": {
          "text": "x"
         }
        },
        "yaxis": {
         "anchor": "x",
         "domain": [
          0,
          1
         ],
         "title": {
          "text": "cumulative_explained_variance"
         }
        }
       }
      }
     },
     "metadata": {},
     "output_type": "display_data"
    }
   ],
   "source": [
    "data2.scree"
   ]
  },
  {
   "cell_type": "code",
   "execution_count": 574,
   "metadata": {},
   "outputs": [],
   "source": [
    "# set y as index. we want to predict the index\n",
    "y = data.scaled[\"index\"]\n",
    "\n",
    "# set x as the data we will use to predict y\n",
    "X = data.scaled.drop(\"index\", axis=1)\n",
    "\n",
    "X_train, X_test, y_train, y_test = train_test_split(\n",
    "    X, y, test_size=0.5, random_state=55\n",
    ")\n",
    "X_test, X_valid, y_test, y_valid = train_test_split(\n",
    "    X_test, y_test, test_size=0.4, random_state=55\n",
    ")\n"
   ]
  },
  {
   "cell_type": "code",
   "execution_count": 575,
   "metadata": {},
   "outputs": [
    {
     "name": "stdout",
     "output_type": "stream",
     "text": [
      "(91, 8) (55, 8) (37, 8)\n"
     ]
    }
   ],
   "source": [
    "print(X_train.shape, X_test.shape, X_valid.shape)\n"
   ]
  },
  {
   "cell_type": "code",
   "execution_count": 576,
   "metadata": {},
   "outputs": [
    {
     "data": {
      "text/html": [
       "<style>#sk-container-id-21 {color: black;background-color: white;}#sk-container-id-21 pre{padding: 0;}#sk-container-id-21 div.sk-toggleable {background-color: white;}#sk-container-id-21 label.sk-toggleable__label {cursor: pointer;display: block;width: 100%;margin-bottom: 0;padding: 0.3em;box-sizing: border-box;text-align: center;}#sk-container-id-21 label.sk-toggleable__label-arrow:before {content: \"▸\";float: left;margin-right: 0.25em;color: #696969;}#sk-container-id-21 label.sk-toggleable__label-arrow:hover:before {color: black;}#sk-container-id-21 div.sk-estimator:hover label.sk-toggleable__label-arrow:before {color: black;}#sk-container-id-21 div.sk-toggleable__content {max-height: 0;max-width: 0;overflow: hidden;text-align: left;background-color: #f0f8ff;}#sk-container-id-21 div.sk-toggleable__content pre {margin: 0.2em;color: black;border-radius: 0.25em;background-color: #f0f8ff;}#sk-container-id-21 input.sk-toggleable__control:checked~div.sk-toggleable__content {max-height: 200px;max-width: 100%;overflow: auto;}#sk-container-id-21 input.sk-toggleable__control:checked~label.sk-toggleable__label-arrow:before {content: \"▾\";}#sk-container-id-21 div.sk-estimator input.sk-toggleable__control:checked~label.sk-toggleable__label {background-color: #d4ebff;}#sk-container-id-21 div.sk-label input.sk-toggleable__control:checked~label.sk-toggleable__label {background-color: #d4ebff;}#sk-container-id-21 input.sk-hidden--visually {border: 0;clip: rect(1px 1px 1px 1px);clip: rect(1px, 1px, 1px, 1px);height: 1px;margin: -1px;overflow: hidden;padding: 0;position: absolute;width: 1px;}#sk-container-id-21 div.sk-estimator {font-family: monospace;background-color: #f0f8ff;border: 1px dotted black;border-radius: 0.25em;box-sizing: border-box;margin-bottom: 0.5em;}#sk-container-id-21 div.sk-estimator:hover {background-color: #d4ebff;}#sk-container-id-21 div.sk-parallel-item::after {content: \"\";width: 100%;border-bottom: 1px solid gray;flex-grow: 1;}#sk-container-id-21 div.sk-label:hover label.sk-toggleable__label {background-color: #d4ebff;}#sk-container-id-21 div.sk-serial::before {content: \"\";position: absolute;border-left: 1px solid gray;box-sizing: border-box;top: 0;bottom: 0;left: 50%;z-index: 0;}#sk-container-id-21 div.sk-serial {display: flex;flex-direction: column;align-items: center;background-color: white;padding-right: 0.2em;padding-left: 0.2em;position: relative;}#sk-container-id-21 div.sk-item {position: relative;z-index: 1;}#sk-container-id-21 div.sk-parallel {display: flex;align-items: stretch;justify-content: center;background-color: white;position: relative;}#sk-container-id-21 div.sk-item::before, #sk-container-id-21 div.sk-parallel-item::before {content: \"\";position: absolute;border-left: 1px solid gray;box-sizing: border-box;top: 0;bottom: 0;left: 50%;z-index: -1;}#sk-container-id-21 div.sk-parallel-item {display: flex;flex-direction: column;z-index: 1;position: relative;background-color: white;}#sk-container-id-21 div.sk-parallel-item:first-child::after {align-self: flex-end;width: 50%;}#sk-container-id-21 div.sk-parallel-item:last-child::after {align-self: flex-start;width: 50%;}#sk-container-id-21 div.sk-parallel-item:only-child::after {width: 0;}#sk-container-id-21 div.sk-dashed-wrapped {border: 1px dashed gray;margin: 0 0.4em 0.5em 0.4em;box-sizing: border-box;padding-bottom: 0.4em;background-color: white;}#sk-container-id-21 div.sk-label label {font-family: monospace;font-weight: bold;display: inline-block;line-height: 1.2em;}#sk-container-id-21 div.sk-label-container {text-align: center;}#sk-container-id-21 div.sk-container {/* jupyter's `normalize.less` sets `[hidden] { display: none; }` but bootstrap.min.css set `[hidden] { display: none !important; }` so we also need the `!important` here to be able to override the default hidden behavior on the sphinx rendered scikit-learn.org. See: https://github.com/scikit-learn/scikit-learn/issues/21755 */display: inline-block !important;position: relative;}#sk-container-id-21 div.sk-text-repr-fallback {display: none;}</style><div id=\"sk-container-id-21\" class=\"sk-top-container\"><div class=\"sk-text-repr-fallback\"><pre>SequentialFeatureSelector(estimator=LinearRegression(), k_features=(1, 8),\n",
       "                          n_jobs=-1, scoring=&#x27;r2&#x27;)</pre><b>In a Jupyter environment, please rerun this cell to show the HTML representation or trust the notebook. <br />On GitHub, the HTML representation is unable to render, please try loading this page with nbviewer.org.</b></div><div class=\"sk-container\" hidden><div class=\"sk-item sk-dashed-wrapped\"><div class=\"sk-label-container\"><div class=\"sk-label sk-toggleable\"><input class=\"sk-toggleable__control sk-hidden--visually\" id=\"sk-estimator-id-61\" type=\"checkbox\" ><label for=\"sk-estimator-id-61\" class=\"sk-toggleable__label sk-toggleable__label-arrow\">SequentialFeatureSelector</label><div class=\"sk-toggleable__content\"><pre>SequentialFeatureSelector(estimator=LinearRegression(), k_features=(1, 8),\n",
       "                          n_jobs=-1, scoring=&#x27;r2&#x27;)</pre></div></div></div><div class=\"sk-parallel\"><div class=\"sk-parallel-item\"><div class=\"sk-item\"><div class=\"sk-label-container\"><div class=\"sk-label sk-toggleable\"><input class=\"sk-toggleable__control sk-hidden--visually\" id=\"sk-estimator-id-62\" type=\"checkbox\" ><label for=\"sk-estimator-id-62\" class=\"sk-toggleable__label sk-toggleable__label-arrow\">estimator: LinearRegression</label><div class=\"sk-toggleable__content\"><pre>LinearRegression()</pre></div></div></div><div class=\"sk-serial\"><div class=\"sk-item\"><div class=\"sk-estimator sk-toggleable\"><input class=\"sk-toggleable__control sk-hidden--visually\" id=\"sk-estimator-id-63\" type=\"checkbox\" ><label for=\"sk-estimator-id-63\" class=\"sk-toggleable__label sk-toggleable__label-arrow\">LinearRegression</label><div class=\"sk-toggleable__content\"><pre>LinearRegression()</pre></div></div></div></div></div></div></div></div></div></div>"
      ],
      "text/plain": [
       "SequentialFeatureSelector(estimator=LinearRegression(), k_features=(1, 8),\n",
       "                          n_jobs=-1, scoring='r2')"
      ]
     },
     "execution_count": 576,
     "metadata": {},
     "output_type": "execute_result"
    }
   ],
   "source": [
    "lr = lm.LinearRegression()\n",
    "sfs = SFS(\n",
    "    lr,\n",
    "    k_features=\"parsimonious\",\n",
    "    verbose=0,\n",
    "    forward=True,\n",
    "    scoring=\"r2\",  # picks model on r2\n",
    "    cv=5,\n",
    "    n_jobs=-1,\n",
    ")\n",
    "\n",
    "sfs.fit(X_train, y_train)\n"
   ]
  },
  {
   "cell_type": "code",
   "execution_count": 577,
   "metadata": {},
   "outputs": [
    {
     "data": {
      "text/html": [
       "<div>\n",
       "<style scoped>\n",
       "    .dataframe tbody tr th:only-of-type {\n",
       "        vertical-align: middle;\n",
       "    }\n",
       "\n",
       "    .dataframe tbody tr th {\n",
       "        vertical-align: top;\n",
       "    }\n",
       "\n",
       "    .dataframe thead th {\n",
       "        text-align: right;\n",
       "    }\n",
       "</style>\n",
       "<table border=\"1\" class=\"dataframe\">\n",
       "  <thead>\n",
       "    <tr style=\"text-align: right;\">\n",
       "      <th></th>\n",
       "      <th>feature_idx</th>\n",
       "      <th>cv_scores</th>\n",
       "      <th>avg_score</th>\n",
       "      <th>feature_names</th>\n",
       "      <th>ci_bound</th>\n",
       "      <th>std_dev</th>\n",
       "      <th>std_err</th>\n",
       "    </tr>\n",
       "  </thead>\n",
       "  <tbody>\n",
       "    <tr>\n",
       "      <th>1</th>\n",
       "      <td>(0,)</td>\n",
       "      <td>[0.9245147756590134, 0.8120314707973161, 0.870...</td>\n",
       "      <td>0.8644728675</td>\n",
       "      <td>(work_from_home,)</td>\n",
       "      <td>0.0772410814</td>\n",
       "      <td>0.0600961855</td>\n",
       "      <td>0.0300480927</td>\n",
       "    </tr>\n",
       "    <tr>\n",
       "      <th>2</th>\n",
       "      <td>(0, 3)</td>\n",
       "      <td>[0.9590702448163114, 0.923527095437384, 0.9271...</td>\n",
       "      <td>0.9252892685</td>\n",
       "      <td>(work_from_home, internet_subscription)</td>\n",
       "      <td>0.0474817985</td>\n",
       "      <td>0.0369424523</td>\n",
       "      <td>0.0184712262</td>\n",
       "    </tr>\n",
       "    <tr>\n",
       "      <th>3</th>\n",
       "      <td>(0, 3, 4)</td>\n",
       "      <td>[0.9853485514851957, 0.9636897726506866, 0.981...</td>\n",
       "      <td>0.9676127820</td>\n",
       "      <td>(work_from_home, internet_subscription, median...</td>\n",
       "      <td>0.0210759096</td>\n",
       "      <td>0.0163977737</td>\n",
       "      <td>0.0081988868</td>\n",
       "    </tr>\n",
       "    <tr>\n",
       "      <th>4</th>\n",
       "      <td>(0, 3, 4, 5)</td>\n",
       "      <td>[0.9941784026360071, 0.9955614966461233, 0.998...</td>\n",
       "      <td>0.9947624468</td>\n",
       "      <td>(work_from_home, internet_subscription, median...</td>\n",
       "      <td>0.0029026011</td>\n",
       "      <td>0.0022583223</td>\n",
       "      <td>0.0011291612</td>\n",
       "    </tr>\n",
       "    <tr>\n",
       "      <th>5</th>\n",
       "      <td>(0, 3, 4, 5, 7)</td>\n",
       "      <td>[0.9965007420426125, 0.9988796962051927, 0.998...</td>\n",
       "      <td>0.9979087649</td>\n",
       "      <td>(work_from_home, internet_subscription, median...</td>\n",
       "      <td>0.0011158293</td>\n",
       "      <td>0.0008681531</td>\n",
       "      <td>0.0004340766</td>\n",
       "    </tr>\n",
       "    <tr>\n",
       "      <th>6</th>\n",
       "      <td>(0, 2, 3, 4, 5, 7)</td>\n",
       "      <td>[0.9987795822531295, 0.9994596841600869, 0.999...</td>\n",
       "      <td>0.9991900910</td>\n",
       "      <td>(work_from_home, no_computer, internet_subscri...</td>\n",
       "      <td>0.0003579675</td>\n",
       "      <td>0.0002785109</td>\n",
       "      <td>0.0001392554</td>\n",
       "    </tr>\n",
       "    <tr>\n",
       "      <th>7</th>\n",
       "      <td>(0, 1, 2, 3, 4, 5, 7)</td>\n",
       "      <td>[1.0, 1.0, 1.0, 1.0, 1.0]</td>\n",
       "      <td>1.0000000000</td>\n",
       "      <td>(work_from_home, smartphone_only, no_computer,...</td>\n",
       "      <td>0.0000000000</td>\n",
       "      <td>0.0000000000</td>\n",
       "      <td>0.0000000000</td>\n",
       "    </tr>\n",
       "    <tr>\n",
       "      <th>8</th>\n",
       "      <td>(0, 1, 2, 3, 4, 5, 6, 7)</td>\n",
       "      <td>[1.0, 1.0, 1.0, 1.0, 1.0]</td>\n",
       "      <td>1.0000000000</td>\n",
       "      <td>(work_from_home, smartphone_only, no_computer,...</td>\n",
       "      <td>0.0000000000</td>\n",
       "      <td>0.0000000000</td>\n",
       "      <td>0.0000000000</td>\n",
       "    </tr>\n",
       "  </tbody>\n",
       "</table>\n",
       "</div>"
      ],
      "text/plain": [
       "                feature_idx  \\\n",
       "1                      (0,)   \n",
       "2                    (0, 3)   \n",
       "3                 (0, 3, 4)   \n",
       "4              (0, 3, 4, 5)   \n",
       "5           (0, 3, 4, 5, 7)   \n",
       "6        (0, 2, 3, 4, 5, 7)   \n",
       "7     (0, 1, 2, 3, 4, 5, 7)   \n",
       "8  (0, 1, 2, 3, 4, 5, 6, 7)   \n",
       "\n",
       "                                           cv_scores    avg_score  \\\n",
       "1  [0.9245147756590134, 0.8120314707973161, 0.870... 0.8644728675   \n",
       "2  [0.9590702448163114, 0.923527095437384, 0.9271... 0.9252892685   \n",
       "3  [0.9853485514851957, 0.9636897726506866, 0.981... 0.9676127820   \n",
       "4  [0.9941784026360071, 0.9955614966461233, 0.998... 0.9947624468   \n",
       "5  [0.9965007420426125, 0.9988796962051927, 0.998... 0.9979087649   \n",
       "6  [0.9987795822531295, 0.9994596841600869, 0.999... 0.9991900910   \n",
       "7                          [1.0, 1.0, 1.0, 1.0, 1.0] 1.0000000000   \n",
       "8                          [1.0, 1.0, 1.0, 1.0, 1.0] 1.0000000000   \n",
       "\n",
       "                                       feature_names     ci_bound  \\\n",
       "1                                  (work_from_home,) 0.0772410814   \n",
       "2            (work_from_home, internet_subscription) 0.0474817985   \n",
       "3  (work_from_home, internet_subscription, median... 0.0210759096   \n",
       "4  (work_from_home, internet_subscription, median... 0.0029026011   \n",
       "5  (work_from_home, internet_subscription, median... 0.0011158293   \n",
       "6  (work_from_home, no_computer, internet_subscri... 0.0003579675   \n",
       "7  (work_from_home, smartphone_only, no_computer,... 0.0000000000   \n",
       "8  (work_from_home, smartphone_only, no_computer,... 0.0000000000   \n",
       "\n",
       "       std_dev      std_err  \n",
       "1 0.0600961855 0.0300480927  \n",
       "2 0.0369424523 0.0184712262  \n",
       "3 0.0163977737 0.0081988868  \n",
       "4 0.0022583223 0.0011291612  \n",
       "5 0.0008681531 0.0004340766  \n",
       "6 0.0002785109 0.0001392554  \n",
       "7 0.0000000000 0.0000000000  \n",
       "8 0.0000000000 0.0000000000  "
      ]
     },
     "execution_count": 577,
     "metadata": {},
     "output_type": "execute_result"
    }
   ],
   "source": [
    "results = pd.DataFrame.from_dict(sfs.get_metric_dict()).T\n",
    "results\n"
   ]
  },
  {
   "cell_type": "code",
   "execution_count": 578,
   "metadata": {},
   "outputs": [],
   "source": [
    "largest_before_1 = results[results[\"avg_score\"] != 1].tail(1).index.to_list()"
   ]
  },
  {
   "cell_type": "code",
   "execution_count": 579,
   "metadata": {},
   "outputs": [],
   "source": [
    "largest_before_1 = largest_before_1[0] - 1"
   ]
  },
  {
   "cell_type": "code",
   "execution_count": 580,
   "metadata": {},
   "outputs": [
    {
     "data": {
      "text/plain": [
       "['work_from_home',\n",
       " 'no_computer',\n",
       " 'internet_subscription',\n",
       " 'median_income',\n",
       " 'mean_d_mbps',\n",
       " 'lowest_cost']"
      ]
     },
     "execution_count": 580,
     "metadata": {},
     "output_type": "execute_result"
    }
   ],
   "source": [
    "model_vars = list(results.iloc[largest_before_1, 3])\n",
    "model_vars"
   ]
  },
  {
   "cell_type": "code",
   "execution_count": 581,
   "metadata": {},
   "outputs": [
    {
     "name": "stdout",
     "output_type": "stream",
     "text": [
      "adjr2: 0.9992836762477292\n"
     ]
    }
   ],
   "source": [
    "final_X = data.scaled[model_vars]\n",
    "final_y = data.scaled[\"index\"]\n",
    "model = lr\n",
    "model.fit(final_X, final_y)\n",
    "r2 = model.score(final_X, final_y)\n",
    "observations = final_X.shape[0]\n",
    "predictors = final_X.shape[1]\n",
    "adj_r2 = 1 - (1 - r2) * (observations - 1) / (observations - predictors - 1)\n",
    "print(f\"adjr2: {adj_r2}\")\n"
   ]
  },
  {
   "cell_type": "code",
   "execution_count": 582,
   "metadata": {},
   "outputs": [
    {
     "data": {
      "text/html": [
       "<div>\n",
       "<style scoped>\n",
       "    .dataframe tbody tr th:only-of-type {\n",
       "        vertical-align: middle;\n",
       "    }\n",
       "\n",
       "    .dataframe tbody tr th {\n",
       "        vertical-align: top;\n",
       "    }\n",
       "\n",
       "    .dataframe thead th {\n",
       "        text-align: right;\n",
       "    }\n",
       "</style>\n",
       "<table border=\"1\" class=\"dataframe\">\n",
       "  <thead>\n",
       "    <tr style=\"text-align: right;\">\n",
       "      <th></th>\n",
       "      <th>0</th>\n",
       "      <th>vif</th>\n",
       "    </tr>\n",
       "  </thead>\n",
       "  <tbody>\n",
       "    <tr>\n",
       "      <th>work_from_home</th>\n",
       "      <td>1.4004396025</td>\n",
       "      <td>1.6738694104</td>\n",
       "    </tr>\n",
       "    <tr>\n",
       "      <th>no_computer</th>\n",
       "      <td>-0.0703200361</td>\n",
       "      <td>1.3793897511</td>\n",
       "    </tr>\n",
       "    <tr>\n",
       "      <th>internet_subscription</th>\n",
       "      <td>0.4679108164</td>\n",
       "      <td>1.6202267798</td>\n",
       "    </tr>\n",
       "    <tr>\n",
       "      <th>median_income</th>\n",
       "      <td>0.3767310587</td>\n",
       "      <td>1.7724465461</td>\n",
       "    </tr>\n",
       "    <tr>\n",
       "      <th>mean_d_mbps</th>\n",
       "      <td>0.2164096462</td>\n",
       "      <td>1.5331091743</td>\n",
       "    </tr>\n",
       "    <tr>\n",
       "      <th>lowest_cost</th>\n",
       "      <td>0.1319262967</td>\n",
       "      <td>1.4404103588</td>\n",
       "    </tr>\n",
       "  </tbody>\n",
       "</table>\n",
       "</div>"
      ],
      "text/plain": [
       "                                  0          vif\n",
       "work_from_home         1.4004396025 1.6738694104\n",
       "no_computer           -0.0703200361 1.3793897511\n",
       "internet_subscription  0.4679108164 1.6202267798\n",
       "median_income          0.3767310587 1.7724465461\n",
       "mean_d_mbps            0.2164096462 1.5331091743\n",
       "lowest_cost            0.1319262967 1.4404103588"
      ]
     },
     "execution_count": 582,
     "metadata": {},
     "output_type": "execute_result"
    }
   ],
   "source": [
    "fin_df = pd.DataFrame(-model.coef_, model.feature_names_in_)\n",
    "fin_df[\"vif\"] = [VIF(final_X.values, i) for i in range(final_X.shape[1])]\n",
    "fin_df"
   ]
  },
  {
   "cell_type": "code",
   "execution_count": 583,
   "metadata": {},
   "outputs": [
    {
     "data": {
      "text/plain": [
       "array([ 1.4004396 , -0.07032004,  0.46791082,  0.37673106,  0.21640965,\n",
       "        0.1319263 ])"
      ]
     },
     "execution_count": 583,
     "metadata": {},
     "output_type": "execute_result"
    }
   ],
   "source": [
    "coefficients = -model.coef_\n",
    "coefficients"
   ]
  },
  {
   "cell_type": "code",
   "execution_count": 584,
   "metadata": {},
   "outputs": [
    {
     "data": {
      "text/plain": [
       "['work_from_home',\n",
       " 'no_computer',\n",
       " 'internet_subscription',\n",
       " 'median_income',\n",
       " 'mean_d_mbps',\n",
       " 'lowest_cost']"
      ]
     },
     "execution_count": 584,
     "metadata": {},
     "output_type": "execute_result"
    }
   ],
   "source": [
    "final_vars = list(model.feature_names_in_)\n",
    "final_vars"
   ]
  },
  {
   "cell_type": "code",
   "execution_count": 585,
   "metadata": {},
   "outputs": [],
   "source": [
    "final_data = data.scaled[final_vars]"
   ]
  },
  {
   "cell_type": "code",
   "execution_count": 586,
   "metadata": {},
   "outputs": [
    {
     "name": "stderr",
     "output_type": "stream",
     "text": [
      "/tmp/ipykernel_74498/1561120138.py:1: SettingWithCopyWarning:\n",
      "\n",
      "\n",
      "A value is trying to be set on a copy of a slice from a DataFrame.\n",
      "Try using .loc[row_indexer,col_indexer] = value instead\n",
      "\n",
      "See the caveats in the documentation: https://pandas.pydata.org/pandas-docs/stable/user_guide/indexing.html#returning-a-view-versus-a-copy\n",
      "\n"
     ]
    }
   ],
   "source": [
    "final_data[\"index\"] = final_data.mul(coefficients).sum(axis=1)"
   ]
  },
  {
   "cell_type": "code",
   "execution_count": 587,
   "metadata": {},
   "outputs": [
    {
     "data": {
      "text/html": [
       "<div>\n",
       "<style scoped>\n",
       "    .dataframe tbody tr th:only-of-type {\n",
       "        vertical-align: middle;\n",
       "    }\n",
       "\n",
       "    .dataframe tbody tr th {\n",
       "        vertical-align: top;\n",
       "    }\n",
       "\n",
       "    .dataframe thead th {\n",
       "        text-align: right;\n",
       "    }\n",
       "</style>\n",
       "<table border=\"1\" class=\"dataframe\">\n",
       "  <thead>\n",
       "    <tr style=\"text-align: right;\">\n",
       "      <th></th>\n",
       "      <th>work_from_home</th>\n",
       "      <th>no_computer</th>\n",
       "      <th>internet_subscription</th>\n",
       "      <th>median_income</th>\n",
       "      <th>mean_d_mbps</th>\n",
       "      <th>lowest_cost</th>\n",
       "      <th>index</th>\n",
       "    </tr>\n",
       "  </thead>\n",
       "  <tbody>\n",
       "    <tr>\n",
       "      <th>0</th>\n",
       "      <td>-0.5115079191</td>\n",
       "      <td>-0.3341503606</td>\n",
       "      <td>-0.7430128489</td>\n",
       "      <td>-0.3742606917</td>\n",
       "      <td>-1.6263184336</td>\n",
       "      <td>-0.9471266092</td>\n",
       "      <td>-1.6583997596</td>\n",
       "    </tr>\n",
       "    <tr>\n",
       "      <th>1</th>\n",
       "      <td>-0.8676949403</td>\n",
       "      <td>-0.4867380487</td>\n",
       "      <td>-1.5525370030</td>\n",
       "      <td>-0.0492787646</td>\n",
       "      <td>-1.6343848222</td>\n",
       "      <td>-0.9471266092</td>\n",
       "      <td>-2.4045881650</td>\n",
       "    </tr>\n",
       "    <tr>\n",
       "      <th>2</th>\n",
       "      <td>-1.3154729099</td>\n",
       "      <td>1.0264231913</td>\n",
       "      <td>-1.8587399927</td>\n",
       "      <td>-0.9381357333</td>\n",
       "      <td>-1.3253157117</td>\n",
       "      <td>-0.9471266092</td>\n",
       "      <td>-3.5493299006</td>\n",
       "    </tr>\n",
       "    <tr>\n",
       "      <th>3</th>\n",
       "      <td>-1.0814071531</td>\n",
       "      <td>-0.6011788147</td>\n",
       "      <td>-1.4989514798</td>\n",
       "      <td>-0.0939042122</td>\n",
       "      <td>-1.3380529792</td>\n",
       "      <td>-0.9471266092</td>\n",
       "      <td>-2.6234412094</td>\n",
       "    </tr>\n",
       "    <tr>\n",
       "      <th>4</th>\n",
       "      <td>-0.2265583020</td>\n",
       "      <td>-0.9953636755</td>\n",
       "      <td>-1.4185731950</td>\n",
       "      <td>-0.4488145831</td>\n",
       "      <td>-1.4903884747</td>\n",
       "      <td>-0.9471266092</td>\n",
       "      <td>-1.5276206923</td>\n",
       "    </tr>\n",
       "    <tr>\n",
       "      <th>...</th>\n",
       "      <td>...</td>\n",
       "      <td>...</td>\n",
       "      <td>...</td>\n",
       "      <td>...</td>\n",
       "      <td>...</td>\n",
       "      <td>...</td>\n",
       "      <td>...</td>\n",
       "    </tr>\n",
       "    <tr>\n",
       "      <th>178</th>\n",
       "      <td>-1.0407000649</td>\n",
       "      <td>-0.6647570181</td>\n",
       "      <td>0.6119353806</td>\n",
       "      <td>-1.7800513629</td>\n",
       "      <td>0.1229907201</td>\n",
       "      <td>-2.1620799491</td>\n",
       "      <td>-2.0535801212</td>\n",
       "    </tr>\n",
       "    <tr>\n",
       "      <th>179</th>\n",
       "      <td>0.0990984031</td>\n",
       "      <td>0.2380534696</td>\n",
       "      <td>-0.1535720937</td>\n",
       "      <td>0.2185629936</td>\n",
       "      <td>-0.8491271755</td>\n",
       "      <td>-2.1620799491</td>\n",
       "      <td>-0.3364716886</td>\n",
       "    </tr>\n",
       "    <tr>\n",
       "      <th>180</th>\n",
       "      <td>-0.8269878522</td>\n",
       "      <td>0.4923662831</td>\n",
       "      <td>-0.3870518734</td>\n",
       "      <td>-0.2711589840</td>\n",
       "      <td>-1.8089348075</td>\n",
       "      <td>-2.1620799491</td>\n",
       "      <td>-2.1527356654</td>\n",
       "    </tr>\n",
       "    <tr>\n",
       "      <th>181</th>\n",
       "      <td>0.2313964396</td>\n",
       "      <td>0.5305132051</td>\n",
       "      <td>0.0301497001</td>\n",
       "      <td>-0.3293680259</td>\n",
       "      <td>-0.3223962253</td>\n",
       "      <td>-2.1620799491</td>\n",
       "      <td>-0.1782296180</td>\n",
       "    </tr>\n",
       "    <tr>\n",
       "      <th>182</th>\n",
       "      <td>-0.3181492504</td>\n",
       "      <td>-0.8300603468</td>\n",
       "      <td>-1.0779223689</td>\n",
       "      <td>-0.1741142232</td>\n",
       "      <td>-1.7649486239</td>\n",
       "      <td>-2.1620799491</td>\n",
       "      <td>-1.6243318156</td>\n",
       "    </tr>\n",
       "  </tbody>\n",
       "</table>\n",
       "<p>183 rows × 7 columns</p>\n",
       "</div>"
      ],
      "text/plain": [
       "     work_from_home   no_computer  internet_subscription  median_income  \\\n",
       "0     -0.5115079191 -0.3341503606          -0.7430128489  -0.3742606917   \n",
       "1     -0.8676949403 -0.4867380487          -1.5525370030  -0.0492787646   \n",
       "2     -1.3154729099  1.0264231913          -1.8587399927  -0.9381357333   \n",
       "3     -1.0814071531 -0.6011788147          -1.4989514798  -0.0939042122   \n",
       "4     -0.2265583020 -0.9953636755          -1.4185731950  -0.4488145831   \n",
       "..              ...           ...                    ...            ...   \n",
       "178   -1.0407000649 -0.6647570181           0.6119353806  -1.7800513629   \n",
       "179    0.0990984031  0.2380534696          -0.1535720937   0.2185629936   \n",
       "180   -0.8269878522  0.4923662831          -0.3870518734  -0.2711589840   \n",
       "181    0.2313964396  0.5305132051           0.0301497001  -0.3293680259   \n",
       "182   -0.3181492504 -0.8300603468          -1.0779223689  -0.1741142232   \n",
       "\n",
       "      mean_d_mbps   lowest_cost         index  \n",
       "0   -1.6263184336 -0.9471266092 -1.6583997596  \n",
       "1   -1.6343848222 -0.9471266092 -2.4045881650  \n",
       "2   -1.3253157117 -0.9471266092 -3.5493299006  \n",
       "3   -1.3380529792 -0.9471266092 -2.6234412094  \n",
       "4   -1.4903884747 -0.9471266092 -1.5276206923  \n",
       "..            ...           ...           ...  \n",
       "178  0.1229907201 -2.1620799491 -2.0535801212  \n",
       "179 -0.8491271755 -2.1620799491 -0.3364716886  \n",
       "180 -1.8089348075 -2.1620799491 -2.1527356654  \n",
       "181 -0.3223962253 -2.1620799491 -0.1782296180  \n",
       "182 -1.7649486239 -2.1620799491 -1.6243318156  \n",
       "\n",
       "[183 rows x 7 columns]"
      ]
     },
     "execution_count": 587,
     "metadata": {},
     "output_type": "execute_result"
    }
   ],
   "source": [
    "final_data"
   ]
  },
  {
   "cell_type": "code",
   "execution_count": 588,
   "metadata": {},
   "outputs": [
    {
     "data": {
      "text/plain": [
       "(0.6929522540438978, array([0.62 , 0.756]))"
      ]
     },
     "execution_count": 588,
     "metadata": {},
     "output_type": "execute_result"
    }
   ],
   "source": [
    "cronbach_alpha(final_data)"
   ]
  }
 ],
 "metadata": {
  "kernelspec": {
   "display_name": "washington-digital-equity-T8Bkn3ac-py3.11",
   "language": "python",
   "name": "python3"
  },
  "language_info": {
   "codemirror_mode": {
    "name": "ipython",
    "version": 3
   },
   "file_extension": ".py",
   "mimetype": "text/x-python",
   "name": "python",
   "nbconvert_exporter": "python",
   "pygments_lexer": "ipython3",
   "version": "3.11.3"
  },
  "orig_nbformat": 4
 },
 "nbformat": 4,
 "nbformat_minor": 2
}
